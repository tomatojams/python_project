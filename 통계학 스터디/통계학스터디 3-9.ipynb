{
 "nbformat": 4,
 "nbformat_minor": 0,
 "metadata": {
  "colab": {
   "provenance": [],
   "authorship_tag": "ABX9TyPV2eeVAz7gcIjAjTnZxx8m"
  },
  "kernelspec": {
   "name": "python3",
   "display_name": "Python 3"
  },
  "language_info": {
   "name": "python"
  }
 },
 "cells": [
  {
   "cell_type": "markdown",
   "source": [
    "**3.9 평균값의 차이 검정**<br>\n",
    "3.9.1 두집단 데이타에 대한 t검정정\n",
    "\n"
   ],
   "metadata": {
    "id": "WRquynwP1nC_"
   }
  },
  {
   "cell_type": "code",
   "source": [
    "import numpy as np\n",
    "import pandas as pd\n",
    "import scipy as sp\n",
    "from scipy import stats\n",
    "\n",
    "\"\"\n",
    "from matplotlib import pyplot as pyplot\n",
    "import seaborn as sns\n",
    "sns.set()\n",
    "\n",
    "%precision 10\n",
    "\n",
    "%matplotlib inline"
   ],
   "metadata": {
    "id": "FBC6lzpQX0fF",
    "executionInfo": {
     "status": "ok",
     "timestamp": 1673474792375,
     "user_tz": -540,
     "elapsed": 288,
     "user": {
      "displayName": "JIHAN KIM",
      "userId": "14820648192014375113"
     }
    }
   },
   "execution_count": 3,
   "outputs": []
  },
  {
   "cell_type": "code",
   "source": [
    "paired_test_data= pd.read_csv(\"data/3-9-1-paired-t-test.csv\")\n",
    "print(paired_test_data)"
   ],
   "metadata": {
    "colab": {
     "base_uri": "https://localhost:8080/"
    },
    "id": "PPugUjh9cL98",
    "executionInfo": {
     "status": "ok",
     "timestamp": 1673474809602,
     "user_tz": -540,
     "elapsed": 750,
     "user": {
      "displayName": "JIHAN KIM",
      "userId": "14820648192014375113"
     }
    },
    "outputId": "c52fda7b-72c1-4f17-bb65-c8a93237404b"
   },
   "execution_count": 4,
   "outputs": [
    {
     "name": "stdout",
     "output_type": "stream",
     "text": [
      "  person medicine  body_temperature\n",
      "0      A   before              36.2\n",
      "1      B   before              36.2\n",
      "2      C   before              35.3\n",
      "3      D   before              36.1\n",
      "4      E   before              36.1\n",
      "5      A    after              36.8\n",
      "6      B    after              36.1\n",
      "7      C    after              36.8\n",
      "8      D    after              37.1\n",
      "9      E    after              36.9\n"
     ]
    }
   ]
  },
  {
   "cell_type": "markdown",
   "source": [
    "3.9.4 대응표본 t검정(실습)"
   ],
   "metadata": {
    "id": "-H_J47nJ33iT"
   }
  },
  {
   "cell_type": "code",
   "source": [
    "#약을 먹기 전과 후의 표본\n",
    "before = paired_test_data.query('medicine == \"before\"')[\"body_temperature\"]\n",
    "after = paired_test_data.query('medicine==\"after\"')[\"body_temperature\"]\n",
    "print(before, after)\n",
    "#배열형으로 변환\n",
    "before = np.array(before)\n",
    "after = np.array(after)\n",
    "print(before, after)\n",
    "# 차이계산\n",
    "diff = after - before\n",
    "print(diff)\n"
   ],
   "metadata": {
    "id": "5iXsP9av37L9"
   },
   "execution_count": 12,
   "outputs": [
    {
     "name": "stdout",
     "output_type": "stream",
     "text": [
      "0    36.2\n",
      "1    36.2\n",
      "2    35.3\n",
      "3    36.1\n",
      "4    36.1\n",
      "Name: body_temperature, dtype: float64 5    36.8\n",
      "6    36.1\n",
      "7    36.8\n",
      "8    37.1\n",
      "9    36.9\n",
      "Name: body_temperature, dtype: float64\n",
      "[36.2 36.2 35.3 36.1 36.1] [36.8 36.1 36.8 37.1 36.9]\n",
      "[ 0.6 -0.1  1.5  1.   0.8]\n"
     ]
    }
   ]
  },
  {
   "cell_type": "code",
   "execution_count": 13,
   "outputs": [
    {
     "data": {
      "text/plain": "Ttest_1sampResult(statistic=2.901693483620596, pvalue=0.044043109730074276)"
     },
     "execution_count": 13,
     "metadata": {},
     "output_type": "execute_result"
    }
   ],
   "source": [
    "stats.ttest_1samp(diff,0)"
   ],
   "metadata": {
    "collapsed": false
   }
  },
  {
   "cell_type": "code",
   "execution_count": 14,
   "outputs": [
    {
     "data": {
      "text/plain": "Ttest_relResult(statistic=2.901693483620596, pvalue=0.044043109730074276)"
     },
     "execution_count": 14,
     "metadata": {},
     "output_type": "execute_result"
    }
   ],
   "source": [
    "stats.ttest_rel(after,before)"
   ],
   "metadata": {
    "collapsed": false
   }
  },
  {
   "cell_type": "markdown",
   "source": [
    "3.9.5 독립표본 t검정"
   ],
   "metadata": {
    "collapsed": false
   }
  },
  {
   "cell_type": "code",
   "execution_count": 15,
   "outputs": [
    {
     "name": "stdout",
     "output_type": "stream",
     "text": [
      "3.1557282344421034\n"
     ]
    }
   ],
   "source": [
    "mean_bef = np.mean(before)\n",
    "mean_aft = np.mean(after)\n",
    "\n",
    "sigma_bef = np.var(before, ddof= 1)\n",
    "sigma_aft = np.var(after, ddof= 1)\n",
    "\n",
    "m = len(before)\n",
    "n = len(after)\n",
    "\n",
    "t_value = (mean_aft - mean_bef)/np.sqrt((sigma_bef/m + sigma_aft/n))\n",
    "print(t_value)"
   ],
   "metadata": {
    "collapsed": false
   }
  },
  {
   "cell_type": "code",
   "execution_count": 18,
   "outputs": [
    {
     "data": {
      "text/plain": "Ttest_indResult(statistic=3.1557282344421034, pvalue=0.013484775682079892)"
     },
     "execution_count": 18,
     "metadata": {},
     "output_type": "execute_result"
    }
   ],
   "source": [
    "stats.ttest_ind(after, before, equal_var= False) # False 항상 분산이 다르다고 가정 (비등분산)"
   ],
   "metadata": {
    "collapsed": false
   }
  }
 ]
}
