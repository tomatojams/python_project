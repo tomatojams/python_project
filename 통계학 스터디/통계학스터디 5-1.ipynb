{
 "cells": [
  {
   "cell_type": "code",
   "execution_count": 2,
   "metadata": {
    "executionInfo": {
     "elapsed": 357,
     "status": "ok",
     "timestamp": 1675822802262,
     "user": {
      "displayName": "JIHAN KIM",
      "userId": "14820648192014375113"
     },
     "user_tz": -540
    },
    "id": "KrDiSyLGGPaT",
    "ExecuteTime": {
     "end_time": "2023-09-07T21:04:48.945791500Z",
     "start_time": "2023-09-07T21:04:48.034091400Z"
    }
   },
   "outputs": [],
   "source": [
    "import numpy as np\n",
    "import pandas as pd\n",
    "import scipy as sp\n",
    "from scipy import stats\n",
    "\n",
    "from matplotlib import pyplot as plt\n",
    "import seaborn as sns\n",
    "\n",
    "sns.set()\n",
    "\n",
    "import statsmodels.formula.api as smf\n",
    "import statsmodels.api as sm\n",
    "\n",
    "%precision 10\n",
    "%matplotlib inline"
   ]
  },
  {
   "cell_type": "code",
   "execution_count": 3,
   "metadata": {
    "colab": {
     "base_uri": "https://localhost:8080/"
    },
    "executionInfo": {
     "elapsed": 2517,
     "status": "ok",
     "timestamp": 1675822805140,
     "user": {
      "displayName": "JIHAN KIM",
      "userId": "14820648192014375113"
     },
     "user_tz": -540
    },
    "id": "H9Riv4P3bo2X",
    "outputId": "70715e8d-d283-47f9-b143-ed08baec1d36",
    "ExecuteTime": {
     "end_time": "2023-09-07T21:04:49.332962800Z",
     "start_time": "2023-09-07T21:04:49.309729200Z"
    }
   },
   "outputs": [],
   "source": [
    "# 데이터 loading\n",
    "#from google.colab import drive\n",
    "#drive.mount('/content/drive')"
   ]
  },
  {
   "cell_type": "code",
   "execution_count": 4,
   "metadata": {
    "colab": {
     "base_uri": "https://localhost:8080/"
    },
    "executionInfo": {
     "elapsed": 5,
     "status": "ok",
     "timestamp": 1675822805140,
     "user": {
      "displayName": "JIHAN KIM",
      "userId": "14820648192014375113"
     },
     "user_tz": -540
    },
    "id": "-7KND_MjHNab",
    "outputId": "5a9d6116-2aee-4b35-8cbd-b829cf87d7bd",
    "ExecuteTime": {
     "end_time": "2023-09-07T21:04:50.051545Z",
     "start_time": "2023-09-07T21:04:49.997887700Z"
    }
   },
   "outputs": [
    {
     "name": "stdout",
     "output_type": "stream",
     "text": [
      "   beer  temperature\n",
      "0  45.3         20.5\n",
      "1  59.3         25.0\n",
      "2  40.4         10.0\n",
      "3  38.0         26.9\n",
      "4  37.0         15.8\n"
     ]
    }
   ],
   "source": [
    "beer = pd.read_csv(\"data/5-1-1-beer.csv\")\n",
    "print(beer.head())"
   ]
  },
  {
   "cell_type": "code",
   "execution_count": 5,
   "metadata": {
    "colab": {
     "base_uri": "https://localhost:8080/",
     "height": 459
    },
    "executionInfo": {
     "elapsed": 3142,
     "status": "ok",
     "timestamp": 1675822808279,
     "user": {
      "displayName": "JIHAN KIM",
      "userId": "14820648192014375113"
     },
     "user_tz": -540
    },
    "id": "1k-P3W6THhg5",
    "outputId": "68e87a0d-8d30-40c8-e54d-6ee13149781c",
    "ExecuteTime": {
     "end_time": "2023-09-07T21:04:51.721849100Z",
     "start_time": "2023-09-07T21:04:51.261891700Z"
    }
   },
   "outputs": [
    {
     "name": "stderr",
     "output_type": "stream",
     "text": [
      "F:\\Anaconda3_envs\\tensor2\\lib\\site-packages\\seaborn\\_oldcore.py:1498: FutureWarning: is_categorical_dtype is deprecated and will be removed in a future version. Use isinstance(dtype, CategoricalDtype) instead\n",
      "  if pd.api.types.is_categorical_dtype(vector):\n",
      "F:\\Anaconda3_envs\\tensor2\\lib\\site-packages\\seaborn\\_oldcore.py:1498: FutureWarning: is_categorical_dtype is deprecated and will be removed in a future version. Use isinstance(dtype, CategoricalDtype) instead\n",
      "  if pd.api.types.is_categorical_dtype(vector):\n",
      "F:\\Anaconda3_envs\\tensor2\\lib\\site-packages\\seaborn\\_oldcore.py:1498: FutureWarning: is_categorical_dtype is deprecated and will be removed in a future version. Use isinstance(dtype, CategoricalDtype) instead\n",
      "  if pd.api.types.is_categorical_dtype(vector):\n",
      "F:\\Anaconda3_envs\\tensor2\\lib\\site-packages\\seaborn\\_oldcore.py:1498: FutureWarning: is_categorical_dtype is deprecated and will be removed in a future version. Use isinstance(dtype, CategoricalDtype) instead\n",
      "  if pd.api.types.is_categorical_dtype(vector):\n",
      "F:\\Anaconda3_envs\\tensor2\\lib\\site-packages\\seaborn\\_oldcore.py:1498: FutureWarning: is_categorical_dtype is deprecated and will be removed in a future version. Use isinstance(dtype, CategoricalDtype) instead\n",
      "  if pd.api.types.is_categorical_dtype(vector):\n",
      "F:\\Anaconda3_envs\\tensor2\\lib\\site-packages\\seaborn\\_oldcore.py:1119: FutureWarning: use_inf_as_na option is deprecated and will be removed in a future version. Convert inf values to NaN before operating instead.\n",
      "  with pd.option_context('mode.use_inf_as_na', True):\n",
      "F:\\Anaconda3_envs\\tensor2\\lib\\site-packages\\seaborn\\_oldcore.py:1498: FutureWarning: is_categorical_dtype is deprecated and will be removed in a future version. Use isinstance(dtype, CategoricalDtype) instead\n",
      "  if pd.api.types.is_categorical_dtype(vector):\n",
      "F:\\Anaconda3_envs\\tensor2\\lib\\site-packages\\seaborn\\_oldcore.py:1119: FutureWarning: use_inf_as_na option is deprecated and will be removed in a future version. Convert inf values to NaN before operating instead.\n",
      "  with pd.option_context('mode.use_inf_as_na', True):\n"
     ]
    },
    {
     "data": {
      "text/plain": "<seaborn.axisgrid.JointGrid at 0x220ffd43fd0>"
     },
     "execution_count": 5,
     "metadata": {},
     "output_type": "execute_result"
    },
    {
     "data": {
      "text/plain": "<Figure size 600x600 with 3 Axes>",
      "image/png": "[encoded data removed]"
     },
     "metadata": {},
     "output_type": "display_data"
    }
   ],
   "source": [
    "sns.jointplot(x=\"temperature\", y=\"beer\", data=beer, color='black')"
   ]
  },
  {
   "cell_type": "markdown",
   "metadata": {
    "id": "ev-qZakkH_CS"
   },
   "source": [
    "5.1.3 모델구축 5.1.4 statsmodels를 이용한 모델링링"
   ]
  },
  {
   "cell_type": "code",
   "execution_count": 40,
   "metadata": {
    "colab": {
     "base_uri": "https://localhost:8080/",
     "height": 448
    },
    "executionInfo": {
     "elapsed": 9,
     "status": "ok",
     "timestamp": 1675822808279,
     "user": {
      "displayName": "JIHAN KIM",
      "userId": "14820648192014375113"
     },
     "user_tz": -540
    },
    "id": "8ep-wVgBIBhX",
    "outputId": "ca784279-a9d5-42c5-fc10-d62ccfc5fc96"
   },
   "outputs": [
    {
     "data": {
      "text/html": [
       "<table class=\"simpletable\">\n",
       "<caption>OLS Regression Results</caption>\n",
       "<tr>\n",
       "  <th>Dep. Variable:</th>          <td>beer</td>       <th>  R-squared:         </th> <td>   0.504</td>\n",
       "</tr>\n",
       "<tr>\n",
       "  <th>Model:</th>                   <td>OLS</td>       <th>  Adj. R-squared:    </th> <td>   0.486</td>\n",
       "</tr>\n",
       "<tr>\n",
       "  <th>Method:</th>             <td>Least Squares</td>  <th>  F-statistic:       </th> <td>   28.45</td>\n",
       "</tr>\n",
       "<tr>\n",
       "  <th>Date:</th>             <td>Wed, 08 Feb 2023</td> <th>  Prob (F-statistic):</th> <td>1.11e-05</td>\n",
       "</tr>\n",
       "<tr>\n",
       "  <th>Time:</th>                 <td>02:20:07</td>     <th>  Log-Likelihood:    </th> <td> -102.45</td>\n",
       "</tr>\n",
       "<tr>\n",
       "  <th>No. Observations:</th>      <td>    30</td>      <th>  AIC:               </th> <td>   208.9</td>\n",
       "</tr>\n",
       "<tr>\n",
       "  <th>Df Residuals:</th>          <td>    28</td>      <th>  BIC:               </th> <td>   211.7</td>\n",
       "</tr>\n",
       "<tr>\n",
       "  <th>Df Model:</th>              <td>     1</td>      <th>                     </th>     <td> </td>   \n",
       "</tr>\n",
       "<tr>\n",
       "  <th>Covariance Type:</th>      <td>nonrobust</td>    <th>                     </th>     <td> </td>   \n",
       "</tr>\n",
       "</table>\n",
       "<table class=\"simpletable\">\n",
       "<tr>\n",
       "       <td></td>          <th>coef</th>     <th>std err</th>      <th>t</th>      <th>P>|t|</th>  <th>[0.025</th>    <th>0.975]</th>  \n",
       "</tr>\n",
       "<tr>\n",
       "  <th>Intercept</th>   <td>   34.6102</td> <td>    3.235</td> <td>   10.699</td> <td> 0.000</td> <td>   27.984</td> <td>   41.237</td>\n",
       "</tr>\n",
       "<tr>\n",
       "  <th>temperature</th> <td>    0.7654</td> <td>    0.144</td> <td>    5.334</td> <td> 0.000</td> <td>    0.471</td> <td>    1.059</td>\n",
       "</tr>\n",
       "</table>\n",
       "<table class=\"simpletable\">\n",
       "<tr>\n",
       "  <th>Omnibus:</th>       <td> 0.587</td> <th>  Durbin-Watson:     </th> <td>   1.960</td>\n",
       "</tr>\n",
       "<tr>\n",
       "  <th>Prob(Omnibus):</th> <td> 0.746</td> <th>  Jarque-Bera (JB):  </th> <td>   0.290</td>\n",
       "</tr>\n",
       "<tr>\n",
       "  <th>Skew:</th>          <td>-0.240</td> <th>  Prob(JB):          </th> <td>   0.865</td>\n",
       "</tr>\n",
       "<tr>\n",
       "  <th>Kurtosis:</th>      <td> 2.951</td> <th>  Cond. No.          </th> <td>    52.5</td>\n",
       "</tr>\n",
       "</table><br/><br/>Notes:<br/>[1] Standard Errors assume that the covariance matrix of the errors is correctly specified."
      ],
      "text/plain": [
       "<class 'statsmodels.iolib.summary.Summary'>\n",
       "\"\"\"\n",
       "                            OLS Regression Results                            \n",
       "==============================================================================\n",
       "Dep. Variable:                   beer   R-squared:                       0.504\n",
       "Model:                            OLS   Adj. R-squared:                  0.486\n",
       "Method:                 Least Squares   F-statistic:                     28.45\n",
       "Date:                Wed, 08 Feb 2023   Prob (F-statistic):           1.11e-05\n",
       "Time:                        02:20:07   Log-Likelihood:                -102.45\n",
       "No. Observations:                  30   AIC:                             208.9\n",
       "Df Residuals:                      28   BIC:                             211.7\n",
       "Df Model:                           1                                         \n",
       "Covariance Type:            nonrobust                                         \n",
       "===============================================================================\n",
       "                  coef    std err          t      P>|t|      [0.025      0.975]\n",
       "-------------------------------------------------------------------------------\n",
       "Intercept      34.6102      3.235     10.699      0.000      27.984      41.237\n",
       "temperature     0.7654      0.144      5.334      0.000       0.471       1.059\n",
       "==============================================================================\n",
       "Omnibus:                        0.587   Durbin-Watson:                   1.960\n",
       "Prob(Omnibus):                  0.746   Jarque-Bera (JB):                0.290\n",
       "Skew:                          -0.240   Prob(JB):                        0.865\n",
       "Kurtosis:                       2.951   Cond. No.                         52.5\n",
       "==============================================================================\n",
       "\n",
       "Notes:\n",
       "[1] Standard Errors assume that the covariance matrix of the errors is correctly specified.\n",
       "\"\"\""
      ]
     },
     "execution_count": 40,
     "metadata": {},
     "output_type": "execute_result"
    }
   ],
   "source": [
    "import statsmodels.formula.api as smf\n",
    "\n",
    "lm_model = smf.ols(formula=\"beer ~temperature\", data=beer).fit()\n",
    "#모집단분포가 정규분포일때, 최대우도법의 결과는 최소제곱법의 결과와 일치\n",
    "# ols  Ordinary Least Squares 범용최소제곱법\n",
    "# 모델의 구조 formula   beer 종속변수 temperature  독립변수\n",
    "\n",
    "lm_model.summary()"
   ]
  },
  {
   "cell_type": "markdown",
   "metadata": {
    "id": "75wZIw2jjDmN"
   },
   "source": [
    "p값의 경우, p가 매우 작으므로 계수가 0일때를 귀무가설로 두기때문에 유의미하게 0과 다르다는 의미 \n",
    "\n",
    " "
   ]
  },
  {
   "cell_type": "markdown",
   "metadata": {
    "id": "qb2LxbmAkRhy"
   },
   "source": [
    "5.1.7 AIC를 이용한 모델선택"
   ]
  },
  {
   "cell_type": "code",
   "execution_count": 41,
   "metadata": {
    "colab": {
     "base_uri": "https://localhost:8080/"
    },
    "executionInfo": {
     "elapsed": 10,
     "status": "ok",
     "timestamp": 1675822808281,
     "user": {
      "displayName": "JIHAN KIM",
      "userId": "14820648192014375113"
     },
     "user_tz": -540
    },
    "id": "V1V9DLNHkZ1d",
    "outputId": "b1d3ae10-bf65-4a50-f15f-4f5bde0f00ce"
   },
   "outputs": [
    {
     "data": {
      "text/plain": [
       "227.94194972563105"
      ]
     },
     "execution_count": 41,
     "metadata": {},
     "output_type": "execute_result"
    }
   ],
   "source": [
    "null_model = smf.ols(\"beer ~1\", data=beer).fit()  #독리변수없음음\n",
    "null_model.aic"
   ]
  },
  {
   "cell_type": "code",
   "execution_count": 42,
   "metadata": {
    "colab": {
     "base_uri": "https://localhost:8080/"
    },
    "executionInfo": {
     "elapsed": 9,
     "status": "ok",
     "timestamp": 1675822808281,
     "user": {
      "displayName": "JIHAN KIM",
      "userId": "14820648192014375113"
     },
     "user_tz": -540
    },
    "id": "0Ucd9090nBNr",
    "outputId": "586d23cb-9729-4acc-a3a8-09597f83a03a"
   },
   "outputs": [
    {
     "data": {
      "text/plain": [
       "-102.45451467787719"
      ]
     },
     "execution_count": 42,
     "metadata": {},
     "output_type": "execute_result"
    }
   ],
   "source": [
    "lm_model.llf"
   ]
  },
  {
   "cell_type": "code",
   "execution_count": 43,
   "metadata": {
    "colab": {
     "base_uri": "https://localhost:8080/"
    },
    "executionInfo": {
     "elapsed": 9,
     "status": "ok",
     "timestamp": 1675822808282,
     "user": {
      "displayName": "JIHAN KIM",
      "userId": "14820648192014375113"
     },
     "user_tz": -540
    },
    "id": "4TOZ3VMqng5q",
    "outputId": "fd71d983-acb3-49e0-d33c-3f4587fb74fd"
   },
   "outputs": [
    {
     "data": {
      "text/plain": [
       "1.0000000000"
      ]
     },
     "execution_count": 43,
     "metadata": {},
     "output_type": "execute_result"
    }
   ],
   "source": [
    "lm_model.df_model  #독립변수의 수"
   ]
  },
  {
   "cell_type": "code",
   "execution_count": 44,
   "metadata": {
    "colab": {
     "base_uri": "https://localhost:8080/"
    },
    "executionInfo": {
     "elapsed": 8,
     "status": "ok",
     "timestamp": 1675822808282,
     "user": {
      "displayName": "JIHAN KIM",
      "userId": "14820648192014375113"
     },
     "user_tz": -540
    },
    "id": "zHZJJ-cZnwuv",
    "outputId": "f98845b8-454c-4d43-9559-fb3b2aaadbea"
   },
   "outputs": [
    {
     "data": {
      "text/plain": [
       "208.90902935575437"
      ]
     },
     "execution_count": 44,
     "metadata": {},
     "output_type": "execute_result"
    }
   ],
   "source": [
    "-2 * (lm_model.llf - (lm_model.df_model + 1))"
   ]
  },
  {
   "cell_type": "markdown",
   "metadata": {
    "id": "UMQop60kof1a"
   },
   "source": [
    "5.1.9 seaborn 을 이용한 회귀직선 그래프 그리기"
   ]
  },
  {
   "cell_type": "code",
   "execution_count": 45,
   "metadata": {
    "colab": {
     "base_uri": "https://localhost:8080/",
     "height": 387
    },
    "executionInfo": {
     "elapsed": 2144,
     "status": "ok",
     "timestamp": 1675822810419,
     "user": {
      "displayName": "JIHAN KIM",
      "userId": "14820648192014375113"
     },
     "user_tz": -540
    },
    "id": "MjUnzapFomRV",
    "outputId": "08e4031c-4914-46cc-ad65-906585577248"
   },
   "outputs": [
    {
     "data": {
      "text/plain": [
       "<seaborn.axisgrid.FacetGrid at 0x7f2ee8c9dc40>"
      ]
     },
     "execution_count": 45,
     "metadata": {},
     "output_type": "execute_result"
    },
    {
     "data": {
      "image/png": "[encoded data removed]",
      "text/plain": [
       "<Figure size 360x360 with 1 Axes>"
      ]
     },
     "metadata": {},
     "output_type": "display_data"
    }
   ],
   "source": [
    "sns.lmplot(x=\"temperature\", y=\"beer\", data=beer, scatter_kws={\"color\": \"black\"}, line_kws={\"color\": \"blue\"})\n",
    "#음영부분 회귀직선의 95% 신뢰구간간"
   ]
  },
  {
   "cell_type": "code",
   "execution_count": 46,
   "metadata": {
    "colab": {
     "base_uri": "https://localhost:8080/"
    },
    "executionInfo": {
     "elapsed": 10,
     "status": "ok",
     "timestamp": 1675822810420,
     "user": {
      "displayName": "JIHAN KIM",
      "userId": "14820648192014375113"
     },
     "user_tz": -540
    },
    "id": "whybARDNriD7",
    "outputId": "88d6441d-b881-4523-9950-7daa4d381f1b"
   },
   "outputs": [
    {
     "data": {
      "text/plain": [
       "array([50.3014808048, 53.7459049498, 42.2644911333, 55.2002173665,\n",
       "       46.7039711424, 37.8250111243, 44.9434876905, 54.5113325375,\n",
       "       52.4446780506, 41.1163497517, 54.6644180551, 49.229882182 ,\n",
       "       53.2101056383, 52.4446780506, 41.0398069929, 52.5977635681,\n",
       "       45.2496587256, 61.7828946212, 55.4298456428, 50.3014808048,\n",
       "       42.4175766509, 50.3014808048, 51.1434511514, 40.657093199 ,\n",
       "       66.9112594592, 52.9039346032, 62.8544932441, 41.4225207868,\n",
       "       62.4717794502, 39.5089518174])"
      ]
     },
     "execution_count": 46,
     "metadata": {},
     "output_type": "execute_result"
    }
   ],
   "source": [
    "#5.1.10 모델을 이용한 예측\n",
    "lm_model.predict()"
   ]
  },
  {
   "cell_type": "code",
   "execution_count": 47,
   "metadata": {
    "colab": {
     "base_uri": "https://localhost:8080/"
    },
    "executionInfo": {
     "elapsed": 9,
     "status": "ok",
     "timestamp": 1675822810420,
     "user": {
      "displayName": "JIHAN KIM",
      "userId": "14820648192014375113"
     },
     "user_tz": -540
    },
    "id": "X8LZT_qJsMhA",
    "outputId": "04b962c4-8faa-4cd6-8a16-d810e716ab89"
   },
   "outputs": [
    {
     "data": {
      "text/plain": [
       "0    34.610215\n",
       "dtype: float64"
      ]
     },
     "execution_count": 47,
     "metadata": {},
     "output_type": "execute_result"
    }
   ],
   "source": [
    "lm_model.predict(pd.DataFrame({\"temperature\": [0]}))"
   ]
  },
  {
   "cell_type": "code",
   "execution_count": 48,
   "metadata": {
    "colab": {
     "base_uri": "https://localhost:8080/"
    },
    "executionInfo": {
     "elapsed": 8,
     "status": "ok",
     "timestamp": 1675822810420,
     "user": {
      "displayName": "JIHAN KIM",
      "userId": "14820648192014375113"
     },
     "user_tz": -540
    },
    "id": "AhIOu6liurZ-",
    "outputId": "6b30790e-e33a-4ba5-9cd7-e756b1be98ec"
   },
   "outputs": [
    {
     "data": {
      "text/plain": [
       "0    49.918767\n",
       "dtype: float64"
      ]
     },
     "execution_count": 48,
     "metadata": {},
     "output_type": "execute_result"
    }
   ],
   "source": [
    "lm_model.predict(pd.DataFrame({\"temperature\": [20]}))"
   ]
  },
  {
   "cell_type": "code",
   "execution_count": 49,
   "metadata": {
    "colab": {
     "base_uri": "https://localhost:8080/"
    },
    "executionInfo": {
     "elapsed": 7,
     "status": "ok",
     "timestamp": 1675822810420,
     "user": {
      "displayName": "JIHAN KIM",
      "userId": "14820648192014375113"
     },
     "user_tz": -540
    },
    "id": "AqVelL85u9gf",
    "outputId": "0b42b8e9-9c56-4f28-9e1b-7b12f6d34c1e"
   },
   "outputs": [
    {
     "data": {
      "text/plain": [
       "Intercept      34.610215\n",
       "temperature     0.765428\n",
       "dtype: float64"
      ]
     },
     "execution_count": 49,
     "metadata": {},
     "output_type": "execute_result"
    }
   ],
   "source": [
    "lm_model.params"
   ]
  },
  {
   "cell_type": "code",
   "execution_count": 50,
   "metadata": {
    "executionInfo": {
     "elapsed": 7,
     "status": "ok",
     "timestamp": 1675822810421,
     "user": {
      "displayName": "JIHAN KIM",
      "userId": "14820648192014375113"
     },
     "user_tz": -540
    },
    "id": "LqafQrRtzxSv"
   },
   "outputs": [],
   "source": [
    "beta0 = lm_model.params[0]\n",
    "beta1 = lm_model.params[1]"
   ]
  },
  {
   "cell_type": "code",
   "execution_count": 51,
   "metadata": {
    "colab": {
     "base_uri": "https://localhost:8080/"
    },
    "executionInfo": {
     "elapsed": 7,
     "status": "ok",
     "timestamp": 1675822810421,
     "user": {
      "displayName": "JIHAN KIM",
      "userId": "14820648192014375113"
     },
     "user_tz": -540
    },
    "id": "ufiiVPTZvYEg",
    "outputId": "8884ea8a-fdd7-4b04-c0d7-1213f19b11d0"
   },
   "outputs": [
    {
     "data": {
      "text/plain": [
       "0    -5.001481\n",
       "1     5.554095\n",
       "2    -1.864491\n",
       "3   -17.200217\n",
       "4    -9.703971\n",
       "dtype: float64"
      ]
     },
     "execution_count": 51,
     "metadata": {},
     "output_type": "execute_result"
    }
   ],
   "source": [
    "#5.1.11 잔차계산\n",
    "resid = lm_model.resid\n",
    "resid.head()"
   ]
  },
  {
   "cell_type": "code",
   "execution_count": null,
   "metadata": {
    "colab": {
     "background_save": true
    },
    "id": "Rgbe4KXw2fIX"
   },
   "outputs": [
    {
     "data": {
      "text/plain": [
       "0    50.301481\n",
       "1    53.745905\n",
       "2    42.264491\n",
       "3    55.200217\n",
       "4    46.703971\n",
       "Name: temperature, dtype: float64"
      ]
     },
     "execution_count": 53,
     "metadata": {},
     "output_type": "execute_result"
    }
   ],
   "source": [
    "y_hat = beta0 + beta1 * beer.temperature\n",
    "y_hat.he"
   ]
  }
 ],
 "metadata": {
  "colab": {
   "authorship_tag": "ABX9TyPI9vj1358JepziJoG43Kus",
   "name": "",
   "version": ""
  },
  "kernelspec": {
   "name": "python3",
   "language": "python",
   "display_name": "Python 3 (ipykernel)"
  },
  "language_info": {
   "name": "python"
  }
 },
 "nbformat": 4,
 "nbformat_minor": 0
}
