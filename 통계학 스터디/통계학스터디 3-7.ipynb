{
 "cells": [
  {
   "cell_type": "markdown",
   "source": [
    "3.7 추정"
   ],
   "metadata": {
    "collapsed": false,
    "id": "fDf_0gHeSRkG"
   }
  },
  {
   "cell_type": "code",
   "execution_count": 11,
   "outputs": [],
   "source": [
    "import numpy as np\n",
    "import pandas as pd\n",
    "import scipy as sp\n",
    "from scipy import stats\n",
    "\n",
    "from matplotlib import pyplot as plt\n",
    "\n",
    "import seaborn as sns\n",
    "\n",
    "sns.set()\n",
    "%precision 10\n",
    "%matplotlib inline"
   ],
   "metadata": {
    "id": "YOV01YOaSRkJ",
    "executionInfo": {
     "status": "ok",
     "timestamp": 1672928137105,
     "user_tz": -540,
     "elapsed": 948,
     "user": {
      "displayName": "JIHAN KIM",
      "userId": "14820648192014375113"
     }
    }
   }
  },
  {
   "cell_type": "code",
   "execution_count": 12,
   "outputs": [],
   "source": [
    "fish = np.array([4.352982, 3.735304, 5.944617, 3.798326, 4.087688, 5.265985, 3.272614, 3.526691, 4.150083, 3.736104])"
   ],
   "metadata": {
    "id": "XKO7hrfKSRkK",
    "executionInfo": {
     "status": "ok",
     "timestamp": 1672928137106,
     "user_tz": -540,
     "elapsed": 8,
     "user": {
      "displayName": "JIHAN KIM",
      "userId": "14820648192014375113"
     }
    }
   }
  },
  {
   "cell_type": "markdown",
   "source": [],
   "metadata": {
    "collapsed": false
   }
  },
  {
   "cell_type": "code",
   "execution_count": 13,
   "outputs": [
    {
     "data": {
      "text/plain": "4.1870394000"
     },
     "execution_count": 13,
     "metadata": {},
     "output_type": "execute_result"
    }
   ],
   "source": [
    "mu = np.mean(fish)\n",
    "mu"
   ],
   "metadata": {
    "colab": {
     "base_uri": "https://localhost:8080/"
    },
    "id": "fNb4kB5lSRkK",
    "executionInfo": {
     "status": "ok",
     "timestamp": 1672928137106,
     "user_tz": -540,
     "elapsed": 8,
     "user": {
      "displayName": "JIHAN KIM",
      "userId": "14820648192014375113"
     }
    },
    "outputId": "dd43e81d-9d8f-4262-9a73-d1556b0a4630"
   }
  },
  {
   "cell_type": "code",
   "execution_count": 14,
   "outputs": [
    {
     "data": {
      "text/plain": "0.6803017318"
     },
     "execution_count": 14,
     "metadata": {},
     "output_type": "execute_result"
    }
   ],
   "source": [
    "sigma_2 = np.var(fish, ddof= 1)\n",
    "sigma_2"
   ],
   "metadata": {
    "colab": {
     "base_uri": "https://localhost:8080/"
    },
    "id": "Q-J1scNiSRkL",
    "executionInfo": {
     "status": "ok",
     "timestamp": 1672928137106,
     "user_tz": -540,
     "elapsed": 6,
     "user": {
      "displayName": "JIHAN KIM",
      "userId": "14820648192014375113"
     }
    },
    "outputId": "62abb5a7-0a9c-470c-89bb-6ef12115c60c"
   }
  },
  {
   "cell_type": "markdown",
   "source": [
    " 3.7.7 구간추정"
   ],
   "metadata": {
    "collapsed": false,
    "id": "nmgoxuJfSRkL"
   }
  },
  {
   "cell_type": "code",
   "execution_count": 15,
   "outputs": [
    {
     "data": {
      "text/plain": "9"
     },
     "execution_count": 15,
     "metadata": {},
     "output_type": "execute_result"
    }
   ],
   "source": [
    "df = len(fish) -1\n",
    "df"
   ],
   "metadata": {
    "colab": {
     "base_uri": "https://localhost:8080/"
    },
    "id": "d_CgSEndSRkM",
    "executionInfo": {
     "status": "ok",
     "timestamp": 1672928137107,
     "user_tz": -540,
     "elapsed": 6,
     "user": {
      "displayName": "JIHAN KIM",
      "userId": "14820648192014375113"
     }
    },
    "outputId": "1224a11a-d407-4c53-f7c7-363860719956"
   }
  },
  {
   "cell_type": "code",
   "execution_count": 16,
   "outputs": [
    {
     "data": {
      "text/plain": "0.2608259442"
     },
     "execution_count": 16,
     "metadata": {},
     "output_type": "execute_result"
    }
   ],
   "source": [
    "sigma = np.std(fish, ddof =1)\n",
    "se = sigma/ np.sqrt(len(fish))\n",
    "se"
   ],
   "metadata": {
    "colab": {
     "base_uri": "https://localhost:8080/"
    },
    "id": "DswxdsslSRkM",
    "executionInfo": {
     "status": "ok",
     "timestamp": 1672928137107,
     "user_tz": -540,
     "elapsed": 6,
     "user": {
      "displayName": "JIHAN KIM",
      "userId": "14820648192014375113"
     }
    },
    "outputId": "a362c7fc-46d3-456d-c212-22769280fe7e"
   }
  },
  {
   "cell_type": "code",
   "execution_count": 17,
   "outputs": [
    {
     "name": "stderr",
     "output_type": "stream",
     "text": [
      "C:\\Users\\tomat\\AppData\\Local\\Temp\\ipykernel_15084\\3665032145.py:2: DeprecationWarning: Use of keyword argument `alpha` for method `interval` is deprecated. Use first positional argument or keyword argument `confidence` instead.\n",
      "  interval = stats.t.interval(alpha= 0.95, df = df, loc = mu, scale = se)\n"
     ]
    },
    {
     "data": {
      "text/plain": "(3.5970101221, 4.7770686779)"
     },
     "execution_count": 17,
     "metadata": {},
     "output_type": "execute_result"
    }
   ],
   "source": [
    "#t분포이용해서 신뢰구간 구하기 모표준편차대신 표준오차를 사용하고, t분표를 이용하므로 자유도 숫자를 넣어야함\n",
    "interval = stats.t.interval(alpha= 0.95, df = df, loc = mu, scale = se)\n",
    "interval"
   ],
   "metadata": {
    "colab": {
     "base_uri": "https://localhost:8080/"
    },
    "id": "WOOHogSwSRkM",
    "executionInfo": {
     "status": "ok",
     "timestamp": 1672928161857,
     "user_tz": -540,
     "elapsed": 480,
     "user": {
      "displayName": "JIHAN KIM",
      "userId": "14820648192014375113"
     }
    },
    "outputId": "ba07b24e-efca-4239-9408-dd81730cae10"
   }
  },
  {
   "cell_type": "code",
   "source": [
    "t_975 = stats.t.ppf(q = 0.975, df = df) # t지점을 구함 ppf Percent point function\n",
    "t_975"
   ],
   "metadata": {
    "colab": {
     "base_uri": "https://localhost:8080/"
    },
    "id": "kiQkwaDvSg0k",
    "executionInfo": {
     "status": "ok",
     "timestamp": 1672928212771,
     "user_tz": -540,
     "elapsed": 469,
     "user": {
      "displayName": "JIHAN KIM",
      "userId": "14820648192014375113"
     }
    },
    "outputId": "fdfa22a3-d170-4da8-8e54-717e85f29cbc"
   },
   "execution_count": 18,
   "outputs": [
    {
     "data": {
      "text/plain": "2.2621571627"
     },
     "execution_count": 18,
     "metadata": {},
     "output_type": "execute_result"
    }
   ]
  },
  {
   "cell_type": "code",
   "source": [
    "lower = mu - t_975*se # 하측신뢰한계 평균값 아래\n",
    "lower"
   ],
   "metadata": {
    "colab": {
     "base_uri": "https://localhost:8080/"
    },
    "id": "P0YkdoxpTZtM",
    "executionInfo": {
     "status": "ok",
     "timestamp": 1672928432477,
     "user_tz": -540,
     "elapsed": 3,
     "user": {
      "displayName": "JIHAN KIM",
      "userId": "14820648192014375113"
     }
    },
    "outputId": "9a7ecba5-d803-4be1-e124-08527d08672b"
   },
   "execution_count": 19,
   "outputs": [
    {
     "data": {
      "text/plain": "3.5970101221"
     },
     "execution_count": 19,
     "metadata": {},
     "output_type": "execute_result"
    }
   ]
  },
  {
   "cell_type": "code",
   "source": [
    "upper = mu + t_975*se\n",
    "upper"
   ],
   "metadata": {
    "colab": {
     "base_uri": "https://localhost:8080/"
    },
    "id": "hh2zzqb5TwD0",
    "executionInfo": {
     "status": "ok",
     "timestamp": 1672928521805,
     "user_tz": -540,
     "elapsed": 2,
     "user": {
      "displayName": "JIHAN KIM",
      "userId": "14820648192014375113"
     }
    },
    "outputId": "fbbfe0da-670d-479e-ccbe-18cecbba1536"
   },
   "execution_count": 20,
   "outputs": [
    {
     "data": {
      "text/plain": "4.7770686779"
     },
     "execution_count": 20,
     "metadata": {},
     "output_type": "execute_result"
    }
   ]
  },
  {
   "cell_type": "markdown",
   "source": [
    "3.7.9 신뢰구간의 폭을 결정하는 요소"
   ],
   "metadata": {
    "id": "oNUADziXUAu3"
   }
  },
  {
   "cell_type": "code",
   "source": [
    "#표본표준편차를 10배로 늘려서 95%신뢰구간 구하기\n",
    "se2 = (sigma*10)/ np.sqrt(len(fish))\n",
    "stats.t.interval(alpha = 0.95, df = df, loc = mu, scale = se2)"
   ],
   "metadata": {
    "colab": {
     "base_uri": "https://localhost:8080/"
    },
    "id": "iXqCs6wkUikF",
    "executionInfo": {
     "status": "ok",
     "timestamp": 1672928784429,
     "user_tz": -540,
     "elapsed": 3,
     "user": {
      "displayName": "JIHAN KIM",
      "userId": "14820648192014375113"
     }
    },
    "outputId": "331f3b2c-06b2-41d5-fc50-21b26abcd3a4"
   },
   "execution_count": 21,
   "outputs": [
    {
     "name": "stderr",
     "output_type": "stream",
     "text": [
      "C:\\Users\\tomat\\AppData\\Local\\Temp\\ipykernel_15084\\2415099438.py:3: DeprecationWarning: Use of keyword argument `alpha` for method `interval` is deprecated. Use first positional argument or keyword argument `confidence` instead.\n",
      "  stats.t.interval(alpha = 0.95, df = df, loc = mu, scale = se2)\n"
     ]
    },
    {
     "data": {
      "text/plain": "(-1.7132533794, 10.0873321794)"
     },
     "execution_count": 21,
     "metadata": {},
     "output_type": "execute_result"
    }
   ]
  },
  {
   "cell_type": "code",
   "source": [
    "df2 = (len(fish)*10) -1\n",
    "se3 = sigma/ np.sqrt(len(fish)*10)\n",
    "stats.t.interval(alpha = 0.95, df = df2, loc = mu, scale = se3)"
   ],
   "metadata": {
    "colab": {
     "base_uri": "https://localhost:8080/"
    },
    "id": "Iw5wA5bdU8P1",
    "executionInfo": {
     "status": "ok",
     "timestamp": 1672928890143,
     "user_tz": -540,
     "elapsed": 407,
     "user": {
      "displayName": "JIHAN KIM",
      "userId": "14820648192014375113"
     }
    },
    "outputId": "0eec4f2c-6ee9-4527-e189-e2a267a9ad41"
   },
   "execution_count": 22,
   "outputs": [
    {
     "name": "stderr",
     "output_type": "stream",
     "text": [
      "C:\\Users\\tomat\\AppData\\Local\\Temp\\ipykernel_15084\\3999767150.py:3: DeprecationWarning: Use of keyword argument `alpha` for method `interval` is deprecated. Use first positional argument or keyword argument `confidence` instead.\n",
      "  stats.t.interval(alpha = 0.95, df = df2, loc = mu, scale = se3)\n"
     ]
    },
    {
     "data": {
      "text/plain": "(4.0233803809, 4.3506984191)"
     },
     "execution_count": 22,
     "metadata": {},
     "output_type": "execute_result"
    }
   ]
  },
  {
   "cell_type": "code",
   "source": [
    "stats.t.interval(alpha = 0.99, df = df, loc = mu, scale = se)"
   ],
   "metadata": {
    "colab": {
     "base_uri": "https://localhost:8080/"
    },
    "id": "vRzPnlocVV8m",
    "executionInfo": {
     "status": "ok",
     "timestamp": 1672928931204,
     "user_tz": -540,
     "elapsed": 2,
     "user": {
      "displayName": "JIHAN KIM",
      "userId": "14820648192014375113"
     }
    },
    "outputId": "00986643-acb2-420f-bc35-87610a1c7318"
   },
   "execution_count": 23,
   "outputs": [
    {
     "name": "stderr",
     "output_type": "stream",
     "text": [
      "C:\\Users\\tomat\\AppData\\Local\\Temp\\ipykernel_15084\\3285361896.py:1: DeprecationWarning: Use of keyword argument `alpha` for method `interval` is deprecated. Use first positional argument or keyword argument `confidence` instead.\n",
      "  stats.t.interval(alpha = 0.99, df = df, loc = mu, scale = se)\n"
     ]
    },
    {
     "data": {
      "text/plain": "(3.3393979757, 5.0346808243)"
     },
     "execution_count": 23,
     "metadata": {},
     "output_type": "execute_result"
    }
   ]
  },
  {
   "cell_type": "markdown",
   "source": [
    "3.7.10 구간추정 결과의 해석"
   ],
   "metadata": {
    "id": "Y8hslc6cVeFz"
   }
  },
  {
   "cell_type": "code",
   "source": [
    "be_included_array = np.zeros(20000, dtype = 'bool')\n",
    "be_included_array"
   ],
   "metadata": {
    "colab": {
     "base_uri": "https://localhost:8080/"
    },
    "id": "60CQ17YBVhYC",
    "executionInfo": {
     "status": "ok",
     "timestamp": 1672929053189,
     "user_tz": -540,
     "elapsed": 391,
     "user": {
      "displayName": "JIHAN KIM",
      "userId": "14820648192014375113"
     }
    },
    "outputId": "d5be8f2a-0379-4915-8ca4-13f2f9a4fb94"
   },
   "execution_count": 27,
   "outputs": [
    {
     "data": {
      "text/plain": "array([False, False, False, ..., False, False, False])"
     },
     "execution_count": 27,
     "metadata": {},
     "output_type": "execute_result"
    }
   ]
  },
  {
   "cell_type": "code",
   "source": [
    "np.random.seed(1)\n",
    "norm_dist = stats.norm(loc = 4, scale = 0.8)\n",
    "for i in range(0, 20000):\n",
    "    sample = norm_dist.rvs(size = 10)\n",
    "    df = len(sample) -1\n",
    "    mu = np.mean(sample)\n",
    "    std = np.std(sample, ddof = 1)\n",
    "    se = std/np.sqrt(len(sample))\n",
    "    interval = stats.t.interval(0.95, df, mu, se)\n",
    "    if(interval[0] <= 4 and interval[1] >= 4):\n",
    "        be_included_array[i] = True"
   ],
   "metadata": {
    "id": "zoQf968UV5vy",
    "executionInfo": {
     "status": "ok",
     "timestamp": 1672929340795,
     "user_tz": -540,
     "elapsed": 7065,
     "user": {
      "displayName": "JIHAN KIM",
      "userId": "14820648192014375113"
     }
    }
   },
   "execution_count": 28,
   "outputs": []
  },
  {
   "cell_type": "code",
   "source": [
    "sum(be_included_array)/len(be_included_array)"
   ],
   "metadata": {
    "colab": {
     "base_uri": "https://localhost:8080/"
    },
    "id": "fh3aFhKQW9jf",
    "executionInfo": {
     "status": "ok",
     "timestamp": 1672929365129,
     "user_tz": -540,
     "elapsed": 440,
     "user": {
      "displayName": "JIHAN KIM",
      "userId": "14820648192014375113"
     }
    },
    "outputId": "63af9a51-4dd1-42ec-a6a7-fe7379da91d6"
   },
   "execution_count": 29,
   "outputs": [
    {
     "data": {
      "text/plain": "0.9480000000"
     },
     "execution_count": 29,
     "metadata": {},
     "output_type": "execute_result"
    }
   ]
  },
  {
   "cell_type": "code",
   "execution_count": null,
   "outputs": [],
   "source": [],
   "metadata": {
    "collapsed": false
   }
  }
 ],
 "metadata": {
  "kernelspec": {
   "display_name": "Python 3",
   "language": "python",
   "name": "python3"
  },
  "language_info": {
   "codemirror_mode": {
    "name": "ipython",
    "version": 2
   },
   "file_extension": ".py",
   "mimetype": "text/x-python",
   "name": "python",
   "nbconvert_exporter": "python",
   "pygments_lexer": "ipython2",
   "version": "2.7.6"
  },
  "colab": {
   "provenance": []
  }
 },
 "nbformat": 4,
 "nbformat_minor": 0
}
