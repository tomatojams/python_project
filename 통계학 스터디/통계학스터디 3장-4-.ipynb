{
 "nbformat": 4,
 "nbformat_minor": 0,
 "metadata": {
  "colab": {
   "provenance": [],
   "authorship_tag": "ABX9TyMbUi2WGsej0vMFQ2YBIBnj"
  },
  "kernelspec": {
   "name": "python3",
   "display_name": "Python 3"
  },
  "language_info": {
   "name": "python"
  }
 },
 "cells": [
  {
   "cell_type": "code",
   "execution_count": null,
   "metadata": {
    "id": "xyYmd9u3GAwB",
    "executionInfo": {
     "status": "ok",
     "timestamp": 1672679451135,
     "user_tz": -540,
     "elapsed": 2,
     "user": {
      "displayName": "JIHAN KIM",
      "userId": "14820648192014375113"
     }
    }
   },
   "outputs": [],
   "source": []
  },
  {
   "cell_type": "markdown",
   "source": [
    "**3.4 모집단에서 표본 추출 시뮬레이션**"
   ],
   "metadata": {
    "id": "-_6ONhqVGEaH"
   }
  },
  {
   "cell_type": "code",
   "source": [
    "# 모집단에서 표본추출 시뮬레이션\n",
    "\n",
    "# 수치계산 라이브러리\n",
    "import numpy as np\n",
    "import pandas as pd\n",
    "import scipy as sp\n",
    "from scipy import stats\n",
    "\n",
    "# 그래프 라이브러리\n",
    "\n",
    "from matplotlib import pyplot as plt\n",
    "import seaborn as sns\n",
    "sns.set()\n",
    "\n",
    "%precision 3\n",
    "\n",
    "%matplotlib inline"
   ],
   "metadata": {
    "id": "W-GwOiSsynPe",
    "executionInfo": {
     "status": "ok",
     "timestamp": 1672679452718,
     "user_tz": -540,
     "elapsed": 1584,
     "user": {
      "displayName": "JIHAN KIM",
      "userId": "14820648192014375113"
     }
    }
   },
   "execution_count": 1,
   "outputs": []
  },
  {
   "cell_type": "code",
   "source": [
    "fish_5 = np.array([2,3,4,5,6])\n",
    "fish_5"
   ],
   "metadata": {
    "colab": {
     "base_uri": "https://localhost:8080/"
    },
    "id": "hW2ZD52dzNG7",
    "executionInfo": {
     "status": "ok",
     "timestamp": 1672679452718,
     "user_tz": -540,
     "elapsed": 7,
     "user": {
      "displayName": "JIHAN KIM",
      "userId": "14820648192014375113"
     }
    },
    "outputId": "d1d936d8-a022-414c-b2dd-96c36e289d46"
   },
   "execution_count": 2,
   "outputs": [
    {
     "output_type": "execute_result",
     "data": {
      "text/plain": [
       "array([2, 3, 4, 5, 6])"
      ]
     },
     "metadata": {},
     "execution_count": 2
    }
   ]
  },
  {
   "cell_type": "code",
   "source": [
    "np.random.choice(fish_5, size = 1, replace = False)"
   ],
   "metadata": {
    "colab": {
     "base_uri": "https://localhost:8080/"
    },
    "id": "_OFNzA8p9N81",
    "executionInfo": {
     "status": "ok",
     "timestamp": 1672679452719,
     "user_tz": -540,
     "elapsed": 6,
     "user": {
      "displayName": "JIHAN KIM",
      "userId": "14820648192014375113"
     }
    },
    "outputId": "5b7c7b4b-547a-427f-ca5e-995d3abd0cb7"
   },
   "execution_count": 3,
   "outputs": [
    {
     "output_type": "execute_result",
     "data": {
      "text/plain": [
       "array([4])"
      ]
     },
     "metadata": {},
     "execution_count": 3
    }
   ]
  },
  {
   "cell_type": "code",
   "source": [
    "np.random.choice(fish_5, size = 3, replace = False)"
   ],
   "metadata": {
    "colab": {
     "base_uri": "https://localhost:8080/"
    },
    "id": "TdxFaWRO9V9k",
    "executionInfo": {
     "status": "ok",
     "timestamp": 1672679452719,
     "user_tz": -540,
     "elapsed": 5,
     "user": {
      "displayName": "JIHAN KIM",
      "userId": "14820648192014375113"
     }
    },
    "outputId": "e612292d-c81b-45bf-8be0-8b05899098ef"
   },
   "execution_count": 4,
   "outputs": [
    {
     "output_type": "execute_result",
     "data": {
      "text/plain": [
       "array([6, 3, 2])"
      ]
     },
     "metadata": {},
     "execution_count": 4
    }
   ]
  },
  {
   "cell_type": "code",
   "source": [
    "# seed를 활용한 랜덤초이스\n",
    "\n",
    "np.random.seed(1)\n",
    "np.random.choice(fish_5, size = 3, replace = False)"
   ],
   "metadata": {
    "colab": {
     "base_uri": "https://localhost:8080/"
    },
    "id": "duHeYNTh--ss",
    "executionInfo": {
     "status": "ok",
     "timestamp": 1672679452719,
     "user_tz": -540,
     "elapsed": 5,
     "user": {
      "displayName": "JIHAN KIM",
      "userId": "14820648192014375113"
     }
    },
    "outputId": "67b43107-502b-4099-9739-759b04c2bf89"
   },
   "execution_count": 5,
   "outputs": [
    {
     "output_type": "execute_result",
     "data": {
      "text/plain": [
       "array([4, 3, 6])"
      ]
     },
     "metadata": {},
     "execution_count": 5
    }
   ]
  },
  {
   "cell_type": "code",
   "source": [
    "np.random.seed(1)\n",
    "np.mean( np.random.choice(fish_5, size = 3, replace = False))"
   ],
   "metadata": {
    "colab": {
     "base_uri": "https://localhost:8080/"
    },
    "id": "huIKI4OJ_Ofh",
    "executionInfo": {
     "status": "ok",
     "timestamp": 1672679452719,
     "user_tz": -540,
     "elapsed": 4,
     "user": {
      "displayName": "JIHAN KIM",
      "userId": "14820648192014375113"
     }
    },
    "outputId": "999f2348-b16e-4368-9987-233a4a1707d7"
   },
   "execution_count": 6,
   "outputs": [
    {
     "output_type": "execute_result",
     "data": {
      "text/plain": [
       "4.333333333333333"
      ]
     },
     "metadata": {},
     "execution_count": 6
    }
   ]
  },
  {
   "cell_type": "code",
   "source": [
    "fish_100000 = pd.read_csv(\"data/3-4-1-fish_length_100000.csv\")[\"length\"]\n",
    "fish_100000.head()"
   ],
   "metadata": {
    "colab": {
     "base_uri": "https://localhost:8080/"
    },
    "id": "LfDNfpDpxmyy",
    "executionInfo": {
     "status": "ok",
     "timestamp": 1672679471126,
     "user_tz": -540,
     "elapsed": 849,
     "user": {
      "displayName": "JIHAN KIM",
      "userId": "14820648192014375113"
     }
    },
    "outputId": "ff2bcf7f-be4d-4029-ad3d-fc2f606a5601"
   },
   "execution_count": 8,
   "outputs": [
    {
     "output_type": "execute_result",
     "data": {
      "text/plain": [
       "0    5.297442\n",
       "1    3.505566\n",
       "2    3.572546\n",
       "3    3.135979\n",
       "4    4.689275\n",
       "Name: length, dtype: float64"
      ]
     },
     "metadata": {},
     "execution_count": 8
    }
   ]
  },
  {
   "cell_type": "code",
   "source": [
    "len(fish_100000)"
   ],
   "metadata": {
    "colab": {
     "base_uri": "https://localhost:8080/"
    },
    "id": "O_ShNLS6yTdj",
    "executionInfo": {
     "status": "ok",
     "timestamp": 1672679471126,
     "user_tz": -540,
     "elapsed": 6,
     "user": {
      "displayName": "JIHAN KIM",
      "userId": "14820648192014375113"
     }
    },
    "outputId": "a8c5fd4a-785c-4ea6-86b5-8f0be839b168"
   },
   "execution_count": 9,
   "outputs": [
    {
     "output_type": "execute_result",
     "data": {
      "text/plain": [
       "100000"
      ]
     },
     "metadata": {},
     "execution_count": 9
    }
   ]
  },
  {
   "cell_type": "code",
   "source": [
    "sample_result = np.random.choice(\n",
    "    fish_100000, size = 10, replace = False) # 비복원추출 중복금지\n",
    "sample_result"
   ],
   "metadata": {
    "colab": {
     "base_uri": "https://localhost:8080/"
    },
    "id": "HLjqRFj6yXLI",
    "executionInfo": {
     "status": "ok",
     "timestamp": 1672679471127,
     "user_tz": -540,
     "elapsed": 6,
     "user": {
      "displayName": "JIHAN KIM",
      "userId": "14820648192014375113"
     }
    },
    "outputId": "68052150-b162-4cff-9949-bbabed11ef7b"
   },
   "execution_count": 10,
   "outputs": [
    {
     "output_type": "execute_result",
     "data": {
      "text/plain": [
       "array([4.091, 5.465, 3.426, 4.287, 4.244, 4.282, 4.29 , 5.087, 2.769,\n",
       "       5.296])"
      ]
     },
     "metadata": {},
     "execution_count": 10
    }
   ]
  },
  {
   "cell_type": "code",
   "source": [
    "np.mean(sample_result)"
   ],
   "metadata": {
    "colab": {
     "base_uri": "https://localhost:8080/"
    },
    "id": "sJXpoXn6yvBF",
    "executionInfo": {
     "status": "ok",
     "timestamp": 1672679471127,
     "user_tz": -540,
     "elapsed": 5,
     "user": {
      "displayName": "JIHAN KIM",
      "userId": "14820648192014375113"
     }
    },
    "outputId": "0e4edff6-f82c-42e7-d54c-5abfd773934b"
   },
   "execution_count": 11,
   "outputs": [
    {
     "output_type": "execute_result",
     "data": {
      "text/plain": [
       "4.3235970793805025"
      ]
     },
     "metadata": {},
     "execution_count": 11
    }
   ]
  },
  {
   "cell_type": "code",
   "source": [
    "np.mean(fish_100000)"
   ],
   "metadata": {
    "colab": {
     "base_uri": "https://localhost:8080/"
    },
    "id": "2H4QUO1syy-B",
    "executionInfo": {
     "status": "ok",
     "timestamp": 1672679471127,
     "user_tz": -540,
     "elapsed": 4,
     "user": {
      "displayName": "JIHAN KIM",
      "userId": "14820648192014375113"
     }
    },
    "outputId": "e614fa2b-84dc-4337-c016-6ea30db92a1a"
   },
   "execution_count": 12,
   "outputs": [
    {
     "output_type": "execute_result",
     "data": {
      "text/plain": [
       "4.000000000000001"
      ]
     },
     "metadata": {},
     "execution_count": 12
    }
   ]
  },
  {
   "cell_type": "code",
   "source": [
    "np.std(fish_100000, ddof = 0)"
   ],
   "metadata": {
    "colab": {
     "base_uri": "https://localhost:8080/"
    },
    "id": "UfSoBzq5y3sx",
    "executionInfo": {
     "status": "ok",
     "timestamp": 1672679471127,
     "user_tz": -540,
     "elapsed": 4,
     "user": {
      "displayName": "JIHAN KIM",
      "userId": "14820648192014375113"
     }
    },
    "outputId": "5f55e490-a629-49bb-cb74-34f349a9db4f"
   },
   "execution_count": 13,
   "outputs": [
    {
     "output_type": "execute_result",
     "data": {
      "text/plain": [
       "0.7999999999999999"
      ]
     },
     "metadata": {},
     "execution_count": 13
    }
   ]
  },
  {
   "cell_type": "code",
   "source": [
    "np.var(fish_100000, ddof = 0)"
   ],
   "metadata": {
    "colab": {
     "base_uri": "https://localhost:8080/"
    },
    "id": "Aoetl9GnzAo0",
    "executionInfo": {
     "status": "ok",
     "timestamp": 1672679471128,
     "user_tz": -540,
     "elapsed": 4,
     "user": {
      "displayName": "JIHAN KIM",
      "userId": "14820648192014375113"
     }
    },
    "outputId": "95ff2c37-f90d-425b-e16f-9f148a1b299d"
   },
   "execution_count": 14,
   "outputs": [
    {
     "output_type": "execute_result",
     "data": {
      "text/plain": [
       "0.6399999999999999"
      ]
     },
     "metadata": {},
     "execution_count": 14
    }
   ]
  },
  {
   "cell_type": "code",
   "source": [
    "sns.histplot(fish_100000, kde = False, color = 'black')"
   ],
   "metadata": {
    "colab": {
     "base_uri": "https://localhost:8080/",
     "height": 303
    },
    "id": "GJxQ5LZzzIco",
    "executionInfo": {
     "status": "ok",
     "timestamp": 1672679471786,
     "user_tz": -540,
     "elapsed": 661,
     "user": {
      "displayName": "JIHAN KIM",
      "userId": "14820648192014375113"
     }
    },
    "outputId": "3c615e05-cb32-4221-f190-d4652b9e52ad"
   },
   "execution_count": 15,
   "outputs": [
    {
     "output_type": "execute_result",
     "data": {
      "text/plain": [
       "<matplotlib.axes._subplots.AxesSubplot at 0x7f67cd8d7a00>"
      ]
     },
     "metadata": {},
     "execution_count": 15
    },
    {
     "output_type": "display_data",
     "data": {
      "text/plain": [
       "<Figure size 432x288 with 1 Axes>"
      ],
      "image/png": "[encoded data removed]"
     },
     "metadata": {
      "needs_background": "light"
     }
    }
   ]
  },
  {
   "cell_type": "code",
   "source": [
    "x = np.arange(start = 1, stop = 7.1, step = 0.1) # arange를 활용해 등차수열 만들기\n",
    "x"
   ],
   "metadata": {
    "colab": {
     "base_uri": "https://localhost:8080/"
    },
    "id": "jcM0Q5lTzbhN",
    "executionInfo": {
     "status": "ok",
     "timestamp": 1672679471787,
     "user_tz": -540,
     "elapsed": 5,
     "user": {
      "displayName": "JIHAN KIM",
      "userId": "14820648192014375113"
     }
    },
    "outputId": "e22713ac-c5d0-4005-d7ec-04b12d8fcfd7"
   },
   "execution_count": 16,
   "outputs": [
    {
     "output_type": "execute_result",
     "data": {
      "text/plain": [
       "array([1. , 1.1, 1.2, 1.3, 1.4, 1.5, 1.6, 1.7, 1.8, 1.9, 2. , 2.1, 2.2,\n",
       "       2.3, 2.4, 2.5, 2.6, 2.7, 2.8, 2.9, 3. , 3.1, 3.2, 3.3, 3.4, 3.5,\n",
       "       3.6, 3.7, 3.8, 3.9, 4. , 4.1, 4.2, 4.3, 4.4, 4.5, 4.6, 4.7, 4.8,\n",
       "       4.9, 5. , 5.1, 5.2, 5.3, 5.4, 5.5, 5.6, 5.7, 5.8, 5.9, 6. , 6.1,\n",
       "       6.2, 6.3, 6.4, 6.5, 6.6, 6.7, 6.8, 6.9, 7. ])"
      ]
     },
     "metadata": {},
     "execution_count": 16
    }
   ]
  },
  {
   "cell_type": "code",
   "source": [
    "stats.norm.pdf(x = x, loc = 4, scale = 0.8) # 확률밀도계산"
   ],
   "metadata": {
    "colab": {
     "base_uri": "https://localhost:8080/"
    },
    "id": "d34CzfxEUA__",
    "executionInfo": {
     "status": "ok",
     "timestamp": 1672679471787,
     "user_tz": -540,
     "elapsed": 3,
     "user": {
      "displayName": "JIHAN KIM",
      "userId": "14820648192014375113"
     }
    },
    "outputId": "3e8ab688-1b06-4db1-e1b1-d6d8f408ecae"
   },
   "execution_count": 17,
   "outputs": [
    {
     "output_type": "execute_result",
     "data": {
      "text/plain": [
       "array([4.407e-04, 6.988e-04, 1.091e-03, 1.676e-03, 2.536e-03, 3.778e-03,\n",
       "       5.540e-03, 7.998e-03, 1.137e-02, 1.591e-02, 2.191e-02, 2.971e-02,\n",
       "       3.967e-02, 5.215e-02, 6.749e-02, 8.598e-02, 1.078e-01, 1.332e-01,\n",
       "       1.619e-01, 1.938e-01, 2.283e-01, 2.648e-01, 3.025e-01, 3.401e-01,\n",
       "       3.764e-01, 4.102e-01, 4.401e-01, 4.648e-01, 4.833e-01, 4.948e-01,\n",
       "       4.987e-01, 4.948e-01, 4.833e-01, 4.648e-01, 4.401e-01, 4.102e-01,\n",
       "       3.764e-01, 3.401e-01, 3.025e-01, 2.648e-01, 2.283e-01, 1.938e-01,\n",
       "       1.619e-01, 1.332e-01, 1.078e-01, 8.598e-02, 6.749e-02, 5.215e-02,\n",
       "       3.967e-02, 2.971e-02, 2.191e-02, 1.591e-02, 1.137e-02, 7.998e-03,\n",
       "       5.540e-03, 3.778e-03, 2.536e-03, 1.676e-03, 1.091e-03, 6.988e-04,\n",
       "       4.407e-04])"
      ]
     },
     "metadata": {},
     "execution_count": 17
    }
   ]
  },
  {
   "cell_type": "code",
   "source": [
    "plt.plot(x, stats.norm.pdf(x = x, loc = 4, scale = 0.8), color = 'black') # x좌표, 확률밀도, 칼라"
   ],
   "metadata": {
    "colab": {
     "base_uri": "https://localhost:8080/",
     "height": 286
    },
    "id": "az9H1DSFUaKe",
    "executionInfo": {
     "status": "ok",
     "timestamp": 1672679472188,
     "user_tz": -540,
     "elapsed": 404,
     "user": {
      "displayName": "JIHAN KIM",
      "userId": "14820648192014375113"
     }
    },
    "outputId": "f12ac1ea-d802-48c4-aa48-07281d4ad803"
   },
   "execution_count": 18,
   "outputs": [
    {
     "output_type": "execute_result",
     "data": {
      "text/plain": [
       "[<matplotlib.lines.Line2D at 0x7f67cd9682e0>]"
      ]
     },
     "metadata": {},
     "execution_count": 18
    },
    {
     "output_type": "display_data",
     "data": {
      "text/plain": [
       "<Figure size 432x288 with 1 Axes>"
      ],
      "image/png": "[encoded data removed]"
     },
     "metadata": {
      "needs_background": "light"
     }
    }
   ]
  },
  {
   "cell_type": "code",
   "source": [
    "sns.distplot(fish_100000, kde = False, norm_hist = True, color = 'black')\n",
    "plt.plot(x, stats.norm.pdf(x = x, loc = 4, scale = 0.8,), color = 'black')"
   ],
   "metadata": {
    "colab": {
     "base_uri": "https://localhost:8080/",
     "height": 360
    },
    "id": "fPzeJyflXCV3",
    "executionInfo": {
     "status": "ok",
     "timestamp": 1672679472535,
     "user_tz": -540,
     "elapsed": 350,
     "user": {
      "displayName": "JIHAN KIM",
      "userId": "14820648192014375113"
     }
    },
    "outputId": "7f7cf617-31f9-416a-8e52-5db888b96855"
   },
   "execution_count": 19,
   "outputs": [
    {
     "output_type": "stream",
     "name": "stderr",
     "text": [
      "/usr/local/lib/python3.8/dist-packages/seaborn/distributions.py:2619: FutureWarning: `distplot` is a deprecated function and will be removed in a future version. Please adapt your code to use either `displot` (a figure-level function with similar flexibility) or `histplot` (an axes-level function for histograms).\n",
      "  warnings.warn(msg, FutureWarning)\n"
     ]
    },
    {
     "output_type": "execute_result",
     "data": {
      "text/plain": [
       "[<matplotlib.lines.Line2D at 0x7f67cd8f6c70>]"
      ]
     },
     "metadata": {},
     "execution_count": 19
    },
    {
     "output_type": "display_data",
     "data": {
      "text/plain": [
       "<Figure size 432x288 with 1 Axes>"
      ],
      "image/png": "[encoded data removed]"
     },
     "metadata": {
      "needs_background": "light"
     }
    }
   ]
  },
  {
   "cell_type": "code",
   "source": [
    "sampling_norm = stats.norm.rvs(loc = 4, scale = 0.8, size = 10)\n",
    "sampling_norm"
   ],
   "metadata": {
    "colab": {
     "base_uri": "https://localhost:8080/"
    },
    "id": "elEYa35HHO2q",
    "executionInfo": {
     "status": "ok",
     "timestamp": 1672679472535,
     "user_tz": -540,
     "elapsed": 4,
     "user": {
      "displayName": "JIHAN KIM",
      "userId": "14820648192014375113"
     }
    },
    "outputId": "71f06147-2657-42d4-bc66-f28bd5baac8a"
   },
   "execution_count": 20,
   "outputs": [
    {
     "output_type": "execute_result",
     "data": {
      "text/plain": [
       "array([4.037, 3.498, 4.322, 5.295, 5.499, 2.905, 4.437, 4.665, 3.786,\n",
       "       4.569])"
      ]
     },
     "metadata": {},
     "execution_count": 20
    }
   ]
  },
  {
   "cell_type": "code",
   "source": [
    "np.mean(sampling_norm)"
   ],
   "metadata": {
    "colab": {
     "base_uri": "https://localhost:8080/"
    },
    "id": "G-Fe7j6zH2SX",
    "executionInfo": {
     "status": "ok",
     "timestamp": 1672679472535,
     "user_tz": -540,
     "elapsed": 3,
     "user": {
      "displayName": "JIHAN KIM",
      "userId": "14820648192014375113"
     }
    },
    "outputId": "fbc087e9-764a-42bb-ad0c-ce07793aace7"
   },
   "execution_count": 21,
   "outputs": [
    {
     "output_type": "execute_result",
     "data": {
      "text/plain": [
       "4.301401664573935"
      ]
     },
     "metadata": {},
     "execution_count": 21
    }
   ]
  },
  {
   "cell_type": "code",
   "source": [],
   "metadata": {
    "id": "JVHL9-VMH9Dl",
    "executionInfo": {
     "status": "ok",
     "timestamp": 1672679472536,
     "user_tz": -540,
     "elapsed": 4,
     "user": {
      "displayName": "JIHAN KIM",
      "userId": "14820648192014375113"
     }
    }
   },
   "execution_count": 21,
   "outputs": []
  }
 ]
}
