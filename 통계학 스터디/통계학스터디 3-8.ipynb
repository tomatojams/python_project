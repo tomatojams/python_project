{
 "nbformat": 4,
 "nbformat_minor": 0,
 "metadata": {
  "colab": {
   "provenance": [],
   "authorship_tag": "ABX9TyMR4J4eMyPUUOMNYOVfQ7Hq"
  },
  "kernelspec": {
   "name": "python3",
   "language": "python",
   "display_name": "Python 3 (ipykernel)"
  },
  "language_info": {
   "name": "python"
  }
 },
 "cells": [
  {
   "cell_type": "markdown",
   "source": [
    "3.8 통계적 가설검정"
   ],
   "metadata": {
    "id": "htgvgVgIXv0u"
   }
  },
  {
   "cell_type": "code",
   "source": [
    "import numpy as np\n",
    "import pandas as pd\n",
    "import scipy as sp\n",
    "from scipy import stats\n",
    "\n",
    "from matplotlib import pyplot as pyplot\n",
    "import seaborn as sns\n",
    "sns.set()\n",
    "\n",
    "%precision 10\n",
    "\n",
    "%matplotlib inline"
   ],
   "metadata": {
    "id": "FBC6lzpQX0fF",
    "executionInfo": {
     "status": "ok",
     "timestamp": 1673473992058,
     "user_tz": -540,
     "elapsed": 286,
     "user": {
      "displayName": "JIHAN KIM",
      "userId": "14820648192014375113"
     }
    },
    "ExecuteTime": {
     "end_time": "2023-09-05T18:49:54.375569900Z",
     "start_time": "2023-09-05T18:49:54.360506700Z"
    }
   },
   "execution_count": 1,
   "outputs": []
  },
  {
   "cell_type": "code",
   "source": [
    "# 데이터 loading\n"
   ],
   "metadata": {
    "id": "H9Riv4P3bo2X",
    "colab": {
     "base_uri": "https://localhost:8080/"
    },
    "executionInfo": {
     "status": "ok",
     "timestamp": 1673474050824,
     "user_tz": -540,
     "elapsed": 2495,
     "user": {
      "displayName": "JIHAN KIM",
      "userId": "14820648192014375113"
     }
    },
    "outputId": "de65b321-1ad7-4593-bf28-b980a4e77134",
    "ExecuteTime": {
     "end_time": "2023-09-05T18:49:55.296856400Z",
     "start_time": "2023-09-05T18:49:55.287348600Z"
    }
   },
   "execution_count": 2,
   "outputs": []
  },
  {
   "cell_type": "code",
   "source": [
    "# 데이터 loading\n",
    "junk_food = pd.read_csv(\"data/3-8-1-junk-food-weight.csv\")[\"weight\"]\n",
    "junk_food.head()"
   ],
   "metadata": {
    "colab": {
     "base_uri": "https://localhost:8080/"
    },
    "id": "PPugUjh9cL98",
    "executionInfo": {
     "status": "ok",
     "timestamp": 1673474052785,
     "user_tz": -540,
     "elapsed": 294,
     "user": {
      "displayName": "JIHAN KIM",
      "userId": "14820648192014375113"
     }
    },
    "outputId": "67391e02-da84-4009-a266-5cab9349b3f4",
    "ExecuteTime": {
     "end_time": "2023-09-05T18:49:55.858178900Z",
     "start_time": "2023-09-05T18:49:55.837176200Z"
    }
   },
   "execution_count": 3,
   "outputs": [
    {
     "data": {
      "text/plain": "0    58.529820\n1    52.353039\n2    74.446169\n3    52.983263\n4    55.876879\nName: weight, dtype: float64"
     },
     "execution_count": 3,
     "metadata": {},
     "output_type": "execute_result"
    }
   ]
  },
  {
   "cell_type": "code",
   "source": [
    "mu = np.mean(junk_food)\n",
    "mu"
   ],
   "metadata": {
    "colab": {
     "base_uri": "https://localhost:8080/"
    },
    "id": "Ju6NTbDqckrc",
    "executionInfo": {
     "status": "ok",
     "timestamp": 1673473994528,
     "user_tz": -540,
     "elapsed": 7,
     "user": {
      "displayName": "JIHAN KIM",
      "userId": "14820648192014375113"
     }
    },
    "outputId": "e8ccd967-67cb-4fa7-d052-80f9a1306754",
    "ExecuteTime": {
     "end_time": "2023-09-05T18:49:58.106342500Z",
     "start_time": "2023-09-05T18:49:58.096347500Z"
    }
   },
   "execution_count": 4,
   "outputs": [
    {
     "data": {
      "text/plain": "55.3849661967"
     },
     "execution_count": 4,
     "metadata": {},
     "output_type": "execute_result"
    }
   ]
  },
  {
   "cell_type": "code",
   "source": [
    "df = len(junk_food) -1\n",
    "df"
   ],
   "metadata": {
    "colab": {
     "base_uri": "https://localhost:8080/"
    },
    "id": "npMKjfKoc3m_",
    "executionInfo": {
     "status": "ok",
     "timestamp": 1673473994528,
     "user_tz": -540,
     "elapsed": 6,
     "user": {
      "displayName": "JIHAN KIM",
      "userId": "14820648192014375113"
     }
    },
    "outputId": "4b0e6ab5-689b-417a-8084-7b04a53cc484",
    "ExecuteTime": {
     "end_time": "2023-09-05T18:49:58.992070700Z",
     "start_time": "2023-09-05T18:49:58.981562500Z"
    }
   },
   "execution_count": 5,
   "outputs": [
    {
     "data": {
      "text/plain": "19"
     },
     "execution_count": 5,
     "metadata": {},
     "output_type": "execute_result"
    }
   ]
  },
  {
   "cell_type": "code",
   "source": [
    "sigma = np.std(junk_food, ddof = 1)\n",
    "se = sigma/ np.sqrt(len(junk_food))\n",
    "se"
   ],
   "metadata": {
    "colab": {
     "base_uri": "https://localhost:8080/"
    },
    "id": "cnnmRWk7c88O",
    "executionInfo": {
     "status": "ok",
     "timestamp": 1673473994528,
     "user_tz": -540,
     "elapsed": 6,
     "user": {
      "displayName": "JIHAN KIM",
      "userId": "14820648192014375113"
     }
    },
    "outputId": "523f21ab-da32-4749-80a7-bb12613ff240",
    "ExecuteTime": {
     "end_time": "2023-09-05T18:50:00.998630800Z",
     "start_time": "2023-09-05T18:50:00.988632600Z"
    }
   },
   "execution_count": 6,
   "outputs": [
    {
     "data": {
      "text/plain": "1.9579276806"
     },
     "execution_count": 6,
     "metadata": {},
     "output_type": "execute_result"
    }
   ]
  },
  {
   "cell_type": "code",
   "source": [
    "t_value = (mu -50)/ se\n",
    "t_value"
   ],
   "metadata": {
    "colab": {
     "base_uri": "https://localhost:8080/"
    },
    "id": "CTTN_qz_dI8K",
    "executionInfo": {
     "status": "ok",
     "timestamp": 1673473994528,
     "user_tz": -540,
     "elapsed": 5,
     "user": {
      "displayName": "JIHAN KIM",
      "userId": "14820648192014375113"
     }
    },
    "outputId": "b6b98ddc-126f-411c-9b4a-224e9070539c",
    "ExecuteTime": {
     "end_time": "2023-09-05T18:50:01.875048400Z",
     "start_time": "2023-09-05T18:50:01.860043200Z"
    }
   },
   "execution_count": 7,
   "outputs": [
    {
     "data": {
      "text/plain": "2.7503396832"
     },
     "execution_count": 7,
     "metadata": {},
     "output_type": "execute_result"
    }
   ]
  },
  {
   "cell_type": "markdown",
   "source": [
    "3.8.15  t검정의 구현:P값 계산산"
   ],
   "metadata": {
    "id": "z0sDMM2NdX4G"
   }
  },
  {
   "cell_type": "code",
   "source": [
    "alpha = stats.t.cdf(t_value, df = df) #  cumulative distribution function으로 누적질량함수\n",
    "print(alpha)\n",
    "print((1-alpha)*2) #p값 0.05보다 작으므로 유의미한 차이가있다다"
   ],
   "metadata": {
    "colab": {
     "base_uri": "https://localhost:8080/"
    },
    "id": "AxhPPW1Cdcot",
    "executionInfo": {
     "status": "ok",
     "timestamp": 1673473994528,
     "user_tz": -540,
     "elapsed": 4,
     "user": {
      "displayName": "JIHAN KIM",
      "userId": "14820648192014375113"
     }
    },
    "outputId": "949518a8-8891-4dbb-efda-ccc9cd40724b",
    "ExecuteTime": {
     "end_time": "2023-09-05T18:50:04.444467100Z",
     "start_time": "2023-09-05T18:50:04.433469600Z"
    }
   },
   "execution_count": 8,
   "outputs": [
    {
     "name": "stdout",
     "output_type": "stream",
     "text": [
      "0.9936372049937379\n",
      "0.012725590012524268\n"
     ]
    }
   ]
  },
  {
   "cell_type": "code",
   "source": [
    "stats.ttest_1samp(junk_food, 50)"
   ],
   "metadata": {
    "id": "gi0Y2-pPmccG",
    "executionInfo": {
     "status": "ok",
     "timestamp": 1673473994529,
     "user_tz": -540,
     "elapsed": 5,
     "user": {
      "displayName": "JIHAN KIM",
      "userId": "14820648192014375113"
     }
    },
    "colab": {
     "base_uri": "https://localhost:8080/"
    },
    "outputId": "fc8b8848-b4ca-46d8-f831-9b96f10ba82a",
    "ExecuteTime": {
     "end_time": "2023-09-05T18:50:06.208204800Z",
     "start_time": "2023-09-05T18:50:06.179698800Z"
    }
   },
   "execution_count": 9,
   "outputs": [
    {
     "data": {
      "text/plain": "TtestResult(statistic=2.7503396831713434, pvalue=0.012725590012524155, df=19)"
     },
     "execution_count": 9,
     "metadata": {},
     "output_type": "execute_result"
    }
   ]
  },
  {
   "cell_type": "markdown",
   "source": [
    "3.8.16 시뮬레이션에 의한 p값 계산산"
   ],
   "metadata": {
    "id": "ZxBgDdcQwQRf"
   }
  },
  {
   "cell_type": "code",
   "source": [
    "size = len(junk_food)\n",
    "sigma = np.std(junk_food, ddof = 1)"
   ],
   "metadata": {
    "id": "6H2sa5zRwU5t",
    "executionInfo": {
     "status": "ok",
     "timestamp": 1673474062961,
     "user_tz": -540,
     "elapsed": 273,
     "user": {
      "displayName": "JIHAN KIM",
      "userId": "14820648192014375113"
     }
    },
    "ExecuteTime": {
     "end_time": "2023-09-05T18:50:07.921555300Z",
     "start_time": "2023-09-05T18:50:07.912556400Z"
    }
   },
   "execution_count": 10,
   "outputs": []
  },
  {
   "cell_type": "code",
   "source": [
    "t_value_array = np.zeros(50000)"
   ],
   "metadata": {
    "id": "vKNzPf9PzbVI",
    "executionInfo": {
     "status": "ok",
     "timestamp": 1673474064547,
     "user_tz": -540,
     "elapsed": 428,
     "user": {
      "displayName": "JIHAN KIM",
      "userId": "14820648192014375113"
     }
    },
    "ExecuteTime": {
     "end_time": "2023-09-05T18:50:08.840494800Z",
     "start_time": "2023-09-05T18:50:08.819494900Z"
    }
   },
   "execution_count": 11,
   "outputs": []
  },
  {
   "cell_type": "code",
   "source": [
    "np.random.seed(1)\n",
    "norm_dist = stats.norm(loc = 50, scale = sigma)\n",
    "for i in range(0, 50000):\n",
    "    sample = norm_dist.rvs(size = size)\n",
    "    sample_mean = np.mean(sample)\n",
    "    sample_std = np.std(sample, ddof = 1)\n",
    "    sample_se = sample_std/ np.sqrt(size)\n",
    "    t_value_array[i] = (sample_mean-50)/sample_se"
   ],
   "metadata": {
    "id": "DUW9pC_5zgqu",
    "executionInfo": {
     "status": "ok",
     "timestamp": 1673474203900,
     "user_tz": -540,
     "elapsed": 7028,
     "user": {
      "displayName": "JIHAN KIM",
      "userId": "14820648192014375113"
     }
    },
    "ExecuteTime": {
     "end_time": "2023-09-05T18:50:12.543730600Z",
     "start_time": "2023-09-05T18:50:09.893398Z"
    }
   },
   "execution_count": 12,
   "outputs": []
  },
  {
   "cell_type": "code",
   "source": [
    "(sum(t_value_array > t_value)/ 50000)*2"
   ],
   "metadata": {
    "colab": {
     "base_uri": "https://localhost:8080/"
    },
    "id": "_XXc8Maj0XCt",
    "executionInfo": {
     "status": "ok",
     "timestamp": 1673474206171,
     "user_tz": -540,
     "elapsed": 292,
     "user": {
      "displayName": "JIHAN KIM",
      "userId": "14820648192014375113"
     }
    },
    "outputId": "7bdbbcac-623c-47a0-d4b8-05b2505ecadd",
    "ExecuteTime": {
     "end_time": "2023-09-05T18:50:12.545733200Z",
     "start_time": "2023-09-05T18:50:12.531160200Z"
    }
   },
   "execution_count": 13,
   "outputs": [
    {
     "data": {
      "text/plain": "0.0132400000"
     },
     "execution_count": 13,
     "metadata": {},
     "output_type": "execute_result"
    }
   ]
  },
  {
   "cell_type": "code",
   "source": [
    "t_value_array"
   ],
   "metadata": {
    "colab": {
     "base_uri": "https://localhost:8080/"
    },
    "id": "5jlaEaqs1Srx",
    "executionInfo": {
     "status": "ok",
     "timestamp": 1673474208458,
     "user_tz": -540,
     "elapsed": 281,
     "user": {
      "displayName": "JIHAN KIM",
      "userId": "14820648192014375113"
     }
    },
    "outputId": "1d2fc59a-7383-4f2f-b610-523a573c35c3",
    "ExecuteTime": {
     "end_time": "2023-09-05T18:50:12.559740200Z",
     "start_time": "2023-09-05T18:50:12.545733200Z"
    }
   },
   "execution_count": 14,
   "outputs": [
    {
     "data": {
      "text/plain": "array([-0.5285689099, -0.2482674261,  1.0981957551, ...,  0.3641738474,\n       -0.0847088446,  0.087080833 ])"
     },
     "execution_count": 14,
     "metadata": {},
     "output_type": "execute_result"
    }
   ]
  },
  {
   "cell_type": "code",
   "execution_count": null,
   "outputs": [],
   "source": [],
   "metadata": {
    "collapsed": false
   }
  }
 ]
}
