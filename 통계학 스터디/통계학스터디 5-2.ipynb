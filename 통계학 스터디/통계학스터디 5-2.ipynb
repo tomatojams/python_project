{
 "nbformat": 4,
 "nbformat_minor": 0,
 "metadata": {
  "colab": {
   "provenance": [],
   "authorship_tag": "ABX9TyM2yRporEn5sLB8LO/hrtfJ"
  },
  "kernelspec": {
   "name": "python3",
   "language": "python",
   "display_name": "Python 3 (ipykernel)"
  },
  "language_info": {
   "name": "python"
  }
 },
 "cells": [
  {
   "cell_type": "code",
   "execution_count": 1,
   "metadata": {
    "id": "T6jPHueHawc9",
    "executionInfo": {
     "status": "ok",
     "timestamp": 1675840975712,
     "user_tz": -540,
     "elapsed": 613,
     "user": {
      "displayName": "JIHAN KIM",
      "userId": "14820648192014375113"
     }
    },
    "ExecuteTime": {
     "end_time": "2023-09-07T21:05:08.912407Z",
     "start_time": "2023-09-07T21:05:08.568694600Z"
    }
   },
   "outputs": [],
   "source": [
    "#5.2 분산 분석\n",
    "#5.2.8 분석 준비\n",
    "\n",
    "# 수치계산\n",
    "import numpy as np\n",
    "import pandas as pd\n",
    "import scipy as sp\n",
    "from scipy import stats\n",
    "\n",
    "#그래픽\n",
    "from matplotlib import pyplot as plt\n",
    "import seaborn as sns\n",
    "sns.set()\n",
    "\n",
    "# 통계모델 추정에 사용하는 라이브러리리\n",
    "import statsmodels.formula.api as smf\n",
    "import statsmodels.api as sm\n",
    "\n",
    "%precision 10\n",
    "%matplotlib inline"
   ]
  },
  {
   "cell_type": "code",
   "source": [
    "#5.2.9 데이터 작성과 표시\n",
    "\n",
    "#샘플 데이터\n",
    "weather = [\n",
    "    \"cloudy\",\"cloudy\",\n",
    "    \"rainy\",\"rainy\",\n",
    "    \"sunny\",\"sunny\"\n",
    "]\n",
    "\n",
    "beer = [6,8,2,4,10,12]\n",
    "\n",
    "weather_beer = pd.DataFrame({ # 딕션어리같은 포맷으로 행렬 데이타를 만듬\n",
    "    \"beer\":beer,\n",
    "    \"weather\": weather\n",
    "})\n",
    "\n",
    "print(weather_beer)"
   ],
   "metadata": {
    "colab": {
     "base_uri": "https://localhost:8080/"
    },
    "id": "BvinEzJH41TW",
    "executionInfo": {
     "status": "ok",
     "timestamp": 1675841185431,
     "user_tz": -540,
     "elapsed": 337,
     "user": {
      "displayName": "JIHAN KIM",
      "userId": "14820648192014375113"
     }
    },
    "outputId": "90b1786f-6df5-408f-fc7d-e0f468e596b8",
    "ExecuteTime": {
     "end_time": "2023-09-07T21:05:08.931595Z",
     "start_time": "2023-09-07T21:05:08.911400200Z"
    }
   },
   "execution_count": 2,
   "outputs": [
    {
     "name": "stdout",
     "output_type": "stream",
     "text": [
      "   beer weather\n",
      "0     6  cloudy\n",
      "1     8  cloudy\n",
      "2     2   rainy\n",
      "3     4   rainy\n",
      "4    10   sunny\n",
      "5    12   sunny\n"
     ]
    }
   ]
  },
  {
   "cell_type": "code",
   "source": [
    "sns.boxplot(x = \"weather\",y = \"beer\", data = weather_beer, color = 'gray')"
   ],
   "metadata": {
    "colab": {
     "base_uri": "https://localhost:8080/",
     "height": 303
    },
    "id": "orEkzpIr6cCa",
    "executionInfo": {
     "status": "ok",
     "timestamp": 1675841359530,
     "user_tz": -540,
     "elapsed": 490,
     "user": {
      "displayName": "JIHAN KIM",
      "userId": "14820648192014375113"
     }
    },
    "outputId": "4c0ad177-91ef-4be3-b7d8-7ccc70812ecb",
    "ExecuteTime": {
     "end_time": "2023-09-07T21:05:09.096583300Z",
     "start_time": "2023-09-07T21:05:08.934592Z"
    }
   },
   "execution_count": 3,
   "outputs": [
    {
     "name": "stderr",
     "output_type": "stream",
     "text": [
      "F:\\Anaconda3_envs\\tensor2\\lib\\site-packages\\seaborn\\_oldcore.py:1498: FutureWarning: is_categorical_dtype is deprecated and will be removed in a future version. Use isinstance(dtype, CategoricalDtype) instead\n",
      "  if pd.api.types.is_categorical_dtype(vector):\n",
      "F:\\Anaconda3_envs\\tensor2\\lib\\site-packages\\seaborn\\_oldcore.py:1498: FutureWarning: is_categorical_dtype is deprecated and will be removed in a future version. Use isinstance(dtype, CategoricalDtype) instead\n",
      "  if pd.api.types.is_categorical_dtype(vector):\n",
      "F:\\Anaconda3_envs\\tensor2\\lib\\site-packages\\seaborn\\_oldcore.py:1498: FutureWarning: is_categorical_dtype is deprecated and will be removed in a future version. Use isinstance(dtype, CategoricalDtype) instead\n",
      "  if pd.api.types.is_categorical_dtype(vector):\n"
     ]
    },
    {
     "data": {
      "text/plain": "<Axes: xlabel='weather', ylabel='beer'>"
     },
     "execution_count": 3,
     "metadata": {},
     "output_type": "execute_result"
    },
    {
     "data": {
      "text/plain": "<Figure size 640x480 with 1 Axes>",
      "image/png": "[encoded data removed]"
     },
     "metadata": {},
     "output_type": "display_data"
    }
   ]
  },
  {
   "cell_type": "code",
   "source": [
    "print(weather_beer.groupby(\"weather\").mean())"
   ],
   "metadata": {
    "id": "PQPeUUqO7iGl",
    "ExecuteTime": {
     "end_time": "2023-09-07T21:05:10.167557400Z",
     "start_time": "2023-09-07T21:05:10.142379300Z"
    }
   },
   "execution_count": 4,
   "outputs": [
    {
     "name": "stdout",
     "output_type": "stream",
     "text": [
      "         beer\n",
      "weather      \n",
      "cloudy    7.0\n",
      "rainy     3.0\n",
      "sunny    11.0\n"
     ]
    }
   ]
  },
  {
   "cell_type": "code",
   "execution_count": 5,
   "outputs": [
    {
     "name": "stdout",
     "output_type": "stream",
     "text": [
      "[ 0.  0. -4. -4.  4.  4.]\n",
      "64.0\n"
     ]
    }
   ],
   "source": [
    "effect = [7,7,3,3,11,11]\n",
    "mu_effect = np.mean(effect)\n",
    "squares_model = np.sum((effect-mu_effect)**2) #브로드캐스팅으로 모든 리스트값에서 뺌\n",
    "print(effect-mu_effect)\n",
    "print(squares_model)"
   ],
   "metadata": {
    "collapsed": false,
    "ExecuteTime": {
     "end_time": "2023-09-07T21:05:11.391564Z",
     "start_time": "2023-09-07T21:05:11.372408Z"
    }
   }
  },
  {
   "cell_type": "code",
   "execution_count": 6,
   "outputs": [
    {
     "data": {
      "text/plain": "0   -1\n1    1\n2   -1\n3    1\n4   -1\n5    1\nName: beer, dtype: int64"
     },
     "execution_count": 6,
     "metadata": {},
     "output_type": "execute_result"
    }
   ],
   "source": [
    "resid = weather_beer.beer - effect\n",
    "resid"
   ],
   "metadata": {
    "collapsed": false,
    "ExecuteTime": {
     "end_time": "2023-09-07T21:05:12.257393800Z",
     "start_time": "2023-09-07T21:05:12.228764800Z"
    }
   }
  },
  {
   "cell_type": "code",
   "execution_count": 7,
   "outputs": [
    {
     "data": {
      "text/plain": "6"
     },
     "execution_count": 7,
     "metadata": {},
     "output_type": "execute_result"
    }
   ],
   "source": [
    "squares_resid = np.sum(resid**2) # 6개의 군내 차의 제곱\n",
    "squares_resid"
   ],
   "metadata": {
    "collapsed": false,
    "ExecuteTime": {
     "end_time": "2023-09-07T21:05:13.617027500Z",
     "start_time": "2023-09-07T21:05:13.583471100Z"
    }
   }
  },
  {
   "cell_type": "code",
   "execution_count": 8,
   "outputs": [
    {
     "data": {
      "text/plain": "32.0000000000"
     },
     "execution_count": 8,
     "metadata": {},
     "output_type": "execute_result"
    }
   ],
   "source": [
    "#5.2.11 분산분석(2): 군간분석과 군내분산 계산\n",
    "\n",
    "df_model = 2\n",
    "df_resid = 3\n",
    "\n",
    "variance_model = squares_model / df_model # 3구간의 분산이므로 자유도가 2\n",
    "variance_model"
   ],
   "metadata": {
    "collapsed": false,
    "ExecuteTime": {
     "end_time": "2023-09-07T21:05:15.304699300Z",
     "start_time": "2023-09-07T21:05:15.283332900Z"
    }
   }
  },
  {
   "cell_type": "code",
   "execution_count": 9,
   "outputs": [
    {
     "data": {
      "text/plain": "2.0000000000"
     },
     "execution_count": 9,
     "metadata": {},
     "output_type": "execute_result"
    }
   ],
   "source": [
    "variance_resid = squares_resid/df_resid # 샘플사이즈6 수준이 3가지 6-3\n",
    "variance_resid"
   ],
   "metadata": {
    "collapsed": false,
    "ExecuteTime": {
     "end_time": "2023-09-07T21:05:16.184561400Z",
     "start_time": "2023-09-07T21:05:16.162685400Z"
    }
   }
  },
  {
   "cell_type": "code",
   "execution_count": 10,
   "outputs": [
    {
     "data": {
      "text/plain": "16.0000000000"
     },
     "execution_count": 10,
     "metadata": {},
     "output_type": "execute_result"
    }
   ],
   "source": [
    "#5.2.12 분산분석(3):p값 계산\n",
    "f_ratio = variance_model/variance_resid #군간분산/ 군내분산\n",
    "f_ratio"
   ],
   "metadata": {
    "collapsed": false,
    "ExecuteTime": {
     "end_time": "2023-09-07T21:05:17.239491900Z",
     "start_time": "2023-09-07T21:05:17.220454400Z"
    }
   }
  },
  {
   "cell_type": "code",
   "execution_count": 11,
   "outputs": [
    {
     "data": {
      "text/plain": "0.0250945733"
     },
     "execution_count": 11,
     "metadata": {},
     "output_type": "execute_result"
    }
   ],
   "source": [
    "1 - sp.stats.f.cdf(x = f_ratio, dfn = df_model, dfd = df_resid)"
   ],
   "metadata": {
    "collapsed": false,
    "ExecuteTime": {
     "end_time": "2023-09-07T21:05:18.309412500Z",
     "start_time": "2023-09-07T21:05:18.298384400Z"
    }
   }
  },
  {
   "cell_type": "code",
   "execution_count": 12,
   "outputs": [],
   "source": [
    "#5.2.13 독립변수가 카테고리형인 일반선형모델\n",
    "#5.2.14 더미변수"
   ],
   "metadata": {
    "collapsed": false,
    "ExecuteTime": {
     "end_time": "2023-09-07T21:05:19.190326200Z",
     "start_time": "2023-09-07T21:05:19.178226400Z"
    }
   }
  },
  {
   "cell_type": "code",
   "execution_count": 13,
   "outputs": [],
   "source": [
    "anova_model = smf.ols(\"beer ~weather\", data = weather_beer).fit()"
   ],
   "metadata": {
    "collapsed": false,
    "ExecuteTime": {
     "end_time": "2023-09-07T21:05:20.181333Z",
     "start_time": "2023-09-07T21:05:20.156256900Z"
    }
   }
  },
  {
   "cell_type": "code",
   "execution_count": 14,
   "outputs": [
    {
     "name": "stdout",
     "output_type": "stream",
     "text": [
      "          sum_sq   df     F    PR(>F)\n",
      "weather     64.0  2.0  16.0  0.025095\n",
      "Residual     6.0  3.0   NaN       NaN\n"
     ]
    }
   ],
   "source": [
    "print(sm.stats.anova_lm(anova_model, typ=2))"
   ],
   "metadata": {
    "collapsed": false,
    "ExecuteTime": {
     "end_time": "2023-09-07T21:05:21.128050800Z",
     "start_time": "2023-09-07T21:05:21.106590Z"
    }
   }
  },
  {
   "cell_type": "code",
   "execution_count": 15,
   "outputs": [
    {
     "data": {
      "text/plain": "Intercept           7.0\nweather[T.rainy]   -4.0\nweather[T.sunny]    4.0\ndtype: float64"
     },
     "execution_count": 15,
     "metadata": {},
     "output_type": "execute_result"
    }
   ],
   "source": [
    "#5.2.17 모델의 계수 해석\n",
    "anova_model.params"
   ],
   "metadata": {
    "collapsed": false,
    "ExecuteTime": {
     "end_time": "2023-09-07T21:05:21.874550100Z",
     "start_time": "2023-09-07T21:05:21.858515400Z"
    }
   }
  },
  {
   "cell_type": "code",
   "execution_count": 16,
   "outputs": [
    {
     "data": {
      "text/plain": "0     7.0\n1     7.0\n2     3.0\n3     3.0\n4    11.0\n5    11.0\ndtype: float64"
     },
     "execution_count": 16,
     "metadata": {},
     "output_type": "execute_result"
    }
   ],
   "source": [
    "#5.2.18 모델읠 사용해서 오차와 효과 분리하기\n",
    "fitted = anova_model.fitted = anova_model.fittedvalues\n",
    "fitted"
   ],
   "metadata": {
    "collapsed": false,
    "ExecuteTime": {
     "end_time": "2023-09-07T21:05:24.778474300Z",
     "start_time": "2023-09-07T21:05:24.767360800Z"
    }
   }
  },
  {
   "cell_type": "code",
   "execution_count": 17,
   "outputs": [
    {
     "data": {
      "text/plain": "0   -1.0\n1    1.0\n2   -1.0\n3    1.0\n4   -1.0\n5    1.0\ndtype: float64"
     },
     "execution_count": 17,
     "metadata": {},
     "output_type": "execute_result"
    }
   ],
   "source": [
    "anova_model.resid"
   ],
   "metadata": {
    "collapsed": false,
    "ExecuteTime": {
     "end_time": "2023-09-07T21:05:26.614513600Z",
     "start_time": "2023-09-07T21:05:26.599984500Z"
    }
   }
  },
  {
   "cell_type": "code",
   "execution_count": 18,
   "outputs": [],
   "source": [
    "# 5.2.19 회귀모델의 분산분석\n",
    "beer = pd.read_csv(\"data/5-1-1-beer.csv\")\n",
    "#모델추정\n",
    "lm_model = smf.ols(formula = \"beer ~ temperature\",data = beer).fit()"
   ],
   "metadata": {
    "collapsed": false,
    "ExecuteTime": {
     "end_time": "2023-09-07T21:05:30.831977600Z",
     "start_time": "2023-09-07T21:05:30.806392700Z"
    }
   }
  },
  {
   "cell_type": "code",
   "execution_count": 19,
   "outputs": [
    {
     "data": {
      "text/plain": "   beer  temperature\n0  45.3         20.5\n1  59.3         25.0\n2  40.4         10.0\n3  38.0         26.9\n4  37.0         15.8",
      "text/html": "<div>\n<style scoped>\n    .dataframe tbody tr th:only-of-type {\n        vertical-align: middle;\n    }\n\n    .dataframe tbody tr th {\n        vertical-align: top;\n    }\n\n    .dataframe thead th {\n        text-align: right;\n    }\n</style>\n<table border=\"1\" class=\"dataframe\">\n  <thead>\n    <tr style=\"text-align: right;\">\n      <th></th>\n      <th>beer</th>\n      <th>temperature</th>\n    </tr>\n  </thead>\n  <tbody>\n    <tr>\n      <th>0</th>\n      <td>45.3</td>\n      <td>20.5</td>\n    </tr>\n    <tr>\n      <th>1</th>\n      <td>59.3</td>\n      <td>25.0</td>\n    </tr>\n    <tr>\n      <th>2</th>\n      <td>40.4</td>\n      <td>10.0</td>\n    </tr>\n    <tr>\n      <th>3</th>\n      <td>38.0</td>\n      <td>26.9</td>\n    </tr>\n    <tr>\n      <th>4</th>\n      <td>37.0</td>\n      <td>15.8</td>\n    </tr>\n  </tbody>\n</table>\n</div>"
     },
     "execution_count": 19,
     "metadata": {},
     "output_type": "execute_result"
    }
   ],
   "source": [
    "beer.head()"
   ],
   "metadata": {
    "collapsed": false,
    "ExecuteTime": {
     "end_time": "2023-09-07T21:05:31.976326800Z",
     "start_time": "2023-09-07T21:05:31.945226500Z"
    }
   }
  },
  {
   "cell_type": "code",
   "execution_count": 20,
   "outputs": [],
   "source": [
    "df_lm_model = 1 # 모델의 자유도  독립변수 기울기, 절편 2-1\n",
    "df_lm_resid = 28 # 잔차의 자유도 샘플사이즈 30 에서 추정패러미터수 2\n"
   ],
   "metadata": {
    "collapsed": false,
    "ExecuteTime": {
     "end_time": "2023-09-07T21:05:35.711350400Z",
     "start_time": "2023-09-07T21:05:35.694290500Z"
    }
   }
  },
  {
   "cell_type": "code",
   "execution_count": 21,
   "outputs": [
    {
     "data": {
      "text/plain": "28.4469836885"
     },
     "execution_count": 21,
     "metadata": {},
     "output_type": "execute_result"
    }
   ],
   "source": [
    "#모델을 적용한 값\n",
    "lm_effect = lm_model.lm_effect = lm_model.fittedvalues\n",
    "#잔차\n",
    "lm_resid = lm_model.resid\n",
    "\n",
    "#기온의 효과의 크기\n",
    "mu = np.mean(lm_effect)\n",
    "squares_lm_model = np.sum((lm_effect - mu)**2)\n",
    "variance_lm_model = squares_lm_model/ df_lm_model\n",
    "\n",
    "#잔차의 크기\n",
    "squares_lm_resid = np.sum((lm_resid)**2)\n",
    "variance_lm_resid = squares_lm_resid / df_lm_resid\n",
    "\n",
    "#F비\n",
    "f_value_lm = variance_lm_model/variance_lm_resid\n",
    "f_value_lm"
   ],
   "metadata": {
    "collapsed": false,
    "ExecuteTime": {
     "end_time": "2023-09-07T21:05:36.328973100Z",
     "start_time": "2023-09-07T21:05:36.307451100Z"
    }
   }
  },
  {
   "cell_type": "code",
   "execution_count": 22,
   "outputs": [
    {
     "name": "stdout",
     "output_type": "stream",
     "text": [
      "                  sum_sq    df          F    PR(>F)\n",
      "temperature  1651.532489   1.0  28.446984  0.000011\n",
      "Residual     1625.582178  28.0        NaN       NaN\n"
     ]
    }
   ],
   "source": [
    "print(sm.stats.anova_lm(lm_model, typ=2))"
   ],
   "metadata": {
    "collapsed": false,
    "ExecuteTime": {
     "end_time": "2023-09-07T21:05:38.733336300Z",
     "start_time": "2023-09-07T21:05:38.712298200Z"
    }
   }
  },
  {
   "cell_type": "code",
   "execution_count": 24,
   "outputs": [
    {
     "data": {
      "text/plain": "<class 'statsmodels.iolib.summary.Summary'>\n\"\"\"\n                            OLS Regression Results                            \n==============================================================================\nDep. Variable:                   beer   R-squared:                       0.504\nModel:                            OLS   Adj. R-squared:                  0.486\nMethod:                 Least Squares   F-statistic:                     28.45\nDate:                Fri, 08 Sep 2023   Prob (F-statistic):           1.11e-05\nTime:                        06:05:49   Log-Likelihood:                -102.45\nNo. Observations:                  30   AIC:                             208.9\nDf Residuals:                      28   BIC:                             211.7\nDf Model:                           1                                         \nCovariance Type:            nonrobust                                         \n===============================================================================\n                  coef    std err          t      P>|t|      [0.025      0.975]\n-------------------------------------------------------------------------------\nIntercept      34.6102      3.235     10.699      0.000      27.984      41.237\ntemperature     0.7654      0.144      5.334      0.000       0.471       1.059\n==============================================================================\nOmnibus:                        0.587   Durbin-Watson:                   1.960\nProb(Omnibus):                  0.746   Jarque-Bera (JB):                0.290\nSkew:                          -0.240   Prob(JB):                        0.865\nKurtosis:                       2.951   Cond. No.                         52.5\n==============================================================================\n\nNotes:\n[1] Standard Errors assume that the covariance matrix of the errors is correctly specified.\n\"\"\"",
      "text/html": "<table class=\"simpletable\">\n<caption>OLS Regression Results</caption>\n<tr>\n  <th>Dep. Variable:</th>          <td>beer</td>       <th>  R-squared:         </th> <td>   0.504</td>\n</tr>\n<tr>\n  <th>Model:</th>                   <td>OLS</td>       <th>  Adj. R-squared:    </th> <td>   0.486</td>\n</tr>\n<tr>\n  <th>Method:</th>             <td>Least Squares</td>  <th>  F-statistic:       </th> <td>   28.45</td>\n</tr>\n<tr>\n  <th>Date:</th>             <td>Fri, 08 Sep 2023</td> <th>  Prob (F-statistic):</th> <td>1.11e-05</td>\n</tr>\n<tr>\n  <th>Time:</th>                 <td>06:05:49</td>     <th>  Log-Likelihood:    </th> <td> -102.45</td>\n</tr>\n<tr>\n  <th>No. Observations:</th>      <td>    30</td>      <th>  AIC:               </th> <td>   208.9</td>\n</tr>\n<tr>\n  <th>Df Residuals:</th>          <td>    28</td>      <th>  BIC:               </th> <td>   211.7</td>\n</tr>\n<tr>\n  <th>Df Model:</th>              <td>     1</td>      <th>                     </th>     <td> </td>   \n</tr>\n<tr>\n  <th>Covariance Type:</th>      <td>nonrobust</td>    <th>                     </th>     <td> </td>   \n</tr>\n</table>\n<table class=\"simpletable\">\n<tr>\n       <td></td>          <th>coef</th>     <th>std err</th>      <th>t</th>      <th>P>|t|</th>  <th>[0.025</th>    <th>0.975]</th>  \n</tr>\n<tr>\n  <th>Intercept</th>   <td>   34.6102</td> <td>    3.235</td> <td>   10.699</td> <td> 0.000</td> <td>   27.984</td> <td>   41.237</td>\n</tr>\n<tr>\n  <th>temperature</th> <td>    0.7654</td> <td>    0.144</td> <td>    5.334</td> <td> 0.000</td> <td>    0.471</td> <td>    1.059</td>\n</tr>\n</table>\n<table class=\"simpletable\">\n<tr>\n  <th>Omnibus:</th>       <td> 0.587</td> <th>  Durbin-Watson:     </th> <td>   1.960</td>\n</tr>\n<tr>\n  <th>Prob(Omnibus):</th> <td> 0.746</td> <th>  Jarque-Bera (JB):  </th> <td>   0.290</td>\n</tr>\n<tr>\n  <th>Skew:</th>          <td>-0.240</td> <th>  Prob(JB):          </th> <td>   0.865</td>\n</tr>\n<tr>\n  <th>Kurtosis:</th>      <td> 2.951</td> <th>  Cond. No.          </th> <td>    52.5</td>\n</tr>\n</table><br/><br/>Notes:<br/>[1] Standard Errors assume that the covariance matrix of the errors is correctly specified.",
      "text/latex": "\\begin{center}\n\\begin{tabular}{lclc}\n\\toprule\n\\textbf{Dep. Variable:}    &       beer       & \\textbf{  R-squared:         } &     0.504   \\\\\n\\textbf{Model:}            &       OLS        & \\textbf{  Adj. R-squared:    } &     0.486   \\\\\n\\textbf{Method:}           &  Least Squares   & \\textbf{  F-statistic:       } &     28.45   \\\\\n\\textbf{Date:}             & Fri, 08 Sep 2023 & \\textbf{  Prob (F-statistic):} &  1.11e-05   \\\\\n\\textbf{Time:}             &     06:05:49     & \\textbf{  Log-Likelihood:    } &   -102.45   \\\\\n\\textbf{No. Observations:} &          30      & \\textbf{  AIC:               } &     208.9   \\\\\n\\textbf{Df Residuals:}     &          28      & \\textbf{  BIC:               } &     211.7   \\\\\n\\textbf{Df Model:}         &           1      & \\textbf{                     } &             \\\\\n\\textbf{Covariance Type:}  &    nonrobust     & \\textbf{                     } &             \\\\\n\\bottomrule\n\\end{tabular}\n\\begin{tabular}{lcccccc}\n                     & \\textbf{coef} & \\textbf{std err} & \\textbf{t} & \\textbf{P$> |$t$|$} & \\textbf{[0.025} & \\textbf{0.975]}  \\\\\n\\midrule\n\\textbf{Intercept}   &      34.6102  &        3.235     &    10.699  &         0.000        &       27.984    &       41.237     \\\\\n\\textbf{temperature} &       0.7654  &        0.144     &     5.334  &         0.000        &        0.471    &        1.059     \\\\\n\\bottomrule\n\\end{tabular}\n\\begin{tabular}{lclc}\n\\textbf{Omnibus:}       &  0.587 & \\textbf{  Durbin-Watson:     } &    1.960  \\\\\n\\textbf{Prob(Omnibus):} &  0.746 & \\textbf{  Jarque-Bera (JB):  } &    0.290  \\\\\n\\textbf{Skew:}          & -0.240 & \\textbf{  Prob(JB):          } &    0.865  \\\\\n\\textbf{Kurtosis:}      &  2.951 & \\textbf{  Cond. No.          } &     52.5  \\\\\n\\bottomrule\n\\end{tabular}\n%\\caption{OLS Regression Results}\n\\end{center}\n\nNotes: \\newline\n [1] Standard Errors assume that the covariance matrix of the errors is correctly specified."
     },
     "execution_count": 24,
     "metadata": {},
     "output_type": "execute_result"
    }
   ],
   "source": [
    "lm_model.summary()"
   ],
   "metadata": {
    "collapsed": false,
    "ExecuteTime": {
     "end_time": "2023-09-07T21:05:49.547092700Z",
     "start_time": "2023-09-07T21:05:49.520071600Z"
    }
   }
  },
  {
   "cell_type": "markdown",
   "source": [],
   "metadata": {
    "collapsed": false
   }
  }
 ]
}
