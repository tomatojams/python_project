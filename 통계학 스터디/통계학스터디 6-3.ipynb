{
 "cells": [
  {
   "cell_type": "code",
   "execution_count": 2,
   "metadata": {
    "collapsed": true
   },
   "outputs": [],
   "source": [
    "import numpy as np\n",
    "import pandas as pd\n",
    "import scipy as sp\n",
    "from scipy import stats\n",
    "\n",
    "from matplotlib import pyplot as plt\n",
    "import seaborn as sns\n",
    "sns.set()\n",
    "\n",
    "import statsmodels.formula.api as smf\n",
    "import statsmodels.api as sm\n",
    "\n",
    "%precision 10\n",
    "\n",
    "%matplotlib inline"
   ]
  },
  {
   "cell_type": "code",
   "execution_count": 3,
   "outputs": [
    {
     "name": "stdout",
     "output_type": "stream",
     "text": [
      "   hours  result\n",
      "0      0       0\n",
      "1      0       0\n",
      "2      0       0\n",
      "3      0       0\n",
      "4      0       0\n"
     ]
    }
   ],
   "source": [
    "test_result = pd.read_csv(\"data/6-3-1-logistic-regression.csv\")\n",
    "print(test_result.head())"
   ],
   "metadata": {
    "collapsed": false
   }
  },
  {
   "cell_type": "code",
   "execution_count": 4,
   "outputs": [
    {
     "data": {
      "text/plain": "<AxesSubplot: xlabel='hours', ylabel='result'>"
     },
     "execution_count": 4,
     "metadata": {},
     "output_type": "execute_result"
    },
    {
     "data": {
      "text/plain": "<Figure size 640x480 with 1 Axes>",
      "image/png": "[encoded data removed]"
     },
     "metadata": {},
     "output_type": "display_data"
    }
   ],
   "source": [
    "sns.barplot(x='hours', y='result', data=test_result)"
   ],
   "metadata": {
    "collapsed": false
   }
  },
  {
   "cell_type": "code",
   "execution_count": 5,
   "outputs": [
    {
     "name": "stdout",
     "output_type": "stream",
     "text": [
      "       result\n",
      "hours        \n",
      "0         0.0\n",
      "1         0.0\n",
      "2         0.1\n",
      "3         0.1\n",
      "4         0.4\n",
      "5         0.4\n",
      "6         0.9\n",
      "7         0.8\n",
      "8         0.9\n",
      "9         1.0\n"
     ]
    }
   ],
   "source": [
    "print(test_result.groupby('hours').mean())"
   ],
   "metadata": {
    "collapsed": false
   }
  },
  {
   "cell_type": "code",
   "execution_count": 9,
   "outputs": [],
   "source": [
    "mod_glm = smf.glm(formula = \"result ~ hours\",\n",
    "                   data = test_result,\n",
    "                   family = sm.families.Binomial()).fit() #이항분포 모델지정\n",
    "#확률분포, 예측자, 링크함수. 이항분포에서 링크함수를 지정하지 않으면 자동으로 로짓함수가 지정\n",
    "# 푸아송은 자동으로 로그함수\n",
    "# sm.familes.Binomial(link = sm.families.links.logit)으로 명시적으로 로짓함수로 지정가능"
   ],
   "metadata": {
    "collapsed": false
   }
  },
  {
   "cell_type": "code",
   "execution_count": 10,
   "outputs": [
    {
     "data": {
      "text/plain": "<class 'statsmodels.iolib.summary.Summary'>\n\"\"\"\n                 Generalized Linear Model Regression Results                  \n==============================================================================\nDep. Variable:                 result   No. Observations:                  100\nModel:                            GLM   Df Residuals:                       98\nModel Family:                Binomial   Df Model:                            1\nLink Function:                  Logit   Scale:                          1.0000\nMethod:                          IRLS   Log-Likelihood:                -34.014\nDate:                Sat, 25 Feb 2023   Deviance:                       68.028\nTime:                        06:52:45   Pearson chi2:                     84.9\nNo. Iterations:                     6   Pseudo R-squ. (CS):             0.5032\nCovariance Type:            nonrobust                                         \n==============================================================================\n                 coef    std err          z      P>|z|      [0.025      0.975]\n------------------------------------------------------------------------------\nIntercept     -4.5587      0.901     -5.061      0.000      -6.324      -2.793\nhours          0.9289      0.174      5.345      0.000       0.588       1.270\n==============================================================================\n\"\"\"",
      "text/html": "<table class=\"simpletable\">\n<caption>Generalized Linear Model Regression Results</caption>\n<tr>\n  <th>Dep. Variable:</th>        <td>result</td>      <th>  No. Observations:  </th>  <td>   100</td> \n</tr>\n<tr>\n  <th>Model:</th>                  <td>GLM</td>       <th>  Df Residuals:      </th>  <td>    98</td> \n</tr>\n<tr>\n  <th>Model Family:</th>        <td>Binomial</td>     <th>  Df Model:          </th>  <td>     1</td> \n</tr>\n<tr>\n  <th>Link Function:</th>         <td>Logit</td>      <th>  Scale:             </th> <td>  1.0000</td>\n</tr>\n<tr>\n  <th>Method:</th>                <td>IRLS</td>       <th>  Log-Likelihood:    </th> <td> -34.014</td>\n</tr>\n<tr>\n  <th>Date:</th>            <td>Sat, 25 Feb 2023</td> <th>  Deviance:          </th> <td>  68.028</td>\n</tr>\n<tr>\n  <th>Time:</th>                <td>06:52:45</td>     <th>  Pearson chi2:      </th>  <td>  84.9</td> \n</tr>\n<tr>\n  <th>No. Iterations:</th>          <td>6</td>        <th>  Pseudo R-squ. (CS):</th>  <td>0.5032</td> \n</tr>\n<tr>\n  <th>Covariance Type:</th>     <td>nonrobust</td>    <th>                     </th>     <td> </td>   \n</tr>\n</table>\n<table class=\"simpletable\">\n<tr>\n      <td></td>         <th>coef</th>     <th>std err</th>      <th>z</th>      <th>P>|z|</th>  <th>[0.025</th>    <th>0.975]</th>  \n</tr>\n<tr>\n  <th>Intercept</th> <td>   -4.5587</td> <td>    0.901</td> <td>   -5.061</td> <td> 0.000</td> <td>   -6.324</td> <td>   -2.793</td>\n</tr>\n<tr>\n  <th>hours</th>     <td>    0.9289</td> <td>    0.174</td> <td>    5.345</td> <td> 0.000</td> <td>    0.588</td> <td>    1.270</td>\n</tr>\n</table>"
     },
     "execution_count": 10,
     "metadata": {},
     "output_type": "execute_result"
    }
   ],
   "source": [
    "mod_glm.summary()"
   ],
   "metadata": {
    "collapsed": false
   }
  },
  {
   "cell_type": "code",
   "execution_count": 12,
   "outputs": [],
   "source": [
    "mod_glm_null = smf.glm(\n",
    "    \"result ~ 1\", data= test_result,\n",
    "    family = sm.families.Binomial()).fit()"
   ],
   "metadata": {
    "collapsed": false
   }
  },
  {
   "cell_type": "code",
   "execution_count": 16,
   "outputs": [
    {
     "name": "stdout",
     "output_type": "stream",
     "text": [
      "Null 모델:  139.989\n",
      "변수가 있는 모델: 72.028\n"
     ]
    }
   ],
   "source": [
    "print(\"Null 모델: \", mod_glm_null.aic.round(3))\n",
    "print(\"변수가 있는 모델:\",  mod_glm.aic.round(3))"
   ],
   "metadata": {
    "collapsed": false
   }
  },
  {
   "cell_type": "code",
   "execution_count": 17,
   "outputs": [
    {
     "data": {
      "text/plain": "<seaborn.axisgrid.FacetGrid at 0x1d9f2037b10>"
     },
     "execution_count": 17,
     "metadata": {},
     "output_type": "execute_result"
    },
    {
     "data": {
      "text/plain": "<Figure size 500x500 with 1 Axes>",
      "image/png": "[encoded data removed]"
     },
     "metadata": {},
     "output_type": "display_data"
    }
   ],
   "source": [
    "sns.lmplot(x= 'hours', y='result',\n",
    "           data= test_result,\n",
    "           logistic= True)"
   ],
   "metadata": {
    "collapsed": false
   }
  },
  {
   "cell_type": "code",
   "execution_count": 24,
   "outputs": [
    {
     "data": {
      "text/plain": "0    0.010367\n1    0.025836\n2    0.062920\n3    0.145291\n4    0.300876\n5    0.521427\n6    0.733929\n7    0.874741\n8    0.946467\n9    0.978147\ndtype: float64"
     },
     "execution_count": 24,
     "metadata": {},
     "output_type": "execute_result"
    }
   ],
   "source": [
    "exp_val = pd.DataFrame({\n",
    "    'hours':np.arange(0, 10, 1)\n",
    "})\n",
    "\n",
    "pred = mod_glm.predict(exp_val)\n",
    "pred"
   ],
   "metadata": {
    "collapsed": false
   }
  },
  {
   "cell_type": "code",
   "execution_count": 27,
   "outputs": [],
   "source": [
    "# 6.3.17 로지스틱 회귀계수와 오즈비의 관계\n",
    "\n",
    "exp_val_1 = pd.DataFrame({\"hours\": [1]})\n",
    "pred_1 = mod_glm.predict(exp_val_1)\n",
    "\n",
    "exp_val_2 = pd.DataFrame({\"hours\": [2]})\n",
    "pred_2 = mod_glm.predict(exp_val_2)"
   ],
   "metadata": {
    "collapsed": false
   }
  },
  {
   "cell_type": "code",
   "execution_count": 28,
   "outputs": [
    {
     "name": "stdout",
     "output_type": "stream",
     "text": [
      "0    0.025836\n",
      "dtype: float64 0    0.06292\n",
      "dtype: float64\n"
     ]
    }
   ],
   "source": [
    "print(pred_1, pred_2)"
   ],
   "metadata": {
    "collapsed": false
   }
  },
  {
   "cell_type": "code",
   "execution_count": 30,
   "outputs": [
    {
     "name": "stderr",
     "output_type": "stream",
     "text": [
      "C:\\Users\\tomat\\AppData\\Local\\Temp\\ipykernel_11568\\693731444.py:3: DeprecationWarning: scipy.log is deprecated and will be removed in SciPy 2.0.0, use numpy.lib.scimath.log instead\n",
      "  sp.log(odds_2/odds_1)\n"
     ]
    },
    {
     "data": {
      "text/plain": "array([0.9288901756])"
     },
     "execution_count": 30,
     "metadata": {},
     "output_type": "execute_result"
    }
   ],
   "source": [
    "odds_1 = pred_1/(1-pred_1)\n",
    "odds_2 = pred_2/(1-pred_2)\n",
    "sp.log(odds_2/odds_1)"
   ],
   "metadata": {
    "collapsed": false
   }
  },
  {
   "cell_type": "code",
   "execution_count": 31,
   "outputs": [
    {
     "data": {
      "text/plain": "0.9288901756"
     },
     "execution_count": 31,
     "metadata": {},
     "output_type": "execute_result"
    }
   ],
   "source": [
    "mod_glm.params['hours']"
   ],
   "metadata": {
    "collapsed": false
   }
  },
  {
   "cell_type": "code",
   "execution_count": 32,
   "outputs": [
    {
     "name": "stderr",
     "output_type": "stream",
     "text": [
      "C:\\Users\\tomat\\AppData\\Local\\Temp\\ipykernel_11568\\2961665049.py:1: DeprecationWarning: scipy.exp is deprecated and will be removed in SciPy 2.0.0, use numpy.exp instead\n",
      "  sp.exp(mod_glm.params['hours'])\n"
     ]
    },
    {
     "data": {
      "text/plain": "2.5316978779"
     },
     "execution_count": 32,
     "metadata": {},
     "output_type": "execute_result"
    }
   ],
   "source": [
    "sp.exp(mod_glm.params['hours'])"
   ],
   "metadata": {
    "collapsed": false
   }
  },
  {
   "cell_type": "code",
   "execution_count": null,
   "outputs": [],
   "source": [],
   "metadata": {
    "collapsed": false
   }
  }
 ],
 "metadata": {
  "kernelspec": {
   "display_name": "Python 3",
   "language": "python",
   "name": "python3"
  },
  "language_info": {
   "codemirror_mode": {
    "name": "ipython",
    "version": 2
   },
   "file_extension": ".py",
   "mimetype": "text/x-python",
   "name": "python",
   "nbconvert_exporter": "python",
   "pygments_lexer": "ipython2",
   "version": "2.7.6"
  }
 },
 "nbformat": 4,
 "nbformat_minor": 0
}
