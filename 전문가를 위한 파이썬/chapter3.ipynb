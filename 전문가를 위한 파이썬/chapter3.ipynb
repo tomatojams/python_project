{
 "cells": [
  {
   "cell_type": "code",
   "execution_count": 5,
   "id": "initial_id",
   "metadata": {
    "collapsed": true,
    "ExecuteTime": {
     "end_time": "2023-09-13T18:25:50.519720300Z",
     "start_time": "2023-09-13T18:25:50.507720100Z"
    }
   },
   "outputs": [
    {
     "data": {
      "text/plain": "True"
     },
     "execution_count": 5,
     "metadata": {},
     "output_type": "execute_result"
    }
   ],
   "source": [
    "my_dict ={}\n",
    "import collections\n",
    "isinstance(my_dict, collections.abc.Mapping)\n"
   ]
  },
  {
   "cell_type": "raw",
   "source": [
    "질문: 파이썬 dict형의 Mapping 및 MutableMapping에 대해서 "
   ],
   "metadata": {
    "collapsed": false
   },
   "id": "3e5b3d93698334ca"
  },
  {
   "cell_type": "markdown",
   "source": [
    "\n",
    "\n",
    "답변:\n",
    "물론입니다! 파이썬에서의 `dict`는 데이터를 저장하는 데에 사용되는 중요한 데이터 구조 중 하나입니다. `dict`는 키(key)와 값(value)의 쌍으로 데이터를 저장하며, 이를 통해 우리는 특정한 키를 사용하여 해당 키에 연결된 값을 얻을 수 있습니다. 이해를 돕기 위해 간단한 예시를 들어보겠습니다.\n",
    "\n",
    "예를 들어, 우리가 사람들의 이름과 나이를 저장하려고 한다고 가정해봅시다. 이를 `dict`로 표현하면 다음과 같습니다:\n",
    "\n",
    "```python\n",
    "people = {\n",
    "    \"Alice\": 25,\n",
    "    \"Bob\": 30,\n",
    "    \"Charlie\": 22\n",
    "}\n",
    "```\n",
    "여기서 \"Alice\", \"Bob\", \"Charlie\"는 각각 키이며, 25, 30, 22는 각각 그 키에 연결된 값입니다. 이제 특정 사람의 나이를 얻고 싶다면, 해당 사람의 이름을 사용하여 값을 찾을 수 있습니다.\n",
    "\n",
    "```python\n",
    "print(people[\"Alice\"])  # 출력 결과: 25\n",
    "```\n",
    "\n",
    "이제 `Mapping` 및 `MutableMapping`에 대해 이야기해 봅시다.\n",
    "\n",
    "1. `Mapping`: 이것은 파이썬에서 `dict`와 같은 데이터 구조를 구현하는데 사용되는 추상 베이스 클래스입니다. `Mapping`은 키-값 쌍을 저장하고, 특정 키를 사용하여 값을 얻을 수 있는 기능을 제공합니다. 하지만 `Mapping` 자체로는 변경이 불가능합니다. 즉, 한 번 생성되면 키-값 쌍을 추가하거나 삭제할 수 없습니다.\n",
    "\n",
    "2. `MutableMapping`: 이것은 `Mapping`의 서브클래스로, `Mapping`의 모든 기능을 포함하면서도 추가로 키-값 쌍을 추가하거나 삭제할 수 있는 기능을 제공합니다. `MutableMapping`을 사용하면 `dict`와 유사한 변경 가능한 데이터 구조를 만들 수 있습니다.\n",
    "\n",
    "따라서, `dict`는 `MutableMapping`의 구현체로 생각할 수 있으며, 키와 값의 쌍을 저장하고 필요한 경우에 변경할 수 있습니다.\n",
    "\n",
    "요약하자면, `dict`는 파이썬에서 키-값 쌍을 저장하는 유용한 데이터 구조이며, `Mapping`은 키-값 쌍을 저장하기 위한 추상 베이스 클래스이며, `MutableMapping`은 `Mapping`을 확장하여 변경 가능한 키-값 쌍 저장소를 만드는 데 사용됩니다.\n"
   ],
   "metadata": {
    "collapsed": false
   },
   "id": "a5c57d70e3c123f0"
  },
  {
   "cell_type": "markdown",
   "source": [
    "'해시가능'에 대해서:\n",
    "\n",
    "해시 가능하다는 것은 어떤 객체나 값을 특별한 숫자로 변환할 수 있는 능력을 의미합니다. 이렇게 변환된 숫자를 해시값이라고 합니다. 중학생도 이해할 수 있게 설명하면, 해시값은 마치 각각의 객체나 값에게 주어진 고유한 번호 같다고 생각할 수 있습니다.\n",
    "\n",
    "여기서 중요한 점은 두 가지입니다:\n",
    "\n",
    "1. **불변성 (Immutable)**: 해시 가능한 객체는 바뀌지 않는 불변 객체여야 합니다. 예를 들어, 숫자, 문자열, 튜플과 같이 값을 바꿀 수 없는 것들이 해시 가능합니다. 하지만 리스트와 같이 값을 바꿀 수 있는 객체는 해시 가능하지 않습니다.\n",
    "\n",
    "2. **유일성 (Uniqueness)**: 같은 입력에 대해 항상 같은 해시값을 생성해야 합니다. 즉, 두 번째로 같은 객체를 해시하면 항상 두 번째 해시값이 첫 번째와 같아야 합니다.\n",
    "\n",
    "예를 들어, 문자열 \"hello\"는 항상 같은 해시값을 가지며, 다른 문자열 \"world\"는 다른 해시값을 가집니다. 이것이 중요한 이유 중 하나는 해시 가능한 객체를 사용하면 데이터를 검색하고 정렬하는 데 효율적으로 사용할 수 있다는 것입니다.\n",
    "\n",
    "간단히 말하면, 해시 가능하다는 것은 객체나 값에 고유한 번호를 부여할 수 있고, 그것을 사용하여 빠르게 정보를 관리할 수 있다는 의미입니다."
   ],
   "metadata": {
    "collapsed": false
   },
   "id": "e982c29f017455fd"
  },
  {
   "cell_type": "code",
   "execution_count": 7,
   "outputs": [
    {
     "data": {
      "text/plain": "True"
     },
     "execution_count": 7,
     "metadata": {},
     "output_type": "execute_result"
    }
   ],
   "source": [
    "a = dict( one = 1, two = 2, three = 3)\n",
    "b = { 'one' : 1, 'two' : 2, 'three': 3}\n",
    "c = dict([('two',2),('one',1),('three',3)])\n",
    "d = dict({'three':3, 'one':1, 'two':2})\n",
    "\n",
    "a == b == c == d"
   ],
   "metadata": {
    "collapsed": false,
    "ExecuteTime": {
     "end_time": "2023-09-13T18:41:32.744728Z",
     "start_time": "2023-09-13T18:41:32.698725400Z"
    }
   },
   "id": "92a84d0dc633f63e"
  },
  {
   "cell_type": "code",
   "execution_count": null,
   "outputs": [],
   "source": [],
   "metadata": {
    "collapsed": false
   },
   "id": "5c142c0a5bc3b874"
  }
 ],
 "metadata": {
  "kernelspec": {
   "display_name": "Python 3",
   "language": "python",
   "name": "python3"
  },
  "language_info": {
   "codemirror_mode": {
    "name": "ipython",
    "version": 2
   },
   "file_extension": ".py",
   "mimetype": "text/x-python",
   "name": "python",
   "nbconvert_exporter": "python",
   "pygments_lexer": "ipython2",
   "version": "2.7.6"
  }
 },
 "nbformat": 4,
 "nbformat_minor": 5
}
