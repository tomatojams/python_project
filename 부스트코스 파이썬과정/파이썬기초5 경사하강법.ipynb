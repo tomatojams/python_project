{
 "cells": [
  {
   "cell_type": "code",
   "execution_count": 1,
   "metadata": {
    "collapsed": true
   },
   "outputs": [
    {
     "name": "stdout",
     "output_type": "stream",
     "text": [
      "함수: Poly(x**2 + 2*x + 3, x, domain='ZZ'), 연산횟수: 508, 최소점:(-1.00000491928468,Poly(x**2 + 2*x + 3, x, domain='ZZ'))\n"
     ]
    }
   ],
   "source": [
    "import sympy as sym # 수학기호로 표현\n",
    "from sympy.abc import x, y #x 항\n",
    "import numpy as np\n",
    "\n",
    "def func(val): #함수생성\n",
    "    fun = sym.poly(x**2 + 2*x + 3)\n",
    "    return fun\n",
    "\n",
    "def func_gradient(fun, val): # 함수를 받아서 미분한뒤 인자를 넣어서 리턴\n",
    "    function = fun(val)\n",
    "    diff = sym.diff(function, x)\n",
    "    return diff.subs(x,val)\n",
    "\n",
    "def gradient_descent(fun, init_point, Ir_rate = 1e-2, epsilon = 1e-5):\n",
    "\n",
    "    cnt = 0\n",
    "    val = init_point\n",
    "    diff= func_gradient(fun, init_point)   # 함수와 인자를 를 받아서 미분값\n",
    "\n",
    "    while np.abs(diff) > epsilon:\n",
    "        val = val - Ir_rate* diff # 미분값의 절대값을 점점 작아지는 방향으로 변수를 이동\n",
    "        diff = func_gradient(fun, val) # 위의 변수일때 미분값\n",
    "        cnt += 1\n",
    "\n",
    "    print(\"함수: {}, 연산횟수: {}, 최소점:({},{})\".format(fun(val), cnt, val, fun(val)))\n",
    "\n",
    "gradient_descent(func, np.random.uniform(-2,2))"
   ]
  },
  {
   "cell_type": "code",
   "execution_count": 2,
   "outputs": [
    {
     "name": "stderr",
     "output_type": "stream",
     "text": [
      "C:\\Users\\tomat\\AppData\\Local\\Temp\\ipykernel_15100\\976591740.py:5: SymPyDeprecationWarning: \n",
      "\n",
      "Mixing Poly with non-polynomial expressions in binary\n",
      "operations is deprecated. Either explicitly convert\n",
      "the non-Poly operand to a Poly with as_poly() or\n",
      "convert the Poly to an Expr with as_expr().\n",
      "\n",
      "See https://docs.sympy.org/latest/explanation/active-deprecations.html#deprecated-poly-nonpoly-binary-operations\n",
      "for details.\n",
      "\n",
      "This has been deprecated since SymPy version 1.6. It\n",
      "will be removed in a future version of SymPy.\n",
      "\n",
      "  sym.diff(sym.poly(x**2 + 2*x*y + 3) + sym.cos(x + 2*y),x)\n"
     ]
    },
    {
     "data": {
      "text/plain": "2*x + 2*y - sin(x + 2*y)",
      "text/latex": "$\\displaystyle 2 x + 2 y - \\sin{\\left(x + 2 y \\right)}$"
     },
     "execution_count": 2,
     "metadata": {},
     "output_type": "execute_result"
    }
   ],
   "source": [
    "import sympy as sym # 수학기호로 표현\n",
    "from sympy.abc import x, y #x 항\n",
    "import numpy as np\n",
    "\n",
    "sym.diff(sym.poly(x**2 + 2*x*y + 3) + sym.cos(x + 2*y),x)\n"
   ],
   "metadata": {
    "collapsed": false
   }
  },
  {
   "cell_type": "code",
   "execution_count": 3,
   "outputs": [
    {
     "name": "stdout",
     "output_type": "stream",
     "text": [
      "함수: (2.40634410962781e-11, Poly(x**2 + 2*y**2, x, y, domain='ZZ')), 연산횟수: 593, 최소점:([-4.90545014e-06  5.06993889e-11],2.40634410962781E-11)\n"
     ]
    }
   ],
   "source": [
    "import sympy as sym # 수학기호로 표현\n",
    "from sympy.abc import x, y #x 항\n",
    "import numpy as np\n",
    "\n",
    "def eval_(fun, val):\n",
    "    val_x, val_y = val\n",
    "    fun_eval = fun.subs(x, val_x).subs(y, val_y)\n",
    "    return fun_eval\n",
    "\n",
    "def func_multi(val):\n",
    "    x_, y_ = val\n",
    "    func = sym.poly( x**2 + 2*y**2)\n",
    "    return eval_(func,[x_,y_]), func\n",
    "\n",
    "def func_gradient(fun, val): # 함수를 받아서 미분한뒤 인자를 넣어서 리턴\n",
    "    x_, y_ = val\n",
    "    _, function = fun(val) #함수인자, 변수\n",
    "    diff_x = sym.diff(function, x)\n",
    "    diff_y = sym.diff(function, y)\n",
    "    grad_vec = np.array([eval_(diff_x, [x_, y_]),eval_(diff_y, [x_, y_])], dtype= float)\n",
    "    return grad_vec, [ diff_x, diff_y]\n",
    "\n",
    "def gradient_descent(fun, init_point, Ir_rate = 1e-2, epsilon = 1e-5):\n",
    "\n",
    "    cnt = 0\n",
    "    val = init_point\n",
    "    diff, _= func_gradient(fun, val)   # 함수와 인자를 를 받아서 미분값\n",
    "\n",
    "    while np.linalg.norm(diff) > epsilon:\n",
    "        val = val - Ir_rate* diff # 미분값의 절대값을 점점 작아지는 방향으로 변수를 이동\n",
    "        diff,_ = func_gradient(fun, val) # 위의 변수일때 미분값\n",
    "        cnt += 1\n",
    "\n",
    "    print(\"함수: {}, 연산횟수: {}, 최소점:({},{})\".format(fun(val), cnt, val, fun(val)[0]))\n",
    "\n",
    "pt =[np.random.uniform(-2,2), np.random.uniform(-2,2)]\n",
    "\n",
    "gradient_descent(func_multi, pt) #함수와 랜덤값을 받음"
   ],
   "metadata": {
    "collapsed": false
   }
  },
  {
   "cell_type": "code",
   "execution_count": 4,
   "outputs": [
    {
     "name": "stdout",
     "output_type": "stream",
     "text": [
      "[ 6  8  9 11]\n",
      "[[1 1 1]\n",
      " [1 2 1]\n",
      " [2 2 1]\n",
      " [2 3 1]]\n",
      "[1.00000367 1.99999949 2.99999516]\n"
     ]
    }
   ],
   "source": [
    "import numpy as np\n",
    "\n",
    "X = np.array([[1,1],[1,2],[2,2],[2,3]])\n",
    "y = np.dot(X,np.array([1,2])) +3\n",
    "print(y)\n",
    "\n",
    "beta_gd = [10.1, 15.1, -6.5]\n",
    "X_ = np.array([ np.append(x,[1]) for x in X])\n",
    "print(X_)\n",
    "for t in range(5000):\n",
    "    error = y - X_ @beta_gd\n",
    "    grad = - np.transpose(X_) @error\n",
    "    beta_gd = beta_gd - 0.01 *grad\n",
    "\n",
    "print(beta_gd)"
   ],
   "metadata": {
    "collapsed": false
   }
  },
  {
   "cell_type": "markdown",
   "source": [],
   "metadata": {
    "collapsed": false
   }
  },
  {
   "cell_type": "code",
   "execution_count": 20,
   "outputs": [
    {
     "data": {
      "text/plain": "array([56, 24])"
     },
     "execution_count": 20,
     "metadata": {},
     "output_type": "execute_result"
    }
   ],
   "source": [
    "x = np.array([[1,1],[2,1],[3,1]])\n",
    "y = np.array([4,8,12])\n",
    "\n",
    "z = np.transpose(x) @ y\n",
    "z"
   ],
   "metadata": {
    "collapsed": false
   }
  },
  {
   "cell_type": "markdown",
   "source": [],
   "metadata": {
    "collapsed": false
   }
  },
  {
   "cell_type": "code",
   "execution_count": null,
   "outputs": [],
   "source": [],
   "metadata": {
    "collapsed": false
   }
  }
 ],
 "metadata": {
  "kernelspec": {
   "display_name": "Python 3",
   "language": "python",
   "name": "python3"
  },
  "language_info": {
   "codemirror_mode": {
    "name": "ipython",
    "version": 2
   },
   "file_extension": ".py",
   "mimetype": "text/x-python",
   "name": "python",
   "nbconvert_exporter": "python",
   "pygments_lexer": "ipython2",
   "version": "2.7.6"
  }
 },
 "nbformat": 4,
 "nbformat_minor": 0
}
