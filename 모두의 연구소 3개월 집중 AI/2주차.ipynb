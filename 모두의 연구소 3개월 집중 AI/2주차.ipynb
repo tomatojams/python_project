{
 "cells": [
  {
   "cell_type": "markdown",
   "source": [
    "2-6 함수"
   ],
   "metadata": {
    "collapsed": false
   },
   "id": "bac3a4bd1232baab"
  },
  {
   "cell_type": "code",
   "execution_count": 7,
   "outputs": [],
   "source": [
    "def dog_info(**dict):\n",
    "    for key, value in dict.items():\n",
    "        print(key, ':', value)"
   ],
   "metadata": {
    "collapsed": false,
    "ExecuteTime": {
     "start_time": "2023-11-20T06:27:27.750872Z"
    }
   },
   "id": "initial_id"
  },
  {
   "cell_type": "code",
   "execution_count": 8,
   "outputs": [
    {
     "name": "stdout",
     "output_type": "stream",
     "text": [
      "name : 규봉이\n"
     ]
    }
   ],
   "source": [
    "dog_info(name='규봉이')"
   ],
   "metadata": {
    "collapsed": false,
    "ExecuteTime": {
     "end_time": "2023-11-20T06:27:28.172554Z",
     "start_time": "2023-11-20T06:27:28.156534Z"
    }
   },
   "id": "2a9ab0acb54c3159"
  },
  {
   "cell_type": "code",
   "execution_count": 9,
   "outputs": [
    {
     "name": "stdout",
     "output_type": "stream",
     "text": [
      "name : 규봉이\n",
      "age : 10\n",
      "gender : male\n"
     ]
    }
   ],
   "source": [
    "dog_info(name='규봉이', age=10, gender='male')"
   ],
   "metadata": {
    "collapsed": false,
    "ExecuteTime": {
     "end_time": "2023-11-20T06:27:28.746898Z",
     "start_time": "2023-11-20T06:27:28.735155Z"
    }
   },
   "id": "182156e9bbc696f9"
  },
  {
   "cell_type": "code",
   "execution_count": 10,
   "outputs": [
    {
     "name": "stdout",
     "output_type": "stream",
     "text": [
      "name : 규봉이\n",
      "age : 10\n",
      "gender : male\n"
     ]
    }
   ],
   "source": [
    "a = {'name': '규봉이', 'age': 10, 'gender': 'male'}\n",
    "\n",
    "dog_info(**a)"
   ],
   "metadata": {
    "collapsed": false,
    "ExecuteTime": {
     "end_time": "2023-11-20T06:29:16.338403Z",
     "start_time": "2023-11-20T06:29:16.291589Z"
    }
   },
   "id": "e8589b1da7e507be"
  },
  {
   "cell_type": "code",
   "execution_count": 16,
   "outputs": [
    {
     "data": {
      "text/plain": "True"
     },
     "execution_count": 16,
     "metadata": {},
     "output_type": "execute_result"
    }
   ],
   "source": [
    "# 실습퀴즈4. 논리 연산자\n",
    "# 토끼는 귀엽고, 착하고, 빠르다.\n",
    "# True가 나와야 정답입니다.\n",
    "\n",
    "rabbit = ['귀엽다', '착하다', '똑똑하다', '빠르다']\n",
    "\n",
    "('귀엽다' and '착하다' and '빠르다') in rabbit\n",
    "\n",
    "# 위의 코드를 풀어서 표현할 수도 있습니다. \n",
    "\n",
    "'귀엽다' in rabbit and '착하다' in rabbit and '빠르다' in rabbit"
   ],
   "metadata": {
    "collapsed": false,
    "ExecuteTime": {
     "end_time": "2023-11-20T06:43:05.070277Z",
     "start_time": "2023-11-20T06:43:05.022402Z"
    }
   },
   "id": "71b564ece0e95a71"
  },
  {
   "cell_type": "code",
   "execution_count": 17,
   "outputs": [
    {
     "name": "stdout",
     "output_type": "stream",
     "text": [
      "막다른 절벽\n"
     ]
    }
   ],
   "source": [
    "# 실습퀴즈6. 조건문  \n",
    "# 앞으로 가면 강이고, 왼쪽으로 가면 산이다. 그 이외에는 막다른 절벽이다. \n",
    "\n",
    "move = input(\"가고 싶은 곳을 넣어주세요.\")\n",
    "\n",
    "if move == 'front':  # 조건1\n",
    "    print('강이 흐르고 있어.')  # 수행할 문장1\n",
    "elif move == 'left':\n",
    "    print('산이 있다')\n",
    "else:\n",
    "    print('막다른 절벽')\n",
    "\n",
    "# [[YOUR CODE]]:                     # 조건2\n",
    "# [[YOUR CODE]]                  # 수행할 문장2\n",
    "# [[YOUR CODE]]: \n",
    "# [[YOUR CODE]]                  # 수행할 문장3"
   ],
   "metadata": {
    "collapsed": false,
    "ExecuteTime": {
     "end_time": "2023-11-20T06:45:55.183550Z",
     "start_time": "2023-11-20T06:45:53.275081Z"
    }
   },
   "id": "d931d890bb37b5f"
  },
  {
   "cell_type": "code",
   "execution_count": 20,
   "outputs": [
    {
     "name": "stdout",
     "output_type": "stream",
     "text": [
      "저를 소개합니다.\n",
      "이름은 김지한입니다. 나이는 19이고요, MBTI는 INTP입니다.\n"
     ]
    }
   ],
   "source": [
    "# 실습퀴즈7. 함수\n",
    "# 나만의 프로필 함수를 만들어 보세요. \n",
    "\n",
    "def my_profile(**kwargs):  # 키워드 가변 인수 활용\n",
    "    print('저를 소개합니다.')\n",
    "    print(f'이름은 {kwargs[\"name\"]}입니다. 나이는 {kwargs[\"age\"]}이고요, MBTI는 {kwargs[\"MBTI\"]}입니다.')\n",
    "\n",
    "\n",
    "# 여러분의 프로필을 넣어보세요. \n",
    "me = {'name': '김지한', 'age': 19, 'MBTI': 'INTP'}\n",
    "\n",
    "my_profile(**me)"
   ],
   "metadata": {
    "collapsed": false,
    "ExecuteTime": {
     "end_time": "2023-11-20T06:51:02.669993Z",
     "start_time": "2023-11-20T06:51:02.651520Z"
    }
   },
   "id": "7dfec75054f1ac4"
  },
  {
   "cell_type": "code",
   "execution_count": 21,
   "outputs": [
    {
     "name": "stdout",
     "output_type": "stream",
     "text": [
      "65\n",
      "73\n",
      "70\n",
      "69\n",
      "76\n"
     ]
    }
   ],
   "source": [
    "# 실습퀴즈3. 아스키 코드\n",
    "# AIFFEL의 아스키 코드를 알 수 있는 코드를 직접 작성해보세요.\n",
    "\n",
    "for x in 'AIFEL':\n",
    "    print(ord(x))"
   ],
   "metadata": {
    "collapsed": false,
    "ExecuteTime": {
     "end_time": "2023-11-20T10:20:25.974766Z",
     "start_time": "2023-11-20T10:20:25.973379Z"
    }
   },
   "id": "880f8eb258ce668e"
  },
  {
   "cell_type": "code",
   "execution_count": 2,
   "outputs": [
    {
     "name": "stdout",
     "output_type": "stream",
     "text": [
      "🐠🐟🐡🐬🦈🦭🐳🐋🐙🦑🦞🦀🦐\n",
      "peace\n",
      "🐆🐅🐃🐂🐄🦬🐪🐫🦙🐘🦏🦛🦣\n"
     ]
    }
   ],
   "source": [
    "# 실습퀴즈3. 데코레이터 \n",
    "\n",
    "class ThisisDecorator:\n",
    "    def __init__(self, f):\n",
    "        self.func = f\n",
    "\n",
    "    def __call__(self, *args, **kwargs):\n",
    "        print('🐠🐟🐡🐬🦈🦭🐳🐋🐙🦑🦞🦀🦐')\n",
    "        self.func()\n",
    "        print('🐆🐅🐃🐂🐄🦬🐪🐫🦙🐘🦏🦛🦣')\n",
    "\n",
    "\n",
    "class Peace:\n",
    "    @ThisisDecorator\n",
    "    def peace_function():\n",
    "        print('peace')\n",
    "\n",
    "\n",
    "peace = Peace()\n",
    "peace.peace_function()"
   ],
   "metadata": {
    "collapsed": false,
    "ExecuteTime": {
     "end_time": "2023-11-21T07:09:57.398415Z",
     "start_time": "2023-11-21T07:09:57.253348Z"
    }
   },
   "id": "e63cdbf54674d458"
  },
  {
   "cell_type": "code",
   "execution_count": 8,
   "outputs": [
    {
     "name": "stdout",
     "output_type": "stream",
     "text": [
      "20\n",
      "50\n"
     ]
    }
   ],
   "source": [
    "# 실습퀴즈3. 개수를 더해서 누적이 되도록 만들기 \n",
    "# 아래의 결과값이 누적이 되도록 코드를 추가해 주세요.\n",
    "def closure_counter():\n",
    "    count = 0\n",
    "\n",
    "    def counter(num):\n",
    "        nonlocal count\n",
    "        count = num + count\n",
    "        print(count)\n",
    "\n",
    "    return counter\n",
    "\n",
    "\n",
    "# 결과 확인\n",
    "counter = closure_counter()\n",
    "counter(20)\n",
    "counter(30)  # 출력이 50이 되어야 합니다."
   ],
   "metadata": {
    "collapsed": false,
    "ExecuteTime": {
     "end_time": "2023-11-21T13:47:22.687801Z",
     "start_time": "2023-11-21T13:47:22.678490Z"
    }
   },
   "id": "bbc8235a5b6061bf"
  },
  {
   "cell_type": "code",
   "execution_count": 9,
   "outputs": [
    {
     "ename": "SyntaxError",
     "evalue": "invalid syntax (549158568.py, line 15)",
     "output_type": "error",
     "traceback": [
      "\u001B[0;36m  Cell \u001B[0;32mIn[9], line 15\u001B[0;36m\u001B[0m\n\u001B[0;31m    length = # [[YOUR CODE]]\u001B[0m\n\u001B[0m             ^\u001B[0m\n\u001B[0;31mSyntaxError\u001B[0m\u001B[0;31m:\u001B[0m invalid syntax\n"
     ]
    }
   ],
   "source": [
    "# 실습퀴즈4. 문자열의 길이를 판별하는 함수를 만들어 보세요.\n",
    "\n",
    "def closure_str_checker():\n",
    "    # 문자열이 길면 알려주는 함수\n",
    "    def check_length(limit):\n",
    "        def length_func(string):\n",
    "            if len(string) > limit:\n",
    "                return f'길이는 {len(string)}개 입니다. 지정한 길이보다 길어요.'\n",
    "            else:\n",
    "                return \"길이가 적당합니다.\"\n",
    "\n",
    "        return length_func\n",
    "\n",
    "    def str_checker(string):\n",
    "        num_len = 20  # 길이를 설정합니다. \n",
    "        length =  # [[YOUR CODE]]\n",
    "        if  # [[YOUR CODE]]\n",
    "            print('문자열의 길이가 0보다 작거나 같습니다.')\n",
    "        else:\n",
    "            print('문자열의 길이 :',  # [[YOUR CODE]], # [[YOUR CODE]], sep='\\n')\n",
    "\n",
    "    return str_checker\n",
    "\n",
    "\n",
    "check = closure_str_checker()\n",
    "test_str = '화이팅. 아자 아자 화이팅!'  # 길이가 다른 문자열을 입력해보세요. \n",
    "check(test_str)"
   ],
   "metadata": {
    "collapsed": false,
    "ExecuteTime": {
     "end_time": "2023-11-21T13:53:36.902700Z",
     "start_time": "2023-11-21T13:53:36.887272Z"
    }
   },
   "id": "33fe4e471a8f4237"
  },
  {
   "cell_type": "code",
   "execution_count": 10,
   "outputs": [
    {
     "name": "stdout",
     "output_type": "stream",
     "text": [
      "입력한 수는 3.0입니다.\n"
     ]
    }
   ],
   "source": [
    "# try - except - else 구문 \n",
    "\n",
    "# 시도할 코드\n",
    "try:\n",
    "    # 예외 걱정 없이 입력값에 float 함수를 씌움\n",
    "    num = float(input('수를 입력하세요 : '))\n",
    "\n",
    "# try에서 예외가 발생했을 때 실행할 코드\n",
    "except:\n",
    "    print('수가 아닙니다.')\n",
    "\n",
    "# try에서 예외가 발생하지 않을 때 실행할 코드\n",
    "else:\n",
    "    print(f'입력한 수는 {num}입니다.')"
   ],
   "metadata": {
    "collapsed": false,
    "ExecuteTime": {
     "end_time": "2023-11-22T00:44:56.285513Z",
     "start_time": "2023-11-22T00:44:53.599651Z"
    }
   },
   "id": "15cb35d756c416f0"
  },
  {
   "cell_type": "code",
   "execution_count": null,
   "outputs": [],
   "source": [
    "# 정수가 아닌 값을 입력해서 예외 처리를 잘 하는지 확인해 보세요.  \n",
    "num = input('정수를 입력하세요 : ')  # int() 함수 제거\n",
    "\n",
    "# 입력값이 0과 양의 정수일 때\n",
    "# Q. 아래의 빈 코드를 채워보세요. \n",
    "if num.isdigit():\n",
    "    print(f'입력한 정수는 {num}입니다.')\n",
    "\n",
    "# 입력값이 음의 정수일 때\n",
    "# Q. 아래의 빈 코드를 채워보세요. \n",
    "elif num.lstrip(\"-\").isdigit():\n",
    "    print(f'입력한 정수는 {num}입니다.')\n",
    "\n",
    "# 입력값이 정수가 아닐 때\n",
    "else:\n",
    "    print('정수가 아닙니다.')"
   ],
   "metadata": {
    "collapsed": false
   },
   "id": "caaf8d53f620b7cc"
  },
  {
   "cell_type": "code",
   "execution_count": 2,
   "outputs": [
    {
     "name": "stdout",
     "output_type": "stream",
     "text": [
      "수가 아닙니다.\n",
      "*************************\n",
      "프로그램이 끝났습니다.\n"
     ]
    }
   ],
   "source": [
    "# try - except - else - finally 구문 \n",
    "\n",
    "# Q. 위에서 배운 코드를 바탕으로 아래의 빈 코드를 채워보세요. \n",
    "# 시도할 코드 \n",
    "try:\n",
    "    # 예외 걱정 없이 입력값에 float 함수를 씌움\n",
    "    num = float(input('수를 입력하세요 : '))\n",
    "\n",
    "# try에서 예외가 발생했을 때 실행할 코드\n",
    "except:\n",
    "    print('수가 아닙니다.')\n",
    "\n",
    "# try에서 예외가 발생하지 않았다면 실행할 코드\n",
    "else:\n",
    "    print(f'입력한 수는 {num}입니다.')\n",
    "\n",
    "# finally 구문 추가\n",
    "finally:\n",
    "    print('*' * 25)\n",
    "    print('프로그램이 끝났습니다.')"
   ],
   "metadata": {
    "collapsed": false,
    "ExecuteTime": {
     "end_time": "2023-11-22T01:05:53.806955Z",
     "start_time": "2023-11-22T01:05:51.725970Z"
    }
   },
   "id": "8dcc43566e96d422"
  },
  {
   "cell_type": "code",
   "execution_count": 4,
   "outputs": [
    {
     "name": "stdout",
     "output_type": "stream",
     "text": [
      "주문개수는 15개 입니다.\n"
     ]
    },
    {
     "ename": "Exception",
     "evalue": "햄버거가 아닙니다.",
     "output_type": "error",
     "traceback": [
      "\u001B[0;31m---------------------------------------------------------------------------\u001B[0m",
      "\u001B[0;31mException\u001B[0m                                 Traceback (most recent call last)",
      "Cell \u001B[0;32mIn[4], line 9\u001B[0m\n\u001B[1;32m      7\u001B[0m \u001B[38;5;28;01mtry\u001B[39;00m:\n\u001B[1;32m      8\u001B[0m     \u001B[38;5;28;01mif\u001B[39;00m menu \u001B[38;5;241m!=\u001B[39m \u001B[38;5;124m\"\u001B[39m\u001B[38;5;124m햄버거\u001B[39m\u001B[38;5;124m\"\u001B[39m:\n\u001B[0;32m----> 9\u001B[0m         \u001B[38;5;28;01mraise\u001B[39;00m \u001B[38;5;167;01mException\u001B[39;00m(\u001B[38;5;124m\"\u001B[39m\u001B[38;5;124m햄버거가 아닙니다.\u001B[39m\u001B[38;5;124m\"\u001B[39m)\n\u001B[1;32m     11\u001B[0m \u001B[38;5;28;01mfinally\u001B[39;00m:\n\u001B[1;32m     12\u001B[0m     \u001B[38;5;28mprint\u001B[39m(\u001B[38;5;124mf\u001B[39m\u001B[38;5;124m\"\u001B[39m\u001B[38;5;124m주문개수는 \u001B[39m\u001B[38;5;132;01m{\u001B[39;00mmenu_count\u001B[38;5;132;01m}\u001B[39;00m\u001B[38;5;124m개 입니다.\u001B[39m\u001B[38;5;124m\"\u001B[39m)\n",
      "\u001B[0;31mException\u001B[0m: 햄버거가 아닙니다."
     ]
    }
   ],
   "source": [
    "# 실습퀴즈1. 예외처리 try - finally \n",
    "# 햄버거의 갯수만 입력 받는 프로그램을 작성해주세요!  \n",
    "\n",
    "menu = input(\"메뉴를 입력해주세요!\")\n",
    "menu_count = int(input(\"갯수를 입력해주세요!\"))\n",
    "\n",
    "try:\n",
    "    if menu != \"햄버거\":\n",
    "        raise Exception(\"햄버거가 아닙니다.\")\n",
    "\n",
    "finally:\n",
    "    print(f\"주문개수는 {menu_count}개 입니다.\")"
   ],
   "metadata": {
    "collapsed": false,
    "ExecuteTime": {
     "end_time": "2023-11-22T01:12:40.146501Z",
     "start_time": "2023-11-22T01:12:36.061306Z"
    }
   },
   "id": "617bfb26970e4ee"
  },
  {
   "cell_type": "code",
   "execution_count": 6,
   "outputs": [
    {
     "name": "stdout",
     "output_type": "stream",
     "text": [
      "3번째 위치에 존재합니다.\n",
      "None\n",
      "리스트에 없습니다.\n",
      "None\n",
      "6번째 위치에 존재합니다.\n",
      "None\n"
     ]
    }
   ],
   "source": [
    "# 실습퀴즈3. 예외 처리 try - except\n",
    "#리스트에 원하는 값이 포함되어 있는지 확인하는 함수입니다. 빈칸을 채워보세요. \n",
    "\n",
    "def list_finder(list, elt):\n",
    "    try:\n",
    "        idx = list.index(elt)\n",
    "        print(f\"{idx + 1}번째 위치에 존재합니다.\")\n",
    "    except ValueError:\n",
    "        print(\"리스트에 없습니다.\")\n",
    "    except Exception as e:\n",
    "        print(\"그외에 알수없는 오류입니다.\")\n",
    "\n",
    "\n",
    "# 결과 확인 함수\n",
    "print(list_finder([10, 9, 8], 8))\n",
    "print(list_finder([25, 7, 8], 10000))\n",
    "print(list_finder([100, 2, 15, 28, 0, \"a-z가-하\"], \"a-z가-하\"))"
   ],
   "metadata": {
    "collapsed": false,
    "ExecuteTime": {
     "end_time": "2023-11-22T01:21:20.601170Z",
     "start_time": "2023-11-22T01:21:20.580969Z"
    }
   },
   "id": "3727e3ed73dd2766"
  },
  {
   "cell_type": "code",
   "execution_count": 8,
   "outputs": [
    {
     "name": "stdout",
     "output_type": "stream",
     "text": [
      "98\n",
      "67\n",
      "5\n",
      "17\n",
      "28\n",
      "71\n",
      "29\n",
      "36\n",
      "75\n",
      "11\n"
     ]
    }
   ],
   "source": [
    "# 실습퀴즈1. 모듈\n",
    "# 1부터 100까지의 정수를 무작위로 10개 출력해 주세요.\n",
    "import random as r\n",
    "\n",
    "for i in range(10):\n",
    "    print(r.randint(1, 100))"
   ],
   "metadata": {
    "collapsed": false,
    "ExecuteTime": {
     "end_time": "2023-11-22T01:56:45.065228Z",
     "start_time": "2023-11-22T01:56:45.044421Z"
    }
   },
   "id": "58ef887b6d247e71"
  },
  {
   "cell_type": "code",
   "execution_count": 16,
   "outputs": [
    {
     "ename": "ModuleNotFoundError",
     "evalue": "No module named 'calculator'",
     "output_type": "error",
     "traceback": [
      "\u001B[0;31m---------------------------------------------------------------------------\u001B[0m",
      "\u001B[0;31mModuleNotFoundError\u001B[0m                       Traceback (most recent call last)",
      "Cell \u001B[0;32mIn[16], line 1\u001B[0m\n\u001B[0;32m----> 1\u001B[0m \u001B[38;5;28;01mimport\u001B[39;00m \u001B[38;5;21;01mcalculator\u001B[39;00m \u001B[38;5;28;01mas\u001B[39;00m \u001B[38;5;21;01mcalc\u001B[39;00m\n\u001B[1;32m      3\u001B[0m \u001B[38;5;28mprint\u001B[39m(calc\u001B[38;5;241m.\u001B[39mpower(\u001B[38;5;241m10\u001B[39m, \u001B[38;5;241m5\u001B[39m))\n\u001B[1;32m      4\u001B[0m \u001B[38;5;28mprint\u001B[39m(calc\u001B[38;5;241m.\u001B[39mcubic(\u001B[38;5;241m0.1\u001B[39m))\n",
      "\u001B[0;31mModuleNotFoundError\u001B[0m: No module named 'calculator'"
     ]
    }
   ],
   "source": [
    "import calculator as calc\n",
    "\n",
    "print(calc.power(10, 5))\n",
    "print(calc.cubic(0.1))\n",
    "print(calc.divide(10, 7))\n",
    "print(calc.factorial(10))  # !10 = 10*9*8*7*6*5*4*3*2*1"
   ],
   "metadata": {
    "collapsed": false,
    "ExecuteTime": {
     "end_time": "2023-11-22T02:04:40.542532Z",
     "start_time": "2023-11-22T02:04:40.530520Z"
    }
   },
   "id": "35d7c807e75b5da5"
  },
  {
   "cell_type": "code",
   "execution_count": 13,
   "outputs": [
    {
     "ename": "AttributeError",
     "evalue": "module 'calc' has no attribute 'factorial'",
     "output_type": "error",
     "traceback": [
      "\u001B[0;31m---------------------------------------------------------------------------\u001B[0m",
      "\u001B[0;31mAttributeError\u001B[0m                            Traceback (most recent call last)",
      "Cell \u001B[0;32mIn[13], line 1\u001B[0m\n\u001B[0;32m----> 1\u001B[0m \u001B[43mcalc\u001B[49m\u001B[38;5;241;43m.\u001B[39;49m\u001B[43mfactorial\u001B[49m(\u001B[38;5;241m10\u001B[39m)\n",
      "\u001B[0;31mAttributeError\u001B[0m: module 'calc' has no attribute 'factorial'"
     ]
    }
   ],
   "source": [
    "calc.factorial(10)"
   ],
   "metadata": {
    "collapsed": false,
    "ExecuteTime": {
     "end_time": "2023-11-22T02:03:13.349044Z",
     "start_time": "2023-11-22T02:03:13.335018Z"
    }
   },
   "id": "ef66da53cf170cfd"
  },
  {
   "cell_type": "code",
   "execution_count": 27,
   "outputs": [],
   "source": [
    "# 실습퀴즈1. 클래스1\n",
    "# 신발 클래스를 아래 조건에 맞추어서 작성하세요.\n",
    "\n",
    "class Shoes:\n",
    "    # 클래스 속성\n",
    "    brand = 'Python'\n",
    "    production_count = 0\n",
    "\n",
    "    def __init__(self, model, size, color):\n",
    "        self.model = model\n",
    "        self.size = size\n",
    "        self.color = color\n",
    "        Shoes.production_count += 1\n",
    "\n",
    "    def __str__(self):\n",
    "        return str(self.model) + ' ' + str(self.size) + ' ' + str(self.color)\n",
    "\n",
    "    def color_change(self, new_color):\n",
    "        self.color = new_color"
   ],
   "metadata": {
    "collapsed": false,
    "ExecuteTime": {
     "end_time": "2023-11-22T03:09:47.528997Z",
     "start_time": "2023-11-22T03:09:47.510140Z"
    }
   },
   "id": "a92abf98412c4a4"
  },
  {
   "cell_type": "code",
   "execution_count": 28,
   "outputs": [
    {
     "name": "stdout",
     "output_type": "stream",
     "text": [
      "Nike 280 blue\n"
     ]
    }
   ],
   "source": [
    "nike = Shoes('Nike', 280, 'blue')\n",
    "print(nike)"
   ],
   "metadata": {
    "collapsed": false,
    "ExecuteTime": {
     "end_time": "2023-11-22T03:09:48.062846Z",
     "start_time": "2023-11-22T03:09:48.059409Z"
    }
   },
   "id": "db5d3abcf6b3e937"
  },
  {
   "cell_type": "code",
   "execution_count": 29,
   "outputs": [],
   "source": [
    "# 실습퀴즈4. 클래스 3  \n",
    "# 모두의연구소를 소개하는 클래스를 만들어 보세요.\n",
    "\n",
    "class Modulabs:\n",
    "    def __init__(self, name, value):\n",
    "        self.name = name\n",
    "        self.value = value\n",
    "\n",
    "    def describe(self):\n",
    "        return f\"{self.name}은 {self.value}.\"\n",
    "\n",
    "\n",
    "class FlippedSchool(Modulabs):\n",
    "    def __init__(self, name, value):\n",
    "        super().__init__(name, value)\n",
    "\n",
    "    def describe(self):\n",
    "        return f\"{super().describe()}\"\n",
    "\n",
    "\n",
    "class Aiffel(Modulabs):\n",
    "    def __init__(self, name, value):\n",
    "        super().__init__(name, value)\n",
    "\n",
    "    def describe(self):\n",
    "        return f\"{super().describe()}\"\n",
    "\n",
    "\n",
    "class Lab(Modulabs):\n",
    "    def __init__(self, name, value):\n",
    "        super().__init__(name, value)\n",
    "\n",
    "    def describe(self):\n",
    "        return f\"{super().describe()}\"\n",
    "\n",
    "\n",
    "class Modu:\n",
    "    def __init__(self, name, modulabs):\n",
    "        self.name = name\n",
    "        self.modulabs = modulabs\n",
    "\n",
    "    def describe(self):\n",
    "        modulabs_descriptions = [modulabs.describe() for modulabs in self.modulabs]\n",
    "        return f\"{self.name}에는 다음과 같은 프로그램들이 있습니다 :\\n\" + \"\\n\".join(modulabs_descriptions)"
   ],
   "metadata": {
    "collapsed": false,
    "ExecuteTime": {
     "end_time": "2023-11-22T03:19:35.782605Z",
     "start_time": "2023-11-22T03:19:35.754515Z"
    }
   },
   "id": "64995a133bf83ef2"
  },
  {
   "cell_type": "code",
   "execution_count": 30,
   "outputs": [],
   "source": [
    "# 실습퀴즈4. 클래스 3  \n",
    "# 모두의연구소를 소개하는 클래스를 만들어 보세요.\n",
    "\n",
    "class Modulabs:\n",
    "    def __init__(self, name, value):\n",
    "        self.name = name\n",
    "        self.value = value\n",
    "\n",
    "    def describe(self):\n",
    "        return f\"{self.name}은 {self.value}.\"\n",
    "\n",
    "\n",
    "class FlippedSchool(Modulabs):\n",
    "    def __init__(self, name, value):\n",
    "        super().__init__(name, value)\n",
    "\n",
    "    def describe(self):\n",
    "        return f\"{super().describe()}\"\n",
    "\n",
    "\n",
    "class Aiffel(Modulabs):\n",
    "    def __init__(self, name, value):\n",
    "        super().__init__(name, value)\n",
    "\n",
    "    def describe(self):\n",
    "        return f\"{super().describe()}\"\n",
    "\n",
    "\n",
    "class Lab(Modulabs):\n",
    "    def __init__(self, name, value):\n",
    "        super().__init__(name, value)\n",
    "\n",
    "    def describe(self):\n",
    "        return f\"{super().describe()}\"\n",
    "\n",
    "\n",
    "class Modu:\n",
    "    def __init__(self, name, modulabs):\n",
    "        self.name = name\n",
    "        self.modulabs = modulabs\n",
    "\n",
    "    def describe(self):\n",
    "        modulabs_descriptions = [modulabs.describe() for modulabs in self.modulabs]\n",
    "        return f\"{self.name}에는 다음과 같은 프로그램들이 있습니다 :\\n\" + \"\\n\".join(modulabs_descriptions)"
   ],
   "metadata": {
    "collapsed": false,
    "ExecuteTime": {
     "end_time": "2023-11-22T03:20:15.885444Z",
     "start_time": "2023-11-22T03:20:15.881970Z"
    }
   },
   "id": "545468d253a4a9b7"
  },
  {
   "cell_type": "code",
   "execution_count": 31,
   "outputs": [
    {
     "name": "stdout",
     "output_type": "stream",
     "text": [
      "모두연에는 다음과 같은 프로그램들이 있습니다 :\n",
      "모두연은 지식을 공유하며 경험을 통해 배우는 열린 연구소.\n",
      "풀잎스쿨은 함께 성장하는 플립 러닝 기반 스터디 모임.\n",
      "아이펠은 함께 탐험하며 성장하는 AI 학교.\n",
      "LAB은 연구하며 논문도 쓸 수 있는 연구 모임.\n"
     ]
    }
   ],
   "source": [
    "# 결과 확인\n",
    "modulabs1 = Modulabs(\"모두연\", \"지식을 공유하며 경험을 통해 배우는 열린 연구소\")\n",
    "modulabs2 = FlippedSchool(\"풀잎스쿨\", \"함께 성장하는 플립 러닝 기반 스터디 모임\")\n",
    "modulabs3 = Aiffel(\"아이펠\", \"함께 탐험하며 성장하는 AI 학교\")\n",
    "modulabs4 = Lab(\"LAB\", \"연구하며 논문도 쓸 수 있는 연구 모임\")\n",
    "\n",
    "modu = Modu(\"모두연\", [modulabs1, modulabs2, modulabs3, modulabs4])\n",
    "print(modu.describe())"
   ],
   "metadata": {
    "collapsed": false,
    "ExecuteTime": {
     "end_time": "2023-11-22T03:20:16.379291Z",
     "start_time": "2023-11-22T03:20:16.358197Z"
    }
   },
   "id": "4d2a18de0b1ff6ca"
  },
  {
   "cell_type": "code",
   "execution_count": null,
   "outputs": [],
   "source": [
    "# 사각형 넓이를 구하는 클래스 완성!\n",
    "class Square:\n",
    "    def __init__(self):\n",
    "        square = int(input('넓이를 구하고 싶은 사각형의 숫자를 써주세요.\\n 1.직사각형 2.평행사변형 3.사다리꼴 \\n >>>'))\n",
    "\n",
    "        if square == 1:\n",
    "            print('직사각형 함수는 rect()입니다.')\n",
    "\n",
    "        elif square == 2:\n",
    "            print('평행사변형 함수는 par()입니다.')\n",
    "\n",
    "        elif square == 3:\n",
    "            print('사다리꼴 함수는 trape()입니다.')\n",
    "\n",
    "        else:\n",
    "            print('1, 2, 3 중에서 다시 입력해주세요')\n",
    "\n",
    "    def rect(self):\n",
    "        width, vertical = map(int, input('가로, 세로를 입력하세요. 예시 : 가로,세로\\n >>>').split(','))\n",
    "        area = width * vertical\n",
    "        result = '직사각형의 넓이는 : ' + str(area)\n",
    "        return result\n",
    "\n",
    "    # 평행사변형 메서드\n",
    "    def par(self):\n",
    "        width, vertical = map(int, input('가로, 높이를 입력하세요. 예시 : 밑변,높이\\n >>>').split(','))\n",
    "        area = width * vertical\n",
    "        result = '평행사변형의 넓이는 : ' + str(area)\n",
    "        return result\n",
    "\n",
    "    # 사다리꼴 메서드\n",
    "    def trape(self):\n",
    "        lower_width, upper_width, vertical = map(int,\n",
    "                                                 input('밑변,윗변, 높이를 입력하세요. 예시 : 밑변,높이\\n >>>').split(\n",
    "                                                     ','))\n",
    "        area = (lower_width + upper_width) * vertical * 0.5\n",
    "        result = '사다리꼴의 넓이는 : ' + str(area)\n",
    "        return result\n",
    "\n",
    "\n",
    "a = Square()  # 객체 생성 & 2, 3을 각각 입력해 봅시다."
   ],
   "metadata": {
    "collapsed": false
   },
   "id": "d87e091a976522a7"
  },
  {
   "cell_type": "code",
   "execution_count": 60,
   "outputs": [],
   "source": [
    "# 문제 2-3. 주문 메서드      \n",
    "\n",
    "# 음료의 온도에 따라 temp 변수를 \"HOT\" 또는 \"ICE\"로 지정하세요.\n",
    "\n",
    "class Kiosk:\n",
    "    def __init__(self):\n",
    "        # 문제 2-1의 답을 입력하세요. \n",
    "        self.menu = ['americano', 'latte', 'mocha', 'yuza_tea', 'green_tea', 'choco_latte']\n",
    "        self.price = [2000, 3000, 3000, 2500, 2500, 3000]\n",
    "        self.temp = 'HOT'\n",
    "\n",
    "    # 메뉴 출력 메서드\n",
    "    def menu_print(self):\n",
    "        for i in range(len(self.menu)):\n",
    "            print(i + 1, self.menu[i], ' : ', self.price[i], '원')\n",
    "\n",
    "    # 주문 메서드\n",
    "    # 문제 2-4. 추가 주문       \n",
    "    # 추가 음료의 온도를 입력받고, 가격 리스트와 주문 리스트, 합계 금액을 업데이트합니다. \n",
    "\n",
    "    def menu_select(self):\n",
    "        self.order_menu = []  # 주문 리스트\n",
    "        self.order_price = []  # 가격 리스트\n",
    "\n",
    "        n = 0\n",
    "        print(len(self.menu))\n",
    "        while n < 1 or len(self.menu) < n:\n",
    "            n = int(input(\"음료를 번호를 입력하세요 : \"))  # 음료 번호 입력\n",
    "\n",
    "            # 메뉴판에 있는 음료 번호일 때\n",
    "            if 1 <= n & n <= len(self.menu):\n",
    "                self.order_price.append(self.price[n - 1])  # 가격 리스트에 추가합니다.\n",
    "                self.price_sum = self.price[n - 1]  # 합계 금액\n",
    "\n",
    "                # 메뉴판에 없는 번호일 때\n",
    "            else:\n",
    "                print(\"없는 메뉴입니다. 다시 주문해 주세요.\")\n",
    "\n",
    "        # 음료 온도 물어보기\n",
    "        t = 0  # 기본값을 넣어주고\n",
    "        while t != 1 and t != 2:  # 1이나 2를 입력할 때까지 물어보기\n",
    "            t = int(input(\"HOT 음료는 1을, ICE 음료는 2를 입력하세요 : \"))\n",
    "            # 문제 2-3의 답을 입력하세요. \n",
    "            if t == 1:\n",
    "                temp = \"HOT\"\n",
    "            elif t == 2:\n",
    "                temp = \"ICE\"\n",
    "\n",
    "            else:\n",
    "                print(\"1과 2 중 하나를 입력하세요.\\n\")\n",
    "\n",
    "        self.order_menu.append(self.temp + ' ' + self.menu[n - 1])  # 주문 리스트에 추가합니다.\n",
    "        # 문제 2-2의 답을 입력하세요. \n",
    "        print(self.temp, self.menu[n - 1], ' : ', self.price_sum, '원')  # 온도 속성을 추가한 주문 결과를 출력합니다.\n",
    "\n",
    "        # 추가 주문 또는 지불\n",
    "        while n != 0:  # 지불을 선택하기 전까지 반복합니다.\n",
    "            print()  # 줄 바꾸면서 \n",
    "            n = int(input(\"추가 주문은 음료 번호를, 지불은 0을 누르세요 : \"))  # 추가 주문 또는 지불\n",
    "            if n > 0 and n < len(self.menu) + 1:\n",
    "                # 추가 음료 온도 \n",
    "                t = 0  # 기본값을 넣어주고\n",
    "                while t != 1 and t != 2:  # 1이나 2를 입력할 때까지 물어보기\n",
    "                    t = int(input(\"HOT 음료는 1을, ICE 음료는 2를 입력하세요 : \"))\n",
    "                    # 문제 2-3. 음료의 온도에 따라 temp 변수를 \"HOT\" 또는 \"ICE\"로 지정하세요.   \n",
    "                    # 힌트: if문을 활용해보세요.        \n",
    "                    # [[YOUR CODE]]   \n",
    "                    if t == 1:\n",
    "                        temp = \"HOT\"\n",
    "                    elif t == 2:\n",
    "                        temp = \"ICE\"\n",
    "                    else:\n",
    "                        print(\"1과 2 중 하나를 입력하세요.\\n\")\n",
    "                    # 문제 2-4. 추가 음료의 온도를 입력받고, 가격 리스트, 주문 리스트, 합계 금액을 업데이트해보세요.\n",
    "                    # [[YOUR CODE]]\n",
    "                self.order_menu.append(self.temp + ' ' + self.menu[n - 1])\n",
    "                self.order_price.append(self.price[n - 1])\n",
    "                self.price_sum = sum(self.order_price)\n",
    "                print('추가 주문 음료', self.order_menu[-1], ':', self.order_price[-1], '원\\n', '합계 : ',\n",
    "                      self.price_sum, '원')\n",
    "            else:\n",
    "                if n == 0:  # 지불을 입력하면\n",
    "                    print(\"주문이 완료되었습니다.\")\n",
    "                    print(self.order_menu, self.order_price)  # 확인을 위한 리스트를 출력합니다.\n",
    "                else:  # 없는 번호를 입력할 때\n",
    "                    print(\"없는 메뉴입니다. 다시 주문해 주세요.\")"
   ],
   "metadata": {
    "collapsed": false,
    "ExecuteTime": {
     "end_time": "2023-11-22T05:15:16.954554Z",
     "start_time": "2023-11-22T05:15:16.916688Z"
    }
   },
   "id": "f8c8c294ea8411b4"
  },
  {
   "cell_type": "code",
   "execution_count": 66,
   "outputs": [],
   "source": [
    "# 문제 2-3. 주문 메서드      \n",
    "\n",
    "# 음료의 온도에 따라 temp 변수를 \"HOT\" 또는 \"ICE\"로 지정하세요.\n",
    "\n",
    "class Kiosk:\n",
    "    def __init__(self):\n",
    "        # 문제 2-1의 답을 입력하세요. \n",
    "        self.menu = ['americano', 'latte', 'mocha', 'yuza_tea', 'green_tea', 'choco_latte']\n",
    "        self.price = [2000, 3000, 3000, 2500, 2500, 3000]\n",
    "        self.temp = 'HOT'\n",
    "\n",
    "    # 메뉴 출력 메서드\n",
    "    def menu_print(self):\n",
    "        for i in range(len(self.menu)):\n",
    "            print(i + 1, self.menu[i], ' : ', self.price[i], '원')\n",
    "\n",
    "    # 주문 메서드\n",
    "    # 문제 2-4. 추가 주문       \n",
    "    # 추가 음료의 온도를 입력받고, 가격 리스트와 주문 리스트, 합계 금액을 업데이트합니다. \n",
    "\n",
    "    def menu_select(self):\n",
    "        self.order_menu = []  # 주문 리스트\n",
    "        self.order_price = []  # 가격 리스트\n",
    "\n",
    "        n = 0\n",
    "        print(len(self.menu))\n",
    "        while n < 1 or len(self.menu) < n:\n",
    "            n = int(input(\"음료를 번호를 입력하세요 : \"))  # 음료 번호 입력\n",
    "\n",
    "            # 메뉴판에 있는 음료 번호일 때\n",
    "            if 1 <= n <= len(self.menu):\n",
    "                self.order_price.append(self.price[n - 1])  # 가격 리스트에 추가합니다.\n",
    "                self.price_sum = self.price[n - 1]  # 합계 금액\n",
    "\n",
    "                # 메뉴판에 없는 번호일 때\n",
    "            else:\n",
    "                print(\"없는 메뉴입니다. 다시 주문해 주세요.\")\n",
    "\n",
    "        # 음료 온도 물어보기\n",
    "        t = 0  # 기본값을 넣어주고\n",
    "        while t != 1 and t != 2:  # 1이나 2를 입력할 때까지 물어보기\n",
    "            t = int(input(\"HOT 음료는 1을, ICE 음료는 2를 입력하세요 : \"))\n",
    "            # 문제 2-3의 답을 입력하세요. \n",
    "            if t == 1:\n",
    "                temp = \"HOT\"\n",
    "            elif t == 2:\n",
    "                temp = \"ICE\"\n",
    "\n",
    "            else:\n",
    "                print(\"1과 2 중 하나를 입력하세요.\\n\")\n",
    "\n",
    "        self.order_menu.append(self.temp + ' ' + self.menu[n - 1])  # 주문 리스트에 추가합니다.\n",
    "        # 문제 2-2의 답을 입력하세요. \n",
    "        print(self.temp, self.menu[n - 1], ' : ', self.price_sum, '원')  # 온도 속성을 추가한 주문 결과를 출력합니다.\n",
    "\n",
    "        # 추가 주문 또는 지불\n",
    "        while n != 0:  # 지불을 선택하기 전까지 반복합니다.\n",
    "            print()  # 줄 바꾸면서 \n",
    "            n = int(input(\"추가 주문은 음료 번호를, 지불은 0을 누르세요 : \"))  # 추가 주문 또는 지불\n",
    "            if n > 0 and n < len(self.menu) + 1:\n",
    "                # 추가 음료 온도 \n",
    "                t = 0  # 기본값을 넣어주고\n",
    "                while t != 1 and t != 2:  # 1이나 2를 입력할 때까지 물어보기\n",
    "                    t = int(input(\"HOT 음료는 1을, ICE 음료는 2를 입력하세요 : \"))\n",
    "                    # 문제 2-3. 음료의 온도에 따라 temp 변수를 \"HOT\" 또는 \"ICE\"로 지정하세요.   \n",
    "                    # 힌트: if문을 활용해보세요.        \n",
    "                    # [[YOUR CODE]]   \n",
    "                    if t == 1:\n",
    "                        temp = \"HOT\"\n",
    "                    elif t == 2:\n",
    "                        temp = \"ICE\"\n",
    "                    else:\n",
    "                        print(\"1과 2 중 하나를 입력하세요.\\n\")\n",
    "                    # 문제 2-4. 추가 음료의 온도를 입력받고, 가격 리스트, 주문 리스트, 합계 금액을 업데이트해보세요.\n",
    "                    # [[YOUR CODE]]\n",
    "                self.order_menu.append(self.temp + ' ' + self.menu[n - 1])\n",
    "                self.order_price.append(self.price[n - 1])\n",
    "                self.price_sum = sum(self.order_price)\n",
    "                print('추가 주문 음료', self.order_menu[-1], ':', self.order_price[-1], '원\\n', '합계 : ',\n",
    "                      self.price_sum, '원')\n",
    "            else:\n",
    "                if n == 0:  # 지불을 입력하면\n",
    "                    print(\"주문이 완료되었습니다.\")\n",
    "                    print(self.order_menu, self.order_price)  # 확인을 위한 리스트를 출력합니다.\n",
    "                else:  # 없는 번호를 입력할 때\n",
    "                    print(\"없는 메뉴입니다. 다시 주문해 주세요.\")"
   ],
   "metadata": {
    "collapsed": false,
    "ExecuteTime": {
     "end_time": "2023-11-22T05:22:47.213169Z",
     "start_time": "2023-11-22T05:22:47.200664Z"
    }
   },
   "id": "abfa8943112523e4"
  },
  {
   "cell_type": "code",
   "execution_count": 67,
   "outputs": [
    {
     "name": "stdout",
     "output_type": "stream",
     "text": [
      "1 americano  :  2000 원\n",
      "2 latte  :  3000 원\n",
      "3 mocha  :  3000 원\n",
      "4 yuza_tea  :  2500 원\n",
      "5 green_tea  :  2500 원\n",
      "6 choco_latte  :  3000 원\n",
      "6\n",
      "HOT mocha  :  3000 원\n",
      "추가 주문 음료 HOT latte : 3000 원\n",
      " 합계 :  6000 원\n",
      "추가 주문 음료 HOT americano : 2000 원\n",
      " 합계 :  8000 원\n",
      "1과 2 중 하나를 입력하세요.\n",
      "추가 주문 음료 HOT americano : 2000 원\n",
      " 합계 :  10000 원\n",
      "추가 주문 음료 HOT green_tea : 2500 원\n",
      " 합계 :  12500 원\n",
      "주문이 완료되었습니다.\n",
      "['HOT mocha', 'HOT latte', 'HOT americano', 'HOT americano', 'HOT green_tea'] [3000, 3000, 2000, 2000, 2500]\n"
     ]
    }
   ],
   "source": [
    "# 5가지 이상의 음료를 주문하고 리스트 확인하기 \n",
    "a = Kiosk()  # 객체 생성\n",
    "a.menu_print()  # 메뉴 출력\n",
    "a.menu_select()  # 주문"
   ],
   "metadata": {
    "collapsed": false,
    "ExecuteTime": {
     "end_time": "2023-11-22T05:23:19.367491Z",
     "start_time": "2023-11-22T05:22:47.747699Z"
    }
   },
   "id": "1c72e9bba89c0498"
  },
  {
   "cell_type": "code",
   "execution_count": null,
   "outputs": [],
   "source": [
    "# 문제 3-3. 클래스 업데이트  \n",
    "# 앞에서 구현했던 메서드들을 Kiosk 클래스에 추가합니다. 직접 코드를 작성해 보세요! \n",
    "\n",
    "class Kiosk:\n",
    "    def __init__(self):\n",
    "        self.menu = ['americano', 'latte', 'mocha', 'yuza_tea', 'green_tea', 'choco_latte']\n",
    "        self.price = [2000, 3000, 3000, 2500, 2500, 3000]\n",
    "        self.temp = 'HOT'\n",
    "\n",
    "    # 메뉴 출력 메서드\n",
    "    def menu_print(self):\n",
    "        for i in range(len(self.menu)):\n",
    "            print(i + 1, self.menu[i], ' : ', self.price[i], '원')\n",
    "\n",
    "    # 주문 메서드\n",
    "    def menu_select(self):\n",
    "        self.order_menu = []  # 주문 리스트\n",
    "        self.order_price = []  # 가격 리스트\n",
    "\n",
    "        n = 0\n",
    "        while n < 1 or len(self.menu) < n:\n",
    "            n = int(input(\"음료를 번호를 입력하세요 : \"))  # 음료 번호 입력\n",
    "\n",
    "            # 메뉴판에 있는 음료 번호일 때\n",
    "            if 1 <= n <= len(self.menu):\n",
    "                self.order_price.append(self.price[n - 1])  # 가격 리스트에 추가합니다.\n",
    "                self.price_sum = self.price[n - 1]  # 합계 금액\n",
    "\n",
    "                # 메뉴판에 없는 번호일 때\n",
    "            else:\n",
    "                print(\"없는 메뉴입니다. 다시 주문해 주세요.\")\n",
    "\n",
    "        # 음료 온도 물어보기\n",
    "        t = 0  # 기본값을 넣어주고\n",
    "        while t != 1 and t != 2:  # 1이나 2를 입력할 때까지 물어보기\n",
    "            t = int(input(\"HOT 음료는 1을, ICE 음료는 2를 입력하세요 : \"))\n",
    "            # 문제 2-3의 답을 입력하세요. \n",
    "            if t == 1:\n",
    "                temp = \"HOT\"\n",
    "            elif t == 2:\n",
    "                temp = \"ICE\"\n",
    "\n",
    "            else:\n",
    "                print(\"1과 2 중 하나를 입력하세요.\\n\")\n",
    "\n",
    "        self.order_menu.append(self.temp + ' ' + self.menu[n - 1])  # 주문 리스트에 추가합니다.\n",
    "        # 문제 2-2의 답을 입력하세요. \n",
    "        print(self.temp, self.menu[n - 1], ' : ', self.price_sum, '원')  # 온도 속성을 추가한 주문 결과를 출력합니다.\n",
    "\n",
    "        # 추가 주문 또는 지불\n",
    "        while n != 0:  # 지불을 선택하기 전까지 반복합니다.\n",
    "            print()  # 줄 바꾸면서 \n",
    "            n = int(input(\"추가 주문은 음료 번호를, 지불은 0을 누르세요 : \"))  # 추가 주문 또는 지불\n",
    "            if n > 0 and n < len(self.menu) + 1:\n",
    "                # 추가 음료 온도 \n",
    "                t = 0  # 기본값을 넣어주고\n",
    "                while t != 1 and t != 2:  # 1이나 2를 입력할 때까지 물어보기\n",
    "                    t = int(input(\"HOT 음료는 1을, ICE 음료는 2를 입력하세요 : \"))\n",
    "                    # 문제 2-3. 음료의 온도에 따라 temp 변수를 \"HOT\" 또는 \"ICE\"로 지정하세요.   \n",
    "                    # 힌트: if문을 활용해보세요.        \n",
    "                    # [[YOUR CODE]]   \n",
    "                    if t == 1:\n",
    "                        temp = \"HOT\"\n",
    "                    elif t == 2:\n",
    "                        temp = \"ICE\"\n",
    "                    else:\n",
    "                        print(\"1과 2 중 하나를 입력하세요.\\n\")\n",
    "                    # 문제 2-4. 추가 음료의 온도를 입력받고, 가격 리스트, 주문 리스트, 합계 금액을 업데이트해보세요.\n",
    "                    # [[YOUR CODE]]\n",
    "                self.order_menu.append(self.temp + ' ' + self.menu[n - 1])\n",
    "                self.order_price.append(self.price[n - 1])\n",
    "                self.price_sum = sum(self.order_price)\n",
    "                print('추가 주문 음료', self.order_menu[-1], ':', self.order_price[-1], '원\\n', '합계 : ',\n",
    "                      self.price_sum, '원')\n",
    "            else:\n",
    "                if n == 0:  # 지불을 입력하면\n",
    "                    print(\"주문이 완료되었습니다.\")\n",
    "                    print(self.order_menu, self.order_price)  # 확인을 위한 리스트를 출력합니다.\n",
    "                else:  # 없는 번호를 입력할 때\n",
    "                    print(\"없는 메뉴입니다. 다시 주문해 주세요.\")\n",
    "\n",
    "    # 지불\n",
    "    def pay(self):\n",
    "        payment = input(\"\"\"현금('cash' or 1) → '직원을 호출하겠습니다.'  \n",
    "    카드('card' or 2) → 'IC칩 방향에 맞게 카드를 꽂아주세요.'\"\"\")\n",
    "\n",
    "    # 주문서 출력 \n",
    "    def table(self):\n",
    "\n",
    "        # 외곽\n",
    "        print('⟝' + '-' * 30 + '⟞')\n",
    "        for i in range(5):\n",
    "            print('|' + ' ' * 31 + '|')\n",
    "\n",
    "        # 주문 상품명 : 해당 금액\n",
    "        for i in range(len(self.order_menu)):\n",
    "            print(self.order_menu[i], ' : ', self.order_price[i])\n",
    "\n",
    "        print('합계 금액 :', sum(self.order_price))\n",
    "\n",
    "        # 외곽\n",
    "        for i in range(5):\n",
    "            print('|' + ' ' * 31 + '|')\n",
    "        print('⟝' + '-' * 30 + '⟞')"
   ],
   "metadata": {
    "collapsed": false
   },
   "id": "d93fc0c6747cf837"
  },
  {
   "cell_type": "code",
   "execution_count": 71,
   "outputs": [],
   "source": [
    "class Kiosk:\n",
    "    def __init__(self):\n",
    "        # 메뉴와 가격을 2차원 리스트로 수정\n",
    "        self.menu = [\n",
    "            ['americano', 2000],\n",
    "            ['latte', 3000],\n",
    "            ['mocha', 3000],\n",
    "            ['yuza_tea', 2500],\n",
    "            ['green_tea', 2500],\n",
    "            ['choco_latte', 3000]\n",
    "        ]\n",
    "        self.temp = 'HOT'\n",
    "\n",
    "    # 메뉴 출력 메서드 수정\n",
    "    def menu_print(self):\n",
    "        for i, item in enumerate(self.menu):\n",
    "            print(i + 1, item[0], ' : ', item[1], '원')\n",
    "\n",
    "    # 주문 메서드 수정\n",
    "    def menu_select(self):\n",
    "        self.order_menu = []  # 주문 리스트\n",
    "        self.order_price = []  # 가격 리스트\n",
    "\n",
    "        n = 0\n",
    "        while n < 1 or len(self.menu) < n:\n",
    "            n = int(input(\"음료를 번호를 입력하세요 : \"))  # 음료 번호 입력\n",
    "\n",
    "            if 1 <= n <= len(self.menu):\n",
    "                self.order_price.append(self.menu[n - 1][1])  # 가격 리스트에 추가\n",
    "                self.price_sum = self.menu[n - 1][1]  # 합계 금액\n",
    "\n",
    "            else:\n",
    "                print(\"없는 메뉴입니다. 다시 주문해 주세요.\")\n",
    "\n",
    "            t = 0\n",
    "            while t != 1 and t != 2:\n",
    "                t = int(input(\"HOT 음료는 1을, ICE 음료는 2를 입력하세요 : \"))\n",
    "                if t == 1:\n",
    "                    temp = \"HOT\"\n",
    "                elif t == 2:\n",
    "                    temp = \"ICE\"\n",
    "                else:\n",
    "                    print(\"1과 2 중 하나를 입력하세요.\\n\")\n",
    "\n",
    "            self.order_menu.append(temp + ' ' + self.menu[n - 1][0])\n",
    "            print(temp, self.menu[n - 1][0], ' : ', self.price_sum, '원')\n",
    "\n",
    "        while n != 0:\n",
    "            print()\n",
    "            n = int(input(\"추가 주문은 음료 번호를, 지불은 0을 누르세요 : \"))\n",
    "            if 0 < n < len(self.menu) + 1:\n",
    "                t = 0\n",
    "                while t != 1 and t != 2:\n",
    "                    t = int(input(\"HOT 음료는 1을, ICE 음료는 2를 입력하세요 : \"))\n",
    "                    if t == 1:\n",
    "                        temp = \"HOT\"\n",
    "                    elif t == 2:\n",
    "                        temp = \"ICE\"\n",
    "                    else:\n",
    "                        print(\"1과 2 중 하나를 입력하세요.\\n\")\n",
    "\n",
    "                self.order_menu.append(temp + ' ' + self.menu[n - 1][0])\n",
    "                self.order_price.append(self.menu[n - 1][1])\n",
    "                self.price_sum = sum(self.order_price)\n",
    "                print('추가 주문 음료', self.order_menu[-1], ':', self.order_price[-1], '원\\n', '합계 : ',\n",
    "                      self.price_sum, '원')\n",
    "            else:\n",
    "                if n == 0:\n",
    "                    print(\"주문이 완료되었습니다.\")\n",
    "                    print(self.order_menu, self.order_price)\n",
    "                else:\n",
    "                    print(\"없는 메뉴입니다. 다시 주문해 주세요.\")\n",
    "\n",
    "    def pay(self):\n",
    "        payment = input(\"\"\"현금('cash' or 1) → '직원을 호출하겠습니다.'  \n",
    "    카드('card' or 2) → 'IC칩 방향에 맞게 카드를 꽂아주세요.'\"\"\")\n",
    "\n",
    "    def table(self):\n",
    "\n",
    "        # 외곽\n",
    "        print('⟝' + '-' * 30 + '⟞')\n",
    "        for i in range(5):\n",
    "            print('|' + ' ' * 31 + '|')\n",
    "\n",
    "        # 주문 상품명 : 해당 금액\n",
    "        for i in range(len(self.order_menu)):\n",
    "            print(self.order_menu[i], ' : ', self.order_price[i])\n",
    "\n",
    "        print('합계 금액 :', sum(self.order_price))\n",
    "\n",
    "        # 외곽\n",
    "        for i in range(5):\n",
    "            print('|' + ' ' * 31 + '|')\n",
    "        print('⟝' + '-' * 30 + '⟞')"
   ],
   "metadata": {
    "collapsed": false,
    "ExecuteTime": {
     "end_time": "2023-11-22T06:32:43.925879Z",
     "start_time": "2023-11-22T06:32:43.898296Z"
    }
   },
   "id": "e3e5aeb42a23dd43"
  },
  {
   "cell_type": "code",
   "execution_count": 73,
   "outputs": [
    {
     "name": "stdout",
     "output_type": "stream",
     "text": [
      "1 americano  :  2000 원\n",
      "2 latte  :  3000 원\n",
      "3 mocha  :  3000 원\n",
      "4 yuza_tea  :  2500 원\n",
      "5 green_tea  :  2500 원\n",
      "6 choco_latte  :  3000 원\n",
      "HOT mocha  :  3000 원\n",
      "추가 주문 음료 ICE mocha : 3000 원\n",
      " 합계 :  6000 원\n",
      "추가 주문 음료 HOT green_tea : 2500 원\n",
      " 합계 :  8500 원\n",
      "주문이 완료되었습니다.\n",
      "['HOT mocha', 'ICE mocha', 'HOT green_tea'] [3000, 3000, 2500]\n",
      "⟝------------------------------⟞\n",
      "|                               |\n",
      "|                               |\n",
      "|                               |\n",
      "|                               |\n",
      "|                               |\n",
      "HOT mocha  :  3000\n",
      "ICE mocha  :  3000\n",
      "HOT green_tea  :  2500\n",
      "합계 금액 : 8500\n",
      "|                               |\n",
      "|                               |\n",
      "|                               |\n",
      "|                               |\n",
      "|                               |\n",
      "⟝------------------------------⟞\n"
     ]
    }
   ],
   "source": [
    "a = Kiosk()  # 객체 생성 \n",
    "a.menu_print()  # 메뉴 출력\n",
    "a.menu_select()  # 주문\n",
    "a.pay()  # 지불\n",
    "a.table()  # 주문표 출력"
   ],
   "metadata": {
    "collapsed": false,
    "ExecuteTime": {
     "end_time": "2023-11-22T06:33:19.879303Z",
     "start_time": "2023-11-22T06:33:00.670190Z"
    }
   },
   "id": "c8f6e7128a5549a9"
  },
  {
   "cell_type": "code",
   "execution_count": 1,
   "outputs": [
    {
     "data": {
      "text/plain": "808"
     },
     "execution_count": 1,
     "metadata": {},
     "output_type": "execute_result"
    }
   ],
   "source": [
    "birth = [203, 808]\n",
    "birth.pop()"
   ],
   "metadata": {
    "collapsed": false,
    "ExecuteTime": {
     "end_time": "2023-11-22T23:46:04.638656300Z",
     "start_time": "2023-11-22T23:46:04.620143100Z"
    }
   },
   "id": "f43dd64ef4f01bcd"
  },
  {
   "cell_type": "code",
   "execution_count": null,
   "outputs": [],
   "source": [
    "a = 123\n",
    "b = '123'\n",
    "\n",
    "\n",
    "def hello(x):\n",
    "    greeting = 'hello' + x\n",
    "    print(greeting)\n",
    "\n",
    "\n",
    "hello(b)"
   ],
   "metadata": {
    "collapsed": false
   },
   "id": "3a133955887ac173"
  }
 ],
 "metadata": {
  "kernelspec": {
   "display_name": "Python 3",
   "language": "python",
   "name": "python3"
  },
  "language_info": {
   "codemirror_mode": {
    "name": "ipython",
    "version": 2
   },
   "file_extension": ".py",
   "mimetype": "text/x-python",
   "name": "python",
   "nbconvert_exporter": "python",
   "pygments_lexer": "ipython2",
   "version": "2.7.6"
  }
 },
 "nbformat": 4,
 "nbformat_minor": 5
}
