{
 "cells": [
  {
   "cell_type": "markdown",
   "source": [
    "2-6 함수"
   ],
   "metadata": {
    "collapsed": false
   },
   "id": "bac3a4bd1232baab"
  },
  {
   "cell_type": "code",
   "execution_count": 7,
   "outputs": [],
   "source": [
    "def dog_info(**dict):\n",
    "    for key, value in dict.items():\n",
    "        print(key, ':', value)"
   ],
   "metadata": {
    "collapsed": false,
    "ExecuteTime": {
     "start_time": "2023-11-20T06:27:27.750872Z"
    }
   },
   "id": "initial_id"
  },
  {
   "cell_type": "code",
   "execution_count": 8,
   "outputs": [
    {
     "name": "stdout",
     "output_type": "stream",
     "text": [
      "name : 규봉이\n"
     ]
    }
   ],
   "source": [
    "dog_info(name = '규봉이')"
   ],
   "metadata": {
    "collapsed": false,
    "ExecuteTime": {
     "end_time": "2023-11-20T06:27:28.172554Z",
     "start_time": "2023-11-20T06:27:28.156534Z"
    }
   },
   "id": "2a9ab0acb54c3159"
  },
  {
   "cell_type": "code",
   "execution_count": 9,
   "outputs": [
    {
     "name": "stdout",
     "output_type": "stream",
     "text": [
      "name : 규봉이\n",
      "age : 10\n",
      "gender : male\n"
     ]
    }
   ],
   "source": [
    "dog_info(name = '규봉이',age = 10, gender = 'male')"
   ],
   "metadata": {
    "collapsed": false,
    "ExecuteTime": {
     "end_time": "2023-11-20T06:27:28.746898Z",
     "start_time": "2023-11-20T06:27:28.735155Z"
    }
   },
   "id": "182156e9bbc696f9"
  },
  {
   "cell_type": "code",
   "execution_count": 10,
   "outputs": [
    {
     "name": "stdout",
     "output_type": "stream",
     "text": [
      "name : 규봉이\n",
      "age : 10\n",
      "gender : male\n"
     ]
    }
   ],
   "source": [
    "a = {'name': '규봉이','age':10,'gender':'male'}\n",
    "\n",
    "dog_info(**a)"
   ],
   "metadata": {
    "collapsed": false,
    "ExecuteTime": {
     "end_time": "2023-11-20T06:29:16.338403Z",
     "start_time": "2023-11-20T06:29:16.291589Z"
    }
   },
   "id": "e8589b1da7e507be"
  },
  {
   "cell_type": "code",
   "execution_count": 16,
   "outputs": [
    {
     "data": {
      "text/plain": "True"
     },
     "execution_count": 16,
     "metadata": {},
     "output_type": "execute_result"
    }
   ],
   "source": [
    "# 실습퀴즈4. 논리 연산자\n",
    "# 토끼는 귀엽고, 착하고, 빠르다.\n",
    "# True가 나와야 정답입니다.\n",
    "\n",
    "rabbit = ['귀엽다' , '착하다', '똑똑하다', '빠르다']\n",
    "\n",
    "('귀엽다' and '착하다' and '빠르다') in rabbit\n",
    "\n",
    "# 위의 코드를 풀어서 표현할 수도 있습니다. \n",
    "\n",
    "'귀엽다' in rabbit and '착하다' in rabbit and '빠르다' in rabbit"
   ],
   "metadata": {
    "collapsed": false,
    "ExecuteTime": {
     "end_time": "2023-11-20T06:43:05.070277Z",
     "start_time": "2023-11-20T06:43:05.022402Z"
    }
   },
   "id": "71b564ece0e95a71"
  },
  {
   "cell_type": "code",
   "execution_count": 17,
   "outputs": [
    {
     "name": "stdout",
     "output_type": "stream",
     "text": [
      "막다른 절벽\n"
     ]
    }
   ],
   "source": [
    "# 실습퀴즈6. 조건문  \n",
    "# 앞으로 가면 강이고, 왼쪽으로 가면 산이다. 그 이외에는 막다른 절벽이다. \n",
    "\n",
    "move =  input(\"가고 싶은 곳을 넣어주세요.\")\n",
    "\n",
    "if move == 'front':                      # 조건1\n",
    "    print('강이 흐르고 있어.')      # 수행할 문장1\n",
    "elif move == 'left':\n",
    "    print('산이 있다')\n",
    "else:\n",
    "    print('막다른 절벽')\n",
    "\n",
    "# [[YOUR CODE]]:                     # 조건2\n",
    "# [[YOUR CODE]]                  # 수행할 문장2\n",
    "# [[YOUR CODE]]: \n",
    "# [[YOUR CODE]]                  # 수행할 문장3"
   ],
   "metadata": {
    "collapsed": false,
    "ExecuteTime": {
     "end_time": "2023-11-20T06:45:55.183550Z",
     "start_time": "2023-11-20T06:45:53.275081Z"
    }
   },
   "id": "d931d890bb37b5f"
  },
  {
   "cell_type": "code",
   "execution_count": 20,
   "outputs": [
    {
     "name": "stdout",
     "output_type": "stream",
     "text": [
      "저를 소개합니다.\n",
      "이름은 김지한입니다. 나이는 19이고요, MBTI는 INTP입니다.\n"
     ]
    }
   ],
   "source": [
    "# 실습퀴즈7. 함수\n",
    "# 나만의 프로필 함수를 만들어 보세요. \n",
    "\n",
    "def my_profile(**kwargs):    # 키워드 가변 인수 활용\n",
    "    print('저를 소개합니다.')\n",
    "    print(f'이름은 {kwargs[\"name\"]}입니다. 나이는 {kwargs[\"age\"]}이고요, MBTI는 {kwargs[\"MBTI\"]}입니다.' )\n",
    "\n",
    "# 여러분의 프로필을 넣어보세요. \n",
    "me = {'name':'김지한', 'age':19 ,'MBTI':'INTP'} \n",
    "\n",
    "my_profile(**me)"
   ],
   "metadata": {
    "collapsed": false,
    "ExecuteTime": {
     "end_time": "2023-11-20T06:51:02.669993Z",
     "start_time": "2023-11-20T06:51:02.651520Z"
    }
   },
   "id": "7dfec75054f1ac4"
  },
  {
   "cell_type": "code",
   "execution_count": 21,
   "outputs": [
    {
     "name": "stdout",
     "output_type": "stream",
     "text": [
      "65\n",
      "73\n",
      "70\n",
      "69\n",
      "76\n"
     ]
    }
   ],
   "source": [
    "# 실습퀴즈3. 아스키 코드\n",
    "# AIFFEL의 아스키 코드를 알 수 있는 코드를 직접 작성해보세요.\n",
    "\n",
    "for x in 'AIFEL':\n",
    "    print(ord(x))"
   ],
   "metadata": {
    "collapsed": false,
    "ExecuteTime": {
     "end_time": "2023-11-20T10:20:25.974766Z",
     "start_time": "2023-11-20T10:20:25.973379Z"
    }
   },
   "id": "880f8eb258ce668e"
  },
  {
   "cell_type": "code",
   "execution_count": 2,
   "outputs": [
    {
     "name": "stdout",
     "output_type": "stream",
     "text": [
      "🐠🐟🐡🐬🦈🦭🐳🐋🐙🦑🦞🦀🦐\n",
      "peace\n",
      "🐆🐅🐃🐂🐄🦬🐪🐫🦙🐘🦏🦛🦣\n"
     ]
    }
   ],
   "source": [
    "# 실습퀴즈3. 데코레이터 \n",
    "\n",
    "class ThisisDecorator:\n",
    "    def __init__(self, f):\n",
    "        self.func = f\n",
    "    def __call__(self, *args, **kwargs):\n",
    "        print('🐠🐟🐡🐬🦈🦭🐳🐋🐙🦑🦞🦀🦐')\n",
    "        self.func()\n",
    "        print('🐆🐅🐃🐂🐄🦬🐪🐫🦙🐘🦏🦛🦣')\n",
    "\n",
    "class Peace:\n",
    "    @ThisisDecorator\n",
    "    def peace_function():\n",
    "        print('peace')\n",
    "\n",
    "peace = Peace()\n",
    "peace.peace_function()"
   ],
   "metadata": {
    "collapsed": false,
    "ExecuteTime": {
     "end_time": "2023-11-21T07:09:57.398415Z",
     "start_time": "2023-11-21T07:09:57.253348Z"
    }
   },
   "id": "e63cdbf54674d458"
  },
  {
   "cell_type": "code",
   "execution_count": 8,
   "outputs": [
    {
     "name": "stdout",
     "output_type": "stream",
     "text": [
      "20\n",
      "50\n"
     ]
    }
   ],
   "source": [
    "# 실습퀴즈3. 개수를 더해서 누적이 되도록 만들기 \n",
    "# 아래의 결과값이 누적이 되도록 코드를 추가해 주세요.\n",
    "def closure_counter():\n",
    "    count = 0\n",
    "    def counter(num):\n",
    "        nonlocal count\n",
    "        count = num +count\n",
    "        print(count)\n",
    "    return counter\n",
    "\n",
    "# 결과 확인\n",
    "counter = closure_counter()\n",
    "counter(20)\n",
    "counter(30) # 출력이 50이 되어야 합니다."
   ],
   "metadata": {
    "collapsed": false,
    "ExecuteTime": {
     "end_time": "2023-11-21T13:47:22.687801Z",
     "start_time": "2023-11-21T13:47:22.678490Z"
    }
   },
   "id": "bbc8235a5b6061bf"
  },
  {
   "cell_type": "code",
   "execution_count": 9,
   "outputs": [
    {
     "ename": "SyntaxError",
     "evalue": "invalid syntax (549158568.py, line 15)",
     "output_type": "error",
     "traceback": [
      "\u001B[0;36m  Cell \u001B[0;32mIn[9], line 15\u001B[0;36m\u001B[0m\n\u001B[0;31m    length = # [[YOUR CODE]]\u001B[0m\n\u001B[0m             ^\u001B[0m\n\u001B[0;31mSyntaxError\u001B[0m\u001B[0;31m:\u001B[0m invalid syntax\n"
     ]
    }
   ],
   "source": [
    "# 실습퀴즈4. 문자열의 길이를 판별하는 함수를 만들어 보세요.\n",
    "\n",
    "def closure_str_checker():\n",
    "    # 문자열이 길면 알려주는 함수\n",
    "    def check_length(limit):\n",
    "        def length_func(string):\n",
    "            if len(string) > limit:\n",
    "                return f'길이는 {len(string)}개 입니다. 지정한 길이보다 길어요.'\n",
    "            else:\n",
    "                return \"길이가 적당합니다.\"\n",
    "        return length_func\n",
    "\n",
    "    def str_checker(string):\n",
    "        num_len = 20 # 길이를 설정합니다. \n",
    "        length = # [[YOUR CODE]]\n",
    "        if     # [[YOUR CODE]]\n",
    "            print('문자열의 길이가 0보다 작거나 같습니다.')\n",
    "        else:\n",
    "            print('문자열의 길이 :', # [[YOUR CODE]], # [[YOUR CODE]], sep='\\n')\n",
    "    return str_checker\n",
    "\n",
    "check = closure_str_checker()\n",
    "test_str = '화이팅. 아자 아자 화이팅!' # 길이가 다른 문자열을 입력해보세요. \n",
    "check(test_str)"
   ],
   "metadata": {
    "collapsed": false,
    "ExecuteTime": {
     "end_time": "2023-11-21T13:53:36.902700Z",
     "start_time": "2023-11-21T13:53:36.887272Z"
    }
   },
   "id": "33fe4e471a8f4237"
  },
  {
   "cell_type": "code",
   "execution_count": null,
   "outputs": [],
   "source": [
    "# try - except - else 구문 \n",
    "\n",
    "# 시도할 코드\n",
    "try:\n",
    "    # 예외 걱정 없이 입력값에 float 함수를 씌움\n",
    "    num = float(input('수를 입력하세요 : '))\n",
    "\n",
    "# try에서 예외가 발생했을 때 실행할 코드\n",
    "except:\n",
    "    print('수가 아닙니다.')\n",
    "\n",
    "# try에서 예외가 발생하지 않을 때 실행할 코드\n",
    "else:\n",
    "    print(f'입력한 수는 {num}입니다.')"
   ],
   "metadata": {
    "collapsed": false
   },
   "id": "15cb35d756c416f0"
  }
 ],
 "metadata": {
  "kernelspec": {
   "display_name": "Python 3",
   "language": "python",
   "name": "python3"
  },
  "language_info": {
   "codemirror_mode": {
    "name": "ipython",
    "version": 2
   },
   "file_extension": ".py",
   "mimetype": "text/x-python",
   "name": "python",
   "nbconvert_exporter": "python",
   "pygments_lexer": "ipython2",
   "version": "2.7.6"
  }
 },
 "nbformat": 4,
 "nbformat_minor": 5
}
