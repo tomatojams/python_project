{
 "nbformat": 4,
 "nbformat_minor": 0,
 "metadata": {
  "colab": {
   "provenance": []
  },
  "kernelspec": {
   "display_name": "Python 3",
   "language": "python",
   "name": "python3"
  },
  "language_info": {
   "codemirror_mode": {
    "name": "ipython",
    "version": 3
   },
   "file_extension": ".py",
   "mimetype": "text/x-python",
   "name": "python",
   "nbconvert_exporter": "python",
   "pygments_lexer": "ipython3",
   "version": "3.6.8"
  }
 },
 "cells": [
  {
   "cell_type": "markdown",
   "metadata": {
    "id": "VxCeEJ9mjZuC"
   },
   "source": [
    "# Logistic Regression"
   ]
  },
  {
   "cell_type": "code",
   "metadata": {
    "id": "gEndPDUNEe-H",
    "colab": {
     "base_uri": "https://localhost:8080/",
     "height": 36
    },
    "executionInfo": {
     "status": "ok",
     "timestamp": 1675217760454,
     "user_tz": -540,
     "elapsed": 4444,
     "user": {
      "displayName": "­소준섭",
      "userId": "06480402923742517511"
     }
    },
    "outputId": "a39fb250-15f9-4530-f71e-0e9ceb5b3ecd",
    "ExecuteTime": {
     "end_time": "2023-12-20T03:05:23.063826Z",
     "start_time": "2023-12-20T03:05:20.168755Z"
    }
   },
   "source": [
    "import tensorflow as tf\n",
    "import numpy as np\n",
    "import matplotlib.pyplot as plt\n",
    "\n",
    "tf.__version__"
   ],
   "execution_count": 1,
   "outputs": [
    {
     "data": {
      "text/plain": "'2.10.0'"
     },
     "execution_count": 1,
     "metadata": {},
     "output_type": "execute_result"
    }
   ]
  },
  {
   "cell_type": "markdown",
   "metadata": {
    "id": "dRqCpkpdMdTQ"
   },
   "source": [
    "## Make a dataset for Logistic Regression\n",
    "\n",
    "### Logistic Regression을 위한 Dataset을 임의로 만들어 봅시다.\n",
    "\n",
    "* 2가지 위치에 몰려있는 데이터\n",
    "* 테스트를 위한 빨간색 데이터"
   ]
  },
  {
   "cell_type": "code",
   "metadata": {
    "id": "9yre_ERVEma8",
    "colab": {
     "base_uri": "https://localhost:8080/",
     "height": 279
    },
    "executionInfo": {
     "status": "ok",
     "timestamp": 1675217761054,
     "user_tz": -540,
     "elapsed": 604,
     "user": {
      "displayName": "­소준섭",
      "userId": "06480402923742517511"
     }
    },
    "outputId": "3994134f-c47f-4f39-c57a-56deff84c037",
    "ExecuteTime": {
     "end_time": "2023-12-20T03:05:23.214824Z",
     "start_time": "2023-12-20T03:05:23.065068Z"
    }
   },
   "source": [
    "x_train = [[1., 1.2],\n",
    "          [2., 1.3],\n",
    "          [3., 1.1],\n",
    "          [4., 2.9],\n",
    "          [5., 2.7],\n",
    "          [6., 2.8]]\n",
    "y_train = [[0.],\n",
    "          [0.],\n",
    "          [0.],\n",
    "          [1.],\n",
    "          [1.],\n",
    "          [1.]] \n",
    "\n",
    "x_test = [[3.5,2.15]]\n",
    "y_test = [[1.]]\n",
    "\n",
    "x1 = [x[0] for x in x_train]\n",
    "x2 = [x[1] for x in x_train]\n",
    "\n",
    "colors = [int(y[0] % 3) for y in y_train]\n",
    "plt.scatter(x1,x2, c=colors , marker='^')\n",
    "plt.scatter(x_test[0][0],x_test[0][1], c=\"red\")\n",
    "\n",
    "plt.xlabel(\"x1\")\n",
    "plt.ylabel(\"x2\")\n",
    "plt.show()"
   ],
   "execution_count": 2,
   "outputs": [
    {
     "data": {
      "text/plain": "<Figure size 640x480 with 1 Axes>",
      "image/png": "[encoded data removed]"
     },
     "metadata": {},
     "output_type": "display_data"
    }
   ]
  },
  {
   "cell_type": "markdown",
   "metadata": {
    "id": "5hYtiGWxjZuJ"
   },
   "source": [
    "## tf.data.Dataset\n",
    "* 데이터를 관리해주기위한 tf function\n",
    "* 각 데이터의 필요 기능들을 지원해준다.\n",
    "* 데이터셋 크기가 클 경우에 메모리에 나눠올리는 기능을 지원"
   ]
  },
  {
   "cell_type": "code",
   "source": [
    "# dataset = tf.data.Dataset.from_tensor_slices(\n",
    "#     (x_train, y_train))\n",
    "\n",
    "# for t, l in dataset:\n",
    "#   print(t, l)\n",
    "#   break"
   ],
   "metadata": {
    "id": "_HugkU46hHhd",
    "executionInfo": {
     "status": "ok",
     "timestamp": 1675217761054,
     "user_tz": -540,
     "elapsed": 8,
     "user": {
      "displayName": "­소준섭",
      "userId": "06480402923742517511"
     }
    },
    "ExecuteTime": {
     "end_time": "2023-12-18T03:32:02.859755Z",
     "start_time": "2023-12-18T03:32:02.857426Z"
    }
   },
   "execution_count": 3,
   "outputs": []
  },
  {
   "cell_type": "code",
   "source": [
    "dataset = tf.data.Dataset.from_tensor_slices(\n",
    "    (x_train, y_train)).batch(len(x_train))\n",
    "\n",
    "# for t, l in dataset:\n",
    "#   print(t, l)\n",
    "#   break"
   ],
   "metadata": {
    "id": "0ODC9BKIhLeT",
    "executionInfo": {
     "status": "ok",
     "timestamp": 1675217761054,
     "user_tz": -540,
     "elapsed": 7,
     "user": {
      "displayName": "­소준섭",
      "userId": "06480402923742517511"
     }
    },
    "ExecuteTime": {
     "end_time": "2023-12-20T03:06:00.898987Z",
     "start_time": "2023-12-20T03:06:00.776197Z"
    }
   },
   "execution_count": 3,
   "outputs": [
    {
     "name": "stdout",
     "output_type": "stream",
     "text": [
      "Metal device set to: Apple M1\n"
     ]
    },
    {
     "name": "stderr",
     "output_type": "stream",
     "text": [
      "2023-12-20 12:06:00.782046: I tensorflow/core/common_runtime/pluggable_device/pluggable_device_factory.cc:306] Could not identify NUMA node of platform GPU ID 0, defaulting to 0. Your kernel may not have been built with NUMA support.\n",
      "2023-12-20 12:06:00.782745: I tensorflow/core/common_runtime/pluggable_device/pluggable_device_factory.cc:272] Created TensorFlow device (/job:localhost/replica:0/task:0/device:GPU:0 with 0 MB memory) -> physical PluggableDevice (device: 0, name: METAL, pci bus id: <undefined>)\n"
     ]
    }
   ]
  },
  {
   "cell_type": "code",
   "metadata": {
    "id": "MxddblPApI8v",
    "colab": {
     "base_uri": "https://localhost:8080/"
    },
    "executionInfo": {
     "status": "ok",
     "timestamp": 1675217761054,
     "user_tz": -540,
     "elapsed": 7,
     "user": {
      "displayName": "­소준섭",
      "userId": "06480402923742517511"
     }
    },
    "outputId": "94bcf791-be3a-46d5-b56f-1423bf410f12",
    "ExecuteTime": {
     "end_time": "2023-12-20T03:06:26.083824Z",
     "start_time": "2023-12-20T03:06:25.524351Z"
    }
   },
   "source": [
    "\n",
    "\n",
    "W = tf.Variable(tf.random.normal([2,1]), name='weight')\n",
    "b = tf.Variable(tf.random.normal([1]), name='bias')\n",
    "\n",
    "tf.print(W, b)"
   ],
   "execution_count": 4,
   "outputs": [
    {
     "name": "stdout",
     "output_type": "stream",
     "text": [
      "[[-2.14537883]\n",
      " [-1.33359361]] [-1.35441589]\n"
     ]
    }
   ]
  },
  {
   "cell_type": "markdown",
   "metadata": {
    "id": "BYPKT6To56Iv"
   },
   "source": [
    "## Sigmoid 함수를 가설로 선언합니다\n",
    "* Sigmoid는 아래 그래프와 같이 0과 1의 값만을 리턴합니다 tf.sigmoid(tf.matmul(X, W) + b)와 같습니다\n",
    "\n",
    "## $$\n",
    "\\begin{align}\n",
    "sigmoid(x) & = \\frac{1}{1+e^{-x}}  \\\\\\\\\\\n",
    "\\end{align}\n",
    "$$\n",
    "\n",
    "![sigmoid](https://upload.wikimedia.org/wikipedia/commons/8/88/Logistic-curve.svg)"
   ]
  },
  {
   "cell_type": "code",
   "metadata": {
    "id": "LFAWvdar8PP-",
    "colab": {
     "base_uri": "https://localhost:8080/"
    },
    "executionInfo": {
     "status": "ok",
     "timestamp": 1675217761054,
     "user_tz": -540,
     "elapsed": 5,
     "user": {
      "displayName": "­소준섭",
      "userId": "06480402923742517511"
     }
    },
    "outputId": "a205371c-0955-4bbd-e906-a3fcdd4557e4",
    "ExecuteTime": {
     "end_time": "2023-12-20T03:06:38.869153Z",
     "start_time": "2023-12-20T03:06:38.553348Z"
    }
   },
   "source": [
    "def logistic_regression(features):\n",
    "    hypothesis  = tf.divide(1., 1. + tf.exp(-(tf.matmul(features, W) + b)))\n",
    "    # tf.sigmoid(tf.matmul(features, W) + b)\n",
    "    return hypothesis\n",
    "\n",
    "tf.print(logistic_regression(x_train))"
   ],
   "execution_count": 5,
   "outputs": [
    {
     "name": "stdout",
     "output_type": "stream",
     "text": [
      "[[0.0060591558]\n",
      " [0.000623931875]\n",
      " [9.53839e-05]\n",
      " [1.01223145e-06]\n",
      " [1.54663724e-07]\n",
      " [1.58396336e-08]]\n"
     ]
    }
   ]
  },
  {
   "cell_type": "markdown",
   "metadata": {
    "id": "PXHVNZ6W8V83"
   },
   "source": [
    "## 가설을 검증할 Cost 함수를 정의합니다\n",
    "$$\n",
    "\\begin{align}\n",
    "cost(h(x),y) & = −log(h(x))  &  if :  &  y=1 \\\\\\\\\\\n",
    "cost(h(x),y) & = -log(1−h(x))  &  if :  &  y=0\n",
    "\\end{align}\n",
    "$$\n",
    "\n",
    "### 두 식을 한번에 쓰게되면,\n",
    "\n",
    "$$\n",
    "\\begin{align}\n",
    "cost(h(x),y) & = −y log(h(x))−(1−y)log(1−h(x))\n",
    "\\end{align}\n",
    "$$"
   ]
  },
  {
   "cell_type": "code",
   "metadata": {
    "id": "oxIgE6nt8zvR",
    "executionInfo": {
     "status": "ok",
     "timestamp": 1675217761055,
     "user_tz": -540,
     "elapsed": 5,
     "user": {
      "displayName": "­소준섭",
      "userId": "06480402923742517511"
     }
    },
    "ExecuteTime": {
     "end_time": "2023-12-20T03:08:54.043867Z",
     "start_time": "2023-12-20T03:08:54.004037Z"
    }
   },
   "source": [
    "def loss_fn(hypothesis, labels):\n",
    "    cost = -tf.reduce_mean(labels * tf.math.log(hypothesis) + \\\n",
    "                           (1 - labels) * tf.math.log(1 - hypothesis))\n",
    "    return cost\n",
    "\n",
    "optimizer = tf.compat.v1.train.GradientDescentOptimizer(learning_rate=0.001)"
   ],
   "execution_count": 8,
   "outputs": []
  },
  {
   "cell_type": "code",
   "metadata": {
    "id": "8xmYMVq65vFd",
    "colab": {
     "base_uri": "https://localhost:8080/"
    },
    "outputId": "344b7c66-5227-4913-924e-6788aab98681",
    "ExecuteTime": {
     "end_time": "2023-12-20T03:09:20.191278Z",
     "start_time": "2023-12-20T03:08:54.735510Z"
    }
   },
   "source": [
    "epochs = 5000\n",
    "\n",
    "for step in range(epochs):\n",
    "  for features, labels in dataset:\n",
    "    with tf.GradientTape() as tape:\n",
    "      loss_value = loss_fn(logistic_regression(features),labels)\n",
    "      grads = tape.gradient(loss_value, [W,b])\n",
    "      optimizer.apply_gradients(grads_and_vars=zip(grads,[W,b]))\n",
    "      if step % 100 == 0:\n",
    "            print(\"Iter: {}, Loss: {:.4f}\".format(step, loss_fn(logistic_regression(features),labels)))"
   ],
   "execution_count": 9,
   "outputs": [
    {
     "name": "stdout",
     "output_type": "stream",
     "text": [
      "Iter: 0, Loss: 0.4126\n",
      "Iter: 100, Loss: 0.4112\n",
      "Iter: 200, Loss: 0.4097\n",
      "Iter: 300, Loss: 0.4083\n",
      "Iter: 400, Loss: 0.4068\n",
      "Iter: 500, Loss: 0.4054\n",
      "Iter: 600, Loss: 0.4040\n",
      "Iter: 700, Loss: 0.4026\n",
      "Iter: 800, Loss: 0.4012\n",
      "Iter: 900, Loss: 0.3998\n",
      "Iter: 1000, Loss: 0.3984\n",
      "Iter: 1100, Loss: 0.3970\n",
      "Iter: 1200, Loss: 0.3956\n",
      "Iter: 1300, Loss: 0.3943\n",
      "Iter: 1400, Loss: 0.3929\n",
      "Iter: 1500, Loss: 0.3916\n",
      "Iter: 1600, Loss: 0.3902\n",
      "Iter: 1700, Loss: 0.3889\n",
      "Iter: 1800, Loss: 0.3876\n",
      "Iter: 1900, Loss: 0.3863\n",
      "Iter: 2000, Loss: 0.3850\n",
      "Iter: 2100, Loss: 0.3837\n",
      "Iter: 2200, Loss: 0.3824\n",
      "Iter: 2300, Loss: 0.3811\n",
      "Iter: 2400, Loss: 0.3798\n",
      "Iter: 2500, Loss: 0.3786\n",
      "Iter: 2600, Loss: 0.3773\n",
      "Iter: 2700, Loss: 0.3760\n",
      "Iter: 2800, Loss: 0.3748\n",
      "Iter: 2900, Loss: 0.3736\n",
      "Iter: 3000, Loss: 0.3723\n",
      "Iter: 3100, Loss: 0.3711\n",
      "Iter: 3200, Loss: 0.3699\n",
      "Iter: 3300, Loss: 0.3687\n",
      "Iter: 3400, Loss: 0.3675\n",
      "Iter: 3500, Loss: 0.3663\n",
      "Iter: 3600, Loss: 0.3651\n",
      "Iter: 3700, Loss: 0.3639\n",
      "Iter: 3800, Loss: 0.3627\n",
      "Iter: 3900, Loss: 0.3615\n",
      "Iter: 4000, Loss: 0.3604\n",
      "Iter: 4100, Loss: 0.3592\n",
      "Iter: 4200, Loss: 0.3581\n",
      "Iter: 4300, Loss: 0.3569\n",
      "Iter: 4400, Loss: 0.3558\n",
      "Iter: 4500, Loss: 0.3547\n",
      "Iter: 4600, Loss: 0.3535\n",
      "Iter: 4700, Loss: 0.3524\n",
      "Iter: 4800, Loss: 0.3513\n",
      "Iter: 4900, Loss: 0.3502\n"
     ]
    }
   ]
  },
  {
   "cell_type": "code",
   "metadata": {
    "id": "Ci-nHblj--z9",
    "ExecuteTime": {
     "end_time": "2023-12-20T03:09:20.197929Z",
     "start_time": "2023-12-20T03:09:20.192533Z"
    }
   },
   "source": [
    "def accuracy_fn(hypothesis, labels):\n",
    "    print(hypothesis)\n",
    "    predicted = tf.cast(hypothesis > 0.5, dtype=tf.float32)\n",
    "    print(predicted, labels)\n",
    "    accuracy = tf.reduce_mean(tf.cast(tf.equal(predicted, labels), dtype=tf.float32))\n",
    "    return accuracy"
   ],
   "execution_count": 10,
   "outputs": []
  },
  {
   "cell_type": "code",
   "metadata": {
    "id": "YANtydPI6-sl",
    "ExecuteTime": {
     "end_time": "2023-12-20T03:09:20.566392Z",
     "start_time": "2023-12-20T03:09:20.196269Z"
    }
   },
   "source": [
    "test_acc = accuracy_fn(logistic_regression(x_test),y_test)\n",
    "print(\"Testset Accuracy: {:.4f}\".format(test_acc))"
   ],
   "execution_count": 11,
   "outputs": [
    {
     "name": "stdout",
     "output_type": "stream",
     "text": [
      "tf.Tensor([[0.64008737]], shape=(1, 1), dtype=float32)\n",
      "tf.Tensor([[1.]], shape=(1, 1), dtype=float32) [[1.0]]\n",
      "Testset Accuracy: 1.0000\n"
     ]
    }
   ]
  },
  {
   "cell_type": "code",
   "metadata": {
    "id": "Joo_P-vtjZud"
   },
   "source": [],
   "execution_count": null,
   "outputs": []
  }
 ]
}
