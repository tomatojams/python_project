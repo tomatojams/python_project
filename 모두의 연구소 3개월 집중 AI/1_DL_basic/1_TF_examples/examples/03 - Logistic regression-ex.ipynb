{
 "nbformat": 4,
 "nbformat_minor": 0,
 "metadata": {
  "colab": {
   "provenance": []
  },
  "kernelspec": {
   "display_name": "Python 3",
   "language": "python",
   "name": "python3"
  },
  "language_info": {
   "codemirror_mode": {
    "name": "ipython",
    "version": 3
   },
   "file_extension": ".py",
   "mimetype": "text/x-python",
   "name": "python",
   "nbconvert_exporter": "python",
   "pygments_lexer": "ipython3",
   "version": "3.6.8"
  }
 },
 "cells": [
  {
   "cell_type": "markdown",
   "metadata": {
    "id": "VxCeEJ9mjZuC"
   },
   "source": [
    "# Logistic Regression"
   ]
  },
  {
   "cell_type": "code",
   "metadata": {
    "id": "gEndPDUNEe-H",
    "colab": {
     "base_uri": "https://localhost:8080/",
     "height": 36
    },
    "executionInfo": {
     "status": "ok",
     "timestamp": 1675217760454,
     "user_tz": -540,
     "elapsed": 4444,
     "user": {
      "displayName": "­소준섭",
      "userId": "06480402923742517511"
     }
    },
    "outputId": "a39fb250-15f9-4530-f71e-0e9ceb5b3ecd",
    "ExecuteTime": {
     "end_time": "2023-12-20T05:02:41.779408Z",
     "start_time": "2023-12-20T05:02:41.716134Z"
    }
   },
   "source": [
    "import tensorflow as tf\n",
    "import numpy as np\n",
    "import matplotlib.pyplot as plt\n",
    "import pandas as pd\n",
    "\n",
    "tf.__version__"
   ],
   "execution_count": 109,
   "outputs": [
    {
     "data": {
      "text/plain": "'2.10.0'"
     },
     "execution_count": 109,
     "metadata": {},
     "output_type": "execute_result"
    }
   ]
  },
  {
   "cell_type": "markdown",
   "metadata": {
    "id": "dRqCpkpdMdTQ"
   },
   "source": [
    "## Make a dataset for Logistic Regression\n",
    "\n",
    "### Logistic Regression을 위한 Dataset을 임의로 만들어 봅시다.\n",
    "\n",
    "* 2가지 위치에 몰려있는 데이터\n",
    "* 테스트를 위한 빨간색 데이터"
   ]
  },
  {
   "cell_type": "markdown",
   "metadata": {
    "id": "5hYtiGWxjZuJ"
   },
   "source": [
    "## tf.data.Dataset\n",
    "* 데이터를 관리해주기위한 tf function\n",
    "* 각 데이터의 필요 기능들을 지원해준다.\n",
    "* 데이터셋 크기가 클 경우에 메모리에 나눠올리는 기능을 지원"
   ]
  },
  {
   "cell_type": "code",
   "source": [
    "# dataset = tf.data.Dataset.from_tensor_slices(\n",
    "#     (x_train, y_train))\n",
    "\n",
    "# for t, l in dataset:\n",
    "#   print(t, l)\n",
    "#   break"
   ],
   "metadata": {
    "id": "_HugkU46hHhd",
    "executionInfo": {
     "status": "ok",
     "timestamp": 1675217761054,
     "user_tz": -540,
     "elapsed": 8,
     "user": {
      "displayName": "­소준섭",
      "userId": "06480402923742517511"
     }
    },
    "ExecuteTime": {
     "end_time": "2023-12-18T03:32:02.859755Z",
     "start_time": "2023-12-18T03:32:02.857426Z"
    }
   },
   "execution_count": 3,
   "outputs": []
  },
  {
   "cell_type": "code",
   "execution_count": 192,
   "outputs": [
    {
     "data": {
      "text/plain": "   feature1  feature2  feature3  feature4  feature5  feature6  feature7  \\\n0  1.593274  0.613349  0.309724  2.042536 -0.514878  0.997845  1.417079   \n1  0.568722  1.843700 -0.737456 -0.919461  0.417854  0.260081  0.443729   \n2 -0.114487  0.271091 -1.536920  0.114670 -2.048833  0.925066 -0.076973   \n3  0.251630  1.136448 -0.562255 -0.137424 -0.989744  1.476076 -1.091534   \n4 -1.210856 -1.738332 -1.599511  1.365527 -0.338294 -1.879252 -0.437457   \n5 -0.393734  0.707135  0.824390 -0.261638  1.503827 -0.782529  1.674010   \n6  0.085253  0.030386  2.491486 -1.286241 -0.258209 -1.402205 -2.924153   \n7  0.099422  0.765002  1.011855 -1.654657 -0.154596 -1.455286  1.682530   \n8 -1.530616  0.867665 -0.281238  0.037233 -1.655827 -1.152335 -0.147113   \n9  0.327623 -2.256250  0.016707  1.270301 -0.093555  0.096549 -0.367859   \n\n   feature8  feature9  feature10  feature11  feature12  feature13  feature14  \\\n0 -0.202117  0.072554   0.945508  -0.650232  -0.706413   2.469982  -1.962653   \n1 -0.833231 -0.072568   0.422924  -1.382024  -0.302917   0.587017  -0.834032   \n2  1.733600  0.608673  -1.175680   1.354920   1.463529  -0.397353   1.993837   \n3  0.190649  0.650469  -0.204851   0.208252   1.800252   0.433550  -0.666660   \n4 -0.177810 -0.038883   0.956495   1.015896   0.465122   0.500297   0.976290   \n5 -1.085025  0.645358   1.586134  -0.360298  -0.371584   1.236835  -0.803021   \n6  0.972262  1.519226   0.791284   1.031475  -0.297113  -1.019225   1.003510   \n7  1.431472 -1.347119  -0.550834   0.770652   0.357193  -0.472224   0.438418   \n8 -0.245073  0.311860  -0.671678  -1.467719  -2.678413   0.142993   1.193230   \n9 -0.623254 -0.695882  -0.696827   0.494101   0.364937  -0.664375  -0.267144   \n\n   feature15  feature16  target  \n0  -0.626638   0.006014       1  \n1  -2.269351   0.752771       0  \n2   0.318233   0.232441       1  \n3  -1.061392   0.591500       1  \n4   0.644269  -1.021144       0  \n5  -0.500096   0.146819       1  \n6  -2.045259   0.994773       1  \n7   1.431038  -0.115347       1  \n8   1.810005  -2.203884       0  \n9  -0.670133  -0.366456       0  ",
      "text/html": "<div>\n<style scoped>\n    .dataframe tbody tr th:only-of-type {\n        vertical-align: middle;\n    }\n\n    .dataframe tbody tr th {\n        vertical-align: top;\n    }\n\n    .dataframe thead th {\n        text-align: right;\n    }\n</style>\n<table border=\"1\" class=\"dataframe\">\n  <thead>\n    <tr style=\"text-align: right;\">\n      <th></th>\n      <th>feature1</th>\n      <th>feature2</th>\n      <th>feature3</th>\n      <th>feature4</th>\n      <th>feature5</th>\n      <th>feature6</th>\n      <th>feature7</th>\n      <th>feature8</th>\n      <th>feature9</th>\n      <th>feature10</th>\n      <th>feature11</th>\n      <th>feature12</th>\n      <th>feature13</th>\n      <th>feature14</th>\n      <th>feature15</th>\n      <th>feature16</th>\n      <th>target</th>\n    </tr>\n  </thead>\n  <tbody>\n    <tr>\n      <th>0</th>\n      <td>1.593274</td>\n      <td>0.613349</td>\n      <td>0.309724</td>\n      <td>2.042536</td>\n      <td>-0.514878</td>\n      <td>0.997845</td>\n      <td>1.417079</td>\n      <td>-0.202117</td>\n      <td>0.072554</td>\n      <td>0.945508</td>\n      <td>-0.650232</td>\n      <td>-0.706413</td>\n      <td>2.469982</td>\n      <td>-1.962653</td>\n      <td>-0.626638</td>\n      <td>0.006014</td>\n      <td>1</td>\n    </tr>\n    <tr>\n      <th>1</th>\n      <td>0.568722</td>\n      <td>1.843700</td>\n      <td>-0.737456</td>\n      <td>-0.919461</td>\n      <td>0.417854</td>\n      <td>0.260081</td>\n      <td>0.443729</td>\n      <td>-0.833231</td>\n      <td>-0.072568</td>\n      <td>0.422924</td>\n      <td>-1.382024</td>\n      <td>-0.302917</td>\n      <td>0.587017</td>\n      <td>-0.834032</td>\n      <td>-2.269351</td>\n      <td>0.752771</td>\n      <td>0</td>\n    </tr>\n    <tr>\n      <th>2</th>\n      <td>-0.114487</td>\n      <td>0.271091</td>\n      <td>-1.536920</td>\n      <td>0.114670</td>\n      <td>-2.048833</td>\n      <td>0.925066</td>\n      <td>-0.076973</td>\n      <td>1.733600</td>\n      <td>0.608673</td>\n      <td>-1.175680</td>\n      <td>1.354920</td>\n      <td>1.463529</td>\n      <td>-0.397353</td>\n      <td>1.993837</td>\n      <td>0.318233</td>\n      <td>0.232441</td>\n      <td>1</td>\n    </tr>\n    <tr>\n      <th>3</th>\n      <td>0.251630</td>\n      <td>1.136448</td>\n      <td>-0.562255</td>\n      <td>-0.137424</td>\n      <td>-0.989744</td>\n      <td>1.476076</td>\n      <td>-1.091534</td>\n      <td>0.190649</td>\n      <td>0.650469</td>\n      <td>-0.204851</td>\n      <td>0.208252</td>\n      <td>1.800252</td>\n      <td>0.433550</td>\n      <td>-0.666660</td>\n      <td>-1.061392</td>\n      <td>0.591500</td>\n      <td>1</td>\n    </tr>\n    <tr>\n      <th>4</th>\n      <td>-1.210856</td>\n      <td>-1.738332</td>\n      <td>-1.599511</td>\n      <td>1.365527</td>\n      <td>-0.338294</td>\n      <td>-1.879252</td>\n      <td>-0.437457</td>\n      <td>-0.177810</td>\n      <td>-0.038883</td>\n      <td>0.956495</td>\n      <td>1.015896</td>\n      <td>0.465122</td>\n      <td>0.500297</td>\n      <td>0.976290</td>\n      <td>0.644269</td>\n      <td>-1.021144</td>\n      <td>0</td>\n    </tr>\n    <tr>\n      <th>5</th>\n      <td>-0.393734</td>\n      <td>0.707135</td>\n      <td>0.824390</td>\n      <td>-0.261638</td>\n      <td>1.503827</td>\n      <td>-0.782529</td>\n      <td>1.674010</td>\n      <td>-1.085025</td>\n      <td>0.645358</td>\n      <td>1.586134</td>\n      <td>-0.360298</td>\n      <td>-0.371584</td>\n      <td>1.236835</td>\n      <td>-0.803021</td>\n      <td>-0.500096</td>\n      <td>0.146819</td>\n      <td>1</td>\n    </tr>\n    <tr>\n      <th>6</th>\n      <td>0.085253</td>\n      <td>0.030386</td>\n      <td>2.491486</td>\n      <td>-1.286241</td>\n      <td>-0.258209</td>\n      <td>-1.402205</td>\n      <td>-2.924153</td>\n      <td>0.972262</td>\n      <td>1.519226</td>\n      <td>0.791284</td>\n      <td>1.031475</td>\n      <td>-0.297113</td>\n      <td>-1.019225</td>\n      <td>1.003510</td>\n      <td>-2.045259</td>\n      <td>0.994773</td>\n      <td>1</td>\n    </tr>\n    <tr>\n      <th>7</th>\n      <td>0.099422</td>\n      <td>0.765002</td>\n      <td>1.011855</td>\n      <td>-1.654657</td>\n      <td>-0.154596</td>\n      <td>-1.455286</td>\n      <td>1.682530</td>\n      <td>1.431472</td>\n      <td>-1.347119</td>\n      <td>-0.550834</td>\n      <td>0.770652</td>\n      <td>0.357193</td>\n      <td>-0.472224</td>\n      <td>0.438418</td>\n      <td>1.431038</td>\n      <td>-0.115347</td>\n      <td>1</td>\n    </tr>\n    <tr>\n      <th>8</th>\n      <td>-1.530616</td>\n      <td>0.867665</td>\n      <td>-0.281238</td>\n      <td>0.037233</td>\n      <td>-1.655827</td>\n      <td>-1.152335</td>\n      <td>-0.147113</td>\n      <td>-0.245073</td>\n      <td>0.311860</td>\n      <td>-0.671678</td>\n      <td>-1.467719</td>\n      <td>-2.678413</td>\n      <td>0.142993</td>\n      <td>1.193230</td>\n      <td>1.810005</td>\n      <td>-2.203884</td>\n      <td>0</td>\n    </tr>\n    <tr>\n      <th>9</th>\n      <td>0.327623</td>\n      <td>-2.256250</td>\n      <td>0.016707</td>\n      <td>1.270301</td>\n      <td>-0.093555</td>\n      <td>0.096549</td>\n      <td>-0.367859</td>\n      <td>-0.623254</td>\n      <td>-0.695882</td>\n      <td>-0.696827</td>\n      <td>0.494101</td>\n      <td>0.364937</td>\n      <td>-0.664375</td>\n      <td>-0.267144</td>\n      <td>-0.670133</td>\n      <td>-0.366456</td>\n      <td>0</td>\n    </tr>\n  </tbody>\n</table>\n</div>"
     },
     "execution_count": 192,
     "metadata": {},
     "output_type": "execute_result"
    }
   ],
   "source": [
    "data = pd.read_csv('logistic_regression_dataset_16_features.csv', )\n",
    "data.head(10)"
   ],
   "metadata": {
    "collapsed": false,
    "ExecuteTime": {
     "end_time": "2023-12-20T05:42:04.054603Z",
     "start_time": "2023-12-20T05:42:03.919444Z"
    }
   }
  },
  {
   "cell_type": "code",
   "execution_count": 193,
   "outputs": [],
   "source": [
    "x_train = data.iloc[:-100, :-1]\n",
    "y_train = data.iloc[:-100, [-1]]\n",
    "x_test = data.iloc[-100:, :-1]\n",
    "y_test = data.iloc[-100:, [-1]]\n",
    "x_train = tf.cast(x_train, dtype=tf.float32)\n",
    "y_train = tf.cast(y_train, dtype=tf.float32)\n",
    "x_test = tf.cast(x_test, dtype=tf.float32)\n",
    "y_test = tf.cast(y_test, dtype=tf.float32)"
   ],
   "metadata": {
    "collapsed": false,
    "ExecuteTime": {
     "end_time": "2023-12-20T05:42:04.978491Z",
     "start_time": "2023-12-20T05:42:04.929494Z"
    }
   }
  },
  {
   "cell_type": "code",
   "execution_count": 213,
   "outputs": [
    {
     "data": {
      "text/plain": "<matplotlib.collections.PathCollection at 0x2ab18d490>"
     },
     "execution_count": 213,
     "metadata": {},
     "output_type": "execute_result"
    },
    {
     "data": {
      "text/plain": "<Figure size 640x480 with 1 Axes>",
      "image/png": "[encoded data removed]"
     },
     "metadata": {},
     "output_type": "display_data"
    }
   ],
   "source": [
    "plt.scatter(x_train[:,0], y_train[:], c=y_train, s=100, cmap='viridis',alpha=0.02)"
   ],
   "metadata": {
    "collapsed": false,
    "ExecuteTime": {
     "end_time": "2023-12-20T05:49:02.274856Z",
     "start_time": "2023-12-20T05:49:02.101743Z"
    }
   }
  },
  {
   "cell_type": "code",
   "execution_count": 194,
   "outputs": [],
   "source": [
    "import numpy as np\n",
    "\n",
    "def normalize_features(features):\n",
    "    \"\"\"\n",
    "    각 특성을 정규화하는 함수.\n",
    "\n",
    "    Parameters:\n",
    "    - features: 2D NumPy 배열. 각 열은 하나의 특성을 나타냅니다.\n",
    "\n",
    "    Returns:\n",
    "    - normalized_features: 정규화된 특성을 담은 2D NumPy 배열.\n",
    "    - mean_values: 각 특성의 평균을 담은 1D NumPy 배열.\n",
    "    - std_dev_values: 각 특성의 표준 편차를 담은 1D NumPy 배열.\n",
    "    \"\"\"\n",
    "    mean_values = np.mean(features, axis=0)\n",
    "    std_dev_values = np.std(features, axis=0)\n",
    "\n",
    "    # 0으로 나누기를 피하기 위해 표준 편차가 0이면 1로 대체\n",
    "    std_dev_values[std_dev_values == 0] = 1.0\n",
    "\n",
    "    normalized_features = (features - mean_values) / std_dev_values\n",
    "\n",
    "    return normalized_features, mean_values, std_dev_values\n"
   ],
   "metadata": {
    "collapsed": false,
    "ExecuteTime": {
     "end_time": "2023-12-20T05:42:18.518216Z",
     "start_time": "2023-12-20T05:42:18.477293Z"
    }
   }
  },
  {
   "cell_type": "code",
   "execution_count": 195,
   "outputs": [],
   "source": [
    "x_train, mean_values, std_dev_values = normalize_features(x_train)"
   ],
   "metadata": {
    "collapsed": false,
    "ExecuteTime": {
     "end_time": "2023-12-20T05:42:20.418160Z",
     "start_time": "2023-12-20T05:42:20.346452Z"
    }
   }
  },
  {
   "cell_type": "code",
   "execution_count": 152,
   "outputs": [],
   "source": [
    "def log_normalize_features(features):\n",
    "    \"\"\"\n",
    "    로그를 사용하여 각 특성을 정규화하는 함수.\n",
    "\n",
    "    Parameters:\n",
    "    - features: 2D NumPy 배열. 각 열은 하나의 특성을 나타냅니다.\n",
    "\n",
    "    Returns:\n",
    "    - log_normalized_features: 로그를 사용하여 정규화된 특성을 담은 2D NumPy 배열.\n",
    "    - log_scaling_factors: 각 특성에 대한 로그 스케일링 계수를 담은 1D NumPy 배열.\n",
    "    \"\"\"\n",
    "    epsilon = 1e-10  # 로그에 0이 들어가지 않도록 하기 위한 작은 값\n",
    "\n",
    "    # 로그 스케일링 계수 계산\n",
    "    log_scaling_factors = np.log(np.max(features, axis=0) + epsilon)\n",
    "\n",
    "    # 로그를 사용하여 정규화\n",
    "    log_normalized_features = np.log(features + epsilon) - log_scaling_factors\n",
    "\n",
    "    return log_normalized_features, log_scaling_factors"
   ],
   "metadata": {
    "collapsed": false,
    "ExecuteTime": {
     "end_time": "2023-12-20T05:34:04.498267Z",
     "start_time": "2023-12-20T05:34:04.461208Z"
    }
   }
  },
  {
   "cell_type": "code",
   "execution_count": 153,
   "outputs": [
    {
     "name": "stderr",
     "output_type": "stream",
     "text": [
      "/var/folders/b4/sv3y8crx3jx6kn5k220bs8bh0000gn/T/ipykernel_57047/2976153711.py:18: RuntimeWarning: invalid value encountered in log\n",
      "  log_normalized_features = np.log(features + epsilon) - log_scaling_factors\n"
     ]
    }
   ],
   "source": [
    "x_train, log_scaling_factors = log_normalize_features(x_train)"
   ],
   "metadata": {
    "collapsed": false,
    "ExecuteTime": {
     "end_time": "2023-12-20T05:34:05.457140Z",
     "start_time": "2023-12-20T05:34:05.405518Z"
    }
   }
  },
  {
   "cell_type": "code",
   "execution_count": 196,
   "outputs": [],
   "source": [
    "dataset = tf.data.Dataset.from_tensor_slices(\n",
    "    (x_train, y_train)).batch(len(x_train))\n",
    "\n",
    "# for t, l in dataset:\n",
    "#   print(t, l)\n",
    "#   break"
   ],
   "metadata": {
    "collapsed": false,
    "ExecuteTime": {
     "end_time": "2023-12-20T05:42:26.048717Z",
     "start_time": "2023-12-20T05:42:26.010596Z"
    }
   }
  },
  {
   "cell_type": "code",
   "metadata": {
    "id": "MxddblPApI8v",
    "colab": {
     "base_uri": "https://localhost:8080/"
    },
    "executionInfo": {
     "status": "ok",
     "timestamp": 1675217761054,
     "user_tz": -540,
     "elapsed": 7,
     "user": {
      "displayName": "­소준섭",
      "userId": "06480402923742517511"
     }
    },
    "outputId": "94bcf791-be3a-46d5-b56f-1423bf410f12",
    "ExecuteTime": {
     "end_time": "2023-12-20T05:42:26.966261Z",
     "start_time": "2023-12-20T05:42:26.910942Z"
    }
   },
   "source": [
    "\n",
    "\n",
    "W = tf.Variable(tf.random.normal([16,1],0,1), name='weight')\n",
    "b = tf.Variable(tf.random.normal([1],0,1), name='bias')\n",
    "print(type(W[0,0]))\n",
    "\n",
    "tf.print(W, b)"
   ],
   "execution_count": 197,
   "outputs": [
    {
     "name": "stdout",
     "output_type": "stream",
     "text": [
      "<class 'tensorflow.python.framework.ops.EagerTensor'>\n",
      "[[-1.35441589]\n",
      " [0.704549313]\n",
      " [0.0366619118]\n",
      " ...\n",
      " [-1.96339905]\n",
      " [-0.0645248219]\n",
      " [-1.05684102]] [-1.35441589]\n"
     ]
    }
   ]
  },
  {
   "cell_type": "markdown",
   "metadata": {
    "id": "BYPKT6To56Iv"
   },
   "source": [
    "## Sigmoid 함수를 가설로 선언합니다\n",
    "* Sigmoid는 아래 그래프와 같이 0과 1의 값만을 리턴합니다 tf.sigmoid(tf.matmul(X, W) + b)와 같습니다\n",
    "\n",
    "## $$\n",
    "\\begin{align}\n",
    "sigmoid(x) & = \\frac{1}{1+e^{-x}}  \\\\\\\\\\\n",
    "\\end{align}\n",
    "$$\n",
    "\n",
    "![sigmoid](https://upload.wikimedia.org/wikipedia/commons/8/88/Logistic-curve.svg)"
   ]
  },
  {
   "cell_type": "code",
   "metadata": {
    "id": "LFAWvdar8PP-",
    "colab": {
     "base_uri": "https://localhost:8080/"
    },
    "executionInfo": {
     "status": "ok",
     "timestamp": 1675217761054,
     "user_tz": -540,
     "elapsed": 5,
     "user": {
      "displayName": "­소준섭",
      "userId": "06480402923742517511"
     }
    },
    "outputId": "a205371c-0955-4bbd-e906-a3fcdd4557e4",
    "ExecuteTime": {
     "end_time": "2023-12-20T05:42:31.565671Z",
     "start_time": "2023-12-20T05:42:31.486348Z"
    }
   },
   "source": [
    "def logistic_regression(features):\n",
    "    hypothesis  = tf.divide(1., 1. + tf.exp(-(tf.matmul(features, W,) + b)))\n",
    "    # tf.sigmoid(tf.matmul(features, W) + b)\n",
    "    return hypothesis\n",
    "\n",
    "tf.print(logistic_regression(x_train))"
   ],
   "execution_count": 198,
   "outputs": [
    {
     "name": "stdout",
     "output_type": "stream",
     "text": [
      "[[0.147597179]\n",
      " [0.00879183225]\n",
      " [0.581080139]\n",
      " ...\n",
      " [0.995038927]\n",
      " [0.550252855]\n",
      " [0.741961956]]\n"
     ]
    }
   ]
  },
  {
   "cell_type": "markdown",
   "metadata": {
    "id": "PXHVNZ6W8V83"
   },
   "source": [
    "## 가설을 검증할 Cost 함수를 정의합니다\n",
    "$$\n",
    "\\begin{align}\n",
    "cost(h(x),y) & = −log(h(x))  &  if :  &  y=1 \\\\\\\\\\\n",
    "cost(h(x),y) & = -log(1−h(x))  &  if :  &  y=0\n",
    "\\end{align}\n",
    "$$\n",
    "\n",
    "### 두 식을 한번에 쓰게되면,\n",
    "\n",
    "$$\n",
    "\\begin{align}\n",
    "cost(h(x),y) & = −y log(h(x))−(1−y)log(1−h(x))\n",
    "\\end{align}\n",
    "$$"
   ]
  },
  {
   "cell_type": "code",
   "metadata": {
    "id": "oxIgE6nt8zvR",
    "executionInfo": {
     "status": "ok",
     "timestamp": 1675217761055,
     "user_tz": -540,
     "elapsed": 5,
     "user": {
      "displayName": "­소준섭",
      "userId": "06480402923742517511"
     }
    },
    "ExecuteTime": {
     "end_time": "2023-12-20T05:42:33.667700Z",
     "start_time": "2023-12-20T05:42:33.625577Z"
    }
   },
   "source": [
    "def loss_fn(hypothesis, labels):\n",
    "    cost = -tf.reduce_mean(labels * tf.math.log(hypothesis) + \\\n",
    "                           (1 - labels) * tf.math.log(1 - hypothesis))\n",
    "    return cost\n",
    "\n",
    "optimizer = tf.compat.v1.train.GradientDescentOptimizer(learning_rate=0.01)"
   ],
   "execution_count": 199,
   "outputs": []
  },
  {
   "cell_type": "code",
   "metadata": {
    "id": "8xmYMVq65vFd",
    "colab": {
     "base_uri": "https://localhost:8080/"
    },
    "outputId": "344b7c66-5227-4913-924e-6788aab98681",
    "ExecuteTime": {
     "end_time": "2023-12-20T05:43:30.839234Z",
     "start_time": "2023-12-20T05:42:34.294669Z"
    }
   },
   "source": [
    "epochs = 10000\n",
    "\n",
    "for step in range(epochs):\n",
    "  for features, labels in dataset:\n",
    "    with tf.GradientTape() as tape:\n",
    "      loss_value = loss_fn(logistic_regression(features),labels)\n",
    "      grads = tape.gradient(loss_value, [W,b])\n",
    "      optimizer.apply_gradients(grads_and_vars=zip(grads,[W,b]))\n",
    "      if step % 100 == 0:\n",
    "            print(\"Iter: {}, Loss: {:.4f}\".format(step, loss_fn(logistic_regression(features),labels)))"
   ],
   "execution_count": 200,
   "outputs": [
    {
     "name": "stdout",
     "output_type": "stream",
     "text": [
      "Iter: 0, Loss: 1.7756\n",
      "Iter: 100, Loss: 1.5051\n",
      "Iter: 200, Loss: 1.2661\n",
      "Iter: 300, Loss: 1.0601\n",
      "Iter: 400, Loss: 0.8872\n",
      "Iter: 500, Loss: 0.7461\n",
      "Iter: 600, Loss: 0.6331\n",
      "Iter: 700, Loss: 0.5440\n",
      "Iter: 800, Loss: 0.4743\n",
      "Iter: 900, Loss: 0.4203\n",
      "Iter: 1000, Loss: 0.3788\n",
      "Iter: 1100, Loss: 0.3469\n",
      "Iter: 1200, Loss: 0.3225\n",
      "Iter: 1300, Loss: 0.3038\n",
      "Iter: 1400, Loss: 0.2893\n",
      "Iter: 1500, Loss: 0.2780\n",
      "Iter: 1600, Loss: 0.2691\n",
      "Iter: 1700, Loss: 0.2619\n",
      "Iter: 1800, Loss: 0.2560\n",
      "Iter: 1900, Loss: 0.2512\n",
      "Iter: 2000, Loss: 0.2471\n",
      "Iter: 2100, Loss: 0.2436\n",
      "Iter: 2200, Loss: 0.2406\n",
      "Iter: 2300, Loss: 0.2380\n",
      "Iter: 2400, Loss: 0.2356\n",
      "Iter: 2500, Loss: 0.2335\n",
      "Iter: 2600, Loss: 0.2316\n",
      "Iter: 2700, Loss: 0.2299\n",
      "Iter: 2800, Loss: 0.2283\n",
      "Iter: 2900, Loss: 0.2268\n",
      "Iter: 3000, Loss: 0.2254\n",
      "Iter: 3100, Loss: 0.2241\n",
      "Iter: 3200, Loss: 0.2228\n",
      "Iter: 3300, Loss: 0.2217\n",
      "Iter: 3400, Loss: 0.2206\n",
      "Iter: 3500, Loss: 0.2195\n",
      "Iter: 3600, Loss: 0.2185\n",
      "Iter: 3700, Loss: 0.2176\n",
      "Iter: 3800, Loss: 0.2166\n",
      "Iter: 3900, Loss: 0.2158\n",
      "Iter: 4000, Loss: 0.2149\n",
      "Iter: 4100, Loss: 0.2141\n",
      "Iter: 4200, Loss: 0.2133\n",
      "Iter: 4300, Loss: 0.2126\n",
      "Iter: 4400, Loss: 0.2118\n",
      "Iter: 4500, Loss: 0.2111\n",
      "Iter: 4600, Loss: 0.2104\n",
      "Iter: 4700, Loss: 0.2098\n",
      "Iter: 4800, Loss: 0.2092\n",
      "Iter: 4900, Loss: 0.2085\n",
      "Iter: 5000, Loss: 0.2079\n",
      "Iter: 5100, Loss: 0.2074\n",
      "Iter: 5200, Loss: 0.2068\n",
      "Iter: 5300, Loss: 0.2062\n",
      "Iter: 5400, Loss: 0.2057\n",
      "Iter: 5500, Loss: 0.2052\n",
      "Iter: 5600, Loss: 0.2047\n",
      "Iter: 5700, Loss: 0.2042\n",
      "Iter: 5800, Loss: 0.2037\n",
      "Iter: 5900, Loss: 0.2033\n",
      "Iter: 6000, Loss: 0.2028\n",
      "Iter: 6100, Loss: 0.2024\n",
      "Iter: 6200, Loss: 0.2020\n",
      "Iter: 6300, Loss: 0.2015\n",
      "Iter: 6400, Loss: 0.2011\n",
      "Iter: 6500, Loss: 0.2007\n",
      "Iter: 6600, Loss: 0.2004\n",
      "Iter: 6700, Loss: 0.2000\n",
      "Iter: 6800, Loss: 0.1996\n",
      "Iter: 6900, Loss: 0.1993\n",
      "Iter: 7000, Loss: 0.1989\n",
      "Iter: 7100, Loss: 0.1986\n",
      "Iter: 7200, Loss: 0.1982\n",
      "Iter: 7300, Loss: 0.1979\n",
      "Iter: 7400, Loss: 0.1976\n",
      "Iter: 7500, Loss: 0.1973\n",
      "Iter: 7600, Loss: 0.1970\n",
      "Iter: 7700, Loss: 0.1967\n",
      "Iter: 7800, Loss: 0.1964\n",
      "Iter: 7900, Loss: 0.1961\n",
      "Iter: 8000, Loss: 0.1958\n",
      "Iter: 8100, Loss: 0.1955\n",
      "Iter: 8200, Loss: 0.1953\n",
      "Iter: 8300, Loss: 0.1950\n",
      "Iter: 8400, Loss: 0.1947\n",
      "Iter: 8500, Loss: 0.1945\n",
      "Iter: 8600, Loss: 0.1942\n",
      "Iter: 8700, Loss: 0.1940\n",
      "Iter: 8800, Loss: 0.1938\n",
      "Iter: 8900, Loss: 0.1935\n",
      "Iter: 9000, Loss: 0.1933\n",
      "Iter: 9100, Loss: 0.1931\n",
      "Iter: 9200, Loss: 0.1928\n",
      "Iter: 9300, Loss: 0.1926\n",
      "Iter: 9400, Loss: 0.1924\n",
      "Iter: 9500, Loss: 0.1922\n",
      "Iter: 9600, Loss: 0.1920\n",
      "Iter: 9700, Loss: 0.1918\n",
      "Iter: 9800, Loss: 0.1916\n",
      "Iter: 9900, Loss: 0.1914\n"
     ]
    }
   ]
  },
  {
   "cell_type": "code",
   "metadata": {
    "id": "Ci-nHblj--z9",
    "ExecuteTime": {
     "end_time": "2023-12-20T05:43:33.291139Z",
     "start_time": "2023-12-20T05:43:33.260834Z"
    }
   },
   "source": [
    "def accuracy_fn(hypothesis, labels):\n",
    "    print(hypothesis)\n",
    "    predicted = tf.cast(hypothesis > 0.5, dtype=tf.float32)\n",
    "    print(predicted, labels)\n",
    "    accuracy = tf.reduce_mean(tf.cast(tf.equal(predicted, labels), dtype=tf.float32))\n",
    "    return accuracy"
   ],
   "execution_count": 201,
   "outputs": []
  },
  {
   "cell_type": "code",
   "metadata": {
    "id": "YANtydPI6-sl",
    "ExecuteTime": {
     "end_time": "2023-12-20T05:43:33.876085Z",
     "start_time": "2023-12-20T05:43:33.838982Z"
    }
   },
   "source": [
    "test_acc = accuracy_fn(logistic_regression(x_test),y_test)\n",
    "print(\"Testset Accuracy: {:.4f}\".format(test_acc))"
   ],
   "execution_count": 202,
   "outputs": [
    {
     "name": "stdout",
     "output_type": "stream",
     "text": [
      "tf.Tensor(\n",
      "[[3.0303851e-02]\n",
      " [9.9989712e-01]\n",
      " [1.8710135e-03]\n",
      " [8.2312565e-04]\n",
      " [9.8410678e-01]\n",
      " [7.0145363e-01]\n",
      " [9.4009554e-01]\n",
      " [9.9606967e-01]\n",
      " [1.5780291e-03]\n",
      " [9.5224929e-01]\n",
      " [3.4719712e-01]\n",
      " [6.2059337e-01]\n",
      " [1.9421008e-01]\n",
      " [4.7132090e-02]\n",
      " [8.2206511e-01]\n",
      " [1.1361805e-01]\n",
      " [9.9799830e-01]\n",
      " [9.0004778e-01]\n",
      " [9.8840404e-01]\n",
      " [3.6484897e-02]\n",
      " [9.9977845e-01]\n",
      " [9.4355935e-01]\n",
      " [4.1429587e-03]\n",
      " [1.5723597e-01]\n",
      " [5.4949397e-01]\n",
      " [1.9105767e-03]\n",
      " [8.2611948e-02]\n",
      " [5.6330252e-01]\n",
      " [9.9384600e-01]\n",
      " [9.9181014e-01]\n",
      " [1.7175414e-02]\n",
      " [7.3525649e-01]\n",
      " [4.5637208e-01]\n",
      " [6.9982022e-01]\n",
      " [8.3756649e-01]\n",
      " [1.5449381e-01]\n",
      " [9.9911767e-01]\n",
      " [3.0699182e-01]\n",
      " [1.5106055e-01]\n",
      " [9.9980778e-01]\n",
      " [2.1818193e-02]\n",
      " [5.2709502e-01]\n",
      " [7.7225333e-01]\n",
      " [4.9459663e-06]\n",
      " [9.7766382e-01]\n",
      " [9.9951947e-01]\n",
      " [9.9632603e-01]\n",
      " [9.4999683e-01]\n",
      " [1.3416467e-03]\n",
      " [4.5950182e-02]\n",
      " [3.6033842e-01]\n",
      " [9.9084389e-01]\n",
      " [9.7376537e-01]\n",
      " [9.9724114e-01]\n",
      " [8.0203563e-02]\n",
      " [9.4455487e-01]\n",
      " [4.8433803e-03]\n",
      " [6.2802029e-01]\n",
      " [9.9999094e-01]\n",
      " [9.9838066e-01]\n",
      " [4.7902454e-02]\n",
      " [1.0151033e-01]\n",
      " [7.3333585e-01]\n",
      " [3.2020146e-03]\n",
      " [8.5233980e-01]\n",
      " [8.5886753e-01]\n",
      " [1.8323347e-01]\n",
      " [5.7887369e-01]\n",
      " [5.9702346e-04]\n",
      " [9.4569439e-01]\n",
      " [9.9997306e-01]\n",
      " [4.4257507e-02]\n",
      " [3.5836226e-01]\n",
      " [5.6437528e-01]\n",
      " [1.1680304e-02]\n",
      " [3.5357647e-02]\n",
      " [9.9015117e-01]\n",
      " [9.7938254e-02]\n",
      " [9.1383260e-01]\n",
      " [9.8750603e-01]\n",
      " [5.6127794e-03]\n",
      " [8.0266722e-02]\n",
      " [1.8356652e-03]\n",
      " [5.3638127e-03]\n",
      " [4.1221637e-01]\n",
      " [6.8593219e-02]\n",
      " [4.1942108e-01]\n",
      " [9.9755317e-01]\n",
      " [9.8851460e-01]\n",
      " [9.9938786e-01]\n",
      " [7.7160530e-02]\n",
      " [9.7924197e-01]\n",
      " [9.9558431e-01]\n",
      " [9.8566753e-01]\n",
      " [6.0846034e-02]\n",
      " [2.5392638e-03]\n",
      " [9.9999690e-01]\n",
      " [9.7044939e-01]\n",
      " [7.1199739e-01]\n",
      " [4.6860793e-01]], shape=(100, 1), dtype=float32)\n",
      "tf.Tensor(\n",
      "[[0.]\n",
      " [1.]\n",
      " [0.]\n",
      " [0.]\n",
      " [1.]\n",
      " [1.]\n",
      " [1.]\n",
      " [1.]\n",
      " [0.]\n",
      " [1.]\n",
      " [0.]\n",
      " [1.]\n",
      " [0.]\n",
      " [0.]\n",
      " [1.]\n",
      " [0.]\n",
      " [1.]\n",
      " [1.]\n",
      " [1.]\n",
      " [0.]\n",
      " [1.]\n",
      " [1.]\n",
      " [0.]\n",
      " [0.]\n",
      " [1.]\n",
      " [0.]\n",
      " [0.]\n",
      " [1.]\n",
      " [1.]\n",
      " [1.]\n",
      " [0.]\n",
      " [1.]\n",
      " [0.]\n",
      " [1.]\n",
      " [1.]\n",
      " [0.]\n",
      " [1.]\n",
      " [0.]\n",
      " [0.]\n",
      " [1.]\n",
      " [0.]\n",
      " [1.]\n",
      " [1.]\n",
      " [0.]\n",
      " [1.]\n",
      " [1.]\n",
      " [1.]\n",
      " [1.]\n",
      " [0.]\n",
      " [0.]\n",
      " [0.]\n",
      " [1.]\n",
      " [1.]\n",
      " [1.]\n",
      " [0.]\n",
      " [1.]\n",
      " [0.]\n",
      " [1.]\n",
      " [1.]\n",
      " [1.]\n",
      " [0.]\n",
      " [0.]\n",
      " [1.]\n",
      " [0.]\n",
      " [1.]\n",
      " [1.]\n",
      " [0.]\n",
      " [1.]\n",
      " [0.]\n",
      " [1.]\n",
      " [1.]\n",
      " [0.]\n",
      " [0.]\n",
      " [1.]\n",
      " [0.]\n",
      " [0.]\n",
      " [1.]\n",
      " [0.]\n",
      " [1.]\n",
      " [1.]\n",
      " [0.]\n",
      " [0.]\n",
      " [0.]\n",
      " [0.]\n",
      " [0.]\n",
      " [0.]\n",
      " [0.]\n",
      " [1.]\n",
      " [1.]\n",
      " [1.]\n",
      " [0.]\n",
      " [1.]\n",
      " [1.]\n",
      " [1.]\n",
      " [0.]\n",
      " [0.]\n",
      " [1.]\n",
      " [1.]\n",
      " [1.]\n",
      " [0.]], shape=(100, 1), dtype=float32) tf.Tensor(\n",
      "[[0.]\n",
      " [1.]\n",
      " [0.]\n",
      " [0.]\n",
      " [1.]\n",
      " [0.]\n",
      " [1.]\n",
      " [1.]\n",
      " [0.]\n",
      " [1.]\n",
      " [0.]\n",
      " [1.]\n",
      " [0.]\n",
      " [0.]\n",
      " [1.]\n",
      " [0.]\n",
      " [1.]\n",
      " [1.]\n",
      " [1.]\n",
      " [0.]\n",
      " [1.]\n",
      " [1.]\n",
      " [0.]\n",
      " [0.]\n",
      " [1.]\n",
      " [0.]\n",
      " [0.]\n",
      " [0.]\n",
      " [1.]\n",
      " [1.]\n",
      " [0.]\n",
      " [1.]\n",
      " [1.]\n",
      " [0.]\n",
      " [1.]\n",
      " [0.]\n",
      " [1.]\n",
      " [0.]\n",
      " [0.]\n",
      " [1.]\n",
      " [0.]\n",
      " [0.]\n",
      " [0.]\n",
      " [0.]\n",
      " [1.]\n",
      " [1.]\n",
      " [1.]\n",
      " [1.]\n",
      " [0.]\n",
      " [0.]\n",
      " [0.]\n",
      " [1.]\n",
      " [1.]\n",
      " [1.]\n",
      " [0.]\n",
      " [1.]\n",
      " [0.]\n",
      " [1.]\n",
      " [1.]\n",
      " [1.]\n",
      " [0.]\n",
      " [0.]\n",
      " [1.]\n",
      " [0.]\n",
      " [1.]\n",
      " [1.]\n",
      " [0.]\n",
      " [1.]\n",
      " [0.]\n",
      " [1.]\n",
      " [1.]\n",
      " [0.]\n",
      " [0.]\n",
      " [0.]\n",
      " [0.]\n",
      " [0.]\n",
      " [1.]\n",
      " [0.]\n",
      " [1.]\n",
      " [1.]\n",
      " [0.]\n",
      " [0.]\n",
      " [0.]\n",
      " [0.]\n",
      " [0.]\n",
      " [1.]\n",
      " [0.]\n",
      " [1.]\n",
      " [1.]\n",
      " [1.]\n",
      " [0.]\n",
      " [1.]\n",
      " [1.]\n",
      " [1.]\n",
      " [0.]\n",
      " [0.]\n",
      " [1.]\n",
      " [1.]\n",
      " [0.]\n",
      " [0.]], shape=(100, 1), dtype=float32)\n",
      "Testset Accuracy: 0.9100\n"
     ]
    }
   ]
  },
  {
   "cell_type": "code",
   "metadata": {
    "id": "Joo_P-vtjZud"
   },
   "source": [],
   "execution_count": null,
   "outputs": []
  }
 ]
}
