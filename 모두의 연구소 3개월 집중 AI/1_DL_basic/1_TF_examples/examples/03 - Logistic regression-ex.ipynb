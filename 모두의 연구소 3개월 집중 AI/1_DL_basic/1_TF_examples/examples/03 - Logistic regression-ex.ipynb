{
 "nbformat": 4,
 "nbformat_minor": 0,
 "metadata": {
  "colab": {
   "provenance": []
  },
  "kernelspec": {
   "display_name": "Python 3",
   "language": "python",
   "name": "python3"
  },
  "language_info": {
   "codemirror_mode": {
    "name": "ipython",
    "version": 3
   },
   "file_extension": ".py",
   "mimetype": "text/x-python",
   "name": "python",
   "nbconvert_exporter": "python",
   "pygments_lexer": "ipython3",
   "version": "3.6.8"
  }
 },
 "cells": [
  {
   "cell_type": "markdown",
   "metadata": {
    "id": "VxCeEJ9mjZuC"
   },
   "source": [
    "# Logistic Regression"
   ]
  },
  {
   "cell_type": "code",
   "metadata": {
    "id": "gEndPDUNEe-H",
    "colab": {
     "base_uri": "https://localhost:8080/",
     "height": 36
    },
    "executionInfo": {
     "status": "ok",
     "timestamp": 1675217760454,
     "user_tz": -540,
     "elapsed": 4444,
     "user": {
      "displayName": "­소준섭",
      "userId": "06480402923742517511"
     }
    },
    "outputId": "a39fb250-15f9-4530-f71e-0e9ceb5b3ecd",
    "ExecuteTime": {
     "end_time": "2023-12-20T07:08:49.116173Z",
     "start_time": "2023-12-20T07:08:48.977187Z"
    }
   },
   "source": [
    "import tensorflow as tf\n",
    "import numpy as np\n",
    "import matplotlib.pyplot as plt\n",
    "import pandas as pd\n",
    "\n",
    "tf.__version__"
   ],
   "execution_count": 6,
   "outputs": [
    {
     "data": {
      "text/plain": "'2.10.0'"
     },
     "execution_count": 6,
     "metadata": {},
     "output_type": "execute_result"
    }
   ]
  },
  {
   "cell_type": "markdown",
   "metadata": {
    "id": "dRqCpkpdMdTQ"
   },
   "source": [
    "## Make a dataset for Logistic Regression\n",
    "\n",
    "### Logistic Regression을 위한 Dataset을 임의로 만들어 봅시다.\n",
    "\n",
    "* 2가지 위치에 몰려있는 데이터\n",
    "* 테스트를 위한 빨간색 데이터"
   ]
  },
  {
   "cell_type": "markdown",
   "metadata": {
    "id": "5hYtiGWxjZuJ"
   },
   "source": [
    "## tf.data.Dataset\n",
    "* 데이터를 관리해주기위한 tf function\n",
    "* 각 데이터의 필요 기능들을 지원해준다.\n",
    "* 데이터셋 크기가 클 경우에 메모리에 나눠올리는 기능을 지원"
   ]
  },
  {
   "cell_type": "code",
   "source": [
    "# dataset = tf.data.Dataset.from_tensor_slices(\n",
    "#     (x_train, y_train))\n",
    "\n",
    "# for t, l in dataset:\n",
    "#   print(t, l)\n",
    "#   break"
   ],
   "metadata": {
    "id": "_HugkU46hHhd",
    "executionInfo": {
     "status": "ok",
     "timestamp": 1675217761054,
     "user_tz": -540,
     "elapsed": 8,
     "user": {
      "displayName": "­소준섭",
      "userId": "06480402923742517511"
     }
    },
    "ExecuteTime": {
     "end_time": "2023-12-20T07:08:49.184578Z",
     "start_time": "2023-12-20T07:08:48.984666Z"
    }
   },
   "execution_count": 7,
   "outputs": []
  },
  {
   "cell_type": "code",
   "execution_count": 8,
   "outputs": [
    {
     "data": {
      "text/plain": "   feature1  feature2  feature3  feature4  feature5  feature6  feature7  \\\n0  1.593274  0.613349  0.309724  2.042536 -0.514878  0.997845  1.417079   \n1  0.568722  1.843700 -0.737456 -0.919461  0.417854  0.260081  0.443729   \n2 -0.114487  0.271091 -1.536920  0.114670 -2.048833  0.925066 -0.076973   \n3  0.251630  1.136448 -0.562255 -0.137424 -0.989744  1.476076 -1.091534   \n4 -1.210856 -1.738332 -1.599511  1.365527 -0.338294 -1.879252 -0.437457   \n5 -0.393734  0.707135  0.824390 -0.261638  1.503827 -0.782529  1.674010   \n6  0.085253  0.030386  2.491486 -1.286241 -0.258209 -1.402205 -2.924153   \n7  0.099422  0.765002  1.011855 -1.654657 -0.154596 -1.455286  1.682530   \n8 -1.530616  0.867665 -0.281238  0.037233 -1.655827 -1.152335 -0.147113   \n9  0.327623 -2.256250  0.016707  1.270301 -0.093555  0.096549 -0.367859   \n\n   feature8  feature9  feature10  feature11  feature12  feature13  feature14  \\\n0 -0.202117  0.072554   0.945508  -0.650232  -0.706413   2.469982  -1.962653   \n1 -0.833231 -0.072568   0.422924  -1.382024  -0.302917   0.587017  -0.834032   \n2  1.733600  0.608673  -1.175680   1.354920   1.463529  -0.397353   1.993837   \n3  0.190649  0.650469  -0.204851   0.208252   1.800252   0.433550  -0.666660   \n4 -0.177810 -0.038883   0.956495   1.015896   0.465122   0.500297   0.976290   \n5 -1.085025  0.645358   1.586134  -0.360298  -0.371584   1.236835  -0.803021   \n6  0.972262  1.519226   0.791284   1.031475  -0.297113  -1.019225   1.003510   \n7  1.431472 -1.347119  -0.550834   0.770652   0.357193  -0.472224   0.438418   \n8 -0.245073  0.311860  -0.671678  -1.467719  -2.678413   0.142993   1.193230   \n9 -0.623254 -0.695882  -0.696827   0.494101   0.364937  -0.664375  -0.267144   \n\n   feature15  feature16  target  \n0  -0.626638   0.006014       1  \n1  -2.269351   0.752771       0  \n2   0.318233   0.232441       1  \n3  -1.061392   0.591500       1  \n4   0.644269  -1.021144       0  \n5  -0.500096   0.146819       1  \n6  -2.045259   0.994773       1  \n7   1.431038  -0.115347       1  \n8   1.810005  -2.203884       0  \n9  -0.670133  -0.366456       0  ",
      "text/html": "<div>\n<style scoped>\n    .dataframe tbody tr th:only-of-type {\n        vertical-align: middle;\n    }\n\n    .dataframe tbody tr th {\n        vertical-align: top;\n    }\n\n    .dataframe thead th {\n        text-align: right;\n    }\n</style>\n<table border=\"1\" class=\"dataframe\">\n  <thead>\n    <tr style=\"text-align: right;\">\n      <th></th>\n      <th>feature1</th>\n      <th>feature2</th>\n      <th>feature3</th>\n      <th>feature4</th>\n      <th>feature5</th>\n      <th>feature6</th>\n      <th>feature7</th>\n      <th>feature8</th>\n      <th>feature9</th>\n      <th>feature10</th>\n      <th>feature11</th>\n      <th>feature12</th>\n      <th>feature13</th>\n      <th>feature14</th>\n      <th>feature15</th>\n      <th>feature16</th>\n      <th>target</th>\n    </tr>\n  </thead>\n  <tbody>\n    <tr>\n      <th>0</th>\n      <td>1.593274</td>\n      <td>0.613349</td>\n      <td>0.309724</td>\n      <td>2.042536</td>\n      <td>-0.514878</td>\n      <td>0.997845</td>\n      <td>1.417079</td>\n      <td>-0.202117</td>\n      <td>0.072554</td>\n      <td>0.945508</td>\n      <td>-0.650232</td>\n      <td>-0.706413</td>\n      <td>2.469982</td>\n      <td>-1.962653</td>\n      <td>-0.626638</td>\n      <td>0.006014</td>\n      <td>1</td>\n    </tr>\n    <tr>\n      <th>1</th>\n      <td>0.568722</td>\n      <td>1.843700</td>\n      <td>-0.737456</td>\n      <td>-0.919461</td>\n      <td>0.417854</td>\n      <td>0.260081</td>\n      <td>0.443729</td>\n      <td>-0.833231</td>\n      <td>-0.072568</td>\n      <td>0.422924</td>\n      <td>-1.382024</td>\n      <td>-0.302917</td>\n      <td>0.587017</td>\n      <td>-0.834032</td>\n      <td>-2.269351</td>\n      <td>0.752771</td>\n      <td>0</td>\n    </tr>\n    <tr>\n      <th>2</th>\n      <td>-0.114487</td>\n      <td>0.271091</td>\n      <td>-1.536920</td>\n      <td>0.114670</td>\n      <td>-2.048833</td>\n      <td>0.925066</td>\n      <td>-0.076973</td>\n      <td>1.733600</td>\n      <td>0.608673</td>\n      <td>-1.175680</td>\n      <td>1.354920</td>\n      <td>1.463529</td>\n      <td>-0.397353</td>\n      <td>1.993837</td>\n      <td>0.318233</td>\n      <td>0.232441</td>\n      <td>1</td>\n    </tr>\n    <tr>\n      <th>3</th>\n      <td>0.251630</td>\n      <td>1.136448</td>\n      <td>-0.562255</td>\n      <td>-0.137424</td>\n      <td>-0.989744</td>\n      <td>1.476076</td>\n      <td>-1.091534</td>\n      <td>0.190649</td>\n      <td>0.650469</td>\n      <td>-0.204851</td>\n      <td>0.208252</td>\n      <td>1.800252</td>\n      <td>0.433550</td>\n      <td>-0.666660</td>\n      <td>-1.061392</td>\n      <td>0.591500</td>\n      <td>1</td>\n    </tr>\n    <tr>\n      <th>4</th>\n      <td>-1.210856</td>\n      <td>-1.738332</td>\n      <td>-1.599511</td>\n      <td>1.365527</td>\n      <td>-0.338294</td>\n      <td>-1.879252</td>\n      <td>-0.437457</td>\n      <td>-0.177810</td>\n      <td>-0.038883</td>\n      <td>0.956495</td>\n      <td>1.015896</td>\n      <td>0.465122</td>\n      <td>0.500297</td>\n      <td>0.976290</td>\n      <td>0.644269</td>\n      <td>-1.021144</td>\n      <td>0</td>\n    </tr>\n    <tr>\n      <th>5</th>\n      <td>-0.393734</td>\n      <td>0.707135</td>\n      <td>0.824390</td>\n      <td>-0.261638</td>\n      <td>1.503827</td>\n      <td>-0.782529</td>\n      <td>1.674010</td>\n      <td>-1.085025</td>\n      <td>0.645358</td>\n      <td>1.586134</td>\n      <td>-0.360298</td>\n      <td>-0.371584</td>\n      <td>1.236835</td>\n      <td>-0.803021</td>\n      <td>-0.500096</td>\n      <td>0.146819</td>\n      <td>1</td>\n    </tr>\n    <tr>\n      <th>6</th>\n      <td>0.085253</td>\n      <td>0.030386</td>\n      <td>2.491486</td>\n      <td>-1.286241</td>\n      <td>-0.258209</td>\n      <td>-1.402205</td>\n      <td>-2.924153</td>\n      <td>0.972262</td>\n      <td>1.519226</td>\n      <td>0.791284</td>\n      <td>1.031475</td>\n      <td>-0.297113</td>\n      <td>-1.019225</td>\n      <td>1.003510</td>\n      <td>-2.045259</td>\n      <td>0.994773</td>\n      <td>1</td>\n    </tr>\n    <tr>\n      <th>7</th>\n      <td>0.099422</td>\n      <td>0.765002</td>\n      <td>1.011855</td>\n      <td>-1.654657</td>\n      <td>-0.154596</td>\n      <td>-1.455286</td>\n      <td>1.682530</td>\n      <td>1.431472</td>\n      <td>-1.347119</td>\n      <td>-0.550834</td>\n      <td>0.770652</td>\n      <td>0.357193</td>\n      <td>-0.472224</td>\n      <td>0.438418</td>\n      <td>1.431038</td>\n      <td>-0.115347</td>\n      <td>1</td>\n    </tr>\n    <tr>\n      <th>8</th>\n      <td>-1.530616</td>\n      <td>0.867665</td>\n      <td>-0.281238</td>\n      <td>0.037233</td>\n      <td>-1.655827</td>\n      <td>-1.152335</td>\n      <td>-0.147113</td>\n      <td>-0.245073</td>\n      <td>0.311860</td>\n      <td>-0.671678</td>\n      <td>-1.467719</td>\n      <td>-2.678413</td>\n      <td>0.142993</td>\n      <td>1.193230</td>\n      <td>1.810005</td>\n      <td>-2.203884</td>\n      <td>0</td>\n    </tr>\n    <tr>\n      <th>9</th>\n      <td>0.327623</td>\n      <td>-2.256250</td>\n      <td>0.016707</td>\n      <td>1.270301</td>\n      <td>-0.093555</td>\n      <td>0.096549</td>\n      <td>-0.367859</td>\n      <td>-0.623254</td>\n      <td>-0.695882</td>\n      <td>-0.696827</td>\n      <td>0.494101</td>\n      <td>0.364937</td>\n      <td>-0.664375</td>\n      <td>-0.267144</td>\n      <td>-0.670133</td>\n      <td>-0.366456</td>\n      <td>0</td>\n    </tr>\n  </tbody>\n</table>\n</div>"
     },
     "execution_count": 8,
     "metadata": {},
     "output_type": "execute_result"
    }
   ],
   "source": [
    "data = pd.read_csv('logistic_regression_dataset_16_features.csv', )\n",
    "data.head(10)"
   ],
   "metadata": {
    "collapsed": false,
    "ExecuteTime": {
     "end_time": "2023-12-20T07:08:49.187773Z",
     "start_time": "2023-12-20T07:08:48.988897Z"
    }
   }
  },
  {
   "cell_type": "code",
   "execution_count": 9,
   "outputs": [],
   "source": [
    "x_train = data.iloc[:-100, :-1]\n",
    "y_train = data.iloc[:-100, [-1]]\n",
    "x_test = data.iloc[-100:, :-1]\n",
    "y_test = data.iloc[-100:, [-1]]\n",
    "x_train = tf.cast(x_train, dtype=tf.float32)\n",
    "y_train = tf.cast(y_train, dtype=tf.float32)\n",
    "x_test = tf.cast(x_test, dtype=tf.float32)\n",
    "y_test = tf.cast(y_test, dtype=tf.float32)"
   ],
   "metadata": {
    "collapsed": false,
    "ExecuteTime": {
     "end_time": "2023-12-20T07:08:49.188083Z",
     "start_time": "2023-12-20T07:08:49.005602Z"
    }
   }
  },
  {
   "cell_type": "code",
   "execution_count": 10,
   "outputs": [
    {
     "data": {
      "text/plain": "<matplotlib.collections.PathCollection at 0x15480eb50>"
     },
     "execution_count": 10,
     "metadata": {},
     "output_type": "execute_result"
    },
    {
     "data": {
      "text/plain": "<Figure size 640x480 with 1 Axes>",
      "image/png": "[encoded data removed]"
     },
     "metadata": {},
     "output_type": "display_data"
    }
   ],
   "source": [
    "plt.scatter(x_train[:,0], y_train[:], c=y_train, s=100, cmap='viridis',alpha=0.02)"
   ],
   "metadata": {
    "collapsed": false,
    "ExecuteTime": {
     "end_time": "2023-12-20T07:08:49.218904Z",
     "start_time": "2023-12-20T07:08:49.016757Z"
    }
   }
  },
  {
   "cell_type": "code",
   "execution_count": 11,
   "outputs": [],
   "source": [
    "# import numpy as np\n",
    "# \n",
    "# def normalize_features(features):\n",
    "#     \"\"\"\n",
    "#     각 특성을 정규화하는 함수.\n",
    "# \n",
    "#     Parameters:\n",
    "#     - features: 2D NumPy 배열. 각 열은 하나의 특성을 나타냅니다.\n",
    "# \n",
    "#     Returns:\n",
    "#     - normalized_features: 정규화된 특성을 담은 2D NumPy 배열.\n",
    "#     - mean_values: 각 특성의 평균을 담은 1D NumPy 배열.\n",
    "#     - std_dev_values: 각 특성의 표준 편차를 담은 1D NumPy 배열.\n",
    "#     \"\"\"\n",
    "#     mean_values = np.mean(features, axis=0)\n",
    "#     std_dev_values = np.std(features, axis=0)\n",
    "# \n",
    "#     # 0으로 나누기를 피하기 위해 표준 편차가 0이면 1로 대체\n",
    "#     std_dev_values[std_dev_values == 0] = 1.0\n",
    "# \n",
    "#     normalized_features = (features - mean_values) / std_dev_values\n",
    "# \n",
    "#     return normalized_features, mean_values, std_dev_values\n"
   ],
   "metadata": {
    "collapsed": false,
    "ExecuteTime": {
     "end_time": "2023-12-20T07:08:49.219100Z",
     "start_time": "2023-12-20T07:08:49.131284Z"
    }
   }
  },
  {
   "cell_type": "code",
   "execution_count": 12,
   "outputs": [],
   "source": [
    "# x_train, mean_values, std_dev_values = normalize_features(x_train)"
   ],
   "metadata": {
    "collapsed": false,
    "ExecuteTime": {
     "end_time": "2023-12-20T07:08:49.219222Z",
     "start_time": "2023-12-20T07:08:49.134070Z"
    }
   }
  },
  {
   "cell_type": "code",
   "execution_count": 13,
   "outputs": [],
   "source": [
    "dataset = tf.data.Dataset.from_tensor_slices(\n",
    "    (x_train, y_train)).batch(len(x_train))\n",
    "\n",
    "# for t, l in dataset:\n",
    "#   print(t, l)\n",
    "#   break"
   ],
   "metadata": {
    "collapsed": false,
    "ExecuteTime": {
     "end_time": "2023-12-20T07:08:49.225773Z",
     "start_time": "2023-12-20T07:08:49.139608Z"
    }
   }
  },
  {
   "cell_type": "code",
   "metadata": {
    "id": "MxddblPApI8v",
    "colab": {
     "base_uri": "https://localhost:8080/"
    },
    "executionInfo": {
     "status": "ok",
     "timestamp": 1675217761054,
     "user_tz": -540,
     "elapsed": 7,
     "user": {
      "displayName": "­소준섭",
      "userId": "06480402923742517511"
     }
    },
    "outputId": "94bcf791-be3a-46d5-b56f-1423bf410f12",
    "ExecuteTime": {
     "end_time": "2023-12-20T07:08:49.289398Z",
     "start_time": "2023-12-20T07:08:49.152847Z"
    }
   },
   "source": [
    "\n",
    "\n",
    "W = tf.Variable(tf.random.normal([16,1],0,1), name='weight')\n",
    "b = tf.Variable(tf.random.normal([1],0,1), name='bias')\n",
    "print(type(W[0,0]))\n",
    "\n",
    "tf.print(W, b)"
   ],
   "execution_count": 14,
   "outputs": [
    {
     "name": "stdout",
     "output_type": "stream",
     "text": [
      "<class 'tensorflow.python.framework.ops.EagerTensor'>\n",
      "[[0.648968399]\n",
      " [0.341461837]\n",
      " [0.0492026135]\n",
      " ...\n",
      " [-1.17743754]\n",
      " [0.269420981]\n",
      " [-0.977989435]] [-1.35441589]\n"
     ]
    }
   ]
  },
  {
   "cell_type": "markdown",
   "metadata": {
    "id": "BYPKT6To56Iv"
   },
   "source": [
    "## Sigmoid 함수를 가설로 선언합니다\n",
    "* Sigmoid는 아래 그래프와 같이 0과 1의 값만을 리턴합니다 tf.sigmoid(tf.matmul(X, W) + b)와 같습니다\n",
    "\n",
    "## $$\n",
    "\\begin{align}\n",
    "sigmoid(x) & = \\frac{1}{1+e^{-x}}  \\\\\\\\\\\n",
    "\\end{align}\n",
    "$$\n",
    "\n",
    "![sigmoid](https://upload.wikimedia.org/wikipedia/commons/8/88/Logistic-curve.svg)"
   ]
  },
  {
   "cell_type": "code",
   "metadata": {
    "id": "LFAWvdar8PP-",
    "colab": {
     "base_uri": "https://localhost:8080/"
    },
    "executionInfo": {
     "status": "ok",
     "timestamp": 1675217761054,
     "user_tz": -540,
     "elapsed": 5,
     "user": {
      "displayName": "­소준섭",
      "userId": "06480402923742517511"
     }
    },
    "outputId": "a205371c-0955-4bbd-e906-a3fcdd4557e4",
    "ExecuteTime": {
     "end_time": "2023-12-20T07:08:49.441110Z",
     "start_time": "2023-12-20T07:08:49.216710Z"
    }
   },
   "source": [
    "def logistic_regression(features):\n",
    "    hypothesis  = tf.divide(1., 1. + tf.exp(-(tf.matmul(features, W,) + b)))\n",
    "    # tf.sigmoid(tf.matmul(features, W) + b)\n",
    "    return hypothesis\n",
    "\n",
    "tf.print(logistic_regression(x_train))"
   ],
   "execution_count": 15,
   "outputs": [
    {
     "name": "stdout",
     "output_type": "stream",
     "text": [
      "[[0.106212676]\n",
      " [0.230191424]\n",
      " [0.00464084605]\n",
      " ...\n",
      " [0.908901095]\n",
      " [0.00813616]\n",
      " [0.64113754]]\n"
     ]
    }
   ]
  },
  {
   "cell_type": "markdown",
   "metadata": {
    "id": "PXHVNZ6W8V83"
   },
   "source": [
    "## 가설을 검증할 Cost 함수를 정의합니다\n",
    "$$\n",
    "\\begin{align}\n",
    "cost(h(x),y) & = −log(h(x))  &  if :  &  y=1 \\\\\\\\\\\n",
    "cost(h(x),y) & = -log(1−h(x))  &  if :  &  y=0\n",
    "\\end{align}\n",
    "$$\n",
    "\n",
    "### 두 식을 한번에 쓰게되면,\n",
    "\n",
    "$$\n",
    "\\begin{align}\n",
    "cost(h(x),y) & = −y log(h(x))−(1−y)log(1−h(x))\n",
    "\\end{align}\n",
    "$$"
   ]
  },
  {
   "cell_type": "code",
   "metadata": {
    "id": "oxIgE6nt8zvR",
    "executionInfo": {
     "status": "ok",
     "timestamp": 1675217761055,
     "user_tz": -540,
     "elapsed": 5,
     "user": {
      "displayName": "­소준섭",
      "userId": "06480402923742517511"
     }
    },
    "ExecuteTime": {
     "end_time": "2023-12-20T07:08:49.442583Z",
     "start_time": "2023-12-20T07:08:49.420735Z"
    }
   },
   "source": [
    "def loss_fn(hypothesis, labels):\n",
    "    cost = -tf.reduce_mean(labels * tf.math.log(hypothesis) + \\\n",
    "                           (1 - labels) * tf.math.log(1 - hypothesis))\n",
    "    return cost\n",
    "\n",
    "optimizer = tf.compat.v1.train.GradientDescentOptimizer(learning_rate=0.01)"
   ],
   "execution_count": 16,
   "outputs": []
  },
  {
   "cell_type": "code",
   "metadata": {
    "id": "8xmYMVq65vFd",
    "colab": {
     "base_uri": "https://localhost:8080/"
    },
    "outputId": "344b7c66-5227-4913-924e-6788aab98681",
    "ExecuteTime": {
     "end_time": "2023-12-20T07:09:47.801751Z",
     "start_time": "2023-12-20T07:08:49.425759Z"
    }
   },
   "source": [
    "epochs = 10000\n",
    "\n",
    "for step in range(epochs):\n",
    "  for features, labels in dataset:\n",
    "    with tf.GradientTape() as tape:\n",
    "      loss_value = loss_fn(logistic_regression(features),labels)\n",
    "      grads = tape.gradient(loss_value, [W,b])\n",
    "      optimizer.apply_gradients(grads_and_vars=zip(grads,[W,b]))\n",
    "      if step % 100 == 0:\n",
    "            print(\"Iter: {}, Loss: {:.4f}\".format(step, loss_fn(logistic_regression(features),labels)))"
   ],
   "execution_count": 17,
   "outputs": [
    {
     "name": "stdout",
     "output_type": "stream",
     "text": [
      "Iter: 0, Loss: 1.9254\n",
      "Iter: 100, Loss: 1.5991\n",
      "Iter: 200, Loss: 1.3135\n",
      "Iter: 300, Loss: 1.0727\n",
      "Iter: 400, Loss: 0.8775\n",
      "Iter: 500, Loss: 0.7251\n",
      "Iter: 600, Loss: 0.6092\n",
      "Iter: 700, Loss: 0.5226\n",
      "Iter: 800, Loss: 0.4584\n",
      "Iter: 900, Loss: 0.4109\n",
      "Iter: 1000, Loss: 0.3756\n",
      "Iter: 1100, Loss: 0.3491\n",
      "Iter: 1200, Loss: 0.3289\n",
      "Iter: 1300, Loss: 0.3133\n",
      "Iter: 1400, Loss: 0.3009\n",
      "Iter: 1500, Loss: 0.2910\n",
      "Iter: 1600, Loss: 0.2828\n",
      "Iter: 1700, Loss: 0.2760\n",
      "Iter: 1800, Loss: 0.2702\n",
      "Iter: 1900, Loss: 0.2652\n",
      "Iter: 2000, Loss: 0.2609\n",
      "Iter: 2100, Loss: 0.2571\n",
      "Iter: 2200, Loss: 0.2537\n",
      "Iter: 2300, Loss: 0.2506\n",
      "Iter: 2400, Loss: 0.2478\n",
      "Iter: 2500, Loss: 0.2452\n",
      "Iter: 2600, Loss: 0.2428\n",
      "Iter: 2700, Loss: 0.2407\n",
      "Iter: 2800, Loss: 0.2386\n",
      "Iter: 2900, Loss: 0.2367\n",
      "Iter: 3000, Loss: 0.2349\n",
      "Iter: 3100, Loss: 0.2333\n",
      "Iter: 3200, Loss: 0.2317\n",
      "Iter: 3300, Loss: 0.2302\n",
      "Iter: 3400, Loss: 0.2288\n",
      "Iter: 3500, Loss: 0.2274\n",
      "Iter: 3600, Loss: 0.2261\n",
      "Iter: 3700, Loss: 0.2249\n",
      "Iter: 3800, Loss: 0.2237\n",
      "Iter: 3900, Loss: 0.2226\n",
      "Iter: 4000, Loss: 0.2215\n",
      "Iter: 4100, Loss: 0.2205\n",
      "Iter: 4200, Loss: 0.2195\n",
      "Iter: 4300, Loss: 0.2185\n",
      "Iter: 4400, Loss: 0.2176\n",
      "Iter: 4500, Loss: 0.2167\n",
      "Iter: 4600, Loss: 0.2159\n",
      "Iter: 4700, Loss: 0.2151\n",
      "Iter: 4800, Loss: 0.2143\n",
      "Iter: 4900, Loss: 0.2135\n",
      "Iter: 5000, Loss: 0.2128\n",
      "Iter: 5100, Loss: 0.2120\n",
      "Iter: 5200, Loss: 0.2114\n",
      "Iter: 5300, Loss: 0.2107\n",
      "Iter: 5400, Loss: 0.2100\n",
      "Iter: 5500, Loss: 0.2094\n",
      "Iter: 5600, Loss: 0.2088\n",
      "Iter: 5700, Loss: 0.2082\n",
      "Iter: 5800, Loss: 0.2076\n",
      "Iter: 5900, Loss: 0.2071\n",
      "Iter: 6000, Loss: 0.2065\n",
      "Iter: 6100, Loss: 0.2060\n",
      "Iter: 6200, Loss: 0.2055\n",
      "Iter: 6300, Loss: 0.2050\n",
      "Iter: 6400, Loss: 0.2045\n",
      "Iter: 6500, Loss: 0.2040\n",
      "Iter: 6600, Loss: 0.2036\n",
      "Iter: 6700, Loss: 0.2031\n",
      "Iter: 6800, Loss: 0.2027\n",
      "Iter: 6900, Loss: 0.2023\n",
      "Iter: 7000, Loss: 0.2018\n",
      "Iter: 7100, Loss: 0.2014\n",
      "Iter: 7200, Loss: 0.2010\n",
      "Iter: 7300, Loss: 0.2007\n",
      "Iter: 7400, Loss: 0.2003\n",
      "Iter: 7500, Loss: 0.1999\n",
      "Iter: 7600, Loss: 0.1996\n",
      "Iter: 7700, Loss: 0.1992\n",
      "Iter: 7800, Loss: 0.1989\n",
      "Iter: 7900, Loss: 0.1985\n",
      "Iter: 8000, Loss: 0.1982\n",
      "Iter: 8100, Loss: 0.1979\n",
      "Iter: 8200, Loss: 0.1976\n",
      "Iter: 8300, Loss: 0.1973\n",
      "Iter: 8400, Loss: 0.1970\n",
      "Iter: 8500, Loss: 0.1967\n",
      "Iter: 8600, Loss: 0.1964\n",
      "Iter: 8700, Loss: 0.1961\n",
      "Iter: 8800, Loss: 0.1958\n",
      "Iter: 8900, Loss: 0.1956\n",
      "Iter: 9000, Loss: 0.1953\n",
      "Iter: 9100, Loss: 0.1950\n",
      "Iter: 9200, Loss: 0.1948\n",
      "Iter: 9300, Loss: 0.1945\n",
      "Iter: 9400, Loss: 0.1943\n",
      "Iter: 9500, Loss: 0.1940\n",
      "Iter: 9600, Loss: 0.1938\n",
      "Iter: 9700, Loss: 0.1936\n",
      "Iter: 9800, Loss: 0.1934\n",
      "Iter: 9900, Loss: 0.1931\n"
     ]
    }
   ]
  },
  {
   "cell_type": "code",
   "metadata": {
    "id": "Ci-nHblj--z9",
    "ExecuteTime": {
     "end_time": "2023-12-20T07:09:47.809032Z",
     "start_time": "2023-12-20T07:09:47.802394Z"
    }
   },
   "source": [
    "def accuracy_fn(hypothesis, labels):\n",
    "    print(hypothesis)\n",
    "    predicted = tf.cast(hypothesis > 0.5, dtype=tf.float32)\n",
    "    print(predicted, labels)\n",
    "    accuracy = tf.reduce_mean(tf.cast(tf.equal(predicted, labels), dtype=tf.float32))\n",
    "    return accuracy"
   ],
   "execution_count": 18,
   "outputs": []
  },
  {
   "cell_type": "code",
   "metadata": {
    "id": "YANtydPI6-sl",
    "ExecuteTime": {
     "end_time": "2023-12-20T07:09:48.041817Z",
     "start_time": "2023-12-20T07:09:47.805873Z"
    }
   },
   "source": [
    "test_acc = accuracy_fn(logistic_regression(x_test),y_test)\n",
    "print(\"Testset Accuracy: {:.4f}\".format(test_acc))"
   ],
   "execution_count": 19,
   "outputs": [
    {
     "name": "stdout",
     "output_type": "stream",
     "text": [
      "tf.Tensor(\n",
      "[[3.6956649e-02]\n",
      " [9.9988294e-01]\n",
      " [2.3602389e-03]\n",
      " [1.1479750e-03]\n",
      " [9.8489386e-01]\n",
      " [7.2919816e-01]\n",
      " [9.4248092e-01]\n",
      " [9.9610078e-01]\n",
      " [1.8741942e-03]\n",
      " [9.5477021e-01]\n",
      " [3.6116433e-01]\n",
      " [6.2926680e-01]\n",
      " [2.1106732e-01]\n",
      " [5.0580971e-02]\n",
      " [8.2085711e-01]\n",
      " [1.3801552e-01]\n",
      " [9.9813974e-01]\n",
      " [9.0733314e-01]\n",
      " [9.8971164e-01]\n",
      " [4.3073036e-02]\n",
      " [9.9977440e-01]\n",
      " [9.4421744e-01]\n",
      " [5.0885417e-03]\n",
      " [1.7262413e-01]\n",
      " [5.6228566e-01]\n",
      " [2.3755075e-03]\n",
      " [9.2431374e-02]\n",
      " [5.8772719e-01]\n",
      " [9.9412459e-01]\n",
      " [9.9088532e-01]\n",
      " [2.1085059e-02]\n",
      " [7.4331981e-01]\n",
      " [5.1472658e-01]\n",
      " [7.1245772e-01]\n",
      " [8.2755321e-01]\n",
      " [1.7668712e-01]\n",
      " [9.9909329e-01]\n",
      " [3.4555209e-01]\n",
      " [1.6704752e-01]\n",
      " [9.9978346e-01]\n",
      " [2.3158615e-02]\n",
      " [5.6975102e-01]\n",
      " [7.6817137e-01]\n",
      " [7.0319406e-06]\n",
      " [9.8026580e-01]\n",
      " [9.9953544e-01]\n",
      " [9.9650395e-01]\n",
      " [9.5484495e-01]\n",
      " [1.5747418e-03]\n",
      " [4.8767161e-02]\n",
      " [3.5980120e-01]\n",
      " [9.8983079e-01]\n",
      " [9.7563940e-01]\n",
      " [9.9728668e-01]\n",
      " [9.7221188e-02]\n",
      " [9.5136309e-01]\n",
      " [6.0544400e-03]\n",
      " [6.4845258e-01]\n",
      " [9.9998951e-01]\n",
      " [9.9844605e-01]\n",
      " [6.1671481e-02]\n",
      " [1.3576552e-01]\n",
      " [7.6741213e-01]\n",
      " [4.0966361e-03]\n",
      " [8.8542622e-01]\n",
      " [8.6014706e-01]\n",
      " [1.7744054e-01]\n",
      " [6.3902193e-01]\n",
      " [7.4810075e-04]\n",
      " [9.4414645e-01]\n",
      " [9.9997461e-01]\n",
      " [4.8841435e-02]\n",
      " [3.6656544e-01]\n",
      " [5.6057769e-01]\n",
      " [1.3839145e-02]\n",
      " [4.0288474e-02]\n",
      " [9.8969066e-01]\n",
      " [1.0731625e-01]\n",
      " [9.2563707e-01]\n",
      " [9.8693943e-01]\n",
      " [6.8973354e-03]\n",
      " [8.6242236e-02]\n",
      " [2.1220199e-03]\n",
      " [6.1705038e-03]\n",
      " [4.4687429e-01]\n",
      " [8.5833527e-02]\n",
      " [4.2496929e-01]\n",
      " [9.9758434e-01]\n",
      " [9.8995072e-01]\n",
      " [9.9945813e-01]\n",
      " [9.4048895e-02]\n",
      " [9.8113316e-01]\n",
      " [9.9530315e-01]\n",
      " [9.8618466e-01]\n",
      " [7.1535870e-02]\n",
      " [3.2821465e-03]\n",
      " [9.9999666e-01]\n",
      " [9.7465408e-01]\n",
      " [7.1044362e-01]\n",
      " [5.2247334e-01]], shape=(100, 1), dtype=float32)\n",
      "tf.Tensor(\n",
      "[[0.]\n",
      " [1.]\n",
      " [0.]\n",
      " [0.]\n",
      " [1.]\n",
      " [1.]\n",
      " [1.]\n",
      " [1.]\n",
      " [0.]\n",
      " [1.]\n",
      " [0.]\n",
      " [1.]\n",
      " [0.]\n",
      " [0.]\n",
      " [1.]\n",
      " [0.]\n",
      " [1.]\n",
      " [1.]\n",
      " [1.]\n",
      " [0.]\n",
      " [1.]\n",
      " [1.]\n",
      " [0.]\n",
      " [0.]\n",
      " [1.]\n",
      " [0.]\n",
      " [0.]\n",
      " [1.]\n",
      " [1.]\n",
      " [1.]\n",
      " [0.]\n",
      " [1.]\n",
      " [1.]\n",
      " [1.]\n",
      " [1.]\n",
      " [0.]\n",
      " [1.]\n",
      " [0.]\n",
      " [0.]\n",
      " [1.]\n",
      " [0.]\n",
      " [1.]\n",
      " [1.]\n",
      " [0.]\n",
      " [1.]\n",
      " [1.]\n",
      " [1.]\n",
      " [1.]\n",
      " [0.]\n",
      " [0.]\n",
      " [0.]\n",
      " [1.]\n",
      " [1.]\n",
      " [1.]\n",
      " [0.]\n",
      " [1.]\n",
      " [0.]\n",
      " [1.]\n",
      " [1.]\n",
      " [1.]\n",
      " [0.]\n",
      " [0.]\n",
      " [1.]\n",
      " [0.]\n",
      " [1.]\n",
      " [1.]\n",
      " [0.]\n",
      " [1.]\n",
      " [0.]\n",
      " [1.]\n",
      " [1.]\n",
      " [0.]\n",
      " [0.]\n",
      " [1.]\n",
      " [0.]\n",
      " [0.]\n",
      " [1.]\n",
      " [0.]\n",
      " [1.]\n",
      " [1.]\n",
      " [0.]\n",
      " [0.]\n",
      " [0.]\n",
      " [0.]\n",
      " [0.]\n",
      " [0.]\n",
      " [0.]\n",
      " [1.]\n",
      " [1.]\n",
      " [1.]\n",
      " [0.]\n",
      " [1.]\n",
      " [1.]\n",
      " [1.]\n",
      " [0.]\n",
      " [0.]\n",
      " [1.]\n",
      " [1.]\n",
      " [1.]\n",
      " [1.]], shape=(100, 1), dtype=float32) tf.Tensor(\n",
      "[[0.]\n",
      " [1.]\n",
      " [0.]\n",
      " [0.]\n",
      " [1.]\n",
      " [0.]\n",
      " [1.]\n",
      " [1.]\n",
      " [0.]\n",
      " [1.]\n",
      " [0.]\n",
      " [1.]\n",
      " [0.]\n",
      " [0.]\n",
      " [1.]\n",
      " [0.]\n",
      " [1.]\n",
      " [1.]\n",
      " [1.]\n",
      " [0.]\n",
      " [1.]\n",
      " [1.]\n",
      " [0.]\n",
      " [0.]\n",
      " [1.]\n",
      " [0.]\n",
      " [0.]\n",
      " [0.]\n",
      " [1.]\n",
      " [1.]\n",
      " [0.]\n",
      " [1.]\n",
      " [1.]\n",
      " [0.]\n",
      " [1.]\n",
      " [0.]\n",
      " [1.]\n",
      " [0.]\n",
      " [0.]\n",
      " [1.]\n",
      " [0.]\n",
      " [0.]\n",
      " [0.]\n",
      " [0.]\n",
      " [1.]\n",
      " [1.]\n",
      " [1.]\n",
      " [1.]\n",
      " [0.]\n",
      " [0.]\n",
      " [0.]\n",
      " [1.]\n",
      " [1.]\n",
      " [1.]\n",
      " [0.]\n",
      " [1.]\n",
      " [0.]\n",
      " [1.]\n",
      " [1.]\n",
      " [1.]\n",
      " [0.]\n",
      " [0.]\n",
      " [1.]\n",
      " [0.]\n",
      " [1.]\n",
      " [1.]\n",
      " [0.]\n",
      " [1.]\n",
      " [0.]\n",
      " [1.]\n",
      " [1.]\n",
      " [0.]\n",
      " [0.]\n",
      " [0.]\n",
      " [0.]\n",
      " [0.]\n",
      " [1.]\n",
      " [0.]\n",
      " [1.]\n",
      " [1.]\n",
      " [0.]\n",
      " [0.]\n",
      " [0.]\n",
      " [0.]\n",
      " [0.]\n",
      " [1.]\n",
      " [0.]\n",
      " [1.]\n",
      " [1.]\n",
      " [1.]\n",
      " [0.]\n",
      " [1.]\n",
      " [1.]\n",
      " [1.]\n",
      " [0.]\n",
      " [0.]\n",
      " [1.]\n",
      " [1.]\n",
      " [0.]\n",
      " [0.]], shape=(100, 1), dtype=float32)\n",
      "Testset Accuracy: 0.9100\n"
     ]
    }
   ]
  },
  {
   "cell_type": "code",
   "execution_count": 21,
   "outputs": [],
   "source": [
    "import statsmodels.api as sm"
   ],
   "metadata": {
    "collapsed": false,
    "ExecuteTime": {
     "end_time": "2023-12-20T07:10:30.253143Z",
     "start_time": "2023-12-20T07:10:30.228220Z"
    }
   }
  },
  {
   "cell_type": "code",
   "execution_count": 23,
   "outputs": [
    {
     "name": "stdout",
     "output_type": "stream",
     "text": [
      "Optimization terminated successfully.\n",
      "         Current function value: 0.176472\n",
      "         Iterations 9\n",
      "                           Logit Regression Results                           \n",
      "==============================================================================\n",
      "Dep. Variable:                      y   No. Observations:                  900\n",
      "Model:                          Logit   Df Residuals:                      883\n",
      "Method:                           MLE   Df Model:                           16\n",
      "Date:                Wed, 20 Dec 2023   Pseudo R-squ.:                  0.7453\n",
      "Time:                        16:16:00   Log-Likelihood:                -158.82\n",
      "converged:                       True   LL-Null:                       -623.51\n",
      "Covariance Type:            nonrobust   LLR p-value:                1.455e-187\n",
      "==============================================================================\n",
      "                 coef    std err          z      P>|z|      [0.025      0.975]\n",
      "------------------------------------------------------------------------------\n",
      "const          0.1462      0.150      0.974      0.330      -0.148       0.440\n",
      "x1             1.8174      0.208      8.751      0.000       1.410       2.224\n",
      "x2             2.2840      0.242      9.432      0.000       1.809       2.759\n",
      "x3             1.9617      0.213      9.226      0.000       1.545       2.378\n",
      "x4             1.8296      0.206      8.886      0.000       1.426       2.233\n",
      "x5             1.8075      0.224      8.068      0.000       1.368       2.247\n",
      "x6             1.6915      0.206      8.193      0.000       1.287       2.096\n",
      "x7             1.8240      0.212      8.609      0.000       1.409       2.239\n",
      "x8             1.8708      0.199      9.417      0.000       1.481       2.260\n",
      "x9             1.8468      0.208      8.891      0.000       1.440       2.254\n",
      "x10            1.7757      0.213      8.319      0.000       1.357       2.194\n",
      "x11            2.2695      0.244      9.303      0.000       1.791       2.748\n",
      "x12            1.7215      0.221      7.788      0.000       1.288       2.155\n",
      "x13            1.9416      0.212      9.151      0.000       1.526       2.357\n",
      "x14            1.7855      0.203      8.809      0.000       1.388       2.183\n",
      "x15            1.9274      0.218      8.854      0.000       1.501       2.354\n",
      "x16            1.7537      0.207      8.468      0.000       1.348       2.160\n",
      "==============================================================================\n",
      "\n",
      "Possibly complete quasi-separation: A fraction 0.20 of observations can be\n",
      "perfectly predicted. This might indicate that there is complete\n",
      "quasi-separation. In this case some parameters will not be identified.\n",
      "\n",
      "Wald 검정 결과:\n",
      "                         chi2                  P>chi2  df constraint\n",
      "const  [[0.9492152793865718]]     0.32991912164285336              1\n",
      "x1      [[76.58032556143927]]    2.11435622609967e-18              1\n",
      "x2       [[88.9585862984869]]  4.0316489696579914e-21              1\n",
      "x3      [[85.12610311790856]]  2.7993054430210696e-20              1\n",
      "x4      [[78.95706542089586]]   6.347451998944254e-19              1\n",
      "x5      [[65.08894519441002]]   7.159257526027676e-16              1\n",
      "x6        [[67.123417813143]]  2.5503095141115457e-16              1\n",
      "x7      [[74.11170828100121]]   7.381919830229645e-18              1\n",
      "x8      [[88.68909808364027]]   4.620043757809899e-21              1\n",
      "x9      [[79.04446736790432]]  6.0727558855469435e-19              1\n",
      "x10     [[69.21108256012916]]   8.846952038793519e-17              1\n",
      "x11     [[86.54281786141487]]  1.3674437824817998e-20              1\n",
      "x12     [[60.65264398471171]]    6.80885582300692e-15              1\n",
      "x13     [[83.74867192685328]]   5.618478849884783e-20              1\n",
      "x14     [[77.59850219341158]]  1.2626583211583278e-18              1\n",
      "x15      [[78.3943222276808]]   8.439438759046315e-19              1\n",
      "x16     [[71.70513990945594]]  2.4988079445484963e-17              1\n"
     ]
    },
    {
     "name": "stderr",
     "output_type": "stream",
     "text": [
      "/Users/soma/anaconda3/envs/tensor2/lib/python3.9/site-packages/statsmodels/base/model.py:1906: FutureWarning: The behavior of wald_test will change after 0.14 to returning scalar test statistic values. To get the future behavior now, set scalar to True. To silence this message while retaining the legacy behavior, set scalar to False.\n",
      "  warnings.warn(\n"
     ]
    }
   ],
   "source": [
    "# lib import\n",
    "import statsmodels.api as sm\n",
    "\n",
    "# 상수 항 추가\n",
    "x_train = sm.add_constant(x_train)\n",
    "\n",
    "# 로지스틱 회귀 모델 피팅\n",
    "x_train = np.asarray(x_train).astype('float32')\n",
    "y_train = np.asarray(y_train).astype('float32')\n",
    "logit_model = sm.Logit(y_train, x_train)\n",
    "result = logit_model.fit()\n",
    "\n",
    "# 결과 요약 출력\n",
    "print(result.summary())\n",
    "\n",
    "# 각 계수에 대한 Wald 검정\n",
    "wald_test_results = result.wald_test_terms()\n",
    "\n",
    "# Wald 검정 결과 출력\n",
    "print(\"\\nWald 검정 결과:\")\n",
    "print(wald_test_results)\n",
    "\n",
    "# 아래 검정 결과를 통해 얻을 수 있는 결론:\n",
    "# 1. \"Optimization terminated successfully\" -> 최적화가 성공적으로 종료되었다.\n",
    "# 2. p-value(P>|z|)가 0.05를 넘는 값이 없다 -> 통계적으로 유의미한 파라미터가 없다.\n",
    "# 3. Wald검정에서 (P>chi2)의 값이 0.05보다 낮은 값이 없다 -> 통계적으로 유의미한 파라미터가 없다.\n",
    "# 4. Possibly complete quasi-separation -> 모델이 데이터에 완전히 학습되었다, 즉 과적합일 수 있다는 경고."
   ],
   "metadata": {
    "collapsed": false,
    "ExecuteTime": {
     "end_time": "2023-12-20T07:16:00.279407Z",
     "start_time": "2023-12-20T07:16:00.192494Z"
    }
   }
  },
  {
   "cell_type": "code",
   "execution_count": null,
   "outputs": [],
   "source": [],
   "metadata": {
    "collapsed": false
   }
  }
 ]
}
