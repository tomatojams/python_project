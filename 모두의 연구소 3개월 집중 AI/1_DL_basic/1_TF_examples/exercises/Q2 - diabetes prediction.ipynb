{
 "nbformat": 4,
 "nbformat_minor": 0,
 "metadata": {
  "colab": {
   "provenance": []
  },
  "kernelspec": {
   "display_name": "Python 3",
   "language": "python",
   "name": "python3"
  },
  "language_info": {
   "codemirror_mode": {
    "name": "ipython",
    "version": 3
   },
   "file_extension": ".py",
   "mimetype": "text/x-python",
   "name": "python",
   "nbconvert_exporter": "python",
   "pygments_lexer": "ipython3",
   "version": "3.7.3"
  }
 },
 "cells": [
  {
   "cell_type": "code",
   "metadata": {
    "id": "ENBsugN3Z25Z",
    "ExecuteTime": {
     "end_time": "2023-12-19T05:40:49.822139Z",
     "start_time": "2023-12-19T05:40:47.019254Z"
    }
   },
   "source": [
    "import tensorflow as tf\n",
    "import numpy as np\n",
    "import matplotlib.pyplot as plt\n",
    "\n",
    "tf.__version__"
   ],
   "execution_count": 1,
   "outputs": [
    {
     "data": {
      "text/plain": "'2.10.0'"
     },
     "execution_count": 1,
     "metadata": {},
     "output_type": "execute_result"
    }
   ]
  },
  {
   "cell_type": "code",
   "metadata": {
    "id": "8wjxzcp-Cn80"
   },
   "source": [
    "from google.colab import drive\n",
    "drive.mount('/content/drive')"
   ],
   "execution_count": null,
   "outputs": []
  },
  {
   "cell_type": "markdown",
   "metadata": {
    "id": "EOcOtDBBBuBK"
   },
   "source": [
    "# 당뇨병을 진단해봅시다."
   ]
  },
  {
   "cell_type": "code",
   "metadata": {
    "id": "8tyyJQoVZtv6",
    "ExecuteTime": {
     "end_time": "2023-12-19T05:41:01.168535Z",
     "start_time": "2023-12-19T05:41:01.122087Z"
    }
   },
   "source": [
    "xy = np.loadtxt('data-03-diabetes.csv',\n",
    "                delimiter=',',\n",
    "                dtype=np.float32)\n",
    "x_train = xy[0:-100, 0:-1]\n",
    "y_train = xy[0:-100, [-1]]\n",
    "\n",
    "x_test = xy[-100:, 0:-1]\n",
    "y_test = xy[-100:, [-1]]\n",
    "\n",
    "print(x_train.shape, y_train.shape)\n",
    "print(x_test.shape, y_test.shape)"
   ],
   "execution_count": 2,
   "outputs": [
    {
     "name": "stdout",
     "output_type": "stream",
     "text": [
      "(659, 8) (659, 1)\n",
      "(100, 8) (100, 1)\n"
     ]
    }
   ]
  },
  {
   "cell_type": "code",
   "metadata": {
    "id": "apdbQwZ9Z2DV",
    "ExecuteTime": {
     "end_time": "2023-12-19T05:41:03.411849Z",
     "start_time": "2023-12-19T05:41:03.352411Z"
    }
   },
   "source": [
    "print(x_test[0])\n",
    "print(y_test[0])"
   ],
   "execution_count": 3,
   "outputs": [
    {
     "name": "stdout",
     "output_type": "stream",
     "text": [
      "[-0.294118  -0.0150754 -0.0491803 -0.333333  -0.550827   0.0134128\n",
      " -0.699402  -0.266667 ]\n",
      "[1.]\n"
     ]
    }
   ]
  },
  {
   "cell_type": "code",
   "metadata": {
    "id": "ooEKCbcmBuBQ",
    "ExecuteTime": {
     "end_time": "2023-12-19T05:41:05.843070Z",
     "start_time": "2023-12-19T05:41:05.627148Z"
    }
   },
   "source": [
    "dataset = tf.data.Dataset.from_tensor_slices((x_train, y_train)).batch(len(x_train))\n"
   ],
   "execution_count": 4,
   "outputs": [
    {
     "name": "stdout",
     "output_type": "stream",
     "text": [
      "Metal device set to: Apple M1\n"
     ]
    },
    {
     "name": "stderr",
     "output_type": "stream",
     "text": [
      "2023-12-19 14:41:05.621243: I tensorflow/core/common_runtime/pluggable_device/pluggable_device_factory.cc:306] Could not identify NUMA node of platform GPU ID 0, defaulting to 0. Your kernel may not have been built with NUMA support.\n",
      "2023-12-19 14:41:05.621813: I tensorflow/core/common_runtime/pluggable_device/pluggable_device_factory.cc:272] Created TensorFlow device (/job:localhost/replica:0/task:0/device:GPU:0 with 0 MB memory) -> physical PluggableDevice (device: 0, name: METAL, pci bus id: <undefined>)\n"
     ]
    }
   ]
  },
  {
   "cell_type": "code",
   "metadata": {
    "id": "yy6hZwGy45kO"
   },
   "source": [
    "W = tf.Variable(tf.random.normal(# TODO), name='weight')\n",
    "b = tf.Variable(tf.random.normal(# TODO), name='bias')\n"
   ],
   "execution_count": null,
   "outputs": []
  },
  {
   "cell_type": "markdown",
   "metadata": {
    "id": "q7e__OngBuBW"
   },
   "source": [
    "## 가설 설정\n",
    "* 병이 있다 / 없다로 분류\n",
    "* sigmoid classification으로 진행\n",
    "\n",
    "\n",
    "## $$ y_k = \\frac{1}{1+e^{-x}}   $$"
   ]
  },
  {
   "cell_type": "code",
   "metadata": {
    "id": "22WmI9ygawt_"
   },
   "source": [
    "def logistic_regression(features):\n",
    "    hypothesis  = # TODO\n",
    "    return hypothesis\n",
    "\n",
    "print(logistic_regression(x_train))"
   ],
   "execution_count": null,
   "outputs": []
  },
  {
   "cell_type": "markdown",
   "metadata": {
    "id": "iORSBg6vBuBZ"
   },
   "source": [
    "## Loss Function\n",
    "\n",
    "* 기존 MSE 대신 Cross Entropy 사용\n",
    "\n",
    "## $$\n",
    "\\begin{align}\n",
    "loss(h(x),y) & = −y log(h(x))−(1−y)log(1−h(x))\n",
    "\\end{align}\n",
    "$$"
   ]
  },
  {
   "cell_type": "code",
   "metadata": {
    "id": "RY6ssJoXarTa"
   },
   "source": [
    "def loss_fn(hypothesis, labels):\n",
    "    cost = # TODO\n",
    "    return cost\n",
    "\n",
    "optimizer = # TODO"
   ],
   "execution_count": null,
   "outputs": []
  },
  {
   "cell_type": "markdown",
   "metadata": {
    "id": "PUYXpe7CBuBd"
   },
   "source": [
    "## 학습"
   ]
  },
  {
   "cell_type": "code",
   "metadata": {
    "id": "wo2YiZdYaEQw"
   },
   "source": [
    "epochs = 5000\n",
    "\n",
    "for step in range(epochs):\n",
    "  for features, labels in dataset:\n",
    "    with tf.GradientTape() as tape:\n",
    "      loss_value = # TODO\n",
    "      grads = # TODO\n",
    "      optimizer.apply_gradients(grads_and_vars=zip(# TODO))\n",
    "      if step % 100 == 0:\n",
    "            print(\"Iter: {}, Loss: {:.4f}\".format(step, loss_fn(logistic_regression(features),labels)))"
   ],
   "execution_count": null,
   "outputs": []
  },
  {
   "cell_type": "markdown",
   "metadata": {
    "id": "fKZ_4oE4BuBg"
   },
   "source": [
    "## 테스트"
   ]
  },
  {
   "cell_type": "code",
   "metadata": {
    "id": "cUJviOQ_aGVH"
   },
   "source": [
    "def accuracy_fn(hypothesis, labels):\n",
    "    predicted = tf.cast(hypothesis > 0.5, dtype=tf.float32)\n",
    "    accuracy = tf.reduce_mean(tf.cast(tf.equal(predicted, labels), dtype=tf.float32))\n",
    "    return accuracy"
   ],
   "execution_count": null,
   "outputs": []
  },
  {
   "cell_type": "code",
   "metadata": {
    "id": "vT0_ZXQLaIEN"
   },
   "source": [
    "test_acc = accuracy_fn(logistic_regression(x_test),y_test)\n",
    "print(\"Testset Accuracy: {:.4f}\".format(test_acc))"
   ],
   "execution_count": null,
   "outputs": []
  },
  {
   "cell_type": "code",
   "metadata": {
    "id": "4mazQlt-ai-P"
   },
   "source": [],
   "execution_count": null,
   "outputs": []
  }
 ]
}
