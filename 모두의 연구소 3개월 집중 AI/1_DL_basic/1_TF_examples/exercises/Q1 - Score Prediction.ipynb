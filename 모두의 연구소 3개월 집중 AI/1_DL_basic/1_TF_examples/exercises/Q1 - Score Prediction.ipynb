{
 "nbformat": 4,
 "nbformat_minor": 0,
 "metadata": {
  "colab": {
   "provenance": []
  },
  "kernelspec": {
   "display_name": "Python 3",
   "language": "python",
   "name": "python3"
  },
  "language_info": {
   "codemirror_mode": {
    "name": "ipython",
    "version": 3
   },
   "file_extension": ".py",
   "mimetype": "text/x-python",
   "name": "python",
   "nbconvert_exporter": "python",
   "pygments_lexer": "ipython3",
   "version": "3.6.8"
  }
 },
 "cells": [
  {
   "cell_type": "markdown",
   "metadata": {
    "id": "Bher0I-oBtGy"
   },
   "source": [
    "# Score prediction\n"
   ]
  },
  {
   "cell_type": "code",
   "source": [
    "# !pip install tensorflow-gpu"
   ],
   "metadata": {
    "id": "8m4xH38qAMCv"
   },
   "execution_count": null,
   "outputs": []
  },
  {
   "cell_type": "code",
   "metadata": {
    "id": "ENBsugN3Z25Z",
    "ExecuteTime": {
     "end_time": "2023-12-20T02:23:44.297424Z",
     "start_time": "2023-12-20T02:23:44.220153Z"
    }
   },
   "source": [
    "import tensorflow as tf\n",
    "import numpy as np\n",
    "import matplotlib.pyplot as plt\n",
    "\n",
    "tf.__version__"
   ],
   "execution_count": 20,
   "outputs": [
    {
     "data": {
      "text/plain": "'2.10.0'"
     },
     "execution_count": 20,
     "metadata": {},
     "output_type": "execute_result"
    }
   ]
  },
  {
   "cell_type": "code",
   "metadata": {
    "id": "BjYm5bN6mMh2",
    "ExecuteTime": {
     "end_time": "2023-12-19T07:24:44.744364Z",
     "start_time": "2023-12-19T07:24:44.737860Z"
    }
   },
   "source": [
    "# In colab\n",
    "# from google.colab import drive\n",
    "# drive.mount('/content/drive')"
   ],
   "execution_count": 3,
   "outputs": []
  },
  {
   "cell_type": "markdown",
   "metadata": {
    "id": "yueZUuFrBtG2"
   },
   "source": [
    "## Setting Data\n",
    "* 데이터를 불러와봅시다."
   ]
  },
  {
   "cell_type": "code",
   "metadata": {
    "id": "8tyyJQoVZtv6",
    "ExecuteTime": {
     "end_time": "2023-12-20T02:23:47.647286Z",
     "start_time": "2023-12-20T02:23:47.609948Z"
    }
   },
   "source": [
    "xy = np.loadtxt(\"data-01-test-score.csv\",  #Set data path\n",
    "                delimiter=',',\n",
    "                dtype=np.float32)\n",
    "print(xy)\n",
    "\n",
    "x_train = xy[:, 0:-1]  # 모든 row를 가져오로 마지막 컬럼빼고\n",
    "y_train = xy[:, [-1]]  # 모든 row 가져오고 마지막 컬럼빼고\n",
    "\n",
    "print(x_train.shape, y_train.shape)\n"
   ],
   "execution_count": 21,
   "outputs": [
    {
     "name": "stdout",
     "output_type": "stream",
     "text": [
      "[[ 73.  80.  75. 152.]\n",
      " [ 93.  88.  93. 185.]\n",
      " [ 89.  91.  90. 180.]\n",
      " [ 96.  98. 100. 196.]\n",
      " [ 73.  66.  70. 142.]\n",
      " [ 53.  46.  55. 101.]\n",
      " [ 69.  74.  77. 149.]\n",
      " [ 47.  56.  60. 115.]\n",
      " [ 87.  79.  90. 175.]\n",
      " [ 79.  70.  88. 164.]\n",
      " [ 69.  70.  73. 141.]\n",
      " [ 70.  65.  74. 141.]\n",
      " [ 93.  95.  91. 184.]\n",
      " [ 79.  80.  73. 152.]\n",
      " [ 70.  73.  78. 148.]\n",
      " [ 93.  89.  96. 192.]\n",
      " [ 78.  75.  68. 147.]\n",
      " [ 81.  90.  93. 183.]\n",
      " [ 88.  92.  86. 177.]\n",
      " [ 78.  83.  77. 159.]\n",
      " [ 82.  86.  90. 177.]\n",
      " [ 86.  82.  89. 175.]\n",
      " [ 78.  83.  85. 175.]\n",
      " [ 76.  83.  71. 149.]\n",
      " [ 96.  93.  95. 192.]]\n",
      "(25, 3) (25, 1)\n"
     ]
    }
   ]
  },
  {
   "cell_type": "markdown",
   "metadata": {
    "id": "oy0VqPPVBtG5"
   },
   "source": [
    "## make a dataset"
   ]
  },
  {
   "cell_type": "code",
   "metadata": {
    "id": "1IREOA4UBtG6",
    "ExecuteTime": {
     "end_time": "2023-12-20T02:23:48.996983Z",
     "start_time": "2023-12-20T02:23:48.961272Z"
    }
   },
   "source": [
    "dataset = tf.data.Dataset.from_tensor_slices((x_train, y_train)).batch(len(x_train))  # 한번에불러오는 량\n",
    "dataset = dataset.batch(batch_size=len(x_train))  # 메모리리 batch_size만큼 가져옴 int형 일종의 제너레이터\n",
    "\n",
    "# 분산데이타 처리 가능\n",
    "# tensro_slices : 텐서를 슬라이스로 만들어하나씩 가져옴"
   ],
   "execution_count": 22,
   "outputs": []
  },
  {
   "cell_type": "code",
   "execution_count": 23,
   "outputs": [
    {
     "name": "stdout",
     "output_type": "stream",
     "text": [
      "tf.Tensor(\n",
      "[[[ 73.  80.  75.]\n",
      "  [ 93.  88.  93.]\n",
      "  [ 89.  91.  90.]\n",
      "  [ 96.  98. 100.]\n",
      "  [ 73.  66.  70.]\n",
      "  [ 53.  46.  55.]\n",
      "  [ 69.  74.  77.]\n",
      "  [ 47.  56.  60.]\n",
      "  [ 87.  79.  90.]\n",
      "  [ 79.  70.  88.]\n",
      "  [ 69.  70.  73.]\n",
      "  [ 70.  65.  74.]\n",
      "  [ 93.  95.  91.]\n",
      "  [ 79.  80.  73.]\n",
      "  [ 70.  73.  78.]\n",
      "  [ 93.  89.  96.]\n",
      "  [ 78.  75.  68.]\n",
      "  [ 81.  90.  93.]\n",
      "  [ 88.  92.  86.]\n",
      "  [ 78.  83.  77.]\n",
      "  [ 82.  86.  90.]\n",
      "  [ 86.  82.  89.]\n",
      "  [ 78.  83.  85.]\n",
      "  [ 76.  83.  71.]\n",
      "  [ 96.  93.  95.]]], shape=(1, 25, 3), dtype=float32) tf.Tensor(\n",
      "[[[152.]\n",
      "  [185.]\n",
      "  [180.]\n",
      "  [196.]\n",
      "  [142.]\n",
      "  [101.]\n",
      "  [149.]\n",
      "  [115.]\n",
      "  [175.]\n",
      "  [164.]\n",
      "  [141.]\n",
      "  [141.]\n",
      "  [184.]\n",
      "  [152.]\n",
      "  [148.]\n",
      "  [192.]\n",
      "  [147.]\n",
      "  [183.]\n",
      "  [177.]\n",
      "  [159.]\n",
      "  [177.]\n",
      "  [175.]\n",
      "  [175.]\n",
      "  [149.]\n",
      "  [192.]]], shape=(1, 25, 1), dtype=float32)\n"
     ]
    }
   ],
   "source": [
    "for x, y in dataset:\n",
    "    print(x, y)\n",
    "    break"
   ],
   "metadata": {
    "collapsed": false,
    "ExecuteTime": {
     "end_time": "2023-12-20T02:23:49.661869Z",
     "start_time": "2023-12-20T02:23:49.602475Z"
    }
   }
  },
  {
   "cell_type": "markdown",
   "metadata": {
    "id": "uF7T-bl2BtG8"
   },
   "source": [
    "# 가설 설정"
   ]
  },
  {
   "cell_type": "code",
   "metadata": {
    "id": "yy6hZwGy45kO",
    "ExecuteTime": {
     "end_time": "2023-12-20T02:23:51.013065Z",
     "start_time": "2023-12-20T02:23:50.965845Z"
    }
   },
   "source": [
    "W = tf.Variable(tf.random.normal([1, 3], 0, 1), name='weight')\n",
    "b = tf.Variable(tf.random.normal([1], 0, 1), name='bias')\n",
    "#tf.keras.layers.Dense(1) 동일\n",
    "\n",
    "tf.print(W, b)\n",
    "print(x_train)\n",
    "tf.transpose(x_train)"
   ],
   "execution_count": 24,
   "outputs": [
    {
     "name": "stdout",
     "output_type": "stream",
     "text": [
      "[[-1.35441589 0.704549313 0.0366619118]] [-1.35441589]\n",
      "[[ 73.  80.  75.]\n",
      " [ 93.  88.  93.]\n",
      " [ 89.  91.  90.]\n",
      " [ 96.  98. 100.]\n",
      " [ 73.  66.  70.]\n",
      " [ 53.  46.  55.]\n",
      " [ 69.  74.  77.]\n",
      " [ 47.  56.  60.]\n",
      " [ 87.  79.  90.]\n",
      " [ 79.  70.  88.]\n",
      " [ 69.  70.  73.]\n",
      " [ 70.  65.  74.]\n",
      " [ 93.  95.  91.]\n",
      " [ 79.  80.  73.]\n",
      " [ 70.  73.  78.]\n",
      " [ 93.  89.  96.]\n",
      " [ 78.  75.  68.]\n",
      " [ 81.  90.  93.]\n",
      " [ 88.  92.  86.]\n",
      " [ 78.  83.  77.]\n",
      " [ 82.  86.  90.]\n",
      " [ 86.  82.  89.]\n",
      " [ 78.  83.  85.]\n",
      " [ 76.  83.  71.]\n",
      " [ 96.  93.  95.]]\n"
     ]
    },
    {
     "data": {
      "text/plain": "<tf.Tensor: shape=(3, 25), dtype=float32, numpy=\narray([[ 73.,  93.,  89.,  96.,  73.,  53.,  69.,  47.,  87.,  79.,  69.,\n         70.,  93.,  79.,  70.,  93.,  78.,  81.,  88.,  78.,  82.,  86.,\n         78.,  76.,  96.],\n       [ 80.,  88.,  91.,  98.,  66.,  46.,  74.,  56.,  79.,  70.,  70.,\n         65.,  95.,  80.,  73.,  89.,  75.,  90.,  92.,  83.,  86.,  82.,\n         83.,  83.,  93.],\n       [ 75.,  93.,  90., 100.,  70.,  55.,  77.,  60.,  90.,  88.,  73.,\n         74.,  91.,  73.,  78.,  96.,  68.,  93.,  86.,  77.,  90.,  89.,\n         85.,  71.,  95.]], dtype=float32)>"
     },
     "execution_count": 24,
     "metadata": {},
     "output_type": "execute_result"
    }
   ]
  },
  {
   "cell_type": "markdown",
   "source": [],
   "metadata": {
    "collapsed": false
   }
  },
  {
   "cell_type": "code",
   "metadata": {
    "id": "22WmI9ygawt_",
    "ExecuteTime": {
     "end_time": "2023-12-20T02:23:53.292224Z",
     "start_time": "2023-12-20T02:23:52.923427Z"
    }
   },
   "source": [
    "def linear_regression(features):\n",
    "    hypothesis = tf.matmul(features, W, transpose_b=True) + b\n",
    "    return hypothesis\n",
    "\n",
    "\n",
    "print(linear_regression(x_train))"
   ],
   "execution_count": 25,
   "outputs": [
    {
     "name": "stdout",
     "output_type": "stream",
     "text": [
      "tf.Tensor(\n",
      "[[-41.11319 ]\n",
      " [-61.905197]\n",
      " [-54.48387 ]\n",
      " [-58.66632 ]\n",
      " [-51.160187]\n",
      " [-38.712784]\n",
      " [-39.849495]\n",
      " [-23.357487]\n",
      " [-60.22963 ]\n",
      " [-55.80857 ]\n",
      " [-42.814342]\n",
      " [-47.654842]\n",
      " [-57.046677]\n",
      " [-49.313007]\n",
      " [-41.8718  ]\n",
      " [-61.09066 ]\n",
      " [-51.664646]\n",
      " [-44.24311 ]\n",
      " [-52.571556]\n",
      " [-45.698296]\n",
      " [-48.525707]\n",
      " [-56.79823 ]\n",
      " [-45.405   ]\n",
      " [-43.209435]\n",
      " [-62.372375]], shape=(25, 1), dtype=float32)\n"
     ]
    }
   ]
  },
  {
   "cell_type": "markdown",
   "metadata": {
    "id": "-J_yD5XEBtHB"
   },
   "source": [
    "# cost 함수 설정\n",
    "\n",
    "\n",
    "$$ cost(W)=\\frac { 1 }{ m } \\sum _{i=1}^{m}{ { ({ H(x_{ i }) }-y_{ i } })^{ 2 } }  $$"
   ]
  },
  {
   "cell_type": "code",
   "metadata": {
    "id": "RY6ssJoXarTa",
    "ExecuteTime": {
     "end_time": "2023-12-20T02:23:54.979278Z",
     "start_time": "2023-12-20T02:23:54.948843Z"
    }
   },
   "source": [
    "def loss_fn(hypothesis, labels):\n",
    "    cost = tf.reduce_mean(tf.square(hypothesis - labels))\n",
    "    return cost\n",
    "\n",
    "\n",
    "optimizer = tf.compat.v1.train.GradientDescentOptimizer(learning_rate=0.00001)"
   ],
   "execution_count": 26,
   "outputs": []
  },
  {
   "cell_type": "markdown",
   "metadata": {
    "id": "ArFspp5PBtHG"
   },
   "source": [
    "# 학습"
   ]
  },
  {
   "cell_type": "code",
   "metadata": {
    "id": "wo2YiZdYaEQw",
    "ExecuteTime": {
     "end_time": "2023-12-20T02:26:36.850458Z",
     "start_time": "2023-12-20T02:26:19.188711Z"
    }
   },
   "source": [
    "epochs = 5000\n",
    "\n",
    "for step in range(epochs):\n",
    "    for features, labels in dataset:\n",
    "        with tf.GradientTape() as tape:  # 미분을 위한 준비단계 기록\n",
    "            pred = linear_regression(features)\n",
    "            loss_value = loss_fn(pred, labels)\n",
    "        # 여기까지는 반드시 탭으로 들어가야하고\n",
    "\n",
    "        #여기서부터는 상관없음\n",
    "        grads = tape.gradient(loss_value, [W, b])  # 업데이트 할 파라미터, 실제 미분에 tape객체를 활용\n",
    "        optimizer.apply_gradients(grads_and_vars=zip(grads, [W, b]))\n",
    "        if step % 100 == 0:\n",
    "            print(\"Iter: {}, Loss: {:.4f}\".format(step, loss_value))"
   ],
   "execution_count": 30,
   "outputs": [
    {
     "name": "stdout",
     "output_type": "stream",
     "text": [
      "Iter: 0, Loss: 7.2605\n",
      "Iter: 100, Loss: 7.1880\n",
      "Iter: 200, Loss: 7.1196\n",
      "Iter: 300, Loss: 7.0550\n",
      "Iter: 400, Loss: 6.9940\n",
      "Iter: 500, Loss: 6.9365\n",
      "Iter: 600, Loss: 6.8821\n",
      "Iter: 700, Loss: 6.8308\n",
      "Iter: 800, Loss: 6.7823\n",
      "Iter: 900, Loss: 6.7364\n",
      "Iter: 1000, Loss: 6.6931\n",
      "Iter: 1100, Loss: 6.6522\n",
      "Iter: 1200, Loss: 6.6135\n",
      "Iter: 1300, Loss: 6.5768\n",
      "Iter: 1400, Loss: 6.5422\n",
      "Iter: 1500, Loss: 6.5094\n",
      "Iter: 1600, Loss: 6.4784\n",
      "Iter: 1700, Loss: 6.4490\n",
      "Iter: 1800, Loss: 6.4213\n",
      "Iter: 1900, Loss: 6.3950\n",
      "Iter: 2000, Loss: 6.3700\n",
      "Iter: 2100, Loss: 6.3464\n",
      "Iter: 2200, Loss: 6.3241\n",
      "Iter: 2300, Loss: 6.3029\n",
      "Iter: 2400, Loss: 6.2829\n",
      "Iter: 2500, Loss: 6.2639\n",
      "Iter: 2600, Loss: 6.2458\n",
      "Iter: 2700, Loss: 6.2288\n",
      "Iter: 2800, Loss: 6.2126\n",
      "Iter: 2900, Loss: 6.1972\n",
      "Iter: 3000, Loss: 6.1827\n",
      "Iter: 3100, Loss: 6.1689\n",
      "Iter: 3200, Loss: 6.1558\n",
      "Iter: 3300, Loss: 6.1434\n",
      "Iter: 3400, Loss: 6.1316\n",
      "Iter: 3500, Loss: 6.1204\n",
      "Iter: 3600, Loss: 6.1098\n",
      "Iter: 3700, Loss: 6.0997\n",
      "Iter: 3800, Loss: 6.0902\n",
      "Iter: 3900, Loss: 6.0811\n",
      "Iter: 4000, Loss: 6.0725\n",
      "Iter: 4100, Loss: 6.0644\n",
      "Iter: 4200, Loss: 6.0566\n",
      "Iter: 4300, Loss: 6.0492\n",
      "Iter: 4400, Loss: 6.0423\n",
      "Iter: 4500, Loss: 6.0356\n",
      "Iter: 4600, Loss: 6.0293\n",
      "Iter: 4700, Loss: 6.0233\n",
      "Iter: 4800, Loss: 6.0176\n",
      "Iter: 4900, Loss: 6.0122\n"
     ]
    }
   ]
  },
  {
   "cell_type": "code",
   "metadata": {
    "id": "Fu1S6WVm4M1Y",
    "ExecuteTime": {
     "end_time": "2023-12-20T02:31:57.038103Z",
     "start_time": "2023-12-20T02:31:56.997851Z"
    }
   },
   "source": [
    "print(W, b)"
   ],
   "execution_count": 32,
   "outputs": [
    {
     "name": "stdout",
     "output_type": "stream",
     "text": [
      "<tf.Variable 'weight:0' shape=(1, 3) dtype=float32, numpy=array([[0.28451478, 0.57907796, 1.1652458 ]], dtype=float32)> <tf.Variable 'bias:0' shape=(1,) dtype=float32, numpy=array([-1.3558369], dtype=float32)>\n"
     ]
    }
   ]
  },
  {
   "cell_type": "code",
   "metadata": {
    "id": "cUJviOQ_aGVH",
    "ExecuteTime": {
     "end_time": "2023-12-20T02:31:57.848080Z",
     "start_time": "2023-12-20T02:31:57.733646Z"
    }
   },
   "source": [
    "\n",
    "hypothesis = linear_regression(x_train)\n",
    "\n",
    "plt.plot(y_train, 'o-', color='red')\n",
    "plt.plot(hypothesis.numpy(), 'o-', color='blue')\n",
    "plt.show()"
   ],
   "execution_count": 33,
   "outputs": [
    {
     "data": {
      "text/plain": "<Figure size 640x480 with 1 Axes>",
      "image/png": "[encoded data removed]"
     },
     "metadata": {},
     "output_type": "display_data"
    }
   ]
  },
  {
   "cell_type": "code",
   "execution_count": null,
   "outputs": [],
   "source": [],
   "metadata": {
    "collapsed": false
   }
  }
 ]
}
