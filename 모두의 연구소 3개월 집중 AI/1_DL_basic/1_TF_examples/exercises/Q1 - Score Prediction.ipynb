{
 "nbformat": 4,
 "nbformat_minor": 0,
 "metadata": {
  "colab": {
   "provenance": []
  },
  "kernelspec": {
   "display_name": "Python 3",
   "language": "python",
   "name": "python3"
  },
  "language_info": {
   "codemirror_mode": {
    "name": "ipython",
    "version": 3
   },
   "file_extension": ".py",
   "mimetype": "text/x-python",
   "name": "python",
   "nbconvert_exporter": "python",
   "pygments_lexer": "ipython3",
   "version": "3.6.8"
  }
 },
 "cells": [
  {
   "cell_type": "markdown",
   "metadata": {
    "id": "Bher0I-oBtGy"
   },
   "source": [
    "# Score prediction\n"
   ]
  },
  {
   "cell_type": "code",
   "source": [
    "# !pip install tensorflow-gpu"
   ],
   "metadata": {
    "id": "8m4xH38qAMCv"
   },
   "execution_count": null,
   "outputs": []
  },
  {
   "cell_type": "code",
   "metadata": {
    "id": "ENBsugN3Z25Z",
    "ExecuteTime": {
     "end_time": "2023-12-19T07:24:44.742898Z",
     "start_time": "2023-12-19T07:24:42.455180Z"
    }
   },
   "source": [
    "import tensorflow as tf\n",
    "import numpy as np\n",
    "import matplotlib.pyplot as plt\n",
    "\n",
    "tf.__version__"
   ],
   "execution_count": 2,
   "outputs": [
    {
     "data": {
      "text/plain": "'2.10.0'"
     },
     "execution_count": 2,
     "metadata": {},
     "output_type": "execute_result"
    }
   ]
  },
  {
   "cell_type": "code",
   "metadata": {
    "id": "BjYm5bN6mMh2",
    "ExecuteTime": {
     "end_time": "2023-12-19T07:24:44.744364Z",
     "start_time": "2023-12-19T07:24:44.737860Z"
    }
   },
   "source": [
    "# In colab\n",
    "# from google.colab import drive\n",
    "# drive.mount('/content/drive')"
   ],
   "execution_count": 3,
   "outputs": []
  },
  {
   "cell_type": "markdown",
   "metadata": {
    "id": "yueZUuFrBtG2"
   },
   "source": [
    "## Setting Data\n",
    "* 데이터를 불러와봅시다."
   ]
  },
  {
   "cell_type": "code",
   "metadata": {
    "id": "8tyyJQoVZtv6",
    "ExecuteTime": {
     "end_time": "2023-12-19T07:24:44.760690Z",
     "start_time": "2023-12-19T07:24:44.740726Z"
    }
   },
   "source": [
    "xy = np.loadtxt(\"data-01-test-score.csv\",  #Set data path\n",
    "                delimiter=',',\n",
    "                dtype=np.float32)\n",
    "print(xy)\n",
    "\n",
    "x_train = xy[:, 0:-1]  # 모든 row를 가져오로 마지막 컬럼빼고\n",
    "y_train = xy[:, [-1]]  # 모든 row 가져오고 마지막 컬럼빼고\n",
    "\n",
    "print(x_train.shape, y_train.shape)\n"
   ],
   "execution_count": 4,
   "outputs": [
    {
     "name": "stdout",
     "output_type": "stream",
     "text": [
      "[[ 73.  80.  75. 152.]\n",
      " [ 93.  88.  93. 185.]\n",
      " [ 89.  91.  90. 180.]\n",
      " [ 96.  98. 100. 196.]\n",
      " [ 73.  66.  70. 142.]\n",
      " [ 53.  46.  55. 101.]\n",
      " [ 69.  74.  77. 149.]\n",
      " [ 47.  56.  60. 115.]\n",
      " [ 87.  79.  90. 175.]\n",
      " [ 79.  70.  88. 164.]\n",
      " [ 69.  70.  73. 141.]\n",
      " [ 70.  65.  74. 141.]\n",
      " [ 93.  95.  91. 184.]\n",
      " [ 79.  80.  73. 152.]\n",
      " [ 70.  73.  78. 148.]\n",
      " [ 93.  89.  96. 192.]\n",
      " [ 78.  75.  68. 147.]\n",
      " [ 81.  90.  93. 183.]\n",
      " [ 88.  92.  86. 177.]\n",
      " [ 78.  83.  77. 159.]\n",
      " [ 82.  86.  90. 177.]\n",
      " [ 86.  82.  89. 175.]\n",
      " [ 78.  83.  85. 175.]\n",
      " [ 76.  83.  71. 149.]\n",
      " [ 96.  93.  95. 192.]]\n",
      "(25, 3) (25, 1)\n"
     ]
    }
   ]
  },
  {
   "cell_type": "markdown",
   "metadata": {
    "id": "oy0VqPPVBtG5"
   },
   "source": [
    "## make a dataset"
   ]
  },
  {
   "cell_type": "code",
   "metadata": {
    "id": "1IREOA4UBtG6",
    "ExecuteTime": {
     "end_time": "2023-12-19T07:24:45.965841Z",
     "start_time": "2023-12-19T07:24:45.932299Z"
    }
   },
   "source": [
    "dataset = tf.data.Dataset.from_tensor_slices((x_train, y_train)).batch(len(x_train))\n"
   ],
   "execution_count": 5,
   "outputs": [
    {
     "name": "stdout",
     "output_type": "stream",
     "text": [
      "Metal device set to: Apple M1\n"
     ]
    },
    {
     "name": "stderr",
     "output_type": "stream",
     "text": [
      "2023-12-19 16:24:45.880732: I tensorflow/core/common_runtime/pluggable_device/pluggable_device_factory.cc:306] Could not identify NUMA node of platform GPU ID 0, defaulting to 0. Your kernel may not have been built with NUMA support.\n",
      "2023-12-19 16:24:45.881306: I tensorflow/core/common_runtime/pluggable_device/pluggable_device_factory.cc:272] Created TensorFlow device (/job:localhost/replica:0/task:0/device:GPU:0 with 0 MB memory) -> physical PluggableDevice (device: 0, name: METAL, pci bus id: <undefined>)\n"
     ]
    }
   ]
  },
  {
   "cell_type": "markdown",
   "metadata": {
    "id": "uF7T-bl2BtG8"
   },
   "source": [
    "# 가설 설정"
   ]
  },
  {
   "cell_type": "code",
   "metadata": {
    "id": "yy6hZwGy45kO",
    "ExecuteTime": {
     "end_time": "2023-12-19T07:24:47.252585Z",
     "start_time": "2023-12-19T07:24:47.075587Z"
    }
   },
   "source": [
    "W = tf.Variable(tf.random.normal([1, 3], 0, 1), name='weight')\n",
    "b = tf.Variable(tf.random.normal([1], 0, 1), name='bias')\n",
    "\n",
    "tf.print(W, b)\n",
    "print(x_train)\n",
    "tf.transpose(x_train)"
   ],
   "execution_count": 6,
   "outputs": [
    {
     "name": "stdout",
     "output_type": "stream",
     "text": [
      "[[-0.0649913102 -0.6812675 0.0452817902]] [-1.35441589]\n",
      "[[ 73.  80.  75.]\n",
      " [ 93.  88.  93.]\n",
      " [ 89.  91.  90.]\n",
      " [ 96.  98. 100.]\n",
      " [ 73.  66.  70.]\n",
      " [ 53.  46.  55.]\n",
      " [ 69.  74.  77.]\n",
      " [ 47.  56.  60.]\n",
      " [ 87.  79.  90.]\n",
      " [ 79.  70.  88.]\n",
      " [ 69.  70.  73.]\n",
      " [ 70.  65.  74.]\n",
      " [ 93.  95.  91.]\n",
      " [ 79.  80.  73.]\n",
      " [ 70.  73.  78.]\n",
      " [ 93.  89.  96.]\n",
      " [ 78.  75.  68.]\n",
      " [ 81.  90.  93.]\n",
      " [ 88.  92.  86.]\n",
      " [ 78.  83.  77.]\n",
      " [ 82.  86.  90.]\n",
      " [ 86.  82.  89.]\n",
      " [ 78.  83.  85.]\n",
      " [ 76.  83.  71.]\n",
      " [ 96.  93.  95.]]\n"
     ]
    },
    {
     "data": {
      "text/plain": "<tf.Tensor: shape=(3, 25), dtype=float32, numpy=\narray([[ 73.,  93.,  89.,  96.,  73.,  53.,  69.,  47.,  87.,  79.,  69.,\n         70.,  93.,  79.,  70.,  93.,  78.,  81.,  88.,  78.,  82.,  86.,\n         78.,  76.,  96.],\n       [ 80.,  88.,  91.,  98.,  66.,  46.,  74.,  56.,  79.,  70.,  70.,\n         65.,  95.,  80.,  73.,  89.,  75.,  90.,  92.,  83.,  86.,  82.,\n         83.,  83.,  93.],\n       [ 75.,  93.,  90., 100.,  70.,  55.,  77.,  60.,  90.,  88.,  73.,\n         74.,  91.,  73.,  78.,  96.,  68.,  93.,  86.,  77.,  90.,  89.,\n         85.,  71.,  95.]], dtype=float32)>"
     },
     "execution_count": 6,
     "metadata": {},
     "output_type": "execute_result"
    }
   ]
  },
  {
   "cell_type": "code",
   "metadata": {
    "id": "22WmI9ygawt_",
    "ExecuteTime": {
     "end_time": "2023-12-19T07:24:48.215240Z",
     "start_time": "2023-12-19T07:24:48.158055Z"
    }
   },
   "source": [
    "def linear_regression(features):\n",
    "    hypothesis = tf.matmul(features, tf.transpose(W)) + b\n",
    "    return hypothesis\n",
    "\n",
    "\n",
    "print(linear_regression(x_train))"
   ],
   "execution_count": 7,
   "outputs": [
    {
     "name": "stdout",
     "output_type": "stream",
     "text": [
      "tf.Tensor(\n",
      "[[-57.20405 ]\n",
      " [-63.138943]\n",
      " [-65.058624]\n",
      " [-69.82961 ]\n",
      " [-47.89271 ]\n",
      " [-33.646763]\n",
      " [-52.765915]\n",
      " [-39.843082]\n",
      " [-56.75343 ]\n",
      " [-50.192654]\n",
      " [-50.221973]\n",
      " [-46.835342]\n",
      " [-67.998375]\n",
      " [-57.68456 ]\n",
      " [-52.104355]\n",
      " [-63.684364]\n",
      " [-54.439636]\n",
      " [-63.72158 ]\n",
      " [-65.856026]\n",
      " [-59.482243]\n",
      " [-61.19735 ]\n",
      " [-58.777523]\n",
      " [-59.119987]\n",
      " [-59.62395 ]\n",
      " [-66.64969 ]], shape=(25, 1), dtype=float32)\n"
     ]
    }
   ]
  },
  {
   "cell_type": "markdown",
   "metadata": {
    "id": "-J_yD5XEBtHB"
   },
   "source": [
    "# cost 함수 설정\n",
    "\n",
    "\n",
    "$$ cost(W)=\\frac { 1 }{ m } \\sum _{i=1}^{m}{ { ({ H(x_{ i }) }-y_{ i } })^{ 2 } }  $$"
   ]
  },
  {
   "cell_type": "code",
   "metadata": {
    "id": "RY6ssJoXarTa",
    "ExecuteTime": {
     "end_time": "2023-12-19T07:24:50.527614Z",
     "start_time": "2023-12-19T07:24:50.480944Z"
    }
   },
   "source": [
    "def loss_fn(hypothesis, labels):\n",
    "    cost = tf.reduce_mean(tf.square(hypothesis - labels))\n",
    "    return cost\n",
    "\n",
    "\n",
    "optimizer = tf.compat.v1.train.GradientDescentOptimizer(learning_rate=0.00001)"
   ],
   "execution_count": 8,
   "outputs": []
  },
  {
   "cell_type": "markdown",
   "metadata": {
    "id": "ArFspp5PBtHG"
   },
   "source": [
    "# 학습"
   ]
  },
  {
   "cell_type": "code",
   "metadata": {
    "id": "wo2YiZdYaEQw",
    "ExecuteTime": {
     "end_time": "2023-12-19T07:25:14.691761Z",
     "start_time": "2023-12-19T07:24:58.479759Z"
    }
   },
   "source": [
    "epochs = 5000\n",
    "\n",
    "for step in range(epochs):\n",
    "    for features, labels in dataset:\n",
    "        with tf.GradientTape() as tape:  # 미분을 위한 기록\n",
    "            hypothesis = linear_regression(features)\n",
    "            loss_value = loss_fn(hypothesis, labels)\n",
    "        # 여기까지는 반드시 탭으로 들어가야하고\n",
    "\n",
    "        #여기서부터는 상관없음\n",
    "        grads = tape.gradient(loss_value, [W, b])  # 실제 미분에 tape객체를 활용\n",
    "        optimizer.apply_gradients(grads_and_vars=zip(grads, [W, b]))\n",
    "        if step % 100 == 0:\n",
    "            print(\"Iter: {}, Loss: {:.4f}\".format(step, loss_value))"
   ],
   "execution_count": 10,
   "outputs": [
    {
     "name": "stdout",
     "output_type": "stream",
     "text": [
      "Iter: 0, Loss: 48961.8047\n",
      "Iter: 100, Loss: 10.1661\n",
      "Iter: 200, Loss: 9.9545\n",
      "Iter: 300, Loss: 9.7536\n",
      "Iter: 400, Loss: 9.5628\n",
      "Iter: 500, Loss: 9.3816\n",
      "Iter: 600, Loss: 9.2096\n",
      "Iter: 700, Loss: 9.0461\n",
      "Iter: 800, Loss: 8.8908\n",
      "Iter: 900, Loss: 8.7434\n",
      "Iter: 1000, Loss: 8.6032\n",
      "Iter: 1100, Loss: 8.4701\n",
      "Iter: 1200, Loss: 8.3437\n",
      "Iter: 1300, Loss: 8.2235\n",
      "Iter: 1400, Loss: 8.1093\n",
      "Iter: 1500, Loss: 8.0009\n",
      "Iter: 1600, Loss: 7.8978\n",
      "Iter: 1700, Loss: 7.7998\n",
      "Iter: 1800, Loss: 7.7067\n",
      "Iter: 1900, Loss: 7.6182\n",
      "Iter: 2000, Loss: 7.5341\n",
      "Iter: 2100, Loss: 7.4542\n",
      "Iter: 2200, Loss: 7.3783\n",
      "Iter: 2300, Loss: 7.3061\n",
      "Iter: 2400, Loss: 7.2375\n",
      "Iter: 2500, Loss: 7.1722\n",
      "Iter: 2600, Loss: 7.1102\n",
      "Iter: 2700, Loss: 7.0513\n",
      "Iter: 2800, Loss: 6.9953\n",
      "Iter: 2900, Loss: 6.9420\n",
      "Iter: 3000, Loss: 6.8914\n",
      "Iter: 3100, Loss: 6.8432\n",
      "Iter: 3200, Loss: 6.7974\n",
      "Iter: 3300, Loss: 6.7539\n",
      "Iter: 3400, Loss: 6.7126\n",
      "Iter: 3500, Loss: 6.6732\n",
      "Iter: 3600, Loss: 6.6358\n",
      "Iter: 3700, Loss: 6.6003\n",
      "Iter: 3800, Loss: 6.5665\n",
      "Iter: 3900, Loss: 6.5343\n",
      "Iter: 4000, Loss: 6.5037\n",
      "Iter: 4100, Loss: 6.4747\n",
      "Iter: 4200, Loss: 6.4470\n",
      "Iter: 4300, Loss: 6.4207\n",
      "Iter: 4400, Loss: 6.3958\n",
      "Iter: 4500, Loss: 6.3720\n",
      "Iter: 4600, Loss: 6.3494\n",
      "Iter: 4700, Loss: 6.3279\n",
      "Iter: 4800, Loss: 6.3074\n",
      "Iter: 4900, Loss: 6.2880\n"
     ]
    }
   ]
  },
  {
   "cell_type": "code",
   "metadata": {
    "id": "Fu1S6WVm4M1Y",
    "ExecuteTime": {
     "end_time": "2023-12-19T05:27:34.045579Z",
     "start_time": "2023-12-19T05:27:34.011909Z"
    }
   },
   "source": [
    "print(W, b)"
   ],
   "execution_count": 106,
   "outputs": [
    {
     "name": "stdout",
     "output_type": "stream",
     "text": [
      "<tf.Variable 'weight:0' shape=(1, 3) dtype=float32, numpy=array([[0.10910056, 0.73010707, 1.1880596 ]], dtype=float32)> <tf.Variable 'bias:0' shape=(1,) dtype=float32, numpy=array([-1.3494155], dtype=float32)>\n"
     ]
    }
   ]
  },
  {
   "cell_type": "code",
   "metadata": {
    "id": "cUJviOQ_aGVH",
    "ExecuteTime": {
     "end_time": "2023-12-19T05:27:35.782018Z",
     "start_time": "2023-12-19T05:27:35.656836Z"
    }
   },
   "source": [
    "hypothesis = linear_regression(x_train)\n",
    "\n",
    "plt.plot(y_train, 'o-', color='red')\n",
    "plt.plot(hypothesis.numpy(), 'o-', color='blue')\n",
    "plt.show()"
   ],
   "execution_count": 107,
   "outputs": [
    {
     "data": {
      "text/plain": "<Figure size 640x480 with 1 Axes>",
      "image/png": "[encoded data removed]"
     },
     "metadata": {},
     "output_type": "display_data"
    }
   ]
  }
 ]
}
