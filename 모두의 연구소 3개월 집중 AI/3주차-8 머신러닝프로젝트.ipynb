{
 "cells": [
  {
   "cell_type": "markdown",
   "source": [
    "### Airbnb(New York City)\n",
    "\n",
    "미국 NYC Airbnb 목록(2019)\n",
    "프로젝트 목적: 가격 예측(price)\n",
    "제공 데이터(3개): train.csv, test.csv, y_test(최종 채점용)\n",
    "평가 방식: MSE (평균제곱오차/ 실제 값과 예측 값 차이 ->제곱해 평균)\n",
    "<참고> : 6. 지도학습(회귀) 노드의 6-8. 평가(회귀) 스텝에서 복습하실 수 있습니다.\n",
    "데이터 출처 바로가기 / License CC0: Public Domain\n"
   ],
   "metadata": {
    "collapsed": false
   },
   "id": "88f14de4dbd8b4b2"
  },
  {
   "cell_type": "code",
   "execution_count": 1,
   "outputs": [],
   "source": [
    "# 라이브러리 \n",
    "import pandas as pd"
   ],
   "metadata": {
    "collapsed": false,
    "ExecuteTime": {
     "end_time": "2023-12-12T01:09:06.563283800Z",
     "start_time": "2023-12-12T01:09:06.548542600Z"
    }
   },
   "id": "d9d15110b824b0dd"
  },
  {
   "cell_type": "code",
   "execution_count": 2,
   "outputs": [],
   "source": [
    "# 라이브러리 \n",
    "# 데이터 불러오기\n",
    "train = pd.read_csv('data/train.csv')\n",
    "test = pd.read_csv('data/test.csv')"
   ],
   "metadata": {
    "collapsed": false,
    "ExecuteTime": {
     "end_time": "2023-12-12T01:09:06.722598500Z",
     "start_time": "2023-12-12T01:09:06.564286800Z"
    }
   },
   "id": "689788f10b773faa"
  },
  {
   "cell_type": "code",
   "execution_count": 3,
   "outputs": [
    {
     "data": {
      "text/plain": "((39116, 16), (9779, 15))"
     },
     "execution_count": 3,
     "metadata": {},
     "output_type": "execute_result"
    }
   ],
   "source": [
    "train.shape, test.shape"
   ],
   "metadata": {
    "collapsed": false,
    "ExecuteTime": {
     "end_time": "2023-12-12T01:09:11.199777700Z",
     "start_time": "2023-12-12T01:09:11.145574400Z"
    }
   },
   "id": "176cf9849cb5497a"
  },
  {
   "cell_type": "code",
   "execution_count": 4,
   "outputs": [
    {
     "data": {
      "text/plain": "         id                                            name   host_id  \\\n0  14963583          Room in South Harlem near Central Park  94219511   \n1   9458704  Large 1BR Apartment, near Times Sq (2nd Floor)  49015331   \n\n  host_name neighbourhood_group   neighbourhood  latitude  longitude  \\\n0    Gilles           Manhattan          Harlem  40.80167  -73.95781   \n1     Iradj           Manhattan  Hell's Kitchen  40.76037  -73.99016   \n\n         room_type  price  minimum_nights  number_of_reviews last_review  \\\n0     Private room     70               3                  3  2019-01-01   \n1  Entire home/apt    240               2                 64  2019-06-30   \n\n   reviews_per_month  calculated_host_listings_count  availability_365  \n0               0.09                               2                 0  \n1               1.68                               2               262  ",
      "text/html": "<div>\n<style scoped>\n    .dataframe tbody tr th:only-of-type {\n        vertical-align: middle;\n    }\n\n    .dataframe tbody tr th {\n        vertical-align: top;\n    }\n\n    .dataframe thead th {\n        text-align: right;\n    }\n</style>\n<table border=\"1\" class=\"dataframe\">\n  <thead>\n    <tr style=\"text-align: right;\">\n      <th></th>\n      <th>id</th>\n      <th>name</th>\n      <th>host_id</th>\n      <th>host_name</th>\n      <th>neighbourhood_group</th>\n      <th>neighbourhood</th>\n      <th>latitude</th>\n      <th>longitude</th>\n      <th>room_type</th>\n      <th>price</th>\n      <th>minimum_nights</th>\n      <th>number_of_reviews</th>\n      <th>last_review</th>\n      <th>reviews_per_month</th>\n      <th>calculated_host_listings_count</th>\n      <th>availability_365</th>\n    </tr>\n  </thead>\n  <tbody>\n    <tr>\n      <th>0</th>\n      <td>14963583</td>\n      <td>Room in South Harlem near Central Park</td>\n      <td>94219511</td>\n      <td>Gilles</td>\n      <td>Manhattan</td>\n      <td>Harlem</td>\n      <td>40.80167</td>\n      <td>-73.95781</td>\n      <td>Private room</td>\n      <td>70</td>\n      <td>3</td>\n      <td>3</td>\n      <td>2019-01-01</td>\n      <td>0.09</td>\n      <td>2</td>\n      <td>0</td>\n    </tr>\n    <tr>\n      <th>1</th>\n      <td>9458704</td>\n      <td>Large 1BR Apartment, near Times Sq (2nd Floor)</td>\n      <td>49015331</td>\n      <td>Iradj</td>\n      <td>Manhattan</td>\n      <td>Hell's Kitchen</td>\n      <td>40.76037</td>\n      <td>-73.99016</td>\n      <td>Entire home/apt</td>\n      <td>240</td>\n      <td>2</td>\n      <td>64</td>\n      <td>2019-06-30</td>\n      <td>1.68</td>\n      <td>2</td>\n      <td>262</td>\n    </tr>\n  </tbody>\n</table>\n</div>"
     },
     "metadata": {},
     "output_type": "display_data"
    },
    {
     "data": {
      "text/plain": "         id                                               name   host_id  \\\n0  30913224  Cozy and Sunny Room Williamsburg, Luxury Building  33771081   \n1    971247                   Sunny Artist Live/Work Apartment   5308961   \n\n  host_name neighbourhood_group    neighbourhood  latitude  longitude  \\\n0      Rémy            Brooklyn     Williamsburg  40.70959  -73.94652   \n1     Larry           Manhattan  Upper West Side  40.79368  -73.96487   \n\n         room_type  minimum_nights  number_of_reviews last_review  \\\n0     Private room               3                  2  2019-05-08   \n1  Entire home/apt               3                159  2019-07-03   \n\n   reviews_per_month  calculated_host_listings_count  availability_365  \n0               0.31                               1                 0  \n1               2.09                               1               244  ",
      "text/html": "<div>\n<style scoped>\n    .dataframe tbody tr th:only-of-type {\n        vertical-align: middle;\n    }\n\n    .dataframe tbody tr th {\n        vertical-align: top;\n    }\n\n    .dataframe thead th {\n        text-align: right;\n    }\n</style>\n<table border=\"1\" class=\"dataframe\">\n  <thead>\n    <tr style=\"text-align: right;\">\n      <th></th>\n      <th>id</th>\n      <th>name</th>\n      <th>host_id</th>\n      <th>host_name</th>\n      <th>neighbourhood_group</th>\n      <th>neighbourhood</th>\n      <th>latitude</th>\n      <th>longitude</th>\n      <th>room_type</th>\n      <th>minimum_nights</th>\n      <th>number_of_reviews</th>\n      <th>last_review</th>\n      <th>reviews_per_month</th>\n      <th>calculated_host_listings_count</th>\n      <th>availability_365</th>\n    </tr>\n  </thead>\n  <tbody>\n    <tr>\n      <th>0</th>\n      <td>30913224</td>\n      <td>Cozy and Sunny Room Williamsburg, Luxury Building</td>\n      <td>33771081</td>\n      <td>Rémy</td>\n      <td>Brooklyn</td>\n      <td>Williamsburg</td>\n      <td>40.70959</td>\n      <td>-73.94652</td>\n      <td>Private room</td>\n      <td>3</td>\n      <td>2</td>\n      <td>2019-05-08</td>\n      <td>0.31</td>\n      <td>1</td>\n      <td>0</td>\n    </tr>\n    <tr>\n      <th>1</th>\n      <td>971247</td>\n      <td>Sunny Artist Live/Work Apartment</td>\n      <td>5308961</td>\n      <td>Larry</td>\n      <td>Manhattan</td>\n      <td>Upper West Side</td>\n      <td>40.79368</td>\n      <td>-73.96487</td>\n      <td>Entire home/apt</td>\n      <td>3</td>\n      <td>159</td>\n      <td>2019-07-03</td>\n      <td>2.09</td>\n      <td>1</td>\n      <td>244</td>\n    </tr>\n  </tbody>\n</table>\n</div>"
     },
     "metadata": {},
     "output_type": "display_data"
    }
   ],
   "source": [
    "display(train.head(2))\n",
    "display(test.head(2))"
   ],
   "metadata": {
    "collapsed": false,
    "ExecuteTime": {
     "end_time": "2023-12-12T01:09:19.772756800Z",
     "start_time": "2023-12-12T01:09:19.706971700Z"
    }
   },
   "id": "67fc11b05aa71a89"
  },
  {
   "cell_type": "code",
   "execution_count": 5,
   "outputs": [
    {
     "name": "stdout",
     "output_type": "stream",
     "text": [
      "<class 'pandas.core.frame.DataFrame'>\n",
      "RangeIndex: 39116 entries, 0 to 39115\n",
      "Data columns (total 16 columns):\n",
      " #   Column                          Non-Null Count  Dtype  \n",
      "---  ------                          --------------  -----  \n",
      " 0   id                              39116 non-null  int64  \n",
      " 1   name                            39104 non-null  object \n",
      " 2   host_id                         39116 non-null  int64  \n",
      " 3   host_name                       39099 non-null  object \n",
      " 4   neighbourhood_group             39116 non-null  object \n",
      " 5   neighbourhood                   39116 non-null  object \n",
      " 6   latitude                        39116 non-null  float64\n",
      " 7   longitude                       39116 non-null  float64\n",
      " 8   room_type                       39116 non-null  object \n",
      " 9   price                           39116 non-null  int64  \n",
      " 10  minimum_nights                  39116 non-null  int64  \n",
      " 11  number_of_reviews               39116 non-null  int64  \n",
      " 12  last_review                     31122 non-null  object \n",
      " 13  reviews_per_month               31122 non-null  float64\n",
      " 14  calculated_host_listings_count  39116 non-null  int64  \n",
      " 15  availability_365                39116 non-null  int64  \n",
      "dtypes: float64(3), int64(7), object(6)\n",
      "memory usage: 4.8+ MB\n"
     ]
    }
   ],
   "source": [
    "# 데이터 타입\n",
    "train.info()"
   ],
   "metadata": {
    "collapsed": false,
    "ExecuteTime": {
     "end_time": "2023-12-12T01:10:15.883651400Z",
     "start_time": "2023-12-12T01:10:15.838893200Z"
    }
   },
   "id": "a1bfc84a658762ff"
  },
  {
   "cell_type": "code",
   "execution_count": 6,
   "outputs": [
    {
     "data": {
      "text/plain": "id                                   0\nname                                12\nhost_id                              0\nhost_name                           17\nneighbourhood_group                  0\nneighbourhood                        0\nlatitude                             0\nlongitude                            0\nroom_type                            0\nprice                                0\nminimum_nights                       0\nnumber_of_reviews                    0\nlast_review                       7994\nreviews_per_month                 7994\ncalculated_host_listings_count       0\navailability_365                     0\ndtype: int64"
     },
     "execution_count": 6,
     "metadata": {},
     "output_type": "execute_result"
    }
   ],
   "source": [
    "# 결측치(train)\n",
    "train.isnull().sum()"
   ],
   "metadata": {
    "collapsed": false,
    "ExecuteTime": {
     "end_time": "2023-12-12T01:10:28.274282300Z",
     "start_time": "2023-12-12T01:10:28.225338700Z"
    }
   },
   "id": "1656efeae5d39cd4"
  },
  {
   "cell_type": "code",
   "execution_count": 7,
   "outputs": [
    {
     "data": {
      "text/plain": "id                                   0\nname                                 4\nhost_id                              0\nhost_name                            4\nneighbourhood_group                  0\nneighbourhood                        0\nlatitude                             0\nlongitude                            0\nroom_type                            0\nminimum_nights                       0\nnumber_of_reviews                    0\nlast_review                       2058\nreviews_per_month                 2058\ncalculated_host_listings_count       0\navailability_365                     0\ndtype: int64"
     },
     "execution_count": 7,
     "metadata": {},
     "output_type": "execute_result"
    }
   ],
   "source": [
    "# 결측치(test)\n",
    "test.isnull().sum()"
   ],
   "metadata": {
    "collapsed": false,
    "ExecuteTime": {
     "end_time": "2023-12-12T01:10:38.806977800Z",
     "start_time": "2023-12-12T01:10:38.775254300Z"
    }
   },
   "id": "1280cfe5c7078eb7"
  },
  {
   "cell_type": "code",
   "execution_count": 8,
   "outputs": [
    {
     "data": {
      "text/plain": "<Axes: >"
     },
     "execution_count": 8,
     "metadata": {},
     "output_type": "execute_result"
    },
    {
     "data": {
      "text/plain": "<Figure size 640x480 with 1 Axes>",
      "image/png": "[encoded data removed]"
     },
     "metadata": {},
     "output_type": "display_data"
    }
   ],
   "source": [
    "# target(hist)\n",
    "train['price'].hist(bins=100)"
   ],
   "metadata": {
    "collapsed": false,
    "ExecuteTime": {
     "end_time": "2023-12-12T01:10:49.345412100Z",
     "start_time": "2023-12-12T01:10:49.039202900Z"
    }
   },
   "id": "13f4b89a98034a66"
  },
  {
   "cell_type": "code",
   "execution_count": 9,
   "outputs": [
    {
     "data": {
      "text/plain": "<Axes: >"
     },
     "execution_count": 9,
     "metadata": {},
     "output_type": "execute_result"
    },
    {
     "data": {
      "text/plain": "<Figure size 640x480 with 1 Axes>",
      "image/png": "[encoded data removed]"
     },
     "metadata": {},
     "output_type": "display_data"
    }
   ],
   "source": [
    "# target(describe)\n",
    "import numpy as np\n",
    "\n",
    "train['price'].describe()\n",
    "\n",
    "train['price'] = np.log1p(train['price'])\n",
    "train['price'].hist(bins=100)"
   ],
   "metadata": {
    "collapsed": false,
    "ExecuteTime": {
     "end_time": "2023-12-12T01:11:00.533891500Z",
     "start_time": "2023-12-12T01:11:00.303287500Z"
    }
   },
   "id": "1b1e172b6bfba497"
  },
  {
   "cell_type": "code",
   "execution_count": 10,
   "outputs": [
    {
     "data": {
      "text/plain": "host_id\n219517861    256\n107434423    181\n30283594      99\n137358866     82\n12243051      80\n            ... \n73369106       1\n26620387       1\n176660539      1\n26004891       1\n2609535        1\nName: count, Length: 30845, dtype: int64"
     },
     "execution_count": 10,
     "metadata": {},
     "output_type": "execute_result"
    }
   ],
   "source": [
    "# 피처(host_id)\n",
    "train['host_id'].value_counts()"
   ],
   "metadata": {
    "collapsed": false,
    "ExecuteTime": {
     "end_time": "2023-12-12T01:11:12.452906800Z",
     "start_time": "2023-12-12T01:11:12.385160200Z"
    }
   },
   "id": "27b5cab5f0e4b98b"
  },
  {
   "cell_type": "markdown",
   "source": [
    "3. 데이터 전처리\n",
    "데이터를 살펴보고 판단하여 결측치 및 이상치를 처리"
   ],
   "metadata": {
    "collapsed": false
   },
   "id": "ce42dd86c31613e3"
  },
  {
   "cell_type": "code",
   "execution_count": 11,
   "outputs": [
    {
     "name": "stdout",
     "output_type": "stream",
     "text": [
      "(39116, 16)\n"
     ]
    }
   ],
   "source": [
    "# 결측치 컬럼 삭제(last_review)\n",
    "print(train.shape)\n",
    "train = train.drop('last_review', axis=1)\n",
    "test = test.drop('last_review', axis=1)\n",
    "# print(train.shape)"
   ],
   "metadata": {
    "collapsed": false,
    "ExecuteTime": {
     "end_time": "2023-12-12T01:11:32.971672500Z",
     "start_time": "2023-12-12T01:11:32.933838Z"
    }
   },
   "id": "10d789a4a782317c"
  },
  {
   "cell_type": "code",
   "execution_count": 12,
   "outputs": [],
   "source": [
    "# 결측치 채우기\n",
    "train['reviews_per_month'] = train['reviews_per_month'].fillna(0)\n",
    "test['reviews_per_month'] = test['reviews_per_month'].fillna(0)"
   ],
   "metadata": {
    "collapsed": false,
    "ExecuteTime": {
     "end_time": "2023-12-12T01:11:47.658440Z",
     "start_time": "2023-12-12T01:11:47.628529800Z"
    }
   },
   "id": "d47640ab6ded388f"
  },
  {
   "cell_type": "code",
   "execution_count": 13,
   "outputs": [
    {
     "data": {
      "text/plain": "id                                 0\nname                              12\nhost_id                            0\nhost_name                         17\nneighbourhood_group                0\nneighbourhood                      0\nlatitude                           0\nlongitude                          0\nroom_type                          0\nprice                              0\nminimum_nights                     0\nnumber_of_reviews                  0\nreviews_per_month                  0\ncalculated_host_listings_count     0\navailability_365                   0\ndtype: int64"
     },
     "execution_count": 13,
     "metadata": {},
     "output_type": "execute_result"
    }
   ],
   "source": [
    "# 결측치 확인\n",
    "train.isnull().sum()"
   ],
   "metadata": {
    "collapsed": false,
    "ExecuteTime": {
     "end_time": "2023-12-12T01:11:57.184365Z",
     "start_time": "2023-12-12T01:11:57.133294500Z"
    }
   },
   "id": "b8cfc61b7250d9be"
  },
  {
   "cell_type": "code",
   "execution_count": null,
   "outputs": [],
   "source": [
    "# 이상치 확인"
   ],
   "metadata": {
    "collapsed": false
   },
   "id": "39854b3249259cf7"
  },
  {
   "cell_type": "code",
   "execution_count": 14,
   "outputs": [
    {
     "data": {
      "text/plain": "          price\n0      4.262680\n1      5.484797\n2      5.017280\n3      4.454347\n4      3.806662\n...         ...\n39111  5.225747\n39112  3.931826\n39113  4.795791\n39114  5.111988\n39115  5.303305\n\n[39116 rows x 1 columns]",
      "text/html": "<div>\n<style scoped>\n    .dataframe tbody tr th:only-of-type {\n        vertical-align: middle;\n    }\n\n    .dataframe tbody tr th {\n        vertical-align: top;\n    }\n\n    .dataframe thead th {\n        text-align: right;\n    }\n</style>\n<table border=\"1\" class=\"dataframe\">\n  <thead>\n    <tr style=\"text-align: right;\">\n      <th></th>\n      <th>price</th>\n    </tr>\n  </thead>\n  <tbody>\n    <tr>\n      <th>0</th>\n      <td>4.262680</td>\n    </tr>\n    <tr>\n      <th>1</th>\n      <td>5.484797</td>\n    </tr>\n    <tr>\n      <th>2</th>\n      <td>5.017280</td>\n    </tr>\n    <tr>\n      <th>3</th>\n      <td>4.454347</td>\n    </tr>\n    <tr>\n      <th>4</th>\n      <td>3.806662</td>\n    </tr>\n    <tr>\n      <th>...</th>\n      <td>...</td>\n    </tr>\n    <tr>\n      <th>39111</th>\n      <td>5.225747</td>\n    </tr>\n    <tr>\n      <th>39112</th>\n      <td>3.931826</td>\n    </tr>\n    <tr>\n      <th>39113</th>\n      <td>4.795791</td>\n    </tr>\n    <tr>\n      <th>39114</th>\n      <td>5.111988</td>\n    </tr>\n    <tr>\n      <th>39115</th>\n      <td>5.303305</td>\n    </tr>\n  </tbody>\n</table>\n<p>39116 rows × 1 columns</p>\n</div>"
     },
     "execution_count": 14,
     "metadata": {},
     "output_type": "execute_result"
    }
   ],
   "source": [
    "# 가격 값 복사\n",
    "target = train[['price']].copy()\n",
    "target"
   ],
   "metadata": {
    "collapsed": false,
    "ExecuteTime": {
     "end_time": "2023-12-12T01:12:14.425367100Z",
     "start_time": "2023-12-12T01:12:14.389188700Z"
    }
   },
   "id": "fdf5d5d95a7cc704"
  },
  {
   "cell_type": "code",
   "execution_count": 15,
   "outputs": [],
   "source": [
    "# 수치형 피처 선택\n",
    "import numpy as np\n",
    "\n",
    "train = train.select_dtypes(exclude='object')\n",
    "test = test.select_dtypes(exclude='object')"
   ],
   "metadata": {
    "collapsed": false,
    "ExecuteTime": {
     "end_time": "2023-12-12T01:12:22.135945500Z",
     "start_time": "2023-12-12T01:12:22.103108500Z"
    }
   },
   "id": "3f75e36f1158a1a4"
  },
  {
   "cell_type": "markdown",
   "source": [
    "4. 검증 데이터 분리\n",
    "Train 데이터로 학습(훈련), Validation(검증용) 데이터로 예측"
   ],
   "metadata": {
    "collapsed": false
   },
   "id": "374df2ecfffdb66a"
  },
  {
   "cell_type": "code",
   "execution_count": 16,
   "outputs": [
    {
     "data": {
      "text/plain": "((31292, 9), (7824, 9), (31292,), (7824,))"
     },
     "execution_count": 16,
     "metadata": {},
     "output_type": "execute_result"
    }
   ],
   "source": [
    "# 검증 데이터 분리\n",
    "from sklearn.model_selection import train_test_split\n",
    "\n",
    "X_train, X_val, y_train, y_val = train_test_split(\n",
    "    train.drop('price', axis=1), train['price'], test_size=0.2, random_state=1004)\n",
    "\n",
    "X_train.shape, X_val.shape, y_train.shape, y_val.shape"
   ],
   "metadata": {
    "collapsed": false,
    "ExecuteTime": {
     "end_time": "2023-12-12T01:12:41.835555300Z",
     "start_time": "2023-12-12T01:12:41.246748500Z"
    }
   },
   "id": "8bdd88e64c57490"
  },
  {
   "cell_type": "markdown",
   "source": [
    "5. 머신러닝\n",
    "<참고> : 6. 지도학습(회귀) 노드에서 프로젝트에 활용된 회귀 모델을 복습하실 수 있습니다."
   ],
   "metadata": {
    "collapsed": false
   },
   "id": "e4481a8e0a1b0037"
  },
  {
   "cell_type": "code",
   "execution_count": 17,
   "outputs": [
    {
     "data": {
      "text/plain": "13418.464559462514"
     },
     "execution_count": 17,
     "metadata": {},
     "output_type": "execute_result"
    }
   ],
   "source": [
    "# 머신러닝(회귀)\n",
    "from sklearn.linear_model import LinearRegression\n",
    "from sklearn.metrics import mean_squared_error\n",
    "\n",
    "model = LinearRegression()\n",
    "model.fit(X_train, y_train)\n",
    "pred = np.expm1(model.predict(X_val))\n",
    "mean_squared_error(y_val, pred)"
   ],
   "metadata": {
    "collapsed": false,
    "ExecuteTime": {
     "end_time": "2023-12-12T01:13:03.860600600Z",
     "start_time": "2023-12-12T01:13:03.604338800Z"
    }
   },
   "id": "9f778c26f47104e2"
  },
  {
   "cell_type": "code",
   "execution_count": 18,
   "outputs": [
    {
     "name": "stderr",
     "output_type": "stream",
     "text": [
      "F:\\Anaconda3_envs\\tensor2\\lib\\site-packages\\sklearn\\linear_model\\_ridge.py:211: LinAlgWarning: Ill-conditioned matrix (rcond=2.83285e-19): result may not be accurate.\n",
      "  return linalg.solve(A, Xy, assume_a=\"pos\", overwrite_a=True).T\n"
     ]
    },
    {
     "data": {
      "text/plain": "13382.204731897746"
     },
     "execution_count": 18,
     "metadata": {},
     "output_type": "execute_result"
    }
   ],
   "source": [
    "# 릿지 회귀\n",
    "from sklearn.linear_model import Ridge\n",
    "\n",
    "model = Ridge(alpha=1)\n",
    "model.fit(X_train, y_train)\n",
    "pred = np.expm1(model.predict(X_val))\n",
    "mean_squared_error(y_val, pred)"
   ],
   "metadata": {
    "collapsed": false,
    "ExecuteTime": {
     "end_time": "2023-12-12T01:13:12.159103100Z",
     "start_time": "2023-12-12T01:13:12.066543600Z"
    }
   },
   "id": "1cb3ab90e2d5909f"
  },
  {
   "cell_type": "code",
   "execution_count": 19,
   "outputs": [
    {
     "data": {
      "text/plain": "11985.42854004942"
     },
     "execution_count": 19,
     "metadata": {},
     "output_type": "execute_result"
    }
   ],
   "source": [
    "# 라쏘 회귀\n",
    "from sklearn.linear_model import Lasso\n",
    "\n",
    "model = Lasso(alpha=1)\n",
    "model.fit(X_train, y_train)\n",
    "pred = np.expm1(model.predict(X_val))\n",
    "mean_squared_error(y_val, pred)"
   ],
   "metadata": {
    "collapsed": false,
    "ExecuteTime": {
     "end_time": "2023-12-12T01:13:19.385594300Z",
     "start_time": "2023-12-12T01:13:19.290601400Z"
    }
   },
   "id": "79138822ae224073"
  },
  {
   "cell_type": "code",
   "execution_count": 20,
   "outputs": [
    {
     "data": {
      "text/plain": "12110.429034930314"
     },
     "execution_count": 20,
     "metadata": {},
     "output_type": "execute_result"
    }
   ],
   "source": [
    "# 엘라스틱넷 회귀\n",
    "from sklearn.linear_model import ElasticNet\n",
    "\n",
    "model = ElasticNet(alpha=1)\n",
    "model.fit(X_train, y_train)\n",
    "pred = np.expm1(model.predict(X_val))\n",
    "mean_squared_error(y_val, pred)"
   ],
   "metadata": {
    "collapsed": false,
    "ExecuteTime": {
     "end_time": "2023-12-12T01:13:26.952744300Z",
     "start_time": "2023-12-12T01:13:26.853646600Z"
    }
   },
   "id": "73755019485a41ef"
  },
  {
   "cell_type": "code",
   "execution_count": 21,
   "outputs": [
    {
     "data": {
      "text/plain": "19598.343740500073"
     },
     "execution_count": 21,
     "metadata": {},
     "output_type": "execute_result"
    }
   ],
   "source": [
    "# 랜덤포레스트\n",
    "from sklearn.ensemble import RandomForestRegressor\n",
    "\n",
    "model = RandomForestRegressor()\n",
    "model.fit(X_train, y_train)\n",
    "pred = np.expm1(model.predict(X_val))\n",
    "mean_squared_error(y_val, pred)"
   ],
   "metadata": {
    "collapsed": false,
    "ExecuteTime": {
     "end_time": "2023-12-12T01:14:04.861878Z",
     "start_time": "2023-12-12T01:13:33.698638100Z"
    }
   },
   "id": "3d87bbea5792e24"
  },
  {
   "cell_type": "code",
   "execution_count": 22,
   "outputs": [
    {
     "data": {
      "text/plain": "20614.710712832133"
     },
     "execution_count": 22,
     "metadata": {},
     "output_type": "execute_result"
    }
   ],
   "source": [
    "# Xgboost\n",
    "from xgboost import XGBRegressor\n",
    "\n",
    "model = XGBRegressor()\n",
    "model.fit(X_train, y_train)\n",
    "pred = np.expm1(model.predict(X_val))\n",
    "mean_squared_error(y_val, pred)"
   ],
   "metadata": {
    "collapsed": false,
    "ExecuteTime": {
     "end_time": "2023-12-12T01:14:05.160113100Z",
     "start_time": "2023-12-12T01:14:04.862875200Z"
    }
   },
   "id": "63d9546ee9e4fd56"
  },
  {
   "cell_type": "markdown",
   "source": [
    "6. 채점"
   ],
   "metadata": {
    "collapsed": false
   },
   "id": "e7801b6b4f47cf7e"
  },
  {
   "cell_type": "code",
   "execution_count": 23,
   "outputs": [
    {
     "data": {
      "text/plain": "46151.82113116774"
     },
     "execution_count": 23,
     "metadata": {},
     "output_type": "execute_result"
    }
   ],
   "source": [
    "# test 데이터 예측 및 평가\n",
    "y_test = pd.read_csv('data/y_test.csv')\n",
    "\n",
    "# Xgboost\n",
    "pred = np.expm1(model.predict(test))\n",
    "mean_squared_error(y_test, pred)"
   ],
   "metadata": {
    "collapsed": false,
    "ExecuteTime": {
     "end_time": "2023-12-12T01:14:09.442012600Z",
     "start_time": "2023-12-12T01:14:09.359278700Z"
    }
   },
   "id": "ee95b90623bfd226"
  },
  {
   "cell_type": "code",
   "execution_count": 24,
   "outputs": [
    {
     "name": "stdout",
     "output_type": "stream",
     "text": [
      "나의 점수는 (MSE 46383.27794090297)입니다.\n"
     ]
    }
   ],
   "source": [
    "# baseline score(mse 51xxx) 보다 점수가 낮게 나오도록 도전해 보세요! \n",
    "print(\"나의 점수는 (MSE 46383.27794090297)입니다.\")"
   ],
   "metadata": {
    "collapsed": false,
    "ExecuteTime": {
     "end_time": "2023-12-12T01:14:20.873139200Z",
     "start_time": "2023-12-12T01:14:20.837628500Z"
    }
   },
   "id": "98bd5d391cb821a7"
  },
  {
   "cell_type": "code",
   "execution_count": null,
   "outputs": [],
   "source": [],
   "metadata": {
    "collapsed": false
   },
   "id": "bb8320f3167ff5"
  }
 ],
 "metadata": {
  "kernelspec": {
   "display_name": "Python 3",
   "language": "python",
   "name": "python3"
  },
  "language_info": {
   "codemirror_mode": {
    "name": "ipython",
    "version": 2
   },
   "file_extension": ".py",
   "mimetype": "text/x-python",
   "name": "python",
   "nbconvert_exporter": "python",
   "pygments_lexer": "ipython2",
   "version": "2.7.6"
  }
 },
 "nbformat": 4,
 "nbformat_minor": 5
}
