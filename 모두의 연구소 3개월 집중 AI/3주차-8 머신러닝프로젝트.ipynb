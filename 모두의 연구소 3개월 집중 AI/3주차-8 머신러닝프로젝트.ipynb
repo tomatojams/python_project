{
 "cells": [
  {
   "cell_type": "markdown",
   "source": [
    "### Airbnb(New York City)\n",
    "\n",
    "미국 NYC Airbnb 목록(2019)\n",
    "프로젝트 목적: 가격 예측(price)\n",
    "제공 데이터(3개): train.csv, test.csv, y_test(최종 채점용)\n",
    "평가 방식: MSE (평균제곱오차/ 실제 값과 예측 값 차이 ->제곱해 평균)\n",
    "<참고> : 6. 지도학습(회귀) 노드의 6-8. 평가(회귀) 스텝에서 복습하실 수 있습니다.\n",
    "데이터 출처 바로가기 / License CC0: Public Domain\n"
   ],
   "metadata": {
    "collapsed": false
   },
   "id": "88f14de4dbd8b4b2"
  },
  {
   "cell_type": "code",
   "execution_count": 1,
   "outputs": [],
   "source": [
    "# 라이브러리 \n",
    "import pandas as pd"
   ],
   "metadata": {
    "collapsed": false,
    "ExecuteTime": {
     "end_time": "2023-11-25T20:02:57.361870200Z",
     "start_time": "2023-11-25T20:02:57.038794Z"
    }
   },
   "id": "d9d15110b824b0dd"
  },
  {
   "cell_type": "code",
   "execution_count": 2,
   "outputs": [],
   "source": [
    "# 라이브러리 \n",
    "# 데이터 불러오기\n",
    "train = pd.read_csv('data/train.csv')\n",
    "test = pd.read_csv('data/test.csv')"
   ],
   "metadata": {
    "collapsed": false,
    "ExecuteTime": {
     "end_time": "2023-11-25T20:02:57.469195300Z",
     "start_time": "2023-11-25T20:02:57.361870200Z"
    }
   },
   "id": "689788f10b773faa"
  },
  {
   "cell_type": "code",
   "execution_count": null,
   "outputs": [],
   "source": [],
   "metadata": {
    "collapsed": false
   },
   "id": "176cf9849cb5497a"
  }
 ],
 "metadata": {
  "kernelspec": {
   "display_name": "Python 3",
   "language": "python",
   "name": "python3"
  },
  "language_info": {
   "codemirror_mode": {
    "name": "ipython",
    "version": 2
   },
   "file_extension": ".py",
   "mimetype": "text/x-python",
   "name": "python",
   "nbconvert_exporter": "python",
   "pygments_lexer": "ipython2",
   "version": "2.7.6"
  }
 },
 "nbformat": 4,
 "nbformat_minor": 5
}
