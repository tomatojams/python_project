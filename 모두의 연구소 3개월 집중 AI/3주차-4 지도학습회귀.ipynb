{
 "cells": [
  {
   "cell_type": "markdown",
   "source": [
    "### 선형 회귀\n",
    "\n",
    "이번 시간에는 선형회귀에 대해 설명해 드리도록 하겠습니다.\n",
    "\n",
    "이번 시간 정리\n",
    "\n",
    "1. 선형회귀\n",
    "\n",
    "단순 선형회귀와 다중 선형회귀가 있지만 흔히 사용하는 것은 다중 선형회귀입니다.\n",
    "Feature가 한 개인 경우가 드물기 때문에 보통 feature가 두 개 이상인 다중 선형회귀를 만들게 됩니다.\n",
    "\n",
    "2. 비용함수\n",
    "\n",
    "데이터와 모델 간의 거리를 계산합니다.\n",
    "비용함수(cost function) 또는 손실함수, 목적함수라 부르기도 합니다.\n",
    "오차(error)를 계산합니다. (실제 값과 예측값의 차이)\n",
    "평균 제곱 오차를 최소화하는 파라미터를 찾습니다.\n",
    "\n",
    "3. 경사하강법\n",
    "\n",
    "오차를 찾아 나가는 방식\n",
    "비용함수의 기울기 절대값이 가장 작은 지점을 찾아서 오차가 작은 모델을 만듭니다."
   ],
   "metadata": {
    "collapsed": false
   },
   "id": "65cdbbaf397a2934"
  },
  {
   "cell_type": "code",
   "execution_count": 1,
   "outputs": [],
   "source": [
    "import pandas as pd\n",
    "from sklearn.model_selection import train_test_split\n",
    "from sklearn.metrics import mean_squared_error  #평가용"
   ],
   "metadata": {
    "collapsed": false,
    "ExecuteTime": {
     "end_time": "2023-11-24T11:03:20.502952200Z",
     "start_time": "2023-11-24T11:03:19.676594100Z"
    }
   },
   "id": "initial_id"
  },
  {
   "cell_type": "code",
   "execution_count": 2,
   "outputs": [
    {
     "data": {
      "text/plain": "((353, 10), (89, 10), (353,), (89,))"
     },
     "execution_count": 2,
     "metadata": {},
     "output_type": "execute_result"
    }
   ],
   "source": [
    "# 데이터 생성\n",
    "from sklearn.datasets import load_diabetes  # 당뇨병 환자 데이터\n",
    "\n",
    "\n",
    "def make_dataset():\n",
    "    dataset = load_diabetes()\n",
    "    df = pd.DataFrame(dataset.data, columns=dataset.feature_names)\n",
    "    df['target'] = dataset.target\n",
    "    X_train, X_test, y_train, y_test = train_test_split(\n",
    "        df.drop('target', axis=1), df['target'], test_size=0.2, random_state=1004)\n",
    "    return X_train, X_test, y_train, y_test\n",
    "\n",
    "\n",
    "X_train, X_test, y_train, y_test = make_dataset()\n",
    "X_train.shape, X_test.shape, y_train.shape, y_test.shape"
   ],
   "metadata": {
    "collapsed": false,
    "ExecuteTime": {
     "end_time": "2023-11-24T11:03:20.580521600Z",
     "start_time": "2023-11-24T11:03:20.505470900Z"
    }
   },
   "id": "d51f43520339a64e"
  },
  {
   "cell_type": "code",
   "execution_count": 3,
   "outputs": [
    {
     "data": {
      "text/plain": "          age       sex       bmi        bp        s1        s2        s3  \\\n152 -0.034575  0.050680 -0.000817  0.070072  0.039710  0.066952 -0.065491   \n417 -0.052738 -0.044642  0.071397 -0.074527 -0.015328 -0.001314  0.004460   \n172  0.041708  0.050680  0.071397  0.008101  0.038334  0.015909 -0.017629   \n438 -0.005515  0.050680 -0.015906 -0.067642  0.049341  0.079165 -0.028674   \n296  0.067136 -0.044642 -0.061174 -0.040099 -0.026336 -0.024487  0.033914   \n\n           s4        s5        s6  \n152  0.108111  0.026717  0.073480  \n417 -0.021412 -0.046883  0.003064  \n172  0.034309  0.073407  0.085907  \n438  0.034309 -0.018114  0.044485  \n296 -0.039493 -0.056153 -0.059067  ",
      "text/html": "<div>\n<style scoped>\n    .dataframe tbody tr th:only-of-type {\n        vertical-align: middle;\n    }\n\n    .dataframe tbody tr th {\n        vertical-align: top;\n    }\n\n    .dataframe thead th {\n        text-align: right;\n    }\n</style>\n<table border=\"1\" class=\"dataframe\">\n  <thead>\n    <tr style=\"text-align: right;\">\n      <th></th>\n      <th>age</th>\n      <th>sex</th>\n      <th>bmi</th>\n      <th>bp</th>\n      <th>s1</th>\n      <th>s2</th>\n      <th>s3</th>\n      <th>s4</th>\n      <th>s5</th>\n      <th>s6</th>\n    </tr>\n  </thead>\n  <tbody>\n    <tr>\n      <th>152</th>\n      <td>-0.034575</td>\n      <td>0.050680</td>\n      <td>-0.000817</td>\n      <td>0.070072</td>\n      <td>0.039710</td>\n      <td>0.066952</td>\n      <td>-0.065491</td>\n      <td>0.108111</td>\n      <td>0.026717</td>\n      <td>0.073480</td>\n    </tr>\n    <tr>\n      <th>417</th>\n      <td>-0.052738</td>\n      <td>-0.044642</td>\n      <td>0.071397</td>\n      <td>-0.074527</td>\n      <td>-0.015328</td>\n      <td>-0.001314</td>\n      <td>0.004460</td>\n      <td>-0.021412</td>\n      <td>-0.046883</td>\n      <td>0.003064</td>\n    </tr>\n    <tr>\n      <th>172</th>\n      <td>0.041708</td>\n      <td>0.050680</td>\n      <td>0.071397</td>\n      <td>0.008101</td>\n      <td>0.038334</td>\n      <td>0.015909</td>\n      <td>-0.017629</td>\n      <td>0.034309</td>\n      <td>0.073407</td>\n      <td>0.085907</td>\n    </tr>\n    <tr>\n      <th>438</th>\n      <td>-0.005515</td>\n      <td>0.050680</td>\n      <td>-0.015906</td>\n      <td>-0.067642</td>\n      <td>0.049341</td>\n      <td>0.079165</td>\n      <td>-0.028674</td>\n      <td>0.034309</td>\n      <td>-0.018114</td>\n      <td>0.044485</td>\n    </tr>\n    <tr>\n      <th>296</th>\n      <td>0.067136</td>\n      <td>-0.044642</td>\n      <td>-0.061174</td>\n      <td>-0.040099</td>\n      <td>-0.026336</td>\n      <td>-0.024487</td>\n      <td>0.033914</td>\n      <td>-0.039493</td>\n      <td>-0.056153</td>\n      <td>-0.059067</td>\n    </tr>\n  </tbody>\n</table>\n</div>"
     },
     "execution_count": 3,
     "metadata": {},
     "output_type": "execute_result"
    }
   ],
   "source": [
    "X_train.head()"
   ],
   "metadata": {
    "collapsed": false,
    "ExecuteTime": {
     "end_time": "2023-11-24T11:03:20.625767700Z",
     "start_time": "2023-11-24T11:03:20.582526400Z"
    }
   },
   "id": "c0db1718182c656b"
  },
  {
   "cell_type": "code",
   "execution_count": 4,
   "outputs": [
    {
     "data": {
      "text/plain": "152    292.0\n417     55.0\n172    295.0\n438    104.0\n296     89.0\nName: target, dtype: float64"
     },
     "execution_count": 4,
     "metadata": {},
     "output_type": "execute_result"
    }
   ],
   "source": [
    "y_train.head()"
   ],
   "metadata": {
    "collapsed": false,
    "ExecuteTime": {
     "end_time": "2023-11-24T11:03:20.657514500Z",
     "start_time": "2023-11-24T11:03:20.598866200Z"
    }
   },
   "id": "877e88e4db622773"
  },
  {
   "cell_type": "code",
   "execution_count": 5,
   "outputs": [
    {
     "data": {
      "text/plain": "<Axes: >"
     },
     "execution_count": 5,
     "metadata": {},
     "output_type": "execute_result"
    },
    {
     "data": {
      "text/plain": "<Figure size 640x480 with 1 Axes>",
      "image/png": "[encoded data removed]"
     },
     "metadata": {},
     "output_type": "display_data"
    }
   ],
   "source": [
    "y_train.hist()"
   ],
   "metadata": {
    "collapsed": false,
    "ExecuteTime": {
     "end_time": "2023-11-24T11:03:21.548073300Z",
     "start_time": "2023-11-24T11:03:20.613238100Z"
    }
   },
   "id": "23d93ef2899c5375"
  },
  {
   "cell_type": "markdown",
   "source": [
    "### 선형회귀"
   ],
   "metadata": {
    "collapsed": false
   },
   "id": "371d4209ba4732a7"
  },
  {
   "cell_type": "code",
   "execution_count": 6,
   "outputs": [
    {
     "data": {
      "text/plain": "6667.033707865168"
     },
     "execution_count": 6,
     "metadata": {},
     "output_type": "execute_result"
    }
   ],
   "source": [
    "from sklearn.linear_model import LogisticRegression\n",
    "\n",
    "model = LogisticRegression()\n",
    "model.fit(X_train, y_train)\n",
    "pred = model.predict(X_test)\n",
    "mean_squared_error(y_test, pred)"
   ],
   "metadata": {
    "collapsed": false,
    "ExecuteTime": {
     "end_time": "2023-11-24T11:03:21.657178600Z",
     "start_time": "2023-11-24T11:03:21.549071700Z"
    }
   },
   "id": "c46c804da4973e9d"
  },
  {
   "cell_type": "markdown",
   "source": [
    "### 릿지회귀\n",
    "\n",
    "1. 릿지 회귀\n",
    "\n",
    "오버피팅 문제로 규제(regularization)를 적용한 모델\n",
    "규제 방식: L2 규제\n",
    "파라미터(alpha) 값을 활용해 조절\n",
    "alpha 값이 커질수록 회귀 계수 값을 작게 만듦\n",
    "*규제를 통해서 모델의 성능을 올릴 수 있습니다.\n",
    "\n"
   ],
   "metadata": {
    "collapsed": false
   },
   "id": "18a9651c2725a83d"
  },
  {
   "cell_type": "code",
   "execution_count": 7,
   "outputs": [
    {
     "data": {
      "text/plain": "3522.1191842072667"
     },
     "execution_count": 7,
     "metadata": {},
     "output_type": "execute_result"
    }
   ],
   "source": [
    "# 릿지 회귀\n",
    "from sklearn.linear_model import Ridge\n",
    "\n",
    "model = Ridge(alpha=1)\n",
    "model.fit(X_train, y_train)\n",
    "pred = model.predict(X_test)\n",
    "mean_squared_error(y_test, pred)"
   ],
   "metadata": {
    "collapsed": false,
    "ExecuteTime": {
     "end_time": "2023-11-24T11:03:21.717210700Z",
     "start_time": "2023-11-24T11:03:21.658682900Z"
    }
   },
   "id": "34d95f259d02a9e1"
  },
  {
   "cell_type": "code",
   "execution_count": 8,
   "outputs": [
    {
     "data": {
      "text/plain": "         alpha1\nage   31.293421\nsex  -71.448655\nbmi  267.605962\nbp   197.362492\ns1    14.613257\ns2   -13.884237\ns3  -124.649836\ns4   106.212967\ns5   221.068493\ns6   101.202546",
      "text/html": "<div>\n<style scoped>\n    .dataframe tbody tr th:only-of-type {\n        vertical-align: middle;\n    }\n\n    .dataframe tbody tr th {\n        vertical-align: top;\n    }\n\n    .dataframe thead th {\n        text-align: right;\n    }\n</style>\n<table border=\"1\" class=\"dataframe\">\n  <thead>\n    <tr style=\"text-align: right;\">\n      <th></th>\n      <th>alpha1</th>\n    </tr>\n  </thead>\n  <tbody>\n    <tr>\n      <th>age</th>\n      <td>31.293421</td>\n    </tr>\n    <tr>\n      <th>sex</th>\n      <td>-71.448655</td>\n    </tr>\n    <tr>\n      <th>bmi</th>\n      <td>267.605962</td>\n    </tr>\n    <tr>\n      <th>bp</th>\n      <td>197.362492</td>\n    </tr>\n    <tr>\n      <th>s1</th>\n      <td>14.613257</td>\n    </tr>\n    <tr>\n      <th>s2</th>\n      <td>-13.884237</td>\n    </tr>\n    <tr>\n      <th>s3</th>\n      <td>-124.649836</td>\n    </tr>\n    <tr>\n      <th>s4</th>\n      <td>106.212967</td>\n    </tr>\n    <tr>\n      <th>s5</th>\n      <td>221.068493</td>\n    </tr>\n    <tr>\n      <th>s6</th>\n      <td>101.202546</td>\n    </tr>\n  </tbody>\n</table>\n</div>"
     },
     "execution_count": 8,
     "metadata": {},
     "output_type": "execute_result"
    }
   ],
   "source": [
    "#회귀계수\n",
    "coef = pd.DataFrame(data=model.coef_, index=X_train.columns, columns=['alpha1'])\n",
    "coef"
   ],
   "metadata": {
    "collapsed": false,
    "ExecuteTime": {
     "end_time": "2023-11-24T11:03:21.734295200Z",
     "start_time": "2023-11-24T11:03:21.693279600Z"
    }
   },
   "id": "5905a4e36a9ca752"
  },
  {
   "cell_type": "code",
   "execution_count": 9,
   "outputs": [
    {
     "data": {
      "text/plain": "5521.884843903384"
     },
     "execution_count": 9,
     "metadata": {},
     "output_type": "execute_result"
    }
   ],
   "source": [
    "# 릿지회귀(alpha =10)\n",
    "model = Ridge(alpha=10)\n",
    "model.fit(X_train, y_train)\n",
    "pred = model.predict(X_test)\n",
    "mean_squared_error(y_test, pred)"
   ],
   "metadata": {
    "collapsed": false,
    "ExecuteTime": {
     "end_time": "2023-11-24T11:03:21.745337300Z",
     "start_time": "2023-11-24T11:03:21.705168300Z"
    }
   },
   "id": "218ac77faf55a9fa"
  },
  {
   "cell_type": "code",
   "execution_count": 10,
   "outputs": [
    {
     "data": {
      "text/plain": "         alpha1    alpha10\nage   31.293421  16.703166\nsex  -71.448655  -1.796418\nbmi  267.605962  61.026376\nbp   197.362492  47.434846\ns1    14.613257  18.491238\ns2   -13.884237  13.440104\ns3  -124.649836 -35.542087\ns4   106.212967  38.896140\ns5   221.068493  55.276290\ns6   101.202546  35.868345",
      "text/html": "<div>\n<style scoped>\n    .dataframe tbody tr th:only-of-type {\n        vertical-align: middle;\n    }\n\n    .dataframe tbody tr th {\n        vertical-align: top;\n    }\n\n    .dataframe thead th {\n        text-align: right;\n    }\n</style>\n<table border=\"1\" class=\"dataframe\">\n  <thead>\n    <tr style=\"text-align: right;\">\n      <th></th>\n      <th>alpha1</th>\n      <th>alpha10</th>\n    </tr>\n  </thead>\n  <tbody>\n    <tr>\n      <th>age</th>\n      <td>31.293421</td>\n      <td>16.703166</td>\n    </tr>\n    <tr>\n      <th>sex</th>\n      <td>-71.448655</td>\n      <td>-1.796418</td>\n    </tr>\n    <tr>\n      <th>bmi</th>\n      <td>267.605962</td>\n      <td>61.026376</td>\n    </tr>\n    <tr>\n      <th>bp</th>\n      <td>197.362492</td>\n      <td>47.434846</td>\n    </tr>\n    <tr>\n      <th>s1</th>\n      <td>14.613257</td>\n      <td>18.491238</td>\n    </tr>\n    <tr>\n      <th>s2</th>\n      <td>-13.884237</td>\n      <td>13.440104</td>\n    </tr>\n    <tr>\n      <th>s3</th>\n      <td>-124.649836</td>\n      <td>-35.542087</td>\n    </tr>\n    <tr>\n      <th>s4</th>\n      <td>106.212967</td>\n      <td>38.896140</td>\n    </tr>\n    <tr>\n      <th>s5</th>\n      <td>221.068493</td>\n      <td>55.276290</td>\n    </tr>\n    <tr>\n      <th>s6</th>\n      <td>101.202546</td>\n      <td>35.868345</td>\n    </tr>\n  </tbody>\n</table>\n</div>"
     },
     "execution_count": 10,
     "metadata": {},
     "output_type": "execute_result"
    }
   ],
   "source": [
    "coef['alpha10'] = model.coef_\n",
    "coef"
   ],
   "metadata": {
    "collapsed": false,
    "ExecuteTime": {
     "end_time": "2023-11-24T11:03:21.765722300Z",
     "start_time": "2023-11-24T11:03:21.722238300Z"
    }
   },
   "id": "f011dc72765de08d"
  },
  {
   "cell_type": "code",
   "execution_count": 11,
   "outputs": [
    {
     "data": {
      "text/plain": "2699.6595785438326"
     },
     "execution_count": 11,
     "metadata": {},
     "output_type": "execute_result"
    }
   ],
   "source": [
    "# 릿지회귀(alpha =0.05)\n",
    "model = Ridge(alpha=0.05)\n",
    "model.fit(X_train, y_train)\n",
    "pred = model.predict(X_test)\n",
    "mean_squared_error(y_test, pred)"
   ],
   "metadata": {
    "collapsed": false,
    "ExecuteTime": {
     "end_time": "2023-11-24T11:03:21.865330200Z",
     "start_time": "2023-11-24T11:03:21.736303900Z"
    }
   },
   "id": "f2ec66f3dc035f35"
  },
  {
   "cell_type": "code",
   "execution_count": 12,
   "outputs": [
    {
     "data": {
      "text/plain": "         alpha1    alpha10   alpha0.05\nage   31.293421  16.703166   -0.508850\nsex  -71.448655  -1.796418 -223.345659\nbmi  267.605962  61.026376  469.447848\nbp   197.362492  47.434846  348.368885\ns1    14.613257  18.491238 -146.952481\ns2   -13.884237  13.440104  -18.297550\ns3  -124.649836 -35.542087 -141.658486\ns4   106.212967  38.896140  115.860926\ns5   221.068493  55.276290  432.508101\ns6   101.202546  35.868345   69.578796",
      "text/html": "<div>\n<style scoped>\n    .dataframe tbody tr th:only-of-type {\n        vertical-align: middle;\n    }\n\n    .dataframe tbody tr th {\n        vertical-align: top;\n    }\n\n    .dataframe thead th {\n        text-align: right;\n    }\n</style>\n<table border=\"1\" class=\"dataframe\">\n  <thead>\n    <tr style=\"text-align: right;\">\n      <th></th>\n      <th>alpha1</th>\n      <th>alpha10</th>\n      <th>alpha0.05</th>\n    </tr>\n  </thead>\n  <tbody>\n    <tr>\n      <th>age</th>\n      <td>31.293421</td>\n      <td>16.703166</td>\n      <td>-0.508850</td>\n    </tr>\n    <tr>\n      <th>sex</th>\n      <td>-71.448655</td>\n      <td>-1.796418</td>\n      <td>-223.345659</td>\n    </tr>\n    <tr>\n      <th>bmi</th>\n      <td>267.605962</td>\n      <td>61.026376</td>\n      <td>469.447848</td>\n    </tr>\n    <tr>\n      <th>bp</th>\n      <td>197.362492</td>\n      <td>47.434846</td>\n      <td>348.368885</td>\n    </tr>\n    <tr>\n      <th>s1</th>\n      <td>14.613257</td>\n      <td>18.491238</td>\n      <td>-146.952481</td>\n    </tr>\n    <tr>\n      <th>s2</th>\n      <td>-13.884237</td>\n      <td>13.440104</td>\n      <td>-18.297550</td>\n    </tr>\n    <tr>\n      <th>s3</th>\n      <td>-124.649836</td>\n      <td>-35.542087</td>\n      <td>-141.658486</td>\n    </tr>\n    <tr>\n      <th>s4</th>\n      <td>106.212967</td>\n      <td>38.896140</td>\n      <td>115.860926</td>\n    </tr>\n    <tr>\n      <th>s5</th>\n      <td>221.068493</td>\n      <td>55.276290</td>\n      <td>432.508101</td>\n    </tr>\n    <tr>\n      <th>s6</th>\n      <td>101.202546</td>\n      <td>35.868345</td>\n      <td>69.578796</td>\n    </tr>\n  </tbody>\n</table>\n</div>"
     },
     "execution_count": 12,
     "metadata": {},
     "output_type": "execute_result"
    }
   ],
   "source": [
    "coef['alpha0.05'] = model.coef_\n",
    "coef"
   ],
   "metadata": {
    "collapsed": false,
    "ExecuteTime": {
     "end_time": "2023-11-24T11:03:21.881632600Z",
     "start_time": "2023-11-24T11:03:21.754171600Z"
    }
   },
   "id": "9e94f4729296858a"
  },
  {
   "cell_type": "markdown",
   "source": [
    "### 라쏘회귀\n",
    "\n",
    "1. 라쏘 회귀\n",
    "\n",
    "오버피팅 문제로 규제(regularization)를 적용한 모델\n",
    "규제 방식: L1 규제 (중요한 피처만 선택하는 특성)\n",
    "L2에 비해 회귀 계수를 급격히 감소시켜 중요하다고 생각하는 피처만 선택하고 나머지는 0으로 만듦\n",
    "[리마인드] 규제 방식 비교\n",
    "\n",
    "릿지 회귀 : L2 규제 방식\n",
    "라쏘 회귀 : L1 규제 방식 (중요한 피처만 선택하는 특성)"
   ],
   "metadata": {
    "collapsed": false
   },
   "id": "5a249fc11031f2b9"
  },
  {
   "cell_type": "code",
   "execution_count": 13,
   "outputs": [
    {
     "data": {
      "text/plain": "4179.152642946343"
     },
     "execution_count": 13,
     "metadata": {},
     "output_type": "execute_result"
    }
   ],
   "source": [
    "from sklearn.linear_model import Lasso\n",
    "\n",
    "model = Lasso(alpha=1)\n",
    "model.fit(X_train, y_train)\n",
    "pred = model.predict(X_test)\n",
    "mean_squared_error(y_test, pred)"
   ],
   "metadata": {
    "collapsed": false,
    "ExecuteTime": {
     "end_time": "2023-11-24T11:03:21.897185600Z",
     "start_time": "2023-11-24T11:03:21.769231600Z"
    }
   },
   "id": "ff7acc78cf82964e"
  },
  {
   "cell_type": "code",
   "execution_count": 14,
   "outputs": [
    {
     "data": {
      "text/plain": "         alpha1\nage    0.000000\nsex   -0.000000\nbmi  343.589790\nbp    46.369923\ns1     0.000000\ns2     0.000000\ns3    -0.000000\ns4     0.000000\ns5   245.170617\ns6     0.000000",
      "text/html": "<div>\n<style scoped>\n    .dataframe tbody tr th:only-of-type {\n        vertical-align: middle;\n    }\n\n    .dataframe tbody tr th {\n        vertical-align: top;\n    }\n\n    .dataframe thead th {\n        text-align: right;\n    }\n</style>\n<table border=\"1\" class=\"dataframe\">\n  <thead>\n    <tr style=\"text-align: right;\">\n      <th></th>\n      <th>alpha1</th>\n    </tr>\n  </thead>\n  <tbody>\n    <tr>\n      <th>age</th>\n      <td>0.000000</td>\n    </tr>\n    <tr>\n      <th>sex</th>\n      <td>-0.000000</td>\n    </tr>\n    <tr>\n      <th>bmi</th>\n      <td>343.589790</td>\n    </tr>\n    <tr>\n      <th>bp</th>\n      <td>46.369923</td>\n    </tr>\n    <tr>\n      <th>s1</th>\n      <td>0.000000</td>\n    </tr>\n    <tr>\n      <th>s2</th>\n      <td>0.000000</td>\n    </tr>\n    <tr>\n      <th>s3</th>\n      <td>-0.000000</td>\n    </tr>\n    <tr>\n      <th>s4</th>\n      <td>0.000000</td>\n    </tr>\n    <tr>\n      <th>s5</th>\n      <td>245.170617</td>\n    </tr>\n    <tr>\n      <th>s6</th>\n      <td>0.000000</td>\n    </tr>\n  </tbody>\n</table>\n</div>"
     },
     "execution_count": 14,
     "metadata": {},
     "output_type": "execute_result"
    }
   ],
   "source": [
    "coef = pd.DataFrame(data=model.coef_, index=X_train.columns, columns=['alpha1'])\n",
    "coef"
   ],
   "metadata": {
    "collapsed": false,
    "ExecuteTime": {
     "end_time": "2023-11-24T11:03:21.954215Z",
     "start_time": "2023-11-24T11:03:21.787020100Z"
    }
   },
   "id": "95b9e994f628cf5f"
  },
  {
   "cell_type": "code",
   "execution_count": 15,
   "outputs": [
    {
     "data": {
      "text/plain": "6398.637179449031"
     },
     "execution_count": 15,
     "metadata": {},
     "output_type": "execute_result"
    }
   ],
   "source": [
    "model = Lasso(alpha=2)\n",
    "model.fit(X_train, y_train)\n",
    "pred = model.predict(X_test)\n",
    "mean_squared_error(y_test, pred)"
   ],
   "metadata": {
    "collapsed": false,
    "ExecuteTime": {
     "end_time": "2023-11-24T11:03:22.001039700Z",
     "start_time": "2023-11-24T11:03:21.799562Z"
    }
   },
   "id": "8238e74dae7520d7"
  },
  {
   "cell_type": "code",
   "execution_count": 16,
   "outputs": [
    {
     "data": {
      "text/plain": "         alpha1     alpha2\nage    0.000000   0.000000\nsex   -0.000000   0.000000\nbmi  343.589790  42.963888\nbp    46.369923   0.000000\ns1     0.000000   0.000000\ns2     0.000000   0.000000\ns3    -0.000000  -0.000000\ns4     0.000000   0.000000\ns5   245.170617   0.000000\ns6     0.000000   0.000000",
      "text/html": "<div>\n<style scoped>\n    .dataframe tbody tr th:only-of-type {\n        vertical-align: middle;\n    }\n\n    .dataframe tbody tr th {\n        vertical-align: top;\n    }\n\n    .dataframe thead th {\n        text-align: right;\n    }\n</style>\n<table border=\"1\" class=\"dataframe\">\n  <thead>\n    <tr style=\"text-align: right;\">\n      <th></th>\n      <th>alpha1</th>\n      <th>alpha2</th>\n    </tr>\n  </thead>\n  <tbody>\n    <tr>\n      <th>age</th>\n      <td>0.000000</td>\n      <td>0.000000</td>\n    </tr>\n    <tr>\n      <th>sex</th>\n      <td>-0.000000</td>\n      <td>0.000000</td>\n    </tr>\n    <tr>\n      <th>bmi</th>\n      <td>343.589790</td>\n      <td>42.963888</td>\n    </tr>\n    <tr>\n      <th>bp</th>\n      <td>46.369923</td>\n      <td>0.000000</td>\n    </tr>\n    <tr>\n      <th>s1</th>\n      <td>0.000000</td>\n      <td>0.000000</td>\n    </tr>\n    <tr>\n      <th>s2</th>\n      <td>0.000000</td>\n      <td>0.000000</td>\n    </tr>\n    <tr>\n      <th>s3</th>\n      <td>-0.000000</td>\n      <td>-0.000000</td>\n    </tr>\n    <tr>\n      <th>s4</th>\n      <td>0.000000</td>\n      <td>0.000000</td>\n    </tr>\n    <tr>\n      <th>s5</th>\n      <td>245.170617</td>\n      <td>0.000000</td>\n    </tr>\n    <tr>\n      <th>s6</th>\n      <td>0.000000</td>\n      <td>0.000000</td>\n    </tr>\n  </tbody>\n</table>\n</div>"
     },
     "execution_count": 16,
     "metadata": {},
     "output_type": "execute_result"
    }
   ],
   "source": [
    "coef['alpha2'] = model.coef_\n",
    "coef"
   ],
   "metadata": {
    "collapsed": false,
    "ExecuteTime": {
     "end_time": "2023-11-24T11:03:22.012598600Z",
     "start_time": "2023-11-24T11:03:21.816602Z"
    }
   },
   "id": "637ad2a225d610a6"
  },
  {
   "cell_type": "code",
   "execution_count": 17,
   "outputs": [
    {
     "data": {
      "text/plain": "2703.4583679188177"
     },
     "execution_count": 17,
     "metadata": {},
     "output_type": "execute_result"
    }
   ],
   "source": [
    "model = Lasso(alpha=0.05)\n",
    "model.fit(X_train, y_train)\n",
    "pred = model.predict(X_test)\n",
    "mean_squared_error(y_test, pred)"
   ],
   "metadata": {
    "collapsed": false,
    "ExecuteTime": {
     "end_time": "2023-11-24T11:03:22.057221Z",
     "start_time": "2023-11-24T11:03:21.871532200Z"
    }
   },
   "id": "14f359f08d3f6a9b"
  },
  {
   "cell_type": "code",
   "execution_count": 18,
   "outputs": [
    {
     "data": {
      "text/plain": "         alpha1     alpha2   alpha0.05\nage    0.000000   0.000000   -0.000000\nsex   -0.000000   0.000000 -198.948213\nbmi  343.589790  42.963888  487.198584\nbp    46.369923   0.000000  340.490360\ns1     0.000000   0.000000  -95.576361\ns2     0.000000   0.000000   -0.000000\ns3    -0.000000  -0.000000 -189.867452\ns4     0.000000   0.000000   10.487703\ns5   245.170617   0.000000  457.332197\ns6     0.000000   0.000000   39.292925",
      "text/html": "<div>\n<style scoped>\n    .dataframe tbody tr th:only-of-type {\n        vertical-align: middle;\n    }\n\n    .dataframe tbody tr th {\n        vertical-align: top;\n    }\n\n    .dataframe thead th {\n        text-align: right;\n    }\n</style>\n<table border=\"1\" class=\"dataframe\">\n  <thead>\n    <tr style=\"text-align: right;\">\n      <th></th>\n      <th>alpha1</th>\n      <th>alpha2</th>\n      <th>alpha0.05</th>\n    </tr>\n  </thead>\n  <tbody>\n    <tr>\n      <th>age</th>\n      <td>0.000000</td>\n      <td>0.000000</td>\n      <td>-0.000000</td>\n    </tr>\n    <tr>\n      <th>sex</th>\n      <td>-0.000000</td>\n      <td>0.000000</td>\n      <td>-198.948213</td>\n    </tr>\n    <tr>\n      <th>bmi</th>\n      <td>343.589790</td>\n      <td>42.963888</td>\n      <td>487.198584</td>\n    </tr>\n    <tr>\n      <th>bp</th>\n      <td>46.369923</td>\n      <td>0.000000</td>\n      <td>340.490360</td>\n    </tr>\n    <tr>\n      <th>s1</th>\n      <td>0.000000</td>\n      <td>0.000000</td>\n      <td>-95.576361</td>\n    </tr>\n    <tr>\n      <th>s2</th>\n      <td>0.000000</td>\n      <td>0.000000</td>\n      <td>-0.000000</td>\n    </tr>\n    <tr>\n      <th>s3</th>\n      <td>-0.000000</td>\n      <td>-0.000000</td>\n      <td>-189.867452</td>\n    </tr>\n    <tr>\n      <th>s4</th>\n      <td>0.000000</td>\n      <td>0.000000</td>\n      <td>10.487703</td>\n    </tr>\n    <tr>\n      <th>s5</th>\n      <td>245.170617</td>\n      <td>0.000000</td>\n      <td>457.332197</td>\n    </tr>\n    <tr>\n      <th>s6</th>\n      <td>0.000000</td>\n      <td>0.000000</td>\n      <td>39.292925</td>\n    </tr>\n  </tbody>\n</table>\n</div>"
     },
     "execution_count": 18,
     "metadata": {},
     "output_type": "execute_result"
    }
   ],
   "source": [
    "coef['alpha0.05'] = model.coef_\n",
    "coef"
   ],
   "metadata": {
    "collapsed": false,
    "ExecuteTime": {
     "end_time": "2023-11-24T11:03:22.083953300Z",
     "start_time": "2023-11-24T11:03:21.900700200Z"
    }
   },
   "id": "28106044a2b37605"
  },
  {
   "cell_type": "markdown",
   "source": [
    "### 엘라스틱넷 회귀\n",
    "1. 엘라스틱넷 회귀\n",
    "\n",
    "오버피팅 문제로 규제(regularization)를 적용한 모델\n",
    "규제 방식: L2 규제와 L1 규제 (중요한 피처만 선택하는 특성) 결합\n",
    "시간이 상대적으로 오래 걸림\n",
    "[리마인드] 규제방식 비교\n",
    "\n",
    "릿지 회귀 : L2 규제 방식\n",
    "라쏘 회귀 : L1 규제 방식 (중요한 피처만 선택하는 특성)\n",
    "엘라스틱넷 회귀 : L2+L1 규제 결합 방식"
   ],
   "metadata": {
    "collapsed": false
   },
   "id": "bc3bae2f119d4e77"
  },
  {
   "cell_type": "code",
   "execution_count": 19,
   "outputs": [
    {
     "data": {
      "text/plain": "6539.270961171604"
     },
     "execution_count": 19,
     "metadata": {},
     "output_type": "execute_result"
    }
   ],
   "source": [
    "from sklearn.linear_model import ElasticNet\n",
    "\n",
    "model = ElasticNet(alpha=1)\n",
    "model.fit(X_train, y_train)\n",
    "pred = model.predict(X_test)\n",
    "mean_squared_error(y_test, pred)"
   ],
   "metadata": {
    "collapsed": false,
    "ExecuteTime": {
     "end_time": "2023-11-24T11:03:22.104612300Z",
     "start_time": "2023-11-24T11:03:21.909734500Z"
    }
   },
   "id": "e92ab22221affe4f"
  },
  {
   "cell_type": "code",
   "execution_count": 20,
   "outputs": [
    {
     "data": {
      "text/plain": "2675.6031657225312"
     },
     "execution_count": 20,
     "metadata": {},
     "output_type": "execute_result"
    }
   ],
   "source": [
    "from sklearn.linear_model import ElasticNet\n",
    "\n",
    "model = ElasticNet(alpha=0.0001, l1_ratio=0.6)  # 규제비율\n",
    "model.fit(X_train, y_train)\n",
    "pred = model.predict(X_test)\n",
    "mean_squared_error(y_test, pred)"
   ],
   "metadata": {
    "collapsed": false,
    "ExecuteTime": {
     "end_time": "2023-11-24T11:03:22.109190200Z",
     "start_time": "2023-11-24T11:03:21.941687400Z"
    }
   },
   "id": "16e07b1ae8257dae"
  },
  {
   "cell_type": "markdown",
   "source": [
    "### 덤포레스트 & XGBoost\n",
    "\n",
    "이전 시간에 지도학습(분류) 중 랜덤포레스트 & XGBoost를 다뤄봤는데요.\n",
    "\n",
    "분류뿐만 아니라 회귀에서도 자주 활용됩니다.\n",
    "이제 실습을 함께 진행해 보도록 하겠습니다.\n",
    "\n",
    "이번 시간 정리\n",
    "\n",
    "[리마인드] 랜덤포레스트 VS XGBoost\n",
    "\n",
    "1. 랜덤포레스트\n",
    "\n",
    "여러 개의 의사결정 트리로 구성\n",
    "앙상블 방법 중 배깅(bagging) 방식\n",
    "부트스트랩 샘플링 (데이터셋 중복 허용)\n",
    "최종 다수결 투표\n",
    "\n",
    "2. XGBoost\n",
    "\n",
    "트리 앙상블 중 성능이 좋은 알고리즘\n",
    "eXtreme Gradient Boosting을 줄여서 XGBoost라고 한다.\n",
    "\n",
    "약한 학습기가 계속해서 업데이트를 하며 좋은 모델을 만들어 간다.\n"
   ],
   "metadata": {
    "collapsed": false
   },
   "id": "e52934ff2e14333c"
  },
  {
   "cell_type": "markdown",
   "source": [
    "### 랜덤포레스 회귀"
   ],
   "metadata": {
    "collapsed": false
   },
   "id": "9b7bbd441aa654da"
  },
  {
   "cell_type": "code",
   "execution_count": 21,
   "outputs": [
    {
     "data": {
      "text/plain": "3220.1002382022475"
     },
     "execution_count": 21,
     "metadata": {},
     "output_type": "execute_result"
    }
   ],
   "source": [
    "from sklearn.ensemble import RandomForestRegressor\n",
    "\n",
    "model = RandomForestRegressor()\n",
    "model.fit(X_train, y_train)\n",
    "pred = model.predict(X_test)\n",
    "mean_squared_error(y_test, pred)"
   ],
   "metadata": {
    "collapsed": false,
    "ExecuteTime": {
     "end_time": "2023-11-24T11:03:22.405522700Z",
     "start_time": "2023-11-24T11:03:21.957223800Z"
    }
   },
   "id": "253f074e698545e9"
  },
  {
   "cell_type": "markdown",
   "source": [
    "### xgboost"
   ],
   "metadata": {
    "collapsed": false
   },
   "id": "830d92832f80fdb2"
  },
  {
   "cell_type": "code",
   "execution_count": 22,
   "outputs": [
    {
     "data": {
      "text/plain": "4265.475533439266"
     },
     "execution_count": 22,
     "metadata": {},
     "output_type": "execute_result"
    }
   ],
   "source": [
    "from xgboost import XGBRegressor\n",
    "\n",
    "model = XGBRegressor()\n",
    "model.fit(X_train, y_train)\n",
    "pred = model.predict(X_test)\n",
    "mean_squared_error(y_test, pred)"
   ],
   "metadata": {
    "collapsed": false,
    "ExecuteTime": {
     "end_time": "2023-11-24T11:03:22.536311500Z",
     "start_time": "2023-11-24T11:03:22.377923900Z"
    }
   },
   "id": "2e1096b4a40e0e7d"
  },
  {
   "cell_type": "markdown",
   "source": [
    "## 하이퍼 파라미터 튜닝\n",
    "\n",
    "하이퍼파라미터 튜닝\n",
    "\n",
    "이번 시간에는 하이퍼파라미터 튜닝을 살펴봅시다.\n",
    "\n",
    " 그리드 서치와 랜덤 서치를 활용해서 파라미터 값을 찾는 방법을 알려드리도록 하겠습니다.\n",
    "\n",
    "이번 시간 정리\n",
    "\n",
    "모델의 성능 향상을 위해 하이퍼파라미터 튜닝을 진행하며\n",
    " 사이킷런의 model_selection에서 제공하는 GridSearchCV와 RandomizedSearchCV를 이용하여 최적화할 수 있습니다.\n",
    "\n",
    "1. GridSearchCV\n",
    "\n",
    "grid search를 통해 최적의 하이퍼파라미터를 찾음 (시간 오래 걸림)\n",
    "\n",
    "2. RandomizedSearchCV\n",
    "\n",
    "RandomizedSearchCV 는 GridSearchCV와 달리 랜덤으로 N개의 조합만 탐색함\n",
    "(시간 내 최적의 하이퍼파라미터 탐색)\n"
   ],
   "metadata": {
    "collapsed": false
   },
   "id": "9ed0a0680ebb5882"
  },
  {
   "cell_type": "code",
   "execution_count": 23,
   "outputs": [],
   "source": [
    "from sklearn.model_selection import GridSearchCV, RandomizedSearchCV"
   ],
   "metadata": {
    "collapsed": false,
    "ExecuteTime": {
     "end_time": "2023-11-24T11:03:22.577380300Z",
     "start_time": "2023-11-24T11:03:22.535310400Z"
    }
   },
   "id": "cdcdd1d45f1e9725"
  },
  {
   "cell_type": "code",
   "execution_count": 24,
   "outputs": [],
   "source": [
    "# 하이퍼파라미터\n",
    "params = {'learning_rate': [0.07, 0.05],\n",
    "          'max_depth': [3, 5, 7],\n",
    "          'n_estimators': [100, 200],\n",
    "          'subsample': [0.9, 0.8, 0.7]\n",
    "          }"
   ],
   "metadata": {
    "collapsed": false,
    "ExecuteTime": {
     "end_time": "2023-11-24T11:03:22.585525900Z",
     "start_time": "2023-11-24T11:03:22.550344300Z"
    }
   },
   "id": "ede31a8d284550e8"
  },
  {
   "cell_type": "code",
   "execution_count": 25,
   "outputs": [],
   "source": [
    "# 데이터셋 로드\n",
    "def make_dataset2():\n",
    "    dataset = load_diabetes()\n",
    "    df = pd.DataFrame(dataset.data, columns=dataset.feature_names)\n",
    "    df['target'] = dataset.target\n",
    "    return df.drop('target', axis=1), df['target']\n",
    "\n",
    "\n",
    "X, y = make_dataset2()"
   ],
   "metadata": {
    "collapsed": false,
    "ExecuteTime": {
     "end_time": "2023-11-24T11:03:22.589036300Z",
     "start_time": "2023-11-24T11:03:22.565865400Z"
    }
   },
   "id": "bbf9b50a0e8f2d1"
  },
  {
   "cell_type": "code",
   "execution_count": 26,
   "outputs": [
    {
     "data": {
      "text/plain": "GridSearchCV(cv=3,\n             estimator=XGBRegressor(base_score=None, booster=None,\n                                    callbacks=None, colsample_bylevel=None,\n                                    colsample_bynode=None,\n                                    colsample_bytree=None, device=None,\n                                    early_stopping_rounds=None,\n                                    enable_categorical=False, eval_metric=None,\n                                    feature_types=None, gamma=None,\n                                    grow_policy=None, importance_type=None,\n                                    interaction_constraints=None,\n                                    learning_rate=None, m...\n                                    max_cat_to_onehot=None, max_delta_step=None,\n                                    max_depth=None, max_leaves=None,\n                                    min_child_weight=None, missing=nan,\n                                    monotone_constraints=None,\n                                    multi_strategy=None, n_estimators=None,\n                                    n_jobs=None, num_parallel_tree=None,\n                                    random_state=None, ...),\n             n_jobs=-1,\n             param_grid={'learning_rate': [0.07, 0.05], 'max_depth': [3, 5, 7],\n                         'n_estimators': [100, 200],\n                         'subsample': [0.9, 0.8, 0.7]})",
      "text/html": "<style>#sk-container-id-1 {color: black;}#sk-container-id-1 pre{padding: 0;}#sk-container-id-1 div.sk-toggleable {background-color: white;}#sk-container-id-1 label.sk-toggleable__label {cursor: pointer;display: block;width: 100%;margin-bottom: 0;padding: 0.3em;box-sizing: border-box;text-align: center;}#sk-container-id-1 label.sk-toggleable__label-arrow:before {content: \"▸\";float: left;margin-right: 0.25em;color: #696969;}#sk-container-id-1 label.sk-toggleable__label-arrow:hover:before {color: black;}#sk-container-id-1 div.sk-estimator:hover label.sk-toggleable__label-arrow:before {color: black;}#sk-container-id-1 div.sk-toggleable__content {max-height: 0;max-width: 0;overflow: hidden;text-align: left;background-color: #f0f8ff;}#sk-container-id-1 div.sk-toggleable__content pre {margin: 0.2em;color: black;border-radius: 0.25em;background-color: #f0f8ff;}#sk-container-id-1 input.sk-toggleable__control:checked~div.sk-toggleable__content {max-height: 200px;max-width: 100%;overflow: auto;}#sk-container-id-1 input.sk-toggleable__control:checked~label.sk-toggleable__label-arrow:before {content: \"▾\";}#sk-container-id-1 div.sk-estimator input.sk-toggleable__control:checked~label.sk-toggleable__label {background-color: #d4ebff;}#sk-container-id-1 div.sk-label input.sk-toggleable__control:checked~label.sk-toggleable__label {background-color: #d4ebff;}#sk-container-id-1 input.sk-hidden--visually {border: 0;clip: rect(1px 1px 1px 1px);clip: rect(1px, 1px, 1px, 1px);height: 1px;margin: -1px;overflow: hidden;padding: 0;position: absolute;width: 1px;}#sk-container-id-1 div.sk-estimator {font-family: monospace;background-color: #f0f8ff;border: 1px dotted black;border-radius: 0.25em;box-sizing: border-box;margin-bottom: 0.5em;}#sk-container-id-1 div.sk-estimator:hover {background-color: #d4ebff;}#sk-container-id-1 div.sk-parallel-item::after {content: \"\";width: 100%;border-bottom: 1px solid gray;flex-grow: 1;}#sk-container-id-1 div.sk-label:hover label.sk-toggleable__label {background-color: #d4ebff;}#sk-container-id-1 div.sk-serial::before {content: \"\";position: absolute;border-left: 1px solid gray;box-sizing: border-box;top: 0;bottom: 0;left: 50%;z-index: 0;}#sk-container-id-1 div.sk-serial {display: flex;flex-direction: column;align-items: center;background-color: white;padding-right: 0.2em;padding-left: 0.2em;position: relative;}#sk-container-id-1 div.sk-item {position: relative;z-index: 1;}#sk-container-id-1 div.sk-parallel {display: flex;align-items: stretch;justify-content: center;background-color: white;position: relative;}#sk-container-id-1 div.sk-item::before, #sk-container-id-1 div.sk-parallel-item::before {content: \"\";position: absolute;border-left: 1px solid gray;box-sizing: border-box;top: 0;bottom: 0;left: 50%;z-index: -1;}#sk-container-id-1 div.sk-parallel-item {display: flex;flex-direction: column;z-index: 1;position: relative;background-color: white;}#sk-container-id-1 div.sk-parallel-item:first-child::after {align-self: flex-end;width: 50%;}#sk-container-id-1 div.sk-parallel-item:last-child::after {align-self: flex-start;width: 50%;}#sk-container-id-1 div.sk-parallel-item:only-child::after {width: 0;}#sk-container-id-1 div.sk-dashed-wrapped {border: 1px dashed gray;margin: 0 0.4em 0.5em 0.4em;box-sizing: border-box;padding-bottom: 0.4em;background-color: white;}#sk-container-id-1 div.sk-label label {font-family: monospace;font-weight: bold;display: inline-block;line-height: 1.2em;}#sk-container-id-1 div.sk-label-container {text-align: center;}#sk-container-id-1 div.sk-container {/* jupyter's `normalize.less` sets `[hidden] { display: none; }` but bootstrap.min.css set `[hidden] { display: none !important; }` so we also need the `!important` here to be able to override the default hidden behavior on the sphinx rendered scikit-learn.org. See: https://github.com/scikit-learn/scikit-learn/issues/21755 */display: inline-block !important;position: relative;}#sk-container-id-1 div.sk-text-repr-fallback {display: none;}</style><div id=\"sk-container-id-1\" class=\"sk-top-container\"><div class=\"sk-text-repr-fallback\"><pre>GridSearchCV(cv=3,\n             estimator=XGBRegressor(base_score=None, booster=None,\n                                    callbacks=None, colsample_bylevel=None,\n                                    colsample_bynode=None,\n                                    colsample_bytree=None, device=None,\n                                    early_stopping_rounds=None,\n                                    enable_categorical=False, eval_metric=None,\n                                    feature_types=None, gamma=None,\n                                    grow_policy=None, importance_type=None,\n                                    interaction_constraints=None,\n                                    learning_rate=None, m...\n                                    max_cat_to_onehot=None, max_delta_step=None,\n                                    max_depth=None, max_leaves=None,\n                                    min_child_weight=None, missing=nan,\n                                    monotone_constraints=None,\n                                    multi_strategy=None, n_estimators=None,\n                                    n_jobs=None, num_parallel_tree=None,\n                                    random_state=None, ...),\n             n_jobs=-1,\n             param_grid={&#x27;learning_rate&#x27;: [0.07, 0.05], &#x27;max_depth&#x27;: [3, 5, 7],\n                         &#x27;n_estimators&#x27;: [100, 200],\n                         &#x27;subsample&#x27;: [0.9, 0.8, 0.7]})</pre><b>In a Jupyter environment, please rerun this cell to show the HTML representation or trust the notebook. <br />On GitHub, the HTML representation is unable to render, please try loading this page with nbviewer.org.</b></div><div class=\"sk-container\" hidden><div class=\"sk-item sk-dashed-wrapped\"><div class=\"sk-label-container\"><div class=\"sk-label sk-toggleable\"><input class=\"sk-toggleable__control sk-hidden--visually\" id=\"sk-estimator-id-1\" type=\"checkbox\" ><label for=\"sk-estimator-id-1\" class=\"sk-toggleable__label sk-toggleable__label-arrow\">GridSearchCV</label><div class=\"sk-toggleable__content\"><pre>GridSearchCV(cv=3,\n             estimator=XGBRegressor(base_score=None, booster=None,\n                                    callbacks=None, colsample_bylevel=None,\n                                    colsample_bynode=None,\n                                    colsample_bytree=None, device=None,\n                                    early_stopping_rounds=None,\n                                    enable_categorical=False, eval_metric=None,\n                                    feature_types=None, gamma=None,\n                                    grow_policy=None, importance_type=None,\n                                    interaction_constraints=None,\n                                    learning_rate=None, m...\n                                    max_cat_to_onehot=None, max_delta_step=None,\n                                    max_depth=None, max_leaves=None,\n                                    min_child_weight=None, missing=nan,\n                                    monotone_constraints=None,\n                                    multi_strategy=None, n_estimators=None,\n                                    n_jobs=None, num_parallel_tree=None,\n                                    random_state=None, ...),\n             n_jobs=-1,\n             param_grid={&#x27;learning_rate&#x27;: [0.07, 0.05], &#x27;max_depth&#x27;: [3, 5, 7],\n                         &#x27;n_estimators&#x27;: [100, 200],\n                         &#x27;subsample&#x27;: [0.9, 0.8, 0.7]})</pre></div></div></div><div class=\"sk-parallel\"><div class=\"sk-parallel-item\"><div class=\"sk-item\"><div class=\"sk-label-container\"><div class=\"sk-label sk-toggleable\"><input class=\"sk-toggleable__control sk-hidden--visually\" id=\"sk-estimator-id-2\" type=\"checkbox\" ><label for=\"sk-estimator-id-2\" class=\"sk-toggleable__label sk-toggleable__label-arrow\">estimator: XGBRegressor</label><div class=\"sk-toggleable__content\"><pre>XGBRegressor(base_score=None, booster=None, callbacks=None,\n             colsample_bylevel=None, colsample_bynode=None,\n             colsample_bytree=None, device=None, early_stopping_rounds=None,\n             enable_categorical=False, eval_metric=None, feature_types=None,\n             gamma=None, grow_policy=None, importance_type=None,\n             interaction_constraints=None, learning_rate=None, max_bin=None,\n             max_cat_threshold=None, max_cat_to_onehot=None,\n             max_delta_step=None, max_depth=None, max_leaves=None,\n             min_child_weight=None, missing=nan, monotone_constraints=None,\n             multi_strategy=None, n_estimators=None, n_jobs=None,\n             num_parallel_tree=None, random_state=None, ...)</pre></div></div></div><div class=\"sk-serial\"><div class=\"sk-item\"><div class=\"sk-estimator sk-toggleable\"><input class=\"sk-toggleable__control sk-hidden--visually\" id=\"sk-estimator-id-3\" type=\"checkbox\" ><label for=\"sk-estimator-id-3\" class=\"sk-toggleable__label sk-toggleable__label-arrow\">XGBRegressor</label><div class=\"sk-toggleable__content\"><pre>XGBRegressor(base_score=None, booster=None, callbacks=None,\n             colsample_bylevel=None, colsample_bynode=None,\n             colsample_bytree=None, device=None, early_stopping_rounds=None,\n             enable_categorical=False, eval_metric=None, feature_types=None,\n             gamma=None, grow_policy=None, importance_type=None,\n             interaction_constraints=None, learning_rate=None, max_bin=None,\n             max_cat_threshold=None, max_cat_to_onehot=None,\n             max_delta_step=None, max_depth=None, max_leaves=None,\n             min_child_weight=None, missing=nan, monotone_constraints=None,\n             multi_strategy=None, n_estimators=None, n_jobs=None,\n             num_parallel_tree=None, random_state=None, ...)</pre></div></div></div></div></div></div></div></div></div></div>"
     },
     "execution_count": 26,
     "metadata": {},
     "output_type": "execute_result"
    }
   ],
   "source": [
    "# GridSearchCV\n",
    "xgb = XGBRegressor()\n",
    "grid = GridSearchCV(xgb, params, cv=3, n_jobs=-1)\n",
    "grid.fit(X, y)"
   ],
   "metadata": {
    "collapsed": false,
    "ExecuteTime": {
     "end_time": "2023-11-24T11:03:26.365707Z",
     "start_time": "2023-11-24T11:03:22.582525700Z"
    }
   },
   "id": "84bbfa3f5d7ad168"
  },
  {
   "cell_type": "code",
   "execution_count": 27,
   "outputs": [
    {
     "data": {
      "text/plain": "{'learning_rate': 0.05, 'max_depth': 3, 'n_estimators': 100, 'subsample': 0.7}"
     },
     "execution_count": 27,
     "metadata": {},
     "output_type": "execute_result"
    }
   ],
   "source": [
    "# 최적의 하이퍼파라미터를 찾음\n",
    "grid.best_params_"
   ],
   "metadata": {
    "collapsed": false,
    "ExecuteTime": {
     "end_time": "2023-11-24T11:03:26.399373600Z",
     "start_time": "2023-11-24T11:03:26.366706800Z"
    }
   },
   "id": "36ece36bd47ec479"
  },
  {
   "cell_type": "code",
   "execution_count": 28,
   "outputs": [
    {
     "data": {
      "text/plain": "3020.722217577996"
     },
     "execution_count": 28,
     "metadata": {},
     "output_type": "execute_result"
    }
   ],
   "source": [
    "xgb = XGBRegressor(\n",
    "    learning_rate=0.05,\n",
    "    max_depth=3,\n",
    "    n_estimators=100,\n",
    "    subsample=0.7\n",
    "\n",
    ")\n",
    "\n",
    "xgb.fit(X_train, y_train)\n",
    "pred = xgb.predict(X_test)\n",
    "\n",
    "mean_squared_error(y_test, pred)"
   ],
   "metadata": {
    "collapsed": false,
    "ExecuteTime": {
     "end_time": "2023-11-24T11:03:26.432993400Z",
     "start_time": "2023-11-24T11:03:26.381244500Z"
    }
   },
   "id": "307b490b27935186"
  },
  {
   "cell_type": "code",
   "execution_count": 29,
   "outputs": [
    {
     "data": {
      "text/plain": "RandomizedSearchCV(cv=3,\n                   estimator=XGBRegressor(base_score=None, booster=None,\n                                          callbacks=None,\n                                          colsample_bylevel=None,\n                                          colsample_bynode=None,\n                                          colsample_bytree=None, device=None,\n                                          early_stopping_rounds=None,\n                                          enable_categorical=False,\n                                          eval_metric=None, feature_types=None,\n                                          gamma=None, grow_policy=None,\n                                          importance_type=None,\n                                          interaction_constraints=None,\n                                          learning_rate=...\n                                          max_cat_to_onehot=None,\n                                          max_delta_step=None, max_depth=None,\n                                          max_leaves=None,\n                                          min_child_weight=None, missing=nan,\n                                          monotone_constraints=None,\n                                          multi_strategy=None,\n                                          n_estimators=None, n_jobs=None,\n                                          num_parallel_tree=None,\n                                          random_state=None, ...),\n                   n_jobs=-1,\n                   param_distributions={'learning_rate': [0.07, 0.05],\n                                        'max_depth': [3, 5, 7],\n                                        'n_estimators': [100, 200],\n                                        'subsample': [0.9, 0.8, 0.7]})",
      "text/html": "<style>#sk-container-id-2 {color: black;}#sk-container-id-2 pre{padding: 0;}#sk-container-id-2 div.sk-toggleable {background-color: white;}#sk-container-id-2 label.sk-toggleable__label {cursor: pointer;display: block;width: 100%;margin-bottom: 0;padding: 0.3em;box-sizing: border-box;text-align: center;}#sk-container-id-2 label.sk-toggleable__label-arrow:before {content: \"▸\";float: left;margin-right: 0.25em;color: #696969;}#sk-container-id-2 label.sk-toggleable__label-arrow:hover:before {color: black;}#sk-container-id-2 div.sk-estimator:hover label.sk-toggleable__label-arrow:before {color: black;}#sk-container-id-2 div.sk-toggleable__content {max-height: 0;max-width: 0;overflow: hidden;text-align: left;background-color: #f0f8ff;}#sk-container-id-2 div.sk-toggleable__content pre {margin: 0.2em;color: black;border-radius: 0.25em;background-color: #f0f8ff;}#sk-container-id-2 input.sk-toggleable__control:checked~div.sk-toggleable__content {max-height: 200px;max-width: 100%;overflow: auto;}#sk-container-id-2 input.sk-toggleable__control:checked~label.sk-toggleable__label-arrow:before {content: \"▾\";}#sk-container-id-2 div.sk-estimator input.sk-toggleable__control:checked~label.sk-toggleable__label {background-color: #d4ebff;}#sk-container-id-2 div.sk-label input.sk-toggleable__control:checked~label.sk-toggleable__label {background-color: #d4ebff;}#sk-container-id-2 input.sk-hidden--visually {border: 0;clip: rect(1px 1px 1px 1px);clip: rect(1px, 1px, 1px, 1px);height: 1px;margin: -1px;overflow: hidden;padding: 0;position: absolute;width: 1px;}#sk-container-id-2 div.sk-estimator {font-family: monospace;background-color: #f0f8ff;border: 1px dotted black;border-radius: 0.25em;box-sizing: border-box;margin-bottom: 0.5em;}#sk-container-id-2 div.sk-estimator:hover {background-color: #d4ebff;}#sk-container-id-2 div.sk-parallel-item::after {content: \"\";width: 100%;border-bottom: 1px solid gray;flex-grow: 1;}#sk-container-id-2 div.sk-label:hover label.sk-toggleable__label {background-color: #d4ebff;}#sk-container-id-2 div.sk-serial::before {content: \"\";position: absolute;border-left: 1px solid gray;box-sizing: border-box;top: 0;bottom: 0;left: 50%;z-index: 0;}#sk-container-id-2 div.sk-serial {display: flex;flex-direction: column;align-items: center;background-color: white;padding-right: 0.2em;padding-left: 0.2em;position: relative;}#sk-container-id-2 div.sk-item {position: relative;z-index: 1;}#sk-container-id-2 div.sk-parallel {display: flex;align-items: stretch;justify-content: center;background-color: white;position: relative;}#sk-container-id-2 div.sk-item::before, #sk-container-id-2 div.sk-parallel-item::before {content: \"\";position: absolute;border-left: 1px solid gray;box-sizing: border-box;top: 0;bottom: 0;left: 50%;z-index: -1;}#sk-container-id-2 div.sk-parallel-item {display: flex;flex-direction: column;z-index: 1;position: relative;background-color: white;}#sk-container-id-2 div.sk-parallel-item:first-child::after {align-self: flex-end;width: 50%;}#sk-container-id-2 div.sk-parallel-item:last-child::after {align-self: flex-start;width: 50%;}#sk-container-id-2 div.sk-parallel-item:only-child::after {width: 0;}#sk-container-id-2 div.sk-dashed-wrapped {border: 1px dashed gray;margin: 0 0.4em 0.5em 0.4em;box-sizing: border-box;padding-bottom: 0.4em;background-color: white;}#sk-container-id-2 div.sk-label label {font-family: monospace;font-weight: bold;display: inline-block;line-height: 1.2em;}#sk-container-id-2 div.sk-label-container {text-align: center;}#sk-container-id-2 div.sk-container {/* jupyter's `normalize.less` sets `[hidden] { display: none; }` but bootstrap.min.css set `[hidden] { display: none !important; }` so we also need the `!important` here to be able to override the default hidden behavior on the sphinx rendered scikit-learn.org. See: https://github.com/scikit-learn/scikit-learn/issues/21755 */display: inline-block !important;position: relative;}#sk-container-id-2 div.sk-text-repr-fallback {display: none;}</style><div id=\"sk-container-id-2\" class=\"sk-top-container\"><div class=\"sk-text-repr-fallback\"><pre>RandomizedSearchCV(cv=3,\n                   estimator=XGBRegressor(base_score=None, booster=None,\n                                          callbacks=None,\n                                          colsample_bylevel=None,\n                                          colsample_bynode=None,\n                                          colsample_bytree=None, device=None,\n                                          early_stopping_rounds=None,\n                                          enable_categorical=False,\n                                          eval_metric=None, feature_types=None,\n                                          gamma=None, grow_policy=None,\n                                          importance_type=None,\n                                          interaction_constraints=None,\n                                          learning_rate=...\n                                          max_cat_to_onehot=None,\n                                          max_delta_step=None, max_depth=None,\n                                          max_leaves=None,\n                                          min_child_weight=None, missing=nan,\n                                          monotone_constraints=None,\n                                          multi_strategy=None,\n                                          n_estimators=None, n_jobs=None,\n                                          num_parallel_tree=None,\n                                          random_state=None, ...),\n                   n_jobs=-1,\n                   param_distributions={&#x27;learning_rate&#x27;: [0.07, 0.05],\n                                        &#x27;max_depth&#x27;: [3, 5, 7],\n                                        &#x27;n_estimators&#x27;: [100, 200],\n                                        &#x27;subsample&#x27;: [0.9, 0.8, 0.7]})</pre><b>In a Jupyter environment, please rerun this cell to show the HTML representation or trust the notebook. <br />On GitHub, the HTML representation is unable to render, please try loading this page with nbviewer.org.</b></div><div class=\"sk-container\" hidden><div class=\"sk-item sk-dashed-wrapped\"><div class=\"sk-label-container\"><div class=\"sk-label sk-toggleable\"><input class=\"sk-toggleable__control sk-hidden--visually\" id=\"sk-estimator-id-4\" type=\"checkbox\" ><label for=\"sk-estimator-id-4\" class=\"sk-toggleable__label sk-toggleable__label-arrow\">RandomizedSearchCV</label><div class=\"sk-toggleable__content\"><pre>RandomizedSearchCV(cv=3,\n                   estimator=XGBRegressor(base_score=None, booster=None,\n                                          callbacks=None,\n                                          colsample_bylevel=None,\n                                          colsample_bynode=None,\n                                          colsample_bytree=None, device=None,\n                                          early_stopping_rounds=None,\n                                          enable_categorical=False,\n                                          eval_metric=None, feature_types=None,\n                                          gamma=None, grow_policy=None,\n                                          importance_type=None,\n                                          interaction_constraints=None,\n                                          learning_rate=...\n                                          max_cat_to_onehot=None,\n                                          max_delta_step=None, max_depth=None,\n                                          max_leaves=None,\n                                          min_child_weight=None, missing=nan,\n                                          monotone_constraints=None,\n                                          multi_strategy=None,\n                                          n_estimators=None, n_jobs=None,\n                                          num_parallel_tree=None,\n                                          random_state=None, ...),\n                   n_jobs=-1,\n                   param_distributions={&#x27;learning_rate&#x27;: [0.07, 0.05],\n                                        &#x27;max_depth&#x27;: [3, 5, 7],\n                                        &#x27;n_estimators&#x27;: [100, 200],\n                                        &#x27;subsample&#x27;: [0.9, 0.8, 0.7]})</pre></div></div></div><div class=\"sk-parallel\"><div class=\"sk-parallel-item\"><div class=\"sk-item\"><div class=\"sk-label-container\"><div class=\"sk-label sk-toggleable\"><input class=\"sk-toggleable__control sk-hidden--visually\" id=\"sk-estimator-id-5\" type=\"checkbox\" ><label for=\"sk-estimator-id-5\" class=\"sk-toggleable__label sk-toggleable__label-arrow\">estimator: XGBRegressor</label><div class=\"sk-toggleable__content\"><pre>XGBRegressor(base_score=None, booster=None, callbacks=None,\n             colsample_bylevel=None, colsample_bynode=None,\n             colsample_bytree=None, device=None, early_stopping_rounds=None,\n             enable_categorical=False, eval_metric=None, feature_types=None,\n             gamma=None, grow_policy=None, importance_type=None,\n             interaction_constraints=None, learning_rate=None, max_bin=None,\n             max_cat_threshold=None, max_cat_to_onehot=None,\n             max_delta_step=None, max_depth=None, max_leaves=None,\n             min_child_weight=None, missing=nan, monotone_constraints=None,\n             multi_strategy=None, n_estimators=None, n_jobs=None,\n             num_parallel_tree=None, random_state=None, ...)</pre></div></div></div><div class=\"sk-serial\"><div class=\"sk-item\"><div class=\"sk-estimator sk-toggleable\"><input class=\"sk-toggleable__control sk-hidden--visually\" id=\"sk-estimator-id-6\" type=\"checkbox\" ><label for=\"sk-estimator-id-6\" class=\"sk-toggleable__label sk-toggleable__label-arrow\">XGBRegressor</label><div class=\"sk-toggleable__content\"><pre>XGBRegressor(base_score=None, booster=None, callbacks=None,\n             colsample_bylevel=None, colsample_bynode=None,\n             colsample_bytree=None, device=None, early_stopping_rounds=None,\n             enable_categorical=False, eval_metric=None, feature_types=None,\n             gamma=None, grow_policy=None, importance_type=None,\n             interaction_constraints=None, learning_rate=None, max_bin=None,\n             max_cat_threshold=None, max_cat_to_onehot=None,\n             max_delta_step=None, max_depth=None, max_leaves=None,\n             min_child_weight=None, missing=nan, monotone_constraints=None,\n             multi_strategy=None, n_estimators=None, n_jobs=None,\n             num_parallel_tree=None, random_state=None, ...)</pre></div></div></div></div></div></div></div></div></div></div>"
     },
     "execution_count": 29,
     "metadata": {},
     "output_type": "execute_result"
    }
   ],
   "source": [
    "# RandomizedSearchCV\n",
    "\n",
    "xgb = XGBRegressor()\n",
    "grid = RandomizedSearchCV(xgb, params, cv=3, n_iter=10, n_jobs=-1)  # n_iter: 몇 번 반복할지\n",
    "grid.fit(X, y)"
   ],
   "metadata": {
    "collapsed": false,
    "ExecuteTime": {
     "end_time": "2023-11-24T11:04:49.151140600Z",
     "start_time": "2023-11-24T11:04:48.681645600Z"
    }
   },
   "id": "b1f35bca77e09e26"
  },
  {
   "cell_type": "code",
   "execution_count": 30,
   "outputs": [
    {
     "data": {
      "text/plain": "{'subsample': 0.8, 'n_estimators': 100, 'max_depth': 3, 'learning_rate': 0.05}"
     },
     "execution_count": 30,
     "metadata": {},
     "output_type": "execute_result"
    }
   ],
   "source": [
    "# 최적의 하이퍼파라미터를 찾음\n",
    "grid.best_params_"
   ],
   "metadata": {
    "collapsed": false,
    "ExecuteTime": {
     "end_time": "2023-11-24T11:05:10.155340Z",
     "start_time": "2023-11-24T11:05:10.072750400Z"
    }
   },
   "id": "e68955524ee0e17d"
  },
  {
   "cell_type": "code",
   "execution_count": 31,
   "outputs": [
    {
     "data": {
      "text/plain": "3154.3336034377185"
     },
     "execution_count": 31,
     "metadata": {},
     "output_type": "execute_result"
    }
   ],
   "source": [
    "xgb = XGBRegressor(\n",
    "    learning_rate=0.05,\n",
    "    max_depth=3,\n",
    "    n_estimators=100,\n",
    "    subsample=0.8\n",
    "\n",
    ")\n",
    "xgb.fit(X_train, y_train)\n",
    "pred = xgb.predict(X_test)\n",
    "mean_squared_error(y_test, pred)"
   ],
   "metadata": {
    "collapsed": false,
    "ExecuteTime": {
     "end_time": "2023-11-24T11:06:03.951281900Z",
     "start_time": "2023-11-24T11:06:03.860942900Z"
    }
   },
   "id": "8af84ad076ea8a76"
  },
  {
   "cell_type": "markdown",
   "source": [
    "### 평가 (회귀)\n",
    "이번 시간에는 회귀 평가 지표에 대해서 같이 한번 살펴보도록 하겠습니다.\n",
    "\n",
    "평가 지표는 여러 개가 있지만 그중 5개를 살펴보겠습니다."
   ],
   "metadata": {
    "collapsed": false
   },
   "id": "a3f7cb9f7dfa4c96"
  },
  {
   "cell_type": "code",
   "execution_count": 32,
   "outputs": [
    {
     "data": {
      "text/plain": "47.63303135218245"
     },
     "execution_count": 32,
     "metadata": {},
     "output_type": "execute_result"
    }
   ],
   "source": [
    "# MAE\n",
    "from sklearn.metrics import mean_absolute_error\n",
    "\n",
    "mean_absolute_error(y_test, pred)"
   ],
   "metadata": {
    "collapsed": false,
    "ExecuteTime": {
     "end_time": "2023-11-24T11:08:25.068234Z",
     "start_time": "2023-11-24T11:08:25.042266100Z"
    }
   },
   "id": "987f71a88ac9dea2"
  },
  {
   "cell_type": "code",
   "execution_count": 33,
   "outputs": [
    {
     "data": {
      "text/plain": "3154.3336034377185"
     },
     "execution_count": 33,
     "metadata": {},
     "output_type": "execute_result"
    }
   ],
   "source": [
    "# MSE\n",
    "from sklearn.metrics import mean_squared_error\n",
    "\n",
    "mean_squared_error(y_test, pred)"
   ],
   "metadata": {
    "collapsed": false,
    "ExecuteTime": {
     "end_time": "2023-11-24T11:09:26.119147700Z",
     "start_time": "2023-11-24T11:09:26.092639300Z"
    }
   },
   "id": "8a423bb585c2b6a"
  },
  {
   "cell_type": "code",
   "execution_count": 34,
   "outputs": [
    {
     "data": {
      "text/plain": "56.163454340324535"
     },
     "execution_count": 34,
     "metadata": {},
     "output_type": "execute_result"
    }
   ],
   "source": [
    "# RMSE\n",
    "import numpy as np\n",
    "\n",
    "np.sqrt(mean_squared_error(y_test, pred))"
   ],
   "metadata": {
    "collapsed": false,
    "ExecuteTime": {
     "end_time": "2023-11-24T11:09:50.904922300Z",
     "start_time": "2023-11-24T11:09:50.804120400Z"
    }
   },
   "id": "7b2d2b0232932643"
  },
  {
   "cell_type": "code",
   "execution_count": 36,
   "outputs": [
    {
     "data": {
      "text/plain": "0.4313809272435647"
     },
     "execution_count": 36,
     "metadata": {},
     "output_type": "execute_result"
    }
   ],
   "source": [
    "# RMSLE\n",
    "from sklearn.metrics import mean_squared_log_error\n",
    "\n",
    "np.sqrt(mean_squared_log_error(y_test, pred))"
   ],
   "metadata": {
    "collapsed": false,
    "ExecuteTime": {
     "end_time": "2023-11-24T11:11:38.179337100Z",
     "start_time": "2023-11-24T11:11:38.137972Z"
    }
   },
   "id": "a4e248a4751cadd0"
  },
  {
   "cell_type": "code",
   "execution_count": 37,
   "outputs": [
    {
     "data": {
      "text/plain": "0.5182398701894719"
     },
     "execution_count": 37,
     "metadata": {},
     "output_type": "execute_result"
    }
   ],
   "source": [
    "# R2\n",
    "from sklearn.metrics import r2_score\n",
    "\n",
    "r2_score(y_test, pred)"
   ],
   "metadata": {
    "collapsed": false,
    "ExecuteTime": {
     "end_time": "2023-11-24T11:12:02.215337800Z",
     "start_time": "2023-11-24T11:12:02.184693200Z"
    }
   },
   "id": "d1e3681e9df124a2"
  },
  {
   "cell_type": "code",
   "execution_count": null,
   "outputs": [],
   "source": [],
   "metadata": {
    "collapsed": false
   },
   "id": "2664a2a88fccf247"
  }
 ],
 "metadata": {
  "kernelspec": {
   "display_name": "Python 3",
   "language": "python",
   "name": "python3"
  },
  "language_info": {
   "codemirror_mode": {
    "name": "ipython",
    "version": 2
   },
   "file_extension": ".py",
   "mimetype": "text/x-python",
   "name": "python",
   "nbconvert_exporter": "python",
   "pygments_lexer": "ipython2",
   "version": "2.7.6"
  }
 },
 "nbformat": 4,
 "nbformat_minor": 5
}
