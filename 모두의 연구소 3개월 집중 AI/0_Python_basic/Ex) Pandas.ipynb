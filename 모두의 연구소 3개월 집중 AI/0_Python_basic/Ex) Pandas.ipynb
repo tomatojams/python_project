{
 "nbformat": 4,
 "nbformat_minor": 0,
 "metadata": {
  "colab": {
   "provenance": [],
   "authorship_tag": "ABX9TyM07mU/M3SIielxEYwy+cBy"
  },
  "kernelspec": {
   "name": "python3",
   "language": "python",
   "display_name": "Python 3 (ipykernel)"
  },
  "language_info": {
   "name": "python"
  }
 },
 "cells": [
  {
   "cell_type": "markdown",
   "source": [
    "## Pandas examples\n",
    "### Pandas 설치 및 import\n",
    "```\n",
    "!pip install pandas\n",
    "```"
   ],
   "metadata": {
    "id": "G8MDsKLWzP0l"
   }
  },
  {
   "cell_type": "code",
   "source": [
    "import pandas\n",
    "import pandas as pd"
   ],
   "metadata": {
    "id": "mVsaf3DWzy_B",
    "ExecuteTime": {
     "end_time": "2023-12-18T02:05:27.089916Z",
     "start_time": "2023-12-18T02:05:26.754643Z"
    }
   },
   "execution_count": 4,
   "outputs": []
  },
  {
   "cell_type": "markdown",
   "source": [
    "### 문제 1: DataFrame 생성\n",
    "\n",
    "* 데이터 분석에 필요한 기본 구조 중 하나는 DataFrame입니다. Pandas를 이용하여 다음과 같은 데이터를 가진 DataFrame을 만들어 보세요.\n",
    "```\n",
    "Name    Age    City\n",
    "John    28     New York\n",
    "Alice   24     Los Angeles\n",
    "Bob     22     Chicago\n",
    "```"
   ],
   "metadata": {
    "id": "PPvPkUCmysX3"
   }
  },
  {
   "cell_type": "code",
   "source": [
    "data = {'Name': ['John', 'Alice', 'Bob'],\n",
    "        'Age': [28, 24, 22],\n",
    "        'City': ['New York', 'Los Angeles', 'Chicago']}\n",
    "\n",
    "df = pandas.DataFrame(data)\n",
    "df.head()"
   ],
   "metadata": {
    "id": "PFj8mWx2yywp",
    "ExecuteTime": {
     "end_time": "2023-12-18T02:05:28.166370Z",
     "start_time": "2023-12-18T02:05:28.123619Z"
    }
   },
   "execution_count": 5,
   "outputs": [
    {
     "data": {
      "text/plain": "    Name  Age         City\n0   John   28     New York\n1  Alice   24  Los Angeles\n2    Bob   22      Chicago",
      "text/html": "<div>\n<style scoped>\n    .dataframe tbody tr th:only-of-type {\n        vertical-align: middle;\n    }\n\n    .dataframe tbody tr th {\n        vertical-align: top;\n    }\n\n    .dataframe thead th {\n        text-align: right;\n    }\n</style>\n<table border=\"1\" class=\"dataframe\">\n  <thead>\n    <tr style=\"text-align: right;\">\n      <th></th>\n      <th>Name</th>\n      <th>Age</th>\n      <th>City</th>\n    </tr>\n  </thead>\n  <tbody>\n    <tr>\n      <th>0</th>\n      <td>John</td>\n      <td>28</td>\n      <td>New York</td>\n    </tr>\n    <tr>\n      <th>1</th>\n      <td>Alice</td>\n      <td>24</td>\n      <td>Los Angeles</td>\n    </tr>\n    <tr>\n      <th>2</th>\n      <td>Bob</td>\n      <td>22</td>\n      <td>Chicago</td>\n    </tr>\n  </tbody>\n</table>\n</div>"
     },
     "execution_count": 5,
     "metadata": {},
     "output_type": "execute_result"
    }
   ]
  },
  {
   "cell_type": "markdown",
   "source": [
    "---"
   ],
   "metadata": {
    "id": "TuKMFdtRzOdT"
   }
  },
  {
   "cell_type": "markdown",
   "source": [
    "### 문제 2: DataFrame 정보 조회\n",
    "* Pandas DataFrame에서 총 row 개수, column 이름, 각 column의 데이터 타입을 출력하세요.\n"
   ],
   "metadata": {
    "id": "xf8gsRG3zTav"
   }
  },
  {
   "cell_type": "code",
   "source": [
    "data = {'Name': ['John', 'Alice', 'Bob'],\n",
    "        'Age': [28, 24, 22],\n",
    "        'City': ['New York', 'Los Angeles', 'Chicago']}\n",
    "\n",
    "df.info()"
   ],
   "metadata": {
    "id": "sn6COXbZzPHU",
    "ExecuteTime": {
     "end_time": "2023-12-18T02:05:37.461795Z",
     "start_time": "2023-12-18T02:05:37.402492Z"
    }
   },
   "execution_count": 6,
   "outputs": [
    {
     "name": "stdout",
     "output_type": "stream",
     "text": [
      "<class 'pandas.core.frame.DataFrame'>\n",
      "RangeIndex: 3 entries, 0 to 2\n",
      "Data columns (total 3 columns):\n",
      " #   Column  Non-Null Count  Dtype \n",
      "---  ------  --------------  ----- \n",
      " 0   Name    3 non-null      object\n",
      " 1   Age     3 non-null      int64 \n",
      " 2   City    3 non-null      object\n",
      "dtypes: int64(1), object(2)\n",
      "memory usage: 200.0+ bytes\n"
     ]
    }
   ]
  },
  {
   "cell_type": "markdown",
   "source": [
    "---"
   ],
   "metadata": {
    "id": "QOzy_MOvz0YI"
   }
  },
  {
   "cell_type": "markdown",
   "source": [
    "### 문제 3: 특정 컬럼 기준으로 데이터 정렬하기\n",
    "* 다음과 같은 DataFrame이 주어졌을 때, 'Age' 컬럼을 기준으로 오름차순으로 정렬하세요."
   ],
   "metadata": {
    "id": "JMZaUYpwz0em"
   }
  },
  {
   "cell_type": "code",
   "source": [
    "data = {'Name': ['John', 'Alice', 'Bob'],\n",
    "        'Age': [28, 24, 22],\n",
    "        'City': ['New York', 'Los Angeles', 'Chicago']}\n",
    "\n",
    "df = pandas.DataFrame(data)\n",
    "df_sorted = df.sort_values(by='Age')\n",
    "df_sorted.head()"
   ],
   "metadata": {
    "id": "O5aEIuFdz48y",
    "ExecuteTime": {
     "end_time": "2023-12-18T02:06:55.476741Z",
     "start_time": "2023-12-18T02:06:55.421129Z"
    }
   },
   "execution_count": 7,
   "outputs": [
    {
     "data": {
      "text/plain": "    Name  Age         City\n2    Bob   22      Chicago\n1  Alice   24  Los Angeles\n0   John   28     New York",
      "text/html": "<div>\n<style scoped>\n    .dataframe tbody tr th:only-of-type {\n        vertical-align: middle;\n    }\n\n    .dataframe tbody tr th {\n        vertical-align: top;\n    }\n\n    .dataframe thead th {\n        text-align: right;\n    }\n</style>\n<table border=\"1\" class=\"dataframe\">\n  <thead>\n    <tr style=\"text-align: right;\">\n      <th></th>\n      <th>Name</th>\n      <th>Age</th>\n      <th>City</th>\n    </tr>\n  </thead>\n  <tbody>\n    <tr>\n      <th>2</th>\n      <td>Bob</td>\n      <td>22</td>\n      <td>Chicago</td>\n    </tr>\n    <tr>\n      <th>1</th>\n      <td>Alice</td>\n      <td>24</td>\n      <td>Los Angeles</td>\n    </tr>\n    <tr>\n      <th>0</th>\n      <td>John</td>\n      <td>28</td>\n      <td>New York</td>\n    </tr>\n  </tbody>\n</table>\n</div>"
     },
     "execution_count": 7,
     "metadata": {},
     "output_type": "execute_result"
    }
   ]
  },
  {
   "cell_type": "markdown",
   "source": [
    "---"
   ],
   "metadata": {
    "id": "FdCg_p9bz_qQ"
   }
  },
  {
   "cell_type": "markdown",
   "source": [
    "### 문제 4: 특정 조건에 맞는 데이터 필터링하기\n",
    "* 다음과 같은 DataFrame이 주어졌을 때, 나이가 25세 이상인 사람들의 데이터만 추출하세요."
   ],
   "metadata": {
    "id": "WwCZytg40A8C"
   }
  },
  {
   "cell_type": "code",
   "source": [
    "data = {'Name': ['John', 'Alice', 'Bob', 'Eve'],\n",
    "        'Age': [28, 24, 22, 30],\n",
    "        'City': ['New York', 'Los Angeles', 'Chicago', 'Boston']}\n",
    "df = df[df['Age'] >= 25].copy()\n",
    "df"
   ],
   "metadata": {
    "id": "S09xy7Lh0ADP",
    "ExecuteTime": {
     "end_time": "2023-12-18T02:09:22.641891Z",
     "start_time": "2023-12-18T02:09:22.579561Z"
    }
   },
   "execution_count": 13,
   "outputs": [
    {
     "data": {
      "text/plain": "   Name  Age      City\n0  John   28  New York",
      "text/html": "<div>\n<style scoped>\n    .dataframe tbody tr th:only-of-type {\n        vertical-align: middle;\n    }\n\n    .dataframe tbody tr th {\n        vertical-align: top;\n    }\n\n    .dataframe thead th {\n        text-align: right;\n    }\n</style>\n<table border=\"1\" class=\"dataframe\">\n  <thead>\n    <tr style=\"text-align: right;\">\n      <th></th>\n      <th>Name</th>\n      <th>Age</th>\n      <th>City</th>\n    </tr>\n  </thead>\n  <tbody>\n    <tr>\n      <th>0</th>\n      <td>John</td>\n      <td>28</td>\n      <td>New York</td>\n    </tr>\n  </tbody>\n</table>\n</div>"
     },
     "execution_count": 13,
     "metadata": {},
     "output_type": "execute_result"
    }
   ]
  },
  {
   "cell_type": "markdown",
   "source": [
    "---"
   ],
   "metadata": {
    "id": "k8uy7BU-0H41"
   }
  },
  {
   "cell_type": "markdown",
   "source": [
    "### 문제 5: 새로운 컬럼 추가하기\n",
    "* 위의 DataFrame에 'Salary'라는 새로운 컬럼을 추가하고, 아래 값을 넣어 보세요.\n",
    "```\n",
    " [50000, 60000, 70000, 80000]\n",
    "```"
   ],
   "metadata": {
    "id": "57HBUC5T0JBK"
   }
  },
  {
   "cell_type": "code",
   "source": [
    "df['Salary'] = [50000, 60000, 70000, 80000]\n",
    "df.head()"
   ],
   "metadata": {
    "id": "c7tKfxHO0IKh",
    "ExecuteTime": {
     "end_time": "2023-12-18T02:10:50.159257Z",
     "start_time": "2023-12-18T02:10:50.136863Z"
    }
   },
   "execution_count": 15,
   "outputs": [
    {
     "data": {
      "text/plain": "    Name  Age         City  Salary\n0   John   28     New York   50000\n1  Alice   24  Los Angeles   60000\n2    Bob   22      Chicago   70000\n3    Eve   30       Boston   80000",
      "text/html": "<div>\n<style scoped>\n    .dataframe tbody tr th:only-of-type {\n        vertical-align: middle;\n    }\n\n    .dataframe tbody tr th {\n        vertical-align: top;\n    }\n\n    .dataframe thead th {\n        text-align: right;\n    }\n</style>\n<table border=\"1\" class=\"dataframe\">\n  <thead>\n    <tr style=\"text-align: right;\">\n      <th></th>\n      <th>Name</th>\n      <th>Age</th>\n      <th>City</th>\n      <th>Salary</th>\n    </tr>\n  </thead>\n  <tbody>\n    <tr>\n      <th>0</th>\n      <td>John</td>\n      <td>28</td>\n      <td>New York</td>\n      <td>50000</td>\n    </tr>\n    <tr>\n      <th>1</th>\n      <td>Alice</td>\n      <td>24</td>\n      <td>Los Angeles</td>\n      <td>60000</td>\n    </tr>\n    <tr>\n      <th>2</th>\n      <td>Bob</td>\n      <td>22</td>\n      <td>Chicago</td>\n      <td>70000</td>\n    </tr>\n    <tr>\n      <th>3</th>\n      <td>Eve</td>\n      <td>30</td>\n      <td>Boston</td>\n      <td>80000</td>\n    </tr>\n  </tbody>\n</table>\n</div>"
     },
     "execution_count": 15,
     "metadata": {},
     "output_type": "execute_result"
    }
   ]
  },
  {
   "cell_type": "markdown",
   "source": [
    "---"
   ],
   "metadata": {
    "id": "BGT2D-lr0XQq"
   }
  },
  {
   "cell_type": "markdown",
   "source": [
    "### 문제 6: Groupby를 이용한 집계\n",
    "* 다음과 같은 DataFrame에서 City를 기준으로 평균 나이를 계산하세요.\n",
    "```\n",
    "Name    Age    City\n",
    "John    28     New York\n",
    "Alice   24     Los Angeles\n",
    "Bob     22     Chicago\n",
    "Eve     30     Boston\n",
    "Tom     40     New York\n",
    "```"
   ],
   "metadata": {
    "id": "LjsKMncY0XWV"
   }
  },
  {
   "cell_type": "code",
   "source": [
    "data = {'Name': ['John', 'Alice', 'Bob', 'Eve', 'Tom'],\n",
    "        'Age': [28, 24, 22, 30, 40],\n",
    "        'City': ['New York', 'Los Angeles', 'Chicago', 'Boston', 'New York']}\n",
    "\n",
    "df = pandas.DataFrame(data)\n",
    "df.info()\n",
    "\n",
    "df.groupby(data['City'])['Age'].mean()"
   ],
   "metadata": {
    "id": "1AxflCjs0gOl",
    "ExecuteTime": {
     "end_time": "2023-12-18T02:14:21.044099Z",
     "start_time": "2023-12-18T02:14:21.007925Z"
    }
   },
   "execution_count": 20,
   "outputs": [
    {
     "name": "stdout",
     "output_type": "stream",
     "text": [
      "<class 'pandas.core.frame.DataFrame'>\n",
      "RangeIndex: 5 entries, 0 to 4\n",
      "Data columns (total 3 columns):\n",
      " #   Column  Non-Null Count  Dtype \n",
      "---  ------  --------------  ----- \n",
      " 0   Name    5 non-null      object\n",
      " 1   Age     5 non-null      int64 \n",
      " 2   City    5 non-null      object\n",
      "dtypes: int64(1), object(2)\n",
      "memory usage: 248.0+ bytes\n"
     ]
    },
    {
     "data": {
      "text/plain": "Boston         30.0\nChicago        22.0\nLos Angeles    24.0\nNew York       34.0\nName: Age, dtype: float64"
     },
     "execution_count": 20,
     "metadata": {},
     "output_type": "execute_result"
    }
   ]
  },
  {
   "cell_type": "markdown",
   "source": [
    "---"
   ],
   "metadata": {
    "id": "YVmL6CLX0s5f"
   }
  },
  {
   "cell_type": "markdown",
   "source": [
    "### 문제 7: 데이터 프레임 합치기 (Merge)\n",
    "* 두 개의 DataFrame을 합쳐보세요.\n",
    "\n",
    "```\n",
    "DataFrame 1\n",
    "Name    Age\n",
    "John    28\n",
    "Alice   24\n",
    "Bob     22\n",
    "\n",
    "DataFrame 2\n",
    "Name    City\n",
    "John    New York\n",
    "Alice   Los Angeles\n",
    "Eve     Boston\n",
    "\n",
    "```"
   ],
   "metadata": {
    "id": "hJvdr_ov0kQY"
   }
  },
  {
   "cell_type": "code",
   "source": [
    "data1 = {'Name': ['John', 'Alice', 'Bob'],\n",
    "         'Age': [28, 24, 22]}\n",
    "\n",
    "data2 = {'Name': ['John', 'Alice', 'Eve'],\n",
    "         'City': ['New York', 'Los Angeles', 'Boston']}\n",
    "\n",
    "df1 = pandas.DataFrame(data1)\n",
    "df2 = pandas.DataFrame(data2)\n",
    "\n",
    "df_merged = pd.merge(df1, df2, on='Name') # 두 데이타프레임을 on에 써진 컬럼에 맞춰서 합침\n",
    "df_merged"
   ],
   "metadata": {
    "id": "Bll6n0QB0tvu",
    "ExecuteTime": {
     "end_time": "2023-12-18T02:16:05.792364Z",
     "start_time": "2023-12-18T02:16:05.749868Z"
    }
   },
   "execution_count": 23,
   "outputs": [
    {
     "data": {
      "text/plain": "    Name  Age         City\n0   John   28     New York\n1  Alice   24  Los Angeles",
      "text/html": "<div>\n<style scoped>\n    .dataframe tbody tr th:only-of-type {\n        vertical-align: middle;\n    }\n\n    .dataframe tbody tr th {\n        vertical-align: top;\n    }\n\n    .dataframe thead th {\n        text-align: right;\n    }\n</style>\n<table border=\"1\" class=\"dataframe\">\n  <thead>\n    <tr style=\"text-align: right;\">\n      <th></th>\n      <th>Name</th>\n      <th>Age</th>\n      <th>City</th>\n    </tr>\n  </thead>\n  <tbody>\n    <tr>\n      <th>0</th>\n      <td>John</td>\n      <td>28</td>\n      <td>New York</td>\n    </tr>\n    <tr>\n      <th>1</th>\n      <td>Alice</td>\n      <td>24</td>\n      <td>Los Angeles</td>\n    </tr>\n  </tbody>\n</table>\n</div>"
     },
     "execution_count": 23,
     "metadata": {},
     "output_type": "execute_result"
    }
   ]
  },
  {
   "cell_type": "markdown",
   "source": [
    "---"
   ],
   "metadata": {
    "id": "AsuNz7970yP-"
   }
  },
  {
   "cell_type": "markdown",
   "source": [
    "### 문제 8: pivot_table 사용하기\n",
    "* pivot_table을 사용하여 다음과 같은 DataFrame에서 각 도시(City)별로 직업(Job)의 평균 급여(Average Salary)를 계산하세요.\n",
    "```\n",
    "Name    City         Job       Salary\n",
    "John    New York     Engineer   90000\n",
    "Alice   Los Angeles  Doctor     110000\n",
    "Bob     Chicago      Engineer   80000\n",
    "Eve     Boston       Manager    95000\n",
    "Tom     New York     Manager    105000\n",
    "Smith   Los Angeles  Engineer   92000\n",
    "```"
   ],
   "metadata": {
    "id": "ih1t3IQc04PQ"
   }
  },
  {
   "cell_type": "code",
   "source": [
    "data = {'Name': ['John', 'Alice', 'Bob', 'Eve', 'Tom', 'Smith'],\n",
    "        'City': ['New York', 'Los Angeles', 'Chicago', 'Boston', 'New York', 'Los Angeles'],\n",
    "        'Job': ['Engineer', 'Doctor', 'Engineer', 'Manager', 'Manager', 'Engineer'],\n",
    "        'Salary': [90000, 110000, 80000, 95000, 105000, 92000]}\n",
    "\n",
    "df = pandas.DataFrame(data)\n",
    "pandas.pivot_table(df, index='City', columns='Job', values='Salary', aggfunc='mean')\n",
    "df.groupby(['City', 'Job'])['Salary'].mean().unstack()"
   ],
   "metadata": {
    "id": "xt_wL9oR0ylH",
    "ExecuteTime": {
     "end_time": "2023-12-18T02:18:24.493769Z",
     "start_time": "2023-12-18T02:18:24.436998Z"
    }
   },
   "execution_count": 26,
   "outputs": [
    {
     "data": {
      "text/plain": "Job            Doctor  Engineer   Manager\nCity                                     \nBoston            NaN       NaN   95000.0\nChicago           NaN   80000.0       NaN\nLos Angeles  110000.0   92000.0       NaN\nNew York          NaN   90000.0  105000.0",
      "text/html": "<div>\n<style scoped>\n    .dataframe tbody tr th:only-of-type {\n        vertical-align: middle;\n    }\n\n    .dataframe tbody tr th {\n        vertical-align: top;\n    }\n\n    .dataframe thead th {\n        text-align: right;\n    }\n</style>\n<table border=\"1\" class=\"dataframe\">\n  <thead>\n    <tr style=\"text-align: right;\">\n      <th>Job</th>\n      <th>Doctor</th>\n      <th>Engineer</th>\n      <th>Manager</th>\n    </tr>\n    <tr>\n      <th>City</th>\n      <th></th>\n      <th></th>\n      <th></th>\n    </tr>\n  </thead>\n  <tbody>\n    <tr>\n      <th>Boston</th>\n      <td>NaN</td>\n      <td>NaN</td>\n      <td>95000.0</td>\n    </tr>\n    <tr>\n      <th>Chicago</th>\n      <td>NaN</td>\n      <td>80000.0</td>\n      <td>NaN</td>\n    </tr>\n    <tr>\n      <th>Los Angeles</th>\n      <td>110000.0</td>\n      <td>92000.0</td>\n      <td>NaN</td>\n    </tr>\n    <tr>\n      <th>New York</th>\n      <td>NaN</td>\n      <td>90000.0</td>\n      <td>105000.0</td>\n    </tr>\n  </tbody>\n</table>\n</div>"
     },
     "execution_count": 26,
     "metadata": {},
     "output_type": "execute_result"
    }
   ]
  },
  {
   "cell_type": "markdown",
   "source": [
    "---"
   ],
   "metadata": {
    "id": "EW3P0bN609in"
   }
  },
  {
   "cell_type": "code",
   "source": [],
   "metadata": {
    "id": "KmrfF9tD094U"
   },
   "execution_count": null,
   "outputs": []
  }
 ]
}
