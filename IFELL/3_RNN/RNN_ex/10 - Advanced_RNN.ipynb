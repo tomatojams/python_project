{
 "nbformat": 4,
 "nbformat_minor": 0,
 "metadata": {
  "kernelspec": {
   "display_name": "Python 3",
   "language": "python",
   "name": "python3"
  },
  "language_info": {
   "codemirror_mode": {
    "name": "ipython",
    "version": 3
   },
   "file_extension": ".py",
   "mimetype": "text/x-python",
   "name": "python",
   "nbconvert_exporter": "python",
   "pygments_lexer": "ipython3",
   "version": "3.6.8"
  },
  "latex_envs": {
   "LaTeX_envs_menu_present": true,
   "autoclose": false,
   "autocomplete": true,
   "bibliofile": "biblio.bib",
   "cite_by": "apalike",
   "current_citInitial": 1,
   "eqLabelWithNumbers": true,
   "eqNumInitial": 1,
   "hotkeys": {
    "equation": "Ctrl-E",
    "itemize": "Ctrl-I"
   },
   "labels_anchors": false,
   "latex_user_defs": false,
   "report_style_numbering": false,
   "user_envs_cfg": false
  },
  "toc": {
   "base_numbering": 1,
   "nav_menu": {},
   "number_sections": true,
   "sideBar": true,
   "skip_h1_title": false,
   "title_cell": "Table of Contents",
   "title_sidebar": "Contents",
   "toc_cell": false,
   "toc_position": {},
   "toc_section_display": true,
   "toc_window_display": false
  },
  "varInspector": {
   "cols": {
    "lenName": 16,
    "lenType": 16,
    "lenVar": 40
   },
   "kernels_config": {
    "python": {
     "delete_cmd_postfix": "",
     "delete_cmd_prefix": "del ",
     "library": "var_list.py",
     "varRefreshCmd": "print(var_dic_list())"
    },
    "r": {
     "delete_cmd_postfix": ") ",
     "delete_cmd_prefix": "rm(",
     "library": "var_list.r",
     "varRefreshCmd": "cat(var_dic_list()) "
    }
   },
   "types_to_exclude": [
    "module",
    "function",
    "builtin_function_or_method",
    "instance",
    "_Feature"
   ],
   "window_display": false
  },
  "colab": {
   "name": "10 - Advanced_RNN.ipynb",
   "provenance": [],
   "collapsed_sections": []
  }
 },
 "cells": [
  {
   "cell_type": "code",
   "metadata": {
    "id": "483OID-fQ4L_",
    "colab": {
     "base_uri": "https://localhost:8080/",
     "height": 35
    },
    "executionInfo": {
     "status": "ok",
     "timestamp": 1661130959695,
     "user_tz": -540,
     "elapsed": 3065,
     "user": {
      "displayName": "­소준섭",
      "userId": "06480402923742517511"
     }
    },
    "outputId": "7853ab73-b0ae-44f3-d1fd-5b033a0539ae",
    "ExecuteTime": {
     "end_time": "2024-01-04T05:15:18.718652Z",
     "start_time": "2024-01-04T05:15:18.667805Z"
    }
   },
   "source": [
    "import tensorflow as tf\n",
    "tf.__version__"
   ],
   "execution_count": 43,
   "outputs": [
    {
     "data": {
      "text/plain": "'2.10.0'"
     },
     "execution_count": 43,
     "metadata": {},
     "output_type": "execute_result"
    }
   ]
  },
  {
   "cell_type": "code",
   "metadata": {
    "id": "EocX6KoYQ4MC",
    "executionInfo": {
     "status": "ok",
     "timestamp": 1661130959698,
     "user_tz": -540,
     "elapsed": 18,
     "user": {
      "displayName": "­소준섭",
      "userId": "06480402923742517511"
     }
    },
    "ExecuteTime": {
     "end_time": "2024-01-04T05:15:18.764543Z",
     "start_time": "2024-01-04T05:15:18.721046Z"
    }
   },
   "source": [
    "layers = tf.keras.layers"
   ],
   "execution_count": 44,
   "outputs": []
  },
  {
   "cell_type": "markdown",
   "metadata": {
    "id": "1JCc3ptnRIq-"
   },
   "source": [
    "### RNN 테스트를 위한 더미데이터 생성"
   ]
  },
  {
   "cell_type": "code",
   "metadata": {
    "id": "vNZYM3KhQ4MF",
    "executionInfo": {
     "status": "ok",
     "timestamp": 1661130960181,
     "user_tz": -540,
     "elapsed": 498,
     "user": {
      "displayName": "­소준섭",
      "userId": "06480402923742517511"
     }
    },
    "ExecuteTime": {
     "end_time": "2024-01-04T05:15:18.765241Z",
     "start_time": "2024-01-04T05:15:18.728143Z"
    }
   },
   "source": [
    "inputs = tf.random.normal([2, 5, 4])"
   ],
   "execution_count": 45,
   "outputs": []
  },
  {
   "cell_type": "code",
   "metadata": {
    "id": "ACxPndJdf6KE",
    "colab": {
     "base_uri": "https://localhost:8080/"
    },
    "executionInfo": {
     "status": "ok",
     "timestamp": 1661130960182,
     "user_tz": -540,
     "elapsed": 17,
     "user": {
      "displayName": "­소준섭",
      "userId": "06480402923742517511"
     }
    },
    "outputId": "fad18b63-b721-456c-8b56-d1d7abfcacd2",
    "ExecuteTime": {
     "end_time": "2024-01-04T05:15:18.796594Z",
     "start_time": "2024-01-04T05:15:18.771482Z"
    }
   },
   "source": [
    "inputs # 2: batch size, 5: time step, 4: input dimension \n",
    "# 배치 시퀀스 데이타"
   ],
   "execution_count": 46,
   "outputs": [
    {
     "data": {
      "text/plain": "<tf.Tensor: shape=(2, 5, 4), dtype=float32, numpy=\narray([[[-1.3544159 ,  0.7045493 ,  0.03666191,  0.86918795],\n        [ 0.43842277, -0.53439844, -0.07710292,  1.5658046 ],\n        [-0.1012345 , -0.2744975 ,  1.420466  ,  1.2609465 ],\n        [-0.4364091 , -1.963399  , -0.06452482, -1.056841  ],\n        [ 1.0019135 ,  0.6735137 ,  0.06987705, -1.4077919 ]],\n\n       [[ 1.0278524 ,  0.2797411 , -0.01347954,  1.8451811 ],\n        [ 0.9706112 , -1.0242516 , -0.6544423 , -0.29738778],\n        [-1.3240397 ,  0.28785658, -0.87579006, -0.08856997],\n        [ 0.6921164 ,  0.842157  , -0.06378508,  0.9280078 ],\n        [-0.6039788 , -0.17669262,  0.04221032,  0.29037958]]],\n      dtype=float32)>"
     },
     "execution_count": 46,
     "metadata": {},
     "output_type": "execute_result"
    }
   ]
  },
  {
   "cell_type": "markdown",
   "metadata": {
    "id": "Dl0VO8jGRQJa"
   },
   "source": [
    "* tf.keras를 이용한 다양한 RNN layer를 구현해보자"
   ]
  },
  {
   "cell_type": "markdown",
   "metadata": {
    "id": "SiFrSekfQ4MH"
   },
   "source": [
    "## Multi-Layer RNN"
   ]
  },
  {
   "cell_type": "markdown",
   "metadata": {
    "id": "-QV1A5odQ4MI"
   },
   "source": [
    "![multilayer_rnn](https://user-images.githubusercontent.com/11681225/46912330-5fe5fd00-cfad-11e8-95c2-94bb8e7b1bf6.png)"
   ]
  },
  {
   "cell_type": "code",
   "metadata": {
    "id": "Qt7c6N-fQ4MI",
    "executionInfo": {
     "status": "ok",
     "timestamp": 1661133610155,
     "user_tz": -540,
     "elapsed": 415,
     "user": {
      "displayName": "­소준섭",
      "userId": "06480402923742517511"
     }
    },
    "ExecuteTime": {
     "end_time": "2024-01-04T05:15:18.829517Z",
     "start_time": "2024-01-04T05:15:18.801852Z"
    }
   },
   "source": [
    "model = tf.keras.Sequential()"
   ],
   "execution_count": 47,
   "outputs": []
  },
  {
   "cell_type": "code",
   "metadata": {
    "id": "TEPMfzKNQ4MM",
    "executionInfo": {
     "status": "ok",
     "timestamp": 1661133610482,
     "user_tz": -540,
     "elapsed": 7,
     "user": {
      "displayName": "­소준섭",
      "userId": "06480402923742517511"
     }
    },
    "ExecuteTime": {
     "end_time": "2024-01-04T05:15:18.842751Z",
     "start_time": "2024-01-04T05:15:18.828207Z"
    }
   },
   "source": [
    "# model.add(layers.GRU(1, return_sequences=True)) # 2, 5, 4 -> 2, 5, 1\n",
    "# model.add(layers.GRU(1, return_sequences=True)) # 2, 1\n",
    "# model.add(layers.GRU(1, return_sequences=False)) # 2, 1을 입력값을 받을 수 없다\n",
    "model.add(layers.LSTM(4, return_sequences=True)) # 2, 5, 4 -> 2, 5, 1\n",
    "model.add(layers.LSTM(4, return_sequences=False)) # 첫번째 패러미터는 output dimension 두번째 패러미터는 return_sequences"
   ],
   "execution_count": 48,
   "outputs": []
  },
  {
   "cell_type": "code",
   "metadata": {
    "id": "s75ckQVzQ4MP",
    "colab": {
     "base_uri": "https://localhost:8080/"
    },
    "executionInfo": {
     "status": "ok",
     "timestamp": 1661133611491,
     "user_tz": -540,
     "elapsed": 692,
     "user": {
      "displayName": "­소준섭",
      "userId": "06480402923742517511"
     }
    },
    "outputId": "f9c2e799-15e1-4051-bd02-7af3dc29920e",
    "ExecuteTime": {
     "end_time": "2024-01-04T05:15:19.066777Z",
     "start_time": "2024-01-04T05:15:18.835211Z"
    }
   },
   "source": [
    "model(inputs)"
   ],
   "execution_count": 49,
   "outputs": [
    {
     "data": {
      "text/plain": "<tf.Tensor: shape=(2, 4), dtype=float32, numpy=\narray([[ 0.02839978,  0.0610898 ,  0.03506647,  0.00490953],\n       [-0.00571496,  0.02157206,  0.02385934, -0.01698093]],\n      dtype=float32)>"
     },
     "execution_count": 49,
     "metadata": {},
     "output_type": "execute_result"
    }
   ]
  },
  {
   "cell_type": "code",
   "metadata": {
    "id": "X7GKW0grje69",
    "colab": {
     "base_uri": "https://localhost:8080/"
    },
    "executionInfo": {
     "status": "ok",
     "timestamp": 1661133611492,
     "user_tz": -540,
     "elapsed": 24,
     "user": {
      "displayName": "­소준섭",
      "userId": "06480402923742517511"
     }
    },
    "outputId": "e815b106-3f29-41d2-d027-c7e810368070",
    "ExecuteTime": {
     "end_time": "2024-01-04T05:15:19.071222Z",
     "start_time": "2024-01-04T05:15:19.062966Z"
    }
   },
   "source": [
    "model.summary()"
   ],
   "execution_count": 50,
   "outputs": [
    {
     "name": "stdout",
     "output_type": "stream",
     "text": [
      "Model: \"sequential_6\"\n",
      "_________________________________________________________________\n",
      " Layer (type)                Output Shape              Param #   \n",
      "=================================================================\n",
      " lstm_16 (LSTM)              (2, 5, 4)                 144       \n",
      "                                                                 \n",
      " lstm_17 (LSTM)              (2, 4)                    144       \n",
      "                                                                 \n",
      "=================================================================\n",
      "Total params: 288\n",
      "Trainable params: 288\n",
      "Non-trainable params: 0\n",
      "_________________________________________________________________\n"
     ]
    }
   ]
  },
  {
   "cell_type": "code",
   "outputs": [
    {
     "data": {
      "image/png": "[encoded data removed]",
      "text/plain": "<IPython.core.display.Image object>"
     },
     "execution_count": 51,
     "metadata": {},
     "output_type": "execute_result"
    }
   ],
   "source": [
    "tf.keras.utils.plot_model(model, show_shapes=True)\n"
   ],
   "metadata": {
    "collapsed": false,
    "ExecuteTime": {
     "end_time": "2024-01-04T05:15:19.258588Z",
     "start_time": "2024-01-04T05:15:19.072350Z"
    }
   },
   "execution_count": 51
  },
  {
   "cell_type": "markdown",
   "metadata": {
    "id": "iLko8dm6Q4MR"
   },
   "source": [
    "## Bi-directional RNN"
   ]
  },
  {
   "cell_type": "markdown",
   "metadata": {
    "id": "PolaGks5Q4MS"
   },
   "source": [
    "![bidirectional_rnn](https://user-images.githubusercontent.com/11681225/46912324-3d53e400-cfad-11e8-8b09-85d8ebdb0e66.png)"
   ]
  },
  {
   "cell_type": "code",
   "metadata": {
    "id": "MMHF7xQuQ4MU",
    "executionInfo": {
     "status": "ok",
     "timestamp": 1661130961179,
     "user_tz": -540,
     "elapsed": 7,
     "user": {
      "displayName": "­소준섭",
      "userId": "06480402923742517511"
     }
    },
    "ExecuteTime": {
     "end_time": "2024-01-04T05:15:19.265458Z",
     "start_time": "2024-01-04T05:15:19.258221Z"
    }
   },
   "source": [
    "model = tf.keras.Sequential()"
   ],
   "execution_count": 52,
   "outputs": []
  },
  {
   "cell_type": "code",
   "metadata": {
    "id": "MmBK-71qQ4MY",
    "executionInfo": {
     "status": "ok",
     "timestamp": 1661130961579,
     "user_tz": -540,
     "elapsed": 406,
     "user": {
      "displayName": "­소준섭",
      "userId": "06480402923742517511"
     }
    },
    "ExecuteTime": {
     "end_time": "2024-01-04T05:15:19.286572Z",
     "start_time": "2024-01-04T05:15:19.272768Z"
    }
   },
   "source": [
    "model.add(layers.Bidirectional(layers.LSTM(1, return_sequences=True)))\n",
    "model.add(layers.Bidirectional(layers.LSTM(1, return_sequences=True)))\n",
    "model.add(layers.Bidirectional(layers.LSTM(1)))"
   ],
   "execution_count": 53,
   "outputs": []
  },
  {
   "cell_type": "code",
   "metadata": {
    "id": "JfrRNRfbQ4Md",
    "colab": {
     "base_uri": "https://localhost:8080/"
    },
    "executionInfo": {
     "status": "ok",
     "timestamp": 1661130964594,
     "user_tz": -540,
     "elapsed": 3020,
     "user": {
      "displayName": "­소준섭",
      "userId": "06480402923742517511"
     }
    },
    "outputId": "cc296353-5c22-44d5-f67b-79cf41cab4bb",
    "ExecuteTime": {
     "end_time": "2024-01-04T05:15:19.730046Z",
     "start_time": "2024-01-04T05:15:19.284955Z"
    }
   },
   "source": [
    "model(inputs)"
   ],
   "execution_count": 54,
   "outputs": [
    {
     "data": {
      "text/plain": "<tf.Tensor: shape=(2, 2), dtype=float32, numpy=\narray([[-0.0250258 ,  0.13888897],\n       [-0.01231779,  0.1491712 ]], dtype=float32)>"
     },
     "execution_count": 54,
     "metadata": {},
     "output_type": "execute_result"
    }
   ]
  },
  {
   "cell_type": "code",
   "metadata": {
    "id": "3dwRdBhlQ4Mi",
    "colab": {
     "base_uri": "https://localhost:8080/"
    },
    "executionInfo": {
     "status": "ok",
     "timestamp": 1661130964595,
     "user_tz": -540,
     "elapsed": 25,
     "user": {
      "displayName": "­소준섭",
      "userId": "06480402923742517511"
     }
    },
    "outputId": "287de7b8-adbb-4eef-a69f-8d5d23fc3b7d",
    "ExecuteTime": {
     "end_time": "2024-01-04T05:15:19.737570Z",
     "start_time": "2024-01-04T05:15:19.726627Z"
    }
   },
   "source": [
    "model.summary()"
   ],
   "execution_count": 55,
   "outputs": [
    {
     "name": "stdout",
     "output_type": "stream",
     "text": [
      "Model: \"sequential_7\"\n",
      "_________________________________________________________________\n",
      " Layer (type)                Output Shape              Param #   \n",
      "=================================================================\n",
      " bidirectional_9 (Bidirectio  (2, 5, 2)                48        \n",
      " nal)                                                            \n",
      "                                                                 \n",
      " bidirectional_10 (Bidirecti  (2, 5, 2)                32        \n",
      " onal)                                                           \n",
      "                                                                 \n",
      " bidirectional_11 (Bidirecti  (2, 2)                   32        \n",
      " onal)                                                           \n",
      "                                                                 \n",
      "=================================================================\n",
      "Total params: 112\n",
      "Trainable params: 112\n",
      "Non-trainable params: 0\n",
      "_________________________________________________________________\n"
     ]
    }
   ]
  },
  {
   "cell_type": "code",
   "metadata": {
    "id": "SRHWH3TcQ4Ml",
    "executionInfo": {
     "status": "ok",
     "timestamp": 1661130964596,
     "user_tz": -540,
     "elapsed": 10,
     "user": {
      "displayName": "­소준섭",
      "userId": "06480402923742517511"
     }
    },
    "ExecuteTime": {
     "end_time": "2024-01-04T05:15:19.738795Z",
     "start_time": "2024-01-04T05:15:19.737282Z"
    }
   },
   "source": [],
   "execution_count": 55,
   "outputs": []
  },
  {
   "cell_type": "code",
   "metadata": {
    "id": "2QfMg_eCQ4Mo",
    "executionInfo": {
     "status": "ok",
     "timestamp": 1661130964597,
     "user_tz": -540,
     "elapsed": 10,
     "user": {
      "displayName": "­소준섭",
      "userId": "06480402923742517511"
     }
    },
    "ExecuteTime": {
     "end_time": "2024-01-04T05:15:19.748768Z",
     "start_time": "2024-01-04T05:15:19.738636Z"
    }
   },
   "source": [],
   "execution_count": 55,
   "outputs": []
  }
 ]
}
