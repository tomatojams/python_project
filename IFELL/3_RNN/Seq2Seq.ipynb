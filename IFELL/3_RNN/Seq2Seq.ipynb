{
 "cells": [
  {
   "cell_type": "code",
   "execution_count": 1,
   "id": "initial_id",
   "metadata": {
    "collapsed": true,
    "ExecuteTime": {
     "end_time": "2024-01-08T06:42:52.194837Z",
     "start_time": "2024-01-08T06:42:48.067279Z"
    }
   },
   "outputs": [
    {
     "name": "stdout",
     "output_type": "stream",
     "text": [
      "2.10.0\n"
     ]
    }
   ],
   "source": [
    "from __future__ import absolute_import, division, print_function\n",
    "\n",
    "import tensorflow as tf\n",
    "\n",
    "import matplotlib.pyplot as plt\n",
    "\n",
    "from sklearn.model_selection import train_test_split\n",
    "from tensorflow import keras\n",
    "from tensorflow.keras.preprocessing.sequence import pad_sequences\n",
    "\n",
    "from pprint import pprint\n",
    "import numpy as np\n",
    "import os\n",
    "368\n",
    "print(tf.__version__)"
   ]
  },
  {
   "cell_type": "code",
   "outputs": [],
   "source": [
    "sources = [['I', 'feel', 'hungry'],\n",
    "           ['tensorflow', 'is', 'very', 'difficult'],\n",
    "           ['tensorflow', 'is', 'a', 'framework', 'for', 'deep', 'learning'],\n",
    "           ['tensorflow', 'is', 'very', 'fast', 'changing']]\n",
    "targets = [['나는', '배가', '고프다'],\n",
    "           ['텐서플로우는', '매우', '어렵다'],\n",
    "           ['텐서플로우는', '딥러닝을', '위한', '프레임워크이다'],\n",
    "           ['텐서플로우는', '매우', '빠르게', '변화한다']]"
   ],
   "metadata": {
    "collapsed": false,
    "ExecuteTime": {
     "end_time": "2024-01-08T06:42:52.197029Z",
     "start_time": "2024-01-08T06:42:52.182727Z"
    }
   },
   "id": "d298667bf4a367f7",
   "execution_count": 2
  },
  {
   "cell_type": "code",
   "outputs": [],
   "source": [
    "s_vocab = list(set(sum(sources, [])))\n",
    "s_vocab.sort()\n",
    "s_vocab = ['<pad>'] + s_vocab\n",
    "source2idx = {word:idx for idx,word in enumerate(s_vocab)}\n",
    "idx2source = {idx:word for idx,word in enumerate(s_vocab)}"
   ],
   "metadata": {
    "collapsed": false,
    "ExecuteTime": {
     "end_time": "2024-01-08T06:46:35.849480Z",
     "start_time": "2024-01-08T06:46:35.823009Z"
    }
   },
   "id": "30452247383d1b0e",
   "execution_count": 10
  },
  {
   "cell_type": "code",
   "outputs": [
    {
     "name": "stdout",
     "output_type": "stream",
     "text": [
      "{'<bos>': 1,\n",
      " '<eos>': 2,\n",
      " '<pad>': 0,\n",
      " '고프다': 3,\n",
      " '나는': 4,\n",
      " '딥러닝을': 5,\n",
      " '매우': 6,\n",
      " '배가': 7,\n",
      " '변화한다': 8,\n",
      " '빠르게': 9,\n",
      " '어렵다': 10,\n",
      " '위한': 11,\n",
      " '텐서플로우는': 12,\n",
      " '프레임워크이다': 13}\n"
     ]
    }
   ],
   "source": [
    "t_vocab = list(set(sum(targets,[])))\n",
    "t_vocab.sort()\n",
    "t_vocab = ['<pad>','<bos>','<eos>']+t_vocab\n",
    "target2idx = { word:idx for idx,word in enumerate(t_vocab)}\n",
    "idx2target = {idx:word for idx,word in enumerate(t_vocab)}\n",
    "\n",
    "pprint(target2idx)"
   ],
   "metadata": {
    "collapsed": false,
    "ExecuteTime": {
     "end_time": "2024-01-08T06:46:36.294783Z",
     "start_time": "2024-01-08T06:46:36.277161Z"
    }
   },
   "id": "9415c746f19e6777",
   "execution_count": 11
  },
  {
   "cell_type": "code",
   "outputs": [],
   "source": [
    "def preprocess(seqences, max_len, dic, mode = 'source'):\n",
    "    assert mode in ['source', 'target']\n",
    "    \n",
    "    if mode == 'source':\n",
    "        s_input = list(map(lambda sentence :[ dic.get(token) for token in sentence], seqences))\n",
    "        "
   ],
   "metadata": {
    "collapsed": false,
    "ExecuteTime": {
     "end_time": "2024-01-08T06:42:52.629646Z",
     "start_time": "2024-01-08T06:42:52.628075Z"
    }
   },
   "id": "fec626292c96bc39"
  }
 ],
 "metadata": {
  "kernelspec": {
   "display_name": "Python 3",
   "language": "python",
   "name": "python3"
  },
  "language_info": {
   "codemirror_mode": {
    "name": "ipython",
    "version": 2
   },
   "file_extension": ".py",
   "mimetype": "text/x-python",
   "name": "python",
   "nbconvert_exporter": "python",
   "pygments_lexer": "ipython2",
   "version": "2.7.6"
  }
 },
 "nbformat": 4,
 "nbformat_minor": 5
}
