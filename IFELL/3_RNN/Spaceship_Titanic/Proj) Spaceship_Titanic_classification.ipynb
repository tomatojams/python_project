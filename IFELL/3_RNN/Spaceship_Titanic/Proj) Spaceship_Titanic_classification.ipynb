{
 "cells": [
  {
   "cell_type": "markdown",
   "metadata": {
    "id": "HkdCZ8yVq5Ya"
   },
   "source": [
    "# Spaceship Titanic with DL\n",
    "### 배경\n",
    "* 우주의 미스터리를 풀기 위해 데이터 과학 기술이 필요한 2912년에 오신 것을 환영합니다. 4광년 떨어진 곳에서 전송을 받았는데 상태가 좋지 않습니다.\n",
    "\n",
    "* 우주선 타이타닉은 한 달 전에 발사된 성간 여객선이었습니다. 약 13,000명의 승객을 태운 이 선박은 우리 태양계에서 가까운 별을 도는 새로 거주 가능한 세 개의 외계 행성으로 이민자들을 수송하는 첫 항해를 시작했습니다.\n",
    "\n",
    "* 첫 번째 목적지인 55 Cancri E로 가는 도중 Alpha Centauri를 돌던 중 부주의한 우주선 Titanic이 먼지 구름 속에 숨겨진 시공간 변칙과 충돌했습니다. 안타깝게도 1000년 전의 이름과 비슷한 운명을 맞이했습니다. 배는 온전했지만 승객의 거의 절반이 다른 차원으로 이동했습니다!\n",
    "\n",
    "### 데이터 정보\n",
    "* *PassengerId*\n",
    "    - 각 승객의 고유 ID. 각 Id는 승객이 함께 여행하는 그룹을 나타내고 그룹 내의 번호를 나타내는 형식을 취합니다 . 그룹의 사람들은 종종 가족 구성원이지만 항상 그런 것은 아닙니다.\n",
    "\n",
    "* *HomePlanet*\n",
    "    - 승객이 출발한 행성으로, 일반적으로 승객이 거주하는 행성입니다.\n",
    "\n",
    "* *CryoSleep*\n",
    "    - 승객이 항해 기간 동안 냉동 수면 선택했는지 여부를 나타냅니다. cryosleep의 승객은 객실에 갇혀 있습니다.\n",
    "\n",
    "* *Cabin*\n",
    "    - 승객이 머무르는 캐빈 번호. 형식을 취합니다 deck/num/side. 여기 에서 Port 또는 Starboard 가 side될 수 있습니다.\n",
    "\n",
    "* *Destination*\n",
    "    - 승객이 내릴 행성.\n",
    "\n",
    "* *Age*\n",
    "    - 승객의 나이.\n",
    "\n",
    "* *VIP*\n",
    "    - 승객이 항해 중 특별 VIP 서비스 비용을 지불했는지 여부.\n",
    "\n",
    "* *RoomService, FoodCourt, ShoppingMall, Spa, VRDeck*\n",
    "    - 승객이 Spaceship Titanic 의 다양한 고급 편의 시설 각각에 대해 청구한 금액입니다.\n",
    "\n",
    "* *Name*\n",
    "    - 승객의 성과 이름.\n",
    "\n",
    "* *Transported*\n",
    "    - 승객이 다른 차원으로 이동했는지 여부. 정답 데이터입니다."
   ]
  },
  {
   "cell_type": "markdown",
   "metadata": {
    "id": "RX01utZISK6r"
   },
   "source": [
    "## import library"
   ]
  },
  {
   "cell_type": "code",
   "execution_count": 25,
   "metadata": {
    "id": "Q8rWBE5W_YKL",
    "ExecuteTime": {
     "end_time": "2024-01-08T15:00:43.975577900Z",
     "start_time": "2024-01-08T15:00:43.799395600Z"
    }
   },
   "outputs": [],
   "source": [
    "import pandas as pd\n",
    "import tensorflow as tf"
   ]
  },
  {
   "cell_type": "markdown",
   "metadata": {
    "id": "cf6id6YUq8ie"
   },
   "source": [
    "## Data Load\n",
    "### Read CSV files wit pandas"
   ]
  },
  {
   "cell_type": "code",
   "execution_count": 26,
   "metadata": {
    "id": "QqQ-lH0jArMP",
    "ExecuteTime": {
     "end_time": "2024-01-08T15:00:44.019093200Z",
     "start_time": "2024-01-08T15:00:43.961066800Z"
    }
   },
   "outputs": [],
   "source": [
    "train_data = pd.read_csv(\"spaceship_titanic_train_data.csv\")\n",
    "train_labels = pd.read_csv(\"spaceship_titanic_train_labels.csv\")\n",
    "\n",
    "test_data = pd.read_csv(\"spaceship_titanic_test_data.csv\")\n",
    "test_labels = pd.read_csv(\"spaceship_titanic_test_labels.csv\")\n",
    "\n",
    "train = pd.concat([train_data, train_labels], axis=1)\n",
    "test = pd.concat([test_data, test_labels], axis=1)"
   ]
  },
  {
   "cell_type": "markdown",
   "metadata": {
    "id": "hyXdPwEYq-2m"
   },
   "source": [
    "### Preprocessing\n",
    "* 결측치 제거 후 데이터 로더에 연결"
   ]
  },
  {
   "cell_type": "code",
   "execution_count": 27,
   "metadata": {
    "id": "eH2xjgpaDDny",
    "ExecuteTime": {
     "end_time": "2024-01-08T15:00:44.024092900Z",
     "start_time": "2024-01-08T15:00:44.000090500Z"
    }
   },
   "outputs": [
    {
     "name": "stderr",
     "output_type": "stream",
     "text": [
      "F:\\Soma\\temp\\ipykernel_12620\\1631429711.py:1: FutureWarning: DataFrame.fillna with 'method' is deprecated and will raise in a future version. Use obj.ffill() or obj.bfill() instead.\n",
      "  train = train.fillna(method='bfill')\n",
      "F:\\Soma\\temp\\ipykernel_12620\\1631429711.py:2: FutureWarning: DataFrame.fillna with 'method' is deprecated and will raise in a future version. Use obj.ffill() or obj.bfill() instead.\n",
      "  test = test.fillna(method='bfill')\n"
     ]
    }
   ],
   "source": [
    "train = train.fillna(method='bfill')\n",
    "test = test.fillna(method='bfill')"
   ]
  },
  {
   "cell_type": "code",
   "execution_count": 28,
   "metadata": {
    "id": "nybFLD29Eclv",
    "ExecuteTime": {
     "end_time": "2024-01-08T15:00:44.084627900Z",
     "start_time": "2024-01-08T15:00:44.018091800Z"
    }
   },
   "outputs": [
    {
     "data": {
      "text/plain": "PassengerId      object\nHomePlanet       object\nCryoSleep          bool\nCabin            object\nDestination      object\nAge             float64\nVIP                bool\nRoomService     float64\nFoodCourt       float64\nShoppingMall    float64\nSpa             float64\nVRDeck          float64\nName             object\nTransported        bool\ndtype: object"
     },
     "execution_count": 28,
     "metadata": {},
     "output_type": "execute_result"
    }
   ],
   "source": [
    "train.dtypes"
   ]
  },
  {
   "cell_type": "code",
   "execution_count": 29,
   "metadata": {
    "id": "fw7o34_HGrNw",
    "ExecuteTime": {
     "end_time": "2024-01-08T15:00:44.109627200Z",
     "start_time": "2024-01-08T15:00:44.031090900Z"
    }
   },
   "outputs": [],
   "source": [
    "# 일부 dtype은 tensor로 변경 불가\n",
    "train['HomePlanet'] = train['HomePlanet'].astype('category')\n",
    "train['CryoSleep'] = train['CryoSleep'].map({True: 1, False: 0})\n",
    "train['VIP'] = train['VIP'].astype('string')\n",
    "train['Transported'] = train['Transported'].astype('int')\n",
    "\n",
    "test['HomePlanet'] = test['HomePlanet'].astype('category')\n",
    "test['CryoSleep'] = test['CryoSleep'].map({True: 1, False: 0})\n",
    "test['VIP'] = test['VIP'].astype('string')\n",
    "test['Transported'] = test['Transported'].astype('int')"
   ]
  },
  {
   "cell_type": "code",
   "execution_count": 30,
   "metadata": {
    "id": "3wGlcJLVHQI5",
    "ExecuteTime": {
     "end_time": "2024-01-08T15:00:44.156269200Z",
     "start_time": "2024-01-08T15:00:44.088628700Z"
    }
   },
   "outputs": [
    {
     "data": {
      "text/plain": "     PassengerId HomePlanet  CryoSleep     Cabin    Destination   Age    VIP  \\\n0        2513_01      Earth          0   F/575/P    TRAPPIST-1e  28.0  False   \n1        2774_02      Earth          0   F/575/P    TRAPPIST-1e  17.0  False   \n2        8862_04     Europa          1   C/329/S    55 Cancri e  28.0  False   \n3        8736_02       Mars          0  F/1800/P    TRAPPIST-1e  20.0  False   \n4        0539_02     Europa          1    C/18/P    55 Cancri e  36.0  False   \n...          ...        ...        ...       ...            ...   ...    ...   \n6949     6076_01      Earth          0   G/988/S    TRAPPIST-1e  18.0  False   \n6950     5537_01       Mars          0  F/1063/S    TRAPPIST-1e  50.0  False   \n6951     5756_06      Earth          0  F/1194/P  PSO J318.5-22  22.0  False   \n6952     0925_01       Mars          0   F/191/P    TRAPPIST-1e  34.0  False   \n6953     7775_01     Europa          0   C/253/P    55 Cancri e  28.0  False   \n\n      RoomService  FoodCourt  ShoppingMall    Spa  VRDeck                Name  \\\n0             0.0       55.0           0.0  656.0     0.0      Loree Mathison   \n1             0.0     1195.0          31.0    0.0     0.0   Crisey Mcbriddley   \n2             0.0        0.0           0.0    0.0     0.0      Alramix Myling   \n3             0.0        2.0         289.0  976.0     0.0           Tros Pota   \n4             0.0        0.0           0.0    0.0     0.0      Achyon Nalanet   \n...           ...        ...           ...    ...     ...                 ...   \n6949         14.0        2.0         144.0  610.0     0.0        Therry Cames   \n6950        690.0        0.0          30.0  762.0   428.0         Herms Bancy   \n6951        158.0        0.0         476.0    0.0    26.0    Karena Briggston   \n6952        379.0        0.0        1626.0    0.0     0.0          Skix Kraie   \n6953          7.0      489.0           0.0    4.0  6027.0  Alraium Disivering   \n\n      Transported  \n0               0  \n1               0  \n2               1  \n3               1  \n4               1  \n...           ...  \n6949            1  \n6950            0  \n6951            0  \n6952            0  \n6953            0  \n\n[6954 rows x 14 columns]",
      "text/html": "<div>\n<style scoped>\n    .dataframe tbody tr th:only-of-type {\n        vertical-align: middle;\n    }\n\n    .dataframe tbody tr th {\n        vertical-align: top;\n    }\n\n    .dataframe thead th {\n        text-align: right;\n    }\n</style>\n<table border=\"1\" class=\"dataframe\">\n  <thead>\n    <tr style=\"text-align: right;\">\n      <th></th>\n      <th>PassengerId</th>\n      <th>HomePlanet</th>\n      <th>CryoSleep</th>\n      <th>Cabin</th>\n      <th>Destination</th>\n      <th>Age</th>\n      <th>VIP</th>\n      <th>RoomService</th>\n      <th>FoodCourt</th>\n      <th>ShoppingMall</th>\n      <th>Spa</th>\n      <th>VRDeck</th>\n      <th>Name</th>\n      <th>Transported</th>\n    </tr>\n  </thead>\n  <tbody>\n    <tr>\n      <th>0</th>\n      <td>2513_01</td>\n      <td>Earth</td>\n      <td>0</td>\n      <td>F/575/P</td>\n      <td>TRAPPIST-1e</td>\n      <td>28.0</td>\n      <td>False</td>\n      <td>0.0</td>\n      <td>55.0</td>\n      <td>0.0</td>\n      <td>656.0</td>\n      <td>0.0</td>\n      <td>Loree Mathison</td>\n      <td>0</td>\n    </tr>\n    <tr>\n      <th>1</th>\n      <td>2774_02</td>\n      <td>Earth</td>\n      <td>0</td>\n      <td>F/575/P</td>\n      <td>TRAPPIST-1e</td>\n      <td>17.0</td>\n      <td>False</td>\n      <td>0.0</td>\n      <td>1195.0</td>\n      <td>31.0</td>\n      <td>0.0</td>\n      <td>0.0</td>\n      <td>Crisey Mcbriddley</td>\n      <td>0</td>\n    </tr>\n    <tr>\n      <th>2</th>\n      <td>8862_04</td>\n      <td>Europa</td>\n      <td>1</td>\n      <td>C/329/S</td>\n      <td>55 Cancri e</td>\n      <td>28.0</td>\n      <td>False</td>\n      <td>0.0</td>\n      <td>0.0</td>\n      <td>0.0</td>\n      <td>0.0</td>\n      <td>0.0</td>\n      <td>Alramix Myling</td>\n      <td>1</td>\n    </tr>\n    <tr>\n      <th>3</th>\n      <td>8736_02</td>\n      <td>Mars</td>\n      <td>0</td>\n      <td>F/1800/P</td>\n      <td>TRAPPIST-1e</td>\n      <td>20.0</td>\n      <td>False</td>\n      <td>0.0</td>\n      <td>2.0</td>\n      <td>289.0</td>\n      <td>976.0</td>\n      <td>0.0</td>\n      <td>Tros Pota</td>\n      <td>1</td>\n    </tr>\n    <tr>\n      <th>4</th>\n      <td>0539_02</td>\n      <td>Europa</td>\n      <td>1</td>\n      <td>C/18/P</td>\n      <td>55 Cancri e</td>\n      <td>36.0</td>\n      <td>False</td>\n      <td>0.0</td>\n      <td>0.0</td>\n      <td>0.0</td>\n      <td>0.0</td>\n      <td>0.0</td>\n      <td>Achyon Nalanet</td>\n      <td>1</td>\n    </tr>\n    <tr>\n      <th>...</th>\n      <td>...</td>\n      <td>...</td>\n      <td>...</td>\n      <td>...</td>\n      <td>...</td>\n      <td>...</td>\n      <td>...</td>\n      <td>...</td>\n      <td>...</td>\n      <td>...</td>\n      <td>...</td>\n      <td>...</td>\n      <td>...</td>\n      <td>...</td>\n    </tr>\n    <tr>\n      <th>6949</th>\n      <td>6076_01</td>\n      <td>Earth</td>\n      <td>0</td>\n      <td>G/988/S</td>\n      <td>TRAPPIST-1e</td>\n      <td>18.0</td>\n      <td>False</td>\n      <td>14.0</td>\n      <td>2.0</td>\n      <td>144.0</td>\n      <td>610.0</td>\n      <td>0.0</td>\n      <td>Therry Cames</td>\n      <td>1</td>\n    </tr>\n    <tr>\n      <th>6950</th>\n      <td>5537_01</td>\n      <td>Mars</td>\n      <td>0</td>\n      <td>F/1063/S</td>\n      <td>TRAPPIST-1e</td>\n      <td>50.0</td>\n      <td>False</td>\n      <td>690.0</td>\n      <td>0.0</td>\n      <td>30.0</td>\n      <td>762.0</td>\n      <td>428.0</td>\n      <td>Herms Bancy</td>\n      <td>0</td>\n    </tr>\n    <tr>\n      <th>6951</th>\n      <td>5756_06</td>\n      <td>Earth</td>\n      <td>0</td>\n      <td>F/1194/P</td>\n      <td>PSO J318.5-22</td>\n      <td>22.0</td>\n      <td>False</td>\n      <td>158.0</td>\n      <td>0.0</td>\n      <td>476.0</td>\n      <td>0.0</td>\n      <td>26.0</td>\n      <td>Karena Briggston</td>\n      <td>0</td>\n    </tr>\n    <tr>\n      <th>6952</th>\n      <td>0925_01</td>\n      <td>Mars</td>\n      <td>0</td>\n      <td>F/191/P</td>\n      <td>TRAPPIST-1e</td>\n      <td>34.0</td>\n      <td>False</td>\n      <td>379.0</td>\n      <td>0.0</td>\n      <td>1626.0</td>\n      <td>0.0</td>\n      <td>0.0</td>\n      <td>Skix Kraie</td>\n      <td>0</td>\n    </tr>\n    <tr>\n      <th>6953</th>\n      <td>7775_01</td>\n      <td>Europa</td>\n      <td>0</td>\n      <td>C/253/P</td>\n      <td>55 Cancri e</td>\n      <td>28.0</td>\n      <td>False</td>\n      <td>7.0</td>\n      <td>489.0</td>\n      <td>0.0</td>\n      <td>4.0</td>\n      <td>6027.0</td>\n      <td>Alraium Disivering</td>\n      <td>0</td>\n    </tr>\n  </tbody>\n</table>\n<p>6954 rows × 14 columns</p>\n</div>"
     },
     "execution_count": 30,
     "metadata": {},
     "output_type": "execute_result"
    }
   ],
   "source": [
    "train"
   ]
  },
  {
   "cell_type": "code",
   "execution_count": 31,
   "metadata": {
    "id": "C0ezeuYr2d-F",
    "ExecuteTime": {
     "end_time": "2024-01-08T15:00:44.161267800Z",
     "start_time": "2024-01-08T15:00:44.130627400Z"
    }
   },
   "outputs": [
    {
     "data": {
      "text/plain": "     PassengerId HomePlanet  CryoSleep     Cabin  Destination   Age    VIP  \\\n0        0337_02       Mars          0    F/63/S  TRAPPIST-1e  19.0  False   \n1        2891_01      Earth          0   G/460/S  TRAPPIST-1e  18.0  False   \n2        8998_01      Earth          1  G/1449/S  TRAPPIST-1e  41.0  False   \n3        1771_01      Earth          0   G/291/P  TRAPPIST-1e  35.0  False   \n4        9034_02     Europa          1   D/288/P  TRAPPIST-1e  43.0  False   \n...          ...        ...        ...       ...          ...   ...    ...   \n1734     7656_01      Earth          1  G/1244/S  TRAPPIST-1e  16.0  False   \n1735     3437_02      Earth          1   G/553/S  TRAPPIST-1e   0.0  False   \n1736     1384_01      Earth          0   E/105/S  TRAPPIST-1e  17.0  False   \n1737     6300_01       Mars          1  F/1303/P  TRAPPIST-1e  42.0  False   \n1738     6442_01      Earth          0  G/1045/S  TRAPPIST-1e  17.0  False   \n\n      RoomService  FoodCourt  ShoppingMall     Spa  VRDeck  \\\n0           417.0      349.0         634.0     3.0  1057.0   \n1             4.0      904.0           0.0     0.0     1.0   \n2             0.0        0.0           0.0     0.0     0.0   \n3             0.0      338.0         436.0     0.0     0.0   \n4             0.0        0.0           0.0     0.0     0.0   \n...           ...        ...           ...     ...     ...   \n1734          0.0        0.0           0.0     0.0     0.0   \n1735          0.0        0.0           0.0     0.0     0.0   \n1736         21.0        0.0         690.0   260.0     5.0   \n1737          0.0        0.0           0.0     0.0     0.0   \n1738          0.0        0.0           0.0  1806.0     0.0   \n\n                    Name  Transported  \n0            Weros Perle            1  \n1     Gleney Ortinericey            0  \n2         Gerry Englence            0  \n3         Antone Cardner            1  \n4        Errairk Crakete            1  \n...                  ...          ...  \n1734       Moniey Belley            0  \n1735         Carly Pager            1  \n1736       Violan Mayods            0  \n1737          Risps Pure            1  \n1738  Camiet Gainebergan            0  \n\n[1739 rows x 14 columns]",
      "text/html": "<div>\n<style scoped>\n    .dataframe tbody tr th:only-of-type {\n        vertical-align: middle;\n    }\n\n    .dataframe tbody tr th {\n        vertical-align: top;\n    }\n\n    .dataframe thead th {\n        text-align: right;\n    }\n</style>\n<table border=\"1\" class=\"dataframe\">\n  <thead>\n    <tr style=\"text-align: right;\">\n      <th></th>\n      <th>PassengerId</th>\n      <th>HomePlanet</th>\n      <th>CryoSleep</th>\n      <th>Cabin</th>\n      <th>Destination</th>\n      <th>Age</th>\n      <th>VIP</th>\n      <th>RoomService</th>\n      <th>FoodCourt</th>\n      <th>ShoppingMall</th>\n      <th>Spa</th>\n      <th>VRDeck</th>\n      <th>Name</th>\n      <th>Transported</th>\n    </tr>\n  </thead>\n  <tbody>\n    <tr>\n      <th>0</th>\n      <td>0337_02</td>\n      <td>Mars</td>\n      <td>0</td>\n      <td>F/63/S</td>\n      <td>TRAPPIST-1e</td>\n      <td>19.0</td>\n      <td>False</td>\n      <td>417.0</td>\n      <td>349.0</td>\n      <td>634.0</td>\n      <td>3.0</td>\n      <td>1057.0</td>\n      <td>Weros Perle</td>\n      <td>1</td>\n    </tr>\n    <tr>\n      <th>1</th>\n      <td>2891_01</td>\n      <td>Earth</td>\n      <td>0</td>\n      <td>G/460/S</td>\n      <td>TRAPPIST-1e</td>\n      <td>18.0</td>\n      <td>False</td>\n      <td>4.0</td>\n      <td>904.0</td>\n      <td>0.0</td>\n      <td>0.0</td>\n      <td>1.0</td>\n      <td>Gleney Ortinericey</td>\n      <td>0</td>\n    </tr>\n    <tr>\n      <th>2</th>\n      <td>8998_01</td>\n      <td>Earth</td>\n      <td>1</td>\n      <td>G/1449/S</td>\n      <td>TRAPPIST-1e</td>\n      <td>41.0</td>\n      <td>False</td>\n      <td>0.0</td>\n      <td>0.0</td>\n      <td>0.0</td>\n      <td>0.0</td>\n      <td>0.0</td>\n      <td>Gerry Englence</td>\n      <td>0</td>\n    </tr>\n    <tr>\n      <th>3</th>\n      <td>1771_01</td>\n      <td>Earth</td>\n      <td>0</td>\n      <td>G/291/P</td>\n      <td>TRAPPIST-1e</td>\n      <td>35.0</td>\n      <td>False</td>\n      <td>0.0</td>\n      <td>338.0</td>\n      <td>436.0</td>\n      <td>0.0</td>\n      <td>0.0</td>\n      <td>Antone Cardner</td>\n      <td>1</td>\n    </tr>\n    <tr>\n      <th>4</th>\n      <td>9034_02</td>\n      <td>Europa</td>\n      <td>1</td>\n      <td>D/288/P</td>\n      <td>TRAPPIST-1e</td>\n      <td>43.0</td>\n      <td>False</td>\n      <td>0.0</td>\n      <td>0.0</td>\n      <td>0.0</td>\n      <td>0.0</td>\n      <td>0.0</td>\n      <td>Errairk Crakete</td>\n      <td>1</td>\n    </tr>\n    <tr>\n      <th>...</th>\n      <td>...</td>\n      <td>...</td>\n      <td>...</td>\n      <td>...</td>\n      <td>...</td>\n      <td>...</td>\n      <td>...</td>\n      <td>...</td>\n      <td>...</td>\n      <td>...</td>\n      <td>...</td>\n      <td>...</td>\n      <td>...</td>\n      <td>...</td>\n    </tr>\n    <tr>\n      <th>1734</th>\n      <td>7656_01</td>\n      <td>Earth</td>\n      <td>1</td>\n      <td>G/1244/S</td>\n      <td>TRAPPIST-1e</td>\n      <td>16.0</td>\n      <td>False</td>\n      <td>0.0</td>\n      <td>0.0</td>\n      <td>0.0</td>\n      <td>0.0</td>\n      <td>0.0</td>\n      <td>Moniey Belley</td>\n      <td>0</td>\n    </tr>\n    <tr>\n      <th>1735</th>\n      <td>3437_02</td>\n      <td>Earth</td>\n      <td>1</td>\n      <td>G/553/S</td>\n      <td>TRAPPIST-1e</td>\n      <td>0.0</td>\n      <td>False</td>\n      <td>0.0</td>\n      <td>0.0</td>\n      <td>0.0</td>\n      <td>0.0</td>\n      <td>0.0</td>\n      <td>Carly Pager</td>\n      <td>1</td>\n    </tr>\n    <tr>\n      <th>1736</th>\n      <td>1384_01</td>\n      <td>Earth</td>\n      <td>0</td>\n      <td>E/105/S</td>\n      <td>TRAPPIST-1e</td>\n      <td>17.0</td>\n      <td>False</td>\n      <td>21.0</td>\n      <td>0.0</td>\n      <td>690.0</td>\n      <td>260.0</td>\n      <td>5.0</td>\n      <td>Violan Mayods</td>\n      <td>0</td>\n    </tr>\n    <tr>\n      <th>1737</th>\n      <td>6300_01</td>\n      <td>Mars</td>\n      <td>1</td>\n      <td>F/1303/P</td>\n      <td>TRAPPIST-1e</td>\n      <td>42.0</td>\n      <td>False</td>\n      <td>0.0</td>\n      <td>0.0</td>\n      <td>0.0</td>\n      <td>0.0</td>\n      <td>0.0</td>\n      <td>Risps Pure</td>\n      <td>1</td>\n    </tr>\n    <tr>\n      <th>1738</th>\n      <td>6442_01</td>\n      <td>Earth</td>\n      <td>0</td>\n      <td>G/1045/S</td>\n      <td>TRAPPIST-1e</td>\n      <td>17.0</td>\n      <td>False</td>\n      <td>0.0</td>\n      <td>0.0</td>\n      <td>0.0</td>\n      <td>1806.0</td>\n      <td>0.0</td>\n      <td>Camiet Gainebergan</td>\n      <td>0</td>\n    </tr>\n  </tbody>\n</table>\n<p>1739 rows × 14 columns</p>\n</div>"
     },
     "execution_count": 31,
     "metadata": {},
     "output_type": "execute_result"
    }
   ],
   "source": [
    "test"
   ]
  },
  {
   "cell_type": "markdown",
   "metadata": {
    "id": "wzJVBgxt5GDD"
   },
   "source": [
    "### Data Loader"
   ]
  },
  {
   "cell_type": "code",
   "execution_count": 32,
   "metadata": {
    "id": "syVaa2MM5IxY",
    "ExecuteTime": {
     "end_time": "2024-01-08T15:00:44.195776400Z",
     "start_time": "2024-01-08T15:00:44.165270100Z"
    }
   },
   "outputs": [],
   "source": [
    "batch_size = 4\n",
    "\n",
    "def df_to_dataset(dataframe, label_name=\"Transported\", shuffle=True, batch_size=batch_size):\n",
    "    dataframe = dataframe.copy()\n",
    "    labels = dataframe.pop(label_name)\n",
    "    ds = tf.data.Dataset.from_tensor_slices((dict(dataframe), labels))\n",
    "    if shuffle:\n",
    "        ds = ds.shuffle(buffer_size=len(dataframe))\n",
    "        ds = ds.repeat()\n",
    "    ds = ds.batch(batch_size)\n",
    "\n",
    "    return ds\n"
   ]
  },
  {
   "cell_type": "code",
   "execution_count": 33,
   "metadata": {
    "id": "TFkgW_5QDgLu",
    "ExecuteTime": {
     "end_time": "2024-01-08T15:00:44.338476Z",
     "start_time": "2024-01-08T15:00:44.199778500Z"
    }
   },
   "outputs": [
    {
     "data": {
      "text/plain": "<BatchDataset element_spec=({'PassengerId': TensorSpec(shape=(None,), dtype=tf.string, name=None), 'HomePlanet': TensorSpec(shape=(None,), dtype=tf.string, name=None), 'CryoSleep': TensorSpec(shape=(None,), dtype=tf.int64, name=None), 'Cabin': TensorSpec(shape=(None,), dtype=tf.string, name=None), 'Destination': TensorSpec(shape=(None,), dtype=tf.string, name=None), 'Age': TensorSpec(shape=(None,), dtype=tf.float64, name=None), 'VIP': TensorSpec(shape=(None,), dtype=tf.string, name=None), 'RoomService': TensorSpec(shape=(None,), dtype=tf.float64, name=None), 'FoodCourt': TensorSpec(shape=(None,), dtype=tf.float64, name=None), 'ShoppingMall': TensorSpec(shape=(None,), dtype=tf.float64, name=None), 'Spa': TensorSpec(shape=(None,), dtype=tf.float64, name=None), 'VRDeck': TensorSpec(shape=(None,), dtype=tf.float64, name=None), 'Name': TensorSpec(shape=(None,), dtype=tf.string, name=None)}, TensorSpec(shape=(None,), dtype=tf.int32, name=None))>"
     },
     "execution_count": 33,
     "metadata": {},
     "output_type": "execute_result"
    }
   ],
   "source": [
    "train_ds = df_to_dataset(train)\n",
    "train_ds"
   ]
  },
  {
   "cell_type": "code",
   "execution_count": 34,
   "metadata": {
    "id": "jsWFWYz2MyNs",
    "ExecuteTime": {
     "end_time": "2024-01-08T15:00:44.445341Z",
     "start_time": "2024-01-08T15:00:44.321475500Z"
    }
   },
   "outputs": [
    {
     "data": {
      "text/plain": "<BatchDataset element_spec=({'PassengerId': TensorSpec(shape=(None,), dtype=tf.string, name=None), 'HomePlanet': TensorSpec(shape=(None,), dtype=tf.string, name=None), 'CryoSleep': TensorSpec(shape=(None,), dtype=tf.int64, name=None), 'Cabin': TensorSpec(shape=(None,), dtype=tf.string, name=None), 'Destination': TensorSpec(shape=(None,), dtype=tf.string, name=None), 'Age': TensorSpec(shape=(None,), dtype=tf.float64, name=None), 'VIP': TensorSpec(shape=(None,), dtype=tf.string, name=None), 'RoomService': TensorSpec(shape=(None,), dtype=tf.float64, name=None), 'FoodCourt': TensorSpec(shape=(None,), dtype=tf.float64, name=None), 'ShoppingMall': TensorSpec(shape=(None,), dtype=tf.float64, name=None), 'Spa': TensorSpec(shape=(None,), dtype=tf.float64, name=None), 'VRDeck': TensorSpec(shape=(None,), dtype=tf.float64, name=None), 'Name': TensorSpec(shape=(None,), dtype=tf.string, name=None)}, TensorSpec(shape=(None,), dtype=tf.int32, name=None))>"
     },
     "execution_count": 34,
     "metadata": {},
     "output_type": "execute_result"
    }
   ],
   "source": [
    "test_ds = df_to_dataset(test, shuffle=False)\n",
    "test_ds"
   ]
  },
  {
   "cell_type": "code",
   "execution_count": 35,
   "metadata": {
    "id": "_BsMfFicHZQE",
    "ExecuteTime": {
     "end_time": "2024-01-08T15:00:44.510481Z",
     "start_time": "2024-01-08T15:00:44.386825900Z"
    }
   },
   "outputs": [
    {
     "name": "stdout",
     "output_type": "stream",
     "text": [
      "{'PassengerId': <tf.Tensor: shape=(4,), dtype=string, numpy=array([b'3814_01', b'5515_01', b'0482_01', b'6782_01'], dtype=object)>, 'HomePlanet': <tf.Tensor: shape=(4,), dtype=string, numpy=array([b'Europa', b'Earth', b'Earth', b'Earth'], dtype=object)>, 'CryoSleep': <tf.Tensor: shape=(4,), dtype=int64, numpy=array([1, 0, 0, 0], dtype=int64)>, 'Cabin': <tf.Tensor: shape=(4,), dtype=string, numpy=array([b'D/129/P', b'F/1141/P', b'E/28/S', b'F/1300/S'], dtype=object)>, 'Destination': <tf.Tensor: shape=(4,), dtype=string, numpy=\n",
      "array([b'TRAPPIST-1e', b'TRAPPIST-1e', b'TRAPPIST-1e', b'PSO J318.5-22'],\n",
      "      dtype=object)>, 'Age': <tf.Tensor: shape=(4,), dtype=float64, numpy=array([57., 22., 27., 15.])>, 'VIP': <tf.Tensor: shape=(4,), dtype=string, numpy=array([b'False', b'False', b'False', b'False'], dtype=object)>, 'RoomService': <tf.Tensor: shape=(4,), dtype=float64, numpy=array([   0.,  758.,    0., 1352.])>, 'FoodCourt': <tf.Tensor: shape=(4,), dtype=float64, numpy=array([  0.,   0., 118.,   0.])>, 'ShoppingMall': <tf.Tensor: shape=(4,), dtype=float64, numpy=array([  0.,  46.,   0., 533.])>, 'Spa': <tf.Tensor: shape=(4,), dtype=float64, numpy=array([ 0.,  0.,  5., 72.])>, 'VRDeck': <tf.Tensor: shape=(4,), dtype=float64, numpy=array([  0.,   0., 665.,   0.])>, 'Name': <tf.Tensor: shape=(4,), dtype=string, numpy=\n",
      "array([b'Etair Calazy', b'Feryla Prestonard', b'Anny Mallerez',\n",
      "       b'Samany Ments'], dtype=object)>} tf.Tensor([1 0 0 0], shape=(4,), dtype=int32)\n",
      "{'PassengerId': <tf.Tensor: shape=(4,), dtype=string, numpy=array([b'0337_02', b'2891_01', b'8998_01', b'1771_01'], dtype=object)>, 'HomePlanet': <tf.Tensor: shape=(4,), dtype=string, numpy=array([b'Mars', b'Earth', b'Earth', b'Earth'], dtype=object)>, 'CryoSleep': <tf.Tensor: shape=(4,), dtype=int64, numpy=array([0, 0, 1, 0], dtype=int64)>, 'Cabin': <tf.Tensor: shape=(4,), dtype=string, numpy=array([b'F/63/S', b'G/460/S', b'G/1449/S', b'G/291/P'], dtype=object)>, 'Destination': <tf.Tensor: shape=(4,), dtype=string, numpy=\n",
      "array([b'TRAPPIST-1e', b'TRAPPIST-1e', b'TRAPPIST-1e', b'TRAPPIST-1e'],\n",
      "      dtype=object)>, 'Age': <tf.Tensor: shape=(4,), dtype=float64, numpy=array([19., 18., 41., 35.])>, 'VIP': <tf.Tensor: shape=(4,), dtype=string, numpy=array([b'False', b'False', b'False', b'False'], dtype=object)>, 'RoomService': <tf.Tensor: shape=(4,), dtype=float64, numpy=array([417.,   4.,   0.,   0.])>, 'FoodCourt': <tf.Tensor: shape=(4,), dtype=float64, numpy=array([349., 904.,   0., 338.])>, 'ShoppingMall': <tf.Tensor: shape=(4,), dtype=float64, numpy=array([634.,   0.,   0., 436.])>, 'Spa': <tf.Tensor: shape=(4,), dtype=float64, numpy=array([3., 0., 0., 0.])>, 'VRDeck': <tf.Tensor: shape=(4,), dtype=float64, numpy=array([1.057e+03, 1.000e+00, 0.000e+00, 0.000e+00])>, 'Name': <tf.Tensor: shape=(4,), dtype=string, numpy=\n",
      "array([b'Weros Perle', b'Gleney Ortinericey', b'Gerry Englence',\n",
      "       b'Antone Cardner'], dtype=object)>} tf.Tensor([1 0 0 1], shape=(4,), dtype=int32)\n"
     ]
    }
   ],
   "source": [
    "for t, l in train_ds:\n",
    "  print(t, l)\n",
    "  break\n",
    "\n",
    "for t, l in test_ds:\n",
    "  print(t, l)\n",
    "  break\n"
   ]
  },
  {
   "cell_type": "code",
   "execution_count": 36,
   "metadata": {
    "id": "uxI24vNhyxB2",
    "ExecuteTime": {
     "end_time": "2024-01-08T15:00:44.573551700Z",
     "start_time": "2024-01-08T15:00:44.509481800Z"
    }
   },
   "outputs": [
    {
     "data": {
      "text/plain": "['False', 'True']"
     },
     "execution_count": 36,
     "metadata": {},
     "output_type": "execute_result"
    }
   ],
   "source": [
    "list(set(train['VIP']))"
   ]
  },
  {
   "cell_type": "markdown",
   "metadata": {
    "id": "TaxlpWcarA9M"
   },
   "source": [
    "## Preprocessing with layers"
   ]
  },
  {
   "cell_type": "code",
   "execution_count": 37,
   "metadata": {
    "id": "BBg7nmuDQRoq",
    "ExecuteTime": {
     "end_time": "2024-01-08T15:00:44.744341400Z",
     "start_time": "2024-01-08T15:00:44.525481200Z"
    }
   },
   "outputs": [
    {
     "name": "stdout",
     "output_type": "stream",
     "text": [
      "(None, 2)\n",
      "(None, 2)\n",
      "(None, 2)\n"
     ]
    }
   ],
   "source": [
    "# 정형테이터를 직접 전처리해버림\n",
    "\n",
    "inputs = {\n",
    "  'CryoSleep': tf.keras.Input(shape=(), dtype='int64'),\n",
    "  'HomePlanet': tf.keras.Input(shape=(), dtype='string'),\n",
    "  'RoomService': tf.keras.Input(shape=(), dtype='float64'),\n",
    "  'VIP': tf.keras.Input(shape=(), dtype='string'),\n",
    "  'Cabin': tf.keras.Input(shape=(), dtype='string')\n",
    "}\n",
    "\n",
    "split_text = tf.strings.split(inputs['Cabin'], sep=\"/\")\n",
    "\n",
    "# Convert index to one-hot; e.g. [2] -> [0,1].\n",
    "type_output = tf.keras.layers.CategoryEncoding(num_tokens=2, output_mode='one_hot')(inputs['CryoSleep'])\n",
    "print(type_output.shape)\n",
    "dense_type = tf.keras.layers.Dense(2, activation='relu')(type_output)\n",
    "print(dense_type.shape)\n",
    "\n",
    "vip = tf.keras.layers.StringLookup(vocabulary=[\"True\", \"False\"], num_oov_indices=0, output_mode='one_hot')(inputs['VIP'])\n",
    "print(vip.shape)\n",
    "\n",
    "# Convert size strings to indices; e.g. ['small'] -> [1].\n",
    "size_output = tf.keras.layers.StringLookup(vocabulary=list(set(train['HomePlanet'])))(inputs['HomePlanet'])\n",
    "size_output = tf.keras.layers.Reshape([-1])(size_output)\n",
    "# print(size_output.shape)\n",
    "dense_size = tf.keras.layers.Dense(2, activation='relu')(size_output)\n",
    "# print(dense_size.shape)\n",
    "\n",
    "# Normalize the numeric inputs; e.g. [2.0] -> [0.0].\n",
    "weight_output = tf.keras.layers.Normalization(\n",
    "      axis=None, mean=2.0, variance=1.0)(inputs['RoomService'])\n",
    "weight_output = tf.keras.layers.Reshape([-1])(weight_output)\n",
    "# print(weight_output.shape)\n",
    "dense_weight = tf.keras.layers.Dense(2, activation='relu')(weight_output)\n",
    "# print(dense_weight.shape)\n",
    "\n",
    "x = tf.concat([dense_type, dense_size, dense_weight], -1) # batch, 특징 (여기로 합쳐라)\n",
    "x = tf.keras.layers.Dense(4, activation='relu')(x)\n",
    "x = tf.keras.layers.Dense(4, activation='relu')(x)\n",
    "\n",
    "outputs = tf.keras.layers.Dense(1)(x) # Sigmoid, BCE loss\n",
    "\n",
    "# outputs = {\n",
    "#   'CryoSleep': type_output,\n",
    "#   'HomePlanet': size_output,\n",
    "#   'RoomService': weight_output,\n",
    "#   'VIP': vip,\n",
    "#   's': split_text\n",
    "# }\n",
    "\n",
    "preprocessing_model = tf.keras.Model(inputs, outputs)"
   ]
  },
  {
   "cell_type": "markdown",
   "metadata": {
    "id": "8Bpw541x3jM1"
   },
   "source": [
    "## Input and preprocessing Layers"
   ]
  },
  {
   "cell_type": "markdown",
   "metadata": {
    "id": "bqjfuAHe1ap4"
   },
   "source": [
    "### String Look Up\n"
   ]
  },
  {
   "cell_type": "code",
   "execution_count": 38,
   "metadata": {
    "id": "bo9ZjeUS4Zd7",
    "ExecuteTime": {
     "end_time": "2024-01-08T15:00:44.762510500Z",
     "start_time": "2024-01-08T15:00:44.682384500Z"
    }
   },
   "outputs": [
    {
     "data": {
      "text/plain": "array([[b'P'],\n       [b'P'],\n       [b'S'],\n       ...,\n       [b'P'],\n       [b'P'],\n       [b'P']], dtype=object)"
     },
     "execution_count": 38,
     "metadata": {},
     "output_type": "execute_result"
    }
   ],
   "source": [
    " tf.strings.split(train['Cabin'], \"/\")[:,-1:].numpy()"
   ]
  },
  {
   "cell_type": "code",
   "execution_count": 39,
   "metadata": {
    "id": "g6RyJcuK3N8l",
    "ExecuteTime": {
     "end_time": "2024-01-08T15:00:44.808021200Z",
     "start_time": "2024-01-08T15:00:44.710336800Z"
    }
   },
   "outputs": [],
   "source": [
    "inputs = {\n",
    "    'Cabin': tf.keras.Input(shape=(), dtype='string')\n",
    "}\n",
    "\n",
    "# 캐빈 데이터를 분할합니다\n",
    "cabin_split = tf.strings.split(inputs['Cabin'], \"/\")\n",
    "\n",
    "# 마지막 요소만 선택합니다\n",
    "cabin_last = cabin_split.to_tensor()[:, -1]\n",
    "\n",
    "# StringLookup 레이어를 사용하여 one-hot 인코딩을 수행합니다\n",
    "cabin_output = tf.keras.layers.StringLookup(vocabulary=[\"S\", \"P\"], num_oov_indices=1, output_mode='one_hot')(cabin_last)\n",
    "\n",
    "outputs = {\n",
    "    'Cabin': cabin_output\n",
    "}\n",
    "\n",
    "model = tf.keras.Model(inputs, outputs)"
   ]
  },
  {
   "cell_type": "code",
   "execution_count": 40,
   "metadata": {
    "id": "KlNhLc1oV6jZ",
    "ExecuteTime": {
     "end_time": "2024-01-08T15:00:44.884572500Z",
     "start_time": "2024-01-08T15:00:44.770021700Z"
    }
   },
   "outputs": [
    {
     "name": "stdout",
     "output_type": "stream",
     "text": [
      "tf.Tensor(\n",
      "[[0. 1. 0.]\n",
      " [0. 0. 1.]\n",
      " [0. 0. 1.]\n",
      " [0. 1. 0.]], shape=(4, 3), dtype=float32)\n"
     ]
    },
    {
     "name": "stderr",
     "output_type": "stream",
     "text": [
      "F:\\Anaconda3_envs\\tensor2\\lib\\site-packages\\keras\\engine\\functional.py:637: UserWarning: Input dict contained keys ['PassengerId', 'HomePlanet', 'CryoSleep', 'Destination', 'Age', 'VIP', 'RoomService', 'FoodCourt', 'ShoppingMall', 'Spa', 'VRDeck', 'Name'] which did not match any model input. They will be ignored by the model.\n",
      "  inputs = self._flatten_to_reference_inputs(inputs)\n"
     ]
    }
   ],
   "source": [
    "for t, l in train_ds:\n",
    "    pred = model(t)\n",
    "    print(pred['Cabin'])\n",
    "    break"
   ]
  },
  {
   "cell_type": "code",
   "execution_count": 41,
   "metadata": {
    "id": "6yclqkG2t0F6",
    "ExecuteTime": {
     "end_time": "2024-01-08T15:00:44.912571800Z",
     "start_time": "2024-01-08T15:00:44.834057400Z"
    }
   },
   "outputs": [
    {
     "data": {
      "text/plain": "<tf.Tensor: shape=(3,), dtype=string, numpy=array([b'F', b'575', b'P'], dtype=object)>"
     },
     "execution_count": 41,
     "metadata": {},
     "output_type": "execute_result"
    }
   ],
   "source": [
    "s = \"F/575/P\"\n",
    "tf.strings.split(s, sep=\"/\")"
   ]
  },
  {
   "cell_type": "code",
   "execution_count": 42,
   "metadata": {
    "id": "ldFmPM5qppS_",
    "ExecuteTime": {
     "end_time": "2024-01-08T15:00:44.934578500Z",
     "start_time": "2024-01-08T15:00:44.853062300Z"
    }
   },
   "outputs": [
    {
     "data": {
      "text/plain": "['Mars', 'Earth', 'Europa']"
     },
     "execution_count": 42,
     "metadata": {},
     "output_type": "execute_result"
    }
   ],
   "source": [
    "list(set(train['HomePlanet']))"
   ]
  },
  {
   "cell_type": "code",
   "execution_count": 43,
   "metadata": {
    "id": "97laqWerpttW",
    "ExecuteTime": {
     "end_time": "2024-01-08T15:00:44.987518Z",
     "start_time": "2024-01-08T15:00:44.868578200Z"
    }
   },
   "outputs": [
    {
     "data": {
      "text/plain": "<tf.Tensor: shape=(6954, 3), dtype=float32, numpy=\narray([[0., 1., 0.],\n       [0., 1., 0.],\n       [0., 0., 1.],\n       ...,\n       [0., 1., 0.],\n       [1., 0., 0.],\n       [0., 0., 1.]], dtype=float32)>"
     },
     "execution_count": 43,
     "metadata": {},
     "output_type": "execute_result"
    }
   ],
   "source": [
    "string_lookup_layer = tf.keras.layers.StringLookup(\n",
    "    vocabulary=list(set(train['HomePlanet'])),\n",
    "    num_oov_indices=0,\n",
    "    output_mode='one_hot')\n",
    "\"\"\"\n",
    "int 0, 1, 2 (idx)\n",
    "one_hot [1, 0, 0]\n",
    "multi_hot [1, 0, 1] (다중입력)\n",
    "\"\"\"\n",
    "\n",
    "string_lookup_layer(list(train['HomePlanet'].to_numpy()))"
   ]
  },
  {
   "cell_type": "markdown",
   "metadata": {
    "id": "4dJ64DFR1zSW"
   },
   "source": [
    "### Category Encoding"
   ]
  },
  {
   "cell_type": "code",
   "execution_count": 44,
   "metadata": {
    "id": "o6eeBxJPreSo",
    "ExecuteTime": {
     "end_time": "2024-01-08T15:00:44.989520100Z",
     "start_time": "2024-01-08T15:00:44.911571200Z"
    }
   },
   "outputs": [
    {
     "data": {
      "text/plain": "0       0\n1       0\n2       1\n3       0\n4       1\n       ..\n6949    0\n6950    0\n6951    0\n6952    0\n6953    0\nName: CryoSleep, Length: 6954, dtype: int64"
     },
     "execution_count": 44,
     "metadata": {},
     "output_type": "execute_result"
    }
   ],
   "source": [
    "train['CryoSleep']"
   ]
  },
  {
   "cell_type": "code",
   "execution_count": 45,
   "metadata": {
    "id": "_cRCuG2rqS52",
    "ExecuteTime": {
     "end_time": "2024-01-08T15:00:45.057462100Z",
     "start_time": "2024-01-08T15:00:44.941579400Z"
    }
   },
   "outputs": [
    {
     "data": {
      "text/plain": "<tf.Tensor: shape=(6954, 2), dtype=float32, numpy=\narray([[1., 0.],\n       [1., 0.],\n       [0., 1.],\n       ...,\n       [1., 0.],\n       [1., 0.],\n       [1., 0.]], dtype=float32)>"
     },
     "execution_count": 45,
     "metadata": {},
     "output_type": "execute_result"
    }
   ],
   "source": [
    "one_hot_layer = tf.keras.layers.CategoryEncoding(\n",
    "    num_tokens=2, output_mode='one_hot')\n",
    "one_hot_layer(list(train['CryoSleep'].to_numpy()))"
   ]
  },
  {
   "cell_type": "markdown",
   "metadata": {
    "id": "oAfDEVXz2YcB"
   },
   "source": [
    "### Normalization"
   ]
  },
  {
   "cell_type": "code",
   "execution_count": 46,
   "metadata": {
    "id": "6M0RBuMPrkri",
    "ExecuteTime": {
     "end_time": "2024-01-08T15:00:45.059465100Z",
     "start_time": "2024-01-08T15:00:44.994027300Z"
    }
   },
   "outputs": [
    {
     "name": "stdout",
     "output_type": "stream",
     "text": [
      "[-0.31622776 -0.31622776 -0.31622776 -0.31622776 -0.31622776]\n",
      "[0. 0. 0. 0. 0.]\n"
     ]
    }
   ],
   "source": [
    "normalization_layer = tf.keras.layers.Normalization(mean=1.0, variance=10.0)\n",
    "\n",
    "# 각 입력 값에서 mean 값을 뺍니다. 예를 들어, 입력이 [1., 2., 3.]라면, 결과는 [-2., -1., 0.]이 됩니다.\n",
    "# 다음으로, 이 결과를 variance의 제곱근 값, 즉 sqrt(2.)로 나눕니다. 따라서 결과는 [-2/sqrt(2), -1/sqrt(2), 0]가 됩니다. (정규화 과정)\n",
    "\n",
    "print(normalization_layer(train['RoomService'][:5]).numpy())\n",
    "print(train['RoomService'][:5].to_numpy())"
   ]
  },
  {
   "cell_type": "markdown",
   "metadata": {
    "id": "641_XZTH1REC"
   },
   "source": [
    "### Model Train"
   ]
  },
  {
   "cell_type": "code",
   "execution_count": 47,
   "metadata": {
    "id": "7RX-QT0Dz0U_",
    "ExecuteTime": {
     "end_time": "2024-01-08T15:00:45.151461400Z",
     "start_time": "2024-01-08T15:00:45.062463600Z"
    }
   },
   "outputs": [],
   "source": [
    "preprocessing_model.compile(optimizer=tf.keras.optimizers.Adam(1e-4),\n",
    "              loss=tf.keras.losses.BinaryCrossentropy(from_logits=True),\n",
    "              metrics=['accuracy'])"
   ]
  },
  {
   "cell_type": "code",
   "execution_count": 48,
   "metadata": {
    "id": "rEk1FAnxexWO",
    "ExecuteTime": {
     "end_time": "2024-01-08T15:01:41.136973500Z",
     "start_time": "2024-01-08T15:00:45.093975400Z"
    }
   },
   "outputs": [
    {
     "name": "stdout",
     "output_type": "stream",
     "text": [
      "Epoch 1/150\n"
     ]
    },
    {
     "name": "stderr",
     "output_type": "stream",
     "text": [
      "F:\\Anaconda3_envs\\tensor2\\lib\\site-packages\\keras\\engine\\functional.py:637: UserWarning: Input dict contained keys ['PassengerId', 'Destination', 'Age', 'FoodCourt', 'ShoppingMall', 'Spa', 'VRDeck', 'Name'] which did not match any model input. They will be ignored by the model.\n",
      "  inputs = self._flatten_to_reference_inputs(inputs)\n"
     ]
    },
    {
     "name": "stdout",
     "output_type": "stream",
     "text": [
      "1738/1738 [==============================] - 11s 6ms/step - loss: 0.6801 - accuracy: 0.4967 - val_loss: 0.6432 - val_accuracy: 0.4948\n",
      "Epoch 2/150\n",
      "1738/1738 [==============================] - 10s 6ms/step - loss: 0.6349 - accuracy: 0.5006 - val_loss: 0.6304 - val_accuracy: 0.5616\n",
      "Epoch 3/150\n",
      "1738/1738 [==============================] - 10s 5ms/step - loss: 0.6045 - accuracy: 0.6656 - val_loss: 0.5890 - val_accuracy: 0.7241\n",
      "Epoch 4/150\n",
      "1738/1738 [==============================] - 10s 6ms/step - loss: 0.5855 - accuracy: 0.7165 - val_loss: 0.5812 - val_accuracy: 0.7241\n",
      "Epoch 5/150\n",
      "1738/1738 [==============================] - 10s 6ms/step - loss: 0.5781 - accuracy: 0.7171 - val_loss: 0.5698 - val_accuracy: 0.7241\n",
      "Epoch 6/150\n",
      "1342/1738 [======================>.......] - ETA: 1s - loss: 0.5694 - accuracy: 0.7202"
     ]
    },
    {
     "ename": "KeyboardInterrupt",
     "evalue": "",
     "output_type": "error",
     "traceback": [
      "\u001B[1;31m---------------------------------------------------------------------------\u001B[0m",
      "\u001B[1;31mKeyboardInterrupt\u001B[0m                         Traceback (most recent call last)",
      "Cell \u001B[1;32mIn[48], line 3\u001B[0m\n\u001B[0;32m      1\u001B[0m max_epochs \u001B[38;5;241m=\u001B[39m \u001B[38;5;241m150\u001B[39m\n\u001B[1;32m----> 3\u001B[0m history \u001B[38;5;241m=\u001B[39m \u001B[43mpreprocessing_model\u001B[49m\u001B[38;5;241;43m.\u001B[39;49m\u001B[43mfit\u001B[49m\u001B[43m(\u001B[49m\u001B[43mtrain_ds\u001B[49m\u001B[43m,\u001B[49m\n\u001B[0;32m      4\u001B[0m \u001B[43m                                  \u001B[49m\u001B[43mepochs\u001B[49m\u001B[38;5;241;43m=\u001B[39;49m\u001B[43mmax_epochs\u001B[49m\u001B[43m,\u001B[49m\n\u001B[0;32m      5\u001B[0m \u001B[43m                                  \u001B[49m\u001B[43msteps_per_epoch\u001B[49m\u001B[38;5;241;43m=\u001B[39;49m\u001B[38;5;28;43mlen\u001B[39;49m\u001B[43m(\u001B[49m\u001B[43mtrain\u001B[49m\u001B[43m)\u001B[49m\u001B[43m \u001B[49m\u001B[38;5;241;43m/\u001B[39;49m\u001B[38;5;241;43m/\u001B[39;49m\u001B[43m \u001B[49m\u001B[43mbatch_size\u001B[49m\u001B[43m,\u001B[49m\n\u001B[0;32m      6\u001B[0m \u001B[43m                                  \u001B[49m\u001B[43mvalidation_data\u001B[49m\u001B[38;5;241;43m=\u001B[39;49m\u001B[43mtest_ds\u001B[49m\u001B[43m,\u001B[49m\n\u001B[0;32m      7\u001B[0m \u001B[43m                                  \u001B[49m\u001B[43mvalidation_steps\u001B[49m\u001B[38;5;241;43m=\u001B[39;49m\u001B[38;5;28;43mlen\u001B[39;49m\u001B[43m(\u001B[49m\u001B[43mtest\u001B[49m\u001B[43m)\u001B[49m\u001B[43m \u001B[49m\u001B[38;5;241;43m/\u001B[39;49m\u001B[38;5;241;43m/\u001B[39;49m\u001B[43m \u001B[49m\u001B[43mbatch_size\u001B[49m\u001B[43m)\u001B[49m\n",
      "File \u001B[1;32mF:\\Anaconda3_envs\\tensor2\\lib\\site-packages\\keras\\utils\\traceback_utils.py:65\u001B[0m, in \u001B[0;36mfilter_traceback.<locals>.error_handler\u001B[1;34m(*args, **kwargs)\u001B[0m\n\u001B[0;32m     63\u001B[0m filtered_tb \u001B[38;5;241m=\u001B[39m \u001B[38;5;28;01mNone\u001B[39;00m\n\u001B[0;32m     64\u001B[0m \u001B[38;5;28;01mtry\u001B[39;00m:\n\u001B[1;32m---> 65\u001B[0m     \u001B[38;5;28;01mreturn\u001B[39;00m fn(\u001B[38;5;241m*\u001B[39margs, \u001B[38;5;241m*\u001B[39m\u001B[38;5;241m*\u001B[39mkwargs)\n\u001B[0;32m     66\u001B[0m \u001B[38;5;28;01mexcept\u001B[39;00m \u001B[38;5;167;01mException\u001B[39;00m \u001B[38;5;28;01mas\u001B[39;00m e:\n\u001B[0;32m     67\u001B[0m     filtered_tb \u001B[38;5;241m=\u001B[39m _process_traceback_frames(e\u001B[38;5;241m.\u001B[39m__traceback__)\n",
      "File \u001B[1;32mF:\\Anaconda3_envs\\tensor2\\lib\\site-packages\\keras\\engine\\training.py:1555\u001B[0m, in \u001B[0;36mModel.fit\u001B[1;34m(self, x, y, batch_size, epochs, verbose, callbacks, validation_split, validation_data, shuffle, class_weight, sample_weight, initial_epoch, steps_per_epoch, validation_steps, validation_batch_size, validation_freq, max_queue_size, workers, use_multiprocessing)\u001B[0m\n\u001B[0;32m   1551\u001B[0m \u001B[38;5;28;01mwith\u001B[39;00m data_handler\u001B[38;5;241m.\u001B[39mcatch_stop_iteration():\n\u001B[0;32m   1552\u001B[0m     data_handler\u001B[38;5;241m.\u001B[39m_initial_step \u001B[38;5;241m=\u001B[39m data_handler\u001B[38;5;241m.\u001B[39m_initial_step \u001B[38;5;129;01mor\u001B[39;00m (\n\u001B[0;32m   1553\u001B[0m         \u001B[38;5;28mself\u001B[39m\u001B[38;5;241m.\u001B[39m_maybe_load_initial_step_from_ckpt()\n\u001B[0;32m   1554\u001B[0m     )\n\u001B[1;32m-> 1555\u001B[0m     \u001B[38;5;28;01mfor\u001B[39;00m step \u001B[38;5;129;01min\u001B[39;00m data_handler\u001B[38;5;241m.\u001B[39msteps():\n\u001B[0;32m   1556\u001B[0m         \u001B[38;5;28;01mwith\u001B[39;00m tf\u001B[38;5;241m.\u001B[39mprofiler\u001B[38;5;241m.\u001B[39mexperimental\u001B[38;5;241m.\u001B[39mTrace(\n\u001B[0;32m   1557\u001B[0m             \u001B[38;5;124m\"\u001B[39m\u001B[38;5;124mtrain\u001B[39m\u001B[38;5;124m\"\u001B[39m,\n\u001B[0;32m   1558\u001B[0m             epoch_num\u001B[38;5;241m=\u001B[39mepoch,\n\u001B[1;32m   (...)\u001B[0m\n\u001B[0;32m   1561\u001B[0m             _r\u001B[38;5;241m=\u001B[39m\u001B[38;5;241m1\u001B[39m,\n\u001B[0;32m   1562\u001B[0m         ):\n\u001B[0;32m   1563\u001B[0m             callbacks\u001B[38;5;241m.\u001B[39mon_train_batch_begin(step)\n",
      "File \u001B[1;32mF:\\Anaconda3_envs\\tensor2\\lib\\site-packages\\keras\\engine\\data_adapter.py:1374\u001B[0m, in \u001B[0;36mDataHandler.steps\u001B[1;34m(self)\u001B[0m\n\u001B[0;32m   1372\u001B[0m \u001B[38;5;28;01mif\u001B[39;00m \u001B[38;5;28mself\u001B[39m\u001B[38;5;241m.\u001B[39m_insufficient_data:  \u001B[38;5;66;03m# Set by `catch_stop_iteration`.\u001B[39;00m\n\u001B[0;32m   1373\u001B[0m     \u001B[38;5;28;01mbreak\u001B[39;00m\n\u001B[1;32m-> 1374\u001B[0m original_spe \u001B[38;5;241m=\u001B[39m \u001B[38;5;28;43mself\u001B[39;49m\u001B[38;5;241;43m.\u001B[39;49m\u001B[43m_steps_per_execution\u001B[49m\u001B[38;5;241;43m.\u001B[39;49m\u001B[43mnumpy\u001B[49m\u001B[43m(\u001B[49m\u001B[43m)\u001B[49m\u001B[38;5;241m.\u001B[39mitem()\n\u001B[0;32m   1375\u001B[0m can_run_full_execution \u001B[38;5;241m=\u001B[39m (\n\u001B[0;32m   1376\u001B[0m     original_spe \u001B[38;5;241m==\u001B[39m \u001B[38;5;241m1\u001B[39m\n\u001B[0;32m   1377\u001B[0m     \u001B[38;5;129;01mor\u001B[39;00m \u001B[38;5;28mself\u001B[39m\u001B[38;5;241m.\u001B[39m_inferred_steps \u001B[38;5;129;01mis\u001B[39;00m \u001B[38;5;28;01mNone\u001B[39;00m\n\u001B[0;32m   1378\u001B[0m     \u001B[38;5;129;01mor\u001B[39;00m \u001B[38;5;28mself\u001B[39m\u001B[38;5;241m.\u001B[39m_inferred_steps \u001B[38;5;241m-\u001B[39m \u001B[38;5;28mself\u001B[39m\u001B[38;5;241m.\u001B[39m_current_step \u001B[38;5;241m>\u001B[39m\u001B[38;5;241m=\u001B[39m original_spe\n\u001B[0;32m   1379\u001B[0m )\n\u001B[0;32m   1381\u001B[0m \u001B[38;5;28;01mif\u001B[39;00m can_run_full_execution:\n",
      "File \u001B[1;32mF:\\Anaconda3_envs\\tensor2\\lib\\site-packages\\tensorflow\\python\\ops\\resource_variable_ops.py:637\u001B[0m, in \u001B[0;36mBaseResourceVariable.numpy\u001B[1;34m(self)\u001B[0m\n\u001B[0;32m    635\u001B[0m \u001B[38;5;28;01mdef\u001B[39;00m \u001B[38;5;21mnumpy\u001B[39m(\u001B[38;5;28mself\u001B[39m):\n\u001B[0;32m    636\u001B[0m   \u001B[38;5;28;01mif\u001B[39;00m context\u001B[38;5;241m.\u001B[39mexecuting_eagerly():\n\u001B[1;32m--> 637\u001B[0m     \u001B[38;5;28;01mreturn\u001B[39;00m \u001B[38;5;28;43mself\u001B[39;49m\u001B[38;5;241;43m.\u001B[39;49m\u001B[43mread_value\u001B[49m\u001B[43m(\u001B[49m\u001B[43m)\u001B[49m\u001B[38;5;241m.\u001B[39mnumpy()\n\u001B[0;32m    638\u001B[0m   \u001B[38;5;28;01mraise\u001B[39;00m \u001B[38;5;167;01mNotImplementedError\u001B[39;00m(\n\u001B[0;32m    639\u001B[0m       \u001B[38;5;124m\"\u001B[39m\u001B[38;5;124mnumpy() is only available when eager execution is enabled.\u001B[39m\u001B[38;5;124m\"\u001B[39m)\n",
      "File \u001B[1;32mF:\\Anaconda3_envs\\tensor2\\lib\\site-packages\\tensorflow\\python\\ops\\resource_variable_ops.py:725\u001B[0m, in \u001B[0;36mBaseResourceVariable.read_value\u001B[1;34m(self)\u001B[0m\n\u001B[0;32m    716\u001B[0m \u001B[38;5;250m\u001B[39m\u001B[38;5;124;03m\"\"\"Constructs an op which reads the value of this variable.\u001B[39;00m\n\u001B[0;32m    717\u001B[0m \n\u001B[0;32m    718\u001B[0m \u001B[38;5;124;03mShould be used when there are multiple reads, or when it is desirable to\u001B[39;00m\n\u001B[1;32m   (...)\u001B[0m\n\u001B[0;32m    722\u001B[0m \u001B[38;5;124;03m  The value of the variable.\u001B[39;00m\n\u001B[0;32m    723\u001B[0m \u001B[38;5;124;03m\"\"\"\u001B[39;00m\n\u001B[0;32m    724\u001B[0m \u001B[38;5;28;01mwith\u001B[39;00m ops\u001B[38;5;241m.\u001B[39mname_scope(\u001B[38;5;124m\"\u001B[39m\u001B[38;5;124mRead\u001B[39m\u001B[38;5;124m\"\u001B[39m):\n\u001B[1;32m--> 725\u001B[0m   value \u001B[38;5;241m=\u001B[39m \u001B[38;5;28;43mself\u001B[39;49m\u001B[38;5;241;43m.\u001B[39;49m\u001B[43m_read_variable_op\u001B[49m\u001B[43m(\u001B[49m\u001B[43m)\u001B[49m\n\u001B[0;32m    726\u001B[0m \u001B[38;5;66;03m# Return an identity so it can get placed on whatever device the context\u001B[39;00m\n\u001B[0;32m    727\u001B[0m \u001B[38;5;66;03m# specifies instead of the device where the variable is.\u001B[39;00m\n\u001B[0;32m    728\u001B[0m \u001B[38;5;28;01mreturn\u001B[39;00m array_ops\u001B[38;5;241m.\u001B[39midentity(value)\n",
      "File \u001B[1;32mF:\\Anaconda3_envs\\tensor2\\lib\\site-packages\\tensorflow\\python\\ops\\resource_variable_ops.py:704\u001B[0m, in \u001B[0;36mBaseResourceVariable._read_variable_op\u001B[1;34m(self, no_copy)\u001B[0m\n\u001B[0;32m    702\u001B[0m       result \u001B[38;5;241m=\u001B[39m read_and_set_handle(no_copy)\n\u001B[0;32m    703\u001B[0m \u001B[38;5;28;01melse\u001B[39;00m:\n\u001B[1;32m--> 704\u001B[0m   result \u001B[38;5;241m=\u001B[39m \u001B[43mread_and_set_handle\u001B[49m\u001B[43m(\u001B[49m\u001B[43mno_copy\u001B[49m\u001B[43m)\u001B[49m\n\u001B[0;32m    706\u001B[0m \u001B[38;5;28;01mif\u001B[39;00m \u001B[38;5;129;01mnot\u001B[39;00m context\u001B[38;5;241m.\u001B[39mexecuting_eagerly():\n\u001B[0;32m    707\u001B[0m   \u001B[38;5;66;03m# Note that if a control flow context is active the input of the read op\u001B[39;00m\n\u001B[0;32m    708\u001B[0m   \u001B[38;5;66;03m# might not actually be the handle. This line bypasses it.\u001B[39;00m\n\u001B[0;32m    709\u001B[0m   tape\u001B[38;5;241m.\u001B[39mrecord_operation(\n\u001B[0;32m    710\u001B[0m       \u001B[38;5;124m\"\u001B[39m\u001B[38;5;124mReadVariableOp\u001B[39m\u001B[38;5;124m\"\u001B[39m, [result], [\u001B[38;5;28mself\u001B[39m\u001B[38;5;241m.\u001B[39mhandle],\n\u001B[0;32m    711\u001B[0m       backward_function\u001B[38;5;241m=\u001B[39m\u001B[38;5;28;01mlambda\u001B[39;00m x: [x],\n\u001B[0;32m    712\u001B[0m       forward_function\u001B[38;5;241m=\u001B[39m\u001B[38;5;28;01mlambda\u001B[39;00m x: [x])\n",
      "File \u001B[1;32mF:\\Anaconda3_envs\\tensor2\\lib\\site-packages\\tensorflow\\python\\ops\\resource_variable_ops.py:694\u001B[0m, in \u001B[0;36mBaseResourceVariable._read_variable_op.<locals>.read_and_set_handle\u001B[1;34m(no_copy)\u001B[0m\n\u001B[0;32m    692\u001B[0m \u001B[38;5;28;01mif\u001B[39;00m no_copy \u001B[38;5;129;01mand\u001B[39;00m forward_compat\u001B[38;5;241m.\u001B[39mforward_compatible(\u001B[38;5;241m2022\u001B[39m, \u001B[38;5;241m5\u001B[39m, \u001B[38;5;241m3\u001B[39m):\n\u001B[0;32m    693\u001B[0m   gen_resource_variable_ops\u001B[38;5;241m.\u001B[39mdisable_copy_on_read(\u001B[38;5;28mself\u001B[39m\u001B[38;5;241m.\u001B[39mhandle)\n\u001B[1;32m--> 694\u001B[0m result \u001B[38;5;241m=\u001B[39m \u001B[43mgen_resource_variable_ops\u001B[49m\u001B[38;5;241;43m.\u001B[39;49m\u001B[43mread_variable_op\u001B[49m\u001B[43m(\u001B[49m\n\u001B[0;32m    695\u001B[0m \u001B[43m    \u001B[49m\u001B[38;5;28;43mself\u001B[39;49m\u001B[38;5;241;43m.\u001B[39;49m\u001B[43mhandle\u001B[49m\u001B[43m,\u001B[49m\u001B[43m \u001B[49m\u001B[38;5;28;43mself\u001B[39;49m\u001B[38;5;241;43m.\u001B[39;49m\u001B[43m_dtype\u001B[49m\u001B[43m)\u001B[49m\n\u001B[0;32m    696\u001B[0m _maybe_set_handle_data(\u001B[38;5;28mself\u001B[39m\u001B[38;5;241m.\u001B[39m_dtype, \u001B[38;5;28mself\u001B[39m\u001B[38;5;241m.\u001B[39mhandle, result)\n\u001B[0;32m    697\u001B[0m \u001B[38;5;28;01mreturn\u001B[39;00m result\n",
      "File \u001B[1;32mF:\\Anaconda3_envs\\tensor2\\lib\\site-packages\\tensorflow\\python\\ops\\gen_resource_variable_ops.py:524\u001B[0m, in \u001B[0;36mread_variable_op\u001B[1;34m(resource, dtype, name)\u001B[0m\n\u001B[0;32m    522\u001B[0m \u001B[38;5;28;01mif\u001B[39;00m tld\u001B[38;5;241m.\u001B[39mis_eager:\n\u001B[0;32m    523\u001B[0m   \u001B[38;5;28;01mtry\u001B[39;00m:\n\u001B[1;32m--> 524\u001B[0m     _result \u001B[38;5;241m=\u001B[39m \u001B[43mpywrap_tfe\u001B[49m\u001B[38;5;241;43m.\u001B[39;49m\u001B[43mTFE_Py_FastPathExecute\u001B[49m\u001B[43m(\u001B[49m\n\u001B[0;32m    525\u001B[0m \u001B[43m      \u001B[49m\u001B[43m_ctx\u001B[49m\u001B[43m,\u001B[49m\u001B[43m \u001B[49m\u001B[38;5;124;43m\"\u001B[39;49m\u001B[38;5;124;43mReadVariableOp\u001B[39;49m\u001B[38;5;124;43m\"\u001B[39;49m\u001B[43m,\u001B[49m\u001B[43m \u001B[49m\u001B[43mname\u001B[49m\u001B[43m,\u001B[49m\u001B[43m \u001B[49m\u001B[43mresource\u001B[49m\u001B[43m,\u001B[49m\u001B[43m \u001B[49m\u001B[38;5;124;43m\"\u001B[39;49m\u001B[38;5;124;43mdtype\u001B[39;49m\u001B[38;5;124;43m\"\u001B[39;49m\u001B[43m,\u001B[49m\u001B[43m \u001B[49m\u001B[43mdtype\u001B[49m\u001B[43m)\u001B[49m\n\u001B[0;32m    526\u001B[0m     \u001B[38;5;28;01mreturn\u001B[39;00m _result\n\u001B[0;32m    527\u001B[0m   \u001B[38;5;28;01mexcept\u001B[39;00m _core\u001B[38;5;241m.\u001B[39m_NotOkStatusException \u001B[38;5;28;01mas\u001B[39;00m e:\n",
      "\u001B[1;31mKeyboardInterrupt\u001B[0m: "
     ]
    }
   ],
   "source": [
    "max_epochs = 50\n",
    "\n",
    "history = preprocessing_model.fit(train_ds,\n",
    "                                  epochs=max_epochs,\n",
    "                                  steps_per_epoch=len(train) // batch_size,\n",
    "                                  validation_data=test_ds,\n",
    "                                  validation_steps=len(test) // batch_size)"
   ]
  },
  {
   "cell_type": "code",
   "execution_count": null,
   "metadata": {
    "id": "t_trfaVvwTdA",
    "ExecuteTime": {
     "start_time": "2024-01-08T15:01:41.133975900Z"
    }
   },
   "outputs": [],
   "source": []
  }
 ],
 "metadata": {
  "colab": {
   "authorship_tag": "ABX9TyMwHbRl+KGLtkM4rbEiDZij",
   "mount_file_id": "1nTWWYbx48UZOTywI0x848GLE3Rdzr5ad",
   "provenance": []
  },
  "kernelspec": {
   "display_name": "Python 3 (ipykernel)",
   "language": "python",
   "name": "python3"
  },
  "language_info": {
   "codemirror_mode": {
    "name": "ipython",
    "version": 3
   },
   "file_extension": ".py",
   "mimetype": "text/x-python",
   "name": "python",
   "nbconvert_exporter": "python",
   "pygments_lexer": "ipython3",
   "version": "3.9.18"
  }
 },
 "nbformat": 4,
 "nbformat_minor": 1
}
