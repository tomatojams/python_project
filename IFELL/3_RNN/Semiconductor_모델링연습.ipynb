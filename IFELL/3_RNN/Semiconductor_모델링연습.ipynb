{
 "nbformat": 4,
 "nbformat_minor": 0,
 "metadata": {
  "colab": {
   "provenance": [],
   "gpuType": "T4"
  },
  "kernelspec": {
   "name": "python3",
   "language": "python",
   "display_name": "Python 3 (ipykernel)"
  },
  "language_info": {
   "name": "python"
  },
  "accelerator": "GPU",
  "gpuClass": "standard"
 },
 "cells": [
  {
   "cell_type": "markdown",
   "metadata": {
    "id": "THNjjG50BYJY"
   },
   "source": [
    "# 반도체 박막 두께 분석\n",
    "\n",
    "### 배경\n",
    "\n",
    "최근 고사양 반도체 수요가 많아지면서 반도체를 수직으로 적층하는 3차원 공정이 많이 연구되고 있습니다. 반도체 박막을 수십 ~ 수백 층 쌓아 올리는 공정에서는 박막의 결함으로 인한 두께와 균일도가 저하되는 문제가 있습니다. 이는 소자 구조의 변형을 야기하며 성능 하락의 주요 요인이 됩니다. 이를 사전에 방지하기 위해서는 박막의 두께를 빠르면서도 정확히 측정하는 것이 중요합니다.\n",
    "\n",
    "박막의 두께를 측정하기 위해 광스펙트럼 분석이 널리 사용되고 있습니다. 하지만 광 스펙트럼을 분석하기 위해서는 관련 지식을 많이 가진 전문가가 필요하며 분석과정에 많은 컴퓨팅자원이 필요합니다. 빅데이터 분석을 통해 이를 해결하고자 반도체 소자의 두께 분석 알고리즘 경진대회를 개최합니다.\n",
    "\n"
   ]
  },
  {
   "cell_type": "markdown",
   "metadata": {
    "id": "8XN-kkqUGNko"
   },
   "source": [
    "### 배경 자료\n",
    "\n",
    "반도체 박막은 얇은 반도체 막으로 박막의 종류와 두께는 반도체 소자의 특성을 결정짓는 중요한 요소 중 하나입니다. 박막의 두께를 측정하는 방법으로 반사율 측정이 널리 사용되며 반사율은 입사광 세기에 대한 반사광 세기의 비율로 정해집니다. (반사율 = 반사광/입사광) 반사율은 빛의 파장에 따라 변하며 파장에 따른 반사율의 분포를 반사율 스펙트럼이라고 합니다.\n",
    "\n",
    "\n",
    "\n",
    "### 구조 설명\n",
    "\n",
    "이번 대회에서 분석할 소자는 질화규소(layer_1)/이산화규소(layer_2)/질화규소(layer_3)/이산화규소(layer_4)/규소(기판) 총 5층 구조로 되어 있습니다. 대회의 목적은 기판인 규소를 제외한 layer_1 ~ layer_4의 두께를 예측하는 것으로 학습 데이터 파일에는 각 층의 두께와 반사율 스펙트럼이 포함되어 있습니다.\n",
    "\n",
    "\n",
    "\n",
    "### 데이터 설명\n",
    "\n",
    "train.csv 파일에는 4층 박막의 두께와 파장에 따른 반사율 스펙트럼이 주어집니다. 헤더의 이름에 따라 layer_1 ~ 4는 해당 박막의 두께,\n",
    "\n",
    "데이터값인 0 ~ 225은 빛의 파장에 해당하는 반사율이 됩니다. 헤더 이름인 0~225은 파장을 뜻하며 비식별화 처리가 되어있어 실제 값과는 다릅니다."
   ]
  },
  {
   "cell_type": "code",
   "metadata": {
    "id": "VHebfq47CZ-V",
    "ExecuteTime": {
     "end_time": "2024-01-09T05:41:50.081390Z",
     "start_time": "2024-01-09T05:41:40.297446Z"
    }
   },
   "source": [
    "import tensorflow as tf\n",
    "from tensorflow.keras import Sequential\n",
    "from tensorflow.keras import layers\n",
    "import numpy as np\n",
    "import matplotlib.pyplot as plt\n",
    "import os"
   ],
   "execution_count": 1,
   "outputs": []
  },
  {
   "cell_type": "code",
   "metadata": {
    "id": "ATOrWJKuLlBT",
    "ExecuteTime": {
     "end_time": "2024-01-09T05:41:50.085638Z",
     "start_time": "2024-01-09T05:41:50.074696Z"
    }
   },
   "source": [
    "use_colab = True\n",
    "assert use_colab in [True, False]"
   ],
   "execution_count": 2,
   "outputs": []
  },
  {
   "cell_type": "code",
   "metadata": {
    "id": "lsFNOIeSn_Z9",
    "colab": {
     "base_uri": "https://localhost:8080/"
    },
    "outputId": "2e721b21-e884-4c90-9983-923e1f211049",
    "ExecuteTime": {
     "end_time": "2024-01-09T05:41:50.086156Z",
     "start_time": "2024-01-09T05:41:50.076127Z"
    }
   },
   "source": [
    "# from google.colab import drive\n",
    "# drive.mount('/content/drive')"
   ],
   "execution_count": 3,
   "outputs": []
  },
  {
   "cell_type": "markdown",
   "metadata": {
    "id": "7qoXy0bqBqKt"
   },
   "source": [
    "### 데이터 로드\n",
    "* 새로운 버전의 Colab파일에선 왼쪽의 폴더 tree에서 직접 드라이브 마운트를 진행해야합니다."
   ]
  },
  {
   "cell_type": "code",
   "metadata": {
    "id": "kwp9HSrrD4XW",
    "colab": {
     "base_uri": "https://localhost:8080/"
    },
    "outputId": "4d82f7fc-2b9e-4860-c126-5dafc05da423",
    "ExecuteTime": {
     "end_time": "2024-01-09T05:41:50.643274Z",
     "start_time": "2024-01-09T05:41:50.076440Z"
    }
   },
   "source": [
    "train_d = np.load(\"/content/drive/MyDrive/Dataset/semicon_train_data.npy\")\n",
    "test_d = np.load(\"/content/drive/MyDrive/Dataset/semicon_test_data.npy\")\n",
    "\n",
    "# train data path\n",
    "# train_d = np.load(\"./semicon_train_data.npy\")\n",
    "\n",
    "# test data path\n",
    "# train_d = np.load(\"./semicon_test_data.npy\")\n",
    "print(train_d.shape, test_d.shape)"
   ],
   "execution_count": 4,
   "outputs": [
    {
     "ename": "FileNotFoundError",
     "evalue": "[Errno 2] No such file or directory: '/content/drive/MyDrive/Dataset/semicon_train_data.npy'",
     "output_type": "error",
     "traceback": [
      "\u001B[0;31m---------------------------------------------------------------------------\u001B[0m",
      "\u001B[0;31mFileNotFoundError\u001B[0m                         Traceback (most recent call last)",
      "Cell \u001B[0;32mIn[4], line 1\u001B[0m\n\u001B[0;32m----> 1\u001B[0m train_d \u001B[38;5;241m=\u001B[39m \u001B[43mnp\u001B[49m\u001B[38;5;241;43m.\u001B[39;49m\u001B[43mload\u001B[49m\u001B[43m(\u001B[49m\u001B[38;5;124;43m\"\u001B[39;49m\u001B[38;5;124;43m/content/drive/MyDrive/Dataset/semicon_train_data.npy\u001B[39;49m\u001B[38;5;124;43m\"\u001B[39;49m\u001B[43m)\u001B[49m\n\u001B[1;32m      2\u001B[0m test_d \u001B[38;5;241m=\u001B[39m np\u001B[38;5;241m.\u001B[39mload(\u001B[38;5;124m\"\u001B[39m\u001B[38;5;124m/content/drive/MyDrive/Dataset/semicon_test_data.npy\u001B[39m\u001B[38;5;124m\"\u001B[39m)\n\u001B[1;32m      4\u001B[0m \u001B[38;5;66;03m# train data path\u001B[39;00m\n\u001B[1;32m      5\u001B[0m \u001B[38;5;66;03m# train_d = np.load(\"./semicon_train_data.npy\")\u001B[39;00m\n\u001B[1;32m      6\u001B[0m \n\u001B[1;32m      7\u001B[0m \u001B[38;5;66;03m# test data path\u001B[39;00m\n\u001B[1;32m      8\u001B[0m \u001B[38;5;66;03m# train_d = np.load(\"./semicon_test_data.npy\")\u001B[39;00m\n",
      "File \u001B[0;32m~/anaconda3/envs/tensor2/lib/python3.9/site-packages/numpy/lib/npyio.py:390\u001B[0m, in \u001B[0;36mload\u001B[0;34m(file, mmap_mode, allow_pickle, fix_imports, encoding)\u001B[0m\n\u001B[1;32m    388\u001B[0m     own_fid \u001B[38;5;241m=\u001B[39m \u001B[38;5;28;01mFalse\u001B[39;00m\n\u001B[1;32m    389\u001B[0m \u001B[38;5;28;01melse\u001B[39;00m:\n\u001B[0;32m--> 390\u001B[0m     fid \u001B[38;5;241m=\u001B[39m stack\u001B[38;5;241m.\u001B[39menter_context(\u001B[38;5;28;43mopen\u001B[39;49m\u001B[43m(\u001B[49m\u001B[43mos_fspath\u001B[49m\u001B[43m(\u001B[49m\u001B[43mfile\u001B[49m\u001B[43m)\u001B[49m\u001B[43m,\u001B[49m\u001B[43m \u001B[49m\u001B[38;5;124;43m\"\u001B[39;49m\u001B[38;5;124;43mrb\u001B[39;49m\u001B[38;5;124;43m\"\u001B[39;49m\u001B[43m)\u001B[49m)\n\u001B[1;32m    391\u001B[0m     own_fid \u001B[38;5;241m=\u001B[39m \u001B[38;5;28;01mTrue\u001B[39;00m\n\u001B[1;32m    393\u001B[0m \u001B[38;5;66;03m# Code to distinguish from NumPy binary files and pickles.\u001B[39;00m\n",
      "\u001B[0;31mFileNotFoundError\u001B[0m: [Errno 2] No such file or directory: '/content/drive/MyDrive/Dataset/semicon_train_data.npy'"
     ]
    }
   ]
  },
  {
   "cell_type": "code",
   "metadata": {
    "id": "EHTnjvhZi4x9",
    "colab": {
     "base_uri": "https://localhost:8080/"
    },
    "outputId": "835c1934-d7a9-4825-c986-7000da0545a5",
    "ExecuteTime": {
     "start_time": "2024-01-09T05:41:50.640258Z"
    }
   },
   "source": [
    "print(train_d[1].shape)"
   ],
   "execution_count": null,
   "outputs": []
  },
  {
   "cell_type": "code",
   "metadata": {
    "id": "OsF_kurljuwU",
    "colab": {
     "base_uri": "https://localhost:8080/"
    },
    "outputId": "f0066b01-2661-44b0-b968-68176ee2fc42",
    "ExecuteTime": {
     "start_time": "2024-01-09T05:41:50.642087Z"
    }
   },
   "source": [
    "print(test_d[0].shape)"
   ],
   "execution_count": null,
   "outputs": []
  },
  {
   "cell_type": "code",
   "metadata": {
    "id": "OdXgDw8oyTQf",
    "colab": {
     "base_uri": "https://localhost:8080/"
    },
    "outputId": "70b55998-32d9-4b14-f060-e256ecb9b39f",
    "ExecuteTime": {
     "end_time": "2024-01-09T05:41:50.645418Z",
     "start_time": "2024-01-09T05:41:50.644664Z"
    }
   },
   "source": [
    "# Raw Data 확인\n",
    "print(train_d[1000])\n",
    "# print(test_d[0])"
   ],
   "execution_count": null,
   "outputs": []
  },
  {
   "cell_type": "markdown",
   "metadata": {
    "id": "YJTUCIIAt01D"
   },
   "source": [
    "* 데이터를 분석하여 모델에 학습할 수 있는 형태로 정리합니다."
   ]
  },
  {
   "cell_type": "code",
   "metadata": {
    "id": "awmkQxq8sWsG",
    "ExecuteTime": {
     "start_time": "2024-01-09T05:41:50.644984Z"
    }
   },
   "source": [
    "train = train_d[:,4:] # 729000, 230 4번째 데이터부터 가져온다.\n",
    "label = train_d[:,:4]\n",
    "\n",
    "t_train = test_d[:,4:] # 81000, 230개 4번째 까지 데이터를 가져온다.\n",
    "t_label = test_d[:,:4]"
   ],
   "execution_count": null,
   "outputs": []
  },
  {
   "cell_type": "code",
   "metadata": {
    "id": "u0Cb4BQPKqVs",
    "colab": {
     "base_uri": "https://localhost:8080/"
    },
    "outputId": "6d21eedc-b6fb-4d83-c4ac-09b900011580",
    "ExecuteTime": {
     "start_time": "2024-01-09T05:41:50.645341Z"
    }
   },
   "source": [
    "batch_size = 256\n",
    "\n",
    "# for train\n",
    "train_dataset = tf.data.Dataset.from_tensor_slices((train, label))\n",
    "train_dataset = train_dataset.shuffle(10000).repeat().batch(batch_size=batch_size)\n",
    "print(train_dataset)\n",
    "\n",
    "# for test\n",
    "test_dataset = tf.data.Dataset.from_tensor_slices((t_train, t_label))\n",
    "test_dataset = test_dataset.batch(batch_size=batch_size)\n",
    "print(test_dataset)"
   ],
   "execution_count": null,
   "outputs": []
  },
  {
   "cell_type": "markdown",
   "metadata": {
    "id": "YsJ2qMl3Bryb"
   },
   "source": [
    "### 모델 구성\n",
    "* 현재 가장 간단한 모델로 구성되어 있습니다.\n",
    "* 데이터셋 자체를 가장 잘 학습할 수 있는 모델을 구현해 학습을 진행합니다."
   ]
  },
  {
   "cell_type": "code",
   "metadata": {
    "id": "zzo9y_5eryuq"
   },
   "source": [
    "input_tensor = layers.Input(shape=(226,))\n",
    "# CNN1D, CNN2D, RNN 세가지를 사용해서 모델링\n",
    "\n",
    "x = layers.Dense(8*8*4,activation'relu')(input_tensor)\n",
    "x = layers.Reshape(target_shape=(8,8,4))(x) # 컨볼루션을 쓰기위한 변환 (64,4) -> CNN1D또는 RNN 사용가능 256,1도 가능\n",
    "\n",
    "\n",
    "x = layers.Dense(226,\n",
    "                 kernel_initializer=tf.keras.initializers.HeUniform())(input_tensor)\n",
    "x = layers.BatchNormalization()(x)\n",
    "x_skip = layers.Activation('relu')(x)\n",
    "\n",
    "x = layers.Dense(128,\n",
    "                 kernel_initializer=tf.keras.initializers.HeUniform())(x_skip)\n",
    "x = layers.BatchNormalization()(x)\n",
    "x = layers.Activation('relu')(x)\n",
    "\n",
    "x = tf.concat([x, x_skip], axis=-1) # batch, 128 + 226\n",
    "\n",
    "x = layers.Dense(128,\n",
    "                 kernel_initializer=tf.keras.initializers.HeUniform())(x)\n",
    "x = layers.BatchNormalization()(x)\n",
    "x = layers.Activation('relu')(x)\n",
    "\n",
    "x = layers.Dense(64,\n",
    "                 kernel_initializer=tf.keras.initializers.HeUniform())(x)\n",
    "x = layers.BatchNormalization()(x)\n",
    "x_skip = layers.Activation('relu')(x)\n",
    "\n",
    "x = layers.Dense(64,\n",
    "                 kernel_initializer=tf.keras.initializers.HeUniform())(x_skip)\n",
    "x = layers.BatchNormalization()(x)\n",
    "x = layers.Activation('relu')(x)\n",
    "\n",
    "x = tf.concat([x, x_skip], axis=-1)\n",
    "\n",
    "x = layers.Dense(32,\n",
    "                 kernel_initializer=tf.keras.initializers.HeUniform())(x)\n",
    "x = layers.BatchNormalization()(x)\n",
    "x = layers.Activation('relu')(x)\n",
    "\n",
    "x = layers.Dense(16,\n",
    "                 kernel_initializer=tf.keras.initializers.HeUniform())(x)\n",
    "x = layers.BatchNormalization()(x)\n",
    "x = layers.Activation('relu')(x)\n",
    "\n",
    "output_tensor = layers.Dense(4)(x)\n",
    "\n",
    "model = tf.keras.Model(input_tensor, output_tensor)"
   ],
   "execution_count": null,
   "outputs": []
  },
  {
   "cell_type": "markdown",
   "metadata": {
    "id": "a0OODMx4Btb5"
   },
   "source": [
    "### 모델 학습\n",
    "* 4개층의 박막의 두께를 예측하는 모델을 학습해봅시다."
   ]
  },
  {
   "cell_type": "code",
   "metadata": {
    "id": "YlhAzzfCLDQ0"
   },
   "source": [
    "# the save point\n",
    "if use_colab:\n",
    "    checkpoint_dir ='./drive/My Drive/train_ckpt/semiconductor/exp1'\n",
    "    if not os.path.isdir(checkpoint_dir):\n",
    "        os.makedirs(checkpoint_dir)\n",
    "else:\n",
    "    checkpoint_dir = 'semiconductor/exp1'\n",
    "\n",
    "cp_callback = tf.keras.callbacks.ModelCheckpoint(checkpoint_dir,\n",
    "                                                 save_weights_only=True,\n",
    "                                                 monitor='val_loss',\n",
    "                                                 mode='auto',\n",
    "                                                 save_best_only=True,\n",
    "                                                 verbose=1)"
   ],
   "execution_count": null,
   "outputs": []
  },
  {
   "cell_type": "code",
   "metadata": {
    "id": "XaTHvzqjuCQS"
   },
   "source": [
    "model.compile(loss='mae', #mse\n",
    "              optimizer='adam',\n",
    "              metrics=['mae']) #mse"
   ],
   "execution_count": null,
   "outputs": []
  },
  {
   "cell_type": "code",
   "metadata": {
    "id": "QUUO_VcoLJEg",
    "colab": {
     "base_uri": "https://localhost:8080/"
    },
    "outputId": "862741d0-7936-48f5-b11d-bad23e7c3137"
   },
   "source": [
    "history = model.fit(train_dataset,\n",
    "                    steps_per_epoch=len(train) / batch_size, # train data의 길이 // batch 길이\n",
    "                    epochs=100,\n",
    "                    validation_data=test_dataset,\n",
    "                    validation_steps=len(t_train) / batch_size)"
   ],
   "execution_count": null,
   "outputs": [
    {
     "output_type": "stream",
     "name": "stdout",
     "text": [
      "Epoch 1/100\n",
      "2847/2847 [==============================] - 44s 12ms/step - loss: 98.3696 - mae: 98.3696 - val_loss: 55.0984 - val_mae: 55.0984\n",
      "Epoch 2/100\n",
      "2847/2847 [==============================] - 33s 12ms/step - loss: 41.6744 - mae: 41.6744 - val_loss: 32.9359 - val_mae: 32.9359\n",
      "Epoch 3/100\n",
      "2847/2847 [==============================] - 35s 12ms/step - loss: 25.3576 - mae: 25.3576 - val_loss: 18.7295 - val_mae: 18.7295\n",
      "Epoch 4/100\n",
      "2847/2847 [==============================] - 33s 12ms/step - loss: 18.0173 - mae: 18.0173 - val_loss: 14.7011 - val_mae: 14.7011\n",
      "Epoch 5/100\n",
      "2847/2847 [==============================] - 33s 12ms/step - loss: 15.6218 - mae: 15.6218 - val_loss: 12.6688 - val_mae: 12.6688\n",
      "Epoch 6/100\n",
      "2847/2847 [==============================] - 33s 12ms/step - loss: 14.1532 - mae: 14.1532 - val_loss: 11.6533 - val_mae: 11.6533\n",
      "Epoch 7/100\n",
      "2847/2847 [==============================] - 33s 12ms/step - loss: 13.1076 - mae: 13.1076 - val_loss: 10.7831 - val_mae: 10.7831\n",
      "Epoch 8/100\n",
      "2847/2847 [==============================] - 34s 12ms/step - loss: 12.3764 - mae: 12.3764 - val_loss: 10.1933 - val_mae: 10.1933\n",
      "Epoch 9/100\n",
      "2847/2847 [==============================] - 33s 11ms/step - loss: 11.7947 - mae: 11.7947 - val_loss: 9.5747 - val_mae: 9.5747\n",
      "Epoch 10/100\n",
      "2847/2847 [==============================] - 34s 12ms/step - loss: 11.2987 - mae: 11.2987 - val_loss: 9.3836 - val_mae: 9.3836\n",
      "Epoch 11/100\n",
      "2847/2847 [==============================] - 33s 12ms/step - loss: 10.8654 - mae: 10.8654 - val_loss: 9.2192 - val_mae: 9.2192\n",
      "Epoch 12/100\n",
      "2847/2847 [==============================] - 33s 12ms/step - loss: 10.5522 - mae: 10.5522 - val_loss: 8.2976 - val_mae: 8.2976\n",
      "Epoch 13/100\n",
      "2847/2847 [==============================] - 32s 11ms/step - loss: 10.2725 - mae: 10.2725 - val_loss: 8.2708 - val_mae: 8.2708\n",
      "Epoch 14/100\n",
      "2847/2847 [==============================] - 34s 12ms/step - loss: 10.0172 - mae: 10.0172 - val_loss: 7.6924 - val_mae: 7.6924\n",
      "Epoch 15/100\n",
      "2847/2847 [==============================] - 33s 12ms/step - loss: 9.7965 - mae: 9.7965 - val_loss: 7.5464 - val_mae: 7.5464\n",
      "Epoch 16/100\n",
      "2847/2847 [==============================] - 33s 12ms/step - loss: 9.6332 - mae: 9.6332 - val_loss: 7.3972 - val_mae: 7.3972\n",
      "Epoch 17/100\n",
      "2847/2847 [==============================] - 33s 11ms/step - loss: 9.4276 - mae: 9.4276 - val_loss: 7.2775 - val_mae: 7.2775\n",
      "Epoch 18/100\n",
      "2847/2847 [==============================] - 32s 11ms/step - loss: 9.2707 - mae: 9.2707 - val_loss: 7.1137 - val_mae: 7.1137\n",
      "Epoch 19/100\n",
      "2847/2847 [==============================] - 33s 12ms/step - loss: 9.1206 - mae: 9.1206 - val_loss: 6.9142 - val_mae: 6.9142\n",
      "Epoch 20/100\n",
      "2847/2847 [==============================] - 34s 12ms/step - loss: 8.9705 - mae: 8.9705 - val_loss: 6.8319 - val_mae: 6.8319\n",
      "Epoch 21/100\n",
      "2847/2847 [==============================] - 35s 12ms/step - loss: 8.8938 - mae: 8.8938 - val_loss: 6.7131 - val_mae: 6.7131\n",
      "Epoch 22/100\n",
      "2847/2847 [==============================] - 34s 12ms/step - loss: 8.7869 - mae: 8.7869 - val_loss: 6.4702 - val_mae: 6.4702\n",
      "Epoch 23/100\n",
      "2847/2847 [==============================] - 36s 13ms/step - loss: 8.6596 - mae: 8.6596 - val_loss: 6.5114 - val_mae: 6.5114\n",
      "Epoch 24/100\n",
      "2847/2847 [==============================] - 37s 13ms/step - loss: 8.5861 - mae: 8.5861 - val_loss: 6.3033 - val_mae: 6.3033\n",
      "Epoch 25/100\n",
      "2847/2847 [==============================] - 33s 12ms/step - loss: 8.4791 - mae: 8.4791 - val_loss: 6.2558 - val_mae: 6.2558\n",
      "Epoch 26/100\n",
      "2847/2847 [==============================] - 35s 12ms/step - loss: 8.3915 - mae: 8.3915 - val_loss: 6.1372 - val_mae: 6.1372\n",
      "Epoch 27/100\n",
      "2847/2847 [==============================] - 34s 12ms/step - loss: 8.3137 - mae: 8.3137 - val_loss: 6.0292 - val_mae: 6.0292\n",
      "Epoch 28/100\n",
      "2847/2847 [==============================] - 33s 12ms/step - loss: 8.2411 - mae: 8.2411 - val_loss: 6.2980 - val_mae: 6.2980\n",
      "Epoch 29/100\n",
      "2847/2847 [==============================] - 32s 11ms/step - loss: 8.1478 - mae: 8.1478 - val_loss: 6.0103 - val_mae: 6.0103\n",
      "Epoch 30/100\n",
      "2847/2847 [==============================] - 32s 11ms/step - loss: 8.0947 - mae: 8.0947 - val_loss: 5.9317 - val_mae: 5.9317\n",
      "Epoch 31/100\n",
      "2847/2847 [==============================] - 33s 12ms/step - loss: 8.0531 - mae: 8.0531 - val_loss: 5.8171 - val_mae: 5.8171\n",
      "Epoch 32/100\n",
      "2847/2847 [==============================] - 33s 12ms/step - loss: 7.9609 - mae: 7.9609 - val_loss: 5.9632 - val_mae: 5.9632\n",
      "Epoch 33/100\n",
      "2847/2847 [==============================] - 34s 12ms/step - loss: 7.9161 - mae: 7.9161 - val_loss: 5.9289 - val_mae: 5.9289\n",
      "Epoch 34/100\n",
      "2847/2847 [==============================] - 32s 11ms/step - loss: 7.8580 - mae: 7.8580 - val_loss: 5.7152 - val_mae: 5.7152\n",
      "Epoch 35/100\n",
      "2847/2847 [==============================] - 33s 12ms/step - loss: 7.8196 - mae: 7.8196 - val_loss: 5.6733 - val_mae: 5.6733\n",
      "Epoch 36/100\n",
      "2847/2847 [==============================] - 33s 11ms/step - loss: 7.7775 - mae: 7.7775 - val_loss: 5.9246 - val_mae: 5.9246\n",
      "Epoch 37/100\n",
      "2847/2847 [==============================] - 35s 12ms/step - loss: 7.6940 - mae: 7.6940 - val_loss: 5.4900 - val_mae: 5.4900\n",
      "Epoch 38/100\n",
      "2847/2847 [==============================] - 32s 11ms/step - loss: 7.6567 - mae: 7.6567 - val_loss: 5.6425 - val_mae: 5.6425\n",
      "Epoch 39/100\n",
      "2847/2847 [==============================] - 33s 12ms/step - loss: 7.6151 - mae: 7.6151 - val_loss: 5.5744 - val_mae: 5.5744\n",
      "Epoch 40/100\n",
      "2847/2847 [==============================] - 33s 12ms/step - loss: 7.5781 - mae: 7.5781 - val_loss: 5.4983 - val_mae: 5.4983\n",
      "Epoch 41/100\n",
      "2847/2847 [==============================] - 32s 11ms/step - loss: 7.5228 - mae: 7.5228 - val_loss: 5.4053 - val_mae: 5.4053\n",
      "Epoch 42/100\n",
      "2847/2847 [==============================] - 33s 12ms/step - loss: 7.4723 - mae: 7.4723 - val_loss: 5.3742 - val_mae: 5.3742\n",
      "Epoch 43/100\n",
      "2847/2847 [==============================] - 32s 11ms/step - loss: 7.3971 - mae: 7.3971 - val_loss: 5.8738 - val_mae: 5.8738\n",
      "Epoch 44/100\n",
      "2847/2847 [==============================] - 33s 12ms/step - loss: 7.4046 - mae: 7.4046 - val_loss: 5.3615 - val_mae: 5.3615\n",
      "Epoch 45/100\n",
      "2847/2847 [==============================] - 32s 11ms/step - loss: 7.3576 - mae: 7.3576 - val_loss: 5.2890 - val_mae: 5.2890\n",
      "Epoch 46/100\n",
      "2847/2847 [==============================] - 32s 11ms/step - loss: 7.3018 - mae: 7.3018 - val_loss: 5.4128 - val_mae: 5.4128\n",
      "Epoch 47/100\n",
      "2847/2847 [==============================] - 33s 12ms/step - loss: 7.2977 - mae: 7.2977 - val_loss: 5.2234 - val_mae: 5.2234\n",
      "Epoch 48/100\n",
      "2847/2847 [==============================] - 32s 11ms/step - loss: 7.2586 - mae: 7.2586 - val_loss: 5.2990 - val_mae: 5.2990\n",
      "Epoch 49/100\n",
      "2847/2847 [==============================] - 34s 12ms/step - loss: 7.1975 - mae: 7.1975 - val_loss: 5.1710 - val_mae: 5.1710\n",
      "Epoch 50/100\n",
      "2847/2847 [==============================] - 32s 11ms/step - loss: 7.1891 - mae: 7.1891 - val_loss: 5.0942 - val_mae: 5.0942\n",
      "Epoch 51/100\n",
      "2847/2847 [==============================] - 34s 12ms/step - loss: 7.1484 - mae: 7.1484 - val_loss: 4.9883 - val_mae: 4.9883\n",
      "Epoch 52/100\n",
      "2847/2847 [==============================] - 33s 12ms/step - loss: 7.1019 - mae: 7.1019 - val_loss: 5.4390 - val_mae: 5.4390\n",
      "Epoch 53/100\n",
      "2847/2847 [==============================] - 35s 12ms/step - loss: 7.0700 - mae: 7.0700 - val_loss: 5.0882 - val_mae: 5.0882\n",
      "Epoch 54/100\n",
      "2847/2847 [==============================] - 34s 12ms/step - loss: 7.0510 - mae: 7.0510 - val_loss: 5.0578 - val_mae: 5.0578\n",
      "Epoch 55/100\n",
      "2847/2847 [==============================] - 35s 12ms/step - loss: 7.0202 - mae: 7.0202 - val_loss: 5.0349 - val_mae: 5.0349\n",
      "Epoch 56/100\n",
      "2847/2847 [==============================] - 33s 12ms/step - loss: 6.9821 - mae: 6.9821 - val_loss: 5.2390 - val_mae: 5.2390\n",
      "Epoch 57/100\n",
      "2847/2847 [==============================] - 34s 12ms/step - loss: 6.9828 - mae: 6.9828 - val_loss: 5.0327 - val_mae: 5.0327\n",
      "Epoch 58/100\n",
      "2847/2847 [==============================] - 33s 12ms/step - loss: 6.9384 - mae: 6.9384 - val_loss: 5.0759 - val_mae: 5.0759\n",
      "Epoch 59/100\n",
      "2847/2847 [==============================] - 33s 12ms/step - loss: 6.8780 - mae: 6.8780 - val_loss: 4.9260 - val_mae: 4.9260\n",
      "Epoch 60/100\n",
      "2847/2847 [==============================] - 37s 13ms/step - loss: 6.8704 - mae: 6.8704 - val_loss: 4.8593 - val_mae: 4.8593\n",
      "Epoch 61/100\n",
      "2847/2847 [==============================] - 33s 12ms/step - loss: 6.8608 - mae: 6.8608 - val_loss: 4.8831 - val_mae: 4.8831\n",
      "Epoch 62/100\n",
      "2847/2847 [==============================] - 32s 11ms/step - loss: 6.8275 - mae: 6.8275 - val_loss: 5.1727 - val_mae: 5.1727\n",
      "Epoch 63/100\n",
      "2847/2847 [==============================] - 34s 12ms/step - loss: 6.7859 - mae: 6.7859 - val_loss: 4.8546 - val_mae: 4.8546\n",
      "Epoch 64/100\n",
      "2847/2847 [==============================] - 33s 11ms/step - loss: 6.7657 - mae: 6.7657 - val_loss: 4.8685 - val_mae: 4.8685\n",
      "Epoch 65/100\n",
      "2847/2847 [==============================] - 33s 12ms/step - loss: 6.7401 - mae: 6.7401 - val_loss: 4.8768 - val_mae: 4.8768\n",
      "Epoch 66/100\n",
      "2847/2847 [==============================] - 33s 12ms/step - loss: 6.7265 - mae: 6.7265 - val_loss: 4.6834 - val_mae: 4.6834\n",
      "Epoch 67/100\n",
      "2847/2847 [==============================] - 33s 11ms/step - loss: 6.6693 - mae: 6.6693 - val_loss: 4.8329 - val_mae: 4.8329\n",
      "Epoch 68/100\n",
      "2847/2847 [==============================] - 34s 12ms/step - loss: 6.6614 - mae: 6.6614 - val_loss: 4.7936 - val_mae: 4.7936\n",
      "Epoch 69/100\n",
      "2847/2847 [==============================] - 32s 11ms/step - loss: 6.6552 - mae: 6.6552 - val_loss: 4.8079 - val_mae: 4.8079\n",
      "Epoch 70/100\n",
      "2847/2847 [==============================] - 33s 12ms/step - loss: 6.6337 - mae: 6.6337 - val_loss: 4.7778 - val_mae: 4.7778\n",
      "Epoch 71/100\n",
      "2847/2847 [==============================] - 33s 11ms/step - loss: 6.6061 - mae: 6.6061 - val_loss: 4.7467 - val_mae: 4.7467\n",
      "Epoch 72/100\n",
      "2847/2847 [==============================] - 34s 12ms/step - loss: 6.5800 - mae: 6.5800 - val_loss: 4.8474 - val_mae: 4.8474\n",
      "Epoch 73/100\n",
      "2847/2847 [==============================] - 32s 11ms/step - loss: 6.5879 - mae: 6.5879 - val_loss: 4.6442 - val_mae: 4.6442\n",
      "Epoch 74/100\n",
      "2847/2847 [==============================] - 33s 11ms/step - loss: 6.5656 - mae: 6.5656 - val_loss: 4.7916 - val_mae: 4.7916\n",
      "Epoch 75/100\n",
      "2847/2847 [==============================] - 33s 12ms/step - loss: 6.5286 - mae: 6.5286 - val_loss: 4.5983 - val_mae: 4.5983\n",
      "Epoch 76/100\n",
      "2847/2847 [==============================] - 32s 11ms/step - loss: 6.4862 - mae: 6.4862 - val_loss: 4.6008 - val_mae: 4.6008\n",
      "Epoch 77/100\n",
      "2847/2847 [==============================] - 33s 12ms/step - loss: 6.4822 - mae: 6.4822 - val_loss: 4.5863 - val_mae: 4.5863\n",
      "Epoch 78/100\n",
      "2847/2847 [==============================] - 32s 11ms/step - loss: 6.4512 - mae: 6.4512 - val_loss: 4.6937 - val_mae: 4.6937\n",
      "Epoch 79/100\n",
      "2847/2847 [==============================] - 33s 12ms/step - loss: 6.4517 - mae: 6.4517 - val_loss: 4.7971 - val_mae: 4.7971\n",
      "Epoch 80/100\n",
      "2847/2847 [==============================] - 33s 12ms/step - loss: 6.4411 - mae: 6.4411 - val_loss: 4.6173 - val_mae: 4.6173\n",
      "Epoch 81/100\n",
      "2847/2847 [==============================] - 33s 12ms/step - loss: 6.4007 - mae: 6.4007 - val_loss: 4.6712 - val_mae: 4.6712\n",
      "Epoch 82/100\n",
      "2847/2847 [==============================] - 33s 12ms/step - loss: 6.3860 - mae: 6.3860 - val_loss: 4.5905 - val_mae: 4.5905\n",
      "Epoch 83/100\n",
      "2847/2847 [==============================] - 32s 11ms/step - loss: 6.3750 - mae: 6.3750 - val_loss: 4.5082 - val_mae: 4.5082\n",
      "Epoch 84/100\n",
      "2847/2847 [==============================] - 33s 12ms/step - loss: 6.3653 - mae: 6.3653 - val_loss: 4.6231 - val_mae: 4.6231\n",
      "Epoch 85/100\n",
      "2847/2847 [==============================] - 32s 11ms/step - loss: 6.3490 - mae: 6.3490 - val_loss: 4.5700 - val_mae: 4.5700\n",
      "Epoch 86/100\n",
      "2847/2847 [==============================] - 35s 12ms/step - loss: 6.3441 - mae: 6.3441 - val_loss: 4.5706 - val_mae: 4.5706\n",
      "Epoch 87/100\n",
      "2847/2847 [==============================] - 32s 11ms/step - loss: 6.3160 - mae: 6.3160 - val_loss: 4.4801 - val_mae: 4.4801\n",
      "Epoch 88/100\n",
      "2847/2847 [==============================] - 33s 12ms/step - loss: 6.2917 - mae: 6.2917 - val_loss: 4.4492 - val_mae: 4.4492\n",
      "Epoch 89/100\n",
      "2847/2847 [==============================] - 33s 12ms/step - loss: 6.2673 - mae: 6.2673 - val_loss: 4.4364 - val_mae: 4.4364\n",
      "Epoch 90/100\n",
      "2847/2847 [==============================] - 33s 12ms/step - loss: 6.2582 - mae: 6.2582 - val_loss: 4.5396 - val_mae: 4.5396\n",
      "Epoch 91/100\n",
      "2847/2847 [==============================] - 33s 12ms/step - loss: 6.2437 - mae: 6.2437 - val_loss: 4.4340 - val_mae: 4.4340\n",
      "Epoch 92/100\n",
      "2847/2847 [==============================] - 33s 12ms/step - loss: 6.2344 - mae: 6.2344 - val_loss: 4.5570 - val_mae: 4.5570\n",
      "Epoch 93/100\n",
      "2847/2847 [==============================] - 34s 12ms/step - loss: 6.2096 - mae: 6.2096 - val_loss: 4.5309 - val_mae: 4.5309\n",
      "Epoch 94/100\n",
      "2847/2847 [==============================] - 33s 12ms/step - loss: 6.2364 - mae: 6.2364 - val_loss: 4.4046 - val_mae: 4.4046\n",
      "Epoch 95/100\n",
      "2847/2847 [==============================] - 34s 12ms/step - loss: 6.1718 - mae: 6.1718 - val_loss: 4.4525 - val_mae: 4.4525\n",
      "Epoch 96/100\n",
      "2847/2847 [==============================] - 33s 11ms/step - loss: 6.1778 - mae: 6.1778 - val_loss: 4.4234 - val_mae: 4.4234\n",
      "Epoch 97/100\n",
      "2847/2847 [==============================] - 33s 12ms/step - loss: 6.1731 - mae: 6.1731 - val_loss: 4.4228 - val_mae: 4.4228\n",
      "Epoch 98/100\n",
      "2847/2847 [==============================] - 33s 12ms/step - loss: 6.1397 - mae: 6.1397 - val_loss: 4.3904 - val_mae: 4.3904\n",
      "Epoch 99/100\n",
      "2847/2847 [==============================] - 33s 12ms/step - loss: 6.1304 - mae: 6.1304 - val_loss: 4.4282 - val_mae: 4.4282\n",
      "Epoch 100/100\n",
      "2847/2847 [==============================] - 34s 12ms/step - loss: 6.1343 - mae: 6.1343 - val_loss: 4.4304 - val_mae: 4.4304\n"
     ]
    }
   ]
  },
  {
   "cell_type": "code",
   "metadata": {
    "id": "Hcx7cdQgLWau",
    "colab": {
     "base_uri": "https://localhost:8080/",
     "height": 391
    },
    "outputId": "99286f0b-b610-40f5-bf2a-cdae522e9dd5"
   },
   "source": [
    "# np.save(\"file/path.npy\", history.numpy())\n",
    "# history = np.load(\"histoy.npy\", allow_pickle=True)\n",
    "\n",
    "loss=history.history['mae'] # mse\n",
    "val_loss=history.history['val_mae'] # val_mse\n",
    "\n",
    "epochs_range = range(len(loss))\n",
    "\n",
    "plt.figure(figsize=(8, 4))\n",
    "plt.plot(epochs_range, loss, label='Training MAE') # MSE\n",
    "plt.plot(epochs_range, val_loss, label='Validation MAE') # MSE\n",
    "plt.legend(loc='upper right')\n",
    "plt.title('Training and Validation MAE') # MSE\n",
    "plt.show()"
   ],
   "execution_count": null,
   "outputs": [
    {
     "output_type": "display_data",
     "data": {
      "text/plain": [
       "<Figure size 800x400 with 1 Axes>"
      ],
      "image/png": "[encoded data removed]"
     },
     "metadata": {}
    }
   ]
  },
  {
   "cell_type": "markdown",
   "metadata": {
    "id": "SIPmAVP1u9nX"
   },
   "source": [
    "### 모델 평가\n",
    "* Mean absolute error 를 이용해 모델이 정확히 예측하는지를 확인"
   ]
  },
  {
   "cell_type": "code",
   "metadata": {
    "id": "VqsdquFJuKUv",
    "colab": {
     "base_uri": "https://localhost:8080/"
    },
    "outputId": "e261d9c8-3b92-40f6-d150-73f3eadd4f5d"
   },
   "source": [
    "# model.load_weights(checkpoint_dir)\n",
    "results = model.evaluate(test_dataset)\n",
    "print(\"MAE :\", results[0]) # MAE"
   ],
   "execution_count": null,
   "outputs": [
    {
     "output_type": "stream",
     "name": "stdout",
     "text": [
      "317/317 [==============================] - 1s 4ms/step - loss: 4.4304 - mae: 4.4304\n",
      "MAE : 4.430441379547119\n"
     ]
    }
   ]
  },
  {
   "cell_type": "code",
   "metadata": {
    "id": "1mWFZphNupHX"
   },
   "source": [],
   "execution_count": null,
   "outputs": []
  }
 ]
}
