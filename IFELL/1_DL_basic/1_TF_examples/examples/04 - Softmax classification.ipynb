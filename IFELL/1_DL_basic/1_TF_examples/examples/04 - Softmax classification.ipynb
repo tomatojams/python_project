{
 "nbformat": 4,
 "nbformat_minor": 0,
 "metadata": {
  "colab": {
   "provenance": []
  },
  "kernelspec": {
   "display_name": "Python 3",
   "language": "python",
   "name": "python3"
  },
  "language_info": {
   "codemirror_mode": {
    "name": "ipython",
    "version": 3
   },
   "file_extension": ".py",
   "mimetype": "text/x-python",
   "name": "python",
   "nbconvert_exporter": "python",
   "pygments_lexer": "ipython3",
   "version": "3.6.8"
  }
 },
 "cells": [
  {
   "cell_type": "code",
   "metadata": {
    "id": "9JutkdoS4X-A",
    "colab": {
     "base_uri": "https://localhost:8080/",
     "height": 35
    },
    "executionInfo": {
     "status": "ok",
     "timestamp": 1658709006476,
     "user_tz": -540,
     "elapsed": 3896,
     "user": {
      "displayName": "­소준섭",
      "userId": "06480402923742517511"
     }
    },
    "outputId": "66e3ae69-a0f5-4581-80a5-cf7e0b5b7ec7",
    "ExecuteTime": {
     "end_time": "2023-12-21T01:24:03.006639Z",
     "start_time": "2023-12-21T01:24:02.943506Z"
    }
   },
   "source": [
    "import tensorflow as tf\n",
    "import numpy as np\n",
    "import matplotlib.pyplot as plt\n",
    "\n",
    "tf.__version__"
   ],
   "execution_count": 5,
   "outputs": [
    {
     "data": {
      "text/plain": "'2.10.0'"
     },
     "execution_count": 5,
     "metadata": {},
     "output_type": "execute_result"
    }
   ]
  },
  {
   "cell_type": "markdown",
   "metadata": {
    "id": "r8vMWSpBX3iX"
   },
   "source": [
    "# Softmax classification\n",
    "\n",
    "* 임의의 Dataset 준비\n",
    "* 3개의 클래스로 분류할 데이터 준비\n"
   ]
  },
  {
   "cell_type": "code",
   "metadata": {
    "id": "lZH1QvjlFBsE",
    "ExecuteTime": {
     "end_time": "2023-12-21T01:24:03.034075Z",
     "start_time": "2023-12-21T01:24:02.956236Z"
    }
   },
   "source": [
    "x_data = [[1., 2., 1., 1.],\n",
    "          [2., 1., 3., 2.],\n",
    "          [3., 1., 3., 4.],\n",
    "          [4., 1., 5., 5.],\n",
    "          [1., 7., 5., 5.],\n",
    "          [1., 2., 5., 6.],\n",
    "          [1., 6., 6., 6.],\n",
    "          [1., 7., 7., 7.]] # 8x4\n",
    "y_data = [[0., 0., 1.],\n",
    "          [0., 0., 1.],\n",
    "          [0., 0., 1.],\n",
    "          [0., 1., 0.],\n",
    "          [0., 1., 0.],\n",
    "          [0., 1., 0.],\n",
    "          [1., 0., 0.],\n",
    "          [1., 0., 0.]] # 8x3\n",
    "\n",
    "x_test = [[1., 1., 1., 1.]]\n",
    "y_test = [[0., 0., 1.]]\n"
   ],
   "execution_count": 6,
   "outputs": []
  },
  {
   "cell_type": "markdown",
   "metadata": {
    "id": "qCPXA2luyvlN"
   },
   "source": [
    "## 임의의 Data를 이용해서 3개의 클래스를 가지는 데이터셋 생성"
   ]
  },
  {
   "cell_type": "code",
   "metadata": {
    "id": "HpNjJzwwX7uz",
    "colab": {
     "base_uri": "https://localhost:8080/"
    },
    "executionInfo": {
     "status": "ok",
     "timestamp": 1658709006932,
     "user_tz": -540,
     "elapsed": 461,
     "user": {
      "displayName": "­소준섭",
      "userId": "06480402923742517511"
     }
    },
    "outputId": "1d249e67-45e7-4d98-c35d-dad174a93ebd",
    "ExecuteTime": {
     "end_time": "2023-12-21T01:24:03.077410Z",
     "start_time": "2023-12-21T01:24:02.965360Z"
    }
   },
   "source": [
    "#dataset을 선언합니다.\n",
    "dataset = tf.data.Dataset.from_tensor_slices((x_data, y_data))\n",
    "dataset = dataset.repeat(1).batch(8)\n",
    "\n",
    "nb_classes = 3 # class의 개수입니다.\n",
    "\n",
    "print(tf.Variable(x_data))\n",
    "print(tf.Variable(y_data))"
   ],
   "execution_count": 7,
   "outputs": [
    {
     "name": "stdout",
     "output_type": "stream",
     "text": [
      "<tf.Variable 'Variable:0' shape=(8, 4) dtype=float32, numpy=\n",
      "array([[1., 2., 1., 1.],\n",
      "       [2., 1., 3., 2.],\n",
      "       [3., 1., 3., 4.],\n",
      "       [4., 1., 5., 5.],\n",
      "       [1., 7., 5., 5.],\n",
      "       [1., 2., 5., 6.],\n",
      "       [1., 6., 6., 6.],\n",
      "       [1., 7., 7., 7.]], dtype=float32)>\n",
      "<tf.Variable 'Variable:0' shape=(8, 3) dtype=float32, numpy=\n",
      "array([[0., 0., 1.],\n",
      "       [0., 0., 1.],\n",
      "       [0., 0., 1.],\n",
      "       [0., 1., 0.],\n",
      "       [0., 1., 0.],\n",
      "       [0., 1., 0.],\n",
      "       [1., 0., 0.],\n",
      "       [1., 0., 0.]], dtype=float32)>\n"
     ]
    }
   ]
  },
  {
   "cell_type": "code",
   "metadata": {
    "id": "wmHTiEKcX_zD",
    "colab": {
     "base_uri": "https://localhost:8080/"
    },
    "executionInfo": {
     "status": "ok",
     "timestamp": 1658709006933,
     "user_tz": -540,
     "elapsed": 5,
     "user": {
      "displayName": "­소준섭",
      "userId": "06480402923742517511"
     }
    },
    "outputId": "6d9f6fb8-bbd9-40c3-f8a7-b91645d52a07",
    "ExecuteTime": {
     "end_time": "2023-12-21T01:24:03.077782Z",
     "start_time": "2023-12-21T01:24:02.977960Z"
    }
   },
   "source": [
    "#Weight and bias setting\n",
    "W = tf.Variable(tf.random.normal([4, nb_classes]), name='weight')\n",
    "b = tf.Variable(tf.random.normal([nb_classes]), name='bias') # 바이어스 3개 nb_classes\n",
    "variables = [W, b]\n",
    "\n",
    "tf.print(W,b)"
   ],
   "execution_count": 8,
   "outputs": [
    {
     "name": "stdout",
     "output_type": "stream",
     "text": [
      "[[-1.35441589 0.704549313 0.0366619118]\n",
      " [0.869187951 0.438422769 -0.534398437]\n",
      " [-0.0771029219 1.5658046 -0.101234496]\n",
      " [-0.274497509 1.42046595 1.26094651]] [-1.35441589 0.704549313 0.0366619118]\n"
     ]
    }
   ]
  },
  {
   "cell_type": "markdown",
   "metadata": {
    "id": "4op7dp4RyvlT"
   },
   "source": [
    "# 가설 설정\n",
    "\n",
    "* 가설에서 예측한 값들을 이용해 예측값들을 확률로 표현한다.\n",
    "\n",
    "## $$ y_k = \\frac{exp(x_k)}{\\sum_{i=1}^{n}exp(x_i)}  $$"
   ]
  },
  {
   "cell_type": "code",
   "metadata": {
    "id": "Kje8MUl-DOMO",
    "colab": {
     "base_uri": "https://localhost:8080/"
    },
    "executionInfo": {
     "status": "ok",
     "timestamp": 1658709006933,
     "user_tz": -540,
     "elapsed": 4,
     "user": {
      "displayName": "­소준섭",
      "userId": "06480402923742517511"
     }
    },
    "outputId": "7c0bc90c-aa15-4ee1-fb6b-9be81412ca72",
    "ExecuteTime": {
     "end_time": "2023-12-21T01:24:03.234682Z",
     "start_time": "2023-12-21T01:24:02.987610Z"
    }
   },
   "source": [
    "# tf.nn.softmax computes softmax activations\n",
    "# softmax = exp(logits) / reduce_sum(exp(logits), dim)\n",
    "def hypothesis_softmax(X):\n",
    "    return tf.nn.softmax(tf.matmul(X, W) + b)\n",
    "\n",
    "tf.print(hypothesis_softmax(tf.Variable(x_data)))"
   ],
   "execution_count": 9,
   "outputs": [
    {
     "name": "stdout",
     "output_type": "stream",
     "text": [
      "[[0.00135811116 0.992638111 0.00600378495]\n",
      " [7.79175593e-07 0.999749959 0.000249291]\n",
      " [3.35181127e-09 0.999907 9.29304078e-05]\n",
      " ...\n",
      " [3.9953485e-10 0.999996543 3.46176444e-06]\n",
      " [4.32878455e-10 1 1.33459421e-08]\n",
      " [2.36497037e-11 1 8.1207141e-10]]\n"
     ]
    }
   ]
  },
  {
   "cell_type": "markdown",
   "metadata": {
    "id": "aYnGTBv2S-DS"
   },
   "source": [
    "## 가설을 검증할 Cross Entropy 함수를 정의합니다\n",
    "\n",
    "$$\n",
    "\\begin{align}\n",
    "cost(h(x),y) & = −\\sum_{n=1}^{n} Y log(h(x))\n",
    "\\end{align}\n",
    "$$"
   ]
  },
  {
   "cell_type": "code",
   "metadata": {
    "id": "fxXa5whUIwSN",
    "ExecuteTime": {
     "end_time": "2023-12-21T01:24:03.240832Z",
     "start_time": "2023-12-21T01:24:03.235809Z"
    }
   },
   "source": [
    "def loss_fn(hypothesis, labels):\n",
    "    loss = tf.keras.losses.categorical_crossentropy(labels, hypothesis)\n",
    "    # tf.keras.losses.binary_crossentropy(labels, hypothesis) # 이진분류용 CE Loss\n",
    "    return loss\n",
    "\n",
    "optimizer = tf.compat.v1.train.GradientDescentOptimizer(learning_rate=0.01)"
   ],
   "execution_count": 10,
   "outputs": []
  },
  {
   "cell_type": "markdown",
   "metadata": {
    "id": "k-3BTbBLyvla"
   },
   "source": [
    "### 학습 진행"
   ]
  },
  {
   "cell_type": "code",
   "metadata": {
    "id": "hOHOKhWyIzk9",
    "scrolled": true,
    "colab": {
     "base_uri": "https://localhost:8080/"
    },
    "executionInfo": {
     "status": "ok",
     "timestamp": 1658709060957,
     "user_tz": -540,
     "elapsed": 54027,
     "user": {
      "displayName": "­소준섭",
      "userId": "06480402923742517511"
     }
    },
    "outputId": "e210eda1-19eb-416f-c0bd-a1d6b0df8404",
    "ExecuteTime": {
     "end_time": "2023-12-21T01:24:31.055087Z",
     "start_time": "2023-12-21T01:24:03.240755Z"
    }
   },
   "source": [
    "epochs = 5000\n",
    "\n",
    "for step in range(epochs):\n",
    "  for features, labels in dataset:\n",
    "    with tf.GradientTape() as tape:\n",
    "      loss_value = loss_fn(hypothesis_softmax(features),labels)\n",
    "      grads = tape.gradient(loss_value, [W,b])\n",
    "      optimizer.apply_gradients(grads_and_vars=zip(grads,[W,b]))\n",
    "      if step % 100 == 0:\n",
    "            print(\"Iter: {}, Loss: {:.4f}\".format(step, tf.reduce_mean(loss_value.numpy()).numpy()))"
   ],
   "execution_count": 11,
   "outputs": [
    {
     "name": "stderr",
     "output_type": "stream",
     "text": [
      "loc(\"mps_select\"(\"(mpsFileLoc): /AppleInternal/Library/BuildRoots/0032d1ee-80fd-11ee-8227-6aecfccc70fe/Library/Caches/com.apple.xbs/Sources/MetalPerformanceShadersGraph/mpsgraph/MetalPerformanceShadersGraph/Core/Files/MPSGraphUtilities.mm\":294:0)): error: 'anec.gain_offset_control' op result #0 must be 4D/5D memref of 16-bit float or 8-bit signed integer or 8-bit unsigned integer values, but got 'memref<1x8x1x3xi1>'\n"
     ]
    },
    {
     "name": "stdout",
     "output_type": "stream",
     "text": [
      "Iter: 0, Loss: 6.8665\n",
      "Iter: 100, Loss: 0.5365\n",
      "Iter: 200, Loss: 0.4459\n",
      "Iter: 300, Loss: 0.4027\n",
      "Iter: 400, Loss: 0.3722\n",
      "Iter: 500, Loss: 0.3480\n",
      "Iter: 600, Loss: 0.3275\n",
      "Iter: 700, Loss: 0.3097\n",
      "Iter: 800, Loss: 0.2939\n",
      "Iter: 900, Loss: 0.2797\n",
      "Iter: 1000, Loss: 0.2668\n",
      "Iter: 1100, Loss: 0.2550\n",
      "Iter: 1200, Loss: 0.2442\n",
      "Iter: 1300, Loss: 0.2343\n",
      "Iter: 1400, Loss: 0.2251\n",
      "Iter: 1500, Loss: 0.2166\n",
      "Iter: 1600, Loss: 0.2087\n",
      "Iter: 1700, Loss: 0.2013\n",
      "Iter: 1800, Loss: 0.1944\n",
      "Iter: 1900, Loss: 0.1879\n",
      "Iter: 2000, Loss: 0.1819\n",
      "Iter: 2100, Loss: 0.1762\n",
      "Iter: 2200, Loss: 0.1708\n",
      "Iter: 2300, Loss: 0.1657\n",
      "Iter: 2400, Loss: 0.1609\n",
      "Iter: 2500, Loss: 0.1564\n",
      "Iter: 2600, Loss: 0.1521\n",
      "Iter: 2700, Loss: 0.1481\n",
      "Iter: 2800, Loss: 0.1442\n",
      "Iter: 2900, Loss: 0.1405\n",
      "Iter: 3000, Loss: 0.1370\n",
      "Iter: 3100, Loss: 0.1337\n",
      "Iter: 3200, Loss: 0.1305\n",
      "Iter: 3300, Loss: 0.1275\n",
      "Iter: 3400, Loss: 0.1246\n",
      "Iter: 3500, Loss: 0.1218\n",
      "Iter: 3600, Loss: 0.1191\n",
      "Iter: 3700, Loss: 0.1166\n",
      "Iter: 3800, Loss: 0.1141\n",
      "Iter: 3900, Loss: 0.1118\n",
      "Iter: 4000, Loss: 0.1095\n",
      "Iter: 4100, Loss: 0.1074\n",
      "Iter: 4200, Loss: 0.1053\n",
      "Iter: 4300, Loss: 0.1033\n",
      "Iter: 4400, Loss: 0.1013\n",
      "Iter: 4500, Loss: 0.0995\n",
      "Iter: 4600, Loss: 0.0977\n",
      "Iter: 4700, Loss: 0.0959\n",
      "Iter: 4800, Loss: 0.0943\n",
      "Iter: 4900, Loss: 0.0926\n"
     ]
    }
   ]
  },
  {
   "cell_type": "markdown",
   "metadata": {
    "id": "D6iMuYpxyvld"
   },
   "source": [
    "## Sample 데이터를 넣고 테스트해봅시다."
   ]
  },
  {
   "cell_type": "code",
   "metadata": {
    "id": "pyNxH16II0st",
    "colab": {
     "base_uri": "https://localhost:8080/"
    },
    "executionInfo": {
     "status": "ok",
     "timestamp": 1658709060958,
     "user_tz": -540,
     "elapsed": 17,
     "user": {
      "displayName": "­소준섭",
      "userId": "06480402923742517511"
     }
    },
    "outputId": "35dc7ab0-87c7-404c-c018-781224457437",
    "ExecuteTime": {
     "end_time": "2023-12-21T01:24:31.502443Z",
     "start_time": "2023-12-21T01:24:31.057664Z"
    }
   },
   "source": [
    "sample_data = [[2,1,3,2]] # answer_label [[0,0,1]]\n",
    "sample_data = np.asarray(sample_data, dtype=np.float32)\n",
    "\n",
    "a = hypothesis_softmax(sample_data)\n",
    "\n",
    "print(a)\n",
    "print(tf.argmax(a, 1)) #index: 2"
   ],
   "execution_count": 12,
   "outputs": [
    {
     "name": "stdout",
     "output_type": "stream",
     "text": [
      "tf.Tensor([[5.8078137e-04 4.6068985e-02 9.5335025e-01]], shape=(1, 3), dtype=float32)\n",
      "tf.Tensor([2], shape=(1,), dtype=int64)\n"
     ]
    }
   ]
  },
  {
   "cell_type": "markdown",
   "metadata": {
    "id": "5rB-aJf0yvlg"
   },
   "source": [
    "## 데이터를 이용해서 예측"
   ]
  },
  {
   "cell_type": "code",
   "metadata": {
    "id": "9qJfHxEnI25d",
    "colab": {
     "base_uri": "https://localhost:8080/"
    },
    "executionInfo": {
     "status": "ok",
     "timestamp": 1658709060958,
     "user_tz": -540,
     "elapsed": 13,
     "user": {
      "displayName": "­소준섭",
      "userId": "06480402923742517511"
     }
    },
    "outputId": "b475642d-8a45-45b2-c504-eff386c3dfb5",
    "ExecuteTime": {
     "end_time": "2023-12-21T01:24:31.509421Z",
     "start_time": "2023-12-21T01:24:31.503504Z"
    }
   },
   "source": [
    "b = hypothesis_softmax(x_test)\n",
    "print(b)\n",
    "print(tf.argmax(b, 1)) # tf.argmax(b, 1) 함수는 축 1을 따라 최댓값의 인덱스를 포함하는 텐서를 반환합니다.\n",
    "print(tf.argmax(y_test, 1)) # matches with y_data\n"
   ],
   "execution_count": 13,
   "outputs": [
    {
     "name": "stdout",
     "output_type": "stream",
     "text": [
      "tf.Tensor([[2.4467602e-07 4.7964056e-04 9.9952018e-01]], shape=(1, 3), dtype=float32)\n",
      "tf.Tensor([2], shape=(1,), dtype=int64)\n",
      "tf.Tensor([2], shape=(1,), dtype=int64)\n"
     ]
    }
   ]
  },
  {
   "cell_type": "code",
   "metadata": {
    "id": "CkhpaF-rCMnZ",
    "colab": {
     "base_uri": "https://localhost:8080/"
    },
    "executionInfo": {
     "status": "ok",
     "timestamp": 1658709060958,
     "user_tz": -540,
     "elapsed": 11,
     "user": {
      "displayName": "­소준섭",
      "userId": "06480402923742517511"
     }
    },
    "outputId": "9b479b0b-3647-42ad-c206-7aca986e50ea",
    "ExecuteTime": {
     "end_time": "2023-12-21T01:24:31.696518Z",
     "start_time": "2023-12-21T01:24:31.510812Z"
    }
   },
   "source": [
    "def accuracy_fn(hypothesis, labels):\n",
    "    hypothesis = tf.argmax(hypothesis)\n",
    "    hypothesis = tf.cast(hypothesis, dtype=tf.float32)\n",
    "    predicted = tf.cast(hypothesis > 0.5, dtype=tf.float32)\n",
    "    labels = tf.argmax(labels)\n",
    "    labels = tf.cast(labels, dtype=tf.float32)\n",
    "    accuracy = tf.reduce_mean(tf.cast(tf.equal(predicted, labels), dtype=tf.float32))\n",
    "    return accuracy\n",
    "  \n",
    "test_acc = accuracy_fn(hypothesis_softmax(x_test),y_test)\n",
    "print(\"Testset Accuracy: {:.4f}\".format(test_acc))"
   ],
   "execution_count": 14,
   "outputs": [
    {
     "name": "stdout",
     "output_type": "stream",
     "text": [
      "Testset Accuracy: 1.0000\n"
     ]
    }
   ]
  },
  {
   "cell_type": "code",
   "metadata": {
    "id": "CHq7WwDzE1oh",
    "ExecuteTime": {
     "end_time": "2023-12-21T01:24:31.702392Z",
     "start_time": "2023-12-21T01:24:31.697795Z"
    }
   },
   "source": [],
   "execution_count": 14,
   "outputs": []
  }
 ]
}
