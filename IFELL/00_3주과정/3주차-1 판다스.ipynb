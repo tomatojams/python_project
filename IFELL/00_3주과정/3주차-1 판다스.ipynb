{
 "cells": [
  {
   "cell_type": "code",
   "execution_count": 3,
   "id": "initial_id",
   "metadata": {
    "collapsed": true,
    "ExecuteTime": {
     "end_time": "2023-11-22T08:16:11.515429Z",
     "start_time": "2023-11-22T08:16:11.077440Z"
    }
   },
   "outputs": [
    {
     "data": {
      "text/plain": "0    12000\n1    13000\n2    13000\nName: 가격, dtype: int64"
     },
     "execution_count": 3,
     "metadata": {},
     "output_type": "execute_result"
    }
   ],
   "source": [
    "import pandas as pd\n",
    "# 시리즈 만들기(정수형)\n",
    "price = pd.Series([12000, 13000, 13000], name='가격')\n",
    "price"
   ]
  },
  {
   "cell_type": "code",
   "execution_count": 6,
   "outputs": [
    {
     "data": {
      "text/plain": "0    후라이드\n1    양념치킨\n2    양반후반\nName: 메뉴, dtype: object"
     },
     "execution_count": 6,
     "metadata": {},
     "output_type": "execute_result"
    }
   ],
   "source": [
    "# 시리즈 만들기(문자열)\n",
    "menu = pd.Series(['후라이드', '양념치킨', '양반후반'], name=\"메뉴\")\n",
    "menu"
   ],
   "metadata": {
    "collapsed": false,
    "ExecuteTime": {
     "end_time": "2023-11-22T08:16:33.304613Z",
     "start_time": "2023-11-22T08:16:33.293571Z"
    }
   },
   "id": "a924460c6715fc28"
  },
  {
   "cell_type": "code",
   "execution_count": 7,
   "outputs": [
    {
     "data": {
      "text/plain": "pandas.core.series.Series"
     },
     "execution_count": 7,
     "metadata": {},
     "output_type": "execute_result"
    }
   ],
   "source": [
    "# 시리즈 type 확인\n",
    "type(menu)"
   ],
   "metadata": {
    "collapsed": false,
    "ExecuteTime": {
     "end_time": "2023-11-22T08:16:33.773249Z",
     "start_time": "2023-11-22T08:16:33.764436Z"
    }
   },
   "id": "4dedfb6fa49487bb"
  },
  {
   "cell_type": "code",
   "execution_count": 8,
   "outputs": [
    {
     "data": {
      "text/plain": "     메뉴     가격\n0  후라이드  12000\n1  양념치킨  13000\n2  양반후반  13000",
      "text/html": "<div>\n<style scoped>\n    .dataframe tbody tr th:only-of-type {\n        vertical-align: middle;\n    }\n\n    .dataframe tbody tr th {\n        vertical-align: top;\n    }\n\n    .dataframe thead th {\n        text-align: right;\n    }\n</style>\n<table border=\"1\" class=\"dataframe\">\n  <thead>\n    <tr style=\"text-align: right;\">\n      <th></th>\n      <th>메뉴</th>\n      <th>가격</th>\n    </tr>\n  </thead>\n  <tbody>\n    <tr>\n      <th>0</th>\n      <td>후라이드</td>\n      <td>12000</td>\n    </tr>\n    <tr>\n      <th>1</th>\n      <td>양념치킨</td>\n      <td>13000</td>\n    </tr>\n    <tr>\n      <th>2</th>\n      <td>양반후반</td>\n      <td>13000</td>\n    </tr>\n  </tbody>\n</table>\n</div>"
     },
     "execution_count": 8,
     "metadata": {},
     "output_type": "execute_result"
    }
   ],
   "source": [
    "# 데이터프레임 만들기 (시리즈 -> 데이터프레임)\n",
    "pd.DataFrame({\n",
    "    \"메뉴\" : menu,\n",
    "    \"가격\" : price\n",
    "})"
   ],
   "metadata": {
    "collapsed": false,
    "ExecuteTime": {
     "end_time": "2023-11-22T08:16:34.805273Z",
     "start_time": "2023-11-22T08:16:34.787689Z"
    }
   },
   "id": "4fc70e5565b782e6"
  },
  {
   "cell_type": "code",
   "execution_count": 9,
   "outputs": [
    {
     "data": {
      "text/plain": "     메뉴     가격   호수\n0  후라이드  12000  10호\n1  양념치킨  13000  10호\n2  양반후반  13000   9호",
      "text/html": "<div>\n<style scoped>\n    .dataframe tbody tr th:only-of-type {\n        vertical-align: middle;\n    }\n\n    .dataframe tbody tr th {\n        vertical-align: top;\n    }\n\n    .dataframe thead th {\n        text-align: right;\n    }\n</style>\n<table border=\"1\" class=\"dataframe\">\n  <thead>\n    <tr style=\"text-align: right;\">\n      <th></th>\n      <th>메뉴</th>\n      <th>가격</th>\n      <th>호수</th>\n    </tr>\n  </thead>\n  <tbody>\n    <tr>\n      <th>0</th>\n      <td>후라이드</td>\n      <td>12000</td>\n      <td>10호</td>\n    </tr>\n    <tr>\n      <th>1</th>\n      <td>양념치킨</td>\n      <td>13000</td>\n      <td>10호</td>\n    </tr>\n    <tr>\n      <th>2</th>\n      <td>양반후반</td>\n      <td>13000</td>\n      <td>9호</td>\n    </tr>\n  </tbody>\n</table>\n</div>"
     },
     "execution_count": 9,
     "metadata": {},
     "output_type": "execute_result"
    }
   ],
   "source": [
    "# 데이터프레임 만들기 pd.DataFrame({\"컬럼명\":데이터})\n",
    "data = {\n",
    "    \"메뉴\":['후라이드', '양념치킨', '양반후반'],\n",
    "    \"가격\":[12000, 13000, 13000],\n",
    "    \"호수\":['10호', '10호', '9호']\n",
    "}\n",
    "df = pd.DataFrame(data)\n",
    "df"
   ],
   "metadata": {
    "collapsed": false,
    "ExecuteTime": {
     "end_time": "2023-11-22T08:16:46.750059Z",
     "start_time": "2023-11-22T08:16:46.715323Z"
    }
   },
   "id": "7336d391af08908f"
  },
  {
   "cell_type": "code",
   "execution_count": 10,
   "outputs": [],
   "source": [
    "# 데이터 생성: csv파일 (data.csv) 생성 \n",
    "import pandas as pd\n",
    "data = {\n",
    "    \"메뉴\":['후라이드', '양념치킨', '간장치킨', '마늘치킨', '파닭', '닭강정', '양반후반'],\n",
    "    \"가격\":[12000, 13000, 14000, 14000, 14000, 15000, 13000],\n",
    "    \"호수\":['10호', '10호', '9호', '9호', '11호', '12호', '10호'],\n",
    "    \"칼로리\":[1000, 1400, 1600, 1800, 1300, 1500, 1300],\n",
    "}\n",
    "data = pd.DataFrame(data)\n",
    "data.to_csv('modudak.csv', index=False)"
   ],
   "metadata": {
    "collapsed": false,
    "ExecuteTime": {
     "end_time": "2023-11-22T08:18:39.415816Z",
     "start_time": "2023-11-22T08:18:39.377053Z"
    }
   },
   "id": "168b99ba0ce55ec9"
  },
  {
   "cell_type": "code",
   "execution_count": 11,
   "outputs": [
    {
     "data": {
      "text/plain": "     메뉴     가격   호수   칼로리\n0  후라이드  12000  10호  1000\n1  양념치킨  13000  10호  1400\n2  간장치킨  14000   9호  1600\n3  마늘치킨  14000   9호  1800\n4    파닭  14000  11호  1300\n5   닭강정  15000  12호  1500\n6  양반후반  13000  10호  1300",
      "text/html": "<div>\n<style scoped>\n    .dataframe tbody tr th:only-of-type {\n        vertical-align: middle;\n    }\n\n    .dataframe tbody tr th {\n        vertical-align: top;\n    }\n\n    .dataframe thead th {\n        text-align: right;\n    }\n</style>\n<table border=\"1\" class=\"dataframe\">\n  <thead>\n    <tr style=\"text-align: right;\">\n      <th></th>\n      <th>메뉴</th>\n      <th>가격</th>\n      <th>호수</th>\n      <th>칼로리</th>\n    </tr>\n  </thead>\n  <tbody>\n    <tr>\n      <th>0</th>\n      <td>후라이드</td>\n      <td>12000</td>\n      <td>10호</td>\n      <td>1000</td>\n    </tr>\n    <tr>\n      <th>1</th>\n      <td>양념치킨</td>\n      <td>13000</td>\n      <td>10호</td>\n      <td>1400</td>\n    </tr>\n    <tr>\n      <th>2</th>\n      <td>간장치킨</td>\n      <td>14000</td>\n      <td>9호</td>\n      <td>1600</td>\n    </tr>\n    <tr>\n      <th>3</th>\n      <td>마늘치킨</td>\n      <td>14000</td>\n      <td>9호</td>\n      <td>1800</td>\n    </tr>\n    <tr>\n      <th>4</th>\n      <td>파닭</td>\n      <td>14000</td>\n      <td>11호</td>\n      <td>1300</td>\n    </tr>\n    <tr>\n      <th>5</th>\n      <td>닭강정</td>\n      <td>15000</td>\n      <td>12호</td>\n      <td>1500</td>\n    </tr>\n    <tr>\n      <th>6</th>\n      <td>양반후반</td>\n      <td>13000</td>\n      <td>10호</td>\n      <td>1300</td>\n    </tr>\n  </tbody>\n</table>\n</div>"
     },
     "execution_count": 11,
     "metadata": {},
     "output_type": "execute_result"
    }
   ],
   "source": [
    "# 데이터 불러오기\n",
    "pd.read_csv('modudak.csv')"
   ],
   "metadata": {
    "collapsed": false,
    "ExecuteTime": {
     "end_time": "2023-11-22T08:18:47.741218Z",
     "start_time": "2023-11-22T08:18:47.713279Z"
    }
   },
   "id": "4475a6b2b792484c"
  },
  {
   "cell_type": "code",
   "execution_count": 12,
   "outputs": [
    {
     "data": {
      "text/plain": "     메뉴     가격   호수   칼로리\n0  후라이드  12000  10호  1000\n1  양념치킨  13000  10호  1400\n2  간장치킨  14000   9호  1600\n3  마늘치킨  14000   9호  1800\n4    파닭  14000  11호  1300\n5   닭강정  15000  12호  1500\n6  양반후반  13000  10호  1300",
      "text/html": "<div>\n<style scoped>\n    .dataframe tbody tr th:only-of-type {\n        vertical-align: middle;\n    }\n\n    .dataframe tbody tr th {\n        vertical-align: top;\n    }\n\n    .dataframe thead th {\n        text-align: right;\n    }\n</style>\n<table border=\"1\" class=\"dataframe\">\n  <thead>\n    <tr style=\"text-align: right;\">\n      <th></th>\n      <th>메뉴</th>\n      <th>가격</th>\n      <th>호수</th>\n      <th>칼로리</th>\n    </tr>\n  </thead>\n  <tbody>\n    <tr>\n      <th>0</th>\n      <td>후라이드</td>\n      <td>12000</td>\n      <td>10호</td>\n      <td>1000</td>\n    </tr>\n    <tr>\n      <th>1</th>\n      <td>양념치킨</td>\n      <td>13000</td>\n      <td>10호</td>\n      <td>1400</td>\n    </tr>\n    <tr>\n      <th>2</th>\n      <td>간장치킨</td>\n      <td>14000</td>\n      <td>9호</td>\n      <td>1600</td>\n    </tr>\n    <tr>\n      <th>3</th>\n      <td>마늘치킨</td>\n      <td>14000</td>\n      <td>9호</td>\n      <td>1800</td>\n    </tr>\n    <tr>\n      <th>4</th>\n      <td>파닭</td>\n      <td>14000</td>\n      <td>11호</td>\n      <td>1300</td>\n    </tr>\n    <tr>\n      <th>5</th>\n      <td>닭강정</td>\n      <td>15000</td>\n      <td>12호</td>\n      <td>1500</td>\n    </tr>\n    <tr>\n      <th>6</th>\n      <td>양반후반</td>\n      <td>13000</td>\n      <td>10호</td>\n      <td>1300</td>\n    </tr>\n  </tbody>\n</table>\n</div>"
     },
     "execution_count": 12,
     "metadata": {},
     "output_type": "execute_result"
    }
   ],
   "source": [
    "# 데이터 불러오기\n",
    "pd.read_csv('modudak.csv')"
   ],
   "metadata": {
    "collapsed": false,
    "ExecuteTime": {
     "end_time": "2023-11-22T08:18:55.462670Z",
     "start_time": "2023-11-22T08:18:55.427617Z"
    }
   },
   "id": "7326821e58baf9bd"
  },
  {
   "cell_type": "code",
   "execution_count": 13,
   "outputs": [
    {
     "data": {
      "text/plain": "     메뉴     가격   호수   칼로리\n0  후라이드  12000  10호  1000\n1  양념치킨  13000  10호  1400\n2  간장치킨  14000   9호  1600\n3  마늘치킨  14000   9호  1800\n4    파닭  14000  11호  1300\n5   닭강정  15000  12호  1500\n6  양반후반  13000  10호  1300",
      "text/html": "<div>\n<style scoped>\n    .dataframe tbody tr th:only-of-type {\n        vertical-align: middle;\n    }\n\n    .dataframe tbody tr th {\n        vertical-align: top;\n    }\n\n    .dataframe thead th {\n        text-align: right;\n    }\n</style>\n<table border=\"1\" class=\"dataframe\">\n  <thead>\n    <tr style=\"text-align: right;\">\n      <th></th>\n      <th>메뉴</th>\n      <th>가격</th>\n      <th>호수</th>\n      <th>칼로리</th>\n    </tr>\n  </thead>\n  <tbody>\n    <tr>\n      <th>0</th>\n      <td>후라이드</td>\n      <td>12000</td>\n      <td>10호</td>\n      <td>1000</td>\n    </tr>\n    <tr>\n      <th>1</th>\n      <td>양념치킨</td>\n      <td>13000</td>\n      <td>10호</td>\n      <td>1400</td>\n    </tr>\n    <tr>\n      <th>2</th>\n      <td>간장치킨</td>\n      <td>14000</td>\n      <td>9호</td>\n      <td>1600</td>\n    </tr>\n    <tr>\n      <th>3</th>\n      <td>마늘치킨</td>\n      <td>14000</td>\n      <td>9호</td>\n      <td>1800</td>\n    </tr>\n    <tr>\n      <th>4</th>\n      <td>파닭</td>\n      <td>14000</td>\n      <td>11호</td>\n      <td>1300</td>\n    </tr>\n    <tr>\n      <th>5</th>\n      <td>닭강정</td>\n      <td>15000</td>\n      <td>12호</td>\n      <td>1500</td>\n    </tr>\n    <tr>\n      <th>6</th>\n      <td>양반후반</td>\n      <td>13000</td>\n      <td>10호</td>\n      <td>1300</td>\n    </tr>\n  </tbody>\n</table>\n</div>"
     },
     "execution_count": 13,
     "metadata": {},
     "output_type": "execute_result"
    }
   ],
   "source": [
    "# 데이터 불러오기\n",
    "pd.read_csv('modudak.csv')"
   ],
   "metadata": {
    "collapsed": false,
    "ExecuteTime": {
     "end_time": "2023-11-22T08:19:07.075341Z",
     "start_time": "2023-11-22T08:19:07.047321Z"
    }
   },
   "id": "66c772e1e9d8ae1e"
  },
  {
   "cell_type": "code",
   "execution_count": 15,
   "outputs": [
    {
     "data": {
      "text/plain": "     메뉴     가격   호수   칼로리\n0  후라이드  12000  10호  1000\n1  양념치킨  13000  10호  1400\n2  간장치킨  14000   9호  1600\n3  마늘치킨  14000   9호  1800\n4    파닭  14000  11호  1300",
      "text/html": "<div>\n<style scoped>\n    .dataframe tbody tr th:only-of-type {\n        vertical-align: middle;\n    }\n\n    .dataframe tbody tr th {\n        vertical-align: top;\n    }\n\n    .dataframe thead th {\n        text-align: right;\n    }\n</style>\n<table border=\"1\" class=\"dataframe\">\n  <thead>\n    <tr style=\"text-align: right;\">\n      <th></th>\n      <th>메뉴</th>\n      <th>가격</th>\n      <th>호수</th>\n      <th>칼로리</th>\n    </tr>\n  </thead>\n  <tbody>\n    <tr>\n      <th>0</th>\n      <td>후라이드</td>\n      <td>12000</td>\n      <td>10호</td>\n      <td>1000</td>\n    </tr>\n    <tr>\n      <th>1</th>\n      <td>양념치킨</td>\n      <td>13000</td>\n      <td>10호</td>\n      <td>1400</td>\n    </tr>\n    <tr>\n      <th>2</th>\n      <td>간장치킨</td>\n      <td>14000</td>\n      <td>9호</td>\n      <td>1600</td>\n    </tr>\n    <tr>\n      <th>3</th>\n      <td>마늘치킨</td>\n      <td>14000</td>\n      <td>9호</td>\n      <td>1800</td>\n    </tr>\n    <tr>\n      <th>4</th>\n      <td>파닭</td>\n      <td>14000</td>\n      <td>11호</td>\n      <td>1300</td>\n    </tr>\n  </tbody>\n</table>\n</div>"
     },
     "execution_count": 15,
     "metadata": {},
     "output_type": "execute_result"
    }
   ],
   "source": [
    "# 저장된 csv확인\n",
    "new_df = pd.read_csv('modudak.csv')\n",
    "new_df.head()"
   ],
   "metadata": {
    "collapsed": false,
    "ExecuteTime": {
     "end_time": "2023-11-22T08:19:32.814307Z",
     "start_time": "2023-11-22T08:19:32.656196Z"
    }
   },
   "id": "324c161221de260e"
  },
  {
   "cell_type": "code",
   "execution_count": 17,
   "outputs": [],
   "source": [
    "# csv파일로 저장하기\n",
    "df.to_csv('modudak2.csv', index=False)"
   ],
   "metadata": {
    "collapsed": false,
    "ExecuteTime": {
     "end_time": "2023-11-22T08:19:52.883909Z",
     "start_time": "2023-11-22T08:19:52.843393Z"
    }
   },
   "id": "1aab3e4d5202273a"
  },
  {
   "cell_type": "code",
   "execution_count": 19,
   "outputs": [
    {
     "data": {
      "text/plain": "     메뉴     가격   호수\n0  후라이드  12000  10호\n1  양념치킨  13000  10호\n2  양반후반  13000   9호",
      "text/html": "<div>\n<style scoped>\n    .dataframe tbody tr th:only-of-type {\n        vertical-align: middle;\n    }\n\n    .dataframe tbody tr th {\n        vertical-align: top;\n    }\n\n    .dataframe thead th {\n        text-align: right;\n    }\n</style>\n<table border=\"1\" class=\"dataframe\">\n  <thead>\n    <tr style=\"text-align: right;\">\n      <th></th>\n      <th>메뉴</th>\n      <th>가격</th>\n      <th>호수</th>\n    </tr>\n  </thead>\n  <tbody>\n    <tr>\n      <th>0</th>\n      <td>후라이드</td>\n      <td>12000</td>\n      <td>10호</td>\n    </tr>\n    <tr>\n      <th>1</th>\n      <td>양념치킨</td>\n      <td>13000</td>\n      <td>10호</td>\n    </tr>\n    <tr>\n      <th>2</th>\n      <td>양반후반</td>\n      <td>13000</td>\n      <td>9호</td>\n    </tr>\n  </tbody>\n</table>\n</div>"
     },
     "execution_count": 19,
     "metadata": {},
     "output_type": "execute_result"
    }
   ],
   "source": [
    "pd.read_csv('modudak2.csv')"
   ],
   "metadata": {
    "collapsed": false,
    "ExecuteTime": {
     "end_time": "2023-11-22T08:20:27.332810Z",
     "start_time": "2023-11-22T08:20:27.271542Z"
    }
   },
   "id": "9f4263dc86b28271"
  },
  {
   "cell_type": "code",
   "execution_count": 20,
   "outputs": [
    {
     "data": {
      "text/plain": "0    후라이드\n1    양념치킨\n2    양반후반\nName: 메뉴, dtype: object"
     },
     "execution_count": 20,
     "metadata": {},
     "output_type": "execute_result"
    }
   ],
   "source": [
    "df['메뉴']"
   ],
   "metadata": {
    "collapsed": false,
    "ExecuteTime": {
     "end_time": "2023-11-22T08:21:26.489447Z",
     "start_time": "2023-11-22T08:21:26.483659Z"
    }
   },
   "id": "a92859a01c5f67e2"
  },
  {
   "cell_type": "code",
   "execution_count": 21,
   "outputs": [
    {
     "data": {
      "text/plain": "0    후라이드\n1    양념치킨\n2    양반후반\nName: 메뉴, dtype: object"
     },
     "execution_count": 21,
     "metadata": {},
     "output_type": "execute_result"
    }
   ],
   "source": [
    "df.메뉴"
   ],
   "metadata": {
    "collapsed": false,
    "ExecuteTime": {
     "end_time": "2023-11-22T08:21:48.277351Z",
     "start_time": "2023-11-22T08:21:48.265526Z"
    }
   },
   "id": "d4d2a1644c2bbbea"
  },
  {
   "cell_type": "code",
   "execution_count": 22,
   "outputs": [
    {
     "data": {
      "text/plain": "     메뉴     가격\n0  후라이드  12000\n1  양념치킨  13000\n2  양반후반  13000",
      "text/html": "<div>\n<style scoped>\n    .dataframe tbody tr th:only-of-type {\n        vertical-align: middle;\n    }\n\n    .dataframe tbody tr th {\n        vertical-align: top;\n    }\n\n    .dataframe thead th {\n        text-align: right;\n    }\n</style>\n<table border=\"1\" class=\"dataframe\">\n  <thead>\n    <tr style=\"text-align: right;\">\n      <th></th>\n      <th>메뉴</th>\n      <th>가격</th>\n    </tr>\n  </thead>\n  <tbody>\n    <tr>\n      <th>0</th>\n      <td>후라이드</td>\n      <td>12000</td>\n    </tr>\n    <tr>\n      <th>1</th>\n      <td>양념치킨</td>\n      <td>13000</td>\n    </tr>\n    <tr>\n      <th>2</th>\n      <td>양반후반</td>\n      <td>13000</td>\n    </tr>\n  </tbody>\n</table>\n</div>"
     },
     "execution_count": 22,
     "metadata": {},
     "output_type": "execute_result"
    }
   ],
   "source": [
    "df[['메뉴','가격']]"
   ],
   "metadata": {
    "collapsed": false,
    "ExecuteTime": {
     "end_time": "2023-11-22T08:22:43.524453Z",
     "start_time": "2023-11-22T08:22:43.510654Z"
    }
   },
   "id": "63c6a87d9f4745aa"
  },
  {
   "cell_type": "code",
   "execution_count": 24,
   "outputs": [],
   "source": [
    "# 데이터 생성: csv파일 (data.csv) 생성 \n",
    "import pandas as pd\n",
    "data = {\n",
    "    \"메뉴\":['후라이드', '양념치킨', '간장치킨', '마늘치킨', '파닭', '닭강정', '양반후반'],\n",
    "    \"가격\":[12000, 13000, 14000, 14000, 14000, 15000, 13000],\n",
    "    \"호수\":['10호', '10호', '9호', '9호', '11호', '12호', '10호'],\n",
    "    \"칼로리\":[1000, 1400, 1600, 1800, 1300, 1500, 1300],\n",
    "}\n",
    "data = pd.DataFrame(data)\n",
    "data.to_csv('modudak.csv', index=False)\n",
    "df = pd.read_csv('modudak.csv'\n",
    ")"
   ],
   "metadata": {
    "collapsed": false,
    "ExecuteTime": {
     "end_time": "2023-11-22T08:35:33.175073Z",
     "start_time": "2023-11-22T08:35:33.160648Z"
    }
   },
   "id": "aa7a331c03b42502"
  },
  {
   "cell_type": "code",
   "execution_count": 25,
   "outputs": [
    {
     "data": {
      "text/plain": "         메뉴     가격   호수   칼로리\nindex                        \na      후라이드  12000  10호  1000\nb      양념치킨  13000  10호  1400\nc      간장치킨  14000   9호  1600\nd      마늘치킨  14000   9호  1800\ne        파닭  14000  11호  1300\nf       닭강정  15000  12호  1500\ng      양반후반  13000  10호  1300",
      "text/html": "<div>\n<style scoped>\n    .dataframe tbody tr th:only-of-type {\n        vertical-align: middle;\n    }\n\n    .dataframe tbody tr th {\n        vertical-align: top;\n    }\n\n    .dataframe thead th {\n        text-align: right;\n    }\n</style>\n<table border=\"1\" class=\"dataframe\">\n  <thead>\n    <tr style=\"text-align: right;\">\n      <th></th>\n      <th>메뉴</th>\n      <th>가격</th>\n      <th>호수</th>\n      <th>칼로리</th>\n    </tr>\n    <tr>\n      <th>index</th>\n      <th></th>\n      <th></th>\n      <th></th>\n      <th></th>\n    </tr>\n  </thead>\n  <tbody>\n    <tr>\n      <th>a</th>\n      <td>후라이드</td>\n      <td>12000</td>\n      <td>10호</td>\n      <td>1000</td>\n    </tr>\n    <tr>\n      <th>b</th>\n      <td>양념치킨</td>\n      <td>13000</td>\n      <td>10호</td>\n      <td>1400</td>\n    </tr>\n    <tr>\n      <th>c</th>\n      <td>간장치킨</td>\n      <td>14000</td>\n      <td>9호</td>\n      <td>1600</td>\n    </tr>\n    <tr>\n      <th>d</th>\n      <td>마늘치킨</td>\n      <td>14000</td>\n      <td>9호</td>\n      <td>1800</td>\n    </tr>\n    <tr>\n      <th>e</th>\n      <td>파닭</td>\n      <td>14000</td>\n      <td>11호</td>\n      <td>1300</td>\n    </tr>\n    <tr>\n      <th>f</th>\n      <td>닭강정</td>\n      <td>15000</td>\n      <td>12호</td>\n      <td>1500</td>\n    </tr>\n    <tr>\n      <th>g</th>\n      <td>양반후반</td>\n      <td>13000</td>\n      <td>10호</td>\n      <td>1300</td>\n    </tr>\n  </tbody>\n</table>\n</div>"
     },
     "execution_count": 25,
     "metadata": {},
     "output_type": "execute_result"
    }
   ],
   "source": [
    "df['index'] = ['a','b','c','d','e','f','g']\n",
    "df = df.set_index(keys=['index'])\n",
    "df"
   ],
   "metadata": {
    "collapsed": false,
    "ExecuteTime": {
     "end_time": "2023-11-22T08:35:33.806352Z",
     "start_time": "2023-11-22T08:35:33.789610Z"
    }
   },
   "id": "a8db4996265be6d6"
  },
  {
   "cell_type": "code",
   "execution_count": 26,
   "outputs": [
    {
     "data": {
      "text/plain": "메뉴      후라이드\n가격     12000\n호수       10호\n칼로리     1000\nName: a, dtype: object"
     },
     "execution_count": 26,
     "metadata": {},
     "output_type": "execute_result"
    }
   ],
   "source": [
    "# 인덱싱 (행 전체)\n",
    "# 후라이드\n",
    "df.loc['a']"
   ],
   "metadata": {
    "collapsed": false,
    "ExecuteTime": {
     "end_time": "2023-11-22T08:38:14.132456Z",
     "start_time": "2023-11-22T08:38:14.084074Z"
    }
   },
   "id": "62bc80ec536f49e4"
  },
  {
   "cell_type": "code",
   "execution_count": 55,
   "outputs": [],
   "source": [
    "df = pd.read_csv('modudak.csv'\n",
    "                 )"
   ],
   "metadata": {
    "collapsed": false,
    "ExecuteTime": {
     "end_time": "2023-11-22T09:30:57.497929Z",
     "start_time": "2023-11-22T09:30:57.476059Z"
    }
   },
   "id": "4a3107fe93f3bcb3"
  },
  {
   "cell_type": "code",
   "execution_count": 56,
   "outputs": [
    {
     "data": {
      "text/plain": "         가격   호수   칼로리\n메뉴                    \n후라이드  12000  10호  1000\n양념치킨  13000  10호  1400\n간장치킨  14000   9호  1600\n마늘치킨  14000   9호  1800\n파닭    14000  11호  1300\n닭강정   15000  12호  1500\n양반후반  13000  10호  1300",
      "text/html": "<div>\n<style scoped>\n    .dataframe tbody tr th:only-of-type {\n        vertical-align: middle;\n    }\n\n    .dataframe tbody tr th {\n        vertical-align: top;\n    }\n\n    .dataframe thead th {\n        text-align: right;\n    }\n</style>\n<table border=\"1\" class=\"dataframe\">\n  <thead>\n    <tr style=\"text-align: right;\">\n      <th></th>\n      <th>가격</th>\n      <th>호수</th>\n      <th>칼로리</th>\n    </tr>\n    <tr>\n      <th>메뉴</th>\n      <th></th>\n      <th></th>\n      <th></th>\n    </tr>\n  </thead>\n  <tbody>\n    <tr>\n      <th>후라이드</th>\n      <td>12000</td>\n      <td>10호</td>\n      <td>1000</td>\n    </tr>\n    <tr>\n      <th>양념치킨</th>\n      <td>13000</td>\n      <td>10호</td>\n      <td>1400</td>\n    </tr>\n    <tr>\n      <th>간장치킨</th>\n      <td>14000</td>\n      <td>9호</td>\n      <td>1600</td>\n    </tr>\n    <tr>\n      <th>마늘치킨</th>\n      <td>14000</td>\n      <td>9호</td>\n      <td>1800</td>\n    </tr>\n    <tr>\n      <th>파닭</th>\n      <td>14000</td>\n      <td>11호</td>\n      <td>1300</td>\n    </tr>\n    <tr>\n      <th>닭강정</th>\n      <td>15000</td>\n      <td>12호</td>\n      <td>1500</td>\n    </tr>\n    <tr>\n      <th>양반후반</th>\n      <td>13000</td>\n      <td>10호</td>\n      <td>1300</td>\n    </tr>\n  </tbody>\n</table>\n</div>"
     },
     "execution_count": 56,
     "metadata": {},
     "output_type": "execute_result"
    }
   ],
   "source": [
    "#set_index(keys=[컬럼명])\n",
    "df = df.set_index(keys=['메뉴'])\n",
    "df"
   ],
   "metadata": {
    "collapsed": false,
    "ExecuteTime": {
     "end_time": "2023-11-22T09:30:58.287738Z",
     "start_time": "2023-11-22T09:30:58.273847Z"
    }
   },
   "id": "91b7c91046341a1b"
  },
  {
   "cell_type": "code",
   "execution_count": 57,
   "outputs": [
    {
     "data": {
      "text/plain": "     메뉴     가격   호수   칼로리\n0  후라이드  12000  10호  1000\n1  양념치킨  13000  10호  1400\n2  간장치킨  14000   9호  1600\n3  마늘치킨  14000   9호  1800\n4    파닭  14000  11호  1300\n5   닭강정  15000  12호  1500\n6  양반후반  13000  10호  1300",
      "text/html": "<div>\n<style scoped>\n    .dataframe tbody tr th:only-of-type {\n        vertical-align: middle;\n    }\n\n    .dataframe tbody tr th {\n        vertical-align: top;\n    }\n\n    .dataframe thead th {\n        text-align: right;\n    }\n</style>\n<table border=\"1\" class=\"dataframe\">\n  <thead>\n    <tr style=\"text-align: right;\">\n      <th></th>\n      <th>메뉴</th>\n      <th>가격</th>\n      <th>호수</th>\n      <th>칼로리</th>\n    </tr>\n  </thead>\n  <tbody>\n    <tr>\n      <th>0</th>\n      <td>후라이드</td>\n      <td>12000</td>\n      <td>10호</td>\n      <td>1000</td>\n    </tr>\n    <tr>\n      <th>1</th>\n      <td>양념치킨</td>\n      <td>13000</td>\n      <td>10호</td>\n      <td>1400</td>\n    </tr>\n    <tr>\n      <th>2</th>\n      <td>간장치킨</td>\n      <td>14000</td>\n      <td>9호</td>\n      <td>1600</td>\n    </tr>\n    <tr>\n      <th>3</th>\n      <td>마늘치킨</td>\n      <td>14000</td>\n      <td>9호</td>\n      <td>1800</td>\n    </tr>\n    <tr>\n      <th>4</th>\n      <td>파닭</td>\n      <td>14000</td>\n      <td>11호</td>\n      <td>1300</td>\n    </tr>\n    <tr>\n      <th>5</th>\n      <td>닭강정</td>\n      <td>15000</td>\n      <td>12호</td>\n      <td>1500</td>\n    </tr>\n    <tr>\n      <th>6</th>\n      <td>양반후반</td>\n      <td>13000</td>\n      <td>10호</td>\n      <td>1300</td>\n    </tr>\n  </tbody>\n</table>\n</div>"
     },
     "execution_count": 57,
     "metadata": {},
     "output_type": "execute_result"
    }
   ],
   "source": [
    "# reset_index(기본값 drop=False)\n",
    "df=df.reset_index().copy()\n",
    "df"
   ],
   "metadata": {
    "collapsed": false,
    "ExecuteTime": {
     "end_time": "2023-11-22T09:30:59.517631Z",
     "start_time": "2023-11-22T09:30:59.502963Z"
    }
   },
   "id": "84a2849cb8b4742d"
  },
  {
   "cell_type": "code",
   "execution_count": 58,
   "outputs": [
    {
     "data": {
      "text/plain": "     메뉴     가격   호수   칼로리  할인율\n0  후라이드  12000  10호  1000  0.2\n1  양념치킨  13000  10호  1400  0.2\n2  간장치킨  14000   9호  1600  0.2\n3  마늘치킨  14000   9호  1800  0.2\n4    파닭  14000  11호  1300  0.2\n5   닭강정  15000  12호  1500  0.2\n6  양반후반  13000  10호  1300  0.2",
      "text/html": "<div>\n<style scoped>\n    .dataframe tbody tr th:only-of-type {\n        vertical-align: middle;\n    }\n\n    .dataframe tbody tr th {\n        vertical-align: top;\n    }\n\n    .dataframe thead th {\n        text-align: right;\n    }\n</style>\n<table border=\"1\" class=\"dataframe\">\n  <thead>\n    <tr style=\"text-align: right;\">\n      <th></th>\n      <th>메뉴</th>\n      <th>가격</th>\n      <th>호수</th>\n      <th>칼로리</th>\n      <th>할인율</th>\n    </tr>\n  </thead>\n  <tbody>\n    <tr>\n      <th>0</th>\n      <td>후라이드</td>\n      <td>12000</td>\n      <td>10호</td>\n      <td>1000</td>\n      <td>0.2</td>\n    </tr>\n    <tr>\n      <th>1</th>\n      <td>양념치킨</td>\n      <td>13000</td>\n      <td>10호</td>\n      <td>1400</td>\n      <td>0.2</td>\n    </tr>\n    <tr>\n      <th>2</th>\n      <td>간장치킨</td>\n      <td>14000</td>\n      <td>9호</td>\n      <td>1600</td>\n      <td>0.2</td>\n    </tr>\n    <tr>\n      <th>3</th>\n      <td>마늘치킨</td>\n      <td>14000</td>\n      <td>9호</td>\n      <td>1800</td>\n      <td>0.2</td>\n    </tr>\n    <tr>\n      <th>4</th>\n      <td>파닭</td>\n      <td>14000</td>\n      <td>11호</td>\n      <td>1300</td>\n      <td>0.2</td>\n    </tr>\n    <tr>\n      <th>5</th>\n      <td>닭강정</td>\n      <td>15000</td>\n      <td>12호</td>\n      <td>1500</td>\n      <td>0.2</td>\n    </tr>\n    <tr>\n      <th>6</th>\n      <td>양반후반</td>\n      <td>13000</td>\n      <td>10호</td>\n      <td>1300</td>\n      <td>0.2</td>\n    </tr>\n  </tbody>\n</table>\n</div>"
     },
     "execution_count": 58,
     "metadata": {},
     "output_type": "execute_result"
    }
   ],
   "source": [
    "df['할인율'] = 0.2\n",
    "df"
   ],
   "metadata": {
    "collapsed": false,
    "ExecuteTime": {
     "end_time": "2023-11-22T09:31:00.486590Z",
     "start_time": "2023-11-22T09:31:00.473617Z"
    }
   },
   "id": "74a5d454bcf7d4a"
  },
  {
   "cell_type": "code",
   "execution_count": 59,
   "outputs": [
    {
     "data": {
      "text/plain": "     메뉴     가격   호수   칼로리  할인율      할인가\n0  후라이드  12000  10호  1000  0.2   9600.0\n1  양념치킨  13000  10호  1400  0.2  10400.0\n2  간장치킨  14000   9호  1600  0.2  11200.0\n3  마늘치킨  14000   9호  1800  0.2  11200.0\n4    파닭  14000  11호  1300  0.2  11200.0\n5   닭강정  15000  12호  1500  0.2  12000.0\n6  양반후반  13000  10호  1300  0.2  10400.0",
      "text/html": "<div>\n<style scoped>\n    .dataframe tbody tr th:only-of-type {\n        vertical-align: middle;\n    }\n\n    .dataframe tbody tr th {\n        vertical-align: top;\n    }\n\n    .dataframe thead th {\n        text-align: right;\n    }\n</style>\n<table border=\"1\" class=\"dataframe\">\n  <thead>\n    <tr style=\"text-align: right;\">\n      <th></th>\n      <th>메뉴</th>\n      <th>가격</th>\n      <th>호수</th>\n      <th>칼로리</th>\n      <th>할인율</th>\n      <th>할인가</th>\n    </tr>\n  </thead>\n  <tbody>\n    <tr>\n      <th>0</th>\n      <td>후라이드</td>\n      <td>12000</td>\n      <td>10호</td>\n      <td>1000</td>\n      <td>0.2</td>\n      <td>9600.0</td>\n    </tr>\n    <tr>\n      <th>1</th>\n      <td>양념치킨</td>\n      <td>13000</td>\n      <td>10호</td>\n      <td>1400</td>\n      <td>0.2</td>\n      <td>10400.0</td>\n    </tr>\n    <tr>\n      <th>2</th>\n      <td>간장치킨</td>\n      <td>14000</td>\n      <td>9호</td>\n      <td>1600</td>\n      <td>0.2</td>\n      <td>11200.0</td>\n    </tr>\n    <tr>\n      <th>3</th>\n      <td>마늘치킨</td>\n      <td>14000</td>\n      <td>9호</td>\n      <td>1800</td>\n      <td>0.2</td>\n      <td>11200.0</td>\n    </tr>\n    <tr>\n      <th>4</th>\n      <td>파닭</td>\n      <td>14000</td>\n      <td>11호</td>\n      <td>1300</td>\n      <td>0.2</td>\n      <td>11200.0</td>\n    </tr>\n    <tr>\n      <th>5</th>\n      <td>닭강정</td>\n      <td>15000</td>\n      <td>12호</td>\n      <td>1500</td>\n      <td>0.2</td>\n      <td>12000.0</td>\n    </tr>\n    <tr>\n      <th>6</th>\n      <td>양반후반</td>\n      <td>13000</td>\n      <td>10호</td>\n      <td>1300</td>\n      <td>0.2</td>\n      <td>10400.0</td>\n    </tr>\n  </tbody>\n</table>\n</div>"
     },
     "execution_count": 59,
     "metadata": {},
     "output_type": "execute_result"
    }
   ],
   "source": [
    "df['할인가'] = df['가격']*(1-df['할인율'])\n",
    "df\n"
   ],
   "metadata": {
    "collapsed": false,
    "ExecuteTime": {
     "end_time": "2023-11-22T09:31:01.609567Z",
     "start_time": "2023-11-22T09:31:01.598655Z"
    }
   },
   "id": "ef44bbbc7d313db7"
  },
  {
   "cell_type": "code",
   "execution_count": 60,
   "outputs": [
    {
     "data": {
      "text/plain": "     메뉴     가격   호수   칼로리  할인율      할인가  원산지\n0  후라이드  12000  10호  1000  0.2   9600.0  NaN\n1  양념치킨  13000  10호  1400  0.2  10400.0  NaN\n2  간장치킨  14000   9호  1600  0.2  11200.0  NaN\n3  마늘치킨  14000   9호  1800  0.2  11200.0  NaN\n4    파닭  14000  11호  1300  0.2  11200.0  NaN\n5   닭강정  15000  12호  1500  0.2  12000.0  NaN\n6  양반후반  13000  10호  1300  0.2  10400.0  NaN",
      "text/html": "<div>\n<style scoped>\n    .dataframe tbody tr th:only-of-type {\n        vertical-align: middle;\n    }\n\n    .dataframe tbody tr th {\n        vertical-align: top;\n    }\n\n    .dataframe thead th {\n        text-align: right;\n    }\n</style>\n<table border=\"1\" class=\"dataframe\">\n  <thead>\n    <tr style=\"text-align: right;\">\n      <th></th>\n      <th>메뉴</th>\n      <th>가격</th>\n      <th>호수</th>\n      <th>칼로리</th>\n      <th>할인율</th>\n      <th>할인가</th>\n      <th>원산지</th>\n    </tr>\n  </thead>\n  <tbody>\n    <tr>\n      <th>0</th>\n      <td>후라이드</td>\n      <td>12000</td>\n      <td>10호</td>\n      <td>1000</td>\n      <td>0.2</td>\n      <td>9600.0</td>\n      <td>NaN</td>\n    </tr>\n    <tr>\n      <th>1</th>\n      <td>양념치킨</td>\n      <td>13000</td>\n      <td>10호</td>\n      <td>1400</td>\n      <td>0.2</td>\n      <td>10400.0</td>\n      <td>NaN</td>\n    </tr>\n    <tr>\n      <th>2</th>\n      <td>간장치킨</td>\n      <td>14000</td>\n      <td>9호</td>\n      <td>1600</td>\n      <td>0.2</td>\n      <td>11200.0</td>\n      <td>NaN</td>\n    </tr>\n    <tr>\n      <th>3</th>\n      <td>마늘치킨</td>\n      <td>14000</td>\n      <td>9호</td>\n      <td>1800</td>\n      <td>0.2</td>\n      <td>11200.0</td>\n      <td>NaN</td>\n    </tr>\n    <tr>\n      <th>4</th>\n      <td>파닭</td>\n      <td>14000</td>\n      <td>11호</td>\n      <td>1300</td>\n      <td>0.2</td>\n      <td>11200.0</td>\n      <td>NaN</td>\n    </tr>\n    <tr>\n      <th>5</th>\n      <td>닭강정</td>\n      <td>15000</td>\n      <td>12호</td>\n      <td>1500</td>\n      <td>0.2</td>\n      <td>12000.0</td>\n      <td>NaN</td>\n    </tr>\n    <tr>\n      <th>6</th>\n      <td>양반후반</td>\n      <td>13000</td>\n      <td>10호</td>\n      <td>1300</td>\n      <td>0.2</td>\n      <td>10400.0</td>\n      <td>NaN</td>\n    </tr>\n  </tbody>\n</table>\n</div>"
     },
     "execution_count": 60,
     "metadata": {},
     "output_type": "execute_result"
    }
   ],
   "source": [
    "# 결측값으로 추가, 원산지 컬럼을 만들고 결측값(NaN)으로 대입\n",
    "import numpy as np\n",
    "df['원산지'] = np.nan\n",
    "df"
   ],
   "metadata": {
    "collapsed": false,
    "ExecuteTime": {
     "end_time": "2023-11-22T09:31:02.927345Z",
     "start_time": "2023-11-22T09:31:02.917308Z"
    }
   },
   "id": "9986d374895997aa"
  },
  {
   "cell_type": "code",
   "execution_count": 61,
   "outputs": [
    {
     "name": "stdout",
     "output_type": "stream",
     "text": [
      "<class 'pandas.core.frame.DataFrame'>\n",
      "RangeIndex: 7 entries, 0 to 6\n",
      "Data columns (total 7 columns):\n",
      " #   Column  Non-Null Count  Dtype  \n",
      "---  ------  --------------  -----  \n",
      " 0   메뉴      7 non-null      object \n",
      " 1   가격      7 non-null      int64  \n",
      " 2   호수      7 non-null      object \n",
      " 3   칼로리     7 non-null      int64  \n",
      " 4   할인율     7 non-null      float64\n",
      " 5   할인가     7 non-null      float64\n",
      " 6   원산지     0 non-null      float64\n",
      "dtypes: float64(3), int64(2), object(2)\n",
      "memory usage: 520.0+ bytes\n"
     ]
    }
   ],
   "source": [
    "df.info()"
   ],
   "metadata": {
    "collapsed": false,
    "ExecuteTime": {
     "end_time": "2023-11-22T09:31:04.162901Z",
     "start_time": "2023-11-22T09:31:04.150156Z"
    }
   },
   "id": "c1a30b2a2a73d97d"
  },
  {
   "cell_type": "code",
   "execution_count": 62,
   "outputs": [
    {
     "data": {
      "text/plain": "        메뉴     가격   호수   칼로리  할인율      할인가  원산지\n0     후라이드  12000  10호  1000  0.2   9600.0  NaN\n1     양념치킨  13000  10호  1400  0.2  10400.0  NaN\n2     간장치킨  14000   9호  1600  0.2  11200.0  NaN\n3     마늘치킨  14000   9호  1800  0.2  11200.0  NaN\n4       파닭  14000  11호  1300  0.2  11200.0  NaN\n5      닭강정  15000  12호  1500  0.2  12000.0  NaN\n6     양반후반  13000  10호  1300  0.2  10400.0  NaN\nnew  아이펠치킨  16000  11호  1200  0.5   8000.0  국내산",
      "text/html": "<div>\n<style scoped>\n    .dataframe tbody tr th:only-of-type {\n        vertical-align: middle;\n    }\n\n    .dataframe tbody tr th {\n        vertical-align: top;\n    }\n\n    .dataframe thead th {\n        text-align: right;\n    }\n</style>\n<table border=\"1\" class=\"dataframe\">\n  <thead>\n    <tr style=\"text-align: right;\">\n      <th></th>\n      <th>메뉴</th>\n      <th>가격</th>\n      <th>호수</th>\n      <th>칼로리</th>\n      <th>할인율</th>\n      <th>할인가</th>\n      <th>원산지</th>\n    </tr>\n  </thead>\n  <tbody>\n    <tr>\n      <th>0</th>\n      <td>후라이드</td>\n      <td>12000</td>\n      <td>10호</td>\n      <td>1000</td>\n      <td>0.2</td>\n      <td>9600.0</td>\n      <td>NaN</td>\n    </tr>\n    <tr>\n      <th>1</th>\n      <td>양념치킨</td>\n      <td>13000</td>\n      <td>10호</td>\n      <td>1400</td>\n      <td>0.2</td>\n      <td>10400.0</td>\n      <td>NaN</td>\n    </tr>\n    <tr>\n      <th>2</th>\n      <td>간장치킨</td>\n      <td>14000</td>\n      <td>9호</td>\n      <td>1600</td>\n      <td>0.2</td>\n      <td>11200.0</td>\n      <td>NaN</td>\n    </tr>\n    <tr>\n      <th>3</th>\n      <td>마늘치킨</td>\n      <td>14000</td>\n      <td>9호</td>\n      <td>1800</td>\n      <td>0.2</td>\n      <td>11200.0</td>\n      <td>NaN</td>\n    </tr>\n    <tr>\n      <th>4</th>\n      <td>파닭</td>\n      <td>14000</td>\n      <td>11호</td>\n      <td>1300</td>\n      <td>0.2</td>\n      <td>11200.0</td>\n      <td>NaN</td>\n    </tr>\n    <tr>\n      <th>5</th>\n      <td>닭강정</td>\n      <td>15000</td>\n      <td>12호</td>\n      <td>1500</td>\n      <td>0.2</td>\n      <td>12000.0</td>\n      <td>NaN</td>\n    </tr>\n    <tr>\n      <th>6</th>\n      <td>양반후반</td>\n      <td>13000</td>\n      <td>10호</td>\n      <td>1300</td>\n      <td>0.2</td>\n      <td>10400.0</td>\n      <td>NaN</td>\n    </tr>\n    <tr>\n      <th>new</th>\n      <td>아이펠치킨</td>\n      <td>16000</td>\n      <td>11호</td>\n      <td>1200</td>\n      <td>0.5</td>\n      <td>8000.0</td>\n      <td>국내산</td>\n    </tr>\n  </tbody>\n</table>\n</div>"
     },
     "execution_count": 62,
     "metadata": {},
     "output_type": "execute_result"
    }
   ],
   "source": [
    "# 리스트 형태로 데이터(행) 추가\n",
    "aiffel = ['아이펠치킨', 16000, '11호', 1200, 0.5, 8000, '국내산']\n",
    "df.loc['new'] = aiffel\n",
    "df"
   ],
   "metadata": {
    "collapsed": false,
    "ExecuteTime": {
     "end_time": "2023-11-22T09:31:05.107260Z",
     "start_time": "2023-11-22T09:31:05.093697Z"
    }
   },
   "id": "2f1e15cb7dcdec11"
  },
  {
   "cell_type": "code",
   "execution_count": 65,
   "outputs": [
    {
     "data": {
      "text/plain": "  Unnamed: 0         메뉴     가격   호수     칼로리  할인율      할인가  원산지\n0          0     황금후라이드  12000  10호  1000.0  0.2   9600.0  국내산\n1          1     승일양념치킨  13000  10호  1400.0  0.2  10400.0  NaN\n2          2       간장치킨  14000   9호  1600.0  0.2  11200.0  NaN\n3          3       마늘치킨  14000   9호  1800.0  0.2  11200.0  NaN\n4          4         파닭  14000  11호  1300.0  0.2  11200.0  브라질\n5          5        닭강정  15000  12호  1500.0  0.2  12000.0  브라질\n6          6   양념반후라이드반  13000  10호  1300.0  0.2  10400.0  NaN\n7        new  [인기]아이펠치킨  16000  11호  1200.0  0.5   8000.0  국내산\n8         10  [베스트]풀잎치킨   9900  10호     NaN  NaN      NaN  NaN",
      "text/html": "<div>\n<style scoped>\n    .dataframe tbody tr th:only-of-type {\n        vertical-align: middle;\n    }\n\n    .dataframe tbody tr th {\n        vertical-align: top;\n    }\n\n    .dataframe thead th {\n        text-align: right;\n    }\n</style>\n<table border=\"1\" class=\"dataframe\">\n  <thead>\n    <tr style=\"text-align: right;\">\n      <th></th>\n      <th>Unnamed: 0</th>\n      <th>메뉴</th>\n      <th>가격</th>\n      <th>호수</th>\n      <th>칼로리</th>\n      <th>할인율</th>\n      <th>할인가</th>\n      <th>원산지</th>\n    </tr>\n  </thead>\n  <tbody>\n    <tr>\n      <th>0</th>\n      <td>0</td>\n      <td>황금후라이드</td>\n      <td>12000</td>\n      <td>10호</td>\n      <td>1000.0</td>\n      <td>0.2</td>\n      <td>9600.0</td>\n      <td>국내산</td>\n    </tr>\n    <tr>\n      <th>1</th>\n      <td>1</td>\n      <td>승일양념치킨</td>\n      <td>13000</td>\n      <td>10호</td>\n      <td>1400.0</td>\n      <td>0.2</td>\n      <td>10400.0</td>\n      <td>NaN</td>\n    </tr>\n    <tr>\n      <th>2</th>\n      <td>2</td>\n      <td>간장치킨</td>\n      <td>14000</td>\n      <td>9호</td>\n      <td>1600.0</td>\n      <td>0.2</td>\n      <td>11200.0</td>\n      <td>NaN</td>\n    </tr>\n    <tr>\n      <th>3</th>\n      <td>3</td>\n      <td>마늘치킨</td>\n      <td>14000</td>\n      <td>9호</td>\n      <td>1800.0</td>\n      <td>0.2</td>\n      <td>11200.0</td>\n      <td>NaN</td>\n    </tr>\n    <tr>\n      <th>4</th>\n      <td>4</td>\n      <td>파닭</td>\n      <td>14000</td>\n      <td>11호</td>\n      <td>1300.0</td>\n      <td>0.2</td>\n      <td>11200.0</td>\n      <td>브라질</td>\n    </tr>\n    <tr>\n      <th>5</th>\n      <td>5</td>\n      <td>닭강정</td>\n      <td>15000</td>\n      <td>12호</td>\n      <td>1500.0</td>\n      <td>0.2</td>\n      <td>12000.0</td>\n      <td>브라질</td>\n    </tr>\n    <tr>\n      <th>6</th>\n      <td>6</td>\n      <td>양념반후라이드반</td>\n      <td>13000</td>\n      <td>10호</td>\n      <td>1300.0</td>\n      <td>0.2</td>\n      <td>10400.0</td>\n      <td>NaN</td>\n    </tr>\n    <tr>\n      <th>7</th>\n      <td>new</td>\n      <td>[인기]아이펠치킨</td>\n      <td>16000</td>\n      <td>11호</td>\n      <td>1200.0</td>\n      <td>0.5</td>\n      <td>8000.0</td>\n      <td>국내산</td>\n    </tr>\n    <tr>\n      <th>8</th>\n      <td>10</td>\n      <td>[베스트]풀잎치킨</td>\n      <td>9900</td>\n      <td>10호</td>\n      <td>NaN</td>\n      <td>NaN</td>\n      <td>NaN</td>\n      <td>NaN</td>\n    </tr>\n  </tbody>\n</table>\n</div>"
     },
     "execution_count": 65,
     "metadata": {},
     "output_type": "execute_result"
    }
   ],
   "source": [
    "# '노드2. 데이터 핸들링1'에서 마지막에 만든 new_modudak.csv 다시 만들기\n",
    "import pandas as pd\n",
    "import numpy as np\n",
    "df = pd.DataFrame({\n",
    "    'Unnamed: 0': [0,1,2,3,4,5,6,'new',10],\n",
    "    '메뉴': ['황금후라이드','승일양념치킨','간장치킨','마늘치킨','파닭','닭강정','양념반후라이드반','[인기]아이펠치킨','[베스트]풀잎치킨'],\n",
    "    '가격': [12000,13000,14000,14000,14000,15000,13000,16000,9900],\n",
    "    '호수' : ['10호','10호','9호','9호','11호','12호','10호','11호','10호'],\n",
    "    '칼로리' : [1000.0,1400.0,1600.0,1800.0,1300.0,1500.0,1300.0,1200.0,np.nan],\n",
    "    '할인율' : [0.2,0.2,0.2,0.2,0.2,0.2,0.2,0.5,np.nan],\n",
    "    '할인가' : [9600.0,10400.0,11200.0,11200.0,11200.0,12000.0,10400.0,8000.0,np.nan],\n",
    "    '원산지' : ['국내산',np.nan,np.nan,np.nan,'브라질','브라질',np.nan,'국내산',np.nan]\n",
    "})\n",
    "df.to_csv('new_modudak.csv', index=False)\n",
    "df"
   ],
   "metadata": {
    "collapsed": false,
    "ExecuteTime": {
     "end_time": "2023-11-22T10:02:16.831877Z",
     "start_time": "2023-11-22T10:02:16.819297Z"
    }
   },
   "id": "191d6a254802dbb1"
  },
  {
   "cell_type": "code",
   "execution_count": 67,
   "outputs": [
    {
     "data": {
      "text/plain": "                   메뉴     가격   호수     칼로리  할인율      할인가  원산지\nUnnamed: 0                                                  \n0              황금후라이드  12000  10호  1000.0  0.2   9600.0  국내산\n1              승일양념치킨  13000  10호  1400.0  0.2  10400.0  NaN\n2                간장치킨  14000   9호  1600.0  0.2  11200.0  NaN\n3                마늘치킨  14000   9호  1800.0  0.2  11200.0  NaN\n4                  파닭  14000  11호  1300.0  0.2  11200.0  브라질\n5                 닭강정  15000  12호  1500.0  0.2  12000.0  브라질\n6            양념반후라이드반  13000  10호  1300.0  0.2  10400.0  NaN\nnew         [인기]아이펠치킨  16000  11호  1200.0  0.5   8000.0  국내산\n10          [베스트]풀잎치킨   9900  10호     NaN  NaN      NaN  NaN",
      "text/html": "<div>\n<style scoped>\n    .dataframe tbody tr th:only-of-type {\n        vertical-align: middle;\n    }\n\n    .dataframe tbody tr th {\n        vertical-align: top;\n    }\n\n    .dataframe thead th {\n        text-align: right;\n    }\n</style>\n<table border=\"1\" class=\"dataframe\">\n  <thead>\n    <tr style=\"text-align: right;\">\n      <th></th>\n      <th>메뉴</th>\n      <th>가격</th>\n      <th>호수</th>\n      <th>칼로리</th>\n      <th>할인율</th>\n      <th>할인가</th>\n      <th>원산지</th>\n    </tr>\n    <tr>\n      <th>Unnamed: 0</th>\n      <th></th>\n      <th></th>\n      <th></th>\n      <th></th>\n      <th></th>\n      <th></th>\n      <th></th>\n    </tr>\n  </thead>\n  <tbody>\n    <tr>\n      <th>0</th>\n      <td>황금후라이드</td>\n      <td>12000</td>\n      <td>10호</td>\n      <td>1000.0</td>\n      <td>0.2</td>\n      <td>9600.0</td>\n      <td>국내산</td>\n    </tr>\n    <tr>\n      <th>1</th>\n      <td>승일양념치킨</td>\n      <td>13000</td>\n      <td>10호</td>\n      <td>1400.0</td>\n      <td>0.2</td>\n      <td>10400.0</td>\n      <td>NaN</td>\n    </tr>\n    <tr>\n      <th>2</th>\n      <td>간장치킨</td>\n      <td>14000</td>\n      <td>9호</td>\n      <td>1600.0</td>\n      <td>0.2</td>\n      <td>11200.0</td>\n      <td>NaN</td>\n    </tr>\n    <tr>\n      <th>3</th>\n      <td>마늘치킨</td>\n      <td>14000</td>\n      <td>9호</td>\n      <td>1800.0</td>\n      <td>0.2</td>\n      <td>11200.0</td>\n      <td>NaN</td>\n    </tr>\n    <tr>\n      <th>4</th>\n      <td>파닭</td>\n      <td>14000</td>\n      <td>11호</td>\n      <td>1300.0</td>\n      <td>0.2</td>\n      <td>11200.0</td>\n      <td>브라질</td>\n    </tr>\n    <tr>\n      <th>5</th>\n      <td>닭강정</td>\n      <td>15000</td>\n      <td>12호</td>\n      <td>1500.0</td>\n      <td>0.2</td>\n      <td>12000.0</td>\n      <td>브라질</td>\n    </tr>\n    <tr>\n      <th>6</th>\n      <td>양념반후라이드반</td>\n      <td>13000</td>\n      <td>10호</td>\n      <td>1300.0</td>\n      <td>0.2</td>\n      <td>10400.0</td>\n      <td>NaN</td>\n    </tr>\n    <tr>\n      <th>new</th>\n      <td>[인기]아이펠치킨</td>\n      <td>16000</td>\n      <td>11호</td>\n      <td>1200.0</td>\n      <td>0.5</td>\n      <td>8000.0</td>\n      <td>국내산</td>\n    </tr>\n    <tr>\n      <th>10</th>\n      <td>[베스트]풀잎치킨</td>\n      <td>9900</td>\n      <td>10호</td>\n      <td>NaN</td>\n      <td>NaN</td>\n      <td>NaN</td>\n      <td>NaN</td>\n    </tr>\n  </tbody>\n</table>\n</div>"
     },
     "execution_count": 67,
     "metadata": {},
     "output_type": "execute_result"
    }
   ],
   "source": [
    "pd.read_csv('new_modudak.csv', index_col= 'Unnamed: 0')"
   ],
   "metadata": {
    "collapsed": false,
    "ExecuteTime": {
     "end_time": "2023-11-22T10:02:37.729986Z",
     "start_time": "2023-11-22T10:02:37.656220Z"
    }
   },
   "id": "70fb0241da10fc3e"
  },
  {
   "cell_type": "code",
   "execution_count": null,
   "outputs": [],
   "source": [],
   "metadata": {
    "collapsed": false
   },
   "id": "6d6cbc141180a59d"
  }
 ],
 "metadata": {
  "kernelspec": {
   "display_name": "Python 3",
   "language": "python",
   "name": "python3"
  },
  "language_info": {
   "codemirror_mode": {
    "name": "ipython",
    "version": 2
   },
   "file_extension": ".py",
   "mimetype": "text/x-python",
   "name": "python",
   "nbconvert_exporter": "python",
   "pygments_lexer": "ipython2",
   "version": "2.7.6"
  }
 },
 "nbformat": 4,
 "nbformat_minor": 5
}
