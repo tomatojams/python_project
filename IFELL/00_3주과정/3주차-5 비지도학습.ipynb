{
 "cells": [
  {
   "cell_type": "markdown",
   "source": [
    "### 차원축소\n",
    "이번 시간에는 차원축소의 대표적인 기법인 PCA에 대해 설명드리도록 하겠습니다.\n",
    "\n",
    "이번 시간 정리\n",
    "차원축소\n",
    "feature가 많을수록 데이터의 차원이 커지게 되는데, 데이터셋의 크기에 비해 feature가 많아질 경우 이를 표현하기 위한 변수가 많아져 모델의 복잡성이 증가되고 과적합 문제가 발생되기도 합니다.\n",
    "이러한 문제를 해결하기 위해 차원 축소 방법이 사용되고 있습니다.\n",
    "*용어: 차원이란? 데이터 포인트를 공간에 표현하기 위해 필요한 최소한의 축의 개수\n",
    "\n",
    "PCA(Principal Component Analysis)\n",
    "\n",
    "차원 축소 기법 중 대표적인 기법\n",
    "고차원에서 저차원으로 축소하는 선형 투영 기법\n",
    "데이터의 차원이 증가할 수록 거리가 증가하고, 오버피팅 가능성이 커짐\n",
    "PCA 단계\n",
    "\n",
    "데이터에서 분산이 최대인 축을 찾음 (첫번째 축)\n",
    "첫번째 축과 직교하면서 분산이 최대인 축을 찾음 (두번째 축)\n",
    "첫번째와 두번째 축에 직교하고, 분산이 최대인 축을 찾음 (세번째 축)"
   ],
   "metadata": {
    "collapsed": false
   },
   "id": "88dfc9cf2cecfc47"
  }
 ],
 "metadata": {
  "kernelspec": {
   "display_name": "Python 3",
   "language": "python",
   "name": "python3"
  },
  "language_info": {
   "codemirror_mode": {
    "name": "ipython",
    "version": 2
   },
   "file_extension": ".py",
   "mimetype": "text/x-python",
   "name": "python",
   "nbconvert_exporter": "python",
   "pygments_lexer": "ipython2",
   "version": "2.7.6"
  }
 },
 "nbformat": 4,
 "nbformat_minor": 5
}
