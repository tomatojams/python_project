{
 "nbformat": 4,
 "nbformat_minor": 0,
 "metadata": {
  "kernelspec": {
   "name": "python3",
   "language": "python",
   "display_name": "Python 3 (ipykernel)"
  },
  "language_info": {
   "codemirror_mode": {
    "name": "ipython",
    "version": 3
   },
   "file_extension": ".py",
   "mimetype": "text/x-python",
   "name": "python",
   "nbconvert_exporter": "python",
   "pygments_lexer": "ipython3",
   "version": "3.6.8"
  },
  "colab": {
   "provenance": [],
   "gpuType": "T4"
  },
  "accelerator": "GPU"
 },
 "cells": [
  {
   "cell_type": "markdown",
   "metadata": {
    "id": "fXYH9ESLRRLY"
   },
   "source": [
    "# Image Classification\n",
    "\n",
    "tf.data.Dataset을 이용해 모델이 데이터를 효율적으로 활용할 수 있도록 구현해보는게 목적입니다.\n",
    "\n",
    "기본적인 머신러닝 작업과정은 아래와 같습니다.\n",
    "\n",
    "1. Examine and understand data\n",
    "2. Build an input pipeline\n",
    "3. Build the model\n",
    "4. Train the model\n",
    "5. Test the model\n",
    "6. Improve the model and repeat the process\n",
    "\n",
    "* 모델 완성 후 평가 지표에 따라서 모델을 평가해 봅시다.\n"
   ]
  },
  {
   "cell_type": "markdown",
   "metadata": {
    "id": "xjTHjdo6RS3n"
   },
   "source": [
    "## Project 설명\n",
    "### Task\n",
    "* CIFAR 10 데이터셋을 이용해 classification을 진행해보자.\n",
    "* [CIFAR 10 Dataset](https://www.cs.toronto.edu/~kriz/cifar.html)\n",
    "\n",
    "### Baseline\n",
    "* 오버피팅을 방지하기 위한 다양한 방법들을 사용해보자.\n",
    "    * 하이퍼파라미터 조절 (데이터 로드, 모델, Optimizer 등)\n",
    "    * 모델 구성 변경 (layer의 갯수)\n",
    "* Training\n",
    "    * tf.data.Dataset 과 model.fit()을 사용\n",
    "\n",
    "* Evaluation\n",
    "    * 모델의 정확도와 크기를 이용해 점수를 제공하는 메트릭으로 평가해보자."
   ]
  },
  {
   "cell_type": "markdown",
   "metadata": {
    "id": "Ew9Bg8w9j0PZ"
   },
   "source": [
    "### 구글 드라이브 마운트\n",
    "* Google의 Colab과 Drive를 이용해 노트북을 이용해 언제 어디서든 딥러닝 모델을 학습시켜보자."
   ]
  },
  {
   "cell_type": "code",
   "metadata": {
    "id": "RRYFNY5jjzWF",
    "ExecuteTime": {
     "end_time": "2023-12-27T06:42:13.547961Z",
     "start_time": "2023-12-27T06:42:13.465787Z"
    }
   },
   "source": [
    "# 코드 호환성을 위한 분기\n",
    "use_colab = True\n",
    "assert use_colab in [True, False]"
   ],
   "execution_count": 173,
   "outputs": []
  },
  {
   "cell_type": "code",
   "metadata": {
    "id": "6vefMxCgj2U6",
    "ExecuteTime": {
     "end_time": "2023-12-27T06:42:13.564022Z",
     "start_time": "2023-12-27T06:42:13.551213Z"
    }
   },
   "source": [
    "# from google.colab import drive\n",
    "# drive.mount('/content/drive')"
   ],
   "execution_count": 174,
   "outputs": []
  },
  {
   "cell_type": "markdown",
   "metadata": {
    "id": "P2qZQXTBcM6t"
   },
   "source": [
    "### 번외) GPU 서버를 어떻게 구성하면 좋을까?\n",
    "1. 로컬 머신 (노트북, 데스크탑) 구매\n",
    "    * GPU 노트북, 데스크탑, 서버 등 원하는 방법으로 다양하게 구비할 수 있다.\n",
    "    * Colab과 다르게 세션이 종료되지않으며, 비교적 자유롭게 사용할 수 있다.\n",
    "    * 원격 접속 및 오프라인 관리가 어려우며, 부수적인 유지보수 비용이 발생한다.\n",
    "\n",
    "2. 클라우드 등 서버 사용\n",
    "    * AWS, 네이버 클라우드 등\n",
    "    * 오프라인 관리가 필요없으며, 안정적이다.\n",
    "    * 비싸다..."
   ]
  },
  {
   "cell_type": "markdown",
   "metadata": {
    "id": "Due8naADzEZc"
   },
   "source": [
    "### import packages"
   ]
  },
  {
   "cell_type": "code",
   "metadata": {
    "id": "TlUX4NtWRL5b",
    "ExecuteTime": {
     "end_time": "2023-12-27T06:42:13.614660Z",
     "start_time": "2023-12-27T06:42:13.571143Z"
    }
   },
   "source": [
    "import tensorflow as tf\n",
    "from tensorflow.keras.models import Sequential\n",
    "from tensorflow.keras import layers\n",
    "\n",
    "from sklearn.model_selection import train_test_split\n",
    "\n",
    "import tensorflow.keras.losses\n",
    "\n",
    "import numpy as np\n",
    "import matplotlib.pyplot as plt\n",
    "import os\n",
    "\n",
    "tf.__version__"
   ],
   "execution_count": 175,
   "outputs": [
    {
     "data": {
      "text/plain": "'2.10.0'"
     },
     "execution_count": 175,
     "metadata": {},
     "output_type": "execute_result"
    }
   ]
  },
  {
   "cell_type": "markdown",
   "metadata": {
    "id": "Kjsldx-rzIfG"
   },
   "source": [
    "### load data\n",
    "* CIFAR 10 dataset을 로드한다. (npy)\n",
    "* 학습에 사용되는 대표적인 데이터셋들은 프레임워크내 코드로 제공된다.\n",
    "\n",
    "```\n",
    "tf.keras.dataset.cifar10\n",
    "tf.keras.dataset.cifar100\n",
    "tf.keras.dataset.mnist\n",
    "tf.keras.dataset.fashion_mnist\n",
    "tf.keras.dataset.imdb\n",
    "\n",
    "```\n",
    "\n",
    "* 다양한 데이터셋을 쉽게 가져와 사용할 수 있다.\n",
    "\n",
    "### 데이터셋 사용방법\n",
    "* Data split\n",
    "    * sklearn (머신러닝 프레임워크)를 이용해 데이터를 손쉽게 나눌 수 있다.\n",
    "\n",
    "```\n",
    "test_data_split, valid_data, test_labels_split, valid_labels = \\\n",
    "    train_test_split(test_data, test_labels, test_size=0.2, shuffle=True)\n",
    "```\n",
    "\n",
    "* test_size를 조절해 원하는 크기만큼의 데이터를 분리해 사용할 수 있다."
   ]
  },
  {
   "cell_type": "code",
   "metadata": {
    "id": "C5QyC6CZMgLT",
    "ExecuteTime": {
     "end_time": "2023-12-27T06:42:13.987791Z",
     "start_time": "2023-12-27T06:42:13.591924Z"
    }
   },
   "source": [
    "# Load training and eval data from tf.keras\n",
    "(train_data, train_labels), (test_data, test_labels) = \\\n",
    "    tf.keras.datasets.cifar10.load_data()"
   ],
   "execution_count": 176,
   "outputs": []
  },
  {
   "cell_type": "code",
   "metadata": {
    "id": "_bshB8j2Qu3Z",
    "ExecuteTime": {
     "end_time": "2023-12-27T06:42:13.987926Z",
     "start_time": "2023-12-27T06:42:13.965416Z"
    }
   },
   "source": [
    "# !cd /root/.keras/datasets/ && ls -al"
   ],
   "execution_count": 177,
   "outputs": []
  },
  {
   "cell_type": "code",
   "metadata": {
    "id": "fKduNOW08ugw",
    "ExecuteTime": {
     "end_time": "2023-12-27T06:42:14.004840Z",
     "start_time": "2023-12-27T06:42:13.977362Z"
    }
   },
   "source": [
    "print(train_data.shape, train_labels.shape)\n",
    "print(test_data.shape, test_labels.shape)\n",
    "print(test_labels[0]) # 데이터셋 제작할때, [3] => 3 으로 데이터 형태를 변경해줘야합니다."
   ],
   "execution_count": 178,
   "outputs": [
    {
     "name": "stdout",
     "output_type": "stream",
     "text": [
      "(50000, 32, 32, 3) (50000, 1)\n",
      "(10000, 32, 32, 3) (10000, 1)\n",
      "[3]\n"
     ]
    }
   ]
  },
  {
   "cell_type": "code",
   "metadata": {
    "id": "INZN9eNPRL5h",
    "ExecuteTime": {
     "end_time": "2023-12-27T06:42:15.111932Z",
     "start_time": "2023-12-27T06:42:13.985761Z"
    }
   },
   "source": [
    "test_data, valid_data, test_labels, valid_labels = \\\n",
    "    train_test_split(test_data, test_labels, test_size=0.1, shuffle=True) # 0~1의 값으로 줍니다.\n",
    "# test_size => 0.1 = 10%\n",
    "# test_size => 0.2 = 20%\n",
    "\n",
    "# raw data normalization\n",
    "# RGB 값이 0~255 사이 값인 것을 이용해 Normalization 진행\n",
    "train_data = train_data / 255.\n",
    "train_data = train_data.reshape([-1,32,32,3])\n",
    "train_labels = train_labels.reshape([-1])\n",
    "\n",
    "valid_data = valid_data / 255.\n",
    "valid_data = valid_data.reshape([-1,32,32,3])\n",
    "valid_labels = valid_labels.reshape([-1])\n",
    "\n",
    "test_data = test_data / 255.\n",
    "test_data = test_data.reshape([-1,32,32,3])\n",
    "test_labels = test_labels.reshape([-1])\n"
   ],
   "execution_count": 179,
   "outputs": []
  },
  {
   "cell_type": "code",
   "metadata": {
    "id": "Nd8fwv5AeaFy",
    "ExecuteTime": {
     "end_time": "2023-12-27T06:42:15.126885Z",
     "start_time": "2023-12-27T06:42:15.088012Z"
    }
   },
   "source": [
    "# [데이터수, 32, 32, 3] [데이터수,]\n",
    "print(train_data.shape, train_labels.shape)\n",
    "print(valid_data.shape, valid_labels.shape)\n",
    "print(test_data.shape, test_labels.shape)"
   ],
   "execution_count": 180,
   "outputs": [
    {
     "name": "stdout",
     "output_type": "stream",
     "text": [
      "(50000, 32, 32, 3) (50000,)\n",
      "(1000, 32, 32, 3) (1000,)\n",
      "(9000, 32, 32, 3) (9000,)\n"
     ]
    }
   ]
  },
  {
   "cell_type": "markdown",
   "metadata": {
    "id": "J_5B8vqPzNYY"
   },
   "source": [
    "### dataset 구성\n",
    "* tf.data.Dataset을 이용해 데이터셋을 구성한다.\n",
    "    * 위에서 불러온 raw data (cifar10) 데이터셋을 모델이 학습 할 수 있도록 전달해 주는 데이터셋이다.\n",
    "* tf data Dataset을 사용해야하는 이유?\n",
    "    * 직접 Generator를 작성할 필요가 없다\n",
    "    * map 함수를 이용해 전처리 과정을 직접 조절할 수 있다.\n",
    "    * 메모리에 부담이 되지 않게 동작한다.\n",
    "\n",
    "\n",
    "### 직접 적용해보자\n",
    "* map 함수를 적용할 함수 구현 후 dataset을 구현하며 사용해보자"
   ]
  },
  {
   "cell_type": "code",
   "metadata": {
    "id": "KB2O5Gf8RL5n",
    "ExecuteTime": {
     "end_time": "2023-12-27T06:42:15.175847Z",
     "start_time": "2023-12-27T06:42:15.101720Z"
    }
   },
   "source": [
    "def one_hot_label(image, label): # label => one_hot\n",
    "  label = tf.one_hot(label, depth=10)\n",
    "  return image, label"
   ],
   "execution_count": 181,
   "outputs": []
  },
  {
   "cell_type": "markdown",
   "metadata": {
    "id": "RQuarDIdj0nn"
   },
   "source": [
    "* 위 one_hot_label 함수는 아래와 같이 동작한다.\n",
    "# one_hot vector 예시\n",
    "\n",
    "```Python\n",
    "tf.one_hot(\n",
    "    indices, depth, on_value=None, off_value=None, axis=None, dtype=None, name=None\n",
    ")\n",
    "\n",
    "indices = [0, 1, 2]\n",
    "depth = 3\n",
    "tf.one_hot(indices, depth)  # output: [3 x 3]\n",
    "# [[1., 0., 0.],\n",
    "#  [0., 1., 0.],\n",
    "#  [0., 0., 1.]]\n",
    "\n",
    "```"
   ]
  },
  {
   "cell_type": "markdown",
   "metadata": {
    "id": "sl0pvav6kJMT"
   },
   "source": [
    "### map 함수를 포함한 dataset 구성\n",
    "* Dataset을 딥러닝 데이터를 쉽게 불러오기 위한 일종의 Generator 입니다.\n",
    "* 학습에 사용할 데이터셋은 총 3개\n",
    "    * Train dataset, Valid dataset, Test dataset 입니다.\n",
    "        * Raw data에서 분리한 데이터들\n",
    "    * 데이터셋은 tf.data.Dataset으로 구성되며, 구현 파트에선 데이터를 불러오는 형식만을 지정해준다.\n",
    "        * shuffle, batch 옵션을 이용해 다양하게 데이터를 로드해올 수 있다.\n",
    "    "
   ]
  },
  {
   "cell_type": "code",
   "metadata": {
    "id": "4YFNeX5zokDu",
    "ExecuteTime": {
     "end_time": "2023-12-27T06:42:15.176350Z",
     "start_time": "2023-12-27T06:42:15.113134Z"
    }
   },
   "source": [
    "batch_size = 32"
   ],
   "execution_count": 182,
   "outputs": []
  },
  {
   "cell_type": "code",
   "metadata": {
    "id": "5smuqDGFRL5s",
    "ExecuteTime": {
     "end_time": "2023-12-27T06:42:22.108898Z",
     "start_time": "2023-12-27T06:42:15.153221Z"
    }
   },
   "source": [
    "# for train\n",
    "N = len(train_data)\n",
    "train_dataset = tf.data.Dataset.from_tensor_slices((train_data,train_labels))\n",
    "train_dataset = train_dataset.map(one_hot_label) # 함수의 이름을 써서 구현\n",
    "train_dataset = train_dataset.shuffle(10000).repeat().batch(batch_size=batch_size)\n",
    "print(train_dataset)\n",
    "\n",
    "# # for valid\n",
    "valid_dataset = tf.data.Dataset.from_tensor_slices((valid_data,valid_labels))\n",
    "valid_dataset = valid_dataset.map(one_hot_label)\n",
    "valid_dataset = valid_dataset.batch(batch_size=batch_size)\n",
    "print(valid_dataset)\n",
    "\n",
    "# # for test\n",
    "test_dataset = tf.data.Dataset.from_tensor_slices((test_data,test_labels))\n",
    "test_dataset = test_dataset.map(one_hot_label)\n",
    "test_dataset = test_dataset.batch(batch_size=batch_size)\n",
    "print(test_dataset)\n"
   ],
   "execution_count": 183,
   "outputs": [
    {
     "name": "stdout",
     "output_type": "stream",
     "text": [
      "<BatchDataset element_spec=(TensorSpec(shape=(None, 32, 32, 3), dtype=tf.float64, name=None), TensorSpec(shape=(None, 10), dtype=tf.float32, name=None))>\n",
      "<BatchDataset element_spec=(TensorSpec(shape=(None, 32, 32, 3), dtype=tf.float64, name=None), TensorSpec(shape=(None, 10), dtype=tf.float32, name=None))>\n",
      "<BatchDataset element_spec=(TensorSpec(shape=(None, 32, 32, 3), dtype=tf.float64, name=None), TensorSpec(shape=(None, 10), dtype=tf.float32, name=None))>\n"
     ]
    }
   ]
  },
  {
   "cell_type": "markdown",
   "metadata": {
    "id": "8s_YijINvd7I"
   },
   "source": [
    "\n",
    "* 데이터 타입의 경우 Tensorflow 버전에 따라 tf.float32 or tf.float64로 출력될 수 있으나 학습에 큰 영향을 주진 않는다.\n",
    "* 해당 자료형은 tf.cast를 이용해 따로 타입을 지정해줄 수 있다."
   ]
  },
  {
   "cell_type": "markdown",
   "metadata": {
    "id": "Sak_LGn0jVSz"
   },
   "source": [
    "### Save point 설정\n",
    "* Model weight를 저장할 폴더를 지정한다.\n",
    "* 폴더가 없다면 새로 생성해준다."
   ]
  },
  {
   "cell_type": "code",
   "metadata": {
    "id": "aoGnJiFQn-9a",
    "ExecuteTime": {
     "end_time": "2023-12-27T06:42:22.122466Z",
     "start_time": "2023-12-27T06:42:21.099918Z"
    }
   },
   "source": [
    "# the save point\n",
    "if use_colab:\n",
    "    checkpoint_dir ='.//cifar10_classification/exp1'\n",
    "else:\n",
    "    checkpoint_dir = 'cifar10_classification/exp1'\n",
    "\n",
    "if not os.path.isdir(checkpoint_dir):\n",
    "    os.makedirs(checkpoint_dir)"
   ],
   "execution_count": 184,
   "outputs": []
  },
  {
   "cell_type": "markdown",
   "metadata": {
    "id": "28Zgtrndp8ag"
   },
   "source": [
    "### Model Savepoints\n",
    "* 모델 저장시 모델의 파라미터를 저장한다.\n",
    "    * 위에 구현된 모델의 shape을 기준으로 파라미터만 저장\n",
    "* 저장된 데이터는 checkpoint 형태로 저장되며, load data를 이용해 불러올 수 있다.\n",
    "    * 저장된 모델 데이터를 불러올 시에는 저장된 모델과 같은 shape인 모델이 메모리 상에 있어야 한다.\n",
    "\n",
    "```\n",
    "model = model() # 구현했던 모델\n",
    "model.load_weights(checkpoint_dir)\n",
    "```"
   ]
  },
  {
   "cell_type": "markdown",
   "metadata": {
    "id": "E9zJFca-nq4v"
   },
   "source": [
    "### 데이터 확인\n",
    "* 학습에 사용할 데이터를 확인해보자."
   ]
  },
  {
   "cell_type": "code",
   "metadata": {
    "id": "s8zViOfERL5v",
    "ExecuteTime": {
     "end_time": "2023-12-27T06:42:22.212295Z",
     "start_time": "2023-12-27T06:42:21.119596Z"
    }
   },
   "source": [
    "index = 219 # index를 변경해 확인해보자 (0~49999)\n",
    "print(\"label = {}\".format(train_labels[index]))\n",
    "plt.imshow(train_data[index].reshape(32, 32, 3))\n",
    "plt.colorbar()\n",
    "#plt.gca().grid(False)\n",
    "plt.show()"
   ],
   "execution_count": 185,
   "outputs": [
    {
     "name": "stdout",
     "output_type": "stream",
     "text": [
      "label = 9\n"
     ]
    },
    {
     "data": {
      "text/plain": "<Figure size 640x480 with 2 Axes>",
      "image/png": "[encoded data removed]"
     },
     "metadata": {},
     "output_type": "display_data"
    }
   ]
  },
  {
   "cell_type": "markdown",
   "metadata": {
    "id": "3ci_kGCiiVYN"
   },
   "source": [
    "### 모델 구성\n",
    "* 직접 모델을 구현해 봅시다."
   ]
  },
  {
   "cell_type": "code",
   "metadata": {
    "id": "zc-5rcdFAmDP",
    "ExecuteTime": {
     "end_time": "2023-12-27T06:42:22.212426Z",
     "start_time": "2023-12-27T06:42:21.700315Z"
    }
   },
   "source": [
    "# 1번 방법\n",
    "# model = Sequential()\n",
    "# model.add() # (32#필터갯수, 3#필터사이즈)\n",
    "# \n",
    "# # 2번 방법\n",
    "# model = Sequential([\n",
    "#                     #layer,\n",
    "#                     #layer,\n",
    "# ]) \n",
    "\n",
    "# 모델의 output\n",
    "# 1번 구현 방법\n",
    "... # loss fn => from_logits 는 마지막 레이어의 activation과 관련\n",
    "#model.add(layers.Dense(10, activation='softmax')) # from_logits=False\n",
    "\n",
    "# 2번 구현 방법\n",
    "#model.add(layers.Dense(10)) # activation을 거치지않은 데이터를 logits\n",
    "# from_logits=True => 마지막 레이어에 activation이 없다."
   ],
   "execution_count": 186,
   "outputs": [
    {
     "data": {
      "text/plain": "Ellipsis"
     },
     "execution_count": 186,
     "metadata": {},
     "output_type": "execute_result"
    }
   ]
  },
  {
   "cell_type": "code",
   "source": [
    "# F API\n",
    "input_tensor = layers.Input(shape=(32,32,3,)) # 1개 데이터의 특성\n",
    "\n",
    "x = layers.Conv2D(32, 3, kernel_initializer=tf.keras.initializers.HeUniform(), kernel_regularizer=tf.keras.regularizers.L2(0.0001))(input_tensor)\n",
    "x = layers.BatchNormalization()(x)\n",
    "x = layers.Activation('relu')(x)\n",
    "\n",
    "x = layers.Conv2D(32,3,strides= 2, kernel_initializer=tf.keras.initializers.HeUniform(), kernel_regularizer=tf.keras.regularizers.L2(0.0001))(input_tensor)\n",
    "x = layers.BatchNormalization()(x)\n",
    "x = layers.Activation('relu')(x)\n",
    "x = layers.MaxPool2D((2,2))(x)\n",
    "x = layers.Dropout(0.1)(x)\n",
    "\n",
    "x = layers.Conv2D(64, 3, kernel_initializer=tf.keras.initializers.HeUniform(), kernel_regularizer=tf.keras.regularizers.L2(0.0001))(x)\n",
    "x = layers.BatchNormalization()(x)\n",
    "x = layers.Activation('relu')(x)\n",
    "x = layers.Conv2D(64, 3, kernel_initializer=tf.keras.initializers.HeUniform(), kernel_regularizer=tf.keras.regularizers.L2(0.0001))(x)\n",
    "x = layers.BatchNormalization()(x)\n",
    "x = layers.Activation('relu')(x)\n",
    "x = layers.MaxPool2D((2,2))(x)\n",
    "\n",
    "x = layers.Conv2D(128, 3, kernel_initializer=tf.keras.initializers.HeUniform(), kernel_regularizer=tf.keras.regularizers.L2(0.0001))(x)\n",
    "x = layers.BatchNormalization()(x)\n",
    "x = layers.Activation('relu')(x)\n",
    "x = layers.Conv2D(128, 3, kernel_initializer=tf.keras.initializers.HeUniform(), kernel_regularizer=tf.keras.regularizers.L2(0.0001))(x)\n",
    "x = layers.BatchNormalization()(x)\n",
    "x = layers.Activation('relu')(x)\n",
    "x = layers.Dropout(0.3)(x)\n",
    "\n",
    "# x = layers.Conv2D(256, 3, padding='same', kernel_initializer=tf.keras.initializers.HeUniform(), kernel_regularizer=tf.keras.regularizers.L2(0.0001))(x)\n",
    "# x = layers.BatchNormalization()(x)\n",
    "# x= layers.Dropout(0.4)(x)\n",
    "# x = layers.Activation('relu')(x)\n",
    "# x = layers.MaxPool2D((2,2))(x)\n",
    "\n",
    "\n",
    "x = layers.Flatten()(x)\n",
    "# x = layers.Dense(512, kernel_initializer=tf.keras.initializers.HeUniform(), kernel_regularizer=tf.keras.regularizers.L2(0.0001))(x)\n",
    "# x = layers.BatchNormalization()(x)\n",
    "# x = layers.Activation('relu')(x)\n",
    "# \n",
    "\n",
    "x = layers.Dense(256, kernel_initializer=tf.keras.initializers.HeUniform(), kernel_regularizer=tf.keras.regularizers.L2(0.0001))(x)\n",
    "x = layers.Dropout(0.5)(x)\n",
    "x = layers.BatchNormalization()(x)\n",
    "x = layers.Activation('relu')(x)\n",
    "\n",
    "\n",
    "x = layers.Dense(64, kernel_initializer=tf.keras.initializers.HeUniform(), kernel_regularizer=tf.keras.regularizers.L2(0.0001))(x)\n",
    "x = layers.BatchNormalization()(x)\n",
    "x = layers.Activation('relu')(x)\n",
    "\n",
    "\n",
    "x= layers.Dense(10,kernel_initializer=tf.keras.initializers.HeUniform(), kernel_regularizer=tf.keras.regularizers.L2(0.0001))(x)\n",
    "output_tensor = layers.Activation('softmax')(x)\n",
    "\n",
    "\n",
    "# 최종 모델 완성\n",
    "model = tf.keras.Model(input_tensor, output_tensor)"
   ],
   "metadata": {
    "id": "7UJxwGG2uTe9",
    "ExecuteTime": {
     "end_time": "2023-12-27T06:42:23.540644Z",
     "start_time": "2023-12-27T06:42:21.776918Z"
    }
   },
   "execution_count": 187,
   "outputs": []
  },
  {
   "cell_type": "markdown",
   "metadata": {
    "id": "eA76LqFwpH-X"
   },
   "source": [
    "* 모델이 잘 생성 되었는지 간단하게 테스트해 봅시다."
   ]
  },
  {
   "cell_type": "code",
   "metadata": {
    "id": "g8BnMTZyRL53",
    "ExecuteTime": {
     "end_time": "2023-12-27T06:42:24.457076Z",
     "start_time": "2023-12-27T06:42:23.544662Z"
    }
   },
   "source": [
    "# without training, just inference a model in eager execution:\n",
    "predictions = model(train_data[0:1], training=False)\n",
    "print(\"Predictions: \", predictions.numpy()) # 총 10개의 데이터가 나오면 모델이 잘 구성된겁니다."
   ],
   "execution_count": 188,
   "outputs": [
    {
     "name": "stdout",
     "output_type": "stream",
     "text": [
      "Predictions:  [[0.14181507 0.06159389 0.17036344 0.15410633 0.11789883 0.08184543\n",
      "  0.07129439 0.02128848 0.12902722 0.05076691]]\n"
     ]
    }
   ]
  },
  {
   "cell_type": "markdown",
   "metadata": {
    "id": "nct8JiQxpLsX"
   },
   "source": [
    "* 위 Predictions 결과가 총 10개 짜리 리스트로 출력 된다면, 현재 테스크에서 정상적인 출력입니다.\n",
    "    * cifar10 dataset은 정답이 총 10개로 이뤄져 있습니다.\n",
    "    * 출력값은 마지막 output layer에 activation의 유무에 따라서 값이 달라지며, activation을 통과하기전 데이터를 logit이라고 이야기합니다."
   ]
  },
  {
   "cell_type": "markdown",
   "metadata": {
    "id": "vJRZU65fl2xz"
   },
   "source": [
    "### Model compile\n",
    "* 학습을 위한 Optimizer와 Loss fn을 설정해준다.\n",
    "    * Optimzier는 learning rate를 인자로 가지며, 모델의 학습정도를 컨트롤합니다.\n",
    "    * Loss fn은 모델의 예측결과와 실제 정답간의 차이를 loss로 계산해 모델을 학습합니다."
   ]
  },
  {
   "cell_type": "code",
   "metadata": {
    "id": "P3I0O8MaRL57",
    "ExecuteTime": {
     "end_time": "2023-12-27T06:42:24.477697Z",
     "start_time": "2023-12-27T06:42:24.462440Z"
    }
   },
   "source": [
    "model.compile(optimizer=tf.keras.optimizers.Adam(1e-4), # learning rate가 기본값으로 1e-3으로 들어가있습니다.\n",
    "              loss= tf.keras.losses.CategoricalCrossentropy(from_logits=False)\n",
    "             ,\n",
    "              metrics=['accuracy'])"
   ],
   "execution_count": 189,
   "outputs": []
  },
  {
   "cell_type": "code",
   "metadata": {
    "id": "3KF1BT7aRL5-",
    "ExecuteTime": {
     "end_time": "2023-12-27T06:42:24.802203Z",
     "start_time": "2023-12-27T06:42:24.483027Z"
    }
   },
   "source": [
    "model.summary()"
   ],
   "execution_count": 190,
   "outputs": [
    {
     "name": "stdout",
     "output_type": "stream",
     "text": [
      "Model: \"model_32\"\n",
      "_________________________________________________________________\n",
      " Layer (type)                Output Shape              Param #   \n",
      "=================================================================\n",
      " input_65 (InputLayer)       [(None, 32, 32, 3)]       0         \n",
      "                                                                 \n",
      " conv2d_241 (Conv2D)         (None, 30, 30, 32)        896       \n",
      "                                                                 \n",
      " batch_normalization_291 (Ba  (None, 30, 30, 32)       128       \n",
      " tchNormalization)                                               \n",
      "                                                                 \n",
      " activation_323 (Activation)  (None, 30, 30, 32)       0         \n",
      "                                                                 \n",
      " max_pooling2d_216 (MaxPooli  (None, 15, 15, 32)       0         \n",
      " ng2D)                                                           \n",
      "                                                                 \n",
      " dropout_60 (Dropout)        (None, 15, 15, 32)        0         \n",
      "                                                                 \n",
      " conv2d_242 (Conv2D)         (None, 13, 13, 64)        18496     \n",
      "                                                                 \n",
      " batch_normalization_292 (Ba  (None, 13, 13, 64)       256       \n",
      " tchNormalization)                                               \n",
      "                                                                 \n",
      " activation_324 (Activation)  (None, 13, 13, 64)       0         \n",
      "                                                                 \n",
      " conv2d_243 (Conv2D)         (None, 11, 11, 64)        36928     \n",
      "                                                                 \n",
      " batch_normalization_293 (Ba  (None, 11, 11, 64)       256       \n",
      " tchNormalization)                                               \n",
      "                                                                 \n",
      " activation_325 (Activation)  (None, 11, 11, 64)       0         \n",
      "                                                                 \n",
      " max_pooling2d_217 (MaxPooli  (None, 5, 5, 64)         0         \n",
      " ng2D)                                                           \n",
      "                                                                 \n",
      " conv2d_244 (Conv2D)         (None, 3, 3, 128)         73856     \n",
      "                                                                 \n",
      " batch_normalization_294 (Ba  (None, 3, 3, 128)        512       \n",
      " tchNormalization)                                               \n",
      "                                                                 \n",
      " activation_326 (Activation)  (None, 3, 3, 128)        0         \n",
      "                                                                 \n",
      " conv2d_245 (Conv2D)         (None, 1, 1, 128)         147584    \n",
      "                                                                 \n",
      " batch_normalization_295 (Ba  (None, 1, 1, 128)        512       \n",
      " tchNormalization)                                               \n",
      "                                                                 \n",
      " activation_327 (Activation)  (None, 1, 1, 128)        0         \n",
      "                                                                 \n",
      " dropout_61 (Dropout)        (None, 1, 1, 128)         0         \n",
      "                                                                 \n",
      " flatten_28 (Flatten)        (None, 128)               0         \n",
      "                                                                 \n",
      " dense_107 (Dense)           (None, 256)               33024     \n",
      "                                                                 \n",
      " dropout_62 (Dropout)        (None, 256)               0         \n",
      "                                                                 \n",
      " batch_normalization_296 (Ba  (None, 256)              1024      \n",
      " tchNormalization)                                               \n",
      "                                                                 \n",
      " activation_328 (Activation)  (None, 256)              0         \n",
      "                                                                 \n",
      " dense_108 (Dense)           (None, 64)                16448     \n",
      "                                                                 \n",
      " batch_normalization_297 (Ba  (None, 64)               256       \n",
      " tchNormalization)                                               \n",
      "                                                                 \n",
      " activation_329 (Activation)  (None, 64)               0         \n",
      "                                                                 \n",
      " dense_109 (Dense)           (None, 10)                650       \n",
      "                                                                 \n",
      " activation_330 (Activation)  (None, 10)               0         \n",
      "                                                                 \n",
      "=================================================================\n",
      "Total params: 330,826\n",
      "Trainable params: 329,354\n",
      "Non-trainable params: 1,472\n",
      "_________________________________________________________________\n"
     ]
    }
   ]
  },
  {
   "cell_type": "code",
   "metadata": {
    "id": "OKIiPxAgoItQ",
    "ExecuteTime": {
     "end_time": "2023-12-27T06:42:24.805388Z",
     "start_time": "2023-12-27T06:42:24.562391Z"
    }
   },
   "source": [
    "cp_callback = tf.keras.callbacks.ModelCheckpoint(checkpoint_dir, # save point dir\n",
    "                                                 save_weights_only=True,\n",
    "                                                 monitor='val_loss',\n",
    "                                                 mode='auto',\n",
    "                                                 save_best_only=True,\n",
    "                                                 verbose=1)\n",
    "\n",
    "\n",
    "early_stopping_cb = tf.keras.callbacks.EarlyStopping(patience=10,\n",
    "                                            monitor='val_loss',\n",
    "                                            restore_best_weights=True,\n",
    "                                            verbose=1)"
   ],
   "execution_count": 191,
   "outputs": []
  },
  {
   "cell_type": "code",
   "metadata": {
    "id": "B3sOL3HCRL6A",
    "ExecuteTime": {
     "end_time": "2023-12-27T06:48:54.019913Z",
     "start_time": "2023-12-27T06:42:24.563655Z"
    }
   },
   "source": [
    "max_epochs = 50\n",
    "\n",
    "# using `tf.data.Dataset`\n",
    "history = model.fit(train_dataset,\n",
    "                    steps_per_epoch=len(train_data) // batch_size,\n",
    "                    epochs=max_epochs,\n",
    "                    validation_data=valid_dataset,\n",
    "                    validation_steps=len(valid_data) // batch_size,\n",
    "                    callbacks=[cp_callback,early_stopping_cb]\n",
    "                    )"
   ],
   "execution_count": 192,
   "outputs": [
    {
     "name": "stdout",
     "output_type": "stream",
     "text": [
      "Epoch 1/50\n"
     ]
    },
    {
     "name": "stderr",
     "output_type": "stream",
     "text": [
      "2023-12-27 15:42:25.800740: I tensorflow/core/grappler/optimizers/custom_graph_optimizer_registry.cc:114] Plugin optimizer for device_type GPU is enabled.\n"
     ]
    },
    {
     "name": "stdout",
     "output_type": "stream",
     "text": [
      "1562/1562 [==============================] - ETA: 0s - loss: 2.1477 - accuracy: 0.2800"
     ]
    },
    {
     "name": "stderr",
     "output_type": "stream",
     "text": [
      "2023-12-27 15:45:14.692510: I tensorflow/core/grappler/optimizers/custom_graph_optimizer_registry.cc:114] Plugin optimizer for device_type GPU is enabled.\n"
     ]
    },
    {
     "name": "stdout",
     "output_type": "stream",
     "text": [
      "\n",
      "Epoch 1: val_loss improved from inf to 1.76856, saving model to .//cifar10_classification/exp1\n",
      "1562/1562 [==============================] - 172s 107ms/step - loss: 2.1477 - accuracy: 0.2800 - val_loss: 1.7686 - val_accuracy: 0.4163\n",
      "Epoch 2/50\n",
      "1562/1562 [==============================] - ETA: 0s - loss: 1.7292 - accuracy: 0.4278\n",
      "Epoch 2: val_loss improved from 1.76856 to 1.53686, saving model to .//cifar10_classification/exp1\n",
      "1562/1562 [==============================] - 165s 105ms/step - loss: 1.7292 - accuracy: 0.4278 - val_loss: 1.5369 - val_accuracy: 0.5111\n",
      "Epoch 3/50\n",
      " 515/1562 [========>.....................] - ETA: 1:43 - loss: 1.5928 - accuracy: 0.4812"
     ]
    },
    {
     "ename": "KeyboardInterrupt",
     "evalue": "",
     "output_type": "error",
     "traceback": [
      "\u001B[0;31m---------------------------------------------------------------------------\u001B[0m",
      "\u001B[0;31mKeyboardInterrupt\u001B[0m                         Traceback (most recent call last)",
      "Cell \u001B[0;32mIn[192], line 4\u001B[0m\n\u001B[1;32m      1\u001B[0m max_epochs \u001B[38;5;241m=\u001B[39m \u001B[38;5;241m50\u001B[39m\n\u001B[1;32m      3\u001B[0m \u001B[38;5;66;03m# using `tf.data.Dataset`\u001B[39;00m\n\u001B[0;32m----> 4\u001B[0m history \u001B[38;5;241m=\u001B[39m \u001B[43mmodel\u001B[49m\u001B[38;5;241;43m.\u001B[39;49m\u001B[43mfit\u001B[49m\u001B[43m(\u001B[49m\u001B[43mtrain_dataset\u001B[49m\u001B[43m,\u001B[49m\n\u001B[1;32m      5\u001B[0m \u001B[43m                    \u001B[49m\u001B[43msteps_per_epoch\u001B[49m\u001B[38;5;241;43m=\u001B[39;49m\u001B[38;5;28;43mlen\u001B[39;49m\u001B[43m(\u001B[49m\u001B[43mtrain_data\u001B[49m\u001B[43m)\u001B[49m\u001B[43m \u001B[49m\u001B[38;5;241;43m/\u001B[39;49m\u001B[38;5;241;43m/\u001B[39;49m\u001B[43m \u001B[49m\u001B[43mbatch_size\u001B[49m\u001B[43m,\u001B[49m\n\u001B[1;32m      6\u001B[0m \u001B[43m                    \u001B[49m\u001B[43mepochs\u001B[49m\u001B[38;5;241;43m=\u001B[39;49m\u001B[43mmax_epochs\u001B[49m\u001B[43m,\u001B[49m\n\u001B[1;32m      7\u001B[0m \u001B[43m                    \u001B[49m\u001B[43mvalidation_data\u001B[49m\u001B[38;5;241;43m=\u001B[39;49m\u001B[43mvalid_dataset\u001B[49m\u001B[43m,\u001B[49m\n\u001B[1;32m      8\u001B[0m \u001B[43m                    \u001B[49m\u001B[43mvalidation_steps\u001B[49m\u001B[38;5;241;43m=\u001B[39;49m\u001B[38;5;28;43mlen\u001B[39;49m\u001B[43m(\u001B[49m\u001B[43mvalid_data\u001B[49m\u001B[43m)\u001B[49m\u001B[43m \u001B[49m\u001B[38;5;241;43m/\u001B[39;49m\u001B[38;5;241;43m/\u001B[39;49m\u001B[43m \u001B[49m\u001B[43mbatch_size\u001B[49m\u001B[43m,\u001B[49m\n\u001B[1;32m      9\u001B[0m \u001B[43m                    \u001B[49m\u001B[43mcallbacks\u001B[49m\u001B[38;5;241;43m=\u001B[39;49m\u001B[43m[\u001B[49m\u001B[43mcp_callback\u001B[49m\u001B[43m,\u001B[49m\u001B[43mearly_stopping_cb\u001B[49m\u001B[43m]\u001B[49m\n\u001B[1;32m     10\u001B[0m \u001B[43m                    \u001B[49m\u001B[43m)\u001B[49m\n",
      "File \u001B[0;32m~/anaconda3/envs/tensor2/lib/python3.9/site-packages/keras/utils/traceback_utils.py:65\u001B[0m, in \u001B[0;36mfilter_traceback.<locals>.error_handler\u001B[0;34m(*args, **kwargs)\u001B[0m\n\u001B[1;32m     63\u001B[0m filtered_tb \u001B[38;5;241m=\u001B[39m \u001B[38;5;28;01mNone\u001B[39;00m\n\u001B[1;32m     64\u001B[0m \u001B[38;5;28;01mtry\u001B[39;00m:\n\u001B[0;32m---> 65\u001B[0m     \u001B[38;5;28;01mreturn\u001B[39;00m \u001B[43mfn\u001B[49m\u001B[43m(\u001B[49m\u001B[38;5;241;43m*\u001B[39;49m\u001B[43margs\u001B[49m\u001B[43m,\u001B[49m\u001B[43m \u001B[49m\u001B[38;5;241;43m*\u001B[39;49m\u001B[38;5;241;43m*\u001B[39;49m\u001B[43mkwargs\u001B[49m\u001B[43m)\u001B[49m\n\u001B[1;32m     66\u001B[0m \u001B[38;5;28;01mexcept\u001B[39;00m \u001B[38;5;167;01mException\u001B[39;00m \u001B[38;5;28;01mas\u001B[39;00m e:\n\u001B[1;32m     67\u001B[0m     filtered_tb \u001B[38;5;241m=\u001B[39m _process_traceback_frames(e\u001B[38;5;241m.\u001B[39m__traceback__)\n",
      "File \u001B[0;32m~/anaconda3/envs/tensor2/lib/python3.9/site-packages/keras/engine/training.py:1564\u001B[0m, in \u001B[0;36mModel.fit\u001B[0;34m(self, x, y, batch_size, epochs, verbose, callbacks, validation_split, validation_data, shuffle, class_weight, sample_weight, initial_epoch, steps_per_epoch, validation_steps, validation_batch_size, validation_freq, max_queue_size, workers, use_multiprocessing)\u001B[0m\n\u001B[1;32m   1556\u001B[0m \u001B[38;5;28;01mwith\u001B[39;00m tf\u001B[38;5;241m.\u001B[39mprofiler\u001B[38;5;241m.\u001B[39mexperimental\u001B[38;5;241m.\u001B[39mTrace(\n\u001B[1;32m   1557\u001B[0m     \u001B[38;5;124m\"\u001B[39m\u001B[38;5;124mtrain\u001B[39m\u001B[38;5;124m\"\u001B[39m,\n\u001B[1;32m   1558\u001B[0m     epoch_num\u001B[38;5;241m=\u001B[39mepoch,\n\u001B[0;32m   (...)\u001B[0m\n\u001B[1;32m   1561\u001B[0m     _r\u001B[38;5;241m=\u001B[39m\u001B[38;5;241m1\u001B[39m,\n\u001B[1;32m   1562\u001B[0m ):\n\u001B[1;32m   1563\u001B[0m     callbacks\u001B[38;5;241m.\u001B[39mon_train_batch_begin(step)\n\u001B[0;32m-> 1564\u001B[0m     tmp_logs \u001B[38;5;241m=\u001B[39m \u001B[38;5;28;43mself\u001B[39;49m\u001B[38;5;241;43m.\u001B[39;49m\u001B[43mtrain_function\u001B[49m\u001B[43m(\u001B[49m\u001B[43miterator\u001B[49m\u001B[43m)\u001B[49m\n\u001B[1;32m   1565\u001B[0m     \u001B[38;5;28;01mif\u001B[39;00m data_handler\u001B[38;5;241m.\u001B[39mshould_sync:\n\u001B[1;32m   1566\u001B[0m         context\u001B[38;5;241m.\u001B[39masync_wait()\n",
      "File \u001B[0;32m~/anaconda3/envs/tensor2/lib/python3.9/site-packages/tensorflow/python/util/traceback_utils.py:150\u001B[0m, in \u001B[0;36mfilter_traceback.<locals>.error_handler\u001B[0;34m(*args, **kwargs)\u001B[0m\n\u001B[1;32m    148\u001B[0m filtered_tb \u001B[38;5;241m=\u001B[39m \u001B[38;5;28;01mNone\u001B[39;00m\n\u001B[1;32m    149\u001B[0m \u001B[38;5;28;01mtry\u001B[39;00m:\n\u001B[0;32m--> 150\u001B[0m   \u001B[38;5;28;01mreturn\u001B[39;00m \u001B[43mfn\u001B[49m\u001B[43m(\u001B[49m\u001B[38;5;241;43m*\u001B[39;49m\u001B[43margs\u001B[49m\u001B[43m,\u001B[49m\u001B[43m \u001B[49m\u001B[38;5;241;43m*\u001B[39;49m\u001B[38;5;241;43m*\u001B[39;49m\u001B[43mkwargs\u001B[49m\u001B[43m)\u001B[49m\n\u001B[1;32m    151\u001B[0m \u001B[38;5;28;01mexcept\u001B[39;00m \u001B[38;5;167;01mException\u001B[39;00m \u001B[38;5;28;01mas\u001B[39;00m e:\n\u001B[1;32m    152\u001B[0m   filtered_tb \u001B[38;5;241m=\u001B[39m _process_traceback_frames(e\u001B[38;5;241m.\u001B[39m__traceback__)\n",
      "File \u001B[0;32m~/anaconda3/envs/tensor2/lib/python3.9/site-packages/tensorflow/python/eager/def_function.py:915\u001B[0m, in \u001B[0;36mFunction.__call__\u001B[0;34m(self, *args, **kwds)\u001B[0m\n\u001B[1;32m    912\u001B[0m compiler \u001B[38;5;241m=\u001B[39m \u001B[38;5;124m\"\u001B[39m\u001B[38;5;124mxla\u001B[39m\u001B[38;5;124m\"\u001B[39m \u001B[38;5;28;01mif\u001B[39;00m \u001B[38;5;28mself\u001B[39m\u001B[38;5;241m.\u001B[39m_jit_compile \u001B[38;5;28;01melse\u001B[39;00m \u001B[38;5;124m\"\u001B[39m\u001B[38;5;124mnonXla\u001B[39m\u001B[38;5;124m\"\u001B[39m\n\u001B[1;32m    914\u001B[0m \u001B[38;5;28;01mwith\u001B[39;00m OptionalXlaContext(\u001B[38;5;28mself\u001B[39m\u001B[38;5;241m.\u001B[39m_jit_compile):\n\u001B[0;32m--> 915\u001B[0m   result \u001B[38;5;241m=\u001B[39m \u001B[38;5;28;43mself\u001B[39;49m\u001B[38;5;241;43m.\u001B[39;49m\u001B[43m_call\u001B[49m\u001B[43m(\u001B[49m\u001B[38;5;241;43m*\u001B[39;49m\u001B[43margs\u001B[49m\u001B[43m,\u001B[49m\u001B[43m \u001B[49m\u001B[38;5;241;43m*\u001B[39;49m\u001B[38;5;241;43m*\u001B[39;49m\u001B[43mkwds\u001B[49m\u001B[43m)\u001B[49m\n\u001B[1;32m    917\u001B[0m new_tracing_count \u001B[38;5;241m=\u001B[39m \u001B[38;5;28mself\u001B[39m\u001B[38;5;241m.\u001B[39mexperimental_get_tracing_count()\n\u001B[1;32m    918\u001B[0m without_tracing \u001B[38;5;241m=\u001B[39m (tracing_count \u001B[38;5;241m==\u001B[39m new_tracing_count)\n",
      "File \u001B[0;32m~/anaconda3/envs/tensor2/lib/python3.9/site-packages/tensorflow/python/eager/def_function.py:947\u001B[0m, in \u001B[0;36mFunction._call\u001B[0;34m(self, *args, **kwds)\u001B[0m\n\u001B[1;32m    944\u001B[0m   \u001B[38;5;28mself\u001B[39m\u001B[38;5;241m.\u001B[39m_lock\u001B[38;5;241m.\u001B[39mrelease()\n\u001B[1;32m    945\u001B[0m   \u001B[38;5;66;03m# In this case we have created variables on the first call, so we run the\u001B[39;00m\n\u001B[1;32m    946\u001B[0m   \u001B[38;5;66;03m# defunned version which is guaranteed to never create variables.\u001B[39;00m\n\u001B[0;32m--> 947\u001B[0m   \u001B[38;5;28;01mreturn\u001B[39;00m \u001B[38;5;28;43mself\u001B[39;49m\u001B[38;5;241;43m.\u001B[39;49m\u001B[43m_stateless_fn\u001B[49m\u001B[43m(\u001B[49m\u001B[38;5;241;43m*\u001B[39;49m\u001B[43margs\u001B[49m\u001B[43m,\u001B[49m\u001B[43m \u001B[49m\u001B[38;5;241;43m*\u001B[39;49m\u001B[38;5;241;43m*\u001B[39;49m\u001B[43mkwds\u001B[49m\u001B[43m)\u001B[49m  \u001B[38;5;66;03m# pylint: disable=not-callable\u001B[39;00m\n\u001B[1;32m    948\u001B[0m \u001B[38;5;28;01melif\u001B[39;00m \u001B[38;5;28mself\u001B[39m\u001B[38;5;241m.\u001B[39m_stateful_fn \u001B[38;5;129;01mis\u001B[39;00m \u001B[38;5;129;01mnot\u001B[39;00m \u001B[38;5;28;01mNone\u001B[39;00m:\n\u001B[1;32m    949\u001B[0m   \u001B[38;5;66;03m# Release the lock early so that multiple threads can perform the call\u001B[39;00m\n\u001B[1;32m    950\u001B[0m   \u001B[38;5;66;03m# in parallel.\u001B[39;00m\n\u001B[1;32m    951\u001B[0m   \u001B[38;5;28mself\u001B[39m\u001B[38;5;241m.\u001B[39m_lock\u001B[38;5;241m.\u001B[39mrelease()\n",
      "File \u001B[0;32m~/anaconda3/envs/tensor2/lib/python3.9/site-packages/tensorflow/python/eager/function.py:2496\u001B[0m, in \u001B[0;36mFunction.__call__\u001B[0;34m(self, *args, **kwargs)\u001B[0m\n\u001B[1;32m   2493\u001B[0m \u001B[38;5;28;01mwith\u001B[39;00m \u001B[38;5;28mself\u001B[39m\u001B[38;5;241m.\u001B[39m_lock:\n\u001B[1;32m   2494\u001B[0m   (graph_function,\n\u001B[1;32m   2495\u001B[0m    filtered_flat_args) \u001B[38;5;241m=\u001B[39m \u001B[38;5;28mself\u001B[39m\u001B[38;5;241m.\u001B[39m_maybe_define_function(args, kwargs)\n\u001B[0;32m-> 2496\u001B[0m \u001B[38;5;28;01mreturn\u001B[39;00m \u001B[43mgraph_function\u001B[49m\u001B[38;5;241;43m.\u001B[39;49m\u001B[43m_call_flat\u001B[49m\u001B[43m(\u001B[49m\n\u001B[1;32m   2497\u001B[0m \u001B[43m    \u001B[49m\u001B[43mfiltered_flat_args\u001B[49m\u001B[43m,\u001B[49m\u001B[43m \u001B[49m\u001B[43mcaptured_inputs\u001B[49m\u001B[38;5;241;43m=\u001B[39;49m\u001B[43mgraph_function\u001B[49m\u001B[38;5;241;43m.\u001B[39;49m\u001B[43mcaptured_inputs\u001B[49m\u001B[43m)\u001B[49m\n",
      "File \u001B[0;32m~/anaconda3/envs/tensor2/lib/python3.9/site-packages/tensorflow/python/eager/function.py:1862\u001B[0m, in \u001B[0;36mConcreteFunction._call_flat\u001B[0;34m(self, args, captured_inputs, cancellation_manager)\u001B[0m\n\u001B[1;32m   1858\u001B[0m possible_gradient_type \u001B[38;5;241m=\u001B[39m gradients_util\u001B[38;5;241m.\u001B[39mPossibleTapeGradientTypes(args)\n\u001B[1;32m   1859\u001B[0m \u001B[38;5;28;01mif\u001B[39;00m (possible_gradient_type \u001B[38;5;241m==\u001B[39m gradients_util\u001B[38;5;241m.\u001B[39mPOSSIBLE_GRADIENT_TYPES_NONE\n\u001B[1;32m   1860\u001B[0m     \u001B[38;5;129;01mand\u001B[39;00m executing_eagerly):\n\u001B[1;32m   1861\u001B[0m   \u001B[38;5;66;03m# No tape is watching; skip to running the function.\u001B[39;00m\n\u001B[0;32m-> 1862\u001B[0m   \u001B[38;5;28;01mreturn\u001B[39;00m \u001B[38;5;28mself\u001B[39m\u001B[38;5;241m.\u001B[39m_build_call_outputs(\u001B[38;5;28;43mself\u001B[39;49m\u001B[38;5;241;43m.\u001B[39;49m\u001B[43m_inference_function\u001B[49m\u001B[38;5;241;43m.\u001B[39;49m\u001B[43mcall\u001B[49m\u001B[43m(\u001B[49m\n\u001B[1;32m   1863\u001B[0m \u001B[43m      \u001B[49m\u001B[43mctx\u001B[49m\u001B[43m,\u001B[49m\u001B[43m \u001B[49m\u001B[43margs\u001B[49m\u001B[43m,\u001B[49m\u001B[43m \u001B[49m\u001B[43mcancellation_manager\u001B[49m\u001B[38;5;241;43m=\u001B[39;49m\u001B[43mcancellation_manager\u001B[49m\u001B[43m)\u001B[49m)\n\u001B[1;32m   1864\u001B[0m forward_backward \u001B[38;5;241m=\u001B[39m \u001B[38;5;28mself\u001B[39m\u001B[38;5;241m.\u001B[39m_select_forward_and_backward_functions(\n\u001B[1;32m   1865\u001B[0m     args,\n\u001B[1;32m   1866\u001B[0m     possible_gradient_type,\n\u001B[1;32m   1867\u001B[0m     executing_eagerly)\n\u001B[1;32m   1868\u001B[0m forward_function, args_with_tangents \u001B[38;5;241m=\u001B[39m forward_backward\u001B[38;5;241m.\u001B[39mforward()\n",
      "File \u001B[0;32m~/anaconda3/envs/tensor2/lib/python3.9/site-packages/tensorflow/python/eager/function.py:499\u001B[0m, in \u001B[0;36m_EagerDefinedFunction.call\u001B[0;34m(self, ctx, args, cancellation_manager)\u001B[0m\n\u001B[1;32m    497\u001B[0m \u001B[38;5;28;01mwith\u001B[39;00m _InterpolateFunctionError(\u001B[38;5;28mself\u001B[39m):\n\u001B[1;32m    498\u001B[0m   \u001B[38;5;28;01mif\u001B[39;00m cancellation_manager \u001B[38;5;129;01mis\u001B[39;00m \u001B[38;5;28;01mNone\u001B[39;00m:\n\u001B[0;32m--> 499\u001B[0m     outputs \u001B[38;5;241m=\u001B[39m \u001B[43mexecute\u001B[49m\u001B[38;5;241;43m.\u001B[39;49m\u001B[43mexecute\u001B[49m\u001B[43m(\u001B[49m\n\u001B[1;32m    500\u001B[0m \u001B[43m        \u001B[49m\u001B[38;5;28;43mstr\u001B[39;49m\u001B[43m(\u001B[49m\u001B[38;5;28;43mself\u001B[39;49m\u001B[38;5;241;43m.\u001B[39;49m\u001B[43msignature\u001B[49m\u001B[38;5;241;43m.\u001B[39;49m\u001B[43mname\u001B[49m\u001B[43m)\u001B[49m\u001B[43m,\u001B[49m\n\u001B[1;32m    501\u001B[0m \u001B[43m        \u001B[49m\u001B[43mnum_outputs\u001B[49m\u001B[38;5;241;43m=\u001B[39;49m\u001B[38;5;28;43mself\u001B[39;49m\u001B[38;5;241;43m.\u001B[39;49m\u001B[43m_num_outputs\u001B[49m\u001B[43m,\u001B[49m\n\u001B[1;32m    502\u001B[0m \u001B[43m        \u001B[49m\u001B[43minputs\u001B[49m\u001B[38;5;241;43m=\u001B[39;49m\u001B[43margs\u001B[49m\u001B[43m,\u001B[49m\n\u001B[1;32m    503\u001B[0m \u001B[43m        \u001B[49m\u001B[43mattrs\u001B[49m\u001B[38;5;241;43m=\u001B[39;49m\u001B[43mattrs\u001B[49m\u001B[43m,\u001B[49m\n\u001B[1;32m    504\u001B[0m \u001B[43m        \u001B[49m\u001B[43mctx\u001B[49m\u001B[38;5;241;43m=\u001B[39;49m\u001B[43mctx\u001B[49m\u001B[43m)\u001B[49m\n\u001B[1;32m    505\u001B[0m   \u001B[38;5;28;01melse\u001B[39;00m:\n\u001B[1;32m    506\u001B[0m     outputs \u001B[38;5;241m=\u001B[39m execute\u001B[38;5;241m.\u001B[39mexecute_with_cancellation(\n\u001B[1;32m    507\u001B[0m         \u001B[38;5;28mstr\u001B[39m(\u001B[38;5;28mself\u001B[39m\u001B[38;5;241m.\u001B[39msignature\u001B[38;5;241m.\u001B[39mname),\n\u001B[1;32m    508\u001B[0m         num_outputs\u001B[38;5;241m=\u001B[39m\u001B[38;5;28mself\u001B[39m\u001B[38;5;241m.\u001B[39m_num_outputs,\n\u001B[0;32m   (...)\u001B[0m\n\u001B[1;32m    511\u001B[0m         ctx\u001B[38;5;241m=\u001B[39mctx,\n\u001B[1;32m    512\u001B[0m         cancellation_manager\u001B[38;5;241m=\u001B[39mcancellation_manager)\n",
      "File \u001B[0;32m~/anaconda3/envs/tensor2/lib/python3.9/site-packages/tensorflow/python/eager/execute.py:54\u001B[0m, in \u001B[0;36mquick_execute\u001B[0;34m(op_name, num_outputs, inputs, attrs, ctx, name)\u001B[0m\n\u001B[1;32m     52\u001B[0m \u001B[38;5;28;01mtry\u001B[39;00m:\n\u001B[1;32m     53\u001B[0m   ctx\u001B[38;5;241m.\u001B[39mensure_initialized()\n\u001B[0;32m---> 54\u001B[0m   tensors \u001B[38;5;241m=\u001B[39m \u001B[43mpywrap_tfe\u001B[49m\u001B[38;5;241;43m.\u001B[39;49m\u001B[43mTFE_Py_Execute\u001B[49m\u001B[43m(\u001B[49m\u001B[43mctx\u001B[49m\u001B[38;5;241;43m.\u001B[39;49m\u001B[43m_handle\u001B[49m\u001B[43m,\u001B[49m\u001B[43m \u001B[49m\u001B[43mdevice_name\u001B[49m\u001B[43m,\u001B[49m\u001B[43m \u001B[49m\u001B[43mop_name\u001B[49m\u001B[43m,\u001B[49m\n\u001B[1;32m     55\u001B[0m \u001B[43m                                      \u001B[49m\u001B[43minputs\u001B[49m\u001B[43m,\u001B[49m\u001B[43m \u001B[49m\u001B[43mattrs\u001B[49m\u001B[43m,\u001B[49m\u001B[43m \u001B[49m\u001B[43mnum_outputs\u001B[49m\u001B[43m)\u001B[49m\n\u001B[1;32m     56\u001B[0m \u001B[38;5;28;01mexcept\u001B[39;00m core\u001B[38;5;241m.\u001B[39m_NotOkStatusException \u001B[38;5;28;01mas\u001B[39;00m e:\n\u001B[1;32m     57\u001B[0m   \u001B[38;5;28;01mif\u001B[39;00m name \u001B[38;5;129;01mis\u001B[39;00m \u001B[38;5;129;01mnot\u001B[39;00m \u001B[38;5;28;01mNone\u001B[39;00m:\n",
      "\u001B[0;31mKeyboardInterrupt\u001B[0m: "
     ]
    }
   ]
  },
  {
   "cell_type": "markdown",
   "source": [],
   "metadata": {
    "collapsed": false
   }
  },
  {
   "cell_type": "markdown",
   "metadata": {
    "id": "fjLV8zaxgc4V"
   },
   "source": [
    "### 학습 결과를 정리해봅시다.\n",
    "* Model 학습을 진행하며 저장된 결과를 전달 받은 history 객체를 이용해 학습 과정을 출력해봅시다."
   ]
  },
  {
   "cell_type": "code",
   "metadata": {
    "id": "kH93caN_RL6E",
    "ExecuteTime": {
     "start_time": "2023-12-27T06:48:54.019631Z"
    }
   },
   "source": [
    "acc = history.history['accuracy']\n",
    "val_acc = history.history['val_accuracy']\n",
    "\n",
    "loss = history.history['loss']\n",
    "val_loss = history.history['val_loss']\n",
    "\n",
    "epochs_range = range(len(acc))\n",
    "\n",
    "plt.figure(figsize=(8, 8))\n",
    "plt.subplot(1, 2, 1)\n",
    "plt.plot(epochs_range, acc, label='Training Accuracy')\n",
    "plt.plot(epochs_range, val_acc, label='Validation Accuracy')\n",
    "plt.legend(loc='lower right')\n",
    "plt.title('Training and Valid Accuracy')\n",
    "\n",
    "plt.subplot(1, 2, 2)\n",
    "plt.plot(epochs_range, loss, label='Training Loss')\n",
    "plt.plot(epochs_range, val_loss, label='Validation Loss')\n",
    "plt.legend(loc='upper right')\n",
    "plt.title('Training and Valid Loss')\n",
    "plt.show()"
   ],
   "execution_count": null,
   "outputs": []
  },
  {
   "cell_type": "markdown",
   "metadata": {
    "id": "R5B3sWG8UIz3"
   },
   "source": [
    "### 모델 평가\n",
    "* Model 학습 후 저장된 weight를 다시 불러와 테스트를 진행합니다.\n",
    "    * 학습이 진행되며, 가장 낮은 val-loss를 이용해 모델을 저장했기 때문에 가장 작은 val-loss를 가지는 곳의 파라미터가 저장되어 있습니다.\n"
   ]
  },
  {
   "cell_type": "code",
   "metadata": {
    "id": "VC8Sjhk9lSMF",
    "ExecuteTime": {
     "end_time": "2023-12-27T06:48:54.026846Z",
     "start_time": "2023-12-27T06:48:54.024079Z"
    }
   },
   "source": [
    "model.load_weights(checkpoint_dir)"
   ],
   "execution_count": null,
   "outputs": []
  },
  {
   "cell_type": "markdown",
   "metadata": {
    "id": "Zb3Lm60fwWgf"
   },
   "source": [
    "* 모델 파라미터를 불러온 후 테스트 데이터셋을 이용해 평가를 진행합니다.\n",
    "* 가장 기본적인 Accuracy를 제공합니다."
   ]
  },
  {
   "cell_type": "code",
   "metadata": {
    "id": "ByXBzpzzRL6K",
    "ExecuteTime": {
     "start_time": "2023-12-27T06:48:54.024294Z"
    }
   },
   "source": [
    "results = model.evaluate(test_dataset, steps=len(test_data) // batch_size)"
   ],
   "execution_count": null,
   "outputs": []
  },
  {
   "cell_type": "code",
   "metadata": {
    "id": "8cfSwvB5RL6O",
    "ExecuteTime": {
     "end_time": "2023-12-27T06:48:54.052845Z",
     "start_time": "2023-12-27T06:48:54.027991Z"
    }
   },
   "source": [
    "# loss\n",
    "print(\"loss value: {:.3f}\".format(results[0]))\n",
    "# accuracy\n",
    "print(\"accuracy value: {:.4f}%\".format(results[1]*100))"
   ],
   "execution_count": null,
   "outputs": []
  },
  {
   "cell_type": "code",
   "metadata": {
    "id": "YJnX3YfnRL6T",
    "ExecuteTime": {
     "start_time": "2023-12-27T06:48:54.029362Z"
    }
   },
   "source": [
    "test_batch_size = 16\n",
    "batch_index = np.random.choice(len(test_data), size=test_batch_size, replace=False)\n",
    "\n",
    "batch_xs = test_data[batch_index]\n",
    "batch_ys = test_labels[batch_index]\n",
    "y_pred_ = model(batch_xs, training=False)\n",
    "\n",
    "fig = plt.figure(figsize=(16, 10))\n",
    "for i, (px, py) in enumerate(zip(batch_xs, y_pred_)):\n",
    "  p = fig.add_subplot(4, 8, i+1)\n",
    "  if np.argmax(py) == batch_ys[i]:\n",
    "    p.set_title(\"y_pred: {}\".format(np.argmax(py)), color='blue')\n",
    "  else:\n",
    "    p.set_title(\"y_pred: {}\".format(np.argmax(py)), color='red')\n",
    "  p.imshow(px.reshape(32, 32, 3))\n",
    "  p.axis('off')"
   ],
   "execution_count": null,
   "outputs": []
  },
  {
   "cell_type": "markdown",
   "metadata": {
    "id": "5q6NOnoZYIrR"
   },
   "source": [
    "### 평가 메트릭을 설정해보자\n",
    "* 인공지능 모델을 이용해 문제를 해결할 시에 해당 분야에서 고유하게 사용하던 평가 메트릭 혹은 새로운 메트릭이 사용되기도 합니다.\n",
    "* Classification에서 사용되었던 평가 지표를 사용해봅시다.\n",
    "\n"
   ]
  },
  {
   "cell_type": "markdown",
   "metadata": {
    "id": "NJE2--mMZO-7"
   },
   "source": [
    "## Measuring final score\n",
    "* 모델 평가 지표\n",
    "\n",
    "### \\begin{equation*} M = 50(P + min(\\frac{1}{S}, 1)) \\end{equation*}\n",
    "\n",
    "* P : Model-accuracy\n",
    "* S : Size of model (MB)\n",
    "\n",
    "\n",
    "### \\begin{equation*} S = \\frac{Parameters * float_{size}}{MB} \\end{equation*}\n",
    "\\begin{equation*} = \\frac{M_p * 32} {1024^2} \\end{equation*}\n",
    "\n",
    "\n",
    "\n",
    "* 해당 지표는 분류 평가를 위한 내용이며, 모델의 크기에 따른 정확도를 나타내는 지표입니다."
   ]
  },
  {
   "cell_type": "code",
   "metadata": {
    "id": "4R945JcpRL6Y",
    "ExecuteTime": {
     "start_time": "2023-12-27T06:48:54.030556Z"
    }
   },
   "source": [
    "def final_score():\n",
    "    print(\"Model params num : \" + str(model.count_params()))\n",
    "    print(\"Accuracy : \" + str(results[1]))\n",
    "\n",
    "    s = (model.count_params() * 32) / (1024 ** 2)\n",
    "    score = 50 * (results[1] + min((1/s), 1))\n",
    "\n",
    "    print(\"score : \" + str(score))"
   ],
   "execution_count": null,
   "outputs": []
  },
  {
   "cell_type": "markdown",
   "metadata": {
    "id": "LbuQllIxv2ww"
   },
   "source": [
    "### 스코어 결과\n",
    "* 위의 스코어는 분류모델에 적용되는 스코어입니다.\n",
    "* 모델의 크기 (MB) 와 정확도를 이용해 스코어를 출력합니다.\n",
    "    * 40 이상의 스코어에 도전해보세요!"
   ]
  },
  {
   "cell_type": "code",
   "metadata": {
    "id": "NWs2D_Y5RL6a",
    "ExecuteTime": {
     "start_time": "2023-12-27T06:48:54.031923Z"
    }
   },
   "source": [
    "final_score()"
   ],
   "execution_count": null,
   "outputs": []
  },
  {
   "cell_type": "markdown",
   "metadata": {
    "id": "56iBGUMV2B-y"
   },
   "source": [
    "### 추가 과제\n",
    "* 높은 스코어를 달성하신 분들께선 더 맞추기 어려운 데이터셋으로 도전해보세요.\n",
    "\n",
    "```\n",
    "(train_data, train_labels), (test_data, test_labels) = \\\n",
    "    tf.keras.datasets.cifar100.load_data()\n",
    "```\n",
    "\n",
    "* 데이터 로드 파트에서 위 코드를 고치면 더 세분화된 분류를 진행하는 데이터셋을 사용할 수 있습니다."
   ]
  },
  {
   "cell_type": "code",
   "metadata": {
    "id": "56c1gImLgAVk",
    "ExecuteTime": {
     "start_time": "2023-12-27T06:48:54.033185Z"
    }
   },
   "source": [],
   "execution_count": null,
   "outputs": []
  }
 ]
}
