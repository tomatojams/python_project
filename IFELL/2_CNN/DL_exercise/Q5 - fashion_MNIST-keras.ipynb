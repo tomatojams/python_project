{
 "nbformat": 4,
 "nbformat_minor": 0,
 "metadata": {
  "colab": {
   "provenance": []
  },
  "kernelspec": {
   "display_name": "Python 3",
   "language": "python",
   "name": "python3"
  },
  "language_info": {
   "codemirror_mode": {
    "name": "ipython",
    "version": 3
   },
   "file_extension": ".py",
   "mimetype": "text/x-python",
   "name": "python",
   "nbconvert_exporter": "python",
   "pygments_lexer": "ipython3",
   "version": "3.6.8"
  },
  "accelerator": "GPU"
 },
 "cells": [
  {
   "cell_type": "code",
   "metadata": {
    "id": "TCKHChmFfyVL",
    "ExecuteTime": {
     "end_time": "2023-12-26T03:36:29.857904Z",
     "start_time": "2023-12-26T03:36:29.807460Z"
    }
   },
   "source": [
    "import keras.layers\n",
    "import tensorflow as tf\n",
    "from tensorflow.keras import layers\n",
    "from tensorflow.keras import callbacks\n",
    "from tensorflow import keras\n",
    "from tensorflow.keras.layers import Input, Flatten, Dense\n",
    "from tensorflow.keras.models import Model\n",
    "from tensorflow.keras.optimizers import SGD, Adam\n",
    "from tensorflow.keras.callbacks import Callback\n",
    "\n",
    "from sklearn.model_selection import train_test_split\n",
    "\n",
    "import numpy as np\n",
    "import matplotlib.pyplot as plt\n",
    "\n",
    "tf.__version__"
   ],
   "execution_count": 138,
   "outputs": [
    {
     "data": {
      "text/plain": "'2.10.0'"
     },
     "execution_count": 138,
     "metadata": {},
     "output_type": "execute_result"
    }
   ]
  },
  {
   "cell_type": "markdown",
   "metadata": {
    "id": "o2GvLGzZhicw"
   },
   "source": [
    "### 데이터 로드\n",
    "* TF에서 제공하는 데이터셋을 load해 간단한 전처리 진행"
   ]
  },
  {
   "cell_type": "code",
   "metadata": {
    "id": "Vem5Yu6nkT3b",
    "ExecuteTime": {
     "end_time": "2023-12-26T03:36:30.222317Z",
     "start_time": "2023-12-26T03:36:29.861986Z"
    }
   },
   "source": [
    "# Load training and eval data from tf.keras\n",
    "(train_data, train_labels), (test_data, test_labels) = \\\n",
    "    tf.keras.datasets.fashion_mnist.load_data()"
   ],
   "execution_count": 139,
   "outputs": []
  },
  {
   "cell_type": "code",
   "metadata": {
    "id": "sWu2zE_SkVSG",
    "ExecuteTime": {
     "end_time": "2023-12-26T03:36:30.228896Z",
     "start_time": "2023-12-26T03:36:30.224447Z"
    }
   },
   "source": [
    "print(train_data.shape, train_labels.shape)"
   ],
   "execution_count": 140,
   "outputs": [
    {
     "name": "stdout",
     "output_type": "stream",
     "text": [
      "(60000, 28, 28) (60000,)\n"
     ]
    }
   ]
  },
  {
   "cell_type": "code",
   "metadata": {
    "id": "mpHEO3i3kutr",
    "ExecuteTime": {
     "end_time": "2023-12-26T03:36:30.262009Z",
     "start_time": "2023-12-26T03:36:30.234739Z"
    }
   },
   "source": [
    "train_data, valid_data, train_labels, valid_labels = \\\n",
    "    train_test_split(train_data, train_labels, test_size=0.1, shuffle=True)"
   ],
   "execution_count": 141,
   "outputs": []
  },
  {
   "cell_type": "code",
   "metadata": {
    "id": "9xlXz7RHkvvc",
    "ExecuteTime": {
     "end_time": "2023-12-26T03:36:30.274491Z",
     "start_time": "2023-12-26T03:36:30.260817Z"
    }
   },
   "source": [
    "print(train_data.shape, train_labels.shape)"
   ],
   "execution_count": 142,
   "outputs": [
    {
     "name": "stdout",
     "output_type": "stream",
     "text": [
      "(54000, 28, 28) (54000,)\n"
     ]
    }
   ]
  },
  {
   "cell_type": "code",
   "metadata": {
    "id": "h6qbYPmjkz07",
    "ExecuteTime": {
     "end_time": "2023-12-26T03:36:30.275046Z",
     "start_time": "2023-12-26T03:36:30.265914Z"
    }
   },
   "source": [
    "print(valid_data.shape, valid_labels.shape)"
   ],
   "execution_count": 143,
   "outputs": [
    {
     "name": "stdout",
     "output_type": "stream",
     "text": [
      "(6000, 28, 28) (6000,)\n"
     ]
    }
   ]
  },
  {
   "cell_type": "code",
   "outputs": [
    {
     "name": "stdout",
     "output_type": "stream",
     "text": [
      "[6 1 8 9 4 7 9 1 2 2 8 7 4 4 3 4 0 8 7 6 2 0 6 5 5 8 3 6 1 9]\n"
     ]
    }
   ],
   "source": [
    "print(valid_labels[:30])"
   ],
   "metadata": {
    "collapsed": false,
    "ExecuteTime": {
     "end_time": "2023-12-26T03:36:30.276123Z",
     "start_time": "2023-12-26T03:36:30.271495Z"
    }
   },
   "execution_count": 144
  },
  {
   "cell_type": "code",
   "metadata": {
    "id": "AOPRVh6QlEAT",
    "ExecuteTime": {
     "end_time": "2023-12-26T03:36:30.425520Z",
     "start_time": "2023-12-26T03:36:30.276572Z"
    }
   },
   "source": [
    "index = 5901\n",
    "print(\"label = {}\".format(valid_labels[index]))\n",
    "plt.imshow(valid_data[index].reshape(28, 28))\n",
    "plt.colorbar()\n",
    "#plt.gca().grid(False)\n",
    "plt.show()"
   ],
   "execution_count": 145,
   "outputs": [
    {
     "name": "stdout",
     "output_type": "stream",
     "text": [
      "label = 8\n"
     ]
    },
    {
     "data": {
      "text/plain": "<Figure size 640x480 with 2 Axes>",
      "image/png": "[encoded data removed]"
     },
     "metadata": {},
     "output_type": "display_data"
    }
   ]
  },
  {
   "cell_type": "code",
   "metadata": {
    "id": "4-eGKQNGgfCm",
    "ExecuteTime": {
     "end_time": "2023-12-26T03:36:30.734448Z",
     "start_time": "2023-12-26T03:36:30.425079Z"
    }
   },
   "source": [
    "train_data = train_data / 255.\n",
    "train_data = train_data.reshape(-1, 28*28)\n",
    "train_data = train_data.astype(np.float32)\n",
    "train_labels = train_labels.astype(np.int32)\n",
    "\n",
    "test_data = test_data / 255.\n",
    "test_data = test_data.reshape(-1, 28*28)\n",
    "test_data = test_data.astype(np.float32)\n",
    "test_labels = test_labels.astype(np.int32)\n",
    "\n",
    "valid_data = valid_data / 255.\n",
    "valid_data = valid_data.reshape(-1, 28*28)\n",
    "valid_data = valid_data.astype(np.float32)\n",
    "valid_labels = valid_labels.astype(np.int32)\n",
    "\n",
    "\n",
    "print(train_data.shape, train_labels.shape)\n",
    "print(test_data.shape, test_labels.shape)\n",
    "print(valid_data.shape, valid_labels.shape)\n"
   ],
   "execution_count": 146,
   "outputs": [
    {
     "name": "stdout",
     "output_type": "stream",
     "text": [
      "(54000, 784) (54000,)\n",
      "(10000, 784) (10000,)\n",
      "(6000, 784) (6000,)\n"
     ]
    }
   ]
  },
  {
   "cell_type": "markdown",
   "metadata": {
    "id": "YqZ7iqFohpPJ"
   },
   "source": [
    "### 학습에 사용할 tf.data.Dataset 구성\n",
    "* 학습에 잘 적용할 수 있도록 label 처리\n",
    "* 데이터셋 구성"
   ]
  },
  {
   "cell_type": "code",
   "metadata": {
    "id": "xmm6PIkGhQ9z",
    "ExecuteTime": {
     "end_time": "2023-12-26T03:36:30.740981Z",
     "start_time": "2023-12-26T03:36:30.733691Z"
    }
   },
   "source": [
    "def one_hot_label(image, label):\n",
    "  label = tf.one_hot(label, depth=10)\n",
    "  return image, label"
   ],
   "execution_count": 147,
   "outputs": []
  },
  {
   "cell_type": "code",
   "metadata": {
    "id": "_QewaIZ0hQ92",
    "ExecuteTime": {
     "end_time": "2023-12-26T03:36:30.966452Z",
     "start_time": "2023-12-26T03:36:30.747703Z"
    }
   },
   "source": [
    "batch_size = 32\n",
    "\n",
    "# for train\n",
    "train_dataset = tf.data.Dataset.from_tensor_slices((train_data,train_labels)) # tuple로 묶어서 넣어줘야 함\n",
    "train_dataset = train_dataset.shuffle(buffer_size=10000)\n",
    "train_dataset = train_dataset.map(one_hot_label) # 함수호출이 아닌 함수명만 적음\n",
    "train_dataset = train_dataset.repeat().batch(batch_size=batch_size)\n",
    "print(train_dataset)\n",
    "\n",
    "# for test\n",
    "test_dataset = tf.data.Dataset.from_tensor_slices((test_data,test_labels))\n",
    "test_dataset = test_dataset.map(one_hot_label)\n",
    "test_dataset = test_dataset.batch(batch_size=batch_size)\n",
    "print(test_dataset)\n",
    "\n",
    "# for test\n",
    "valid_dataset = tf.data.Dataset.from_tensor_slices((valid_data,valid_labels))\n",
    "valid_dataset = valid_dataset.map(one_hot_label)\n",
    "valid_dataset = valid_dataset.batch(batch_size=batch_size)\n",
    "print(valid_dataset)"
   ],
   "execution_count": 148,
   "outputs": [
    {
     "name": "stdout",
     "output_type": "stream",
     "text": [
      "<BatchDataset element_spec=(TensorSpec(shape=(None, 784), dtype=tf.float32, name=None), TensorSpec(shape=(None, 10), dtype=tf.float32, name=None))>\n",
      "<BatchDataset element_spec=(TensorSpec(shape=(None, 784), dtype=tf.float32, name=None), TensorSpec(shape=(None, 10), dtype=tf.float32, name=None))>\n",
      "<BatchDataset element_spec=(TensorSpec(shape=(None, 784), dtype=tf.float32, name=None), TensorSpec(shape=(None, 10), dtype=tf.float32, name=None))>\n"
     ]
    }
   ]
  },
  {
   "cell_type": "markdown",
   "metadata": {
    "id": "2Nuty9VRhyqh"
   },
   "source": [
    "### 모델 구성"
   ]
  },
  {
   "cell_type": "code",
   "metadata": {
    "id": "rxm7uM4Vg8Y1",
    "ExecuteTime": {
     "end_time": "2023-12-26T03:36:30.993786Z",
     "start_time": "2023-12-26T03:36:30.984549Z"
    }
   },
   "source": [
    "# Dense 64 relu\n",
    "# Dense 32 relu\n",
    "# Output Layer\n",
    "# 28 * 28\n",
    "model = tf.keras.Sequential([\n",
    "    layers.Dense(64, kernel_initializer=tf.keras.initializers.HeUniform()),\n",
    "    layers.BatchNormalization(),\n",
    "    layers.Activation('relu'),\n",
    "    # 학습시작이 잘 안될때, kernel_initializer=tf.keras.initializers.HeUniform() 추가 러닝레이트 조절 \n",
    "    # 학습시작에대한 관여. 초기값을 잘 주는게 중요\n",
    "    \n",
    "    layers.Dense(32, kernel_initializer=tf.keras.initializers.HeUniform()),\n",
    "    layers.BatchNormalization(),\n",
    "    \n",
    "    # 학습이 좀 빨라짐 적은에폭에 빨리올라감\n",
    "    layers.Activation('relu'),\n",
    "\n",
    "    layers.Dense(10, kernel_initializer=tf.keras.initializers.HeUniform()),\n",
    "    layers.BatchNormalization(),\n",
    "    layers.Activation('softmax'),\n",
    "\n",
    "]\n",
    ")"
   ],
   "execution_count": 149,
   "outputs": []
  },
  {
   "cell_type": "code",
   "metadata": {
    "id": "w5wTN0SdhgUy",
    "ExecuteTime": {
     "end_time": "2023-12-26T03:36:31.021134Z",
     "start_time": "2023-12-26T03:36:30.992130Z"
    }
   },
   "source": [
    "model.compile(optimizer=tf.keras.optimizers.Adam(1e-4),\n",
    "              loss=tf.keras.losses.CategoricalCrossentropy(from_logits=True),\n",
    "              metrics=['accuracy'])"
   ],
   "execution_count": 150,
   "outputs": []
  },
  {
   "cell_type": "code",
   "metadata": {
    "id": "aBiwV68thnJe",
    "ExecuteTime": {
     "end_time": "2023-12-26T03:36:31.496360Z",
     "start_time": "2023-12-26T03:36:31.020366Z"
    }
   },
   "source": [
    "# without training, just inference a model in eager execution:\n",
    "predictions = model(train_data[0:1], training=False)\n",
    "print(\"Predictions: \", predictions.numpy())"
   ],
   "execution_count": 151,
   "outputs": [
    {
     "name": "stdout",
     "output_type": "stream",
     "text": [
      "Predictions:  [[0.08232321 0.03321914 0.14035392 0.07189199 0.16308543 0.15014347\n",
      "  0.08217472 0.07943527 0.05385271 0.1435202 ]]\n"
     ]
    }
   ]
  },
  {
   "cell_type": "code",
   "metadata": {
    "id": "q0yMruVchi4z",
    "ExecuteTime": {
     "end_time": "2023-12-26T03:36:31.503308Z",
     "start_time": "2023-12-26T03:36:31.492001Z"
    }
   },
   "source": [
    "model.summary()"
   ],
   "execution_count": 152,
   "outputs": [
    {
     "name": "stdout",
     "output_type": "stream",
     "text": [
      "Model: \"sequential_9\"\n",
      "_________________________________________________________________\n",
      " Layer (type)                Output Shape              Param #   \n",
      "=================================================================\n",
      " dense_37 (Dense)            (1, 64)                   50240     \n",
      "                                                                 \n",
      " batch_normalization (BatchN  (1, 64)                  256       \n",
      " ormalization)                                                   \n",
      "                                                                 \n",
      " activation (Activation)     (1, 64)                   0         \n",
      "                                                                 \n",
      " dense_38 (Dense)            (1, 32)                   2080      \n",
      "                                                                 \n",
      " batch_normalization_1 (Batc  (1, 32)                  128       \n",
      " hNormalization)                                                 \n",
      "                                                                 \n",
      " activation_1 (Activation)   (1, 32)                   0         \n",
      "                                                                 \n",
      " dense_39 (Dense)            (1, 10)                   330       \n",
      "                                                                 \n",
      " batch_normalization_2 (Batc  (1, 10)                  40        \n",
      " hNormalization)                                                 \n",
      "                                                                 \n",
      " activation_2 (Activation)   (1, 10)                   0         \n",
      "                                                                 \n",
      "=================================================================\n",
      "Total params: 53,074\n",
      "Trainable params: 52,862\n",
      "Non-trainable params: 212\n",
      "_________________________________________________________________\n"
     ]
    }
   ]
  },
  {
   "cell_type": "markdown",
   "metadata": {
    "id": "8DOW-3_uh0rF"
   },
   "source": [
    "### 모델 학습 구성"
   ]
  },
  {
   "cell_type": "code",
   "source": [
    "check_point_cb = callbacks.ModelCheckpoint('fashion_mnist_model.h5',\n",
    "                                           save_best_only=True,\n",
    "                                           verbose=1)\n",
    "early_stopping_cb = callbacks.EarlyStopping(patience=10,\n",
    "                                            monitor='val_loss',\n",
    "                                            restore_best_weights=True,\n",
    "                                            verbose=1)"
   ],
   "metadata": {
    "id": "Mp_2_AHW0c0t",
    "ExecuteTime": {
     "end_time": "2023-12-26T03:36:31.512461Z",
     "start_time": "2023-12-26T03:36:31.506586Z"
    }
   },
   "execution_count": 153,
   "outputs": []
  },
  {
   "cell_type": "code",
   "metadata": {
    "id": "HLqC2Qx6hjFc",
    "ExecuteTime": {
     "end_time": "2023-12-26T04:12:08.362465Z",
     "start_time": "2023-12-26T03:36:31.507929Z"
    }
   },
   "source": [
    "# max_epochs = 100\n",
    "# # using `tf.data.Dataset`\n",
    "# history = model.fit(train_dataset, epochs=max_epochs,\n",
    "#                     steps_per_epoch=len(train_data) // batch_size,\n",
    "#                     validation_data=valid_dataset,\n",
    "#                     validation_steps=len(valid_data) // batch_size,\n",
    "#                     callbacks=[check_point_cb, early_stopping_cb]\n",
    "#                    )\n",
    "max_epochs = 100\n",
    "# using `tf.data.Dataset`\n",
    "history = model.fit(train_dataset,\n",
    "                    epochs=max_epochs,\n",
    "                    steps_per_epoch=len(train_data) // batch_size,\n",
    "                    validation_data=valid_dataset,\n",
    "                    validation_steps=len(valid_data) // batch_size,\n",
    "                    callbacks=[check_point_cb, early_stopping_cb]\n",
    "                    )"
   ],
   "execution_count": 154,
   "outputs": [
    {
     "name": "stdout",
     "output_type": "stream",
     "text": [
      "Epoch 1/100\n"
     ]
    },
    {
     "name": "stderr",
     "output_type": "stream",
     "text": [
      "2023-12-26 12:36:31.894198: I tensorflow/core/grappler/optimizers/custom_graph_optimizer_registry.cc:114] Plugin optimizer for device_type GPU is enabled.\n"
     ]
    },
    {
     "name": "stdout",
     "output_type": "stream",
     "text": [
      "1686/1687 [============================>.] - ETA: 0s - loss: 1.0381 - accuracy: 0.7222"
     ]
    },
    {
     "name": "stderr",
     "output_type": "stream",
     "text": [
      "2023-12-26 12:37:03.964306: I tensorflow/core/grappler/optimizers/custom_graph_optimizer_registry.cc:114] Plugin optimizer for device_type GPU is enabled.\n"
     ]
    },
    {
     "name": "stdout",
     "output_type": "stream",
     "text": [
      "\n",
      "Epoch 1: val_loss improved from inf to 0.72676, saving model to fashion_mnist_model.h5\n",
      "1687/1687 [==============================] - 34s 20ms/step - loss: 1.0380 - accuracy: 0.7222 - val_loss: 0.7268 - val_accuracy: 0.8100\n",
      "Epoch 2/100\n",
      "1686/1687 [============================>.] - ETA: 0s - loss: 0.7468 - accuracy: 0.8085\n",
      "Epoch 2: val_loss improved from 0.72676 to 0.59554, saving model to fashion_mnist_model.h5\n",
      "1687/1687 [==============================] - 33s 19ms/step - loss: 0.7468 - accuracy: 0.8085 - val_loss: 0.5955 - val_accuracy: 0.8362\n",
      "Epoch 3/100\n",
      "1686/1687 [============================>.] - ETA: 0s - loss: 0.6538 - accuracy: 0.8266\n",
      "Epoch 3: val_loss improved from 0.59554 to 0.54316, saving model to fashion_mnist_model.h5\n",
      "1687/1687 [==============================] - 33s 20ms/step - loss: 0.6538 - accuracy: 0.8266 - val_loss: 0.5432 - val_accuracy: 0.8488\n",
      "Epoch 4/100\n",
      "1685/1687 [============================>.] - ETA: 0s - loss: 0.6013 - accuracy: 0.8352\n",
      "Epoch 4: val_loss improved from 0.54316 to 0.50248, saving model to fashion_mnist_model.h5\n",
      "1687/1687 [==============================] - 34s 20ms/step - loss: 0.6013 - accuracy: 0.8352 - val_loss: 0.5025 - val_accuracy: 0.8529\n",
      "Epoch 5/100\n",
      "1685/1687 [============================>.] - ETA: 0s - loss: 0.5555 - accuracy: 0.8445\n",
      "Epoch 5: val_loss improved from 0.50248 to 0.45737, saving model to fashion_mnist_model.h5\n",
      "1687/1687 [==============================] - 33s 20ms/step - loss: 0.5557 - accuracy: 0.8445 - val_loss: 0.4574 - val_accuracy: 0.8593\n",
      "Epoch 6/100\n",
      "1686/1687 [============================>.] - ETA: 0s - loss: 0.5263 - accuracy: 0.8491\n",
      "Epoch 6: val_loss improved from 0.45737 to 0.44920, saving model to fashion_mnist_model.h5\n",
      "1687/1687 [==============================] - 33s 20ms/step - loss: 0.5263 - accuracy: 0.8490 - val_loss: 0.4492 - val_accuracy: 0.8636\n",
      "Epoch 7/100\n",
      "1687/1687 [==============================] - ETA: 0s - loss: 0.4964 - accuracy: 0.8553\n",
      "Epoch 7: val_loss improved from 0.44920 to 0.42891, saving model to fashion_mnist_model.h5\n",
      "1687/1687 [==============================] - 33s 20ms/step - loss: 0.4964 - accuracy: 0.8553 - val_loss: 0.4289 - val_accuracy: 0.8658\n",
      "Epoch 8/100\n",
      "1687/1687 [==============================] - ETA: 0s - loss: 0.4758 - accuracy: 0.8580\n",
      "Epoch 8: val_loss improved from 0.42891 to 0.41635, saving model to fashion_mnist_model.h5\n",
      "1687/1687 [==============================] - 35s 21ms/step - loss: 0.4758 - accuracy: 0.8580 - val_loss: 0.4164 - val_accuracy: 0.8695\n",
      "Epoch 9/100\n",
      "1686/1687 [============================>.] - ETA: 0s - loss: 0.4569 - accuracy: 0.8629\n",
      "Epoch 9: val_loss improved from 0.41635 to 0.40899, saving model to fashion_mnist_model.h5\n",
      "1687/1687 [==============================] - 35s 20ms/step - loss: 0.4569 - accuracy: 0.8629 - val_loss: 0.4090 - val_accuracy: 0.8718\n",
      "Epoch 10/100\n",
      "1687/1687 [==============================] - ETA: 0s - loss: 0.4388 - accuracy: 0.8662\n",
      "Epoch 10: val_loss improved from 0.40899 to 0.39625, saving model to fashion_mnist_model.h5\n",
      "1687/1687 [==============================] - 33s 20ms/step - loss: 0.4388 - accuracy: 0.8662 - val_loss: 0.3962 - val_accuracy: 0.8755\n",
      "Epoch 11/100\n",
      "1687/1687 [==============================] - ETA: 0s - loss: 0.4242 - accuracy: 0.8700\n",
      "Epoch 11: val_loss improved from 0.39625 to 0.39011, saving model to fashion_mnist_model.h5\n",
      "1687/1687 [==============================] - 37s 22ms/step - loss: 0.4242 - accuracy: 0.8700 - val_loss: 0.3901 - val_accuracy: 0.8738\n",
      "Epoch 12/100\n",
      "1687/1687 [==============================] - ETA: 0s - loss: 0.4077 - accuracy: 0.8734\n",
      "Epoch 12: val_loss did not improve from 0.39011\n",
      "1687/1687 [==============================] - 33s 20ms/step - loss: 0.4077 - accuracy: 0.8734 - val_loss: 0.4009 - val_accuracy: 0.8668\n",
      "Epoch 13/100\n",
      "1687/1687 [==============================] - ETA: 0s - loss: 0.3988 - accuracy: 0.8761\n",
      "Epoch 13: val_loss improved from 0.39011 to 0.38572, saving model to fashion_mnist_model.h5\n",
      "1687/1687 [==============================] - 33s 20ms/step - loss: 0.3988 - accuracy: 0.8761 - val_loss: 0.3857 - val_accuracy: 0.8762\n",
      "Epoch 14/100\n",
      "1687/1687 [==============================] - ETA: 0s - loss: 0.3894 - accuracy: 0.8767\n",
      "Epoch 14: val_loss improved from 0.38572 to 0.38289, saving model to fashion_mnist_model.h5\n",
      "1687/1687 [==============================] - 33s 20ms/step - loss: 0.3894 - accuracy: 0.8767 - val_loss: 0.3829 - val_accuracy: 0.8798\n",
      "Epoch 15/100\n",
      "1687/1687 [==============================] - ETA: 0s - loss: 0.3786 - accuracy: 0.8804\n",
      "Epoch 15: val_loss improved from 0.38289 to 0.37564, saving model to fashion_mnist_model.h5\n",
      "1687/1687 [==============================] - 33s 20ms/step - loss: 0.3786 - accuracy: 0.8804 - val_loss: 0.3756 - val_accuracy: 0.8783\n",
      "Epoch 16/100\n",
      "1685/1687 [============================>.] - ETA: 0s - loss: 0.3724 - accuracy: 0.8808\n",
      "Epoch 16: val_loss improved from 0.37564 to 0.37172, saving model to fashion_mnist_model.h5\n",
      "1687/1687 [==============================] - 34s 20ms/step - loss: 0.3723 - accuracy: 0.8809 - val_loss: 0.3717 - val_accuracy: 0.8814\n",
      "Epoch 17/100\n",
      "1687/1687 [==============================] - ETA: 0s - loss: 0.3633 - accuracy: 0.8845\n",
      "Epoch 17: val_loss improved from 0.37172 to 0.36891, saving model to fashion_mnist_model.h5\n",
      "1687/1687 [==============================] - 33s 20ms/step - loss: 0.3633 - accuracy: 0.8845 - val_loss: 0.3689 - val_accuracy: 0.8787\n",
      "Epoch 18/100\n",
      "1687/1687 [==============================] - ETA: 0s - loss: 0.3561 - accuracy: 0.8845\n",
      "Epoch 18: val_loss improved from 0.36891 to 0.36211, saving model to fashion_mnist_model.h5\n",
      "1687/1687 [==============================] - 34s 20ms/step - loss: 0.3561 - accuracy: 0.8845 - val_loss: 0.3621 - val_accuracy: 0.8837\n",
      "Epoch 19/100\n",
      "1685/1687 [============================>.] - ETA: 0s - loss: 0.3489 - accuracy: 0.8876\n",
      "Epoch 19: val_loss did not improve from 0.36211\n",
      "1687/1687 [==============================] - 33s 20ms/step - loss: 0.3490 - accuracy: 0.8875 - val_loss: 0.3659 - val_accuracy: 0.8803\n",
      "Epoch 20/100\n",
      "1686/1687 [============================>.] - ETA: 0s - loss: 0.3437 - accuracy: 0.8876\n",
      "Epoch 20: val_loss improved from 0.36211 to 0.35716, saving model to fashion_mnist_model.h5\n",
      "1687/1687 [==============================] - 32s 19ms/step - loss: 0.3436 - accuracy: 0.8876 - val_loss: 0.3572 - val_accuracy: 0.8824\n",
      "Epoch 21/100\n",
      "1686/1687 [============================>.] - ETA: 0s - loss: 0.3346 - accuracy: 0.8914\n",
      "Epoch 21: val_loss did not improve from 0.35716\n",
      "1687/1687 [==============================] - 32s 19ms/step - loss: 0.3346 - accuracy: 0.8914 - val_loss: 0.3614 - val_accuracy: 0.8817\n",
      "Epoch 22/100\n",
      "1686/1687 [============================>.] - ETA: 0s - loss: 0.3307 - accuracy: 0.8921\n",
      "Epoch 22: val_loss improved from 0.35716 to 0.35373, saving model to fashion_mnist_model.h5\n",
      "1687/1687 [==============================] - 32s 19ms/step - loss: 0.3307 - accuracy: 0.8921 - val_loss: 0.3537 - val_accuracy: 0.8839\n",
      "Epoch 23/100\n",
      "1687/1687 [==============================] - ETA: 0s - loss: 0.3267 - accuracy: 0.8922\n",
      "Epoch 23: val_loss improved from 0.35373 to 0.35261, saving model to fashion_mnist_model.h5\n",
      "1687/1687 [==============================] - 32s 19ms/step - loss: 0.3267 - accuracy: 0.8922 - val_loss: 0.3526 - val_accuracy: 0.8850\n",
      "Epoch 24/100\n",
      "1686/1687 [============================>.] - ETA: 0s - loss: 0.3199 - accuracy: 0.8964\n",
      "Epoch 24: val_loss improved from 0.35261 to 0.35256, saving model to fashion_mnist_model.h5\n",
      "1687/1687 [==============================] - 32s 19ms/step - loss: 0.3200 - accuracy: 0.8963 - val_loss: 0.3526 - val_accuracy: 0.8850\n",
      "Epoch 25/100\n",
      "1687/1687 [==============================] - ETA: 0s - loss: 0.3143 - accuracy: 0.8981\n",
      "Epoch 25: val_loss improved from 0.35256 to 0.35066, saving model to fashion_mnist_model.h5\n",
      "1687/1687 [==============================] - 32s 19ms/step - loss: 0.3143 - accuracy: 0.8981 - val_loss: 0.3507 - val_accuracy: 0.8864\n",
      "Epoch 26/100\n",
      "1686/1687 [============================>.] - ETA: 0s - loss: 0.3076 - accuracy: 0.8990\n",
      "Epoch 26: val_loss did not improve from 0.35066\n",
      "1687/1687 [==============================] - 32s 19ms/step - loss: 0.3076 - accuracy: 0.8990 - val_loss: 0.3533 - val_accuracy: 0.8835\n",
      "Epoch 27/100\n",
      "1686/1687 [============================>.] - ETA: 0s - loss: 0.3050 - accuracy: 0.9002\n",
      "Epoch 27: val_loss improved from 0.35066 to 0.34954, saving model to fashion_mnist_model.h5\n",
      "1687/1687 [==============================] - 32s 19ms/step - loss: 0.3049 - accuracy: 0.9002 - val_loss: 0.3495 - val_accuracy: 0.8837\n",
      "Epoch 28/100\n",
      "1686/1687 [============================>.] - ETA: 0s - loss: 0.3004 - accuracy: 0.9020\n",
      "Epoch 28: val_loss did not improve from 0.34954\n",
      "1687/1687 [==============================] - 32s 19ms/step - loss: 0.3003 - accuracy: 0.9021 - val_loss: 0.3548 - val_accuracy: 0.8874\n",
      "Epoch 29/100\n",
      "1687/1687 [==============================] - ETA: 0s - loss: 0.2961 - accuracy: 0.9019\n",
      "Epoch 29: val_loss improved from 0.34954 to 0.34159, saving model to fashion_mnist_model.h5\n",
      "1687/1687 [==============================] - 32s 19ms/step - loss: 0.2961 - accuracy: 0.9019 - val_loss: 0.3416 - val_accuracy: 0.8890\n",
      "Epoch 30/100\n",
      "1687/1687 [==============================] - ETA: 0s - loss: 0.2924 - accuracy: 0.9027\n",
      "Epoch 30: val_loss did not improve from 0.34159\n",
      "1687/1687 [==============================] - 32s 19ms/step - loss: 0.2924 - accuracy: 0.9027 - val_loss: 0.3748 - val_accuracy: 0.8745\n",
      "Epoch 31/100\n",
      "1687/1687 [==============================] - ETA: 0s - loss: 0.2897 - accuracy: 0.9049\n",
      "Epoch 31: val_loss did not improve from 0.34159\n",
      "1687/1687 [==============================] - 32s 19ms/step - loss: 0.2897 - accuracy: 0.9049 - val_loss: 0.3587 - val_accuracy: 0.8842\n",
      "Epoch 32/100\n",
      "1687/1687 [==============================] - ETA: 0s - loss: 0.2858 - accuracy: 0.9058\n",
      "Epoch 32: val_loss did not improve from 0.34159\n",
      "1687/1687 [==============================] - 32s 19ms/step - loss: 0.2858 - accuracy: 0.9058 - val_loss: 0.3560 - val_accuracy: 0.8835\n",
      "Epoch 33/100\n",
      "1687/1687 [==============================] - ETA: 0s - loss: 0.2829 - accuracy: 0.9083\n",
      "Epoch 33: val_loss did not improve from 0.34159\n",
      "1687/1687 [==============================] - 32s 19ms/step - loss: 0.2829 - accuracy: 0.9083 - val_loss: 0.3510 - val_accuracy: 0.8852\n",
      "Epoch 34/100\n",
      "1687/1687 [==============================] - ETA: 0s - loss: 0.2800 - accuracy: 0.9066\n",
      "Epoch 34: val_loss did not improve from 0.34159\n",
      "1687/1687 [==============================] - 32s 19ms/step - loss: 0.2800 - accuracy: 0.9066 - val_loss: 0.3424 - val_accuracy: 0.8894\n",
      "Epoch 35/100\n",
      "1687/1687 [==============================] - ETA: 0s - loss: 0.2761 - accuracy: 0.9086\n",
      "Epoch 35: val_loss did not improve from 0.34159\n",
      "1687/1687 [==============================] - 32s 19ms/step - loss: 0.2761 - accuracy: 0.9086 - val_loss: 0.3473 - val_accuracy: 0.8864\n",
      "Epoch 36/100\n",
      "1687/1687 [==============================] - ETA: 0s - loss: 0.2730 - accuracy: 0.9094\n",
      "Epoch 36: val_loss did not improve from 0.34159\n",
      "1687/1687 [==============================] - 32s 19ms/step - loss: 0.2730 - accuracy: 0.9094 - val_loss: 0.3738 - val_accuracy: 0.8820\n",
      "Epoch 37/100\n",
      "1687/1687 [==============================] - ETA: 0s - loss: 0.2679 - accuracy: 0.9107\n",
      "Epoch 37: val_loss did not improve from 0.34159\n",
      "1687/1687 [==============================] - 32s 19ms/step - loss: 0.2679 - accuracy: 0.9107 - val_loss: 0.3610 - val_accuracy: 0.8832\n",
      "Epoch 38/100\n",
      "1685/1687 [============================>.] - ETA: 0s - loss: 0.2625 - accuracy: 0.9129\n",
      "Epoch 38: val_loss did not improve from 0.34159\n",
      "1687/1687 [==============================] - 33s 20ms/step - loss: 0.2625 - accuracy: 0.9129 - val_loss: 0.3495 - val_accuracy: 0.8880\n",
      "Epoch 39/100\n",
      "1687/1687 [==============================] - ETA: 0s - loss: 0.2639 - accuracy: 0.9121\n",
      "Epoch 39: val_loss improved from 0.34159 to 0.33785, saving model to fashion_mnist_model.h5\n",
      "1687/1687 [==============================] - 469s 278ms/step - loss: 0.2639 - accuracy: 0.9121 - val_loss: 0.3378 - val_accuracy: 0.8892\n",
      "Epoch 40/100\n",
      "1687/1687 [==============================] - ETA: 0s - loss: 0.2615 - accuracy: 0.9135\n",
      "Epoch 40: val_loss did not improve from 0.33785\n",
      "1687/1687 [==============================] - 32s 19ms/step - loss: 0.2615 - accuracy: 0.9135 - val_loss: 0.3579 - val_accuracy: 0.8854\n",
      "Epoch 41/100\n",
      "1686/1687 [============================>.] - ETA: 0s - loss: 0.2548 - accuracy: 0.9153\n",
      "Epoch 41: val_loss did not improve from 0.33785\n",
      "1687/1687 [==============================] - 112s 67ms/step - loss: 0.2548 - accuracy: 0.9152 - val_loss: 0.3634 - val_accuracy: 0.8808\n",
      "Epoch 42/100\n",
      "1685/1687 [============================>.] - ETA: 0s - loss: 0.2548 - accuracy: 0.9138\n",
      "Epoch 42: val_loss did not improve from 0.33785\n",
      "1687/1687 [==============================] - 33s 20ms/step - loss: 0.2548 - accuracy: 0.9138 - val_loss: 0.3484 - val_accuracy: 0.8857\n",
      "Epoch 43/100\n",
      "1687/1687 [==============================] - ETA: 0s - loss: 0.2499 - accuracy: 0.9162\n",
      "Epoch 43: val_loss did not improve from 0.33785\n",
      "1687/1687 [==============================] - 34s 20ms/step - loss: 0.2499 - accuracy: 0.9162 - val_loss: 0.3395 - val_accuracy: 0.8889\n",
      "Epoch 44/100\n",
      "1687/1687 [==============================] - ETA: 0s - loss: 0.2500 - accuracy: 0.9161\n",
      "Epoch 44: val_loss did not improve from 0.33785\n",
      "1687/1687 [==============================] - 37s 22ms/step - loss: 0.2500 - accuracy: 0.9161 - val_loss: 0.3431 - val_accuracy: 0.8880\n",
      "Epoch 45/100\n",
      "1686/1687 [============================>.] - ETA: 0s - loss: 0.2468 - accuracy: 0.9162\n",
      "Epoch 45: val_loss did not improve from 0.33785\n",
      "1687/1687 [==============================] - 34s 20ms/step - loss: 0.2469 - accuracy: 0.9162 - val_loss: 0.3468 - val_accuracy: 0.8875\n",
      "Epoch 46/100\n",
      "1686/1687 [============================>.] - ETA: 0s - loss: 0.2453 - accuracy: 0.9171\n",
      "Epoch 46: val_loss did not improve from 0.33785\n",
      "1687/1687 [==============================] - 34s 20ms/step - loss: 0.2452 - accuracy: 0.9171 - val_loss: 0.3453 - val_accuracy: 0.8875\n",
      "Epoch 47/100\n",
      "1686/1687 [============================>.] - ETA: 0s - loss: 0.2409 - accuracy: 0.9182\n",
      "Epoch 47: val_loss did not improve from 0.33785\n",
      "1687/1687 [==============================] - 32s 19ms/step - loss: 0.2408 - accuracy: 0.9183 - val_loss: 0.3474 - val_accuracy: 0.8877\n",
      "Epoch 48/100\n",
      "1687/1687 [==============================] - ETA: 0s - loss: 0.2379 - accuracy: 0.9199\n",
      "Epoch 48: val_loss did not improve from 0.33785\n",
      "1687/1687 [==============================] - 34s 20ms/step - loss: 0.2379 - accuracy: 0.9199 - val_loss: 0.3407 - val_accuracy: 0.8897\n",
      "Epoch 49/100\n",
      "1686/1687 [============================>.] - ETA: 0s - loss: 0.2367 - accuracy: 0.9212\n",
      "Epoch 49: val_loss did not improve from 0.33785\n",
      "Restoring model weights from the end of the best epoch: 39.\n",
      "1687/1687 [==============================] - 34s 20ms/step - loss: 0.2367 - accuracy: 0.9212 - val_loss: 0.3548 - val_accuracy: 0.8857\n",
      "Epoch 49: early stopping\n"
     ]
    }
   ]
  },
  {
   "cell_type": "code",
   "metadata": {
    "id": "P5ZcVB42hqDE",
    "ExecuteTime": {
     "end_time": "2023-12-26T04:12:08.567080Z",
     "start_time": "2023-12-26T04:12:08.360464Z"
    }
   },
   "source": [
    "# 코드 수정\n",
    "acc = history.history['accuracy']\n",
    "val_acc = history.history['val_accuracy']\n",
    "\n",
    "loss = history.history['loss']\n",
    "val_loss = history.history['val_loss']\n",
    "\n",
    "epochs_range = range(len(acc))\n",
    "\n",
    "plt.figure(figsize=(8, 8))\n",
    "plt.subplot(1, 2, 1)\n",
    "plt.plot(epochs_range, acc, label='Training Accuracy')\n",
    "plt.plot(epochs_range, val_acc, label='Validation Accuracy')\n",
    "plt.legend(loc='lower right')\n",
    "plt.title('Training and Valid Accuracy')\n",
    "\n",
    "plt.subplot(1, 2, 2)\n",
    "plt.plot(epochs_range, loss, label='Training Loss')\n",
    "plt.plot(epochs_range, val_loss, label='Validation Loss')\n",
    "plt.legend(loc='upper right')\n",
    "plt.title('Training and Valid Loss')\n",
    "plt.show()"
   ],
   "execution_count": 155,
   "outputs": [
    {
     "data": {
      "text/plain": "<Figure size 800x800 with 2 Axes>",
      "image/png": "[encoded data removed]"
     },
     "metadata": {},
     "output_type": "display_data"
    }
   ]
  },
  {
   "cell_type": "code",
   "metadata": {
    "id": "MIfLiTlehtAC",
    "ExecuteTime": {
     "end_time": "2023-12-26T04:12:12.142944Z",
     "start_time": "2023-12-26T04:12:08.566963Z"
    }
   },
   "source": [
    "results = model.evaluate(test_dataset)"
   ],
   "execution_count": 156,
   "outputs": [
    {
     "name": "stdout",
     "output_type": "stream",
     "text": [
      "313/313 [==============================] - 4s 11ms/step - loss: 0.3481 - accuracy: 0.8831\n"
     ]
    }
   ]
  }
 ]
}
