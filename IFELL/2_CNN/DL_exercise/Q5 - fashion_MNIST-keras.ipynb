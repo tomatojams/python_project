{
 "nbformat": 4,
 "nbformat_minor": 0,
 "metadata": {
  "colab": {
   "provenance": []
  },
  "kernelspec": {
   "display_name": "Python 3",
   "language": "python",
   "name": "python3"
  },
  "language_info": {
   "codemirror_mode": {
    "name": "ipython",
    "version": 3
   },
   "file_extension": ".py",
   "mimetype": "text/x-python",
   "name": "python",
   "nbconvert_exporter": "python",
   "pygments_lexer": "ipython3",
   "version": "3.6.8"
  },
  "accelerator": "GPU"
 },
 "cells": [
  {
   "cell_type": "code",
   "metadata": {
    "id": "TCKHChmFfyVL",
    "ExecuteTime": {
     "end_time": "2023-12-27T02:40:09.409Z",
     "start_time": "2023-12-27T02:40:05.571590Z"
    }
   },
   "source": [
    "import keras.layers\n",
    "import tensorflow as tf\n",
    "from tensorflow.keras import layers\n",
    "from tensorflow.keras import callbacks\n",
    "\n",
    "from sklearn.model_selection import train_test_split\n",
    "\n",
    "import numpy as np\n",
    "import matplotlib.pyplot as plt\n",
    "\n",
    "tf.__version__"
   ],
   "execution_count": 2,
   "outputs": [
    {
     "data": {
      "text/plain": "'2.10.0'"
     },
     "execution_count": 2,
     "metadata": {},
     "output_type": "execute_result"
    }
   ]
  },
  {
   "cell_type": "markdown",
   "metadata": {
    "id": "o2GvLGzZhicw"
   },
   "source": [
    "### 데이터 로드\n",
    "* TF에서 제공하는 데이터셋을 load해 간단한 전처리 진행"
   ]
  },
  {
   "cell_type": "code",
   "metadata": {
    "id": "Vem5Yu6nkT3b",
    "ExecuteTime": {
     "end_time": "2023-12-27T02:40:09.724770Z",
     "start_time": "2023-12-27T02:40:09.409695Z"
    }
   },
   "source": [
    "# Load training and eval data from tf.keras\n",
    "(train_data, train_labels), (test_data, test_labels) = \\\n",
    "    tf.keras.datasets.fashion_mnist.load_data()"
   ],
   "execution_count": 3,
   "outputs": []
  },
  {
   "cell_type": "code",
   "metadata": {
    "id": "sWu2zE_SkVSG",
    "ExecuteTime": {
     "end_time": "2023-12-27T02:40:09.739011Z",
     "start_time": "2023-12-27T02:40:09.725223Z"
    }
   },
   "source": [
    "print(train_data.shape, train_labels.shape)"
   ],
   "execution_count": 4,
   "outputs": [
    {
     "name": "stdout",
     "output_type": "stream",
     "text": [
      "(60000, 28, 28) (60000,)\n"
     ]
    }
   ]
  },
  {
   "cell_type": "code",
   "metadata": {
    "id": "mpHEO3i3kutr",
    "ExecuteTime": {
     "end_time": "2023-12-27T02:40:09.770441Z",
     "start_time": "2023-12-27T02:40:09.735661Z"
    }
   },
   "source": [
    "train_data, valid_data, train_labels, valid_labels = \\\n",
    "    train_test_split(train_data, train_labels, test_size=0.1, shuffle=True)"
   ],
   "execution_count": 5,
   "outputs": []
  },
  {
   "cell_type": "code",
   "metadata": {
    "id": "9xlXz7RHkvvc",
    "ExecuteTime": {
     "end_time": "2023-12-27T02:40:10.194811Z",
     "start_time": "2023-12-27T02:40:10.188015Z"
    }
   },
   "source": [
    "print(train_data.shape, train_labels.shape)"
   ],
   "execution_count": 6,
   "outputs": [
    {
     "name": "stdout",
     "output_type": "stream",
     "text": [
      "(54000, 28, 28) (54000,)\n"
     ]
    }
   ]
  },
  {
   "cell_type": "code",
   "metadata": {
    "id": "h6qbYPmjkz07",
    "ExecuteTime": {
     "end_time": "2023-12-27T02:40:12.298996Z",
     "start_time": "2023-12-27T02:40:12.289792Z"
    }
   },
   "source": [
    "print(valid_data.shape, valid_labels.shape)"
   ],
   "execution_count": 7,
   "outputs": [
    {
     "name": "stdout",
     "output_type": "stream",
     "text": [
      "(6000, 28, 28) (6000,)\n"
     ]
    }
   ]
  },
  {
   "cell_type": "code",
   "outputs": [
    {
     "name": "stdout",
     "output_type": "stream",
     "text": [
      "[1 9 1 6 2 2 0 6 5 4 8 5 5 9 0 1 5 4 3 9 6 5 8 2 3 9 0 6 2 5]\n"
     ]
    }
   ],
   "source": [
    "print(valid_labels[:30])"
   ],
   "metadata": {
    "collapsed": false,
    "ExecuteTime": {
     "end_time": "2023-12-27T02:40:12.892493Z",
     "start_time": "2023-12-27T02:40:12.867344Z"
    }
   },
   "execution_count": 8
  },
  {
   "cell_type": "code",
   "metadata": {
    "id": "AOPRVh6QlEAT",
    "ExecuteTime": {
     "end_time": "2023-12-27T02:40:13.966322Z",
     "start_time": "2023-12-27T02:40:13.584876Z"
    }
   },
   "source": [
    "index = 5901\n",
    "print(\"label = {}\".format(valid_labels[index]))\n",
    "plt.imshow(valid_data[index].reshape(28, 28))\n",
    "plt.colorbar()\n",
    "#plt.gca().grid(False)\n",
    "plt.show()"
   ],
   "execution_count": 9,
   "outputs": [
    {
     "name": "stdout",
     "output_type": "stream",
     "text": [
      "label = 1\n"
     ]
    },
    {
     "data": {
      "text/plain": "<Figure size 640x480 with 2 Axes>",
      "image/png": "[encoded data removed]"
     },
     "metadata": {},
     "output_type": "display_data"
    }
   ]
  },
  {
   "cell_type": "code",
   "metadata": {
    "id": "4-eGKQNGgfCm",
    "ExecuteTime": {
     "end_time": "2023-12-27T02:40:15.506890Z",
     "start_time": "2023-12-27T02:40:14.915716Z"
    }
   },
   "source": [
    "train_data = train_data / 255.\n",
    "train_data = train_data.reshape(-1, 28*28)\n",
    "train_data = train_data.astype(np.float32)\n",
    "train_labels = train_labels.astype(np.int32)\n",
    "\n",
    "test_data = test_data / 255.\n",
    "test_data = test_data.reshape(-1, 28*28)\n",
    "test_data = test_data.astype(np.float32)\n",
    "test_labels = test_labels.astype(np.int32)\n",
    "\n",
    "valid_data = valid_data / 255.\n",
    "valid_data = valid_data.reshape(-1, 28*28)\n",
    "valid_data = valid_data.astype(np.float32)\n",
    "valid_labels = valid_labels.astype(np.int32)\n",
    "\n",
    "\n",
    "print(train_data.shape, train_labels.shape)\n",
    "print(test_data.shape, test_labels.shape)\n",
    "print(valid_data.shape, valid_labels.shape)\n"
   ],
   "execution_count": 10,
   "outputs": [
    {
     "name": "stdout",
     "output_type": "stream",
     "text": [
      "(54000, 784) (54000,)\n",
      "(10000, 784) (10000,)\n",
      "(6000, 784) (6000,)\n"
     ]
    }
   ]
  },
  {
   "cell_type": "markdown",
   "metadata": {
    "id": "YqZ7iqFohpPJ"
   },
   "source": [
    "### 학습에 사용할 tf.data.Dataset 구성\n",
    "* 학습에 잘 적용할 수 있도록 label 처리\n",
    "* 데이터셋 구성"
   ]
  },
  {
   "cell_type": "code",
   "metadata": {
    "id": "xmm6PIkGhQ9z",
    "ExecuteTime": {
     "end_time": "2023-12-27T02:40:17.600723Z",
     "start_time": "2023-12-27T02:40:17.593493Z"
    }
   },
   "source": [
    "def one_hot_label(image, label):\n",
    "  label = tf.one_hot(label, depth=10)\n",
    "  return image, label"
   ],
   "execution_count": 11,
   "outputs": []
  },
  {
   "cell_type": "code",
   "metadata": {
    "id": "_QewaIZ0hQ92",
    "ExecuteTime": {
     "end_time": "2023-12-27T02:40:19.705828Z",
     "start_time": "2023-12-27T02:40:19.514133Z"
    }
   },
   "source": [
    "batch_size = 32\n",
    "\n",
    "# for train\n",
    "train_dataset = tf.data.Dataset.from_tensor_slices((train_data,train_labels)) # tuple로 묶어서 넣어줘야 함\n",
    "train_dataset = train_dataset.shuffle(buffer_size=10000)\n",
    "train_dataset = train_dataset.map(one_hot_label) # 함수호출이 아닌 함수명만 적음\n",
    "train_dataset = train_dataset.repeat().batch(batch_size=batch_size)\n",
    "print(train_dataset)\n",
    "\n",
    "# for test\n",
    "test_dataset = tf.data.Dataset.from_tensor_slices((test_data,test_labels))\n",
    "test_dataset = test_dataset.map(one_hot_label)\n",
    "test_dataset = test_dataset.batch(batch_size=batch_size)\n",
    "print(test_dataset)\n",
    "\n",
    "# for test\n",
    "valid_dataset = tf.data.Dataset.from_tensor_slices((valid_data,valid_labels))\n",
    "valid_dataset = valid_dataset.map(one_hot_label)\n",
    "valid_dataset = valid_dataset.batch(batch_size=batch_size)\n",
    "print(valid_dataset)"
   ],
   "execution_count": 12,
   "outputs": [
    {
     "name": "stdout",
     "output_type": "stream",
     "text": [
      "Metal device set to: Apple M1\n",
      "<BatchDataset element_spec=(TensorSpec(shape=(None, 784), dtype=tf.float32, name=None), TensorSpec(shape=(None, 10), dtype=tf.float32, name=None))>\n",
      "<BatchDataset element_spec=(TensorSpec(shape=(None, 784), dtype=tf.float32, name=None), TensorSpec(shape=(None, 10), dtype=tf.float32, name=None))>\n",
      "<BatchDataset element_spec=(TensorSpec(shape=(None, 784), dtype=tf.float32, name=None), TensorSpec(shape=(None, 10), dtype=tf.float32, name=None))>\n"
     ]
    },
    {
     "name": "stderr",
     "output_type": "stream",
     "text": [
      "2023-12-27 11:40:19.281970: I tensorflow/core/common_runtime/pluggable_device/pluggable_device_factory.cc:306] Could not identify NUMA node of platform GPU ID 0, defaulting to 0. Your kernel may not have been built with NUMA support.\n",
      "2023-12-27 11:40:19.282637: I tensorflow/core/common_runtime/pluggable_device/pluggable_device_factory.cc:272] Created TensorFlow device (/job:localhost/replica:0/task:0/device:GPU:0 with 0 MB memory) -> physical PluggableDevice (device: 0, name: METAL, pci bus id: <undefined>)\n"
     ]
    }
   ]
  },
  {
   "cell_type": "markdown",
   "metadata": {
    "id": "2Nuty9VRhyqh"
   },
   "source": [
    "### 모델 구성"
   ]
  },
  {
   "cell_type": "code",
   "metadata": {
    "id": "rxm7uM4Vg8Y1",
    "ExecuteTime": {
     "end_time": "2023-12-27T02:40:23.710712Z",
     "start_time": "2023-12-27T02:40:23.694450Z"
    }
   },
   "source": [
    "# Dense 64 relu\n",
    "# Dense 32 relu\n",
    "# Output Layer\n",
    "# 28 * 28\n",
    "model = tf.keras.Sequential([\n",
    "    layers.Dense(64, kernel_initializer=tf.keras.initializers.HeUniform(), kernel_regularizer=tf.keras.regularizers.L2(0.0001)),\n",
    "    layers.BatchNormalization(),\n",
    "    layers.Activation('relu'),\n",
    "    # 학습시작이 잘 안될때, kernel_initializer=tf.keras.initializers.HeUniform() 추가 러닝레이트 조절 \n",
    "    # 학습시작에대한 관여. 초기값을 잘 주는게 중요\n",
    "    \n",
    "    layers.Dense(32, kernel_initializer=tf.keras.initializers.HeUniform(), kernel_regularizer=tf.keras.regularizers.L2(0.0001)),\n",
    "    layers.BatchNormalization(),\n",
    "    \n",
    "    # 학습이 좀 빨라짐 적은에폭에 빨리올라감\n",
    "    layers.Activation('relu'),\n",
    "\n",
    "    layers.Dense(10, kernel_initializer=tf.keras.initializers.HeUniform(), kernel_regularizer=tf.keras.regularizers.L2(0.0001)),\n",
    "    layers.BatchNormalization(),\n",
    "    layers.Activation('softmax'),\n",
    "\n",
    "]\n",
    ")"
   ],
   "execution_count": 13,
   "outputs": []
  },
  {
   "cell_type": "code",
   "outputs": [
    {
     "ename": "TypeError",
     "evalue": "Dimension value must be integer or None or have an __index__ method, got value 'TensorShape([None, 3072])' with type '<class 'tensorflow.python.framework.tensor_shape.TensorShape'>'",
     "output_type": "error",
     "traceback": [
      "\u001B[0;31m---------------------------------------------------------------------------\u001B[0m",
      "\u001B[0;31mTypeError\u001B[0m                                 Traceback (most recent call last)",
      "Cell \u001B[0;32mIn[14], line 7\u001B[0m\n\u001B[1;32m      4\u001B[0m \u001B[38;5;66;03m# hidden layer 구성\u001B[39;00m\n\u001B[1;32m      5\u001B[0m x1 \u001B[38;5;241m=\u001B[39m layers\u001B[38;5;241m.\u001B[39mDense(\u001B[38;5;241m64\u001B[39m, kernel_initializer\u001B[38;5;241m=\u001B[39mtf\u001B[38;5;241m.\u001B[39mkeras\u001B[38;5;241m.\u001B[39minitializers\u001B[38;5;241m.\u001B[39mHeUniform(), kernel_regularizer\u001B[38;5;241m=\u001B[39mtf\u001B[38;5;241m.\u001B[39mkeras\u001B[38;5;241m.\u001B[39mregularizers\u001B[38;5;241m.\u001B[39mL2(\u001B[38;5;241m0.0001\u001B[39m)),(input_tensor)\n\u001B[0;32m----> 7\u001B[0m x2 \u001B[38;5;241m=\u001B[39m \u001B[43mlayers\u001B[49m\u001B[38;5;241;43m.\u001B[39;49m\u001B[43mBatchNormalization\u001B[49m\u001B[43m(\u001B[49m\u001B[43m)\u001B[49m\u001B[43m(\u001B[49m\u001B[43mx1\u001B[49m\u001B[43m)\u001B[49m\n\u001B[1;32m      9\u001B[0m x3 \u001B[38;5;241m=\u001B[39m layers\u001B[38;5;241m.\u001B[39mActivation(\u001B[38;5;124m'\u001B[39m\u001B[38;5;124mrelu\u001B[39m\u001B[38;5;124m'\u001B[39m)(x2)\n\u001B[1;32m     11\u001B[0m x4 \u001B[38;5;241m=\u001B[39m layers\u001B[38;5;241m.\u001B[39mDense(\u001B[38;5;241m64\u001B[39m, activation\u001B[38;5;241m=\u001B[39m\u001B[38;5;124m'\u001B[39m\u001B[38;5;124mrelu\u001B[39m\u001B[38;5;124m'\u001B[39m)(x3)\n",
      "File \u001B[0;32m~/anaconda3/envs/tensor2/lib/python3.9/site-packages/keras/utils/traceback_utils.py:70\u001B[0m, in \u001B[0;36mfilter_traceback.<locals>.error_handler\u001B[0;34m(*args, **kwargs)\u001B[0m\n\u001B[1;32m     67\u001B[0m     filtered_tb \u001B[38;5;241m=\u001B[39m _process_traceback_frames(e\u001B[38;5;241m.\u001B[39m__traceback__)\n\u001B[1;32m     68\u001B[0m     \u001B[38;5;66;03m# To get the full stack trace, call:\u001B[39;00m\n\u001B[1;32m     69\u001B[0m     \u001B[38;5;66;03m# `tf.debugging.disable_traceback_filtering()`\u001B[39;00m\n\u001B[0;32m---> 70\u001B[0m     \u001B[38;5;28;01mraise\u001B[39;00m e\u001B[38;5;241m.\u001B[39mwith_traceback(filtered_tb) \u001B[38;5;28;01mfrom\u001B[39;00m \u001B[38;5;28;01mNone\u001B[39;00m\n\u001B[1;32m     71\u001B[0m \u001B[38;5;28;01mfinally\u001B[39;00m:\n\u001B[1;32m     72\u001B[0m     \u001B[38;5;28;01mdel\u001B[39;00m filtered_tb\n",
      "File \u001B[0;32m<string>:3\u001B[0m, in \u001B[0;36mraise_from\u001B[0;34m(value, from_value)\u001B[0m\n",
      "\u001B[0;31mTypeError\u001B[0m: Dimension value must be integer or None or have an __index__ method, got value 'TensorShape([None, 3072])' with type '<class 'tensorflow.python.framework.tensor_shape.TensorShape'>'"
     ]
    }
   ],
   "source": [
    "# F API\n",
    "input_tensor = layers.Input(shape=(32 * 32 * 3,)) # 1개 데이터의 특성\n",
    "\n",
    "# hidden layer 구성\n",
    "x1 = layers.Dense(64, kernel_initializer=tf.keras.initializers.HeUniform(), kernel_regularizer=tf.keras.regularizers.L2(0.0001)),(input_tensor)\n",
    "\n",
    "x2 = layers.BatchNormalization()(x1)\n",
    "\n",
    "x3 = layers.Activation('relu')(x2)\n",
    "\n",
    "x4 = layers.Dense(64, activation='relu')(x3)\n",
    "\n",
    "x5 = layers.Dense(32, activation='relu')(x4)\n",
    "\n",
    "output_tensor = layers.Dense(10)(x5)\n",
    "\n",
    "# 최종 모델 완성\n",
    "model = tf.keras.Model(input_tensor, output_tensor)"
   ],
   "metadata": {
    "collapsed": false,
    "ExecuteTime": {
     "end_time": "2023-12-27T02:40:28.356185Z",
     "start_time": "2023-12-27T02:40:28.034478Z"
    }
   },
   "execution_count": 14
  },
  {
   "cell_type": "code",
   "metadata": {
    "id": "w5wTN0SdhgUy",
    "ExecuteTime": {
     "end_time": "2023-12-26T09:30:14.854169Z",
     "start_time": "2023-12-26T09:30:14.741351Z"
    }
   },
   "source": [
    "model.compile(optimizer=tf.keras.optimizers.Adam(1e-4),\n",
    "              loss=tf.keras.losses.CategoricalCrossentropy(from_logits=True),\n",
    "              metrics=['accuracy'])"
   ],
   "execution_count": 13,
   "outputs": []
  },
  {
   "cell_type": "code",
   "metadata": {
    "id": "aBiwV68thnJe",
    "ExecuteTime": {
     "end_time": "2023-12-26T09:30:15.325586Z",
     "start_time": "2023-12-26T09:30:14.858157Z"
    }
   },
   "source": [
    "# without training, just inference a model in eager execution:\n",
    "predictions = model(train_data[0:1], training=False)\n",
    "print(\"Predictions: \", predictions.numpy())"
   ],
   "execution_count": 14,
   "outputs": [
    {
     "name": "stdout",
     "output_type": "stream",
     "text": [
      "Predictions:  [[0.01992756 0.04037228 0.05946248 0.09163518 0.03321703 0.04494628\n",
      "  0.00825583 0.52680755 0.09483477 0.08054101]]\n"
     ]
    }
   ]
  },
  {
   "cell_type": "code",
   "metadata": {
    "id": "q0yMruVchi4z",
    "ExecuteTime": {
     "end_time": "2023-12-26T09:30:15.332100Z",
     "start_time": "2023-12-26T09:30:15.321447Z"
    }
   },
   "source": [
    "model.summary()"
   ],
   "execution_count": 15,
   "outputs": [
    {
     "name": "stdout",
     "output_type": "stream",
     "text": [
      "Model: \"sequential\"\n",
      "_________________________________________________________________\n",
      " Layer (type)                Output Shape              Param #   \n",
      "=================================================================\n",
      " dense (Dense)               (1, 64)                   50240     \n",
      "                                                                 \n",
      " batch_normalization (BatchN  (1, 64)                  256       \n",
      " ormalization)                                                   \n",
      "                                                                 \n",
      " activation (Activation)     (1, 64)                   0         \n",
      "                                                                 \n",
      " dense_1 (Dense)             (1, 32)                   2080      \n",
      "                                                                 \n",
      " batch_normalization_1 (Batc  (1, 32)                  128       \n",
      " hNormalization)                                                 \n",
      "                                                                 \n",
      " activation_1 (Activation)   (1, 32)                   0         \n",
      "                                                                 \n",
      " dense_2 (Dense)             (1, 10)                   330       \n",
      "                                                                 \n",
      " batch_normalization_2 (Batc  (1, 10)                  40        \n",
      " hNormalization)                                                 \n",
      "                                                                 \n",
      " activation_2 (Activation)   (1, 10)                   0         \n",
      "                                                                 \n",
      "=================================================================\n",
      "Total params: 53,074\n",
      "Trainable params: 52,862\n",
      "Non-trainable params: 212\n",
      "_________________________________________________________________\n"
     ]
    }
   ]
  },
  {
   "cell_type": "markdown",
   "metadata": {
    "id": "8DOW-3_uh0rF"
   },
   "source": [
    "### 모델 학습 구성"
   ]
  },
  {
   "cell_type": "code",
   "source": [
    "check_point_cb = callbacks.ModelCheckpoint('fashion_mnist_model.h5',\n",
    "                                           save_best_only=True,\n",
    "                                           verbose=1)\n",
    "early_stopping_cb = callbacks.EarlyStopping(patience=10,\n",
    "                                            monitor='val_loss',\n",
    "                                            restore_best_weights=True,\n",
    "                                            verbose=1)"
   ],
   "metadata": {
    "id": "Mp_2_AHW0c0t",
    "ExecuteTime": {
     "end_time": "2023-12-26T09:30:15.340963Z",
     "start_time": "2023-12-26T09:30:15.334716Z"
    }
   },
   "execution_count": 16,
   "outputs": []
  },
  {
   "cell_type": "code",
   "metadata": {
    "id": "HLqC2Qx6hjFc",
    "is_executing": true,
    "ExecuteTime": {
     "start_time": "2023-12-26T09:30:15.336332Z"
    }
   },
   "source": [
    "# max_epochs = 100\n",
    "# # using `tf.data.Dataset`\n",
    "# history = model.fit(train_dataset, epochs=max_epochs,\n",
    "#                     steps_per_epoch=len(train_data) // batch_size,\n",
    "#                     validation_data=valid_dataset,\n",
    "#                     validation_steps=len(valid_data) // batch_size,\n",
    "#                     callbacks=[check_point_cb, early_stopping_cb]\n",
    "#                    )\n",
    "max_epochs = 100\n",
    "# using `tf.data.Dataset`\n",
    "history = model.fit(train_dataset,\n",
    "                    epochs=max_epochs,\n",
    "                    steps_per_epoch=len(train_data) // batch_size,\n",
    "                    validation_data=valid_dataset,\n",
    "                    validation_steps=len(valid_data) // batch_size,\n",
    "                    callbacks=[check_point_cb, early_stopping_cb]\n",
    "                    )"
   ],
   "execution_count": null,
   "outputs": [
    {
     "name": "stdout",
     "output_type": "stream",
     "text": [
      "Epoch 1/100\n"
     ]
    },
    {
     "name": "stderr",
     "output_type": "stream",
     "text": [
      "2023-12-26 18:30:15.423728: W tensorflow/core/platform/profile_utils/cpu_utils.cc:128] Failed to get CPU frequency: 0 Hz\n",
      "/Users/soma/anaconda3/envs/tensor2/lib/python3.9/site-packages/keras/backend.py:5531: UserWarning: \"`categorical_crossentropy` received `from_logits=True`, but the `output` argument was produced by a Softmax activation and thus does not represent logits. Was this intended?\n",
      "  output, from_logits = _get_logits(\n",
      "2023-12-26 18:30:15.727040: I tensorflow/core/grappler/optimizers/custom_graph_optimizer_registry.cc:114] Plugin optimizer for device_type GPU is enabled.\n"
     ]
    },
    {
     "name": "stdout",
     "output_type": "stream",
     "text": [
      "1686/1687 [============================>.] - ETA: 0s - loss: 1.0320 - accuracy: 0.7233"
     ]
    },
    {
     "name": "stderr",
     "output_type": "stream",
     "text": [
      "2023-12-26 18:30:47.639113: I tensorflow/core/grappler/optimizers/custom_graph_optimizer_registry.cc:114] Plugin optimizer for device_type GPU is enabled.\n"
     ]
    },
    {
     "name": "stdout",
     "output_type": "stream",
     "text": [
      "\n",
      "Epoch 1: val_loss improved from inf to 0.69640, saving model to fashion_mnist_model.h5\n",
      "1687/1687 [==============================] - 34s 19ms/step - loss: 1.0317 - accuracy: 0.7234 - val_loss: 0.6964 - val_accuracy: 0.8165\n",
      "Epoch 2/100\n",
      "1686/1687 [============================>.] - ETA: 0s - loss: 0.7448 - accuracy: 0.8096\n",
      "Epoch 2: val_loss improved from 0.69640 to 0.59150, saving model to fashion_mnist_model.h5\n",
      "1687/1687 [==============================] - 32s 19ms/step - loss: 0.7447 - accuracy: 0.8096 - val_loss: 0.5915 - val_accuracy: 0.8374\n",
      "Epoch 3/100\n",
      "1686/1687 [============================>.] - ETA: 0s - loss: 0.6580 - accuracy: 0.8257\n",
      "Epoch 3: val_loss improved from 0.59150 to 0.52402, saving model to fashion_mnist_model.h5\n",
      "1687/1687 [==============================] - 32s 19ms/step - loss: 0.6580 - accuracy: 0.8258 - val_loss: 0.5240 - val_accuracy: 0.8559\n",
      "Epoch 4/100\n",
      "1686/1687 [============================>.] - ETA: 0s - loss: 0.5998 - accuracy: 0.8350\n",
      "Epoch 4: val_loss improved from 0.52402 to 0.48202, saving model to fashion_mnist_model.h5\n",
      "1687/1687 [==============================] - 32s 19ms/step - loss: 0.5998 - accuracy: 0.8350 - val_loss: 0.4820 - val_accuracy: 0.8638\n",
      "Epoch 5/100\n",
      "1686/1687 [============================>.] - ETA: 0s - loss: 0.5570 - accuracy: 0.8435\n",
      "Epoch 5: val_loss improved from 0.48202 to 0.45150, saving model to fashion_mnist_model.h5\n",
      "1687/1687 [==============================] - 33s 20ms/step - loss: 0.5572 - accuracy: 0.8434 - val_loss: 0.4515 - val_accuracy: 0.8650\n",
      "Epoch 6/100\n",
      " 157/1687 [=>............................] - ETA: 29s - loss: 0.5413 - accuracy: 0.8453"
     ]
    }
   ]
  },
  {
   "cell_type": "code",
   "metadata": {
    "id": "P5ZcVB42hqDE",
    "is_executing": true
   },
   "source": [
    "# 코드 수정\n",
    "acc = history.history['accuracy']\n",
    "val_acc = history.history['val_accuracy']\n",
    "\n",
    "loss = history.history['loss']\n",
    "val_loss = history.history['val_loss']\n",
    "\n",
    "epochs_range = range(len(acc))\n",
    "\n",
    "plt.figure(figsize=(8, 8))\n",
    "plt.subplot(1, 2, 1)\n",
    "plt.plot(epochs_range, acc, label='Training Accuracy')\n",
    "plt.plot(epochs_range, val_acc, label='Validation Accuracy')\n",
    "plt.legend(loc='lower right')\n",
    "plt.title('Training and Valid Accuracy')\n",
    "\n",
    "plt.subplot(1, 2, 2)\n",
    "plt.plot(epochs_range, loss, label='Training Loss')\n",
    "plt.plot(epochs_range, val_loss, label='Validation Loss')\n",
    "plt.legend(loc='upper right')\n",
    "plt.title('Training and Valid Loss')\n",
    "plt.show()"
   ],
   "execution_count": null,
   "outputs": []
  },
  {
   "cell_type": "code",
   "metadata": {
    "id": "MIfLiTlehtAC",
    "is_executing": true
   },
   "source": [
    "results = model.evaluate(test_dataset)"
   ],
   "execution_count": null,
   "outputs": []
  }
 ]
}
