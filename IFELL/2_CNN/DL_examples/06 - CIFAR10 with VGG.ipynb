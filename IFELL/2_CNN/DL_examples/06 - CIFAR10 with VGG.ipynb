{
 "nbformat": 4,
 "nbformat_minor": 0,
 "metadata": {
  "colab": {
   "name": "06 - CIFAR10 with VGG.ipynb",
   "provenance": [],
   "collapsed_sections": []
  },
  "kernelspec": {
   "display_name": "Python 3",
   "language": "python",
   "name": "python3"
  },
  "language_info": {
   "codemirror_mode": {
    "name": "ipython",
    "version": 3
   },
   "file_extension": ".py",
   "mimetype": "text/x-python",
   "name": "python",
   "nbconvert_exporter": "python",
   "pygments_lexer": "ipython3",
   "version": "3.7.3"
  },
  "accelerator": "GPU"
 },
 "cells": [
  {
   "cell_type": "code",
   "metadata": {
    "id": "9JutkdoS4X-A",
    "ExecuteTime": {
     "end_time": "2023-12-27T02:01:28.328755Z",
     "start_time": "2023-12-27T02:01:25.375902Z"
    }
   },
   "source": [
    "import tensorflow as tf\n",
    "from tensorflow.keras import layers\n",
    "\n",
    "import numpy as np\n",
    "import matplotlib.pyplot as plt\n",
    "\n",
    "tf.__version__"
   ],
   "execution_count": 1,
   "outputs": [
    {
     "data": {
      "text/plain": "'2.10.0'"
     },
     "execution_count": 1,
     "metadata": {},
     "output_type": "execute_result"
    }
   ]
  },
  {
   "cell_type": "markdown",
   "metadata": {
    "id": "XjhdBBUjB4zH"
   },
   "source": [
    "## Dataset 준비\n",
    "* 학습을 위해 제공되는 MNIST dataset을 준비"
   ]
  },
  {
   "cell_type": "code",
   "metadata": {
    "id": "E16_5FTBccOA",
    "ExecuteTime": {
     "end_time": "2023-12-27T02:02:08.171334Z",
     "start_time": "2023-12-27T02:01:28.330515Z"
    }
   },
   "source": [
    "# Load training and eval data from tf.keras\n",
    "(train_data, train_labels), (test_data, test_labels) = \\\n",
    "    tf.keras.datasets.cifar10.load_data()"
   ],
   "execution_count": 2,
   "outputs": [
    {
     "name": "stdout",
     "output_type": "stream",
     "text": [
      "Downloading data from https://www.cs.toronto.edu/~kriz/cifar-10-python.tar.gz\n",
      "170498071/170498071 [==============================] - 37s 0us/step\n"
     ]
    }
   ]
  },
  {
   "cell_type": "code",
   "metadata": {
    "id": "F8zglWCB17gy",
    "ExecuteTime": {
     "end_time": "2023-12-27T02:02:08.173972Z",
     "start_time": "2023-12-27T02:02:08.172095Z"
    }
   },
   "source": [
    "print(train_data.shape, train_labels.shape)\n",
    "print(test_data.shape, test_labels.shape)"
   ],
   "execution_count": 3,
   "outputs": [
    {
     "name": "stdout",
     "output_type": "stream",
     "text": [
      "(50000, 32, 32, 3) (50000, 1)\n",
      "(10000, 32, 32, 3) (10000, 1)\n"
     ]
    }
   ]
  },
  {
   "cell_type": "code",
   "metadata": {
    "id": "SgcSuxaz2F8g"
   },
   "source": [
    "# 데이터 전처리 파트 -> 도메인 지식이 들어가게 됩니다.\n",
    "train_data = train_data / 255.\n",
    "train_labels = train_labels.reshape(-1)\n",
    "train_data = train_data.astype(np.float32)\n",
    "train_labels = train_labels.astype(np.int32)\n",
    "\n",
    "test_data = test_data / 255.\n",
    "test_labels = test_labels.reshape(-1)\n",
    "test_data = test_data.astype(np.float32)\n",
    "test_labels = test_labels.astype(np.int32)"
   ],
   "execution_count": null,
   "outputs": []
  },
  {
   "cell_type": "markdown",
   "metadata": {
    "id": "OR6JEdefCBXL"
   },
   "source": [
    "### Dataset 구성\n",
    "* 원활한 학습을 위해서 데이터셋을 구성해주고, Label을 one-hot으로 변환해준다."
   ]
  },
  {
   "cell_type": "code",
   "metadata": {
    "id": "5IRBhmYmB4zK"
   },
   "source": [
    "def one_hot_label(image, label):\n",
    "  label = tf.one_hot(label, depth=10) # [1, 0, 0, 0, 0, 0, 0, 0, 0, 0]\n",
    "  return image, label"
   ],
   "execution_count": null,
   "outputs": []
  },
  {
   "cell_type": "code",
   "metadata": {
    "id": "TlD1Zj7IB4zM"
   },
   "source": [
    "batch_size = 32\n",
    "max_epochs = 10\n",
    "\n",
    "# for train\n",
    "N = len(train_data)\n",
    "train_dataset = tf.data.Dataset.from_tensor_slices((train_data, train_labels))\n",
    "train_dataset = train_dataset.shuffle(buffer_size=10000)\n",
    "train_dataset = train_dataset.map(one_hot_label)\n",
    "train_dataset = train_dataset.repeat().batch(batch_size=batch_size)\n",
    "print(train_dataset)\n",
    "\n",
    "# for test\n",
    "test_dataset = tf.data.Dataset.from_tensor_slices((test_data, test_labels))\n",
    "test_dataset = test_dataset.map(one_hot_label)\n",
    "test_dataset = test_dataset.repeat().batch(batch_size=batch_size)\n",
    "print(test_dataset)"
   ],
   "execution_count": null,
   "outputs": []
  },
  {
   "cell_type": "markdown",
   "metadata": {
    "id": "kmcoOGy7CJSo"
   },
   "source": [
    "* 데이터 확인"
   ]
  },
  {
   "cell_type": "code",
   "metadata": {
    "id": "bSmDlhmrchGa"
   },
   "source": [
    "index = 12190\n",
    "print(\"label = {}\".format(train_labels[index]))\n",
    "plt.imshow(train_data[index].reshape(32, 32, 3))\n",
    "plt.colorbar()\n",
    "#plt.gca().grid(False)\n",
    "plt.show()"
   ],
   "execution_count": null,
   "outputs": []
  },
  {
   "cell_type": "markdown",
   "metadata": {
    "id": "qHSgDBxMB4zS"
   },
   "source": [
    "# 모델 제작\n",
    "```python\n",
    " # Conv2D - 3, 64 - MaxPool2D\n",
    " # Conv2D - 3, 128 - MaxPool2D\n",
    " # Conv2D - 3, 256 - MaxPool2D\n",
    " # Flatten\n",
    " # Dense 256\n",
    " # Dense 256\n",
    " # Dense output 10\n",
    "```"
   ]
  },
  {
   "cell_type": "code",
   "metadata": {
    "id": "6d_QlNBmciJC"
   },
   "source": [
    "model = tf.keras.models.Sequential() \n",
    "model.add(layers.Conv2D(6, (5,5), activation='relu'))\n",
    "model.add(layers.MaxPool2D()) # 2x2, strides=2\n",
    "model.add(layers.Conv2D(16, (5,5), activation='relu'))\n",
    "model.add(layers.MaxPool2D())\n",
    "model.add(layers.Flatten()) # 데이터의 차원을 1차원으로 만들어주는 레이어\n",
    "model.add(layers.Dense(120, activation='relu'))\n",
    "model.add(layers.Dense(84, activation='relu'))\n",
    "model.add(layers.Dense(10, activation='softmax'))\n",
    "# LeNet 5\n"
   ],
   "execution_count": null,
   "outputs": []
  },
  {
   "cell_type": "markdown",
   "metadata": {
    "id": "Cn6H_QcGB4zU"
   },
   "source": [
    "# Training\n",
    "## tf.keras.losses.CategoricalCrossentropy()\n",
    "\n",
    "```python\n",
    "cce = tf.keras.losses.CategoricalCrossentropy()\n",
    "loss = cce([[1., 0., 0.], [0., 1., 0.], [0., 0., 1.]],\n",
    "           [[.9, .05, .05], [.5, .89, .6], [.05, .01, .94]])\n",
    "print('Loss: ', loss.numpy())  # Loss: 0.3239\n",
    "```"
   ]
  },
  {
   "cell_type": "code",
   "metadata": {
    "id": "Ki9uiBzlcjLR"
   },
   "source": [
    "model.compile(optimizer=tf.keras.optimizers.Adam(1e-4),\n",
    "              loss=tf.keras.losses.CategoricalCrossentropy(from_logits=False),\n",
    "              metrics=['accuracy'])"
   ],
   "execution_count": null,
   "outputs": []
  },
  {
   "cell_type": "markdown",
   "metadata": {
    "id": "GNGsfU6wCiYv"
   },
   "source": [
    "### 모델 확인"
   ]
  },
  {
   "cell_type": "code",
   "metadata": {
    "id": "8bp_cfFocpyy"
   },
   "source": [
    "# without training, just inference a model in eager execution:\n",
    "predictions = model(train_data[0:1], training=False)\n",
    "print(\"Predictions: \", predictions.numpy())"
   ],
   "execution_count": null,
   "outputs": []
  },
  {
   "cell_type": "code",
   "metadata": {
    "id": "CXtssdoLcq9y"
   },
   "source": [
    "tf.keras.utils.plot_model(model, show_shapes=True)"
   ],
   "execution_count": null,
   "outputs": []
  },
  {
   "cell_type": "markdown",
   "metadata": {
    "id": "d4yeTfk6Ck0A"
   },
   "source": [
    "### 학습진행\n",
    "* model.fit 함수가 최근에 model.fit_generator 함수와 통합\n",
    "* Dataset을 이용한 학습을 진행"
   ]
  },
  {
   "cell_type": "code",
   "metadata": {
    "id": "KYe84eFDcrqh"
   },
   "source": [
    "# using `numpy type` data\n",
    "# history = model.fit(train_data, train_labels,\n",
    "#                     batch_size=batch_size, epochs=max_epochs,\n",
    "#                     validation_split=0.05)\n",
    "# using `tf.data.Dataset`\n",
    "history = model.fit(train_dataset, epochs=max_epochs,\n",
    "                    steps_per_epoch=int(len(train_data) / batch_size))"
   ],
   "execution_count": null,
   "outputs": []
  },
  {
   "cell_type": "markdown",
   "metadata": {
    "id": "pnzayBt3Csaw"
   },
   "source": [
    "### 학습결과 확인"
   ]
  },
  {
   "cell_type": "code",
   "metadata": {
    "id": "EY4DM4dhcv65"
   },
   "source": [
    "history.history.keys()"
   ],
   "execution_count": null,
   "outputs": []
  },
  {
   "cell_type": "code",
   "metadata": {
    "id": "22fP3kIVdZua"
   },
   "source": [
    "acc = history.history['accuracy']\n",
    "\n",
    "loss = history.history['loss']\n",
    "\n",
    "epochs_range = range(max_epochs)\n",
    "\n",
    "plt.figure(figsize=(8, 8))\n",
    "plt.subplot(1, 2, 1)\n",
    "plt.plot(epochs_range, acc, label='Training Accuracy')\n",
    "plt.legend(loc='lower right')\n",
    "plt.title('Training and Accuracy')\n",
    "\n",
    "plt.subplot(1, 2, 2)\n",
    "plt.plot(epochs_range, loss, label='Training Loss')\n",
    "plt.legend(loc='upper right')\n",
    "plt.title('Training and Loss')\n",
    "plt.show()"
   ],
   "execution_count": null,
   "outputs": []
  },
  {
   "cell_type": "code",
   "metadata": {
    "id": "n7Cq_HBPdaNS"
   },
   "source": [
    "results = model.evaluate(test_dataset, steps=int(len(train_data) / batch_size))"
   ],
   "execution_count": null,
   "outputs": []
  },
  {
   "cell_type": "code",
   "metadata": {
    "id": "RL0uOeeqdbaC"
   },
   "source": [
    "# loss\n",
    "print(\"loss value: {:.3f}\".format(results[0]))\n",
    "# accuracy\n",
    "print(\"accuracy value: {:.4f}%\".format(results[1]*100))"
   ],
   "execution_count": null,
   "outputs": []
  },
  {
   "cell_type": "code",
   "metadata": {
    "id": "cLazbelVdcFa"
   },
   "source": [
    "np.random.seed(219)\n",
    "test_batch_size = 16\n",
    "batch_index = np.random.choice(len(test_data), size=test_batch_size, replace=False)\n",
    "\n",
    "batch_xs = test_data[batch_index]\n",
    "batch_ys = test_labels[batch_index]\n",
    "y_pred_ = model(batch_xs, training=False)\n",
    "\n",
    "fig = plt.figure(figsize=(16, 10))\n",
    "for i, (px, py) in enumerate(zip(batch_xs, y_pred_)):\n",
    "  p = fig.add_subplot(4, 8, i+1)\n",
    "  if np.argmax(py) == batch_ys[i]:\n",
    "    p.set_title(\"y_pred: {}\".format(np.argmax(py)), color='blue')\n",
    "  else:\n",
    "    p.set_title(\"y_pred: {}\".format(np.argmax(py)), color='red')\n",
    "  p.imshow(px.reshape(32, 32, 3)) # ciar10 32, 32, 3\n",
    "  p.axis('off')"
   ],
   "execution_count": null,
   "outputs": []
  },
  {
   "cell_type": "code",
   "metadata": {
    "id": "TFh41S-Hdehy"
   },
   "source": [],
   "execution_count": null,
   "outputs": []
  }
 ]
}
