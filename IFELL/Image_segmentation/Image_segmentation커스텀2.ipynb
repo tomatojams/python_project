{
 "cells": [
  {
   "cell_type": "markdown",
   "metadata": {
    "id": "Wu4rKI5Q-Fld"
   },
   "source": [
    "# 의료 영상 이미지를 이용해 Image segmentation을 진행해보자.\n",
    "---\n",
    "### 학습목표\n",
    "* 위내시경 이미지에 용종을 표시한 데이터를 이용해 모델을 구성하고, 용종을 찾는  Segmentation 모델을 만들어보자.\n",
    "* 적은 데이터셋을 활용하기 위한 Data augmentation을 진행해보자.\n",
    "* Encoder-Decoder Model과 U-net 모델을 구현해보자."
   ]
  },
  {
   "cell_type": "markdown",
   "metadata": {
    "id": "WjAj9aA4-Flg"
   },
   "source": [
    "## Project 설명\n",
    "---\n",
    "### Dataset\n",
    "* 데이터셋은 [Gastrointestinal Image ANAlys Challenges (GIANA)](https://giana.grand-challenge.org) Dataset (About 650MB) 을 사용했다.\n",
    "* Data와 labels는 이미지 데이터로 이루어져있으며, 이미지의 상세 스펙은 아래와 같다.\n",
    "  * Train data: 300 images with RGB channels (bmp format)\n",
    "  * Train labels: 300 images with 1 channels (bmp format)\n",
    "  * Image size: 574 x 500\n",
    "* Training시 **image size는 256**으로 resize해서 사용할 예정이다.\n",
    "\n",
    "### Baseline code\n",
    "* Dataset: train, test로 split 해서 이용한다.\n",
    "* Input data shape: (`batch_size`, 256, 256, 3) RGB color images\n",
    "* Output data shape: (`batch_size`, 256, 256, 1) Black and white images\n",
    "* Architecture:\n",
    "  * 간단한 Encoder-Decoder 구조 구현\n",
    "  * U-Net 구조 구현\n",
    "* Training\n",
    "  * `tf.data.Dataset` 사용\n",
    "  * `tf.GradientTape()` 사용 for weight update\n"
   ]
  },
  {
   "cell_type": "markdown",
   "metadata": {
    "id": "3eapCra31BEl"
   },
   "source": [
    "### Evaluation - MeanIOU\n",
    "* Image Segmentation에서 많이 쓰이는 평가 기준이다.\n",
    "\n",
    "![iou_equation.png](data:image/png;base64,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)\n"
   ]
  },
  {
   "cell_type": "markdown",
   "metadata": {
    "id": "82oPAjFT-Fli"
   },
   "source": [
    "## TF add-on\n",
    "* 추가 기능을 지원하기위한 add-on 설치"
   ]
  },
  {
   "cell_type": "code",
   "execution_count": 1,
   "metadata": {
    "colab": {
     "base_uri": "https://localhost:8080/"
    },
    "executionInfo": {
     "elapsed": 18239,
     "status": "ok",
     "timestamp": 1704963104659,
     "user": {
      "displayName": "JIHAN KIM",
      "userId": "14820648192014375113"
     },
     "user_tz": -540
    },
    "id": "47BaDkF5-Flk",
    "outputId": "e690f008-01d0-49c5-8731-042a40882155",
    "ExecuteTime": {
     "end_time": "2024-01-14T00:28:40.518208900Z",
     "start_time": "2024-01-14T00:28:40.488209200Z"
    }
   },
   "outputs": [],
   "source": [
    "# !pip install tensorflow-addons"
   ]
  },
  {
   "cell_type": "code",
   "execution_count": 2,
   "metadata": {
    "executionInfo": {
     "elapsed": 7,
     "status": "ok",
     "timestamp": 1704963104659,
     "user": {
      "displayName": "JIHAN KIM",
      "userId": "14820648192014375113"
     },
     "user_tz": -540
    },
    "id": "vuw0F6Ty-Flo",
    "ExecuteTime": {
     "end_time": "2024-01-14T00:28:40.546215400Z",
     "start_time": "2024-01-14T00:28:40.508209200Z"
    }
   },
   "outputs": [],
   "source": [
    "use_colab = True\n",
    "assert use_colab in [True, False]"
   ]
  },
  {
   "cell_type": "code",
   "execution_count": 3,
   "metadata": {
    "colab": {
     "base_uri": "https://localhost:8080/"
    },
    "executionInfo": {
     "elapsed": 22086,
     "status": "ok",
     "timestamp": 1704963126740,
     "user": {
      "displayName": "JIHAN KIM",
      "userId": "14820648192014375113"
     },
     "user_tz": -540
    },
    "id": "fEHhoBS4AeQe",
    "outputId": "61637d53-2c62-402c-8727-b68886c9b7d2",
    "ExecuteTime": {
     "end_time": "2024-01-14T00:28:40.565343800Z",
     "start_time": "2024-01-14T00:28:40.521209900Z"
    }
   },
   "outputs": [],
   "source": [
    "# from google.colab import drive\n",
    "# drive.mount('/content/drive')"
   ]
  },
  {
   "cell_type": "markdown",
   "metadata": {
    "id": "LEJlZ2h5-Fls"
   },
   "source": [
    "### Import base modules"
   ]
  },
  {
   "cell_type": "code",
   "execution_count": 4,
   "metadata": {
    "colab": {
     "base_uri": "https://localhost:8080/"
    },
    "executionInfo": {
     "elapsed": 5539,
     "status": "ok",
     "timestamp": 1704963132275,
     "user": {
      "displayName": "JIHAN KIM",
      "userId": "14820648192014375113"
     },
     "user_tz": -540
    },
    "id": "PHYc9_07-Flt",
    "outputId": "825e800b-ef60-47b6-e430-40341ced638c",
    "ExecuteTime": {
     "end_time": "2024-01-14T00:28:52.311869900Z",
     "start_time": "2024-01-14T00:28:40.550216600Z"
    }
   },
   "outputs": [
    {
     "name": "stdout",
     "output_type": "stream",
     "text": [
      "2.10.0\n"
     ]
    },
    {
     "name": "stderr",
     "output_type": "stream",
     "text": [
      "F:\\Anaconda3_envs\\tensor2\\lib\\site-packages\\tensorflow_addons\\utils\\tfa_eol_msg.py:23: UserWarning: \n",
      "\n",
      "TensorFlow Addons (TFA) has ended development and introduction of new features.\n",
      "TFA has entered a minimal maintenance and release mode until a planned end of life in May 2024.\n",
      "Please modify downstream libraries to take dependencies from other repositories in our TensorFlow community (e.g. Keras, Keras-CV, and Keras-NLP). \n",
      "\n",
      "For more information see: https://github.com/tensorflow/addons/issues/2807 \n",
      "\n",
      "  warnings.warn(\n",
      "F:\\Anaconda3_envs\\tensor2\\lib\\site-packages\\tensorflow_addons\\utils\\ensure_tf_install.py:53: UserWarning: Tensorflow Addons supports using Python ops for all Tensorflow versions above or equal to 2.12.0 and strictly below 2.15.0 (nightly versions are not supported). \n",
      " The versions of TensorFlow you are currently using is 2.10.0 and is not supported. \n",
      "Some things might work, some things might not.\n",
      "If you were to encounter a bug, do not file an issue.\n",
      "If you want to make sure you're using a tested and supported configuration, either change the TensorFlow version or the TensorFlow Addons's version. \n",
      "You can find the compatibility matrix in TensorFlow Addon's readme:\n",
      "https://github.com/tensorflow/addons\n",
      "  warnings.warn(\n"
     ]
    }
   ],
   "source": [
    "from __future__ import absolute_import, division\n",
    "from __future__ import print_function, unicode_literals\n",
    "\n",
    "import os\n",
    "import time\n",
    "import shutil\n",
    "import functools\n",
    "\n",
    "import numpy as np\n",
    "import matplotlib.pyplot as plt\n",
    "\n",
    "from sklearn.model_selection import train_test_split\n",
    "from sklearn.metrics import confusion_matrix\n",
    "import matplotlib.image as mpimg\n",
    "import pandas as pd\n",
    "from PIL import Image\n",
    "from IPython.display import clear_output\n",
    "\n",
    "import tensorflow as tf\n",
    "import tensorflow_addons as tfa\n",
    "print(tf.__version__)\n",
    "# \n",
    "# from tensorflow.python.keras import layers\n",
    "from tensorflow.python.keras import losses\n",
    "# from tensorflow.python.keras import models\n",
    "\n",
    "from tensorflow.keras.models import Sequential\n",
    "from tensorflow.keras import layers, models\n",
    "from tensorflow.keras.layers import Dense, Conv2D, SeparableConv2D, Flatten, Dropout, MaxPooling2D, \\\n",
    "    BatchNormalization, ReLU, GlobalAveragePooling2D\n",
    "from tensorflow.keras import regularizers"
   ]
  },
  {
   "cell_type": "markdown",
   "metadata": {
    "id": "ASoNjd1F8yxa"
   },
   "source": [
    "# 사용 모델 선택\n",
    "* 학습 및 inference에서 사용할 모델 선택"
   ]
  },
  {
   "cell_type": "code",
   "execution_count": 5,
   "metadata": {
    "executionInfo": {
     "elapsed": 4,
     "status": "ok",
     "timestamp": 1704963132275,
     "user": {
      "displayName": "JIHAN KIM",
      "userId": "14820648192014375113"
     },
     "user_tz": -540
    },
    "id": "I3os7Ozn-Fly",
    "ExecuteTime": {
     "end_time": "2024-01-14T00:28:52.327869400Z",
     "start_time": "2024-01-14T00:28:52.310869800Z"
    }
   },
   "outputs": [],
   "source": [
    "is_train = True\n",
    "\n",
    "model_name = 'u-net'\n",
    "assert model_name in ['ed_model', 'u-net']"
   ]
  },
  {
   "cell_type": "markdown",
   "metadata": {
    "id": "MXc_Ew-3-Fl2"
   },
   "source": [
    "## 데이터 수집 및 Visualize\n",
    "\n",
    "### Download data\n",
    "\n",
    "이 프로젝트는 [Giana Dataset](https://giana.grand-challenge.org/Dates/)을 이용하여 진행한다.\n",
    "\n",
    "* 아래 코드를 이용해 Path를 설정한다\n"
   ]
  },
  {
   "cell_type": "code",
   "execution_count": 6,
   "metadata": {
    "executionInfo": {
     "elapsed": 4,
     "status": "ok",
     "timestamp": 1704963132276,
     "user": {
      "displayName": "JIHAN KIM",
      "userId": "14820648192014375113"
     },
     "user_tz": -540
    },
    "id": "gtVqSn2I-Fl3",
    "ExecuteTime": {
     "end_time": "2024-01-14T00:28:52.398038800Z",
     "start_time": "2024-01-14T00:28:52.327869400Z"
    }
   },
   "outputs": [],
   "source": [
    "if use_colab:\n",
    "    DATASET_PATH='./'\n",
    "else:\n",
    "    DATASET_PATH='./'"
   ]
  },
  {
   "cell_type": "markdown",
   "metadata": {
    "id": "m9egQEJJ-Fl7"
   },
   "source": [
    "### Split dataset into train data and test data\n",
    "* 다운로드한 데이터셋을 분류해보자.\n",
    "* 이미지를 직접 로드하는 것이 아닌 데이터의 주소 (data path)를 이용해서 train data와 test data를 분리한다."
   ]
  },
  {
   "cell_type": "code",
   "execution_count": 7,
   "metadata": {
    "executionInfo": {
     "elapsed": 4,
     "status": "ok",
     "timestamp": 1704963132276,
     "user": {
      "displayName": "JIHAN KIM",
      "userId": "14820648192014375113"
     },
     "user_tz": -540
    },
    "id": "0iefCFZt-Fl8",
    "ExecuteTime": {
     "end_time": "2024-01-14T00:28:52.421886400Z",
     "start_time": "2024-01-14T00:28:52.343878200Z"
    }
   },
   "outputs": [],
   "source": [
    "dataset_dir = os.path.join(DATASET_PATH) # dataset이 있는 경로\n",
    "\n",
    "img_dir = os.path.join(dataset_dir, \"train\") # ./dataset , train => ./dataset/train\n",
    "label_dir = os.path.join(dataset_dir, \"train_labels\")"
   ]
  },
  {
   "cell_type": "code",
   "execution_count": 8,
   "metadata": {
    "executionInfo": {
     "elapsed": 4976,
     "status": "ok",
     "timestamp": 1704963137248,
     "user": {
      "displayName": "JIHAN KIM",
      "userId": "14820648192014375113"
     },
     "user_tz": -540
    },
    "id": "U9tls-xP-Fl_",
    "ExecuteTime": {
     "end_time": "2024-01-14T00:28:52.449892100Z",
     "start_time": "2024-01-14T00:28:52.358143900Z"
    }
   },
   "outputs": [],
   "source": [
    "x_train_filenames = [os.path.join(img_dir, filename) for filename in os.listdir(img_dir)] # 한줄에서 어떤 함수를 동작시키는 방법\n",
    "x_train_filenames.sort()\n",
    "y_train_filenames = [os.path.join(label_dir, filename) for filename in os.listdir(label_dir)]\n",
    "y_train_filenames.sort()"
   ]
  },
  {
   "cell_type": "code",
   "execution_count": 9,
   "metadata": {
    "colab": {
     "base_uri": "https://localhost:8080/"
    },
    "executionInfo": {
     "elapsed": 11,
     "status": "ok",
     "timestamp": 1704963137248,
     "user": {
      "displayName": "JIHAN KIM",
      "userId": "14820648192014375113"
     },
     "user_tz": -540
    },
    "id": "4ZG-0T_QZR24",
    "outputId": "343182bc-c0c9-4ab6-b912-5a9f280a57e3",
    "ExecuteTime": {
     "end_time": "2024-01-14T00:28:52.451890600Z",
     "start_time": "2024-01-14T00:28:52.373792700Z"
    }
   },
   "outputs": [
    {
     "name": "stdout",
     "output_type": "stream",
     "text": [
      "300 300\n"
     ]
    }
   ],
   "source": [
    "print(len(x_train_filenames), len(y_train_filenames))"
   ]
  },
  {
   "cell_type": "code",
   "execution_count": 10,
   "metadata": {
    "colab": {
     "base_uri": "https://localhost:8080/"
    },
    "executionInfo": {
     "elapsed": 8,
     "status": "ok",
     "timestamp": 1704963137248,
     "user": {
      "displayName": "JIHAN KIM",
      "userId": "14820648192014375113"
     },
     "user_tz": -540
    },
    "id": "naL3oYEBTn6N",
    "outputId": "a9a79ea4-582f-4c3b-b068-60a05ea3993a",
    "ExecuteTime": {
     "end_time": "2024-01-14T00:28:52.470407800Z",
     "start_time": "2024-01-14T00:28:52.388036400Z"
    }
   },
   "outputs": [
    {
     "name": "stdout",
     "output_type": "stream",
     "text": [
      "['./train\\\\1.bmp', './train\\\\10.bmp']\n",
      "['./train_labels\\\\1.bmp', './train_labels\\\\10.bmp']\n"
     ]
    }
   ],
   "source": [
    "print(x_train_filenames[:2])\n",
    "print(y_train_filenames[:2])"
   ]
  },
  {
   "cell_type": "code",
   "execution_count": 11,
   "metadata": {
    "executionInfo": {
     "elapsed": 4,
     "status": "ok",
     "timestamp": 1704963137249,
     "user": {
      "displayName": "JIHAN KIM",
      "userId": "14820648192014375113"
     },
     "user_tz": -540
    },
    "id": "9sNd6xlK-FmC",
    "ExecuteTime": {
     "end_time": "2024-01-14T00:28:52.471408200Z",
     "start_time": "2024-01-14T00:28:52.404886800Z"
    }
   },
   "outputs": [],
   "source": [
    "x_train_filenames, x_test_filenames, y_train_filenames, y_test_filenames = \\\n",
    "                    train_test_split(x_train_filenames, y_train_filenames, test_size=0.2)"
   ]
  },
  {
   "cell_type": "code",
   "execution_count": 12,
   "metadata": {
    "colab": {
     "base_uri": "https://localhost:8080/"
    },
    "executionInfo": {
     "elapsed": 555,
     "status": "ok",
     "timestamp": 1704963137801,
     "user": {
      "displayName": "JIHAN KIM",
      "userId": "14820648192014375113"
     },
     "user_tz": -540
    },
    "id": "pcImyG78-FmG",
    "outputId": "8e0b8282-0dcc-449b-d121-e5946750014f",
    "ExecuteTime": {
     "end_time": "2024-01-14T00:28:52.489608200Z",
     "start_time": "2024-01-14T00:28:52.419887Z"
    }
   },
   "outputs": [
    {
     "name": "stdout",
     "output_type": "stream",
     "text": [
      "Number of training examples: 240\n",
      "Number of test examples: 60\n"
     ]
    }
   ],
   "source": [
    "num_train_examples = len(x_train_filenames)\n",
    "num_test_examples = len(x_test_filenames)\n",
    "\n",
    "print(\"Number of training examples: {}\".format(num_train_examples))\n",
    "print(\"Number of test examples: {}\".format(num_test_examples))"
   ]
  },
  {
   "cell_type": "markdown",
   "metadata": {
    "id": "W1V8azzi-FmJ"
   },
   "source": [
    "### Visualize\n",
    "\n",
    "데이터 셋에서 5장 (`display_num`)의 이미지를 살펴보자."
   ]
  },
  {
   "cell_type": "code",
   "execution_count": 13,
   "metadata": {
    "executionInfo": {
     "elapsed": 5,
     "status": "ok",
     "timestamp": 1704963137801,
     "user": {
      "displayName": "JIHAN KIM",
      "userId": "14820648192014375113"
     },
     "user_tz": -540
    },
    "id": "ft8SY3rb-FmK",
    "ExecuteTime": {
     "end_time": "2024-01-14T00:28:52.491608300Z",
     "start_time": "2024-01-14T00:28:52.436887Z"
    }
   },
   "outputs": [],
   "source": [
    "# display_num = 5\n",
    "\n",
    "# r_choices = np.random.choice(num_train_examples, display_num)\n",
    "\n",
    "# plt.figure(figsize=(10, 15))\n",
    "# for i in range(0, display_num * 2, 2):\n",
    "#     img_num = r_choices[i // 2]\n",
    "#     x_pathname = x_train_filenames[img_num]\n",
    "#     y_pathname = y_train_filenames[img_num]\n",
    "\n",
    "#     plt.subplot(display_num, 2, i + 1)\n",
    "#     plt.imshow(Image.open(x_pathname))\n",
    "#     plt.title(\"Original Image\")\n",
    "\n",
    "#     example_labels = Image.open(y_pathname)\n",
    "#     label_vals = np.unique(example_labels)\n",
    "\n",
    "#     plt.subplot(display_num, 2, i + 2)\n",
    "#     plt.imshow(example_labels)\n",
    "#     plt.title(\"Masked Image\")\n",
    "\n",
    "# plt.suptitle(\"Examples of Images and their Masks\")\n",
    "# plt.show()"
   ]
  },
  {
   "cell_type": "markdown",
   "metadata": {
    "id": "IypPm0BP-FmO"
   },
   "source": [
    "## Data pipeline and preprocessing 만들기\n",
    "\n",
    "### Set up hyper-parameters\n",
    "\n",
    "* Hyper-parameter를 셋팅해보자. 이미지 사이즈, 배치 사이즈 등 training parameter들을 셋팅해보자.\n",
    "* 직접 이미지 사이즈를 조절할 수 있다."
   ]
  },
  {
   "cell_type": "code",
   "execution_count": 14,
   "metadata": {
    "executionInfo": {
     "elapsed": 5,
     "status": "ok",
     "timestamp": 1704963137801,
     "user": {
      "displayName": "JIHAN KIM",
      "userId": "14820648192014375113"
     },
     "user_tz": -540
    },
    "id": "Ss4oil9t-FmP",
    "ExecuteTime": {
     "end_time": "2024-01-14T00:28:52.594184100Z",
     "start_time": "2024-01-14T00:28:52.452893300Z"
    }
   },
   "outputs": [],
   "source": [
    "# Set hyperparameters\n",
    "image_size = 256\n",
    "img_shape = (image_size, image_size, 3)\n",
    "\n",
    "batch_size = 8\n",
    "\n",
    "\n",
    "if use_colab:\n",
    "    checkpoint_dir ='./drive/MyDrive/train_ckpt/segmentation/exp1'\n",
    "    if not os.path.isdir(checkpoint_dir):\n",
    "        os.makedirs(checkpoint_dir)\n",
    "else:\n",
    "    checkpoint_dir = './train_ckpt/segmentation/exp1'"
   ]
  },
  {
   "cell_type": "markdown",
   "metadata": {
    "id": "cs3hKLjI-FmS"
   },
   "source": [
    "### Build our input pipeline with `tf.data`\n",
    "\n",
    "* tf.data.Dataset을 이용해 input pipeline을 만들어보자.\n",
    "* map 함수들을 이용해 Data Augmentation을 구현해보자.\n",
    "\n",
    "\n",
    "#### Our input pipeline will consist of the following steps:\n",
    "\n",
    "* 아래 방법을 따라서 input pipeline을 만들어보자.\n",
    "\n",
    "> 1. 이미지와 레이블 모두 파일 이름에서 파일의 바이트를 읽습니다. 라벨은 실제로 각 픽셀이 용종데이터로 (1, 0)으로 주석이 달린 이미지입니다.\n",
    "> 2. 바이트를 이미지 형식으로 디코딩\n",
    "> 3. 이미지 변환 적용 : (optional, input parameters에 따라서)\n",
    "\n",
    "> * `resize`-이미지를 표준 크기로 조정합니다 (eda 또는 계산 / 메모리 제한에 의해 결정됨)\n",
    "> * resize의 이유는 U-Net이 fully convolution networks 이므로 입력 크기에 의존하지 않기 때문입니다. 그러나 이미지 크기를 조정하지 않으면 가변 이미지 크기를 함께 배치 할 수 없으므로 배치 크기 1을 사용해야합니다.\n",
    "> *  성능에 영향을 줄 수 있으므로 이미지 크기를 조정하여 미니 배치별로 이미지 크기를 조정하여 미니 배치별로 이미지 크기를 조정할 수도 있습니다.\n",
    "> *`hue_delta`-RGB 이미지의 색조를 랜덤 팩터로 조정합니다. 이것은 실제 이미지에만 적용됩니다 (라벨 이미지가 아님). `hue_delta`는`[0, 0.5]`간격에 있어야합니다.\n",
    "> *`horizontal_flip`-0.5 확률로 중심 축을 따라 이미지를 수평으로 뒤집습니다. 이 변환은 레이블과 실제 이미지 모두에 적용해야합니다.\n",
    "> *`width_shift_range` 및`height_shift_range`는 이미지를 가로 또는 세로로 임의로 변환하는 범위 (전체 너비 또는 높이의 일부)입니다. 이 변환은 레이블과 실제 이미지 모두에 적용해야합니다.\n",
    "> *`rescale`-이미지를 일정한 비율로 다시 조정합니다 (예 : 1/255.)\n",
    "> 4. 데이터를 섞고, 데이터를 반복하여 학습합니다."
   ]
  },
  {
   "cell_type": "markdown",
   "metadata": {
    "id": "Ou8xP7B9-FmT"
   },
   "source": [
    "#### Why do we do these image transformations?\n",
    "\n",
    "Data augmentation은 딥러닝을 이용한 이미지 처리분야 (classification, detection, segmentation 등) 에서 널리 쓰이는 테크닉이다.\n",
    "\n",
    "> 데이터 증가는 여러 무작위 변환을 통해 데이터를 증가시켜 훈련 데이터의 양을 \"증가\"시킵니다.\n",
    "> 훈련 시간 동안 우리 모델은 똑같은 그림을 두 번 볼 수 없습니다.\n",
    "> Overfitting을 방지하고 모델이 처음보는 데이터에 대해 더 잘 일반화되도록 도와줍니다."
   ]
  },
  {
   "cell_type": "markdown",
   "metadata": {
    "id": "akkC9Vi7-FmU"
   },
   "source": [
    "#### Processing each pathname\n",
    "* 위에서 처리한 data path를 이용해 실제 이미지 데이터를 로드하는 함수이다.\n",
    "* byte 형태로 데이터를 로드하고, bmp로 디코딩한다.\n",
    "* 디코딩이 완료된 image를 scale과 size를 조절한다."
   ]
  },
  {
   "cell_type": "code",
   "execution_count": 15,
   "metadata": {
    "executionInfo": {
     "elapsed": 4,
     "status": "ok",
     "timestamp": 1704963137801,
     "user": {
      "displayName": "JIHAN KIM",
      "userId": "14820648192014375113"
     },
     "user_tz": -540
    },
    "id": "v_ft9MZ4-FmW",
    "ExecuteTime": {
     "end_time": "2024-01-14T00:28:52.599181800Z",
     "start_time": "2024-01-14T00:28:52.470407800Z"
    }
   },
   "outputs": [],
   "source": [
    "def _process_pathnames(fname, label_path):\n",
    "    # We map this function onto each pathname pair\n",
    "    img_str = tf.io.read_file(fname)\n",
    "    img = tf.image.decode_bmp(img_str, channels=3) # RGB\n",
    "\n",
    "    label_img_str = tf.io.read_file(label_path)\n",
    "    label_img = tf.image.decode_bmp(label_img_str, channels=0) # BMP 0,1\n",
    "\n",
    "    resize = [image_size, image_size]\n",
    "    img = tf.image.resize(img, resize)\n",
    "    label_img = tf.image.resize(label_img, resize)\n",
    "    # 0 ~ 255 RGB 값 ch\n",
    "\n",
    "    scale = 1 / 255.\n",
    "    img = tf.cast(img, dtype=tf.float32) * scale\n",
    "    label_img = tf.cast(label_img, dtype=tf.float32) * scale\n",
    "\n",
    "    # 0 기준 초기화 -0.1 ~ 0 ~ 0.3 => 모델 가중치 초기화 범위\n",
    "\n",
    "    return img, label_img"
   ]
  },
  {
   "cell_type": "markdown",
   "metadata": {
    "id": "P59agNFY-Fma"
   },
   "source": [
    "#### Shifting the image\n",
    "* 로드한 이미지를 기반으로 이미지의 위치를 이동시키는 함수"
   ]
  },
  {
   "cell_type": "code",
   "execution_count": 16,
   "metadata": {
    "executionInfo": {
     "elapsed": 4,
     "status": "ok",
     "timestamp": 1704963137801,
     "user": {
      "displayName": "JIHAN KIM",
      "userId": "14820648192014375113"
     },
     "user_tz": -540
    },
    "id": "i-C4FcVK-Fmb",
    "ExecuteTime": {
     "end_time": "2024-01-14T00:28:52.627842500Z",
     "start_time": "2024-01-14T00:28:52.485607800Z"
    }
   },
   "outputs": [],
   "source": [
    "def shift_img(output_img, label_img, width_shift_range, height_shift_range):\n",
    "    \"\"\"This fn will perform the horizontal or vertical shift\"\"\"\n",
    "    if width_shift_range or height_shift_range:\n",
    "        if width_shift_range: # H, W, C\n",
    "            width_shift_range = tf.random.uniform([],\n",
    "                                                -width_shift_range * img_shape[1],\n",
    "                                                width_shift_range * img_shape[1])\n",
    "        if height_shift_range:\n",
    "            height_shift_range = tf.random.uniform([],\n",
    "                                                -height_shift_range * img_shape[0],\n",
    "                                                height_shift_range * img_shape[0])\n",
    "        output_img = tfa.image.translate(output_img,\n",
    "                                         [width_shift_range, height_shift_range])\n",
    "        label_img = tfa.image.translate(label_img,\n",
    "                                        [width_shift_range, height_shift_range])\n",
    "    return output_img, label_img"
   ]
  },
  {
   "cell_type": "markdown",
   "metadata": {
    "id": "9GZrQi_M-Fmf"
   },
   "source": [
    "#### Flipping the image randomly\n",
    "* 로드한 이미지를 기반으로 이미지를 flip하는 함수"
   ]
  },
  {
   "cell_type": "code",
   "execution_count": 17,
   "metadata": {
    "executionInfo": {
     "elapsed": 4,
     "status": "ok",
     "timestamp": 1704963137801,
     "user": {
      "displayName": "JIHAN KIM",
      "userId": "14820648192014375113"
     },
     "user_tz": -540
    },
    "id": "U0HAwUrb-Fmg",
    "ExecuteTime": {
     "end_time": "2024-01-14T00:28:52.629842600Z",
     "start_time": "2024-01-14T00:28:52.500608600Z"
    }
   },
   "outputs": [],
   "source": [
    "def flip_img(horizontal_flip, tr_img, label_img):\n",
    "    if horizontal_flip:\n",
    "        flip_prob = tf.random.uniform([], 0.0, 1.0)\n",
    "        tr_img, label_img = tf.cond(tf.less(flip_prob, 0.5),\n",
    "                                lambda: (tf.image.flip_left_right(tr_img), tf.image.flip_left_right(label_img)),\n",
    "                                lambda: (tr_img, label_img))\n",
    "\n",
    "    return tr_img, label_img"
   ]
  },
  {
   "cell_type": "markdown",
   "metadata": {
    "id": "Pow2Wr89-Fmj"
   },
   "source": [
    "#### Assembling our transformations into our augment function\n",
    "* 위에서 구현한 Augmentation 함수를 이용해 Data augmentation에 사용하는 함수를 구성한다."
   ]
  },
  {
   "cell_type": "code",
   "execution_count": 18,
   "metadata": {
    "executionInfo": {
     "elapsed": 3,
     "status": "ok",
     "timestamp": 1704963137801,
     "user": {
      "displayName": "JIHAN KIM",
      "userId": "14820648192014375113"
     },
     "user_tz": -540
    },
    "id": "z2D-G-u4-Fml",
    "ExecuteTime": {
     "end_time": "2024-01-14T00:28:52.649850800Z",
     "start_time": "2024-01-14T00:28:52.518764400Z"
    }
   },
   "outputs": [],
   "source": [
    "def _augment(img,\n",
    "             label_img,\n",
    "             resize=None,  # Resize the image to some size e.g. [256, 256]\n",
    "             scale=1,  # Scale image e.g. 1 / 255.\n",
    "             hue_delta=0.01,  # Adjust the hue of an RGB image by random factor\n",
    "             horizontal_flip=True,  # Random left right flip,\n",
    "             width_shift_range=0.1,  # Randomly translate the image horizontally\n",
    "             height_shift_range=0.1):  # Randomly translate the image vertically\n",
    "    if resize is not None:\n",
    "        # Resize both images\n",
    "        label_img = tf.image.resize(label_img, resize)\n",
    "        img = tf.image.resize(img, resize)\n",
    "\n",
    "    if hue_delta:\n",
    "        img = tf.image.random_hue(img, hue_delta)\n",
    "\n",
    "    img, label_img = flip_img(horizontal_flip, img, label_img)\n",
    "    img, label_img = shift_img(img, label_img, width_shift_range, height_shift_range)\n",
    "    label_img = tf.cast(label_img, dtype=tf.float32) * scale\n",
    "    img = tf.cast(img, dtype=tf.float32) * scale\n",
    "\n",
    "    return img, label_img"
   ]
  },
  {
   "cell_type": "code",
   "execution_count": 19,
   "metadata": {
    "executionInfo": {
     "elapsed": 3,
     "status": "ok",
     "timestamp": 1704963137801,
     "user": {
      "displayName": "JIHAN KIM",
      "userId": "14820648192014375113"
     },
     "user_tz": -540
    },
    "id": "Z7d8Jsl7-Fmn",
    "ExecuteTime": {
     "end_time": "2024-01-14T00:28:52.697881100Z",
     "start_time": "2024-01-14T00:28:52.532766800Z"
    }
   },
   "outputs": [],
   "source": [
    "def get_baseline_dataset(filenames,\n",
    "                         labels,\n",
    "                         preproc_fn=functools.partial(_augment),\n",
    "                         threads=2,\n",
    "                         batch_size=batch_size,\n",
    "                         is_train=True):\n",
    "    num_x = len(filenames)\n",
    "    # Create a dataset from the filenames and labels\n",
    "    dataset = tf.data.Dataset.from_tensor_slices((filenames, labels))\n",
    "    # Map our preprocessing function to every element in our dataset, taking\n",
    "    # advantage of multithreading\n",
    "    dataset = dataset.map(_process_pathnames, num_parallel_calls=threads)\n",
    "\n",
    "    if is_train:\n",
    "        #if preproc_fn.keywords is not None and 'resize' not in preproc_fn.keywords:\n",
    "        #  assert batch_size == 1, \"Batching images must be of the same size\"\n",
    "        dataset = dataset.map(preproc_fn, num_parallel_calls=threads)\n",
    "        dataset = dataset.shuffle(num_x * 10)\n",
    "\n",
    "    dataset = dataset.batch(batch_size)\n",
    "\n",
    "    return dataset"
   ]
  },
  {
   "cell_type": "markdown",
   "metadata": {
    "id": "h489fvL4-Fmr"
   },
   "source": [
    "### Set up train and test datasets\n",
    "* Train dataset에서만 Data augmentation을 진행하게 설정 후 구현한다."
   ]
  },
  {
   "cell_type": "code",
   "execution_count": 20,
   "metadata": {
    "executionInfo": {
     "elapsed": 6475,
     "status": "ok",
     "timestamp": 1704963144273,
     "user": {
      "displayName": "JIHAN KIM",
      "userId": "14820648192014375113"
     },
     "user_tz": -540
    },
    "id": "HArvZllz-Fms",
    "ExecuteTime": {
     "end_time": "2024-01-14T00:28:56.626862700Z",
     "start_time": "2024-01-14T00:28:54.005484200Z"
    }
   },
   "outputs": [],
   "source": [
    "train_dataset = get_baseline_dataset(x_train_filenames, y_train_filenames)# TODO, # 학습 데이터\n",
    "                                     # TODO) # 정답 데이터\n",
    "test_dataset = get_baseline_dataset(x_test_filenames, y_test_filenames, is_train=False)# TODO,\n",
    "                                    # TODO,\n",
    "                                    #is_train=False)"
   ]
  },
  {
   "cell_type": "code",
   "execution_count": 21,
   "metadata": {
    "colab": {
     "base_uri": "https://localhost:8080/"
    },
    "executionInfo": {
     "elapsed": 6,
     "status": "ok",
     "timestamp": 1704963144273,
     "user": {
      "displayName": "JIHAN KIM",
      "userId": "14820648192014375113"
     },
     "user_tz": -540
    },
    "id": "0Do9MCmG-Fmv",
    "outputId": "393cc7ee-49e4-4701-e42e-bfb15e8e65e0",
    "ExecuteTime": {
     "end_time": "2024-01-14T00:28:56.646815900Z",
     "start_time": "2024-01-14T00:28:56.626862700Z"
    }
   },
   "outputs": [
    {
     "name": "stdout",
     "output_type": "stream",
     "text": [
      "<BatchDataset element_spec=(TensorSpec(shape=(None, 256, 256, 3), dtype=tf.float32, name=None), TensorSpec(shape=(None, None, None, None), dtype=tf.float32, name=None))>\n",
      "<BatchDataset element_spec=(TensorSpec(shape=(None, 256, 256, 3), dtype=tf.float32, name=None), TensorSpec(shape=(None, 256, 256, None), dtype=tf.float32, name=None))>\n"
     ]
    }
   ],
   "source": [
    "print(train_dataset)\n",
    "print(test_dataset)\n",
    "# dataset 나오는데 None, 256, 256 3 // None 256 256 1\n",
    "#                                   None None None None\n",
    "# 버전 이슈로 정답 데이터 shape이 정확히 출력되지않는 것으로 예상됩니다."
   ]
  },
  {
   "cell_type": "markdown",
   "metadata": {
    "id": "grE40kEh-Fmx"
   },
   "source": [
    "### Plot some train data\n",
    "* train 데이터를 확인해보자\n",
    "* data augmentation 이 적용된 이미지를 직접확인해보자."
   ]
  },
  {
   "cell_type": "code",
   "execution_count": 22,
   "metadata": {
    "colab": {
     "base_uri": "https://localhost:8080/",
     "height": 417
    },
    "executionInfo": {
     "elapsed": 51118,
     "status": "ok",
     "timestamp": 1704963195387,
     "user": {
      "displayName": "JIHAN KIM",
      "userId": "14820648192014375113"
     },
     "user_tz": -540
    },
    "id": "ClOE45Vu-Fmy",
    "outputId": "c4ae6b12-1152-4579-a97b-1158d64e21da",
    "ExecuteTime": {
     "end_time": "2024-01-14T00:28:58.111682800Z",
     "start_time": "2024-01-14T00:28:56.644815100Z"
    }
   },
   "outputs": [
    {
     "data": {
      "text/plain": "<Figure size 1000x1000 with 2 Axes>",
      "image/png": "[encoded data removed]"
     },
     "metadata": {},
     "output_type": "display_data"
    }
   ],
   "source": [
    "# Colab은 프로세서가 느려서 전처리에 시간이 꽤 걸립니다. 조금 기다려주세요!\n",
    "for images, labels in train_dataset.take(1):\n",
    "    # Running next element in our graph will produce a batch of images\n",
    "    plt.figure(figsize=(10, 10))\n",
    "    img = images[0]\n",
    "\n",
    "    plt.subplot(1, 2, 1)\n",
    "    plt.imshow(img)\n",
    "\n",
    "    plt.subplot(1, 2, 2)\n",
    "    plt.imshow(labels[0, :, :, 0])\n",
    "    plt.show()"
   ]
  },
  {
   "cell_type": "markdown",
   "metadata": {
    "id": "1YSdQ0H0-Fm1"
   },
   "source": [
    "## Build the model\n",
    "\n",
    "해당 프로젝트는 두 개의 네트워크를 만들어보는 것이 목표이다.\n",
    "* Encoder-Decoder 스타일의 네트워크"
   ]
  },
  {
   "cell_type": "markdown",
   "metadata": {
    "id": "zSiY5E3G2WYX"
   },
   "source": [
    "![arch-como-en-de2.png](data:image/png;base64,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)"
   ]
  },
  {
   "cell_type": "markdown",
   "metadata": {
    "id": "q-5BZFy52X95"
   },
   "source": [
    "\n",
    "* Encoder를 이용해 우리가 가진 Train data를 작은 차원의 공간에 압축하는 방식으로 동작한다.\n",
    "* Decoder는 Encoder가 압축한 데이터들을 우리가 원하는 label데이터와 같도록 재생성하는 방식으로 학습하게 된다.\n",
    "    * 우리가 가진 label의 shape과 같은 형태로 데이터를 반환하게 된다."
   ]
  },
  {
   "cell_type": "markdown",
   "metadata": {
    "id": "Ht0MmsAQ-Fm2"
   },
   "source": [
    "### Encoder-Decoder architecture\n",
    "\n",
    "#### Encoder\n",
    "* 다음과 같은 구조로 Encoder로 만들어보자.\n",
    "* `input data`의 shape이 다음과 같이 되도록 네트워크를 구성해보자\n",
    "  * inputs = [batch_size, 256, 256, 3]\n",
    "  * conv1 = [batch_size, 128, 128, 32]\n",
    "  * conv2 = [batch_size, 64, 64, 64]\n",
    "  * conv3 = [batch_size, 32, 32, 128]\n",
    "  * outputs = [batch_size, 16, 16, 256]\n",
    "* Convolution - Normalization - Activation 등의 조합을 다양하게 생각해보자.\n",
    "* Pooling을 쓸지 Convolution with stride=2 로 할지 잘 생각해보자.\n",
    "* `tf.keras.Sequential()`을 이용하여 만들어보자.\n",
    "  \n",
    "#### Decoder\n",
    "* Encoder의 mirror 형태로 만들어보자.\n",
    "* `input data`의 shape이 다음과 같이 되도록 네트워크를 구성해보자\n",
    "  * inputs = encoder의 outputs = [batch_size, 16, 16, 256]\n",
    "  * conv_transpose1 = [batch_size, 32, 32, 128]\n",
    "  * conv_transpose2 = [batch_size, 64, 64, 64]\n",
    "  * conv_transpose3 = [batch_size, 128, 128, 32]\n",
    "  * conv_transpose4 = [batch_size, 256, 256, 16]\n",
    "  * outputs = [batch_size, 256, 256, 1]\n",
    "* `tf.keras.Sequential()`을 이용하여 만들어보자."
   ]
  },
  {
   "cell_type": "code",
   "execution_count": 23,
   "metadata": {
    "executionInfo": {
     "elapsed": 8,
     "status": "ok",
     "timestamp": 1704963195388,
     "user": {
      "displayName": "JIHAN KIM",
      "userId": "14820648192014375113"
     },
     "user_tz": -540
    },
    "id": "7wzSibiL-Fm6",
    "ExecuteTime": {
     "end_time": "2024-01-14T00:28:58.136681900Z",
     "start_time": "2024-01-14T00:28:58.115682700Z"
    }
   },
   "outputs": [],
   "source": [
    "if model_name == 'ed_model':\n",
    "    encoder = tf.keras.Sequential(name='encoder')\n",
    "    # # inputs: [batch_size, 256, 256, 3]\n",
    "    # # conv-batchnorm-activation-maxpool\n",
    "    # Conv2D(32, 3, padding='same', strides=1 or 2)\n",
    "\n",
    "    encoder.add(tf.keras.layers.Conv2D(32,3, strides=2, padding='same')) # conv1: [batch_size, 128, 128, 32]\n",
    "    encoder.add(tf.keras.layers.BatchNormalization())\n",
    "    encoder.add(tf.keras.layers.Activation('relu'))\n",
    "\n",
    "    encoder.add(tf.keras.layers.Conv2D(64,3, strides=2, padding='same')) # conv2: [batch_size, 64, 64, 64]\n",
    "    encoder.add(tf.keras.layers.BatchNormalization())\n",
    "    encoder.add(tf.keras.layers.Activation('relu'))\n",
    "\n",
    "    encoder.add(tf.keras.layers.Conv2D(128,3, strides=2, padding='same')) # conv3: [batch_size, 32, 32, 128]\n",
    "    encoder.add(tf.keras.layers.BatchNormalization())\n",
    "    encoder.add(tf.keras.layers.Activation('relu'))\n",
    "\n",
    "    encoder.add(tf.keras.layers.Conv2D(256,3, strides=2, padding='same')) # conv4-outputs: [batch_size, 16, 16, 256]\n",
    "    encoder.add(tf.keras.layers.BatchNormalization())\n",
    "    encoder.add(tf.keras.layers.Activation('relu'))"
   ]
  },
  {
   "cell_type": "code",
   "execution_count": 24,
   "metadata": {
    "colab": {
     "base_uri": "https://localhost:8080/"
    },
    "executionInfo": {
     "elapsed": 1503,
     "status": "ok",
     "timestamp": 1704963196885,
     "user": {
      "displayName": "JIHAN KIM",
      "userId": "14820648192014375113"
     },
     "user_tz": -540
    },
    "id": "eUvSLLvY-Fm9",
    "outputId": "7027882c-c591-46ba-f7af-3f948b2c9ab8",
    "ExecuteTime": {
     "end_time": "2024-01-14T00:28:58.159420800Z",
     "start_time": "2024-01-14T00:28:58.128680100Z"
    }
   },
   "outputs": [],
   "source": [
    "# encoder 제대로 만들어졌는지 확인\n",
    "if model_name == 'ed_model':\n",
    "    bottleneck = encoder(tf.random.normal([batch_size, 256, 256, 3]))\n",
    "    print(bottleneck.shape)"
   ]
  },
  {
   "cell_type": "code",
   "execution_count": 25,
   "metadata": {
    "executionInfo": {
     "elapsed": 534,
     "status": "ok",
     "timestamp": 1704963197416,
     "user": {
      "displayName": "JIHAN KIM",
      "userId": "14820648192014375113"
     },
     "user_tz": -540
    },
    "id": "-AD6K7VG-FnD",
    "ExecuteTime": {
     "end_time": "2024-01-14T00:28:58.160420300Z",
     "start_time": "2024-01-14T00:28:58.145415400Z"
    }
   },
   "outputs": [],
   "source": [
    "if model_name == 'ed_model':\n",
    "    decoder = tf.keras.Sequential(name='decoder')\n",
    "    # # inputs: [batch_size, 16, 16, 256]\n",
    "    decoder.add(tf.keras.layers.Conv2DTranspose(128,3, padding = 'same', strides = 2, input_shape=(16,16,256))) # conv_transpose1: [batch_size, 32, 32, 128]\n",
    "    decoder.add(tf.keras.layers.BatchNormalization())\n",
    "    decoder.add(tf.keras.layers.Activation('relu'))\n",
    "    decoder.add(tf.keras.layers.Conv2DTranspose(64,3, padding = 'same', strides = 2)) # conv_transpose2: [batch_size, 64, 64, 64]\n",
    "    decoder.add(tf.keras.layers.BatchNormalization())\n",
    "    decoder.add(tf.keras.layers.Activation('relu'))\n",
    "    decoder.add(tf.keras.layers.Conv2DTranspose(32,3, padding = 'same', strides = 2)) # conv_transpose3: [batch_size, 128, 128, 32]\n",
    "    decoder.add(tf.keras.layers.BatchNormalization())\n",
    "    decoder.add(tf.keras.layers.Activation('relu'))\n",
    "    decoder.add(tf.keras.layers.Conv2DTranspose(16,3, padding = 'same', strides = 2)) # conv transpose4 [batch_size, 256, 256, 16]\n",
    "    decoder.add(tf.keras.layers.BatchNormalization())\n",
    "    decoder.add(tf.keras.layers.Activation('relu'))\n",
    "    ### output layer\n",
    "    decoder.add(tf.keras.layers.Conv2DTranspose(1,3, padding = 'same')) # conv output [batch_size, 256, 256, 1]\n"
   ]
  },
  {
   "cell_type": "code",
   "execution_count": 26,
   "metadata": {
    "colab": {
     "base_uri": "https://localhost:8080/"
    },
    "executionInfo": {
     "elapsed": 2262,
     "status": "ok",
     "timestamp": 1704963199675,
     "user": {
      "displayName": "JIHAN KIM",
      "userId": "14820648192014375113"
     },
     "user_tz": -540
    },
    "id": "fI9agPI6-FnH",
    "outputId": "d9e3e6da-b63e-47ad-8d75-c1a92084d738",
    "ExecuteTime": {
     "end_time": "2024-01-14T00:28:58.204931100Z",
     "start_time": "2024-01-14T00:28:58.160420300Z"
    }
   },
   "outputs": [],
   "source": [
    "# decoder 제대로 만들어졌는지 확인\n",
    "if model_name == 'ed_model':\n",
    "    predictions = decoder(bottleneck)\n",
    "    print(predictions.shape)"
   ]
  },
  {
   "cell_type": "markdown",
   "metadata": {
    "id": "ow2CZgaZ-FnJ"
   },
   "source": [
    "#### Create a encoder-decocer model"
   ]
  },
  {
   "cell_type": "code",
   "execution_count": 27,
   "metadata": {
    "executionInfo": {
     "elapsed": 523,
     "status": "ok",
     "timestamp": 1704963200195,
     "user": {
      "displayName": "JIHAN KIM",
      "userId": "14820648192014375113"
     },
     "user_tz": -540
    },
    "id": "qeFQMpSo-FnK",
    "ExecuteTime": {
     "end_time": "2024-01-14T00:28:58.206933Z",
     "start_time": "2024-01-14T00:28:58.174931400Z"
    }
   },
   "outputs": [],
   "source": [
    "if model_name == 'ed_model': # 최종 모델 구성\n",
    "    ed_model = tf.keras.Sequential()\n",
    "    ed_model.add(encoder)\n",
    "    ed_model.add(decoder)"
   ]
  },
  {
   "cell_type": "markdown",
   "metadata": {
    "id": "NJCok8I6-FnN"
   },
   "source": [
    "### U-Net architecture\n",
    "\n",
    "<img src='https://user-images.githubusercontent.com/11681225/58005153-fd934300-7b1f-11e9-9ad8-a0e9186e751c.png' width=\"800\">\n",
    "\n",
    "### U-Net\n",
    "* [U-Net](https://arxiv.org/abs/1505.04597)\n",
    "\n",
    "> Q. U-Net 구조의 특징은 무엇인가요?\n",
    "> * FCN 구조를 가지며, skip-connection을 이용해 더 효율적인 학습을 구현할 수 있다."
   ]
  },
  {
   "cell_type": "markdown",
   "metadata": {
    "id": "6nWsj-A4-FnO"
   },
   "source": [
    "#### The `tf.keras` Functional API - Model subclassing\n",
    "\n",
    "* U-Net은 Encoder-Decoder 구조와는 달리 해당 레이어의 outputs이 바로 다음 레이어의 inputs이 되지 않는다. 이럴때는 `tf.keras.Sequential()`을 쓸 수가 없다.\n",
    "\n",
    "* Sequential 구조가 아닌 네트워크를 만들 때 쓸 수 있는 API 가 바로 `tf.keras` functional API 이다.\n",
    "\n",
    "* Model subclassing 방식은 `tf.keras.Model` 클래스를 상속하여 구현한다."
   ]
  },
  {
   "cell_type": "code",
   "outputs": [],
   "source": [
    "if model_name == 'u-net':\n",
    "    class ConvBlock(tf.keras.Model):\n",
    "        def __init__(self, num_filters, stride=1, kernel_size=3, l2_reg=0.001):\n",
    "            super(ConvBlock, self).__init__()\n",
    "            self.num_filters = num_filters\n",
    "            self.se_conv1 = layers.SeparableConv2D(num_filters, kernel_size, padding='same',\n",
    "                                                   depthwise_initializer=tf.keras.initializers.he_normal(),\n",
    "                                                   pointwise_initializer=tf.keras.initializers.he_normal(),\n",
    "                                                   depthwise_regularizer=regularizers.l2(l2_reg),\n",
    "                                                   pointwise_regularizer=regularizers.l2(l2_reg))\n",
    "            self.se_sonv2 = layers.SeparableConv2D(num_filters, kernel_size, padding='same',\n",
    "                                                   depthwise_initializer=tf.keras.initializers.he_normal(),\n",
    "                                                   pointwise_initializer=tf.keras.initializers.he_normal(),\n",
    "                                                   depthwise_regularizer=regularizers.l2(l2_reg),\n",
    "                                                   pointwise_regularizer=regularizers.l2(l2_reg))\n",
    "            self.bn1 = BatchNormalization()\n",
    "            self.bn2 = BatchNormalization()\n",
    "   \n",
    "        def call(self, input, stride=1):\n",
    "            x = self.se_conv1(input)\n",
    "            x = self.bn1(x)\n",
    "            x = layers.Activation('relu')(x)\n",
    "            x = self.se_sonv2(x)\n",
    "            x = self.bn2(x)\n",
    "            x = layers.Activation('relu')(x)\n",
    "            return x\n",
    "        \n",
    "if model_name == 'u-net':\n",
    "\n",
    "    class EncoderBlock(tf.keras.Model):\n",
    "        def __init__(self, num_filters):\n",
    "            super(EncoderBlock, self).__init__()\n",
    "            self.conv_block =ConvBlock(num_filters) # TODO\n",
    "            self.conv1 = layers.Conv2D(num_filters, 3, strides=2, padding='same',\n",
    "                                       kernel_initializer=tf.keras.initializers.he_normal())\n",
    "\n",
    "        def call(self, inputs, training=True):\n",
    "            encoder = self.conv_block(inputs)\n",
    "            encoder_pool =self.conv1(encoder)\n",
    "            return encoder_pool, encoder"
   ],
   "metadata": {
    "collapsed": false,
    "ExecuteTime": {
     "end_time": "2024-01-14T00:28:58.222044100Z",
     "start_time": "2024-01-14T00:28:58.194932600Z"
    }
   },
   "execution_count": 28
  },
  {
   "cell_type": "code",
   "outputs": [],
   "source": [
    "class DecoderBlock(tf.keras.Model):\n",
    "    def __init__(self, num_filters, l2_reg=0.001):\n",
    "        super(DecoderBlock, self).__init__()\n",
    "        self.convT =layers.Conv2DTranspose(num_filters, kernel_size=3, strides=2, padding='same',\n",
    "                                           kernel_initializer=tf.keras.initializers.he_normal(),\n",
    "                                           kernel_regularizer=regularizers.l2(l2_reg))\n",
    "        self.se_conv1 = layers.SeparableConv2D(num_filters, kernel_size=3, padding='same',\n",
    "                                               depthwise_initializer=tf.keras.initializers.he_normal(),\n",
    "                                               pointwise_initializer=tf.keras.initializers.he_normal(),\n",
    "                                               depthwise_regularizer=regularizers.l2(l2_reg),\n",
    "                                               pointwise_regularizer=regularizers.l2(l2_reg))\n",
    "\n",
    "        self.bn =  layers.BatchNormalization()\n",
    "        self.bn2 = layers.BatchNormalization()\n",
    "        self.bn3 = layers.BatchNormalization()\n",
    "\n",
    "    def call(self, input_tensor, concat_tensor, training=True): # convT - bn - relu\n",
    "        decoder = self.convT(input_tensor) # ConvT\n",
    "        decoder = self.bn(decoder)# bn\n",
    "        decoder = layers.Activation('relu')(decoder)\n",
    "        decoder = layers.concatenate([decoder,concat_tensor])# concat\n",
    "        decoder = self.se_conv1(decoder)\n",
    "        decoder = self.bn2(decoder)\n",
    "        decoder = layers.Activation('relu')(decoder)\n",
    "        return decoder\n",
    "\n",
    "class OutBlock(tf.keras.Model):\n",
    "    def __init__(self, num_filters):\n",
    "        super(OutBlock, self).__init__()\n",
    "      \n",
    "        self.conv1 = layers.Conv2D(3, 3, strides=1, padding='same',\n",
    "                                   kernel_initializer=tf.keras.initializers.he_normal())\n",
    "        self.conv2 = layers.Conv2D(1, 3, strides=1, padding='same',\n",
    "                                   kernel_initializer=tf.keras.initializers.he_normal())\n",
    "        self.bn = layers.BatchNormalization()\n",
    "    def call(self, inputs, training=True):\n",
    "        x = self.conv1(inputs)\n",
    "        x = self.bn(x)\n",
    "        x = layers.Activation('relu')(x)\n",
    "        x = self.conv2(x)\n",
    "        return x"
   ],
   "metadata": {
    "collapsed": false,
    "ExecuteTime": {
     "end_time": "2024-01-14T00:28:58.259760500Z",
     "start_time": "2024-01-14T00:28:58.213933100Z"
    }
   },
   "execution_count": 29
  },
  {
   "cell_type": "code",
   "execution_count": 30,
   "metadata": {
    "executionInfo": {
     "elapsed": 7,
     "status": "ok",
     "timestamp": 1704963200196,
     "user": {
      "displayName": "JIHAN KIM",
      "userId": "14820648192014375113"
     },
     "user_tz": -540
    },
    "id": "MiWd-SSx-FnU",
    "ExecuteTime": {
     "end_time": "2024-01-14T00:28:59.199584200Z",
     "start_time": "2024-01-14T00:28:58.232045500Z"
    }
   },
   "outputs": [
    {
     "name": "stdout",
     "output_type": "stream",
     "text": [
      "Model: \"model\"\n",
      "__________________________________________________________________________________________________\n",
      " Layer (type)                   Output Shape         Param #     Connected to                     \n",
      "==================================================================================================\n",
      " input_1 (InputLayer)           [(None, 256, 256, 3  0           []                               \n",
      "                                )]                                                                \n",
      "                                                                                                  \n",
      " encoder_block (EncoderBlock)   ((None, 128, 128, 3  11003       ['input_1[0][0]']                \n",
      "                                2),                                                               \n",
      "                                 (None, 256, 256, 3                                               \n",
      "                                2))                                                               \n",
      "                                                                                                  \n",
      " encoder_block_1 (EncoderBlock)  ((None, 64, 64, 64)  44576      ['encoder_block[0][0]']          \n",
      "                                , (None, 128, 128,                                                \n",
      "                                64))                                                              \n",
      "                                                                                                  \n",
      " encoder_block_2 (EncoderBlock)  ((None, 32, 32, 128  175168     ['encoder_block_1[0][0]']        \n",
      "                                ),                                                                \n",
      "                                 (None, 64, 64, 128                                               \n",
      "                                ))                                                                \n",
      "                                                                                                  \n",
      " encoder_block_3 (EncoderBlock)  ((None, 16, 16, 128  183936     ['encoder_block_2[0][0]']        \n",
      "                                ),                                                                \n",
      "                                 (None, 32, 32, 128                                               \n",
      "                                ))                                                                \n",
      "                                                                                                  \n",
      " encoder_block_4 (EncoderBlock)  ((None, 8, 8, 256),  694400     ['encoder_block_3[0][0]']        \n",
      "                                 (None, 16, 16, 256                                               \n",
      "                                ))                                                                \n",
      "                                                                                                  \n",
      " encoder_block_5 (EncoderBlock)  ((None, 4, 4, 256),  728320     ['encoder_block_4[0][0]']        \n",
      "                                 (None, 8, 8, 256))                                               \n",
      "                                                                                                  \n",
      " encoder_block_6 (EncoderBlock)  ((None, 2, 2, 256),  728320     ['encoder_block_5[0][0]']        \n",
      "                                 (None, 4, 4, 256))                                               \n",
      "                                                                                                  \n",
      " conv_block_7 (ConvBlock)       (None, 2, 2, 512)    405248      ['encoder_block_6[0][0]']        \n",
      "                                                                                                  \n",
      " decoder_block (DecoderBlock)   (None, 4, 4, 256)    1317888     ['conv_block_7[0][0]',           \n",
      "                                                                  'encoder_block_6[0][1]']        \n",
      "                                                                                                  \n",
      " decoder_block_1 (DecoderBlock)  (None, 8, 8, 256)   728064      ['decoder_block[0][0]',          \n",
      "                                                                  'encoder_block_5[0][1]']        \n",
      "                                                                                                  \n",
      " decoder_block_2 (DecoderBlock)  (None, 16, 16, 256)  728064     ['decoder_block_1[0][0]',        \n",
      "                                                                  'encoder_block_4[0][1]']        \n",
      "                                                                                                  \n",
      " decoder_block_3 (DecoderBlock)  (None, 32, 32, 128)  331264     ['decoder_block_2[0][0]',        \n",
      "                                                                  'encoder_block_3[0][1]']        \n",
      "                                                                                                  \n",
      " decoder_block_4 (DecoderBlock)  (None, 64, 64, 128)  183808     ['decoder_block_3[0][0]',        \n",
      "                                                                  'encoder_block_2[0][1]']        \n",
      "                                                                                                  \n",
      " decoder_block_5 (DecoderBlock)  (None, 128, 128, 64  83712      ['decoder_block_4[0][0]',        \n",
      "                                )                                 'encoder_block_1[0][1]']        \n",
      "                                                                                                  \n",
      " decoder_block_6 (DecoderBlock)  (None, 256, 256, 32  21376      ['decoder_block_5[0][0]',        \n",
      "                                )                                 'encoder_block[0][1]']          \n",
      "                                                                                                  \n",
      " out_block (OutBlock)           (None, 256, 256, 1)  907         ['decoder_block_6[0][0]']        \n",
      "                                                                                                  \n",
      "==================================================================================================\n",
      "Total params: 6,366,054\n",
      "Trainable params: 6,355,040\n",
      "Non-trainable params: 11,014\n",
      "__________________________________________________________________________________________________\n"
     ]
    }
   ],
   "source": [
    "if model_name == 'u-net':\n",
    "    class UNet(tf.keras.Model):\n",
    "        def __init__(self):\n",
    "            super(UNet, self).__init__()\n",
    "            \n",
    "            self.encoder_block1 = EncoderBlock(num_filters = 32) # 32\n",
    "            self.encoder_block2 = EncoderBlock(num_filters = 64) # 64\n",
    "            self.encoder_block3 = EncoderBlock(num_filters = 128) # 128\n",
    "            self.encoder_block4 = EncoderBlock(num_filters = 128) # 128\n",
    "            self.encoder_block5 = EncoderBlock(num_filters = 256) # 256\n",
    "            self.encoder_block6 = EncoderBlock(num_filters = 256) # 256\n",
    "            self.encoder_block7 = EncoderBlock(num_filters=256)# 256\n",
    "            self.center = ConvBlock(num_filters=512)# 512 conv b56ck\n",
    "            self.decoder_block7 = DecoderBlock(num_filters=256)# 256\n",
    "            self.decoder_block6 = DecoderBlock(num_filters=256)# 256\n",
    "            self.decoder_block5 = DecoderBlock(num_filters=256)# 256\n",
    "            self.decoder_block4 = DecoderBlock(num_filters=128)\n",
    "            self.decoder_block3 = DecoderBlock(num_filters=128)\n",
    "            self.decoder_block2 = DecoderBlock(num_filters=64)# 64\n",
    "            self.decoder_block1 = DecoderBlock(num_filters=32)# 32\n",
    "            self.output_conv = OutBlock(num_filters=1)\n",
    "        def call(self, inputs, training=True):\n",
    "            encoder1_pool, encoder1 = self.encoder_block1(inputs)# output 2개\n",
    "            encoder2_pool, encoder2 = self.encoder_block2(encoder1_pool)# output 2개\n",
    "            encoder3_pool, encoder3 = self.encoder_block3(encoder2_pool)# output 2개\n",
    "            encoder4_pool, encoder4 = self.encoder_block4(encoder3_pool)\n",
    "            encoder5_pool, encoder5 = self.encoder_block5(encoder4_pool)\n",
    "            encoder6_pool, encoder6 = self.encoder_block6(encoder5_pool)\n",
    "            encoder7_pool, encoder7 = self.encoder_block7(encoder6_pool)\n",
    "            center = self.center(encoder7_pool)\n",
    "            decoder7 = self.decoder_block7(center, encoder7)\n",
    "            decoder6 = self.decoder_block6(decoder7, encoder6)\n",
    "            decoder5 = self.decoder_block5(decoder6, encoder5)\n",
    "            decoder4 = self.decoder_block4(decoder5, encoder4)\n",
    "            decoder3 = self.decoder_block3(decoder4, encoder3)# input 2개\n",
    "            decoder2 = self.decoder_block2(decoder3, encoder2)# input 2개\n",
    "            decoder1 = self.decoder_block1(decoder2, encoder1)# input 2개\n",
    "            outputs =self.output_conv(decoder1)\n",
    "            return outputs\n",
    "        \n",
    "        def model(self):\n",
    "            x = tf.keras.Input(shape=(256, 256, 3))\n",
    "            return tf.keras.Model(inputs=[x], outputs=self.call(x))\n",
    "\n",
    "UNet().model().summary()"
   ]
  },
  {
   "cell_type": "markdown",
   "metadata": {
    "id": "Pipmu_yo-FnW"
   },
   "source": [
    "#### Create a U-Net model\n",
    "* 위에서 구현한 Class들을 생성해 최종적으로 U-net 모델을 구현해준다.\n"
   ]
  },
  {
   "cell_type": "code",
   "execution_count": 31,
   "metadata": {
    "executionInfo": {
     "elapsed": 7,
     "status": "ok",
     "timestamp": 1704963200196,
     "user": {
      "displayName": "JIHAN KIM",
      "userId": "14820648192014375113"
     },
     "user_tz": -540
    },
    "id": "kHOXjtBp-FnX",
    "ExecuteTime": {
     "end_time": "2024-01-14T00:28:59.282254500Z",
     "start_time": "2024-01-14T00:28:59.123066100Z"
    }
   },
   "outputs": [],
   "source": [
    "if model_name == 'u-net':\n",
    "    unet_model = UNet()"
   ]
  },
  {
   "cell_type": "markdown",
   "metadata": {
    "id": "QYE_8SHR-Fnf"
   },
   "source": [
    "### Defining custom metrics and loss functions\n",
    "\n",
    "우리가 사용할 loss function은 다음과 같다.\n",
    "* binary cross entropy\n",
    "* dice_loss\n",
    "\n",
    "* Image Segmentation Task에서 정답을 더 잘 찾아내기위해 새로운 Loss를 추가해 사용한다.\n",
    "> [논문](http://campar.in.tum.de/pub/milletari2016Vnet/milletari2016Vnet.pdf)에 나온 Dice coefficient 수식\n",
    "\n",
    "$$D = \\frac{2 \\sum_{i}^{N} p_{i}g_{i}}{\\sum_{i}^{N} p_{i}^{2} + \\sum_{i}^{N} g_{i}^{2}}$$\n",
    "\n",
    "> Dice loss를 추가하는 이유는 segmentation task를 더 잘 수행하기위해서이다.\n",
    "\n",
    "> Cross-entropy loss와 Dice loss를 같이 사용해 meanIoU를 더 올리도록 학습할 수 있다."
   ]
  },
  {
   "cell_type": "code",
   "execution_count": 32,
   "metadata": {
    "executionInfo": {
     "elapsed": 7,
     "status": "ok",
     "timestamp": 1704963200196,
     "user": {
      "displayName": "JIHAN KIM",
      "userId": "14820648192014375113"
     },
     "user_tz": -540
    },
    "id": "zZuy9BOZ-Fng",
    "ExecuteTime": {
     "end_time": "2024-01-14T00:28:59.283254100Z",
     "start_time": "2024-01-14T00:28:59.214734Z"
    }
   },
   "outputs": [],
   "source": [
    "def dice_coeff(y_true, y_pred):\n",
    "    smooth = 1e-10\n",
    "    # Flatten\n",
    "    y_true_f = tf.reshape(y_true, [-1])\n",
    "    y_pred_f = tf.reshape(y_pred, [-1])\n",
    "    intersection = tf.reduce_sum(y_true_f * y_pred_f)\n",
    "    score = (2. * intersection + smooth) / (tf.reduce_sum(tf.square(y_true_f)) + \\\n",
    "                                            tf.reduce_sum(tf.square(y_pred_f)) + smooth)\n",
    "\n",
    "    return score"
   ]
  },
  {
   "cell_type": "code",
   "execution_count": 33,
   "metadata": {
    "executionInfo": {
     "elapsed": 6,
     "status": "ok",
     "timestamp": 1704963200196,
     "user": {
      "displayName": "JIHAN KIM",
      "userId": "14820648192014375113"
     },
     "user_tz": -540
    },
    "id": "h9O2b-BR-Fni",
    "ExecuteTime": {
     "end_time": "2024-01-14T00:28:59.324890100Z",
     "start_time": "2024-01-14T00:28:59.228734800Z"
    }
   },
   "outputs": [],
   "source": [
    "def dice_loss(y_true, y_pred):\n",
    "    loss = 1 - dice_coeff(y_true, y_pred)\n",
    "    return loss"
   ]
  },
  {
   "cell_type": "markdown",
   "metadata": {
    "id": "RgoERD3Z-Fnl"
   },
   "source": [
    "* Dice Loss가 최대화되는 방향으로 구해지기 때문에, 아래와 같이 사용한다.\n",
    "* 새로운 Loss function을 사용하기위해서 기존에 사용하였던 Binary crossentropy loss와 새로 구현한 Dice loss를 더하는 방식으로 구성한다."
   ]
  },
  {
   "cell_type": "code",
   "execution_count": 34,
   "metadata": {
    "executionInfo": {
     "elapsed": 6,
     "status": "ok",
     "timestamp": 1704963200196,
     "user": {
      "displayName": "JIHAN KIM",
      "userId": "14820648192014375113"
     },
     "user_tz": -540
    },
    "id": "u4sFBAc7-Fnm",
    "ExecuteTime": {
     "end_time": "2024-01-14T00:28:59.326889300Z",
     "start_time": "2024-01-14T00:28:59.245737400Z"
    }
   },
   "outputs": [],
   "source": [
    "def bce_dice_loss(y_true, y_pred):\n",
    "    loss = tf.reduce_mean(losses.binary_crossentropy(y_true, y_pred)) + \\\n",
    "          dice_loss(y_true, y_pred)\n",
    "\n",
    "    return loss"
   ]
  },
  {
   "cell_type": "code",
   "execution_count": 35,
   "metadata": {
    "executionInfo": {
     "elapsed": 6,
     "status": "ok",
     "timestamp": 1704963200196,
     "user": {
      "displayName": "JIHAN KIM",
      "userId": "14820648192014375113"
     },
     "user_tz": -540
    },
    "id": "Xu1CdEa--Fnp",
    "ExecuteTime": {
     "end_time": "2024-01-14T00:28:59.328888500Z",
     "start_time": "2024-01-14T00:28:59.261739700Z"
    }
   },
   "outputs": [],
   "source": [
    "optimizer = tf.keras.optimizers.Adam(1e-4)"
   ]
  },
  {
   "cell_type": "markdown",
   "metadata": {
    "id": "UdHEALGH-Fnt"
   },
   "source": [
    "### Select a model"
   ]
  },
  {
   "cell_type": "code",
   "outputs": [],
   "source": [
    "# model.build(input_shape=(None, 256, 256, 3))"
   ],
   "metadata": {
    "collapsed": false,
    "ExecuteTime": {
     "end_time": "2024-01-14T00:28:59.344895300Z",
     "start_time": "2024-01-14T00:28:59.276254Z"
    }
   },
   "execution_count": 36
  },
  {
   "cell_type": "code",
   "execution_count": 37,
   "metadata": {
    "colab": {
     "base_uri": "https://localhost:8080/"
    },
    "executionInfo": {
     "elapsed": 6,
     "status": "ok",
     "timestamp": 1704963200196,
     "user": {
      "displayName": "JIHAN KIM",
      "userId": "14820648192014375113"
     },
     "user_tz": -540
    },
    "id": "-3LcQj6f-Fnu",
    "outputId": "1d615e22-7e4e-4ab0-ae45-8fa27c812095",
    "ExecuteTime": {
     "end_time": "2024-01-14T00:28:59.346894900Z",
     "start_time": "2024-01-14T00:28:59.294255800Z"
    }
   },
   "outputs": [
    {
     "name": "stdout",
     "output_type": "stream",
     "text": [
      "select the U-Net model\n"
     ]
    }
   ],
   "source": [
    "if model_name == 'ed_model':\n",
    "    print('select the Encoder-Decoder model')\n",
    "    model = ed_model\n",
    "\n",
    "if model_name == 'u-net':\n",
    "    print('select the U-Net model')\n",
    "    model = unet_model"
   ]
  },
  {
   "cell_type": "markdown",
   "metadata": {
    "id": "ngGWOhkI-Fn5"
   },
   "source": [
    "### Checkpoints"
   ]
  },
  {
   "cell_type": "code",
   "execution_count": 38,
   "metadata": {
    "executionInfo": {
     "elapsed": 4,
     "status": "ok",
     "timestamp": 1704963200196,
     "user": {
      "displayName": "JIHAN KIM",
      "userId": "14820648192014375113"
     },
     "user_tz": -540
    },
    "id": "3v6VJT6A-Fn6",
    "ExecuteTime": {
     "end_time": "2024-01-14T00:28:59.399827400Z",
     "start_time": "2024-01-14T00:28:59.310260400Z"
    }
   },
   "outputs": [],
   "source": [
    "if not tf.io.gfile.exists(checkpoint_dir):\n",
    "    tf.io.gfile.makedirs(checkpoint_dir)\n",
    "checkpoint_prefix = os.path.join(checkpoint_dir, \"ckpt\")\n",
    "\n",
    "if is_train:\n",
    "    checkpoint = tf.train.Checkpoint(optimizer=optimizer,\n",
    "                                   model=model)\n",
    "else:\n",
    "    checkpoint = tf.train.Checkpoint(model=model)"
   ]
  },
  {
   "cell_type": "markdown",
   "metadata": {
    "id": "xWR8Je2--Fn8"
   },
   "source": [
    "## Train your model\n",
    "* 모델 학습 이전에 모델에서 예측한 이미지를 출력할 수 있는 함수를 작성해 모델 성능 테스트에 사용하자."
   ]
  },
  {
   "cell_type": "code",
   "execution_count": 39,
   "metadata": {
    "executionInfo": {
     "elapsed": 4,
     "status": "ok",
     "timestamp": 1704963200196,
     "user": {
      "displayName": "JIHAN KIM",
      "userId": "14820648192014375113"
     },
     "user_tz": -540
    },
    "id": "nDzcsMHm-Fn9",
    "ExecuteTime": {
     "end_time": "2024-01-14T00:28:59.404827700Z",
     "start_time": "2024-01-14T00:28:59.325891200Z"
    }
   },
   "outputs": [],
   "source": [
    "## Define print function\n",
    "def print_images():\n",
    "    for test_images, test_labels in test_dataset.take(1):\n",
    "        predictions = model(test_images, training=False)\n",
    "\n",
    "        plt.figure(figsize=(10, 20))\n",
    "        plt.subplot(1, 3, 1)\n",
    "        plt.imshow(test_images[0,: , :, :])\n",
    "        plt.title(\"Input image\")\n",
    "\n",
    "        plt.subplot(1, 3, 2)\n",
    "        plt.imshow(test_labels[0, :, :, 0])\n",
    "        plt.title(\"Actual Mask\")\n",
    "\n",
    "        plt.subplot(1, 3, 3)\n",
    "        plt.imshow(predictions[0, :, :, 0])\n",
    "        plt.title(\"Predicted Mask\")\n",
    "        plt.show()"
   ]
  },
  {
   "cell_type": "markdown",
   "metadata": {
    "id": "MdOVRlHo-FoB"
   },
   "source": [
    "### Training - `tf.GradientTape()` 함수 이용\n",
    "* 학습을 진행하며, 위에서 구성한 Train dataset과 Test dataset등을 이용해 학습을 진행한다.\n",
    "* 학습 데이터의 갯수가 부족하기때문에 Test dataset을 Validation dataset으로 사용한다."
   ]
  },
  {
   "cell_type": "code",
   "execution_count": 40,
   "metadata": {
    "colab": {
     "background_save": true,
     "base_uri": "https://localhost:8080/",
     "height": 327
    },
    "id": "e-0q7La3-FoB",
    "ExecuteTime": {
     "end_time": "2024-01-14T00:29:07.517344200Z",
     "start_time": "2024-01-14T00:28:59.345894900Z"
    }
   },
   "outputs": [
    {
     "ename": "KeyboardInterrupt",
     "evalue": "",
     "output_type": "error",
     "traceback": [
      "\u001B[1;31m---------------------------------------------------------------------------\u001B[0m",
      "\u001B[1;31mKeyboardInterrupt\u001B[0m                         Traceback (most recent call last)",
      "\u001B[1;32mF:\\Soma\\temp\\ipykernel_17868\\370231656.py\u001B[0m in \u001B[0;36m?\u001B[1;34m()\u001B[0m\n\u001B[0;32m     13\u001B[0m         \u001B[0mglobal_step\u001B[0m \u001B[1;33m=\u001B[0m \u001B[0mglobal_step\u001B[0m \u001B[1;33m+\u001B[0m \u001B[1;36m1\u001B[0m\u001B[1;33m\u001B[0m\u001B[1;33m\u001B[0m\u001B[0m\n\u001B[0;32m     14\u001B[0m \u001B[1;33m\u001B[0m\u001B[0m\n\u001B[0;32m     15\u001B[0m         \u001B[1;32mwith\u001B[0m \u001B[0mtf\u001B[0m\u001B[1;33m.\u001B[0m\u001B[0mGradientTape\u001B[0m\u001B[1;33m(\u001B[0m\u001B[1;33m)\u001B[0m \u001B[1;32mas\u001B[0m \u001B[0mtape\u001B[0m\u001B[1;33m:\u001B[0m \u001B[1;31m# 모델 학습 파트\u001B[0m\u001B[1;33m\u001B[0m\u001B[1;33m\u001B[0m\u001B[0m\n\u001B[0;32m     16\u001B[0m             \u001B[1;31m# images [batch_size, 256,256,3]\u001B[0m\u001B[1;33m\u001B[0m\u001B[1;33m\u001B[0m\u001B[0m\n\u001B[1;32m---> 17\u001B[1;33m             \u001B[0mpredictions\u001B[0m \u001B[1;33m=\u001B[0m \u001B[0mmodel\u001B[0m\u001B[1;33m(\u001B[0m\u001B[0mimages\u001B[0m\u001B[1;33m,\u001B[0m \u001B[0mtraining\u001B[0m\u001B[1;33m=\u001B[0m\u001B[1;32mTrue\u001B[0m\u001B[1;33m)\u001B[0m\u001B[1;33m\u001B[0m\u001B[1;33m\u001B[0m\u001B[0m\n\u001B[0m\u001B[0;32m     18\u001B[0m             \u001B[1;31m# label [batch_size, 256, 256, 1]\u001B[0m\u001B[1;33m\u001B[0m\u001B[1;33m\u001B[0m\u001B[0m\n\u001B[0;32m     19\u001B[0m             \u001B[0mloss\u001B[0m \u001B[1;33m=\u001B[0m \u001B[0mbce_dice_loss\u001B[0m\u001B[1;33m(\u001B[0m\u001B[0mlabels\u001B[0m\u001B[1;33m,\u001B[0m \u001B[0mpredictions\u001B[0m\u001B[1;33m)\u001B[0m\u001B[1;33m\u001B[0m\u001B[1;33m\u001B[0m\u001B[0m\n\u001B[0;32m     20\u001B[0m \u001B[1;33m\u001B[0m\u001B[0m\n",
      "\u001B[1;32mF:\\Anaconda3_envs\\tensor2\\lib\\site-packages\\keras\\utils\\traceback_utils.py\u001B[0m in \u001B[0;36m?\u001B[1;34m(*args, **kwargs)\u001B[0m\n\u001B[0;32m     68\u001B[0m             \u001B[1;31m# To get the full stack trace, call:\u001B[0m\u001B[1;33m\u001B[0m\u001B[1;33m\u001B[0m\u001B[0m\n\u001B[0;32m     69\u001B[0m             \u001B[1;31m# `tf.debugging.disable_traceback_filtering()`\u001B[0m\u001B[1;33m\u001B[0m\u001B[1;33m\u001B[0m\u001B[0m\n\u001B[0;32m     70\u001B[0m             \u001B[1;32mraise\u001B[0m \u001B[0me\u001B[0m\u001B[1;33m.\u001B[0m\u001B[0mwith_traceback\u001B[0m\u001B[1;33m(\u001B[0m\u001B[0mfiltered_tb\u001B[0m\u001B[1;33m)\u001B[0m \u001B[1;32mfrom\u001B[0m \u001B[1;32mNone\u001B[0m\u001B[1;33m\u001B[0m\u001B[1;33m\u001B[0m\u001B[0m\n\u001B[0;32m     71\u001B[0m         \u001B[1;32mfinally\u001B[0m\u001B[1;33m:\u001B[0m\u001B[1;33m\u001B[0m\u001B[1;33m\u001B[0m\u001B[0m\n\u001B[1;32m---> 72\u001B[1;33m             \u001B[1;32mdel\u001B[0m \u001B[0mfiltered_tb\u001B[0m\u001B[1;33m\u001B[0m\u001B[1;33m\u001B[0m\u001B[0m\n\u001B[0m",
      "\u001B[1;32mF:\\Anaconda3_envs\\tensor2\\lib\\site-packages\\keras\\engine\\training.py\u001B[0m in \u001B[0;36m?\u001B[1;34m(self, *args, **kwargs)\u001B[0m\n\u001B[0;32m    553\u001B[0m                 \u001B[0msuper\u001B[0m\u001B[1;33m(\u001B[0m\u001B[1;33m)\u001B[0m\u001B[1;33m.\u001B[0m\u001B[0m__call__\u001B[0m\u001B[1;33m(\u001B[0m\u001B[0minputs\u001B[0m\u001B[1;33m,\u001B[0m \u001B[1;33m*\u001B[0m\u001B[0mcopied_args\u001B[0m\u001B[1;33m,\u001B[0m \u001B[1;33m**\u001B[0m\u001B[0mcopied_kwargs\u001B[0m\u001B[1;33m)\u001B[0m\u001B[1;33m\u001B[0m\u001B[1;33m\u001B[0m\u001B[0m\n\u001B[0;32m    554\u001B[0m \u001B[1;33m\u001B[0m\u001B[0m\n\u001B[0;32m    555\u001B[0m             \u001B[0mlayout_map_lib\u001B[0m\u001B[1;33m.\u001B[0m\u001B[0m_map_subclass_model_variable\u001B[0m\u001B[1;33m(\u001B[0m\u001B[0mself\u001B[0m\u001B[1;33m,\u001B[0m \u001B[0mself\u001B[0m\u001B[1;33m.\u001B[0m\u001B[0m_layout_map\u001B[0m\u001B[1;33m)\u001B[0m\u001B[1;33m\u001B[0m\u001B[1;33m\u001B[0m\u001B[0m\n\u001B[0;32m    556\u001B[0m \u001B[1;33m\u001B[0m\u001B[0m\n\u001B[1;32m--> 557\u001B[1;33m         \u001B[1;32mreturn\u001B[0m \u001B[0msuper\u001B[0m\u001B[1;33m(\u001B[0m\u001B[1;33m)\u001B[0m\u001B[1;33m.\u001B[0m\u001B[0m__call__\u001B[0m\u001B[1;33m(\u001B[0m\u001B[1;33m*\u001B[0m\u001B[0margs\u001B[0m\u001B[1;33m,\u001B[0m \u001B[1;33m**\u001B[0m\u001B[0mkwargs\u001B[0m\u001B[1;33m)\u001B[0m\u001B[1;33m\u001B[0m\u001B[1;33m\u001B[0m\u001B[0m\n\u001B[0m",
      "\u001B[1;32mF:\\Anaconda3_envs\\tensor2\\lib\\site-packages\\keras\\utils\\traceback_utils.py\u001B[0m in \u001B[0;36m?\u001B[1;34m(*args, **kwargs)\u001B[0m\n\u001B[0;32m     68\u001B[0m             \u001B[1;31m# To get the full stack trace, call:\u001B[0m\u001B[1;33m\u001B[0m\u001B[1;33m\u001B[0m\u001B[0m\n\u001B[0;32m     69\u001B[0m             \u001B[1;31m# `tf.debugging.disable_traceback_filtering()`\u001B[0m\u001B[1;33m\u001B[0m\u001B[1;33m\u001B[0m\u001B[0m\n\u001B[0;32m     70\u001B[0m             \u001B[1;32mraise\u001B[0m \u001B[0me\u001B[0m\u001B[1;33m.\u001B[0m\u001B[0mwith_traceback\u001B[0m\u001B[1;33m(\u001B[0m\u001B[0mfiltered_tb\u001B[0m\u001B[1;33m)\u001B[0m \u001B[1;32mfrom\u001B[0m \u001B[1;32mNone\u001B[0m\u001B[1;33m\u001B[0m\u001B[1;33m\u001B[0m\u001B[0m\n\u001B[0;32m     71\u001B[0m         \u001B[1;32mfinally\u001B[0m\u001B[1;33m:\u001B[0m\u001B[1;33m\u001B[0m\u001B[1;33m\u001B[0m\u001B[0m\n\u001B[1;32m---> 72\u001B[1;33m             \u001B[1;32mdel\u001B[0m \u001B[0mfiltered_tb\u001B[0m\u001B[1;33m\u001B[0m\u001B[1;33m\u001B[0m\u001B[0m\n\u001B[0m",
      "\u001B[1;32mF:\\Anaconda3_envs\\tensor2\\lib\\site-packages\\keras\\engine\\base_layer.py\u001B[0m in \u001B[0;36m?\u001B[1;34m(self, *args, **kwargs)\u001B[0m\n\u001B[0;32m   1093\u001B[0m \u001B[1;33m\u001B[0m\u001B[0m\n\u001B[0;32m   1094\u001B[0m                 with autocast_variable.enable_auto_cast_variables(\n\u001B[0;32m   1095\u001B[0m                     \u001B[0mself\u001B[0m\u001B[1;33m.\u001B[0m\u001B[0m_compute_dtype_object\u001B[0m\u001B[1;33m\u001B[0m\u001B[1;33m\u001B[0m\u001B[0m\n\u001B[0;32m   1096\u001B[0m                 ):\n\u001B[1;32m-> 1097\u001B[1;33m                     \u001B[0moutputs\u001B[0m \u001B[1;33m=\u001B[0m \u001B[0mcall_fn\u001B[0m\u001B[1;33m(\u001B[0m\u001B[0minputs\u001B[0m\u001B[1;33m,\u001B[0m \u001B[1;33m*\u001B[0m\u001B[0margs\u001B[0m\u001B[1;33m,\u001B[0m \u001B[1;33m**\u001B[0m\u001B[0mkwargs\u001B[0m\u001B[1;33m)\u001B[0m\u001B[1;33m\u001B[0m\u001B[1;33m\u001B[0m\u001B[0m\n\u001B[0m\u001B[0;32m   1098\u001B[0m \u001B[1;33m\u001B[0m\u001B[0m\n\u001B[0;32m   1099\u001B[0m                 \u001B[1;32mif\u001B[0m \u001B[0mself\u001B[0m\u001B[1;33m.\u001B[0m\u001B[0m_activity_regularizer\u001B[0m\u001B[1;33m:\u001B[0m\u001B[1;33m\u001B[0m\u001B[1;33m\u001B[0m\u001B[0m\n\u001B[0;32m   1100\u001B[0m                     \u001B[0mself\u001B[0m\u001B[1;33m.\u001B[0m\u001B[0m_handle_activity_regularization\u001B[0m\u001B[1;33m(\u001B[0m\u001B[0minputs\u001B[0m\u001B[1;33m,\u001B[0m \u001B[0moutputs\u001B[0m\u001B[1;33m)\u001B[0m\u001B[1;33m\u001B[0m\u001B[1;33m\u001B[0m\u001B[0m\n",
      "\u001B[1;32mF:\\Anaconda3_envs\\tensor2\\lib\\site-packages\\keras\\utils\\traceback_utils.py\u001B[0m in \u001B[0;36m?\u001B[1;34m(*args, **kwargs)\u001B[0m\n\u001B[0;32m    154\u001B[0m                 \u001B[0mnew_e\u001B[0m \u001B[1;33m=\u001B[0m \u001B[0me\u001B[0m\u001B[1;33m\u001B[0m\u001B[1;33m\u001B[0m\u001B[0m\n\u001B[0;32m    155\u001B[0m             \u001B[1;32mraise\u001B[0m \u001B[0mnew_e\u001B[0m\u001B[1;33m.\u001B[0m\u001B[0mwith_traceback\u001B[0m\u001B[1;33m(\u001B[0m\u001B[0me\u001B[0m\u001B[1;33m.\u001B[0m\u001B[0m__traceback__\u001B[0m\u001B[1;33m)\u001B[0m \u001B[1;32mfrom\u001B[0m \u001B[1;32mNone\u001B[0m\u001B[1;33m\u001B[0m\u001B[1;33m\u001B[0m\u001B[0m\n\u001B[0;32m    156\u001B[0m         \u001B[1;32mfinally\u001B[0m\u001B[1;33m:\u001B[0m\u001B[1;33m\u001B[0m\u001B[1;33m\u001B[0m\u001B[0m\n\u001B[0;32m    157\u001B[0m             \u001B[1;32mdel\u001B[0m \u001B[0msignature\u001B[0m\u001B[1;33m\u001B[0m\u001B[1;33m\u001B[0m\u001B[0m\n\u001B[1;32m--> 158\u001B[1;33m             \u001B[1;32mdel\u001B[0m \u001B[0mbound_signature\u001B[0m\u001B[1;33m\u001B[0m\u001B[1;33m\u001B[0m\u001B[0m\n\u001B[0m",
      "\u001B[1;32mF:\\Soma\\temp\\ipykernel_17868\\3393804166.py\u001B[0m in \u001B[0;36m?\u001B[1;34m(self, inputs, training)\u001B[0m\n\u001B[0;32m     22\u001B[0m         \u001B[1;32mdef\u001B[0m \u001B[0mcall\u001B[0m\u001B[1;33m(\u001B[0m\u001B[0mself\u001B[0m\u001B[1;33m,\u001B[0m \u001B[0minputs\u001B[0m\u001B[1;33m,\u001B[0m \u001B[0mtraining\u001B[0m\u001B[1;33m=\u001B[0m\u001B[1;32mTrue\u001B[0m\u001B[1;33m)\u001B[0m\u001B[1;33m:\u001B[0m\u001B[1;33m\u001B[0m\u001B[1;33m\u001B[0m\u001B[0m\n\u001B[1;32m---> 23\u001B[1;33m             \u001B[0mencoder1_pool\u001B[0m\u001B[1;33m,\u001B[0m \u001B[0mencoder1\u001B[0m \u001B[1;33m=\u001B[0m \u001B[0mself\u001B[0m\u001B[1;33m.\u001B[0m\u001B[0mencoder_block1\u001B[0m\u001B[1;33m(\u001B[0m\u001B[0minputs\u001B[0m\u001B[1;33m)\u001B[0m\u001B[1;31m# output 2개\u001B[0m\u001B[1;33m\u001B[0m\u001B[1;33m\u001B[0m\u001B[0m\n\u001B[0m\u001B[0;32m     24\u001B[0m             \u001B[0mencoder2_pool\u001B[0m\u001B[1;33m,\u001B[0m \u001B[0mencoder2\u001B[0m \u001B[1;33m=\u001B[0m \u001B[0mself\u001B[0m\u001B[1;33m.\u001B[0m\u001B[0mencoder_block2\u001B[0m\u001B[1;33m(\u001B[0m\u001B[0mencoder1_pool\u001B[0m\u001B[1;33m)\u001B[0m\u001B[1;31m# output 2개\u001B[0m\u001B[1;33m\u001B[0m\u001B[1;33m\u001B[0m\u001B[0m\n\u001B[0;32m     25\u001B[0m             \u001B[0mencoder3_pool\u001B[0m\u001B[1;33m,\u001B[0m \u001B[0mencoder3\u001B[0m \u001B[1;33m=\u001B[0m \u001B[0mself\u001B[0m\u001B[1;33m.\u001B[0m\u001B[0mencoder_block3\u001B[0m\u001B[1;33m(\u001B[0m\u001B[0mencoder2_pool\u001B[0m\u001B[1;33m)\u001B[0m\u001B[1;31m# output 2개\u001B[0m\u001B[1;33m\u001B[0m\u001B[1;33m\u001B[0m\u001B[0m\n\u001B[0;32m     26\u001B[0m             \u001B[0mencoder4_pool\u001B[0m\u001B[1;33m,\u001B[0m \u001B[0mencoder4\u001B[0m \u001B[1;33m=\u001B[0m \u001B[0mself\u001B[0m\u001B[1;33m.\u001B[0m\u001B[0mencoder_block4\u001B[0m\u001B[1;33m(\u001B[0m\u001B[0mencoder3_pool\u001B[0m\u001B[1;33m)\u001B[0m\u001B[1;33m\u001B[0m\u001B[1;33m\u001B[0m\u001B[0m\n",
      "\u001B[1;32mF:\\Anaconda3_envs\\tensor2\\lib\\site-packages\\keras\\utils\\traceback_utils.py\u001B[0m in \u001B[0;36m?\u001B[1;34m(*args, **kwargs)\u001B[0m\n\u001B[0;32m     68\u001B[0m             \u001B[1;31m# To get the full stack trace, call:\u001B[0m\u001B[1;33m\u001B[0m\u001B[1;33m\u001B[0m\u001B[0m\n\u001B[0;32m     69\u001B[0m             \u001B[1;31m# `tf.debugging.disable_traceback_filtering()`\u001B[0m\u001B[1;33m\u001B[0m\u001B[1;33m\u001B[0m\u001B[0m\n\u001B[0;32m     70\u001B[0m             \u001B[1;32mraise\u001B[0m \u001B[0me\u001B[0m\u001B[1;33m.\u001B[0m\u001B[0mwith_traceback\u001B[0m\u001B[1;33m(\u001B[0m\u001B[0mfiltered_tb\u001B[0m\u001B[1;33m)\u001B[0m \u001B[1;32mfrom\u001B[0m \u001B[1;32mNone\u001B[0m\u001B[1;33m\u001B[0m\u001B[1;33m\u001B[0m\u001B[0m\n\u001B[0;32m     71\u001B[0m         \u001B[1;32mfinally\u001B[0m\u001B[1;33m:\u001B[0m\u001B[1;33m\u001B[0m\u001B[1;33m\u001B[0m\u001B[0m\n\u001B[1;32m---> 72\u001B[1;33m             \u001B[1;32mdel\u001B[0m \u001B[0mfiltered_tb\u001B[0m\u001B[1;33m\u001B[0m\u001B[1;33m\u001B[0m\u001B[0m\n\u001B[0m",
      "\u001B[1;32mF:\\Anaconda3_envs\\tensor2\\lib\\site-packages\\keras\\engine\\training.py\u001B[0m in \u001B[0;36m?\u001B[1;34m(self, *args, **kwargs)\u001B[0m\n\u001B[0;32m    553\u001B[0m                 \u001B[0msuper\u001B[0m\u001B[1;33m(\u001B[0m\u001B[1;33m)\u001B[0m\u001B[1;33m.\u001B[0m\u001B[0m__call__\u001B[0m\u001B[1;33m(\u001B[0m\u001B[0minputs\u001B[0m\u001B[1;33m,\u001B[0m \u001B[1;33m*\u001B[0m\u001B[0mcopied_args\u001B[0m\u001B[1;33m,\u001B[0m \u001B[1;33m**\u001B[0m\u001B[0mcopied_kwargs\u001B[0m\u001B[1;33m)\u001B[0m\u001B[1;33m\u001B[0m\u001B[1;33m\u001B[0m\u001B[0m\n\u001B[0;32m    554\u001B[0m \u001B[1;33m\u001B[0m\u001B[0m\n\u001B[0;32m    555\u001B[0m             \u001B[0mlayout_map_lib\u001B[0m\u001B[1;33m.\u001B[0m\u001B[0m_map_subclass_model_variable\u001B[0m\u001B[1;33m(\u001B[0m\u001B[0mself\u001B[0m\u001B[1;33m,\u001B[0m \u001B[0mself\u001B[0m\u001B[1;33m.\u001B[0m\u001B[0m_layout_map\u001B[0m\u001B[1;33m)\u001B[0m\u001B[1;33m\u001B[0m\u001B[1;33m\u001B[0m\u001B[0m\n\u001B[0;32m    556\u001B[0m \u001B[1;33m\u001B[0m\u001B[0m\n\u001B[1;32m--> 557\u001B[1;33m         \u001B[1;32mreturn\u001B[0m \u001B[0msuper\u001B[0m\u001B[1;33m(\u001B[0m\u001B[1;33m)\u001B[0m\u001B[1;33m.\u001B[0m\u001B[0m__call__\u001B[0m\u001B[1;33m(\u001B[0m\u001B[1;33m*\u001B[0m\u001B[0margs\u001B[0m\u001B[1;33m,\u001B[0m \u001B[1;33m**\u001B[0m\u001B[0mkwargs\u001B[0m\u001B[1;33m)\u001B[0m\u001B[1;33m\u001B[0m\u001B[1;33m\u001B[0m\u001B[0m\n\u001B[0m",
      "\u001B[1;32mF:\\Anaconda3_envs\\tensor2\\lib\\site-packages\\keras\\utils\\traceback_utils.py\u001B[0m in \u001B[0;36m?\u001B[1;34m(*args, **kwargs)\u001B[0m\n\u001B[0;32m     68\u001B[0m             \u001B[1;31m# To get the full stack trace, call:\u001B[0m\u001B[1;33m\u001B[0m\u001B[1;33m\u001B[0m\u001B[0m\n\u001B[0;32m     69\u001B[0m             \u001B[1;31m# `tf.debugging.disable_traceback_filtering()`\u001B[0m\u001B[1;33m\u001B[0m\u001B[1;33m\u001B[0m\u001B[0m\n\u001B[0;32m     70\u001B[0m             \u001B[1;32mraise\u001B[0m \u001B[0me\u001B[0m\u001B[1;33m.\u001B[0m\u001B[0mwith_traceback\u001B[0m\u001B[1;33m(\u001B[0m\u001B[0mfiltered_tb\u001B[0m\u001B[1;33m)\u001B[0m \u001B[1;32mfrom\u001B[0m \u001B[1;32mNone\u001B[0m\u001B[1;33m\u001B[0m\u001B[1;33m\u001B[0m\u001B[0m\n\u001B[0;32m     71\u001B[0m         \u001B[1;32mfinally\u001B[0m\u001B[1;33m:\u001B[0m\u001B[1;33m\u001B[0m\u001B[1;33m\u001B[0m\u001B[0m\n\u001B[1;32m---> 72\u001B[1;33m             \u001B[1;32mdel\u001B[0m \u001B[0mfiltered_tb\u001B[0m\u001B[1;33m\u001B[0m\u001B[1;33m\u001B[0m\u001B[0m\n\u001B[0m",
      "\u001B[1;32mF:\\Anaconda3_envs\\tensor2\\lib\\site-packages\\keras\\engine\\base_layer.py\u001B[0m in \u001B[0;36m?\u001B[1;34m(self, *args, **kwargs)\u001B[0m\n\u001B[0;32m   1093\u001B[0m \u001B[1;33m\u001B[0m\u001B[0m\n\u001B[0;32m   1094\u001B[0m                 with autocast_variable.enable_auto_cast_variables(\n\u001B[0;32m   1095\u001B[0m                     \u001B[0mself\u001B[0m\u001B[1;33m.\u001B[0m\u001B[0m_compute_dtype_object\u001B[0m\u001B[1;33m\u001B[0m\u001B[1;33m\u001B[0m\u001B[0m\n\u001B[0;32m   1096\u001B[0m                 ):\n\u001B[1;32m-> 1097\u001B[1;33m                     \u001B[0moutputs\u001B[0m \u001B[1;33m=\u001B[0m \u001B[0mcall_fn\u001B[0m\u001B[1;33m(\u001B[0m\u001B[0minputs\u001B[0m\u001B[1;33m,\u001B[0m \u001B[1;33m*\u001B[0m\u001B[0margs\u001B[0m\u001B[1;33m,\u001B[0m \u001B[1;33m**\u001B[0m\u001B[0mkwargs\u001B[0m\u001B[1;33m)\u001B[0m\u001B[1;33m\u001B[0m\u001B[1;33m\u001B[0m\u001B[0m\n\u001B[0m\u001B[0;32m   1098\u001B[0m \u001B[1;33m\u001B[0m\u001B[0m\n\u001B[0;32m   1099\u001B[0m                 \u001B[1;32mif\u001B[0m \u001B[0mself\u001B[0m\u001B[1;33m.\u001B[0m\u001B[0m_activity_regularizer\u001B[0m\u001B[1;33m:\u001B[0m\u001B[1;33m\u001B[0m\u001B[1;33m\u001B[0m\u001B[0m\n\u001B[0;32m   1100\u001B[0m                     \u001B[0mself\u001B[0m\u001B[1;33m.\u001B[0m\u001B[0m_handle_activity_regularization\u001B[0m\u001B[1;33m(\u001B[0m\u001B[0minputs\u001B[0m\u001B[1;33m,\u001B[0m \u001B[0moutputs\u001B[0m\u001B[1;33m)\u001B[0m\u001B[1;33m\u001B[0m\u001B[1;33m\u001B[0m\u001B[0m\n",
      "\u001B[1;32mF:\\Anaconda3_envs\\tensor2\\lib\\site-packages\\keras\\utils\\traceback_utils.py\u001B[0m in \u001B[0;36m?\u001B[1;34m(*args, **kwargs)\u001B[0m\n\u001B[0;32m    154\u001B[0m                 \u001B[0mnew_e\u001B[0m \u001B[1;33m=\u001B[0m \u001B[0me\u001B[0m\u001B[1;33m\u001B[0m\u001B[1;33m\u001B[0m\u001B[0m\n\u001B[0;32m    155\u001B[0m             \u001B[1;32mraise\u001B[0m \u001B[0mnew_e\u001B[0m\u001B[1;33m.\u001B[0m\u001B[0mwith_traceback\u001B[0m\u001B[1;33m(\u001B[0m\u001B[0me\u001B[0m\u001B[1;33m.\u001B[0m\u001B[0m__traceback__\u001B[0m\u001B[1;33m)\u001B[0m \u001B[1;32mfrom\u001B[0m \u001B[1;32mNone\u001B[0m\u001B[1;33m\u001B[0m\u001B[1;33m\u001B[0m\u001B[0m\n\u001B[0;32m    156\u001B[0m         \u001B[1;32mfinally\u001B[0m\u001B[1;33m:\u001B[0m\u001B[1;33m\u001B[0m\u001B[1;33m\u001B[0m\u001B[0m\n\u001B[0;32m    157\u001B[0m             \u001B[1;32mdel\u001B[0m \u001B[0msignature\u001B[0m\u001B[1;33m\u001B[0m\u001B[1;33m\u001B[0m\u001B[0m\n\u001B[1;32m--> 158\u001B[1;33m             \u001B[1;32mdel\u001B[0m \u001B[0mbound_signature\u001B[0m\u001B[1;33m\u001B[0m\u001B[1;33m\u001B[0m\u001B[0m\n\u001B[0m",
      "\u001B[1;32mF:\\Soma\\temp\\ipykernel_17868\\815110043.py\u001B[0m in \u001B[0;36m?\u001B[1;34m(self, inputs, training)\u001B[0m\n\u001B[0;32m     37\u001B[0m         \u001B[1;32mdef\u001B[0m \u001B[0mcall\u001B[0m\u001B[1;33m(\u001B[0m\u001B[0mself\u001B[0m\u001B[1;33m,\u001B[0m \u001B[0minputs\u001B[0m\u001B[1;33m,\u001B[0m \u001B[0mtraining\u001B[0m\u001B[1;33m=\u001B[0m\u001B[1;32mTrue\u001B[0m\u001B[1;33m)\u001B[0m\u001B[1;33m:\u001B[0m\u001B[1;33m\u001B[0m\u001B[1;33m\u001B[0m\u001B[0m\n\u001B[0;32m     38\u001B[0m             \u001B[0mencoder\u001B[0m \u001B[1;33m=\u001B[0m \u001B[0mself\u001B[0m\u001B[1;33m.\u001B[0m\u001B[0mconv_block\u001B[0m\u001B[1;33m(\u001B[0m\u001B[0minputs\u001B[0m\u001B[1;33m)\u001B[0m\u001B[1;33m\u001B[0m\u001B[1;33m\u001B[0m\u001B[0m\n\u001B[1;32m---> 39\u001B[1;33m             \u001B[0mencoder_pool\u001B[0m \u001B[1;33m=\u001B[0m\u001B[0mself\u001B[0m\u001B[1;33m.\u001B[0m\u001B[0mconv1\u001B[0m\u001B[1;33m(\u001B[0m\u001B[0mencoder\u001B[0m\u001B[1;33m)\u001B[0m\u001B[1;33m\u001B[0m\u001B[1;33m\u001B[0m\u001B[0m\n\u001B[0m\u001B[0;32m     40\u001B[0m             \u001B[1;32mreturn\u001B[0m \u001B[0mencoder_pool\u001B[0m\u001B[1;33m,\u001B[0m \u001B[0mencoder\u001B[0m\u001B[1;33m\u001B[0m\u001B[1;33m\u001B[0m\u001B[0m\n",
      "\u001B[1;32mF:\\Anaconda3_envs\\tensor2\\lib\\site-packages\\keras\\utils\\traceback_utils.py\u001B[0m in \u001B[0;36m?\u001B[1;34m(*args, **kwargs)\u001B[0m\n\u001B[0;32m     68\u001B[0m             \u001B[1;31m# To get the full stack trace, call:\u001B[0m\u001B[1;33m\u001B[0m\u001B[1;33m\u001B[0m\u001B[0m\n\u001B[0;32m     69\u001B[0m             \u001B[1;31m# `tf.debugging.disable_traceback_filtering()`\u001B[0m\u001B[1;33m\u001B[0m\u001B[1;33m\u001B[0m\u001B[0m\n\u001B[0;32m     70\u001B[0m             \u001B[1;32mraise\u001B[0m \u001B[0me\u001B[0m\u001B[1;33m.\u001B[0m\u001B[0mwith_traceback\u001B[0m\u001B[1;33m(\u001B[0m\u001B[0mfiltered_tb\u001B[0m\u001B[1;33m)\u001B[0m \u001B[1;32mfrom\u001B[0m \u001B[1;32mNone\u001B[0m\u001B[1;33m\u001B[0m\u001B[1;33m\u001B[0m\u001B[0m\n\u001B[0;32m     71\u001B[0m         \u001B[1;32mfinally\u001B[0m\u001B[1;33m:\u001B[0m\u001B[1;33m\u001B[0m\u001B[1;33m\u001B[0m\u001B[0m\n\u001B[1;32m---> 72\u001B[1;33m             \u001B[1;32mdel\u001B[0m \u001B[0mfiltered_tb\u001B[0m\u001B[1;33m\u001B[0m\u001B[1;33m\u001B[0m\u001B[0m\n\u001B[0m",
      "\u001B[1;32mF:\\Anaconda3_envs\\tensor2\\lib\\site-packages\\keras\\engine\\base_layer.py\u001B[0m in \u001B[0;36m?\u001B[1;34m(self, *args, **kwargs)\u001B[0m\n\u001B[0;32m   1093\u001B[0m \u001B[1;33m\u001B[0m\u001B[0m\n\u001B[0;32m   1094\u001B[0m                 with autocast_variable.enable_auto_cast_variables(\n\u001B[0;32m   1095\u001B[0m                     \u001B[0mself\u001B[0m\u001B[1;33m.\u001B[0m\u001B[0m_compute_dtype_object\u001B[0m\u001B[1;33m\u001B[0m\u001B[1;33m\u001B[0m\u001B[0m\n\u001B[0;32m   1096\u001B[0m                 ):\n\u001B[1;32m-> 1097\u001B[1;33m                     \u001B[0moutputs\u001B[0m \u001B[1;33m=\u001B[0m \u001B[0mcall_fn\u001B[0m\u001B[1;33m(\u001B[0m\u001B[0minputs\u001B[0m\u001B[1;33m,\u001B[0m \u001B[1;33m*\u001B[0m\u001B[0margs\u001B[0m\u001B[1;33m,\u001B[0m \u001B[1;33m**\u001B[0m\u001B[0mkwargs\u001B[0m\u001B[1;33m)\u001B[0m\u001B[1;33m\u001B[0m\u001B[1;33m\u001B[0m\u001B[0m\n\u001B[0m\u001B[0;32m   1098\u001B[0m \u001B[1;33m\u001B[0m\u001B[0m\n\u001B[0;32m   1099\u001B[0m                 \u001B[1;32mif\u001B[0m \u001B[0mself\u001B[0m\u001B[1;33m.\u001B[0m\u001B[0m_activity_regularizer\u001B[0m\u001B[1;33m:\u001B[0m\u001B[1;33m\u001B[0m\u001B[1;33m\u001B[0m\u001B[0m\n\u001B[0;32m   1100\u001B[0m                     \u001B[0mself\u001B[0m\u001B[1;33m.\u001B[0m\u001B[0m_handle_activity_regularization\u001B[0m\u001B[1;33m(\u001B[0m\u001B[0minputs\u001B[0m\u001B[1;33m,\u001B[0m \u001B[0moutputs\u001B[0m\u001B[1;33m)\u001B[0m\u001B[1;33m\u001B[0m\u001B[1;33m\u001B[0m\u001B[0m\n",
      "\u001B[1;32mF:\\Anaconda3_envs\\tensor2\\lib\\site-packages\\keras\\utils\\traceback_utils.py\u001B[0m in \u001B[0;36m?\u001B[1;34m(*args, **kwargs)\u001B[0m\n\u001B[0;32m    154\u001B[0m                 \u001B[0mnew_e\u001B[0m \u001B[1;33m=\u001B[0m \u001B[0me\u001B[0m\u001B[1;33m\u001B[0m\u001B[1;33m\u001B[0m\u001B[0m\n\u001B[0;32m    155\u001B[0m             \u001B[1;32mraise\u001B[0m \u001B[0mnew_e\u001B[0m\u001B[1;33m.\u001B[0m\u001B[0mwith_traceback\u001B[0m\u001B[1;33m(\u001B[0m\u001B[0me\u001B[0m\u001B[1;33m.\u001B[0m\u001B[0m__traceback__\u001B[0m\u001B[1;33m)\u001B[0m \u001B[1;32mfrom\u001B[0m \u001B[1;32mNone\u001B[0m\u001B[1;33m\u001B[0m\u001B[1;33m\u001B[0m\u001B[0m\n\u001B[0;32m    156\u001B[0m         \u001B[1;32mfinally\u001B[0m\u001B[1;33m:\u001B[0m\u001B[1;33m\u001B[0m\u001B[1;33m\u001B[0m\u001B[0m\n\u001B[0;32m    157\u001B[0m             \u001B[1;32mdel\u001B[0m \u001B[0msignature\u001B[0m\u001B[1;33m\u001B[0m\u001B[1;33m\u001B[0m\u001B[0m\n\u001B[1;32m--> 158\u001B[1;33m             \u001B[1;32mdel\u001B[0m \u001B[0mbound_signature\u001B[0m\u001B[1;33m\u001B[0m\u001B[1;33m\u001B[0m\u001B[0m\n\u001B[0m",
      "\u001B[1;32mF:\\Anaconda3_envs\\tensor2\\lib\\site-packages\\keras\\layers\\convolutional\\base_conv.py\u001B[0m in \u001B[0;36m?\u001B[1;34m(self, inputs)\u001B[0m\n\u001B[0;32m    279\u001B[0m             outputs = self._jit_compiled_convolution_op(\n\u001B[0;32m    280\u001B[0m                 \u001B[0minputs\u001B[0m\u001B[1;33m,\u001B[0m \u001B[0mtf\u001B[0m\u001B[1;33m.\u001B[0m\u001B[0mconvert_to_tensor\u001B[0m\u001B[1;33m(\u001B[0m\u001B[0mself\u001B[0m\u001B[1;33m.\u001B[0m\u001B[0mkernel\u001B[0m\u001B[1;33m)\u001B[0m\u001B[1;33m\u001B[0m\u001B[1;33m\u001B[0m\u001B[0m\n\u001B[0;32m    281\u001B[0m             )\n\u001B[0;32m    282\u001B[0m         \u001B[1;32melse\u001B[0m\u001B[1;33m:\u001B[0m\u001B[1;33m\u001B[0m\u001B[1;33m\u001B[0m\u001B[0m\n\u001B[1;32m--> 283\u001B[1;33m             \u001B[0moutputs\u001B[0m \u001B[1;33m=\u001B[0m \u001B[0mself\u001B[0m\u001B[1;33m.\u001B[0m\u001B[0mconvolution_op\u001B[0m\u001B[1;33m(\u001B[0m\u001B[0minputs\u001B[0m\u001B[1;33m,\u001B[0m \u001B[0mself\u001B[0m\u001B[1;33m.\u001B[0m\u001B[0mkernel\u001B[0m\u001B[1;33m)\u001B[0m\u001B[1;33m\u001B[0m\u001B[1;33m\u001B[0m\u001B[0m\n\u001B[0m\u001B[0;32m    284\u001B[0m \u001B[1;33m\u001B[0m\u001B[0m\n\u001B[0;32m    285\u001B[0m         \u001B[1;32mif\u001B[0m \u001B[0mself\u001B[0m\u001B[1;33m.\u001B[0m\u001B[0muse_bias\u001B[0m\u001B[1;33m:\u001B[0m\u001B[1;33m\u001B[0m\u001B[1;33m\u001B[0m\u001B[0m\n\u001B[0;32m    286\u001B[0m             \u001B[0moutput_rank\u001B[0m \u001B[1;33m=\u001B[0m \u001B[0moutputs\u001B[0m\u001B[1;33m.\u001B[0m\u001B[0mshape\u001B[0m\u001B[1;33m.\u001B[0m\u001B[0mrank\u001B[0m\u001B[1;33m\u001B[0m\u001B[1;33m\u001B[0m\u001B[0m\n",
      "\u001B[1;32mF:\\Anaconda3_envs\\tensor2\\lib\\site-packages\\keras\\layers\\convolutional\\base_conv.py\u001B[0m in \u001B[0;36m?\u001B[1;34m(self, inputs, kernel)\u001B[0m\n\u001B[0;32m    251\u001B[0m             \u001B[0mtf_padding\u001B[0m \u001B[1;33m=\u001B[0m \u001B[0mself\u001B[0m\u001B[1;33m.\u001B[0m\u001B[0mpadding\u001B[0m\u001B[1;33m.\u001B[0m\u001B[0mupper\u001B[0m\u001B[1;33m(\u001B[0m\u001B[1;33m)\u001B[0m\u001B[1;33m\u001B[0m\u001B[1;33m\u001B[0m\u001B[0m\n\u001B[0;32m    252\u001B[0m         \u001B[1;32melse\u001B[0m\u001B[1;33m:\u001B[0m\u001B[1;33m\u001B[0m\u001B[1;33m\u001B[0m\u001B[0m\n\u001B[0;32m    253\u001B[0m             \u001B[0mtf_padding\u001B[0m \u001B[1;33m=\u001B[0m \u001B[0mself\u001B[0m\u001B[1;33m.\u001B[0m\u001B[0mpadding\u001B[0m\u001B[1;33m\u001B[0m\u001B[1;33m\u001B[0m\u001B[0m\n\u001B[0;32m    254\u001B[0m \u001B[1;33m\u001B[0m\u001B[0m\n\u001B[1;32m--> 255\u001B[1;33m         return tf.nn.convolution(\n\u001B[0m\u001B[0;32m    256\u001B[0m             \u001B[0minputs\u001B[0m\u001B[1;33m,\u001B[0m\u001B[1;33m\u001B[0m\u001B[1;33m\u001B[0m\u001B[0m\n\u001B[0;32m    257\u001B[0m             \u001B[0mkernel\u001B[0m\u001B[1;33m,\u001B[0m\u001B[1;33m\u001B[0m\u001B[1;33m\u001B[0m\u001B[0m\n\u001B[0;32m    258\u001B[0m             \u001B[0mstrides\u001B[0m\u001B[1;33m=\u001B[0m\u001B[0mlist\u001B[0m\u001B[1;33m(\u001B[0m\u001B[0mself\u001B[0m\u001B[1;33m.\u001B[0m\u001B[0mstrides\u001B[0m\u001B[1;33m)\u001B[0m\u001B[1;33m,\u001B[0m\u001B[1;33m\u001B[0m\u001B[1;33m\u001B[0m\u001B[0m\n",
      "\u001B[1;32mF:\\Anaconda3_envs\\tensor2\\lib\\site-packages\\tensorflow\\python\\util\\traceback_utils.py\u001B[0m in \u001B[0;36m?\u001B[1;34m(*args, **kwargs)\u001B[0m\n\u001B[0;32m    151\u001B[0m     \u001B[1;32mexcept\u001B[0m \u001B[0mException\u001B[0m \u001B[1;32mas\u001B[0m \u001B[0me\u001B[0m\u001B[1;33m:\u001B[0m\u001B[1;33m\u001B[0m\u001B[1;33m\u001B[0m\u001B[0m\n\u001B[0;32m    152\u001B[0m       \u001B[0mfiltered_tb\u001B[0m \u001B[1;33m=\u001B[0m \u001B[0m_process_traceback_frames\u001B[0m\u001B[1;33m(\u001B[0m\u001B[0me\u001B[0m\u001B[1;33m.\u001B[0m\u001B[0m__traceback__\u001B[0m\u001B[1;33m)\u001B[0m\u001B[1;33m\u001B[0m\u001B[1;33m\u001B[0m\u001B[0m\n\u001B[0;32m    153\u001B[0m       \u001B[1;32mraise\u001B[0m \u001B[0me\u001B[0m\u001B[1;33m.\u001B[0m\u001B[0mwith_traceback\u001B[0m\u001B[1;33m(\u001B[0m\u001B[0mfiltered_tb\u001B[0m\u001B[1;33m)\u001B[0m \u001B[1;32mfrom\u001B[0m \u001B[1;32mNone\u001B[0m\u001B[1;33m\u001B[0m\u001B[1;33m\u001B[0m\u001B[0m\n\u001B[0;32m    154\u001B[0m     \u001B[1;32mfinally\u001B[0m\u001B[1;33m:\u001B[0m\u001B[1;33m\u001B[0m\u001B[1;33m\u001B[0m\u001B[0m\n\u001B[1;32m--> 155\u001B[1;33m       \u001B[1;32mdel\u001B[0m \u001B[0mfiltered_tb\u001B[0m\u001B[1;33m\u001B[0m\u001B[1;33m\u001B[0m\u001B[0m\n\u001B[0m",
      "\u001B[1;32mF:\\Anaconda3_envs\\tensor2\\lib\\site-packages\\tensorflow\\python\\util\\dispatch.py\u001B[0m in \u001B[0;36m?\u001B[1;34m(*args, **kwargs)\u001B[0m\n\u001B[0;32m   1173\u001B[0m \u001B[1;33m\u001B[0m\u001B[0m\n\u001B[0;32m   1174\u001B[0m       \u001B[1;31m# Fallback dispatch system (dispatch v1):\u001B[0m\u001B[1;33m\u001B[0m\u001B[1;33m\u001B[0m\u001B[0m\n\u001B[0;32m   1175\u001B[0m       \u001B[1;32mtry\u001B[0m\u001B[1;33m:\u001B[0m\u001B[1;33m\u001B[0m\u001B[1;33m\u001B[0m\u001B[0m\n\u001B[0;32m   1176\u001B[0m         \u001B[1;32mreturn\u001B[0m \u001B[0mdispatch_target\u001B[0m\u001B[1;33m(\u001B[0m\u001B[1;33m*\u001B[0m\u001B[0margs\u001B[0m\u001B[1;33m,\u001B[0m \u001B[1;33m**\u001B[0m\u001B[0mkwargs\u001B[0m\u001B[1;33m)\u001B[0m\u001B[1;33m\u001B[0m\u001B[1;33m\u001B[0m\u001B[0m\n\u001B[1;32m-> 1177\u001B[1;33m       \u001B[1;32mexcept\u001B[0m \u001B[1;33m(\u001B[0m\u001B[0mTypeError\u001B[0m\u001B[1;33m,\u001B[0m \u001B[0mValueError\u001B[0m\u001B[1;33m)\u001B[0m\u001B[1;33m:\u001B[0m\u001B[1;33m\u001B[0m\u001B[1;33m\u001B[0m\u001B[0m\n\u001B[0m\u001B[0;32m   1178\u001B[0m         \u001B[1;31m# Note: convert_to_eager_tensor currently raises a ValueError, not a\u001B[0m\u001B[1;33m\u001B[0m\u001B[1;33m\u001B[0m\u001B[0m\n\u001B[0;32m   1179\u001B[0m         \u001B[1;31m# TypeError, when given unexpected types.  So we need to catch both.\u001B[0m\u001B[1;33m\u001B[0m\u001B[1;33m\u001B[0m\u001B[0m\n\u001B[0;32m   1180\u001B[0m         \u001B[0mresult\u001B[0m \u001B[1;33m=\u001B[0m \u001B[0mdispatch\u001B[0m\u001B[1;33m(\u001B[0m\u001B[0mop_dispatch_handler\u001B[0m\u001B[1;33m,\u001B[0m \u001B[0margs\u001B[0m\u001B[1;33m,\u001B[0m \u001B[0mkwargs\u001B[0m\u001B[1;33m)\u001B[0m\u001B[1;33m\u001B[0m\u001B[1;33m\u001B[0m\u001B[0m\n",
      "\u001B[1;32mF:\\Anaconda3_envs\\tensor2\\lib\\site-packages\\tensorflow\\python\\ops\\nn_ops.py\u001B[0m in \u001B[0;36m?\u001B[1;34m(input, filters, strides, padding, data_format, dilations, name)\u001B[0m\n\u001B[0;32m   1177\u001B[0m     \u001B[0mpadding\u001B[0m\u001B[1;33m=\u001B[0m\u001B[1;34m\"VALID\"\u001B[0m\u001B[1;33m,\u001B[0m\u001B[1;33m\u001B[0m\u001B[1;33m\u001B[0m\u001B[0m\n\u001B[0;32m   1178\u001B[0m     \u001B[0mdata_format\u001B[0m\u001B[1;33m=\u001B[0m\u001B[1;32mNone\u001B[0m\u001B[1;33m,\u001B[0m\u001B[1;33m\u001B[0m\u001B[1;33m\u001B[0m\u001B[0m\n\u001B[0;32m   1179\u001B[0m     \u001B[0mdilations\u001B[0m\u001B[1;33m=\u001B[0m\u001B[1;32mNone\u001B[0m\u001B[1;33m,\u001B[0m\u001B[1;33m\u001B[0m\u001B[1;33m\u001B[0m\u001B[0m\n\u001B[0;32m   1180\u001B[0m     name=None):\n\u001B[1;32m-> 1181\u001B[1;33m   return convolution_internal(\n\u001B[0m\u001B[0;32m   1182\u001B[0m       \u001B[0minput\u001B[0m\u001B[1;33m,\u001B[0m  \u001B[1;31m# pylint: disable=redefined-builtin\u001B[0m\u001B[1;33m\u001B[0m\u001B[1;33m\u001B[0m\u001B[0m\n\u001B[0;32m   1183\u001B[0m       \u001B[0mfilters\u001B[0m\u001B[1;33m,\u001B[0m\u001B[1;33m\u001B[0m\u001B[1;33m\u001B[0m\u001B[0m\n\u001B[0;32m   1184\u001B[0m       \u001B[0mstrides\u001B[0m\u001B[1;33m=\u001B[0m\u001B[0mstrides\u001B[0m\u001B[1;33m,\u001B[0m\u001B[1;33m\u001B[0m\u001B[1;33m\u001B[0m\u001B[0m\n",
      "\u001B[1;32mF:\\Anaconda3_envs\\tensor2\\lib\\site-packages\\tensorflow\\python\\ops\\nn_ops.py\u001B[0m in \u001B[0;36m?\u001B[1;34m(input, filters, strides, padding, data_format, dilations, name, call_from_convolution, num_spatial_dims)\u001B[0m\n\u001B[0;32m   1309\u001B[0m         \u001B[0mop\u001B[0m \u001B[1;33m=\u001B[0m \u001B[0m_conv3d_expanded_batch\u001B[0m\u001B[1;33m\u001B[0m\u001B[1;33m\u001B[0m\u001B[0m\n\u001B[0;32m   1310\u001B[0m       \u001B[1;32melse\u001B[0m\u001B[1;33m:\u001B[0m\u001B[1;33m\u001B[0m\u001B[1;33m\u001B[0m\u001B[0m\n\u001B[0;32m   1311\u001B[0m         \u001B[0mop\u001B[0m \u001B[1;33m=\u001B[0m \u001B[0mconv1d\u001B[0m\u001B[1;33m\u001B[0m\u001B[1;33m\u001B[0m\u001B[0m\n\u001B[0;32m   1312\u001B[0m \u001B[1;33m\u001B[0m\u001B[0m\n\u001B[1;32m-> 1313\u001B[1;33m       return op(\n\u001B[0m\u001B[0;32m   1314\u001B[0m           \u001B[0minput\u001B[0m\u001B[1;33m,\u001B[0m\u001B[1;33m\u001B[0m\u001B[1;33m\u001B[0m\u001B[0m\n\u001B[0;32m   1315\u001B[0m           \u001B[0mfilters\u001B[0m\u001B[1;33m,\u001B[0m\u001B[1;33m\u001B[0m\u001B[1;33m\u001B[0m\u001B[0m\n\u001B[0;32m   1316\u001B[0m           \u001B[0mstrides\u001B[0m\u001B[1;33m,\u001B[0m\u001B[1;33m\u001B[0m\u001B[1;33m\u001B[0m\u001B[0m\n",
      "\u001B[1;32mF:\\Anaconda3_envs\\tensor2\\lib\\site-packages\\tensorflow\\python\\ops\\nn_ops.py\u001B[0m in \u001B[0;36m?\u001B[1;34m(input, filters, strides, padding, data_format, dilations, name)\u001B[0m\n\u001B[0;32m   2783\u001B[0m   \u001B[0minput_rank\u001B[0m \u001B[1;33m=\u001B[0m \u001B[0minput\u001B[0m\u001B[1;33m.\u001B[0m\u001B[0mshape\u001B[0m\u001B[1;33m.\u001B[0m\u001B[0mrank\u001B[0m\u001B[1;33m\u001B[0m\u001B[1;33m\u001B[0m\u001B[0m\n\u001B[0;32m   2784\u001B[0m   \u001B[1;32mif\u001B[0m \u001B[0minput_rank\u001B[0m \u001B[1;32mis\u001B[0m \u001B[1;32mNone\u001B[0m \u001B[1;32mor\u001B[0m \u001B[0minput_rank\u001B[0m \u001B[1;33m<\u001B[0m \u001B[1;36m5\u001B[0m\u001B[1;33m:\u001B[0m\u001B[1;33m\u001B[0m\u001B[1;33m\u001B[0m\u001B[0m\n\u001B[0;32m   2785\u001B[0m     \u001B[1;31m# We avoid calling squeeze_batch_dims to reduce extra python function\u001B[0m\u001B[1;33m\u001B[0m\u001B[1;33m\u001B[0m\u001B[0m\n\u001B[0;32m   2786\u001B[0m     \u001B[1;31m# call slowdown in eager mode.  This branch doesn't require reshapes.\u001B[0m\u001B[1;33m\u001B[0m\u001B[1;33m\u001B[0m\u001B[0m\n\u001B[1;32m-> 2787\u001B[1;33m     return gen_nn_ops.conv2d(\n\u001B[0m\u001B[0;32m   2788\u001B[0m         \u001B[0minput\u001B[0m\u001B[1;33m,\u001B[0m\u001B[1;33m\u001B[0m\u001B[1;33m\u001B[0m\u001B[0m\n\u001B[0;32m   2789\u001B[0m         \u001B[0mfilter\u001B[0m\u001B[1;33m=\u001B[0m\u001B[0mfilters\u001B[0m\u001B[1;33m,\u001B[0m\u001B[1;33m\u001B[0m\u001B[1;33m\u001B[0m\u001B[0m\n\u001B[0;32m   2790\u001B[0m         \u001B[0mstrides\u001B[0m\u001B[1;33m=\u001B[0m\u001B[0mstrides\u001B[0m\u001B[1;33m,\u001B[0m\u001B[1;33m\u001B[0m\u001B[1;33m\u001B[0m\u001B[0m\n",
      "\u001B[1;32mF:\\Anaconda3_envs\\tensor2\\lib\\site-packages\\tensorflow\\python\\ops\\gen_nn_ops.py\u001B[0m in \u001B[0;36m?\u001B[1;34m(input, filter, strides, padding, use_cudnn_on_gpu, explicit_paddings, data_format, dilations, name)\u001B[0m\n\u001B[0;32m   1104\u001B[0m         \"dilations\", dilations)\n\u001B[0;32m   1105\u001B[0m       \u001B[1;32mreturn\u001B[0m \u001B[0m_result\u001B[0m\u001B[1;33m\u001B[0m\u001B[1;33m\u001B[0m\u001B[0m\n\u001B[0;32m   1106\u001B[0m     \u001B[1;32mexcept\u001B[0m \u001B[0m_core\u001B[0m\u001B[1;33m.\u001B[0m\u001B[0m_NotOkStatusException\u001B[0m \u001B[1;32mas\u001B[0m \u001B[0me\u001B[0m\u001B[1;33m:\u001B[0m\u001B[1;33m\u001B[0m\u001B[1;33m\u001B[0m\u001B[0m\n\u001B[0;32m   1107\u001B[0m       \u001B[0m_ops\u001B[0m\u001B[1;33m.\u001B[0m\u001B[0mraise_from_not_ok_status\u001B[0m\u001B[1;33m(\u001B[0m\u001B[0me\u001B[0m\u001B[1;33m,\u001B[0m \u001B[0mname\u001B[0m\u001B[1;33m)\u001B[0m\u001B[1;33m\u001B[0m\u001B[1;33m\u001B[0m\u001B[0m\n\u001B[1;32m-> 1108\u001B[1;33m     \u001B[1;32mexcept\u001B[0m \u001B[0m_core\u001B[0m\u001B[1;33m.\u001B[0m\u001B[0m_FallbackException\u001B[0m\u001B[1;33m:\u001B[0m\u001B[1;33m\u001B[0m\u001B[1;33m\u001B[0m\u001B[0m\n\u001B[0m\u001B[0;32m   1109\u001B[0m       \u001B[1;32mpass\u001B[0m\u001B[1;33m\u001B[0m\u001B[1;33m\u001B[0m\u001B[0m\n\u001B[0;32m   1110\u001B[0m     \u001B[1;32mtry\u001B[0m\u001B[1;33m:\u001B[0m\u001B[1;33m\u001B[0m\u001B[1;33m\u001B[0m\u001B[0m\n\u001B[0;32m   1111\u001B[0m       return conv2d_eager_fallback(\n",
      "\u001B[1;31mKeyboardInterrupt\u001B[0m: "
     ]
    }
   ],
   "source": [
    "# save loss values for plot\n",
    "loss_history = []\n",
    "global_step = 0 # step 수 정의 (선택)\n",
    "\n",
    "print_steps = 10 # tf.gradient_tape\n",
    "save_epochs = 5 # tf.gradient_tape\n",
    "max_epochs = 50\n",
    "min_loss = float('inf')\n",
    "################################################################################\n",
    "for epoch in range(max_epochs):\n",
    "    for images, labels in train_dataset: # 데이터 로드 파트 ex) data len 240 / batch 100 => 3\n",
    "        start_time = time.time()\n",
    "        global_step = global_step + 1\n",
    "\n",
    "        with tf.GradientTape() as tape: # 모델 학습 파트\n",
    "            # images [batch_size, 256,256,3]\n",
    "            predictions = model(images, training=True)\n",
    "            # label [batch_size, 256, 256, 1]\n",
    "            loss = bce_dice_loss(labels, predictions)\n",
    "\n",
    "        # 가중치 업데이트 파트\n",
    "        gradients = tape.gradient(loss, model.trainable_variables)\n",
    "        optimizer.apply_gradients(zip(gradients, model.trainable_variables))\n",
    "\n",
    "################################################################################\n",
    "        # 학습 상태 출력\n",
    "        epochs = global_step * batch_size / float(num_train_examples)\n",
    "        duration = time.time() - start_time\n",
    "\n",
    "        if global_step % print_steps == 0:\n",
    "            clear_output(wait=True)\n",
    "            examples_per_sec = batch_size  / float(duration)\n",
    "            print(\"Epochs: {:.2f} global_step: {} loss: {:.3f} ({:.2f} examples/sec; {:.3f} sec/batch)\".format(\n",
    "                        epochs, global_step, loss, examples_per_sec, duration))\n",
    "\n",
    "            loss_history.append([epoch, loss])\n",
    "\n",
    "            # print sample image\n",
    "            for test_images, test_labels in test_dataset.take(1):\n",
    "                predictions = model(test_images, training=False)\n",
    "\n",
    "            plt.figure(figsize=(10, 20))\n",
    "            plt.subplot(1, 3, 1)\n",
    "            plt.imshow(test_images[3,: , :, :])\n",
    "            plt.title(\"Input image\")\n",
    "\n",
    "            plt.subplot(1, 3, 2)\n",
    "            plt.imshow(test_labels[3, :, :, 0])\n",
    "            plt.title(\"Actual Mask\")\n",
    "\n",
    "            plt.subplot(1, 3, 3)\n",
    "            plt.imshow(predictions[3, :, :, 0])\n",
    "            plt.title(\"Predicted Mask\")\n",
    "            plt.show()\n",
    "\n",
    "    # # saving (checkpoint) the model periodically\n",
    "    # if (epoch+1) % save_epochs == 0:\n",
    "    #     checkpoint.save(file_prefix = checkpoint_prefix)\n",
    "\n",
    "    # saving (checkpoint) the model periodically if the current loss is lower than the previous saved model's loss\n",
    "    if (epoch+1) % save_epochs == 0 and loss < min_loss:\n",
    "        min_loss = loss\n",
    "        checkpoint.save(file_prefix=checkpoint_prefix)"
   ]
  },
  {
   "cell_type": "markdown",
   "source": [],
   "metadata": {
    "collapsed": false
   }
  },
  {
   "cell_type": "markdown",
   "metadata": {
    "id": "EWZAjGUV-FoK"
   },
   "source": [
    "### Plot the loss"
   ]
  },
  {
   "cell_type": "code",
   "execution_count": null,
   "metadata": {
    "executionInfo": {
     "elapsed": 5,
     "status": "ok",
     "timestamp": 1704963558301,
     "user": {
      "displayName": "JIHAN KIM",
      "userId": "14820648192014375113"
     },
     "user_tz": -540
    },
    "id": "2WSsQJ4M-FoQ",
    "ExecuteTime": {
     "start_time": "2024-01-14T00:29:07.509343700Z"
    }
   },
   "outputs": [],
   "source": [
    "def mean_iou(y_true, y_pred, num_classes=2):\n",
    "    # Flatten\n",
    "    y_true_f = tf.reshape(y_true, [-1])\n",
    "    y_pred_f = tf.reshape(y_pred, [-1])\n",
    "\n",
    "    y_true_f = tf.cast(tf.round(y_true_f), dtype=tf.int32).numpy()\n",
    "    y_pred_f = tf.cast(tf.round(y_pred_f), dtype=tf.int32).numpy()\n",
    "\n",
    "    # calculate confusion matrix\n",
    "    labels = list(range(num_classes))\n",
    "    current = confusion_matrix(y_true_f, y_pred_f, labels=labels)\n",
    "\n",
    "    # compute mean iou\n",
    "    intersection = np.diag(current)\n",
    "    ground_truth_set = current.sum(axis=1)\n",
    "    predicted_set = current.sum(axis=0)\n",
    "    union = ground_truth_set + predicted_set - intersection\n",
    "\n",
    "    IoU = intersection / union.astype(np.float32)\n",
    "    return np.mean(IoU)"
   ]
  },
  {
   "cell_type": "code",
   "execution_count": null,
   "metadata": {
    "colab": {
     "base_uri": "https://localhost:8080/"
    },
    "executionInfo": {
     "elapsed": 10489,
     "status": "ok",
     "timestamp": 1704963568786,
     "user": {
      "displayName": "JIHAN KIM",
      "userId": "14820648192014375113"
     },
     "user_tz": -540
    },
    "id": "Fw9Mu9D--FoS",
    "outputId": "77242ed7-f071-478b-9e41-d5d3496a9137",
    "ExecuteTime": {
     "start_time": "2024-01-14T00:29:07.511343500Z"
    }
   },
   "outputs": [],
   "source": [
    "tf.train.latest_checkpoint(checkpoint_dir)\n",
    "\n",
    "#mean = tf.keras.metrics.Mean(\"mean_iou\")\n",
    "mean = []\n",
    "\n",
    "for images, labels in test_dataset:\n",
    "    predictions = model(images, training=False)\n",
    "    m = mean_iou(labels, predictions)\n",
    "    mean.append(m)\n",
    "\n",
    "mean = np.array(mean)\n",
    "mean = np.mean(mean)\n",
    "print(\"mean_iou: {}\".format(mean))\n",
    "#print(\"mean_iou: {}\".format(mean.result().numpy()))"
   ]
  },
  {
   "cell_type": "code",
   "outputs": [],
   "source": [
    "loss_history = np.asarray(loss_history)\n",
    "plt.figure(figsize=(4, 4))\n",
    "plt.plot(loss_history[:,0], loss_history[:,1])\n",
    "plt.show()"
   ],
   "metadata": {
    "colab": {
     "base_uri": "https://localhost:8080/",
     "height": 368
    },
    "executionInfo": {
     "elapsed": 7,
     "status": "ok",
     "timestamp": 1704963558301,
     "user": {
      "displayName": "JIHAN KIM",
      "userId": "14820648192014375113"
     },
     "user_tz": -540
    },
    "id": "Jvqofs2t-FoK",
    "outputId": "5f9416a8-b6a6-4f0f-e772-ab7b11d0ca53",
    "ExecuteTime": {
     "start_time": "2024-01-14T00:29:07.513343600Z"
    }
   },
   "execution_count": null
  },
  {
   "cell_type": "markdown",
   "source": [
    "## Evaluate the test dataset\n",
    "* 모델을 평가해보자."
   ],
   "metadata": {
    "id": "57AA1pHx-FoQ"
   }
  },
  {
   "cell_type": "markdown",
   "source": [
    "* 테스트 데이터셋을 불러와서 meanIoU 값을 구해보자.\n"
   ],
   "metadata": {
    "id": "_2z9Fsxe3QN3"
   }
  },
  {
   "cell_type": "markdown",
   "metadata": {
    "id": "jYtw26ad3U78"
   },
   "source": [
    "* Test Dataset 내에 데이터들을 얼만큼 잘 맞추었는지 직접 확인해보자."
   ]
  },
  {
   "cell_type": "code",
   "execution_count": null,
   "metadata": {
    "executionInfo": {
     "elapsed": 4,
     "status": "ok",
     "timestamp": 1704963568786,
     "user": {
      "displayName": "JIHAN KIM",
      "userId": "14820648192014375113"
     },
     "user_tz": -540
    },
    "id": "4yS_bdkX-FoV",
    "ExecuteTime": {
     "start_time": "2024-01-14T00:29:07.515343100Z"
    }
   },
   "outputs": [],
   "source": [
    "## Define print function\n",
    "def print_images():\n",
    "    for test_images, test_labels in test_dataset.take(1):\n",
    "        predictions = model(test_images, training=False)\n",
    "\n",
    "        for i in range(batch_size):\n",
    "            plt.figure(figsize=(10, 20))\n",
    "            plt.subplot(1, 3, 1)\n",
    "            plt.imshow(test_images[i,: , :, :])\n",
    "            plt.title(\"Input image\")\n",
    "\n",
    "            plt.subplot(1, 3, 2)\n",
    "            plt.imshow(test_labels[i, :, :, 0])\n",
    "            plt.title(\"Actual Mask\")\n",
    "\n",
    "            plt.subplot(1, 3, 3)\n",
    "            plt.imshow(predictions[i, :, :, 0])\n",
    "            plt.title(\"Predicted Mask\")\n",
    "            plt.show()"
   ]
  },
  {
   "cell_type": "code",
   "execution_count": null,
   "metadata": {
    "colab": {
     "base_uri": "https://localhost:8080/",
     "height": 1000,
     "output_embedded_package_id": "1eQviVsve7ztJcqoseK2UwZ8z5R7ORZ_m"
    },
    "executionInfo": {
     "elapsed": 41000,
     "status": "ok",
     "timestamp": 1704963609783,
     "user": {
      "displayName": "JIHAN KIM",
      "userId": "14820648192014375113"
     },
     "user_tz": -540
    },
    "id": "kmgQkc0LkFm4",
    "outputId": "2f3bb815-c261-459c-ddc1-56d687dec149",
    "ExecuteTime": {
     "start_time": "2024-01-14T00:29:07.516343500Z"
    }
   },
   "outputs": [],
   "source": [
    "print_images()"
   ]
  },
  {
   "cell_type": "code",
   "outputs": [],
   "source": [],
   "metadata": {
    "collapsed": false,
    "ExecuteTime": {
     "start_time": "2024-01-14T00:29:07.517344200Z"
    }
   },
   "execution_count": null
  }
 ],
 "metadata": {
  "accelerator": "GPU",
  "colab": {
   "collapsed_sections": [
    "Ou8xP7B9-FmT"
   ],
   "name": "",
   "provenance": [
    {
     "file_id": "1T3NtlIOnpMufwR-rRu1AYwV_8y_Owect",
     "timestamp": 1704961470873
    },
    {
     "file_id": "1BjqT57P5JwyLXwe1J_xc-pmmYbAt1sNq",
     "timestamp": 1704960845607
    }
   ],
   "version": ""
  },
  "kernelspec": {
   "name": "python3",
   "language": "python",
   "display_name": "Python 3 (ipykernel)"
  },
  "language_info": {
   "codemirror_mode": {
    "name": "ipython",
    "version": 3
   },
   "file_extension": ".py",
   "mimetype": "text/x-python",
   "name": "python",
   "nbconvert_exporter": "python",
   "pygments_lexer": "ipython3",
   "version": "3.7.3"
  },
  "latex_envs": {
   "LaTeX_envs_menu_present": true,
   "autoclose": false,
   "autocomplete": true,
   "bibliofile": "biblio.bib",
   "cite_by": "apalike",
   "current_citInitial": 1,
   "eqLabelWithNumbers": true,
   "eqNumInitial": 1,
   "hotkeys": {
    "equation": "Ctrl-E",
    "itemize": "Ctrl-I"
   },
   "labels_anchors": false,
   "latex_user_defs": false,
   "report_style_numbering": false,
   "user_envs_cfg": false
  },
  "toc": {
   "base_numbering": 1,
   "nav_menu": {},
   "number_sections": true,
   "sideBar": true,
   "skip_h1_title": false,
   "title_cell": "Table of Contents",
   "title_sidebar": "Contents",
   "toc_cell": false,
   "toc_position": {},
   "toc_section_display": true,
   "toc_window_display": false
  },
  "varInspector": {
   "cols": {
    "lenName": 16,
    "lenType": 16,
    "lenVar": 40
   },
   "kernels_config": {
    "python": {
     "delete_cmd_postfix": "",
     "delete_cmd_prefix": "del ",
     "library": "var_list.py",
     "varRefreshCmd": "print(var_dic_list())"
    },
    "r": {
     "delete_cmd_postfix": ") ",
     "delete_cmd_prefix": "rm(",
     "library": "var_list.r",
     "varRefreshCmd": "cat(var_dic_list()) "
    }
   },
   "types_to_exclude": [
    "module",
    "function",
    "builtin_function_or_method",
    "instance",
    "_Feature"
   ],
   "window_display": false
  }
 },
 "nbformat": 4,
 "nbformat_minor": 0
}
