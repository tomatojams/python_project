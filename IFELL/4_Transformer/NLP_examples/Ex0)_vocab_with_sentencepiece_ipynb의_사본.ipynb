{
 "nbformat": 4,
 "nbformat_minor": 0,
 "metadata": {
  "colab": {
   "provenance": []
  },
  "kernelspec": {
   "name": "python3",
   "language": "python",
   "display_name": "Python 3 (ipykernel)"
  }
 },
 "cells": [
  {
   "cell_type": "markdown",
   "metadata": {
    "id": "WzZJ5r2ixm1J"
   },
   "source": [
    "## Google Sentence Piece를 이용해서 Vocab 파일을 만드는 과정\n",
    "Google SentencePeice와 네이버 리뷰 데이터를 이용해서 Vocab을 만드는 과정에 대한 설명 입니다.\n",
    "\n",
    "[Colab](https://colab.research.google.com/)에서 실행 했습니다."
   ]
  },
  {
   "cell_type": "markdown",
   "metadata": {
    "id": "SHyl69IN0qqw"
   },
   "source": [
    "#### 0. Pip Install\n",
    "필요한 패키지를 pip를 이용해서 설치합니다."
   ]
  },
  {
   "cell_type": "code",
   "metadata": {
    "id": "lJ4-SgC_0uNd",
    "outputId": "4430cc99-36dc-4ffe-da4d-5d4f1678cf42",
    "colab": {
     "base_uri": "https://localhost:8080/"
    },
    "ExecuteTime": {
     "end_time": "2024-01-17T01:08:45.680704Z",
     "start_time": "2024-01-17T01:08:43.099945Z"
    }
   },
   "source": [
    "!pip install sentencepiece"
   ],
   "execution_count": 1,
   "outputs": [
    {
     "name": "stdout",
     "output_type": "stream",
     "text": [
      "Collecting sentencepiece\r\n",
      "  Downloading sentencepiece-0.1.99-cp39-cp39-macosx_11_0_arm64.whl (1.2 MB)\r\n",
      "\u001B[2K     \u001B[90m━━━━━━━━━━━━━━━━━━━━━━━━━━━━━━━━━━━━━━━━\u001B[0m \u001B[32m1.2/1.2 MB\u001B[0m \u001B[31m2.6 MB/s\u001B[0m eta \u001B[36m0:00:00\u001B[0m00:01\u001B[0m00:01\u001B[0mm\r\n",
      "\u001B[?25hInstalling collected packages: sentencepiece\r\n",
      "Successfully installed sentencepiece-0.1.99\r\n"
     ]
    }
   ]
  },
  {
   "cell_type": "markdown",
   "metadata": {
    "id": "Jc2ZP9a5xCf4"
   },
   "source": [
    "#### 1. Google Drive Mount\n",
    "Colab에서는 컴퓨터에 자원에 접근이 불가능 하므로 Google Drive에 파일을 올려 놓은 후 Google Drive를 mount 해서 로컬 디스크처럼 사용 합니다.\n",
    "1. 아래 블럭을 실행하면 나타나는 링크를 클릭하세요.\n",
    "2. Google 계정을 선택 하시고 허용을 누르면 나타나는 코드를 복사하여 아래 박스에 입력한 후 Enter 키를 입력하면 됩니다.\n",
    "\n",
    "학습관련 [데이터 및 결과 파일](https://drive.google.com/open?id=15XGr-L-W6DSoR5TbniPMJASPsA0IDTiN)을 참고 하세요."
   ]
  },
  {
   "cell_type": "code",
   "metadata": {
    "id": "gUe5mWs8w7rl",
    "outputId": "a4d5e85a-3bfc-42a9-801a-ab37a9043f4c",
    "colab": {
     "base_uri": "https://localhost:8080/"
    },
    "ExecuteTime": {
     "end_time": "2024-01-17T01:08:45.981154Z",
     "start_time": "2024-01-17T01:08:45.680269Z"
    }
   },
   "source": [
    "from google.colab import drive\n",
    "drive.mount('/content/drive')\n",
    "# data를 저장할 폴더 입니다. 환경에 맞게 수정 하세요.\n",
    "data_dir = \"data/\""
   ],
   "execution_count": 2,
   "outputs": [
    {
     "ename": "ModuleNotFoundError",
     "evalue": "No module named 'google.colab'",
     "output_type": "error",
     "traceback": [
      "\u001B[0;31m---------------------------------------------------------------------------\u001B[0m",
      "\u001B[0;31mModuleNotFoundError\u001B[0m                       Traceback (most recent call last)",
      "Cell \u001B[0;32mIn[2], line 1\u001B[0m\n\u001B[0;32m----> 1\u001B[0m \u001B[38;5;28;01mfrom\u001B[39;00m \u001B[38;5;21;01mgoogle\u001B[39;00m\u001B[38;5;21;01m.\u001B[39;00m\u001B[38;5;21;01mcolab\u001B[39;00m \u001B[38;5;28;01mimport\u001B[39;00m drive\n\u001B[1;32m      2\u001B[0m drive\u001B[38;5;241m.\u001B[39mmount(\u001B[38;5;124m'\u001B[39m\u001B[38;5;124m/content/drive\u001B[39m\u001B[38;5;124m'\u001B[39m)\n\u001B[1;32m      3\u001B[0m \u001B[38;5;66;03m# data를 저장할 폴더 입니다. 환경에 맞게 수정 하세요.\u001B[39;00m\n",
      "\u001B[0;31mModuleNotFoundError\u001B[0m: No module named 'google.colab'"
     ]
    }
   ]
  },
  {
   "cell_type": "markdown",
   "metadata": {
    "id": "7H61xHhCyzdK"
   },
   "source": [
    "#### 2. Imports\n"
   ]
  },
  {
   "cell_type": "code",
   "metadata": {
    "id": "EIX90f9oy45b",
    "ExecuteTime": {
     "end_time": "2024-01-17T01:08:45.984159Z",
     "start_time": "2024-01-17T01:08:45.982186Z"
    }
   },
   "source": [
    "import os\n",
    "import gzip\n",
    "import pandas as pd\n",
    "import sentencepiece as spm\n",
    "import shutil"
   ],
   "execution_count": null,
   "outputs": []
  },
  {
   "cell_type": "markdown",
   "metadata": {
    "id": "yD8RxI2Hzjot"
   },
   "source": [
    "#### 3. 폴더의 목록을 확인\n",
    "Google Drive mount가 잘 되었는지 확인하기 위해 data_dir 목록을 확인 합니다."
   ]
  },
  {
   "cell_type": "code",
   "metadata": {
    "id": "8kx9Fiqzyxpc",
    "colab": {
     "base_uri": "https://localhost:8080/",
     "height": 191
    },
    "outputId": "35e9f4e0-8432-4d38-a620-0dd09128befb",
    "ExecuteTime": {
     "end_time": "2024-01-17T01:08:45.992600Z",
     "start_time": "2024-01-17T01:08:45.985674Z"
    }
   },
   "source": [
    "for f in os.listdir(data_dir):\n",
    "  print(f)"
   ],
   "execution_count": null,
   "outputs": []
  },
  {
   "cell_type": "markdown",
   "metadata": {
    "id": "BRpwnHUI1PQG"
   },
   "source": [
    "#### 4. CSV 파일을 TEXT 형태로 변환\n",
    "Google SentencePiece에서 사용할 수 있도록 CSV를 TEXT형태로 변환 합니다."
   ]
  },
  {
   "cell_type": "code",
   "source": [
    "import urllib.request\n",
    "\n",
    "urllib.request.urlretrieve(\"https://raw.githubusercontent.com/e9t/nsmc/master/ratings_train.txt\", filename=\"ratings_train.txt\")\n",
    "urllib.request.urlretrieve(\"https://raw.githubusercontent.com/e9t/nsmc/master/ratings_test.txt\", filename=\"ratings_test.txt\")"
   ],
   "metadata": {
    "id": "vUry5I34O9nA",
    "ExecuteTime": {
     "start_time": "2024-01-17T01:08:45.989491Z"
    }
   },
   "execution_count": null,
   "outputs": []
  },
  {
   "cell_type": "code",
   "source": [
    "# 두 텍스트 파일을 열어서 내용을 읽습니다.\n",
    "with open('ratings_train.txt', 'r') as file1:\n",
    "    content1 = file1.read()\n",
    "\n",
    "with open('ratings_test.txt', 'r') as file2:\n",
    "    content2 = file2.read()\n",
    "\n",
    "# 두 파일의 내용을 합쳐서 새로운 파일에 저장합니다.\n",
    "with open('merged_file.txt', 'w') as merged_file:\n",
    "    merged_file.write(content1 + \"\\n\" + content2)\n"
   ],
   "metadata": {
    "id": "mVLLYx8rTFIm",
    "ExecuteTime": {
     "start_time": "2024-01-17T01:08:45.991662Z"
    }
   },
   "execution_count": null,
   "outputs": []
  },
  {
   "cell_type": "markdown",
   "metadata": {
    "id": "_VWlIEZL_9jh"
   },
   "source": [
    "#### 5. Vocab 생성\n",
    "Google SentencePiece를 이용해서 vocab 만드는 방법 입니다. vocab을 만드는데 많은 시간이 소요 됩니다. 잠시 여유를 갖고 기다려 주세요."
   ]
  },
  {
   "cell_type": "code",
   "metadata": {
    "id": "Ago_Qw34APbA",
    "outputId": "60cb5c7b-1d8c-4eaf-df8b-4258784cb4fd",
    "colab": {
     "base_uri": "https://localhost:8080/",
     "height": 174
    },
    "ExecuteTime": {
     "start_time": "2024-01-17T01:08:45.994915Z"
    }
   },
   "source": [
    "corpus = \"merged_file.txt\"\n",
    "prefix = \"naver_review\"\n",
    "vocab_size = 8000\n",
    "spm.SentencePieceTrainer.train(\n",
    "    f\"--input={corpus} --model_prefix={prefix} --vocab_size={vocab_size + 7}\" +\n",
    "    \" --model_type=bpe\" +\n",
    "    \" --max_sentence_length=999999\" + # 문장 최대 길이\n",
    "    \" --pad_id=0 --pad_piece=[PAD]\" + # pad (0)\n",
    "    \" --unk_id=1 --unk_piece=[UNK]\" + # unknown (1)\n",
    "    \" --bos_id=2 --bos_piece=[BOS]\" + # begin of sequence (2)\n",
    "    \" --eos_id=3 --eos_piece=[EOS]\" + # end of sequence (3)\n",
    "    \" --user_defined_symbols=[SEP],[CLS],[MASK]\") # 기타 추가 토큰\n",
    "\n",
    "for f in os.listdir(\".\"):\n",
    "  print(f)\n",
    "shutil.copy(\"naver_review.model\", f\"{data_dir}/naver_review.model\")\n",
    "shutil.copy(\"naver_review.vocab\", f\"{data_dir}/naver_review.vocab\")"
   ],
   "execution_count": null,
   "outputs": []
  },
  {
   "cell_type": "markdown",
   "metadata": {
    "id": "YEjtyIBRTHVo"
   },
   "source": [
    "#### 6. Vocab 테스트\n",
    "생성된 vocab을 간단하게 테스트 해 봅니다."
   ]
  },
  {
   "cell_type": "code",
   "metadata": {
    "id": "qa7iTqO3MrKg",
    "outputId": "2f3882f0-da3c-4a48-de3a-bf49d44c92bd",
    "colab": {
     "base_uri": "https://localhost:8080/"
    },
    "ExecuteTime": {
     "start_time": "2024-01-17T01:08:45.997522Z"
    }
   },
   "source": [
    "vocab_file = f\"{data_dir}/naver_review.model\"\n",
    "vocab = spm.SentencePieceProcessor()\n",
    "vocab.load(vocab_file)\n",
    "\n",
    "lines = [\n",
    "  \"겨울이 되어서 날씨가 무척 추워요.\",\n",
    "  \"이번 성탄절은 화이트 크리스마스가 될까요?\",\n",
    "  \"겨울에 감기 조심하시고 행복한 연말 되세요.\"\n",
    "]\n",
    "for line in lines:\n",
    "  pieces = vocab.encode_as_pieces(line)\n",
    "  ids = vocab.encode_as_ids(line)\n",
    "  print(line)\n",
    "  print(pieces)\n",
    "  print(ids)\n",
    "  print()"
   ],
   "execution_count": null,
   "outputs": []
  },
  {
   "cell_type": "code",
   "source": [],
   "metadata": {
    "id": "4hwTWu13UJ4a",
    "ExecuteTime": {
     "end_time": "2024-01-17T01:08:46.002185Z",
     "start_time": "2024-01-17T01:08:45.998882Z"
    }
   },
   "execution_count": null,
   "outputs": []
  }
 ]
}
