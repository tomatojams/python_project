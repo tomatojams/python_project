{
 "nbformat": 4,
 "nbformat_minor": 0,
 "metadata": {
  "kernelspec": {
   "name": "python3",
   "language": "python",
   "display_name": "Python 3 (ipykernel)"
  },
  "language_info": {
   "codemirror_mode": {
    "name": "ipython",
    "version": 3
   },
   "file_extension": ".py",
   "mimetype": "text/x-python",
   "name": "python",
   "nbconvert_exporter": "python",
   "pygments_lexer": "ipython3",
   "version": "3.6.8"
  },
  "colab": {
   "provenance": [],
   "gpuType": "T4"
  },
  "accelerator": "GPU"
 },
 "cells": [
  {
   "cell_type": "markdown",
   "metadata": {
    "id": "fXYH9ESLRRLY"
   },
   "source": [
    "# Image Classification\n",
    "\n",
    "tf.data.Dataset을 이용해 모델이 데이터를 효율적으로 활용할 수 있도록 구현해보는게 목적입니다.\n",
    "\n",
    "기본적인 머신러닝 작업과정은 아래와 같습니다.\n",
    "\n",
    "1. Examine and understand data\n",
    "2. Build an input pipeline\n",
    "3. Build the model\n",
    "4. Train the model\n",
    "5. Test the model\n",
    "6. Improve the model and repeat the process\n",
    "\n",
    "* 모델 완성 후 평가 지표에 따라서 모델을 평가해 봅시다.\n"
   ]
  },
  {
   "cell_type": "markdown",
   "metadata": {
    "id": "xjTHjdo6RS3n"
   },
   "source": [
    "## Project 설명\n",
    "### Task\n",
    "* CIFAR 10 데이터셋을 이용해 classification을 진행해보자.\n",
    "* [CIFAR 10 Dataset](https://www.cs.toronto.edu/~kriz/cifar.html)\n",
    "\n",
    "### Baseline\n",
    "* 오버피팅을 방지하기 위한 다양한 방법들을 사용해보자.\n",
    "    * 하이퍼파라미터 조절 (데이터 로드, 모델, Optimizer 등)\n",
    "    * 모델 구성 변경 (layer의 갯수)\n",
    "* Training\n",
    "    * tf.data.Dataset 과 model.fit()을 사용\n",
    "\n",
    "* Evaluation\n",
    "    * 모델의 정확도와 크기를 이용해 점수를 제공하는 메트릭으로 평가해보자."
   ]
  },
  {
   "cell_type": "markdown",
   "metadata": {
    "id": "Ew9Bg8w9j0PZ"
   },
   "source": [
    "### 구글 드라이브 마운트\n",
    "* Google의 Colab과 Drive를 이용해 노트북을 이용해 언제 어디서든 딥러닝 모델을 학습시켜보자."
   ]
  },
  {
   "cell_type": "code",
   "metadata": {
    "id": "RRYFNY5jjzWF",
    "ExecuteTime": {
     "end_time": "2023-12-27T14:18:05.885522200Z",
     "start_time": "2023-12-27T14:18:05.716519400Z"
    }
   },
   "source": [
    "# 코드 호환성을 위한 분기\n",
    "use_colab = True\n",
    "assert use_colab in [True, False]"
   ],
   "execution_count": 83,
   "outputs": []
  },
  {
   "cell_type": "code",
   "metadata": {
    "id": "6vefMxCgj2U6",
    "outputId": "45b1a33d-4a69-4125-cde2-2ae5fa1f307d",
    "colab": {
     "base_uri": "https://localhost:8080/"
    },
    "ExecuteTime": {
     "end_time": "2023-12-27T14:18:05.893520500Z",
     "start_time": "2023-12-27T14:18:05.888521500Z"
    }
   },
   "source": [
    "# from google.colab import drive\n",
    "# drive.mount('/content/drive')"
   ],
   "execution_count": 84,
   "outputs": []
  },
  {
   "cell_type": "markdown",
   "metadata": {
    "id": "P2qZQXTBcM6t"
   },
   "source": [
    "### 번외) GPU 서버를 어떻게 구성하면 좋을까?\n",
    "1. 로컬 머신 (노트북, 데스크탑) 구매\n",
    "    * GPU 노트북, 데스크탑, 서버 등 원하는 방법으로 다양하게 구비할 수 있다.\n",
    "    * Colab과 다르게 세션이 종료되지않으며, 비교적 자유롭게 사용할 수 있다.\n",
    "    * 원격 접속 및 오프라인 관리가 어려우며, 부수적인 유지보수 비용이 발생한다.\n",
    "\n",
    "2. 클라우드 등 서버 사용\n",
    "    * AWS, 네이버 클라우드 등\n",
    "    * 오프라인 관리가 필요없으며, 안정적이다.\n",
    "    * 비싸다..."
   ]
  },
  {
   "cell_type": "markdown",
   "metadata": {
    "id": "Due8naADzEZc"
   },
   "source": [
    "### import packages"
   ]
  },
  {
   "cell_type": "code",
   "metadata": {
    "id": "TlUX4NtWRL5b",
    "outputId": "735c507c-5fe0-4d2d-9db7-72ed398aaab6",
    "colab": {
     "base_uri": "https://localhost:8080/",
     "height": 35
    },
    "ExecuteTime": {
     "end_time": "2023-12-27T14:18:05.948520400Z",
     "start_time": "2023-12-27T14:18:05.895521500Z"
    }
   },
   "source": [
    "import tensorflow as tf\n",
    "from tensorflow.keras.models import Sequential\n",
    "from tensorflow.keras import layers\n",
    "\n",
    "from sklearn.model_selection import train_test_split\n",
    "\n",
    "import numpy as np\n",
    "import matplotlib.pyplot as plt\n",
    "import os\n",
    "\n",
    "tf.__version__"
   ],
   "execution_count": 85,
   "outputs": [
    {
     "data": {
      "text/plain": "'2.10.0'"
     },
     "execution_count": 85,
     "metadata": {},
     "output_type": "execute_result"
    }
   ]
  },
  {
   "cell_type": "markdown",
   "metadata": {
    "id": "Kjsldx-rzIfG"
   },
   "source": [
    "### load data\n",
    "* CIFAR 10 dataset을 로드한다. (npy)\n",
    "* 학습에 사용되는 대표적인 데이터셋들은 프레임워크내 코드로 제공된다.\n",
    "\n",
    "```\n",
    "tf.keras.dataset.cifar10\n",
    "tf.keras.dataset.cifar100\n",
    "tf.keras.dataset.mnist\n",
    "tf.keras.dataset.fashion_mnist\n",
    "tf.keras.dataset.imdb\n",
    "\n",
    "```\n",
    "\n",
    "* 다양한 데이터셋을 쉽게 가져와 사용할 수 있다.\n",
    "\n",
    "### 데이터셋 사용방법\n",
    "* Data split\n",
    "    * sklearn (머신러닝 프레임워크)를 이용해 데이터를 손쉽게 나눌 수 있다.\n",
    "\n",
    "```\n",
    "test_data_split, valid_data, test_labels_split, valid_labels = \\\n",
    "    train_test_split(test_data, test_labels, test_size=0.2, shuffle=True)\n",
    "```\n",
    "\n",
    "* test_size를 조절해 원하는 크기만큼의 데이터를 분리해 사용할 수 있다."
   ]
  },
  {
   "cell_type": "code",
   "metadata": {
    "id": "C5QyC6CZMgLT",
    "ExecuteTime": {
     "end_time": "2023-12-27T14:18:06.228212900Z",
     "start_time": "2023-12-27T14:18:05.926522700Z"
    }
   },
   "source": [
    "# Load training and eval data from tf.keras\n",
    "(train_data, train_labels), (test_data, test_labels) = \\\n",
    "    tf.keras.datasets.cifar10.load_data()"
   ],
   "execution_count": 86,
   "outputs": []
  },
  {
   "cell_type": "code",
   "metadata": {
    "id": "_bshB8j2Qu3Z",
    "colab": {
     "base_uri": "https://localhost:8080/"
    },
    "outputId": "f6192d0a-e478-4e2d-804d-5d0d590860bb",
    "ExecuteTime": {
     "end_time": "2023-12-27T14:18:06.262221500Z",
     "start_time": "2023-12-27T14:18:06.210530900Z"
    }
   },
   "source": [
    "!cd /root/.keras/datasets/ && ls -al"
   ],
   "execution_count": 87,
   "outputs": [
    {
     "name": "stderr",
     "output_type": "stream",
     "text": [
      "지정된 경로를 찾을 수 없습니다.\n"
     ]
    }
   ]
  },
  {
   "cell_type": "code",
   "metadata": {
    "id": "fKduNOW08ugw",
    "outputId": "16ef08b2-c48b-4d45-b4ec-39c1a8b31076",
    "colab": {
     "base_uri": "https://localhost:8080/"
    },
    "ExecuteTime": {
     "end_time": "2023-12-27T14:18:06.286251400Z",
     "start_time": "2023-12-27T14:18:06.256218700Z"
    }
   },
   "source": [
    "print(train_data.shape, train_labels.shape)\n",
    "print(test_data.shape, test_labels.shape)\n",
    "print(test_labels[0])  # 데이터셋 제작할때, [3] => 3 으로 데이터 형태를 변경해줘야합니다."
   ],
   "execution_count": 88,
   "outputs": [
    {
     "name": "stdout",
     "output_type": "stream",
     "text": [
      "(50000, 32, 32, 3) (50000, 1)\n",
      "(10000, 32, 32, 3) (10000, 1)\n",
      "[3]\n"
     ]
    }
   ]
  },
  {
   "cell_type": "code",
   "metadata": {
    "id": "INZN9eNPRL5h",
    "ExecuteTime": {
     "end_time": "2023-12-27T14:18:06.681594300Z",
     "start_time": "2023-12-27T14:18:06.275251600Z"
    }
   },
   "source": [
    "test_data, valid_data, test_labels, valid_labels = \\\n",
    "    train_test_split(test_data, test_labels, test_size=0.1, shuffle=True)  # 0~1의 값으로 줍니다.\n",
    "# test_size => 0.1 = 10%\n",
    "# test_size => 0.2 = 20%\n",
    "\n",
    "# raw data normalization\n",
    "# RGB 값이 0~255 사이 값인 것을 이용해 Normalization 진행\n",
    "train_data = train_data / 255.\n",
    "train_data = train_data.reshape([-1, 32, 32, 3])\n",
    "train_labels = train_labels.reshape([-1])\n",
    "\n",
    "valid_data = valid_data / 255.\n",
    "valid_data = valid_data.reshape([-1, 32, 32, 3])\n",
    "valid_labels = valid_labels.reshape([-1])\n",
    "\n",
    "test_data = test_data / 255.\n",
    "test_data = test_data.reshape([-1, 32, 32, 3])\n",
    "test_labels = test_labels.reshape([-1])\n"
   ],
   "execution_count": 89,
   "outputs": []
  },
  {
   "cell_type": "code",
   "metadata": {
    "id": "Nd8fwv5AeaFy",
    "outputId": "e23f7336-da66-4b3a-acde-2be4b8f0a91e",
    "colab": {
     "base_uri": "https://localhost:8080/"
    },
    "ExecuteTime": {
     "end_time": "2023-12-27T14:18:06.698279700Z",
     "start_time": "2023-12-27T14:18:06.684593300Z"
    }
   },
   "source": [
    "# [데이터수, 32, 32, 3] [데이터수,]\n",
    "print(train_data.shape, train_labels.shape)\n",
    "print(valid_data.shape, valid_labels.shape)\n",
    "print(test_data.shape, test_labels.shape)"
   ],
   "execution_count": 90,
   "outputs": [
    {
     "name": "stdout",
     "output_type": "stream",
     "text": [
      "(50000, 32, 32, 3) (50000,)\n",
      "(1000, 32, 32, 3) (1000,)\n",
      "(9000, 32, 32, 3) (9000,)\n"
     ]
    }
   ]
  },
  {
   "cell_type": "markdown",
   "metadata": {
    "id": "J_5B8vqPzNYY"
   },
   "source": [
    "### dataset 구성\n",
    "* tf.data.Dataset을 이용해 데이터셋을 구성한다.\n",
    "    * 위에서 불러온 raw data (cifar10) 데이터셋을 모델이 학습 할 수 있도록 전달해 주는 데이터셋이다.\n",
    "* tf data Dataset을 사용해야하는 이유?\n",
    "    * 직접 Generator를 작성할 필요가 없다\n",
    "    * map 함수를 이용해 전처리 과정을 직접 조절할 수 있다.\n",
    "    * 메모리에 부담이 되지 않게 동작한다.\n",
    "\n",
    "\n",
    "### 직접 적용해보자\n",
    "* map 함수를 적용할 함수 구현 후 dataset을 구현하며 사용해보자"
   ]
  },
  {
   "cell_type": "code",
   "metadata": {
    "id": "KB2O5Gf8RL5n",
    "ExecuteTime": {
     "end_time": "2023-12-27T14:18:06.726277800Z",
     "start_time": "2023-12-27T14:18:06.701279200Z"
    }
   },
   "source": [
    "def one_hot_label(image, label):  # label => one_hot\n",
    "    label = tf.one_hot(label, depth=10)\n",
    "    return image, label"
   ],
   "execution_count": 91,
   "outputs": []
  },
  {
   "cell_type": "markdown",
   "metadata": {
    "id": "RQuarDIdj0nn"
   },
   "source": [
    "* 위 one_hot_label 함수는 아래와 같이 동작한다.\n",
    "# one_hot vector 예시\n",
    "\n",
    "```Python\n",
    "tf.one_hot(\n",
    "    indices, depth, on_value=None, off_value=None, axis=None, dtype=None, name=None\n",
    ")\n",
    "\n",
    "indices = [0, 1, 2]\n",
    "depth = 3\n",
    "tf.one_hot(indices, depth)  # output: [3 x 3]\n",
    "# [[1., 0., 0.],\n",
    "#  [0., 1., 0.],\n",
    "#  [0., 0., 1.]]\n",
    "\n",
    "```"
   ]
  },
  {
   "cell_type": "markdown",
   "metadata": {
    "id": "sl0pvav6kJMT"
   },
   "source": [
    "### map 함수를 포함한 dataset 구성\n",
    "* Dataset을 딥러닝 데이터를 쉽게 불러오기 위한 일종의 Generator 입니다.\n",
    "* 학습에 사용할 데이터셋은 총 3개\n",
    "    * Train dataset, Valid dataset, Test dataset 입니다.\n",
    "        * Raw data에서 분리한 데이터들\n",
    "    * 데이터셋은 tf.data.Dataset으로 구성되며, 구현 파트에선 데이터를 불러오는 형식만을 지정해준다.\n",
    "        * shuffle, batch 옵션을 이용해 다양하게 데이터를 로드해올 수 있다.\n",
    "    "
   ]
  },
  {
   "cell_type": "code",
   "metadata": {
    "id": "4YFNeX5zokDu",
    "ExecuteTime": {
     "end_time": "2023-12-27T14:18:06.729279800Z",
     "start_time": "2023-12-27T14:18:06.714279700Z"
    }
   },
   "source": [
    "batch_size = 32"
   ],
   "execution_count": 92,
   "outputs": []
  },
  {
   "cell_type": "code",
   "metadata": {
    "id": "5smuqDGFRL5s",
    "outputId": "ff03483d-1d25-4bf3-909d-a4a44e788399",
    "colab": {
     "base_uri": "https://localhost:8080/"
    },
    "ExecuteTime": {
     "end_time": "2023-12-27T14:18:07.512733100Z",
     "start_time": "2023-12-27T14:18:06.731279Z"
    }
   },
   "source": [
    "# for train\n",
    "N = len(train_data)\n",
    "train_dataset = tf.data.Dataset.from_tensor_slices((train_data, train_labels))\n",
    "train_dataset = train_dataset.map(one_hot_label)  # 함수의 이름을 써서 구현\n",
    "train_dataset = train_dataset.shuffle(10000).repeat().batch(batch_size=batch_size)\n",
    "print(train_dataset)\n",
    "\n",
    "# # for valid\n",
    "valid_dataset = tf.data.Dataset.from_tensor_slices((valid_data, valid_labels))\n",
    "valid_dataset = valid_dataset.map(one_hot_label)\n",
    "valid_dataset = valid_dataset.batch(batch_size=batch_size)\n",
    "print(valid_dataset)\n",
    "\n",
    "# # for test\n",
    "test_dataset = tf.data.Dataset.from_tensor_slices((test_data, test_labels))\n",
    "test_dataset = test_dataset.map(one_hot_label)\n",
    "test_dataset = test_dataset.batch(batch_size=batch_size)\n",
    "print(test_dataset)\n"
   ],
   "execution_count": 93,
   "outputs": [
    {
     "name": "stdout",
     "output_type": "stream",
     "text": [
      "<BatchDataset element_spec=(TensorSpec(shape=(None, 32, 32, 3), dtype=tf.float64, name=None), TensorSpec(shape=(None, 10), dtype=tf.float32, name=None))>\n",
      "<BatchDataset element_spec=(TensorSpec(shape=(None, 32, 32, 3), dtype=tf.float64, name=None), TensorSpec(shape=(None, 10), dtype=tf.float32, name=None))>\n",
      "<BatchDataset element_spec=(TensorSpec(shape=(None, 32, 32, 3), dtype=tf.float64, name=None), TensorSpec(shape=(None, 10), dtype=tf.float32, name=None))>\n"
     ]
    }
   ]
  },
  {
   "cell_type": "markdown",
   "metadata": {
    "id": "8s_YijINvd7I"
   },
   "source": [
    "\n",
    "* 데이터 타입의 경우 Tensorflow 버전에 따라 tf.float32 or tf.float64로 출력될 수 있으나 학습에 큰 영향을 주진 않는다.\n",
    "* 해당 자료형은 tf.cast를 이용해 따로 타입을 지정해줄 수 있다."
   ]
  },
  {
   "cell_type": "markdown",
   "metadata": {
    "id": "Sak_LGn0jVSz"
   },
   "source": [
    "### Save point 설정\n",
    "* Model weight를 저장할 폴더를 지정한다.\n",
    "* 폴더가 없다면 새로 생성해준다."
   ]
  },
  {
   "cell_type": "code",
   "metadata": {
    "id": "aoGnJiFQn-9a",
    "ExecuteTime": {
     "end_time": "2023-12-27T14:18:07.548598300Z",
     "start_time": "2023-12-27T14:18:07.514731Z"
    }
   },
   "source": [
    "# the save point\n",
    "if use_colab:\n",
    "    checkpoint_dir = './drive/My Drive/train_ckpt/cifar10_classification/exp1'\n",
    "else:\n",
    "    checkpoint_dir = 'cifar10_classification/exp1'\n",
    "\n",
    "if not os.path.isdir(checkpoint_dir):\n",
    "    os.makedirs(checkpoint_dir)"
   ],
   "execution_count": 94,
   "outputs": []
  },
  {
   "cell_type": "markdown",
   "metadata": {
    "id": "28Zgtrndp8ag"
   },
   "source": [
    "### Model Savepoints\n",
    "* 모델 저장시 모델의 파라미터를 저장한다.\n",
    "    * 위에 구현된 모델의 shape을 기준으로 파라미터만 저장\n",
    "* 저장된 데이터는 checkpoint 형태로 저장되며, load data를 이용해 불러올 수 있다.\n",
    "    * 저장된 모델 데이터를 불러올 시에는 저장된 모델과 같은 shape인 모델이 메모리 상에 있어야 한다.\n",
    "\n",
    "```\n",
    "model = model() # 구현했던 모델\n",
    "model.load_weights(checkpoint_dir)\n",
    "```"
   ]
  },
  {
   "cell_type": "markdown",
   "metadata": {
    "id": "E9zJFca-nq4v"
   },
   "source": [
    "### 데이터 확인\n",
    "* 학습에 사용할 데이터를 확인해보자."
   ]
  },
  {
   "cell_type": "code",
   "metadata": {
    "id": "s8zViOfERL5v",
    "outputId": "3f17d6f9-7968-4ab7-f34f-80de38ae6a3f",
    "colab": {
     "base_uri": "https://localhost:8080/",
     "height": 447
    },
    "ExecuteTime": {
     "end_time": "2023-12-27T14:18:07.666065400Z",
     "start_time": "2023-12-27T14:18:07.530599700Z"
    }
   },
   "source": [
    "index = 219  # index를 변경해 확인해보자 (0~49999)\n",
    "print(\"label = {}\".format(train_labels[index]))\n",
    "plt.imshow(train_data[index].reshape(32, 32, 3))\n",
    "plt.colorbar()\n",
    "#plt.gca().grid(False)\n",
    "plt.show()"
   ],
   "execution_count": 95,
   "outputs": [
    {
     "name": "stdout",
     "output_type": "stream",
     "text": [
      "label = 9\n"
     ]
    },
    {
     "data": {
      "text/plain": "<Figure size 640x480 with 2 Axes>",
      "image/png": "[encoded data removed]"
     },
     "metadata": {},
     "output_type": "display_data"
    }
   ]
  },
  {
   "cell_type": "markdown",
   "metadata": {
    "id": "3ci_kGCiiVYN"
   },
   "source": [
    "### 모델 구성\n",
    "* 직접 모델을 구현해 봅시다."
   ]
  },
  {
   "cell_type": "code",
   "metadata": {
    "id": "zc-5rcdFAmDP",
    "colab": {
     "base_uri": "https://localhost:8080/"
    },
    "outputId": "d573c9bc-aa11-4551-d223-a0fac67a4ca3",
    "ExecuteTime": {
     "end_time": "2023-12-27T14:18:07.704792900Z",
     "start_time": "2023-12-27T14:18:07.668569200Z"
    }
   },
   "source": [
    "# # 1번 방법\n",
    "# model = Sequential()\n",
    "# model.add() # (32#필터갯수, 3#필터사이즈)\n",
    "\n",
    "# # 2번 방법\n",
    "# model = Sequential([\n",
    "#                     #layer,\n",
    "#                     #layer,\n",
    "# ])\n",
    "\n",
    "# 모델의 output\n",
    "# 1번 구현 방법\n",
    "...  # loss fn => from_logits 는 마지막 레이어의 activation과 관련\n",
    "#model.add(layers.Dense(10, activation='softmax')) # from_logits=False\n",
    "\n",
    "# 2번 구현 방법\n",
    "#model.add(layers.Dense(10)) # activation을 거치지않은 데이터를 logits\n",
    "# from_logits=True => 마지막 레이어에 activation이 없다."
   ],
   "execution_count": 96,
   "outputs": [
    {
     "data": {
      "text/plain": "Ellipsis"
     },
     "execution_count": 96,
     "metadata": {},
     "output_type": "execute_result"
    }
   ]
  },
  {
   "cell_type": "code",
   "source": [
    "# F API\n",
    "input_tensor = layers.Input(shape=(32, 32, 3,))  # 1개 데이터의 특성\n",
    "\n",
    "x = layers.Conv2D(32, 3, padding='same', kernel_initializer=tf.keras.initializers.HeUniform(),\n",
    "                  kernel_regularizer=tf.keras.regularizers.L2(0.0001))(input_tensor)\n",
    "x = layers.BatchNormalization()(x)\n",
    "x = layers.Activation('relu')(x)\n",
    "x = layers.Conv2D(32, 3, padding='same',\n",
    "                  kernel_initializer=tf.keras.initializers.HeUniform(),\n",
    "                  kernel_regularizer=tf.keras.regularizers.L2(0.0001))(x)\n",
    "x = layers.BatchNormalization()(x)\n",
    "x = layers.Activation('relu')(x)\n",
    "x = layers.MaxPool2D((2, 2))(x)\n",
    "x = layers.Dropout(0.1)(x)\n",
    "\n",
    "x = layers.Conv2D(64, 3, padding='same', kernel_initializer=tf.keras.initializers.HeUniform(),\n",
    "                  kernel_regularizer=tf.keras.regularizers.L2(0.0001))(x)\n",
    "x = layers.BatchNormalization()(x)\n",
    "x = layers.Activation('relu')(x)\n",
    "# x = layers.MaxPool2D(2, 2)(x)  #\n",
    "x = layers.Conv2D(64, 3, padding='same',\n",
    "                  kernel_initializer=tf.keras.initializers.HeUniform(),\n",
    "                  kernel_regularizer=tf.keras.regularizers.L2(0.0001))(x)\n",
    "x = layers.BatchNormalization()(x)\n",
    "x = layers.Activation('relu')(x)\n",
    "x = layers.MaxPool2D((2, 2))(x)\n",
    "x = layers.Dropout(0.2)(x)\n",
    "\n",
    "x = layers.Conv2D(128, 3, padding='same', kernel_initializer=tf.keras.initializers.HeUniform(),\n",
    "                  kernel_regularizer=tf.keras.regularizers.L2(0.0001))(x)\n",
    "x = layers.BatchNormalization()(x)\n",
    "x = layers.Activation('relu')(x)\n",
    "\n",
    "x = layers.Conv2D(128, 3, padding='same', kernel_initializer=tf.keras.initializers.HeUniform(),\n",
    "                  kernel_regularizer=tf.keras.regularizers.L2(0.0001))(x)\n",
    "x = layers.BatchNormalization()(x)\n",
    "x = layers.Activation('relu')(x)\n",
    "x = layers.MaxPool2D((2, 2))(x)\n",
    "x = layers.Dropout(0.3)(x)\n",
    "\n",
    "x = layers.Conv2D(256, 3,\n",
    "                  kernel_initializer=tf.keras.initializers.HeUniform(),\n",
    "                  kernel_regularizer=tf.keras.regularizers.L2(0.0001))(x)\n",
    "x = layers.BatchNormalization()(x)\n",
    "x = layers.Activation('relu')(x)\n",
    "x = layers.Dropout(0.3)(x)\n",
    "\n",
    "# x = layers.Conv2D(256, 3, padding='same', kernel_initializer=tf.keras.initializers.HeUniform(), kernel_regularizer=tf.keras.regularizers.L2(0.0001))(x)\n",
    "# x = layers.BatchNormalization()(x)\n",
    "# x= layers.Dropout(0.4)(x)\n",
    "# x = layers.Activation('relu')(x)\n",
    "# x = layers.MaxPool2D((2,2))(x)\n",
    "\n",
    "\n",
    "x = layers.Flatten()(x)\n",
    "# x = layers.Dense(512, kernel_initializer=tf.keras.initializers.HeUniform(), kernel_regularizer=tf.keras.regularizers.L2(0.0001))(x)\n",
    "# x = layers.BatchNormalization()(x)\n",
    "# x = layers.Activation('relu')(x)\n",
    "#\n",
    "\n",
    "x = layers.Dense(128, kernel_initializer=tf.keras.initializers.HeUniform(),\n",
    "                 kernel_regularizer=tf.keras.regularizers.L2(0.0001))(x)\n",
    "x = layers.Dropout(0.5)(x)\n",
    "x = layers.BatchNormalization()(x)\n",
    "x = layers.Activation('relu')(x)\n",
    "\n",
    "# x = layers.Dense(64, kernel_initializer=tf.keras.initializers.HeUniform(), kernel_regularizer=tf.keras.regularizers.L2(0.0001))(x)\n",
    "# x = layers.BatchNormalization()(x)\n",
    "# x = layers.Activation('relu')(x)\n",
    "\n",
    "\n",
    "x = layers.Dense(10, kernel_initializer=tf.keras.initializers.HeUniform(),\n",
    "                 kernel_regularizer=tf.keras.regularizers.L2(0.0001))(x)\n",
    "output_tensor = layers.Activation('softmax')(x)\n",
    "\n",
    "# 최종 모델 완성\n",
    "model = tf.keras.Model(input_tensor, output_tensor)"
   ],
   "metadata": {
    "id": "7UJxwGG2uTe9",
    "ExecuteTime": {
     "end_time": "2023-12-27T14:18:07.822583300Z",
     "start_time": "2023-12-27T14:18:07.693789700Z"
    }
   },
   "execution_count": 97,
   "outputs": []
  },
  {
   "cell_type": "markdown",
   "metadata": {
    "id": "eA76LqFwpH-X"
   },
   "source": [
    "* 모델이 잘 생성 되었는지 간단하게 테스트해 봅시다."
   ]
  },
  {
   "cell_type": "code",
   "metadata": {
    "id": "g8BnMTZyRL53",
    "outputId": "10c37de9-59aa-4299-9d4d-a5898aa9746b",
    "colab": {
     "base_uri": "https://localhost:8080/"
    },
    "ExecuteTime": {
     "end_time": "2023-12-27T14:18:07.871307900Z",
     "start_time": "2023-12-27T14:18:07.823584200Z"
    }
   },
   "source": [
    "# without training, just inference a model in eager execution:\n",
    "predictions = model(train_data[0:1], training=False)\n",
    "print(\"Predictions: \", predictions.numpy())  # 총 10개의 데이터가 나오면 모델이 잘 구성된겁니다."
   ],
   "execution_count": 98,
   "outputs": [
    {
     "name": "stdout",
     "output_type": "stream",
     "text": [
      "Predictions:  [[0.16188206 0.03723622 0.15868299 0.0731187  0.0363384  0.06593321\n",
      "  0.06354672 0.12411691 0.19951846 0.07962631]]\n"
     ]
    }
   ]
  },
  {
   "cell_type": "markdown",
   "metadata": {
    "id": "nct8JiQxpLsX"
   },
   "source": [
    "* 위 Predictions 결과가 총 10개 짜리 리스트로 출력 된다면, 현재 테스크에서 정상적인 출력입니다.\n",
    "    * cifar10 dataset은 정답이 총 10개로 이뤄져 있습니다.\n",
    "    * 출력값은 마지막 output layer에 activation의 유무에 따라서 값이 달라지며, activation을 통과하기전 데이터를 logit이라고 이야기합니다."
   ]
  },
  {
   "cell_type": "markdown",
   "metadata": {
    "id": "vJRZU65fl2xz"
   },
   "source": [
    "### Model compile\n",
    "* 학습을 위한 Optimizer와 Loss fn을 설정해준다.\n",
    "    * Optimzier는 learning rate를 인자로 가지며, 모델의 학습정도를 컨트롤합니다.\n",
    "    * Loss fn은 모델의 예측결과와 실제 정답간의 차이를 loss로 계산해 모델을 학습합니다."
   ]
  },
  {
   "cell_type": "code",
   "metadata": {
    "id": "P3I0O8MaRL57",
    "ExecuteTime": {
     "end_time": "2023-12-27T14:18:07.944314900Z",
     "start_time": "2023-12-27T14:18:07.869266200Z"
    }
   },
   "source": [
    "model.compile(optimizer=tf.keras.optimizers.Adam(1e-4),  # learning rate가 기본값으로 1e-3으로 들어가있습니다.\n",
    "              loss=tf.keras.losses.CategoricalCrossentropy(from_logits=False)\n",
    "              ,\n",
    "              metrics=['accuracy'])"
   ],
   "execution_count": 99,
   "outputs": []
  },
  {
   "cell_type": "code",
   "metadata": {
    "id": "3KF1BT7aRL5-",
    "outputId": "95b59a79-7a37-4614-c17d-1ac2aff1979a",
    "colab": {
     "base_uri": "https://localhost:8080/"
    },
    "ExecuteTime": {
     "end_time": "2023-12-27T14:18:08.001168100Z",
     "start_time": "2023-12-27T14:18:07.897295500Z"
    }
   },
   "source": [
    "model.summary()"
   ],
   "execution_count": 100,
   "outputs": [
    {
     "name": "stdout",
     "output_type": "stream",
     "text": [
      "Model: \"model_3\"\n",
      "_________________________________________________________________\n",
      " Layer (type)                Output Shape              Param #   \n",
      "=================================================================\n",
      " input_4 (InputLayer)        [(None, 32, 32, 3)]       0         \n",
      "                                                                 \n",
      " conv2d_23 (Conv2D)          (None, 32, 32, 32)        896       \n",
      "                                                                 \n",
      " batch_normalization_26 (Bat  (None, 32, 32, 32)       128       \n",
      " chNormalization)                                                \n",
      "                                                                 \n",
      " activation_29 (Activation)  (None, 32, 32, 32)        0         \n",
      "                                                                 \n",
      " conv2d_24 (Conv2D)          (None, 32, 32, 32)        9248      \n",
      "                                                                 \n",
      " batch_normalization_27 (Bat  (None, 32, 32, 32)       128       \n",
      " chNormalization)                                                \n",
      "                                                                 \n",
      " activation_30 (Activation)  (None, 32, 32, 32)        0         \n",
      "                                                                 \n",
      " max_pooling2d (MaxPooling2D  (None, 16, 16, 32)       0         \n",
      " )                                                               \n",
      "                                                                 \n",
      " dropout_15 (Dropout)        (None, 16, 16, 32)        0         \n",
      "                                                                 \n",
      " conv2d_25 (Conv2D)          (None, 16, 16, 64)        18496     \n",
      "                                                                 \n",
      " batch_normalization_28 (Bat  (None, 16, 16, 64)       256       \n",
      " chNormalization)                                                \n",
      "                                                                 \n",
      " activation_31 (Activation)  (None, 16, 16, 64)        0         \n",
      "                                                                 \n",
      " conv2d_26 (Conv2D)          (None, 16, 16, 64)        36928     \n",
      "                                                                 \n",
      " batch_normalization_29 (Bat  (None, 16, 16, 64)       256       \n",
      " chNormalization)                                                \n",
      "                                                                 \n",
      " activation_32 (Activation)  (None, 16, 16, 64)        0         \n",
      "                                                                 \n",
      " max_pooling2d_1 (MaxPooling  (None, 8, 8, 64)         0         \n",
      " 2D)                                                             \n",
      "                                                                 \n",
      " dropout_16 (Dropout)        (None, 8, 8, 64)          0         \n",
      "                                                                 \n",
      " conv2d_27 (Conv2D)          (None, 8, 8, 128)         73856     \n",
      "                                                                 \n",
      " batch_normalization_30 (Bat  (None, 8, 8, 128)        512       \n",
      " chNormalization)                                                \n",
      "                                                                 \n",
      " activation_33 (Activation)  (None, 8, 8, 128)         0         \n",
      "                                                                 \n",
      " conv2d_28 (Conv2D)          (None, 8, 8, 128)         147584    \n",
      "                                                                 \n",
      " batch_normalization_31 (Bat  (None, 8, 8, 128)        512       \n",
      " chNormalization)                                                \n",
      "                                                                 \n",
      " activation_34 (Activation)  (None, 8, 8, 128)         0         \n",
      "                                                                 \n",
      " dropout_17 (Dropout)        (None, 8, 8, 128)         0         \n",
      "                                                                 \n",
      " conv2d_29 (Conv2D)          (None, 6, 6, 256)         295168    \n",
      "                                                                 \n",
      " batch_normalization_32 (Bat  (None, 6, 6, 256)        1024      \n",
      " chNormalization)                                                \n",
      "                                                                 \n",
      " activation_35 (Activation)  (None, 6, 6, 256)         0         \n",
      "                                                                 \n",
      " dropout_18 (Dropout)        (None, 6, 6, 256)         0         \n",
      "                                                                 \n",
      " flatten_3 (Flatten)         (None, 9216)              0         \n",
      "                                                                 \n",
      " dense_6 (Dense)             (None, 128)               1179776   \n",
      "                                                                 \n",
      " dropout_19 (Dropout)        (None, 128)               0         \n",
      "                                                                 \n",
      " batch_normalization_33 (Bat  (None, 128)              512       \n",
      " chNormalization)                                                \n",
      "                                                                 \n",
      " activation_36 (Activation)  (None, 128)               0         \n",
      "                                                                 \n",
      " dense_7 (Dense)             (None, 10)                1290      \n",
      "                                                                 \n",
      " activation_37 (Activation)  (None, 10)                0         \n",
      "                                                                 \n",
      "=================================================================\n",
      "Total params: 1,766,570\n",
      "Trainable params: 1,764,906\n",
      "Non-trainable params: 1,664\n",
      "_________________________________________________________________\n"
     ]
    }
   ]
  },
  {
   "cell_type": "code",
   "metadata": {
    "id": "OKIiPxAgoItQ",
    "ExecuteTime": {
     "end_time": "2023-12-27T14:18:08.038795100Z",
     "start_time": "2023-12-27T14:18:07.982169400Z"
    }
   },
   "source": [
    "cp_callback = tf.keras.callbacks.ModelCheckpoint(checkpoint_dir,  # save point dir\n",
    "                                                 save_weights_only=True,\n",
    "                                                 monitor='val_loss',\n",
    "                                                 mode='auto',\n",
    "                                                 save_best_only=True,\n",
    "                                                 verbose=1)\n",
    "\n",
    "early_stopping_cb = tf.keras.callbacks.EarlyStopping(patience=30,\n",
    "                                                     monitor='val_loss',\n",
    "                                                     restore_best_weights=True,\n",
    "                                                     verbose=1)"
   ],
   "execution_count": 101,
   "outputs": []
  },
  {
   "cell_type": "code",
   "metadata": {
    "id": "B3sOL3HCRL6A",
    "outputId": "30d5cb1a-240f-45c2-aa84-5c9fb635eb0f",
    "colab": {
     "base_uri": "https://localhost:8080/"
    },
    "ExecuteTime": {
     "end_time": "2023-12-27T14:40:41.974344800Z",
     "start_time": "2023-12-27T14:18:07.999168800Z"
    }
   },
   "source": [
    "max_epochs = 250\n",
    "\n",
    "# using `tf.data.Dataset`\n",
    "history = model.fit(train_dataset,\n",
    "                    steps_per_epoch=len(train_data) // batch_size,\n",
    "                    epochs=max_epochs,\n",
    "                    validation_data=valid_dataset,\n",
    "                    validation_steps=len(valid_data) // batch_size,\n",
    "                    callbacks=[cp_callback, early_stopping_cb]\n",
    "                    )"
   ],
   "execution_count": 102,
   "outputs": [
    {
     "name": "stdout",
     "output_type": "stream",
     "text": [
      "Epoch 1/250\n",
      "1558/1562 [============================>.] - ETA: 0s - loss: 2.0388 - accuracy: 0.3218\n",
      "Epoch 1: val_loss improved from inf to 1.90908, saving model to ./drive/My Drive/train_ckpt/cifar10_classification\\exp1\n",
      "1562/1562 [==============================] - 14s 8ms/step - loss: 2.0382 - accuracy: 0.3221 - val_loss: 1.9091 - val_accuracy: 0.3649\n",
      "Epoch 2/250\n",
      "1558/1562 [============================>.] - ETA: 0s - loss: 1.6620 - accuracy: 0.4607\n",
      "Epoch 2: val_loss improved from 1.90908 to 1.61370, saving model to ./drive/My Drive/train_ckpt/cifar10_classification\\exp1\n",
      "1562/1562 [==============================] - 13s 8ms/step - loss: 1.6620 - accuracy: 0.4607 - val_loss: 1.6137 - val_accuracy: 0.4798\n",
      "Epoch 3/250\n",
      "1562/1562 [==============================] - ETA: 0s - loss: 1.4909 - accuracy: 0.5296\n",
      "Epoch 3: val_loss improved from 1.61370 to 1.46112, saving model to ./drive/My Drive/train_ckpt/cifar10_classification\\exp1\n",
      "1562/1562 [==============================] - 13s 8ms/step - loss: 1.4909 - accuracy: 0.5296 - val_loss: 1.4611 - val_accuracy: 0.5464\n",
      "Epoch 4/250\n",
      "1560/1562 [============================>.] - ETA: 0s - loss: 1.3626 - accuracy: 0.5787\n",
      "Epoch 4: val_loss improved from 1.46112 to 1.21622, saving model to ./drive/My Drive/train_ckpt/cifar10_classification\\exp1\n",
      "1562/1562 [==============================] - 12s 8ms/step - loss: 1.3624 - accuracy: 0.5787 - val_loss: 1.2162 - val_accuracy: 0.6119\n",
      "Epoch 5/250\n",
      "1560/1562 [============================>.] - ETA: 0s - loss: 1.2609 - accuracy: 0.6163\n",
      "Epoch 5: val_loss improved from 1.21622 to 1.15271, saving model to ./drive/My Drive/train_ckpt/cifar10_classification\\exp1\n",
      "1562/1562 [==============================] - 13s 8ms/step - loss: 1.2608 - accuracy: 0.6164 - val_loss: 1.1527 - val_accuracy: 0.6411\n",
      "Epoch 6/250\n",
      "1562/1562 [==============================] - ETA: 0s - loss: 1.1799 - accuracy: 0.6448\n",
      "Epoch 6: val_loss improved from 1.15271 to 1.07305, saving model to ./drive/My Drive/train_ckpt/cifar10_classification\\exp1\n",
      "1562/1562 [==============================] - 13s 8ms/step - loss: 1.1799 - accuracy: 0.6448 - val_loss: 1.0731 - val_accuracy: 0.6663\n",
      "Epoch 7/250\n",
      "1558/1562 [============================>.] - ETA: 0s - loss: 1.1231 - accuracy: 0.6681\n",
      "Epoch 7: val_loss did not improve from 1.07305\n",
      "1562/1562 [==============================] - 12s 8ms/step - loss: 1.1228 - accuracy: 0.6681 - val_loss: 1.0762 - val_accuracy: 0.6724\n",
      "Epoch 8/250\n",
      "1560/1562 [============================>.] - ETA: 0s - loss: 1.0621 - accuracy: 0.6890\n",
      "Epoch 8: val_loss improved from 1.07305 to 0.97263, saving model to ./drive/My Drive/train_ckpt/cifar10_classification\\exp1\n",
      "1562/1562 [==============================] - 13s 8ms/step - loss: 1.0624 - accuracy: 0.6888 - val_loss: 0.9726 - val_accuracy: 0.7006\n",
      "Epoch 9/250\n",
      "1559/1562 [============================>.] - ETA: 0s - loss: 1.0147 - accuracy: 0.7069\n",
      "Epoch 9: val_loss improved from 0.97263 to 0.95028, saving model to ./drive/My Drive/train_ckpt/cifar10_classification\\exp1\n",
      "1562/1562 [==============================] - 30s 19ms/step - loss: 1.0144 - accuracy: 0.7070 - val_loss: 0.9503 - val_accuracy: 0.7147\n",
      "Epoch 10/250\n",
      "1557/1562 [============================>.] - ETA: 0s - loss: 0.9709 - accuracy: 0.7223\n",
      "Epoch 10: val_loss improved from 0.95028 to 0.86609, saving model to ./drive/My Drive/train_ckpt/cifar10_classification\\exp1\n",
      "1562/1562 [==============================] - 22s 14ms/step - loss: 0.9712 - accuracy: 0.7222 - val_loss: 0.8661 - val_accuracy: 0.7450\n",
      "Epoch 11/250\n",
      "1562/1562 [==============================] - ETA: 0s - loss: 0.9435 - accuracy: 0.7319\n",
      "Epoch 11: val_loss did not improve from 0.86609\n",
      "1562/1562 [==============================] - 13s 8ms/step - loss: 0.9435 - accuracy: 0.7319 - val_loss: 0.9820 - val_accuracy: 0.7056\n",
      "Epoch 12/250\n",
      "1561/1562 [============================>.] - ETA: 0s - loss: 0.9096 - accuracy: 0.7449\n",
      "Epoch 12: val_loss improved from 0.86609 to 0.80623, saving model to ./drive/My Drive/train_ckpt/cifar10_classification\\exp1\n",
      "1562/1562 [==============================] - 13s 8ms/step - loss: 0.9097 - accuracy: 0.7448 - val_loss: 0.8062 - val_accuracy: 0.7671\n",
      "Epoch 13/250\n",
      "1561/1562 [============================>.] - ETA: 0s - loss: 0.8821 - accuracy: 0.7534\n",
      "Epoch 13: val_loss did not improve from 0.80623\n",
      "1562/1562 [==============================] - 12s 8ms/step - loss: 0.8821 - accuracy: 0.7534 - val_loss: 0.8614 - val_accuracy: 0.7571\n",
      "Epoch 14/250\n",
      "1562/1562 [==============================] - ETA: 0s - loss: 0.8537 - accuracy: 0.7619\n",
      "Epoch 14: val_loss improved from 0.80623 to 0.79200, saving model to ./drive/My Drive/train_ckpt/cifar10_classification\\exp1\n",
      "1562/1562 [==============================] - 12s 8ms/step - loss: 0.8537 - accuracy: 0.7619 - val_loss: 0.7920 - val_accuracy: 0.7712\n",
      "Epoch 15/250\n",
      "1562/1562 [==============================] - ETA: 0s - loss: 0.8341 - accuracy: 0.7704\n",
      "Epoch 15: val_loss did not improve from 0.79200\n",
      "1562/1562 [==============================] - 12s 8ms/step - loss: 0.8341 - accuracy: 0.7704 - val_loss: 0.8165 - val_accuracy: 0.7732\n",
      "Epoch 16/250\n",
      "1559/1562 [============================>.] - ETA: 0s - loss: 0.8083 - accuracy: 0.7780\n",
      "Epoch 16: val_loss did not improve from 0.79200\n",
      "1562/1562 [==============================] - 12s 8ms/step - loss: 0.8084 - accuracy: 0.7780 - val_loss: 0.8177 - val_accuracy: 0.7712\n",
      "Epoch 17/250\n",
      "1560/1562 [============================>.] - ETA: 0s - loss: 0.7901 - accuracy: 0.7846\n",
      "Epoch 17: val_loss improved from 0.79200 to 0.78257, saving model to ./drive/My Drive/train_ckpt/cifar10_classification\\exp1\n",
      "1562/1562 [==============================] - 13s 8ms/step - loss: 0.7901 - accuracy: 0.7846 - val_loss: 0.7826 - val_accuracy: 0.7883\n",
      "Epoch 18/250\n",
      "1559/1562 [============================>.] - ETA: 0s - loss: 0.7703 - accuracy: 0.7906\n",
      "Epoch 18: val_loss improved from 0.78257 to 0.76628, saving model to ./drive/My Drive/train_ckpt/cifar10_classification\\exp1\n",
      "1562/1562 [==============================] - 12s 8ms/step - loss: 0.7708 - accuracy: 0.7904 - val_loss: 0.7663 - val_accuracy: 0.7863\n",
      "Epoch 19/250\n",
      "1556/1562 [============================>.] - ETA: 0s - loss: 0.7553 - accuracy: 0.7967\n",
      "Epoch 19: val_loss improved from 0.76628 to 0.74913, saving model to ./drive/My Drive/train_ckpt/cifar10_classification\\exp1\n",
      "1562/1562 [==============================] - 12s 8ms/step - loss: 0.7553 - accuracy: 0.7968 - val_loss: 0.7491 - val_accuracy: 0.8004\n",
      "Epoch 20/250\n",
      "1560/1562 [============================>.] - ETA: 0s - loss: 0.7326 - accuracy: 0.8056\n",
      "Epoch 20: val_loss did not improve from 0.74913\n",
      "1562/1562 [==============================] - 12s 7ms/step - loss: 0.7327 - accuracy: 0.8055 - val_loss: 0.7774 - val_accuracy: 0.7843\n",
      "Epoch 21/250\n",
      "1559/1562 [============================>.] - ETA: 0s - loss: 0.7167 - accuracy: 0.8096\n",
      "Epoch 21: val_loss improved from 0.74913 to 0.72679, saving model to ./drive/My Drive/train_ckpt/cifar10_classification\\exp1\n",
      "1562/1562 [==============================] - 12s 8ms/step - loss: 0.7165 - accuracy: 0.8097 - val_loss: 0.7268 - val_accuracy: 0.8014\n",
      "Epoch 22/250\n",
      "1557/1562 [============================>.] - ETA: 0s - loss: 0.7028 - accuracy: 0.8135\n",
      "Epoch 22: val_loss improved from 0.72679 to 0.70449, saving model to ./drive/My Drive/train_ckpt/cifar10_classification\\exp1\n",
      "1562/1562 [==============================] - 13s 8ms/step - loss: 0.7030 - accuracy: 0.8136 - val_loss: 0.7045 - val_accuracy: 0.8105\n",
      "Epoch 23/250\n",
      "1561/1562 [============================>.] - ETA: 0s - loss: 0.6955 - accuracy: 0.8165\n",
      "Epoch 23: val_loss did not improve from 0.70449\n",
      "1562/1562 [==============================] - 13s 8ms/step - loss: 0.6956 - accuracy: 0.8165 - val_loss: 0.7382 - val_accuracy: 0.8095\n",
      "Epoch 24/250\n",
      "1557/1562 [============================>.] - ETA: 0s - loss: 0.6781 - accuracy: 0.8216\n",
      "Epoch 24: val_loss did not improve from 0.70449\n",
      "1562/1562 [==============================] - 12s 8ms/step - loss: 0.6775 - accuracy: 0.8219 - val_loss: 0.7446 - val_accuracy: 0.8024\n",
      "Epoch 25/250\n",
      "1562/1562 [==============================] - ETA: 0s - loss: 0.6683 - accuracy: 0.8245\n",
      "Epoch 25: val_loss improved from 0.70449 to 0.69397, saving model to ./drive/My Drive/train_ckpt/cifar10_classification\\exp1\n",
      "1562/1562 [==============================] - 12s 8ms/step - loss: 0.6683 - accuracy: 0.8245 - val_loss: 0.6940 - val_accuracy: 0.8155\n",
      "Epoch 26/250\n",
      "1559/1562 [============================>.] - ETA: 0s - loss: 0.6477 - accuracy: 0.8332\n",
      "Epoch 26: val_loss did not improve from 0.69397\n",
      "1562/1562 [==============================] - 12s 8ms/step - loss: 0.6476 - accuracy: 0.8332 - val_loss: 0.7921 - val_accuracy: 0.7903\n",
      "Epoch 27/250\n",
      "1558/1562 [============================>.] - ETA: 0s - loss: 0.6390 - accuracy: 0.8352\n",
      "Epoch 27: val_loss did not improve from 0.69397\n",
      "1562/1562 [==============================] - 13s 8ms/step - loss: 0.6389 - accuracy: 0.8353 - val_loss: 0.7074 - val_accuracy: 0.8175\n",
      "Epoch 28/250\n",
      "1558/1562 [============================>.] - ETA: 0s - loss: 0.6249 - accuracy: 0.8405\n",
      "Epoch 28: val_loss improved from 0.69397 to 0.68528, saving model to ./drive/My Drive/train_ckpt/cifar10_classification\\exp1\n",
      "1562/1562 [==============================] - 13s 8ms/step - loss: 0.6251 - accuracy: 0.8404 - val_loss: 0.6853 - val_accuracy: 0.8226\n",
      "Epoch 29/250\n",
      "1560/1562 [============================>.] - ETA: 0s - loss: 0.6144 - accuracy: 0.8430\n",
      "Epoch 29: val_loss did not improve from 0.68528\n",
      "1562/1562 [==============================] - 13s 8ms/step - loss: 0.6142 - accuracy: 0.8431 - val_loss: 0.6948 - val_accuracy: 0.8216\n",
      "Epoch 30/250\n",
      "1561/1562 [============================>.] - ETA: 0s - loss: 0.6028 - accuracy: 0.8477\n",
      "Epoch 30: val_loss did not improve from 0.68528\n",
      "1562/1562 [==============================] - 12s 8ms/step - loss: 0.6029 - accuracy: 0.8477 - val_loss: 0.7339 - val_accuracy: 0.8115\n",
      "Epoch 31/250\n",
      "1559/1562 [============================>.] - ETA: 0s - loss: 0.5989 - accuracy: 0.8494\n",
      "Epoch 31: val_loss improved from 0.68528 to 0.64731, saving model to ./drive/My Drive/train_ckpt/cifar10_classification\\exp1\n",
      "1562/1562 [==============================] - 12s 8ms/step - loss: 0.5990 - accuracy: 0.8493 - val_loss: 0.6473 - val_accuracy: 0.8387\n",
      "Epoch 32/250\n",
      "1558/1562 [============================>.] - ETA: 0s - loss: 0.5843 - accuracy: 0.8535\n",
      "Epoch 32: val_loss did not improve from 0.64731\n",
      "1562/1562 [==============================] - 12s 8ms/step - loss: 0.5845 - accuracy: 0.8535 - val_loss: 0.6641 - val_accuracy: 0.8246\n",
      "Epoch 33/250\n",
      "1558/1562 [============================>.] - ETA: 0s - loss: 0.5800 - accuracy: 0.8543\n",
      "Epoch 33: val_loss did not improve from 0.64731\n",
      "1562/1562 [==============================] - 13s 8ms/step - loss: 0.5798 - accuracy: 0.8543 - val_loss: 0.6582 - val_accuracy: 0.8387\n",
      "Epoch 34/250\n",
      "1560/1562 [============================>.] - ETA: 0s - loss: 0.5663 - accuracy: 0.8596\n",
      "Epoch 34: val_loss did not improve from 0.64731\n",
      "1562/1562 [==============================] - 13s 8ms/step - loss: 0.5664 - accuracy: 0.8595 - val_loss: 0.6927 - val_accuracy: 0.8185\n",
      "Epoch 35/250\n",
      "1560/1562 [============================>.] - ETA: 0s - loss: 0.5641 - accuracy: 0.8592\n",
      "Epoch 35: val_loss improved from 0.64731 to 0.64083, saving model to ./drive/My Drive/train_ckpt/cifar10_classification\\exp1\n",
      "1562/1562 [==============================] - 12s 8ms/step - loss: 0.5641 - accuracy: 0.8593 - val_loss: 0.6408 - val_accuracy: 0.8377\n",
      "Epoch 36/250\n",
      "1562/1562 [==============================] - ETA: 0s - loss: 0.5502 - accuracy: 0.8667\n",
      "Epoch 36: val_loss improved from 0.64083 to 0.63982, saving model to ./drive/My Drive/train_ckpt/cifar10_classification\\exp1\n",
      "1562/1562 [==============================] - 12s 8ms/step - loss: 0.5502 - accuracy: 0.8667 - val_loss: 0.6398 - val_accuracy: 0.8458\n",
      "Epoch 37/250\n",
      "1556/1562 [============================>.] - ETA: 0s - loss: 0.5440 - accuracy: 0.8668\n",
      "Epoch 37: val_loss did not improve from 0.63982\n",
      "1562/1562 [==============================] - 12s 8ms/step - loss: 0.5442 - accuracy: 0.8668 - val_loss: 0.6448 - val_accuracy: 0.8448\n",
      "Epoch 38/250\n",
      "1556/1562 [============================>.] - ETA: 0s - loss: 0.5365 - accuracy: 0.8700\n",
      "Epoch 38: val_loss did not improve from 0.63982\n",
      "1562/1562 [==============================] - 12s 8ms/step - loss: 0.5367 - accuracy: 0.8699 - val_loss: 0.6605 - val_accuracy: 0.8306\n",
      "Epoch 39/250\n",
      "1560/1562 [============================>.] - ETA: 0s - loss: 0.5231 - accuracy: 0.8762\n",
      "Epoch 39: val_loss did not improve from 0.63982\n",
      "1562/1562 [==============================] - 13s 8ms/step - loss: 0.5231 - accuracy: 0.8762 - val_loss: 0.6818 - val_accuracy: 0.8417\n",
      "Epoch 40/250\n",
      "1556/1562 [============================>.] - ETA: 0s - loss: 0.5209 - accuracy: 0.8757\n",
      "Epoch 40: val_loss did not improve from 0.63982\n",
      "1562/1562 [==============================] - 13s 8ms/step - loss: 0.5209 - accuracy: 0.8756 - val_loss: 0.6477 - val_accuracy: 0.8458\n",
      "Epoch 41/250\n",
      "1560/1562 [============================>.] - ETA: 0s - loss: 0.5155 - accuracy: 0.8772\n",
      "Epoch 41: val_loss did not improve from 0.63982\n",
      "1562/1562 [==============================] - 13s 8ms/step - loss: 0.5154 - accuracy: 0.8772 - val_loss: 0.6522 - val_accuracy: 0.8438\n",
      "Epoch 42/250\n",
      "1557/1562 [============================>.] - ETA: 0s - loss: 0.5050 - accuracy: 0.8808\n",
      "Epoch 42: val_loss did not improve from 0.63982\n",
      "1562/1562 [==============================] - 12s 8ms/step - loss: 0.5048 - accuracy: 0.8809 - val_loss: 0.6684 - val_accuracy: 0.8387\n",
      "Epoch 43/250\n",
      "1559/1562 [============================>.] - ETA: 0s - loss: 0.5029 - accuracy: 0.8824\n",
      "Epoch 43: val_loss improved from 0.63982 to 0.62609, saving model to ./drive/My Drive/train_ckpt/cifar10_classification\\exp1\n",
      "1562/1562 [==============================] - 12s 8ms/step - loss: 0.5028 - accuracy: 0.8824 - val_loss: 0.6261 - val_accuracy: 0.8538\n",
      "Epoch 44/250\n",
      "1562/1562 [==============================] - ETA: 0s - loss: 0.4950 - accuracy: 0.8829\n",
      "Epoch 44: val_loss did not improve from 0.62609\n",
      "1562/1562 [==============================] - 12s 8ms/step - loss: 0.4950 - accuracy: 0.8829 - val_loss: 0.6906 - val_accuracy: 0.8256\n",
      "Epoch 45/250\n",
      "1562/1562 [==============================] - ETA: 0s - loss: 0.4894 - accuracy: 0.8846\n",
      "Epoch 45: val_loss did not improve from 0.62609\n",
      "1562/1562 [==============================] - 13s 8ms/step - loss: 0.4894 - accuracy: 0.8846 - val_loss: 0.6412 - val_accuracy: 0.8579\n",
      "Epoch 46/250\n",
      "1556/1562 [============================>.] - ETA: 0s - loss: 0.4798 - accuracy: 0.8893\n",
      "Epoch 46: val_loss did not improve from 0.62609\n",
      "1562/1562 [==============================] - 13s 8ms/step - loss: 0.4798 - accuracy: 0.8892 - val_loss: 0.6548 - val_accuracy: 0.8508\n",
      "Epoch 47/250\n",
      "1557/1562 [============================>.] - ETA: 0s - loss: 0.4707 - accuracy: 0.8934\n",
      "Epoch 47: val_loss did not improve from 0.62609\n",
      "1562/1562 [==============================] - 12s 8ms/step - loss: 0.4708 - accuracy: 0.8934 - val_loss: 0.6441 - val_accuracy: 0.8508\n",
      "Epoch 48/250\n",
      "1559/1562 [============================>.] - ETA: 0s - loss: 0.4742 - accuracy: 0.8926\n",
      "Epoch 48: val_loss improved from 0.62609 to 0.61445, saving model to ./drive/My Drive/train_ckpt/cifar10_classification\\exp1\n",
      "1562/1562 [==============================] - 12s 8ms/step - loss: 0.4743 - accuracy: 0.8925 - val_loss: 0.6144 - val_accuracy: 0.8548\n",
      "Epoch 49/250\n",
      "1561/1562 [============================>.] - ETA: 0s - loss: 0.4670 - accuracy: 0.8933\n",
      "Epoch 49: val_loss did not improve from 0.61445\n",
      "1562/1562 [==============================] - 12s 8ms/step - loss: 0.4669 - accuracy: 0.8933 - val_loss: 0.6586 - val_accuracy: 0.8357\n",
      "Epoch 50/250\n",
      "1559/1562 [============================>.] - ETA: 0s - loss: 0.4581 - accuracy: 0.8961\n",
      "Epoch 50: val_loss did not improve from 0.61445\n",
      "1562/1562 [==============================] - 13s 8ms/step - loss: 0.4584 - accuracy: 0.8961 - val_loss: 0.6616 - val_accuracy: 0.8448\n",
      "Epoch 51/250\n",
      "1558/1562 [============================>.] - ETA: 0s - loss: 0.4533 - accuracy: 0.8983\n",
      "Epoch 51: val_loss did not improve from 0.61445\n",
      "1562/1562 [==============================] - 13s 8ms/step - loss: 0.4533 - accuracy: 0.8983 - val_loss: 0.6470 - val_accuracy: 0.8548\n",
      "Epoch 52/250\n",
      "1558/1562 [============================>.] - ETA: 0s - loss: 0.4451 - accuracy: 0.9011\n",
      "Epoch 52: val_loss did not improve from 0.61445\n",
      "1562/1562 [==============================] - 13s 8ms/step - loss: 0.4452 - accuracy: 0.9010 - val_loss: 0.6354 - val_accuracy: 0.8498\n",
      "Epoch 53/250\n",
      "1561/1562 [============================>.] - ETA: 0s - loss: 0.4430 - accuracy: 0.9009\n",
      "Epoch 53: val_loss did not improve from 0.61445\n",
      "1562/1562 [==============================] - 12s 8ms/step - loss: 0.4430 - accuracy: 0.9009 - val_loss: 0.6191 - val_accuracy: 0.8538\n",
      "Epoch 54/250\n",
      "1558/1562 [============================>.] - ETA: 0s - loss: 0.4409 - accuracy: 0.9021\n",
      "Epoch 54: val_loss did not improve from 0.61445\n",
      "1562/1562 [==============================] - 12s 8ms/step - loss: 0.4410 - accuracy: 0.9021 - val_loss: 0.6526 - val_accuracy: 0.8498\n",
      "Epoch 55/250\n",
      "1557/1562 [============================>.] - ETA: 0s - loss: 0.4319 - accuracy: 0.9069\n",
      "Epoch 55: val_loss did not improve from 0.61445\n",
      "1562/1562 [==============================] - 13s 8ms/step - loss: 0.4324 - accuracy: 0.9068 - val_loss: 0.6548 - val_accuracy: 0.8427\n",
      "Epoch 56/250\n",
      "1558/1562 [============================>.] - ETA: 0s - loss: 0.4351 - accuracy: 0.9050\n",
      "Epoch 56: val_loss did not improve from 0.61445\n",
      "1562/1562 [==============================] - 13s 8ms/step - loss: 0.4349 - accuracy: 0.9050 - val_loss: 0.6770 - val_accuracy: 0.8448\n",
      "Epoch 57/250\n",
      "1562/1562 [==============================] - ETA: 0s - loss: 0.4300 - accuracy: 0.9070\n",
      "Epoch 57: val_loss did not improve from 0.61445\n",
      "1562/1562 [==============================] - 13s 8ms/step - loss: 0.4300 - accuracy: 0.9070 - val_loss: 0.6319 - val_accuracy: 0.8498\n",
      "Epoch 58/250\n",
      "1559/1562 [============================>.] - ETA: 0s - loss: 0.4247 - accuracy: 0.9080\n",
      "Epoch 58: val_loss did not improve from 0.61445\n",
      "1562/1562 [==============================] - 12s 8ms/step - loss: 0.4246 - accuracy: 0.9080 - val_loss: 0.6589 - val_accuracy: 0.8458\n",
      "Epoch 59/250\n",
      "1557/1562 [============================>.] - ETA: 0s - loss: 0.4186 - accuracy: 0.9111\n",
      "Epoch 59: val_loss did not improve from 0.61445\n",
      "1562/1562 [==============================] - 12s 8ms/step - loss: 0.4185 - accuracy: 0.9112 - val_loss: 0.6508 - val_accuracy: 0.8488\n",
      "Epoch 60/250\n",
      "1560/1562 [============================>.] - ETA: 0s - loss: 0.4124 - accuracy: 0.9136\n",
      "Epoch 60: val_loss did not improve from 0.61445\n",
      "1562/1562 [==============================] - 12s 8ms/step - loss: 0.4126 - accuracy: 0.9136 - val_loss: 0.6590 - val_accuracy: 0.8558\n",
      "Epoch 61/250\n",
      "1561/1562 [============================>.] - ETA: 0s - loss: 0.4104 - accuracy: 0.9135\n",
      "Epoch 61: val_loss did not improve from 0.61445\n",
      "1562/1562 [==============================] - 13s 8ms/step - loss: 0.4105 - accuracy: 0.9135 - val_loss: 0.6563 - val_accuracy: 0.8528\n",
      "Epoch 62/250\n",
      "1560/1562 [============================>.] - ETA: 0s - loss: 0.4089 - accuracy: 0.9141\n",
      "Epoch 62: val_loss did not improve from 0.61445\n",
      "1562/1562 [==============================] - 13s 8ms/step - loss: 0.4088 - accuracy: 0.9141 - val_loss: 0.6462 - val_accuracy: 0.8538\n",
      "Epoch 63/250\n",
      "1555/1562 [============================>.] - ETA: 0s - loss: 0.4021 - accuracy: 0.9163\n",
      "Epoch 63: val_loss did not improve from 0.61445\n",
      "1562/1562 [==============================] - 12s 8ms/step - loss: 0.4018 - accuracy: 0.9164 - val_loss: 0.6228 - val_accuracy: 0.8599\n",
      "Epoch 64/250\n",
      "1560/1562 [============================>.] - ETA: 0s - loss: 0.4012 - accuracy: 0.9172\n",
      "Epoch 64: val_loss did not improve from 0.61445\n",
      "1562/1562 [==============================] - 12s 8ms/step - loss: 0.4011 - accuracy: 0.9172 - val_loss: 0.6789 - val_accuracy: 0.8518\n",
      "Epoch 65/250\n",
      "1558/1562 [============================>.] - ETA: 0s - loss: 0.4014 - accuracy: 0.9180\n",
      "Epoch 65: val_loss did not improve from 0.61445\n",
      "1562/1562 [==============================] - 12s 8ms/step - loss: 0.4012 - accuracy: 0.9180 - val_loss: 0.6145 - val_accuracy: 0.8589\n",
      "Epoch 66/250\n",
      "1562/1562 [==============================] - ETA: 0s - loss: 0.3938 - accuracy: 0.9195\n",
      "Epoch 66: val_loss did not improve from 0.61445\n",
      "1562/1562 [==============================] - 12s 8ms/step - loss: 0.3938 - accuracy: 0.9195 - val_loss: 0.6579 - val_accuracy: 0.8528\n",
      "Epoch 67/250\n",
      "1556/1562 [============================>.] - ETA: 0s - loss: 0.3879 - accuracy: 0.9228\n",
      "Epoch 67: val_loss did not improve from 0.61445\n",
      "1562/1562 [==============================] - 13s 8ms/step - loss: 0.3882 - accuracy: 0.9228 - val_loss: 0.6243 - val_accuracy: 0.8639\n",
      "Epoch 68/250\n",
      "1562/1562 [==============================] - ETA: 0s - loss: 0.3893 - accuracy: 0.9213\n",
      "Epoch 68: val_loss did not improve from 0.61445\n",
      "1562/1562 [==============================] - 13s 8ms/step - loss: 0.3893 - accuracy: 0.9213 - val_loss: 0.6526 - val_accuracy: 0.8528\n",
      "Epoch 69/250\n",
      "1558/1562 [============================>.] - ETA: 0s - loss: 0.3817 - accuracy: 0.9231\n",
      "Epoch 69: val_loss did not improve from 0.61445\n",
      "1562/1562 [==============================] - 12s 8ms/step - loss: 0.3817 - accuracy: 0.9231 - val_loss: 0.6463 - val_accuracy: 0.8589\n",
      "Epoch 70/250\n",
      "1558/1562 [============================>.] - ETA: 0s - loss: 0.3829 - accuracy: 0.9231\n",
      "Epoch 70: val_loss did not improve from 0.61445\n",
      "1562/1562 [==============================] - 12s 8ms/step - loss: 0.3828 - accuracy: 0.9232 - val_loss: 0.6549 - val_accuracy: 0.8538\n",
      "Epoch 71/250\n",
      "1561/1562 [============================>.] - ETA: 0s - loss: 0.3797 - accuracy: 0.9230\n",
      "Epoch 71: val_loss did not improve from 0.61445\n",
      "1562/1562 [==============================] - 12s 8ms/step - loss: 0.3796 - accuracy: 0.9231 - val_loss: 0.6392 - val_accuracy: 0.8599\n",
      "Epoch 72/250\n",
      "1562/1562 [==============================] - ETA: 0s - loss: 0.3777 - accuracy: 0.9250\n",
      "Epoch 72: val_loss did not improve from 0.61445\n",
      "1562/1562 [==============================] - 12s 8ms/step - loss: 0.3777 - accuracy: 0.9250 - val_loss: 0.6475 - val_accuracy: 0.8579\n",
      "Epoch 73/250\n",
      "1559/1562 [============================>.] - ETA: 0s - loss: 0.3751 - accuracy: 0.9261\n",
      "Epoch 73: val_loss did not improve from 0.61445\n",
      "1562/1562 [==============================] - 13s 8ms/step - loss: 0.3751 - accuracy: 0.9261 - val_loss: 0.6482 - val_accuracy: 0.8528\n",
      "Epoch 74/250\n",
      "1558/1562 [============================>.] - ETA: 0s - loss: 0.3690 - accuracy: 0.9283\n",
      "Epoch 74: val_loss did not improve from 0.61445\n",
      "1562/1562 [==============================] - 13s 8ms/step - loss: 0.3690 - accuracy: 0.9282 - val_loss: 0.6386 - val_accuracy: 0.8579\n",
      "Epoch 75/250\n",
      "1562/1562 [==============================] - ETA: 0s - loss: 0.3692 - accuracy: 0.9277\n",
      "Epoch 75: val_loss did not improve from 0.61445\n",
      "1562/1562 [==============================] - 12s 8ms/step - loss: 0.3692 - accuracy: 0.9277 - val_loss: 0.6670 - val_accuracy: 0.8468\n",
      "Epoch 76/250\n",
      "1561/1562 [============================>.] - ETA: 0s - loss: 0.3658 - accuracy: 0.9297\n",
      "Epoch 76: val_loss improved from 0.61445 to 0.60135, saving model to ./drive/My Drive/train_ckpt/cifar10_classification\\exp1\n",
      "1562/1562 [==============================] - 12s 8ms/step - loss: 0.3658 - accuracy: 0.9297 - val_loss: 0.6013 - val_accuracy: 0.8770\n",
      "Epoch 77/250\n",
      "1560/1562 [============================>.] - ETA: 0s - loss: 0.3677 - accuracy: 0.9302\n",
      "Epoch 77: val_loss did not improve from 0.60135\n",
      "1562/1562 [==============================] - 12s 8ms/step - loss: 0.3677 - accuracy: 0.9301 - val_loss: 0.6573 - val_accuracy: 0.8538\n",
      "Epoch 78/250\n",
      "1561/1562 [============================>.] - ETA: 0s - loss: 0.3615 - accuracy: 0.9302\n",
      "Epoch 78: val_loss did not improve from 0.60135\n",
      "1562/1562 [==============================] - 13s 8ms/step - loss: 0.3614 - accuracy: 0.9302 - val_loss: 0.6409 - val_accuracy: 0.8629\n",
      "Epoch 79/250\n",
      "1560/1562 [============================>.] - ETA: 0s - loss: 0.3558 - accuracy: 0.9348\n",
      "Epoch 79: val_loss did not improve from 0.60135\n",
      "1562/1562 [==============================] - 13s 8ms/step - loss: 0.3558 - accuracy: 0.9348 - val_loss: 0.6567 - val_accuracy: 0.8528\n",
      "Epoch 80/250\n",
      "1556/1562 [============================>.] - ETA: 0s - loss: 0.3541 - accuracy: 0.9337\n",
      "Epoch 80: val_loss did not improve from 0.60135\n",
      "1562/1562 [==============================] - 12s 8ms/step - loss: 0.3540 - accuracy: 0.9337 - val_loss: 0.6678 - val_accuracy: 0.8609\n",
      "Epoch 81/250\n",
      "1561/1562 [============================>.] - ETA: 0s - loss: 0.3513 - accuracy: 0.9354\n",
      "Epoch 81: val_loss did not improve from 0.60135\n",
      "1562/1562 [==============================] - 12s 8ms/step - loss: 0.3514 - accuracy: 0.9353 - val_loss: 0.6657 - val_accuracy: 0.8468\n",
      "Epoch 82/250\n",
      "1557/1562 [============================>.] - ETA: 0s - loss: 0.3549 - accuracy: 0.9325\n",
      "Epoch 82: val_loss did not improve from 0.60135\n",
      "1562/1562 [==============================] - 12s 8ms/step - loss: 0.3548 - accuracy: 0.9326 - val_loss: 0.6857 - val_accuracy: 0.8488\n",
      "Epoch 83/250\n",
      "1561/1562 [============================>.] - ETA: 0s - loss: 0.3501 - accuracy: 0.9342\n",
      "Epoch 83: val_loss did not improve from 0.60135\n",
      "1562/1562 [==============================] - 13s 8ms/step - loss: 0.3501 - accuracy: 0.9342 - val_loss: 0.6611 - val_accuracy: 0.8488\n",
      "Epoch 84/250\n",
      "1557/1562 [============================>.] - ETA: 0s - loss: 0.3525 - accuracy: 0.9334\n",
      "Epoch 84: val_loss did not improve from 0.60135\n",
      "1562/1562 [==============================] - 13s 8ms/step - loss: 0.3523 - accuracy: 0.9334 - val_loss: 0.6415 - val_accuracy: 0.8548\n",
      "Epoch 85/250\n",
      "1558/1562 [============================>.] - ETA: 0s - loss: 0.3453 - accuracy: 0.9371\n",
      "Epoch 85: val_loss did not improve from 0.60135\n",
      "1562/1562 [==============================] - 13s 8ms/step - loss: 0.3452 - accuracy: 0.9372 - val_loss: 0.6670 - val_accuracy: 0.8649\n",
      "Epoch 86/250\n",
      "1557/1562 [============================>.] - ETA: 0s - loss: 0.3430 - accuracy: 0.9372\n",
      "Epoch 86: val_loss did not improve from 0.60135\n",
      "1562/1562 [==============================] - 12s 8ms/step - loss: 0.3430 - accuracy: 0.9371 - val_loss: 0.6736 - val_accuracy: 0.8548\n",
      "Epoch 87/250\n",
      "1557/1562 [============================>.] - ETA: 0s - loss: 0.3411 - accuracy: 0.9391\n",
      "Epoch 87: val_loss did not improve from 0.60135\n",
      "1562/1562 [==============================] - 13s 8ms/step - loss: 0.3412 - accuracy: 0.9391 - val_loss: 0.6228 - val_accuracy: 0.8690\n",
      "Epoch 88/250\n",
      "1562/1562 [==============================] - ETA: 0s - loss: 0.3402 - accuracy: 0.9395\n",
      "Epoch 88: val_loss did not improve from 0.60135\n",
      "1562/1562 [==============================] - 13s 8ms/step - loss: 0.3402 - accuracy: 0.9395 - val_loss: 0.6331 - val_accuracy: 0.8538\n",
      "Epoch 89/250\n",
      "1559/1562 [============================>.] - ETA: 0s - loss: 0.3373 - accuracy: 0.9390\n",
      "Epoch 89: val_loss did not improve from 0.60135\n",
      "1562/1562 [==============================] - 13s 9ms/step - loss: 0.3374 - accuracy: 0.9390 - val_loss: 0.6555 - val_accuracy: 0.8579\n",
      "Epoch 90/250\n",
      "1561/1562 [============================>.] - ETA: 0s - loss: 0.3386 - accuracy: 0.9400\n",
      "Epoch 90: val_loss did not improve from 0.60135\n",
      "1562/1562 [==============================] - 14s 9ms/step - loss: 0.3385 - accuracy: 0.9401 - val_loss: 0.6413 - val_accuracy: 0.8548\n",
      "Epoch 91/250\n",
      "1561/1562 [============================>.] - ETA: 0s - loss: 0.3353 - accuracy: 0.9395\n",
      "Epoch 91: val_loss did not improve from 0.60135\n",
      "1562/1562 [==============================] - 13s 8ms/step - loss: 0.3352 - accuracy: 0.9396 - val_loss: 0.6669 - val_accuracy: 0.8538\n",
      "Epoch 92/250\n",
      "1559/1562 [============================>.] - ETA: 0s - loss: 0.3321 - accuracy: 0.9414\n",
      "Epoch 92: val_loss did not improve from 0.60135\n",
      "1562/1562 [==============================] - 12s 8ms/step - loss: 0.3322 - accuracy: 0.9414 - val_loss: 0.6849 - val_accuracy: 0.8518\n",
      "Epoch 93/250\n",
      "1562/1562 [==============================] - ETA: 0s - loss: 0.3328 - accuracy: 0.9412\n",
      "Epoch 93: val_loss did not improve from 0.60135\n",
      "1562/1562 [==============================] - 13s 8ms/step - loss: 0.3328 - accuracy: 0.9412 - val_loss: 0.6573 - val_accuracy: 0.8558\n",
      "Epoch 94/250\n",
      "1559/1562 [============================>.] - ETA: 0s - loss: 0.3311 - accuracy: 0.9415\n",
      "Epoch 94: val_loss did not improve from 0.60135\n",
      "1562/1562 [==============================] - 13s 8ms/step - loss: 0.3311 - accuracy: 0.9415 - val_loss: 0.6483 - val_accuracy: 0.8548\n",
      "Epoch 95/250\n",
      "1560/1562 [============================>.] - ETA: 0s - loss: 0.3225 - accuracy: 0.9445\n",
      "Epoch 95: val_loss did not improve from 0.60135\n",
      "1562/1562 [==============================] - 13s 8ms/step - loss: 0.3225 - accuracy: 0.9445 - val_loss: 0.6168 - val_accuracy: 0.8609\n",
      "Epoch 96/250\n",
      "1559/1562 [============================>.] - ETA: 0s - loss: 0.3284 - accuracy: 0.9427\n",
      "Epoch 96: val_loss did not improve from 0.60135\n",
      "1562/1562 [==============================] - 13s 8ms/step - loss: 0.3282 - accuracy: 0.9427 - val_loss: 0.6232 - val_accuracy: 0.8579\n",
      "Epoch 97/250\n",
      "1558/1562 [============================>.] - ETA: 0s - loss: 0.3278 - accuracy: 0.9433\n",
      "Epoch 97: val_loss did not improve from 0.60135\n",
      "1562/1562 [==============================] - 12s 8ms/step - loss: 0.3278 - accuracy: 0.9433 - val_loss: 0.6380 - val_accuracy: 0.8609\n",
      "Epoch 98/250\n",
      "1562/1562 [==============================] - ETA: 0s - loss: 0.3259 - accuracy: 0.9437\n",
      "Epoch 98: val_loss did not improve from 0.60135\n",
      "1562/1562 [==============================] - 12s 8ms/step - loss: 0.3259 - accuracy: 0.9437 - val_loss: 0.6416 - val_accuracy: 0.8619\n",
      "Epoch 99/250\n",
      "1559/1562 [============================>.] - ETA: 0s - loss: 0.3236 - accuracy: 0.9437\n",
      "Epoch 99: val_loss did not improve from 0.60135\n",
      "1562/1562 [==============================] - 13s 8ms/step - loss: 0.3235 - accuracy: 0.9436 - val_loss: 0.6411 - val_accuracy: 0.8599\n",
      "Epoch 100/250\n",
      "1557/1562 [============================>.] - ETA: 0s - loss: 0.3193 - accuracy: 0.9471\n",
      "Epoch 100: val_loss did not improve from 0.60135\n",
      "1562/1562 [==============================] - 13s 8ms/step - loss: 0.3190 - accuracy: 0.9471 - val_loss: 0.6514 - val_accuracy: 0.8508\n",
      "Epoch 101/250\n",
      "1562/1562 [==============================] - ETA: 0s - loss: 0.3219 - accuracy: 0.9440\n",
      "Epoch 101: val_loss did not improve from 0.60135\n",
      "1562/1562 [==============================] - 13s 9ms/step - loss: 0.3219 - accuracy: 0.9440 - val_loss: 0.6648 - val_accuracy: 0.8609\n",
      "Epoch 102/250\n",
      "1561/1562 [============================>.] - ETA: 0s - loss: 0.3184 - accuracy: 0.9452\n",
      "Epoch 102: val_loss did not improve from 0.60135\n",
      "1562/1562 [==============================] - 13s 8ms/step - loss: 0.3184 - accuracy: 0.9452 - val_loss: 0.6681 - val_accuracy: 0.8528\n",
      "Epoch 103/250\n",
      "1561/1562 [============================>.] - ETA: 0s - loss: 0.3202 - accuracy: 0.9454\n",
      "Epoch 103: val_loss did not improve from 0.60135\n",
      "1562/1562 [==============================] - 12s 8ms/step - loss: 0.3201 - accuracy: 0.9454 - val_loss: 0.6563 - val_accuracy: 0.8508\n",
      "Epoch 104/250\n",
      "1560/1562 [============================>.] - ETA: 0s - loss: 0.3175 - accuracy: 0.9468\n",
      "Epoch 104: val_loss did not improve from 0.60135\n",
      "1562/1562 [==============================] - 13s 8ms/step - loss: 0.3174 - accuracy: 0.9468 - val_loss: 0.6543 - val_accuracy: 0.8629\n",
      "Epoch 105/250\n",
      "1561/1562 [============================>.] - ETA: 0s - loss: 0.3161 - accuracy: 0.9472\n",
      "Epoch 105: val_loss did not improve from 0.60135\n",
      "1562/1562 [==============================] - 13s 8ms/step - loss: 0.3161 - accuracy: 0.9472 - val_loss: 0.6573 - val_accuracy: 0.8558\n",
      "Epoch 106/250\n",
      "1559/1562 [============================>.] - ETA: 0s - loss: 0.3116 - accuracy: 0.9483\n",
      "Epoch 106: val_loss did not improve from 0.60135\n",
      "Restoring model weights from the end of the best epoch: 76.\n",
      "1562/1562 [==============================] - 13s 8ms/step - loss: 0.3116 - accuracy: 0.9483 - val_loss: 0.6762 - val_accuracy: 0.8528\n",
      "Epoch 106: early stopping\n"
     ]
    }
   ]
  },
  {
   "cell_type": "markdown",
   "metadata": {
    "id": "fjLV8zaxgc4V"
   },
   "source": [
    "### 학습 결과를 정리해봅시다.\n",
    "* Model 학습을 진행하며 저장된 결과를 전달 받은 history 객체를 이용해 학습 과정을 출력해봅시다."
   ]
  },
  {
   "cell_type": "code",
   "metadata": {
    "id": "kH93caN_RL6E",
    "outputId": "aa57f702-ba64-49ca-cb59-2791f5959028",
    "colab": {
     "base_uri": "https://localhost:8080/",
     "height": 699
    },
    "ExecuteTime": {
     "end_time": "2023-12-27T14:40:42.189262300Z",
     "start_time": "2023-12-27T14:40:41.973343700Z"
    }
   },
   "source": [
    "acc = history.history['accuracy']\n",
    "val_acc = history.history['val_accuracy']\n",
    "\n",
    "loss = history.history['loss']\n",
    "val_loss = history.history['val_loss']\n",
    "\n",
    "epochs_range = range(len(acc))\n",
    "\n",
    "plt.figure(figsize=(8, 8))\n",
    "plt.subplot(1, 2, 1)\n",
    "plt.plot(epochs_range, acc, label='Training Accuracy')\n",
    "plt.plot(epochs_range, val_acc, label='Validation Accuracy')\n",
    "plt.legend(loc='lower right')\n",
    "plt.title('Training and Valid Accuracy')\n",
    "\n",
    "plt.subplot(1, 2, 2)\n",
    "plt.plot(epochs_range, loss, label='Training Loss')\n",
    "plt.plot(epochs_range, val_loss, label='Validation Loss')\n",
    "plt.legend(loc='upper right')\n",
    "plt.title('Training and Valid Loss')\n",
    "plt.show()"
   ],
   "execution_count": 103,
   "outputs": [
    {
     "data": {
      "text/plain": "<Figure size 800x800 with 2 Axes>",
      "image/png": "[encoded data removed]"
     },
     "metadata": {},
     "output_type": "display_data"
    }
   ]
  },
  {
   "cell_type": "markdown",
   "metadata": {
    "id": "R5B3sWG8UIz3"
   },
   "source": [
    "### 모델 평가\n",
    "* Model 학습 후 저장된 weight를 다시 불러와 테스트를 진행합니다.\n",
    "    * 학습이 진행되며, 가장 낮은 val-loss를 이용해 모델을 저장했기 때문에 가장 작은 val-loss를 가지는 곳의 파라미터가 저장되어 있습니다.\n"
   ]
  },
  {
   "cell_type": "code",
   "metadata": {
    "id": "VC8Sjhk9lSMF",
    "outputId": "50e2fbb7-ca21-42ed-e025-76fd2c7f5e7f",
    "colab": {
     "base_uri": "https://localhost:8080/"
    },
    "ExecuteTime": {
     "end_time": "2023-12-27T14:40:42.270547700Z",
     "start_time": "2023-12-27T14:40:42.210263700Z"
    }
   },
   "source": [
    "model.load_weights(checkpoint_dir)"
   ],
   "execution_count": 104,
   "outputs": [
    {
     "data": {
      "text/plain": "<tensorflow.python.checkpoint.checkpoint.CheckpointLoadStatus at 0x26c81167490>"
     },
     "execution_count": 104,
     "metadata": {},
     "output_type": "execute_result"
    }
   ]
  },
  {
   "cell_type": "markdown",
   "metadata": {
    "id": "Zb3Lm60fwWgf"
   },
   "source": [
    "* 모델 파라미터를 불러온 후 테스트 데이터셋을 이용해 평가를 진행합니다.\n",
    "* 가장 기본적인 Accuracy를 제공합니다."
   ]
  },
  {
   "cell_type": "code",
   "metadata": {
    "id": "ByXBzpzzRL6K",
    "outputId": "60ca4c9e-ccf3-4354-8e15-736431b27ae1",
    "colab": {
     "base_uri": "https://localhost:8080/"
    },
    "ExecuteTime": {
     "end_time": "2023-12-27T14:40:43.195071300Z",
     "start_time": "2023-12-27T14:40:42.269546400Z"
    }
   },
   "source": [
    "results = model.evaluate(test_dataset, steps=len(test_data) // batch_size)"
   ],
   "execution_count": 105,
   "outputs": [
    {
     "name": "stdout",
     "output_type": "stream",
     "text": [
      "281/281 [==============================] - 1s 3ms/step - loss: 0.5993 - accuracy: 0.8621\n"
     ]
    }
   ]
  },
  {
   "cell_type": "code",
   "metadata": {
    "id": "8cfSwvB5RL6O",
    "outputId": "e64379f3-7531-44e5-926a-7a299900fc48",
    "colab": {
     "base_uri": "https://localhost:8080/"
    },
    "ExecuteTime": {
     "end_time": "2023-12-27T14:40:43.226325Z",
     "start_time": "2023-12-27T14:40:43.196794300Z"
    }
   },
   "source": [
    "# loss\n",
    "print(\"loss value: {:.3f}\".format(results[0]))\n",
    "# accuracy\n",
    "print(\"accuracy value: {:.4f}%\".format(results[1] * 100))"
   ],
   "execution_count": 106,
   "outputs": [
    {
     "name": "stdout",
     "output_type": "stream",
     "text": [
      "loss value: 0.599\n",
      "accuracy value: 86.2100%\n"
     ]
    }
   ]
  },
  {
   "cell_type": "code",
   "metadata": {
    "id": "YJnX3YfnRL6T",
    "outputId": "facb8b70-d076-49da-bd2d-1b2f7d1f731d",
    "colab": {
     "base_uri": "https://localhost:8080/",
     "height": 388
    },
    "ExecuteTime": {
     "end_time": "2023-12-27T14:40:43.937931600Z",
     "start_time": "2023-12-27T14:40:43.213323800Z"
    }
   },
   "source": [
    "test_batch_size = 16\n",
    "batch_index = np.random.choice(len(test_data), size=test_batch_size, replace=False)\n",
    "\n",
    "batch_xs = test_data[batch_index]\n",
    "batch_ys = test_labels[batch_index]\n",
    "y_pred_ = model(batch_xs, training=False)\n",
    "\n",
    "fig = plt.figure(figsize=(16, 10))\n",
    "for i, (px, py) in enumerate(zip(batch_xs, y_pred_)):\n",
    "    p = fig.add_subplot(4, 8, i + 1)\n",
    "    if np.argmax(py) == batch_ys[i]:\n",
    "        p.set_title(\"y_pred: {}\".format(np.argmax(py)), color='blue')\n",
    "    else:\n",
    "        p.set_title(\"y_pred: {}\".format(np.argmax(py)), color='red')\n",
    "    p.imshow(px.reshape(32, 32, 3))\n",
    "    p.axis('off')"
   ],
   "execution_count": 107,
   "outputs": [
    {
     "data": {
      "text/plain": "<Figure size 1600x1000 with 16 Axes>",
      "image/png": "[encoded data removed]"
     },
     "metadata": {},
     "output_type": "display_data"
    }
   ]
  },
  {
   "cell_type": "markdown",
   "metadata": {
    "id": "5q6NOnoZYIrR"
   },
   "source": [
    "### 평가 메트릭을 설정해보자\n",
    "* 인공지능 모델을 이용해 문제를 해결할 시에 해당 분야에서 고유하게 사용하던 평가 메트릭 혹은 새로운 메트릭이 사용되기도 합니다.\n",
    "* Classification에서 사용되었던 평가 지표를 사용해봅시다.\n",
    "\n"
   ]
  },
  {
   "cell_type": "markdown",
   "metadata": {
    "id": "NJE2--mMZO-7"
   },
   "source": [
    "## Measuring final score\n",
    "* 모델 평가 지표\n",
    "\n",
    "### \\begin{equation*} M = 50(P + min(\\frac{1}{S}, 1)) \\end{equation*}\n",
    "\n",
    "* P : Model-accuracy\n",
    "* S : Size of model (MB)\n",
    "\n",
    "\n",
    "### \\begin{equation*} S = \\frac{Parameters * float_{size}}{MB} \\end{equation*}\n",
    "\\begin{equation*} = \\frac{M_p * 32} {1024^2} \\end{equation*}\n",
    "\n",
    "\n",
    "\n",
    "* 해당 지표는 분류 평가를 위한 내용이며, 모델의 크기에 따른 정확도를 나타내는 지표입니다."
   ]
  },
  {
   "cell_type": "code",
   "metadata": {
    "id": "4R945JcpRL6Y",
    "ExecuteTime": {
     "end_time": "2023-12-27T14:40:43.974578900Z",
     "start_time": "2023-12-27T14:40:43.939929500Z"
    }
   },
   "source": [
    "def final_score():\n",
    "    print(\"Model params num : \" + str(model.count_params()))\n",
    "    print(\"Accuracy : \" + str(results[1]))\n",
    "\n",
    "    s = (model.count_params() * 32) / (1024 ** 2)\n",
    "    score = 50 * (results[1] + min((1 / s), 1))\n",
    "\n",
    "    print(\"score : \" + str(score))"
   ],
   "execution_count": 108,
   "outputs": []
  },
  {
   "cell_type": "markdown",
   "metadata": {
    "id": "LbuQllIxv2ww"
   },
   "source": [
    "### 스코어 결과\n",
    "* 위의 스코어는 분류모델에 적용되는 스코어입니다.\n",
    "* 모델의 크기 (MB) 와 정확도를 이용해 스코어를 출력합니다.\n",
    "    * 40 이상의 스코어에 도전해보세요!"
   ]
  },
  {
   "cell_type": "code",
   "metadata": {
    "id": "NWs2D_Y5RL6a",
    "outputId": "5a6d068f-0879-4d36-a96e-a2d9fb23b15e",
    "colab": {
     "base_uri": "https://localhost:8080/"
    },
    "ExecuteTime": {
     "end_time": "2023-12-27T14:40:43.975579600Z",
     "start_time": "2023-12-27T14:40:43.954583800Z"
    }
   },
   "source": [
    "final_score()"
   ],
   "execution_count": 109,
   "outputs": [
    {
     "name": "stdout",
     "output_type": "stream",
     "text": [
      "Model params num : 1766570\n",
      "Accuracy : 0.8620996475219727\n",
      "score : 44.03242934961228\n"
     ]
    }
   ]
  },
  {
   "cell_type": "markdown",
   "metadata": {
    "id": "56iBGUMV2B-y"
   },
   "source": [
    "### 추가 과제\n",
    "* 높은 스코어를 달성하신 분들께선 더 맞추기 어려운 데이터셋으로 도전해보세요.\n",
    "\n",
    "```\n",
    "(train_data, train_labels), (test_data, test_labels) = \\\n",
    "    tf.keras.datasets.cifar100.load_data()\n",
    "```\n",
    "\n",
    "* 데이터 로드 파트에서 위 코드를 고치면 더 세분화된 분류를 진행하는 데이터셋을 사용할 수 있습니다."
   ]
  }
 ]
}
