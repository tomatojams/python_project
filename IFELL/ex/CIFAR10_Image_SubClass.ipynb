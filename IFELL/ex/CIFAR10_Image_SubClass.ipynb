{
 "nbformat": 4,
 "nbformat_minor": 0,
 "metadata": {
  "kernelspec": {
   "name": "python3",
   "language": "python",
   "display_name": "Python 3 (ipykernel)"
  },
  "language_info": {
   "codemirror_mode": {
    "name": "ipython",
    "version": 3
   },
   "file_extension": ".py",
   "mimetype": "text/x-python",
   "name": "python",
   "nbconvert_exporter": "python",
   "pygments_lexer": "ipython3",
   "version": "3.6.8"
  },
  "colab": {
   "provenance": [],
   "gpuType": "T4"
  },
  "accelerator": "GPU"
 },
 "cells": [
  {
   "cell_type": "markdown",
   "metadata": {
    "id": "fXYH9ESLRRLY"
   },
   "source": [
    "# Image Classification\n",
    "\n",
    "tf.data.Dataset을 이용해 모델이 데이터를 효율적으로 활용할 수 있도록 구현해보는게 목적입니다.\n",
    "\n",
    "기본적인 머신러닝 작업과정은 아래와 같습니다.\n",
    "\n",
    "1. Examine and understand data\n",
    "2. Build an input pipeline\n",
    "3. Build the model\n",
    "4. Train the model\n",
    "5. Test the model\n",
    "6. Improve the model and repeat the process\n",
    "\n",
    "* 모델 완성 후 평가 지표에 따라서 모델을 평가해 봅시다.\n"
   ]
  },
  {
   "cell_type": "markdown",
   "metadata": {
    "id": "xjTHjdo6RS3n"
   },
   "source": [
    "## Project 설명\n",
    "### Task\n",
    "* CIFAR 10 데이터셋을 이용해 classification을 진행해보자.\n",
    "* [CIFAR 10 Dataset](https://www.cs.toronto.edu/~kriz/cifar.html)\n",
    "\n",
    "### Baseline\n",
    "* 오버피팅을 방지하기 위한 다양한 방법들을 사용해보자.\n",
    "    * 하이퍼파라미터 조절 (데이터 로드, 모델, Optimizer 등)\n",
    "    * 모델 구성 변경 (layer의 갯수)\n",
    "* Training\n",
    "    * tf.data.Dataset 과 model.fit()을 사용\n",
    "\n",
    "* Evaluation\n",
    "    * 모델의 정확도와 크기를 이용해 점수를 제공하는 메트릭으로 평가해보자."
   ]
  },
  {
   "cell_type": "markdown",
   "metadata": {
    "id": "Ew9Bg8w9j0PZ"
   },
   "source": [
    "### 구글 드라이브 마운트\n",
    "* Google의 Colab과 Drive를 이용해 노트북을 이용해 언제 어디서든 딥러닝 모델을 학습시켜보자."
   ]
  },
  {
   "cell_type": "code",
   "metadata": {
    "id": "RRYFNY5jjzWF",
    "ExecuteTime": {
     "end_time": "2023-12-28T10:04:01.702442Z",
     "start_time": "2023-12-28T10:04:01.612444Z"
    }
   },
   "source": [
    "# 코드 호환성을 위한 분기\n",
    "use_colab = True\n",
    "assert use_colab in [True, False]"
   ],
   "execution_count": 3,
   "outputs": []
  },
  {
   "cell_type": "code",
   "metadata": {
    "id": "6vefMxCgj2U6",
    "colab": {
     "base_uri": "https://localhost:8080/"
    },
    "outputId": "f54457a6-a819-4113-98f3-27383261ea2e",
    "ExecuteTime": {
     "end_time": "2023-12-28T10:04:01.755449Z",
     "start_time": "2023-12-28T10:04:01.704089Z"
    }
   },
   "source": [
    "# from google.colab import drive\n",
    "# drive.mount('/content/drive')"
   ],
   "execution_count": 4,
   "outputs": []
  },
  {
   "cell_type": "markdown",
   "metadata": {
    "id": "P2qZQXTBcM6t"
   },
   "source": [
    "### 번외) GPU 서버를 어떻게 구성하면 좋을까?\n",
    "1. 로컬 머신 (노트북, 데스크탑) 구매\n",
    "    * GPU 노트북, 데스크탑, 서버 등 원하는 방법으로 다양하게 구비할 수 있다.\n",
    "    * Colab과 다르게 세션이 종료되지않으며, 비교적 자유롭게 사용할 수 있다.\n",
    "    * 원격 접속 및 오프라인 관리가 어려우며, 부수적인 유지보수 비용이 발생한다.\n",
    "\n",
    "2. 클라우드 등 서버 사용\n",
    "    * AWS, 네이버 클라우드 등\n",
    "    * 오프라인 관리가 필요없으며, 안정적이다.\n",
    "    * 비싸다..."
   ]
  },
  {
   "cell_type": "markdown",
   "metadata": {
    "id": "Due8naADzEZc"
   },
   "source": [
    "### import packages"
   ]
  },
  {
   "cell_type": "code",
   "metadata": {
    "id": "TlUX4NtWRL5b",
    "colab": {
     "base_uri": "https://localhost:8080/",
     "height": 35
    },
    "outputId": "a7784067-a8d8-431d-b24b-9ea38e5bac87",
    "ExecuteTime": {
     "end_time": "2023-12-28T10:04:05.666365Z",
     "start_time": "2023-12-28T10:04:01.755493Z"
    }
   },
   "source": [
    "import tensorflow as tf\n",
    "from tensorflow.keras.models import Sequential\n",
    "from tensorflow.keras import layers\n",
    "\n",
    "from sklearn.model_selection import train_test_split\n",
    "\n",
    "import numpy as np\n",
    "import matplotlib.pyplot as plt\n",
    "import os\n",
    "\n",
    "tf.__version__"
   ],
   "execution_count": 5,
   "outputs": [
    {
     "data": {
      "text/plain": "'2.10.0'"
     },
     "execution_count": 5,
     "metadata": {},
     "output_type": "execute_result"
    }
   ]
  },
  {
   "cell_type": "markdown",
   "metadata": {
    "id": "Kjsldx-rzIfG"
   },
   "source": [
    "### load data\n",
    "* CIFAR 10 dataset을 로드한다. (npy)\n",
    "* 학습에 사용되는 대표적인 데이터셋들은 프레임워크내 코드로 제공된다.\n",
    "\n",
    "```\n",
    "tf.keras.dataset.cifar10\n",
    "tf.keras.dataset.cifar100\n",
    "tf.keras.dataset.mnist\n",
    "tf.keras.dataset.fashion_mnist\n",
    "tf.keras.dataset.imdb\n",
    "\n",
    "```\n",
    "\n",
    "* 다양한 데이터셋을 쉽게 가져와 사용할 수 있다.\n",
    "\n",
    "### 데이터셋 사용방법\n",
    "* Data split\n",
    "    * sklearn (머신러닝 프레임워크)를 이용해 데이터를 손쉽게 나눌 수 있다.\n",
    "\n",
    "```\n",
    "test_data_split, valid_data, test_labels_split, valid_labels = \\\n",
    "    train_test_split(test_data, test_labels, test_size=0.2, shuffle=True)\n",
    "```\n",
    "\n",
    "* test_size를 조절해 원하는 크기만큼의 데이터를 분리해 사용할 수 있다."
   ]
  },
  {
   "cell_type": "code",
   "metadata": {
    "id": "C5QyC6CZMgLT",
    "colab": {
     "base_uri": "https://localhost:8080/"
    },
    "outputId": "1e96faad-0204-4fb0-d1d6-57d3343531a4",
    "ExecuteTime": {
     "end_time": "2023-12-28T10:04:05.942054Z",
     "start_time": "2023-12-28T10:04:05.662007Z"
    }
   },
   "source": [
    "# Load training and eval data from tf.keras\n",
    "(train_data, train_labels), (test_data, test_labels) = \\\n",
    "    tf.keras.datasets.cifar10.load_data()"
   ],
   "execution_count": 6,
   "outputs": []
  },
  {
   "cell_type": "code",
   "metadata": {
    "id": "_bshB8j2Qu3Z",
    "colab": {
     "base_uri": "https://localhost:8080/"
    },
    "outputId": "433c76b1-ccf7-4c51-ba92-866011b5d9e2",
    "ExecuteTime": {
     "end_time": "2023-12-28T10:04:06.084986Z",
     "start_time": "2023-12-28T10:04:05.940586Z"
    }
   },
   "source": [
    "!cd /root/.keras/datasets/ && ls -al"
   ],
   "execution_count": 7,
   "outputs": [
    {
     "name": "stdout",
     "output_type": "stream",
     "text": [
      "zsh:cd:1: no such file or directory: /root/.keras/datasets/\r\n"
     ]
    }
   ]
  },
  {
   "cell_type": "code",
   "metadata": {
    "id": "fKduNOW08ugw",
    "colab": {
     "base_uri": "https://localhost:8080/"
    },
    "outputId": "043cbb6e-6bad-409a-b1ef-229e18be3812",
    "ExecuteTime": {
     "end_time": "2023-12-28T10:04:06.097272Z",
     "start_time": "2023-12-28T10:04:06.089823Z"
    }
   },
   "source": [
    "print(train_data.shape, train_labels.shape)\n",
    "print(test_data.shape, test_labels.shape)\n",
    "print(test_labels[0]) # 데이터셋 제작할때, [3] => 3 으로 데이터 형태를 변경해줘야합니다."
   ],
   "execution_count": 8,
   "outputs": [
    {
     "name": "stdout",
     "output_type": "stream",
     "text": [
      "(50000, 32, 32, 3) (50000, 1)\n",
      "(10000, 32, 32, 3) (10000, 1)\n",
      "[3]\n"
     ]
    }
   ]
  },
  {
   "cell_type": "code",
   "metadata": {
    "id": "INZN9eNPRL5h",
    "ExecuteTime": {
     "end_time": "2023-12-28T10:04:06.638790Z",
     "start_time": "2023-12-28T10:04:06.098016Z"
    }
   },
   "source": [
    "test_data, valid_data, test_labels, valid_labels = \\\n",
    "    train_test_split(test_data, test_labels, test_size=0.1, shuffle=True) # 0~1의 값으로 줍니다.\n",
    "                     # test_size => 0.1 = 10%\n",
    "                     # test_size => 0.2 = 20%\n",
    "\n",
    "# raw data normalization\n",
    "# RGB 값이 0~255 사이 값인 것을 이용해 Normalization 진행\n",
    "train_data = train_data / 255.\n",
    "train_data = train_data.reshape([-1, 32, 32, 3])\n",
    "train_labels = train_labels.reshape([-1]) #\n",
    "\n",
    "valid_data = valid_data / 255.\n",
    "valid_data = valid_data.reshape([-1, 32, 32, 3])\n",
    "valid_labels = valid_labels.reshape([-1])\n",
    "\n",
    "test_data = test_data / 255.\n",
    "test_data = test_data.reshape([-1, 32, 32, 3])\n",
    "test_labels = test_labels.reshape([-1])\n"
   ],
   "execution_count": 9,
   "outputs": []
  },
  {
   "cell_type": "code",
   "metadata": {
    "id": "Nd8fwv5AeaFy",
    "colab": {
     "base_uri": "https://localhost:8080/"
    },
    "outputId": "2479e70d-e235-4bab-c23f-9b3045f9995c",
    "ExecuteTime": {
     "end_time": "2023-12-28T10:04:06.660295Z",
     "start_time": "2023-12-28T10:04:06.635509Z"
    }
   },
   "source": [
    "# [데이터수, 32, 32, 3] [데이터수,]\n",
    "print(train_data.shape, train_labels.shape)\n",
    "print(valid_data.shape, valid_labels.shape)\n",
    "print(test_data.shape, test_labels.shape)"
   ],
   "execution_count": 10,
   "outputs": [
    {
     "name": "stdout",
     "output_type": "stream",
     "text": [
      "(50000, 32, 32, 3) (50000,)\n",
      "(1000, 32, 32, 3) (1000,)\n",
      "(9000, 32, 32, 3) (9000,)\n"
     ]
    }
   ]
  },
  {
   "cell_type": "markdown",
   "metadata": {
    "id": "J_5B8vqPzNYY"
   },
   "source": [
    "### dataset 구성\n",
    "* tf.data.Dataset을 이용해 데이터셋을 구성한다.\n",
    "    * 위에서 불러온 raw data (cifar10) 데이터셋을 모델이 학습 할 수 있도록 전달해 주는 데이터셋이다.\n",
    "* tf data Dataset을 사용해야하는 이유?\n",
    "    * 직접 Generator를 작성할 필요가 없다\n",
    "    * map 함수를 이용해 전처리 과정을 직접 조절할 수 있다.\n",
    "    * 메모리에 부담이 되지 않게 동작한다.\n",
    "\n",
    "\n",
    "### 직접 적용해보자\n",
    "* map 함수를 적용할 함수 구현 후 dataset을 구현하며 사용해보자"
   ]
  },
  {
   "cell_type": "code",
   "metadata": {
    "id": "KB2O5Gf8RL5n",
    "ExecuteTime": {
     "end_time": "2023-12-28T10:04:06.663689Z",
     "start_time": "2023-12-28T10:04:06.642365Z"
    }
   },
   "source": [
    "def one_hot_label(image, label): # label => one_hot\n",
    "  label = tf.one_hot(label, depth=10)\n",
    "  return image, label"
   ],
   "execution_count": 11,
   "outputs": []
  },
  {
   "cell_type": "markdown",
   "metadata": {
    "id": "RQuarDIdj0nn"
   },
   "source": [
    "* 위 one_hot_label 함수는 아래와 같이 동작한다.\n",
    "# one_hot vector 예시\n",
    "\n",
    "```Python\n",
    "tf.one_hot(\n",
    "    indices, depth, on_value=None, off_value=None, axis=None, dtype=None, name=None\n",
    ")\n",
    "\n",
    "indices = [0, 1, 2]\n",
    "depth = 3\n",
    "tf.one_hot(indices, depth)  # output: [3 x 3]\n",
    "# [[1., 0., 0.],\n",
    "#  [0., 1., 0.],\n",
    "#  [0., 0., 1.]]\n",
    "\n",
    "```"
   ]
  },
  {
   "cell_type": "markdown",
   "metadata": {
    "id": "sl0pvav6kJMT"
   },
   "source": [
    "### map 함수를 포함한 dataset 구성\n",
    "* Dataset을 딥러닝 데이터를 쉽게 불러오기 위한 일종의 Generator 입니다.\n",
    "* 학습에 사용할 데이터셋은 총 3개\n",
    "    * Train dataset, Valid dataset, Test dataset 입니다.\n",
    "        * Raw data에서 분리한 데이터들\n",
    "    * 데이터셋은 tf.data.Dataset으로 구성되며, 구현 파트에선 데이터를 불러오는 형식만을 지정해준다.\n",
    "        * shuffle, batch 옵션을 이용해 다양하게 데이터를 로드해올 수 있다.\n",
    "    "
   ]
  },
  {
   "cell_type": "code",
   "metadata": {
    "id": "4YFNeX5zokDu",
    "ExecuteTime": {
     "end_time": "2023-12-28T10:04:06.680995Z",
     "start_time": "2023-12-28T10:04:06.648772Z"
    }
   },
   "source": [
    "batch_size = 32"
   ],
   "execution_count": 12,
   "outputs": []
  },
  {
   "cell_type": "code",
   "metadata": {
    "id": "5smuqDGFRL5s",
    "colab": {
     "base_uri": "https://localhost:8080/"
    },
    "outputId": "8ab0ba62-2343-4c4e-85ad-5709b59635ea",
    "ExecuteTime": {
     "end_time": "2023-12-28T10:04:11.625398Z",
     "start_time": "2023-12-28T10:04:06.744487Z"
    }
   },
   "source": [
    "# for train\n",
    "N = len(train_data)\n",
    "train_dataset = tf.data.Dataset.from_tensor_slices((train_data, train_labels))\n",
    "train_dataset = train_dataset.map(one_hot_label) # 함수의 이름을 써서 구현\n",
    "train_dataset = train_dataset.shuffle(10000).repeat().batch(batch_size=batch_size)\n",
    "print(train_dataset)\n",
    "\n",
    "# # for valid\n",
    "valid_dataset = tf.data.Dataset.from_tensor_slices((valid_data, valid_labels))\n",
    "valid_dataset = valid_dataset.map(one_hot_label)\n",
    "valid_dataset = valid_dataset.batch(batch_size=batch_size)\n",
    "print(valid_dataset)\n",
    "\n",
    "# # for test\n",
    "test_dataset = tf.data.Dataset.from_tensor_slices((test_data, test_labels))\n",
    "test_dataset = test_dataset.map(one_hot_label)\n",
    "test_dataset = test_dataset.batch(batch_size=batch_size)\n",
    "print(test_dataset)\n"
   ],
   "execution_count": 13,
   "outputs": [
    {
     "name": "stdout",
     "output_type": "stream",
     "text": [
      "Metal device set to: Apple M1\n"
     ]
    },
    {
     "name": "stderr",
     "output_type": "stream",
     "text": [
      "2023-12-28 19:04:06.705622: I tensorflow/core/common_runtime/pluggable_device/pluggable_device_factory.cc:306] Could not identify NUMA node of platform GPU ID 0, defaulting to 0. Your kernel may not have been built with NUMA support.\n",
      "2023-12-28 19:04:06.708878: I tensorflow/core/common_runtime/pluggable_device/pluggable_device_factory.cc:272] Created TensorFlow device (/job:localhost/replica:0/task:0/device:GPU:0 with 0 MB memory) -> physical PluggableDevice (device: 0, name: METAL, pci bus id: <undefined>)\n"
     ]
    },
    {
     "name": "stdout",
     "output_type": "stream",
     "text": [
      "<BatchDataset element_spec=(TensorSpec(shape=(None, 32, 32, 3), dtype=tf.float64, name=None), TensorSpec(shape=(None, 10), dtype=tf.float32, name=None))>\n",
      "<BatchDataset element_spec=(TensorSpec(shape=(None, 32, 32, 3), dtype=tf.float64, name=None), TensorSpec(shape=(None, 10), dtype=tf.float32, name=None))>\n",
      "<BatchDataset element_spec=(TensorSpec(shape=(None, 32, 32, 3), dtype=tf.float64, name=None), TensorSpec(shape=(None, 10), dtype=tf.float32, name=None))>\n"
     ]
    }
   ]
  },
  {
   "cell_type": "markdown",
   "metadata": {
    "id": "8s_YijINvd7I"
   },
   "source": [
    "\n",
    "* 데이터 타입의 경우 Tensorflow 버전에 따라 tf.float32 or tf.float64로 출력될 수 있으나 학습에 큰 영향을 주진 않는다.\n",
    "* 해당 자료형은 tf.cast를 이용해 따로 타입을 지정해줄 수 있다."
   ]
  },
  {
   "cell_type": "markdown",
   "metadata": {
    "id": "Sak_LGn0jVSz"
   },
   "source": [
    "### Save point 설정\n",
    "* Model weight를 저장할 폴더를 지정한다.\n",
    "* 폴더가 없다면 새로 생성해준다."
   ]
  },
  {
   "cell_type": "code",
   "metadata": {
    "id": "aoGnJiFQn-9a",
    "ExecuteTime": {
     "end_time": "2023-12-28T10:04:11.815806Z",
     "start_time": "2023-12-28T10:04:11.627613Z"
    }
   },
   "source": [
    "# the save point\n",
    "if use_colab:\n",
    "    checkpoint_dir ='./drive/My Drive/train_ckpt/cifar10_classification/exp1'\n",
    "else:\n",
    "    checkpoint_dir = 'cifar10_classification/exp1'\n",
    "\n",
    "if not os.path.isdir(checkpoint_dir):\n",
    "    os.makedirs(checkpoint_dir)"
   ],
   "execution_count": 14,
   "outputs": []
  },
  {
   "cell_type": "markdown",
   "metadata": {
    "id": "28Zgtrndp8ag"
   },
   "source": [
    "### Model Savepoints\n",
    "* 모델 저장시 모델의 파라미터를 저장한다.\n",
    "    * 위에 구현된 모델의 shape을 기준으로 파라미터만 저장\n",
    "* 저장된 데이터는 checkpoint 형태로 저장되며, load data를 이용해 불러올 수 있다.\n",
    "    * 저장된 모델 데이터를 불러올 시에는 저장된 모델과 같은 shape인 모델이 메모리 상에 있어야 한다.\n",
    "\n",
    "```\n",
    "model = model() # 구현했던 모델\n",
    "model.load_weights(checkpoint_dir)\n",
    "```"
   ]
  },
  {
   "cell_type": "markdown",
   "metadata": {
    "id": "E9zJFca-nq4v"
   },
   "source": [
    "### 데이터 확인\n",
    "* 학습에 사용할 데이터를 확인해보자."
   ]
  },
  {
   "cell_type": "code",
   "metadata": {
    "id": "s8zViOfERL5v",
    "colab": {
     "base_uri": "https://localhost:8080/",
     "height": 447
    },
    "outputId": "6caebc9e-bad6-40b6-e7f8-8012e809c472",
    "ExecuteTime": {
     "end_time": "2023-12-28T10:04:12.984484Z",
     "start_time": "2023-12-28T10:04:11.642455Z"
    }
   },
   "source": [
    "index = 219 # index를 변경해 확인해보자 (0~49999)\n",
    "print(\"label = {}\".format(train_labels[index]))\n",
    "plt.imshow(train_data[index].reshape(32, 32, 3))\n",
    "plt.colorbar()\n",
    "#plt.gca().grid(False)\n",
    "plt.show()"
   ],
   "execution_count": 15,
   "outputs": [
    {
     "name": "stdout",
     "output_type": "stream",
     "text": [
      "label = 9\n"
     ]
    },
    {
     "data": {
      "text/plain": "<Figure size 640x480 with 2 Axes>",
      "image/png": "[encoded data removed]"
     },
     "metadata": {},
     "output_type": "display_data"
    }
   ]
  },
  {
   "cell_type": "markdown",
   "metadata": {
    "id": "3ci_kGCiiVYN"
   },
   "source": [
    "### 모델 구성\n",
    "* 직접 모델을 구현해 봅시다."
   ]
  },
  {
   "cell_type": "code",
   "source": [
    "class Conv(tf.keras.Model):\n",
    "    def __init__(self,num_filters, kernel_size = 3):\n",
    "        super(Conv, self).__init__()# 재료창고\n",
    "        self.conv1 = layers.Conv2D(num_filters, kernel_size, padding ='same')\n",
    "        self.conv2 = layers.Conv2D(num_filters, kernel_size, padding ='same')\n",
    "        self.bn1 = layers.BatchNormalization()\n",
    "        self.bn2 = layers.BatchNormalization()\n",
    "\n",
    "\n",
    "    def call(self, inputs, training = True):\n",
    "        x = self.conv1(inputs)\n",
    "        x = self.bn1(x)\n",
    "        x = layers.Activation('relu')(x)\n",
    "        x = self.conv2(x)\n",
    "        x = self.bn2(x)\n",
    "        x = layers.Activation('relu')(x)\n",
    "\n",
    "        return x\n",
    "\n",
    "class Dens(tf.keras.Model):\n",
    "    def __init__(self,num_nodes_1 = 1024):\n",
    "        super(Dens, self).__init__()\n",
    "        self.dense1 = layers.Dense(num_nodes_1, kernel_initializer=tf.keras.initializers.HeUniform(),\n",
    "                                   kernel_regularizer=tf.keras.regularizers.L2(0.0001))\n",
    "        self.dense2 = layers.Dense(num_nodes_1, kernel_initializer=tf.keras.initializers.HeUniform(),\n",
    "                                   kernel_regularizer=tf.keras.regularizers.L2(0.0001))\n",
    "        self.bn1 = layers.BatchNormalization()\n",
    "        self.bn2 = layers.BatchNormalization()\n",
    "\n",
    "    def call(self, inputs, training = True):\n",
    "        x = self.dense1(inputs)\n",
    "        x = self.bn1(x)\n",
    "        x = layers.Activation('relu')(x)\n",
    "        x = layers.Dropout(0.5)(x)\n",
    "        x = self.dense2(x)\n",
    "        x = self.bn2(x)\n",
    "        x = layers.Activation('relu')(x)\n",
    "        \n",
    "        return x\n",
    "\n",
    "class VGGlikeModel(tf.keras.Model):\n",
    "    def __init__(self):\n",
    "        super(VGGlikeModel,self).__init__()\n",
    "        self.conv_block1 = Conv(32)\n",
    "        self.conv_block2 = Conv(64)\n",
    "        self.conv_block3 = Conv(128)\n",
    "        self.conv_block4 = Conv(256)\n",
    "        self.fc = Dens()\n",
    "        self.out = layers.Dense(10)\n",
    "\n",
    "    def call(self, inputs, training = True):\n",
    "        x = self.conv_block1(inputs)\n",
    "        x = layers.MaxPooling2D()(x)\n",
    "        x = self.conv_block2(x)\n",
    "        x = layers.MaxPooling2D()(x)\n",
    "        x = self.conv_block3(x)\n",
    "        x = layers.MaxPooling2D()(x)\n",
    "        x = self.conv_block4(x)\n",
    "        x = layers.Flatten()(x)\n",
    "        x = self.fc(x)\n",
    "        x = self.out(x)\n",
    "        return x\n",
    "\n"
   ],
   "metadata": {
    "id": "NiZoyEuYSgZF",
    "ExecuteTime": {
     "end_time": "2023-12-28T10:21:34.477145Z",
     "start_time": "2023-12-28T10:21:34.440755Z"
    }
   },
   "execution_count": 41,
   "outputs": []
  },
  {
   "cell_type": "code",
   "source": [
    "input_tensor = layers.Input(shape=(32, 32, 3,))\n",
    "VGG = VGGlikeModel()\n",
    "\n",
    "output_tensor = VGG.call(input_tensor)\n",
    "\n",
    "model = tf.keras.Model(input_tensor, output_tensor)\n",
    "\n",
    "# convolution = Conv(64)\n",
    "# x = layers.Conv2D(128, 3, padding='same',\n",
    "#                   kernel_initializer=tf.keras.initializers.HeUniform())(x)\n",
    "# x = layers.BatchNormalization()(input_tensor)\n",
    "# x = layers.Activation('relu')(x)\n",
    "# x = layers.Dropout(0.1)(x)\n",
    "\n",
    "# x = layers.MaxPool2D((2,2))(x)\n",
    "\n",
    "# x = layers.Conv2D(128, 3, padding='same',\n",
    "#                   kernel_initializer=tf.keras.initializers.HeUniform())(x)\n",
    "# x = layers.BatchNormalization()(x)\n",
    "# x = layers.Activation('relu')(x)\n",
    "# x = layers.Conv2D(128, 3, padding='same',\n",
    "#                   kernel_initializer=tf.keras.initializers.HeUniform())(x)\n",
    "# x = layers.BatchNormalization()(x)\n",
    "# x = layers.Activation('relu')(x)\n",
    "# x = layers.Dropout(0.2)(x)\n",
    "\n",
    "# x = layers.MaxPool2D((2,2))(x)\n",
    "\n",
    "# x = layers.Conv2D(256, 3, padding='same',\n",
    "#                   kernel_initializer=tf.keras.initializers.HeUniform())(x)\n",
    "# x = layers.BatchNormalization()(x)\n",
    "# x = layers.Activation('relu')(x)\n",
    "# x = layers.Conv2D(256, 3, padding='same',\n",
    "#                   kernel_initializer=tf.keras.initializers.HeUniform())(x)\n",
    "# x = layers.BatchNormalization()(x)\n",
    "# x = layers.Activation('relu')(x)\n",
    "# x = layers.Conv2D(256, 3, padding='same',\n",
    "#                   kernel_initializer=tf.keras.initializers.HeUniform())(x)\n",
    "# x = layers.BatchNormalization()(x)\n",
    "# x = layers.Activation('relu')(x)\n",
    "# x = layers.Dropout(0.3)(x)\n",
    "\n",
    "# x = layers.MaxPool2D((2,2))(x)\n",
    "\n",
    "# x = layers.Conv2D(512, 3, padding='same',\n",
    "#                   kernel_initializer=tf.keras.initializers.HeUniform())(x)\n",
    "# x = layers.BatchNormalization()(x)\n",
    "# x = layers.Activation('relu')(x)\n",
    "# x = layers.Conv2D(512, 3, padding='same',\n",
    "#                   kernel_initializer=tf.keras.initializers.HeUniform())(x)\n",
    "# x = layers.BatchNormalization()(x)\n",
    "# x = layers.Activation('relu')(x)\n",
    "# x = layers.Conv2D(512, 3, padding='same',\n",
    "#                   kernel_initializer=tf.keras.initializers.HeUniform())(x)\n",
    "# x = layers.BatchNormalization()(x)\n",
    "# x = layers.Activation('relu')(x)\n",
    "# x = layers.Dropout(0.4)(x)\n",
    "# x = layers.MaxPool2D((2,2))(x)\n",
    "\n",
    "# x = layers.Conv2D(512, 3, padding='same',\n",
    "#                   kernel_initializer=tf.keras.initializers.HeUniform())(x)\n",
    "# x = layers.BatchNormalization()(x)\n",
    "# x = layers.Activation('relu')(x)\n",
    "# x = layers.Conv2D(512, 3, padding='same',\n",
    "#                   kernel_initializer=tf.keras.initializers.HeUniform())(x)\n",
    "# x = layers.BatchNormalization()(x)\n",
    "# x = layers.Activation('relu')(x)\n",
    "# x = layers.Conv2D(512, 3, padding='same',\n",
    "#                   kernel_initializer=tf.keras.initializers.HeUniform())(x)\n",
    "# x = layers.BatchNormalization()(x)\n",
    "# x = layers.Activation('relu')(x)\n",
    "# x = layers.Dropout(0.5)(x)\n",
    "# x = layers.MaxPool2D((2,2))(x)\n",
    "\n",
    "# x = layers.Flatten()(x)\n",
    "\n",
    "# x = layers.Dense(4096,\n",
    "#                  kernel_initializer=tf.keras.initializers.HeUniform())(x)\n",
    "# x = layers.BatchNormalization()(x)\n",
    "# x = layers.Activation('relu')(x)\n",
    "# x = layers.Dropout(0.5)(x)\n",
    "# x = layers.Dense(4096,\n",
    "#                  kernel_initializer=tf.keras.initializers.HeUniform())(x)\n",
    "# x = layers.BatchNormalization()(x)\n",
    "# x = layers.Activation('relu')(x)\n",
    "# x = layers.Dropout(0.5)(x)\n",
    "# x = layers.Dense(1000,\n",
    "#                  kernel_initializer=tf.keras.initializers.HeUniform())(x)\n",
    "# x = layers.BatchNormalization()(x)\n",
    "# x = layers.Activation('relu')(x)\n",
    "\n",
    "\n",
    "\n",
    "# output_tensor = layers.Dense(10)(x)\n",
    "\n",
    "# model = tf.keras.Model(input_tensor, output_tensor)"
   ],
   "metadata": {
    "id": "7UJxwGG2uTe9",
    "colab": {
     "base_uri": "https://localhost:8080/",
     "height": 361
    },
    "outputId": "4e05932d-4c53-4310-985d-05283e0883d3",
    "ExecuteTime": {
     "end_time": "2023-12-28T10:21:35.517382Z",
     "start_time": "2023-12-28T10:21:35.067932Z"
    }
   },
   "execution_count": 42,
   "outputs": []
  },
  {
   "cell_type": "markdown",
   "metadata": {
    "id": "eA76LqFwpH-X"
   },
   "source": [
    "* 모델이 잘 생성 되었는지 간단하게 테스트해 봅시다."
   ]
  },
  {
   "cell_type": "code",
   "metadata": {
    "id": "g8BnMTZyRL53",
    "colab": {
     "base_uri": "https://localhost:8080/"
    },
    "outputId": "6f3403ee-9e2d-482e-b289-6595136194c2",
    "ExecuteTime": {
     "end_time": "2023-12-28T10:21:50.599147Z",
     "start_time": "2023-12-28T10:21:49.064632Z"
    }
   },
   "source": [
    "# without training, just inference a model in eager execution:\n",
    "predictions = model(train_data[0:1], training=False)\n",
    "print(\"Predictions: \", predictions.numpy()) # 총 10개의 데이터가 나오면 모델이 잘 구성된겁니다."
   ],
   "execution_count": 44,
   "outputs": [
    {
     "name": "stdout",
     "output_type": "stream",
     "text": [
      "Predictions:  [[ 0.00169812 -0.00533592  0.00477646 -0.00623731 -0.01166814 -0.00372864\n",
      "   0.0123824  -0.00300789 -0.00492118 -0.00152045]]\n"
     ]
    }
   ]
  },
  {
   "cell_type": "markdown",
   "metadata": {
    "id": "nct8JiQxpLsX"
   },
   "source": [
    "* 위 Predictions 결과가 총 10개 짜리 리스트로 출력 된다면, 현재 테스크에서 정상적인 출력입니다.\n",
    "    * cifar10 dataset은 정답이 총 10개로 이뤄져 있습니다.\n",
    "    * 출력값은 마지막 output layer에 activation의 유무에 따라서 값이 달라지며, activation을 통과하기전 데이터를 logit이라고 이야기합니다."
   ]
  },
  {
   "cell_type": "markdown",
   "metadata": {
    "id": "vJRZU65fl2xz"
   },
   "source": [
    "### Model compile\n",
    "* 학습을 위한 Optimizer와 Loss fn을 설정해준다.\n",
    "    * Optimzier는 learning rate를 인자로 가지며, 모델의 학습정도를 컨트롤합니다.\n",
    "    * Loss fn은 모델의 예측결과와 실제 정답간의 차이를 loss로 계산해 모델을 학습합니다."
   ]
  },
  {
   "cell_type": "code",
   "metadata": {
    "id": "P3I0O8MaRL57",
    "ExecuteTime": {
     "end_time": "2023-12-28T10:21:51.239863Z",
     "start_time": "2023-12-28T10:21:51.096672Z"
    }
   },
   "source": [
    "model.compile(optimizer=tf.keras.optimizers.Adam(), # learning rate가 기본값으로 1e-3으로 들어가있습니다.\n",
    "              loss=tf.keras.losses.CategoricalCrossentropy(from_logits=True),\n",
    "              metrics=['accuracy'])"
   ],
   "execution_count": 45,
   "outputs": []
  },
  {
   "cell_type": "code",
   "metadata": {
    "id": "3KF1BT7aRL5-",
    "colab": {
     "base_uri": "https://localhost:8080/"
    },
    "outputId": "502fce6e-e1e1-4edc-82a0-11ed9a68e53e",
    "ExecuteTime": {
     "end_time": "2023-12-28T10:21:51.798104Z",
     "start_time": "2023-12-28T10:21:51.767915Z"
    }
   },
   "source": [
    "model.summary()"
   ],
   "execution_count": 46,
   "outputs": [
    {
     "name": "stdout",
     "output_type": "stream",
     "text": [
      "Model: \"model\"\n",
      "_________________________________________________________________\n",
      " Layer (type)                Output Shape              Param #   \n",
      "=================================================================\n",
      " input_13 (InputLayer)       [(None, 32, 32, 3)]       0         \n",
      "                                                                 \n",
      " conv_40 (Conv)              (None, 32, 32, 32)        10400     \n",
      "                                                                 \n",
      " max_pooling2d_21 (MaxPoolin  (None, 16, 16, 32)       0         \n",
      " g2D)                                                            \n",
      "                                                                 \n",
      " conv_41 (Conv)              (None, 16, 16, 64)        55936     \n",
      "                                                                 \n",
      " max_pooling2d_22 (MaxPoolin  (None, 8, 8, 64)         0         \n",
      " g2D)                                                            \n",
      "                                                                 \n",
      " conv_42 (Conv)              (None, 8, 8, 128)         222464    \n",
      "                                                                 \n",
      " max_pooling2d_23 (MaxPoolin  (None, 4, 4, 128)        0         \n",
      " g2D)                                                            \n",
      "                                                                 \n",
      " conv_43 (Conv)              (None, 4, 4, 256)         887296    \n",
      "                                                                 \n",
      " flatten_6 (Flatten)         (None, 4096)              0         \n",
      "                                                                 \n",
      " dens_2 (Dens)               (None, 1024)              5253120   \n",
      "                                                                 \n",
      " dense_20 (Dense)            (None, 10)                10250     \n",
      "                                                                 \n",
      "=================================================================\n",
      "Total params: 6,439,466\n",
      "Trainable params: 6,433,450\n",
      "Non-trainable params: 6,016\n",
      "_________________________________________________________________\n"
     ]
    }
   ]
  },
  {
   "cell_type": "code",
   "metadata": {
    "id": "OKIiPxAgoItQ",
    "ExecuteTime": {
     "end_time": "2023-12-28T10:21:52.931307Z",
     "start_time": "2023-12-28T10:21:52.913625Z"
    }
   },
   "source": [
    "cp_callback = tf.keras.callbacks.ModelCheckpoint(checkpoint_dir, # save point dir\n",
    "                                                 save_weights_only=True,\n",
    "                                                 monitor='val_loss',\n",
    "                                                 mode='auto',\n",
    "                                                 save_best_only=True,\n",
    "                                                 verbose=1)"
   ],
   "execution_count": 47,
   "outputs": []
  },
  {
   "cell_type": "code",
   "metadata": {
    "id": "B3sOL3HCRL6A",
    "colab": {
     "base_uri": "https://localhost:8080/",
     "height": 419
    },
    "outputId": "b6e33c08-82a3-4cea-851a-54dd8b39cf58",
    "ExecuteTime": {
     "end_time": "2023-12-29T00:30:30.621381Z",
     "start_time": "2023-12-28T10:21:53.754222Z"
    }
   },
   "source": [
    "max_epochs = 20\n",
    "\n",
    "# using `tf.data.Dataset`\n",
    "history = model.fit(train_dataset,\n",
    "                    steps_per_epoch=len(train_data) // batch_size, # train data의 길이 // batch 길이\n",
    "                    epochs=max_epochs,\n",
    "                    validation_data=valid_dataset,\n",
    "                    validation_steps=len(valid_data) // batch_size,\n",
    "                    callbacks=[cp_callback]\n",
    "                    )"
   ],
   "execution_count": 48,
   "outputs": [
    {
     "name": "stdout",
     "output_type": "stream",
     "text": [
      "Epoch 1/20\n"
     ]
    },
    {
     "name": "stderr",
     "output_type": "stream",
     "text": [
      "2023-12-28 19:21:54.862774: W tensorflow/core/platform/profile_utils/cpu_utils.cc:128] Failed to get CPU frequency: 0 Hz\n",
      "2023-12-28 19:21:54.865474: I tensorflow/core/grappler/optimizers/custom_graph_optimizer_registry.cc:114] Plugin optimizer for device_type GPU is enabled.\n"
     ]
    },
    {
     "name": "stdout",
     "output_type": "stream",
     "text": [
      "1562/1562 [==============================] - ETA: 0s - loss: 1.6900 - accuracy: 0.5292"
     ]
    },
    {
     "name": "stderr",
     "output_type": "stream",
     "text": [
      "2023-12-28 19:23:25.982561: I tensorflow/core/grappler/optimizers/custom_graph_optimizer_registry.cc:114] Plugin optimizer for device_type GPU is enabled.\n"
     ]
    },
    {
     "name": "stdout",
     "output_type": "stream",
     "text": [
      "\n",
      "Epoch 1: val_loss improved from inf to 1.62548, saving model to ./drive/My Drive/train_ckpt/cifar10_classification/exp1\n",
      "1562/1562 [==============================] - 93s 54ms/step - loss: 1.6900 - accuracy: 0.5292 - val_loss: 1.6255 - val_accuracy: 0.5403\n",
      "Epoch 2/20\n",
      "1562/1562 [==============================] - ETA: 0s - loss: 1.0740 - accuracy: 0.7004\n",
      "Epoch 2: val_loss improved from 1.62548 to 1.20640, saving model to ./drive/My Drive/train_ckpt/cifar10_classification/exp1\n",
      "1562/1562 [==============================] - 77s 49ms/step - loss: 1.0740 - accuracy: 0.7004 - val_loss: 1.2064 - val_accuracy: 0.6593\n",
      "Epoch 3/20\n",
      "1562/1562 [==============================] - ETA: 0s - loss: 0.8610 - accuracy: 0.7597\n",
      "Epoch 3: val_loss improved from 1.20640 to 0.86163, saving model to ./drive/My Drive/train_ckpt/cifar10_classification/exp1\n",
      "1562/1562 [==============================] - 81s 52ms/step - loss: 0.8610 - accuracy: 0.7597 - val_loss: 0.8616 - val_accuracy: 0.7571\n",
      "Epoch 4/20\n",
      "1562/1562 [==============================] - ETA: 0s - loss: 0.7449 - accuracy: 0.7970\n",
      "Epoch 4: val_loss did not improve from 0.86163\n",
      "1562/1562 [==============================] - 81s 52ms/step - loss: 0.7449 - accuracy: 0.7970 - val_loss: 1.0352 - val_accuracy: 0.6925\n",
      "Epoch 5/20\n",
      "1561/1562 [============================>.] - ETA: 0s - loss: 0.6437 - accuracy: 0.8263\n",
      "Epoch 5: val_loss improved from 0.86163 to 0.83720, saving model to ./drive/My Drive/train_ckpt/cifar10_classification/exp1\n",
      "1562/1562 [==============================] - 89s 57ms/step - loss: 0.6438 - accuracy: 0.8262 - val_loss: 0.8372 - val_accuracy: 0.7631\n",
      "Epoch 6/20\n",
      "1562/1562 [==============================] - ETA: 0s - loss: 0.5553 - accuracy: 0.8558\n",
      "Epoch 6: val_loss improved from 0.83720 to 0.68902, saving model to ./drive/My Drive/train_ckpt/cifar10_classification/exp1\n",
      "1562/1562 [==============================] - 94s 60ms/step - loss: 0.5553 - accuracy: 0.8558 - val_loss: 0.6890 - val_accuracy: 0.8085\n",
      "Epoch 7/20\n",
      "1562/1562 [==============================] - ETA: 0s - loss: 0.4798 - accuracy: 0.8767\n",
      "Epoch 7: val_loss improved from 0.68902 to 0.67202, saving model to ./drive/My Drive/train_ckpt/cifar10_classification/exp1\n",
      "1562/1562 [==============================] - 4103s 3s/step - loss: 0.4798 - accuracy: 0.8767 - val_loss: 0.6720 - val_accuracy: 0.8286\n",
      "Epoch 8/20\n",
      "1562/1562 [==============================] - ETA: 0s - loss: 0.4079 - accuracy: 0.8980\n",
      "Epoch 8: val_loss did not improve from 0.67202\n",
      "1562/1562 [==============================] - 4153s 3s/step - loss: 0.4079 - accuracy: 0.8980 - val_loss: 0.6962 - val_accuracy: 0.8065\n",
      "Epoch 9/20\n",
      "1562/1562 [==============================] - ETA: 0s - loss: 0.3419 - accuracy: 0.9166\n",
      "Epoch 9: val_loss improved from 0.67202 to 0.62292, saving model to ./drive/My Drive/train_ckpt/cifar10_classification/exp1\n",
      "1562/1562 [==============================] - 403s 258ms/step - loss: 0.3419 - accuracy: 0.9166 - val_loss: 0.6229 - val_accuracy: 0.8478\n",
      "Epoch 10/20\n",
      "1562/1562 [==============================] - ETA: 0s - loss: 0.2973 - accuracy: 0.9298\n",
      "Epoch 10: val_loss did not improve from 0.62292\n",
      "1562/1562 [==============================] - 2305s 1s/step - loss: 0.2973 - accuracy: 0.9298 - val_loss: 0.6235 - val_accuracy: 0.8327\n",
      "Epoch 11/20\n",
      "1561/1562 [============================>.] - ETA: 2s - loss: 0.2545 - accuracy: 0.9430\n",
      "Epoch 11: val_loss did not improve from 0.62292\n",
      "1562/1562 [==============================] - 3668s 2s/step - loss: 0.2544 - accuracy: 0.9430 - val_loss: 0.7070 - val_accuracy: 0.8206\n",
      "Epoch 12/20\n",
      "1562/1562 [==============================] - ETA: 0s - loss: 0.2234 - accuracy: 0.9505\n",
      "Epoch 12: val_loss did not improve from 0.62292\n",
      "1562/1562 [==============================] - 3665s 2s/step - loss: 0.2234 - accuracy: 0.9505 - val_loss: 0.7136 - val_accuracy: 0.8196\n",
      "Epoch 13/20\n",
      "1562/1562 [==============================] - ETA: 0s - loss: 0.1971 - accuracy: 0.9568 \n",
      "Epoch 13: val_loss did not improve from 0.62292\n",
      "1562/1562 [==============================] - 9062s 6s/step - loss: 0.1971 - accuracy: 0.9568 - val_loss: 0.7736 - val_accuracy: 0.8125\n",
      "Epoch 14/20\n",
      "1562/1562 [==============================] - ETA: 0s - loss: 0.1799 - accuracy: 0.9611\n",
      "Epoch 14: val_loss did not improve from 0.62292\n",
      "1562/1562 [==============================] - 4745s 3s/step - loss: 0.1799 - accuracy: 0.9611 - val_loss: 0.6632 - val_accuracy: 0.8306\n",
      "Epoch 15/20\n",
      "1562/1562 [==============================] - ETA: 0s - loss: 0.1659 - accuracy: 0.9647\n",
      "Epoch 15: val_loss did not improve from 0.62292\n",
      "1562/1562 [==============================] - 7247s 5s/step - loss: 0.1659 - accuracy: 0.9647 - val_loss: 0.7116 - val_accuracy: 0.8276\n",
      "Epoch 16/20\n",
      "1562/1562 [==============================] - ETA: 0s - loss: 0.1521 - accuracy: 0.9681\n",
      "Epoch 16: val_loss did not improve from 0.62292\n",
      "1562/1562 [==============================] - 2834s 2s/step - loss: 0.1521 - accuracy: 0.9681 - val_loss: 0.7302 - val_accuracy: 0.8427\n",
      "Epoch 17/20\n",
      "1561/1562 [============================>.] - ETA: 2s - loss: 0.1414 - accuracy: 0.9708\n",
      "Epoch 17: val_loss did not improve from 0.62292\n",
      "1562/1562 [==============================] - 4477s 3s/step - loss: 0.1414 - accuracy: 0.9708 - val_loss: 0.6276 - val_accuracy: 0.8508\n",
      "Epoch 18/20\n",
      "1561/1562 [============================>.] - ETA: 1s - loss: 0.1290 - accuracy: 0.9727\n",
      "Epoch 18: val_loss did not improve from 0.62292\n",
      "1562/1562 [==============================] - 2846s 2s/step - loss: 0.1290 - accuracy: 0.9727 - val_loss: 0.7382 - val_accuracy: 0.8256\n",
      "Epoch 19/20\n",
      "1561/1562 [============================>.] - ETA: 0s - loss: 0.1263 - accuracy: 0.9740\n",
      "Epoch 19: val_loss improved from 0.62292 to 0.61492, saving model to ./drive/My Drive/train_ckpt/cifar10_classification/exp1\n",
      "1562/1562 [==============================] - 94s 60ms/step - loss: 0.1263 - accuracy: 0.9740 - val_loss: 0.6149 - val_accuracy: 0.8508\n",
      "Epoch 20/20\n",
      "1561/1562 [============================>.] - ETA: 0s - loss: 0.1146 - accuracy: 0.9767\n",
      "Epoch 20: val_loss did not improve from 0.61492\n",
      "1562/1562 [==============================] - 800s 512ms/step - loss: 0.1146 - accuracy: 0.9767 - val_loss: 0.6872 - val_accuracy: 0.8246\n"
     ]
    }
   ]
  },
  {
   "cell_type": "markdown",
   "metadata": {
    "id": "fjLV8zaxgc4V"
   },
   "source": [
    "### 학습 결과를 정리해봅시다.\n",
    "* Model 학습을 진행하며 저장된 결과를 전달 받은 history 객체를 이용해 학습 과정을 출력해봅시다."
   ]
  },
  {
   "cell_type": "code",
   "metadata": {
    "id": "kH93caN_RL6E",
    "ExecuteTime": {
     "end_time": "2023-12-28T10:21:38.210444Z",
     "start_time": "2023-12-28T10:21:38.182930Z"
    }
   },
   "source": [
    "acc = history.history['accuracy']\n",
    "val_acc = history.history['val_accuracy']\n",
    "\n",
    "loss = history.history['loss']\n",
    "val_loss = history.history['val_loss']\n",
    "\n",
    "epochs_range = range(len(acc))\n",
    "\n",
    "plt.figure(figsize=(8, 8))\n",
    "plt.subplot(1, 2, 1)\n",
    "plt.plot(epochs_range, acc, label='Training Accuracy')\n",
    "plt.plot(epochs_range, val_acc, label='Validation Accuracy')\n",
    "plt.legend(loc='lower right')\n",
    "plt.title('Training and Valid Accuracy')\n",
    "\n",
    "plt.subplot(1, 2, 2)\n",
    "plt.plot(epochs_range, loss, label='Training Loss')\n",
    "plt.plot(epochs_range, val_loss, label='Validation Loss')\n",
    "plt.legend(loc='upper right')\n",
    "plt.title('Training and Valid Loss')\n",
    "plt.show()"
   ],
   "execution_count": 43,
   "outputs": [
    {
     "ename": "NameError",
     "evalue": "name 'history' is not defined",
     "output_type": "error",
     "traceback": [
      "\u001B[0;31m---------------------------------------------------------------------------\u001B[0m",
      "\u001B[0;31mNameError\u001B[0m                                 Traceback (most recent call last)",
      "Cell \u001B[0;32mIn[43], line 1\u001B[0m\n\u001B[0;32m----> 1\u001B[0m acc \u001B[38;5;241m=\u001B[39m \u001B[43mhistory\u001B[49m\u001B[38;5;241m.\u001B[39mhistory[\u001B[38;5;124m'\u001B[39m\u001B[38;5;124maccuracy\u001B[39m\u001B[38;5;124m'\u001B[39m]\n\u001B[1;32m      2\u001B[0m val_acc \u001B[38;5;241m=\u001B[39m history\u001B[38;5;241m.\u001B[39mhistory[\u001B[38;5;124m'\u001B[39m\u001B[38;5;124mval_accuracy\u001B[39m\u001B[38;5;124m'\u001B[39m]\n\u001B[1;32m      4\u001B[0m loss \u001B[38;5;241m=\u001B[39m history\u001B[38;5;241m.\u001B[39mhistory[\u001B[38;5;124m'\u001B[39m\u001B[38;5;124mloss\u001B[39m\u001B[38;5;124m'\u001B[39m]\n",
      "\u001B[0;31mNameError\u001B[0m: name 'history' is not defined"
     ]
    }
   ]
  },
  {
   "cell_type": "markdown",
   "metadata": {
    "id": "R5B3sWG8UIz3"
   },
   "source": [
    "### 모델 평가\n",
    "* Model 학습 후 저장된 weight를 다시 불러와 테스트를 진행합니다.\n",
    "    * 학습이 진행되며, 가장 낮은 val-loss를 이용해 모델을 저장했기 때문에 가장 작은 val-loss를 가지는 곳의 파라미터가 저장되어 있습니다.\n"
   ]
  },
  {
   "cell_type": "code",
   "metadata": {
    "id": "VC8Sjhk9lSMF",
    "ExecuteTime": {
     "start_time": "2023-12-28T10:04:13.140445Z"
    }
   },
   "source": [
    "model.load_weights(checkpoint_dir)"
   ],
   "execution_count": null,
   "outputs": []
  },
  {
   "cell_type": "markdown",
   "metadata": {
    "id": "Zb3Lm60fwWgf"
   },
   "source": [
    "* 모델 파라미터를 불러온 후 테스트 데이터셋을 이용해 평가를 진행합니다.\n",
    "* 가장 기본적인 Accuracy를 제공합니다."
   ]
  },
  {
   "cell_type": "code",
   "metadata": {
    "id": "ByXBzpzzRL6K",
    "ExecuteTime": {
     "start_time": "2023-12-28T10:04:13.141621Z"
    }
   },
   "source": [
    "results = model.evaluate(test_dataset, steps=len(test_data) // batch_size)"
   ],
   "execution_count": null,
   "outputs": []
  },
  {
   "cell_type": "code",
   "metadata": {
    "id": "8cfSwvB5RL6O",
    "ExecuteTime": {
     "start_time": "2023-12-28T10:04:13.143113Z"
    }
   },
   "source": [
    "# loss\n",
    "print(\"loss value: {:.3f}\".format(results[0]))\n",
    "# accuracy\n",
    "print(\"accuracy value: {:.4f}%\".format(results[1]*100))"
   ],
   "execution_count": null,
   "outputs": []
  },
  {
   "cell_type": "code",
   "metadata": {
    "id": "YJnX3YfnRL6T",
    "ExecuteTime": {
     "start_time": "2023-12-28T10:04:13.143598Z"
    }
   },
   "source": [
    "test_batch_size = 16\n",
    "batch_index = np.random.choice(len(test_data), size=test_batch_size, replace=False)\n",
    "\n",
    "batch_xs = test_data[batch_index]\n",
    "batch_ys = test_labels[batch_index]\n",
    "y_pred_ = model(batch_xs, training=False)\n",
    "\n",
    "fig = plt.figure(figsize=(16, 10))\n",
    "for i, (px, py) in enumerate(zip(batch_xs, y_pred_)):\n",
    "  p = fig.add_subplot(4, 8, i+1)\n",
    "  if np.argmax(py) == batch_ys[i]:\n",
    "    p.set_title(\"y_pred: {}\".format(np.argmax(py)), color='blue')\n",
    "  else:\n",
    "    p.set_title(\"y_pred: {}\".format(np.argmax(py)), color='red')\n",
    "  p.imshow(px.reshape(32, 32, 3))\n",
    "  p.axis('off')"
   ],
   "execution_count": null,
   "outputs": []
  },
  {
   "cell_type": "markdown",
   "metadata": {
    "id": "5q6NOnoZYIrR"
   },
   "source": [
    "### 평가 메트릭을 설정해보자\n",
    "* 인공지능 모델을 이용해 문제를 해결할 시에 해당 분야에서 고유하게 사용하던 평가 메트릭 혹은 새로운 메트릭이 사용되기도 합니다.\n",
    "* Classification에서 사용되었던 평가 지표를 사용해봅시다.\n",
    "\n"
   ]
  },
  {
   "cell_type": "markdown",
   "metadata": {
    "id": "NJE2--mMZO-7"
   },
   "source": [
    "## Measuring final score\n",
    "* 모델 평가 지표\n",
    "\n",
    "### \\begin{equation*} M = 50(P + min(\\frac{1}{S}, 1)) \\end{equation*}\n",
    "\n",
    "* P : Model-accuracy\n",
    "* S : Size of model (MB)\n",
    "\n",
    "\n",
    "### \\begin{equation*} S = \\frac{Parameters * float_{size}}{MB} \\end{equation*}\n",
    "\\begin{equation*} = \\frac{M_p * 32} {1024^2} \\end{equation*}\n",
    "\n",
    "\n",
    "\n",
    "* 해당 지표는 분류 평가를 위한 내용이며, 모델의 크기에 따른 정확도를 나타내는 지표입니다."
   ]
  },
  {
   "cell_type": "code",
   "metadata": {
    "id": "4R945JcpRL6Y",
    "ExecuteTime": {
     "start_time": "2023-12-28T10:04:13.144324Z"
    }
   },
   "source": [
    "def final_score():\n",
    "    print(\"Model params num : \" + str(model.count_params()))\n",
    "    print(\"Accuracy : \" + str(results[1]))\n",
    "\n",
    "    s = (model.count_params() * 32) / (1024 ** 2)\n",
    "    score = 50 * (results[1] + min((1/s), 1))\n",
    "\n",
    "    print(\"score : \" + str(score))"
   ],
   "execution_count": null,
   "outputs": []
  },
  {
   "cell_type": "markdown",
   "metadata": {
    "id": "LbuQllIxv2ww"
   },
   "source": [
    "### 스코어 결과\n",
    "* 위의 스코어는 분류모델에 적용되는 스코어입니다.\n",
    "* 모델의 크기 (MB) 와 정확도를 이용해 스코어를 출력합니다.\n",
    "    * 40 이상의 스코어에 도전해보세요!"
   ]
  },
  {
   "cell_type": "code",
   "metadata": {
    "id": "NWs2D_Y5RL6a",
    "ExecuteTime": {
     "start_time": "2023-12-28T10:04:13.144531Z"
    }
   },
   "source": [
    "final_score()"
   ],
   "execution_count": null,
   "outputs": []
  },
  {
   "cell_type": "markdown",
   "metadata": {
    "id": "56iBGUMV2B-y"
   },
   "source": [
    "### 추가 과제\n",
    "* 높은 스코어를 달성하신 분들께선 더 맞추기 어려운 데이터셋으로 도전해보세요.\n",
    "\n",
    "```\n",
    "(train_data, train_labels), (test_data, test_labels) = \\\n",
    "    tf.keras.datasets.cifar100.load_data()\n",
    "```\n",
    "\n",
    "* 데이터 로드 파트에서 위 코드를 고치면 더 세분화된 분류를 진행하는 데이터셋을 사용할 수 있습니다."
   ]
  }
 ]
}
