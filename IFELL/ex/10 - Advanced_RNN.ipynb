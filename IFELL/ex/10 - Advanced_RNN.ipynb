{
 "nbformat": 4,
 "nbformat_minor": 0,
 "metadata": {
  "kernelspec": {
   "display_name": "Python 3",
   "language": "python",
   "name": "python3"
  },
  "language_info": {
   "codemirror_mode": {
    "name": "ipython",
    "version": 3
   },
   "file_extension": ".py",
   "mimetype": "text/x-python",
   "name": "python",
   "nbconvert_exporter": "python",
   "pygments_lexer": "ipython3",
   "version": "3.6.8"
  },
  "latex_envs": {
   "LaTeX_envs_menu_present": true,
   "autoclose": false,
   "autocomplete": true,
   "bibliofile": "biblio.bib",
   "cite_by": "apalike",
   "current_citInitial": 1,
   "eqLabelWithNumbers": true,
   "eqNumInitial": 1,
   "hotkeys": {
    "equation": "Ctrl-E",
    "itemize": "Ctrl-I"
   },
   "labels_anchors": false,
   "latex_user_defs": false,
   "report_style_numbering": false,
   "user_envs_cfg": false
  },
  "toc": {
   "base_numbering": 1,
   "nav_menu": {},
   "number_sections": true,
   "sideBar": true,
   "skip_h1_title": false,
   "title_cell": "Table of Contents",
   "title_sidebar": "Contents",
   "toc_cell": false,
   "toc_position": {},
   "toc_section_display": true,
   "toc_window_display": false
  },
  "varInspector": {
   "cols": {
    "lenName": 16,
    "lenType": 16,
    "lenVar": 40
   },
   "kernels_config": {
    "python": {
     "delete_cmd_postfix": "",
     "delete_cmd_prefix": "del ",
     "library": "var_list.py",
     "varRefreshCmd": "print(var_dic_list())"
    },
    "r": {
     "delete_cmd_postfix": ") ",
     "delete_cmd_prefix": "rm(",
     "library": "var_list.r",
     "varRefreshCmd": "cat(var_dic_list()) "
    }
   },
   "types_to_exclude": [
    "module",
    "function",
    "builtin_function_or_method",
    "instance",
    "_Feature"
   ],
   "window_display": false
  },
  "colab": {
   "name": "10 - Advanced_RNN.ipynb",
   "provenance": [],
   "collapsed_sections": []
  }
 },
 "cells": [
  {
   "cell_type": "code",
   "metadata": {
    "id": "483OID-fQ4L_",
    "colab_type": "code",
    "colab": {},
    "ExecuteTime": {
     "end_time": "2023-12-31T17:33:28.582839900Z",
     "start_time": "2023-12-31T17:33:25.731546800Z"
    }
   },
   "source": [
    "import tensorflow as tf\n",
    "\n",
    "tf.__version__"
   ],
   "execution_count": 1,
   "outputs": [
    {
     "data": {
      "text/plain": "'2.10.0'"
     },
     "execution_count": 1,
     "metadata": {},
     "output_type": "execute_result"
    }
   ]
  },
  {
   "cell_type": "code",
   "metadata": {
    "id": "EocX6KoYQ4MC",
    "colab_type": "code",
    "colab": {},
    "ExecuteTime": {
     "end_time": "2023-12-31T17:33:28.620979200Z",
     "start_time": "2023-12-31T17:33:28.572709800Z"
    }
   },
   "source": [
    "layers = tf.keras.layers"
   ],
   "execution_count": 2,
   "outputs": []
  },
  {
   "cell_type": "markdown",
   "metadata": {
    "id": "1JCc3ptnRIq-",
    "colab_type": "text"
   },
   "source": [
    "### RNN 테스트를 위한 데미데이터 생성"
   ]
  },
  {
   "cell_type": "code",
   "metadata": {
    "id": "vNZYM3KhQ4MF",
    "colab_type": "code",
    "colab": {},
    "ExecuteTime": {
     "end_time": "2023-12-31T17:33:41.731706700Z",
     "start_time": "2023-12-31T17:33:41.615557900Z"
    }
   },
   "source": [
    "inputs = tf.random.normal([2, 5, 3])\n",
    "print(inputs)"
   ],
   "execution_count": 10,
   "outputs": [
    {
     "name": "stdout",
     "output_type": "stream",
     "text": [
      "tf.Tensor(\n",
      "[[[-0.68688816  0.63795984  0.4700734 ]\n",
      "  [-0.5923181  -0.16772553 -0.01921861]\n",
      "  [ 0.23098242 -0.6183914   1.1715894 ]\n",
      "  [ 0.0895421  -0.6624265   0.03820596]\n",
      "  [-1.1558853   1.6136357  -0.98270476]]\n",
      "\n",
      " [[ 1.6259651  -0.959666   -0.3704433 ]\n",
      "  [ 1.8966867   0.1093685  -0.48551846]\n",
      "  [ 0.8258324   1.2637748  -0.05963835]\n",
      "  [-1.3298541  -0.00459423  2.1929214 ]\n",
      "  [-0.62372756  0.33419794  0.74956524]]], shape=(2, 5, 3), dtype=float32)\n"
     ]
    }
   ]
  },
  {
   "cell_type": "markdown",
   "metadata": {
    "id": "Dl0VO8jGRQJa",
    "colab_type": "text"
   },
   "source": [
    "* tf.keras를 이용한 다양한 RNN layer를 구현해보자"
   ]
  },
  {
   "cell_type": "markdown",
   "metadata": {
    "id": "SiFrSekfQ4MH",
    "colab_type": "text"
   },
   "source": [
    "## Multi-Layer RNN"
   ]
  },
  {
   "cell_type": "markdown",
   "metadata": {
    "id": "-QV1A5odQ4MI",
    "colab_type": "text"
   },
   "source": [
    "![multilayer_rnn](https://user-images.githubusercontent.com/11681225/46912330-5fe5fd00-cfad-11e8-95c2-94bb8e7b1bf6.png)"
   ]
  },
  {
   "cell_type": "code",
   "metadata": {
    "id": "Qt7c6N-fQ4MI",
    "colab_type": "code",
    "colab": {},
    "ExecuteTime": {
     "end_time": "2023-12-31T17:33:31.869304Z",
     "start_time": "2023-12-31T17:33:31.838222300Z"
    }
   },
   "source": [
    "model = tf.keras.Sequential()"
   ],
   "execution_count": 4,
   "outputs": []
  },
  {
   "cell_type": "code",
   "metadata": {
    "id": "TEPMfzKNQ4MM",
    "colab_type": "code",
    "colab": {},
    "ExecuteTime": {
     "end_time": "2023-12-31T17:33:31.900368700Z",
     "start_time": "2023-12-31T17:33:31.881325400Z"
    }
   },
   "source": [
    "model.add(layers.SimpleRNN(10, return_sequences=True))\n",
    "model.add(layers.SimpleRNN(10, return_sequences=True))\n",
    "model.add(layers.SimpleRNN(10))"
   ],
   "execution_count": 5,
   "outputs": []
  },
  {
   "cell_type": "code",
   "metadata": {
    "id": "s75ckQVzQ4MP",
    "colab_type": "code",
    "colab": {},
    "ExecuteTime": {
     "end_time": "2023-12-31T17:33:34.440879500Z",
     "start_time": "2023-12-31T17:33:31.906383400Z"
    }
   },
   "source": [
    "model(inputs)"
   ],
   "execution_count": 6,
   "outputs": [
    {
     "data": {
      "text/plain": "<tf.Tensor: shape=(2, 10), dtype=float32, numpy=\narray([[ 0.72174615,  0.77355283, -0.41022566, -0.58233035,  0.2565149 ,\n         0.22368903, -0.5222932 , -0.7762119 , -0.9794023 , -0.75570804],\n       [-0.4479793 ,  0.45242217, -0.7894664 ,  0.30468154,  0.46541733,\n         0.9425055 ,  0.9376879 ,  0.73485607,  0.6346286 ,  0.88124925]],\n      dtype=float32)>"
     },
     "execution_count": 6,
     "metadata": {},
     "output_type": "execute_result"
    }
   ]
  },
  {
   "cell_type": "markdown",
   "metadata": {
    "id": "iLko8dm6Q4MR",
    "colab_type": "text"
   },
   "source": [
    "## Bi-directional RNN"
   ]
  },
  {
   "cell_type": "markdown",
   "metadata": {
    "id": "PolaGks5Q4MS",
    "colab_type": "text"
   },
   "source": [
    "![bidirectional_rnn](https://user-images.githubusercontent.com/11681225/46912324-3d53e400-cfad-11e8-8b09-85d8ebdb0e66.png)"
   ]
  },
  {
   "cell_type": "code",
   "metadata": {
    "id": "MMHF7xQuQ4MU",
    "colab_type": "code",
    "colab": {},
    "ExecuteTime": {
     "end_time": "2023-12-31T17:33:34.481778300Z",
     "start_time": "2023-12-31T17:33:34.440879500Z"
    }
   },
   "source": [
    "model = tf.keras.Sequential()"
   ],
   "execution_count": 7,
   "outputs": []
  },
  {
   "cell_type": "code",
   "metadata": {
    "id": "MmBK-71qQ4MY",
    "colab_type": "code",
    "colab": {},
    "ExecuteTime": {
     "end_time": "2023-12-31T17:33:34.486306300Z",
     "start_time": "2023-12-31T17:33:34.466448700Z"
    }
   },
   "source": [
    "model.add(layers.Bidirectional(layers.SimpleRNN(10, return_sequences=True)))\n",
    "model.add(layers.Bidirectional(layers.SimpleRNN(10, return_sequences=True)))\n",
    "model.add(layers.Bidirectional(layers.SimpleRNN(10)))"
   ],
   "execution_count": 8,
   "outputs": []
  },
  {
   "cell_type": "code",
   "metadata": {
    "id": "JfrRNRfbQ4Md",
    "colab_type": "code",
    "colab": {},
    "ExecuteTime": {
     "end_time": "2023-12-31T17:33:34.767254300Z",
     "start_time": "2023-12-31T17:33:34.489313800Z"
    }
   },
   "source": [
    "model(inputs)"
   ],
   "execution_count": 9,
   "outputs": [
    {
     "data": {
      "text/plain": "<tf.Tensor: shape=(2, 20), dtype=float32, numpy=\narray([[-0.39258775, -0.61516464, -0.35535762, -0.59894764,  0.13900165,\n         0.4748278 , -0.13945699, -0.8799796 ,  0.9241901 ,  0.89523417,\n        -0.20520902,  0.22513777, -0.21618927, -0.07128695, -0.03795622,\n        -0.42836887, -0.56086934,  0.16964708, -0.46101588,  0.17506151],\n       [ 0.93454796, -0.7735872 ,  0.2562902 , -0.653211  ,  0.33767   ,\n         0.02525898,  0.01582919,  0.89980316, -0.812029  , -0.44537142,\n         0.7528093 , -0.8198352 ,  0.8952355 , -0.4839596 , -0.5027139 ,\n        -0.81105673,  0.7807631 ,  0.51459664,  0.8290246 ,  0.38515532]],\n      dtype=float32)>"
     },
     "execution_count": 9,
     "metadata": {},
     "output_type": "execute_result"
    }
   ]
  },
  {
   "cell_type": "code",
   "metadata": {
    "id": "3dwRdBhlQ4Mi",
    "colab_type": "code",
    "colab": {},
    "ExecuteTime": {
     "end_time": "2023-12-31T17:33:34.794495900Z",
     "start_time": "2023-12-31T17:33:34.769309400Z"
    }
   },
   "source": [],
   "execution_count": 9,
   "outputs": []
  },
  {
   "cell_type": "code",
   "metadata": {
    "id": "SRHWH3TcQ4Ml",
    "colab_type": "code",
    "colab": {},
    "ExecuteTime": {
     "end_time": "2023-12-31T17:33:34.800019500Z",
     "start_time": "2023-12-31T17:33:34.783376400Z"
    }
   },
   "source": [],
   "execution_count": 9,
   "outputs": []
  },
  {
   "cell_type": "code",
   "metadata": {
    "id": "2QfMg_eCQ4Mo",
    "colab_type": "code",
    "colab": {},
    "ExecuteTime": {
     "end_time": "2023-12-31T17:33:34.826619800Z",
     "start_time": "2023-12-31T17:33:34.799016900Z"
    }
   },
   "source": [],
   "execution_count": 9,
   "outputs": []
  }
 ]
}
