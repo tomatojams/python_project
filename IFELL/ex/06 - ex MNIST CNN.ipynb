{
 "cells": [
  {
   "cell_type": "code",
   "execution_count": 37,
   "id": "initial_id",
   "metadata": {
    "collapsed": true,
    "ExecuteTime": {
     "end_time": "2023-12-23T17:44:36.191094300Z",
     "start_time": "2023-12-23T17:44:36.170700900Z"
    }
   },
   "outputs": [
    {
     "data": {
      "text/plain": "'2.10.0'"
     },
     "execution_count": 37,
     "metadata": {},
     "output_type": "execute_result"
    }
   ],
   "source": [
    "import tensorflow as tf\n",
    "from tensorflow import keras\n",
    "from tensorflow.keras.layers import Input, Flatten, Dense\n",
    "from tensorflow.keras.models import Model\n",
    "from tensorflow.keras.optimizers import SGD, Adam\n",
    "from tensorflow.keras.callbacks import Callback\n",
    "import numpy as np\n",
    "import cv2\n",
    "import matplotlib.pyplot as plt\n",
    "from tqdm import tqdm\n",
    "\n",
    "tf.__version__\n"
   ]
  },
  {
   "cell_type": "code",
   "outputs": [],
   "source": [
    "(train_data, train_labels), (test_data, test_labels) = tf.keras.datasets.mnist.load_data()"
   ],
   "metadata": {
    "collapsed": false,
    "ExecuteTime": {
     "end_time": "2023-12-23T17:44:36.348903700Z",
     "start_time": "2023-12-23T17:44:36.177980400Z"
    }
   },
   "id": "3ec8aa058cab1d98",
   "execution_count": 38
  },
  {
   "cell_type": "code",
   "outputs": [
    {
     "data": {
      "text/plain": "(28, 28)"
     },
     "execution_count": 39,
     "metadata": {},
     "output_type": "execute_result"
    }
   ],
   "source": [
    "train_data[10].shape"
   ],
   "metadata": {
    "collapsed": false,
    "ExecuteTime": {
     "end_time": "2023-12-23T17:44:36.353905500Z",
     "start_time": "2023-12-23T17:44:36.337907100Z"
    }
   },
   "id": "3d5cee6d2446452c",
   "execution_count": 39
  },
  {
   "cell_type": "code",
   "outputs": [
    {
     "data": {
      "text/plain": "5"
     },
     "execution_count": 40,
     "metadata": {},
     "output_type": "execute_result"
    }
   ],
   "source": [
    "train_labels[11]"
   ],
   "metadata": {
    "collapsed": false,
    "ExecuteTime": {
     "end_time": "2023-12-23T17:44:36.396880100Z",
     "start_time": "2023-12-23T17:44:36.352905800Z"
    }
   },
   "id": "86054f5a49c49415",
   "execution_count": 40
  },
  {
   "cell_type": "code",
   "outputs": [],
   "source": [
    "train_data = train_data / 255\n",
    "train_data = train_data.astype(np.float32)\n",
    "train_labels = train_labels.astype(np.int32)\n",
    "\n",
    "test_data = test_data / 255\n",
    "test_data = test_data.astype(np.float32)\n",
    "test_labels = test_labels.astype(np.int32)\n"
   ],
   "metadata": {
    "collapsed": false,
    "ExecuteTime": {
     "end_time": "2023-12-23T17:44:36.524934700Z",
     "start_time": "2023-12-23T17:44:36.369904500Z"
    }
   },
   "id": "97f7a7949f11984d",
   "execution_count": 41
  },
  {
   "cell_type": "code",
   "outputs": [
    {
     "name": "stdout",
     "output_type": "stream",
     "text": [
      "(60000, 28, 28) (60000,)\n",
      "(10000, 28, 28) (10000,)\n"
     ]
    }
   ],
   "source": [
    "print(train_data.shape, train_labels.shape)\n",
    "print(test_data.shape, test_labels.shape)"
   ],
   "metadata": {
    "collapsed": false,
    "ExecuteTime": {
     "end_time": "2023-12-23T17:44:36.540937200Z",
     "start_time": "2023-12-23T17:44:36.524934700Z"
    }
   },
   "id": "ad16659a54cdb327",
   "execution_count": 42
  },
  {
   "cell_type": "code",
   "outputs": [],
   "source": [
    "def one_hot_label(image, label):\n",
    "    label = tf.one_hot(label, depth=10)\n",
    "    return image, label"
   ],
   "metadata": {
    "collapsed": false,
    "ExecuteTime": {
     "end_time": "2023-12-23T17:44:36.571938800Z",
     "start_time": "2023-12-23T17:44:36.542935100Z"
    }
   },
   "id": "cf56d1dafafef965",
   "execution_count": 43
  },
  {
   "cell_type": "code",
   "outputs": [
    {
     "name": "stdout",
     "output_type": "stream",
     "text": [
      "<BatchDataset element_spec=(TensorSpec(shape=(None, 28, 28), dtype=tf.float32, name=None), TensorSpec(shape=(None, 10), dtype=tf.float32, name=None))>\n",
      "<BatchDataset element_spec=(TensorSpec(shape=(None, 28, 28), dtype=tf.float32, name=None), TensorSpec(shape=(None, 10), dtype=tf.float32, name=None))>\n"
     ]
    }
   ],
   "source": [
    "batch_size = 64\n",
    "max_epochs = 12\n",
    "\n",
    "N = len(train_data)\n",
    "train_dataset = tf.data.Dataset.from_tensor_slices((train_data, train_labels))\n",
    "train_dataset = train_dataset.shuffle(buffer_size=10000)\n",
    "train_dataset = train_dataset.map(one_hot_label)\n",
    "train_dataset = train_dataset.repeat().batch(batch_size=batch_size)\n",
    "print(train_dataset)\n",
    "\n",
    "test_dataset = tf.data.Dataset.from_tensor_slices((test_data, test_labels))\n",
    "test_dataset = test_dataset.map(one_hot_label)\n",
    "test_dataset = test_dataset.batch(batch_size=batch_size)\n",
    "print(test_dataset)"
   ],
   "metadata": {
    "collapsed": false,
    "ExecuteTime": {
     "end_time": "2023-12-23T17:44:36.776112700Z",
     "start_time": "2023-12-23T17:44:36.624618400Z"
    }
   },
   "id": "9f588d4db32a6abb",
   "execution_count": 44
  },
  {
   "cell_type": "code",
   "outputs": [
    {
     "name": "stdout",
     "output_type": "stream",
     "text": [
      "label = 9\n"
     ]
    },
    {
     "data": {
      "text/plain": "<Figure size 640x480 with 2 Axes>",
      "image/png": "[encoded data removed]"
     },
     "metadata": {},
     "output_type": "display_data"
    }
   ],
   "source": [
    "index = 3000\n",
    "print(\"label = {}\".format(train_labels[index]))\n",
    "plt.imshow(train_data[index])\n",
    "plt.colorbar()\n",
    "plt.show()"
   ],
   "metadata": {
    "collapsed": false,
    "ExecuteTime": {
     "end_time": "2023-12-23T17:44:37.028423800Z",
     "start_time": "2023-12-23T17:44:36.784111100Z"
    }
   },
   "id": "4ae63e36cd1acbc8",
   "execution_count": 45
  },
  {
   "cell_type": "code",
   "outputs": [],
   "source": [
    "model = keras.Sequential([\n",
    "\n",
    "    keras.layers.Reshape(input_shape=(28, 28), target_shape=(28, 28, 1)),\n",
    "\n",
    "    keras.layers.Conv2D(32, (3, 3), padding='same', activation='relu'),\n",
    "    keras.layers.MaxPooling2D((2, 2)),\n",
    "    keras.layers.Conv2D(64, (3, 3), padding='same', activation='relu'),\n",
    "    keras.layers.MaxPooling2D((2, 2)),\n",
    "    keras.layers.Conv2D(64, (3, 3), padding='same', activation='relu'),\n",
    "    keras.layers.MaxPooling2D((2, 2)),\n",
    "    keras.layers.Conv2D(128, (3, 3), padding='same', activation='relu'),\n",
    "    keras.layers.Flatten(),\n",
    "    keras.layers.Dense(10, activation='softmax'),\n",
    "])"
   ],
   "metadata": {
    "collapsed": false,
    "ExecuteTime": {
     "end_time": "2023-12-23T17:44:37.090464900Z",
     "start_time": "2023-12-23T17:44:37.036292800Z"
    }
   },
   "id": "b4a2e84584ed7710",
   "execution_count": 46
  },
  {
   "cell_type": "code",
   "outputs": [],
   "source": [
    "model.compile(optimizer=tf.keras.optimizers.Adam(1e-4),\n",
    "              loss=tf.keras.losses.CategoricalCrossentropy(from_logits=True),\n",
    "              #모델 아웃풋이 logiist인 상태 자체적으로 로짓과 액티베이션을 분리해서 다양한 액티베이션으로 분석함\n",
    "\n",
    "              metrics=['accuracy'])"
   ],
   "metadata": {
    "collapsed": false,
    "ExecuteTime": {
     "end_time": "2023-12-23T17:44:37.104463900Z",
     "start_time": "2023-12-23T17:44:37.089464600Z"
    }
   },
   "id": "615555944320bfc7",
   "execution_count": 47
  },
  {
   "cell_type": "code",
   "outputs": [
    {
     "name": "stdout",
     "output_type": "stream",
     "text": [
      "Predictions:  [[0.09745099 0.09380123 0.09613883 0.1027468  0.0969446  0.10253835\n",
      "  0.11039767 0.10198548 0.1030774  0.09491862]]\n"
     ]
    }
   ],
   "source": [
    "# without training, just inference a model in eager execution:\n",
    "predictions = model(train_data[0:1], training=False)\n",
    "print(\"Predictions: \", predictions.numpy())"
   ],
   "metadata": {
    "collapsed": false,
    "ExecuteTime": {
     "end_time": "2023-12-23T17:44:37.145557100Z",
     "start_time": "2023-12-23T17:44:37.106461500Z"
    }
   },
   "id": "8aa7eea1551ef1f9",
   "execution_count": 48
  },
  {
   "cell_type": "code",
   "outputs": [
    {
     "name": "stdout",
     "output_type": "stream",
     "text": [
      "Model: \"sequential_2\"\n",
      "_________________________________________________________________\n",
      " Layer (type)                Output Shape              Param #   \n",
      "=================================================================\n",
      " reshape_2 (Reshape)         (None, 28, 28, 1)         0         \n",
      "                                                                 \n",
      " conv2d_7 (Conv2D)           (None, 28, 28, 32)        320       \n",
      "                                                                 \n",
      " max_pooling2d_5 (MaxPooling  (None, 14, 14, 32)       0         \n",
      " 2D)                                                             \n",
      "                                                                 \n",
      " conv2d_8 (Conv2D)           (None, 14, 14, 64)        18496     \n",
      "                                                                 \n",
      " max_pooling2d_6 (MaxPooling  (None, 7, 7, 64)         0         \n",
      " 2D)                                                             \n",
      "                                                                 \n",
      " conv2d_9 (Conv2D)           (None, 7, 7, 64)          36928     \n",
      "                                                                 \n",
      " max_pooling2d_7 (MaxPooling  (None, 3, 3, 64)         0         \n",
      " 2D)                                                             \n",
      "                                                                 \n",
      " conv2d_10 (Conv2D)          (None, 3, 3, 128)         73856     \n",
      "                                                                 \n",
      " flatten_2 (Flatten)         (None, 1152)              0         \n",
      "                                                                 \n",
      " dense_2 (Dense)             (None, 10)                11530     \n",
      "                                                                 \n",
      "=================================================================\n",
      "Total params: 141,130\n",
      "Trainable params: 141,130\n",
      "Non-trainable params: 0\n",
      "_________________________________________________________________\n"
     ]
    }
   ],
   "source": [
    "model.summary()"
   ],
   "metadata": {
    "collapsed": false,
    "ExecuteTime": {
     "end_time": "2023-12-23T17:44:37.164823900Z",
     "start_time": "2023-12-23T17:44:37.121467900Z"
    }
   },
   "id": "8a8f97a9aa4a0d62",
   "execution_count": 49
  },
  {
   "cell_type": "code",
   "outputs": [
    {
     "name": "stdout",
     "output_type": "stream",
     "text": [
      "You must install pydot (`pip install pydot`) and install graphviz (see instructions at https://graphviz.gitlab.io/download/) for plot_model to work.\n"
     ]
    }
   ],
   "source": [
    "tf.keras.utils.plot_model(model, show_shapes=True)"
   ],
   "metadata": {
    "collapsed": false,
    "ExecuteTime": {
     "end_time": "2023-12-23T17:44:37.202819900Z",
     "start_time": "2023-12-23T17:44:37.154814500Z"
    }
   },
   "id": "4e3770a7f8a60b2e",
   "execution_count": 50
  },
  {
   "cell_type": "code",
   "outputs": [
    {
     "name": "stdout",
     "output_type": "stream",
     "text": [
      "Epoch 1/12\n",
      "937/937 [==============================] - 4s 4ms/step - loss: 0.4952 - accuracy: 0.8623\n",
      "Epoch 2/12\n",
      "937/937 [==============================] - 3s 4ms/step - loss: 0.1146 - accuracy: 0.9653\n",
      "Epoch 3/12\n",
      "937/937 [==============================] - 3s 4ms/step - loss: 0.0801 - accuracy: 0.9760\n",
      "Epoch 4/12\n",
      "937/937 [==============================] - 3s 4ms/step - loss: 0.0630 - accuracy: 0.9802\n",
      "Epoch 5/12\n",
      "937/937 [==============================] - 3s 4ms/step - loss: 0.0525 - accuracy: 0.9838\n",
      "Epoch 6/12\n",
      "937/937 [==============================] - 3s 4ms/step - loss: 0.0454 - accuracy: 0.9861\n",
      "Epoch 7/12\n",
      "937/937 [==============================] - 3s 3ms/step - loss: 0.0384 - accuracy: 0.9880\n",
      "Epoch 8/12\n",
      "937/937 [==============================] - 3s 4ms/step - loss: 0.0349 - accuracy: 0.9890\n",
      "Epoch 9/12\n",
      "937/937 [==============================] - 3s 4ms/step - loss: 0.0308 - accuracy: 0.9903\n",
      "Epoch 10/12\n",
      "937/937 [==============================] - 3s 3ms/step - loss: 0.0280 - accuracy: 0.9912\n",
      "Epoch 11/12\n",
      "937/937 [==============================] - 3s 3ms/step - loss: 0.0255 - accuracy: 0.9920\n",
      "Epoch 12/12\n",
      "937/937 [==============================] - 3s 4ms/step - loss: 0.0231 - accuracy: 0.9926\n"
     ]
    }
   ],
   "source": [
    "history = model.fit(train_dataset, epochs=max_epochs,\n",
    "                    steps_per_epoch=len(train_data) // batch_size)"
   ],
   "metadata": {
    "collapsed": false,
    "ExecuteTime": {
     "end_time": "2023-12-23T17:45:17.437583400Z",
     "start_time": "2023-12-23T17:44:37.168821700Z"
    }
   },
   "id": "15a828450ed4d6b6",
   "execution_count": 51
  },
  {
   "cell_type": "code",
   "outputs": [
    {
     "data": {
      "text/plain": "<Figure size 800x800 with 2 Axes>",
      "image/png": "[encoded data removed]"
     },
     "metadata": {},
     "output_type": "display_data"
    }
   ],
   "source": [
    "acc = history.history['accuracy']\n",
    "loss = history.history['loss']\n",
    "epochs_range = range(max_epochs)\n",
    "\n",
    "plt.figure(figsize=(8, 8))\n",
    "plt.subplot(1, 2, 1)\n",
    "plt.plot(epochs_range, acc, label='Training Accuracy')\n",
    "plt.legend(loc='lower right')\n",
    "plt.title('Training and Accuracy')\n",
    "\n",
    "plt.subplot(1, 2, 2)\n",
    "plt.plot(epochs_range, loss, label='Training Loss')\n",
    "plt.legend(loc='upper right')\n",
    "plt.title('Training and Loss')\n",
    "plt.show()"
   ],
   "metadata": {
    "collapsed": false,
    "ExecuteTime": {
     "end_time": "2023-12-23T17:45:17.624961400Z",
     "start_time": "2023-12-23T17:45:17.439627200Z"
    }
   },
   "id": "6cdb38a81f67d668",
   "execution_count": 52
  },
  {
   "cell_type": "code",
   "outputs": [
    {
     "name": "stdout",
     "output_type": "stream",
     "text": [
      "156/156 [==============================] - 0s 2ms/step - loss: 0.0330 - accuracy: 0.9901\n"
     ]
    }
   ],
   "source": [
    "results = model.evaluate(test_dataset, steps=int(len(test_data) / batch_size))"
   ],
   "metadata": {
    "collapsed": false,
    "ExecuteTime": {
     "end_time": "2023-12-23T17:45:18.051011800Z",
     "start_time": "2023-12-23T17:45:17.625961800Z"
    }
   },
   "id": "50b931857632b3e7",
   "execution_count": 53
  },
  {
   "cell_type": "code",
   "outputs": [
    {
     "name": "stdout",
     "output_type": "stream",
     "text": [
      "loss value: 0.033\n",
      "accuracy value: 99.0084%\n"
     ]
    }
   ],
   "source": [
    "# loss\n",
    "print(\"loss value: {:.3f}\".format(results[0]))\n",
    "# accuracy\n",
    "print(\"accuracy value: {:.4f}%\".format(results[1] * 100))"
   ],
   "metadata": {
    "collapsed": false,
    "ExecuteTime": {
     "end_time": "2023-12-23T17:45:18.081169300Z",
     "start_time": "2023-12-23T17:45:18.053013200Z"
    }
   },
   "id": "9a2cae43d814192b",
   "execution_count": 54
  },
  {
   "cell_type": "code",
   "outputs": [],
   "source": [],
   "metadata": {
    "collapsed": false,
    "ExecuteTime": {
     "end_time": "2023-12-23T17:45:18.082167600Z",
     "start_time": "2023-12-23T17:45:18.066650900Z"
    }
   },
   "id": "ccbc537faa03e2c0",
   "execution_count": 54
  }
 ],
 "metadata": {
  "kernelspec": {
   "display_name": "Python 3",
   "language": "python",
   "name": "python3"
  },
  "language_info": {
   "codemirror_mode": {
    "name": "ipython",
    "version": 2
   },
   "file_extension": ".py",
   "mimetype": "text/x-python",
   "name": "python",
   "nbconvert_exporter": "python",
   "pygments_lexer": "ipython2",
   "version": "2.7.6"
  }
 },
 "nbformat": 4,
 "nbformat_minor": 5
}
