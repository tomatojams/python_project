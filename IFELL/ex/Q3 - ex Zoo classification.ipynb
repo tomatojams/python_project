{
 "cells": [
  {
   "cell_type": "code",
   "execution_count": 1,
   "id": "initial_id",
   "metadata": {
    "collapsed": true,
    "ExecuteTime": {
     "end_time": "2023-12-23T23:33:05.936428500Z",
     "start_time": "2023-12-23T23:33:03.149734600Z"
    }
   },
   "outputs": [
    {
     "data": {
      "text/plain": "'2.10.0'"
     },
     "execution_count": 1,
     "metadata": {},
     "output_type": "execute_result"
    }
   ],
   "source": [
    "import tensorflow as tf\n",
    "import numpy as np\n",
    "import matplotlib.pyplot as plt\n",
    "import pandas as pd\n",
    "\n",
    "tf.__version__"
   ]
  },
  {
   "cell_type": "markdown",
   "source": [
    "ZOO classification\n",
    "Data list\n",
    "동물 이름 animal name: (deleted)\n",
    "털 hair Boolean\n",
    "깃털 feathers Boolean\n",
    "알 eggs Boolean\n",
    "우유 milk Boolean\n",
    "날 수있는지 airborne Boolean\n",
    "수중 생물 aquatic Boolean\n",
    "포식자 predator Boolean\n",
    "이빨이 있는지 toothed Boolean\n",
    "척추 동물 backbone Boolean\n",
    "호흡 방법 breathes Boolean\n",
    "독 venomous Boolean\n",
    "물갈퀴 fins Boolean\n",
    "다리 legs Numeric (set of values: {0\",2,4,5,6,8})\n",
    "꼬리 tail Boolean\n",
    "사육 가능한 지 domestic Boolean\n",
    "고양이 크기인지 catsize Boolean\n",
    "동물 타입 type Numeric (integer values in range [0\",6])"
   ],
   "metadata": {
    "collapsed": false
   },
   "id": "cc0d0abb0e68e71"
  },
  {
   "cell_type": "code",
   "execution_count": 3,
   "outputs": [
    {
     "name": "stdout",
     "output_type": "stream",
     "text": [
      "tf.Tensor([0. 0. 0. 0. 0. 0. 1.], shape=(7,), dtype=float32)\n",
      "before reshape:(10, 1, 7)\n"
     ]
    }
   ],
   "source": [
    "xy = np.loadtxt('data-04-zoo.csv',\n",
    "                delimiter=',',\n",
    "                dtype=np.int32)\n",
    "x_train = xy[0:-10, 0:-1]\n",
    "y_train = xy[0:-10, [-1]]\n",
    "\n",
    "x_train = tf.cast(x_train, tf.float32)\n",
    "\n",
    "x_test = xy[-10:, 0:-1]\n",
    "y_test = xy[-10:, [-1]]\n",
    "\n",
    "x_test = tf.cast(x_test, tf.float32)\n",
    "\n",
    "nb_classes = 7\n",
    "\n",
    "y_train = tf.one_hot(list(y_train), nb_classes)\n",
    "y_train = tf.reshape(y_train, [-1, nb_classes])\n",
    "print(y_train[15])\n",
    "\n",
    "y_test = tf.one_hot(list(y_test), nb_classes)  # one hot 으로 변환\n",
    "print(f\"before reshape:{y_test.shape}\")\n",
    "y_test = tf.reshape(y_test, [-1, nb_classes])"
   ],
   "metadata": {
    "collapsed": false,
    "ExecuteTime": {
     "end_time": "2023-12-23T23:33:36.634702600Z",
     "start_time": "2023-12-23T23:33:34.237057900Z"
    }
   },
   "id": "7dbe7cbb10488932"
  },
  {
   "cell_type": "code",
   "execution_count": 4,
   "outputs": [
    {
     "name": "stdout",
     "output_type": "stream",
     "text": [
      "(16, 7) (7,)\n",
      "91\n"
     ]
    }
   ],
   "source": [
    "dataset = tf.data.Dataset.from_tensor_slices((x_train, y_train)).batch(len(x_train))\n",
    "\n",
    "W = tf.Variable(tf.random.normal([16, nb_classes], 0, 1), name='weight')\n",
    "b = tf.Variable(tf.random.normal([nb_classes], 0, 1), name='bias')\n",
    "\n",
    "print(W.shape, b.shape)\n",
    "print(len(x_train))"
   ],
   "metadata": {
    "collapsed": false,
    "ExecuteTime": {
     "end_time": "2023-12-23T23:33:42.019673200Z",
     "start_time": "2023-12-23T23:33:41.967045500Z"
    }
   },
   "id": "a8f5755bab55119f"
  },
  {
   "cell_type": "code",
   "execution_count": 19,
   "outputs": [
    {
     "name": "stdout",
     "output_type": "stream",
     "text": [
      "tf.Tensor(0.14285715, shape=(), dtype=float32)\n"
     ]
    }
   ],
   "source": [
    "def logistic_regression(features):  # hypothesis_softmax\n",
    "    return tf.nn.softmax(tf.matmul(features, W) + b)\n",
    "\n",
    "\n",
    "print(tf.reduce_mean(logistic_regression(x_train)))"
   ],
   "metadata": {
    "collapsed": false,
    "ExecuteTime": {
     "end_time": "2023-12-23T23:36:07.412316900Z",
     "start_time": "2023-12-23T23:36:07.365313400Z"
    }
   },
   "id": "49b4167e41b983e8"
  },
  {
   "cell_type": "code",
   "execution_count": 6,
   "outputs": [],
   "source": [
    "def loss_fn(hypothesis, labels):\n",
    "    #loss = -tf.reduce_mean(tf.reduce_sum(labels * tf.math.log(hypothesis) +(1 - labels) * tf.math.log(1 - hypothesis), axis=1))\n",
    "    loss = tf.keras.losses.categorical_crossentropy(labels, hypothesis)\n",
    "    return loss\n",
    "\n",
    "\n",
    "optimizer = tf.keras.optimizers.SGD(learning_rate=0.01)"
   ],
   "metadata": {
    "collapsed": false,
    "ExecuteTime": {
     "end_time": "2023-12-23T23:33:48.875581400Z",
     "start_time": "2023-12-23T23:33:48.859073Z"
    }
   },
   "id": "44b6200fbdba79b0"
  },
  {
   "cell_type": "code",
   "execution_count": 15,
   "outputs": [
    {
     "name": "stdout",
     "output_type": "stream",
     "text": [
      "Iter: 0, Loss: 0.00803410541266203\n",
      "Iter: 100, Loss: 0.007538143079727888\n",
      "Iter: 200, Loss: 0.007096779067069292\n",
      "Iter: 300, Loss: 0.00670600077137351\n",
      "Iter: 400, Loss: 0.006355990190058947\n",
      "Iter: 500, Loss: 0.006041437853127718\n"
     ]
    }
   ],
   "source": [
    "epochs = 501\n",
    "\n",
    "for step in range(epochs):\n",
    "    for features, labels in dataset:\n",
    "        with tf.GradientTape() as tape:\n",
    "            pred = logistic_regression(features)\n",
    "            loss_value = loss_fn(pred, labels)\n",
    "        grads = tape.gradient(loss_value, [W, b])\n",
    "        optimizer.apply_gradients(grads_and_vars=zip(grads, [W, b]))\n",
    "        if step % 100 == 0:\n",
    "            print(\"Iter: {}, Loss: {}\".format(step, tf.reduce_mean(\n",
    "                loss_fn(logistic_regression(features), labels))))\n"
   ],
   "metadata": {
    "collapsed": false,
    "ExecuteTime": {
     "end_time": "2023-12-23T23:35:32.129152300Z",
     "start_time": "2023-12-23T23:35:28.511760200Z"
    }
   },
   "id": "aae18aacbadbe20f"
  },
  {
   "cell_type": "code",
   "execution_count": 16,
   "outputs": [],
   "source": [
    "def accuracy_fn(hypothesis, labels):\n",
    "    hypothesis = tf.argmax(hypothesis, 1)\n",
    "    predicted = tf.cast(hypothesis, dtype=tf.float32)\n",
    "    print(predicted)\n",
    "\n",
    "    labels = tf.argmax(labels, 1)\n",
    "    labels = tf.cast(labels, dtype=tf.float32)\n",
    "    print(labels)\n",
    "\n",
    "    accuracy = tf.reduce_mean(tf.cast(tf.equal(predicted, labels), dtype=tf.float32))\n",
    "\n",
    "    return accuracy"
   ],
   "metadata": {
    "collapsed": false,
    "ExecuteTime": {
     "end_time": "2023-12-23T23:35:35.498001800Z",
     "start_time": "2023-12-23T23:35:35.482210500Z"
    }
   },
   "id": "19320c834aedf262"
  },
  {
   "cell_type": "code",
   "execution_count": 17,
   "outputs": [
    {
     "name": "stdout",
     "output_type": "stream",
     "text": [
      "tf.Tensor([2. 3. 0. 0. 1. 0. 5. 0. 6. 1.], shape=(10,), dtype=float32)\n",
      "tf.Tensor([2. 3. 0. 0. 1. 0. 5. 0. 6. 1.], shape=(10,), dtype=float32)\n",
      "Testset Accuracy: 1.0000\n"
     ]
    }
   ],
   "source": [
    "tesr_acc = accuracy_fn(logistic_regression(x_test), y_test)\n",
    "print(\"Testset Accuracy: {:.4f}\".format(tesr_acc))"
   ],
   "metadata": {
    "collapsed": false,
    "ExecuteTime": {
     "end_time": "2023-12-23T23:35:36.340138500Z",
     "start_time": "2023-12-23T23:35:36.313346100Z"
    }
   },
   "id": "d102a2bf1ce8516"
  },
  {
   "cell_type": "code",
   "execution_count": 18,
   "outputs": [
    {
     "name": "stdout",
     "output_type": "stream",
     "text": [
      "tf.Tensor([2 3 0 0 1 0 5 0 6 1], shape=(10,), dtype=int64)\n",
      "tf.Tensor([2 3 0 0 1 0 5 0 6 1], shape=(10,), dtype=int64)\n"
     ]
    }
   ],
   "source": [
    "pred = logistic_regression(x_test)\n",
    "print(tf.argmax(pred, 1))\n",
    "print(tf.argmax(y_test, 1))"
   ],
   "metadata": {
    "collapsed": false,
    "ExecuteTime": {
     "end_time": "2023-12-23T23:35:37.893882600Z",
     "start_time": "2023-12-23T23:35:37.869096600Z"
    }
   },
   "id": "9a5268ee5e9ed425"
  },
  {
   "cell_type": "code",
   "execution_count": null,
   "outputs": [],
   "source": [],
   "metadata": {
    "collapsed": false
   },
   "id": "6b10921ed8bbe42b"
  }
 ],
 "metadata": {
  "kernelspec": {
   "display_name": "Python 3",
   "language": "python",
   "name": "python3"
  },
  "language_info": {
   "codemirror_mode": {
    "name": "ipython",
    "version": 2
   },
   "file_extension": ".py",
   "mimetype": "text/x-python",
   "name": "python",
   "nbconvert_exporter": "python",
   "pygments_lexer": "ipython2",
   "version": "2.7.6"
  }
 },
 "nbformat": 4,
 "nbformat_minor": 5
}
