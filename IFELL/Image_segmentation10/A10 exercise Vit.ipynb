{
 "cells": [
  {
   "cell_type": "code",
   "execution_count": 4,
   "id": "initial_id",
   "metadata": {
    "collapsed": true,
    "ExecuteTime": {
     "end_time": "2024-01-27T08:24:55.279270Z",
     "start_time": "2024-01-27T08:24:51.734243Z"
    }
   },
   "outputs": [],
   "source": [
    "import os\n",
    "import time\n",
    "import functools\n",
    "import pandas as pd\n",
    "import tensorflow as tf\n",
    "import matplotlib.pyplot as plt\n",
    "\n",
    "from tensorflow.keras.preprocessing.image import ImageDataGenerator\n",
    "from sklearn.model_selection import train_test_split\n",
    "from transformers import TFViTModel"
   ]
  },
  {
   "cell_type": "code",
   "outputs": [],
   "source": [
    "DATAPATH = 'Animals_10'"
   ],
   "metadata": {
    "collapsed": false,
    "ExecuteTime": {
     "end_time": "2024-01-27T08:24:55.280089Z",
     "start_time": "2024-01-27T08:24:55.257162Z"
    }
   },
   "id": "9ec42a22013432b",
   "execution_count": 5
  },
  {
   "cell_type": "code",
   "outputs": [
    {
     "name": "stdout",
     "output_type": "stream",
     "text": [
      "Animals_10/raw-img\n"
     ]
    }
   ],
   "source": [
    "dataset_dir_path = os.path.join(DATAPATH, 'raw-img')\n",
    "print(dataset_dir_path)"
   ],
   "metadata": {
    "collapsed": false,
    "ExecuteTime": {
     "end_time": "2024-01-27T08:24:55.308096Z",
     "start_time": "2024-01-27T08:24:55.273946Z"
    }
   },
   "id": "de21169fb80bc1f1",
   "execution_count": 6
  },
  {
   "cell_type": "code",
   "outputs": [
    {
     "name": "stdout",
     "output_type": "stream",
     "text": [
      "['farfalla', 'mucca']\n"
     ]
    }
   ],
   "source": [
    "# Get the list of all files and directories\n",
    "get_dir_list = os.listdir(dataset_dir_path)\n",
    "print(get_dir_list)"
   ],
   "metadata": {
    "collapsed": false,
    "ExecuteTime": {
     "end_time": "2024-01-27T08:24:55.309409Z",
     "start_time": "2024-01-27T08:24:55.283048Z"
    }
   },
   "id": "db48090cacf566ae",
   "execution_count": 7
  },
  {
   "cell_type": "code",
   "outputs": [],
   "source": [
    "translate = {\"cane\": \"dog\", \"cavallo\": \"horse\", \"elefante\": \"elephant\", \"farfalla\": \"butterfly\", \"gallina\": \"chicken\", \"gatto\": \"cat\", \"mucca\": \"cow\", \"pecora\": \"sheep\", \"ragno\": \"spider\", \"scoiattolo\": \"squirrel\", \"dog\": \"cane\", \"cavallo\": \"horse\", \"elephant\" : \"elefante\", \"butterfly\": \"farfalla\", \"chicken\": \"gallina\", \"cat\": \"gatto\", \"cow\": \"mucca\", \"spider\": \"ragno\", \"squirrel\": \"scoiattolo\"}"
   ],
   "metadata": {
    "collapsed": false,
    "ExecuteTime": {
     "end_time": "2024-01-27T08:24:55.309738Z",
     "start_time": "2024-01-27T08:24:55.287564Z"
    }
   },
   "id": "3142f55056dc4f39",
   "execution_count": 8
  },
  {
   "cell_type": "code",
   "outputs": [
    {
     "name": "stdout",
     "output_type": "stream",
     "text": [
      "{'butterfly': 0, 'cow': 1}\n",
      "['butterfly', 'cow']\n"
     ]
    }
   ],
   "source": [
    "get_idx_label={}\n",
    "get_label_inx = []\n",
    "for idx, label in enumerate(get_dir_list):\n",
    "    get_idx_label[translate[label]] = idx\n",
    "    get_label_inx.append(translate[label])\n",
    "print(get_idx_label)\n",
    "print(get_label_inx)"
   ],
   "metadata": {
    "collapsed": false,
    "ExecuteTime": {
     "end_time": "2024-01-27T08:24:55.325705Z",
     "start_time": "2024-01-27T08:24:55.292798Z"
    }
   },
   "id": "efef271ed83d6a25",
   "execution_count": 9
  },
  {
   "cell_type": "code",
   "outputs": [
    {
     "ename": "NameError",
     "evalue": "name 'get_dir' is not defined",
     "output_type": "error",
     "traceback": [
      "\u001B[0;31m---------------------------------------------------------------------------\u001B[0m",
      "\u001B[0;31mNameError\u001B[0m                                 Traceback (most recent call last)",
      "Cell \u001B[0;32mIn[10], line 3\u001B[0m\n\u001B[1;32m      1\u001B[0m get_all_datalist , get_all_label \u001B[38;5;241m=\u001B[39m [], []\n\u001B[1;32m      2\u001B[0m \u001B[38;5;28;01mfor\u001B[39;00m get_dirt \u001B[38;5;129;01min\u001B[39;00m get_dir_list:\n\u001B[0;32m----> 3\u001B[0m     get_dir_path \u001B[38;5;241m=\u001B[39m os\u001B[38;5;241m.\u001B[39mpath\u001B[38;5;241m.\u001B[39mjoin(dataset_dir_path,\u001B[43mget_dir\u001B[49m)\n\u001B[1;32m      4\u001B[0m     get_file_list \u001B[38;5;241m=\u001B[39m os\u001B[38;5;241m.\u001B[39mlistdir(get_dir_path)\n\u001B[1;32m      5\u001B[0m     \u001B[38;5;28;01mfor\u001B[39;00m get_file \u001B[38;5;129;01min\u001B[39;00m get_file_list:\n",
      "\u001B[0;31mNameError\u001B[0m: name 'get_dir' is not defined"
     ]
    }
   ],
   "source": [
    "get_all_datalist , get_all_label = [], []\n",
    "for get_dirt in get_dir_list:\n",
    "    get_dir_path = os.path.join(dataset_dir_path,get_dir)\n",
    "    get_file_list = os.listdir(get_dir_path)\n",
    "    for get_file in get_file_list:\n",
    "        get_file_path = os.path.join(get_dir_path,get_file)\n",
    "        get_all_datalist.append(get_file_path)\n",
    "        translate_lable = translate[get_file_path.splt(\"/\")[-2]]\n",
    "        get_all_label.append(translate_lable)\n",
    "print(get_all_datalist)\n",
    "print(set(get_all_label))"
   ],
   "metadata": {
    "collapsed": false,
    "ExecuteTime": {
     "end_time": "2024-01-27T08:24:58.708395Z",
     "start_time": "2024-01-27T08:24:58.474851Z"
    }
   },
   "id": "b8ee3c3363caaa9",
   "execution_count": 10
  },
  {
   "cell_type": "code",
   "outputs": [
    {
     "ename": "ValueError",
     "evalue": "With n_samples=0, test_size=0.2 and train_size=None, the resulting train set will be empty. Adjust any of the aforementioned parameters.",
     "output_type": "error",
     "traceback": [
      "\u001B[0;31m---------------------------------------------------------------------------\u001B[0m",
      "\u001B[0;31mValueError\u001B[0m                                Traceback (most recent call last)",
      "Cell \u001B[0;32mIn[11], line 1\u001B[0m\n\u001B[0;32m----> 1\u001B[0m train_data, test_data, train_label, test_label \u001B[38;5;241m=\u001B[39m \u001B[43mtrain_test_split\u001B[49m\u001B[43m(\u001B[49m\u001B[43mget_all_datalist\u001B[49m\u001B[43m,\u001B[49m\u001B[43m \u001B[49m\u001B[43mget_all_label\u001B[49m\u001B[43m,\u001B[49m\u001B[43mtest_size\u001B[49m\u001B[38;5;241;43m=\u001B[39;49m\u001B[38;5;241;43m0.2\u001B[39;49m\u001B[43m,\u001B[49m\u001B[43mrandom_state\u001B[49m\u001B[38;5;241;43m=\u001B[39;49m\u001B[38;5;241;43m4\u001B[39;49m\u001B[43m)\u001B[49m\n",
      "File \u001B[0;32m~/anaconda3/envs/tensor2/lib/python3.9/site-packages/sklearn/utils/_param_validation.py:211\u001B[0m, in \u001B[0;36mvalidate_params.<locals>.decorator.<locals>.wrapper\u001B[0;34m(*args, **kwargs)\u001B[0m\n\u001B[1;32m    205\u001B[0m \u001B[38;5;28;01mtry\u001B[39;00m:\n\u001B[1;32m    206\u001B[0m     \u001B[38;5;28;01mwith\u001B[39;00m config_context(\n\u001B[1;32m    207\u001B[0m         skip_parameter_validation\u001B[38;5;241m=\u001B[39m(\n\u001B[1;32m    208\u001B[0m             prefer_skip_nested_validation \u001B[38;5;129;01mor\u001B[39;00m global_skip_validation\n\u001B[1;32m    209\u001B[0m         )\n\u001B[1;32m    210\u001B[0m     ):\n\u001B[0;32m--> 211\u001B[0m         \u001B[38;5;28;01mreturn\u001B[39;00m \u001B[43mfunc\u001B[49m\u001B[43m(\u001B[49m\u001B[38;5;241;43m*\u001B[39;49m\u001B[43margs\u001B[49m\u001B[43m,\u001B[49m\u001B[43m \u001B[49m\u001B[38;5;241;43m*\u001B[39;49m\u001B[38;5;241;43m*\u001B[39;49m\u001B[43mkwargs\u001B[49m\u001B[43m)\u001B[49m\n\u001B[1;32m    212\u001B[0m \u001B[38;5;28;01mexcept\u001B[39;00m InvalidParameterError \u001B[38;5;28;01mas\u001B[39;00m e:\n\u001B[1;32m    213\u001B[0m     \u001B[38;5;66;03m# When the function is just a wrapper around an estimator, we allow\u001B[39;00m\n\u001B[1;32m    214\u001B[0m     \u001B[38;5;66;03m# the function to delegate validation to the estimator, but we replace\u001B[39;00m\n\u001B[1;32m    215\u001B[0m     \u001B[38;5;66;03m# the name of the estimator by the name of the function in the error\u001B[39;00m\n\u001B[1;32m    216\u001B[0m     \u001B[38;5;66;03m# message to avoid confusion.\u001B[39;00m\n\u001B[1;32m    217\u001B[0m     msg \u001B[38;5;241m=\u001B[39m re\u001B[38;5;241m.\u001B[39msub(\n\u001B[1;32m    218\u001B[0m         \u001B[38;5;124mr\u001B[39m\u001B[38;5;124m\"\u001B[39m\u001B[38;5;124mparameter of \u001B[39m\u001B[38;5;124m\\\u001B[39m\u001B[38;5;124mw+ must be\u001B[39m\u001B[38;5;124m\"\u001B[39m,\n\u001B[1;32m    219\u001B[0m         \u001B[38;5;124mf\u001B[39m\u001B[38;5;124m\"\u001B[39m\u001B[38;5;124mparameter of \u001B[39m\u001B[38;5;132;01m{\u001B[39;00mfunc\u001B[38;5;241m.\u001B[39m\u001B[38;5;18m__qualname__\u001B[39m\u001B[38;5;132;01m}\u001B[39;00m\u001B[38;5;124m must be\u001B[39m\u001B[38;5;124m\"\u001B[39m,\n\u001B[1;32m    220\u001B[0m         \u001B[38;5;28mstr\u001B[39m(e),\n\u001B[1;32m    221\u001B[0m     )\n",
      "File \u001B[0;32m~/anaconda3/envs/tensor2/lib/python3.9/site-packages/sklearn/model_selection/_split.py:2649\u001B[0m, in \u001B[0;36mtrain_test_split\u001B[0;34m(test_size, train_size, random_state, shuffle, stratify, *arrays)\u001B[0m\n\u001B[1;32m   2646\u001B[0m arrays \u001B[38;5;241m=\u001B[39m indexable(\u001B[38;5;241m*\u001B[39marrays)\n\u001B[1;32m   2648\u001B[0m n_samples \u001B[38;5;241m=\u001B[39m _num_samples(arrays[\u001B[38;5;241m0\u001B[39m])\n\u001B[0;32m-> 2649\u001B[0m n_train, n_test \u001B[38;5;241m=\u001B[39m \u001B[43m_validate_shuffle_split\u001B[49m\u001B[43m(\u001B[49m\n\u001B[1;32m   2650\u001B[0m \u001B[43m    \u001B[49m\u001B[43mn_samples\u001B[49m\u001B[43m,\u001B[49m\u001B[43m \u001B[49m\u001B[43mtest_size\u001B[49m\u001B[43m,\u001B[49m\u001B[43m \u001B[49m\u001B[43mtrain_size\u001B[49m\u001B[43m,\u001B[49m\u001B[43m \u001B[49m\u001B[43mdefault_test_size\u001B[49m\u001B[38;5;241;43m=\u001B[39;49m\u001B[38;5;241;43m0.25\u001B[39;49m\n\u001B[1;32m   2651\u001B[0m \u001B[43m\u001B[49m\u001B[43m)\u001B[49m\n\u001B[1;32m   2653\u001B[0m \u001B[38;5;28;01mif\u001B[39;00m shuffle \u001B[38;5;129;01mis\u001B[39;00m \u001B[38;5;28;01mFalse\u001B[39;00m:\n\u001B[1;32m   2654\u001B[0m     \u001B[38;5;28;01mif\u001B[39;00m stratify \u001B[38;5;129;01mis\u001B[39;00m \u001B[38;5;129;01mnot\u001B[39;00m \u001B[38;5;28;01mNone\u001B[39;00m:\n",
      "File \u001B[0;32m~/anaconda3/envs/tensor2/lib/python3.9/site-packages/sklearn/model_selection/_split.py:2305\u001B[0m, in \u001B[0;36m_validate_shuffle_split\u001B[0;34m(n_samples, test_size, train_size, default_test_size)\u001B[0m\n\u001B[1;32m   2302\u001B[0m n_train, n_test \u001B[38;5;241m=\u001B[39m \u001B[38;5;28mint\u001B[39m(n_train), \u001B[38;5;28mint\u001B[39m(n_test)\n\u001B[1;32m   2304\u001B[0m \u001B[38;5;28;01mif\u001B[39;00m n_train \u001B[38;5;241m==\u001B[39m \u001B[38;5;241m0\u001B[39m:\n\u001B[0;32m-> 2305\u001B[0m     \u001B[38;5;28;01mraise\u001B[39;00m \u001B[38;5;167;01mValueError\u001B[39;00m(\n\u001B[1;32m   2306\u001B[0m         \u001B[38;5;124m\"\u001B[39m\u001B[38;5;124mWith n_samples=\u001B[39m\u001B[38;5;132;01m{}\u001B[39;00m\u001B[38;5;124m, test_size=\u001B[39m\u001B[38;5;132;01m{}\u001B[39;00m\u001B[38;5;124m and train_size=\u001B[39m\u001B[38;5;132;01m{}\u001B[39;00m\u001B[38;5;124m, the \u001B[39m\u001B[38;5;124m\"\u001B[39m\n\u001B[1;32m   2307\u001B[0m         \u001B[38;5;124m\"\u001B[39m\u001B[38;5;124mresulting train set will be empty. Adjust any of the \u001B[39m\u001B[38;5;124m\"\u001B[39m\n\u001B[1;32m   2308\u001B[0m         \u001B[38;5;124m\"\u001B[39m\u001B[38;5;124maforementioned parameters.\u001B[39m\u001B[38;5;124m\"\u001B[39m\u001B[38;5;241m.\u001B[39mformat(n_samples, test_size, train_size)\n\u001B[1;32m   2309\u001B[0m     )\n\u001B[1;32m   2311\u001B[0m \u001B[38;5;28;01mreturn\u001B[39;00m n_train, n_test\n",
      "\u001B[0;31mValueError\u001B[0m: With n_samples=0, test_size=0.2 and train_size=None, the resulting train set will be empty. Adjust any of the aforementioned parameters."
     ]
    }
   ],
   "source": [
    "train_data, test_data, train_label, test_label = train_test_split(get_all_datalist, get_all_label,test_size=0.2,random_state=42)"
   ],
   "metadata": {
    "collapsed": false,
    "ExecuteTime": {
     "end_time": "2024-01-27T08:31:24.127332Z",
     "start_time": "2024-01-27T08:31:23.837455Z"
    }
   },
   "id": "aae07b986afeb785",
   "execution_count": 11
  },
  {
   "cell_type": "code",
   "outputs": [
    {
     "ename": "NameError",
     "evalue": "name 'train_data' is not defined",
     "output_type": "error",
     "traceback": [
      "\u001B[0;31m---------------------------------------------------------------------------\u001B[0m",
      "\u001B[0;31mNameError\u001B[0m                                 Traceback (most recent call last)",
      "Cell \u001B[0;32mIn[12], line 1\u001B[0m\n\u001B[0;32m----> 1\u001B[0m \u001B[38;5;28mprint\u001B[39m(\u001B[38;5;28mlen\u001B[39m(\u001B[43mtrain_data\u001B[49m),\u001B[38;5;28mlen\u001B[39m(test_label))\n\u001B[1;32m      2\u001B[0m \u001B[38;5;28mprint\u001B[39m(\u001B[38;5;28mlen\u001B[39m(test_data), \u001B[38;5;28mlen\u001B[39m(test_label))\n",
      "\u001B[0;31mNameError\u001B[0m: name 'train_data' is not defined"
     ]
    }
   ],
   "source": [
    "print(len(train_data),len(test_label))\n",
    "print(len(test_data), len(test_label))"
   ],
   "metadata": {
    "collapsed": false,
    "ExecuteTime": {
     "end_time": "2024-01-27T08:52:00.090852Z",
     "start_time": "2024-01-27T08:51:59.614136Z"
    }
   },
   "id": "8d13add76cab3446",
   "execution_count": 12
  },
  {
   "cell_type": "code",
   "outputs": [
    {
     "ename": "NameError",
     "evalue": "name 'train_data' is not defined",
     "output_type": "error",
     "traceback": [
      "\u001B[0;31m---------------------------------------------------------------------------\u001B[0m",
      "\u001B[0;31mNameError\u001B[0m                                 Traceback (most recent call last)",
      "Cell \u001B[0;32mIn[13], line 2\u001B[0m\n\u001B[1;32m      1\u001B[0m train_df \u001B[38;5;241m=\u001B[39m pd\u001B[38;5;241m.\u001B[39mDataFrame({\n\u001B[0;32m----> 2\u001B[0m     \u001B[38;5;124m'\u001B[39m\u001B[38;5;124mdata\u001B[39m\u001B[38;5;124m'\u001B[39m:\u001B[43mtrain_data\u001B[49m,\n\u001B[1;32m      3\u001B[0m     \u001B[38;5;124m'\u001B[39m\u001B[38;5;124mlabels\u001B[39m\u001B[38;5;124m'\u001B[39m:train_label\n\u001B[1;32m      4\u001B[0m })\n\u001B[1;32m      6\u001B[0m test_df \u001B[38;5;241m=\u001B[39m pd\u001B[38;5;241m.\u001B[39mDataFrame({\u001B[38;5;124m'\u001B[39m\u001B[38;5;124mdata\u001B[39m\u001B[38;5;124m'\u001B[39m:test_data, \u001B[38;5;124m'\u001B[39m\u001B[38;5;124mlabels\u001B[39m\u001B[38;5;124m'\u001B[39m:test_label})\n\u001B[1;32m      8\u001B[0m \u001B[38;5;28mprint\u001B[39m(train_df\u001B[38;5;241m.\u001B[39mhead())\n",
      "\u001B[0;31mNameError\u001B[0m: name 'train_data' is not defined"
     ]
    }
   ],
   "source": [
    "train_df = pd.DataFrame({\n",
    "    'data':train_data,\n",
    "    'labels':train_label\n",
    "})\n",
    "\n",
    "test_df = pd.DataFrame({'data':test_data, 'labels':test_label})\n",
    "\n",
    "print(train_df.head())\n",
    "print(test_df.head())"
   ],
   "metadata": {
    "collapsed": false,
    "ExecuteTime": {
     "end_time": "2024-01-27T08:53:28.911142Z",
     "start_time": "2024-01-27T08:53:28.771119Z"
    }
   },
   "id": "9b5c28cf31762881",
   "execution_count": 13
  },
  {
   "cell_type": "markdown",
   "source": [],
   "metadata": {
    "collapsed": false
   },
   "id": "9a69982e8c9e34db"
  },
  {
   "cell_type": "code",
   "outputs": [],
   "source": [
    "batch_size = 128\n",
    "image_size = 224"
   ],
   "metadata": {
    "collapsed": false,
    "ExecuteTime": {
     "end_time": "2024-01-27T08:55:35.762913Z",
     "start_time": "2024-01-27T08:55:35.752761Z"
    }
   },
   "id": "453f365c3f7edd85",
   "execution_count": 14
  },
  {
   "cell_type": "code",
   "outputs": [],
   "source": [
    "train_idg = ImageDataGenerator( rescale= 1./255,\n",
    "                                rotation_range= 0.1,\n",
    "                                height_shift_range=0.1,\n",
    "                                width_shift_range=0.1,\n",
    "                                zoom_range=0.1,\n",
    "                                horizontal_flip=True,\n",
    "                                vertical_flip=False)\n",
    "\n",
    "test_idg = ImageDataGenerator(rescale=1./255)"
   ],
   "metadata": {
    "collapsed": false,
    "ExecuteTime": {
     "end_time": "2024-01-27T08:57:05.948677Z",
     "start_time": "2024-01-27T08:57:05.938709Z"
    }
   },
   "id": "b42261904debba9e",
   "execution_count": 15
  },
  {
   "cell_type": "code",
   "outputs": [],
   "source": [
    "train_generator = train_idg.flow_from_dataframe(dataframe=train_df,\n",
    "                                                directory=None,\n",
    "                                                x_col=\"data\",\n",
    "                                                y_col=\"label\",\n",
    "                                                class_mode=\"categorical\",\n",
    "                                                target_size=(224,224),\n",
    "                                                batch_size=batch_size)\n",
    "\n",
    "test_generator = test_idg.flow_from_dataframe(dataframe=test_df,\n",
    "                                              directory=None,\n",
    "                                              x_col=\"data\",\n",
    "                                              y_col=\"label\",\n",
    "                                              class_mode=\"categorical\",\n",
    "                                              target_size=(224,224),\n",
    "                                              batch_size=batch_size)"
   ],
   "metadata": {
    "collapsed": false
   },
   "id": "e7adc8bd3e0209c7"
  },
  {
   "cell_type": "code",
   "outputs": [],
   "source": [
    "def plotImage(image_arr):\n",
    "    fig,axes = plt.subplots(1,5,figsize=(20,20))\n",
    "    axes = axes.flatten() #1\n",
    "    for img, ax in zip(image_arr,axes):\n",
    "    \n",
    "        ax.imshow(img)\n",
    "        ax.axis('off') # 눈금비활성화\n",
    "    plt.tight_layout() # 서브플롯의 간격을 자동조절\n",
    "    plt.show()"
   ],
   "metadata": {
    "collapsed": false,
    "ExecuteTime": {
     "end_time": "2024-01-27T09:31:46.582412Z",
     "start_time": "2024-01-27T09:31:46.573860Z"
    }
   },
   "id": "8708e4a3a551abc7",
   "execution_count": 16
  },
  {
   "cell_type": "code",
   "outputs": [
    {
     "ename": "NameError",
     "evalue": "name 'train_generator' is not defined",
     "output_type": "error",
     "traceback": [
      "\u001B[0;31m---------------------------------------------------------------------------\u001B[0m",
      "\u001B[0;31mNameError\u001B[0m                                 Traceback (most recent call last)",
      "Cell \u001B[0;32mIn[17], line 1\u001B[0m\n\u001B[0;32m----> 1\u001B[0m augmented_images \u001B[38;5;241m=\u001B[39m [ train_generator[\u001B[38;5;241m0\u001B[39m][\u001B[38;5;241m0\u001B[39m][\u001B[38;5;241m0\u001B[39m] \u001B[38;5;28;01mfor\u001B[39;00m i \u001B[38;5;129;01min\u001B[39;00m \u001B[38;5;28mrange\u001B[39m(\u001B[38;5;241m5\u001B[39m)]\n\u001B[1;32m      2\u001B[0m plotImage(augmented_images)\n",
      "Cell \u001B[0;32mIn[17], line 1\u001B[0m, in \u001B[0;36m<listcomp>\u001B[0;34m(.0)\u001B[0m\n\u001B[0;32m----> 1\u001B[0m augmented_images \u001B[38;5;241m=\u001B[39m [ \u001B[43mtrain_generator\u001B[49m[\u001B[38;5;241m0\u001B[39m][\u001B[38;5;241m0\u001B[39m][\u001B[38;5;241m0\u001B[39m] \u001B[38;5;28;01mfor\u001B[39;00m i \u001B[38;5;129;01min\u001B[39;00m \u001B[38;5;28mrange\u001B[39m(\u001B[38;5;241m5\u001B[39m)]\n\u001B[1;32m      2\u001B[0m plotImage(augmented_images)\n",
      "\u001B[0;31mNameError\u001B[0m: name 'train_generator' is not defined"
     ]
    }
   ],
   "source": [
    "augmented_images = [ train_generator[0][0][0] for i in range(5)]\n",
    "plotImage(augmented_images)"
   ],
   "metadata": {
    "collapsed": false,
    "ExecuteTime": {
     "end_time": "2024-01-27T09:38:21.299948Z",
     "start_time": "2024-01-27T09:38:20.856158Z"
    }
   },
   "id": "67727762587c8fa0",
   "execution_count": 17
  },
  {
   "cell_type": "code",
   "outputs": [],
   "source": [
    "base_model = TFViTModel.from_pretrained('google/vit-base-patch16-224-in21k')\n",
    "\n",
    "pixel_values = tf.keras.layers.Input(shape=(224, 224, 3), dtype='float32')\n",
    "permute = tf.keras.layers.Permute((3, 1, 2))(pixel_values)\n",
    "\n",
    "# model layer\n",
    "vit = base_model.vit(permute)[0]\n",
    "classifier = tf.keras.layers.Dense(10, name='outputs')(vit[:, 0, :])\n",
    "\n",
    "# model\n",
    "model = tf.keras.Model(inputs=pixel_values, outputs=classifier)\n",
    "\n",
    "# define loss\n",
    "loss=tf.keras.losses.CategoricalCrossentropy(from_logits=True)\n",
    "\n",
    "# define metrics\n",
    "metrics=tf.keras.metrics.CategoricalAccuracy(name=\"accuracy\")\n",
    "\n",
    "# compile model\n",
    "model.compile(optimizer=tf.keras.optimizers.Adam(1e-4),\n",
    "              loss=loss,\n",
    "              metrics=metrics)\n"
   ],
   "metadata": {
    "collapsed": false
   },
   "id": "344ad242e3f73035"
  }
 ],
 "metadata": {
  "kernelspec": {
   "display_name": "Python 3",
   "language": "python",
   "name": "python3"
  },
  "language_info": {
   "codemirror_mode": {
    "name": "ipython",
    "version": 2
   },
   "file_extension": ".py",
   "mimetype": "text/x-python",
   "name": "python",
   "nbconvert_exporter": "python",
   "pygments_lexer": "ipython2",
   "version": "2.7.6"
  }
 },
 "nbformat": 4,
 "nbformat_minor": 5
}
