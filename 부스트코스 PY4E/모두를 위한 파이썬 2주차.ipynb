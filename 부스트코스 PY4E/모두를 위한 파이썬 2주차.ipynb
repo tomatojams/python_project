{
 "nbformat": 4,
 "nbformat_minor": 0,
 "metadata": {
  "colab": {
   "provenance": []
  },
  "kernelspec": {
   "name": "python3",
   "language": "python",
   "display_name": "Python 3 (ipykernel)"
  },
  "language_info": {
   "name": "python"
  }
 },
 "cells": [
  {
   "cell_type": "code",
   "source": [
    "#Q1\n",
    "import bisect\n",
    "\n",
    "# bisect는 정렬된 시퀀스를 관리하는 검색과 삽입을 위한 기능입니다. 따라서 이걸 활용하면 if문으로 길게 조건을 쓰지 않아도\n",
    "# 범주를 표시하는데 유용합니다.\n",
    "def grader(name, score): # 자리에 맞는 입력이 아닐때를 대비한 에러발생 코드 포함\n",
    "    try:\n",
    "        if type(name) != str or type(score) != int:\n",
    "            print(\"이름은 문자로, 점수는 숫자로입력해주세요\")\n",
    "            raise # 이름이 문자가 아닐때나 점수가 숫자가 아닐때 에러를 발생시키고 except구문을 실행한다.\n",
    "        elif score < 0 or score > 100:\n",
    "            print('점수는 0~100사이를 넣어주세요')\n",
    "            raise # 점수의 범위가 벗어날때 except구문 실행\n",
    "        grade_point = [60, 65, 70, 75, 80, 85, 90, 95] # 점수를 구분하는 숫자 리스트\n",
    "        grades = ['F','D','D+','C','C+','B','B+','A','A+'] # 점수에 해당하는 문자리스트\n",
    "        i = bisect.bisect(grade_point, score)\n",
    "        # bisect를 통해 95이상이면 8을 리턴하게된다.(같은 값일때는 해당값의 오른쪽) 따라서 graded의 8은 A+\n",
    "        # 60보다 작으면 60왼쪽에 위치하고 0을 리턴한다.\n",
    "        print(f'학생이름: {name}')\n",
    "        print(f'점수:{score}점')\n",
    "        print(f'학점:{grades[i]}')\n",
    "    except:\n",
    "        exit()"
   ],
   "metadata": {
    "id": "G2gYyoPI7i6r",
    "ExecuteTime": {
     "end_time": "2023-09-05T07:42:32.256837400Z",
     "start_time": "2023-09-05T07:42:32.240814700Z"
    }
   },
   "execution_count": 1,
   "outputs": []
  },
  {
   "cell_type": "code",
   "source": [
    "grader('김지한',99)"
   ],
   "metadata": {
    "colab": {
     "base_uri": "https://localhost:8080/"
    },
    "id": "jVT5xkMC3ePY",
    "outputId": "78d4e99c-685c-4048-9e1a-3d7b70cbe6a5",
    "ExecuteTime": {
     "end_time": "2023-09-05T07:42:44.993736700Z",
     "start_time": "2023-09-05T07:42:44.984737900Z"
    }
   },
   "execution_count": 2,
   "outputs": [
    {
     "name": "stdout",
     "output_type": "stream",
     "text": [
      "학생이름: 김지한\n",
      "점수:99점\n",
      "학점:A+\n"
     ]
    }
   ]
  },
  {
   "cell_type": "code",
   "source": [
    "#Q2\n",
    "def yearly_payment(monthly_payment):\n",
    "    try:\n",
    "        if type(monthly_payment) != int:\n",
    "            raise Error\n",
    "        income_point = [1200, 4600, 8800, 15000, 30000, 50000]\n",
    "        tax_rate = [6, 15, 24, 35, 38, 40, 42]\n",
    "        i = bisect.bisect_left(income_point, monthly_payment)\n",
    "        #bisect_left는 위의 항목과 다르게 바로다음이 아니라 그 위치자체를 반환하므로 이상 이하를 표현하기 좋다.\n",
    "        print(f'세전연봉:{monthly_payment}')\n",
    "        print(f'세후연봉:{monthly_payment - monthly_payment*0.01*tax_rate[i]}')\n",
    "\n",
    "    except:\n",
    "        print('숫자로 입력해주세요')"
   ],
   "metadata": {
    "id": "19fE0Dc03fy3",
    "ExecuteTime": {
     "end_time": "2023-09-05T07:42:46.786065600Z",
     "start_time": "2023-09-05T07:42:46.777063600Z"
    }
   },
   "execution_count": 3,
   "outputs": []
  },
  {
   "cell_type": "code",
   "source": [
    "yearly_payment(1200)"
   ],
   "metadata": {
    "colab": {
     "base_uri": "https://localhost:8080/"
    },
    "id": "N4tXQqyWAyPx",
    "outputId": "ef4a1a0b-cc51-4502-d98f-608773778521",
    "ExecuteTime": {
     "end_time": "2023-09-05T07:42:48.848397300Z",
     "start_time": "2023-09-05T07:42:48.824891900Z"
    }
   },
   "execution_count": 4,
   "outputs": [
    {
     "name": "stdout",
     "output_type": "stream",
     "text": [
      "세전연봉:1200\n",
      "세후연봉:1128.0\n"
     ]
    }
   ]
  },
  {
   "cell_type": "code",
   "source": [
    "#Q3\n",
    "def bus_fare(age, payment ):\n",
    "    age_point = [8, 14, 20, 75]\n",
    "    card_fee = ['무료','450','720','1200','무료']\n",
    "    cash_fee = ['무료','450','1000','1300','무료']\n",
    "    i = bisect.bisect(age_point, age)\n",
    "    if payment == '카드':\n",
    "       fee = card_fee[i]\n",
    "    elif payment == '현금':\n",
    "       fee = cash_fee[i]\n",
    "    print(f'나이:{age}세')\n",
    "    print(f'지불유형:{payment}')\n",
    "    print(f'버스요금:{fee}원')"
   ],
   "metadata": {
    "id": "Dbq7ktVZA5Sq",
    "ExecuteTime": {
     "end_time": "2023-09-05T07:42:50.537419Z",
     "start_time": "2023-09-05T07:42:50.520419400Z"
    }
   },
   "execution_count": 5,
   "outputs": []
  },
  {
   "cell_type": "code",
   "source": [
    "bus_fare(30,'현금')"
   ],
   "metadata": {
    "colab": {
     "base_uri": "https://localhost:8080/"
    },
    "id": "16_B9-6uD0bl",
    "outputId": "169ad5d9-06a5-45a9-958c-ff2efeafc6b6",
    "ExecuteTime": {
     "end_time": "2023-09-05T07:42:51.906307100Z",
     "start_time": "2023-09-05T07:42:51.895310200Z"
    }
   },
   "execution_count": 6,
   "outputs": [
    {
     "name": "stdout",
     "output_type": "stream",
     "text": [
      "나이:30세\n",
      "지불유형:현금\n",
      "버스요금:1300원\n"
     ]
    }
   ]
  },
  {
   "cell_type": "code",
   "source": [
    "#04\n",
    "import random\n",
    "def rcp(my):\n",
    "    try:\n",
    "        computer = random.randint(0,2)\n",
    "        game_list =['가위','바위','보']\n",
    "        if my not in game_list:\n",
    "            raise Error\n",
    "        mynumber = game_list.index(my)\n",
    "\n",
    "        print(f'나:{my}')\n",
    "        print(f'컴퓨터:{game_list[computer]}')\n",
    "\n",
    "        if computer == mynumber:\n",
    "            print('비겼습니다.')\n",
    "        elif (computer == 0 and mynumber == 2) or (computer ==1 and mynumber == 0) or (computer == 2 and mynumber == 1):\n",
    "            print('컴퓨터승리!')\n",
    "        else:\n",
    "            print('나의승리!')\n",
    "    except:\n",
    "        print('올바르게 입력해주세요')\n"
   ],
   "metadata": {
    "id": "qAL_Opr9D4sU",
    "ExecuteTime": {
     "end_time": "2023-09-05T07:42:53.507523400Z",
     "start_time": "2023-09-05T07:42:53.481526900Z"
    }
   },
   "execution_count": 7,
   "outputs": []
  },
  {
   "cell_type": "code",
   "source": [
    "my = input('가위바위보 중의 하나를 입력해주세요:')\n",
    "rcp(my)"
   ],
   "metadata": {
    "colab": {
     "base_uri": "https://localhost:8080/"
    },
    "id": "NDUlFfk_Gaio",
    "outputId": "2c7b0187-9835-46b6-951c-c5bf2af2e85f",
    "ExecuteTime": {
     "end_time": "2023-09-05T07:42:57.476425800Z",
     "start_time": "2023-09-05T07:42:54.600747400Z"
    }
   },
   "execution_count": 8,
   "outputs": [
    {
     "name": "stdout",
     "output_type": "stream",
     "text": [
      "올바르게 입력해주세요\n"
     ]
    }
   ]
  },
  {
   "cell_type": "code",
   "execution_count": null,
   "outputs": [],
   "source": [],
   "metadata": {
    "collapsed": false
   }
  }
 ]
}
