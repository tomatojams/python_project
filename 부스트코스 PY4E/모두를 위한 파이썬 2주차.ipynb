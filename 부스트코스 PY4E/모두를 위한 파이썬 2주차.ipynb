{
 "cells": [
  {
   "cell_type": "code",
   "execution_count": 1,
   "metadata": {
    "ExecuteTime": {
     "end_time": "2023-09-05T18:38:32.041269500Z",
     "start_time": "2023-09-05T18:38:32.016274500Z"
    },
    "id": "G2gYyoPI7i6r"
   },
   "outputs": [],
   "source": [
    "#Q1\n",
    "import bisect\n",
    "\n",
    "# bisect는 정렬된 시퀀스를 관리하는 검색과 삽입을 위한 기능입니다. 따라서 이걸 활용하면 if문으로 길게 조건을 쓰지 않아도\n",
    "# 범주를 표시하는데 유용합니다.\n",
    "def grader(name, score): # 자리에 맞는 입력이 아닐때를 대비한 에러발생 코드 포함\n",
    "    try:\n",
    "        if type(name) != str or type(score) != int:\n",
    "            print(\"이름은 문자로, 점수는 숫자로입력해주세요\")\n",
    "            raise # 이름이 문자가 아닐때나 점수가 숫자가 아닐때 에러를 발생시키고 except구문을 실행한다.\n",
    "        elif score < 0 or score > 100:\n",
    "            print('점수는 0~100사이를 넣어주세요')\n",
    "            raise # 점수의 범위가 벗어날때 except구문 실행\n",
    "        grade_point = [60, 65, 70, 75, 80, 85, 90, 95] # 점수를 구분하는 숫자 리스트\n",
    "        grades = ['F','D','D+','C','C+','B','B+','A','A+'] # 점수에 해당하는 문자리스트\n",
    "        i = bisect.bisect(grade_point, score)\n",
    "        # bisect를 통해 95이상이면 8을 리턴하게된다.(같은 값일때는 해당값의 오른쪽) 따라서 graded의 8은 A+\n",
    "        # 60보다 작으면 60왼쪽에 위치하고 0을 리턴한다.\n",
    "        print(f'학생이름: {name}')\n",
    "        print(f'점수:{score}점')\n",
    "        print(f'학점:{grades[i]}')\n",
    "    except:\n",
    "        exit()"
   ]
  },
  {
   "cell_type": "code",
   "execution_count": 2,
   "metadata": {
    "ExecuteTime": {
     "end_time": "2023-09-05T18:38:32.043270700Z",
     "start_time": "2023-09-05T18:38:32.028272200Z"
    },
    "colab": {
     "base_uri": "https://localhost:8080/"
    },
    "id": "jVT5xkMC3ePY",
    "outputId": "78d4e99c-685c-4048-9e1a-3d7b70cbe6a5"
   },
   "outputs": [
    {
     "name": "stdout",
     "output_type": "stream",
     "text": [
      "학생이름: 김지한\n",
      "점수:99점\n",
      "학점:A+\n"
     ]
    }
   ],
   "source": [
    "grader('김지한',99)"
   ]
  },
  {
   "cell_type": "code",
   "execution_count": 3,
   "metadata": {
    "ExecuteTime": {
     "end_time": "2023-09-05T17:44:32.500982100Z",
     "start_time": "2023-09-05T17:44:32.489947100Z"
    },
    "id": "19fE0Dc03fy3"
   },
   "outputs": [],
   "source": [
    "#Q2\n",
    "def yearly_payment(monthly_payment):\n",
    "    try:\n",
    "        if type(monthly_payment) != int:\n",
    "            raise\n",
    "        income_point = [1200, 4600, 8800, 15000, 30000, 50000]\n",
    "        tax_rate = [6, 15, 24, 35, 38, 40, 42]\n",
    "        i = bisect.bisect_left(income_point, monthly_payment)\n",
    "        #bisect_left는 위의 항목과 다르게 바로다음이 아니라 그 위치자체를 반환하므로 이상 이하를 표현하기 좋다.\n",
    "        print(f'세전연봉:{monthly_payment}')\n",
    "        print(f'세후연봉:{monthly_payment - monthly_payment*0.01*tax_rate[i]}')\n",
    "\n",
    "    except:\n",
    "        print('숫자로 입력해주세요')"
   ]
  },
  {
   "cell_type": "code",
   "execution_count": 4,
   "metadata": {
    "ExecuteTime": {
     "end_time": "2023-09-05T17:44:33.665873600Z",
     "start_time": "2023-09-05T17:44:33.655837Z"
    },
    "colab": {
     "base_uri": "https://localhost:8080/"
    },
    "id": "N4tXQqyWAyPx",
    "outputId": "ef4a1a0b-cc51-4502-d98f-608773778521"
   },
   "outputs": [
    {
     "name": "stdout",
     "output_type": "stream",
     "text": [
      "세전연봉:1200\n",
      "세후연봉:1128.0\n"
     ]
    }
   ],
   "source": [
    "yearly_payment(1200)"
   ]
  },
  {
   "cell_type": "code",
   "execution_count": 5,
   "metadata": {
    "ExecuteTime": {
     "end_time": "2023-09-05T17:44:34.514794400Z",
     "start_time": "2023-09-05T17:44:34.502769Z"
    },
    "id": "Dbq7ktVZA5Sq"
   },
   "outputs": [],
   "source": [
    "#Q3\n",
    "def bus_fare(age, payment ):\n",
    "    age_point = [8, 14, 20, 75]\n",
    "    card_fee = ['무료','450','720','1200','무료']\n",
    "    cash_fee = ['무료','450','1000','1300','무료']\n",
    "    i = bisect.bisect(age_point, age)\n",
    "    if payment == '카드':\n",
    "       fee = card_fee[i]\n",
    "    elif payment == '현금':\n",
    "       fee = cash_fee[i]\n",
    "    print(f'나이:{age}세')\n",
    "    print(f'지불유형:{payment}')\n",
    "    print(f'버스요금:{fee}원')"
   ]
  },
  {
   "cell_type": "code",
   "execution_count": 6,
   "metadata": {
    "ExecuteTime": {
     "end_time": "2023-09-05T17:30:40.909705Z",
     "start_time": "2023-09-05T17:30:40.896122100Z"
    },
    "colab": {
     "base_uri": "https://localhost:8080/"
    },
    "id": "16_B9-6uD0bl",
    "outputId": "169ad5d9-06a5-45a9-958c-ff2efeafc6b6"
   },
   "outputs": [
    {
     "name": "stdout",
     "output_type": "stream",
     "text": [
      "나이:30세\n",
      "지불유형:현금\n",
      "버스요금:1300원\n"
     ]
    }
   ],
   "source": [
    "bus_fare(30,'현금')"
   ]
  },
  {
   "cell_type": "code",
   "execution_count": 7,
   "metadata": {
    "ExecuteTime": {
     "end_time": "2023-09-05T17:30:41.837712Z",
     "start_time": "2023-09-05T17:30:41.826995Z"
    },
    "id": "qAL_Opr9D4sU"
   },
   "outputs": [],
   "source": [
    "#04\n",
    "import random\n",
    "def rcp(my):\n",
    "    try:\n",
    "        computer = random.randint(0,2)\n",
    "        game_list =['가위','바위','보']\n",
    "        if my not in game_list:\n",
    "            raise Error\n",
    "        mynumber = game_list.index(my)\n",
    "\n",
    "        print(f'나:{my}')\n",
    "        print(f'컴퓨터:{game_list[computer]}')\n",
    "\n",
    "        if computer == mynumber:\n",
    "            print('비겼습니다.')\n",
    "        elif (computer == 0 and mynumber == 2) or (computer ==1 and mynumber == 0) or (computer == 2 and mynumber == 1):\n",
    "            print('컴퓨터승리!')\n",
    "        else:\n",
    "            print('나의승리!')\n",
    "    except:\n",
    "        print('올바르게 입력해주세요')\n"
   ]
  },
  {
   "cell_type": "code",
   "execution_count": 8,
   "metadata": {
    "ExecuteTime": {
     "end_time": "2023-09-05T17:30:44.935619300Z",
     "start_time": "2023-09-05T17:30:43.344106900Z"
    },
    "colab": {
     "base_uri": "https://localhost:8080/"
    },
    "id": "NDUlFfk_Gaio",
    "outputId": "2c7b0187-9835-46b6-951c-c5bf2af2e85f"
   },
   "outputs": [
    {
     "name": "stdout",
     "output_type": "stream",
     "text": [
      "올바르게 입력해주세요\n"
     ]
    }
   ],
   "source": [
    "my = input('가위바위보 중의 하나를 입력해주세요:')\n",
    "rcp(my)"
   ]
  }
 ],
 "metadata": {
  "colab": {
   "provenance": []
  },
  "kernelspec": {
   "display_name": "Python 3 (ipykernel)",
   "language": "python",
   "name": "python3"
  },
  "language_info": {
   "codemirror_mode": {
    "name": "ipython",
    "version": 3
   },
   "file_extension": ".py",
   "mimetype": "text/x-python",
   "name": "python",
   "nbconvert_exporter": "python",
   "pygments_lexer": "ipython3",
   "version": "3.9.17"
  }
 },
 "nbformat": 4,
 "nbformat_minor": 0
}
