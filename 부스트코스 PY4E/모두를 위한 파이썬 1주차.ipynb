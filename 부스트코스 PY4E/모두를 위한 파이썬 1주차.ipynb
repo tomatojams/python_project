{
 "nbformat": 4,
 "nbformat_minor": 0,
 "metadata": {
  "colab": {
   "provenance": [],
   "authorship_tag": "ABX9TyNx7aMDmpMQYG4Q6APexcEh"
  },
  "kernelspec": {
   "name": "python3",
   "display_name": "Python 3"
  },
  "language_info": {
   "name": "python"
  }
 },
 "cells": [
  {
   "cell_type": "markdown",
   "source": [
    "#Q1\n",
    "할수있는 일 - 인공지능 프로그래밍, 웹프로그래밍, 자동화 스크립트등을 할수있습니다.\n",
    "하고싶은 일 - 앱개발을 할때 인공지능을 이용해서 좀더 지능적으로 작동하는 기능을 구현하려고 합니다."
   ],
   "metadata": {
    "id": "yQSOgwg6-gU9"
   }
  },
  {
   "cell_type": "code",
   "execution_count": null,
   "outputs": [],
   "source": [],
   "metadata": {
    "collapsed": false
   }
  },
  {
   "cell_type": "markdown",
   "source": [
    "#Q2\n",
    "cpu - 컴퓨터의 두뇌와같은 역할로 2진명령어를 디코딩해 명령을 수행합니다. 명령수행과 더불어 ALU라는 산술연산등을 실행하며 레지스터라는 내부기억소자로 연산이나 다양한 플래그비트를 가지고있기도 합니다. 또한 메모리접근을 해 명령어셋과 데이타셋을 가져오는 기능도 있습니다.\n",
    "\n",
    "second memory - 2차 저장장치로 rom이나 HDD, flah memory등을 지칭하며 전원이 꺼지면 지워지는 메인메모리와 달리 영구적으로 기억해놓는 기능이 있습니다. 메인메모리에 비해 속도는 느리지만 용량이 크고 지워지지 않게 보존할수가있습니다."
   ],
   "metadata": {
    "id": "ffe3ggAH_GgZ"
   }
  },
  {
   "cell_type": "code",
   "source": [
    "#Q3-1 에러코드 만들기 syntax Error\n",
    "\n",
    "for i in range(10)\n",
    "print(i)"
   ],
   "metadata": {
    "colab": {
     "base_uri": "https://localhost:8080/",
     "height": 136
    },
    "id": "EgIkBMCGBnlE",
    "executionInfo": {
     "status": "error",
     "timestamp": 1689348680381,
     "user_tz": -540,
     "elapsed": 4,
     "user": {
      "displayName": "JIHAN KIM",
      "userId": "14820648192014375113"
     }
    },
    "outputId": "a660c55d-7ae3-4e8e-aa04-2c8bb33297a9"
   },
   "execution_count": 1,
   "outputs": [
    {
     "output_type": "error",
     "ename": "SyntaxError",
     "evalue": "ignored",
     "traceback": [
      "\u001B[0;36m  File \u001B[0;32m\"<ipython-input-1-4c914bf25f8c>\"\u001B[0;36m, line \u001B[0;32m3\u001B[0m\n\u001B[0;31m    for i in range(10)\u001B[0m\n\u001B[0m                      ^\u001B[0m\n\u001B[0;31mSyntaxError\u001B[0m\u001B[0;31m:\u001B[0m expected ':'\n"
     ]
    }
   ]
  },
  {
   "cell_type": "code",
   "source": [
    "# 3-2 TypeError"
   ],
   "metadata": {
    "id": "uHfyLhlbB6hW",
    "executionInfo": {
     "status": "ok",
     "timestamp": 1689349311561,
     "user_tz": -540,
     "elapsed": 3,
     "user": {
      "displayName": "JIHAN KIM",
      "userId": "14820648192014375113"
     }
    }
   },
   "execution_count": 2,
   "outputs": []
  },
  {
   "cell_type": "code",
   "source": [
    "a = 1\n",
    "b = '김지한'\n",
    "print(a+b)"
   ],
   "metadata": {
    "colab": {
     "base_uri": "https://localhost:8080/",
     "height": 210
    },
    "id": "6Xhki5QpEMfz",
    "executionInfo": {
     "status": "error",
     "timestamp": 1689349333977,
     "user_tz": -540,
     "elapsed": 327,
     "user": {
      "displayName": "JIHAN KIM",
      "userId": "14820648192014375113"
     }
    },
    "outputId": "efa2f4f5-80ad-4d43-ac43-2f347f6abb73"
   },
   "execution_count": 3,
   "outputs": [
    {
     "output_type": "error",
     "ename": "TypeError",
     "evalue": "ignored",
     "traceback": [
      "\u001B[0;31m---------------------------------------------------------------------------\u001B[0m",
      "\u001B[0;31mTypeError\u001B[0m                                 Traceback (most recent call last)",
      "\u001B[0;32m<ipython-input-3-06a7246a5594>\u001B[0m in \u001B[0;36m<cell line: 3>\u001B[0;34m()\u001B[0m\n\u001B[1;32m      1\u001B[0m \u001B[0ma\u001B[0m \u001B[0;34m=\u001B[0m \u001B[0;36m1\u001B[0m\u001B[0;34m\u001B[0m\u001B[0;34m\u001B[0m\u001B[0m\n\u001B[1;32m      2\u001B[0m \u001B[0mb\u001B[0m \u001B[0;34m=\u001B[0m \u001B[0;34m'김지한'\u001B[0m\u001B[0;34m\u001B[0m\u001B[0;34m\u001B[0m\u001B[0m\n\u001B[0;32m----> 3\u001B[0;31m \u001B[0mprint\u001B[0m\u001B[0;34m(\u001B[0m\u001B[0ma\u001B[0m\u001B[0;34m+\u001B[0m\u001B[0mb\u001B[0m\u001B[0;34m)\u001B[0m\u001B[0;34m\u001B[0m\u001B[0;34m\u001B[0m\u001B[0m\n\u001B[0m",
      "\u001B[0;31mTypeError\u001B[0m: unsupported operand type(s) for +: 'int' and 'str'"
     ]
    }
   ]
  },
  {
   "cell_type": "code",
   "source": [
    "#3-3 ValueError\n",
    "num = int('김지한')\n",
    "print(f\"my name is :{num}\")"
   ],
   "metadata": {
    "colab": {
     "base_uri": "https://localhost:8080/",
     "height": 210
    },
    "id": "wpCkNsHoEdyo",
    "executionInfo": {
     "status": "error",
     "timestamp": 1689349452849,
     "user_tz": -540,
     "elapsed": 461,
     "user": {
      "displayName": "JIHAN KIM",
      "userId": "14820648192014375113"
     }
    },
    "outputId": "2002488c-a4ef-4814-999a-bc3df9a84f6a"
   },
   "execution_count": 6,
   "outputs": [
    {
     "output_type": "error",
     "ename": "ValueError",
     "evalue": "ignored",
     "traceback": [
      "\u001B[0;31m---------------------------------------------------------------------------\u001B[0m",
      "\u001B[0;31mValueError\u001B[0m                                Traceback (most recent call last)",
      "\u001B[0;32m<ipython-input-6-c5ebc8bf571f>\u001B[0m in \u001B[0;36m<cell line: 2>\u001B[0;34m()\u001B[0m\n\u001B[1;32m      1\u001B[0m \u001B[0;31m#3-3 ValueError\u001B[0m\u001B[0;34m\u001B[0m\u001B[0;34m\u001B[0m\u001B[0m\n\u001B[0;32m----> 2\u001B[0;31m \u001B[0mnum\u001B[0m \u001B[0;34m=\u001B[0m \u001B[0mint\u001B[0m\u001B[0;34m(\u001B[0m\u001B[0;34m'김지한'\u001B[0m\u001B[0;34m)\u001B[0m\u001B[0;34m\u001B[0m\u001B[0;34m\u001B[0m\u001B[0m\n\u001B[0m\u001B[1;32m      3\u001B[0m \u001B[0mprint\u001B[0m\u001B[0;34m(\u001B[0m\u001B[0;34mf\"my name is :{num}\"\u001B[0m\u001B[0;34m)\u001B[0m\u001B[0;34m\u001B[0m\u001B[0;34m\u001B[0m\u001B[0m\n",
      "\u001B[0;31mValueError\u001B[0m: invalid literal for int() with base 10: '김지한'"
     ]
    }
   ]
  },
  {
   "cell_type": "code",
   "source": [
    "#3-4 NameError\n",
    "a = 1\n",
    "b = 2\n",
    "print(c)\n"
   ],
   "metadata": {
    "colab": {
     "base_uri": "https://localhost:8080/",
     "height": 210
    },
    "id": "4C5ZEMOEErt4",
    "executionInfo": {
     "status": "error",
     "timestamp": 1689349620199,
     "user_tz": -540,
     "elapsed": 352,
     "user": {
      "displayName": "JIHAN KIM",
      "userId": "14820648192014375113"
     }
    },
    "outputId": "09a917ad-83e8-4dd3-ca93-e804117932e7"
   },
   "execution_count": 7,
   "outputs": [
    {
     "output_type": "error",
     "ename": "NameError",
     "evalue": "ignored",
     "traceback": [
      "\u001B[0;31m---------------------------------------------------------------------------\u001B[0m",
      "\u001B[0;31mNameError\u001B[0m                                 Traceback (most recent call last)",
      "\u001B[0;32m<ipython-input-7-080046182772>\u001B[0m in \u001B[0;36m<cell line: 4>\u001B[0;34m()\u001B[0m\n\u001B[1;32m      2\u001B[0m \u001B[0ma\u001B[0m \u001B[0;34m=\u001B[0m \u001B[0;36m1\u001B[0m\u001B[0;34m\u001B[0m\u001B[0;34m\u001B[0m\u001B[0m\n\u001B[1;32m      3\u001B[0m \u001B[0mb\u001B[0m \u001B[0;34m=\u001B[0m \u001B[0;36m2\u001B[0m\u001B[0;34m\u001B[0m\u001B[0;34m\u001B[0m\u001B[0m\n\u001B[0;32m----> 4\u001B[0;31m \u001B[0mprint\u001B[0m\u001B[0;34m(\u001B[0m\u001B[0mc\u001B[0m\u001B[0;34m)\u001B[0m\u001B[0;34m\u001B[0m\u001B[0;34m\u001B[0m\u001B[0m\n\u001B[0m",
      "\u001B[0;31mNameError\u001B[0m: name 'c' is not defined"
     ]
    }
   ]
  },
  {
   "cell_type": "code",
   "source": [
    "#3-5 zeroDivisionError\n",
    "a = 100\n",
    "b = 0\n",
    "print(a/b)"
   ],
   "metadata": {
    "colab": {
     "base_uri": "https://localhost:8080/",
     "height": 210
    },
    "id": "0uJXCQguFX5U",
    "executionInfo": {
     "status": "error",
     "timestamp": 1689349651794,
     "user_tz": -540,
     "elapsed": 3,
     "user": {
      "displayName": "JIHAN KIM",
      "userId": "14820648192014375113"
     }
    },
    "outputId": "e453d55e-592f-449c-ffe2-6d41a0f8137c"
   },
   "execution_count": 8,
   "outputs": [
    {
     "output_type": "error",
     "ename": "ZeroDivisionError",
     "evalue": "ignored",
     "traceback": [
      "\u001B[0;31m---------------------------------------------------------------------------\u001B[0m",
      "\u001B[0;31mZeroDivisionError\u001B[0m                         Traceback (most recent call last)",
      "\u001B[0;32m<ipython-input-8-0599a4de0042>\u001B[0m in \u001B[0;36m<cell line: 4>\u001B[0;34m()\u001B[0m\n\u001B[1;32m      2\u001B[0m \u001B[0ma\u001B[0m \u001B[0;34m=\u001B[0m \u001B[0;36m100\u001B[0m\u001B[0;34m\u001B[0m\u001B[0;34m\u001B[0m\u001B[0m\n\u001B[1;32m      3\u001B[0m \u001B[0mb\u001B[0m \u001B[0;34m=\u001B[0m \u001B[0;36m0\u001B[0m\u001B[0;34m\u001B[0m\u001B[0;34m\u001B[0m\u001B[0m\n\u001B[0;32m----> 4\u001B[0;31m \u001B[0mprint\u001B[0m\u001B[0;34m(\u001B[0m\u001B[0ma\u001B[0m\u001B[0;34m/\u001B[0m\u001B[0mb\u001B[0m\u001B[0;34m)\u001B[0m\u001B[0;34m\u001B[0m\u001B[0;34m\u001B[0m\u001B[0m\n\u001B[0m",
      "\u001B[0;31mZeroDivisionError\u001B[0m: division by zero"
     ]
    }
   ]
  },
  {
   "cell_type": "code",
   "source": [
    "#3-6 IndexError\n",
    "\n",
    "arr = [ 1, 2, 3,4, 5]\n",
    "print(arr[10])"
   ],
   "metadata": {
    "colab": {
     "base_uri": "https://localhost:8080/",
     "height": 210
    },
    "id": "f-0kbhFcFfiO",
    "executionInfo": {
     "status": "error",
     "timestamp": 1689349727043,
     "user_tz": -540,
     "elapsed": 3,
     "user": {
      "displayName": "JIHAN KIM",
      "userId": "14820648192014375113"
     }
    },
    "outputId": "66955f1f-4d0f-4887-88c8-64a7ab92981f"
   },
   "execution_count": 9,
   "outputs": [
    {
     "output_type": "error",
     "ename": "IndexError",
     "evalue": "ignored",
     "traceback": [
      "\u001B[0;31m---------------------------------------------------------------------------\u001B[0m",
      "\u001B[0;31mIndexError\u001B[0m                                Traceback (most recent call last)",
      "\u001B[0;32m<ipython-input-9-db206420656e>\u001B[0m in \u001B[0;36m<cell line: 4>\u001B[0;34m()\u001B[0m\n\u001B[1;32m      2\u001B[0m \u001B[0;34m\u001B[0m\u001B[0m\n\u001B[1;32m      3\u001B[0m \u001B[0marr\u001B[0m \u001B[0;34m=\u001B[0m \u001B[0;34m[\u001B[0m \u001B[0;36m1\u001B[0m\u001B[0;34m,\u001B[0m \u001B[0;36m2\u001B[0m\u001B[0;34m,\u001B[0m \u001B[0;36m3\u001B[0m\u001B[0;34m,\u001B[0m\u001B[0;36m4\u001B[0m\u001B[0;34m,\u001B[0m \u001B[0;36m5\u001B[0m\u001B[0;34m]\u001B[0m\u001B[0;34m\u001B[0m\u001B[0;34m\u001B[0m\u001B[0m\n\u001B[0;32m----> 4\u001B[0;31m \u001B[0mprint\u001B[0m\u001B[0;34m(\u001B[0m\u001B[0marr\u001B[0m\u001B[0;34m[\u001B[0m\u001B[0;36m10\u001B[0m\u001B[0;34m]\u001B[0m\u001B[0;34m)\u001B[0m\u001B[0;34m\u001B[0m\u001B[0;34m\u001B[0m\u001B[0m\n\u001B[0m",
      "\u001B[0;31mIndexError\u001B[0m: list index out of range"
     ]
    }
   ]
  },
  {
   "cell_type": "code",
   "source": [
    "#Q4\n",
    "korean_age = int(input(\"한국나이로 몇살이십니다.:\"))\n",
    "birth = int(input(\"생일이 지났습니다 맞으면 0 아니면 -1:\"))\n",
    "\n",
    "if birth == -1:\n",
    "    age= korean_age -2\n",
    "else:\n",
    "    age = korean_age -1\n",
    "\n",
    "print(f'당신의 미국나이는{age}살 입니다.')\n"
   ],
   "metadata": {
    "colab": {
     "base_uri": "https://localhost:8080/"
    },
    "id": "BD7mBpTbFx_i",
    "executionInfo": {
     "status": "ok",
     "timestamp": 1689350024099,
     "user_tz": -540,
     "elapsed": 2998,
     "user": {
      "displayName": "JIHAN KIM",
      "userId": "14820648192014375113"
     }
    },
    "outputId": "05c6bdc4-3ab1-4245-8621-fd826f893f01"
   },
   "execution_count": 14,
   "outputs": [
    {
     "output_type": "stream",
     "name": "stdout",
     "text": [
      "한국나이로 몇살이십니다.:22\n",
      "생일이 지났습니다 맞으면 0 아니면 -1:0\n",
      "당신의 미국나이는21살 입니다.\n"
     ]
    }
   ]
  },
  {
   "cell_type": "code",
   "source": [],
   "metadata": {
    "id": "b9vqUczDGanV"
   },
   "execution_count": null,
   "outputs": []
  }
 ]
}
