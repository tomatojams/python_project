{
 "cells": [
  {
   "cell_type": "code",
   "execution_count": 1,
   "metadata": {
    "collapsed": true,
    "ExecuteTime": {
     "end_time": "2023-08-19T10:37:54.965746200Z",
     "start_time": "2023-08-19T10:37:51.143183700Z"
    }
   },
   "outputs": [
    {
     "name": "stdout",
     "output_type": "stream",
     "text": [
      "숫자로 입력해주세요\n",
      "숫자로 입력해주세요\n",
      "숫자로 입력해주세요\n",
      "숫자로 입력해주세요\n",
      "숫자로 입력해주세요\n",
      "입력오류가 많습니다. 다시 실행해주세요\n",
      "숫자로 입력해주세요\n",
      "0\n"
     ]
    }
   ],
   "source": [
    "#Q1\n",
    "def add_comma(number:int):\n",
    "    strNumbers = str(number)\n",
    "    results =[]\n",
    "    if(len(strNumbers) <=3):\n",
    "        print(strNumbers)\n",
    "    else:\n",
    "        for index,num in enumerate(strNumbers[::-1]):\n",
    "            if(index%3 == 0 and index != 0):\n",
    "                results.append(',')\n",
    "            results.append(num)\n",
    "        print(''.join(results[::-1]))\n",
    "\n",
    "# 입력받을 숫자 초기화와 오류에서 무한루프에 빠지지않게 한계입력설정\n",
    "input_number = 0\n",
    "input_limit = 6\n",
    "\n",
    "while(input_limit > 0):\n",
    "    if input_limit == 1:\n",
    "        print(\"입력오류가 많습니다. 다시 실행해주세요\")\n",
    "    try:\n",
    "        input_number = int(input('숫자를 입력해주세요.'))\n",
    "    except:\n",
    "        print('숫자로 입력해주세요')\n",
    "        input_limit -=1\n",
    "        continue\n",
    "    print(f'입력하신 숫자는 {input_number}입니다.')\n",
    "    break\n",
    "\n",
    "add_comma(input_number)"
   ]
  },
  {
   "cell_type": "code",
   "execution_count": 49,
   "outputs": [
    {
     "name": "stdout",
     "output_type": "stream",
     "text": [
      "1,234,567\n"
     ]
    }
   ],
   "source": [
    "number = 1234567\n",
    "formatted_number = format(number,',')\n",
    "print(formatted_number)  # 출력 결과: 1,234,567"
   ],
   "metadata": {
    "collapsed": false,
    "ExecuteTime": {
     "end_time": "2023-08-05T17:13:31.370152200Z",
     "start_time": "2023-08-05T17:13:31.367643500Z"
    }
   }
  },
  {
   "cell_type": "code",
   "execution_count": 62,
   "outputs": [
    {
     "name": "stdout",
     "output_type": "stream",
     "text": [
      "김지한 이수빈 하윤 황은비\n",
      "1\n"
     ]
    }
   ],
   "source": [
    "#Q2\n",
    "\n",
    "def count_word( input_string:str, word_to_find:str):\n",
    "    count = 0\n",
    "    words = input_string.split()\n",
    "    for word in words:\n",
    "        if word_to_find in word:\n",
    "            count +=1\n",
    "    print(count)\n",
    "\n",
    "input_string =''\n",
    "input_limit = 6\n",
    "\n",
    "while(input_limit > 0):\n",
    "    if input_limit == 1:\n",
    "        print(\"여러번 입력이 없습니다. 다시 실행해주세요\")\n",
    "        break\n",
    "    input_string = input('문장을 입력해주세요.')\n",
    "    if len(input_string) == 0:\n",
    "        print(\"입력이 없습니다.\")\n",
    "        input_limit -=1\n",
    "        continue\n",
    "    print(input_string)\n",
    "    break\n",
    "\n",
    "count_word(input_string, '비')"
   ],
   "metadata": {
    "collapsed": false,
    "ExecuteTime": {
     "end_time": "2023-08-05T17:30:26.202069600Z",
     "start_time": "2023-08-05T17:30:19.985085200Z"
    }
   }
  },
  {
   "cell_type": "code",
   "execution_count": 107,
   "outputs": [
    {
     "name": "stdout",
     "output_type": "stream",
     "text": [
      "잘못 쓴 사람:김갑\n",
      "잘못 쓴 번호:123456789\n",
      "\n",
      "잘못 쓴 사람:박병\n",
      "잘못 쓴 번호:010-5678-111\n",
      "\n",
      "잘못 쓴 사람:최정\n",
      "잘못 쓴 번호:111-1111-1111\n",
      "\n"
     ]
    }
   ],
   "source": [
    "#Q3\n",
    "import re\n",
    "def wrong_guest_book(guest_book):\n",
    "    guest_dic= {}\n",
    "    #문장을 개개인별로 리스트정리\n",
    "    guest_list = guest_book.split('\\n')\n",
    "    guest_list_result = [i.split(',') for i in guest_list]\n",
    "\n",
    "    # 리스트를 딕션어리로 정리\n",
    "    for index, name in enumerate(guest_list_result):\n",
    "        guest_dic[guest_list_result[index][0]] = guest_list_result[index][1]\n",
    "    # 정규식으로 검사\n",
    "    phone_pattern = r'^010-\\d{4}-\\d{4}$'\n",
    "    for name, phone in guest_dic.items():\n",
    "        if(re.match(phone_pattern, phone) == None):\n",
    "            print(f'잘못 쓴 사람:{name}')\n",
    "            print(f'잘못 쓴 번호:{phone}\\n')\n",
    "\n",
    "guest_book = \"\"\"김갑,123456789\n",
    "이을,010-1234-5678\n",
    "박병,010-5678-111\n",
    "최정,111-1111-1111\n",
    "정무,010-3333-3333\"\"\"\n",
    "\n",
    "wrong_guest_book(guest_book)"
   ],
   "metadata": {
    "collapsed": false,
    "ExecuteTime": {
     "end_time": "2023-08-05T18:28:53.595435800Z",
     "start_time": "2023-08-05T18:28:53.589880400Z"
    }
   }
  },
  {
   "cell_type": "code",
   "execution_count": 158,
   "outputs": [
    {
     "name": "stdout",
     "output_type": "stream",
     "text": [
      "1900년 6월생 여자\n"
     ]
    }
   ],
   "source": [
    "#Q4\n",
    "\n",
    "# 형식에 맞는지 검사\n",
    "def is_validate_id(id_number):\n",
    "    id_pattern = r'^\\d{6}-\\d{7}$'\n",
    "    if re.match(id_pattern,id_number) == None:\n",
    "        return False\n",
    "    else:\n",
    "        return True\n",
    "\n",
    "# 3,4번일경우 2000년 이후출생자인지 검사\n",
    "def is_gender_number(gender, age):\n",
    "    if(gender == '3' or gender == '4'):\n",
    "        if ( year_of_birth >= 23):\n",
    "            return False\n",
    "    return True\n",
    "\n",
    "def what_gender(gender_number):\n",
    "    if(int(gender_number)%2 == 0 ):\n",
    "        return '여자'\n",
    "    else:\n",
    "        (int(gender_number)%2 == 1)\n",
    "        return '남자'\n",
    "\n",
    "# 변수목록\n",
    "input_limit =6 # 입력오류시 한계입력회수\n",
    "id_number ='' # 주민등록번호\n",
    "\n",
    "year_of_birth = 0 # 생년\n",
    "month_of_birth = 0 #월\n",
    "\n",
    "gender_number = 0 #성별번호\n",
    "gender ='' # 성별\n",
    "\n",
    "confirm_age = '' # 2000년 이후 출생자 출생년도 재확인\n",
    "confirm = ['O','X']\n",
    "after_millenium = False\n",
    "\n",
    "# 주민번호 형식이 맞는지 1차검사\n",
    "while(input_limit>0): # 무한루프가 돌지 않게 한계설정\n",
    "\n",
    "    id_number = input(\"주민번호를 입력해주십시오\")\n",
    "    if is_validate_id(id_number) == False:\n",
    "        print(\"잘못된 번호입니다.\")\n",
    "        input_limit -= 1\n",
    "        continue\n",
    "\n",
    "    gender_number = id_number[7]\n",
    "    year_of_birth = int(id_number[:2])\n",
    "    month_of_birth = int(id_number[2:4])\n",
    "    gender = what_gender(gender_number)\n",
    "\n",
    "    if is_gender_number(gender_number,year_of_birth) == False:\n",
    "        print(\"잘못된 번호예요.\")\n",
    "        input_limit -=1\n",
    "        continue\n",
    "    break\n",
    "\n",
    "# 출생년도 확인 및 출력\n",
    "input_limit =6 # 초기입력 성공으로 입력한계 초기화\n",
    "while(input_limit >0):\n",
    "\n",
    "    if year_of_birth <= 23:\n",
    "        confirm_age = input(\"2000년 이후 출생자입니까?(O/X)\")\n",
    "        if confirm_age not in confirm:\n",
    "            print(\"O/X로 다시 입력해주세요.\")\n",
    "            input_limit -=1\n",
    "            continue\n",
    "\n",
    "    if confirm_age =='O' and (gender_number == '1' or gender_number == '2') :\n",
    "        print(\"잘못된 번호입니다. 올바른 번호를 넣어주세요.\")\n",
    "        break\n",
    "    elif confirm_age == 'X' and (gender_number == '3' or gender_number == '4'):\n",
    "        print(\"잘못된 번호입니다. 올바른 번호를 넣어주세요.\")\n",
    "        break\n",
    "\n",
    "    if confirm_age == '0':\n",
    "        after_millenium = True\n",
    "\n",
    "    if after_millenium:\n",
    "        print(f'20{year_of_birth:02}년 {month_of_birth}월생 {gender}')\n",
    "    else:\n",
    "        print(f'19{year_of_birth:02}년 {month_of_birth}월생 {gender}')\n",
    "    break\n",
    "\n"
   ],
   "metadata": {
    "collapsed": false,
    "ExecuteTime": {
     "end_time": "2023-08-05T20:34:35.035018400Z",
     "start_time": "2023-08-05T20:34:29.472457800Z"
    }
   }
  }
 ],
 "metadata": {
  "kernelspec": {
   "display_name": "Python 3",
   "language": "python",
   "name": "python3"
  },
  "language_info": {
   "codemirror_mode": {
    "name": "ipython",
    "version": 2
   },
   "file_extension": ".py",
   "mimetype": "text/x-python",
   "name": "python",
   "nbconvert_exporter": "python",
   "pygments_lexer": "ipython2",
   "version": "2.7.6"
  }
 },
 "nbformat": 4,
 "nbformat_minor": 0
}
