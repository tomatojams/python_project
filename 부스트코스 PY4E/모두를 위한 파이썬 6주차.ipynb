{
 "nbformat": 4,
 "nbformat_minor": 0,
 "metadata": {
  "colab": {
   "provenance": []
  },
  "kernelspec": {
   "name": "python3",
   "language": "python",
   "display_name": "Python 3 (ipykernel)"
  },
  "language_info": {
   "name": "python"
  }
 },
 "cells": [
  {
   "cell_type": "markdown",
   "source": [
    "# **6주차 l 미션**\n",
    "미션 목적 - 튜플과 딕셔너리 자료형의 이해와 활용\n",
    "\n",
    " ✨  미션참가자: 토마토_리더, 이수빈, 하윤, eunv ✨"
   ],
   "metadata": {
    "id": "rkDf0g9tcHqD"
   }
  },
  {
   "cell_type": "markdown",
   "source": [
    "## 📌Q1. 우리나라 역사에는 다양한 왕들이 있었습니다. 특히, 고려시대와 조선시대를 보면 몇몇의 왕 이름이 같은 것을 알 수 있는데요, 이번 문제에서는 고려시대와 조선시대의 왕 이름 중에서 두 시대에 모두 사용된 이름이 몇 개인지 알아보려 합니다. 다음의 조건을 만족하는 파이썬 프로그램을 만들어 중복된 이름은 몇 개인지 알아봅시다! [난이도 : ⭐️⭐️⭐️/5]\n",
    "\n",
    "\n",
    "\n",
    "<출력 조건>\n",
    "\n",
    "1. 중복되는 왕 이름 목록\n",
    "2. 중복되는 왕 이름의 수"
   ],
   "metadata": {
    "id": "a6H_ubYgcZOF"
   }
  },
  {
   "cell_type": "markdown",
   "source": [
    "✅ ⚡  문제해결방식:\n",
    "\n",
    "\n",
    "1. 자료형과 자료형에 대한 특정기능(중복여부)를 수행하는 문제이므로 이 기회에 클래스와 그 내부 클래스 메소드로 구현해보려합니다.\n",
    "\n",
    "2. 클래스를 사용함에도 클래스자체를 자료형처럼 활용할수있게 매직메소드인 str 메소드를 활용합니다.\n",
    "\n",
    "3. 왕의 명칭(성호) 의 경우 한글 독음은 같아도 한자가 다르기때문에 같은 명칭이라고보기 어려워, 해당자료의 한자를 찾아서 입력자료를 개선했습니다. 따라서 같은 성호의 왕은 각각 11분이 됩니다.\n",
    "\n",
    "4. 고려와 조선의 왕의 이름이 중복경우, 유효성검사\n",
    "\n",
    "* 내부적으로는 딕션어리 형식을 취해, 공통된 왕들을 key로 하고 그에 대한 value는 1회이상 중복이 되는지 유효성검사형식을 사용합니다.\n",
    "*   한 왕조에 같은 성호를 가진 왕이 한 목록에서 2번 이상이 나오면 안되므로 고려와 조선왕의 최대중복의 경우는 1회에 그쳐야 합니다.\n",
    "*   유효성 검사로 1이 나왔을때만 정상중복이라고 여겨 출력을 하고 2이상이 나오면 해당 자료형이 잘못되었거나 한자독음을 추가하라는 메세지를 출력합니다.\n",
    "* (예시) 한글로 주어진 왕의 성호 목록에서 2회의 중복이 나오므로 자료형이 잘못되었다는 출력을 합니다.\n",
    "\n",
    "\n"
   ],
   "metadata": {
    "id": "YjMZ5HfX6NXZ"
   }
  },
  {
   "cell_type": "code",
   "source": [
    "class KoreanMonarchs:\n",
    "    \"\"\"\n",
    "    고려와 조선 시대의 한국 군주들을 비교합니다.\n",
    "    공통된 군주들을 찾고, 그 이름을 출력하고 갯수를 카운트하는 메소드를 제공합니다.\n",
    "    \"\"\"\n",
    "\n",
    "    def __init__(self, korea_king_str, chosun_king_str):\n",
    "        \"\"\"\n",
    "        한국 군주 이름들을 나타내는 두 개의 문자열로 KoreanMonarchs 클래스를 초기화\n",
    "\n",
    "        :param korea_king_str: 고려 시대의 한국 군주 이름들을 쉼표로 구분한 문자열입니다.\n",
    "        :param chosun_king_str: 조선 시대의 한국 군주 이름들을 쉼표로 구분한 문자열입니다.\n",
    "        \"\"\"\n",
    "        self.korea_king = korea_king_str.split(',')\n",
    "        self.chosun_king = chosun_king_str.split(',')\n",
    "        self.common_king = self._find_common_kings()\n",
    "\n",
    "    def _find_common_kings(self):\n",
    "        \"\"\"\n",
    "        고려와 조선 시대에 공통된 군주들을 찾습니다.\n",
    "\n",
    "        :return: 공통된 군주 이름을 키로, 그 발생 횟수를 값으로 갖는 사전을 반환합니다.\n",
    "        \"\"\"\n",
    "        common_king = {}\n",
    "        for king in self.korea_king:\n",
    "            if king in self.chosun_king:\n",
    "                common_king[king] = common_king.get(king, 0) + 1\n",
    "        return common_king\n",
    "\n",
    "    def common_king_names(self):\n",
    "        \"\"\"\n",
    "        고려와 조선 시대에 공통된 군주들의 이름을 출력합니다.\n",
    "        \"\"\"\n",
    "        print('조선과 고려에 모두 있는 왕들은', end=' ')\n",
    "        for index, king in enumerate(self.common_king.keys()):\n",
    "            if index == len(self.common_king) - 1:\n",
    "                print(king, end=' ')\n",
    "                break\n",
    "            print(king, end=', ')\n",
    "        print('입니다.')\n",
    "\n",
    "    def common_king_count(self):\n",
    "        \"\"\"\n",
    "        고려와 조선 시대에 공통된 군주의 수를 출력합니다.\n",
    "        \"\"\"\n",
    "        print(f'조선과 고려에 모두 있는 왕의 이름은 총 {len(self.common_king)} 분입니다.')\n",
    "\n",
    "    def __str__(self):\n",
    "        \"\"\"\n",
    "        클래스의 인스턴스를 문자열로 변환하여 출력합니다.\n",
    "        \"\"\"\n",
    "        return str(self.common_king)\n",
    "\n",
    "\n",
    "KOREA_KING = \"태조(太祖), 혜종(惠宗), 정종(定宗), 광종(光宗), 경종(景宗), 성종(成宗), 목종(穆宗), 현종(顯宗), 덕종(德宗), 정종(定宗), 문종(文宗), 순종(順宗), 선종(宣宗), 헌종(憲宗), 숙종(肅宗), 예종(睿宗), 인종(仁宗), 의종(義宗), 명종(明宗), 신종(神宗), 희종(僖宗), 강종(康宗), 고종(孤宗), 원조(元祖), 충렬왕(忠烈王), 충선왕(忠宣王), 충숙왕(忠肅王), 충혜왕(忠惠王), 충목왕(忠穆王), 충정왕(忠定王), 공민왕(恭愍王), 우왕(宇王), 창왕(昌王), 공양왕(恭讓王)\"\n",
    "CHOSUN_KING = \"태조(太祖), 정종(正宗), 태종(太宗), 세종(世宗), 문종(文宗), 단종(端宗), 세조(世祖), 예종(睿宗), 성종(成宗), 연산군(延山君), 중종(中宗), 인종(仁宗), 명종(明宗), 선조(宣祖), 광해군(光海君), 인조(仁宗), 효종(孝宗), 현종(顯宗), 숙종(肅宗), 경종(景宗), 영조(英祖), 정조(正祖), 순조(純祖), 헌종(憲宗), 철종(哲宗), 고종(孤宗), 순종(純宗)\"\n",
    "\n",
    "monarchs = KoreanMonarchs(KOREA_KING, CHOSUN_KING)\n",
    "monarchs.common_king_names()\n",
    "monarchs.common_king_count()\n",
    "print(monarchs)\n",
    "\n",
    "korea_king = \"태조,혜종,정종,광종,경종,성종,목종,현종,덕종,정종,문종,순종,선종,헌종,숙종,예종,인종,의종,명종,신종,희종,강종,고종,원조,충렬왕,충선왕,충숙왕,충혜왕,충목왕,충정왕,공민왕,우왕,창왕,공양왕\"\n",
    "chosun_king = \"태조,정종,태종,세종,문종,단종,세조,예종,성종,연산군,중종,인종,명종,선조,광해군,인조,효종,현종,숙종,경종,영조,정조,순조,헌종,철종,고종,순종\"\n",
    "\n",
    "monarchs_k = KoreanMonarchs(korea_king, chosun_king)\n",
    "monarchs_k.common_king_names()\n",
    "monarchs_k.common_king_count()\n",
    "print(monarchs_k)"
   ],
   "metadata": {
    "colab": {
     "base_uri": "https://localhost:8080/"
    },
    "id": "FRast4Xa-KXh",
    "outputId": "a3b74cf1-c55d-49cc-fd66-58fbd7af6757",
    "ExecuteTime": {
     "end_time": "2023-08-21T00:36:53.600478300Z",
     "start_time": "2023-08-21T00:36:53.582427800Z"
    }
   },
   "execution_count": 1,
   "outputs": [
    {
     "name": "stdout",
     "output_type": "stream",
     "text": [
      "조선과 고려에 모두 있는 왕들은 태조(太祖),  경종(景宗),  성종(成宗),  현종(顯宗),  문종(文宗),  헌종(憲宗),  숙종(肅宗),  예종(睿宗),  인종(仁宗),  명종(明宗),  고종(孤宗) 입니다.\n",
      "조선과 고려에 모두 있는 왕의 이름은 총 11 분입니다.\n",
      "{'태조(太祖)': 1, ' 경종(景宗)': 1, ' 성종(成宗)': 1, ' 현종(顯宗)': 1, ' 문종(文宗)': 1, ' 헌종(憲宗)': 1, ' 숙종(肅宗)': 1, ' 예종(睿宗)': 1, ' 인종(仁宗)': 1, ' 명종(明宗)': 1, ' 고종(孤宗)': 1}\n",
      "조선과 고려에 모두 있는 왕들은 태조, 정종, 경종, 성종, 현종, 문종, 순종, 헌종, 숙종, 예종, 인종, 명종, 고종 입니다.\n",
      "조선과 고려에 모두 있는 왕의 이름은 총 13 분입니다.\n",
      "{'태조': 1, '정종': 2, '경종': 1, '성종': 1, '현종': 1, '문종': 1, '순종': 1, '헌종': 1, '숙종': 1, '예종': 1, '인종': 1, '명종': 1, '고종': 1}\n"
     ]
    }
   ]
  },
  {
   "cell_type": "markdown",
   "source": [
    "## 📌Q2. 여러분은 영업팀의 영업관리자로서, 6명의 팀 멤버를 지휘하고 있습니다. 얼마 전, 상반기가 종료되어 멤버들의 실적을 평가할 시기가 다가왔습니다. 실적을 기준으로 잘한 멤버에게는 보너스를 주고, 성과가 부족한 멤버에게는 면담을 진행하여 개선을 도모하려고 합니다. 이를 조금 더 편리하게 하기 위해 파이썬을 이용해 함수를 만들어 볼 예정입니다. 다음 요구사항을 만족하는 프로그램을 만들고, 보너스 대상자와 면담 대상자를 구분해보세요. [난이도 : ⭐️⭐️⭐️/5]\n",
    "\n",
    "\n",
    "<요구사항>\n",
    "\n",
    "1. 보너스 대상자는 평균 실적 1등과 2등 입니다.\n",
    "2. 면담 대상자는 평균 실적 5등과 6등 입니다.\n",
    "3. 보너스 대상자의 평균 실적이 5보다 크지 않으면, 보너스 대상자에서 제외됩니다.\n",
    "4. 면담 대상자의 평균 실적이 3보다 크면, 면담 대상자에서 제외됩니다."
   ],
   "metadata": {
    "id": "SFCSTeQ4cl3p"
   }
  },
  {
   "cell_type": "markdown",
   "source": [
    "✅ ⚡  문제해결방식:\n",
    "\n",
    "1. JSON 형식의 자료형으로 가공<br>\n",
    "다수의 리스트를 가공해 보너스 여부와 면담여부를 그때그때 연산로직을 통해 출력하는 것은, 출력시 연산리소스를 소모하고, 그로인해 출력을 지연하게 만드는 요인이 됩니다.\n",
    " 그뿐 아니라 에러나 문제가 발생시 기초자료형과 결과사이의 코드를 추적해봐야하는 복잡함이 발생할 수 있다고 여겨집니다. 따라서, 딕션어리를 활용해 자료형만봐도 어떠한 내용인지 일목요연하게 미리 기록해두는 것이 유지보수 관리나, 출력의 즉각성에 측면에서 더 유용한경우가 많다고 여겨지고, 기초 데이타를 가공하는 프로그램 로직에 신경쓰지 않도록 결과값을 특정 자료형으로 완성해두는것이 더 유용하다고 여겨집니다. 따라서, 딕션어리 자료형에 필요한 항목을  모두 담는 JSON 형식의 자료형을 만드는 방향으로 작성을 했습니다.\n",
    "\n",
    "2. 클래스화로 자료형에 메소드추가\n",
    "JSON 형식의 자료형에, 원하는 결과를 추출하기위해서 '보너스대상자'와 면담대상자를 출력하는 메소드를 추가하고 이를 클래스로 표현합니다.\n",
    "\n",
    "3. ⚡(추가기능) 매직메소드 활용<br>\n",
    "클래스로 만든이후 일일히 클래스의 내부 자료형에 접근하기보다는 클래스자체를 자료형처럼 다룰수있는 것이 더 편리하다고 여겨집니다. 파이썬에서는 매직메소드라는것을 제공해서 출력을 위한 str이나 자료형처럼 다룰수있는 iter,next라는 메소드를 제공하므로 JSON자료형의 특징을 그대로 살릴수있도록 이러한 메소드를 활용합니다.\n"
   ],
   "metadata": {
    "id": "Ys4bYmYqwxBy"
   }
  },
  {
   "cell_type": "code",
   "source": [
    "import numpy as np\n",
    "\n",
    "class SalesAnalyzer:\n",
    "    \"\"\"\n",
    "    판매원의 세일즈 기록을 분석하고 결과를 출력하는 기능.\n",
    "    \"\"\"\n",
    "\n",
    "    def __init__(self, names:list, records:list):\n",
    "        \"\"\"\n",
    "        SalesAnalyzer 클래스를 초기화.\n",
    "\n",
    "        :Args\n",
    "            names: 판매원 이름 리스트.\n",
    "            records: 각 판매원의 세일즈 기록 리스트\n",
    "        \"\"\"\n",
    "        self.names = names\n",
    "        self.records = records\n",
    "        self.result_of_sales = self._calculate_sales_results()\n",
    "        self.index = 0\n",
    "\n",
    "    def _calculate_sales_results(self):\n",
    "        \"\"\"\n",
    "        JSON 형태의 자료형(딕셔너리 리스트)으로 자료를 리턴\n",
    "        \"\"\"\n",
    "        result = []\n",
    "        sorted_indices = np.argsort([-np.mean(sales) for sales in self.records])  # 세일즈 평균 내림차순 정렬\n",
    "        for rank, index in enumerate(sorted_indices):\n",
    "            mean_of_sales = np.mean(self.records[index]).round(1)\n",
    "            result.append({\n",
    "                '이름': self.names[index],\n",
    "                '세일즈 평균': mean_of_sales,\n",
    "                '보너스': '합격' if mean_of_sales > 5 and rank <= 2 else '불합격',\n",
    "                '면담': '대상자' if mean_of_sales <= 3 and rank > 4 else '필요없음',\n",
    "                '등수': rank + 1\n",
    "            })\n",
    "        return result\n",
    "\n",
    "    def bonus_members(self):\n",
    "        \"\"\"\n",
    "        보너스 합격인 판매원의 이름을 출력합니다.\n",
    "        \"\"\"\n",
    "        print('♧보너스 합격인 사람 목록:')\n",
    "        for member in self.result_of_sales:\n",
    "            if member['보너스'] == '합격':\n",
    "                print(member['이름'])\n",
    "        print()\n",
    "    def interview_members(self):\n",
    "        \"\"\"\n",
    "        면담 대상자의 이름을 출력합니다.\n",
    "        \"\"\"\n",
    "        print('♣면담 대상자 목록:')\n",
    "        for member in self.result_of_sales:\n",
    "            if member['면담'] == '대상자':\n",
    "                print(member['이름'])\n",
    "        print()\n",
    "\n",
    "    def __str__(self):\n",
    "        \"\"\"\n",
    "        클래스의 인스턴스를 문자열로 변환하여 출력합니다.\n",
    "        \"\"\"\n",
    "        return str(self.result_of_sales)\n",
    "\n",
    "    def __iter__(self):\n",
    "        \"\"\"\n",
    "        클래스의 인스턴스를 iterable로 만들기 위한 메소드\n",
    "        \"\"\"\n",
    "        return self\n",
    "\n",
    "    def __next__(self):\n",
    "        \"\"\"\n",
    "        다음 값을 반환하는 메소드\n",
    "        \"\"\"\n",
    "        if self.index < len(self.result_of_sales):\n",
    "            result = self.result_of_sales[self.index]\n",
    "            self.index += 1\n",
    "            return result\n",
    "        raise StopIteration\n",
    "\n",
    "\n",
    "MEMBER_NAMES = [\"갑돌이\", \"갑순이\", \"을돌이\", \"을순이\", \"병돌이\", \"병순이\"]\n",
    "MEMBER_RECORDS = [\n",
    "    [4, 5, 3, 5, 6, 5, 3, 4, 1, 3, 4, 5],\n",
    "    [2, 3, 4, 3, 1, 2, 0, 3, 2, 5, 7, 2],\n",
    "    [1, 3, 0, 3, 3, 4, 5, 6, 7, 2, 2, 1],\n",
    "    [3, 2, 9, 2, 3, 5, 6, 6, 4, 6, 9, 9],\n",
    "    [8, 7, 7, 5, 6, 7, 5, 8, 8, 6, 10, 9],\n",
    "    [7, 8, 4, 9, 5, 10, 3, 3, 2, 2, 1, 3]\n",
    "]\n",
    "\n",
    "sales_result = SalesAnalyzer(MEMBER_NAMES, MEMBER_RECORDS)\n",
    "sales_result.bonus_members()\n",
    "sales_result.interview_members()\n",
    "\n",
    "for result in sales_result:\n",
    "    print(result)\n"
   ],
   "metadata": {
    "colab": {
     "base_uri": "https://localhost:8080/"
    },
    "id": "LzGyo11n_eXm",
    "outputId": "88dd8142-c035-45b6-db75-03ecdcb38026"
   },
   "execution_count": null,
   "outputs": [
    {
     "output_type": "stream",
     "name": "stdout",
     "text": [
      "♧보너스 합격인 사람 목록:\n",
      "병돌이\n",
      "을순이\n",
      "\n",
      "♣면담 대상자 목록:\n",
      "갑순이\n",
      "\n",
      "{'이름': '병돌이', '세일즈 평균': 7.2, '보너스': '합격', '면담': '필요없음', '등수': 1}\n",
      "{'이름': '을순이', '세일즈 평균': 5.3, '보너스': '합격', '면담': '필요없음', '등수': 2}\n",
      "{'이름': '병순이', '세일즈 평균': 4.8, '보너스': '불합격', '면담': '필요없음', '등수': 3}\n",
      "{'이름': '갑돌이', '세일즈 평균': 4.0, '보너스': '불합격', '면담': '필요없음', '등수': 4}\n",
      "{'이름': '을돌이', '세일즈 평균': 3.1, '보너스': '불합격', '면담': '필요없음', '등수': 5}\n",
      "{'이름': '갑순이', '세일즈 평균': 2.8, '보너스': '불합격', '면담': '대상자', '등수': 6}\n"
     ]
    }
   ]
  },
  {
   "cell_type": "markdown",
   "source": [
    "## 📌Q3. 최근 철수는 예금 금리가 낮은 현재 상황을 보고, 주식 시장에 흥미를 느끼게 되었습니다. 그래서 아래와 같이 매수한 종목들의 정보를 활용해 수익률을 계산하고 싶어졌습니다. 철수는 매수한 종목의 이름, 수량, 매수 평균 금액을 알고 있으며, 각 종목의 판매가도 확인했습니다. 이제 우리는 철수를 도와서 종목별 수익률을 계산하는 프로그램을 만들어보려고 합니다. 파이썬을 이용해 종목별 수익률을 계산하고, 수익률이 높은 순서대로 출력해보세요. (소수 둘째자리까지 출력) [난이도 : ⭐️⭐️⭐️/5]"
   ],
   "metadata": {
    "id": "-vg9xd8HfyRh"
   }
  },
  {
   "cell_type": "code",
   "source": [
    "stocks = \"삼성전자/10/85000,카카오/15/130000,LG화학/3/820000,NAVER/5/420000\"\n",
    "sells = [82000, 160000, 835000, 410000]\n",
    "\n",
    "stocks_list = stocks.split(',')\n",
    "result = []\n",
    "\n",
    "for i, j in zip(stocks_list, sells):\n",
    "    stock = i.split('/')\n",
    "    profit = j - int(stock[2])\n",
    "    profit_percentage = round((profit / int(stock[2])) * 100, 2)\n",
    "    result.append({\n",
    "        '종목': stock[0],\n",
    "        '주수': stock[1],\n",
    "        '매입가': stock[2],\n",
    "        '매수가': j,\n",
    "        '차액': profit,\n",
    "        '수익률': profit_percentage\n",
    "    })\n",
    "\n",
    "result_sorted = sorted(result, key=lambda x: x['수익률'], reverse=True)\n",
    "\n",
    "for index, data in enumerate(result_sorted):\n",
    "    print(f\"{data['종목']}의 수익율은 {data['수익률']}\")"
   ],
   "metadata": {
    "colab": {
     "base_uri": "https://localhost:8080/"
    },
    "id": "fnh6m22d30Oj",
    "outputId": "b36018e3-afa9-4063-dab0-bffd8f29b596"
   },
   "execution_count": null,
   "outputs": [
    {
     "output_type": "stream",
     "name": "stdout",
     "text": [
      "카카오의 수익율은 23.08\n",
      "LG화학의 수익율은 1.83\n",
      "NAVER의 수익율은 -2.38\n",
      "삼성전자의 수익율은 -3.53\n"
     ]
    }
   ]
  },
  {
   "cell_type": "markdown",
   "source": [
    "## 📌 Q4. 여러분은 온라인 쇼핑몰을 운영하는 사장님입니다. 상품을 많이 구매해주신 VIP 회원 분들께 감사의 마음을 전하기 위해 이달의 할인 쿠폰을 제공하려고 하는데요, 업무 효율을 높이기 위해 파이썬 프로그래밍을 이용해 회원을 구분하고자 합니다. 아래와 같은 회원 정보가 있을 때, 할인 쿠폰을 받을 VIP 회원이 누군인지 출력하는 함수를 만들어보세요. [난이도 : ⭐️⭐️⭐️/5]\n",
    "\n",
    "\n",
    "<VIP 회원 조건>\n",
    "\n",
    "1. 구매 횟수가 8회 이상인 회원\n",
    "2. 쿠폰 발행을 위한 전화번호가 있어야 함\n",
    "    - 전화번호가 없을 경우, \"000-0000-0000\"으로 출력할 것\n",
    "\n",
    "6명의 회원이고 \"아이디,나이,전화번호,성별,지역,구매횟수\" 순서로 입력되어 있음\n",
    "\n",
    "info = \"abc,21세,010-1234-5678,남자,서울,5,cdb,25세,x,남자,서울,4,bbc,30세,010-2222-3333,여자,서울,3,ccb,29세,x,여자,경기,9,dab,26세,x,남자,인천,8,aab,23세,010-3333-1111,여자,경기,10\""
   ],
   "metadata": {
    "id": "3YkYyvmAghHB"
   }
  },
  {
   "cell_type": "markdown",
   "source": [
    "✅ ⚡  문제해결방식:"
   ],
   "metadata": {
    "id": "t4zKdFWQVyzs"
   }
  },
  {
   "cell_type": "code",
   "source": [
    "CUSTOMER_DATA = \"abc,21세,010-1234-5678,남자,서울,5,cdb,25세,x,남자,서울,4,bbc,30세,010-2222-3333,여자,서울,3,ccb,29세,x,여자,경기,9,dab,26세,x,남자,인천,8,aab,23세,010-3333-1111,여자,경기,10\"\n",
    "\n",
    "# 데이터를 쉼표로 분리하여 리스트로 변환\n",
    "data_list = CUSTOMER_DATA.split(',')\n",
    "\n",
    "# 각 정보의 인덱스\n",
    "ID_INDEX = 0\n",
    "AGE_INDEX = 1\n",
    "PHONE_INDEX = 2\n",
    "GENDER_INDEX = 3\n",
    "LOCATION_INDEX = 4\n",
    "PURCHASE_COUNT_INDEX = 5\n",
    "\n",
    "# 데이터를 딕셔너리 형식으로 변환\n",
    "customer_list = []\n",
    "for i in range(0, len(data_list), 6): # 6개씩 넘어가면서 데이타 기록\n",
    "    temp_dict = {\n",
    "        '아이디': data_list[i + ID_INDEX],\n",
    "        '나이': data_list[i + AGE_INDEX],\n",
    "        '전화번호': '000-0000-000' if data_list[i + PHONE_INDEX] == 'x' else data_list[i + PHONE_INDEX],\n",
    "        '성별': data_list[i + GENDER_INDEX],\n",
    "        '지역': data_list[i + LOCATION_INDEX],\n",
    "        '구매횟수': int(data_list[i + PURCHASE_COUNT_INDEX]),\n",
    "        'VIP': '해당' if int(data_list[i + PURCHASE_COUNT_INDEX])>=8 and data_list[i + PHONE_INDEX] != 'x' else '미해당'\n",
    "    }\n",
    "    customer_list.append(temp_dict)\n",
    "\n",
    "\n",
    "for customer in customer_list:\n",
    "    if customer['VIP'] == '해당':\n",
    "        print(f\"할인쿠폰을 받을 회원정보 아이디:{customer['아이디']}, 나이:{customer['나이']}, 전화번호:{customer['전화번호']}, 성별:{customer['성별']}, 지역:{customer['지역']}, 구매횟수:{customer['구매횟수']}\")\n",
    "\n",
    "\n"
   ],
   "metadata": {
    "id": "6G7pMnadyh_Q",
    "colab": {
     "base_uri": "https://localhost:8080/"
    },
    "outputId": "93338398-2d93-4267-d9f1-3214cab9fa9a"
   },
   "execution_count": null,
   "outputs": [
    {
     "output_type": "stream",
     "name": "stdout",
     "text": [
      "할인쿠폰을 받을 회원정보 아이디:aab, 나이:23세, 전화번호:010-3333-1111, 성별:여자, 지역:경기, 구매횟수:10\n"
     ]
    }
   ]
  }
 ]
}
