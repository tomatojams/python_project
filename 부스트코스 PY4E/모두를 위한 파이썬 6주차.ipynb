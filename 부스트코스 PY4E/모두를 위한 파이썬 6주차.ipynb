{
 "nbformat": 4,
 "nbformat_minor": 0,
 "metadata": {
  "colab": {
   "provenance": []
  },
  "kernelspec": {
   "name": "python3",
   "language": "python",
   "display_name": "Python 3 (ipykernel)"
  },
  "language_info": {
   "name": "python"
  }
 },
 "cells": [
  {
   "cell_type": "markdown",
   "source": [
    "클래스 형식에서 두가지 문자열의 자료형을 넣으면 공통된 부분은 카운트하고, 다른부분도 카운트해서 공통된 부분의 목록을 나열해주는 메소드로 만들어본다."
   ],
   "metadata": {
    "id": "YjMZ5HfX6NXZ"
   }
  },
  {
   "cell_type": "code",
   "source": [
    "class KoreanMonarchs:\n",
    "    \"\"\"\n",
    "    고려와 조선 시대의 한국 군주들을 비교합니다.\n",
    "    공통된 군주들을 찾고, 그 이름을 출력하고 갯수를 카운트하는 메소드를 제공합니다.\n",
    "    \"\"\"\n",
    "\n",
    "    def __init__(self, korea_king_str, chosun_king_str):\n",
    "        \"\"\"\n",
    "        한국 군주 이름들을 나타내는 두 개의 문자열로 KoreanMonarchs 클래스를 초기화\n",
    "\n",
    "        :param korea_king_str: 고려 시대의 한국 군주 이름들을 쉼표로 구분한 문자열입니다.\n",
    "        :param chosun_king_str: 조선 시대의 한국 군주 이름들을 쉼표로 구분한 문자열입니다.\n",
    "        \"\"\"\n",
    "        self.korea_king = korea_king_str.split(',')\n",
    "        self.chosun_king = chosun_king_str.split(',')\n",
    "        self.common_king = self._find_common_kings()\n",
    "\n",
    "    def _find_common_kings(self):\n",
    "        \"\"\"\n",
    "        고려와 조선 시대에 공통된 군주들을 찾습니다.\n",
    "\n",
    "        :return: 공통된 군주 이름을 키로, 그 발생 횟수를 값으로 갖는 사전을 반환합니다.\n",
    "        \"\"\"\n",
    "        common_king = {}\n",
    "        for king in self.korea_king:\n",
    "            if king in self.chosun_king:\n",
    "                common_king[king] = common_king.get(king, 0) + 1\n",
    "        return common_king\n",
    "\n",
    "    def print_common_kings(self):\n",
    "        \"\"\"\n",
    "        고려와 조선 시대에 공통된 군주들의 이름을 출력합니다.\n",
    "        \"\"\"\n",
    "        print('조선과 고려에 모두 있는 왕들은', end=' ')\n",
    "        for index, king in enumerate(self.common_king.keys()):\n",
    "            if index == len(self.common_king) - 1:\n",
    "                print(king, end=' ')\n",
    "                break\n",
    "            print(king, end=', ')\n",
    "        print('입니다.')\n",
    "\n",
    "    def print_common_king_count(self):\n",
    "        \"\"\"\n",
    "        고려와 조선 시대에 공통된 군주의 수를 출력합니다.\n",
    "        \"\"\"\n",
    "        print(f'조선과 고려에 모두 있는 왕의 이름은 총 {len(self.common_king)} 분입니다.')\n",
    "\n",
    "    def __str__(self):\n",
    "        \"\"\"\n",
    "        클래스의 인스턴스를 문자열로 변환하여 출력합니다.\n",
    "        \"\"\"\n",
    "        return str(self.common_king)\n",
    "\n",
    "\n",
    "KOREA_KING = \"태조,혜종,정종,광종,경종,성종,목종,현종,덕종,정종,문종,순종,선종,헌종,숙종,예종,인종,의종,명종,신종,희종,강종,고종,원조,충렬왕,충선왕,충숙왕,충혜왕,충목왕,충정왕,공민왕,우왕,창왕,공양왕\"\n",
    "CHOSUN_KING = \"태조,정종,태종,세종,문종,단종,세조,예종,성종,연산군,중종,인종,명종,선조,광해군,인조,효종,현종,숙종,경종,영조,정조,순조,헌종,철종,고종,순종\"\n",
    "\n",
    "monarchs = KoreanMonarchs(KOREA_KING, CHOSUN_KING)\n",
    "monarchs.print_common_kings()\n",
    "monarchs.print_common_king_count()\n",
    "print(monarchs)\n"
   ],
   "metadata": {
    "colab": {
     "base_uri": "https://localhost:8080/"
    },
    "id": "FRast4Xa-KXh",
    "outputId": "77605f68-81dc-4552-b140-be889437bfbd",
    "ExecuteTime": {
     "end_time": "2023-08-20T00:19:22.750310500Z",
     "start_time": "2023-08-20T00:19:22.731306100Z"
    }
   },
   "execution_count": 1,
   "outputs": [
    {
     "name": "stdout",
     "output_type": "stream",
     "text": [
      "조선과 고려에 모두 있는 왕들은 태조, 정종, 경종, 성종, 현종, 문종, 순종, 헌종, 숙종, 예종, 인종, 명종, 고종 입니다.\n",
      "조선과 고려에 모두 있는 왕의 이름은 총 13 분입니다.\n",
      "{'태조': 1, '정종': 2, '경종': 1, '성종': 1, '현종': 1, '문종': 1, '순종': 1, '헌종': 1, '숙종': 1, '예종': 1, '인종': 1, '명종': 1, '고종': 1}\n"
     ]
    }
   ]
  },
  {
   "cell_type": "markdown",
   "source": [
    "✅ ⚡  문제해결방식:\n",
    "\n",
    "1. JSON 형식의 자료형으로 가공<br>\n",
    "문제와같이 다수의 리스트를 가공하는 로직을 통해 보너스 여부와 면담여부를 그때그때 출력하는 것은, 필요한 데이타를 얻기위해 출력시 연산리소스를 소모하고, 그로인해 출력을 지연하게 만드는 요인이 됩니다.\n",
    " 그뿐 아니라 문제발생시 기초자료형과 결과사이의 코드를 추적해봐야하는 복잡함이 발생할 수 있다고 여겨집니다. 따라서, 딕션어리를 활용해 자료형만봐도 어떠한 내용인지 일목요연하게 미리 기록해두는 것이 유지보수 관리나, 요하는 출력의 즉각성에 측면에서 더 유용한경우가 많다고 여겨지고, 가공하는 프로그램 로직에 신경쓰지 않도록 결과값을 특정 자료형으로 완성해두는것이 더 유용하다고 여겨집니다. 따라서, 딕션어리 자료형에 필요한 항목을  모두 담는 JSON 형식의 자료형을 만드는 방향으로 작성을 했습니다.\n",
    "\n",
    "2. 클래스화로 자료형에 메소드추가\n",
    "JSON 형식의 자료형에 원하는 결과를 추출하기위해서 '보너스대상자'와 면담대상자를 출력하는 메소드를 추가하고 이를 클래스로 표현합니다.\n",
    "\n",
    "3. (⚡기능추가)\n",
    "클래스로 만든이후 일일히 클래스의 내부 자료형에 접근하기보다는 클래스자체를 자료형처럼 다룰수있는 것이 더 편리하다고 여겨집니다. 파이썬에서는 매직메소드라는것을 제공해서 출력을 위한 str이나 자료형처럼 다룰수있는 iter,next라는 메소드를 제공하므로 JSON자료형의 특징을 그대로 살릴수있도록 이러한 메소드를 활용합니다.\n"
   ],
   "metadata": {
    "id": "Ys4bYmYqwxBy"
   }
  },
  {
   "cell_type": "code",
   "source": [
    "import numpy as np\n",
    "\n",
    "class SalesAnalyzed:\n",
    "    \"\"\"\n",
    "    판매원의 세일즈 기록을 분석하고 결과를 출력하는 기능.\n",
    "    \"\"\"\n",
    "\n",
    "    def __init__(self, names:list, records:list):\n",
    "        \"\"\"\n",
    "        SalesAnalyzer 클래스를 초기화.\n",
    "\n",
    "        :Args\n",
    "            names: 판매원 이름 리스트.\n",
    "            records: 각 판매원의 세일즈 기록 리스트\n",
    "        \"\"\"\n",
    "        self.names = names\n",
    "        self.records = records\n",
    "        self.result_of_sales = self._calculate_sales_results()\n",
    "        self.index = 0\n",
    "\n",
    "    def _calculate_sales_results(self):\n",
    "        \"\"\"\n",
    "        JSON 형태의 자료형(딕셔너리 리스트)으로 자료를 리턴\n",
    "        \"\"\"\n",
    "        result = []\n",
    "        sorted_indices = np.argsort([-np.mean(sales) for sales in self.records])  # 세일즈 평균 내림차순 정렬\n",
    "        for rank, index in enumerate(sorted_indices):\n",
    "            mean_of_sales = np.mean(self.records[index]).round(1)\n",
    "            result.append({\n",
    "                '이름': self.names[index],\n",
    "                '세일즈 평균': mean_of_sales,\n",
    "                '보너스': '합격' if mean_of_sales > 5 and rank <= 2 else '불합격',\n",
    "                '면담': '대상자' if mean_of_sales <= 3 and rank > 4 else '필요없음',\n",
    "                '등수': rank + 1\n",
    "            })\n",
    "        return result\n",
    "\n",
    "    def bonus_passed_members(self):\n",
    "        \"\"\"\n",
    "        보너스 합격인 판매원의 이름을 출력합니다.\n",
    "        \"\"\"\n",
    "        print('보너스 합격인 사람 목록:')\n",
    "        for member in self.result_of_sales:\n",
    "            if member['보너스'] == '합격':\n",
    "                print(member['이름'])\n",
    "\n",
    "    def interview_candidates(self):\n",
    "        \"\"\"\n",
    "        면담 대상자의 이름을 출력합니다.\n",
    "        \"\"\"\n",
    "        print('면담 대상자 목록:')\n",
    "        for member in self.result_of_sales:\n",
    "            if member['면담'] == '대상자':\n",
    "                print(member['이름'])\n",
    "\n",
    "    def __str__(self):\n",
    "        \"\"\"\n",
    "        클래스의 인스턴스를 문자열로 변환하여 출력합니다.\n",
    "        \"\"\"\n",
    "        return str(self.result_of_sales)\n",
    "\n",
    "    def __iter__(self):\n",
    "        \"\"\"\n",
    "        클래스의 인스턴스를 iterable로 만들기 위한 메소드\n",
    "        \"\"\"\n",
    "        return self\n",
    "\n",
    "    def __next__(self):\n",
    "        \"\"\"\n",
    "        다음 값을 반환하는 메소드\n",
    "        \"\"\"\n",
    "        if self.index < len(self.result_of_sales):\n",
    "            result = self.result_of_sales[self.index]\n",
    "            self.index += 1\n",
    "            return result\n",
    "        raise StopIteration\n",
    "\n",
    "\n",
    "MEMBER_NAMES = [\"갑돌이\", \"갑순이\", \"을돌이\", \"을순이\", \"병돌이\", \"병순이\"]\n",
    "MEMBER_RECORDS = [\n",
    "    [4, 5, 3, 5, 6, 5, 3, 4, 1, 3, 4, 5],\n",
    "    [2, 3, 4, 3, 1, 2, 0, 3, 2, 5, 7, 2],\n",
    "    [1, 3, 0, 3, 3, 4, 5, 6, 7, 2, 2, 1],\n",
    "    [3, 2, 9, 2, 3, 5, 6, 6, 4, 6, 9, 9],\n",
    "    [8, 7, 7, 5, 6, 7, 5, 8, 8, 6, 10, 9],\n",
    "    [7, 8, 4, 9, 5, 10, 3, 3, 2, 2, 1, 3]\n",
    "]\n",
    "\n",
    "sales_result = SalesAnalyzed(MEMBER_NAMES, MEMBER_RECORDS)\n",
    "sales_result.bonus_passed_members()\n",
    "sales_result.interview_candidates()\n",
    "\n",
    "for result in sales_result:\n",
    "    print(result)\n"
   ],
   "metadata": {
    "colab": {
     "base_uri": "https://localhost:8080/"
    },
    "id": "LzGyo11n_eXm",
    "outputId": "2cac7d14-45e6-472d-af3e-290e50b75c53"
   },
   "execution_count": 55,
   "outputs": [
    {
     "output_type": "stream",
     "name": "stdout",
     "text": [
      "보너스 합격인 사람 목록:\n",
      "병돌이\n",
      "을순이\n",
      "면담 대상자 목록:\n",
      "갑순이\n",
      "{'이름': '병돌이', '세일즈 평균': 7.2, '보너스': '합격', '면담': '필요없음', '등수': 1}\n",
      "{'이름': '을순이', '세일즈 평균': 5.3, '보너스': '합격', '면담': '필요없음', '등수': 2}\n",
      "{'이름': '병순이', '세일즈 평균': 4.8, '보너스': '불합격', '면담': '필요없음', '등수': 3}\n",
      "{'이름': '갑돌이', '세일즈 평균': 4.0, '보너스': '불합격', '면담': '필요없음', '등수': 4}\n",
      "{'이름': '을돌이', '세일즈 평균': 3.1, '보너스': '불합격', '면담': '필요없음', '등수': 5}\n",
      "{'이름': '갑순이', '세일즈 평균': 2.8, '보너스': '불합격', '면담': '대상자', '등수': 6}\n"
     ]
    }
   ]
  },
  {
   "cell_type": "code",
   "source": [
    "stocks = \"삼성전자/10/85000,카카오/15/130000,LG화학/3/820000,NAVER/5/420000\"\n",
    "sells = [82000, 160000, 835000, 410000]\n",
    "\n",
    "\n",
    "class StockAnalyzed:\n",
    "    \"\"\"\n",
    "    수익율 분석하는 클래스\n",
    "    \"\"\"\n",
    "\n",
    "    def __init__(self, stocks_str, sells_list):\n",
    "        \"\"\"\n",
    "        클래스를 초기화.\n",
    "\n",
    "        :Args\n",
    "\n",
    "        \"\"\"\n",
    "        self.stocks = st\n",
    "        self.records = records\n",
    "        self.result_of_sales = self._calculate_sales_results()\n",
    "        self.index = 0"
   ],
   "metadata": {
    "id": "fnh6m22d30Oj"
   },
   "execution_count": null,
   "outputs": []
  }
 ]
}
