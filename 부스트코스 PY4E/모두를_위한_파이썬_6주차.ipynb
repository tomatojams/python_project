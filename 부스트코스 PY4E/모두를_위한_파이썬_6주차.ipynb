{
  "nbformat": 4,
  "nbformat_minor": 0,
  "metadata": {
    "colab": {
      "provenance": []
    },
    "kernelspec": {
      "name": "python3",
      "display_name": "Python 3"
    },
    "language_info": {
      "name": "python"
    }
  },
  "cells": [
    {
      "cell_type": "markdown",
      "source": [
        "# **6주차 l 미션**\n",
        "미션 목적 - 튜플과 딕셔너리 자료형의 이해와 활용\n",
        "\n",
        " ✨  미션참가자: 토마토_리더, 이수빈, 하윤, eunv ✨"
      ],
      "metadata": {
        "id": "rkDf0g9tcHqD"
      }
    },
    {
      "cell_type": "markdown",
      "source": [
        "## 📌Q1. 우리나라 역사에는 다양한 왕들이 있었습니다. 특히, 고려시대와 조선시대를 보면 몇몇의 왕 이름이 같은 것을 알 수 있는데요, 이번 문제에서는 고려시대와 조선시대의 왕 이름 중에서 두 시대에 모두 사용된 이름이 몇 개인지 알아보려 합니다. 다음의 조건을 만족하는 파이썬 프로그램을 만들어 중복된 이름은 몇 개인지 알아봅시다! [난이도 : ⭐️⭐️⭐️/5]\n",
        "\n",
        "\n",
        "\n",
        "<출력 조건>\n",
        "\n",
        "1. 중복되는 왕 이름 목록\n",
        "2. 중복되는 왕 이름의 수"
      ],
      "metadata": {
        "id": "a6H_ubYgcZOF"
      }
    },
    {
      "cell_type": "markdown",
      "source": [
        "✅ ⚡  개선하려고 노력한 포인트:\n",
        "\n",
        "1. 주어진 자료에 대한 수정 <br>\n",
        "과제의 왕의 명칭(성호)는, 한글 독음으로, 같은 왕조에도 같은 독음을 가진 경우도 있었습니다.그래서 동일한 성호라는 면에서,한자를 찾아 미션의자료형을 추가,수정했음을 양해해주시기 바랍니다. 예> 태조(太祖), 혜종(惠宗), 정종(定宗),\n",
        "\n",
        "2.  자료형 결정<br>\n",
        "이번주 자료의 내용은 왕조와 성호(이름) 입니다. 왕의 성호는 고유명사로 수정해서는 안되는 자료형이고 '왕조','독음','한자','순서' 의 여러 속성으로 표현합니다. 따라서, namedtuple 이라는 immutable(수정불가능)이고  클래스처럼 접근용이한 여러속성을 가지는 자료형을 사용하는것이 적절하다고 여겨졌습니다.\n",
        "클래스로 자료형을 만들어 사용하지 않은 것은 수정불가능과 접근용이성이라는 면에서 namedtuple 선언이 자료형 사용목적을 파악하는데에 좀더 명백하다고 여겨졌기 때문입니다.\n",
        "  * 선언 King = namedtuple('King', ['성호', '한자', '왕조', '순서'])\n",
        "  * 인스턴스 King(성호='혜종', 한자='惠宗', 왕조='고려', 순서='2대')\n",
        "\n",
        "3. ⚡(기능추가)\n",
        "가공결과 나오는 공통된 성호의 경우, 고려와 조선 각각 몇대인지 확인할수있게 네임드튜플을 구성합니다.<br>\n",
        "    * King(성호='경종', 한자='純宗', 왕조='공통', 순서=`'고려5대,조선20대'`)\n",
        "\n",
        "4.  class를 이용한 모듈화<br>\n",
        "이번주는 Aden코치님의 조언에 따라 class를 사용해 모듈화를 진행해볼 생각입니다. 그렇다면, class를 쓸때 자료를 다루는데있어서 이유와 장점이 명확해야 겠다는 생각이 들었습니다.\n",
        " * 내부적으로만 사용되는 변수나 함수는 private member로 설정해 자료형을 보호합니다.\n",
        " * 함수와  자료형을 따로 사용할 필요없이, 잘 조립된 클래스의 인스턴스 생성으로 자료형의 변환과 생성모두 이뤄지며 그 자료형의 접근을 인스턴스의 이름만으로 간단히 접근하고, 인스턴스자체가 인덱싱과 슬라이싱이 가능하도록해 클래스사용의 장점을 최대한 활용해봅니다.\n",
        "\n",
        "\n",
        "5. ⚡(기능추가) \\_\\_getitem\\_\\_ 매직메서드 활용<br>\n",
        "처음에는 공통된 왕을 출력하는 메서드를 추가했었으나,파이썬에는 인스턴스자체를 자료형처럼 다룰수있는 다양한 매직메소드라는것이 있다고합니다. 따라서 이번기회에 클래스를 사용하면서 클래스자체를 자료형처럼 검색하거나 출력하고 슬라이싱하는등  매직매소드를 사용해서 클래스를 사용하는 장점들을 포함해보고자 합니다.\n",
        "\n",
        "    * 클래스를 리스트처럼 다룰수있게 \\_\\_getitem\\_\\_ 을 이용해 인덱싱 및  슬라이싱을 지원하게 합니다.\n",
        "\n",
        "    * 인스턴스를 kings라고 하면 kings[0] 은 고려왕 리스트를 나타내고  kings[2]은 공통된 왕들을 나타냅니다. 편의성을 위해  kings['고려'] kings['공통']또한 사용가능하도록 합니다.\n",
        "\n",
        "    * kings[0][1] 또는 kings['고려'][1] 이라고 하면 고려의 둘째왕의 namedtuple을 나타내고 kings[2][:3] 이러한 슬라이싱도 사용할수있습니다.\n",
        "\n",
        "    * 따라서 공통된 왕들의 숫자는 len(kings[2])이렇게 인스턴스의 크기를 구하면 되므로 클래스를 자료형처럼 간단하게 다룰수있습니다 .\n",
        "\n",
        "6. ⚡(기능추가) 클래스 정보출력<br>\n",
        "    * \\_\\_str\\_\\_ 매직메소드를 활용해 인스턴스의 정보를 출력하게 합니다.<br>\n",
        "    * \\_\\_len\\_\\_  고려,조선, 공통 왕들의 수를 합한 값을 출력합니다.(모든 namedtuple의 크기)\n"
      ],
      "metadata": {
        "id": "YjMZ5HfX6NXZ"
      }
    },
    {
      "cell_type": "code",
      "source": [
        "KOREA_KING = (\"태조(太祖), 혜종(惠宗), 정종(定宗), 광종(光宗), 경종(景宗), 성종(成宗),\"\n",
        "              \"목종(穆宗), 현종(顯宗), 덕종(德宗), 정종(定宗), 문종(文宗), 순종(順宗),\"\n",
        "              \"선종(宣宗), 헌종(憲宗), 숙종(肅宗), 예종(睿宗), 인종(仁宗), 의종(義宗),\"\n",
        "              \"명종(明宗), 신종(神宗), 희종(僖宗), 강종(康宗), 고종(孤宗), 원조(元祖),\"\n",
        "              \"충렬왕(忠烈王), 충선왕(忠宣王), 충숙왕(忠肅王), 충혜왕(忠惠王),\"\n",
        "              \"충목왕(忠穆王), 충정왕(忠定王), 공민왕(恭愍王), 우왕(宇王), 창왕(昌王),\"\n",
        "              \"공양왕(恭讓王)\")\n",
        "\n",
        "CHOSUN_KING = (\"태조(太祖), 정종(正宗), 태종(太宗), 세종(世宗), 문종(文宗), 단종(端宗),\"\n",
        "               \"세조(世祖), 예종(睿宗), 성종(成宗), 연산군(延山君), 중종(中宗), 인종(仁宗),\"\n",
        "               \"명종(明宗), 선조(宣祖), 광해군(光海君), 인조(仁宗), 효종(孝宗), 현종(顯宗),\"\n",
        "               \"숙종(肅宗), 경종(景宗), 영조(英祖), 정조(正祖), 순조(純祖), 헌종(憲宗),\"\n",
        "               \"철종(哲宗), 고종(孤宗), 순종(純宗)\")\n",
        "\n",
        "\n",
        "from collections import namedtuple\n",
        "\n",
        "# 왕 정보를 담는 namedtuple 정의\n",
        "King = namedtuple('King', ['성호', '한자', '왕조', '순서'])\n",
        "\n",
        "class KoreanMonarchs:\n",
        "    \"\"\"\n",
        "    KoreanMonarchs 클래스는 고려와 조선 왕들의 정보를 저장하고 관리하는 클래스입니다.\n",
        "\n",
        "    Attributes:\n",
        "        korea_king (list): 고려 왕들의 정보를 담은 리스트.\n",
        "        chosun_king (list): 조선 왕들의 정보를 담은 리스트.\n",
        "        common_king_namedtuple (list): 고려와 조선에서 공통으로 나타난 왕들의 정보를 담은 리스트.\n",
        "\n",
        "    Methods:\n",
        "        find_common_kings(): 고려와 조선에서 공통으로 나타난 왕들의 정보를 찾아 딕셔너리로 반환\n",
        "\n",
        "        __str__(): 객체를 문자열로 표현하는 메서드로, 고려, 조선, 공통 왕들의 수를 반환합니다.\n",
        "\n",
        "        __getitem__(position): 인덱스나 슬라이스를 이용하여 korea_king, chosun_king, common_king_namedtuple에 접근합니다.\n",
        "\n",
        "        __len__(): 고려, 조선, 공통 왕들의 수를 합친 값을 반환\n",
        "    \"\"\"\n",
        "\n",
        "    def __init__(self, korea_king_str, chosun_king_str):\n",
        "        self.korea_king = []\n",
        "        for index, data in enumerate(korea_king_str.split(','), start=1):\n",
        "            hangul, hanja_space = data.strip().split('(')\n",
        "            hanja = hanja_space.rstrip(')').strip()\n",
        "            self.korea_king.append(King(hangul, hanja, \"고려\", f\"{index}대\")) # namedtuple 추가\n",
        "\n",
        "        self.chosun_king = []\n",
        "        for index, data in enumerate(chosun_king_str.split(','), start=1):\n",
        "            hangul, hanja_space = data.strip().split('(')\n",
        "            hanja = hanja_space.rstrip(')').strip()\n",
        "            self.chosun_king.append(King(hangul, hanja, \"조선\", f\"{index}대\"))\n",
        "\n",
        "        self.__common_king = self.__find_common_kings() # 외부에서 접근할 필요가 없으므로 private member로 설정\n",
        "        self.common_king_namedtuple = [King(name, hanja, \"공통\", f\"고려{korea_index}대,조선{chosun_index}대\") for name, (korea_index, chosun_index) in self.__common_king.items()]\n",
        "\n",
        "\n",
        "    def __find_common_kings(self): # 내부에서만 사용되므로 private로 설정\n",
        "        \"\"\"\n",
        "        고려와 조선에서 공통으로 나타난 왕들의 정보를 찾아 딕셔너리로 반환\n",
        "\n",
        "        Returns:\n",
        "            dict: 고려와 조선에서 공통으로 나타난 왕들의 정보를 담은 딕셔너리.\n",
        "        \"\"\"\n",
        "        common_king = {}\n",
        "        for korea_index, korea_monarch in enumerate(self.korea_king, start=1):\n",
        "            for chosun_index, chosun_monarch in enumerate(self.chosun_king, start=1):\n",
        "                if korea_monarch.성호 == chosun_monarch.성호 and korea_monarch.한자 == chosun_monarch.한자:\n",
        "                    common_king[korea_monarch.성호] = (f\"{korea_index}\", f\"{chosun_index}\")\n",
        "        return common_king\n",
        "\n",
        "    def __str__(self):\n",
        "        \"\"\"\n",
        "        문자열로 표현하는 메서드입니다.\n",
        "\n",
        "        Returns:\n",
        "            str: 고려, 조선, 공통 왕들의 수를 나타내는 문자열.\n",
        "        \"\"\"\n",
        "        korea_king_count = len(self.korea_king)\n",
        "        chosun_king_count = len(self.chosun_king)\n",
        "        common_king_count = len(self.common_king_namedtuple)\n",
        "\n",
        "        return f\"고려왕은 {korea_king_count}분이고 조선왕은 {chosun_king_count}분이며 공통된 왕의 성호는 {common_king_count}분입니다.\"\n",
        "\n",
        "    def __getitem__(self, position):\n",
        "        \"\"\"\n",
        "        인덱스나 슬라이스를 이용하여 korea_king, chosun_king, common_king_namedtuple에 접근합니다.\n",
        "\n",
        "        Args:\n",
        "            position (int or str): 접근하고자 하는 리스트의 인덱스 또는 왕조 이름.\n",
        "\n",
        "        Returns:\n",
        "            list or namedtuple list: korea_king, chosun_king, common_king_namedtuple 중 하나의 리스트 또는 그들의 슬라이스.\n",
        "\n",
        "        Raises:\n",
        "            IndexError: 유효하지 않은 인덱스를 입력한 경우 발생하는 예외.\n",
        "        \"\"\"\n",
        "        if position == 0 or position == '고려':\n",
        "            return self.korea_king\n",
        "        elif position == 1 or position == '조선':\n",
        "            return self.chosun_king\n",
        "        elif position == 2 or position == '공통':\n",
        "            return self.common_king_namedtuple\n",
        "        else:\n",
        "            raise IndexError(\"Index out of range\")\n",
        "\n",
        "\n",
        "    def __len__(self):\n",
        "        \"\"\"\n",
        "\n",
        "        Returns:\n",
        "            int: 고려, 조선, 공통 왕들의 수를 합친 값.\n",
        "        \"\"\"\n",
        "        return(len(self.korea_king)+len(self.chosun_king)+len(self.common_king_namedtuple))\n",
        "\n",
        "if __name__ =='__main__':\n",
        "    monarchs = KoreanMonarchs(KOREA_KING, CHOSUN_KING)\n",
        "\n",
        "    # 인덱싱 및 슬라이싱으로 접근하여 출력\n",
        "\n",
        "    print(\"공통 왕들:\", [king.성호 for king in monarchs[2]])\n",
        "    print(\"고려의 두번째 왕:\", monarchs[0][1])\n",
        "    print(f'조선과 고려에 모두 있는 왕의 성호는 총{len(monarchs[2])}분입니다')\n",
        "    print(monarchs[2][:3])\n"
      ],
      "metadata": {
        "colab": {
          "base_uri": "https://localhost:8080/"
        },
        "id": "rh9015bGzt4X",
        "outputId": "3d0c1e95-8d11-4594-f1be-bf76371e66fb"
      },
      "execution_count": 98,
      "outputs": [
        {
          "output_type": "stream",
          "name": "stdout",
          "text": [
            "공통 왕들: ['태조', '경종', '성종', '현종', '문종', '헌종', '숙종', '예종', '인종', '명종', '고종']\n",
            "고려의 두번째 왕: King(성호='혜종', 한자='惠宗', 왕조='고려', 순서='2대')\n",
            "조선과 고려에 모두 있는 왕의 성호는 총11분입니다\n",
            "[King(성호='태조', 한자='純宗', 왕조='공통', 순서='고려1대,조선1대'), King(성호='경종', 한자='純宗', 왕조='공통', 순서='고려5대,조선20대'), King(성호='성종', 한자='純宗', 왕조='공통', 순서='고려6대,조선9대')]\n"
          ]
        }
      ]
    },
    {
      "cell_type": "markdown",
      "source": [
        "## 📌Q2. 여러분은 영업팀의 영업관리자로서, 6명의 팀 멤버를 지휘하고 있습니다. 얼마 전, 상반기가 종료되어 멤버들의 실적을 평가할 시기가 다가왔습니다. 실적을 기준으로 잘한 멤버에게는 보너스를 주고, 성과가 부족한 멤버에게는 면담을 진행하여 개선을 도모하려고 합니다. 이를 조금 더 편리하게 하기 위해 파이썬을 이용해 함수를 만들어 볼 예정입니다. 다음 요구사항을 만족하는 프로그램을 만들고, 보너스 대상자와 면담 대상자를 구분해보세요. [난이도 : ⭐️⭐️⭐️/5]\n",
        "\n",
        "\n",
        "<요구사항>\n",
        "\n",
        "1. 보너스 대상자는 평균 실적 1등과 2등 입니다.\n",
        "2. 면담 대상자는 평균 실적 5등과 6등 입니다.\n",
        "3. 보너스 대상자의 평균 실적이 5보다 크지 않으면, 보너스 대상자에서 제외됩니다.\n",
        "4. 면담 대상자의 평균 실적이 3보다 크면, 면담 대상자에서 제외됩니다."
      ],
      "metadata": {
        "id": "SFCSTeQ4cl3p"
      }
    },
    {
      "cell_type": "markdown",
      "source": [
        "✅ ⚡  개선하려고 노력한 포인트:\n",
        "\n",
        "1. 자료형의 결정 - JSON 형식의 자료형으로 가공<br>\n",
        "다수의 리스트를 가공해 보너스 여부와 면담여부를 결정할때, 그때그때 연산로직을 통해 출력하는 것은, 출력시 연산리소스를 소모하고, 그로인해 출력을 지연하게 만드는 요인이 될수있다고 여겨집니다.\n",
        " 그뿐 아니라 에러나 문제가 발생시 기초자료형과 결과사이의 코드를 추적해봐야하는 복잡함이 발생할 수 있을거라는 생각이 듭니다. 따라서, 딕션어리를 활용해 자료형만봐도 어떠한 내용인지 일목요연하게 미리 기록해두는 것이 유지보수 관리나, 출력의 즉각성에 측면에서 더 유용한경우가 많다고 여겨지고, 기초 데이타를 가공하는 프로그램 로직에 신경쓰지 않도록 결과값을 특정 자료형으로 완성해두는것이 더 유용하다고 여겨집니다. 따라서, 딕션어리의 리스트 자료형에 필요한 항목을  모두 담는 JSON 형식(List of Dictionaries)의 자료형을 만드는 방향으로 작성을 했습니다.\n",
        "\n",
        "2. 클래스화로 자료형에 메소드추가\n",
        "JSON 형식의 자료형에, 원하는 결과를 추출하기위해서 '보너스대상자'와 면담대상자를 출력하는 메소드를 추가하고 이를 클래스로 표현합니다.\n",
        "\n",
        "3. ⚡(추가기능) 매직메소드 활용<br>\n",
        "JSON 자료형은 리스트형식이므로 for문을 돌리면서 출력이 가능하도록 iterable하게 클래스자체를 자료형으로 사용할수있는 \\_\\_iter\\_\\_, \\_\\_next\\_\\_라는 매직메소드를 활용합니다.\n",
        "\n"
      ],
      "metadata": {
        "id": "Ys4bYmYqwxBy"
      }
    },
    {
      "cell_type": "code",
      "source": [
        "import numpy as np\n",
        "\n",
        "class SalesAnalyzer:\n",
        "    \"\"\"\n",
        "    판매원의 세일즈 기록을 분석하고 결과를 출력하는 기능.\n",
        "    \"\"\"\n",
        "\n",
        "    def __init__(self, names:list, records:list):\n",
        "        \"\"\"\n",
        "        SalesAnalyzer 클래스를 초기화.\n",
        "\n",
        "        :Args\n",
        "            names: 판매원 이름 리스트.\n",
        "            records: 각 판매원의 세일즈 기록 리스트\n",
        "        \"\"\"\n",
        "        self.names = names\n",
        "        self.records = records\n",
        "        self.result_of_sales = self._calculate_sales_results()\n",
        "        self.index = 0\n",
        "\n",
        "    def _calculate_sales_results(self):\n",
        "        \"\"\"\n",
        "        JSON 형태의 자료형(딕셔너리 리스트)으로 자료를 리턴\n",
        "        \"\"\"\n",
        "        result = []\n",
        "        sorted_indices = np.argsort([-np.mean(sales) for sales in self.records])  # 세일즈 평균 내림차순 정렬\n",
        "        for rank, index in enumerate(sorted_indices):\n",
        "            mean_of_sales = np.mean(self.records[index]).round(1)\n",
        "            result.append({\n",
        "                '이름': self.names[index],\n",
        "                '세일즈 평균': mean_of_sales,\n",
        "                '보너스': '합격' if mean_of_sales > 5 and rank <= 2 else '불합격',\n",
        "                '면담': '대상자' if mean_of_sales <= 3 and rank > 4 else '필요없음',\n",
        "                '등수': rank + 1\n",
        "            })\n",
        "        return result\n",
        "\n",
        "    def bonus_members(self):\n",
        "        \"\"\"\n",
        "        보너스 합격인 판매원의 이름을 출력합니다.\n",
        "        \"\"\"\n",
        "        print('♧보너스 합격인 사람 목록:')\n",
        "        for member in self.result_of_sales:\n",
        "            if member['보너스'] == '합격':\n",
        "                print(member['이름'])\n",
        "        print()\n",
        "    def interview_members(self):\n",
        "        \"\"\"\n",
        "        면담 대상자의 이름을 출력합니다.\n",
        "        \"\"\"\n",
        "        print('♣면담 대상자 목록:')\n",
        "        for member in self.result_of_sales:\n",
        "            if member['면담'] == '대상자':\n",
        "                print(member['이름'])\n",
        "        print()\n",
        "\n",
        "    def __str__(self):\n",
        "        \"\"\"\n",
        "        클래스의 인스턴스를 문자열로 변환하여 출력합니다.\n",
        "        \"\"\"\n",
        "        return str(self.result_of_sales)\n",
        "\n",
        "    def __iter__(self):\n",
        "        \"\"\"\n",
        "        클래스의 인스턴스를 iterable로 만들기 위한 메소드\n",
        "        \"\"\"\n",
        "        return self\n",
        "\n",
        "    def __next__(self):\n",
        "        \"\"\"\n",
        "        다음 값을 반환하는 메소드\n",
        "        \"\"\"\n",
        "        if self.index < len(self.result_of_sales):\n",
        "            result = self.result_of_sales[self.index]\n",
        "            self.index += 1\n",
        "            return result\n",
        "        raise StopIteration\n",
        "\n",
        "\n",
        "MEMBER_NAMES = [\"갑돌이\", \"갑순이\", \"을돌이\", \"을순이\", \"병돌이\", \"병순이\"]\n",
        "MEMBER_RECORDS = [\n",
        "    [4, 5, 3, 5, 6, 5, 3, 4, 1, 3, 4, 5],\n",
        "    [2, 3, 4, 3, 1, 2, 0, 3, 2, 5, 7, 2],\n",
        "    [1, 3, 0, 3, 3, 4, 5, 6, 7, 2, 2, 1],\n",
        "    [3, 2, 9, 2, 3, 5, 6, 6, 4, 6, 9, 9],\n",
        "    [8, 7, 7, 5, 6, 7, 5, 8, 8, 6, 10, 9],\n",
        "    [7, 8, 4, 9, 5, 10, 3, 3, 2, 2, 1, 3]\n",
        "]\n",
        "\n",
        "\n",
        "if __name__ =='__main__':\n",
        "\n",
        "    sales_result = SalesAnalyzer(MEMBER_NAMES, MEMBER_RECORDS)\n",
        "    sales_result.bonus_members()\n",
        "    sales_result.interview_members()\n",
        "\n",
        "    for result in sales_result:\n",
        "        print(result)\n"
      ],
      "metadata": {
        "colab": {
          "base_uri": "https://localhost:8080/"
        },
        "id": "LzGyo11n_eXm",
        "outputId": "75287363-5ac2-4802-f409-40d035737893"
      },
      "execution_count": 88,
      "outputs": [
        {
          "output_type": "stream",
          "name": "stdout",
          "text": [
            "♧보너스 합격인 사람 목록:\n",
            "병돌이\n",
            "을순이\n",
            "\n",
            "♣면담 대상자 목록:\n",
            "갑순이\n",
            "\n",
            "{'이름': '병돌이', '세일즈 평균': 7.2, '보너스': '합격', '면담': '필요없음', '등수': 1}\n",
            "{'이름': '을순이', '세일즈 평균': 5.3, '보너스': '합격', '면담': '필요없음', '등수': 2}\n",
            "{'이름': '병순이', '세일즈 평균': 4.8, '보너스': '불합격', '면담': '필요없음', '등수': 3}\n",
            "{'이름': '갑돌이', '세일즈 평균': 4.0, '보너스': '불합격', '면담': '필요없음', '등수': 4}\n",
            "{'이름': '을돌이', '세일즈 평균': 3.1, '보너스': '불합격', '면담': '필요없음', '등수': 5}\n",
            "{'이름': '갑순이', '세일즈 평균': 2.8, '보너스': '불합격', '면담': '대상자', '등수': 6}\n"
          ]
        }
      ]
    },
    {
      "cell_type": "markdown",
      "source": [
        "## 📌Q3. 최근 철수는 예금 금리가 낮은 현재 상황을 보고, 주식 시장에 흥미를 느끼게 되었습니다. 그래서 아래와 같이 매수한 종목들의 정보를 활용해 수익률을 계산하고 싶어졌습니다. 철수는 매수한 종목의 이름, 수량, 매수 평균 금액을 알고 있으며, 각 종목의 판매가도 확인했습니다. 이제 우리는 철수를 도와서 종목별 수익률을 계산하는 프로그램을 만들어보려고 합니다. 파이썬을 이용해 종목별 수익률을 계산하고, 수익률이 높은 순서대로 출력해보세요. (소수 둘째자리까지 출력) [난이도 : ⭐️⭐️⭐️/5]"
      ],
      "metadata": {
        "id": "-vg9xd8HfyRh"
      }
    },
    {
      "cell_type": "markdown",
      "source": [
        "✅ ⚡  개선하려고 노력한 포인트:\n",
        "\n",
        "1. Q2와 비슷하게 JSON형식으로 데이타형을 정리하는것이 가장 좋다고 여겨졌습니다.\n",
        "2. ⚡(추가기능) 입력데이타에 주수가 있기때문에 이로인한 종목별 수익/손해와 보유한 주식전부로인한 총 수익/손해를 출력하는 것이 좋다고 여겨집니다."
      ],
      "metadata": {
        "id": "avMz8r_Np59M"
      }
    },
    {
      "cell_type": "code",
      "source": [
        "# 입력 데이터\n",
        "STOCKS = \"삼성전자/10/85000,카카오/15/130000,LG화학/3/820000,NAVER/5/420000\"\n",
        "SELLS = [82000, 160000, 835000, 410000]\n",
        "\n",
        "class StockAnalyzer:\n",
        "    def __init__(self, stocks_str, sells_list):\n",
        "        self.stocks_list = stocks_str.split(',')\n",
        "        self.sells = sells_list\n",
        "        self.result = []\n",
        "        self.total_profit = 0\n",
        "        self.__analyze_stock() # 내부에서만 사용되는 함수이므로 private member로 설정\n",
        "\n",
        "    def __analyze_stock(self):\n",
        "        for i, j in zip(self.stocks_list, self.sells):\n",
        "            stock = i.split('/')\n",
        "            profit = j - int(stock[2])\n",
        "            profit_percentage = round((profit / int(stock[2])) * 100, 2)\n",
        "            profit_status = \"이익\" if profit > 0 else \"손해\"\n",
        "            profit_amount = int(stock[1]) * profit\n",
        "            self.total_profit += profit_amount\n",
        "            self.result.append({'종목': stock[0],'주수': stock[1],'매입가': stock[2],'매수가': j,'차액': profit,'수익률': profit_percentage, '이익/손해': f\"{profit_status}: {abs(profit_amount):,}원\"})\n",
        "\n",
        "    def info(self):\n",
        "        result_sorted = sorted(self.result, key=lambda x: x['수익률'], reverse=True)\n",
        "        for index, data in enumerate(result_sorted):\n",
        "            print(f\"{data['종목']}의 수익율은 {data['수익률']}%, {data['이익/손해']}\")\n",
        "\n",
        "        total_status = \"이익\" if self.total_profit > 0 else \"손해\"\n",
        "        print(f\"\\n총{total_status}: {abs(self.total_profit):,}원\")\n",
        "\n",
        "\n",
        "if __name__ =='__main__':\n",
        "    # 클래스 인스턴스 생성 및 출력\n",
        "    analyzer = StockAnalyzer(STOCKS, SELLS)\n",
        "    analyzer.info()\n"
      ],
      "metadata": {
        "colab": {
          "base_uri": "https://localhost:8080/"
        },
        "id": "fnh6m22d30Oj",
        "outputId": "0aba3c64-b40b-407f-d147-4e7ce672b1b0"
      },
      "execution_count": 90,
      "outputs": [
        {
          "output_type": "stream",
          "name": "stdout",
          "text": [
            "카카오의 수익율은 23.08%, 이익: 450,000원\n",
            "LG화학의 수익율은 1.83%, 이익: 45,000원\n",
            "NAVER의 수익율은 -2.38%, 손해: 50,000원\n",
            "삼성전자의 수익율은 -3.53%, 손해: 30,000원\n",
            "\n",
            "총이익: 415,000원\n"
          ]
        }
      ]
    },
    {
      "cell_type": "markdown",
      "source": [
        "## 📌 Q4. 여러분은 온라인 쇼핑몰을 운영하는 사장님입니다. 상품을 많이 구매해주신 VIP 회원 분들께 감사의 마음을 전하기 위해 이달의 할인 쿠폰을 제공하려고 하는데요, 업무 효율을 높이기 위해 파이썬 프로그래밍을 이용해 회원을 구분하고자 합니다. 아래와 같은 회원 정보가 있을 때, 할인 쿠폰을 받을 VIP 회원이 누군인지 출력하는 함수를 만들어보세요. [난이도 : ⭐️⭐️⭐️/5]\n",
        "\n",
        "\n",
        "<VIP 회원 조건>\n",
        "\n",
        "1. 구매 횟수가 8회 이상인 회원\n",
        "2. 쿠폰 발행을 위한 전화번호가 있어야 함\n",
        "    - 전화번호가 없을 경우, \"000-0000-0000\"으로 출력할 것\n",
        "\n",
        "6명의 회원이고 \"아이디,나이,전화번호,성별,지역,구매횟수\" 순서로 입력되어 있음\n",
        "\n",
        "info = \"abc,21세,010-1234-5678,남자,서울,5,cdb,25세,x,남자,서울,4,bbc,30세,010-2222-3333,여자,서울,3,ccb,29세,x,여자,경기,9,dab,26세,x,남자,인천,8,aab,23세,010-3333-1111,여자,경기,10\""
      ],
      "metadata": {
        "id": "3YkYyvmAghHB"
      }
    },
    {
      "cell_type": "markdown",
      "source": [
        "✅ ⚡  개선하려고 노력한 포인트:<br>\n",
        "1. 자료형의 결정<br> 이번에는 namedtuple이나 JSON형식이아니라, 고객정보라는 변경가능한 속성을 가진 데이타라는 점을 감안해 Customer 한명이 하나의 클래스가 되도록 작성해 보려합니다.\n",
        "\n",
        "2. 그리고 CustomerList라는 클래스에 문자열을 받아서 클래스의 리스트 형태로 만들어봅니다.\n",
        "\n",
        "3. add_customer라는 메소드에 고객class를 추가할수있는 기능을 만듭니다.\n",
        "\n",
        "4. vip회원의 경우에는 vip라는 메소드로 해당 고객class를 출력하게 합니다. 출력기능을 위해서 고객클래스는 \\_\\_str\\_\\_메서드를 활용합니다.\n",
        "\n",
        "5. 여러회원을 보유하는 리스트형식이니만큼 인덱싱과 슬라이싱을 지원하는 기능을 넣고 전체 고객의 숫자도 파악하는 기능을 매직메서드로 구현합니다.\n"
      ],
      "metadata": {
        "id": "sp-ZHYRBp60D"
      }
    },
    {
      "cell_type": "code",
      "source": [
        "class Customer:\n",
        "    def __init__(self, 아이디, 나이, 전화번호, 성별, 지역, 구매횟수):\n",
        "        self.아이디 = 아이디\n",
        "        self.나이 = 나이\n",
        "        self.전화번호 = 전화번호\n",
        "        self.성별 = 성별\n",
        "        self.지역 = 지역\n",
        "        self.구매횟수 = 구매횟수\n",
        "        self.VIP = '해당' if self.구매횟수 >= 8 and self.전화번호 != '000-0000-0000' else '미해당'\n",
        "\n",
        "    def __str__(self):\n",
        "        return f\"아이디:{self.아이디}, 나이:{self.나이}, 전화번호:{self.전화번호}, 성별:{self.성별}, 지역:{self.지역}, 구매횟수:{self.구매횟수}\"\n",
        "\n",
        "class CustomerList:\n",
        "    def __init__(self, customer_data):\n",
        "        self.customers = []\n",
        "        data_list = customer_data.split(',')\n",
        "\n",
        "        for i in range(0, len(data_list), 6):\n",
        "            아이디 = data_list[i]\n",
        "            나이 = data_list[i + 1]\n",
        "            전화번호 = '000-0000-0000' if data_list[i + 2] == 'x' else data_list[i + 2]\n",
        "            성별 = data_list[i + 3]\n",
        "            지역 = data_list[i + 4]\n",
        "            구매횟수 = int(data_list[i + 5])\n",
        "\n",
        "            self.add_customer(아이디, 나이, 전화번호, 성별, 지역, 구매횟수)\n",
        "\n",
        "    def add_customer(self, 아이디, 나이, 전화번호, 성별, 지역, 구매횟수):\n",
        "        customer = Customer(아이디, 나이, 전화번호, 성별, 지역, 구매횟수)\n",
        "        self.customers.append(customer)\n",
        "\n",
        "    def vip(self):\n",
        "        for customer in self.customers:\n",
        "            if customer.VIP == '해당':\n",
        "                print(\"할인쿠폰을 받을 회원정보\")\n",
        "                print(customer)\n",
        "                print()\n",
        "\n",
        "    def __getitem__(self, index):\n",
        "        return self.customers[index]\n",
        "\n",
        "    def __len__(self):\n",
        "        return len(self.customers)\n",
        "\n",
        "CUSTOMER_DATA = \"abc,21세,010-1234-5678,남자,서울,5,cdb,25세,x,남자,서울,4,bbc,30세,010-2222-3333,여자,서울,3,ccb,29세,x,여자,경기,9,dab,26세,x,남자,인천,8,aab,23세,010-3333-1111,여자,경기,10\"\n",
        "\n",
        "customers = CustomerList(CUSTOMER_DATA)\n",
        "\n",
        "# 인덱싱 사용\n",
        "print(customers[0])\n",
        "\n",
        "# 슬라이싱 사용\n",
        "for i in customers[2:5]:\n",
        "    print(i)\n",
        "\n",
        "customers.vip()\n",
        "\n",
        "print(f'전체회원의 수는 {len(customers)}명 입니다.')"
      ],
      "metadata": {
        "id": "6G7pMnadyh_Q",
        "colab": {
          "base_uri": "https://localhost:8080/"
        },
        "outputId": "a0453e8d-b04c-48ac-b797-09117973144f"
      },
      "execution_count": 128,
      "outputs": [
        {
          "output_type": "stream",
          "name": "stdout",
          "text": [
            "아이디:abc, 나이:21세, 전화번호:010-1234-5678, 성별:남자, 지역:서울, 구매횟수:5\n",
            "아이디:bbc, 나이:30세, 전화번호:010-2222-3333, 성별:여자, 지역:서울, 구매횟수:3\n",
            "아이디:ccb, 나이:29세, 전화번호:000-0000-0000, 성별:여자, 지역:경기, 구매횟수:9\n",
            "아이디:dab, 나이:26세, 전화번호:000-0000-0000, 성별:남자, 지역:인천, 구매횟수:8\n",
            "할인쿠폰을 받을 회원정보\n",
            "아이디:aab, 나이:23세, 전화번호:010-3333-1111, 성별:여자, 지역:경기, 구매횟수:10\n",
            "\n",
            "전체회원의 수는 6명 입니다.\n"
          ]
        }
      ]
    },
    {
      "cell_type": "markdown",
      "source": [
        "작성후기\n",
        "클래스 기능을 활용하면서 최대한 다양한 기능을 써보려고했습니다. 자료형의 경우 namedtuple, JSON형식의 딕션어리의 리스트, 그리고 클래스의 리스트로 여러가지 방식으로 활용해보고, 클래스에 편의성을 더하는 것에도 인덱싱과 슬라이싱기능을 추가하거나 iterable기능 추가에 중점을 두는등 파이썬이제공하는 클래스 편의성도 여러가지로 활용해보려고했습니다.\n",
        "\n"
      ],
      "metadata": {
        "id": "E-4gJhBmPlUY"
      }
    }
  ]
}