{
 "cells": [
  {
   "cell_type": "code",
   "execution_count": 1,
   "metadata": {
    "collapsed": true,
    "ExecuteTime": {
     "end_time": "2023-09-05T07:34:25.109577100Z",
     "start_time": "2023-09-05T07:34:23.516250700Z"
    }
   },
   "outputs": [
    {
     "name": "stdout",
     "output_type": "stream",
     "text": [
      "4단\n",
      "4 x 1 = 4\n",
      "4 x 3 = 12\n",
      "4 x 5 = 20\n",
      "4 x 7 = 28\n",
      "4 x 9 = 36\n"
     ]
    }
   ],
   "source": [
    "#Q1\n",
    "def gugudan(dan):\n",
    "    result = [f'{dan} x {2*i+1} = { dan * (2*i+1) }' for i in range(5) if dan * (2*i+1) <= 50]\n",
    "    for gugu in result:\n",
    "        print(gugu)\n",
    "\n",
    "while(True):\n",
    "    try:\n",
    "        dan = int(input('몇단을 계산할까요?'))\n",
    "    except:\n",
    "        print('숫자로 입력해주세요')\n",
    "        continue\n",
    "    print(f'{dan}단')\n",
    "    break\n",
    "\n",
    "gugudan(dan)"
   ]
  },
  {
   "cell_type": "code",
   "execution_count": 2,
   "outputs": [
    {
     "name": "stdout",
     "output_type": "stream",
     "text": [
      "\n",
      "나:보\n",
      "컴퓨터:보\n",
      "1번째판은 비겼습니다.\n",
      "\n",
      "나의 전적: 0승 1무 0패\n",
      "컴퓨터의 전적: 0승 1무 1패\n"
     ]
    }
   ],
   "source": [
    "#Q2\n",
    "import random\n",
    "\n",
    "# 가위,바위,보 입력을 받고 전적을 기록한다\n",
    "def rcp_advanced(number):\n",
    "    global results\n",
    "    results = [0,0,0]\n",
    "    # 입력\n",
    "    for count in range(number):\n",
    "        while(True):\n",
    "            try:\n",
    "                my = int(input('가위(0),바위(1),보(2)를 입력해주세요'))\n",
    "                if my < 0 or my > 2:\n",
    "                    print('0, 1, 2로만 입력해주세요')\n",
    "                    continue\n",
    "            except:\n",
    "                print('숫자로 입력해주세요')\n",
    "                continue\n",
    "            break\n",
    "        rcp(my,count)\n",
    "    # 결과출력\n",
    "    print(f'\\n나의 전적: {results[0]}승 {results[2]}무 {results[1]}패')\n",
    "    print(f'컴퓨터의 전적: {results[1]}승 {results[2]}무 {results[2]}패')\n",
    "\n",
    "# 내가 낸것을 바탕으로 게임을 진행하고 승패를 기록한다\n",
    "\n",
    "def rcp(my,count):\n",
    "    game_list =['가위','바위','보']\n",
    "    computer = random.randint(0,2)\n",
    "    print(f'\\n나:{game_list[my]}')\n",
    "    print(f'컴퓨터:{game_list[computer]}')\n",
    "\n",
    "    # 게임진행\n",
    "    if computer == my:\n",
    "        results[2] += 1\n",
    "        print(f'{count+1}번째판은 비겼습니다.')\n",
    "    elif (computer == 0 and my == 2) or (computer ==1 and my == 0) or (computer == 2 and my == 1):\n",
    "        results[1] += 1\n",
    "        print(f'{count+1}번째판 컴퓨터승리!')\n",
    "    else:\n",
    "        results[0] += 1\n",
    "        print(f'{count+1}번째판 나의승리!')\n",
    "\n",
    "\n",
    "while(True):\n",
    "    try:\n",
    "        games = int(input('몇판을 진행하시겠습니까:'))\n",
    "        if games <= 0:\n",
    "            print('양수의 정수로 입력해주세요')\n",
    "            continue\n",
    "    except:\n",
    "        print('숫자로 입력해 주세요')\n",
    "        continue\n",
    "    break\n",
    "\n",
    "rcp_advanced(games)"
   ],
   "metadata": {
    "collapsed": false,
    "ExecuteTime": {
     "end_time": "2023-09-05T07:34:35.045603900Z",
     "start_time": "2023-09-05T07:34:28.185490800Z"
    }
   }
  },
  {
   "cell_type": "code",
   "execution_count": 3,
   "outputs": [
    {
     "name": "stdout",
     "output_type": "stream",
     "text": [
      "첫번째 수 입력: 3\n",
      "두번째 수 입력: 5\n",
      "4 중앙값\n"
     ]
    }
   ],
   "source": [
    "#Q3\n",
    "def find_even_number(low, high):\n",
    "    # 중앙값등 생성\n",
    "    gab = high - low -1\n",
    "    medium = (low+high)/2\n",
    "    # 출력\n",
    "    for i in range(gab):\n",
    "        low +=1\n",
    "        if low == medium and low%2 ==0:\n",
    "            print(f'{low} 중앙값')\n",
    "        elif low%2 == 0:\n",
    "            print(f'{low} 짝수')\n",
    "\n",
    "while (True): #입력부분\n",
    "    try:\n",
    "        low = int(input('첫번째 숫자를 입력해주십시오'))\n",
    "        high = int(input('두번째 숫자를 입력해주십시오 첫번째보다 큰값'))\n",
    "    except:\n",
    "        print('숫자로 입력해주세요')\n",
    "        continue\n",
    "    if low == high:\n",
    "        print('서로 다른값을 입력해주세요')\n",
    "        continue\n",
    "    if low > high:\n",
    "        print('두번째값이 첫번째값보다 커야 합니다.')\n",
    "        continue\n",
    "    else:\n",
    "        print(f'첫번째 수 입력: {low}')\n",
    "        print(f'두번째 수 입력: {high}')\n",
    "        break\n",
    "\n",
    "find_even_number(low, high)\n"
   ],
   "metadata": {
    "collapsed": false,
    "ExecuteTime": {
     "end_time": "2023-09-05T07:34:42.604936200Z",
     "start_time": "2023-09-05T07:34:37.976946100Z"
    }
   }
  },
  {
   "cell_type": "code",
   "execution_count": 4,
   "outputs": [
    {
     "name": "stdout",
     "output_type": "stream",
     "text": [
      "소수개수 2\n"
     ]
    }
   ],
   "source": [
    "#Q4\n",
    "# 소수의 개수 구하는 함수\n",
    "def count_prime_number(n, m):\n",
    "    gab = m - n - 1\n",
    "    start_number = n + 1\n",
    "\n",
    "    # 소수 구하는 함수\n",
    "    def isprime(number):\n",
    "        if number <2:\n",
    "            return False\n",
    "        for i in range(2, int(number**0.5)+1):\n",
    "            if number%i == 0:\n",
    "                return False\n",
    "        return True\n",
    "    #결과\n",
    "    result = [ i for i in range(start_number, start_number + gab) if isprime(i) == True ]\n",
    "    print(f'소수개수 {len(result)}')\n",
    "\n",
    "\n",
    "#입력부분\n",
    "while (True):\n",
    "    try:\n",
    "        low = int(input('첫번째 숫자를 입력해주십시오'))\n",
    "        high = int(input('두번째 숫자를 입력해주십시오 첫번째보다 큰값'))\n",
    "    except:\n",
    "        print('숫자로 입력해주세요')\n",
    "        continue\n",
    "    if low == high:\n",
    "        print('서로 다른값을 입력해주세요')\n",
    "        continue\n",
    "    if low > high:\n",
    "        print('두번째값이 첫번째값보다 커야 합니다.')\n",
    "        continue\n",
    "    else: break\n",
    "\n",
    "count_prime_number(low, high)\n",
    "\n"
   ],
   "metadata": {
    "collapsed": false,
    "ExecuteTime": {
     "end_time": "2023-09-05T07:34:49.131849Z",
     "start_time": "2023-09-05T07:34:44.862939800Z"
    }
   }
  },
  {
   "cell_type": "code",
   "execution_count": null,
   "outputs": [],
   "source": [],
   "metadata": {
    "collapsed": false
   }
  }
 ],
 "metadata": {
  "kernelspec": {
   "display_name": "Python 3",
   "language": "python",
   "name": "python3"
  },
  "language_info": {
   "codemirror_mode": {
    "name": "ipython",
    "version": 2
   },
   "file_extension": ".py",
   "mimetype": "text/x-python",
   "name": "python",
   "nbconvert_exporter": "python",
   "pygments_lexer": "ipython2",
   "version": "2.7.6"
  }
 },
 "nbformat": 4,
 "nbformat_minor": 0
}
