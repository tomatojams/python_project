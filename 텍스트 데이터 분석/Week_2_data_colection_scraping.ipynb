{
 "nbformat": 4,
 "nbformat_minor": 0,
 "metadata": {
  "colab": {
   "provenance": []
  },
  "kernelspec": {
   "name": "python3",
   "language": "python",
   "display_name": "Python 3 (ipykernel)"
  },
  "language_info": {
   "name": "python"
  }
 },
 "cells": [
  {
   "cell_type": "markdown",
   "source": [
    "# **0. 필요한 라이브러리 불러오기**"
   ],
   "metadata": {
    "id": "1Y32kYJv2T6O"
   }
  },
  {
   "cell_type": "code",
   "source": [
    "import urllib.request as req  # 웹페이지에 데이터 요청\n",
    "from bs4 import BeautifulSoup  # HTML, XML 등의 문서 파싱, 데이터 추출\n",
    "\n",
    "# Google Colab에서 Google 드라이브를 연동하기 위한 drive 모듈\n",
    "#from google.colab import drive\n",
    "#drive.mount('/content/drive')  # 드라이브 연결(mount)"
   ],
   "metadata": {
    "id": "muN5bgKi2VHP",
    "colab": {
     "base_uri": "https://localhost:8080/"
    },
    "outputId": "8ab93abe-68cc-476a-da42-5cd158b0a330",
    "ExecuteTime": {
     "end_time": "2023-09-15T11:26:09.854675100Z",
     "start_time": "2023-09-15T11:26:09.784359300Z"
    }
   },
   "execution_count": 1,
   "outputs": []
  },
  {
   "cell_type": "markdown",
   "source": [
    "# **1. BeautifulSoup을 이용한 스크래핑(로컬 파일)**\n",
    "\n",
    "- 'with open()'을 사용하여 로컬(local) HTML 파일을 읽음(여기서 로컬은 Google Drive를 의미)\n",
    "\n",
    "- BeautifulSoup을 사용하여 HTML 파일을 파싱하고 원하는 정보를 추출"
   ],
   "metadata": {
    "id": "vhbeoucDtqe1"
   }
  },
  {
   "cell_type": "code",
   "source": [
    "# 파일을 읽기 모드('r')로 열고,\n",
    "# '/content/drive/MyDrive/Colab Notebooks/TDA/data/tda.html' 경로의 파일 열기\n",
    "with open('data/tda.html', 'r',encoding='UTF8') as f:\n",
    "    html_doc = f.read()  # 파일의 내용을 html_doc에 저장\n",
    "\n",
    "print(html_doc)"
   ],
   "metadata": {
    "colab": {
     "base_uri": "https://localhost:8080/"
    },
    "id": "K0m0W0yetr-R",
    "outputId": "6d0dedfa-0a84-490f-83f3-94ee61c75dbe",
    "ExecuteTime": {
     "end_time": "2023-09-15T11:26:32.106250200Z",
     "start_time": "2023-09-15T11:26:32.074677400Z"
    }
   },
   "execution_count": 2,
   "outputs": [
    {
     "name": "stdout",
     "output_type": "stream",
     "text": [
      "<html>\n",
      "    <head>\n",
      "        <title>텍스트 데이터 분석</title>\n",
      "    </head>\n",
      "    <body>\n",
      "        <div> \n",
      "            <p>텍스트 데이터 분석 홈페이지입니다.</p> \n",
      "        </div>\n",
      "        <div> \n",
      "            <p><a href='https://www.cuk.edu/'>고려사이버대학교 홈페이지로 이동합니다.</a></p> \n",
      "        </div>\n",
      "    </body>\n",
      "</html>\n"
     ]
    }
   ]
  },
  {
   "cell_type": "code",
   "source": [
    "# html_doc을 \"html.parser\"로 파싱\n",
    "soup = BeautifulSoup(html_doc, 'html.parser')\n",
    "\n",
    "# 포맷팅된 형태로 파싱된 웹페이지 소스코드 출력\n",
    "print(soup.prettify())"
   ],
   "metadata": {
    "colab": {
     "base_uri": "https://localhost:8080/"
    },
    "id": "KAxxqjKmtsB3",
    "outputId": "6a0b2ba7-09f7-4052-a515-97932a09679c",
    "ExecuteTime": {
     "end_time": "2023-09-15T11:27:05.787635600Z",
     "start_time": "2023-09-15T11:27:05.779889100Z"
    }
   },
   "execution_count": 3,
   "outputs": [
    {
     "name": "stdout",
     "output_type": "stream",
     "text": [
      "<html>\n",
      " <head>\n",
      "  <title>\n",
      "   텍스트 데이터 분석\n",
      "  </title>\n",
      " </head>\n",
      " <body>\n",
      "  <div>\n",
      "   <p>\n",
      "    텍스트 데이터 분석 홈페이지입니다.\n",
      "   </p>\n",
      "  </div>\n",
      "  <div>\n",
      "   <p>\n",
      "    <a href=\"https://www.cuk.edu/\">\n",
      "     고려사이버대학교 홈페이지로 이동합니다.\n",
      "    </a>\n",
      "   </p>\n",
      "  </div>\n",
      " </body>\n",
      "</html>\n"
     ]
    }
   ]
  },
  {
   "cell_type": "code",
   "source": [
    "# <p> 태그를 찾아서 반환\n",
    "soup.find('p')"
   ],
   "metadata": {
    "colab": {
     "base_uri": "https://localhost:8080/"
    },
    "id": "CFNTjwICxOOJ",
    "outputId": "35d36898-9ab5-4984-ce43-0ace6f3fa4b6",
    "ExecuteTime": {
     "end_time": "2023-09-15T11:27:42.891295100Z",
     "start_time": "2023-09-15T11:27:42.877205500Z"
    }
   },
   "execution_count": 4,
   "outputs": [
    {
     "data": {
      "text/plain": "<p>텍스트 데이터 분석 홈페이지입니다.</p>"
     },
     "execution_count": 4,
     "metadata": {},
     "output_type": "execute_result"
    }
   ]
  },
  {
   "cell_type": "code",
   "source": [
    "# <p> 태그의 문자열 반환\n",
    "soup.find('p').string"
   ],
   "metadata": {
    "colab": {
     "base_uri": "https://localhost:8080/",
     "height": 35
    },
    "id": "A4ees3LpxfOk",
    "outputId": "1ac7a348-fa52-42ac-80fb-5eb8aa7cf4cf",
    "ExecuteTime": {
     "end_time": "2023-09-15T11:27:45.183755600Z",
     "start_time": "2023-09-15T11:27:45.167672400Z"
    }
   },
   "execution_count": 5,
   "outputs": [
    {
     "data": {
      "text/plain": "'텍스트 데이터 분석 홈페이지입니다.'"
     },
     "execution_count": 5,
     "metadata": {},
     "output_type": "execute_result"
    }
   ]
  },
  {
   "cell_type": "code",
   "source": [
    "# href 속성이 'https://www.cuk.edu/'인 요소를 찾아서 반환\n",
    "soup.find(attrs={'href': 'https://www.cuk.edu/'})"
   ],
   "metadata": {
    "colab": {
     "base_uri": "https://localhost:8080/"
    },
    "id": "m9INfpnFzgd4",
    "outputId": "f535dcf8-5371-4da1-ad73-8c6208c69073",
    "ExecuteTime": {
     "end_time": "2023-09-15T11:28:24.135885800Z",
     "start_time": "2023-09-15T11:28:24.121886400Z"
    }
   },
   "execution_count": 6,
   "outputs": [
    {
     "data": {
      "text/plain": "<a href=\"https://www.cuk.edu/\">고려사이버대학교 홈페이지로 이동합니다.</a>"
     },
     "execution_count": 6,
     "metadata": {},
     "output_type": "execute_result"
    }
   ]
  },
  {
   "cell_type": "code",
   "source": [
    "# 모든 <p> 태그 요소들을 리스트로 반환\n",
    "soup.find_all('p')"
   ],
   "metadata": {
    "colab": {
     "base_uri": "https://localhost:8080/"
    },
    "id": "5-kMmY1l0aVw",
    "outputId": "b675196f-75a8-4111-9efb-4781d6b8a9e2",
    "ExecuteTime": {
     "end_time": "2023-09-07T03:57:01.484160500Z",
     "start_time": "2023-09-07T03:57:01.464162800Z"
    }
   },
   "execution_count": 14,
   "outputs": [
    {
     "data": {
      "text/plain": "[<p>텍스트 데이터 분석 홈페이지입니다.</p>,\n <p><a href=\"https://www.cuk.edu/\">고려사이버대학교 홈페이지로 이동합니다.</a></p>]"
     },
     "execution_count": 14,
     "metadata": {},
     "output_type": "execute_result"
    }
   ]
  },
  {
   "cell_type": "markdown",
   "source": [
    "# **2. BeautifulSoup을 이용한 스크래핑(인터넷 웹페이지)**\n",
    "\n",
    "- FnGuide 웹페이지(https://comp.fnguide.com) 에 URL을 이용하여 접속\n",
    "- 웹페이지 소스코드를 BeautifulSoup으로 파싱하고 필요한 정보를 추출"
   ],
   "metadata": {
    "id": "Xg3ntZLwqCWe"
   }
  },
  {
   "cell_type": "code",
   "source": [
    "# 크롤링할 웹페이지의 URL\n",
    "url = 'https://comp.fnguide.com/SVO2/ASP/SVD_main.asp?pGB=1&gicode=A005930&cID=&MenuYn=Y&ReportGB=&NewMenuID=11&stkGb=&strResearchYN='\n",
    "\n",
    "# URL로 웹페이지에 접속\n",
    "res = req.urlopen(url)\n",
    "\n",
    "# 웹페이지 소스코드를 \"html.parser\"로 파싱\n",
    "soup = BeautifulSoup(res, \"html.parser\")\n",
    "\n",
    "# id 속성이 'bizSummaryDate'인 요소를 찾아서 변수에 저장\n",
    "bizSummaryDate = soup.find(attrs={'id': 'bizSummaryDate'})\n",
    "\n",
    "# id 속성이 'bizSummaryHeader'인 요소를 찾아서 변수에 저장\n",
    "bizSummaryHeader = soup.find(attrs={'id': 'bizSummaryHeader'})\n",
    "\n",
    "# id 속성이 'bizSummaryContent'인 요소를 찾고\n",
    "# 모든 <li> 태그 요소들을 리스트로 가져와서 변수에 저장\n",
    "bizSummaryContent = soup.find(attrs={'id': 'bizSummaryContent'}).find_all(\"li\")"
   ],
   "metadata": {
    "id": "Gq1LEsLrQwah",
    "ExecuteTime": {
     "end_time": "2023-09-15T11:33:07.094470600Z",
     "start_time": "2023-09-15T11:33:06.819554900Z"
    }
   },
   "execution_count": 7,
   "outputs": []
  },
  {
   "cell_type": "code",
   "source": [
    "bizSummaryDate.string"
   ],
   "metadata": {
    "colab": {
     "base_uri": "https://localhost:8080/",
     "height": 35
    },
    "id": "gD3tQgE4X6hm",
    "outputId": "625cd083-f286-4b7c-ac1a-b8892ce147e2",
    "ExecuteTime": {
     "end_time": "2023-09-15T11:33:08.559838100Z",
     "start_time": "2023-09-15T11:33:08.541783600Z"
    }
   },
   "execution_count": 8,
   "outputs": [
    {
     "data": {
      "text/plain": "'[2023/06/20]'"
     },
     "execution_count": 8,
     "metadata": {},
     "output_type": "execute_result"
    }
   ]
  },
  {
   "cell_type": "code",
   "source": [
    "bizSummaryHeader.string.replace(u'\\xa0', u' ')  # '\\xa0'을 공백으로 치환"
   ],
   "metadata": {
    "colab": {
     "base_uri": "https://localhost:8080/",
     "height": 35
    },
    "id": "2HIkKHIkcTMQ",
    "outputId": "682a289d-85e5-4702-fd0c-0759fd1ddbd6",
    "ExecuteTime": {
     "end_time": "2023-09-15T11:33:20.936835400Z",
     "start_time": "2023-09-15T11:33:20.921763900Z"
    }
   },
   "execution_count": 9,
   "outputs": [
    {
     "data": {
      "text/plain": "'반도체 부진으로 영업이익 급감'"
     },
     "execution_count": 9,
     "metadata": {},
     "output_type": "execute_result"
    }
   ]
  },
  {
   "cell_type": "code",
   "source": [
    "bizSummaryContent[1].string.replace(u'\\xa0', u' ')"
   ],
   "metadata": {
    "colab": {
     "base_uri": "https://localhost:8080/",
     "height": 70
    },
    "id": "u0wlLJr5cWQ9",
    "outputId": "50b0078c-1db8-4a23-db29-09df126e1b4e",
    "ExecuteTime": {
     "end_time": "2023-09-15T11:33:24.579967900Z",
     "start_time": "2023-09-15T11:33:24.565445100Z"
    }
   },
   "execution_count": 10,
   "outputs": [
    {
     "data": {
      "text/plain": "'1분기 반도체와 디스플레이의 부진을 스마트폰이 메우며 영업적자를 면함. 반도체 부문은 D램과 낸드 모두 수요 부진으로 가격이 하락해 대규모 영업적자를 기록함. 하이엔드 제품인 갤럭시 S23울트라의 높은 판매 비중과 대용량 스토리지 중심 판매 전략으로 DX부문에서 대부분의 영업이익을 거둠. 가격이 낮고 재고가 충분한 DDR4 제품의 생산을 줄이고, 고사양 제품들인 DDR5와 LPDDR5로 생산 포트폴리오를 확대할 계획임.'"
     },
     "execution_count": 10,
     "metadata": {},
     "output_type": "execute_result"
    }
   ]
  },
  {
   "cell_type": "code",
   "execution_count": null,
   "outputs": [],
   "source": [],
   "metadata": {
    "collapsed": false
   }
  }
 ]
}
