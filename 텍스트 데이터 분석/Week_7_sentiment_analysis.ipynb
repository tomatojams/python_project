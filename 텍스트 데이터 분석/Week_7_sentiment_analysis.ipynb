{
  "cells": [
    {
      "cell_type": "markdown",
      "metadata": {
        "id": "BDyHd8fgCN4L"
      },
      "source": [
        "**7주차 실습 - 감성 분석**\n"
      ]
    },
    {
      "cell_type": "markdown",
      "metadata": {
        "id": "xWzx14WCCN4Q"
      },
      "source": [
        "# TextBlob 감성사전을 이용한 영화 리뷰 감성 분석\n",
        "\n",
        "- TextBlob(텍스트블롭)은 텍스트 데이터 처리를 위한 파이썬 라이브러리로 감성 사전 기반으로 텍스트의 감정을 긍정적, 부정적 또는 중립적으로 분류\n",
        "https://textblob.readthedocs.io/en/dev/\n",
        "\n",
        "- NLTK 영화 리뷰 데이터 준비\n",
        "https://www.nltk.org/book/ch02.html"
      ]
    },
    {
      "cell_type": "code",
      "source": [
        "import nltk\n",
        "from nltk.corpus import movie_reviews\n",
        "from textblob import TextBlob\n",
        "\n",
        "nltk.download(\"movie_reviews\")\n",
        "\n",
        "# 영화 리뷰 로드\n",
        "positive_reviews = [movie_reviews.raw(fileid) for fileid in movie_reviews.fileids('pos')]\n",
        "negative_reviews = [movie_reviews.raw(fileid) for fileid in movie_reviews.fileids('neg')]\n"
      ],
      "metadata": {
        "colab": {
          "base_uri": "https://localhost:8080/"
        },
        "id": "Oa6KyQHqN3AP",
        "outputId": "f58b86cb-3bf7-4c27-e2fe-27e9619d1de6"
      },
      "execution_count": 7,
      "outputs": [
        {
          "output_type": "stream",
          "name": "stderr",
          "text": [
            "[nltk_data] Downloading package movie_reviews to /root/nltk_data...\n",
            "[nltk_data]   Package movie_reviews is already up-to-date!\n"
          ]
        }
      ]
    },
    {
      "cell_type": "code",
      "source": [
        "print(len(positive_reviews))\n",
        "print(len(negative_reviews))"
      ],
      "metadata": {
        "colab": {
          "base_uri": "https://localhost:8080/"
        },
        "id": "3c1uA_EZRpOz",
        "outputId": "2274de96-5642-48fd-bb03-68d39ac64104"
      },
      "execution_count": 8,
      "outputs": [
        {
          "output_type": "stream",
          "name": "stdout",
          "text": [
            "1000\n",
            "1000\n"
          ]
        }
      ]
    },
    {
      "cell_type": "code",
      "source": [
        "# 분석할 리뷰 선택\n",
        "sample_review = positive_reviews[0]"
      ],
      "metadata": {
        "id": "B2x0392bPbbz"
      },
      "execution_count": 9,
      "outputs": []
    },
    {
      "cell_type": "code",
      "source": [
        "sample_review"
      ],
      "metadata": {
        "colab": {
          "base_uri": "https://localhost:8080/",
          "height": 139
        },
        "id": "MnN-_LjJPkYf",
        "outputId": "4ab369af-286d-4a65-bb8d-97e547bfa3d7"
      },
      "execution_count": 10,
      "outputs": [
        {
          "output_type": "execute_result",
          "data": {
            "text/plain": [
              "'films adapted from comic books have had plenty of success , whether they\\'re about superheroes ( batman , superman , spawn ) , or geared toward kids ( casper ) or the arthouse crowd ( ghost world ) , but there\\'s never really been a comic book like from hell before . \\nfor starters , it was created by alan moore ( and eddie campbell ) , who brought the medium to a whole new level in the mid \\'80s with a 12-part series called the watchmen . \\nto say moore and campbell thoroughly researched the subject of jack the ripper would be like saying michael jackson is starting to look a little odd . \\nthe book ( or \" graphic novel , \" if you will ) is over 500 pages long and includes nearly 30 more that consist of nothing but footnotes . \\nin other words , don\\'t dismiss this film because of its source . \\nif you can get past the whole comic book thing , you might find another stumbling block in from hell\\'s directors , albert and allen hughes . \\ngetting the hughes brothers to direct this seems almost as ludicrous as casting carrot top in , well , anything , but riddle me this : who better to direct a film that\\'s set in the ghetto and features really violent street crime than the mad geniuses behind menace ii society ? \\nthe ghetto in question is , of course , whitechapel in 1888 london\\'s east end . \\nit\\'s a filthy , sooty place where the whores ( called \" unfortunates \" ) are starting to get a little nervous about this mysterious psychopath who has been carving through their profession with surgical precision . \\nwhen the first stiff turns up , copper peter godley ( robbie coltrane , the world is not enough ) calls in inspector frederick abberline ( johnny depp , blow ) to crack the case . \\nabberline , a widower , has prophetic dreams he unsuccessfully tries to quell with copious amounts of absinthe and opium . \\nupon arriving in whitechapel , he befriends an unfortunate named mary kelly ( heather graham , say it isn\\'t so ) and proceeds to investigate the horribly gruesome crimes that even the police surgeon can\\'t stomach . \\ni don\\'t think anyone needs to be briefed on jack the ripper , so i won\\'t go into the particulars here , other than to say moore and campbell have a unique and interesting theory about both the identity of the killer and the reasons he chooses to slay . \\nin the comic , they don\\'t bother cloaking the identity of the ripper , but screenwriters terry hayes ( vertical limit ) and rafael yglesias ( les mis ? rables ) do a good job of keeping him hidden from viewers until the very end . \\nit\\'s funny to watch the locals blindly point the finger of blame at jews and indians because , after all , an englishman could never be capable of committing such ghastly acts . \\nand from hell\\'s ending had me whistling the stonecutters song from the simpsons for days ( \" who holds back the electric car/who made steve guttenberg a star ? \" ) . \\ndon\\'t worry - it\\'ll all make sense when you see it . \\nnow onto from hell\\'s appearance : it\\'s certainly dark and bleak enough , and it\\'s surprising to see how much more it looks like a tim burton film than planet of the apes did ( at times , it seems like sleepy hollow 2 ) . \\nthe print i saw wasn\\'t completely finished ( both color and music had not been finalized , so no comments about marilyn manson ) , but cinematographer peter deming ( don\\'t say a word ) ably captures the dreariness of victorian-era london and helped make the flashy killing scenes remind me of the crazy flashbacks in twin peaks , even though the violence in the film pales in comparison to that in the black-and-white comic . \\noscar winner martin childs\\' ( shakespeare in love ) production design turns the original prague surroundings into one creepy place . \\neven the acting in from hell is solid , with the dreamy depp turning in a typically strong performance and deftly handling a british accent . \\nians holm ( joe gould\\'s secret ) and richardson ( 102 dalmatians ) log in great supporting roles , but the big surprise here is graham . \\ni cringed the first time she opened her mouth , imagining her attempt at an irish accent , but it actually wasn\\'t half bad . \\nthe film , however , is all good . \\n2 : 00 - r for strong violence/gore , sexuality , language and drug content \\n'"
            ],
            "application/vnd.google.colaboratory.intrinsic+json": {
              "type": "string"
            }
          },
          "metadata": {},
          "execution_count": 10
        }
      ]
    },
    {
      "cell_type": "code",
      "source": [
        "blob = TextBlob(sample_review)\n",
        "\n",
        "# 감정 분석 수행\n",
        "sentiment = blob.sentiment\n",
        "\n",
        "# 감정 점수 출력\n",
        "print(\"감정 극성:\", sentiment.polarity)\n",
        "print(\"감정 주관성:\", sentiment.subjectivity)\n",
        "\n",
        "# 감정 해석\n",
        "if sentiment.polarity > 0:\n",
        "    print(\"리뷰는 긍정적입니다.\")\n",
        "elif sentiment.polarity < 0:\n",
        "    print(\"리뷰는 부정적입니다.\")\n",
        "else:\n",
        "    print(\"리뷰는 중립적입니다.\")"
      ],
      "metadata": {
        "colab": {
          "base_uri": "https://localhost:8080/"
        },
        "id": "K3ppK9SbPPNH",
        "outputId": "cb3564e3-f7f2-4f60-ee3b-46aae236adf0"
      },
      "execution_count": 11,
      "outputs": [
        {
          "output_type": "stream",
          "name": "stdout",
          "text": [
            "감정 극성: 0.02366334963737561\n",
            "감정 주관성: 0.48609799291617484\n",
            "리뷰는 긍정적입니다.\n"
          ]
        }
      ]
    },
    {
      "cell_type": "code",
      "source": [
        "# test_reviews = positive_reviews[0:10]\n",
        "test_reviews = negative_reviews[0:10]\n",
        "\n",
        "for sample_review in test_reviews:\n",
        "    blob = TextBlob(sample_review)\n",
        "\n",
        "    # 감정 분석 수행\n",
        "    sentiment = blob.sentiment\n",
        "\n",
        "    # 감정 해석\n",
        "    if sentiment.polarity > 0:\n",
        "        print(\"리뷰는 긍정적입니다.\")\n",
        "    elif sentiment.polarity < 0:\n",
        "        print(\"리뷰는 부정적입니다.\")\n",
        "    else:\n",
        "        print(\"리뷰는 중립적입니다.\")"
      ],
      "metadata": {
        "colab": {
          "base_uri": "https://localhost:8080/"
        },
        "id": "P97lSwRLQwz4",
        "outputId": "620badfc-a959-4b91-d2c0-11a8ff9e2791"
      },
      "execution_count": 12,
      "outputs": [
        {
          "output_type": "stream",
          "name": "stdout",
          "text": [
            "리뷰는 긍정적입니다.\n",
            "리뷰는 긍정적입니다.\n",
            "리뷰는 긍정적입니다.\n",
            "리뷰는 긍정적입니다.\n",
            "리뷰는 긍정적입니다.\n",
            "리뷰는 긍정적입니다.\n",
            "리뷰는 긍정적입니다.\n",
            "리뷰는 부정적입니다.\n",
            "리뷰는 긍정적입니다.\n",
            "리뷰는 부정적입니다.\n"
          ]
        }
      ]
    }
  ],
  "metadata": {
    "kernelspec": {
      "display_name": "Python 3 (ipykernel)",
      "language": "python",
      "name": "python3"
    },
    "language_info": {
      "codemirror_mode": {
        "name": "ipython",
        "version": 3
      },
      "file_extension": ".py",
      "mimetype": "text/x-python",
      "name": "python",
      "nbconvert_exporter": "python",
      "pygments_lexer": "ipython3",
      "version": "3.8.12"
    },
    "toc": {
      "base_numbering": 1,
      "nav_menu": {},
      "number_sections": true,
      "sideBar": true,
      "skip_h1_title": false,
      "title_cell": "Table of Contents",
      "title_sidebar": "Contents",
      "toc_cell": true,
      "toc_position": {
        "height": "calc(100% - 180px)",
        "left": "10px",
        "top": "150px",
        "width": "165px"
      },
      "toc_section_display": true,
      "toc_window_display": false
    },
    "varInspector": {
      "cols": {
        "lenName": 16,
        "lenType": 16,
        "lenVar": 40
      },
      "kernels_config": {
        "python": {
          "delete_cmd_postfix": "",
          "delete_cmd_prefix": "del ",
          "library": "var_list.py",
          "varRefreshCmd": "print(var_dic_list())"
        },
        "r": {
          "delete_cmd_postfix": ") ",
          "delete_cmd_prefix": "rm(",
          "library": "var_list.r",
          "varRefreshCmd": "cat(var_dic_list()) "
        }
      },
      "types_to_exclude": [
        "module",
        "function",
        "builtin_function_or_method",
        "instance",
        "_Feature"
      ],
      "window_display": false
    },
    "colab": {
      "provenance": []
    }
  },
  "nbformat": 4,
  "nbformat_minor": 0
}