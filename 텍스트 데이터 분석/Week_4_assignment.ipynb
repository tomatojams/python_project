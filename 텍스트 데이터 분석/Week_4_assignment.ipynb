{
  "nbformat": 4,
  "nbformat_minor": 0,
  "metadata": {
    "colab": {
      "provenance": []
    },
    "kernelspec": {
      "name": "python3",
      "display_name": "Python 3"
    },
    "language_info": {
      "name": "python"
    }
  },
  "cells": [
    {
      "cell_type": "markdown",
      "source": [
        "**4주차 과제 - 영어 전처리**\n",
        "\n",
        "- 과제: 아래 코드를 실행하고 실행화면을 캡쳐하여 반드시 **pdf** 파일로 변환하여 제출하시오.\n",
        "- 유의사항: 본 과제의 목적은 학생들께서 아래 코드를 이용하여 텍스트 전처리를 경험해 보는 것입니다. 이 코드를 그대로 실행하여 제출해도 되지만 텍스트와 코드를 변경해 가면 실습하기를 추천합니다."
      ],
      "metadata": {
        "id": "p6Qj3ZjBA5j7"
      }
    },
    {
      "cell_type": "markdown",
      "source": [
        "# **0. NLTK 라이브러리 다운로드**"
      ],
      "metadata": {
        "id": "XrE1pvAG5-SN"
      }
    },
    {
      "cell_type": "code",
      "metadata": {
        "id": "-dj0kuQgRvIU"
      },
      "source": [
        "import nltk  # Natural Language Toolkit (자연어 처리 도구 모음) 라이브러리\n",
        "\n",
        "nltk.download('punkt')  # 토크나이저 모듈 다운로드\n",
        "nltk.download('wordnet')  # 표제어 추출 모듈 다운로드\n",
        "nltk.download('stopwords')  # 불용어 제거 모듈 다운로드\n",
        "nltk.download('averaged_perceptron_tagger')  # 품사 태깅 모듈 다운로드"
      ],
      "execution_count": null,
      "outputs": []
    },
    {
      "cell_type": "markdown",
      "source": [
        "# **1. 토큰화(Tokenization)**"
      ],
      "metadata": {
        "id": "xv9jD0-E9vFu"
      }
    },
    {
      "cell_type": "code",
      "source": [
        "from nltk.tokenize import TreebankWordTokenizer\n",
        "\n",
        "text = \"You can’t make an omelette without breaking a few eggs.\"\n",
        "\n",
        "# TreebankWordTokenizer 사용(Penn Treebank Tokenization)\n",
        "print('TreebankWordTokenizer: ', TreebankWordTokenizer().tokenize(text))\n"
      ],
      "metadata": {
        "id": "nzfDhsYm852i"
      },
      "execution_count": null,
      "outputs": []
    },
    {
      "cell_type": "markdown",
      "source": [
        "# **2. 표제어 추출(Lemmatization)**"
      ],
      "metadata": {
        "id": "tSklvOO0A6Al"
      }
    },
    {
      "cell_type": "code",
      "source": [
        "from nltk.stem import WordNetLemmatizer  # NLTK의 표제어 추출기\n",
        "\n",
        "lemmatizer = WordNetLemmatizer()  # 표제어 추출기 객체 생성\n",
        "\n",
        "words = ['policy', 'doing', 'organization', 'have', 'going', 'love', 'lives',\n",
        "         'fly', 'dies', 'watched', 'has', 'starting']\n",
        "\n",
        "print('표제어 추출 전: ', words)\n",
        "# 각 단어의 표제어를 추출\n",
        "print('표제어 추출 후: ', [lemmatizer.lemmatize(word) for word in words])\n",
        "\n",
        "# 각 단어의 동사 품사로 표제어를 추출\n",
        "print('dies의 동사 표제어: ', lemmatizer.lemmatize('dies', 'v'))\n",
        "print('watched의 동사 표제어: ', lemmatizer.lemmatize('watched', 'v'))\n",
        "print('has의 동사 표제어: ', lemmatizer.lemmatize('has', 'v'))"
      ],
      "metadata": {
        "id": "05Gezw5QDnLx"
      },
      "execution_count": null,
      "outputs": []
    },
    {
      "cell_type": "markdown",
      "source": [
        "# **3. 불용어 제거와 품사 태깅**"
      ],
      "metadata": {
        "id": "x5rP0ogQ9jR6"
      }
    },
    {
      "cell_type": "code",
      "source": [
        "from nltk.corpus import stopwords  # 불용어(corpus of stopwords) 모듈\n",
        "from nltk.tokenize import word_tokenize  # 토크나이저 모듈\n",
        "\n",
        "stop_words_list = stopwords.words('english')  # 영어 불용어 리스트\n",
        "\n",
        "print('불용어 개수: ', len(stop_words_list))  # 불용어 개수\n",
        "print('불용어 출력: ', stop_words_list)  # 불용어 출력"
      ],
      "metadata": {
        "id": "TMaTzvuN9hdn"
      },
      "execution_count": null,
      "outputs": []
    },
    {
      "cell_type": "code",
      "source": [
        "text = \"The grass is always greener on the other side of the fence.\"\n",
        "\n",
        "stop_words = set(stopwords.words('english'))  # 영어 불용어 집합\n",
        "\n",
        "word_tokens = word_tokenize(text)  # 토큰화 실행\n",
        "\n",
        "result = []\n",
        "for word in word_tokens:\n",
        "    if word not in stop_words:  # 불용어가 아니면 result에 추가\n",
        "        result.append(word)\n",
        "\n",
        "print('불용어 제거 전: ', word_tokens)\n",
        "print('불용어 제거 후: ', result)"
      ],
      "metadata": {
        "id": "eX3dfSP29hgJ"
      },
      "execution_count": null,
      "outputs": []
    },
    {
      "cell_type": "code",
      "source": [
        "print(nltk.pos_tag(result))  # 토큰에 품사를 태깅"
      ],
      "metadata": {
        "id": "8P1yj80wsFZV"
      },
      "execution_count": null,
      "outputs": []
    }
  ]
}