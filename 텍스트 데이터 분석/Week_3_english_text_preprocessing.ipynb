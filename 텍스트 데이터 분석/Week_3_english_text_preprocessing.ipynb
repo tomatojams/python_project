{
 "nbformat": 4,
 "nbformat_minor": 0,
 "metadata": {
  "colab": {
   "provenance": []
  },
  "kernelspec": {
   "name": "python3",
   "display_name": "Python 3"
  },
  "language_info": {
   "name": "python"
  }
 },
 "cells": [
  {
   "cell_type": "markdown",
   "source": [
    "**3주차 실습 - 영어 전처리**\n",
    "\n",
    "- 출처: 딥 러닝을 이용한 자연어 처리 입문(https://wikidocs.net/book/2155)"
   ],
   "metadata": {
    "id": "p6Qj3ZjBA5j7"
   }
  },
  {
   "cell_type": "markdown",
   "source": [
    "# **0. NLTK 라이브러리 다운로드**"
   ],
   "metadata": {
    "id": "XrE1pvAG5-SN"
   }
  },
  {
   "cell_type": "code",
   "metadata": {
    "colab": {
     "base_uri": "https://localhost:8080/"
    },
    "id": "-dj0kuQgRvIU",
    "outputId": "f98b8cc3-99af-457b-aa81-dfbfbeae4125"
   },
   "source": [
    "import nltk  # Natural Language Toolkit (자연어 처리 도구 모음) 라이브러리\n",
    "\n",
    "nltk.download('punkt')  # 토크나이저 모듈 다운로드\n",
    "nltk.download('wordnet')  # 표제어 추출 모듈 다운로드\n",
    "nltk.download('stopwords')  # 불용어 제거 모듈 다운로드\n",
    "nltk.download('averaged_perceptron_tagger')  # 품사 태깅 모듈 다운로드"
   ],
   "execution_count": 1,
   "outputs": [
    {
     "output_type": "stream",
     "name": "stderr",
     "text": [
      "[nltk_data] Downloading package punkt to /root/nltk_data...\n",
      "[nltk_data]   Unzipping tokenizers/punkt.zip.\n",
      "[nltk_data] Downloading package wordnet to /root/nltk_data...\n",
      "[nltk_data] Downloading package stopwords to /root/nltk_data...\n",
      "[nltk_data]   Unzipping corpora/stopwords.zip.\n",
      "[nltk_data] Downloading package averaged_perceptron_tagger to\n",
      "[nltk_data]     /root/nltk_data...\n",
      "[nltk_data]   Unzipping taggers/averaged_perceptron_tagger.zip.\n"
     ]
    },
    {
     "output_type": "execute_result",
     "data": {
      "text/plain": [
       "True"
      ]
     },
     "metadata": {},
     "execution_count": 1
    }
   ]
  },
  {
   "cell_type": "markdown",
   "source": [
    "# **1. 토큰화(Tokenization)**"
   ],
   "metadata": {
    "id": "xv9jD0-E9vFu"
   }
  },
  {
   "cell_type": "markdown",
   "source": [
    "## 1-1. 단어 토큰화"
   ],
   "metadata": {
    "id": "-sxtCj_x9Dtm"
   }
  },
  {
   "cell_type": "code",
   "source": [
    "# 텍스트 데이터의 특성과 사용 목적에 따라 토큰화 방법을 선택\n",
    "# word_tokenize, WordPunctTokenizer, TreebankWordTokenizer 모듈\n",
    "from nltk.tokenize import word_tokenize, WordPunctTokenizer, TreebankWordTokenizer\n",
    "\n",
    "text = \"You can't judge a book by its cover.\"\n",
    "\n",
    "# word_tokenize 사용\n",
    "print('word_tokenize: ', word_tokenize(text))\n",
    "\n",
    "# WordPunctTokenizer 사용\n",
    "print('WordPunctTokenizer: ', WordPunctTokenizer().tokenize(text))\n",
    "\n",
    "# TreebankWordTokenizer 사용(Penn Treebank Tokenization)\n",
    "print('TreebankWordTokenizer: ', TreebankWordTokenizer().tokenize(text))\n"
   ],
   "metadata": {
    "id": "nzfDhsYm852i",
    "colab": {
     "base_uri": "https://localhost:8080/"
    },
    "outputId": "cc3ccb71-d12e-4c2c-911e-79c6e798231e"
   },
   "execution_count": 2,
   "outputs": [
    {
     "output_type": "stream",
     "name": "stdout",
     "text": [
      "word_tokenize:  ['You', 'ca', \"n't\", 'judge', 'a', 'book', 'by', 'its', 'cover', '.']\n",
      "WordPunctTokenizer:  ['You', 'can', \"'\", 't', 'judge', 'a', 'book', 'by', 'its', 'cover', '.']\n",
      "TreebankWordTokenizer:  ['You', 'ca', \"n't\", 'judge', 'a', 'book', 'by', 'its', 'cover', '.']\n"
     ]
    }
   ]
  },
  {
   "cell_type": "markdown",
   "source": [
    "## 1-2. 문장 토큰화"
   ],
   "metadata": {
    "id": "X6lWTou49PLA"
   }
  },
  {
   "cell_type": "code",
   "metadata": {
    "colab": {
     "base_uri": "https://localhost:8080/"
    },
    "id": "C2WixyvHR9US",
    "outputId": "2853371a-1491-422f-9e8f-23ef31c0d945"
   },
   "source": [
    "from nltk.tokenize import sent_tokenize  # 문장 토크나이저\n",
    "\n",
    "text = \"\"\"Cosmos is a Greek word for the order of the universe.\n",
    "It is, in a way, the opposite of Chaos.\n",
    "It implies the deep interconnectedness of all things.\n",
    "It conveys awe for the intricate and subtle way in which the universe is put together.\"\"\"\n",
    "\n",
    "print(sent_tokenize(text))  # 문장 단위로 텍스트를 분할"
   ],
   "execution_count": 3,
   "outputs": [
    {
     "output_type": "stream",
     "name": "stdout",
     "text": [
      "['Cosmos is a Greek word for the order of the universe.', 'It is, in a way, the opposite of Chaos.', 'It implies the deep interconnectedness of all things.', 'It conveys awe for the intricate and subtle way in which the universe is put together.']\n"
     ]
    }
   ]
  },
  {
   "cell_type": "code",
   "metadata": {
    "colab": {
     "base_uri": "https://localhost:8080/"
    },
    "id": "_QDLen2CSDk6",
    "outputId": "fc4c2dfa-b1f1-4cc0-aa8b-0a593cd7171e"
   },
   "source": [
    "text = \"I am actively looking for Ph.D. students. and you are a Ph.D student.\"\n",
    "\n",
    "print(sent_tokenize(text))  # 문장 단위로 텍스트를 분할"
   ],
   "execution_count": 4,
   "outputs": [
    {
     "output_type": "stream",
     "name": "stdout",
     "text": [
      "['I am actively looking for Ph.D. students.', 'and you are a Ph.D student.']\n"
     ]
    }
   ]
  },
  {
   "cell_type": "markdown",
   "source": [
    "# **2. 표제어 추출(Lemmatization)**"
   ],
   "metadata": {
    "id": "tSklvOO0A6Al"
   }
  },
  {
   "cell_type": "code",
   "source": [
    "from nltk.stem import WordNetLemmatizer  # NLTK의 표제어 추출기\n",
    "\n",
    "lemmatizer = WordNetLemmatizer()  # 표제어 추출기 객체 생성\n",
    "\n",
    "words = ['policy', 'doing', 'organization', 'have', 'going', 'love', 'lives',\n",
    "         'fly', 'dies', 'watched', 'has', 'starting']\n",
    "\n",
    "print('표제어 추출 전: ', words)\n",
    "# 각 단어의 표제어를 추출\n",
    "print('표제어 추출 후: ', [lemmatizer.lemmatize(word) for word in words])\n",
    "\n",
    "# 각 단어의 동사 품사로 표제어를 추출\n",
    "print('dies의 동사 표제어: ', lemmatizer.lemmatize('dies', 'v'))\n",
    "print('watched의 동사 표제어: ', lemmatizer.lemmatize('watched', 'v'))\n",
    "print('has의 동사 표제어: ', lemmatizer.lemmatize('has', 'v'))"
   ],
   "metadata": {
    "colab": {
     "base_uri": "https://localhost:8080/"
    },
    "id": "05Gezw5QDnLx",
    "outputId": "178da1dd-9b86-4cee-afd8-1ac077de172b"
   },
   "execution_count": 5,
   "outputs": [
    {
     "output_type": "stream",
     "name": "stdout",
     "text": [
      "표제어 추출 전:  ['policy', 'doing', 'organization', 'have', 'going', 'love', 'lives', 'fly', 'dies', 'watched', 'has', 'starting']\n",
      "표제어 추출 후:  ['policy', 'doing', 'organization', 'have', 'going', 'love', 'life', 'fly', 'dy', 'watched', 'ha', 'starting']\n",
      "dies의 동사 표제어:  die\n",
      "watched의 동사 표제어:  watch\n",
      "has의 동사 표제어:  have\n"
     ]
    }
   ]
  },
  {
   "cell_type": "markdown",
   "source": [
    "# **3. 어간 추출(Stemming)**"
   ],
   "metadata": {
    "id": "FU56jH5sDyzr"
   }
  },
  {
   "cell_type": "code",
   "source": [
    "from nltk.stem import PorterStemmer  # 포터 스테머(stemming) 모듈\n",
    "from nltk.stem import LancasterStemmer  # 랭커스터 스테머(stemming) 모듈\n",
    "\n",
    "porter_stemmer = PorterStemmer()\n",
    "lancaster_stemmer = LancasterStemmer()\n",
    "\n",
    "words = ['policy', 'doing', 'organization', 'have', 'going', 'love', 'lives',\n",
    "         'fly', 'dies', 'watched', 'has', 'starting']\n",
    "\n",
    "print('어간 추출 전: ', words)\n",
    "# 포터 스테머로 어간 추출\n",
    "print('PorterStemmer 어간 추출 후:', [porter_stemmer.stem(w) for w in words])\n",
    "# 랭커스터 스테머로 어간 추출\n",
    "print('LancasterStemmer 어간 추출 후:', [lancaster_stemmer.stem(w) for w in words])\n"
   ],
   "metadata": {
    "colab": {
     "base_uri": "https://localhost:8080/"
    },
    "id": "1TlbNs-0D8S2",
    "outputId": "632dc289-6232-4a9a-c5f0-139fdf6a8d9b"
   },
   "execution_count": 6,
   "outputs": [
    {
     "output_type": "stream",
     "name": "stdout",
     "text": [
      "어간 추출 전:  ['policy', 'doing', 'organization', 'have', 'going', 'love', 'lives', 'fly', 'dies', 'watched', 'has', 'starting']\n",
      "PorterStemmer 어간 추출 후: ['polici', 'do', 'organ', 'have', 'go', 'love', 'live', 'fli', 'die', 'watch', 'ha', 'start']\n",
      "LancasterStemmer 어간 추출 후: ['policy', 'doing', 'org', 'hav', 'going', 'lov', 'liv', 'fly', 'die', 'watch', 'has', 'start']\n"
     ]
    }
   ]
  },
  {
   "cell_type": "markdown",
   "source": [
    "# **4. 정규 표현식(Regular Expression)**"
   ],
   "metadata": {
    "id": "66qXlij-GB6B"
   }
  },
  {
   "cell_type": "code",
   "source": [
    "import re  # 정규 표현식을 위한 모듈\n",
    "\n",
    "# 'How are you, boy?'에서 [abc]에 해당하는 문자를 찾아서 출력\n",
    "print(re.findall('[abc]', 'How are you, boy?'))\n",
    "\n",
    "# '3a5b7c9d'에서 [0123456789]에 해당하는 문자를 찾아서 출력\n",
    "print(re.findall('[0123456789]', '3a5b7c9d'))"
   ],
   "metadata": {
    "colab": {
     "base_uri": "https://localhost:8080/"
    },
    "id": "7QoVk2VuF-3g",
    "outputId": "d6ae1781-0500-4e06-c922-ae8ea5faac9f"
   },
   "execution_count": 7,
   "outputs": [
    {
     "output_type": "stream",
     "name": "stdout",
     "text": [
      "['a', 'b']\n",
      "['3', '5', '7', '9']\n"
     ]
    }
   ]
  },
  {
   "cell_type": "code",
   "source": [
    "from nltk.tokenize import RegexpTokenizer  # 정규 표현식 토크나이저\n",
    "\n",
    "text = 'Mr. Jone’s Orphanage is as cheery as cheery goes for a pastry shop'\n",
    "\n",
    "# 문자, 숫자, '(apostrophe)를 포함해 단어 구분\n",
    "tokenizer = RegexpTokenizer('[\\w]+')\n",
    "\n",
    "# 토큰화 결과\n",
    "print(tokenizer.tokenize(text))"
   ],
   "metadata": {
    "colab": {
     "base_uri": "https://localhost:8080/"
    },
    "id": "ewhv_e5THNc_",
    "outputId": "29842b4f-6433-461d-fd61-c939a30d081e"
   },
   "execution_count": 8,
   "outputs": [
    {
     "output_type": "stream",
     "name": "stdout",
     "text": [
      "['Mr', 'Jone', 's', 'Orphanage', 'is', 'as', 'cheery', 'as', 'cheery', 'goes', 'for', 'a', 'pastry', 'shop']\n"
     ]
    }
   ]
  },
  {
   "cell_type": "code",
   "source": [
    "# '(apostrophe)를 포함해 3글자 이상 단어 구분\n",
    "tokenizer = RegexpTokenizer(\"[\\w']{3,}\")\n",
    "\n",
    "# 토큰화 결과 출력\n",
    "print(tokenizer.tokenize(text))"
   ],
   "metadata": {
    "colab": {
     "base_uri": "https://localhost:8080/"
    },
    "id": "Yk21oTtIHciV",
    "outputId": "0a4df957-a8d6-4a48-94f8-e670ecbae371"
   },
   "execution_count": 9,
   "outputs": [
    {
     "output_type": "stream",
     "name": "stdout",
     "text": [
      "['Jone', 'Orphanage', 'cheery', 'cheery', 'goes', 'for', 'pastry', 'shop']\n"
     ]
    }
   ]
  },
  {
   "cell_type": "markdown",
   "source": [
    "# **5. 불용어 제거와 품사 태깅**"
   ],
   "metadata": {
    "id": "x5rP0ogQ9jR6"
   }
  },
  {
   "cell_type": "code",
   "source": [
    "from nltk.corpus import stopwords  # 불용어(corpus of stopwords) 모듈\n",
    "from nltk.tokenize import word_tokenize  # 토크나이저 모듈\n",
    "\n",
    "stop_words_list = stopwords.words('english')  # 영어 불용어 리스트\n",
    "\n",
    "print('불용어 개수: ', len(stop_words_list))  # 불용어 개수\n",
    "print('불용어 출력: ', stop_words_list)  # 불용어 출력"
   ],
   "metadata": {
    "colab": {
     "base_uri": "https://localhost:8080/"
    },
    "id": "TMaTzvuN9hdn",
    "outputId": "682d7d9e-37c6-48bc-afa2-7b388ad95020"
   },
   "execution_count": 10,
   "outputs": [
    {
     "output_type": "stream",
     "name": "stdout",
     "text": [
      "불용어 개수:  179\n",
      "불용어 출력:  ['i', 'me', 'my', 'myself', 'we', 'our', 'ours', 'ourselves', 'you', \"you're\", \"you've\", \"you'll\", \"you'd\", 'your', 'yours', 'yourself', 'yourselves', 'he', 'him', 'his', 'himself', 'she', \"she's\", 'her', 'hers', 'herself', 'it', \"it's\", 'its', 'itself', 'they', 'them', 'their', 'theirs', 'themselves', 'what', 'which', 'who', 'whom', 'this', 'that', \"that'll\", 'these', 'those', 'am', 'is', 'are', 'was', 'were', 'be', 'been', 'being', 'have', 'has', 'had', 'having', 'do', 'does', 'did', 'doing', 'a', 'an', 'the', 'and', 'but', 'if', 'or', 'because', 'as', 'until', 'while', 'of', 'at', 'by', 'for', 'with', 'about', 'against', 'between', 'into', 'through', 'during', 'before', 'after', 'above', 'below', 'to', 'from', 'up', 'down', 'in', 'out', 'on', 'off', 'over', 'under', 'again', 'further', 'then', 'once', 'here', 'there', 'when', 'where', 'why', 'how', 'all', 'any', 'both', 'each', 'few', 'more', 'most', 'other', 'some', 'such', 'no', 'nor', 'not', 'only', 'own', 'same', 'so', 'than', 'too', 'very', 's', 't', 'can', 'will', 'just', 'don', \"don't\", 'should', \"should've\", 'now', 'd', 'll', 'm', 'o', 're', 've', 'y', 'ain', 'aren', \"aren't\", 'couldn', \"couldn't\", 'didn', \"didn't\", 'doesn', \"doesn't\", 'hadn', \"hadn't\", 'hasn', \"hasn't\", 'haven', \"haven't\", 'isn', \"isn't\", 'ma', 'mightn', \"mightn't\", 'mustn', \"mustn't\", 'needn', \"needn't\", 'shan', \"shan't\", 'shouldn', \"shouldn't\", 'wasn', \"wasn't\", 'weren', \"weren't\", 'won', \"won't\", 'wouldn', \"wouldn't\"]\n"
     ]
    }
   ]
  },
  {
   "cell_type": "code",
   "source": [
    "text = \"Family is not an important thing. It's everything.\"\n",
    "\n",
    "stop_words = set(stopwords.words('english'))  # 영어 불용어 집합\n",
    "\n",
    "word_tokens = word_tokenize(text)  # 토큰화 실행\n",
    "\n",
    "result = []\n",
    "for word in word_tokens:\n",
    "    if word not in stop_words:  # 불용어가 아니면 result에 추가\n",
    "        result.append(word)\n",
    "\n",
    "print('불용어 제거 전: ', word_tokens)\n",
    "print('불용어 제거 후: ', result)"
   ],
   "metadata": {
    "colab": {
     "base_uri": "https://localhost:8080/"
    },
    "id": "eX3dfSP29hgJ",
    "outputId": "0f98c610-62a9-4994-a3bf-ff9c4800a1c2"
   },
   "execution_count": 11,
   "outputs": [
    {
     "output_type": "stream",
     "name": "stdout",
     "text": [
      "불용어 제거 전:  ['Family', 'is', 'not', 'an', 'important', 'thing', '.', 'It', \"'s\", 'everything', '.']\n",
      "불용어 제거 후:  ['Family', 'important', 'thing', '.', 'It', \"'s\", 'everything', '.']\n"
     ]
    }
   ]
  },
  {
   "cell_type": "code",
   "source": [
    "print(nltk.pos_tag(result))  # 토큰에 품사를 태깅"
   ],
   "metadata": {
    "colab": {
     "base_uri": "https://localhost:8080/"
    },
    "id": "8P1yj80wsFZV",
    "outputId": "e4e63277-5f34-46b0-d4b0-d78976092007"
   },
   "execution_count": 12,
   "outputs": [
    {
     "output_type": "stream",
     "name": "stdout",
     "text": [
      "[('Family', 'RB'), ('important', 'JJ'), ('thing', 'NN'), ('.', '.'), ('It', 'PRP'), (\"'s\", 'VBZ'), ('everything', 'NN'), ('.', '.')]\n"
     ]
    }
   ]
  }
 ]
}
