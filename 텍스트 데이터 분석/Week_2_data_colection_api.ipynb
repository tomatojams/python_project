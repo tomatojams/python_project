{
 "nbformat": 4,
 "nbformat_minor": 0,
 "metadata": {
  "colab": {
   "provenance": []
  },
  "kernelspec": {
   "name": "python3",
   "language": "python",
   "display_name": "Python 3 (ipykernel)"
  },
  "language_info": {
   "name": "python"
  }
 },
 "cells": [
  {
   "cell_type": "markdown",
   "source": [
    "# **0. 필요한 라이브러리 불러오기**"
   ],
   "metadata": {
    "id": "1Y32kYJv2T6O"
   }
  },
  {
   "cell_type": "code",
   "source": [
    "# 필요한 라이브러리들을 가져옴\n",
    "import urllib.parse\n",
    "import urllib.request\n",
    "import json\n",
    "import pandas as pd\n",
    "\n",
    "# Google Colab에서 Google 드라이브와의 연동을 위한 drive 모듈을 가져와 연동\n",
    "#from google.colab import drive\n",
    "#drive.mount('/content/drive')"
   ],
   "metadata": {
    "id": "muN5bgKi2VHP",
    "colab": {
     "base_uri": "https://localhost:8080/"
    },
    "outputId": "132114f8-9306-4e9d-f781-016a50c09f8c",
    "ExecuteTime": {
     "end_time": "2023-09-07T03:55:01.807289800Z",
     "start_time": "2023-09-07T03:55:01.794290800Z"
    }
   },
   "execution_count": 11,
   "outputs": []
  },
  {
   "cell_type": "markdown",
   "source": [
    "# **1. 네이버 검색 API를 활용하여 블로그 텍스트 수집**\n",
    "\n",
    "- 네이버 검색 API를 사용하여 키워드로 검색한 결과를 JSON 형식으로 변환\n",
    "\n",
    "- pandas 라이브러리를 사용하여 JSON을 pandas dataframe으로 변환하고 CSV 파일로 저장"
   ],
   "metadata": {
    "id": "vhbeoucDtqe1"
   }
  },
  {
   "cell_type": "code",
   "source": [
    "# 네이버 API 요청을 위한 클라이언트 정보\n",
    "client_id = \"7B0eu9W_uvwVifPSl5fS\"\n",
    "client_secret = \"u8xY0IrjIe\"\n",
    "\n",
    "# 검색할 쿼리 문자열을 아스키 코드로 변환\n",
    "encText = urllib.parse.quote(\"안국 맛집\")\n",
    "\n",
    "# 한번에 표시할 검색결과의 개수(display)와 정렬 옵션(sort) 설정\n",
    "display = '&display=15'\n",
    "sort = '&sort=date'\n",
    "\n",
    "# 네이버 블로그 검색 API의 URL\n",
    "url = \"https://openapi.naver.com/v1/search/blog?query=\" + encText + display + sort\n",
    "\n",
    "# 네이버 API 요청을 위한 헤더 설정\n",
    "request = urllib.request.Request(url)\n",
    "request.add_header(\"X-Naver-Client-Id\", client_id)\n",
    "request.add_header(\"X-Naver-Client-Secret\", client_secret)\n",
    "\n",
    "# 네이버 API 서버에 요청을 보내고 응답을 받음\n",
    "response = urllib.request.urlopen(request)\n",
    "\n",
    "# 응답 상태 코드를 확인하여 성공적으로 응답 받았는지 확인\n",
    "rescode = response.getcode()\n",
    "\n",
    "if rescode == 200:  # 응답 상태가 정상인 경우\n",
    "    # 응답을 받아옴\n",
    "    response_body = response.read()\n",
    "\n",
    "    # 받은 응답을 JSON 형식으로 변환하여 Dictionary로 저장\n",
    "    result = json.loads(response_body)\n",
    "\n",
    "    # 변환된 결과를 기반으로 DataFrame을 생성\n",
    "    df = pd.DataFrame(result['items'])\n",
    "\n",
    "    # DataFrame을 CSV 파일로 저장, 한글 깨짐 방지를 위해 인코딩을 utf-8-sig로 지정\n",
    "    df.to_csv(\"data/blog_data.csv\", index=False, encoding=\"utf-8-sig\")\n",
    "else:\n",
    "    print(\"Error Code:\" + rescode)"
   ],
   "metadata": {
    "id": "JbhYHOAgTWif",
    "ExecuteTime": {
     "end_time": "2023-09-07T03:55:03.856673700Z",
     "start_time": "2023-09-07T03:55:03.776713200Z"
    }
   },
   "execution_count": 12,
   "outputs": []
  },
  {
   "cell_type": "markdown",
   "source": [
    "# **2. 텍스트 데이터 수집결과 확인**"
   ],
   "metadata": {
    "id": "lN6LWgkj4r3V"
   }
  },
  {
   "cell_type": "code",
   "source": [
    "type(response_body)"
   ],
   "metadata": {
    "colab": {
     "base_uri": "https://localhost:8080/"
    },
    "id": "MVNenG634ocN",
    "outputId": "7d0625e7-e865-41a2-a72a-7375b4965db9",
    "ExecuteTime": {
     "end_time": "2023-09-07T03:55:33.856362400Z",
     "start_time": "2023-09-07T03:55:33.844359800Z"
    }
   },
   "execution_count": 13,
   "outputs": [
    {
     "data": {
      "text/plain": "bytes"
     },
     "execution_count": 13,
     "metadata": {},
     "output_type": "execute_result"
    }
   ]
  },
  {
   "cell_type": "code",
   "source": [
    "print(response_body.decode('utf-8'))"
   ],
   "metadata": {
    "colab": {
     "base_uri": "https://localhost:8080/"
    },
    "id": "1pWsXQ993MYZ",
    "outputId": "42a18d88-6ef0-462a-ecac-8d4d85322bd5",
    "ExecuteTime": {
     "end_time": "2023-09-07T03:55:34.758296200Z",
     "start_time": "2023-09-07T03:55:34.752297Z"
    }
   },
   "execution_count": 14,
   "outputs": [
    {
     "name": "stdout",
     "output_type": "stream",
     "text": [
      "{\n",
      "\t\"lastBuildDate\":\"Thu, 07 Sep 2023 12:55:05 +0900\",\n",
      "\t\"total\":140553,\n",
      "\t\"start\":1,\n",
      "\t\"display\":15,\n",
      "\t\"items\":[\n",
      "\t\t{\n",
      "\t\t\t\"title\":\"주말 일상 _ 광화문,북촌,판교현대백화점\",\n",
      "\t\t\t\"link\":\"https:\\/\\/blog.naver.com\\/thgus8040\\/223204861625\",\n",
      "\t\t\t\"description\":\"옷 사고 오랜만에 학교 선배를 만남 김치찜과 보쌈(수육) <b>맛집<\\/b>으로 유명 ! 웨이팅 길까봐 선배보고 미리... 찰나의 순간이란~ 토욜 일하고 바로 <b>안국<\\/b>역 넘어가서 알차게 보냈다. 이래놓고 다음날 또 판교감... \",\n",
      "\t\t\t\"bloggername\":\"내내 행복하소서\",\n",
      "\t\t\t\"bloggerlink\":\"blog.naver.com\\/thgus8040\",\n",
      "\t\t\t\"postdate\":\"20230907\"\n",
      "\t\t},\n",
      "\t\t{\n",
      "\t\t\t\"title\":\"&lt;소소한 행복&gt; 삼청동 북촌 냉면 <b>맛집<\\/b>\",\n",
      "\t\t\t\"link\":\"https:\\/\\/blog.naver.com\\/yonatimes\\/223204857873\",\n",
      "\t\t\t\"description\":\"삼청동 북촌에 가볍게 요기 때울 수 있는 밥집 소소한 행복 돈까스, 냉면 <b>맛집<\\/b>이라는 소문을 듣고 더운... 업체 확인 필요 주차장이 따로 없어요 :( <b>안국<\\/b>역 공영주차장 이용 인플루언서 @요나 팬하기\",\n",
      "\t\t\t\"bloggername\":\"요나의 요 책 나랑 볼래요?\",\n",
      "\t\t\t\"bloggerlink\":\"blog.naver.com\\/yonatimes\",\n",
      "\t\t\t\"postdate\":\"20230907\"\n",
      "\t\t},\n",
      "\t\t{\n",
      "\t\t\t\"title\":\"종로 <b>안국<\\/b> 런던 베이글 뮤지엄 캐치테이블로 예약 웨이팅 후... \",\n",
      "\t\t\t\"link\":\"https:\\/\\/blog.naver.com\\/hahahehee\\/223204842142\",\n",
      "\t\t\t\"description\":\"자꾸 생각나네? 다음날 맛있네? 하루 지나니깐 더 맛있네? 또 생각나서 사 먹고 싶은데 웨이팅할 자신이 없다.. 왜 인기 있는지 알겠는 #런던베이글뮤지엄 #베이글<b>맛집<\\/b> #종로데이트 #<b>안국<\\/b>데이트\",\n",
      "\t\t\t\"bloggername\":\"HAHAHEHE\",\n",
      "\t\t\t\"bloggerlink\":\"blog.naver.com\\/hahahehee\",\n",
      "\t\t\t\"postdate\":\"20230907\"\n",
      "\t\t},\n",
      "\t\t{\n",
      "\t\t\t\"title\":\"[일상]첫월급과 출근, 고양 덕양구 주말나들이(청와대\\/경복궁... \",\n",
      "\t\t\t\"link\":\"https:\\/\\/blog.naver.com\\/napzakgungyi\\/223204839693\",\n",
      "\t\t\t\"description\":\"<b>안국<\\/b>역에서 직장까지 거의 1보 1끼움을 하며 걸었다. 회사 본드로 긴급 조치를 취하고 퇴근할때 한번... 극장 주변엔 아파트밖에 없는데 도보 20분 화정역에 괜찮은 <b>맛집<\\/b>,카페가 다수 포진해있었답니다. 특히... \",\n",
      "\t\t\t\"bloggername\":\"늙은 후회와 젊은 도전\",\n",
      "\t\t\t\"bloggerlink\":\"blog.naver.com\\/napzakgungyi\",\n",
      "\t\t\t\"postdate\":\"20230907\"\n",
      "\t\t},\n",
      "\t\t{\n",
      "\t\t\t\"title\":\"9월에 올리는 8월 기록(합정포비피엠, <b>안국<\\/b>,책'우리의대화는... \",\n",
      "\t\t\t\"link\":\"https:\\/\\/blog.naver.com\\/minin95\\/223204834744\",\n",
      "\t\t\t\"description\":\"ㅎ #합정맛집 #스튜디오포비피엠 #합정바 #합정칵테일 #합정포비피엠 #<b>안국맛집<\\/b> #안국역 #스미스가좋아하는테라스 #안국브런치 #안국대성성 #독서 #우리들의대화는밤새도록끝이없지 #서솔휘수 #이달의독서\",\n",
      "\t\t\t\"bloggername\":\"이왕 사는거 뭐하고 살았는지 기억하려고 쓰는 blog\",\n",
      "\t\t\t\"bloggerlink\":\"blog.naver.com\\/minin95\",\n",
      "\t\t\t\"postdate\":\"20230907\"\n",
      "\t\t},\n",
      "\t\t{\n",
      "\t\t\t\"title\":\"[<b>안국<\\/b> 피자 <b>맛집<\\/b> : 플롭] 북촌 웨이팅 <b>맛집<\\/b>! 줄서는 식당에서도... \",\n",
      "\t\t\t\"link\":\"https:\\/\\/blog.naver.com\\/xshinji\\/223202754779\",\n",
      "\t\t\t\"description\":\"이걸로 되려나 모르겠네 #피자 #플롭피자 #<b>안국<\\/b>플롭 #<b>안국<\\/b>역플롭피자 #<b>안국<\\/b>역<b>맛집<\\/b> #피자<b>맛집<\\/b>추천 #피자좋아하세요 #마법의가루 #<b>맛집<\\/b>에진심 * 2022년 줄서는식당에 등장했던 &lt;플롭&gt; https:\\/\\/blog.naver.com\\/xshinji... \",\n",
      "\t\t\t\"bloggername\":\"Louis'story\",\n",
      "\t\t\t\"bloggerlink\":\"blog.naver.com\\/xshinji\",\n",
      "\t\t\t\"postdate\":\"20230907\"\n",
      "\t\t},\n",
      "\t\t{\n",
      "\t\t\t\"title\":\"<b>안국<\\/b>역<b>맛집<\\/b> &lt;도토리가든&gt; 추천\",\n",
      "\t\t\t\"link\":\"https:\\/\\/blog.naver.com\\/kpgj6661\\/223204818120\",\n",
      "\t\t\t\"description\":\"맛도 깔끔하고 정말 맛있게 먹었습니다 안국 분위기 맛집 + 음식 맛집 인정이에요~! <b>안국맛집<\\/b>으로 도토리가든 추천해요 #안국역맛집 #안국역카페 #안국도토리가든 [이 글은 소정의 원고료를 받아 작성하였습니다]\",\n",
      "\t\t\t\"bloggername\":\"케이피의블로그\",\n",
      "\t\t\t\"bloggerlink\":\"blog.naver.com\\/kpgj6661\",\n",
      "\t\t\t\"postdate\":\"20230907\"\n",
      "\t\t},\n",
      "\t\t{\n",
      "\t\t\t\"title\":\"명동교자,웨스틴조선,경복궁,카페추천,<b>맛집<\\/b>추천\",\n",
      "\t\t\t\"link\":\"https:\\/\\/blog.naver.com\\/aabac8\\/223204815694\",\n",
      "\t\t\t\"description\":\"<b>안국<\\/b>역 근처였고, 간판이 엄청 작아서 찾기가 힘들었다. 간판 보다는 2층 창문을 잘 보면 써있다. 굉장히... 고파서 <b>맛집<\\/b>을 서치해서 갔는데...역시나 웨이팅. 서울은 왜 그러는거야...이날 평일이었다고 생각보다... \",\n",
      "\t\t\t\"bloggername\":\"그냥 시간 날 때 하는 블로그\",\n",
      "\t\t\t\"bloggerlink\":\"blog.naver.com\\/aabac8\",\n",
      "\t\t\t\"postdate\":\"20230907\"\n",
      "\t\t},\n",
      "\t\t{\n",
      "\t\t\t\"title\":\"<b>안국<\\/b>역<b>맛집<\\/b> 헤비스테이크 <b>안국<\\/b>역점다녀왔어요\",\n",
      "\t\t\t\"link\":\"https:\\/\\/blog.naver.com\\/jaeyoon1415\\/223204804778\",\n",
      "\t\t\t\"description\":\"가성비 최고 ㅎㅎ 비프스테이크는 알맞게 구워져 육즙이 가득하고 식감이 부드러워서 입에서 살살 녹는거 같아요!ㅎ 너무 맛나게 먹고왔어요!! 대표번호 02-745-3309 #안국역맛집 #<b>안국맛집<\\/b> #안국역스테이크맛집\",\n",
      "\t\t\t\"bloggername\":\"jaeyoon1415님의블로그\",\n",
      "\t\t\t\"bloggerlink\":\"blog.naver.com\\/jaeyoon1415\",\n",
      "\t\t\t\"postdate\":\"20230907\"\n",
      "\t\t},\n",
      "\t\t{\n",
      "\t\t\t\"title\":\"<b>안국<\\/b>역 주류 및 주차정보 온 6.5 김치요리 와인바\",\n",
      "\t\t\t\"link\":\"https:\\/\\/blog.naver.com\\/92table\\/223204802910\",\n",
      "\t\t\t\"description\":\"한국적인 분위기와 통창이 트여있는 분위기를 내주는 내부에요 이곳은 지드래곤이 피마원 디너행사 때 사용했던 공간이기도 하고 이영자 등 많은 연예인들이 다녀간 북촌 <b>맛집<\\/b> 이랍니다~! 짝꿍이 일주일 전에... \",\n",
      "\t\t\t\"bloggername\":\"빵식이네\",\n",
      "\t\t\t\"bloggerlink\":\"blog.naver.com\\/92table\",\n",
      "\t\t\t\"postdate\":\"20230907\"\n",
      "\t\t},\n",
      "\t\t{\n",
      "\t\t\t\"title\":\"<b>안국<\\/b>역<b>맛집<\\/b> - 도토리가든 추천해요\",\n",
      "\t\t\t\"link\":\"https:\\/\\/blog.naver.com\\/dmd2925\\/223204801168\",\n",
      "\t\t\t\"description\":\"완전 나만의 맛난 그릭요거트를 만들어 먹을 수 있답니다 ㅎㅎ <b>안국맛집<\\/b>으로 도토리가든 추천해요 #안국역맛집 #안국역카페 #안국도토리가든 [이 글은 소정의 원고료를 받아 작성하였습니다]\",\n",
      "\t\t\t\"bloggername\":\"응응이 블로그\",\n",
      "\t\t\t\"bloggerlink\":\"blog.naver.com\\/dmd2925\",\n",
      "\t\t\t\"postdate\":\"20230907\"\n",
      "\t\t},\n",
      "\t\t{\n",
      "\t\t\t\"title\":\"8월 일기 : 눈물 폭주 푸바오\",\n",
      "\t\t\t\"link\":\"https:\\/\\/blog.naver.com\\/choi_jin_young\\/223204793906\",\n",
      "\t\t\t\"description\":\"저녁을 뭐먹지 하다가 급 돈까스가 땡겨서 경복궁을 산책하며 <b>안국<\\/b>역으로 이동. 옛날 경양식 돈까스가... 소박하고 무탈하게 보낸 1주년❤️ 푸바오를 보기위해 에버랜드에 도착 쭈구리 원숭이 의외의 <b>맛집<\\/b>... \",\n",
      "\t\t\t\"bloggername\":\"JinJiin\",\n",
      "\t\t\t\"bloggerlink\":\"blog.naver.com\\/choi_jin_young\",\n",
      "\t\t\t\"postdate\":\"20230907\"\n",
      "\t\t},\n",
      "\t\t{\n",
      "\t\t\t\"title\":\"<b>안국<\\/b>역 <b>맛집<\\/b>, 황생가 칼국수 | 사골칼국수 왕만두국 후기\",\n",
      "\t\t\t\"link\":\"https:\\/\\/blog.naver.com\\/wlsgml640324\\/223204790903\",\n",
      "\t\t\t\"description\":\"<b>안국<\\/b>역 <b>맛집<\\/b>하면 1등으로 나오는 <b>맛집<\\/b>이라 웨이팅이 꽤 있는 편이라고 한다 그래서 매장 앞에 웨이팅 의자들 짱 많음 ㅎ.ㅎ But 회전율 빠름! 그래서 점심시간에 갔는데도 한 15분? 기다리고 바로 들어갔다~ 꽉... \",\n",
      "\t\t\t\"bloggername\":\"희소식\",\n",
      "\t\t\t\"bloggerlink\":\"blog.naver.com\\/wlsgml640324\",\n",
      "\t\t\t\"postdate\":\"20230907\"\n",
      "\t\t},\n",
      "\t\t{\n",
      "\t\t\t\"title\":\"<b>안국<\\/b>역<b>맛집<\\/b> 추천! 도토리가든\",\n",
      "\t\t\t\"link\":\"https:\\/\\/blog.naver.com\\/dudud29\\/223204786045\",\n",
      "\t\t\t\"description\":\"인테리어까지 정말 예뻤던 카페여서 더더 마음에 들었어요 <b>안국<\\/b>역 <b>맛집<\\/b>으로 도토리가든 추천합니다 ~~ #<b>안국<\\/b>역<b>맛집<\\/b> #<b>안국<\\/b>역카페 #<b>안국<\\/b>도토리가든 [이 글은 소정의 원고료를 받아 작성하였습니다]\",\n",
      "\t\t\t\"bloggername\":\"dudud29님의 블로그\",\n",
      "\t\t\t\"bloggerlink\":\"blog.naver.com\\/dudud29\",\n",
      "\t\t\t\"postdate\":\"20230907\"\n",
      "\t\t},\n",
      "\t\t{\n",
      "\t\t\t\"title\":\"서울교통공사에서 진행하는 모바일 스탬프투어 또타 스탬프 투어\",\n",
      "\t\t\t\"link\":\"https:\\/\\/blog.naver.com\\/tapexsung2\\/223204782114\",\n",
      "\t\t\t\"description\":\"(3호선 <b>안국<\\/b>역) 2역 7 가을 공원 줍깅 ○ 용산공원 부분개방부지(4호선 이촌역) ○ 어린이대공원(7호선... 프사 <b>맛집<\\/b> 철길 포토존 ○ 경춘선 숲길(7호선 하계역) ○ 항동철길(7호선 천왕역) ○ 경의선 숲길(2호선... \",\n",
      "\t\t\t\"bloggername\":\"따솜희 HOUSE❤️\",\n",
      "\t\t\t\"bloggerlink\":\"blog.naver.com\\/tapexsung2\",\n",
      "\t\t\t\"postdate\":\"20230907\"\n",
      "\t\t}\n",
      "\t]\n",
      "}\n"
     ]
    }
   ]
  },
  {
   "cell_type": "code",
   "source": [
    "type(result)"
   ],
   "metadata": {
    "colab": {
     "base_uri": "https://localhost:8080/"
    },
    "id": "pC6DLjJp3kD_",
    "outputId": "dbe103a3-babe-4dcf-8fa0-acced2233df9",
    "ExecuteTime": {
     "end_time": "2023-09-07T03:55:35.553534300Z",
     "start_time": "2023-09-07T03:55:35.536533700Z"
    }
   },
   "execution_count": 15,
   "outputs": [
    {
     "data": {
      "text/plain": "dict"
     },
     "execution_count": 15,
     "metadata": {},
     "output_type": "execute_result"
    }
   ]
  },
  {
   "cell_type": "code",
   "source": [
    "result"
   ],
   "metadata": {
    "colab": {
     "base_uri": "https://localhost:8080/"
    },
    "id": "Idsgvmh043Cy",
    "outputId": "bab6135b-7148-42d5-a493-e331890c7bbc",
    "ExecuteTime": {
     "end_time": "2023-09-07T03:55:36.405814700Z",
     "start_time": "2023-09-07T03:55:36.369804200Z"
    }
   },
   "execution_count": 16,
   "outputs": [
    {
     "data": {
      "text/plain": "{'lastBuildDate': 'Thu, 07 Sep 2023 12:55:05 +0900',\n 'total': 140553,\n 'start': 1,\n 'display': 15,\n 'items': [{'title': '주말 일상 _ 광화문,북촌,판교현대백화점',\n   'link': 'https://blog.naver.com/thgus8040/223204861625',\n   'description': '옷 사고 오랜만에 학교 선배를 만남 김치찜과 보쌈(수육) <b>맛집</b>으로 유명 ! 웨이팅 길까봐 선배보고 미리... 찰나의 순간이란~ 토욜 일하고 바로 <b>안국</b>역 넘어가서 알차게 보냈다. 이래놓고 다음날 또 판교감... ',\n   'bloggername': '내내 행복하소서',\n   'bloggerlink': 'blog.naver.com/thgus8040',\n   'postdate': '20230907'},\n  {'title': '&lt;소소한 행복&gt; 삼청동 북촌 냉면 <b>맛집</b>',\n   'link': 'https://blog.naver.com/yonatimes/223204857873',\n   'description': '삼청동 북촌에 가볍게 요기 때울 수 있는 밥집 소소한 행복 돈까스, 냉면 <b>맛집</b>이라는 소문을 듣고 더운... 업체 확인 필요 주차장이 따로 없어요 :( <b>안국</b>역 공영주차장 이용 인플루언서 @요나 팬하기',\n   'bloggername': '요나의 요 책 나랑 볼래요?',\n   'bloggerlink': 'blog.naver.com/yonatimes',\n   'postdate': '20230907'},\n  {'title': '종로 <b>안국</b> 런던 베이글 뮤지엄 캐치테이블로 예약 웨이팅 후... ',\n   'link': 'https://blog.naver.com/hahahehee/223204842142',\n   'description': '자꾸 생각나네? 다음날 맛있네? 하루 지나니깐 더 맛있네? 또 생각나서 사 먹고 싶은데 웨이팅할 자신이 없다.. 왜 인기 있는지 알겠는 #런던베이글뮤지엄 #베이글<b>맛집</b> #종로데이트 #<b>안국</b>데이트',\n   'bloggername': 'HAHAHEHE',\n   'bloggerlink': 'blog.naver.com/hahahehee',\n   'postdate': '20230907'},\n  {'title': '[일상]첫월급과 출근, 고양 덕양구 주말나들이(청와대/경복궁... ',\n   'link': 'https://blog.naver.com/napzakgungyi/223204839693',\n   'description': '<b>안국</b>역에서 직장까지 거의 1보 1끼움을 하며 걸었다. 회사 본드로 긴급 조치를 취하고 퇴근할때 한번... 극장 주변엔 아파트밖에 없는데 도보 20분 화정역에 괜찮은 <b>맛집</b>,카페가 다수 포진해있었답니다. 특히... ',\n   'bloggername': '늙은 후회와 젊은 도전',\n   'bloggerlink': 'blog.naver.com/napzakgungyi',\n   'postdate': '20230907'},\n  {'title': \"9월에 올리는 8월 기록(합정포비피엠, <b>안국</b>,책'우리의대화는... \",\n   'link': 'https://blog.naver.com/minin95/223204834744',\n   'description': 'ㅎ #합정맛집 #스튜디오포비피엠 #합정바 #합정칵테일 #합정포비피엠 #<b>안국맛집</b> #안국역 #스미스가좋아하는테라스 #안국브런치 #안국대성성 #독서 #우리들의대화는밤새도록끝이없지 #서솔휘수 #이달의독서',\n   'bloggername': '이왕 사는거 뭐하고 살았는지 기억하려고 쓰는 blog',\n   'bloggerlink': 'blog.naver.com/minin95',\n   'postdate': '20230907'},\n  {'title': '[<b>안국</b> 피자 <b>맛집</b> : 플롭] 북촌 웨이팅 <b>맛집</b>! 줄서는 식당에서도... ',\n   'link': 'https://blog.naver.com/xshinji/223202754779',\n   'description': '이걸로 되려나 모르겠네 #피자 #플롭피자 #<b>안국</b>플롭 #<b>안국</b>역플롭피자 #<b>안국</b>역<b>맛집</b> #피자<b>맛집</b>추천 #피자좋아하세요 #마법의가루 #<b>맛집</b>에진심 * 2022년 줄서는식당에 등장했던 &lt;플롭&gt; https://blog.naver.com/xshinji... ',\n   'bloggername': \"Louis'story\",\n   'bloggerlink': 'blog.naver.com/xshinji',\n   'postdate': '20230907'},\n  {'title': '<b>안국</b>역<b>맛집</b> &lt;도토리가든&gt; 추천',\n   'link': 'https://blog.naver.com/kpgj6661/223204818120',\n   'description': '맛도 깔끔하고 정말 맛있게 먹었습니다 안국 분위기 맛집 + 음식 맛집 인정이에요~! <b>안국맛집</b>으로 도토리가든 추천해요 #안국역맛집 #안국역카페 #안국도토리가든 [이 글은 소정의 원고료를 받아 작성하였습니다]',\n   'bloggername': '케이피의블로그',\n   'bloggerlink': 'blog.naver.com/kpgj6661',\n   'postdate': '20230907'},\n  {'title': '명동교자,웨스틴조선,경복궁,카페추천,<b>맛집</b>추천',\n   'link': 'https://blog.naver.com/aabac8/223204815694',\n   'description': '<b>안국</b>역 근처였고, 간판이 엄청 작아서 찾기가 힘들었다. 간판 보다는 2층 창문을 잘 보면 써있다. 굉장히... 고파서 <b>맛집</b>을 서치해서 갔는데...역시나 웨이팅. 서울은 왜 그러는거야...이날 평일이었다고 생각보다... ',\n   'bloggername': '그냥 시간 날 때 하는 블로그',\n   'bloggerlink': 'blog.naver.com/aabac8',\n   'postdate': '20230907'},\n  {'title': '<b>안국</b>역<b>맛집</b> 헤비스테이크 <b>안국</b>역점다녀왔어요',\n   'link': 'https://blog.naver.com/jaeyoon1415/223204804778',\n   'description': '가성비 최고 ㅎㅎ 비프스테이크는 알맞게 구워져 육즙이 가득하고 식감이 부드러워서 입에서 살살 녹는거 같아요!ㅎ 너무 맛나게 먹고왔어요!! 대표번호 02-745-3309 #안국역맛집 #<b>안국맛집</b> #안국역스테이크맛집',\n   'bloggername': 'jaeyoon1415님의블로그',\n   'bloggerlink': 'blog.naver.com/jaeyoon1415',\n   'postdate': '20230907'},\n  {'title': '<b>안국</b>역 주류 및 주차정보 온 6.5 김치요리 와인바',\n   'link': 'https://blog.naver.com/92table/223204802910',\n   'description': '한국적인 분위기와 통창이 트여있는 분위기를 내주는 내부에요 이곳은 지드래곤이 피마원 디너행사 때 사용했던 공간이기도 하고 이영자 등 많은 연예인들이 다녀간 북촌 <b>맛집</b> 이랍니다~! 짝꿍이 일주일 전에... ',\n   'bloggername': '빵식이네',\n   'bloggerlink': 'blog.naver.com/92table',\n   'postdate': '20230907'},\n  {'title': '<b>안국</b>역<b>맛집</b> - 도토리가든 추천해요',\n   'link': 'https://blog.naver.com/dmd2925/223204801168',\n   'description': '완전 나만의 맛난 그릭요거트를 만들어 먹을 수 있답니다 ㅎㅎ <b>안국맛집</b>으로 도토리가든 추천해요 #안국역맛집 #안국역카페 #안국도토리가든 [이 글은 소정의 원고료를 받아 작성하였습니다]',\n   'bloggername': '응응이 블로그',\n   'bloggerlink': 'blog.naver.com/dmd2925',\n   'postdate': '20230907'},\n  {'title': '8월 일기 : 눈물 폭주 푸바오',\n   'link': 'https://blog.naver.com/choi_jin_young/223204793906',\n   'description': '저녁을 뭐먹지 하다가 급 돈까스가 땡겨서 경복궁을 산책하며 <b>안국</b>역으로 이동. 옛날 경양식 돈까스가... 소박하고 무탈하게 보낸 1주년❤️ 푸바오를 보기위해 에버랜드에 도착 쭈구리 원숭이 의외의 <b>맛집</b>... ',\n   'bloggername': 'JinJiin',\n   'bloggerlink': 'blog.naver.com/choi_jin_young',\n   'postdate': '20230907'},\n  {'title': '<b>안국</b>역 <b>맛집</b>, 황생가 칼국수 | 사골칼국수 왕만두국 후기',\n   'link': 'https://blog.naver.com/wlsgml640324/223204790903',\n   'description': '<b>안국</b>역 <b>맛집</b>하면 1등으로 나오는 <b>맛집</b>이라 웨이팅이 꽤 있는 편이라고 한다 그래서 매장 앞에 웨이팅 의자들 짱 많음 ㅎ.ㅎ But 회전율 빠름! 그래서 점심시간에 갔는데도 한 15분? 기다리고 바로 들어갔다~ 꽉... ',\n   'bloggername': '희소식',\n   'bloggerlink': 'blog.naver.com/wlsgml640324',\n   'postdate': '20230907'},\n  {'title': '<b>안국</b>역<b>맛집</b> 추천! 도토리가든',\n   'link': 'https://blog.naver.com/dudud29/223204786045',\n   'description': '인테리어까지 정말 예뻤던 카페여서 더더 마음에 들었어요 <b>안국</b>역 <b>맛집</b>으로 도토리가든 추천합니다 ~~ #<b>안국</b>역<b>맛집</b> #<b>안국</b>역카페 #<b>안국</b>도토리가든 [이 글은 소정의 원고료를 받아 작성하였습니다]',\n   'bloggername': 'dudud29님의 블로그',\n   'bloggerlink': 'blog.naver.com/dudud29',\n   'postdate': '20230907'},\n  {'title': '서울교통공사에서 진행하는 모바일 스탬프투어 또타 스탬프 투어',\n   'link': 'https://blog.naver.com/tapexsung2/223204782114',\n   'description': '(3호선 <b>안국</b>역) 2역 7 가을 공원 줍깅 ○ 용산공원 부분개방부지(4호선 이촌역) ○ 어린이대공원(7호선... 프사 <b>맛집</b> 철길 포토존 ○ 경춘선 숲길(7호선 하계역) ○ 항동철길(7호선 천왕역) ○ 경의선 숲길(2호선... ',\n   'bloggername': '따솜희 HOUSE❤️',\n   'bloggerlink': 'blog.naver.com/tapexsung2',\n   'postdate': '20230907'}]}"
     },
     "execution_count": 16,
     "metadata": {},
     "output_type": "execute_result"
    }
   ]
  },
  {
   "cell_type": "code",
   "execution_count": null,
   "outputs": [],
   "source": [],
   "metadata": {
    "collapsed": false
   }
  },
  {
   "cell_type": "code",
   "source": [
    "type(df)"
   ],
   "metadata": {
    "colab": {
     "base_uri": "https://localhost:8080/"
    },
    "id": "pjm8kCEP319k",
    "outputId": "237d33e2-9857-4503-a2b3-40a801648f85",
    "ExecuteTime": {
     "end_time": "2023-09-07T03:55:37.416567100Z",
     "start_time": "2023-09-07T03:55:37.407568100Z"
    }
   },
   "execution_count": 17,
   "outputs": [
    {
     "data": {
      "text/plain": "pandas.core.frame.DataFrame"
     },
     "execution_count": 17,
     "metadata": {},
     "output_type": "execute_result"
    }
   ]
  },
  {
   "cell_type": "code",
   "source": [
    "df"
   ],
   "metadata": {
    "colab": {
     "base_uri": "https://localhost:8080/",
     "height": 1529
    },
    "id": "6Ob58DQq45-B",
    "outputId": "aeb69228-b6c2-47ab-b930-841b85eeb976",
    "ExecuteTime": {
     "end_time": "2023-09-07T03:55:38.305016800Z",
     "start_time": "2023-09-07T03:55:38.292017800Z"
    }
   },
   "execution_count": 18,
   "outputs": [
    {
     "data": {
      "text/plain": "                                                title  \\\n0                              주말 일상 _ 광화문,북촌,판교현대백화점   \n1                  &lt;소소한 행복&gt; 삼청동 북촌 냉면 <b>맛집</b>   \n2         종로 <b>안국</b> 런던 베이글 뮤지엄 캐치테이블로 예약 웨이팅 후...    \n3               [일상]첫월급과 출근, 고양 덕양구 주말나들이(청와대/경복궁...    \n4        9월에 올리는 8월 기록(합정포비피엠, <b>안국</b>,책'우리의대화는...    \n5   [<b>안국</b> 피자 <b>맛집</b> : 플롭] 북촌 웨이팅 <b>맛집</b>...   \n6                <b>안국</b>역<b>맛집</b> &lt;도토리가든&gt; 추천   \n7                     명동교자,웨스틴조선,경복궁,카페추천,<b>맛집</b>추천   \n8         <b>안국</b>역<b>맛집</b> 헤비스테이크 <b>안국</b>역점다녀왔어요   \n9                 <b>안국</b>역 주류 및 주차정보 온 6.5 김치요리 와인바   \n10                   <b>안국</b>역<b>맛집</b> - 도토리가든 추천해요   \n11                                  8월 일기 : 눈물 폭주 푸바오   \n12      <b>안국</b>역 <b>맛집</b>, 황생가 칼국수 | 사골칼국수 왕만두국 후기   \n13                      <b>안국</b>역<b>맛집</b> 추천! 도토리가든   \n14                  서울교통공사에서 진행하는 모바일 스탬프투어 또타 스탬프 투어   \n\n                                                 link  \\\n0       https://blog.naver.com/thgus8040/223204861625   \n1       https://blog.naver.com/yonatimes/223204857873   \n2       https://blog.naver.com/hahahehee/223204842142   \n3    https://blog.naver.com/napzakgungyi/223204839693   \n4         https://blog.naver.com/minin95/223204834744   \n5         https://blog.naver.com/xshinji/223202754779   \n6        https://blog.naver.com/kpgj6661/223204818120   \n7          https://blog.naver.com/aabac8/223204815694   \n8     https://blog.naver.com/jaeyoon1415/223204804778   \n9         https://blog.naver.com/92table/223204802910   \n10        https://blog.naver.com/dmd2925/223204801168   \n11  https://blog.naver.com/choi_jin_young/22320479...   \n12   https://blog.naver.com/wlsgml640324/223204790903   \n13        https://blog.naver.com/dudud29/223204786045   \n14     https://blog.naver.com/tapexsung2/223204782114   \n\n                                          description  \\\n0   옷 사고 오랜만에 학교 선배를 만남 김치찜과 보쌈(수육) <b>맛집</b>으로 유명...   \n1   삼청동 북촌에 가볍게 요기 때울 수 있는 밥집 소소한 행복 돈까스, 냉면 <b>맛집...   \n2   자꾸 생각나네? 다음날 맛있네? 하루 지나니깐 더 맛있네? 또 생각나서 사 먹고 싶...   \n3   <b>안국</b>역에서 직장까지 거의 1보 1끼움을 하며 걸었다. 회사 본드로 긴급...   \n4   ㅎ #합정맛집 #스튜디오포비피엠 #합정바 #합정칵테일 #합정포비피엠 #<b>안국맛집...   \n5   이걸로 되려나 모르겠네 #피자 #플롭피자 #<b>안국</b>플롭 #<b>안국</b>...   \n6   맛도 깔끔하고 정말 맛있게 먹었습니다 안국 분위기 맛집 + 음식 맛집 인정이에요~!...   \n7   <b>안국</b>역 근처였고, 간판이 엄청 작아서 찾기가 힘들었다. 간판 보다는 2...   \n8   가성비 최고 ㅎㅎ 비프스테이크는 알맞게 구워져 육즙이 가득하고 식감이 부드러워서 입...   \n9   한국적인 분위기와 통창이 트여있는 분위기를 내주는 내부에요 이곳은 지드래곤이 피마원...   \n10  완전 나만의 맛난 그릭요거트를 만들어 먹을 수 있답니다 ㅎㅎ <b>안국맛집</b>으...   \n11  저녁을 뭐먹지 하다가 급 돈까스가 땡겨서 경복궁을 산책하며 <b>안국</b>역으로 ...   \n12  <b>안국</b>역 <b>맛집</b>하면 1등으로 나오는 <b>맛집</b>이라 웨이...   \n13  인테리어까지 정말 예뻤던 카페여서 더더 마음에 들었어요 <b>안국</b>역 <b>맛...   \n14  (3호선 <b>안국</b>역) 2역 7 가을 공원 줍깅 ○ 용산공원 부분개방부지(4...   \n\n                      bloggername                    bloggerlink  postdate  \n0                        내내 행복하소서       blog.naver.com/thgus8040  20230907  \n1                 요나의 요 책 나랑 볼래요?       blog.naver.com/yonatimes  20230907  \n2                        HAHAHEHE       blog.naver.com/hahahehee  20230907  \n3                    늙은 후회와 젊은 도전    blog.naver.com/napzakgungyi  20230907  \n4   이왕 사는거 뭐하고 살았는지 기억하려고 쓰는 blog         blog.naver.com/minin95  20230907  \n5                     Louis'story         blog.naver.com/xshinji  20230907  \n6                         케이피의블로그        blog.naver.com/kpgj6661  20230907  \n7                그냥 시간 날 때 하는 블로그          blog.naver.com/aabac8  20230907  \n8                jaeyoon1415님의블로그     blog.naver.com/jaeyoon1415  20230907  \n9                            빵식이네         blog.naver.com/92table  20230907  \n10                        응응이 블로그         blog.naver.com/dmd2925  20230907  \n11                        JinJiin  blog.naver.com/choi_jin_young  20230907  \n12                            희소식    blog.naver.com/wlsgml640324  20230907  \n13                  dudud29님의 블로그         blog.naver.com/dudud29  20230907  \n14                    따솜희 HOUSE❤️      blog.naver.com/tapexsung2  20230907  ",
      "text/html": "<div>\n<style scoped>\n    .dataframe tbody tr th:only-of-type {\n        vertical-align: middle;\n    }\n\n    .dataframe tbody tr th {\n        vertical-align: top;\n    }\n\n    .dataframe thead th {\n        text-align: right;\n    }\n</style>\n<table border=\"1\" class=\"dataframe\">\n  <thead>\n    <tr style=\"text-align: right;\">\n      <th></th>\n      <th>title</th>\n      <th>link</th>\n      <th>description</th>\n      <th>bloggername</th>\n      <th>bloggerlink</th>\n      <th>postdate</th>\n    </tr>\n  </thead>\n  <tbody>\n    <tr>\n      <th>0</th>\n      <td>주말 일상 _ 광화문,북촌,판교현대백화점</td>\n      <td>https://blog.naver.com/thgus8040/223204861625</td>\n      <td>옷 사고 오랜만에 학교 선배를 만남 김치찜과 보쌈(수육) &lt;b&gt;맛집&lt;/b&gt;으로 유명...</td>\n      <td>내내 행복하소서</td>\n      <td>blog.naver.com/thgus8040</td>\n      <td>20230907</td>\n    </tr>\n    <tr>\n      <th>1</th>\n      <td>&amp;lt;소소한 행복&amp;gt; 삼청동 북촌 냉면 &lt;b&gt;맛집&lt;/b&gt;</td>\n      <td>https://blog.naver.com/yonatimes/223204857873</td>\n      <td>삼청동 북촌에 가볍게 요기 때울 수 있는 밥집 소소한 행복 돈까스, 냉면 &lt;b&gt;맛집...</td>\n      <td>요나의 요 책 나랑 볼래요?</td>\n      <td>blog.naver.com/yonatimes</td>\n      <td>20230907</td>\n    </tr>\n    <tr>\n      <th>2</th>\n      <td>종로 &lt;b&gt;안국&lt;/b&gt; 런던 베이글 뮤지엄 캐치테이블로 예약 웨이팅 후...</td>\n      <td>https://blog.naver.com/hahahehee/223204842142</td>\n      <td>자꾸 생각나네? 다음날 맛있네? 하루 지나니깐 더 맛있네? 또 생각나서 사 먹고 싶...</td>\n      <td>HAHAHEHE</td>\n      <td>blog.naver.com/hahahehee</td>\n      <td>20230907</td>\n    </tr>\n    <tr>\n      <th>3</th>\n      <td>[일상]첫월급과 출근, 고양 덕양구 주말나들이(청와대/경복궁...</td>\n      <td>https://blog.naver.com/napzakgungyi/223204839693</td>\n      <td>&lt;b&gt;안국&lt;/b&gt;역에서 직장까지 거의 1보 1끼움을 하며 걸었다. 회사 본드로 긴급...</td>\n      <td>늙은 후회와 젊은 도전</td>\n      <td>blog.naver.com/napzakgungyi</td>\n      <td>20230907</td>\n    </tr>\n    <tr>\n      <th>4</th>\n      <td>9월에 올리는 8월 기록(합정포비피엠, &lt;b&gt;안국&lt;/b&gt;,책'우리의대화는...</td>\n      <td>https://blog.naver.com/minin95/223204834744</td>\n      <td>ㅎ #합정맛집 #스튜디오포비피엠 #합정바 #합정칵테일 #합정포비피엠 #&lt;b&gt;안국맛집...</td>\n      <td>이왕 사는거 뭐하고 살았는지 기억하려고 쓰는 blog</td>\n      <td>blog.naver.com/minin95</td>\n      <td>20230907</td>\n    </tr>\n    <tr>\n      <th>5</th>\n      <td>[&lt;b&gt;안국&lt;/b&gt; 피자 &lt;b&gt;맛집&lt;/b&gt; : 플롭] 북촌 웨이팅 &lt;b&gt;맛집&lt;/b&gt;...</td>\n      <td>https://blog.naver.com/xshinji/223202754779</td>\n      <td>이걸로 되려나 모르겠네 #피자 #플롭피자 #&lt;b&gt;안국&lt;/b&gt;플롭 #&lt;b&gt;안국&lt;/b&gt;...</td>\n      <td>Louis'story</td>\n      <td>blog.naver.com/xshinji</td>\n      <td>20230907</td>\n    </tr>\n    <tr>\n      <th>6</th>\n      <td>&lt;b&gt;안국&lt;/b&gt;역&lt;b&gt;맛집&lt;/b&gt; &amp;lt;도토리가든&amp;gt; 추천</td>\n      <td>https://blog.naver.com/kpgj6661/223204818120</td>\n      <td>맛도 깔끔하고 정말 맛있게 먹었습니다 안국 분위기 맛집 + 음식 맛집 인정이에요~!...</td>\n      <td>케이피의블로그</td>\n      <td>blog.naver.com/kpgj6661</td>\n      <td>20230907</td>\n    </tr>\n    <tr>\n      <th>7</th>\n      <td>명동교자,웨스틴조선,경복궁,카페추천,&lt;b&gt;맛집&lt;/b&gt;추천</td>\n      <td>https://blog.naver.com/aabac8/223204815694</td>\n      <td>&lt;b&gt;안국&lt;/b&gt;역 근처였고, 간판이 엄청 작아서 찾기가 힘들었다. 간판 보다는 2...</td>\n      <td>그냥 시간 날 때 하는 블로그</td>\n      <td>blog.naver.com/aabac8</td>\n      <td>20230907</td>\n    </tr>\n    <tr>\n      <th>8</th>\n      <td>&lt;b&gt;안국&lt;/b&gt;역&lt;b&gt;맛집&lt;/b&gt; 헤비스테이크 &lt;b&gt;안국&lt;/b&gt;역점다녀왔어요</td>\n      <td>https://blog.naver.com/jaeyoon1415/223204804778</td>\n      <td>가성비 최고 ㅎㅎ 비프스테이크는 알맞게 구워져 육즙이 가득하고 식감이 부드러워서 입...</td>\n      <td>jaeyoon1415님의블로그</td>\n      <td>blog.naver.com/jaeyoon1415</td>\n      <td>20230907</td>\n    </tr>\n    <tr>\n      <th>9</th>\n      <td>&lt;b&gt;안국&lt;/b&gt;역 주류 및 주차정보 온 6.5 김치요리 와인바</td>\n      <td>https://blog.naver.com/92table/223204802910</td>\n      <td>한국적인 분위기와 통창이 트여있는 분위기를 내주는 내부에요 이곳은 지드래곤이 피마원...</td>\n      <td>빵식이네</td>\n      <td>blog.naver.com/92table</td>\n      <td>20230907</td>\n    </tr>\n    <tr>\n      <th>10</th>\n      <td>&lt;b&gt;안국&lt;/b&gt;역&lt;b&gt;맛집&lt;/b&gt; - 도토리가든 추천해요</td>\n      <td>https://blog.naver.com/dmd2925/223204801168</td>\n      <td>완전 나만의 맛난 그릭요거트를 만들어 먹을 수 있답니다 ㅎㅎ &lt;b&gt;안국맛집&lt;/b&gt;으...</td>\n      <td>응응이 블로그</td>\n      <td>blog.naver.com/dmd2925</td>\n      <td>20230907</td>\n    </tr>\n    <tr>\n      <th>11</th>\n      <td>8월 일기 : 눈물 폭주 푸바오</td>\n      <td>https://blog.naver.com/choi_jin_young/22320479...</td>\n      <td>저녁을 뭐먹지 하다가 급 돈까스가 땡겨서 경복궁을 산책하며 &lt;b&gt;안국&lt;/b&gt;역으로 ...</td>\n      <td>JinJiin</td>\n      <td>blog.naver.com/choi_jin_young</td>\n      <td>20230907</td>\n    </tr>\n    <tr>\n      <th>12</th>\n      <td>&lt;b&gt;안국&lt;/b&gt;역 &lt;b&gt;맛집&lt;/b&gt;, 황생가 칼국수 | 사골칼국수 왕만두국 후기</td>\n      <td>https://blog.naver.com/wlsgml640324/223204790903</td>\n      <td>&lt;b&gt;안국&lt;/b&gt;역 &lt;b&gt;맛집&lt;/b&gt;하면 1등으로 나오는 &lt;b&gt;맛집&lt;/b&gt;이라 웨이...</td>\n      <td>희소식</td>\n      <td>blog.naver.com/wlsgml640324</td>\n      <td>20230907</td>\n    </tr>\n    <tr>\n      <th>13</th>\n      <td>&lt;b&gt;안국&lt;/b&gt;역&lt;b&gt;맛집&lt;/b&gt; 추천! 도토리가든</td>\n      <td>https://blog.naver.com/dudud29/223204786045</td>\n      <td>인테리어까지 정말 예뻤던 카페여서 더더 마음에 들었어요 &lt;b&gt;안국&lt;/b&gt;역 &lt;b&gt;맛...</td>\n      <td>dudud29님의 블로그</td>\n      <td>blog.naver.com/dudud29</td>\n      <td>20230907</td>\n    </tr>\n    <tr>\n      <th>14</th>\n      <td>서울교통공사에서 진행하는 모바일 스탬프투어 또타 스탬프 투어</td>\n      <td>https://blog.naver.com/tapexsung2/223204782114</td>\n      <td>(3호선 &lt;b&gt;안국&lt;/b&gt;역) 2역 7 가을 공원 줍깅 ○ 용산공원 부분개방부지(4...</td>\n      <td>따솜희 HOUSE❤️</td>\n      <td>blog.naver.com/tapexsung2</td>\n      <td>20230907</td>\n    </tr>\n  </tbody>\n</table>\n</div>"
     },
     "execution_count": 18,
     "metadata": {},
     "output_type": "execute_result"
    }
   ]
  },
  {
   "cell_type": "code",
   "execution_count": null,
   "outputs": [],
   "source": [],
   "metadata": {
    "collapsed": false
   }
  }
 ]
}
