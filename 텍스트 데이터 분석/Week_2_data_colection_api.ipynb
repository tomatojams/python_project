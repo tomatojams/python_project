{
 "nbformat": 4,
 "nbformat_minor": 0,
 "metadata": {
  "colab": {
   "provenance": []
  },
  "kernelspec": {
   "name": "python3",
   "language": "python",
   "display_name": "Python 3 (ipykernel)"
  },
  "language_info": {
   "name": "python"
  }
 },
 "cells": [
  {
   "cell_type": "markdown",
   "source": [
    "# **0. 필요한 라이브러리 불러오기**"
   ],
   "metadata": {
    "id": "1Y32kYJv2T6O"
   }
  },
  {
   "cell_type": "code",
   "source": [
    "# 필요한 라이브러리들을 가져옴\n",
    "import urllib.parse\n",
    "import urllib.request\n",
    "import json\n",
    "import pandas as pd\n",
    "\n",
    "# Google Colab에서 Google 드라이브와의 연동을 위한 drive 모듈을 가져와 연동\n",
    "#from google.colab import drive\n",
    "#drive.mount('/content/drive')"
   ],
   "metadata": {
    "id": "muN5bgKi2VHP",
    "colab": {
     "base_uri": "https://localhost:8080/"
    },
    "outputId": "132114f8-9306-4e9d-f781-016a50c09f8c",
    "ExecuteTime": {
     "end_time": "2023-09-15T11:14:44.811391100Z",
     "start_time": "2023-09-15T11:14:44.506828Z"
    }
   },
   "execution_count": 1,
   "outputs": []
  },
  {
   "cell_type": "markdown",
   "source": [
    "# **1. 네이버 검색 API를 활용하여 블로그 텍스트 수집**\n",
    "\n",
    "- 네이버 검색 API를 사용하여 키워드로 검색한 결과를 JSON 형식으로 변환\n",
    "\n",
    "- pandas 라이브러리를 사용하여 JSON을 pandas dataframe으로 변환하고 CSV 파일로 저장"
   ],
   "metadata": {
    "id": "vhbeoucDtqe1"
   }
  },
  {
   "cell_type": "code",
   "source": [
    "# 네이버 API 요청을 위한 클라이언트 정보\n",
    "client_id = \"k1tp5yrHgloO8kKA3tA9\"\n",
    "client_secret = \"Z5RidQZOhv\"\n",
    "\n",
    "# 검색할 쿼리 문자열을 아스키 코드로 변환\n",
    "encText = urllib.parse.quote(\"안국 맛집\")\n",
    "\n",
    "# 한번에 표시할 검색결과의 개수(display)와 정렬 옵션(sort) 설정\n",
    "display = '&display=15'\n",
    "sort = '&sort=date'\n",
    "\n",
    "# 네이버 블로그 검색 API의 URL\n",
    "url = \"https://openapi.naver.com/v1/search/blog?query=\" + encText + display + sort\n",
    "\n",
    "# 네이버 API 요청을 위한 헤더 설정\n",
    "request = urllib.request.Request(url)\n",
    "request.add_header(\"X-Naver-Client-Id\", client_id)\n",
    "request.add_header(\"X-Naver-Client-Secret\", client_secret)\n",
    "\n",
    "# 네이버 API 서버에 요청을 보내고 응답을 받음\n",
    "response = urllib.request.urlopen(request)\n",
    "\n",
    "# 응답 상태 코드를 확인하여 성공적으로 응답 받았는지 확인\n",
    "rescode = response.getcode()\n",
    "\n",
    "if rescode == 200:  # 응답 상태가 정상인 경우\n",
    "    # 응답을 받아옴\n",
    "    response_body = response.read()\n",
    "\n",
    "    # 받은 응답을 JSON 형식으로 변환하여 Dictionary로 저장\n",
    "    result = json.loads(response_body)\n",
    "\n",
    "    # 변환된 결과를 기반으로 DataFrame을 생성\n",
    "    df = pd.DataFrame(result['items'])\n",
    "\n",
    "    # DataFrame을 CSV 파일로 저장, 한글 깨짐 방지를 위해 인코딩을 utf-8-sig로 지정\n",
    "    df.to_csv(\"data/blog_data.csv\", index=False, encoding=\"utf-8-sig\")\n",
    "else:\n",
    "    print(\"Error Code:\" + rescode)"
   ],
   "metadata": {
    "id": "JbhYHOAgTWif",
    "ExecuteTime": {
     "end_time": "2023-09-15T11:19:36.358220700Z",
     "start_time": "2023-09-15T11:19:36.267260900Z"
    }
   },
   "execution_count": 4,
   "outputs": []
  },
  {
   "cell_type": "markdown",
   "source": [
    "# **2. 텍스트 데이터 수집결과 확인**"
   ],
   "metadata": {
    "id": "lN6LWgkj4r3V"
   }
  },
  {
   "cell_type": "code",
   "source": [
    "type(response_body)"
   ],
   "metadata": {
    "colab": {
     "base_uri": "https://localhost:8080/"
    },
    "id": "MVNenG634ocN",
    "outputId": "7d0625e7-e865-41a2-a72a-7375b4965db9",
    "ExecuteTime": {
     "end_time": "2023-09-15T11:21:10.831997200Z",
     "start_time": "2023-09-15T11:21:10.812923500Z"
    }
   },
   "execution_count": 5,
   "outputs": [
    {
     "data": {
      "text/plain": "bytes"
     },
     "execution_count": 5,
     "metadata": {},
     "output_type": "execute_result"
    }
   ]
  },
  {
   "cell_type": "code",
   "source": [
    "print(response_body.decode('utf-8'))"
   ],
   "metadata": {
    "colab": {
     "base_uri": "https://localhost:8080/"
    },
    "id": "1pWsXQ993MYZ",
    "outputId": "42a18d88-6ef0-462a-ecac-8d4d85322bd5",
    "ExecuteTime": {
     "end_time": "2023-09-15T11:21:17.740933200Z",
     "start_time": "2023-09-15T11:21:17.719886200Z"
    }
   },
   "execution_count": 6,
   "outputs": [
    {
     "name": "stdout",
     "output_type": "stream",
     "text": [
      "{\n",
      "\t\"lastBuildDate\":\"Fri, 15 Sep 2023 20:19:37 +0900\",\n",
      "\t\"total\":142085,\n",
      "\t\"start\":1,\n",
      "\t\"display\":15,\n",
      "\t\"items\":[\n",
      "\t\t{\n",
      "\t\t\t\"title\":\"[북촌,<b>안국 맛집<\\/b> | 내돈내산] 황생가칼국수 : 사골 칼국수 7회... \",\n",
      "\t\t\t\"link\":\"https:\\/\\/blog.naver.com\\/gonana276\\/223212580512\",\n",
      "\t\t\t\"description\":\"경복궁, 북촌, 삼청동, <b>안국<\\/b>에 가면 <b>맛집<\\/b>으로 항상 뜨는 곳이라 북촌 간김에 들러 봤어요! 미쉘리 가이드 연속 7회 선정된 곳이라서 기대하고 갔답니다. 믿고 보는 리뷰! 구매 후기 시작하겠습니다. 영업안내... \",\n",
      "\t\t\t\"bloggername\":\"고집있는 집요정의 생활기\",\n",
      "\t\t\t\"bloggerlink\":\"blog.naver.com\\/gonana276\",\n",
      "\t\t\t\"postdate\":\"20230915\"\n",
      "\t\t},\n",
      "\t\t{\n",
      "\t\t\t\"title\":\"북촌 <b>안국<\\/b>역 <b>맛집<\\/b> 꽃누리들밥 경복궁 데이트 코스 추천 및... \",\n",
      "\t\t\t\"link\":\"https:\\/\\/blog.naver.com\\/i95kitty\\/223212569939\",\n",
      "\t\t\t\"description\":\"❤ 야간개장도 운영하고 있는 경복궁이나 <b>안국<\\/b>역 데이트를 계획하고 계신 분들께 꼭 추천드리고 싶은 북촌 <b>안국<\\/b>역 <b>맛집<\\/b> 꽃누리들밥 솔직후기 찔게요! &quot; 경복궁 데이트하고 가기 좋은 한정식 <b>맛집<\\/b> &quot; 꽃누리들밥... \",\n",
      "\t\t\t\"bloggername\":\"맛있고 즐거운 나날 :D\",\n",
      "\t\t\t\"bloggerlink\":\"blog.naver.com\\/i95kitty\",\n",
      "\t\t\t\"postdate\":\"20230915\"\n",
      "\t\t},\n",
      "\t\t{\n",
      "\t\t\t\"title\":\"<b>안국<\\/b>역이자카야 [대림국수 <b>안국<\\/b>점] 한잔하러 가자!\",\n",
      "\t\t\t\"link\":\"https:\\/\\/blog.naver.com\\/ansobak789\\/223212567511\",\n",
      "\t\t\t\"description\":\"강추드립니다! https:\\/\\/naver.me\\/F9VBXGWU [이 글은 소정의 원고료를 받아 작성하였습니다] #안국역맛집 #<b>안국맛집<\\/b> #안국역맛집추천 #안국역데이트 #안국역술집 #안국역이자카야\",\n",
      "\t\t\t\"bloggername\":\"가을아 님의블로그 오신걸 환영해용\",\n",
      "\t\t\t\"bloggerlink\":\"blog.naver.com\\/ansobak789\",\n",
      "\t\t\t\"postdate\":\"20230915\"\n",
      "\t\t},\n",
      "\t\t{\n",
      "\t\t\t\"title\":\"<b>안국<\\/b>역\\/ 데이트 하기 좋은 피자집 플롭 (주말 웨이팅 꿀팁)\",\n",
      "\t\t\t\"link\":\"https:\\/\\/blog.naver.com\\/s9706104\\/223212561662\",\n",
      "\t\t\t\"description\":\"<b>안국<\\/b>역 핫플 <b>맛집<\\/b>인게 이해가 가는 인테리어와 맛의 피자집 플롭(PLOP) 2명이서 간다면 미디움 사이즈에 사이드나 파스타를 시키는 걸 개인적으로 추천하고 싶다. 그리고 주말이라면 꼭 줄서기는 집에서 출발할... \",\n",
      "\t\t\t\"bloggername\":\"Namnamyang\",\n",
      "\t\t\t\"bloggerlink\":\"blog.naver.com\\/s9706104\",\n",
      "\t\t\t\"postdate\":\"20230915\"\n",
      "\t\t},\n",
      "\t\t{\n",
      "\t\t\t\"title\":\"<b>안국<\\/b>역카페 [도토리가든] 맛있게 차한잔 해요 ^^~♥\",\n",
      "\t\t\t\"link\":\"https:\\/\\/blog.naver.com\\/ansobak789\\/223212556254\",\n",
      "\t\t\t\"description\":\"까눌레가 맛이 좋네요 직원분들도 다들 엄청 친절하더라구요! 감사합니다 강추드립니다! https:\\/\\/naver.me\\/Fv7ehRNW [이 글은 소정의 원고료를 받아 작성하였습니다] #<b>안국<\\/b>역<b>맛집<\\/b> #<b>안국<\\/b>역카페 #<b>안국<\\/b>도토리가든\",\n",
      "\t\t\t\"bloggername\":\"가을아 님의블로그 오신걸 환영해용\",\n",
      "\t\t\t\"bloggerlink\":\"blog.naver.com\\/ansobak789\",\n",
      "\t\t\t\"postdate\":\"20230915\"\n",
      "\t\t},\n",
      "\t\t{\n",
      "\t\t\t\"title\":\"[최대감네] 부모님과 식사하기 좋은 인사동<b>맛집<\\/b>\",\n",
      "\t\t\t\"link\":\"https:\\/\\/blog.naver.com\\/invoction34357\\/223212475598\",\n",
      "\t\t\t\"description\":\"인사동 <b>맛집<\\/b>으로 한국의 맛을 제대로 즐기고 온 최대감네를 소개합니다:) 매일 11:00~ 21:00 (연중무휴) 20:30 라스트오더 지하철 3호선 <b>안국<\\/b>역에서 도보 4분 걷다보니 가게에 도착했어요! 주차는 5분 거리에 있는... \",\n",
      "\t\t\t\"bloggername\":\"호시노 태준의 블로그\",\n",
      "\t\t\t\"bloggerlink\":\"blog.naver.com\\/invoction34357\",\n",
      "\t\t\t\"postdate\":\"20230915\"\n",
      "\t\t},\n",
      "\t\t{\n",
      "\t\t\t\"title\":\"[2023.09.15] 다운타우너 광화문점 - 아보카도 버거... \",\n",
      "\t\t\t\"link\":\"https:\\/\\/blog.naver.com\\/dktmzk92\\/223212550185\",\n",
      "\t\t\t\"description\":\"2021년부터 소급해서 일기장처럼 여행 \\/ <b>맛집<\\/b>을 정리하고 있지만, 블로그 시작하고 처음으로 당일에 포스트를 하고 싶은 <b>맛집<\\/b>을 다녀왔다!! 블로그 업로드 잠시 새치기 합니당 ㅋㅋ <b>안국<\\/b>역에서 줄서서 먹기로... \",\n",
      "\t\t\t\"bloggername\":\"아드리엘의 소소한 일상\",\n",
      "\t\t\t\"bloggerlink\":\"blog.naver.com\\/dktmzk92\",\n",
      "\t\t\t\"postdate\":\"20230915\"\n",
      "\t\t},\n",
      "\t\t{\n",
      "\t\t\t\"title\":\"[서울 <b>안국<\\/b>역] 창덕궁과 남산타워가 보이는 뷰 좋은 카페 '텅'\",\n",
      "\t\t\t\"link\":\"https:\\/\\/blog.naver.com\\/simsim-blog\\/223212549130\",\n",
      "\t\t\t\"description\":\"역에서 매우 가까운 편고, 창덕궁과 남산타워가 보이는 곳에 위치해 있어 뷰 <b>맛집<\\/b>으로 매우 유명한 카페이다. <b>안국<\\/b> 카페 '텅'메뉴판 모든 음료는 테이크아웃 시 15% 할인된다고 한다! 커피도 있고, 칵테일\\/위스티... \",\n",
      "\t\t\t\"bloggername\":\"지금 여기, SIMSIM Blog\",\n",
      "\t\t\t\"bloggerlink\":\"blog.naver.com\\/simsim-blog\",\n",
      "\t\t\t\"postdate\":\"20230915\"\n",
      "\t\t},\n",
      "\t\t{\n",
      "\t\t\t\"title\":\"귀여운 도토리 마들렌이 맛있는 <b>안국<\\/b>역 디저트 <b>맛집<\\/b> [도토리 가든]\",\n",
      "\t\t\t\"link\":\"https:\\/\\/blog.naver.com\\/10504z\\/223212546872\",\n",
      "\t\t\t\"description\":\"ㅎㅎ 이번 주말에 꼭1 <b>안국<\\/b>역에 방문하셔서 달달하고 맛있는 도토리 가든 디저트를 맛보시고 행복한 주말 보내시길 바랄께요 :) [ <b>안국<\\/b>역 디저트 <b>맛집<\\/b> 도토리 가든 위치 안내 ] 0507-1476-1176 연중무휴 am 08:00 ~ pm... \",\n",
      "\t\t\t\"bloggername\":\"Blog\",\n",
      "\t\t\t\"bloggerlink\":\"blog.naver.com\\/10504z\",\n",
      "\t\t\t\"postdate\":\"20230915\"\n",
      "\t\t},\n",
      "\t\t{\n",
      "\t\t\t\"title\":\"[플롭 <b>안국<\\/b>] <b>안국<\\/b>역 <b>맛집<\\/b> | 창덕궁 근처 Feat. 캐치테이블(원격... \",\n",
      "\t\t\t\"link\":\"https:\\/\\/blog.naver.com\\/yomyom_s\\/223212544637\",\n",
      "\t\t\t\"description\":\"창덕궁 가기 전 저녁을 먹어야돼서 찾다가 플롭 <b>안국<\\/b>이 정말 유명한 곳이더라구요 플롭. PLOP. 그래서... 피자 <b>맛집<\\/b>인데 피자는 무조건 먹어야되겠죠?!✌️ &lt; 주문내역 &gt; 1. 쿼터 피자 L (27,000원) (콘치즈 닭갈비... \",\n",
      "\t\t\t\"bloggername\":\"욤의 소소한 하루(◍ᐡ₃ᐡ◍)\",\n",
      "\t\t\t\"bloggerlink\":\"blog.naver.com\\/yomyom_s\",\n",
      "\t\t\t\"postdate\":\"20230915\"\n",
      "\t\t},\n",
      "\t\t{\n",
      "\t\t\t\"title\":\"인사동 파스타 <b>맛집<\\/b>... ㅣ전통과 옛스러움을 간직한 화덕피자 <b>맛집<\\/b>\",\n",
      "\t\t\t\"link\":\"https:\\/\\/blog.naver.com\\/soomni960601\\/223212537002\",\n",
      "\t\t\t\"description\":\"피자 <b>맛집<\\/b>인 아지오에요. 광화문, 경복궁, 인사동, <b>안국<\\/b>역, 종각역, 종로3가역 어디든 도보로 이동 가능한 종로<b>맛집<\\/b>인 아지오 인사동 화덕피자 <b>맛집<\\/b> 아지오는 매주 일요일이 정기 휴무일이구요 월- 토 11:30 - 22:00... \",\n",
      "\t\t\t\"bloggername\":\"맛도리\",\n",
      "\t\t\t\"bloggerlink\":\"blog.naver.com\\/soomni960601\",\n",
      "\t\t\t\"postdate\":\"20230915\"\n",
      "\t\t},\n",
      "\t\t{\n",
      "\t\t\t\"title\":\"<b>안국<\\/b>핫플 런던베이글뮤지엄 <b>안국<\\/b> 베이글 크림치즈 수프 왕창... \",\n",
      "\t\t\t\"link\":\"https:\\/\\/blog.naver.com\\/dadidida-\\/223207445616\",\n",
      "\t\t\t\"description\":\"요약 ♦️ 테이블링 원격줄서기 필수 (주말은 불가) ♦️ 평일 (금) 오전에도 대기 줄 어마무시... 내국인 외국인 일본어 영어 중국어 다 들리고 여전한 인기...! ♦️ 바로 옆에 스타벅스 있어서, 웨이팅... \",\n",
      "\t\t\t\"bloggername\":\"Always dignity\",\n",
      "\t\t\t\"bloggerlink\":\"blog.naver.com\\/dadidida-\",\n",
      "\t\t\t\"postdate\":\"20230915\"\n",
      "\t\t},\n",
      "\t\t{\n",
      "\t\t\t\"title\":\"디저트 좋아하세요? <b>안국<\\/b>역 [도토리가든] 꼭 가보세요!\",\n",
      "\t\t\t\"link\":\"https:\\/\\/blog.naver.com\\/jinsol255\\/223212530414\",\n",
      "\t\t\t\"description\":\"디저트 <b>맛집<\\/b>을 한 곳 소개해드리려고 해용! <b>안국<\\/b>역 근처에 있는 곳인데 바로 [도토리 가든]이랍니다~ 이름부터 벌써 귀엽지 않나요? 도토리 가든은 <b>안국<\\/b>역에서 걸어서 5분 정도? 소요되는 아주 가까운 곳에... \",\n",
      "\t\t\t\"bloggername\":\"و\",\n",
      "\t\t\t\"bloggerlink\":\"blog.naver.com\\/jinsol255\",\n",
      "\t\t\t\"postdate\":\"20230915\"\n",
      "\t\t},\n",
      "\t\t{\n",
      "\t\t\t\"title\":\"너무나도 떨렸던 시간들 ⸝⸝&gt;  ̫ &lt;⸝⸝\",\n",
      "\t\t\t\"link\":\"https:\\/\\/blog.naver.com\\/sfhdfgfgh\\/223212529864\",\n",
      "\t\t\t\"description\":\"♀️♀️ 2일차 7월 24일 아침에 준비하고 나가봅시다〰️ 어니언 <b>안국<\\/b> 도착! 점심 전인데도 사람이 진짜... 딱 노을지고 있어서 너무 이뻐요 하늘 <b>맛집<\\/b> 감성 미쳐요 사람들도 꽤 있고 물에 발 담그고... \",\n",
      "\t\t\t\"bloggername\":\"My dream space\",\n",
      "\t\t\t\"bloggerlink\":\"blog.naver.com\\/sfhdfgfgh\",\n",
      "\t\t\t\"postdate\":\"20230915\"\n",
      "\t\t},\n",
      "\t\t{\n",
      "\t\t\t\"title\":\"부빙 북촌점, <b>안국<\\/b>역 팥빙수와 초당옥수수빙수 <b>맛집<\\/b>\",\n",
      "\t\t\t\"link\":\"https:\\/\\/blog.naver.com\\/dntb33\\/223212527763\",\n",
      "\t\t\t\"description\":\"없이 먹을 수 있을 거 같고 어른 입맛 가지신 분들이 엄청 좋아할 거 같아요. 팥빙수나 시즌 빙수 좋아하는 분들, <b>안국<\\/b>역 북촌에 위치한 부빙 어떠세요?? #<b>안국<\\/b>역 #북촌 #빙수<b>맛집<\\/b> #부빙 #초당옥수수빙수 #팥빙수\",\n",
      "\t\t\t\"bloggername\":\"또또한 일상\",\n",
      "\t\t\t\"bloggerlink\":\"blog.naver.com\\/dntb33\",\n",
      "\t\t\t\"postdate\":\"20230915\"\n",
      "\t\t}\n",
      "\t]\n",
      "}\n"
     ]
    }
   ]
  },
  {
   "cell_type": "code",
   "source": [
    "type(result)"
   ],
   "metadata": {
    "colab": {
     "base_uri": "https://localhost:8080/"
    },
    "id": "pC6DLjJp3kD_",
    "outputId": "dbe103a3-babe-4dcf-8fa0-acced2233df9",
    "ExecuteTime": {
     "end_time": "2023-09-15T11:24:15.004658600Z",
     "start_time": "2023-09-15T11:24:14.987038200Z"
    }
   },
   "execution_count": 7,
   "outputs": [
    {
     "data": {
      "text/plain": "dict"
     },
     "execution_count": 7,
     "metadata": {},
     "output_type": "execute_result"
    }
   ]
  },
  {
   "cell_type": "code",
   "source": [
    "result"
   ],
   "metadata": {
    "colab": {
     "base_uri": "https://localhost:8080/"
    },
    "id": "Idsgvmh043Cy",
    "outputId": "bab6135b-7148-42d5-a493-e331890c7bbc",
    "ExecuteTime": {
     "end_time": "2023-09-15T11:24:16.761004400Z",
     "start_time": "2023-09-15T11:24:16.696449700Z"
    }
   },
   "execution_count": 8,
   "outputs": [
    {
     "data": {
      "text/plain": "{'lastBuildDate': 'Fri, 15 Sep 2023 20:19:37 +0900',\n 'total': 142085,\n 'start': 1,\n 'display': 15,\n 'items': [{'title': '[북촌,<b>안국 맛집</b> | 내돈내산] 황생가칼국수 : 사골 칼국수 7회... ',\n   'link': 'https://blog.naver.com/gonana276/223212580512',\n   'description': '경복궁, 북촌, 삼청동, <b>안국</b>에 가면 <b>맛집</b>으로 항상 뜨는 곳이라 북촌 간김에 들러 봤어요! 미쉘리 가이드 연속 7회 선정된 곳이라서 기대하고 갔답니다. 믿고 보는 리뷰! 구매 후기 시작하겠습니다. 영업안내... ',\n   'bloggername': '고집있는 집요정의 생활기',\n   'bloggerlink': 'blog.naver.com/gonana276',\n   'postdate': '20230915'},\n  {'title': '북촌 <b>안국</b>역 <b>맛집</b> 꽃누리들밥 경복궁 데이트 코스 추천 및... ',\n   'link': 'https://blog.naver.com/i95kitty/223212569939',\n   'description': '❤ 야간개장도 운영하고 있는 경복궁이나 <b>안국</b>역 데이트를 계획하고 계신 분들께 꼭 추천드리고 싶은 북촌 <b>안국</b>역 <b>맛집</b> 꽃누리들밥 솔직후기 찔게요! &quot; 경복궁 데이트하고 가기 좋은 한정식 <b>맛집</b> &quot; 꽃누리들밥... ',\n   'bloggername': '맛있고 즐거운 나날 :D',\n   'bloggerlink': 'blog.naver.com/i95kitty',\n   'postdate': '20230915'},\n  {'title': '<b>안국</b>역이자카야 [대림국수 <b>안국</b>점] 한잔하러 가자!',\n   'link': 'https://blog.naver.com/ansobak789/223212567511',\n   'description': '강추드립니다! https://naver.me/F9VBXGWU [이 글은 소정의 원고료를 받아 작성하였습니다] #안국역맛집 #<b>안국맛집</b> #안국역맛집추천 #안국역데이트 #안국역술집 #안국역이자카야',\n   'bloggername': '가을아 님의블로그 오신걸 환영해용',\n   'bloggerlink': 'blog.naver.com/ansobak789',\n   'postdate': '20230915'},\n  {'title': '<b>안국</b>역/ 데이트 하기 좋은 피자집 플롭 (주말 웨이팅 꿀팁)',\n   'link': 'https://blog.naver.com/s9706104/223212561662',\n   'description': '<b>안국</b>역 핫플 <b>맛집</b>인게 이해가 가는 인테리어와 맛의 피자집 플롭(PLOP) 2명이서 간다면 미디움 사이즈에 사이드나 파스타를 시키는 걸 개인적으로 추천하고 싶다. 그리고 주말이라면 꼭 줄서기는 집에서 출발할... ',\n   'bloggername': 'Namnamyang',\n   'bloggerlink': 'blog.naver.com/s9706104',\n   'postdate': '20230915'},\n  {'title': '<b>안국</b>역카페 [도토리가든] 맛있게 차한잔 해요 ^^~♥',\n   'link': 'https://blog.naver.com/ansobak789/223212556254',\n   'description': '까눌레가 맛이 좋네요 직원분들도 다들 엄청 친절하더라구요! 감사합니다 강추드립니다! https://naver.me/Fv7ehRNW [이 글은 소정의 원고료를 받아 작성하였습니다] #<b>안국</b>역<b>맛집</b> #<b>안국</b>역카페 #<b>안국</b>도토리가든',\n   'bloggername': '가을아 님의블로그 오신걸 환영해용',\n   'bloggerlink': 'blog.naver.com/ansobak789',\n   'postdate': '20230915'},\n  {'title': '[최대감네] 부모님과 식사하기 좋은 인사동<b>맛집</b>',\n   'link': 'https://blog.naver.com/invoction34357/223212475598',\n   'description': '인사동 <b>맛집</b>으로 한국의 맛을 제대로 즐기고 온 최대감네를 소개합니다:) 매일 11:00~ 21:00 (연중무휴) 20:30 라스트오더 지하철 3호선 <b>안국</b>역에서 도보 4분 걷다보니 가게에 도착했어요! 주차는 5분 거리에 있는... ',\n   'bloggername': '호시노 태준의 블로그',\n   'bloggerlink': 'blog.naver.com/invoction34357',\n   'postdate': '20230915'},\n  {'title': '[2023.09.15] 다운타우너 광화문점 - 아보카도 버거... ',\n   'link': 'https://blog.naver.com/dktmzk92/223212550185',\n   'description': '2021년부터 소급해서 일기장처럼 여행 / <b>맛집</b>을 정리하고 있지만, 블로그 시작하고 처음으로 당일에 포스트를 하고 싶은 <b>맛집</b>을 다녀왔다!! 블로그 업로드 잠시 새치기 합니당 ㅋㅋ <b>안국</b>역에서 줄서서 먹기로... ',\n   'bloggername': '아드리엘의 소소한 일상',\n   'bloggerlink': 'blog.naver.com/dktmzk92',\n   'postdate': '20230915'},\n  {'title': \"[서울 <b>안국</b>역] 창덕궁과 남산타워가 보이는 뷰 좋은 카페 '텅'\",\n   'link': 'https://blog.naver.com/simsim-blog/223212549130',\n   'description': \"역에서 매우 가까운 편고, 창덕궁과 남산타워가 보이는 곳에 위치해 있어 뷰 <b>맛집</b>으로 매우 유명한 카페이다. <b>안국</b> 카페 '텅'메뉴판 모든 음료는 테이크아웃 시 15% 할인된다고 한다! 커피도 있고, 칵테일/위스티... \",\n   'bloggername': '지금 여기, SIMSIM Blog',\n   'bloggerlink': 'blog.naver.com/simsim-blog',\n   'postdate': '20230915'},\n  {'title': '귀여운 도토리 마들렌이 맛있는 <b>안국</b>역 디저트 <b>맛집</b> [도토리 가든]',\n   'link': 'https://blog.naver.com/10504z/223212546872',\n   'description': 'ㅎㅎ 이번 주말에 꼭1 <b>안국</b>역에 방문하셔서 달달하고 맛있는 도토리 가든 디저트를 맛보시고 행복한 주말 보내시길 바랄께요 :) [ <b>안국</b>역 디저트 <b>맛집</b> 도토리 가든 위치 안내 ] 0507-1476-1176 연중무휴 am 08:00 ~ pm... ',\n   'bloggername': 'Blog',\n   'bloggerlink': 'blog.naver.com/10504z',\n   'postdate': '20230915'},\n  {'title': '[플롭 <b>안국</b>] <b>안국</b>역 <b>맛집</b> | 창덕궁 근처 Feat. 캐치테이블(원격... ',\n   'link': 'https://blog.naver.com/yomyom_s/223212544637',\n   'description': '창덕궁 가기 전 저녁을 먹어야돼서 찾다가 플롭 <b>안국</b>이 정말 유명한 곳이더라구요 플롭. PLOP. 그래서... 피자 <b>맛집</b>인데 피자는 무조건 먹어야되겠죠?!✌️ &lt; 주문내역 &gt; 1. 쿼터 피자 L (27,000원) (콘치즈 닭갈비... ',\n   'bloggername': '욤의 소소한 하루(◍ᐡ₃ᐡ◍)',\n   'bloggerlink': 'blog.naver.com/yomyom_s',\n   'postdate': '20230915'},\n  {'title': '인사동 파스타 <b>맛집</b>... ㅣ전통과 옛스러움을 간직한 화덕피자 <b>맛집</b>',\n   'link': 'https://blog.naver.com/soomni960601/223212537002',\n   'description': '피자 <b>맛집</b>인 아지오에요. 광화문, 경복궁, 인사동, <b>안국</b>역, 종각역, 종로3가역 어디든 도보로 이동 가능한 종로<b>맛집</b>인 아지오 인사동 화덕피자 <b>맛집</b> 아지오는 매주 일요일이 정기 휴무일이구요 월- 토 11:30 - 22:00... ',\n   'bloggername': '맛도리',\n   'bloggerlink': 'blog.naver.com/soomni960601',\n   'postdate': '20230915'},\n  {'title': '<b>안국</b>핫플 런던베이글뮤지엄 <b>안국</b> 베이글 크림치즈 수프 왕창... ',\n   'link': 'https://blog.naver.com/dadidida-/223207445616',\n   'description': '요약 ♦️ 테이블링 원격줄서기 필수 (주말은 불가) ♦️ 평일 (금) 오전에도 대기 줄 어마무시... 내국인 외국인 일본어 영어 중국어 다 들리고 여전한 인기...! ♦️ 바로 옆에 스타벅스 있어서, 웨이팅... ',\n   'bloggername': 'Always dignity',\n   'bloggerlink': 'blog.naver.com/dadidida-',\n   'postdate': '20230915'},\n  {'title': '디저트 좋아하세요? <b>안국</b>역 [도토리가든] 꼭 가보세요!',\n   'link': 'https://blog.naver.com/jinsol255/223212530414',\n   'description': '디저트 <b>맛집</b>을 한 곳 소개해드리려고 해용! <b>안국</b>역 근처에 있는 곳인데 바로 [도토리 가든]이랍니다~ 이름부터 벌써 귀엽지 않나요? 도토리 가든은 <b>안국</b>역에서 걸어서 5분 정도? 소요되는 아주 가까운 곳에... ',\n   'bloggername': 'و',\n   'bloggerlink': 'blog.naver.com/jinsol255',\n   'postdate': '20230915'},\n  {'title': '너무나도 떨렸던 시간들 ⸝⸝&gt;  ̫ &lt;⸝⸝',\n   'link': 'https://blog.naver.com/sfhdfgfgh/223212529864',\n   'description': '♀️♀️ 2일차 7월 24일 아침에 준비하고 나가봅시다〰️ 어니언 <b>안국</b> 도착! 점심 전인데도 사람이 진짜... 딱 노을지고 있어서 너무 이뻐요 하늘 <b>맛집</b> 감성 미쳐요 사람들도 꽤 있고 물에 발 담그고... ',\n   'bloggername': 'My dream space',\n   'bloggerlink': 'blog.naver.com/sfhdfgfgh',\n   'postdate': '20230915'},\n  {'title': '부빙 북촌점, <b>안국</b>역 팥빙수와 초당옥수수빙수 <b>맛집</b>',\n   'link': 'https://blog.naver.com/dntb33/223212527763',\n   'description': '없이 먹을 수 있을 거 같고 어른 입맛 가지신 분들이 엄청 좋아할 거 같아요. 팥빙수나 시즌 빙수 좋아하는 분들, <b>안국</b>역 북촌에 위치한 부빙 어떠세요?? #<b>안국</b>역 #북촌 #빙수<b>맛집</b> #부빙 #초당옥수수빙수 #팥빙수',\n   'bloggername': '또또한 일상',\n   'bloggerlink': 'blog.naver.com/dntb33',\n   'postdate': '20230915'}]}"
     },
     "execution_count": 8,
     "metadata": {},
     "output_type": "execute_result"
    }
   ]
  },
  {
   "cell_type": "code",
   "source": [
    "type(df)"
   ],
   "metadata": {
    "colab": {
     "base_uri": "https://localhost:8080/"
    },
    "id": "pjm8kCEP319k",
    "outputId": "237d33e2-9857-4503-a2b3-40a801648f85",
    "ExecuteTime": {
     "end_time": "2023-09-15T11:25:07.913032600Z",
     "start_time": "2023-09-15T11:25:07.903166100Z"
    }
   },
   "execution_count": 9,
   "outputs": [
    {
     "data": {
      "text/plain": "pandas.core.frame.DataFrame"
     },
     "execution_count": 9,
     "metadata": {},
     "output_type": "execute_result"
    }
   ]
  },
  {
   "cell_type": "code",
   "source": [
    "df"
   ],
   "metadata": {
    "colab": {
     "base_uri": "https://localhost:8080/",
     "height": 1529
    },
    "id": "6Ob58DQq45-B",
    "outputId": "aeb69228-b6c2-47ab-b930-841b85eeb976",
    "ExecuteTime": {
     "end_time": "2023-09-15T11:25:09.556308400Z",
     "start_time": "2023-09-15T11:25:09.532124800Z"
    }
   },
   "execution_count": 10,
   "outputs": [
    {
     "data": {
      "text/plain": "                                                title  \\\n0     [북촌,<b>안국 맛집</b> | 내돈내산] 황생가칼국수 : 사골 칼국수 7회...    \n1   북촌 <b>안국</b>역 <b>맛집</b> 꽃누리들밥 경복궁 데이트 코스 추천 및...    \n2           <b>안국</b>역이자카야 [대림국수 <b>안국</b>점] 한잔하러 가자!   \n3            <b>안국</b>역/ 데이트 하기 좋은 피자집 플롭 (주말 웨이팅 꿀팁)   \n4                <b>안국</b>역카페 [도토리가든] 맛있게 차한잔 해요 ^^~♥   \n5                    [최대감네] 부모님과 식사하기 좋은 인사동<b>맛집</b>   \n6               [2023.09.15] 다운타우너 광화문점 - 아보카도 버거...    \n7          [서울 <b>안국</b>역] 창덕궁과 남산타워가 보이는 뷰 좋은 카페 '텅'   \n8   귀여운 도토리 마들렌이 맛있는 <b>안국</b>역 디저트 <b>맛집</b> [도토리...   \n9   [플롭 <b>안국</b>] <b>안국</b>역 <b>맛집</b> | 창덕궁 근처 F...   \n10  인사동 파스타 <b>맛집</b>... ㅣ전통과 옛스러움을 간직한 화덕피자 <b>맛집...   \n11  <b>안국</b>핫플 런던베이글뮤지엄 <b>안국</b> 베이글 크림치즈 수프 왕창...    \n12              디저트 좋아하세요? <b>안국</b>역 [도토리가든] 꼭 가보세요!   \n13                      너무나도 떨렸던 시간들 ⸝⸝&gt;  ̫ &lt;⸝⸝   \n14          부빙 북촌점, <b>안국</b>역 팥빙수와 초당옥수수빙수 <b>맛집</b>   \n\n                                                 link  \\\n0       https://blog.naver.com/gonana276/223212580512   \n1        https://blog.naver.com/i95kitty/223212569939   \n2      https://blog.naver.com/ansobak789/223212567511   \n3        https://blog.naver.com/s9706104/223212561662   \n4      https://blog.naver.com/ansobak789/223212556254   \n5   https://blog.naver.com/invoction34357/22321247...   \n6        https://blog.naver.com/dktmzk92/223212550185   \n7     https://blog.naver.com/simsim-blog/223212549130   \n8          https://blog.naver.com/10504z/223212546872   \n9        https://blog.naver.com/yomyom_s/223212544637   \n10   https://blog.naver.com/soomni960601/223212537002   \n11      https://blog.naver.com/dadidida-/223207445616   \n12      https://blog.naver.com/jinsol255/223212530414   \n13      https://blog.naver.com/sfhdfgfgh/223212529864   \n14         https://blog.naver.com/dntb33/223212527763   \n\n                                          description         bloggername  \\\n0   경복궁, 북촌, 삼청동, <b>안국</b>에 가면 <b>맛집</b>으로 항상 뜨는 ...       고집있는 집요정의 생활기   \n1   ❤ 야간개장도 운영하고 있는 경복궁이나 <b>안국</b>역 데이트를 계획하고 계신 ...       맛있고 즐거운 나날 :D   \n2   강추드립니다! https://naver.me/F9VBXGWU [이 글은 소정의 원고...  가을아 님의블로그 오신걸 환영해용   \n3   <b>안국</b>역 핫플 <b>맛집</b>인게 이해가 가는 인테리어와 맛의 피자집 ...          Namnamyang   \n4   까눌레가 맛이 좋네요 직원분들도 다들 엄청 친절하더라구요! 감사합니다 강추드립니다!...  가을아 님의블로그 오신걸 환영해용   \n5   인사동 <b>맛집</b>으로 한국의 맛을 제대로 즐기고 온 최대감네를 소개합니다:)...         호시노 태준의 블로그   \n6   2021년부터 소급해서 일기장처럼 여행 / <b>맛집</b>을 정리하고 있지만, 블...        아드리엘의 소소한 일상   \n7   역에서 매우 가까운 편고, 창덕궁과 남산타워가 보이는 곳에 위치해 있어 뷰 <b>맛...  지금 여기, SIMSIM Blog   \n8   ㅎㅎ 이번 주말에 꼭1 <b>안국</b>역에 방문하셔서 달달하고 맛있는 도토리 가든...                Blog   \n9   창덕궁 가기 전 저녁을 먹어야돼서 찾다가 플롭 <b>안국</b>이 정말 유명한 곳이...    욤의 소소한 하루(◍ᐡ₃ᐡ◍)   \n10  피자 <b>맛집</b>인 아지오에요. 광화문, 경복궁, 인사동, <b>안국</b>역...                 맛도리   \n11  요약 ♦️ 테이블링 원격줄서기 필수 (주말은 불가) ♦️ 평일 (금) 오전에도 대기...      Always dignity   \n12  디저트 <b>맛집</b>을 한 곳 소개해드리려고 해용! <b>안국</b>역 근처에 ...                   و   \n13  ♀️♀️ 2일차 7월 24일 아침에 준비하고 나가봅시다〰️ 어니언 <b>안국</b>...      My dream space   \n14  없이 먹을 수 있을 거 같고 어른 입맛 가지신 분들이 엄청 좋아할 거 같아요. 팥빙...              또또한 일상   \n\n                      bloggerlink  postdate  \n0        blog.naver.com/gonana276  20230915  \n1         blog.naver.com/i95kitty  20230915  \n2       blog.naver.com/ansobak789  20230915  \n3         blog.naver.com/s9706104  20230915  \n4       blog.naver.com/ansobak789  20230915  \n5   blog.naver.com/invoction34357  20230915  \n6         blog.naver.com/dktmzk92  20230915  \n7      blog.naver.com/simsim-blog  20230915  \n8           blog.naver.com/10504z  20230915  \n9         blog.naver.com/yomyom_s  20230915  \n10    blog.naver.com/soomni960601  20230915  \n11       blog.naver.com/dadidida-  20230915  \n12       blog.naver.com/jinsol255  20230915  \n13       blog.naver.com/sfhdfgfgh  20230915  \n14          blog.naver.com/dntb33  20230915  ",
      "text/html": "<div>\n<style scoped>\n    .dataframe tbody tr th:only-of-type {\n        vertical-align: middle;\n    }\n\n    .dataframe tbody tr th {\n        vertical-align: top;\n    }\n\n    .dataframe thead th {\n        text-align: right;\n    }\n</style>\n<table border=\"1\" class=\"dataframe\">\n  <thead>\n    <tr style=\"text-align: right;\">\n      <th></th>\n      <th>title</th>\n      <th>link</th>\n      <th>description</th>\n      <th>bloggername</th>\n      <th>bloggerlink</th>\n      <th>postdate</th>\n    </tr>\n  </thead>\n  <tbody>\n    <tr>\n      <th>0</th>\n      <td>[북촌,&lt;b&gt;안국 맛집&lt;/b&gt; | 내돈내산] 황생가칼국수 : 사골 칼국수 7회...</td>\n      <td>https://blog.naver.com/gonana276/223212580512</td>\n      <td>경복궁, 북촌, 삼청동, &lt;b&gt;안국&lt;/b&gt;에 가면 &lt;b&gt;맛집&lt;/b&gt;으로 항상 뜨는 ...</td>\n      <td>고집있는 집요정의 생활기</td>\n      <td>blog.naver.com/gonana276</td>\n      <td>20230915</td>\n    </tr>\n    <tr>\n      <th>1</th>\n      <td>북촌 &lt;b&gt;안국&lt;/b&gt;역 &lt;b&gt;맛집&lt;/b&gt; 꽃누리들밥 경복궁 데이트 코스 추천 및...</td>\n      <td>https://blog.naver.com/i95kitty/223212569939</td>\n      <td>❤ 야간개장도 운영하고 있는 경복궁이나 &lt;b&gt;안국&lt;/b&gt;역 데이트를 계획하고 계신 ...</td>\n      <td>맛있고 즐거운 나날 :D</td>\n      <td>blog.naver.com/i95kitty</td>\n      <td>20230915</td>\n    </tr>\n    <tr>\n      <th>2</th>\n      <td>&lt;b&gt;안국&lt;/b&gt;역이자카야 [대림국수 &lt;b&gt;안국&lt;/b&gt;점] 한잔하러 가자!</td>\n      <td>https://blog.naver.com/ansobak789/223212567511</td>\n      <td>강추드립니다! https://naver.me/F9VBXGWU [이 글은 소정의 원고...</td>\n      <td>가을아 님의블로그 오신걸 환영해용</td>\n      <td>blog.naver.com/ansobak789</td>\n      <td>20230915</td>\n    </tr>\n    <tr>\n      <th>3</th>\n      <td>&lt;b&gt;안국&lt;/b&gt;역/ 데이트 하기 좋은 피자집 플롭 (주말 웨이팅 꿀팁)</td>\n      <td>https://blog.naver.com/s9706104/223212561662</td>\n      <td>&lt;b&gt;안국&lt;/b&gt;역 핫플 &lt;b&gt;맛집&lt;/b&gt;인게 이해가 가는 인테리어와 맛의 피자집 ...</td>\n      <td>Namnamyang</td>\n      <td>blog.naver.com/s9706104</td>\n      <td>20230915</td>\n    </tr>\n    <tr>\n      <th>4</th>\n      <td>&lt;b&gt;안국&lt;/b&gt;역카페 [도토리가든] 맛있게 차한잔 해요 ^^~♥</td>\n      <td>https://blog.naver.com/ansobak789/223212556254</td>\n      <td>까눌레가 맛이 좋네요 직원분들도 다들 엄청 친절하더라구요! 감사합니다 강추드립니다!...</td>\n      <td>가을아 님의블로그 오신걸 환영해용</td>\n      <td>blog.naver.com/ansobak789</td>\n      <td>20230915</td>\n    </tr>\n    <tr>\n      <th>5</th>\n      <td>[최대감네] 부모님과 식사하기 좋은 인사동&lt;b&gt;맛집&lt;/b&gt;</td>\n      <td>https://blog.naver.com/invoction34357/22321247...</td>\n      <td>인사동 &lt;b&gt;맛집&lt;/b&gt;으로 한국의 맛을 제대로 즐기고 온 최대감네를 소개합니다:)...</td>\n      <td>호시노 태준의 블로그</td>\n      <td>blog.naver.com/invoction34357</td>\n      <td>20230915</td>\n    </tr>\n    <tr>\n      <th>6</th>\n      <td>[2023.09.15] 다운타우너 광화문점 - 아보카도 버거...</td>\n      <td>https://blog.naver.com/dktmzk92/223212550185</td>\n      <td>2021년부터 소급해서 일기장처럼 여행 / &lt;b&gt;맛집&lt;/b&gt;을 정리하고 있지만, 블...</td>\n      <td>아드리엘의 소소한 일상</td>\n      <td>blog.naver.com/dktmzk92</td>\n      <td>20230915</td>\n    </tr>\n    <tr>\n      <th>7</th>\n      <td>[서울 &lt;b&gt;안국&lt;/b&gt;역] 창덕궁과 남산타워가 보이는 뷰 좋은 카페 '텅'</td>\n      <td>https://blog.naver.com/simsim-blog/223212549130</td>\n      <td>역에서 매우 가까운 편고, 창덕궁과 남산타워가 보이는 곳에 위치해 있어 뷰 &lt;b&gt;맛...</td>\n      <td>지금 여기, SIMSIM Blog</td>\n      <td>blog.naver.com/simsim-blog</td>\n      <td>20230915</td>\n    </tr>\n    <tr>\n      <th>8</th>\n      <td>귀여운 도토리 마들렌이 맛있는 &lt;b&gt;안국&lt;/b&gt;역 디저트 &lt;b&gt;맛집&lt;/b&gt; [도토리...</td>\n      <td>https://blog.naver.com/10504z/223212546872</td>\n      <td>ㅎㅎ 이번 주말에 꼭1 &lt;b&gt;안국&lt;/b&gt;역에 방문하셔서 달달하고 맛있는 도토리 가든...</td>\n      <td>Blog</td>\n      <td>blog.naver.com/10504z</td>\n      <td>20230915</td>\n    </tr>\n    <tr>\n      <th>9</th>\n      <td>[플롭 &lt;b&gt;안국&lt;/b&gt;] &lt;b&gt;안국&lt;/b&gt;역 &lt;b&gt;맛집&lt;/b&gt; | 창덕궁 근처 F...</td>\n      <td>https://blog.naver.com/yomyom_s/223212544637</td>\n      <td>창덕궁 가기 전 저녁을 먹어야돼서 찾다가 플롭 &lt;b&gt;안국&lt;/b&gt;이 정말 유명한 곳이...</td>\n      <td>욤의 소소한 하루(◍ᐡ₃ᐡ◍)</td>\n      <td>blog.naver.com/yomyom_s</td>\n      <td>20230915</td>\n    </tr>\n    <tr>\n      <th>10</th>\n      <td>인사동 파스타 &lt;b&gt;맛집&lt;/b&gt;... ㅣ전통과 옛스러움을 간직한 화덕피자 &lt;b&gt;맛집...</td>\n      <td>https://blog.naver.com/soomni960601/223212537002</td>\n      <td>피자 &lt;b&gt;맛집&lt;/b&gt;인 아지오에요. 광화문, 경복궁, 인사동, &lt;b&gt;안국&lt;/b&gt;역...</td>\n      <td>맛도리</td>\n      <td>blog.naver.com/soomni960601</td>\n      <td>20230915</td>\n    </tr>\n    <tr>\n      <th>11</th>\n      <td>&lt;b&gt;안국&lt;/b&gt;핫플 런던베이글뮤지엄 &lt;b&gt;안국&lt;/b&gt; 베이글 크림치즈 수프 왕창...</td>\n      <td>https://blog.naver.com/dadidida-/223207445616</td>\n      <td>요약 ♦️ 테이블링 원격줄서기 필수 (주말은 불가) ♦️ 평일 (금) 오전에도 대기...</td>\n      <td>Always dignity</td>\n      <td>blog.naver.com/dadidida-</td>\n      <td>20230915</td>\n    </tr>\n    <tr>\n      <th>12</th>\n      <td>디저트 좋아하세요? &lt;b&gt;안국&lt;/b&gt;역 [도토리가든] 꼭 가보세요!</td>\n      <td>https://blog.naver.com/jinsol255/223212530414</td>\n      <td>디저트 &lt;b&gt;맛집&lt;/b&gt;을 한 곳 소개해드리려고 해용! &lt;b&gt;안국&lt;/b&gt;역 근처에 ...</td>\n      <td>و</td>\n      <td>blog.naver.com/jinsol255</td>\n      <td>20230915</td>\n    </tr>\n    <tr>\n      <th>13</th>\n      <td>너무나도 떨렸던 시간들 ⸝⸝&amp;gt;  ̫ &amp;lt;⸝⸝</td>\n      <td>https://blog.naver.com/sfhdfgfgh/223212529864</td>\n      <td>♀️♀️ 2일차 7월 24일 아침에 준비하고 나가봅시다〰️ 어니언 &lt;b&gt;안국&lt;/b&gt;...</td>\n      <td>My dream space</td>\n      <td>blog.naver.com/sfhdfgfgh</td>\n      <td>20230915</td>\n    </tr>\n    <tr>\n      <th>14</th>\n      <td>부빙 북촌점, &lt;b&gt;안국&lt;/b&gt;역 팥빙수와 초당옥수수빙수 &lt;b&gt;맛집&lt;/b&gt;</td>\n      <td>https://blog.naver.com/dntb33/223212527763</td>\n      <td>없이 먹을 수 있을 거 같고 어른 입맛 가지신 분들이 엄청 좋아할 거 같아요. 팥빙...</td>\n      <td>또또한 일상</td>\n      <td>blog.naver.com/dntb33</td>\n      <td>20230915</td>\n    </tr>\n  </tbody>\n</table>\n</div>"
     },
     "execution_count": 10,
     "metadata": {},
     "output_type": "execute_result"
    }
   ]
  },
  {
   "cell_type": "code",
   "execution_count": null,
   "outputs": [],
   "source": [],
   "metadata": {
    "collapsed": false
   }
  }
 ]
}
