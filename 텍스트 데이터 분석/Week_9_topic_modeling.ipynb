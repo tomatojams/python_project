{
  "cells": [
    {
      "cell_type": "markdown",
      "id": "8dda7647",
      "metadata": {
        "id": "8dda7647"
      },
      "source": [
        "**9주차 실습 - 토픽 모델링**"
      ]
    },
    {
      "cell_type": "markdown",
      "source": [
        "# 1. 20 뉴스그룹 데이터 준비\n",
        "\n",
        "- 데이터셋 설명: http://qwone.com/~jason/20Newsgroups/\n",
        "- scikit-learn 라이브러리: http://scikit-learn.org/0.19/datasets/twenty_newsgroups.html"
      ],
      "metadata": {
        "id": "mWz4qtRm-MI1"
      },
      "id": "mWz4qtRm-MI1"
    },
    {
      "cell_type": "code",
      "source": [
        "import numpy as np\n",
        "import pandas as pd\n",
        "\n",
        "from sklearn.datasets import fetch_20newsgroups\n",
        "\n",
        "categories = ['alt.atheism', 'talk.religion.misc', 'comp.graphics', 'sci.space',\n",
        "              'comp.sys.ibm.pc.hardware', 'sci.crypt']\n",
        "\n",
        "# 20 Newsgroups 데이터셋 로드\n",
        "newsgroups = fetch_20newsgroups(categories=categories, shuffle=True, random_state=42,\n",
        "                                remove=('headers', 'footers', 'quotes'))"
      ],
      "metadata": {
        "id": "IEci-9V0-Wz0"
      },
      "id": "IEci-9V0-Wz0",
      "execution_count": 16,
      "outputs": []
    },
    {
      "cell_type": "code",
      "source": [
        "newsgroups.target_names"
      ],
      "metadata": {
        "id": "BEFNowkTJmUa"
      },
      "id": "BEFNowkTJmUa",
      "execution_count": null,
      "outputs": []
    },
    {
      "cell_type": "code",
      "source": [
        "len(newsgroups.data)"
      ],
      "metadata": {
        "id": "-FvgT2a0KSe-"
      },
      "id": "-FvgT2a0KSe-",
      "execution_count": null,
      "outputs": []
    },
    {
      "cell_type": "markdown",
      "source": [
        "# 2. TF-IDF 행렬 변환"
      ],
      "metadata": {
        "id": "2cdgESW1_E1-"
      },
      "id": "2cdgESW1_E1-"
    },
    {
      "cell_type": "code",
      "source": [
        "from sklearn.feature_extraction.text import TfidfVectorizer\n",
        "\n",
        "# TF-IDF vectorizer 생성\n",
        "vectorizer = TfidfVectorizer(stop_words='english', max_df=0.5, max_features=1000)\n",
        "\n",
        "# 문서를 TF-IDF 행렬로 변환\n",
        "tfidf_matrix = vectorizer.fit_transform(newsgroups.data)"
      ],
      "metadata": {
        "id": "DzqihYMR_AaE"
      },
      "id": "DzqihYMR_AaE",
      "execution_count": 19,
      "outputs": []
    },
    {
      "cell_type": "code",
      "source": [
        "tfidf_matrix.shape"
      ],
      "metadata": {
        "id": "vHFU-yplKdgO"
      },
      "id": "vHFU-yplKdgO",
      "execution_count": null,
      "outputs": []
    },
    {
      "cell_type": "code",
      "source": [
        "tfidf_matrix[0]"
      ],
      "metadata": {
        "id": "ZP41ZKezLw3W"
      },
      "id": "ZP41ZKezLw3W",
      "execution_count": null,
      "outputs": []
    },
    {
      "cell_type": "markdown",
      "source": [
        "# 3. LSA 실행"
      ],
      "metadata": {
        "id": "5BepRZhxEU6W"
      },
      "id": "5BepRZhxEU6W"
    },
    {
      "cell_type": "code",
      "source": [
        "from sklearn.decomposition import TruncatedSVD\n",
        "\n",
        "num_topics = 6  # 토픽 수\n",
        "\n",
        "# Truncated SVD (LSA) 수행\n",
        "lsa = TruncatedSVD(n_components=num_topics, random_state=42)\n",
        "lsa_matrix = lsa.fit_transform(tfidf_matrix)\n",
        "\n",
        "# 단어 feature\n",
        "terms = vectorizer.get_feature_names_out()"
      ],
      "metadata": {
        "id": "FXvUPUVgET6g"
      },
      "id": "FXvUPUVgET6g",
      "execution_count": 22,
      "outputs": []
    },
    {
      "cell_type": "code",
      "source": [
        "lsa_matrix.shape"
      ],
      "metadata": {
        "id": "ETkON1TYKIv5"
      },
      "id": "ETkON1TYKIv5",
      "execution_count": null,
      "outputs": []
    },
    {
      "cell_type": "code",
      "source": [
        "lsa_matrix[0]"
      ],
      "metadata": {
        "id": "5AuRUbhDLz5W"
      },
      "id": "5AuRUbhDLz5W",
      "execution_count": null,
      "outputs": []
    },
    {
      "cell_type": "code",
      "source": [
        "# 각 토픽에 대한 단어 출력\n",
        "def print_top_terms(lsa, terms, n_words=10):\n",
        "    for i, topic in enumerate(lsa.components_):\n",
        "        # 토픽 내 단어의 중요도 순으로 정렬된 인덱스를 가져옴\n",
        "        top_terms_idx = topic.argsort()[-n_words:][::-1]\n",
        "        # 인덱스를 사용하여 실제 단어를 찾아냄\n",
        "        top_terms = [terms[idx] for idx in top_terms_idx]\n",
        "        print(f\"토픽 {i + 1}: {' '.join(top_terms)}\")\n",
        "\n",
        "print('# LSA 결과:')\n",
        "print_top_terms(lsa, terms, 10)"
      ],
      "metadata": {
        "id": "M-__4XcHKHdR"
      },
      "id": "M-__4XcHKHdR",
      "execution_count": null,
      "outputs": []
    },
    {
      "cell_type": "markdown",
      "source": [
        "# 4. LDA 실행"
      ],
      "metadata": {
        "id": "dIR6Kats_lt3"
      },
      "id": "dIR6Kats_lt3"
    },
    {
      "cell_type": "code",
      "source": [
        "from sklearn.decomposition import LatentDirichletAllocation\n",
        "\n",
        "# LDA 수행\n",
        "lda = LatentDirichletAllocation(\n",
        "    n_components=num_topics,  # 토픽의 수\n",
        "    max_iter=5,  # 알고리즘 최대 반복 횟수(수렴할 때까지 또는 주어진 반복 횟수까지)\n",
        "    topic_word_prior=0.1,  # 토픽 내에서 단어의 확률 분포를 제어하는 매개변수(값이 작을수록 토픽 내에서 단어가 더 다양)\n",
        "    doc_topic_prior=1.0,  # 문서 내 토픽의 분포를 제어하는 매개변수(작을수록 문서가 하나의 토픽에 집중)\n",
        "    learning_method='online',\n",
        "    n_jobs=-1,\n",
        "    random_state=0\n",
        ")\n",
        "\n",
        "lda_matrix = lda.fit_transform(tfidf_matrix)\n",
        "\n"
      ],
      "metadata": {
        "id": "J_Q5wh6q_iZV"
      },
      "id": "J_Q5wh6q_iZV",
      "execution_count": 26,
      "outputs": []
    },
    {
      "cell_type": "code",
      "source": [
        "lda_matrix.shape"
      ],
      "metadata": {
        "id": "kYbNtJljMUNF"
      },
      "id": "kYbNtJljMUNF",
      "execution_count": null,
      "outputs": []
    },
    {
      "cell_type": "code",
      "source": [
        "lda_matrix[0]"
      ],
      "metadata": {
        "id": "Tq4HO4eIMXsy"
      },
      "id": "Tq4HO4eIMXsy",
      "execution_count": null,
      "outputs": []
    },
    {
      "cell_type": "code",
      "source": [
        "print('# LDA 결과:')\n",
        "print_top_terms(lda, terms, 10)"
      ],
      "metadata": {
        "id": "9QCp4gZaMUQn"
      },
      "id": "9QCp4gZaMUQn",
      "execution_count": null,
      "outputs": []
    },
    {
      "cell_type": "markdown",
      "source": [
        "# 5. 토픽 할당"
      ],
      "metadata": {
        "id": "7cpKrAghNERF"
      },
      "id": "7cpKrAghNERF"
    },
    {
      "cell_type": "code",
      "source": [
        "# LSA, LDA를 기반으로 문서에 토픽 할당\n",
        "def assign_topics(topic_matrix, num_topics):\n",
        "    return np.argmax(topic_matrix, axis=1) + 1\n",
        "\n",
        "newsgroups['lsa_topic'] = assign_topics(lsa_matrix, num_topics)\n",
        "newsgroups['lda_topic'] = assign_topics(lda_matrix, num_topics)\n",
        "\n",
        "df = pd.DataFrame({'문서': newsgroups.data[:10], 'LSA 토픽': newsgroups['lsa_topic'][:10], 'LDA 토픽': newsgroups['lda_topic'][:10]})\n",
        "df"
      ],
      "metadata": {
        "id": "e3eHW1v2IQk-"
      },
      "id": "e3eHW1v2IQk-",
      "execution_count": null,
      "outputs": []
    }
  ],
  "metadata": {
    "kernelspec": {
      "display_name": "Python 3 (ipykernel)",
      "language": "python",
      "name": "python3"
    },
    "language_info": {
      "codemirror_mode": {
        "name": "ipython",
        "version": 3
      },
      "file_extension": ".py",
      "mimetype": "text/x-python",
      "name": "python",
      "nbconvert_exporter": "python",
      "pygments_lexer": "ipython3",
      "version": "3.8.12"
    },
    "toc": {
      "base_numbering": 1,
      "nav_menu": {},
      "number_sections": true,
      "sideBar": true,
      "skip_h1_title": false,
      "title_cell": "Table of Contents",
      "title_sidebar": "Contents",
      "toc_cell": true,
      "toc_position": {
        "height": "calc(100% - 180px)",
        "left": "10px",
        "top": "150px",
        "width": "165px"
      },
      "toc_section_display": true,
      "toc_window_display": true
    },
    "varInspector": {
      "cols": {
        "lenName": 16,
        "lenType": 16,
        "lenVar": 40
      },
      "kernels_config": {
        "python": {
          "delete_cmd_postfix": "",
          "delete_cmd_prefix": "del ",
          "library": "var_list.py",
          "varRefreshCmd": "print(var_dic_list())"
        },
        "r": {
          "delete_cmd_postfix": ") ",
          "delete_cmd_prefix": "rm(",
          "library": "var_list.r",
          "varRefreshCmd": "cat(var_dic_list()) "
        }
      },
      "types_to_exclude": [
        "module",
        "function",
        "builtin_function_or_method",
        "instance",
        "_Feature"
      ],
      "window_display": false
    },
    "colab": {
      "provenance": []
    }
  },
  "nbformat": 4,
  "nbformat_minor": 5
}