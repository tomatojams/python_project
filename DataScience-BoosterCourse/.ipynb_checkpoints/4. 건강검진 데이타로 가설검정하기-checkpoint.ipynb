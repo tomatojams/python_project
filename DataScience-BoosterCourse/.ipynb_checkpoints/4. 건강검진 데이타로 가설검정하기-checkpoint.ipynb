{
 "cells": [
  {
   "cell_type": "raw",
   "id": "e3aae6a255016b48",
   "metadata": {},
   "source": [
    "1. 음주여부에 따라 건강검진 수치 차이가 있을까?\n",
    "2. 신장과 허리둘레의 크기는 체중과 상관관계가 있을까?\n",
    " - 분석을 통해 가설을 검정해 봅니다.\n",
    "3. 라이브리리 로드"
   ]
  },
  {
   "cell_type": "code",
   "execution_count": 1,
   "id": "a8f70ee091d62d3f",
   "metadata": {
    "ExecuteTime": {
     "end_time": "2023-10-23T05:15:29.957137500Z",
     "start_time": "2023-10-23T05:15:29.568847500Z"
    }
   },
   "outputs": [],
   "source": [
    "import pandas as pd\n",
    "import numpy as np\n",
    "import seaborn as sns\n",
    "# import koreanize_matplotlib\n",
    "import matplotlib.pyplot as plt\n",
    "%matplotlib inline"
   ]
  },
  {
   "cell_type": "code",
   "execution_count": 2,
   "id": "fad1e6fef52603e3",
   "metadata": {
    "ExecuteTime": {
     "end_time": "2023-10-23T05:15:30.340596500Z",
     "start_time": "2023-10-23T05:15:29.587117200Z"
    }
   },
   "outputs": [],
   "source": [
    "import matplotlib.pyplot as plt\n",
    "\n",
    "# 한글 폰트 설정\n",
    "#mac\n",
    "#plt.rc('font', family='AppleGothic')\n",
    "plt.rc('axes', unicode_minus=False)\n",
    "#window\n",
    "plt.rc('font', family='Malgun Gothic')\n",
    "\n",
    "#그래프가 노트북 안에 보이게\n",
    "%matplotlib inline"
   ]
  },
  {
   "cell_type": "code",
   "execution_count": 3,
   "id": "e3a026cff8fe0bca",
   "metadata": {
    "ExecuteTime": {
     "end_time": "2023-10-23T05:15:30.377138Z",
     "start_time": "2023-10-23T05:15:29.602116800Z"
    }
   },
   "outputs": [],
   "source": [
    "import os\n",
    "\n",
    "if os.name == 'posix':\n",
    "    plt.rc('font', family='AppleGothic')\n",
    "\n",
    "elif os.name == 'nt':\n",
    "    plt.rc('font', family='Malgun Gothic')\n",
    "plt.rc('axes', unicode_minus=False)"
   ]
  },
  {
   "cell_type": "markdown",
   "id": "cc1209ed7f74d17e",
   "metadata": {},
   "source": [
    "5. 데이터 로드"
   ]
  },
  {
   "cell_type": "code",
   "execution_count": 4,
   "id": "5b243568832494b2",
   "metadata": {
    "ExecuteTime": {
     "end_time": "2023-10-23T05:15:31.068079Z",
     "start_time": "2023-10-23T05:15:29.617117100Z"
    }
   },
   "outputs": [
    {
     "data": {
      "text/plain": [
       "(1000000, 34)"
      ]
     },
     "execution_count": 4,
     "metadata": {},
     "output_type": "execute_result"
    }
   ],
   "source": [
    "df = pd.read_csv('data/NHIS_OPEN_GJ_2017.CSV', encoding='cp949')\n",
    "df.shape"
   ]
  },
  {
   "cell_type": "raw",
   "id": "181d37e94bb5ed7b",
   "metadata": {},
   "source": [
    "5.1 데이터 미리보기"
   ]
  },
  {
   "cell_type": "code",
   "execution_count": 5,
   "id": "7ca327d91f897604",
   "metadata": {
    "ExecuteTime": {
     "end_time": "2023-10-23T05:15:31.104688200Z",
     "start_time": "2023-10-23T05:15:31.077086Z"
    }
   },
   "outputs": [
    {
     "data": {
      "text/html": [
       "<div>\n",
       "<style scoped>\n",
       "    .dataframe tbody tr th:only-of-type {\n",
       "        vertical-align: middle;\n",
       "    }\n",
       "\n",
       "    .dataframe tbody tr th {\n",
       "        vertical-align: top;\n",
       "    }\n",
       "\n",
       "    .dataframe thead th {\n",
       "        text-align: right;\n",
       "    }\n",
       "</style>\n",
       "<table border=\"1\" class=\"dataframe\">\n",
       "  <thead>\n",
       "    <tr style=\"text-align: right;\">\n",
       "      <th></th>\n",
       "      <th>기준년도</th>\n",
       "      <th>가입자일련번호</th>\n",
       "      <th>성별코드</th>\n",
       "      <th>연령대코드(5세단위)</th>\n",
       "      <th>시도코드</th>\n",
       "      <th>신장(5Cm단위)</th>\n",
       "      <th>체중(5Kg 단위)</th>\n",
       "      <th>허리둘레</th>\n",
       "      <th>시력(좌)</th>\n",
       "      <th>시력(우)</th>\n",
       "      <th>...</th>\n",
       "      <th>감마지티피</th>\n",
       "      <th>흡연상태</th>\n",
       "      <th>음주여부</th>\n",
       "      <th>구강검진 수검여부</th>\n",
       "      <th>치아우식증유무</th>\n",
       "      <th>결손치유무</th>\n",
       "      <th>치아마모증유무</th>\n",
       "      <th>제3대구치(사랑니)이상</th>\n",
       "      <th>치석</th>\n",
       "      <th>데이터공개일자</th>\n",
       "    </tr>\n",
       "  </thead>\n",
       "  <tbody>\n",
       "    <tr>\n",
       "      <th>0</th>\n",
       "      <td>2017</td>\n",
       "      <td>1</td>\n",
       "      <td>1</td>\n",
       "      <td>13</td>\n",
       "      <td>46</td>\n",
       "      <td>170.0</td>\n",
       "      <td>65.0</td>\n",
       "      <td>91.0</td>\n",
       "      <td>1.0</td>\n",
       "      <td>1.2</td>\n",
       "      <td>...</td>\n",
       "      <td>25.0</td>\n",
       "      <td>3.0</td>\n",
       "      <td>0.0</td>\n",
       "      <td>1</td>\n",
       "      <td>NaN</td>\n",
       "      <td>NaN</td>\n",
       "      <td>NaN</td>\n",
       "      <td>NaN</td>\n",
       "      <td>1.0</td>\n",
       "      <td>20181126</td>\n",
       "    </tr>\n",
       "    <tr>\n",
       "      <th>1</th>\n",
       "      <td>2017</td>\n",
       "      <td>2</td>\n",
       "      <td>2</td>\n",
       "      <td>8</td>\n",
       "      <td>41</td>\n",
       "      <td>150.0</td>\n",
       "      <td>45.0</td>\n",
       "      <td>73.4</td>\n",
       "      <td>1.2</td>\n",
       "      <td>1.0</td>\n",
       "      <td>...</td>\n",
       "      <td>10.0</td>\n",
       "      <td>1.0</td>\n",
       "      <td>0.0</td>\n",
       "      <td>1</td>\n",
       "      <td>NaN</td>\n",
       "      <td>NaN</td>\n",
       "      <td>NaN</td>\n",
       "      <td>NaN</td>\n",
       "      <td>1.0</td>\n",
       "      <td>20181126</td>\n",
       "    </tr>\n",
       "    <tr>\n",
       "      <th>2</th>\n",
       "      <td>2017</td>\n",
       "      <td>3</td>\n",
       "      <td>1</td>\n",
       "      <td>8</td>\n",
       "      <td>45</td>\n",
       "      <td>175.0</td>\n",
       "      <td>75.0</td>\n",
       "      <td>94.0</td>\n",
       "      <td>1.0</td>\n",
       "      <td>0.8</td>\n",
       "      <td>...</td>\n",
       "      <td>136.0</td>\n",
       "      <td>1.0</td>\n",
       "      <td>0.0</td>\n",
       "      <td>1</td>\n",
       "      <td>NaN</td>\n",
       "      <td>NaN</td>\n",
       "      <td>NaN</td>\n",
       "      <td>NaN</td>\n",
       "      <td>0.0</td>\n",
       "      <td>20181126</td>\n",
       "    </tr>\n",
       "    <tr>\n",
       "      <th>3</th>\n",
       "      <td>2017</td>\n",
       "      <td>4</td>\n",
       "      <td>2</td>\n",
       "      <td>12</td>\n",
       "      <td>11</td>\n",
       "      <td>155.0</td>\n",
       "      <td>55.0</td>\n",
       "      <td>67.5</td>\n",
       "      <td>0.9</td>\n",
       "      <td>1.0</td>\n",
       "      <td>...</td>\n",
       "      <td>30.0</td>\n",
       "      <td>1.0</td>\n",
       "      <td>1.0</td>\n",
       "      <td>0</td>\n",
       "      <td>NaN</td>\n",
       "      <td>NaN</td>\n",
       "      <td>NaN</td>\n",
       "      <td>NaN</td>\n",
       "      <td>NaN</td>\n",
       "      <td>20181126</td>\n",
       "    </tr>\n",
       "    <tr>\n",
       "      <th>4</th>\n",
       "      <td>2017</td>\n",
       "      <td>5</td>\n",
       "      <td>1</td>\n",
       "      <td>8</td>\n",
       "      <td>41</td>\n",
       "      <td>175.0</td>\n",
       "      <td>75.0</td>\n",
       "      <td>93.0</td>\n",
       "      <td>1.5</td>\n",
       "      <td>1.5</td>\n",
       "      <td>...</td>\n",
       "      <td>68.0</td>\n",
       "      <td>3.0</td>\n",
       "      <td>0.0</td>\n",
       "      <td>0</td>\n",
       "      <td>NaN</td>\n",
       "      <td>NaN</td>\n",
       "      <td>NaN</td>\n",
       "      <td>NaN</td>\n",
       "      <td>NaN</td>\n",
       "      <td>20181126</td>\n",
       "    </tr>\n",
       "  </tbody>\n",
       "</table>\n",
       "<p>5 rows × 34 columns</p>\n",
       "</div>"
      ],
      "text/plain": [
       "   기준년도  가입자일련번호  성별코드  연령대코드(5세단위)  시도코드  신장(5Cm단위)  체중(5Kg 단위)  허리둘레  시력(좌)  \\\n",
       "0  2017        1     1           13    46      170.0        65.0  91.0    1.0   \n",
       "1  2017        2     2            8    41      150.0        45.0  73.4    1.2   \n",
       "2  2017        3     1            8    45      175.0        75.0  94.0    1.0   \n",
       "3  2017        4     2           12    11      155.0        55.0  67.5    0.9   \n",
       "4  2017        5     1            8    41      175.0        75.0  93.0    1.5   \n",
       "\n",
       "   시력(우)  ...  감마지티피  흡연상태  음주여부  구강검진 수검여부  치아우식증유무  결손치유무  치아마모증유무  \\\n",
       "0    1.2  ...   25.0   3.0   0.0          1      NaN    NaN      NaN   \n",
       "1    1.0  ...   10.0   1.0   0.0          1      NaN    NaN      NaN   \n",
       "2    0.8  ...  136.0   1.0   0.0          1      NaN    NaN      NaN   \n",
       "3    1.0  ...   30.0   1.0   1.0          0      NaN    NaN      NaN   \n",
       "4    1.5  ...   68.0   3.0   0.0          0      NaN    NaN      NaN   \n",
       "\n",
       "   제3대구치(사랑니)이상   치석   데이터공개일자  \n",
       "0           NaN  1.0  20181126  \n",
       "1           NaN  1.0  20181126  \n",
       "2           NaN  0.0  20181126  \n",
       "3           NaN  NaN  20181126  \n",
       "4           NaN  NaN  20181126  \n",
       "\n",
       "[5 rows x 34 columns]"
      ]
     },
     "execution_count": 5,
     "metadata": {},
     "output_type": "execute_result"
    }
   ],
   "source": [
    "df.head()"
   ]
  },
  {
   "cell_type": "code",
   "execution_count": null,
   "id": "13c72b6ccdf3d996",
   "metadata": {
    "ExecuteTime": {
     "end_time": "2023-10-23T05:15:31.108686500Z",
     "start_time": "2023-10-23T05:15:31.080617900Z"
    }
   },
   "outputs": [],
   "source": []
  },
  {
   "cell_type": "code",
   "execution_count": 6,
   "id": "1f408df634a45ab5",
   "metadata": {
    "ExecuteTime": {
     "end_time": "2023-10-23T05:15:31.212203600Z",
     "start_time": "2023-10-23T05:15:31.096690100Z"
    }
   },
   "outputs": [
    {
     "name": "stdout",
     "output_type": "stream",
     "text": [
      "<class 'pandas.core.frame.DataFrame'>\n",
      "RangeIndex: 1000000 entries, 0 to 999999\n",
      "Data columns (total 34 columns):\n",
      " #   Column        Non-Null Count    Dtype  \n",
      "---  ------        --------------    -----  \n",
      " 0   기준년도          1000000 non-null  int64  \n",
      " 1   가입자일련번호       1000000 non-null  int64  \n",
      " 2   성별코드          1000000 non-null  int64  \n",
      " 3   연령대코드(5세단위)   1000000 non-null  int64  \n",
      " 4   시도코드          1000000 non-null  int64  \n",
      " 5   신장(5Cm단위)     999738 non-null   float64\n",
      " 6   체중(5Kg 단위)    999732 non-null   float64\n",
      " 7   허리둘레          999560 non-null   float64\n",
      " 8   시력(좌)         999712 non-null   float64\n",
      " 9   시력(우)         999721 non-null   float64\n",
      " 10  청력(좌)         999758 non-null   float64\n",
      " 11  청력(우)         999757 non-null   float64\n",
      " 12  수축기혈압         999924 non-null   float64\n",
      " 13  이완기혈압         999923 non-null   float64\n",
      " 14  식전혈당(공복혈당)    999957 non-null   float64\n",
      " 15  총콜레스테롤        999957 non-null   float64\n",
      " 16  트리글리세라이드      999957 non-null   float64\n",
      " 17  HDL콜레스테롤      999956 non-null   float64\n",
      " 18  LDL콜레스테롤      997101 non-null   float64\n",
      " 19  혈색소           999944 non-null   float64\n",
      " 20  요단백           995141 non-null   float64\n",
      " 21  혈청크레아티닌       999956 non-null   float64\n",
      " 22  (혈청지오티)AST    999958 non-null   float64\n",
      " 23  (혈청지오티)ALT    999956 non-null   float64\n",
      " 24  감마지티피         999955 non-null   float64\n",
      " 25  흡연상태          999840 non-null   float64\n",
      " 26  음주여부          999475 non-null   float64\n",
      " 27  구강검진 수검여부     1000000 non-null  int64  \n",
      " 28  치아우식증유무       0 non-null        float64\n",
      " 29  결손치유무         0 non-null        float64\n",
      " 30  치아마모증유무       0 non-null        float64\n",
      " 31  제3대구치(사랑니)이상  0 non-null        float64\n",
      " 32  치석            398748 non-null   float64\n",
      " 33  데이터공개일자       1000000 non-null  int64  \n",
      "dtypes: float64(27), int64(7)\n",
      "memory usage: 259.4 MB\n"
     ]
    }
   ],
   "source": [
    "df.info()"
   ]
  },
  {
   "cell_type": "code",
   "execution_count": 7,
   "id": "1d6c27c02f4e9ca6",
   "metadata": {
    "ExecuteTime": {
     "end_time": "2023-10-23T05:15:31.215204900Z",
     "start_time": "2023-10-23T05:15:31.158311400Z"
    }
   },
   "outputs": [
    {
     "data": {
      "text/plain": [
       "기준년도                  0\n",
       "가입자일련번호               0\n",
       "성별코드                  0\n",
       "연령대코드(5세단위)           0\n",
       "시도코드                  0\n",
       "신장(5Cm단위)           262\n",
       "체중(5Kg 단위)          268\n",
       "허리둘레                440\n",
       "시력(좌)               288\n",
       "시력(우)               279\n",
       "청력(좌)               242\n",
       "청력(우)               243\n",
       "수축기혈압                76\n",
       "이완기혈압                77\n",
       "식전혈당(공복혈당)           43\n",
       "총콜레스테롤               43\n",
       "트리글리세라이드             43\n",
       "HDL콜레스테롤             44\n",
       "LDL콜레스테롤           2899\n",
       "혈색소                  56\n",
       "요단백                4859\n",
       "혈청크레아티닌              44\n",
       "(혈청지오티)AST           42\n",
       "(혈청지오티)ALT           44\n",
       "감마지티피                45\n",
       "흡연상태                160\n",
       "음주여부                525\n",
       "구강검진 수검여부             0\n",
       "치아우식증유무         1000000\n",
       "결손치유무           1000000\n",
       "치아마모증유무         1000000\n",
       "제3대구치(사랑니)이상    1000000\n",
       "치석               601252\n",
       "데이터공개일자               0\n",
       "dtype: int64"
      ]
     },
     "execution_count": 7,
     "metadata": {},
     "output_type": "execute_result"
    }
   ],
   "source": [
    "df_null = df.isnull().sum()\n",
    "df_null"
   ]
  },
  {
   "cell_type": "code",
   "execution_count": 8,
   "id": "b71c7627ae97475",
   "metadata": {
    "ExecuteTime": {
     "end_time": "2023-10-23T05:15:31.270815Z",
     "start_time": "2023-10-23T05:15:31.209202300Z"
    }
   },
   "outputs": [
    {
     "data": {
      "text/html": [
       "<div>\n",
       "<style scoped>\n",
       "    .dataframe tbody tr th:only-of-type {\n",
       "        vertical-align: middle;\n",
       "    }\n",
       "\n",
       "    .dataframe tbody tr th {\n",
       "        vertical-align: top;\n",
       "    }\n",
       "\n",
       "    .dataframe thead th {\n",
       "        text-align: right;\n",
       "    }\n",
       "</style>\n",
       "<table border=\"1\" class=\"dataframe\">\n",
       "  <thead>\n",
       "    <tr style=\"text-align: right;\">\n",
       "      <th></th>\n",
       "      <th>컬럼명</th>\n",
       "      <th>결측치수</th>\n",
       "    </tr>\n",
       "  </thead>\n",
       "  <tbody>\n",
       "    <tr>\n",
       "      <th>0</th>\n",
       "      <td>기준년도</td>\n",
       "      <td>0</td>\n",
       "    </tr>\n",
       "    <tr>\n",
       "      <th>1</th>\n",
       "      <td>가입자일련번호</td>\n",
       "      <td>0</td>\n",
       "    </tr>\n",
       "    <tr>\n",
       "      <th>2</th>\n",
       "      <td>성별코드</td>\n",
       "      <td>0</td>\n",
       "    </tr>\n",
       "    <tr>\n",
       "      <th>3</th>\n",
       "      <td>연령대코드(5세단위)</td>\n",
       "      <td>0</td>\n",
       "    </tr>\n",
       "    <tr>\n",
       "      <th>4</th>\n",
       "      <td>시도코드</td>\n",
       "      <td>0</td>\n",
       "    </tr>\n",
       "    <tr>\n",
       "      <th>5</th>\n",
       "      <td>신장(5Cm단위)</td>\n",
       "      <td>262</td>\n",
       "    </tr>\n",
       "    <tr>\n",
       "      <th>6</th>\n",
       "      <td>체중(5Kg 단위)</td>\n",
       "      <td>268</td>\n",
       "    </tr>\n",
       "    <tr>\n",
       "      <th>7</th>\n",
       "      <td>허리둘레</td>\n",
       "      <td>440</td>\n",
       "    </tr>\n",
       "    <tr>\n",
       "      <th>8</th>\n",
       "      <td>시력(좌)</td>\n",
       "      <td>288</td>\n",
       "    </tr>\n",
       "    <tr>\n",
       "      <th>9</th>\n",
       "      <td>시력(우)</td>\n",
       "      <td>279</td>\n",
       "    </tr>\n",
       "    <tr>\n",
       "      <th>10</th>\n",
       "      <td>청력(좌)</td>\n",
       "      <td>242</td>\n",
       "    </tr>\n",
       "    <tr>\n",
       "      <th>11</th>\n",
       "      <td>청력(우)</td>\n",
       "      <td>243</td>\n",
       "    </tr>\n",
       "    <tr>\n",
       "      <th>12</th>\n",
       "      <td>수축기혈압</td>\n",
       "      <td>76</td>\n",
       "    </tr>\n",
       "    <tr>\n",
       "      <th>13</th>\n",
       "      <td>이완기혈압</td>\n",
       "      <td>77</td>\n",
       "    </tr>\n",
       "    <tr>\n",
       "      <th>14</th>\n",
       "      <td>식전혈당(공복혈당)</td>\n",
       "      <td>43</td>\n",
       "    </tr>\n",
       "    <tr>\n",
       "      <th>15</th>\n",
       "      <td>총콜레스테롤</td>\n",
       "      <td>43</td>\n",
       "    </tr>\n",
       "    <tr>\n",
       "      <th>16</th>\n",
       "      <td>트리글리세라이드</td>\n",
       "      <td>43</td>\n",
       "    </tr>\n",
       "    <tr>\n",
       "      <th>17</th>\n",
       "      <td>HDL콜레스테롤</td>\n",
       "      <td>44</td>\n",
       "    </tr>\n",
       "    <tr>\n",
       "      <th>18</th>\n",
       "      <td>LDL콜레스테롤</td>\n",
       "      <td>2899</td>\n",
       "    </tr>\n",
       "    <tr>\n",
       "      <th>19</th>\n",
       "      <td>혈색소</td>\n",
       "      <td>56</td>\n",
       "    </tr>\n",
       "    <tr>\n",
       "      <th>20</th>\n",
       "      <td>요단백</td>\n",
       "      <td>4859</td>\n",
       "    </tr>\n",
       "    <tr>\n",
       "      <th>21</th>\n",
       "      <td>혈청크레아티닌</td>\n",
       "      <td>44</td>\n",
       "    </tr>\n",
       "    <tr>\n",
       "      <th>22</th>\n",
       "      <td>(혈청지오티)AST</td>\n",
       "      <td>42</td>\n",
       "    </tr>\n",
       "    <tr>\n",
       "      <th>23</th>\n",
       "      <td>(혈청지오티)ALT</td>\n",
       "      <td>44</td>\n",
       "    </tr>\n",
       "    <tr>\n",
       "      <th>24</th>\n",
       "      <td>감마지티피</td>\n",
       "      <td>45</td>\n",
       "    </tr>\n",
       "    <tr>\n",
       "      <th>25</th>\n",
       "      <td>흡연상태</td>\n",
       "      <td>160</td>\n",
       "    </tr>\n",
       "    <tr>\n",
       "      <th>26</th>\n",
       "      <td>음주여부</td>\n",
       "      <td>525</td>\n",
       "    </tr>\n",
       "    <tr>\n",
       "      <th>27</th>\n",
       "      <td>구강검진 수검여부</td>\n",
       "      <td>0</td>\n",
       "    </tr>\n",
       "    <tr>\n",
       "      <th>28</th>\n",
       "      <td>치아우식증유무</td>\n",
       "      <td>1000000</td>\n",
       "    </tr>\n",
       "    <tr>\n",
       "      <th>29</th>\n",
       "      <td>결손치유무</td>\n",
       "      <td>1000000</td>\n",
       "    </tr>\n",
       "    <tr>\n",
       "      <th>30</th>\n",
       "      <td>치아마모증유무</td>\n",
       "      <td>1000000</td>\n",
       "    </tr>\n",
       "    <tr>\n",
       "      <th>31</th>\n",
       "      <td>제3대구치(사랑니)이상</td>\n",
       "      <td>1000000</td>\n",
       "    </tr>\n",
       "    <tr>\n",
       "      <th>32</th>\n",
       "      <td>치석</td>\n",
       "      <td>601252</td>\n",
       "    </tr>\n",
       "    <tr>\n",
       "      <th>33</th>\n",
       "      <td>데이터공개일자</td>\n",
       "      <td>0</td>\n",
       "    </tr>\n",
       "  </tbody>\n",
       "</table>\n",
       "</div>"
      ],
      "text/plain": [
       "             컬럼명     결측치수\n",
       "0           기준년도        0\n",
       "1        가입자일련번호        0\n",
       "2           성별코드        0\n",
       "3    연령대코드(5세단위)        0\n",
       "4           시도코드        0\n",
       "5      신장(5Cm단위)      262\n",
       "6     체중(5Kg 단위)      268\n",
       "7           허리둘레      440\n",
       "8          시력(좌)      288\n",
       "9          시력(우)      279\n",
       "10         청력(좌)      242\n",
       "11         청력(우)      243\n",
       "12         수축기혈압       76\n",
       "13         이완기혈압       77\n",
       "14    식전혈당(공복혈당)       43\n",
       "15        총콜레스테롤       43\n",
       "16      트리글리세라이드       43\n",
       "17      HDL콜레스테롤       44\n",
       "18      LDL콜레스테롤     2899\n",
       "19           혈색소       56\n",
       "20           요단백     4859\n",
       "21       혈청크레아티닌       44\n",
       "22    (혈청지오티)AST       42\n",
       "23    (혈청지오티)ALT       44\n",
       "24         감마지티피       45\n",
       "25          흡연상태      160\n",
       "26          음주여부      525\n",
       "27     구강검진 수검여부        0\n",
       "28       치아우식증유무  1000000\n",
       "29         결손치유무  1000000\n",
       "30       치아마모증유무  1000000\n",
       "31  제3대구치(사랑니)이상  1000000\n",
       "32            치석   601252\n",
       "33       데이터공개일자        0"
      ]
     },
     "execution_count": 8,
     "metadata": {},
     "output_type": "execute_result"
    }
   ],
   "source": [
    "df_null = df_null.reset_index()\n",
    "df_null.columns = ['컬럼명', '결측치수']\n",
    "df_null"
   ]
  },
  {
   "cell_type": "code",
   "execution_count": 9,
   "id": "f68bb599bb102ca4",
   "metadata": {
    "ExecuteTime": {
     "end_time": "2023-10-23T05:15:31.272814300Z",
     "start_time": "2023-10-23T05:15:31.224203400Z"
    }
   },
   "outputs": [
    {
     "data": {
      "text/html": [
       "<div>\n",
       "<style scoped>\n",
       "    .dataframe tbody tr th:only-of-type {\n",
       "        vertical-align: middle;\n",
       "    }\n",
       "\n",
       "    .dataframe tbody tr th {\n",
       "        vertical-align: top;\n",
       "    }\n",
       "\n",
       "    .dataframe thead th {\n",
       "        text-align: right;\n",
       "    }\n",
       "</style>\n",
       "<table border=\"1\" class=\"dataframe\">\n",
       "  <thead>\n",
       "    <tr style=\"text-align: right;\">\n",
       "      <th></th>\n",
       "      <th>컬럼명</th>\n",
       "      <th>결측치수</th>\n",
       "    </tr>\n",
       "  </thead>\n",
       "  <tbody>\n",
       "    <tr>\n",
       "      <th>29</th>\n",
       "      <td>결손치유무</td>\n",
       "      <td>1000000</td>\n",
       "    </tr>\n",
       "    <tr>\n",
       "      <th>31</th>\n",
       "      <td>제3대구치(사랑니)이상</td>\n",
       "      <td>1000000</td>\n",
       "    </tr>\n",
       "    <tr>\n",
       "      <th>30</th>\n",
       "      <td>치아마모증유무</td>\n",
       "      <td>1000000</td>\n",
       "    </tr>\n",
       "    <tr>\n",
       "      <th>28</th>\n",
       "      <td>치아우식증유무</td>\n",
       "      <td>1000000</td>\n",
       "    </tr>\n",
       "    <tr>\n",
       "      <th>32</th>\n",
       "      <td>치석</td>\n",
       "      <td>601252</td>\n",
       "    </tr>\n",
       "  </tbody>\n",
       "</table>\n",
       "</div>"
      ],
      "text/plain": [
       "             컬럼명     결측치수\n",
       "29         결손치유무  1000000\n",
       "31  제3대구치(사랑니)이상  1000000\n",
       "30       치아마모증유무  1000000\n",
       "28       치아우식증유무  1000000\n",
       "32            치석   601252"
      ]
     },
     "execution_count": 9,
     "metadata": {},
     "output_type": "execute_result"
    }
   ],
   "source": [
    "df_null_top = df_null.sort_values(by='결측치수', ascending=False).head(5)\n",
    "df_null_top"
   ]
  },
  {
   "cell_type": "code",
   "execution_count": 10,
   "id": "bfa950d03ec7491e",
   "metadata": {
    "ExecuteTime": {
     "end_time": "2023-10-23T05:15:31.273814400Z",
     "start_time": "2023-10-23T05:15:31.238811500Z"
    }
   },
   "outputs": [
    {
     "data": {
      "text/plain": [
       "['결손치유무', '제3대구치(사랑니)이상', '치아마모증유무', '치아우식증유무', '치석']"
      ]
     },
     "execution_count": 10,
     "metadata": {},
     "output_type": "execute_result"
    }
   ],
   "source": [
    "drop_columns = df_null_top['컬럼명'].tolist()\n",
    "drop_columns"
   ]
  },
  {
   "cell_type": "code",
   "execution_count": 11,
   "id": "87b2925d4bea72f1",
   "metadata": {
    "ExecuteTime": {
     "end_time": "2023-10-23T05:15:31.379298300Z",
     "start_time": "2023-10-23T05:15:31.252811500Z"
    }
   },
   "outputs": [
    {
     "name": "stdout",
     "output_type": "stream",
     "text": [
      "(1000000, 34)\n",
      "(1000000, 29)\n"
     ]
    }
   ],
   "source": [
    "print(df.shape)\n",
    "df = df.drop(drop_columns, axis=1)\n",
    "print(df.shape)"
   ]
  },
  {
   "cell_type": "code",
   "execution_count": 12,
   "id": "d3406e2197988ccc",
   "metadata": {
    "ExecuteTime": {
     "end_time": "2023-10-23T05:15:31.431086500Z",
     "start_time": "2023-10-23T05:15:31.316540800Z"
    }
   },
   "outputs": [
    {
     "name": "stdout",
     "output_type": "stream",
     "text": [
      "(1000000, 28)\n"
     ]
    }
   ],
   "source": [
    "df = df.drop(\"데이터공개일자\", axis=1)\n",
    "print(df.shape)"
   ]
  },
  {
   "cell_type": "markdown",
   "id": "97f112cd7032882f",
   "metadata": {},
   "source": [
    "8. 일부데이터 요약하기"
   ]
  },
  {
   "cell_type": "code",
   "execution_count": null,
   "id": "25f4a8eae318f662",
   "metadata": {
    "ExecuteTime": {
     "end_time": "2023-10-23T05:15:31.467993Z",
     "start_time": "2023-10-23T05:15:31.383300600Z"
    }
   },
   "outputs": [],
   "source": []
  },
  {
   "cell_type": "code",
   "execution_count": 13,
   "id": "cf0d8d1fd414fb14",
   "metadata": {
    "ExecuteTime": {
     "end_time": "2023-10-23T05:15:31.514246500Z",
     "start_time": "2023-10-23T05:15:31.398084500Z"
    }
   },
   "outputs": [
    {
     "data": {
      "text/html": [
       "<div>\n",
       "<style scoped>\n",
       "    .dataframe tbody tr th:only-of-type {\n",
       "        vertical-align: middle;\n",
       "    }\n",
       "\n",
       "    .dataframe tbody tr th {\n",
       "        vertical-align: top;\n",
       "    }\n",
       "\n",
       "    .dataframe thead th {\n",
       "        text-align: right;\n",
       "    }\n",
       "</style>\n",
       "<table border=\"1\" class=\"dataframe\">\n",
       "  <thead>\n",
       "    <tr style=\"text-align: right;\">\n",
       "      <th></th>\n",
       "      <th>(혈청지오티)ALT</th>\n",
       "      <th>(혈청지오티)AST</th>\n",
       "    </tr>\n",
       "  </thead>\n",
       "  <tbody>\n",
       "    <tr>\n",
       "      <th>0</th>\n",
       "      <td>41.0</td>\n",
       "      <td>19.0</td>\n",
       "    </tr>\n",
       "    <tr>\n",
       "      <th>1</th>\n",
       "      <td>13.0</td>\n",
       "      <td>16.0</td>\n",
       "    </tr>\n",
       "    <tr>\n",
       "      <th>2</th>\n",
       "      <td>62.0</td>\n",
       "      <td>45.0</td>\n",
       "    </tr>\n",
       "    <tr>\n",
       "      <th>3</th>\n",
       "      <td>24.0</td>\n",
       "      <td>21.0</td>\n",
       "    </tr>\n",
       "    <tr>\n",
       "      <th>4</th>\n",
       "      <td>62.0</td>\n",
       "      <td>37.0</td>\n",
       "    </tr>\n",
       "    <tr>\n",
       "      <th>...</th>\n",
       "      <td>...</td>\n",
       "      <td>...</td>\n",
       "    </tr>\n",
       "    <tr>\n",
       "      <th>999995</th>\n",
       "      <td>11.0</td>\n",
       "      <td>18.0</td>\n",
       "    </tr>\n",
       "    <tr>\n",
       "      <th>999996</th>\n",
       "      <td>11.0</td>\n",
       "      <td>21.0</td>\n",
       "    </tr>\n",
       "    <tr>\n",
       "      <th>999997</th>\n",
       "      <td>13.0</td>\n",
       "      <td>23.0</td>\n",
       "    </tr>\n",
       "    <tr>\n",
       "      <th>999998</th>\n",
       "      <td>30.0</td>\n",
       "      <td>28.0</td>\n",
       "    </tr>\n",
       "    <tr>\n",
       "      <th>999999</th>\n",
       "      <td>20.0</td>\n",
       "      <td>21.0</td>\n",
       "    </tr>\n",
       "  </tbody>\n",
       "</table>\n",
       "<p>1000000 rows × 2 columns</p>\n",
       "</div>"
      ],
      "text/plain": [
       "        (혈청지오티)ALT  (혈청지오티)AST\n",
       "0             41.0        19.0\n",
       "1             13.0        16.0\n",
       "2             62.0        45.0\n",
       "3             24.0        21.0\n",
       "4             62.0        37.0\n",
       "...            ...         ...\n",
       "999995        11.0        18.0\n",
       "999996        11.0        21.0\n",
       "999997        13.0        23.0\n",
       "999998        30.0        28.0\n",
       "999999        20.0        21.0\n",
       "\n",
       "[1000000 rows x 2 columns]"
      ]
     },
     "execution_count": 13,
     "metadata": {},
     "output_type": "execute_result"
    }
   ],
   "source": [
    "# 여러컬럼을 가져옵니다.\n",
    "df[[\"(혈청지오티)ALT\", \"(혈청지오티)AST\"]]  # 컬럼명에 괄호가 있으면 이렇게 가져올 수 없습니다.\n"
   ]
  },
  {
   "cell_type": "code",
   "execution_count": 14,
   "id": "519feced08284333",
   "metadata": {
    "ExecuteTime": {
     "end_time": "2023-10-23T05:15:31.527247Z",
     "start_time": "2023-10-23T05:15:31.412083900Z"
    }
   },
   "outputs": [
    {
     "data": {
      "text/html": [
       "<div>\n",
       "<style scoped>\n",
       "    .dataframe tbody tr th:only-of-type {\n",
       "        vertical-align: middle;\n",
       "    }\n",
       "\n",
       "    .dataframe tbody tr th {\n",
       "        vertical-align: top;\n",
       "    }\n",
       "\n",
       "    .dataframe thead th {\n",
       "        text-align: right;\n",
       "    }\n",
       "</style>\n",
       "<table border=\"1\" class=\"dataframe\">\n",
       "  <thead>\n",
       "    <tr style=\"text-align: right;\">\n",
       "      <th></th>\n",
       "      <th>(혈청지오티)ALT</th>\n",
       "    </tr>\n",
       "  </thead>\n",
       "  <tbody>\n",
       "    <tr>\n",
       "      <th>0</th>\n",
       "      <td>41.0</td>\n",
       "    </tr>\n",
       "    <tr>\n",
       "      <th>1</th>\n",
       "      <td>13.0</td>\n",
       "    </tr>\n",
       "    <tr>\n",
       "      <th>2</th>\n",
       "      <td>62.0</td>\n",
       "    </tr>\n",
       "    <tr>\n",
       "      <th>3</th>\n",
       "      <td>24.0</td>\n",
       "    </tr>\n",
       "    <tr>\n",
       "      <th>4</th>\n",
       "      <td>62.0</td>\n",
       "    </tr>\n",
       "    <tr>\n",
       "      <th>...</th>\n",
       "      <td>...</td>\n",
       "    </tr>\n",
       "    <tr>\n",
       "      <th>999995</th>\n",
       "      <td>11.0</td>\n",
       "    </tr>\n",
       "    <tr>\n",
       "      <th>999996</th>\n",
       "      <td>11.0</td>\n",
       "    </tr>\n",
       "    <tr>\n",
       "      <th>999997</th>\n",
       "      <td>13.0</td>\n",
       "    </tr>\n",
       "    <tr>\n",
       "      <th>999998</th>\n",
       "      <td>30.0</td>\n",
       "    </tr>\n",
       "    <tr>\n",
       "      <th>999999</th>\n",
       "      <td>20.0</td>\n",
       "    </tr>\n",
       "  </tbody>\n",
       "</table>\n",
       "<p>1000000 rows × 1 columns</p>\n",
       "</div>"
      ],
      "text/plain": [
       "        (혈청지오티)ALT\n",
       "0             41.0\n",
       "1             13.0\n",
       "2             62.0\n",
       "3             24.0\n",
       "4             62.0\n",
       "...            ...\n",
       "999995        11.0\n",
       "999996        11.0\n",
       "999997        13.0\n",
       "999998        30.0\n",
       "999999        20.0\n",
       "\n",
       "[1000000 rows x 1 columns]"
      ]
     },
     "execution_count": 14,
     "metadata": {},
     "output_type": "execute_result"
    }
   ],
   "source": [
    "df[[\"(혈청지오티)ALT\"]]  # 하나라도 괄호두개를 넣으면 데이타프레임형태가 됨 "
   ]
  },
  {
   "cell_type": "code",
   "execution_count": 15,
   "id": "11ddb1987654f477",
   "metadata": {
    "ExecuteTime": {
     "end_time": "2023-10-23T05:15:31.530247Z",
     "start_time": "2023-10-23T05:15:31.428087700Z"
    }
   },
   "outputs": [
    {
     "name": "stdout",
     "output_type": "stream",
     "text": [
      "<class 'pandas.core.frame.DataFrame'>\n",
      "RangeIndex: 1000000 entries, 0 to 999999\n",
      "Data columns (total 2 columns):\n",
      " #   Column      Non-Null Count   Dtype  \n",
      "---  ------      --------------   -----  \n",
      " 0   (혈청지오티)ALT  999956 non-null  float64\n",
      " 1   (혈청지오티)AST  999958 non-null  float64\n",
      "dtypes: float64(2)\n",
      "memory usage: 15.3 MB\n"
     ]
    }
   ],
   "source": [
    "df[[\"(혈청지오티)ALT\", \"(혈청지오티)AST\"]].info()"
   ]
  },
  {
   "cell_type": "code",
   "execution_count": 16,
   "id": "e4c5daad835c7527",
   "metadata": {
    "ExecuteTime": {
     "end_time": "2023-10-23T05:15:31.603412200Z",
     "start_time": "2023-10-23T05:15:31.445083700Z"
    }
   },
   "outputs": [
    {
     "data": {
      "text/html": [
       "<div>\n",
       "<style scoped>\n",
       "    .dataframe tbody tr th:only-of-type {\n",
       "        vertical-align: middle;\n",
       "    }\n",
       "\n",
       "    .dataframe tbody tr th {\n",
       "        vertical-align: top;\n",
       "    }\n",
       "\n",
       "    .dataframe thead th {\n",
       "        text-align: right;\n",
       "    }\n",
       "</style>\n",
       "<table border=\"1\" class=\"dataframe\">\n",
       "  <thead>\n",
       "    <tr style=\"text-align: right;\">\n",
       "      <th></th>\n",
       "      <th>(혈청지오티)ALT</th>\n",
       "      <th>(혈청지오티)AST</th>\n",
       "    </tr>\n",
       "  </thead>\n",
       "  <tbody>\n",
       "    <tr>\n",
       "      <th>count</th>\n",
       "      <td>999956.000000</td>\n",
       "      <td>999958.000000</td>\n",
       "    </tr>\n",
       "    <tr>\n",
       "      <th>mean</th>\n",
       "      <td>25.859343</td>\n",
       "      <td>26.075068</td>\n",
       "    </tr>\n",
       "    <tr>\n",
       "      <th>std</th>\n",
       "      <td>25.814268</td>\n",
       "      <td>24.437136</td>\n",
       "    </tr>\n",
       "    <tr>\n",
       "      <th>min</th>\n",
       "      <td>1.000000</td>\n",
       "      <td>1.000000</td>\n",
       "    </tr>\n",
       "    <tr>\n",
       "      <th>25%</th>\n",
       "      <td>15.000000</td>\n",
       "      <td>19.000000</td>\n",
       "    </tr>\n",
       "    <tr>\n",
       "      <th>50%</th>\n",
       "      <td>20.000000</td>\n",
       "      <td>23.000000</td>\n",
       "    </tr>\n",
       "    <tr>\n",
       "      <th>75%</th>\n",
       "      <td>30.000000</td>\n",
       "      <td>28.000000</td>\n",
       "    </tr>\n",
       "    <tr>\n",
       "      <th>max</th>\n",
       "      <td>6710.000000</td>\n",
       "      <td>9999.000000</td>\n",
       "    </tr>\n",
       "  </tbody>\n",
       "</table>\n",
       "</div>"
      ],
      "text/plain": [
       "          (혈청지오티)ALT     (혈청지오티)AST\n",
       "count  999956.000000  999958.000000\n",
       "mean       25.859343      26.075068\n",
       "std        25.814268      24.437136\n",
       "min         1.000000       1.000000\n",
       "25%        15.000000      19.000000\n",
       "50%        20.000000      23.000000\n",
       "75%        30.000000      28.000000\n",
       "max      6710.000000    9999.000000"
      ]
     },
     "execution_count": 16,
     "metadata": {},
     "output_type": "execute_result"
    }
   ],
   "source": [
    "df[[\"(혈청지오티)ALT\", \"(혈청지오티)AST\"]].describe()  # 이상치가 있다는것을 알수있음 max값 이상"
   ]
  },
  {
   "cell_type": "code",
   "execution_count": 17,
   "id": "e582f752bdb74191",
   "metadata": {
    "ExecuteTime": {
     "end_time": "2023-10-23T05:15:31.741456300Z",
     "start_time": "2023-10-23T05:15:31.555247200Z"
    }
   },
   "outputs": [
    {
     "data": {
      "text/html": [
       "<div>\n",
       "<style scoped>\n",
       "    .dataframe tbody tr th:only-of-type {\n",
       "        vertical-align: middle;\n",
       "    }\n",
       "\n",
       "    .dataframe tbody tr th {\n",
       "        vertical-align: top;\n",
       "    }\n",
       "\n",
       "    .dataframe thead th {\n",
       "        text-align: right;\n",
       "    }\n",
       "</style>\n",
       "<table border=\"1\" class=\"dataframe\">\n",
       "  <thead>\n",
       "    <tr style=\"text-align: right;\">\n",
       "      <th></th>\n",
       "      <th>count</th>\n",
       "      <th>mean</th>\n",
       "      <th>std</th>\n",
       "      <th>min</th>\n",
       "      <th>25%</th>\n",
       "      <th>50%</th>\n",
       "      <th>75%</th>\n",
       "      <th>max</th>\n",
       "    </tr>\n",
       "  </thead>\n",
       "  <tbody>\n",
       "    <tr>\n",
       "      <th>(혈청지오티)ALT</th>\n",
       "      <td>999956.0</td>\n",
       "      <td>25.859343</td>\n",
       "      <td>25.814268</td>\n",
       "      <td>1.0</td>\n",
       "      <td>15.0</td>\n",
       "      <td>20.0</td>\n",
       "      <td>30.0</td>\n",
       "      <td>6710.0</td>\n",
       "    </tr>\n",
       "    <tr>\n",
       "      <th>(혈청지오티)AST</th>\n",
       "      <td>999958.0</td>\n",
       "      <td>26.075068</td>\n",
       "      <td>24.437136</td>\n",
       "      <td>1.0</td>\n",
       "      <td>19.0</td>\n",
       "      <td>23.0</td>\n",
       "      <td>28.0</td>\n",
       "      <td>9999.0</td>\n",
       "    </tr>\n",
       "  </tbody>\n",
       "</table>\n",
       "</div>"
      ],
      "text/plain": [
       "               count       mean        std  min   25%   50%   75%     max\n",
       "(혈청지오티)ALT  999956.0  25.859343  25.814268  1.0  15.0  20.0  30.0  6710.0\n",
       "(혈청지오티)AST  999958.0  26.075068  24.437136  1.0  19.0  23.0  28.0  9999.0"
      ]
     },
     "execution_count": 17,
     "metadata": {},
     "output_type": "execute_result"
    }
   ],
   "source": [
    "df[[\"(혈청지오티)ALT\", \"(혈청지오티)AST\"]].describe().T"
   ]
  },
  {
   "cell_type": "markdown",
   "id": "1a228d1548d96bf3",
   "metadata": {},
   "source": [
    "9.value_counts 로 값 집계하기"
   ]
  },
  {
   "cell_type": "code",
   "execution_count": 18,
   "id": "da14328fd62885d9",
   "metadata": {
    "ExecuteTime": {
     "end_time": "2023-10-23T05:15:31.743453400Z",
     "start_time": "2023-10-23T05:15:31.671105900Z"
    }
   },
   "outputs": [
    {
     "data": {
      "text/plain": [
       "성별코드\n",
       "1    531172\n",
       "2    468828\n",
       "Name: count, dtype: int64"
      ]
     },
     "execution_count": 18,
     "metadata": {},
     "output_type": "execute_result"
    }
   ],
   "source": [
    "df['성별코드'].value_counts()"
   ]
  },
  {
   "cell_type": "code",
   "execution_count": 19,
   "id": "7d567b0396f2a6c8",
   "metadata": {
    "ExecuteTime": {
     "end_time": "2023-10-23T05:15:31.744452700Z",
     "start_time": "2023-10-23T05:15:31.680752800Z"
    }
   },
   "outputs": [
    {
     "data": {
      "text/plain": [
       "흡연상태\n",
       "1.0    608587\n",
       "3.0    215061\n",
       "2.0    176192\n",
       "Name: count, dtype: int64"
      ]
     },
     "execution_count": 19,
     "metadata": {},
     "output_type": "execute_result"
    }
   ],
   "source": [
    "df['흡연상태'].value_counts()"
   ]
  },
  {
   "cell_type": "markdown",
   "id": "f41c7e52689b26be",
   "metadata": {},
   "source": [
    "10. groupby 와 pivot_table 사용하기\n",
    "value_counts와 달리 두개이상의 칼럼을 분석할때 씀"
   ]
  },
  {
   "cell_type": "code",
   "execution_count": 20,
   "id": "b3659a5f44d3bf9b",
   "metadata": {
    "ExecuteTime": {
     "end_time": "2023-10-23T05:15:31.864375600Z",
     "start_time": "2023-10-23T05:15:31.696264700Z"
    }
   },
   "outputs": [],
   "source": [
    "df.groupby?"
   ]
  },
  {
   "cell_type": "code",
   "execution_count": 21,
   "id": "7c6a084dfcb1e528",
   "metadata": {
    "ExecuteTime": {
     "end_time": "2023-10-23T05:15:31.954264600Z",
     "start_time": "2023-10-23T05:15:31.791154300Z"
    }
   },
   "outputs": [
    {
     "data": {
      "text/html": [
       "<div>\n",
       "<style scoped>\n",
       "    .dataframe tbody tr th:only-of-type {\n",
       "        vertical-align: middle;\n",
       "    }\n",
       "\n",
       "    .dataframe tbody tr th {\n",
       "        vertical-align: top;\n",
       "    }\n",
       "\n",
       "    .dataframe thead th {\n",
       "        text-align: right;\n",
       "    }\n",
       "</style>\n",
       "<table border=\"1\" class=\"dataframe\">\n",
       "  <thead>\n",
       "    <tr style=\"text-align: right;\">\n",
       "      <th></th>\n",
       "      <th>기준년도</th>\n",
       "      <th>가입자일련번호</th>\n",
       "      <th>연령대코드(5세단위)</th>\n",
       "      <th>시도코드</th>\n",
       "      <th>신장(5Cm단위)</th>\n",
       "      <th>체중(5Kg 단위)</th>\n",
       "      <th>허리둘레</th>\n",
       "      <th>시력(좌)</th>\n",
       "      <th>시력(우)</th>\n",
       "      <th>청력(좌)</th>\n",
       "      <th>...</th>\n",
       "      <th>LDL콜레스테롤</th>\n",
       "      <th>혈색소</th>\n",
       "      <th>요단백</th>\n",
       "      <th>혈청크레아티닌</th>\n",
       "      <th>(혈청지오티)AST</th>\n",
       "      <th>(혈청지오티)ALT</th>\n",
       "      <th>감마지티피</th>\n",
       "      <th>흡연상태</th>\n",
       "      <th>음주여부</th>\n",
       "      <th>구강검진 수검여부</th>\n",
       "    </tr>\n",
       "    <tr>\n",
       "      <th>성별코드</th>\n",
       "      <th></th>\n",
       "      <th></th>\n",
       "      <th></th>\n",
       "      <th></th>\n",
       "      <th></th>\n",
       "      <th></th>\n",
       "      <th></th>\n",
       "      <th></th>\n",
       "      <th></th>\n",
       "      <th></th>\n",
       "      <th></th>\n",
       "      <th></th>\n",
       "      <th></th>\n",
       "      <th></th>\n",
       "      <th></th>\n",
       "      <th></th>\n",
       "      <th></th>\n",
       "      <th></th>\n",
       "      <th></th>\n",
       "      <th></th>\n",
       "      <th></th>\n",
       "    </tr>\n",
       "  </thead>\n",
       "  <tbody>\n",
       "    <tr>\n",
       "      <th>1</th>\n",
       "      <td>2017.0</td>\n",
       "      <td>499946.580386</td>\n",
       "      <td>10.324381</td>\n",
       "      <td>34.15184</td>\n",
       "      <td>168.516441</td>\n",
       "      <td>70.211016</td>\n",
       "      <td>85.171843</td>\n",
       "      <td>1.035268</td>\n",
       "      <td>1.034448</td>\n",
       "      <td>1.032813</td>\n",
       "      <td>...</td>\n",
       "      <td>112.716565</td>\n",
       "      <td>15.216352</td>\n",
       "      <td>1.102723</td>\n",
       "      <td>0.975555</td>\n",
       "      <td>28.150818</td>\n",
       "      <td>30.763525</td>\n",
       "      <td>49.446249</td>\n",
       "      <td>2.058548</td>\n",
       "      <td>0.670136</td>\n",
       "      <td>0.433298</td>\n",
       "    </tr>\n",
       "    <tr>\n",
       "      <th>2</th>\n",
       "      <td>2017.0</td>\n",
       "      <td>500061.589758</td>\n",
       "      <td>10.783424</td>\n",
       "      <td>33.25853</td>\n",
       "      <td>155.078899</td>\n",
       "      <td>55.701656</td>\n",
       "      <td>77.061441</td>\n",
       "      <td>0.915023</td>\n",
       "      <td>0.910340</td>\n",
       "      <td>1.031968</td>\n",
       "      <td>...</td>\n",
       "      <td>113.243661</td>\n",
       "      <td>13.099480</td>\n",
       "      <td>1.087451</td>\n",
       "      <td>0.738854</td>\n",
       "      <td>23.723238</td>\n",
       "      <td>20.302868</td>\n",
       "      <td>23.396111</td>\n",
       "      <td>1.094082</td>\n",
       "      <td>0.300790</td>\n",
       "      <td>0.359603</td>\n",
       "    </tr>\n",
       "  </tbody>\n",
       "</table>\n",
       "<p>2 rows × 27 columns</p>\n",
       "</div>"
      ],
      "text/plain": [
       "        기준년도        가입자일련번호  연령대코드(5세단위)      시도코드   신장(5Cm단위)  체중(5Kg 단위)  \\\n",
       "성별코드                                                                         \n",
       "1     2017.0  499946.580386    10.324381  34.15184  168.516441   70.211016   \n",
       "2     2017.0  500061.589758    10.783424  33.25853  155.078899   55.701656   \n",
       "\n",
       "           허리둘레     시력(좌)     시력(우)     청력(좌)  ...    LDL콜레스테롤        혈색소  \\\n",
       "성별코드                                           ...                          \n",
       "1     85.171843  1.035268  1.034448  1.032813  ...  112.716565  15.216352   \n",
       "2     77.061441  0.915023  0.910340  1.031968  ...  113.243661  13.099480   \n",
       "\n",
       "           요단백   혈청크레아티닌  (혈청지오티)AST  (혈청지오티)ALT      감마지티피      흡연상태  \\\n",
       "성별코드                                                                    \n",
       "1     1.102723  0.975555   28.150818   30.763525  49.446249  2.058548   \n",
       "2     1.087451  0.738854   23.723238   20.302868  23.396111  1.094082   \n",
       "\n",
       "          음주여부  구강검진 수검여부  \n",
       "성별코드                       \n",
       "1     0.670136   0.433298  \n",
       "2     0.300790   0.359603  \n",
       "\n",
       "[2 rows x 27 columns]"
      ]
     },
     "execution_count": 21,
     "metadata": {},
     "output_type": "execute_result"
    }
   ],
   "source": [
    "df.groupby('성별코드').mean()  # 모든값"
   ]
  },
  {
   "cell_type": "code",
   "execution_count": 22,
   "id": "7b86899afa04feb9",
   "metadata": {
    "ExecuteTime": {
     "end_time": "2023-10-23T05:15:32.045425900Z",
     "start_time": "2023-10-23T05:15:31.900583800Z"
    }
   },
   "outputs": [
    {
     "data": {
      "text/plain": [
       "성별코드\n",
       "1    85.171843\n",
       "2    77.061441\n",
       "Name: 허리둘레, dtype: float64"
      ]
     },
     "execution_count": 22,
     "metadata": {},
     "output_type": "execute_result"
    }
   ],
   "source": [
    "df.groupby('성별코드').mean()['허리둘레']  # 허리둘레만"
   ]
  },
  {
   "cell_type": "code",
   "execution_count": 23,
   "id": "6546353b30e92eb0",
   "metadata": {
    "ExecuteTime": {
     "end_time": "2023-10-23T05:15:32.194614400Z",
     "start_time": "2023-10-23T05:15:32.010426600Z"
    }
   },
   "outputs": [
    {
     "data": {
      "text/plain": [
       "성별코드\n",
       "1    531172\n",
       "2    468828\n",
       "Name: 가입자일련번호, dtype: int64"
      ]
     },
     "execution_count": 23,
     "metadata": {},
     "output_type": "execute_result"
    }
   ],
   "source": [
    "df.groupby('성별코드').count()['가입자일련번호']  #유니크한 값이라 카운트 가능"
   ]
  },
  {
   "cell_type": "code",
   "execution_count": 24,
   "id": "e30756d55faf7a93",
   "metadata": {
    "ExecuteTime": {
     "end_time": "2023-10-23T05:15:32.265265500Z",
     "start_time": "2023-10-23T05:15:32.105653400Z"
    }
   },
   "outputs": [
    {
     "data": {
      "text/plain": [
       "성별코드  음주여부\n",
       "1     0.0     175150\n",
       "      1.0     355826\n",
       "2     0.0     327579\n",
       "      1.0     140920\n",
       "Name: 가입자일련번호, dtype: int64"
      ]
     },
     "execution_count": 24,
     "metadata": {},
     "output_type": "execute_result"
    }
   ],
   "source": [
    "#성별코드와 음주여부로 그룹화하고 갯수를 샌후 가입자일련번호만 가져옵니다.\n",
    "\n",
    "df.groupby(['성별코드', '음주여부']).count()['가입자일련번호']"
   ]
  },
  {
   "cell_type": "code",
   "execution_count": 25,
   "id": "d6342a0aaa7d9f7c",
   "metadata": {
    "ExecuteTime": {
     "end_time": "2023-10-23T05:15:32.322454900Z",
     "start_time": "2023-10-23T05:15:32.229266Z"
    }
   },
   "outputs": [
    {
     "data": {
      "text/plain": [
       "성별코드  음주여부\n",
       "1     0.0     175150\n",
       "      1.0     355826\n",
       "2     0.0     327579\n",
       "      1.0     140920\n",
       "Name: 가입자일련번호, dtype: int64"
      ]
     },
     "execution_count": 25,
     "metadata": {},
     "output_type": "execute_result"
    }
   ],
   "source": [
    "df.groupby(['성별코드', '음주여부'])['가입자일련번호'].count()  # 위와 같은 결과\n",
    "# 성별코드와 음주여부로 그룹화하고 갯수를 샌후 가입자일련번호만 가져온 다음에 카운트"
   ]
  },
  {
   "cell_type": "code",
   "execution_count": 26,
   "id": "948443f7d0fdb390",
   "metadata": {
    "ExecuteTime": {
     "end_time": "2023-10-23T05:15:32.364059500Z",
     "start_time": "2023-10-23T05:15:32.293455100Z"
    }
   },
   "outputs": [
    {
     "data": {
      "text/plain": [
       "성별코드  음주여부\n",
       "1     0.0     34.710544\n",
       "      1.0     56.707919\n",
       "2     0.0     22.660238\n",
       "      1.0     25.115149\n",
       "Name: 감마지티피, dtype: float64"
      ]
     },
     "execution_count": 26,
     "metadata": {},
     "output_type": "execute_result"
    }
   ],
   "source": [
    "df.groupby(['성별코드', '음주여부'])['감마지티피'].mean()  # 간수치하고 관련\n",
    "#음주자가 높게나옴"
   ]
  },
  {
   "cell_type": "code",
   "execution_count": 27,
   "id": "c987efaabdb9340c",
   "metadata": {
    "ExecuteTime": {
     "end_time": "2023-10-23T05:15:32.502145600Z",
     "start_time": "2023-10-23T05:15:32.355060500Z"
    }
   },
   "outputs": [
    {
     "data": {
      "text/html": [
       "<div>\n",
       "<style scoped>\n",
       "    .dataframe tbody tr th:only-of-type {\n",
       "        vertical-align: middle;\n",
       "    }\n",
       "\n",
       "    .dataframe tbody tr th {\n",
       "        vertical-align: top;\n",
       "    }\n",
       "\n",
       "    .dataframe thead th {\n",
       "        text-align: right;\n",
       "    }\n",
       "</style>\n",
       "<table border=\"1\" class=\"dataframe\">\n",
       "  <thead>\n",
       "    <tr style=\"text-align: right;\">\n",
       "      <th></th>\n",
       "      <th></th>\n",
       "      <th>count</th>\n",
       "      <th>mean</th>\n",
       "      <th>std</th>\n",
       "      <th>min</th>\n",
       "      <th>25%</th>\n",
       "      <th>50%</th>\n",
       "      <th>75%</th>\n",
       "      <th>max</th>\n",
       "    </tr>\n",
       "    <tr>\n",
       "      <th>성별코드</th>\n",
       "      <th>음주여부</th>\n",
       "      <th></th>\n",
       "      <th></th>\n",
       "      <th></th>\n",
       "      <th></th>\n",
       "      <th></th>\n",
       "      <th></th>\n",
       "      <th></th>\n",
       "      <th></th>\n",
       "    </tr>\n",
       "  </thead>\n",
       "  <tbody>\n",
       "    <tr>\n",
       "      <th rowspan=\"2\" valign=\"top\">1</th>\n",
       "      <th>0.0</th>\n",
       "      <td>175139.0</td>\n",
       "      <td>34.710544</td>\n",
       "      <td>37.715218</td>\n",
       "      <td>1.0</td>\n",
       "      <td>18.0</td>\n",
       "      <td>25.0</td>\n",
       "      <td>38.0</td>\n",
       "      <td>999.0</td>\n",
       "    </tr>\n",
       "    <tr>\n",
       "      <th>1.0</th>\n",
       "      <td>355819.0</td>\n",
       "      <td>56.707919</td>\n",
       "      <td>69.039084</td>\n",
       "      <td>1.0</td>\n",
       "      <td>24.0</td>\n",
       "      <td>37.0</td>\n",
       "      <td>63.0</td>\n",
       "      <td>999.0</td>\n",
       "    </tr>\n",
       "    <tr>\n",
       "      <th rowspan=\"2\" valign=\"top\">2</th>\n",
       "      <th>0.0</th>\n",
       "      <td>327559.0</td>\n",
       "      <td>22.660238</td>\n",
       "      <td>25.181300</td>\n",
       "      <td>1.0</td>\n",
       "      <td>13.0</td>\n",
       "      <td>17.0</td>\n",
       "      <td>24.0</td>\n",
       "      <td>999.0</td>\n",
       "    </tr>\n",
       "    <tr>\n",
       "      <th>1.0</th>\n",
       "      <td>140913.0</td>\n",
       "      <td>25.115149</td>\n",
       "      <td>35.870812</td>\n",
       "      <td>1.0</td>\n",
       "      <td>13.0</td>\n",
       "      <td>17.0</td>\n",
       "      <td>25.0</td>\n",
       "      <td>999.0</td>\n",
       "    </tr>\n",
       "  </tbody>\n",
       "</table>\n",
       "</div>"
      ],
      "text/plain": [
       "              count       mean        std  min   25%   50%   75%    max\n",
       "성별코드 음주여부                                                              \n",
       "1    0.0   175139.0  34.710544  37.715218  1.0  18.0  25.0  38.0  999.0\n",
       "     1.0   355819.0  56.707919  69.039084  1.0  24.0  37.0  63.0  999.0\n",
       "2    0.0   327559.0  22.660238  25.181300  1.0  13.0  17.0  24.0  999.0\n",
       "     1.0   140913.0  25.115149  35.870812  1.0  13.0  17.0  25.0  999.0"
      ]
     },
     "execution_count": 27,
     "metadata": {},
     "output_type": "execute_result"
    }
   ],
   "source": [
    "# 성별코드와 음주여부로 감마지티피의 요약수치\n",
    "df.groupby(['성별코드', '음주여부'])['감마지티피'].describe()\n",
    "# max값에 이상치가있음"
   ]
  },
  {
   "cell_type": "code",
   "execution_count": null,
   "id": "b60db85323821b4a",
   "metadata": {
    "ExecuteTime": {
     "end_time": "2023-10-23T05:15:32.618093900Z",
     "start_time": "2023-10-23T05:15:32.497141200Z"
    }
   },
   "outputs": [],
   "source": [
    "df.groupby(['성별코드', '음주여부'])['감마지티피'].agg(['count', 'mean', 'median', 'min', 'max'])"
   ]
  },
  {
   "cell_type": "code",
   "execution_count": null,
   "id": "e73dd58be9923e73",
   "metadata": {
    "ExecuteTime": {
     "end_time": "2023-10-23T05:15:32.716980Z",
     "start_time": "2023-10-23T05:15:32.591903700Z"
    }
   },
   "outputs": [],
   "source": [
    "df.pivot_table(index='음주여부')  # 모든 데이타를 평균내줌 "
   ]
  },
  {
   "cell_type": "code",
   "execution_count": null,
   "id": "5d51ce44f5448eb1",
   "metadata": {
    "ExecuteTime": {
     "end_time": "2023-10-23T05:15:32.863857900Z",
     "start_time": "2023-10-23T05:15:32.686335400Z"
    }
   },
   "outputs": [],
   "source": [
    "df.groupby('음주여부').mean()  # 위와 같은 결과"
   ]
  },
  {
   "cell_type": "code",
   "execution_count": null,
   "id": "a71c83877129e472",
   "metadata": {
    "ExecuteTime": {
     "end_time": "2023-10-23T05:15:32.905493800Z",
     "start_time": "2023-10-23T05:15:32.798115900Z"
    }
   },
   "outputs": [],
   "source": [
    "df.pivot_table(index='음주여부', values='감마지티피')  # 감마지티피만 평균내줌  "
   ]
  },
  {
   "cell_type": "code",
   "execution_count": null,
   "id": "21146bca45b7e922",
   "metadata": {
    "ExecuteTime": {
     "end_time": "2023-10-23T05:15:32.989152100Z",
     "start_time": "2023-10-23T05:15:32.844859600Z"
    }
   },
   "outputs": [],
   "source": [
    "df.pivot_table(index='음주여부', values='가입자일련번호', aggfunc=\"count\")  # values 칼럼을 aggfunc으로 집계"
   ]
  },
  {
   "cell_type": "code",
   "execution_count": null,
   "id": "ca494d838235bbe4",
   "metadata": {
    "ExecuteTime": {
     "end_time": "2023-10-23T05:15:33.048540Z",
     "start_time": "2023-10-23T05:15:32.874862700Z"
    }
   },
   "outputs": [],
   "source": [
    "# gropuby와 pivot_table의 차이\n",
    "# groupby는 결과가 (values를 지정해도) 시리즈로 나오고 pivot_table은 결과가 데이터프레임으로 나옴"
   ]
  },
  {
   "cell_type": "code",
   "execution_count": null,
   "id": "b71895f1d3418997",
   "metadata": {
    "ExecuteTime": {
     "end_time": "2023-10-23T05:15:33.051545300Z",
     "start_time": "2023-10-23T05:15:32.892493900Z"
    }
   },
   "outputs": [],
   "source": [
    "df.pivot_table(index='음주여부', values='감마지티피', aggfunc='mean')"
   ]
  },
  {
   "cell_type": "code",
   "execution_count": null,
   "id": "acb95249a6633190",
   "metadata": {
    "ExecuteTime": {
     "end_time": "2023-10-23T05:15:33.100061600Z",
     "start_time": "2023-10-23T05:15:32.938637100Z"
    }
   },
   "outputs": [],
   "source": [
    "pd.pivot_table(df, index='음주여부', values='감마지티피')  #aggfunc 지정안하면 평균"
   ]
  },
  {
   "cell_type": "code",
   "execution_count": null,
   "id": "d3806482a405e2a8",
   "metadata": {
    "ExecuteTime": {
     "end_time": "2023-10-23T05:15:33.246079200Z",
     "start_time": "2023-10-23T05:15:32.970645Z"
    }
   },
   "outputs": [],
   "source": [
    "pd.pivot_table(df, index='음주여부', values='감마지티피', aggfunc='describe')  #aggfunc에 describe가능"
   ]
  },
  {
   "cell_type": "code",
   "execution_count": null,
   "id": "7a05f525dafe171f",
   "metadata": {
    "ExecuteTime": {
     "end_time": "2023-10-23T05:15:33.405206100Z",
     "start_time": "2023-10-23T05:15:33.081552100Z"
    }
   },
   "outputs": [],
   "source": [
    "pd.pivot_table(df, index=['성별코드', '음주여부'], values='감마지티피',\n",
    "               aggfunc=['describe', 'mean'])\n",
    "#grouby처럼 index 여러개 지정가능"
   ]
  },
  {
   "cell_type": "code",
   "execution_count": null,
   "id": "d58329f89d911018",
   "metadata": {
    "ExecuteTime": {
     "end_time": "2023-10-23T05:15:36.944431300Z",
     "start_time": "2023-10-23T05:15:33.282367400Z"
    }
   },
   "outputs": [],
   "source": [
    "h = df.hist(figsize=(12, 12))  # 판다스 시각화 변수에 대입하면 문자출력없이 바로 결과가 나옴"
   ]
  },
  {
   "cell_type": "markdown",
   "id": "d1c18e66a9f0bf97",
   "metadata": {},
   "source": [
    "11.2 슬라이싱 사용해 히스토그램 그리기"
   ]
  },
  {
   "cell_type": "code",
   "execution_count": null,
   "id": "10f1acce3463aaa7",
   "metadata": {
    "ExecuteTime": {
     "end_time": "2023-10-23T05:15:38.953597600Z",
     "start_time": "2023-10-23T05:15:36.945432400Z"
    }
   },
   "outputs": [],
   "source": [
    "h = df.iloc[:, :12].hist(figsize=(12, 12))  # iloc로  12개의 칼럼만"
   ]
  },
  {
   "cell_type": "code",
   "execution_count": null,
   "id": "7cf1ccc2202a7f6f",
   "metadata": {
    "ExecuteTime": {
     "end_time": "2023-10-23T05:15:41.754538900Z",
     "start_time": "2023-10-23T05:15:38.949883300Z"
    }
   },
   "outputs": [],
   "source": [
    "h = df.iloc[:, 12:24].hist(figsize=(12, 12), bins=100)  # iloc로  12개의 칼럼만"
   ]
  },
  {
   "cell_type": "code",
   "execution_count": null,
   "id": "26c03453faa42086",
   "metadata": {
    "ExecuteTime": {
     "end_time": "2023-10-23T05:15:42.747700200Z",
     "start_time": "2023-10-23T05:15:41.748540200Z"
    }
   },
   "outputs": [],
   "source": [
    "h = df.iloc[:, 24:].hist(figsize=(12, 12), bins=100)  # iloc로  12개의 칼럼만"
   ]
  },
  {
   "cell_type": "markdown",
   "id": "acfdc7d841b68e22",
   "metadata": {},
   "source": [
    "12 샘플데이터 추출하기"
   ]
  },
  {
   "cell_type": "code",
   "execution_count": null,
   "id": "11995d4c2b723090",
   "metadata": {
    "ExecuteTime": {
     "end_time": "2023-10-23T05:15:42.799754Z",
     "start_time": "2023-10-23T05:15:42.746503500Z"
    }
   },
   "outputs": [],
   "source": [
    "# seaborn 은 그래프 내부에서 수학적 연산을 해서 데이타가 많아지면 느려짐\n",
    "# 따라서 샘플을 사용함\n",
    "df_sample = df.sample(1000, random_state=1)  # random_state=1 은 랜덤값을 고정시킴\n",
    "df_sample.shape"
   ]
  },
  {
   "cell_type": "markdown",
   "id": "4d9dd30b80cbbe19",
   "metadata": {},
   "source": [
    "13. 데이타 시각화 도구 seaborn사용하기\n",
    "간단하게 고급통계 연산을 할수있다"
   ]
  },
  {
   "cell_type": "markdown",
   "id": "2949bd1c170e8a85",
   "metadata": {},
   "source": [
    "14.범주형테이터시각화(문자형등)\n",
    "countplot - 음주여부"
   ]
  },
  {
   "cell_type": "code",
   "execution_count": null,
   "id": "7f25f9cb377612d7",
   "metadata": {
    "ExecuteTime": {
     "end_time": "2023-10-23T05:15:42.856858700Z",
     "start_time": "2023-10-23T05:15:42.778230Z"
    }
   },
   "outputs": [],
   "source": [
    "h = df['음주여부'].value_counts().plot().bar(x='음주여부', height='흡연상태')"
   ]
  },
  {
   "cell_type": "code",
   "execution_count": null,
   "id": "38af668827ddd592",
   "metadata": {
    "ExecuteTime": {
     "end_time": "2023-10-23T05:15:43.008343900Z",
     "start_time": "2023-10-23T05:15:42.856858700Z"
    }
   },
   "outputs": [],
   "source": [
    "h = sns.countplot(data=df, x='음주여부')"
   ]
  },
  {
   "cell_type": "markdown",
   "id": "d14420567592eb93",
   "metadata": {},
   "source": [
    "14.2 hue옵션사용하기"
   ]
  },
  {
   "cell_type": "code",
   "execution_count": null,
   "id": "a4bbdbcf02100f3c",
   "metadata": {
    "ExecuteTime": {
     "end_time": "2023-10-23T05:17:02.103706300Z",
     "start_time": "2023-10-23T05:17:01.829293100Z"
    }
   },
   "outputs": [],
   "source": [
    "sns.set(font_scale=1.5, font='Malgun Gothic')  # 폰트사이즈\n",
    "h = sns.countplot(data=df, x='음주여부', hue='성별코드')"
   ]
  },
  {
   "cell_type": "code",
   "execution_count": null,
   "id": "48bd385747eace32",
   "metadata": {
    "ExecuteTime": {
     "start_time": "2023-10-23T05:15:43.249980600Z"
    }
   },
   "outputs": [],
   "source": []
  }
 ],
 "metadata": {
  "kernelspec": {
   "display_name": "Python 3 (ipykernel)",
   "language": "python",
   "name": "python3"
  },
  "language_info": {
   "codemirror_mode": {
    "name": "ipython",
    "version": 3
   },
   "file_extension": ".py",
   "mimetype": "text/x-python",
   "name": "python",
   "nbconvert_exporter": "python",
   "pygments_lexer": "ipython3",
   "version": "3.10.12"
  }
 },
 "nbformat": 4,
 "nbformat_minor": 5
}
