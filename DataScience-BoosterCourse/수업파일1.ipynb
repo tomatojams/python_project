{
 "cells": [
  {
   "cell_type": "code",
   "execution_count": 1,
   "id": "initial_id",
   "metadata": {
    "collapsed": true,
    "ExecuteTime": {
     "end_time": "2023-10-09T08:09:14.053168400Z",
     "start_time": "2023-10-09T08:09:14.034418700Z"
    }
   },
   "outputs": [
    {
     "data": {
      "text/plain": "'D:\\\\intellij project\\\\python_study\\\\파이썬으로 시작하는 데이터 사이언스'"
     },
     "execution_count": 1,
     "metadata": {},
     "output_type": "execute_result"
    }
   ],
   "source": [
    "# 현재경로\n",
    "%pwd"
   ]
  },
  {
   "cell_type": "code",
   "execution_count": 2,
   "outputs": [
    {
     "data": {
      "text/plain": "'D:\\\\intellij project\\\\python_study\\\\파이썬으로 시작하는 데이터 사이언스'"
     },
     "execution_count": 2,
     "metadata": {},
     "output_type": "execute_result"
    }
   ],
   "source": [
    "import os\n",
    "\n",
    "os.getcwd()"
   ],
   "metadata": {
    "collapsed": false,
    "ExecuteTime": {
     "end_time": "2023-10-09T08:13:40.118676100Z",
     "start_time": "2023-10-09T08:13:40.091392400Z"
    }
   },
   "id": "fd72b7e7a703f8df"
  },
  {
   "cell_type": "code",
   "execution_count": 12,
   "outputs": [
    {
     "name": "stdout",
     "output_type": "stream",
     "text": [
      "data\\도로교통공단_월별 주야별 교통사고 통계_20221231.csv\n"
     ]
    }
   ],
   "source": [
    "# glob 써보기\n",
    "\n",
    "from glob import glob\n",
    "import pandas as pd\n",
    "\n",
    "file_name = glob(\"data/*\")\n",
    "print(file_name[2])"
   ],
   "metadata": {
    "collapsed": false,
    "ExecuteTime": {
     "end_time": "2023-10-09T08:21:22.385523600Z",
     "start_time": "2023-10-09T08:21:22.347853100Z"
    }
   },
   "id": "ccd776f751a3a7d9"
  },
  {
   "cell_type": "code",
   "execution_count": 6,
   "outputs": [
    {
     "data": {
      "text/plain": "    발생월 주야   사고건수  사망자수  중상자수   경상자수  부상신고자수\n0     1  주   9588    90  2546  10464     792\n1     1  야   6306   103  1690   6795     504\n2     2  주   7575    78  2001   8228     657\n3     2  야   4787    83  1300   4981     421\n4     3  주   8322    96  2167   8783     600\n5     3  야   5298    87  1473   5393     437\n6     4  주  10472   112  2798  11475     961\n7     4  야   6000   104  1680   6398     487\n8     5  주  11749   136  3198  12531    1107\n9     5  야   6316    99  1674   6676     586\n10    6  주  10377   139  2746  11055     940\n11    6  야   6104    92  1692   6396     600\n12    7  주  10780   120  2802  11993    1032\n13    7  야   6335   121  1697   6684     604\n14    8  주  10360   124  2669  11560     953\n15    8  야   6136   118  1632   6598     542\n16    9  주  10799   146  2754  11810     967\n17    9  야   6417   111  1694   6805     614\n18   10  주  11590   168  3083  12795    1097\n19   10  야   6918   117  1800   7384     616\n20   11  주  10944   159  2838  11474    1017\n21   11  야   6634    98  1706   7087     621\n22   12  주  10416   133  2510  11547     920\n23   12  야   6613   101  1565   7518     583",
      "text/html": "<div>\n<style scoped>\n    .dataframe tbody tr th:only-of-type {\n        vertical-align: middle;\n    }\n\n    .dataframe tbody tr th {\n        vertical-align: top;\n    }\n\n    .dataframe thead th {\n        text-align: right;\n    }\n</style>\n<table border=\"1\" class=\"dataframe\">\n  <thead>\n    <tr style=\"text-align: right;\">\n      <th></th>\n      <th>발생월</th>\n      <th>주야</th>\n      <th>사고건수</th>\n      <th>사망자수</th>\n      <th>중상자수</th>\n      <th>경상자수</th>\n      <th>부상신고자수</th>\n    </tr>\n  </thead>\n  <tbody>\n    <tr>\n      <th>0</th>\n      <td>1</td>\n      <td>주</td>\n      <td>9588</td>\n      <td>90</td>\n      <td>2546</td>\n      <td>10464</td>\n      <td>792</td>\n    </tr>\n    <tr>\n      <th>1</th>\n      <td>1</td>\n      <td>야</td>\n      <td>6306</td>\n      <td>103</td>\n      <td>1690</td>\n      <td>6795</td>\n      <td>504</td>\n    </tr>\n    <tr>\n      <th>2</th>\n      <td>2</td>\n      <td>주</td>\n      <td>7575</td>\n      <td>78</td>\n      <td>2001</td>\n      <td>8228</td>\n      <td>657</td>\n    </tr>\n    <tr>\n      <th>3</th>\n      <td>2</td>\n      <td>야</td>\n      <td>4787</td>\n      <td>83</td>\n      <td>1300</td>\n      <td>4981</td>\n      <td>421</td>\n    </tr>\n    <tr>\n      <th>4</th>\n      <td>3</td>\n      <td>주</td>\n      <td>8322</td>\n      <td>96</td>\n      <td>2167</td>\n      <td>8783</td>\n      <td>600</td>\n    </tr>\n    <tr>\n      <th>5</th>\n      <td>3</td>\n      <td>야</td>\n      <td>5298</td>\n      <td>87</td>\n      <td>1473</td>\n      <td>5393</td>\n      <td>437</td>\n    </tr>\n    <tr>\n      <th>6</th>\n      <td>4</td>\n      <td>주</td>\n      <td>10472</td>\n      <td>112</td>\n      <td>2798</td>\n      <td>11475</td>\n      <td>961</td>\n    </tr>\n    <tr>\n      <th>7</th>\n      <td>4</td>\n      <td>야</td>\n      <td>6000</td>\n      <td>104</td>\n      <td>1680</td>\n      <td>6398</td>\n      <td>487</td>\n    </tr>\n    <tr>\n      <th>8</th>\n      <td>5</td>\n      <td>주</td>\n      <td>11749</td>\n      <td>136</td>\n      <td>3198</td>\n      <td>12531</td>\n      <td>1107</td>\n    </tr>\n    <tr>\n      <th>9</th>\n      <td>5</td>\n      <td>야</td>\n      <td>6316</td>\n      <td>99</td>\n      <td>1674</td>\n      <td>6676</td>\n      <td>586</td>\n    </tr>\n    <tr>\n      <th>10</th>\n      <td>6</td>\n      <td>주</td>\n      <td>10377</td>\n      <td>139</td>\n      <td>2746</td>\n      <td>11055</td>\n      <td>940</td>\n    </tr>\n    <tr>\n      <th>11</th>\n      <td>6</td>\n      <td>야</td>\n      <td>6104</td>\n      <td>92</td>\n      <td>1692</td>\n      <td>6396</td>\n      <td>600</td>\n    </tr>\n    <tr>\n      <th>12</th>\n      <td>7</td>\n      <td>주</td>\n      <td>10780</td>\n      <td>120</td>\n      <td>2802</td>\n      <td>11993</td>\n      <td>1032</td>\n    </tr>\n    <tr>\n      <th>13</th>\n      <td>7</td>\n      <td>야</td>\n      <td>6335</td>\n      <td>121</td>\n      <td>1697</td>\n      <td>6684</td>\n      <td>604</td>\n    </tr>\n    <tr>\n      <th>14</th>\n      <td>8</td>\n      <td>주</td>\n      <td>10360</td>\n      <td>124</td>\n      <td>2669</td>\n      <td>11560</td>\n      <td>953</td>\n    </tr>\n    <tr>\n      <th>15</th>\n      <td>8</td>\n      <td>야</td>\n      <td>6136</td>\n      <td>118</td>\n      <td>1632</td>\n      <td>6598</td>\n      <td>542</td>\n    </tr>\n    <tr>\n      <th>16</th>\n      <td>9</td>\n      <td>주</td>\n      <td>10799</td>\n      <td>146</td>\n      <td>2754</td>\n      <td>11810</td>\n      <td>967</td>\n    </tr>\n    <tr>\n      <th>17</th>\n      <td>9</td>\n      <td>야</td>\n      <td>6417</td>\n      <td>111</td>\n      <td>1694</td>\n      <td>6805</td>\n      <td>614</td>\n    </tr>\n    <tr>\n      <th>18</th>\n      <td>10</td>\n      <td>주</td>\n      <td>11590</td>\n      <td>168</td>\n      <td>3083</td>\n      <td>12795</td>\n      <td>1097</td>\n    </tr>\n    <tr>\n      <th>19</th>\n      <td>10</td>\n      <td>야</td>\n      <td>6918</td>\n      <td>117</td>\n      <td>1800</td>\n      <td>7384</td>\n      <td>616</td>\n    </tr>\n    <tr>\n      <th>20</th>\n      <td>11</td>\n      <td>주</td>\n      <td>10944</td>\n      <td>159</td>\n      <td>2838</td>\n      <td>11474</td>\n      <td>1017</td>\n    </tr>\n    <tr>\n      <th>21</th>\n      <td>11</td>\n      <td>야</td>\n      <td>6634</td>\n      <td>98</td>\n      <td>1706</td>\n      <td>7087</td>\n      <td>621</td>\n    </tr>\n    <tr>\n      <th>22</th>\n      <td>12</td>\n      <td>주</td>\n      <td>10416</td>\n      <td>133</td>\n      <td>2510</td>\n      <td>11547</td>\n      <td>920</td>\n    </tr>\n    <tr>\n      <th>23</th>\n      <td>12</td>\n      <td>야</td>\n      <td>6613</td>\n      <td>101</td>\n      <td>1565</td>\n      <td>7518</td>\n      <td>583</td>\n    </tr>\n  </tbody>\n</table>\n</div>"
     },
     "execution_count": 6,
     "metadata": {},
     "output_type": "execute_result"
    }
   ],
   "source": [
    "pd.read_csv('data/도로교통공단_월별 주야별 교통사고 통계_20221231.csv', encoding='cp949')"
   ],
   "metadata": {
    "collapsed": false,
    "ExecuteTime": {
     "end_time": "2023-10-09T08:18:36.183799Z",
     "start_time": "2023-10-09T08:18:36.154755100Z"
    }
   },
   "id": "c31f56c800dd3106"
  },
  {
   "cell_type": "markdown",
   "source": [
    "## 여러파일을 한번에 로드하는 방법"
   ],
   "metadata": {
    "collapsed": false
   },
   "id": "5260f6e5c9c1b24f"
  },
  {
   "cell_type": "code",
   "execution_count": 17,
   "outputs": [
    {
     "data": {
      "text/plain": "['data/store\\\\소상공인시장진흥공단_상가(상권)정보_강원_202306.csv',\n 'data/store\\\\소상공인시장진흥공단_상가(상권)정보_경기_202306.csv',\n 'data/store\\\\소상공인시장진흥공단_상가(상권)정보_경남_202306.csv',\n 'data/store\\\\소상공인시장진흥공단_상가(상권)정보_경북_202306.csv',\n 'data/store\\\\소상공인시장진흥공단_상가(상권)정보_광주_202306.csv',\n 'data/store\\\\소상공인시장진흥공단_상가(상권)정보_대구_202306.csv',\n 'data/store\\\\소상공인시장진흥공단_상가(상권)정보_대전_202306.csv',\n 'data/store\\\\소상공인시장진흥공단_상가(상권)정보_부산_202306.csv',\n 'data/store\\\\소상공인시장진흥공단_상가(상권)정보_서울_202306.csv',\n 'data/store\\\\소상공인시장진흥공단_상가(상권)정보_세종_202306.csv',\n 'data/store\\\\소상공인시장진흥공단_상가(상권)정보_울산_202306.csv',\n 'data/store\\\\소상공인시장진흥공단_상가(상권)정보_인천_202306.csv',\n 'data/store\\\\소상공인시장진흥공단_상가(상권)정보_전남_202306.csv',\n 'data/store\\\\소상공인시장진흥공단_상가(상권)정보_전북_202306.csv',\n 'data/store\\\\소상공인시장진흥공단_상가(상권)정보_제주_202306.csv',\n 'data/store\\\\소상공인시장진흥공단_상가(상권)정보_충남_202306.csv',\n 'data/store\\\\소상공인시장진흥공단_상가(상권)정보_충북_202306.csv']"
     },
     "execution_count": 17,
     "metadata": {},
     "output_type": "execute_result"
    }
   ],
   "source": [
    "file_csv = glob(\"data/store/*.csv\")\n",
    "file_csv"
   ],
   "metadata": {
    "collapsed": false,
    "ExecuteTime": {
     "end_time": "2023-10-09T08:26:55.142716300Z",
     "start_time": "2023-10-09T08:26:55.119902800Z"
    }
   },
   "id": "802122470e424315"
  },
  {
   "cell_type": "code",
   "execution_count": 23,
   "outputs": [
    {
     "name": "stdout",
     "output_type": "stream",
     "text": [
      "data/store\\소상공인시장진흥공단_상가(상권)정보_강원_202306.csv\n"
     ]
    },
    {
     "name": "stderr",
     "output_type": "stream",
     "text": [
      "F:\\Soma\\temp\\ipykernel_19232\\2194613099.py:5: DtypeWarning: Columns (2) have mixed types. Specify dtype option on import or set low_memory=False.\n",
      "  temp = pd.read_csv(file_csv_name)\n"
     ]
    },
    {
     "name": "stdout",
     "output_type": "stream",
     "text": [
      "data/store\\소상공인시장진흥공단_상가(상권)정보_경기_202306.csv\n"
     ]
    },
    {
     "name": "stderr",
     "output_type": "stream",
     "text": [
      "F:\\Soma\\temp\\ipykernel_19232\\2194613099.py:5: DtypeWarning: Columns (2) have mixed types. Specify dtype option on import or set low_memory=False.\n",
      "  temp = pd.read_csv(file_csv_name)\n"
     ]
    },
    {
     "name": "stdout",
     "output_type": "stream",
     "text": [
      "data/store\\소상공인시장진흥공단_상가(상권)정보_경남_202306.csv\n"
     ]
    },
    {
     "name": "stderr",
     "output_type": "stream",
     "text": [
      "F:\\Soma\\temp\\ipykernel_19232\\2194613099.py:5: DtypeWarning: Columns (2) have mixed types. Specify dtype option on import or set low_memory=False.\n",
      "  temp = pd.read_csv(file_csv_name)\n"
     ]
    },
    {
     "name": "stdout",
     "output_type": "stream",
     "text": [
      "data/store\\소상공인시장진흥공단_상가(상권)정보_경북_202306.csv\n"
     ]
    },
    {
     "name": "stderr",
     "output_type": "stream",
     "text": [
      "F:\\Soma\\temp\\ipykernel_19232\\2194613099.py:5: DtypeWarning: Columns (2) have mixed types. Specify dtype option on import or set low_memory=False.\n",
      "  temp = pd.read_csv(file_csv_name)\n"
     ]
    },
    {
     "name": "stdout",
     "output_type": "stream",
     "text": [
      "data/store\\소상공인시장진흥공단_상가(상권)정보_광주_202306.csv\n"
     ]
    },
    {
     "name": "stderr",
     "output_type": "stream",
     "text": [
      "F:\\Soma\\temp\\ipykernel_19232\\2194613099.py:5: DtypeWarning: Columns (2) have mixed types. Specify dtype option on import or set low_memory=False.\n",
      "  temp = pd.read_csv(file_csv_name)\n"
     ]
    },
    {
     "name": "stdout",
     "output_type": "stream",
     "text": [
      "data/store\\소상공인시장진흥공단_상가(상권)정보_대구_202306.csv\n"
     ]
    },
    {
     "name": "stderr",
     "output_type": "stream",
     "text": [
      "F:\\Soma\\temp\\ipykernel_19232\\2194613099.py:5: DtypeWarning: Columns (2) have mixed types. Specify dtype option on import or set low_memory=False.\n",
      "  temp = pd.read_csv(file_csv_name)\n"
     ]
    },
    {
     "name": "stdout",
     "output_type": "stream",
     "text": [
      "data/store\\소상공인시장진흥공단_상가(상권)정보_대전_202306.csv\n"
     ]
    },
    {
     "name": "stderr",
     "output_type": "stream",
     "text": [
      "F:\\Soma\\temp\\ipykernel_19232\\2194613099.py:5: DtypeWarning: Columns (2) have mixed types. Specify dtype option on import or set low_memory=False.\n",
      "  temp = pd.read_csv(file_csv_name)\n"
     ]
    },
    {
     "name": "stdout",
     "output_type": "stream",
     "text": [
      "data/store\\소상공인시장진흥공단_상가(상권)정보_부산_202306.csv\n"
     ]
    },
    {
     "name": "stderr",
     "output_type": "stream",
     "text": [
      "F:\\Soma\\temp\\ipykernel_19232\\2194613099.py:5: DtypeWarning: Columns (2) have mixed types. Specify dtype option on import or set low_memory=False.\n",
      "  temp = pd.read_csv(file_csv_name)\n"
     ]
    },
    {
     "name": "stdout",
     "output_type": "stream",
     "text": [
      "data/store\\소상공인시장진흥공단_상가(상권)정보_서울_202306.csv\n"
     ]
    },
    {
     "name": "stderr",
     "output_type": "stream",
     "text": [
      "F:\\Soma\\temp\\ipykernel_19232\\2194613099.py:5: DtypeWarning: Columns (2) have mixed types. Specify dtype option on import or set low_memory=False.\n",
      "  temp = pd.read_csv(file_csv_name)\n"
     ]
    },
    {
     "name": "stdout",
     "output_type": "stream",
     "text": [
      "data/store\\소상공인시장진흥공단_상가(상권)정보_세종_202306.csv\n",
      "data/store\\소상공인시장진흥공단_상가(상권)정보_울산_202306.csv\n"
     ]
    },
    {
     "name": "stderr",
     "output_type": "stream",
     "text": [
      "F:\\Soma\\temp\\ipykernel_19232\\2194613099.py:5: DtypeWarning: Columns (2) have mixed types. Specify dtype option on import or set low_memory=False.\n",
      "  temp = pd.read_csv(file_csv_name)\n"
     ]
    },
    {
     "name": "stdout",
     "output_type": "stream",
     "text": [
      "data/store\\소상공인시장진흥공단_상가(상권)정보_인천_202306.csv\n"
     ]
    },
    {
     "name": "stderr",
     "output_type": "stream",
     "text": [
      "F:\\Soma\\temp\\ipykernel_19232\\2194613099.py:5: DtypeWarning: Columns (2) have mixed types. Specify dtype option on import or set low_memory=False.\n",
      "  temp = pd.read_csv(file_csv_name)\n"
     ]
    },
    {
     "name": "stdout",
     "output_type": "stream",
     "text": [
      "data/store\\소상공인시장진흥공단_상가(상권)정보_전남_202306.csv\n"
     ]
    },
    {
     "name": "stderr",
     "output_type": "stream",
     "text": [
      "F:\\Soma\\temp\\ipykernel_19232\\2194613099.py:5: DtypeWarning: Columns (2,35) have mixed types. Specify dtype option on import or set low_memory=False.\n",
      "  temp = pd.read_csv(file_csv_name)\n"
     ]
    },
    {
     "name": "stdout",
     "output_type": "stream",
     "text": [
      "data/store\\소상공인시장진흥공단_상가(상권)정보_전북_202306.csv\n"
     ]
    },
    {
     "name": "stderr",
     "output_type": "stream",
     "text": [
      "F:\\Soma\\temp\\ipykernel_19232\\2194613099.py:5: DtypeWarning: Columns (2) have mixed types. Specify dtype option on import or set low_memory=False.\n",
      "  temp = pd.read_csv(file_csv_name)\n"
     ]
    },
    {
     "name": "stdout",
     "output_type": "stream",
     "text": [
      "data/store\\소상공인시장진흥공단_상가(상권)정보_제주_202306.csv\n"
     ]
    },
    {
     "name": "stderr",
     "output_type": "stream",
     "text": [
      "F:\\Soma\\temp\\ipykernel_19232\\2194613099.py:5: DtypeWarning: Columns (2) have mixed types. Specify dtype option on import or set low_memory=False.\n",
      "  temp = pd.read_csv(file_csv_name)\n"
     ]
    },
    {
     "name": "stdout",
     "output_type": "stream",
     "text": [
      "data/store\\소상공인시장진흥공단_상가(상권)정보_충남_202306.csv\n"
     ]
    },
    {
     "name": "stderr",
     "output_type": "stream",
     "text": [
      "F:\\Soma\\temp\\ipykernel_19232\\2194613099.py:5: DtypeWarning: Columns (2) have mixed types. Specify dtype option on import or set low_memory=False.\n",
      "  temp = pd.read_csv(file_csv_name)\n"
     ]
    },
    {
     "name": "stdout",
     "output_type": "stream",
     "text": [
      "data/store\\소상공인시장진흥공단_상가(상권)정보_충북_202306.csv\n"
     ]
    },
    {
     "name": "stderr",
     "output_type": "stream",
     "text": [
      "F:\\Soma\\temp\\ipykernel_19232\\2194613099.py:5: DtypeWarning: Columns (2,35) have mixed types. Specify dtype option on import or set low_memory=False.\n",
      "  temp = pd.read_csv(file_csv_name)\n"
     ]
    }
   ],
   "source": [
    "#pd.read_csv(file_csv[0]) 인코딩 필요유무 테스트\n",
    "file_list = []\n",
    "for file_csv_name in file_csv:\n",
    "    print(file_csv_name)\n",
    "    temp = pd.read_csv(file_csv_name)\n",
    "    file_list.append(temp)\n"
   ],
   "metadata": {
    "collapsed": false,
    "ExecuteTime": {
     "end_time": "2023-10-09T08:31:28.299206400Z",
     "start_time": "2023-10-09T08:31:12.299845400Z"
    }
   },
   "id": "b367659a08137340"
  },
  {
   "cell_type": "code",
   "execution_count": 25,
   "outputs": [
    {
     "data": {
      "text/plain": "                     상가업소번호             상호명  지점명 상권업종대분류코드 상권업종대분류명 상권업종중분류코드  \\\n0      MA0101202210A0084547         금강산노래광장  NaN        I2       음식      I211   \n1      MA010120220805430826    에이치속눈썹수강아카데미  NaN        S2    수리·개인      S207   \n2      MA010120220805430903              엔젤  NaN        I2       음식      I201   \n3      MA010120220805430941            누베헤어  NaN        S2    수리·개인      S207   \n4      MA010120220805430946              공차  NaN        I2       음식      I212   \n...                     ...             ...  ...       ...      ...       ...   \n98272  MA0101202307A0081821            삼G·S  NaN        G2       소매      G205   \n98273  MA0101202307A0104754    소울법률부동산중개사무소  NaN        L1      부동산      L102   \n98274  MA0101202307A0009139  신리천로오구삼신리천로593  NaN        I1       숙박      I101   \n98275  MA0101202307A0074433            더블레싱  NaN        I2       음식      I212   \n98276  MA0101202307A0007645            영월술샘  NaN        G2       소매      G204   \n\n      상권업종중분류명 상권업종소분류코드    상권업종소분류명 표준산업분류코드  ...                     건물관리번호  \\\n0           주점    I21101    일반 유흥 주점   I56211  ...  4217010300007470000000086   \n1        이용·미용    S20702      피부 관리실   S96113  ...  4211039021110620001000001   \n2           한식    I20101      백반/한정식   I55109  ...  4277032022103660000008290   \n3        이용·미용    S20701         미용실   S96112  ...  4211012500100440010000008   \n4        비알코올     I21201          카페   I56229  ...  4213033023113500001000001   \n...        ...       ...         ...      ...  ...                        ...   \n98272   식료품 소매    G20506   채소/과일 소매업   G47215  ...  4223025033101090000000001   \n98273  부동산 서비스    L10203  부동산 중개/대리업   L68221  ...  4215011000117400003000001   \n98274    일반 숙박    I10103          펜션   I55104  ...  4215025023110510002000001   \n98275    비알코올     I21201          카페   I56221  ...  4213010700108510026000001   \n98276    종합 소매    G20404        슈퍼마켓   G47129  ...  4275036021112540003007101   \n\n            건물명                          도로명주소   구우편번호  신우편번호  동정보  층정보  호정보  \\\n0           파크장             강원특별자치도 동해시 송정로 11  240806  25789  NaN    지  NaN   \n1           NaN  강원특별자치도 춘천시 동내면 외솔길19번길 80-36  200883  24401  NaN  NaN  NaN   \n2           NaN     강원특별자치도 정선군 남면 민둥산로 175-13  233837  26148  NaN  NaN  NaN   \n3        춘천파크자이         강원특별자치도 춘천시 스포츠타운길 460  200200  24472  NaN    3  NaN   \n4           NaN       강원특별자치도 원주시 지정면 신지정로 211  220821  26354  NaN  NaN  NaN   \n...         ...                            ...     ...    ...  ...  ...  ...   \n98272  도계라이온스회관     강원특별자치도 삼척시 도계읍 강원남부로 1339  245908  25947  NaN    2  NaN   \n98273       NaN           강원특별자치도 강릉시 원대로 12-1  210924  25506  NaN    3  NaN   \n98274       NaN  강원특별자치도 강릉시 주문진읍 신리천로 593-111  210805  25402  NaN  NaN  NaN   \n98275       NaN          강원특별자치도 원주시 우러리길 12-5  220942  26400  NaN    1  NaN   \n98276       NaN     강원특별자치도 영월군 주천면 주천로58번길 41  230854  26203  NaN  NaN  NaN   \n\n               경도         위도  \n0      129.127525  37.495265  \n1      127.758764  37.857831  \n2      128.792089  37.259788  \n3      127.707653  37.867744  \n4      127.872713  37.374189  \n...           ...        ...  \n98272  129.041281  37.224591  \n98273  128.881950  37.755754  \n98274  128.770455  37.880750  \n98275  127.956211  37.314884  \n98276  128.268966  37.270819  \n\n[98277 rows x 39 columns]",
      "text/html": "<div>\n<style scoped>\n    .dataframe tbody tr th:only-of-type {\n        vertical-align: middle;\n    }\n\n    .dataframe tbody tr th {\n        vertical-align: top;\n    }\n\n    .dataframe thead th {\n        text-align: right;\n    }\n</style>\n<table border=\"1\" class=\"dataframe\">\n  <thead>\n    <tr style=\"text-align: right;\">\n      <th></th>\n      <th>상가업소번호</th>\n      <th>상호명</th>\n      <th>지점명</th>\n      <th>상권업종대분류코드</th>\n      <th>상권업종대분류명</th>\n      <th>상권업종중분류코드</th>\n      <th>상권업종중분류명</th>\n      <th>상권업종소분류코드</th>\n      <th>상권업종소분류명</th>\n      <th>표준산업분류코드</th>\n      <th>...</th>\n      <th>건물관리번호</th>\n      <th>건물명</th>\n      <th>도로명주소</th>\n      <th>구우편번호</th>\n      <th>신우편번호</th>\n      <th>동정보</th>\n      <th>층정보</th>\n      <th>호정보</th>\n      <th>경도</th>\n      <th>위도</th>\n    </tr>\n  </thead>\n  <tbody>\n    <tr>\n      <th>0</th>\n      <td>MA0101202210A0084547</td>\n      <td>금강산노래광장</td>\n      <td>NaN</td>\n      <td>I2</td>\n      <td>음식</td>\n      <td>I211</td>\n      <td>주점</td>\n      <td>I21101</td>\n      <td>일반 유흥 주점</td>\n      <td>I56211</td>\n      <td>...</td>\n      <td>4217010300007470000000086</td>\n      <td>파크장</td>\n      <td>강원특별자치도 동해시 송정로 11</td>\n      <td>240806</td>\n      <td>25789</td>\n      <td>NaN</td>\n      <td>지</td>\n      <td>NaN</td>\n      <td>129.127525</td>\n      <td>37.495265</td>\n    </tr>\n    <tr>\n      <th>1</th>\n      <td>MA010120220805430826</td>\n      <td>에이치속눈썹수강아카데미</td>\n      <td>NaN</td>\n      <td>S2</td>\n      <td>수리·개인</td>\n      <td>S207</td>\n      <td>이용·미용</td>\n      <td>S20702</td>\n      <td>피부 관리실</td>\n      <td>S96113</td>\n      <td>...</td>\n      <td>4211039021110620001000001</td>\n      <td>NaN</td>\n      <td>강원특별자치도 춘천시 동내면 외솔길19번길 80-36</td>\n      <td>200883</td>\n      <td>24401</td>\n      <td>NaN</td>\n      <td>NaN</td>\n      <td>NaN</td>\n      <td>127.758764</td>\n      <td>37.857831</td>\n    </tr>\n    <tr>\n      <th>2</th>\n      <td>MA010120220805430903</td>\n      <td>엔젤</td>\n      <td>NaN</td>\n      <td>I2</td>\n      <td>음식</td>\n      <td>I201</td>\n      <td>한식</td>\n      <td>I20101</td>\n      <td>백반/한정식</td>\n      <td>I55109</td>\n      <td>...</td>\n      <td>4277032022103660000008290</td>\n      <td>NaN</td>\n      <td>강원특별자치도 정선군 남면 민둥산로 175-13</td>\n      <td>233837</td>\n      <td>26148</td>\n      <td>NaN</td>\n      <td>NaN</td>\n      <td>NaN</td>\n      <td>128.792089</td>\n      <td>37.259788</td>\n    </tr>\n    <tr>\n      <th>3</th>\n      <td>MA010120220805430941</td>\n      <td>누베헤어</td>\n      <td>NaN</td>\n      <td>S2</td>\n      <td>수리·개인</td>\n      <td>S207</td>\n      <td>이용·미용</td>\n      <td>S20701</td>\n      <td>미용실</td>\n      <td>S96112</td>\n      <td>...</td>\n      <td>4211012500100440010000008</td>\n      <td>춘천파크자이</td>\n      <td>강원특별자치도 춘천시 스포츠타운길 460</td>\n      <td>200200</td>\n      <td>24472</td>\n      <td>NaN</td>\n      <td>3</td>\n      <td>NaN</td>\n      <td>127.707653</td>\n      <td>37.867744</td>\n    </tr>\n    <tr>\n      <th>4</th>\n      <td>MA010120220805430946</td>\n      <td>공차</td>\n      <td>NaN</td>\n      <td>I2</td>\n      <td>음식</td>\n      <td>I212</td>\n      <td>비알코올</td>\n      <td>I21201</td>\n      <td>카페</td>\n      <td>I56229</td>\n      <td>...</td>\n      <td>4213033023113500001000001</td>\n      <td>NaN</td>\n      <td>강원특별자치도 원주시 지정면 신지정로 211</td>\n      <td>220821</td>\n      <td>26354</td>\n      <td>NaN</td>\n      <td>NaN</td>\n      <td>NaN</td>\n      <td>127.872713</td>\n      <td>37.374189</td>\n    </tr>\n    <tr>\n      <th>...</th>\n      <td>...</td>\n      <td>...</td>\n      <td>...</td>\n      <td>...</td>\n      <td>...</td>\n      <td>...</td>\n      <td>...</td>\n      <td>...</td>\n      <td>...</td>\n      <td>...</td>\n      <td>...</td>\n      <td>...</td>\n      <td>...</td>\n      <td>...</td>\n      <td>...</td>\n      <td>...</td>\n      <td>...</td>\n      <td>...</td>\n      <td>...</td>\n      <td>...</td>\n      <td>...</td>\n    </tr>\n    <tr>\n      <th>98272</th>\n      <td>MA0101202307A0081821</td>\n      <td>삼G·S</td>\n      <td>NaN</td>\n      <td>G2</td>\n      <td>소매</td>\n      <td>G205</td>\n      <td>식료품 소매</td>\n      <td>G20506</td>\n      <td>채소/과일 소매업</td>\n      <td>G47215</td>\n      <td>...</td>\n      <td>4223025033101090000000001</td>\n      <td>도계라이온스회관</td>\n      <td>강원특별자치도 삼척시 도계읍 강원남부로 1339</td>\n      <td>245908</td>\n      <td>25947</td>\n      <td>NaN</td>\n      <td>2</td>\n      <td>NaN</td>\n      <td>129.041281</td>\n      <td>37.224591</td>\n    </tr>\n    <tr>\n      <th>98273</th>\n      <td>MA0101202307A0104754</td>\n      <td>소울법률부동산중개사무소</td>\n      <td>NaN</td>\n      <td>L1</td>\n      <td>부동산</td>\n      <td>L102</td>\n      <td>부동산 서비스</td>\n      <td>L10203</td>\n      <td>부동산 중개/대리업</td>\n      <td>L68221</td>\n      <td>...</td>\n      <td>4215011000117400003000001</td>\n      <td>NaN</td>\n      <td>강원특별자치도 강릉시 원대로 12-1</td>\n      <td>210924</td>\n      <td>25506</td>\n      <td>NaN</td>\n      <td>3</td>\n      <td>NaN</td>\n      <td>128.881950</td>\n      <td>37.755754</td>\n    </tr>\n    <tr>\n      <th>98274</th>\n      <td>MA0101202307A0009139</td>\n      <td>신리천로오구삼신리천로593</td>\n      <td>NaN</td>\n      <td>I1</td>\n      <td>숙박</td>\n      <td>I101</td>\n      <td>일반 숙박</td>\n      <td>I10103</td>\n      <td>펜션</td>\n      <td>I55104</td>\n      <td>...</td>\n      <td>4215025023110510002000001</td>\n      <td>NaN</td>\n      <td>강원특별자치도 강릉시 주문진읍 신리천로 593-111</td>\n      <td>210805</td>\n      <td>25402</td>\n      <td>NaN</td>\n      <td>NaN</td>\n      <td>NaN</td>\n      <td>128.770455</td>\n      <td>37.880750</td>\n    </tr>\n    <tr>\n      <th>98275</th>\n      <td>MA0101202307A0074433</td>\n      <td>더블레싱</td>\n      <td>NaN</td>\n      <td>I2</td>\n      <td>음식</td>\n      <td>I212</td>\n      <td>비알코올</td>\n      <td>I21201</td>\n      <td>카페</td>\n      <td>I56221</td>\n      <td>...</td>\n      <td>4213010700108510026000001</td>\n      <td>NaN</td>\n      <td>강원특별자치도 원주시 우러리길 12-5</td>\n      <td>220942</td>\n      <td>26400</td>\n      <td>NaN</td>\n      <td>1</td>\n      <td>NaN</td>\n      <td>127.956211</td>\n      <td>37.314884</td>\n    </tr>\n    <tr>\n      <th>98276</th>\n      <td>MA0101202307A0007645</td>\n      <td>영월술샘</td>\n      <td>NaN</td>\n      <td>G2</td>\n      <td>소매</td>\n      <td>G204</td>\n      <td>종합 소매</td>\n      <td>G20404</td>\n      <td>슈퍼마켓</td>\n      <td>G47129</td>\n      <td>...</td>\n      <td>4275036021112540003007101</td>\n      <td>NaN</td>\n      <td>강원특별자치도 영월군 주천면 주천로58번길 41</td>\n      <td>230854</td>\n      <td>26203</td>\n      <td>NaN</td>\n      <td>NaN</td>\n      <td>NaN</td>\n      <td>128.268966</td>\n      <td>37.270819</td>\n    </tr>\n  </tbody>\n</table>\n<p>98277 rows × 39 columns</p>\n</div>"
     },
     "execution_count": 25,
     "metadata": {},
     "output_type": "execute_result"
    }
   ],
   "source": [
    "file_list[0]"
   ],
   "metadata": {
    "collapsed": false,
    "ExecuteTime": {
     "end_time": "2023-10-09T08:31:59.172523500Z",
     "start_time": "2023-10-09T08:31:59.097186400Z"
    }
   },
   "id": "4f08e92e3d7b8419"
  },
  {
   "cell_type": "code",
   "execution_count": 29,
   "outputs": [],
   "source": [
    "df = pd.concat(file_list)"
   ],
   "metadata": {
    "collapsed": false,
    "ExecuteTime": {
     "end_time": "2023-10-09T08:33:02.603162900Z",
     "start_time": "2023-10-09T08:33:02.265590400Z"
    }
   },
   "id": "a91a4bcd90429484"
  },
  {
   "cell_type": "code",
   "execution_count": 30,
   "outputs": [
    {
     "data": {
      "text/plain": "17"
     },
     "execution_count": 30,
     "metadata": {},
     "output_type": "execute_result"
    }
   ],
   "source": [
    "len(file_list)"
   ],
   "metadata": {
    "collapsed": false,
    "ExecuteTime": {
     "end_time": "2023-10-09T08:33:10.487087500Z",
     "start_time": "2023-10-09T08:33:10.453394200Z"
    }
   },
   "id": "e07cf055d649e2cd"
  },
  {
   "cell_type": "code",
   "execution_count": 28,
   "outputs": [
    {
     "data": {
      "text/plain": "(2504940, 39)"
     },
     "execution_count": 28,
     "metadata": {},
     "output_type": "execute_result"
    }
   ],
   "source": [
    "df.shape"
   ],
   "metadata": {
    "collapsed": false,
    "ExecuteTime": {
     "end_time": "2023-10-09T08:32:41.072577200Z",
     "start_time": "2023-10-09T08:32:41.046543100Z"
    }
   },
   "id": "d518b1a670c6f623"
  },
  {
   "cell_type": "code",
   "execution_count": 33,
   "outputs": [
    {
     "data": {
      "text/plain": "                 상가업소번호           상호명  지점명 상권업종대분류코드 상권업종대분류명 상권업종중분류코드  \\\n0  MA0101202210A0084547       금강산노래광장  NaN        I2       음식      I211   \n1  MA010120220805430826  에이치속눈썹수강아카데미  NaN        S2    수리·개인      S207   \n2  MA010120220805430903            엔젤  NaN        I2       음식      I201   \n3  MA010120220805430941          누베헤어  NaN        S2    수리·개인      S207   \n4  MA010120220805430946            공차  NaN        I2       음식      I212   \n\n  상권업종중분류명 상권업종소분류코드  상권업종소분류명 표준산업분류코드  ...                     건물관리번호  \\\n0       주점    I21101  일반 유흥 주점   I56211  ...  4217010300007470000000086   \n1    이용·미용    S20702    피부 관리실   S96113  ...  4211039021110620001000001   \n2       한식    I20101    백반/한정식   I55109  ...  4277032022103660000008290   \n3    이용·미용    S20701       미용실   S96112  ...  4211012500100440010000008   \n4    비알코올     I21201        카페   I56229  ...  4213033023113500001000001   \n\n      건물명                          도로명주소   구우편번호  신우편번호  동정보  층정보  호정보  \\\n0     파크장             강원특별자치도 동해시 송정로 11  240806  25789  NaN    지  NaN   \n1     NaN  강원특별자치도 춘천시 동내면 외솔길19번길 80-36  200883  24401  NaN  NaN  NaN   \n2     NaN     강원특별자치도 정선군 남면 민둥산로 175-13  233837  26148  NaN  NaN  NaN   \n3  춘천파크자이         강원특별자치도 춘천시 스포츠타운길 460  200200  24472  NaN    3  NaN   \n4     NaN       강원특별자치도 원주시 지정면 신지정로 211  220821  26354  NaN  NaN  NaN   \n\n           경도         위도  \n0  129.127525  37.495265  \n1  127.758764  37.857831  \n2  128.792089  37.259788  \n3  127.707653  37.867744  \n4  127.872713  37.374189  \n\n[5 rows x 39 columns]",
      "text/html": "<div>\n<style scoped>\n    .dataframe tbody tr th:only-of-type {\n        vertical-align: middle;\n    }\n\n    .dataframe tbody tr th {\n        vertical-align: top;\n    }\n\n    .dataframe thead th {\n        text-align: right;\n    }\n</style>\n<table border=\"1\" class=\"dataframe\">\n  <thead>\n    <tr style=\"text-align: right;\">\n      <th></th>\n      <th>상가업소번호</th>\n      <th>상호명</th>\n      <th>지점명</th>\n      <th>상권업종대분류코드</th>\n      <th>상권업종대분류명</th>\n      <th>상권업종중분류코드</th>\n      <th>상권업종중분류명</th>\n      <th>상권업종소분류코드</th>\n      <th>상권업종소분류명</th>\n      <th>표준산업분류코드</th>\n      <th>...</th>\n      <th>건물관리번호</th>\n      <th>건물명</th>\n      <th>도로명주소</th>\n      <th>구우편번호</th>\n      <th>신우편번호</th>\n      <th>동정보</th>\n      <th>층정보</th>\n      <th>호정보</th>\n      <th>경도</th>\n      <th>위도</th>\n    </tr>\n  </thead>\n  <tbody>\n    <tr>\n      <th>0</th>\n      <td>MA0101202210A0084547</td>\n      <td>금강산노래광장</td>\n      <td>NaN</td>\n      <td>I2</td>\n      <td>음식</td>\n      <td>I211</td>\n      <td>주점</td>\n      <td>I21101</td>\n      <td>일반 유흥 주점</td>\n      <td>I56211</td>\n      <td>...</td>\n      <td>4217010300007470000000086</td>\n      <td>파크장</td>\n      <td>강원특별자치도 동해시 송정로 11</td>\n      <td>240806</td>\n      <td>25789</td>\n      <td>NaN</td>\n      <td>지</td>\n      <td>NaN</td>\n      <td>129.127525</td>\n      <td>37.495265</td>\n    </tr>\n    <tr>\n      <th>1</th>\n      <td>MA010120220805430826</td>\n      <td>에이치속눈썹수강아카데미</td>\n      <td>NaN</td>\n      <td>S2</td>\n      <td>수리·개인</td>\n      <td>S207</td>\n      <td>이용·미용</td>\n      <td>S20702</td>\n      <td>피부 관리실</td>\n      <td>S96113</td>\n      <td>...</td>\n      <td>4211039021110620001000001</td>\n      <td>NaN</td>\n      <td>강원특별자치도 춘천시 동내면 외솔길19번길 80-36</td>\n      <td>200883</td>\n      <td>24401</td>\n      <td>NaN</td>\n      <td>NaN</td>\n      <td>NaN</td>\n      <td>127.758764</td>\n      <td>37.857831</td>\n    </tr>\n    <tr>\n      <th>2</th>\n      <td>MA010120220805430903</td>\n      <td>엔젤</td>\n      <td>NaN</td>\n      <td>I2</td>\n      <td>음식</td>\n      <td>I201</td>\n      <td>한식</td>\n      <td>I20101</td>\n      <td>백반/한정식</td>\n      <td>I55109</td>\n      <td>...</td>\n      <td>4277032022103660000008290</td>\n      <td>NaN</td>\n      <td>강원특별자치도 정선군 남면 민둥산로 175-13</td>\n      <td>233837</td>\n      <td>26148</td>\n      <td>NaN</td>\n      <td>NaN</td>\n      <td>NaN</td>\n      <td>128.792089</td>\n      <td>37.259788</td>\n    </tr>\n    <tr>\n      <th>3</th>\n      <td>MA010120220805430941</td>\n      <td>누베헤어</td>\n      <td>NaN</td>\n      <td>S2</td>\n      <td>수리·개인</td>\n      <td>S207</td>\n      <td>이용·미용</td>\n      <td>S20701</td>\n      <td>미용실</td>\n      <td>S96112</td>\n      <td>...</td>\n      <td>4211012500100440010000008</td>\n      <td>춘천파크자이</td>\n      <td>강원특별자치도 춘천시 스포츠타운길 460</td>\n      <td>200200</td>\n      <td>24472</td>\n      <td>NaN</td>\n      <td>3</td>\n      <td>NaN</td>\n      <td>127.707653</td>\n      <td>37.867744</td>\n    </tr>\n    <tr>\n      <th>4</th>\n      <td>MA010120220805430946</td>\n      <td>공차</td>\n      <td>NaN</td>\n      <td>I2</td>\n      <td>음식</td>\n      <td>I212</td>\n      <td>비알코올</td>\n      <td>I21201</td>\n      <td>카페</td>\n      <td>I56229</td>\n      <td>...</td>\n      <td>4213033023113500001000001</td>\n      <td>NaN</td>\n      <td>강원특별자치도 원주시 지정면 신지정로 211</td>\n      <td>220821</td>\n      <td>26354</td>\n      <td>NaN</td>\n      <td>NaN</td>\n      <td>NaN</td>\n      <td>127.872713</td>\n      <td>37.374189</td>\n    </tr>\n  </tbody>\n</table>\n<p>5 rows × 39 columns</p>\n</div>"
     },
     "execution_count": 33,
     "metadata": {},
     "output_type": "execute_result"
    }
   ],
   "source": [
    "df.head()"
   ],
   "metadata": {
    "collapsed": false,
    "ExecuteTime": {
     "end_time": "2023-10-09T08:33:39.379249100Z",
     "start_time": "2023-10-09T08:33:39.329063Z"
    }
   },
   "id": "1e8baaea5e9005b6"
  },
  {
   "cell_type": "code",
   "execution_count": 35,
   "outputs": [
    {
     "name": "stdout",
     "output_type": "stream",
     "text": [
      "<class 'pandas.core.frame.DataFrame'>\n",
      "Index: 2504940 entries, 0 to 84703\n",
      "Data columns (total 39 columns):\n",
      " #   Column     Dtype  \n",
      "---  ------     -----  \n",
      " 0   상가업소번호     object \n",
      " 1   상호명        object \n",
      " 2   지점명        object \n",
      " 3   상권업종대분류코드  object \n",
      " 4   상권업종대분류명   object \n",
      " 5   상권업종중분류코드  object \n",
      " 6   상권업종중분류명   object \n",
      " 7   상권업종소분류코드  object \n",
      " 8   상권업종소분류명   object \n",
      " 9   표준산업분류코드   object \n",
      " 10  표준산업분류명    object \n",
      " 11  시도코드       int64  \n",
      " 12  시도명        object \n",
      " 13  시군구코드      int64  \n",
      " 14  시군구명       object \n",
      " 15  행정동코드      int64  \n",
      " 16  행정동명       object \n",
      " 17  법정동코드      int64  \n",
      " 18  법정동명       object \n",
      " 19  지번코드       int64  \n",
      " 20  대지구분코드     int64  \n",
      " 21  대지구분명      object \n",
      " 22  지번본번지      float64\n",
      " 23  지번부번지      float64\n",
      " 24  지번주소       object \n",
      " 25  도로명코드      float64\n",
      " 26  도로명        object \n",
      " 27  건물본번지      float64\n",
      " 28  건물부번지      float64\n",
      " 29  건물관리번호     object \n",
      " 30  건물명        object \n",
      " 31  도로명주소      object \n",
      " 32  구우편번호      int64  \n",
      " 33  신우편번호      int64  \n",
      " 34  동정보        float64\n",
      " 35  층정보        object \n",
      " 36  호정보        float64\n",
      " 37  경도         float64\n",
      " 38  위도         float64\n",
      "dtypes: float64(9), int64(8), object(22)\n",
      "memory usage: 764.4+ MB\n"
     ]
    }
   ],
   "source": [
    "df.info()  # 컬럼 데이타 타입 확인"
   ],
   "metadata": {
    "collapsed": false,
    "ExecuteTime": {
     "end_time": "2023-10-09T08:34:22.487516900Z",
     "start_time": "2023-10-09T08:34:22.430627300Z"
    }
   },
   "id": "66e58896cdd12af7"
  },
  {
   "cell_type": "code",
   "execution_count": null,
   "outputs": [],
   "source": [],
   "metadata": {
    "collapsed": false
   },
   "id": "7fc6a3d4ff32860c"
  }
 ],
 "metadata": {
  "kernelspec": {
   "display_name": "Python 3",
   "language": "python",
   "name": "python3"
  },
  "language_info": {
   "codemirror_mode": {
    "name": "ipython",
    "version": 2
   },
   "file_extension": ".py",
   "mimetype": "text/x-python",
   "name": "python",
   "nbconvert_exporter": "python",
   "pygments_lexer": "ipython2",
   "version": "2.7.6"
  }
 },
 "nbformat": 4,
 "nbformat_minor": 5
}
