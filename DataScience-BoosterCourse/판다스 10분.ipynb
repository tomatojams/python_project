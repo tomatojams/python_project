{
 "cells": [
  {
   "cell_type": "markdown",
   "source": [
    "# 10분 판타스 과정 - 실습해보면 2-3시간 걸림"
   ],
   "metadata": {
    "collapsed": false
   },
   "id": "c7704cbcaeb3fd6e"
  },
  {
   "cell_type": "code",
   "execution_count": 2,
   "outputs": [],
   "source": [
    "import numpy as np\n",
    "import pandas as pd"
   ],
   "metadata": {
    "collapsed": false,
    "ExecuteTime": {
     "start_time": "2023-10-08T23:05:58.954499200Z"
    }
   },
   "id": "initial_id"
  },
  {
   "cell_type": "markdown",
   "source": [
    "# 1.Object Creation (판다스 객체 생성)\n",
    "\n",
    "생성방법 \n",
    "pd.Series()경우 매개변수로 리스트와, index값을 넣어줘서 생성 index를 넣어주지 않으면 0부터 자동생성됩니다.\n",
    "pd.DataFrame()의 경우는 리트트와 index, 칼럼을 넣어줘서 생성, 딕션어리 형식으로 칼럼:데이타로 넣어도 됨"
   ],
   "metadata": {
    "collapsed": false
   },
   "id": "b9b24b4cf3b0a6b5"
  },
  {
   "cell_type": "code",
   "execution_count": 202,
   "outputs": [
    {
     "data": {
      "text/plain": "0    1.0\n1    3.0\n2    5.0\n3    NaN\n4    6.0\n5    8.0\ndtype: float64"
     },
     "execution_count": 202,
     "metadata": {},
     "output_type": "execute_result"
    }
   ],
   "source": [
    "# 함수에 리스트를 넣어서 생성\n",
    "# 1차원 배열을 판다스로 생성 벡터\n",
    "s = pd.Series([1, 3, 5, np.nan, 6, 8])\n",
    "s"
   ],
   "metadata": {
    "collapsed": false,
    "ExecuteTime": {
     "end_time": "2023-10-09T01:57:49.813759800Z",
     "start_time": "2023-10-09T01:57:49.795598100Z"
    }
   },
   "id": "3b1b35cf147e53d6"
  },
  {
   "cell_type": "code",
   "execution_count": 203,
   "outputs": [
    {
     "data": {
      "text/plain": "DatetimeIndex(['2013-01-01', '2013-01-02', '2013-01-03', '2013-01-04',\n               '2013-01-05', '2013-01-06'],\n              dtype='datetime64[ns]', freq='D')"
     },
     "execution_count": 203,
     "metadata": {},
     "output_type": "execute_result"
    }
   ],
   "source": [
    "# 데이트 를 생성해서 인덱스로 사용할수있다\n",
    "dates = pd.date_range('20130101', periods=6)\n",
    "dates"
   ],
   "metadata": {
    "collapsed": false,
    "ExecuteTime": {
     "end_time": "2023-10-09T01:57:49.977504200Z",
     "start_time": "2023-10-09T01:57:49.959503400Z"
    }
   },
   "id": "d179abb3a14cba"
  },
  {
   "cell_type": "markdown",
   "source": [
    "### 2차원 데이타 생성\n",
    "함수에 리스트(또는 생성함수), 인덱스, 칼럼을 넣어서 생성\n",
    "\n",
    "\n",
    " > 아래의 np.random.randn(6,4) \n",
    " 평균이 0이고 표준편차가 1인 6x4의 난수\n",
    " 인덱스에 데이트인덱스로 생성한 것이 들어감\n"
   ],
   "metadata": {
    "collapsed": false
   },
   "id": "2ff94822eb591f93"
  },
  {
   "cell_type": "code",
   "execution_count": 204,
   "outputs": [],
   "source": [
    "\n",
    "df = pd.DataFrame(np.random.randn(6, 4), index=dates, columns=list('ABCD'))\n"
   ],
   "metadata": {
    "collapsed": false,
    "ExecuteTime": {
     "end_time": "2023-10-09T01:57:50.287913700Z",
     "start_time": "2023-10-09T01:57:50.267055800Z"
    }
   },
   "id": "9e51f0d1dca81330"
  },
  {
   "cell_type": "code",
   "execution_count": 205,
   "outputs": [
    {
     "data": {
      "text/plain": "     A          B    C  D      E    F\n0  1.0 2013-01-02  1.0  3   test  foo\n1  1.0 2013-01-02  1.0  3  train  foo\n2  1.0 2013-01-02  1.0  3   test  foo\n3  1.0 2013-01-02  1.0  3  train  foo",
      "text/html": "<div>\n<style scoped>\n    .dataframe tbody tr th:only-of-type {\n        vertical-align: middle;\n    }\n\n    .dataframe tbody tr th {\n        vertical-align: top;\n    }\n\n    .dataframe thead th {\n        text-align: right;\n    }\n</style>\n<table border=\"1\" class=\"dataframe\">\n  <thead>\n    <tr style=\"text-align: right;\">\n      <th></th>\n      <th>A</th>\n      <th>B</th>\n      <th>C</th>\n      <th>D</th>\n      <th>E</th>\n      <th>F</th>\n    </tr>\n  </thead>\n  <tbody>\n    <tr>\n      <th>0</th>\n      <td>1.0</td>\n      <td>2013-01-02</td>\n      <td>1.0</td>\n      <td>3</td>\n      <td>test</td>\n      <td>foo</td>\n    </tr>\n    <tr>\n      <th>1</th>\n      <td>1.0</td>\n      <td>2013-01-02</td>\n      <td>1.0</td>\n      <td>3</td>\n      <td>train</td>\n      <td>foo</td>\n    </tr>\n    <tr>\n      <th>2</th>\n      <td>1.0</td>\n      <td>2013-01-02</td>\n      <td>1.0</td>\n      <td>3</td>\n      <td>test</td>\n      <td>foo</td>\n    </tr>\n    <tr>\n      <th>3</th>\n      <td>1.0</td>\n      <td>2013-01-02</td>\n      <td>1.0</td>\n      <td>3</td>\n      <td>train</td>\n      <td>foo</td>\n    </tr>\n  </tbody>\n</table>\n</div>"
     },
     "execution_count": 205,
     "metadata": {},
     "output_type": "execute_result"
    }
   ],
   "source": [
    "\n",
    "# 함수에 딕션어리를 넣어서도 생성가능\n",
    "# 판다스의 칼럼은 float64, int32,int64, bool, datetime64, np.array, pd.Categorical등을 가질수있다\n",
    "# 칼럼별로 ({ 'A' : 이런식으로 설정가능함})\n",
    "\n",
    "df2 = pd.DataFrame({'A': 1.,\n",
    "                    'B': pd.Timestamp('20130102'),\n",
    "                    'C': pd.Series(1, index=list(range(4)), dtype='float32'),\n",
    "                    'D': np.array([3] * 4, dtype='int32'),\n",
    "                    'E': pd.Categorical([\"test\", \"train\", \"test\", \"train\"]),\n",
    "                    'F': 'foo'})\n",
    "df2"
   ],
   "metadata": {
    "collapsed": false,
    "ExecuteTime": {
     "end_time": "2023-10-09T01:57:50.446651600Z",
     "start_time": "2023-10-09T01:57:50.432145300Z"
    }
   },
   "id": "c44f3a48c0eca201"
  },
  {
   "cell_type": "code",
   "execution_count": 206,
   "outputs": [
    {
     "data": {
      "text/plain": "A          float64\nB    datetime64[s]\nC          float32\nD            int32\nE         category\nF           object\ndtype: object"
     },
     "execution_count": 206,
     "metadata": {},
     "output_type": "execute_result"
    }
   ],
   "source": [
    "df2.dtypes  # 칼럼은 모두 다른 타입을 가질수있다"
   ],
   "metadata": {
    "collapsed": false,
    "ExecuteTime": {
     "end_time": "2023-10-09T01:57:50.620981400Z",
     "start_time": "2023-10-09T01:57:50.601980900Z"
    }
   },
   "id": "38bdf1e0dea145be"
  },
  {
   "cell_type": "markdown",
   "source": [
    "다양한 방법으로 데이터를 선택가능\n",
    "df2.A                  df2.bool\n",
    "df2.abs                df2.boxplot\n",
    "df2.add                df2.C\n",
    "df2.add_prefix         df2.clip\n",
    "df2.add_suffix         df2.clip_lower\n",
    "df2.align              df2.clip_upper\n",
    "df2.all                df2.columns\n",
    "df2.any                df2.combine\n",
    "df2.append             df2.combine_first\n",
    "df2.apply              df2.consolidate\n",
    "df2.applymap\n",
    "df2.D"
   ],
   "metadata": {
    "collapsed": false
   },
   "id": "4e35c12afe792c53"
  },
  {
   "cell_type": "markdown",
   "source": [
    " # 2. 데이타보기\n",
    " 객체 내부 함수로 데이타를 보는 기능"
   ],
   "metadata": {
    "collapsed": false
   },
   "id": "55b535177785befd"
  },
  {
   "cell_type": "code",
   "execution_count": 207,
   "outputs": [
    {
     "data": {
      "text/plain": "                   A         B         C         D\n2013-01-01 -0.277411  1.824859 -2.467046  0.734033\n2013-01-02 -1.546854  0.220631 -0.683225 -0.563278\n2013-01-03 -0.006661 -0.046632 -0.717066  0.718454\n2013-01-04  0.066167 -0.940848 -0.895081  0.830548\n2013-01-05  2.438738  0.052364 -0.675710 -0.461090",
      "text/html": "<div>\n<style scoped>\n    .dataframe tbody tr th:only-of-type {\n        vertical-align: middle;\n    }\n\n    .dataframe tbody tr th {\n        vertical-align: top;\n    }\n\n    .dataframe thead th {\n        text-align: right;\n    }\n</style>\n<table border=\"1\" class=\"dataframe\">\n  <thead>\n    <tr style=\"text-align: right;\">\n      <th></th>\n      <th>A</th>\n      <th>B</th>\n      <th>C</th>\n      <th>D</th>\n    </tr>\n  </thead>\n  <tbody>\n    <tr>\n      <th>2013-01-01</th>\n      <td>-0.277411</td>\n      <td>1.824859</td>\n      <td>-2.467046</td>\n      <td>0.734033</td>\n    </tr>\n    <tr>\n      <th>2013-01-02</th>\n      <td>-1.546854</td>\n      <td>0.220631</td>\n      <td>-0.683225</td>\n      <td>-0.563278</td>\n    </tr>\n    <tr>\n      <th>2013-01-03</th>\n      <td>-0.006661</td>\n      <td>-0.046632</td>\n      <td>-0.717066</td>\n      <td>0.718454</td>\n    </tr>\n    <tr>\n      <th>2013-01-04</th>\n      <td>0.066167</td>\n      <td>-0.940848</td>\n      <td>-0.895081</td>\n      <td>0.830548</td>\n    </tr>\n    <tr>\n      <th>2013-01-05</th>\n      <td>2.438738</td>\n      <td>0.052364</td>\n      <td>-0.675710</td>\n      <td>-0.461090</td>\n    </tr>\n  </tbody>\n</table>\n</div>"
     },
     "execution_count": 207,
     "metadata": {},
     "output_type": "execute_result"
    }
   ],
   "source": [
    "df.head()  # 상위 5개 보기"
   ],
   "metadata": {
    "collapsed": false,
    "ExecuteTime": {
     "end_time": "2023-10-09T01:57:51.109473500Z",
     "start_time": "2023-10-09T01:57:51.083455600Z"
    }
   },
   "id": "71eb3652fc233825"
  },
  {
   "cell_type": "code",
   "execution_count": 208,
   "outputs": [
    {
     "data": {
      "text/plain": "                   A         B         C         D\n2013-01-04  0.066167 -0.940848 -0.895081  0.830548\n2013-01-05  2.438738  0.052364 -0.675710 -0.461090\n2013-01-06 -1.457673 -1.974274  0.719050  0.318653",
      "text/html": "<div>\n<style scoped>\n    .dataframe tbody tr th:only-of-type {\n        vertical-align: middle;\n    }\n\n    .dataframe tbody tr th {\n        vertical-align: top;\n    }\n\n    .dataframe thead th {\n        text-align: right;\n    }\n</style>\n<table border=\"1\" class=\"dataframe\">\n  <thead>\n    <tr style=\"text-align: right;\">\n      <th></th>\n      <th>A</th>\n      <th>B</th>\n      <th>C</th>\n      <th>D</th>\n    </tr>\n  </thead>\n  <tbody>\n    <tr>\n      <th>2013-01-04</th>\n      <td>0.066167</td>\n      <td>-0.940848</td>\n      <td>-0.895081</td>\n      <td>0.830548</td>\n    </tr>\n    <tr>\n      <th>2013-01-05</th>\n      <td>2.438738</td>\n      <td>0.052364</td>\n      <td>-0.675710</td>\n      <td>-0.461090</td>\n    </tr>\n    <tr>\n      <th>2013-01-06</th>\n      <td>-1.457673</td>\n      <td>-1.974274</td>\n      <td>0.719050</td>\n      <td>0.318653</td>\n    </tr>\n  </tbody>\n</table>\n</div>"
     },
     "execution_count": 208,
     "metadata": {},
     "output_type": "execute_result"
    }
   ],
   "source": [
    "df.tail(3)  # 하위 3개 보기"
   ],
   "metadata": {
    "collapsed": false,
    "ExecuteTime": {
     "end_time": "2023-10-09T01:57:51.282421100Z",
     "start_time": "2023-10-09T01:57:51.248908500Z"
    }
   },
   "id": "a258ba4de256fb8"
  },
  {
   "cell_type": "code",
   "execution_count": 209,
   "outputs": [
    {
     "data": {
      "text/plain": "DatetimeIndex(['2013-01-01', '2013-01-02', '2013-01-03', '2013-01-04',\n               '2013-01-05', '2013-01-06'],\n              dtype='datetime64[ns]', freq='D')"
     },
     "execution_count": 209,
     "metadata": {},
     "output_type": "execute_result"
    }
   ],
   "source": [
    "df.index  # 인덱스보기"
   ],
   "metadata": {
    "collapsed": false,
    "ExecuteTime": {
     "end_time": "2023-10-09T01:57:51.446800200Z",
     "start_time": "2023-10-09T01:57:51.426410600Z"
    }
   },
   "id": "44da6be2c1139b87"
  },
  {
   "cell_type": "code",
   "execution_count": 210,
   "outputs": [
    {
     "data": {
      "text/plain": "Index(['A', 'B', 'C', 'D'], dtype='object')"
     },
     "execution_count": 210,
     "metadata": {},
     "output_type": "execute_result"
    }
   ],
   "source": [
    "df.columns  #칼럼보기"
   ],
   "metadata": {
    "collapsed": false,
    "ExecuteTime": {
     "end_time": "2023-10-09T01:57:51.637856200Z",
     "start_time": "2023-10-09T01:57:51.593834900Z"
    }
   },
   "id": "c8a676581fd2a3b8"
  },
  {
   "cell_type": "markdown",
   "source": [
    "Numpy 는 배열하나가 하나의 타입을 가지지만 판다스는 칼럼당 하나의 dtype을 가집니다\n",
    "따라서  DataFrame.to_numpy() 는 자원을 많이 소모하게됩니다.\n",
    "하나의 타입인 df 경우 빠르고 데이타 복사가 필요하지 않습니다."
   ],
   "metadata": {
    "collapsed": false
   },
   "id": "10df2b1e7eb1183d"
  },
  {
   "cell_type": "code",
   "execution_count": 211,
   "outputs": [
    {
     "data": {
      "text/plain": "array([[-0.27741098,  1.82485868, -2.4670462 ,  0.7340334 ],\n       [-1.54685408,  0.22063144, -0.68322482, -0.56327765],\n       [-0.00666072, -0.04663167, -0.7170661 ,  0.71845372],\n       [ 0.06616733, -0.94084798, -0.89508097,  0.83054847],\n       [ 2.43873778,  0.05236354, -0.67570992, -0.46108967],\n       [-1.45767258, -1.97427391,  0.71904982,  0.31865301]])"
     },
     "execution_count": 211,
     "metadata": {},
     "output_type": "execute_result"
    }
   ],
   "source": [
    "df.to_numpy()  # numpy로 변환"
   ],
   "metadata": {
    "collapsed": false,
    "ExecuteTime": {
     "end_time": "2023-10-09T01:57:51.938710200Z",
     "start_time": "2023-10-09T01:57:51.915701600Z"
    }
   },
   "id": "af5c9a973940f1a0"
  },
  {
   "cell_type": "markdown",
   "source": [
    "하지만 df2는 여러타입으로 자원을 많이 소모합니다."
   ],
   "metadata": {
    "collapsed": false
   },
   "id": "1c91597bde3b98b3"
  },
  {
   "cell_type": "code",
   "execution_count": 212,
   "outputs": [
    {
     "data": {
      "text/plain": "array([[1.0, Timestamp('2013-01-02 00:00:00'), 1.0, 3, 'test', 'foo'],\n       [1.0, Timestamp('2013-01-02 00:00:00'), 1.0, 3, 'train', 'foo'],\n       [1.0, Timestamp('2013-01-02 00:00:00'), 1.0, 3, 'test', 'foo'],\n       [1.0, Timestamp('2013-01-02 00:00:00'), 1.0, 3, 'train', 'foo']],\n      dtype=object)"
     },
     "execution_count": 212,
     "metadata": {},
     "output_type": "execute_result"
    }
   ],
   "source": [
    "df2.to_numpy()"
   ],
   "metadata": {
    "collapsed": false,
    "ExecuteTime": {
     "end_time": "2023-10-09T01:57:52.778705700Z",
     "start_time": "2023-10-09T01:57:52.756024400Z"
    }
   },
   "id": "6260faced83252ae"
  },
  {
   "cell_type": "markdown",
   "source": [
    "> 메모\n",
    "\n",
    "> DataFrame.to_numpy()출력에 인덱스 또는 열 레이블이 포함되지 않습니다 ."
   ],
   "metadata": {
    "collapsed": false
   },
   "id": "233b29c393bc42e"
  },
  {
   "cell_type": "code",
   "execution_count": 213,
   "outputs": [
    {
     "data": {
      "text/plain": "              A         B         C         D\ncount  6.000000  6.000000  6.000000  6.000000\nmean  -0.130616 -0.143983 -0.786513  0.262887\nstd    1.445270  1.268248  1.012963  0.626348\nmin   -1.546854 -1.974274 -2.467046 -0.563278\n25%   -1.162607 -0.717294 -0.850577 -0.266154\n50%   -0.142036  0.002866 -0.700145  0.518553\n75%    0.047960  0.178564 -0.677589  0.730138\nmax    2.438738  1.824859  0.719050  0.830548",
      "text/html": "<div>\n<style scoped>\n    .dataframe tbody tr th:only-of-type {\n        vertical-align: middle;\n    }\n\n    .dataframe tbody tr th {\n        vertical-align: top;\n    }\n\n    .dataframe thead th {\n        text-align: right;\n    }\n</style>\n<table border=\"1\" class=\"dataframe\">\n  <thead>\n    <tr style=\"text-align: right;\">\n      <th></th>\n      <th>A</th>\n      <th>B</th>\n      <th>C</th>\n      <th>D</th>\n    </tr>\n  </thead>\n  <tbody>\n    <tr>\n      <th>count</th>\n      <td>6.000000</td>\n      <td>6.000000</td>\n      <td>6.000000</td>\n      <td>6.000000</td>\n    </tr>\n    <tr>\n      <th>mean</th>\n      <td>-0.130616</td>\n      <td>-0.143983</td>\n      <td>-0.786513</td>\n      <td>0.262887</td>\n    </tr>\n    <tr>\n      <th>std</th>\n      <td>1.445270</td>\n      <td>1.268248</td>\n      <td>1.012963</td>\n      <td>0.626348</td>\n    </tr>\n    <tr>\n      <th>min</th>\n      <td>-1.546854</td>\n      <td>-1.974274</td>\n      <td>-2.467046</td>\n      <td>-0.563278</td>\n    </tr>\n    <tr>\n      <th>25%</th>\n      <td>-1.162607</td>\n      <td>-0.717294</td>\n      <td>-0.850577</td>\n      <td>-0.266154</td>\n    </tr>\n    <tr>\n      <th>50%</th>\n      <td>-0.142036</td>\n      <td>0.002866</td>\n      <td>-0.700145</td>\n      <td>0.518553</td>\n    </tr>\n    <tr>\n      <th>75%</th>\n      <td>0.047960</td>\n      <td>0.178564</td>\n      <td>-0.677589</td>\n      <td>0.730138</td>\n    </tr>\n    <tr>\n      <th>max</th>\n      <td>2.438738</td>\n      <td>1.824859</td>\n      <td>0.719050</td>\n      <td>0.830548</td>\n    </tr>\n  </tbody>\n</table>\n</div>"
     },
     "execution_count": 213,
     "metadata": {},
     "output_type": "execute_result"
    }
   ],
   "source": [
    "# 데이타에 대한 빠른 통계요약을 보여줍니다.\n",
    "# 빈도수, 평균, 표준편차 최소 25% 50% 75% 최대값\n",
    "df.describe()"
   ],
   "metadata": {
    "collapsed": false,
    "ExecuteTime": {
     "end_time": "2023-10-09T01:57:53.849570Z",
     "start_time": "2023-10-09T01:57:53.828063300Z"
    }
   },
   "id": "8233998d436ccffe"
  },
  {
   "cell_type": "code",
   "execution_count": 214,
   "outputs": [
    {
     "data": {
      "text/plain": "   2013-01-01  2013-01-02  2013-01-03  2013-01-04  2013-01-05  2013-01-06\nA   -0.277411   -1.546854   -0.006661    0.066167    2.438738   -1.457673\nB    1.824859    0.220631   -0.046632   -0.940848    0.052364   -1.974274\nC   -2.467046   -0.683225   -0.717066   -0.895081   -0.675710    0.719050\nD    0.734033   -0.563278    0.718454    0.830548   -0.461090    0.318653",
      "text/html": "<div>\n<style scoped>\n    .dataframe tbody tr th:only-of-type {\n        vertical-align: middle;\n    }\n\n    .dataframe tbody tr th {\n        vertical-align: top;\n    }\n\n    .dataframe thead th {\n        text-align: right;\n    }\n</style>\n<table border=\"1\" class=\"dataframe\">\n  <thead>\n    <tr style=\"text-align: right;\">\n      <th></th>\n      <th>2013-01-01</th>\n      <th>2013-01-02</th>\n      <th>2013-01-03</th>\n      <th>2013-01-04</th>\n      <th>2013-01-05</th>\n      <th>2013-01-06</th>\n    </tr>\n  </thead>\n  <tbody>\n    <tr>\n      <th>A</th>\n      <td>-0.277411</td>\n      <td>-1.546854</td>\n      <td>-0.006661</td>\n      <td>0.066167</td>\n      <td>2.438738</td>\n      <td>-1.457673</td>\n    </tr>\n    <tr>\n      <th>B</th>\n      <td>1.824859</td>\n      <td>0.220631</td>\n      <td>-0.046632</td>\n      <td>-0.940848</td>\n      <td>0.052364</td>\n      <td>-1.974274</td>\n    </tr>\n    <tr>\n      <th>C</th>\n      <td>-2.467046</td>\n      <td>-0.683225</td>\n      <td>-0.717066</td>\n      <td>-0.895081</td>\n      <td>-0.675710</td>\n      <td>0.719050</td>\n    </tr>\n    <tr>\n      <th>D</th>\n      <td>0.734033</td>\n      <td>-0.563278</td>\n      <td>0.718454</td>\n      <td>0.830548</td>\n      <td>-0.461090</td>\n      <td>0.318653</td>\n    </tr>\n  </tbody>\n</table>\n</div>"
     },
     "execution_count": 214,
     "metadata": {},
     "output_type": "execute_result"
    }
   ],
   "source": [
    "# 데이터를 전치합니다.\n",
    "df.T"
   ],
   "metadata": {
    "collapsed": false,
    "ExecuteTime": {
     "end_time": "2023-10-09T01:57:54.518365800Z",
     "start_time": "2023-10-09T01:57:54.486185800Z"
    }
   },
   "id": "f38f3fd152e3cd9d"
  },
  {
   "cell_type": "code",
   "execution_count": 215,
   "outputs": [
    {
     "data": {
      "text/plain": "                   D         C         B         A\n2013-01-01  0.734033 -2.467046  1.824859 -0.277411\n2013-01-02 -0.563278 -0.683225  0.220631 -1.546854\n2013-01-03  0.718454 -0.717066 -0.046632 -0.006661\n2013-01-04  0.830548 -0.895081 -0.940848  0.066167\n2013-01-05 -0.461090 -0.675710  0.052364  2.438738\n2013-01-06  0.318653  0.719050 -1.974274 -1.457673",
      "text/html": "<div>\n<style scoped>\n    .dataframe tbody tr th:only-of-type {\n        vertical-align: middle;\n    }\n\n    .dataframe tbody tr th {\n        vertical-align: top;\n    }\n\n    .dataframe thead th {\n        text-align: right;\n    }\n</style>\n<table border=\"1\" class=\"dataframe\">\n  <thead>\n    <tr style=\"text-align: right;\">\n      <th></th>\n      <th>D</th>\n      <th>C</th>\n      <th>B</th>\n      <th>A</th>\n    </tr>\n  </thead>\n  <tbody>\n    <tr>\n      <th>2013-01-01</th>\n      <td>0.734033</td>\n      <td>-2.467046</td>\n      <td>1.824859</td>\n      <td>-0.277411</td>\n    </tr>\n    <tr>\n      <th>2013-01-02</th>\n      <td>-0.563278</td>\n      <td>-0.683225</td>\n      <td>0.220631</td>\n      <td>-1.546854</td>\n    </tr>\n    <tr>\n      <th>2013-01-03</th>\n      <td>0.718454</td>\n      <td>-0.717066</td>\n      <td>-0.046632</td>\n      <td>-0.006661</td>\n    </tr>\n    <tr>\n      <th>2013-01-04</th>\n      <td>0.830548</td>\n      <td>-0.895081</td>\n      <td>-0.940848</td>\n      <td>0.066167</td>\n    </tr>\n    <tr>\n      <th>2013-01-05</th>\n      <td>-0.461090</td>\n      <td>-0.675710</td>\n      <td>0.052364</td>\n      <td>2.438738</td>\n    </tr>\n    <tr>\n      <th>2013-01-06</th>\n      <td>0.318653</td>\n      <td>0.719050</td>\n      <td>-1.974274</td>\n      <td>-1.457673</td>\n    </tr>\n  </tbody>\n</table>\n</div>"
     },
     "execution_count": 215,
     "metadata": {},
     "output_type": "execute_result"
    }
   ],
   "source": [
    "# 칼럼을정열을 합니다. 내림차순이라 DCBA axis=1 방향으로 정열\n",
    "df.sort_index(axis=1, ascending=False)\n"
   ],
   "metadata": {
    "collapsed": false,
    "ExecuteTime": {
     "end_time": "2023-10-09T01:57:55.073293800Z",
     "start_time": "2023-10-09T01:57:55.047527500Z"
    }
   },
   "id": "c270662d0f25d55e"
  },
  {
   "cell_type": "code",
   "execution_count": 216,
   "outputs": [
    {
     "data": {
      "text/plain": "                   A         B         C         D\n2013-01-06 -1.457673 -1.974274  0.719050  0.318653\n2013-01-04  0.066167 -0.940848 -0.895081  0.830548\n2013-01-03 -0.006661 -0.046632 -0.717066  0.718454\n2013-01-05  2.438738  0.052364 -0.675710 -0.461090\n2013-01-02 -1.546854  0.220631 -0.683225 -0.563278\n2013-01-01 -0.277411  1.824859 -2.467046  0.734033",
      "text/html": "<div>\n<style scoped>\n    .dataframe tbody tr th:only-of-type {\n        vertical-align: middle;\n    }\n\n    .dataframe tbody tr th {\n        vertical-align: top;\n    }\n\n    .dataframe thead th {\n        text-align: right;\n    }\n</style>\n<table border=\"1\" class=\"dataframe\">\n  <thead>\n    <tr style=\"text-align: right;\">\n      <th></th>\n      <th>A</th>\n      <th>B</th>\n      <th>C</th>\n      <th>D</th>\n    </tr>\n  </thead>\n  <tbody>\n    <tr>\n      <th>2013-01-06</th>\n      <td>-1.457673</td>\n      <td>-1.974274</td>\n      <td>0.719050</td>\n      <td>0.318653</td>\n    </tr>\n    <tr>\n      <th>2013-01-04</th>\n      <td>0.066167</td>\n      <td>-0.940848</td>\n      <td>-0.895081</td>\n      <td>0.830548</td>\n    </tr>\n    <tr>\n      <th>2013-01-03</th>\n      <td>-0.006661</td>\n      <td>-0.046632</td>\n      <td>-0.717066</td>\n      <td>0.718454</td>\n    </tr>\n    <tr>\n      <th>2013-01-05</th>\n      <td>2.438738</td>\n      <td>0.052364</td>\n      <td>-0.675710</td>\n      <td>-0.461090</td>\n    </tr>\n    <tr>\n      <th>2013-01-02</th>\n      <td>-1.546854</td>\n      <td>0.220631</td>\n      <td>-0.683225</td>\n      <td>-0.563278</td>\n    </tr>\n    <tr>\n      <th>2013-01-01</th>\n      <td>-0.277411</td>\n      <td>1.824859</td>\n      <td>-2.467046</td>\n      <td>0.734033</td>\n    </tr>\n  </tbody>\n</table>\n</div>"
     },
     "execution_count": 216,
     "metadata": {},
     "output_type": "execute_result"
    }
   ],
   "source": [
    "df.sort_values(by='B')  # B칼럼을 기준으로 정렬"
   ],
   "metadata": {
    "collapsed": false,
    "ExecuteTime": {
     "end_time": "2023-10-09T01:57:55.736479800Z",
     "start_time": "2023-10-09T01:57:55.718470600Z"
    }
   },
   "id": "1f699199cbff1088"
  },
  {
   "cell_type": "code",
   "execution_count": 217,
   "outputs": [
    {
     "name": "stdout",
     "output_type": "stream",
     "text": [
      "A     6\n",
      "B    15\n",
      "C    24\n",
      "dtype: int64\n",
      "0    12\n",
      "1    15\n",
      "2    18\n",
      "dtype: int64\n"
     ]
    }
   ],
   "source": [
    "# 참고 판다스 axis=0, axis=1 방향에 대해서\n",
    "\n",
    "import pandas as pd\n",
    "\n",
    "data = {'A': [1, 2, 3], 'B': [4, 5, 6], 'C': [7, 8, 9]}\n",
    "sd = pd.DataFrame(data)\n",
    "\n",
    "# 열 방향으로 합계 계산 (각 열의 합)\n",
    "column_sum = sd.sum(axis=0)\n",
    "\n",
    "# 행 방향으로 합계 계산 (각 행의 합)\n",
    "row_sum = sd.sum(axis=1)\n",
    "\n",
    "print(column_sum)\n",
    "print(row_sum)"
   ],
   "metadata": {
    "collapsed": false,
    "ExecuteTime": {
     "end_time": "2023-10-09T01:57:56.664328900Z",
     "start_time": "2023-10-09T01:57:56.645243500Z"
    }
   },
   "id": "e012ba933fdfddae"
  },
  {
   "cell_type": "markdown",
   "source": [
    "# 데이타선택\n",
    "```칼럼은 라벨링으로 로우는 인덱싱으로 합니다.```"
   ],
   "metadata": {
    "collapsed": false
   },
   "id": "9c248918f3cbaa30"
  },
  {
   "cell_type": "code",
   "execution_count": 218,
   "outputs": [
    {
     "data": {
      "text/plain": "2013-01-01   -0.277411\n2013-01-02   -1.546854\n2013-01-03   -0.006661\n2013-01-04    0.066167\n2013-01-05    2.438738\n2013-01-06   -1.457673\nFreq: D, Name: A, dtype: float64"
     },
     "execution_count": 218,
     "metadata": {},
     "output_type": "execute_result"
    }
   ],
   "source": [
    "# 칼럼선택\n",
    "df['A']"
   ],
   "metadata": {
    "collapsed": false,
    "ExecuteTime": {
     "end_time": "2023-10-09T01:57:57.443442600Z",
     "start_time": "2023-10-09T01:57:57.427923500Z"
    }
   },
   "id": "7bcb821a6e5b222f"
  },
  {
   "cell_type": "code",
   "execution_count": 219,
   "outputs": [
    {
     "data": {
      "text/plain": "                   A         B         C         D\n2013-01-01 -0.277411  1.824859 -2.467046  0.734033\n2013-01-02 -1.546854  0.220631 -0.683225 -0.563278\n2013-01-03 -0.006661 -0.046632 -0.717066  0.718454",
      "text/html": "<div>\n<style scoped>\n    .dataframe tbody tr th:only-of-type {\n        vertical-align: middle;\n    }\n\n    .dataframe tbody tr th {\n        vertical-align: top;\n    }\n\n    .dataframe thead th {\n        text-align: right;\n    }\n</style>\n<table border=\"1\" class=\"dataframe\">\n  <thead>\n    <tr style=\"text-align: right;\">\n      <th></th>\n      <th>A</th>\n      <th>B</th>\n      <th>C</th>\n      <th>D</th>\n    </tr>\n  </thead>\n  <tbody>\n    <tr>\n      <th>2013-01-01</th>\n      <td>-0.277411</td>\n      <td>1.824859</td>\n      <td>-2.467046</td>\n      <td>0.734033</td>\n    </tr>\n    <tr>\n      <th>2013-01-02</th>\n      <td>-1.546854</td>\n      <td>0.220631</td>\n      <td>-0.683225</td>\n      <td>-0.563278</td>\n    </tr>\n    <tr>\n      <th>2013-01-03</th>\n      <td>-0.006661</td>\n      <td>-0.046632</td>\n      <td>-0.717066</td>\n      <td>0.718454</td>\n    </tr>\n  </tbody>\n</table>\n</div>"
     },
     "execution_count": 219,
     "metadata": {},
     "output_type": "execute_result"
    }
   ],
   "source": [
    "df[0:3]  # row선택"
   ],
   "metadata": {
    "collapsed": false,
    "ExecuteTime": {
     "end_time": "2023-10-09T01:57:57.857265800Z",
     "start_time": "2023-10-09T01:57:57.836901100Z"
    }
   },
   "id": "d9615af245d61d99"
  },
  {
   "cell_type": "markdown",
   "source": [
    "### df.loc\n",
    "라벨을 활용한 선택 \n",
    "라벨을 활용하는 방식으로 데이타의 특정구간을 선택할수있습니다."
   ],
   "metadata": {
    "collapsed": false
   },
   "id": "78b0ac81a0a8e205"
  },
  {
   "cell_type": "code",
   "execution_count": 220,
   "outputs": [
    {
     "data": {
      "text/plain": "-1.5468540819774068"
     },
     "execution_count": 220,
     "metadata": {},
     "output_type": "execute_result"
    }
   ],
   "source": [
    "# 특정 값을 라벨링으로 가져오기\n",
    "df.loc['20130102', 'A']"
   ],
   "metadata": {
    "collapsed": false,
    "ExecuteTime": {
     "end_time": "2023-10-09T01:58:02.222061400Z",
     "start_time": "2023-10-09T01:58:02.202061300Z"
    }
   },
   "id": "1024dbcccb4c76e3"
  },
  {
   "cell_type": "code",
   "execution_count": 221,
   "outputs": [
    {
     "data": {
      "text/plain": "A   -1.546854\nB    0.220631\nC   -0.683225\nD   -0.563278\nName: 2013-01-02 00:00:00, dtype: float64"
     },
     "execution_count": 221,
     "metadata": {},
     "output_type": "execute_result"
    }
   ],
   "source": [
    "# 라벨을 활용하는 방식으로 데이타의 특정구간을 선택할수있습니다.\n",
    "\n",
    "# 라벨링방식이므로 인덱싱을 활용하는 스라이싱은 안됨 \n",
    "# df.loc[2:3] 에러남\n",
    "df.loc['20130102']\n"
   ],
   "metadata": {
    "collapsed": false,
    "ExecuteTime": {
     "end_time": "2023-10-09T01:58:02.670958200Z",
     "start_time": "2023-10-09T01:58:02.651646800Z"
    }
   },
   "id": "50ea17e48ff08e33"
  },
  {
   "cell_type": "code",
   "execution_count": 222,
   "outputs": [
    {
     "data": {
      "text/plain": "                   A         B         C         D\n2013-01-01 -0.277411  1.824859 -2.467046  0.734033\n2013-01-02 -1.546854  0.220631 -0.683225 -0.563278\n2013-01-03 -0.006661 -0.046632 -0.717066  0.718454\n2013-01-04  0.066167 -0.940848 -0.895081  0.830548\n2013-01-05  2.438738  0.052364 -0.675710 -0.461090\n2013-01-06 -1.457673 -1.974274  0.719050  0.318653",
      "text/html": "<div>\n<style scoped>\n    .dataframe tbody tr th:only-of-type {\n        vertical-align: middle;\n    }\n\n    .dataframe tbody tr th {\n        vertical-align: top;\n    }\n\n    .dataframe thead th {\n        text-align: right;\n    }\n</style>\n<table border=\"1\" class=\"dataframe\">\n  <thead>\n    <tr style=\"text-align: right;\">\n      <th></th>\n      <th>A</th>\n      <th>B</th>\n      <th>C</th>\n      <th>D</th>\n    </tr>\n  </thead>\n  <tbody>\n    <tr>\n      <th>2013-01-01</th>\n      <td>-0.277411</td>\n      <td>1.824859</td>\n      <td>-2.467046</td>\n      <td>0.734033</td>\n    </tr>\n    <tr>\n      <th>2013-01-02</th>\n      <td>-1.546854</td>\n      <td>0.220631</td>\n      <td>-0.683225</td>\n      <td>-0.563278</td>\n    </tr>\n    <tr>\n      <th>2013-01-03</th>\n      <td>-0.006661</td>\n      <td>-0.046632</td>\n      <td>-0.717066</td>\n      <td>0.718454</td>\n    </tr>\n    <tr>\n      <th>2013-01-04</th>\n      <td>0.066167</td>\n      <td>-0.940848</td>\n      <td>-0.895081</td>\n      <td>0.830548</td>\n    </tr>\n    <tr>\n      <th>2013-01-05</th>\n      <td>2.438738</td>\n      <td>0.052364</td>\n      <td>-0.675710</td>\n      <td>-0.461090</td>\n    </tr>\n    <tr>\n      <th>2013-01-06</th>\n      <td>-1.457673</td>\n      <td>-1.974274</td>\n      <td>0.719050</td>\n      <td>0.318653</td>\n    </tr>\n  </tbody>\n</table>\n</div>"
     },
     "execution_count": 222,
     "metadata": {},
     "output_type": "execute_result"
    }
   ],
   "source": [
    "# df.loc[dates[0]]\n",
    "# 다만 인덱싱하는 자료형 자체로는 슬라이싱가능\n",
    "df.loc[dates[:]]"
   ],
   "metadata": {
    "collapsed": false,
    "ExecuteTime": {
     "end_time": "2023-10-09T01:58:03.529407700Z",
     "start_time": "2023-10-09T01:58:03.509661400Z"
    }
   },
   "id": "32d095d3f8a61ba2"
  },
  {
   "cell_type": "code",
   "execution_count": 223,
   "outputs": [
    {
     "data": {
      "text/plain": "                   A         B\n2013-01-01 -0.277411  1.824859\n2013-01-02 -1.546854  0.220631\n2013-01-03 -0.006661 -0.046632\n2013-01-04  0.066167 -0.940848\n2013-01-05  2.438738  0.052364\n2013-01-06 -1.457673 -1.974274",
      "text/html": "<div>\n<style scoped>\n    .dataframe tbody tr th:only-of-type {\n        vertical-align: middle;\n    }\n\n    .dataframe tbody tr th {\n        vertical-align: top;\n    }\n\n    .dataframe thead th {\n        text-align: right;\n    }\n</style>\n<table border=\"1\" class=\"dataframe\">\n  <thead>\n    <tr style=\"text-align: right;\">\n      <th></th>\n      <th>A</th>\n      <th>B</th>\n    </tr>\n  </thead>\n  <tbody>\n    <tr>\n      <th>2013-01-01</th>\n      <td>-0.277411</td>\n      <td>1.824859</td>\n    </tr>\n    <tr>\n      <th>2013-01-02</th>\n      <td>-1.546854</td>\n      <td>0.220631</td>\n    </tr>\n    <tr>\n      <th>2013-01-03</th>\n      <td>-0.006661</td>\n      <td>-0.046632</td>\n    </tr>\n    <tr>\n      <th>2013-01-04</th>\n      <td>0.066167</td>\n      <td>-0.940848</td>\n    </tr>\n    <tr>\n      <th>2013-01-05</th>\n      <td>2.438738</td>\n      <td>0.052364</td>\n    </tr>\n    <tr>\n      <th>2013-01-06</th>\n      <td>-1.457673</td>\n      <td>-1.974274</td>\n    </tr>\n  </tbody>\n</table>\n</div>"
     },
     "execution_count": 223,
     "metadata": {},
     "output_type": "execute_result"
    }
   ],
   "source": [
    "df.loc[:, ['A', 'B']]  # A,B칼럼을 모두 선택 "
   ],
   "metadata": {
    "collapsed": false,
    "ExecuteTime": {
     "end_time": "2023-10-09T01:58:03.850820Z",
     "start_time": "2023-10-09T01:58:03.829381900Z"
    }
   },
   "id": "ef06ef775160dc93"
  },
  {
   "cell_type": "code",
   "execution_count": 224,
   "outputs": [
    {
     "data": {
      "text/plain": "                   A         B\n2013-01-02 -1.546854  0.220631\n2013-01-03 -0.006661 -0.046632\n2013-01-04  0.066167 -0.940848",
      "text/html": "<div>\n<style scoped>\n    .dataframe tbody tr th:only-of-type {\n        vertical-align: middle;\n    }\n\n    .dataframe tbody tr th {\n        vertical-align: top;\n    }\n\n    .dataframe thead th {\n        text-align: right;\n    }\n</style>\n<table border=\"1\" class=\"dataframe\">\n  <thead>\n    <tr style=\"text-align: right;\">\n      <th></th>\n      <th>A</th>\n      <th>B</th>\n    </tr>\n  </thead>\n  <tbody>\n    <tr>\n      <th>2013-01-02</th>\n      <td>-1.546854</td>\n      <td>0.220631</td>\n    </tr>\n    <tr>\n      <th>2013-01-03</th>\n      <td>-0.006661</td>\n      <td>-0.046632</td>\n    </tr>\n    <tr>\n      <th>2013-01-04</th>\n      <td>0.066167</td>\n      <td>-0.940848</td>\n    </tr>\n  </tbody>\n</table>\n</div>"
     },
     "execution_count": 224,
     "metadata": {},
     "output_type": "execute_result"
    }
   ],
   "source": [
    "# 라벨을 활용한 슬라이싱\n",
    "df.loc['20130102':'20130104', ['A', 'B']]"
   ],
   "metadata": {
    "collapsed": false,
    "ExecuteTime": {
     "end_time": "2023-10-09T01:58:04.039676400Z",
     "start_time": "2023-10-09T01:58:04.022160100Z"
    }
   },
   "id": "81699c40133280e3"
  },
  {
   "cell_type": "markdown",
   "source": [
    "# 위치로 선택하기\n",
    "df.iloc\n",
    "인덱싱으로 자료를 출력합니다."
   ],
   "metadata": {
    "collapsed": false
   },
   "id": "3df2c658411b2a2c"
  },
  {
   "cell_type": "code",
   "execution_count": 225,
   "outputs": [
    {
     "data": {
      "text/plain": "A    0.066167\nB   -0.940848\nC   -0.895081\nD    0.830548\nName: 2013-01-04 00:00:00, dtype: float64"
     },
     "execution_count": 225,
     "metadata": {},
     "output_type": "execute_result"
    }
   ],
   "source": [
    "\n",
    "df.iloc[3]  # 3번째 row를 선택"
   ],
   "metadata": {
    "collapsed": false,
    "ExecuteTime": {
     "end_time": "2023-10-09T01:58:05.857623300Z",
     "start_time": "2023-10-09T01:58:05.811204500Z"
    }
   },
   "id": "b75b283c8d3d7027"
  },
  {
   "cell_type": "code",
   "execution_count": 226,
   "outputs": [
    {
     "data": {
      "text/plain": "                   A         B\n2013-01-04  0.066167 -0.940848\n2013-01-05  2.438738  0.052364",
      "text/html": "<div>\n<style scoped>\n    .dataframe tbody tr th:only-of-type {\n        vertical-align: middle;\n    }\n\n    .dataframe tbody tr th {\n        vertical-align: top;\n    }\n\n    .dataframe thead th {\n        text-align: right;\n    }\n</style>\n<table border=\"1\" class=\"dataframe\">\n  <thead>\n    <tr style=\"text-align: right;\">\n      <th></th>\n      <th>A</th>\n      <th>B</th>\n    </tr>\n  </thead>\n  <tbody>\n    <tr>\n      <th>2013-01-04</th>\n      <td>0.066167</td>\n      <td>-0.940848</td>\n    </tr>\n    <tr>\n      <th>2013-01-05</th>\n      <td>2.438738</td>\n      <td>0.052364</td>\n    </tr>\n  </tbody>\n</table>\n</div>"
     },
     "execution_count": 226,
     "metadata": {},
     "output_type": "execute_result"
    }
   ],
   "source": [
    "df.iloc[3:5, 0:2]  # 슬라이싱가능"
   ],
   "metadata": {
    "collapsed": false,
    "ExecuteTime": {
     "end_time": "2023-10-09T01:58:06.609095800Z",
     "start_time": "2023-10-09T01:58:06.588135600Z"
    }
   },
   "id": "4cf679d109a225c9"
  },
  {
   "cell_type": "code",
   "execution_count": 227,
   "outputs": [
    {
     "data": {
      "text/plain": "                   A         C\n2013-01-02 -1.546854 -0.683225\n2013-01-03 -0.006661 -0.717066\n2013-01-05  2.438738 -0.675710",
      "text/html": "<div>\n<style scoped>\n    .dataframe tbody tr th:only-of-type {\n        vertical-align: middle;\n    }\n\n    .dataframe tbody tr th {\n        vertical-align: top;\n    }\n\n    .dataframe thead th {\n        text-align: right;\n    }\n</style>\n<table border=\"1\" class=\"dataframe\">\n  <thead>\n    <tr style=\"text-align: right;\">\n      <th></th>\n      <th>A</th>\n      <th>C</th>\n    </tr>\n  </thead>\n  <tbody>\n    <tr>\n      <th>2013-01-02</th>\n      <td>-1.546854</td>\n      <td>-0.683225</td>\n    </tr>\n    <tr>\n      <th>2013-01-03</th>\n      <td>-0.006661</td>\n      <td>-0.717066</td>\n    </tr>\n    <tr>\n      <th>2013-01-05</th>\n      <td>2.438738</td>\n      <td>-0.675710</td>\n    </tr>\n  </tbody>\n</table>\n</div>"
     },
     "execution_count": 227,
     "metadata": {},
     "output_type": "execute_result"
    }
   ],
   "source": [
    "df.iloc[[1, 2, 4], [0, 2]]  # 1,2,4번째 row와 0,2번째 칼럼을 선택"
   ],
   "metadata": {
    "collapsed": false,
    "ExecuteTime": {
     "end_time": "2023-10-09T01:58:07.370619200Z",
     "start_time": "2023-10-09T01:58:07.349108200Z"
    }
   },
   "id": "91e3fba16c5e2257"
  },
  {
   "cell_type": "code",
   "execution_count": 228,
   "outputs": [
    {
     "data": {
      "text/plain": "                   A         B         C         D\n2013-01-02 -1.546854  0.220631 -0.683225 -0.563278\n2013-01-03 -0.006661 -0.046632 -0.717066  0.718454",
      "text/html": "<div>\n<style scoped>\n    .dataframe tbody tr th:only-of-type {\n        vertical-align: middle;\n    }\n\n    .dataframe tbody tr th {\n        vertical-align: top;\n    }\n\n    .dataframe thead th {\n        text-align: right;\n    }\n</style>\n<table border=\"1\" class=\"dataframe\">\n  <thead>\n    <tr style=\"text-align: right;\">\n      <th></th>\n      <th>A</th>\n      <th>B</th>\n      <th>C</th>\n      <th>D</th>\n    </tr>\n  </thead>\n  <tbody>\n    <tr>\n      <th>2013-01-02</th>\n      <td>-1.546854</td>\n      <td>0.220631</td>\n      <td>-0.683225</td>\n      <td>-0.563278</td>\n    </tr>\n    <tr>\n      <th>2013-01-03</th>\n      <td>-0.006661</td>\n      <td>-0.046632</td>\n      <td>-0.717066</td>\n      <td>0.718454</td>\n    </tr>\n  </tbody>\n</table>\n</div>"
     },
     "execution_count": 228,
     "metadata": {},
     "output_type": "execute_result"
    }
   ],
   "source": [
    "df.iloc[1:3, :]  # 1~2번째 row와 모든 칼럼을 선택"
   ],
   "metadata": {
    "collapsed": false,
    "ExecuteTime": {
     "end_time": "2023-10-09T01:58:07.778649900Z",
     "start_time": "2023-10-09T01:58:07.757770900Z"
    }
   },
   "id": "966478f1de122651"
  },
  {
   "cell_type": "code",
   "execution_count": 229,
   "outputs": [
    {
     "data": {
      "text/plain": "-0.2774109810571349"
     },
     "execution_count": 229,
     "metadata": {},
     "output_type": "execute_result"
    }
   ],
   "source": [
    "df.iloc[0, 0]  # 특정값 구하기"
   ],
   "metadata": {
    "collapsed": false,
    "ExecuteTime": {
     "end_time": "2023-10-09T01:58:07.977762400Z",
     "start_time": "2023-10-09T01:58:07.954764700Z"
    }
   },
   "id": "db009e95feaf8b18"
  },
  {
   "cell_type": "code",
   "execution_count": 230,
   "outputs": [
    {
     "data": {
      "text/plain": "-0.2774109810571349"
     },
     "execution_count": 230,
     "metadata": {},
     "output_type": "execute_result"
    }
   ],
   "source": [
    "df.iat[0, 0]  # 빠른 선택값 구하기"
   ],
   "metadata": {
    "collapsed": false,
    "ExecuteTime": {
     "end_time": "2023-10-09T01:58:08.667226800Z",
     "start_time": "2023-10-09T01:58:08.640848200Z"
    }
   },
   "id": "8f68c602aa89fc0"
  },
  {
   "cell_type": "markdown",
   "source": [
    "### 불리언 인덱싱\n",
    "참값에 해당하는 자료를 검색합니다."
   ],
   "metadata": {
    "collapsed": false
   },
   "id": "b50c0aa6a0062692"
  },
  {
   "cell_type": "code",
   "execution_count": 231,
   "outputs": [
    {
     "data": {
      "text/plain": "                   A         B         C         D\n2013-01-04  0.066167 -0.940848 -0.895081  0.830548\n2013-01-05  2.438738  0.052364 -0.675710 -0.461090",
      "text/html": "<div>\n<style scoped>\n    .dataframe tbody tr th:only-of-type {\n        vertical-align: middle;\n    }\n\n    .dataframe tbody tr th {\n        vertical-align: top;\n    }\n\n    .dataframe thead th {\n        text-align: right;\n    }\n</style>\n<table border=\"1\" class=\"dataframe\">\n  <thead>\n    <tr style=\"text-align: right;\">\n      <th></th>\n      <th>A</th>\n      <th>B</th>\n      <th>C</th>\n      <th>D</th>\n    </tr>\n  </thead>\n  <tbody>\n    <tr>\n      <th>2013-01-04</th>\n      <td>0.066167</td>\n      <td>-0.940848</td>\n      <td>-0.895081</td>\n      <td>0.830548</td>\n    </tr>\n    <tr>\n      <th>2013-01-05</th>\n      <td>2.438738</td>\n      <td>0.052364</td>\n      <td>-0.675710</td>\n      <td>-0.461090</td>\n    </tr>\n  </tbody>\n</table>\n</div>"
     },
     "execution_count": 231,
     "metadata": {},
     "output_type": "execute_result"
    }
   ],
   "source": [
    "df[df['A'] > 0]  # row 에서 A칼럼의 값이 0보다 큰 것"
   ],
   "metadata": {
    "collapsed": false,
    "ExecuteTime": {
     "end_time": "2023-10-09T01:58:09.849053200Z",
     "start_time": "2023-10-09T01:58:09.820875500Z"
    }
   },
   "id": "4e36aeeca534a8bd"
  },
  {
   "cell_type": "code",
   "execution_count": 232,
   "outputs": [
    {
     "data": {
      "text/plain": "                   A         B        C         D\n2013-01-01       NaN  1.824859      NaN  0.734033\n2013-01-02       NaN  0.220631      NaN       NaN\n2013-01-03       NaN       NaN      NaN  0.718454\n2013-01-04  0.066167       NaN      NaN  0.830548\n2013-01-05  2.438738  0.052364      NaN       NaN\n2013-01-06       NaN       NaN  0.71905  0.318653",
      "text/html": "<div>\n<style scoped>\n    .dataframe tbody tr th:only-of-type {\n        vertical-align: middle;\n    }\n\n    .dataframe tbody tr th {\n        vertical-align: top;\n    }\n\n    .dataframe thead th {\n        text-align: right;\n    }\n</style>\n<table border=\"1\" class=\"dataframe\">\n  <thead>\n    <tr style=\"text-align: right;\">\n      <th></th>\n      <th>A</th>\n      <th>B</th>\n      <th>C</th>\n      <th>D</th>\n    </tr>\n  </thead>\n  <tbody>\n    <tr>\n      <th>2013-01-01</th>\n      <td>NaN</td>\n      <td>1.824859</td>\n      <td>NaN</td>\n      <td>0.734033</td>\n    </tr>\n    <tr>\n      <th>2013-01-02</th>\n      <td>NaN</td>\n      <td>0.220631</td>\n      <td>NaN</td>\n      <td>NaN</td>\n    </tr>\n    <tr>\n      <th>2013-01-03</th>\n      <td>NaN</td>\n      <td>NaN</td>\n      <td>NaN</td>\n      <td>0.718454</td>\n    </tr>\n    <tr>\n      <th>2013-01-04</th>\n      <td>0.066167</td>\n      <td>NaN</td>\n      <td>NaN</td>\n      <td>0.830548</td>\n    </tr>\n    <tr>\n      <th>2013-01-05</th>\n      <td>2.438738</td>\n      <td>0.052364</td>\n      <td>NaN</td>\n      <td>NaN</td>\n    </tr>\n    <tr>\n      <th>2013-01-06</th>\n      <td>NaN</td>\n      <td>NaN</td>\n      <td>0.71905</td>\n      <td>0.318653</td>\n    </tr>\n  </tbody>\n</table>\n</div>"
     },
     "execution_count": 232,
     "metadata": {},
     "output_type": "execute_result"
    }
   ],
   "source": [
    "df[df > 0]  # 불리언 조건을 충족하는 데이터프레임에서 값을 선택합니다."
   ],
   "metadata": {
    "collapsed": false,
    "ExecuteTime": {
     "end_time": "2023-10-09T01:58:12.340504700Z",
     "start_time": "2023-10-09T01:58:12.301199200Z"
    }
   },
   "id": "6fc03c79acbba287"
  },
  {
   "cell_type": "markdown",
   "source": [
    "### isin() 메소드를 활용한 필터링"
   ],
   "metadata": {
    "collapsed": false
   },
   "id": "3dad94b37d30c065"
  },
  {
   "cell_type": "code",
   "execution_count": 233,
   "outputs": [
    {
     "data": {
      "text/plain": "                   A         B         C         D      E\n2013-01-01 -0.277411  1.824859 -2.467046  0.734033    one\n2013-01-02 -1.546854  0.220631 -0.683225 -0.563278    one\n2013-01-03 -0.006661 -0.046632 -0.717066  0.718454    two\n2013-01-04  0.066167 -0.940848 -0.895081  0.830548  three\n2013-01-05  2.438738  0.052364 -0.675710 -0.461090   four\n2013-01-06 -1.457673 -1.974274  0.719050  0.318653  three",
      "text/html": "<div>\n<style scoped>\n    .dataframe tbody tr th:only-of-type {\n        vertical-align: middle;\n    }\n\n    .dataframe tbody tr th {\n        vertical-align: top;\n    }\n\n    .dataframe thead th {\n        text-align: right;\n    }\n</style>\n<table border=\"1\" class=\"dataframe\">\n  <thead>\n    <tr style=\"text-align: right;\">\n      <th></th>\n      <th>A</th>\n      <th>B</th>\n      <th>C</th>\n      <th>D</th>\n      <th>E</th>\n    </tr>\n  </thead>\n  <tbody>\n    <tr>\n      <th>2013-01-01</th>\n      <td>-0.277411</td>\n      <td>1.824859</td>\n      <td>-2.467046</td>\n      <td>0.734033</td>\n      <td>one</td>\n    </tr>\n    <tr>\n      <th>2013-01-02</th>\n      <td>-1.546854</td>\n      <td>0.220631</td>\n      <td>-0.683225</td>\n      <td>-0.563278</td>\n      <td>one</td>\n    </tr>\n    <tr>\n      <th>2013-01-03</th>\n      <td>-0.006661</td>\n      <td>-0.046632</td>\n      <td>-0.717066</td>\n      <td>0.718454</td>\n      <td>two</td>\n    </tr>\n    <tr>\n      <th>2013-01-04</th>\n      <td>0.066167</td>\n      <td>-0.940848</td>\n      <td>-0.895081</td>\n      <td>0.830548</td>\n      <td>three</td>\n    </tr>\n    <tr>\n      <th>2013-01-05</th>\n      <td>2.438738</td>\n      <td>0.052364</td>\n      <td>-0.675710</td>\n      <td>-0.461090</td>\n      <td>four</td>\n    </tr>\n    <tr>\n      <th>2013-01-06</th>\n      <td>-1.457673</td>\n      <td>-1.974274</td>\n      <td>0.719050</td>\n      <td>0.318653</td>\n      <td>three</td>\n    </tr>\n  </tbody>\n</table>\n</div>"
     },
     "execution_count": 233,
     "metadata": {},
     "output_type": "execute_result"
    }
   ],
   "source": [
    "df2 = df.copy()  # df2에 df를 복사\n",
    "df2['E'] = ['one', 'one', 'two', 'three', 'four', 'three']  # E칼럼에 one,one,two,three,four,three를 넣음\n",
    "df2"
   ],
   "metadata": {
    "collapsed": false,
    "ExecuteTime": {
     "end_time": "2023-10-09T01:58:14.930753900Z",
     "start_time": "2023-10-09T01:58:14.900510800Z"
    }
   },
   "id": "f1489eee16d79802"
  },
  {
   "cell_type": "code",
   "execution_count": 234,
   "outputs": [
    {
     "data": {
      "text/plain": "                   A         B         C         D     E\n2013-01-03 -0.006661 -0.046632 -0.717066  0.718454   two\n2013-01-05  2.438738  0.052364 -0.675710 -0.461090  four",
      "text/html": "<div>\n<style scoped>\n    .dataframe tbody tr th:only-of-type {\n        vertical-align: middle;\n    }\n\n    .dataframe tbody tr th {\n        vertical-align: top;\n    }\n\n    .dataframe thead th {\n        text-align: right;\n    }\n</style>\n<table border=\"1\" class=\"dataframe\">\n  <thead>\n    <tr style=\"text-align: right;\">\n      <th></th>\n      <th>A</th>\n      <th>B</th>\n      <th>C</th>\n      <th>D</th>\n      <th>E</th>\n    </tr>\n  </thead>\n  <tbody>\n    <tr>\n      <th>2013-01-03</th>\n      <td>-0.006661</td>\n      <td>-0.046632</td>\n      <td>-0.717066</td>\n      <td>0.718454</td>\n      <td>two</td>\n    </tr>\n    <tr>\n      <th>2013-01-05</th>\n      <td>2.438738</td>\n      <td>0.052364</td>\n      <td>-0.675710</td>\n      <td>-0.461090</td>\n      <td>four</td>\n    </tr>\n  </tbody>\n</table>\n</div>"
     },
     "execution_count": 234,
     "metadata": {},
     "output_type": "execute_result"
    }
   ],
   "source": [
    "df2[df2['E'].isin(['two', 'four'])]  # E칼럼에서 two,four를 선택"
   ],
   "metadata": {
    "collapsed": false,
    "ExecuteTime": {
     "end_time": "2023-10-09T01:58:16.869671100Z",
     "start_time": "2023-10-09T01:58:16.849340700Z"
    }
   },
   "id": "c410180b24878abe"
  },
  {
   "cell_type": "markdown",
   "source": [
    "### 값을 넣기 (Setting)"
   ],
   "metadata": {
    "collapsed": false
   },
   "id": "611f474fdb61d81"
  },
  {
   "cell_type": "code",
   "execution_count": 235,
   "outputs": [
    {
     "data": {
      "text/plain": "                   A         B         C         D  F\n2013-01-01 -0.277411  1.824859 -2.467046  0.734033  1\n2013-01-02 -1.546854  0.220631 -0.683225 -0.563278  2\n2013-01-03 -0.006661 -0.046632 -0.717066  0.718454  3\n2013-01-04  0.066167 -0.940848 -0.895081  0.830548  4\n2013-01-05  2.438738  0.052364 -0.675710 -0.461090  5\n2013-01-06 -1.457673 -1.974274  0.719050  0.318653  6",
      "text/html": "<div>\n<style scoped>\n    .dataframe tbody tr th:only-of-type {\n        vertical-align: middle;\n    }\n\n    .dataframe tbody tr th {\n        vertical-align: top;\n    }\n\n    .dataframe thead th {\n        text-align: right;\n    }\n</style>\n<table border=\"1\" class=\"dataframe\">\n  <thead>\n    <tr style=\"text-align: right;\">\n      <th></th>\n      <th>A</th>\n      <th>B</th>\n      <th>C</th>\n      <th>D</th>\n      <th>F</th>\n    </tr>\n  </thead>\n  <tbody>\n    <tr>\n      <th>2013-01-01</th>\n      <td>-0.277411</td>\n      <td>1.824859</td>\n      <td>-2.467046</td>\n      <td>0.734033</td>\n      <td>1</td>\n    </tr>\n    <tr>\n      <th>2013-01-02</th>\n      <td>-1.546854</td>\n      <td>0.220631</td>\n      <td>-0.683225</td>\n      <td>-0.563278</td>\n      <td>2</td>\n    </tr>\n    <tr>\n      <th>2013-01-03</th>\n      <td>-0.006661</td>\n      <td>-0.046632</td>\n      <td>-0.717066</td>\n      <td>0.718454</td>\n      <td>3</td>\n    </tr>\n    <tr>\n      <th>2013-01-04</th>\n      <td>0.066167</td>\n      <td>-0.940848</td>\n      <td>-0.895081</td>\n      <td>0.830548</td>\n      <td>4</td>\n    </tr>\n    <tr>\n      <th>2013-01-05</th>\n      <td>2.438738</td>\n      <td>0.052364</td>\n      <td>-0.675710</td>\n      <td>-0.461090</td>\n      <td>5</td>\n    </tr>\n    <tr>\n      <th>2013-01-06</th>\n      <td>-1.457673</td>\n      <td>-1.974274</td>\n      <td>0.719050</td>\n      <td>0.318653</td>\n      <td>6</td>\n    </tr>\n  </tbody>\n</table>\n</div>"
     },
     "execution_count": 235,
     "metadata": {},
     "output_type": "execute_result"
    }
   ],
   "source": [
    "\n",
    "# 새로운 칼럼을 넣기\n",
    "s1 = pd.Series([1, 2, 3, 4, 5, 6], index=pd.date_range('20130101', periods=6))\n",
    "df['F'] = s1  # 새로운 칼럼을 지정하고 Serises를 넣습니다.\n",
    "df"
   ],
   "metadata": {
    "collapsed": false,
    "ExecuteTime": {
     "end_time": "2023-10-09T01:58:18.493715Z",
     "start_time": "2023-10-09T01:58:18.477209Z"
    }
   },
   "id": "71ac01aa904f7122"
  },
  {
   "cell_type": "code",
   "execution_count": 236,
   "outputs": [
    {
     "data": {
      "text/plain": "0.0"
     },
     "execution_count": 236,
     "metadata": {},
     "output_type": "execute_result"
    }
   ],
   "source": [
    "# 라벨링으로 세팅\n",
    "df.at[dates[0], 'A'] = 0\n",
    "df.at[dates[0], 'A']"
   ],
   "metadata": {
    "collapsed": false,
    "ExecuteTime": {
     "end_time": "2023-10-09T01:58:19.197325100Z",
     "start_time": "2023-10-09T01:58:19.177764200Z"
    }
   },
   "id": "fb6cb9dd005a5078"
  },
  {
   "cell_type": "code",
   "execution_count": 237,
   "outputs": [
    {
     "data": {
      "text/plain": "1.0"
     },
     "execution_count": 237,
     "metadata": {},
     "output_type": "execute_result"
    }
   ],
   "source": [
    "# 인덱싱으로 세팅\n",
    "df.iat[0, 1] = 1\n",
    "df.iat[0, 1]"
   ],
   "metadata": {
    "collapsed": false,
    "ExecuteTime": {
     "end_time": "2023-10-09T01:58:19.785263900Z",
     "start_time": "2023-10-09T01:58:19.753753800Z"
    }
   },
   "id": "8befd27294582636"
  },
  {
   "cell_type": "code",
   "execution_count": 238,
   "outputs": [
    {
     "data": {
      "text/plain": "                   A         B         C    D  F\n2013-01-01  0.000000  1.000000 -2.467046  5.0  1\n2013-01-02 -1.546854  0.220631 -0.683225  5.0  2\n2013-01-03 -0.006661 -0.046632 -0.717066  5.0  3\n2013-01-04  0.066167 -0.940848 -0.895081  5.0  4\n2013-01-05  2.438738  0.052364 -0.675710  5.0  5\n2013-01-06 -1.457673 -1.974274  0.719050  5.0  6",
      "text/html": "<div>\n<style scoped>\n    .dataframe tbody tr th:only-of-type {\n        vertical-align: middle;\n    }\n\n    .dataframe tbody tr th {\n        vertical-align: top;\n    }\n\n    .dataframe thead th {\n        text-align: right;\n    }\n</style>\n<table border=\"1\" class=\"dataframe\">\n  <thead>\n    <tr style=\"text-align: right;\">\n      <th></th>\n      <th>A</th>\n      <th>B</th>\n      <th>C</th>\n      <th>D</th>\n      <th>F</th>\n    </tr>\n  </thead>\n  <tbody>\n    <tr>\n      <th>2013-01-01</th>\n      <td>0.000000</td>\n      <td>1.000000</td>\n      <td>-2.467046</td>\n      <td>5.0</td>\n      <td>1</td>\n    </tr>\n    <tr>\n      <th>2013-01-02</th>\n      <td>-1.546854</td>\n      <td>0.220631</td>\n      <td>-0.683225</td>\n      <td>5.0</td>\n      <td>2</td>\n    </tr>\n    <tr>\n      <th>2013-01-03</th>\n      <td>-0.006661</td>\n      <td>-0.046632</td>\n      <td>-0.717066</td>\n      <td>5.0</td>\n      <td>3</td>\n    </tr>\n    <tr>\n      <th>2013-01-04</th>\n      <td>0.066167</td>\n      <td>-0.940848</td>\n      <td>-0.895081</td>\n      <td>5.0</td>\n      <td>4</td>\n    </tr>\n    <tr>\n      <th>2013-01-05</th>\n      <td>2.438738</td>\n      <td>0.052364</td>\n      <td>-0.675710</td>\n      <td>5.0</td>\n      <td>5</td>\n    </tr>\n    <tr>\n      <th>2013-01-06</th>\n      <td>-1.457673</td>\n      <td>-1.974274</td>\n      <td>0.719050</td>\n      <td>5.0</td>\n      <td>6</td>\n    </tr>\n  </tbody>\n</table>\n</div>"
     },
     "execution_count": 238,
     "metadata": {},
     "output_type": "execute_result"
    }
   ],
   "source": [
    "# 라벨값으로 세팅\n",
    "df.loc[:, 'D'] = np.array([5] * len(df))\n",
    "df"
   ],
   "metadata": {
    "collapsed": false,
    "ExecuteTime": {
     "end_time": "2023-10-09T01:58:20.571522500Z",
     "start_time": "2023-10-09T01:58:20.525523200Z"
    }
   },
   "id": "a457b9c319f0ca3d"
  },
  {
   "cell_type": "markdown",
   "source": [
    "### 누락된 데이타( Missing data)\n",
    "연산에 포함되지 않은 누락된 데이타를 np.nan으로 표현합니다."
   ],
   "metadata": {
    "collapsed": false
   },
   "id": "f677ece65b76a54e"
  },
  {
   "cell_type": "code",
   "execution_count": 239,
   "outputs": [
    {
     "data": {
      "text/plain": "                   A         B         C    D  F    E\n2013-01-01  0.000000  1.000000 -2.467046  5.0  1  1.0\n2013-01-02 -1.546854  0.220631 -0.683225  5.0  2  1.0\n2013-01-03 -0.006661 -0.046632 -0.717066  5.0  3  NaN\n2013-01-04  0.066167 -0.940848 -0.895081  5.0  4  NaN",
      "text/html": "<div>\n<style scoped>\n    .dataframe tbody tr th:only-of-type {\n        vertical-align: middle;\n    }\n\n    .dataframe tbody tr th {\n        vertical-align: top;\n    }\n\n    .dataframe thead th {\n        text-align: right;\n    }\n</style>\n<table border=\"1\" class=\"dataframe\">\n  <thead>\n    <tr style=\"text-align: right;\">\n      <th></th>\n      <th>A</th>\n      <th>B</th>\n      <th>C</th>\n      <th>D</th>\n      <th>F</th>\n      <th>E</th>\n    </tr>\n  </thead>\n  <tbody>\n    <tr>\n      <th>2013-01-01</th>\n      <td>0.000000</td>\n      <td>1.000000</td>\n      <td>-2.467046</td>\n      <td>5.0</td>\n      <td>1</td>\n      <td>1.0</td>\n    </tr>\n    <tr>\n      <th>2013-01-02</th>\n      <td>-1.546854</td>\n      <td>0.220631</td>\n      <td>-0.683225</td>\n      <td>5.0</td>\n      <td>2</td>\n      <td>1.0</td>\n    </tr>\n    <tr>\n      <th>2013-01-03</th>\n      <td>-0.006661</td>\n      <td>-0.046632</td>\n      <td>-0.717066</td>\n      <td>5.0</td>\n      <td>3</td>\n      <td>NaN</td>\n    </tr>\n    <tr>\n      <th>2013-01-04</th>\n      <td>0.066167</td>\n      <td>-0.940848</td>\n      <td>-0.895081</td>\n      <td>5.0</td>\n      <td>4</td>\n      <td>NaN</td>\n    </tr>\n  </tbody>\n</table>\n</div>"
     },
     "execution_count": 239,
     "metadata": {},
     "output_type": "execute_result"
    }
   ],
   "source": [
    "df1 = df.reindex(index=dates[0:4], columns=list(df.columns) + ['E'])\n",
    "df1.loc[dates[0]:dates[1], 'E'] = 1\n",
    "df1"
   ],
   "metadata": {
    "collapsed": false,
    "ExecuteTime": {
     "end_time": "2023-10-09T01:58:22.692742600Z",
     "start_time": "2023-10-09T01:58:22.648555600Z"
    }
   },
   "id": "2efc334a7e75485d"
  },
  {
   "cell_type": "code",
   "execution_count": 240,
   "outputs": [
    {
     "data": {
      "text/plain": "                   A         B         C    D  F    E\n2013-01-01  0.000000  1.000000 -2.467046  5.0  1  1.0\n2013-01-02 -1.546854  0.220631 -0.683225  5.0  2  1.0",
      "text/html": "<div>\n<style scoped>\n    .dataframe tbody tr th:only-of-type {\n        vertical-align: middle;\n    }\n\n    .dataframe tbody tr th {\n        vertical-align: top;\n    }\n\n    .dataframe thead th {\n        text-align: right;\n    }\n</style>\n<table border=\"1\" class=\"dataframe\">\n  <thead>\n    <tr style=\"text-align: right;\">\n      <th></th>\n      <th>A</th>\n      <th>B</th>\n      <th>C</th>\n      <th>D</th>\n      <th>F</th>\n      <th>E</th>\n    </tr>\n  </thead>\n  <tbody>\n    <tr>\n      <th>2013-01-01</th>\n      <td>0.000000</td>\n      <td>1.000000</td>\n      <td>-2.467046</td>\n      <td>5.0</td>\n      <td>1</td>\n      <td>1.0</td>\n    </tr>\n    <tr>\n      <th>2013-01-02</th>\n      <td>-1.546854</td>\n      <td>0.220631</td>\n      <td>-0.683225</td>\n      <td>5.0</td>\n      <td>2</td>\n      <td>1.0</td>\n    </tr>\n  </tbody>\n</table>\n</div>"
     },
     "execution_count": 240,
     "metadata": {},
     "output_type": "execute_result"
    }
   ],
   "source": [
    "# 누락된 데이타가 있는 로우는 제거하고 보여줌\n",
    "df1.dropna(how='any')"
   ],
   "metadata": {
    "collapsed": false,
    "ExecuteTime": {
     "end_time": "2023-10-09T01:58:24.661104600Z",
     "start_time": "2023-10-09T01:58:24.644914600Z"
    }
   },
   "id": "70c78aa1bb26e2ff"
  },
  {
   "cell_type": "code",
   "execution_count": 241,
   "outputs": [
    {
     "data": {
      "text/plain": "                   A         B         C    D  F    E\n2013-01-01  0.000000  1.000000 -2.467046  5.0  1  1.0\n2013-01-02 -1.546854  0.220631 -0.683225  5.0  2  1.0\n2013-01-03 -0.006661 -0.046632 -0.717066  5.0  3  5.0\n2013-01-04  0.066167 -0.940848 -0.895081  5.0  4  5.0",
      "text/html": "<div>\n<style scoped>\n    .dataframe tbody tr th:only-of-type {\n        vertical-align: middle;\n    }\n\n    .dataframe tbody tr th {\n        vertical-align: top;\n    }\n\n    .dataframe thead th {\n        text-align: right;\n    }\n</style>\n<table border=\"1\" class=\"dataframe\">\n  <thead>\n    <tr style=\"text-align: right;\">\n      <th></th>\n      <th>A</th>\n      <th>B</th>\n      <th>C</th>\n      <th>D</th>\n      <th>F</th>\n      <th>E</th>\n    </tr>\n  </thead>\n  <tbody>\n    <tr>\n      <th>2013-01-01</th>\n      <td>0.000000</td>\n      <td>1.000000</td>\n      <td>-2.467046</td>\n      <td>5.0</td>\n      <td>1</td>\n      <td>1.0</td>\n    </tr>\n    <tr>\n      <th>2013-01-02</th>\n      <td>-1.546854</td>\n      <td>0.220631</td>\n      <td>-0.683225</td>\n      <td>5.0</td>\n      <td>2</td>\n      <td>1.0</td>\n    </tr>\n    <tr>\n      <th>2013-01-03</th>\n      <td>-0.006661</td>\n      <td>-0.046632</td>\n      <td>-0.717066</td>\n      <td>5.0</td>\n      <td>3</td>\n      <td>5.0</td>\n    </tr>\n    <tr>\n      <th>2013-01-04</th>\n      <td>0.066167</td>\n      <td>-0.940848</td>\n      <td>-0.895081</td>\n      <td>5.0</td>\n      <td>4</td>\n      <td>5.0</td>\n    </tr>\n  </tbody>\n</table>\n</div>"
     },
     "execution_count": 241,
     "metadata": {},
     "output_type": "execute_result"
    }
   ],
   "source": [
    "df1.fillna(value=5)"
   ],
   "metadata": {
    "collapsed": false,
    "ExecuteTime": {
     "end_time": "2023-10-09T01:58:26.863765Z",
     "start_time": "2023-10-09T01:58:26.844819300Z"
    }
   },
   "id": "4aefb72712140f24"
  },
  {
   "cell_type": "code",
   "execution_count": 242,
   "outputs": [
    {
     "data": {
      "text/plain": "                A      B      C      D      F      E\n2013-01-01  False  False  False  False  False  False\n2013-01-02  False  False  False  False  False  False\n2013-01-03  False  False  False  False  False   True\n2013-01-04  False  False  False  False  False   True",
      "text/html": "<div>\n<style scoped>\n    .dataframe tbody tr th:only-of-type {\n        vertical-align: middle;\n    }\n\n    .dataframe tbody tr th {\n        vertical-align: top;\n    }\n\n    .dataframe thead th {\n        text-align: right;\n    }\n</style>\n<table border=\"1\" class=\"dataframe\">\n  <thead>\n    <tr style=\"text-align: right;\">\n      <th></th>\n      <th>A</th>\n      <th>B</th>\n      <th>C</th>\n      <th>D</th>\n      <th>F</th>\n      <th>E</th>\n    </tr>\n  </thead>\n  <tbody>\n    <tr>\n      <th>2013-01-01</th>\n      <td>False</td>\n      <td>False</td>\n      <td>False</td>\n      <td>False</td>\n      <td>False</td>\n      <td>False</td>\n    </tr>\n    <tr>\n      <th>2013-01-02</th>\n      <td>False</td>\n      <td>False</td>\n      <td>False</td>\n      <td>False</td>\n      <td>False</td>\n      <td>False</td>\n    </tr>\n    <tr>\n      <th>2013-01-03</th>\n      <td>False</td>\n      <td>False</td>\n      <td>False</td>\n      <td>False</td>\n      <td>False</td>\n      <td>True</td>\n    </tr>\n    <tr>\n      <th>2013-01-04</th>\n      <td>False</td>\n      <td>False</td>\n      <td>False</td>\n      <td>False</td>\n      <td>False</td>\n      <td>True</td>\n    </tr>\n  </tbody>\n</table>\n</div>"
     },
     "execution_count": 242,
     "metadata": {},
     "output_type": "execute_result"
    }
   ],
   "source": [
    "pd.isna(df1)"
   ],
   "metadata": {
    "collapsed": false,
    "ExecuteTime": {
     "end_time": "2023-10-09T01:58:27.635818100Z",
     "start_time": "2023-10-09T01:58:27.587096900Z"
    }
   },
   "id": "374c18c9b04f8431"
  },
  {
   "cell_type": "markdown",
   "source": [
    "# 연산\n",
    "### 통계"
   ],
   "metadata": {
    "collapsed": false
   },
   "id": "24cce9a3791984b9"
  },
  {
   "cell_type": "code",
   "execution_count": 243,
   "outputs": [
    {
     "data": {
      "text/plain": "A   -0.084380\nB   -0.281460\nC   -0.786513\nD    5.000000\nF    3.500000\ndtype: float64"
     },
     "execution_count": 243,
     "metadata": {},
     "output_type": "execute_result"
    }
   ],
   "source": [
    "df.mean()  #df.mean(0) 0축방향으로 더해서 평균을 냄"
   ],
   "metadata": {
    "collapsed": false,
    "ExecuteTime": {
     "end_time": "2023-10-09T01:59:15.477279500Z",
     "start_time": "2023-10-09T01:59:15.454058500Z"
    }
   },
   "id": "8325e1f128fa884c"
  },
  {
   "cell_type": "code",
   "execution_count": 244,
   "outputs": [
    {
     "data": {
      "text/plain": "2013-01-01    0.906591\n2013-01-02    0.998111\n2013-01-03    1.445928\n2013-01-04    1.446048\n2013-01-05    2.363078\n2013-01-06    1.657421\nFreq: D, dtype: float64"
     },
     "execution_count": 244,
     "metadata": {},
     "output_type": "execute_result"
    }
   ],
   "source": [
    "df.mean(1)  # axis 1로 평균을 냄"
   ],
   "metadata": {
    "collapsed": false,
    "ExecuteTime": {
     "end_time": "2023-10-09T01:59:18.333729400Z",
     "start_time": "2023-10-09T01:59:18.318303200Z"
    }
   },
   "id": "f9cb2c572948cdda"
  },
  {
   "cell_type": "markdown",
   "source": [
    "### 브로드캐스팅 연산"
   ],
   "metadata": {
    "collapsed": false
   },
   "id": "90ed129379be1153"
  },
  {
   "cell_type": "code",
   "execution_count": 245,
   "outputs": [
    {
     "data": {
      "text/plain": "2013-01-01    NaN\n2013-01-02    NaN\n2013-01-03    1.0\n2013-01-04    3.0\n2013-01-05    5.0\n2013-01-06    NaN\nFreq: D, dtype: float64"
     },
     "execution_count": 245,
     "metadata": {},
     "output_type": "execute_result"
    }
   ],
   "source": [
    "s = pd.Series([1, 3, 5, np.nan, 6, 8], index=dates).shift(2)\n",
    "s"
   ],
   "metadata": {
    "collapsed": false,
    "ExecuteTime": {
     "end_time": "2023-10-09T01:59:33.085191500Z",
     "start_time": "2023-10-09T01:59:33.068896600Z"
    }
   },
   "id": "77230f29cfbab7ac"
  },
  {
   "cell_type": "code",
   "execution_count": 246,
   "outputs": [
    {
     "data": {
      "text/plain": "                   A         B         C    D    F\n2013-01-01       NaN       NaN       NaN  NaN  NaN\n2013-01-02       NaN       NaN       NaN  NaN  NaN\n2013-01-03 -1.006661 -1.046632 -1.717066  4.0  2.0\n2013-01-04 -2.933833 -3.940848 -3.895081  2.0  1.0\n2013-01-05 -2.561262 -4.947636 -5.675710  0.0  0.0\n2013-01-06       NaN       NaN       NaN  NaN  NaN",
      "text/html": "<div>\n<style scoped>\n    .dataframe tbody tr th:only-of-type {\n        vertical-align: middle;\n    }\n\n    .dataframe tbody tr th {\n        vertical-align: top;\n    }\n\n    .dataframe thead th {\n        text-align: right;\n    }\n</style>\n<table border=\"1\" class=\"dataframe\">\n  <thead>\n    <tr style=\"text-align: right;\">\n      <th></th>\n      <th>A</th>\n      <th>B</th>\n      <th>C</th>\n      <th>D</th>\n      <th>F</th>\n    </tr>\n  </thead>\n  <tbody>\n    <tr>\n      <th>2013-01-01</th>\n      <td>NaN</td>\n      <td>NaN</td>\n      <td>NaN</td>\n      <td>NaN</td>\n      <td>NaN</td>\n    </tr>\n    <tr>\n      <th>2013-01-02</th>\n      <td>NaN</td>\n      <td>NaN</td>\n      <td>NaN</td>\n      <td>NaN</td>\n      <td>NaN</td>\n    </tr>\n    <tr>\n      <th>2013-01-03</th>\n      <td>-1.006661</td>\n      <td>-1.046632</td>\n      <td>-1.717066</td>\n      <td>4.0</td>\n      <td>2.0</td>\n    </tr>\n    <tr>\n      <th>2013-01-04</th>\n      <td>-2.933833</td>\n      <td>-3.940848</td>\n      <td>-3.895081</td>\n      <td>2.0</td>\n      <td>1.0</td>\n    </tr>\n    <tr>\n      <th>2013-01-05</th>\n      <td>-2.561262</td>\n      <td>-4.947636</td>\n      <td>-5.675710</td>\n      <td>0.0</td>\n      <td>0.0</td>\n    </tr>\n    <tr>\n      <th>2013-01-06</th>\n      <td>NaN</td>\n      <td>NaN</td>\n      <td>NaN</td>\n      <td>NaN</td>\n      <td>NaN</td>\n    </tr>\n  </tbody>\n</table>\n</div>"
     },
     "execution_count": 246,
     "metadata": {},
     "output_type": "execute_result"
    }
   ],
   "source": [
    "# 빼기 연산을 axis =0으로 하면 모든 ax=0 방향으로 브로드캐스팅해서 빼서 보여줌\n",
    "df.sub(s, axis=0)\n"
   ],
   "metadata": {
    "collapsed": false,
    "ExecuteTime": {
     "end_time": "2023-10-09T01:59:33.774703Z",
     "start_time": "2023-10-09T01:59:33.754698600Z"
    }
   },
   "id": "b4a58a81122c3878"
  },
  {
   "cell_type": "markdown",
   "source": [
    "### 함수적용"
   ],
   "metadata": {
    "collapsed": false
   },
   "id": "bfdc62df8ed4dda7"
  },
  {
   "cell_type": "code",
   "execution_count": 247,
   "outputs": [
    {
     "data": {
      "text/plain": "                   A         B         C    D  F\n2013-01-01  0.000000  1.000000 -2.467046  5.0  1\n2013-01-02 -1.546854  0.220631 -0.683225  5.0  2\n2013-01-03 -0.006661 -0.046632 -0.717066  5.0  3\n2013-01-04  0.066167 -0.940848 -0.895081  5.0  4\n2013-01-05  2.438738  0.052364 -0.675710  5.0  5\n2013-01-06 -1.457673 -1.974274  0.719050  5.0  6",
      "text/html": "<div>\n<style scoped>\n    .dataframe tbody tr th:only-of-type {\n        vertical-align: middle;\n    }\n\n    .dataframe tbody tr th {\n        vertical-align: top;\n    }\n\n    .dataframe thead th {\n        text-align: right;\n    }\n</style>\n<table border=\"1\" class=\"dataframe\">\n  <thead>\n    <tr style=\"text-align: right;\">\n      <th></th>\n      <th>A</th>\n      <th>B</th>\n      <th>C</th>\n      <th>D</th>\n      <th>F</th>\n    </tr>\n  </thead>\n  <tbody>\n    <tr>\n      <th>2013-01-01</th>\n      <td>0.000000</td>\n      <td>1.000000</td>\n      <td>-2.467046</td>\n      <td>5.0</td>\n      <td>1</td>\n    </tr>\n    <tr>\n      <th>2013-01-02</th>\n      <td>-1.546854</td>\n      <td>0.220631</td>\n      <td>-0.683225</td>\n      <td>5.0</td>\n      <td>2</td>\n    </tr>\n    <tr>\n      <th>2013-01-03</th>\n      <td>-0.006661</td>\n      <td>-0.046632</td>\n      <td>-0.717066</td>\n      <td>5.0</td>\n      <td>3</td>\n    </tr>\n    <tr>\n      <th>2013-01-04</th>\n      <td>0.066167</td>\n      <td>-0.940848</td>\n      <td>-0.895081</td>\n      <td>5.0</td>\n      <td>4</td>\n    </tr>\n    <tr>\n      <th>2013-01-05</th>\n      <td>2.438738</td>\n      <td>0.052364</td>\n      <td>-0.675710</td>\n      <td>5.0</td>\n      <td>5</td>\n    </tr>\n    <tr>\n      <th>2013-01-06</th>\n      <td>-1.457673</td>\n      <td>-1.974274</td>\n      <td>0.719050</td>\n      <td>5.0</td>\n      <td>6</td>\n    </tr>\n  </tbody>\n</table>\n</div>"
     },
     "execution_count": 247,
     "metadata": {},
     "output_type": "execute_result"
    }
   ],
   "source": [
    "df"
   ],
   "metadata": {
    "collapsed": false,
    "ExecuteTime": {
     "end_time": "2023-10-09T01:59:36.636120900Z",
     "start_time": "2023-10-09T01:59:36.609558Z"
    }
   },
   "id": "165b29ffb797a919"
  },
  {
   "cell_type": "code",
   "execution_count": 248,
   "outputs": [
    {
     "data": {
      "text/plain": "                   A         B         C     D   F\n2013-01-01  0.000000  1.000000 -2.467046   5.0   1\n2013-01-02 -1.546854  1.220631 -3.150271  10.0   3\n2013-01-03 -1.553515  1.174000 -3.867337  15.0   6\n2013-01-04 -1.487347  0.233152 -4.762418  20.0  10\n2013-01-05  0.951390  0.285515 -5.438128  25.0  15\n2013-01-06 -0.506282 -1.688759 -4.719078  30.0  21",
      "text/html": "<div>\n<style scoped>\n    .dataframe tbody tr th:only-of-type {\n        vertical-align: middle;\n    }\n\n    .dataframe tbody tr th {\n        vertical-align: top;\n    }\n\n    .dataframe thead th {\n        text-align: right;\n    }\n</style>\n<table border=\"1\" class=\"dataframe\">\n  <thead>\n    <tr style=\"text-align: right;\">\n      <th></th>\n      <th>A</th>\n      <th>B</th>\n      <th>C</th>\n      <th>D</th>\n      <th>F</th>\n    </tr>\n  </thead>\n  <tbody>\n    <tr>\n      <th>2013-01-01</th>\n      <td>0.000000</td>\n      <td>1.000000</td>\n      <td>-2.467046</td>\n      <td>5.0</td>\n      <td>1</td>\n    </tr>\n    <tr>\n      <th>2013-01-02</th>\n      <td>-1.546854</td>\n      <td>1.220631</td>\n      <td>-3.150271</td>\n      <td>10.0</td>\n      <td>3</td>\n    </tr>\n    <tr>\n      <th>2013-01-03</th>\n      <td>-1.553515</td>\n      <td>1.174000</td>\n      <td>-3.867337</td>\n      <td>15.0</td>\n      <td>6</td>\n    </tr>\n    <tr>\n      <th>2013-01-04</th>\n      <td>-1.487347</td>\n      <td>0.233152</td>\n      <td>-4.762418</td>\n      <td>20.0</td>\n      <td>10</td>\n    </tr>\n    <tr>\n      <th>2013-01-05</th>\n      <td>0.951390</td>\n      <td>0.285515</td>\n      <td>-5.438128</td>\n      <td>25.0</td>\n      <td>15</td>\n    </tr>\n    <tr>\n      <th>2013-01-06</th>\n      <td>-0.506282</td>\n      <td>-1.688759</td>\n      <td>-4.719078</td>\n      <td>30.0</td>\n      <td>21</td>\n    </tr>\n  </tbody>\n</table>\n</div>"
     },
     "execution_count": 248,
     "metadata": {},
     "output_type": "execute_result"
    }
   ],
   "source": [
    "df.apply(np.cumsum)  # 누적값을 구함"
   ],
   "metadata": {
    "collapsed": false,
    "ExecuteTime": {
     "end_time": "2023-10-09T01:59:39.181949600Z",
     "start_time": "2023-10-09T01:59:39.167006800Z"
    }
   },
   "id": "c0dfd6e92a199dda"
  },
  {
   "cell_type": "code",
   "execution_count": 250,
   "outputs": [
    {
     "data": {
      "text/plain": "A    3.985592\nB    2.974274\nC    3.186096\nD    0.000000\nF    5.000000\ndtype: float64"
     },
     "execution_count": 250,
     "metadata": {},
     "output_type": "execute_result"
    }
   ],
   "source": [
    "df.apply(lambda x: x.max() - x.min())  # 람다함수적용"
   ],
   "metadata": {
    "collapsed": false,
    "ExecuteTime": {
     "end_time": "2023-10-09T01:59:52.837456100Z",
     "start_time": "2023-10-09T01:59:52.806616600Z"
    }
   },
   "id": "92ddb537110ffa9f"
  },
  {
   "cell_type": "markdown",
   "source": [
    "### 히스토그램"
   ],
   "metadata": {
    "collapsed": false
   },
   "id": "aba4efccf3f41865"
  },
  {
   "cell_type": "code",
   "execution_count": 251,
   "outputs": [
    {
     "data": {
      "text/plain": "0    2\n1    2\n2    1\n3    3\n4    1\n5    6\n6    5\n7    2\n8    0\n9    5\ndtype: int32"
     },
     "execution_count": 251,
     "metadata": {},
     "output_type": "execute_result"
    }
   ],
   "source": [
    "s = pd.Series(np.random.randint(0, 7, size=10))\n",
    "s"
   ],
   "metadata": {
    "collapsed": false,
    "ExecuteTime": {
     "end_time": "2023-10-09T01:59:54.563209200Z",
     "start_time": "2023-10-09T01:59:54.547657Z"
    }
   },
   "id": "8a0bda9b7ce37c28"
  },
  {
   "cell_type": "code",
   "execution_count": 252,
   "outputs": [
    {
     "data": {
      "text/plain": "2    3\n1    2\n5    2\n3    1\n6    1\n0    1\nName: count, dtype: int64"
     },
     "execution_count": 252,
     "metadata": {},
     "output_type": "execute_result"
    }
   ],
   "source": [
    "# 빈도카운트\n",
    "s.value_counts()"
   ],
   "metadata": {
    "collapsed": false,
    "ExecuteTime": {
     "end_time": "2023-10-09T01:59:56.066229500Z",
     "start_time": "2023-10-09T01:59:56.037540800Z"
    }
   },
   "id": "adbad80db028cb25"
  },
  {
   "cell_type": "markdown",
   "source": [
    "#  Merge (합치기)\n",
    "### concat\n",
    "concat을활용해서 판다스 오브젝트를 합칠수있습니다."
   ],
   "metadata": {
    "collapsed": false
   },
   "id": "49c599bac90a7097"
  },
  {
   "cell_type": "code",
   "execution_count": 253,
   "outputs": [
    {
     "data": {
      "text/plain": "          0         1         2         3\n0 -0.660903  0.299074 -1.000110  1.417365\n1  0.271427  1.362915  0.129024 -0.356219\n2  0.762969  0.437829  0.090836 -1.438120\n3  0.307344  1.319163  1.480576  0.295602\n4  0.644071  1.478687 -1.046433 -0.608002\n5 -0.132562 -0.556877  0.740029 -0.821308\n6 -0.584497 -0.094896 -0.547430  0.246384\n7 -0.033542 -1.222817  0.904427  0.698734\n8  0.223567 -1.488808  1.207475 -0.220255\n9 -0.203079  1.030637 -0.335949  0.201245",
      "text/html": "<div>\n<style scoped>\n    .dataframe tbody tr th:only-of-type {\n        vertical-align: middle;\n    }\n\n    .dataframe tbody tr th {\n        vertical-align: top;\n    }\n\n    .dataframe thead th {\n        text-align: right;\n    }\n</style>\n<table border=\"1\" class=\"dataframe\">\n  <thead>\n    <tr style=\"text-align: right;\">\n      <th></th>\n      <th>0</th>\n      <th>1</th>\n      <th>2</th>\n      <th>3</th>\n    </tr>\n  </thead>\n  <tbody>\n    <tr>\n      <th>0</th>\n      <td>-0.660903</td>\n      <td>0.299074</td>\n      <td>-1.000110</td>\n      <td>1.417365</td>\n    </tr>\n    <tr>\n      <th>1</th>\n      <td>0.271427</td>\n      <td>1.362915</td>\n      <td>0.129024</td>\n      <td>-0.356219</td>\n    </tr>\n    <tr>\n      <th>2</th>\n      <td>0.762969</td>\n      <td>0.437829</td>\n      <td>0.090836</td>\n      <td>-1.438120</td>\n    </tr>\n    <tr>\n      <th>3</th>\n      <td>0.307344</td>\n      <td>1.319163</td>\n      <td>1.480576</td>\n      <td>0.295602</td>\n    </tr>\n    <tr>\n      <th>4</th>\n      <td>0.644071</td>\n      <td>1.478687</td>\n      <td>-1.046433</td>\n      <td>-0.608002</td>\n    </tr>\n    <tr>\n      <th>5</th>\n      <td>-0.132562</td>\n      <td>-0.556877</td>\n      <td>0.740029</td>\n      <td>-0.821308</td>\n    </tr>\n    <tr>\n      <th>6</th>\n      <td>-0.584497</td>\n      <td>-0.094896</td>\n      <td>-0.547430</td>\n      <td>0.246384</td>\n    </tr>\n    <tr>\n      <th>7</th>\n      <td>-0.033542</td>\n      <td>-1.222817</td>\n      <td>0.904427</td>\n      <td>0.698734</td>\n    </tr>\n    <tr>\n      <th>8</th>\n      <td>0.223567</td>\n      <td>-1.488808</td>\n      <td>1.207475</td>\n      <td>-0.220255</td>\n    </tr>\n    <tr>\n      <th>9</th>\n      <td>-0.203079</td>\n      <td>1.030637</td>\n      <td>-0.335949</td>\n      <td>0.201245</td>\n    </tr>\n  </tbody>\n</table>\n</div>"
     },
     "execution_count": 253,
     "metadata": {},
     "output_type": "execute_result"
    }
   ],
   "source": [
    "df = pd.DataFrame(np.random.randn(10, 4))\n",
    "df"
   ],
   "metadata": {
    "collapsed": false,
    "ExecuteTime": {
     "end_time": "2023-10-09T01:59:59.243485400Z",
     "start_time": "2023-10-09T01:59:59.230285300Z"
    }
   },
   "id": "b34853cdc25ecf98"
  },
  {
   "cell_type": "code",
   "execution_count": 254,
   "outputs": [
    {
     "name": "stdout",
     "output_type": "stream",
     "text": [
      "          0         1         2         3\n",
      "0 -0.660903  0.299074 -1.000110  1.417365\n",
      "1  0.271427  1.362915  0.129024 -0.356219\n",
      "2  0.762969  0.437829  0.090836 -1.438120\n",
      "          0         1         2         3\n",
      "0 -0.660903  0.299074 -1.000110  1.417365\n",
      "1  0.271427  1.362915  0.129024 -0.356219\n",
      "2  0.762969  0.437829  0.090836 -1.438120\n",
      "3  0.307344  1.319163  1.480576  0.295602\n",
      "4  0.644071  1.478687 -1.046433 -0.608002\n",
      "5 -0.132562 -0.556877  0.740029 -0.821308\n",
      "6 -0.584497 -0.094896 -0.547430  0.246384\n",
      "7 -0.033542 -1.222817  0.904427  0.698734\n",
      "8  0.223567 -1.488808  1.207475 -0.220255\n",
      "9 -0.203079  1.030637 -0.335949  0.201245\n",
      "          0         1         2         3         0         1         2  \\\n",
      "0 -0.660903  0.299074 -1.000110  1.417365       NaN       NaN       NaN   \n",
      "1  0.271427  1.362915  0.129024 -0.356219       NaN       NaN       NaN   \n",
      "2  0.762969  0.437829  0.090836 -1.438120       NaN       NaN       NaN   \n",
      "3       NaN       NaN       NaN       NaN  0.307344  1.319163  1.480576   \n",
      "4       NaN       NaN       NaN       NaN  0.644071  1.478687 -1.046433   \n",
      "5       NaN       NaN       NaN       NaN -0.132562 -0.556877  0.740029   \n",
      "6       NaN       NaN       NaN       NaN -0.584497 -0.094896 -0.547430   \n",
      "7       NaN       NaN       NaN       NaN       NaN       NaN       NaN   \n",
      "8       NaN       NaN       NaN       NaN       NaN       NaN       NaN   \n",
      "9       NaN       NaN       NaN       NaN       NaN       NaN       NaN   \n",
      "\n",
      "          3         0         1         2         3  \n",
      "0       NaN       NaN       NaN       NaN       NaN  \n",
      "1       NaN       NaN       NaN       NaN       NaN  \n",
      "2       NaN       NaN       NaN       NaN       NaN  \n",
      "3  0.295602       NaN       NaN       NaN       NaN  \n",
      "4 -0.608002       NaN       NaN       NaN       NaN  \n",
      "5 -0.821308       NaN       NaN       NaN       NaN  \n",
      "6  0.246384       NaN       NaN       NaN       NaN  \n",
      "7       NaN -0.033542 -1.222817  0.904427  0.698734  \n",
      "8       NaN  0.223567 -1.488808  1.207475 -0.220255  \n",
      "9       NaN -0.203079  1.030637 -0.335949  0.201245  \n"
     ]
    }
   ],
   "source": [
    "# 생성한 데이타를 조각내봅니다.\n",
    "pieces = [df[:3], df[3:7], df[7:]]\n",
    "print(pieces[0])\n",
    "\n",
    "# 조각낸 것을 디펄트값을 0이지만 1로 해보면 다른 결과가 나오는걸 볼수있습니다.\n",
    "print(pd.concat(pieces, axis=0))\n",
    "print(pd.concat(pieces, axis=1))"
   ],
   "metadata": {
    "collapsed": false,
    "ExecuteTime": {
     "end_time": "2023-10-09T02:00:01.079289700Z",
     "start_time": "2023-10-09T02:00:01.043147800Z"
    }
   },
   "id": "57c39345ba3dd5f"
  },
  {
   "cell_type": "markdown",
   "source": [
    "칼럼을 합치는 것을 빠르지만, 로우를 합치는 것은 카피가 필요해 자원을 소모합니다.\n"
   ],
   "metadata": {
    "collapsed": false
   },
   "id": "8e0ab16f24cef453"
  },
  {
   "cell_type": "markdown",
   "source": [
    "### Join\n",
    "SQL 스타일로 합칩니다."
   ],
   "metadata": {
    "collapsed": false
   },
   "id": "d06bc3686d168624"
  },
  {
   "cell_type": "code",
   "execution_count": 255,
   "outputs": [
    {
     "data": {
      "text/plain": "   key  lval\n0  foo     1\n1  foo     2",
      "text/html": "<div>\n<style scoped>\n    .dataframe tbody tr th:only-of-type {\n        vertical-align: middle;\n    }\n\n    .dataframe tbody tr th {\n        vertical-align: top;\n    }\n\n    .dataframe thead th {\n        text-align: right;\n    }\n</style>\n<table border=\"1\" class=\"dataframe\">\n  <thead>\n    <tr style=\"text-align: right;\">\n      <th></th>\n      <th>key</th>\n      <th>lval</th>\n    </tr>\n  </thead>\n  <tbody>\n    <tr>\n      <th>0</th>\n      <td>foo</td>\n      <td>1</td>\n    </tr>\n    <tr>\n      <th>1</th>\n      <td>foo</td>\n      <td>2</td>\n    </tr>\n  </tbody>\n</table>\n</div>"
     },
     "execution_count": 255,
     "metadata": {},
     "output_type": "execute_result"
    }
   ],
   "source": [
    "left = pd.DataFrame({'key': ['foo', 'foo'], 'lval': [1, 2]})\n",
    "right = pd.DataFrame({'key': ['foo', 'foo'], 'rval': [4, 5]})\n",
    "left"
   ],
   "metadata": {
    "collapsed": false,
    "ExecuteTime": {
     "end_time": "2023-10-09T02:00:03.306926300Z",
     "start_time": "2023-10-09T02:00:03.276905700Z"
    }
   },
   "id": "5a9fceeb58300bed"
  },
  {
   "cell_type": "code",
   "execution_count": 256,
   "outputs": [
    {
     "data": {
      "text/plain": "   key  rval\n0  foo     4\n1  foo     5",
      "text/html": "<div>\n<style scoped>\n    .dataframe tbody tr th:only-of-type {\n        vertical-align: middle;\n    }\n\n    .dataframe tbody tr th {\n        vertical-align: top;\n    }\n\n    .dataframe thead th {\n        text-align: right;\n    }\n</style>\n<table border=\"1\" class=\"dataframe\">\n  <thead>\n    <tr style=\"text-align: right;\">\n      <th></th>\n      <th>key</th>\n      <th>rval</th>\n    </tr>\n  </thead>\n  <tbody>\n    <tr>\n      <th>0</th>\n      <td>foo</td>\n      <td>4</td>\n    </tr>\n    <tr>\n      <th>1</th>\n      <td>foo</td>\n      <td>5</td>\n    </tr>\n  </tbody>\n</table>\n</div>"
     },
     "execution_count": 256,
     "metadata": {},
     "output_type": "execute_result"
    }
   ],
   "source": [
    "right"
   ],
   "metadata": {
    "collapsed": false,
    "ExecuteTime": {
     "end_time": "2023-10-09T02:00:04.836495200Z",
     "start_time": "2023-10-09T02:00:04.806940600Z"
    }
   },
   "id": "a0aa98501ae6c3f2"
  },
  {
   "cell_type": "code",
   "execution_count": 257,
   "outputs": [
    {
     "data": {
      "text/plain": "   key  lval  rval\n0  foo     1     4\n1  foo     1     5\n2  foo     2     4\n3  foo     2     5",
      "text/html": "<div>\n<style scoped>\n    .dataframe tbody tr th:only-of-type {\n        vertical-align: middle;\n    }\n\n    .dataframe tbody tr th {\n        vertical-align: top;\n    }\n\n    .dataframe thead th {\n        text-align: right;\n    }\n</style>\n<table border=\"1\" class=\"dataframe\">\n  <thead>\n    <tr style=\"text-align: right;\">\n      <th></th>\n      <th>key</th>\n      <th>lval</th>\n      <th>rval</th>\n    </tr>\n  </thead>\n  <tbody>\n    <tr>\n      <th>0</th>\n      <td>foo</td>\n      <td>1</td>\n      <td>4</td>\n    </tr>\n    <tr>\n      <th>1</th>\n      <td>foo</td>\n      <td>1</td>\n      <td>5</td>\n    </tr>\n    <tr>\n      <th>2</th>\n      <td>foo</td>\n      <td>2</td>\n      <td>4</td>\n    </tr>\n    <tr>\n      <th>3</th>\n      <td>foo</td>\n      <td>2</td>\n      <td>5</td>\n    </tr>\n  </tbody>\n</table>\n</div>"
     },
     "execution_count": 257,
     "metadata": {},
     "output_type": "execute_result"
    }
   ],
   "source": [
    "pd.merge(left, right, on='key', )"
   ],
   "metadata": {
    "collapsed": false,
    "ExecuteTime": {
     "end_time": "2023-10-09T02:00:05.560940500Z",
     "start_time": "2023-10-09T02:00:05.541430100Z"
    }
   },
   "id": "e56346e4e18eac3a"
  },
  {
   "cell_type": "code",
   "execution_count": 258,
   "outputs": [
    {
     "data": {
      "text/plain": "   key  lval  rval\n0  foo     1     4\n1  bar     2     5",
      "text/html": "<div>\n<style scoped>\n    .dataframe tbody tr th:only-of-type {\n        vertical-align: middle;\n    }\n\n    .dataframe tbody tr th {\n        vertical-align: top;\n    }\n\n    .dataframe thead th {\n        text-align: right;\n    }\n</style>\n<table border=\"1\" class=\"dataframe\">\n  <thead>\n    <tr style=\"text-align: right;\">\n      <th></th>\n      <th>key</th>\n      <th>lval</th>\n      <th>rval</th>\n    </tr>\n  </thead>\n  <tbody>\n    <tr>\n      <th>0</th>\n      <td>foo</td>\n      <td>1</td>\n      <td>4</td>\n    </tr>\n    <tr>\n      <th>1</th>\n      <td>bar</td>\n      <td>2</td>\n      <td>5</td>\n    </tr>\n  </tbody>\n</table>\n</div>"
     },
     "execution_count": 258,
     "metadata": {},
     "output_type": "execute_result"
    }
   ],
   "source": [
    "left = pd.DataFrame({'key': ['foo', 'bar'], 'lval': [1, 2]})\n",
    "right = pd.DataFrame({'key': ['foo', 'bar'], 'rval': [4, 5]})\n",
    "pd.merge(left, right, on='key')"
   ],
   "metadata": {
    "collapsed": false,
    "ExecuteTime": {
     "end_time": "2023-10-09T02:00:06.582752700Z",
     "start_time": "2023-10-09T02:00:06.552243800Z"
    }
   },
   "id": "8ff145125642a98a"
  },
  {
   "cell_type": "markdown",
   "source": [
    "###  Grouping\n",
    "group by를 활용해 (내부적으로  자료를 자르고,  함수를 적용하고, 합쳐서) 결과를 보여줌"
   ],
   "metadata": {
    "collapsed": false
   },
   "id": "e18603e37e4d6487"
  },
  {
   "cell_type": "code",
   "execution_count": 259,
   "outputs": [
    {
     "data": {
      "text/plain": "     A      B         C         D\n0  foo    one -1.796630  0.311172\n1  bar    one -1.286423 -0.045228\n2  foo    two -0.805156 -0.602451\n3  bar  three -2.809189 -0.996068\n4  foo    two  0.141493 -0.679657\n5  bar    two  0.774898 -1.391682\n6  foo    one  1.472661 -0.502802\n7  foo  three -0.633047 -0.765670",
      "text/html": "<div>\n<style scoped>\n    .dataframe tbody tr th:only-of-type {\n        vertical-align: middle;\n    }\n\n    .dataframe tbody tr th {\n        vertical-align: top;\n    }\n\n    .dataframe thead th {\n        text-align: right;\n    }\n</style>\n<table border=\"1\" class=\"dataframe\">\n  <thead>\n    <tr style=\"text-align: right;\">\n      <th></th>\n      <th>A</th>\n      <th>B</th>\n      <th>C</th>\n      <th>D</th>\n    </tr>\n  </thead>\n  <tbody>\n    <tr>\n      <th>0</th>\n      <td>foo</td>\n      <td>one</td>\n      <td>-1.796630</td>\n      <td>0.311172</td>\n    </tr>\n    <tr>\n      <th>1</th>\n      <td>bar</td>\n      <td>one</td>\n      <td>-1.286423</td>\n      <td>-0.045228</td>\n    </tr>\n    <tr>\n      <th>2</th>\n      <td>foo</td>\n      <td>two</td>\n      <td>-0.805156</td>\n      <td>-0.602451</td>\n    </tr>\n    <tr>\n      <th>3</th>\n      <td>bar</td>\n      <td>three</td>\n      <td>-2.809189</td>\n      <td>-0.996068</td>\n    </tr>\n    <tr>\n      <th>4</th>\n      <td>foo</td>\n      <td>two</td>\n      <td>0.141493</td>\n      <td>-0.679657</td>\n    </tr>\n    <tr>\n      <th>5</th>\n      <td>bar</td>\n      <td>two</td>\n      <td>0.774898</td>\n      <td>-1.391682</td>\n    </tr>\n    <tr>\n      <th>6</th>\n      <td>foo</td>\n      <td>one</td>\n      <td>1.472661</td>\n      <td>-0.502802</td>\n    </tr>\n    <tr>\n      <th>7</th>\n      <td>foo</td>\n      <td>three</td>\n      <td>-0.633047</td>\n      <td>-0.765670</td>\n    </tr>\n  </tbody>\n</table>\n</div>"
     },
     "execution_count": 259,
     "metadata": {},
     "output_type": "execute_result"
    }
   ],
   "source": [
    "df = pd.DataFrame({'A': ['foo', 'bar', 'foo', 'bar',\n",
    "                         'foo', 'bar', 'foo', 'foo'],\n",
    "                   'B': ['one', 'one', 'two', 'three',\n",
    "                         'two', 'two', 'one', 'three'],\n",
    "                   'C': np.random.randn(8),\n",
    "                   'D': np.random.randn(8)})\n",
    "df"
   ],
   "metadata": {
    "collapsed": false,
    "ExecuteTime": {
     "end_time": "2023-10-09T02:00:10.915499Z",
     "start_time": "2023-10-09T02:00:10.899500400Z"
    }
   },
   "id": "c48a5efac46bbea2"
  },
  {
   "cell_type": "code",
   "execution_count": 260,
   "outputs": [
    {
     "data": {
      "text/plain": "                     B         C         D\nA                                         \nbar        onethreetwo -3.320715 -2.432978\nfoo  onetwotwoonethree -1.620680 -2.239407",
      "text/html": "<div>\n<style scoped>\n    .dataframe tbody tr th:only-of-type {\n        vertical-align: middle;\n    }\n\n    .dataframe tbody tr th {\n        vertical-align: top;\n    }\n\n    .dataframe thead th {\n        text-align: right;\n    }\n</style>\n<table border=\"1\" class=\"dataframe\">\n  <thead>\n    <tr style=\"text-align: right;\">\n      <th></th>\n      <th>B</th>\n      <th>C</th>\n      <th>D</th>\n    </tr>\n    <tr>\n      <th>A</th>\n      <th></th>\n      <th></th>\n      <th></th>\n    </tr>\n  </thead>\n  <tbody>\n    <tr>\n      <th>bar</th>\n      <td>onethreetwo</td>\n      <td>-3.320715</td>\n      <td>-2.432978</td>\n    </tr>\n    <tr>\n      <th>foo</th>\n      <td>onetwotwoonethree</td>\n      <td>-1.620680</td>\n      <td>-2.239407</td>\n    </tr>\n  </tbody>\n</table>\n</div>"
     },
     "execution_count": 260,
     "metadata": {},
     "output_type": "execute_result"
    }
   ],
   "source": [
    "#A로 그루핑하고 sum을 적용해서 보여줌\n",
    "\n",
    "df.groupby('A').sum()"
   ],
   "metadata": {
    "collapsed": false,
    "ExecuteTime": {
     "end_time": "2023-10-09T02:00:12.119076100Z",
     "start_time": "2023-10-09T02:00:12.077837Z"
    }
   },
   "id": "95d2e2b7466d6e71"
  },
  {
   "cell_type": "code",
   "execution_count": 261,
   "outputs": [
    {
     "data": {
      "text/plain": "                  C         D\nA   B                        \nbar one   -1.286423 -0.045228\n    three -2.809189 -0.996068\n    two    0.774898 -1.391682\nfoo one   -0.323969 -0.191629\n    three -0.633047 -0.765670\n    two   -0.663664 -1.282108",
      "text/html": "<div>\n<style scoped>\n    .dataframe tbody tr th:only-of-type {\n        vertical-align: middle;\n    }\n\n    .dataframe tbody tr th {\n        vertical-align: top;\n    }\n\n    .dataframe thead th {\n        text-align: right;\n    }\n</style>\n<table border=\"1\" class=\"dataframe\">\n  <thead>\n    <tr style=\"text-align: right;\">\n      <th></th>\n      <th></th>\n      <th>C</th>\n      <th>D</th>\n    </tr>\n    <tr>\n      <th>A</th>\n      <th>B</th>\n      <th></th>\n      <th></th>\n    </tr>\n  </thead>\n  <tbody>\n    <tr>\n      <th rowspan=\"3\" valign=\"top\">bar</th>\n      <th>one</th>\n      <td>-1.286423</td>\n      <td>-0.045228</td>\n    </tr>\n    <tr>\n      <th>three</th>\n      <td>-2.809189</td>\n      <td>-0.996068</td>\n    </tr>\n    <tr>\n      <th>two</th>\n      <td>0.774898</td>\n      <td>-1.391682</td>\n    </tr>\n    <tr>\n      <th rowspan=\"3\" valign=\"top\">foo</th>\n      <th>one</th>\n      <td>-0.323969</td>\n      <td>-0.191629</td>\n    </tr>\n    <tr>\n      <th>three</th>\n      <td>-0.633047</td>\n      <td>-0.765670</td>\n    </tr>\n    <tr>\n      <th>two</th>\n      <td>-0.663664</td>\n      <td>-1.282108</td>\n    </tr>\n  </tbody>\n</table>\n</div>"
     },
     "execution_count": 261,
     "metadata": {},
     "output_type": "execute_result"
    }
   ],
   "source": [
    "# A와 B 칼럼으로 그룹하고 더해서 보여줌\n",
    "\n",
    "df.groupby(['A', 'B']).sum()"
   ],
   "metadata": {
    "collapsed": false,
    "ExecuteTime": {
     "end_time": "2023-10-09T02:00:13.853298400Z",
     "start_time": "2023-10-09T02:00:13.813293600Z"
    }
   },
   "id": "64c7436f533bf65e"
  },
  {
   "cell_type": "markdown",
   "source": [
    "\n",
    " # Reshaping (재형성)\n",
    " "
   ],
   "metadata": {
    "collapsed": false
   },
   "id": "93a60cc7083c216c"
  },
  {
   "cell_type": "code",
   "execution_count": 270,
   "outputs": [
    {
     "data": {
      "text/plain": "                     A         B\nfirst second                    \nbar   one     2.047994 -1.084315\n      two    -0.956072  0.088903\nbaz   one     1.040889  0.440147\n      two     0.414524 -0.452522",
      "text/html": "<div>\n<style scoped>\n    .dataframe tbody tr th:only-of-type {\n        vertical-align: middle;\n    }\n\n    .dataframe tbody tr th {\n        vertical-align: top;\n    }\n\n    .dataframe thead th {\n        text-align: right;\n    }\n</style>\n<table border=\"1\" class=\"dataframe\">\n  <thead>\n    <tr style=\"text-align: right;\">\n      <th></th>\n      <th></th>\n      <th>A</th>\n      <th>B</th>\n    </tr>\n    <tr>\n      <th>first</th>\n      <th>second</th>\n      <th></th>\n      <th></th>\n    </tr>\n  </thead>\n  <tbody>\n    <tr>\n      <th rowspan=\"2\" valign=\"top\">bar</th>\n      <th>one</th>\n      <td>2.047994</td>\n      <td>-1.084315</td>\n    </tr>\n    <tr>\n      <th>two</th>\n      <td>-0.956072</td>\n      <td>0.088903</td>\n    </tr>\n    <tr>\n      <th rowspan=\"2\" valign=\"top\">baz</th>\n      <th>one</th>\n      <td>1.040889</td>\n      <td>0.440147</td>\n    </tr>\n    <tr>\n      <th>two</th>\n      <td>0.414524</td>\n      <td>-0.452522</td>\n    </tr>\n  </tbody>\n</table>\n</div>"
     },
     "execution_count": 270,
     "metadata": {},
     "output_type": "execute_result"
    }
   ],
   "source": [
    "# 쌍으로 묶어 튜플을 만든후 리스트생성\n",
    "# 멀티인덱스를 만들어봄\n",
    "tuples = list(zip(*[['bar', 'bar', 'baz', 'baz',\n",
    "                     'foo', 'foo', 'qux', 'qux'],\n",
    "                    ['one', 'two', 'one', 'two',\n",
    "                     'one', 'two', 'one', 'two']]))\n",
    "\n",
    "index = pd.MultiIndex.from_tuples(tuples, names=['first', 'second'])\n",
    "df = pd.DataFrame(np.random.randn(8, 2), index=index, columns=['A', 'B'])\n",
    "df2 = df[:4]\n",
    "df2"
   ],
   "metadata": {
    "collapsed": false,
    "ExecuteTime": {
     "end_time": "2023-10-09T02:08:37.814419800Z",
     "start_time": "2023-10-09T02:08:37.779327700Z"
    }
   },
   "id": "c4f9575cde48fce4"
  },
  {
   "cell_type": "markdown",
   "source": [
    "### stack 메소드는 칼럼들을 쌓아줌"
   ],
   "metadata": {
    "collapsed": false
   },
   "id": "13b6426ffa1b72e7"
  },
  {
   "cell_type": "code",
   "execution_count": 272,
   "outputs": [
    {
     "data": {
      "text/plain": "first  second   \nbar    one     A    2.047994\n               B   -1.084315\n       two     A   -0.956072\n               B    0.088903\nbaz    one     A    1.040889\n               B    0.440147\n       two     A    0.414524\n               B   -0.452522\ndtype: float64"
     },
     "execution_count": 272,
     "metadata": {},
     "output_type": "execute_result"
    }
   ],
   "source": [
    "\n",
    "stacked = df2.stack()\n",
    "stacked"
   ],
   "metadata": {
    "collapsed": false,
    "ExecuteTime": {
     "end_time": "2023-10-09T02:12:19.268768200Z",
     "start_time": "2023-10-09T02:12:19.229411Z"
    }
   },
   "id": "fc6600376c6ef57e"
  },
  {
   "cell_type": "markdown",
   "source": [
    "### Pivot tagbles \n",
    "특정한 인덱스와 칼럼을 재설정해서 특정한 값을 정리할수있음"
   ],
   "metadata": {
    "collapsed": false
   },
   "id": "432658d56700b07c"
  },
  {
   "cell_type": "code",
   "execution_count": 276,
   "outputs": [
    {
     "data": {
      "text/plain": "        A  B    C         D         E\n0     one  A  foo -0.960822  0.161598\n1     one  B  foo  0.390981  0.352009\n2     two  C  foo  0.221572  0.579125\n3   three  A  bar  0.266687 -0.781597\n4     one  B  bar -0.147967 -0.032985\n5     one  C  bar  0.637009 -1.740292\n6     two  A  foo -0.699552  0.200775\n7   three  B  foo  0.341354  1.161753\n8     one  C  foo -0.713040 -0.306309\n9     one  A  bar -0.838907  1.363204\n10    two  B  bar -0.252374 -0.348493\n11  three  C  bar  1.217037 -0.270438",
      "text/html": "<div>\n<style scoped>\n    .dataframe tbody tr th:only-of-type {\n        vertical-align: middle;\n    }\n\n    .dataframe tbody tr th {\n        vertical-align: top;\n    }\n\n    .dataframe thead th {\n        text-align: right;\n    }\n</style>\n<table border=\"1\" class=\"dataframe\">\n  <thead>\n    <tr style=\"text-align: right;\">\n      <th></th>\n      <th>A</th>\n      <th>B</th>\n      <th>C</th>\n      <th>D</th>\n      <th>E</th>\n    </tr>\n  </thead>\n  <tbody>\n    <tr>\n      <th>0</th>\n      <td>one</td>\n      <td>A</td>\n      <td>foo</td>\n      <td>-0.960822</td>\n      <td>0.161598</td>\n    </tr>\n    <tr>\n      <th>1</th>\n      <td>one</td>\n      <td>B</td>\n      <td>foo</td>\n      <td>0.390981</td>\n      <td>0.352009</td>\n    </tr>\n    <tr>\n      <th>2</th>\n      <td>two</td>\n      <td>C</td>\n      <td>foo</td>\n      <td>0.221572</td>\n      <td>0.579125</td>\n    </tr>\n    <tr>\n      <th>3</th>\n      <td>three</td>\n      <td>A</td>\n      <td>bar</td>\n      <td>0.266687</td>\n      <td>-0.781597</td>\n    </tr>\n    <tr>\n      <th>4</th>\n      <td>one</td>\n      <td>B</td>\n      <td>bar</td>\n      <td>-0.147967</td>\n      <td>-0.032985</td>\n    </tr>\n    <tr>\n      <th>5</th>\n      <td>one</td>\n      <td>C</td>\n      <td>bar</td>\n      <td>0.637009</td>\n      <td>-1.740292</td>\n    </tr>\n    <tr>\n      <th>6</th>\n      <td>two</td>\n      <td>A</td>\n      <td>foo</td>\n      <td>-0.699552</td>\n      <td>0.200775</td>\n    </tr>\n    <tr>\n      <th>7</th>\n      <td>three</td>\n      <td>B</td>\n      <td>foo</td>\n      <td>0.341354</td>\n      <td>1.161753</td>\n    </tr>\n    <tr>\n      <th>8</th>\n      <td>one</td>\n      <td>C</td>\n      <td>foo</td>\n      <td>-0.713040</td>\n      <td>-0.306309</td>\n    </tr>\n    <tr>\n      <th>9</th>\n      <td>one</td>\n      <td>A</td>\n      <td>bar</td>\n      <td>-0.838907</td>\n      <td>1.363204</td>\n    </tr>\n    <tr>\n      <th>10</th>\n      <td>two</td>\n      <td>B</td>\n      <td>bar</td>\n      <td>-0.252374</td>\n      <td>-0.348493</td>\n    </tr>\n    <tr>\n      <th>11</th>\n      <td>three</td>\n      <td>C</td>\n      <td>bar</td>\n      <td>1.217037</td>\n      <td>-0.270438</td>\n    </tr>\n  </tbody>\n</table>\n</div>"
     },
     "execution_count": 276,
     "metadata": {},
     "output_type": "execute_result"
    }
   ],
   "source": [
    "df = pd.DataFrame({'A': ['one', 'one', 'two', 'three'] * 3,\n",
    "                   'B': ['A', 'B', 'C'] * 4,\n",
    "                   'C': ['foo', 'foo', 'foo', 'bar', 'bar', 'bar'] * 2,\n",
    "                   'D': np.random.randn(12),\n",
    "                   'E': np.random.randn(12)})\n",
    "df"
   ],
   "metadata": {
    "collapsed": false,
    "ExecuteTime": {
     "end_time": "2023-10-09T02:17:38.428780700Z",
     "start_time": "2023-10-09T02:17:38.367802300Z"
    }
   },
   "id": "7b1b5865734ee845"
  },
  {
   "cell_type": "code",
   "execution_count": 277,
   "outputs": [
    {
     "data": {
      "text/plain": "C             bar       foo\nA     B                    \none   A -0.838907 -0.960822\n      B -0.147967  0.390981\n      C  0.637009 -0.713040\nthree A  0.266687       NaN\n      B       NaN  0.341354\n      C  1.217037       NaN\ntwo   A       NaN -0.699552\n      B -0.252374       NaN\n      C       NaN  0.221572",
      "text/html": "<div>\n<style scoped>\n    .dataframe tbody tr th:only-of-type {\n        vertical-align: middle;\n    }\n\n    .dataframe tbody tr th {\n        vertical-align: top;\n    }\n\n    .dataframe thead th {\n        text-align: right;\n    }\n</style>\n<table border=\"1\" class=\"dataframe\">\n  <thead>\n    <tr style=\"text-align: right;\">\n      <th></th>\n      <th>C</th>\n      <th>bar</th>\n      <th>foo</th>\n    </tr>\n    <tr>\n      <th>A</th>\n      <th>B</th>\n      <th></th>\n      <th></th>\n    </tr>\n  </thead>\n  <tbody>\n    <tr>\n      <th rowspan=\"3\" valign=\"top\">one</th>\n      <th>A</th>\n      <td>-0.838907</td>\n      <td>-0.960822</td>\n    </tr>\n    <tr>\n      <th>B</th>\n      <td>-0.147967</td>\n      <td>0.390981</td>\n    </tr>\n    <tr>\n      <th>C</th>\n      <td>0.637009</td>\n      <td>-0.713040</td>\n    </tr>\n    <tr>\n      <th rowspan=\"3\" valign=\"top\">three</th>\n      <th>A</th>\n      <td>0.266687</td>\n      <td>NaN</td>\n    </tr>\n    <tr>\n      <th>B</th>\n      <td>NaN</td>\n      <td>0.341354</td>\n    </tr>\n    <tr>\n      <th>C</th>\n      <td>1.217037</td>\n      <td>NaN</td>\n    </tr>\n    <tr>\n      <th rowspan=\"3\" valign=\"top\">two</th>\n      <th>A</th>\n      <td>NaN</td>\n      <td>-0.699552</td>\n    </tr>\n    <tr>\n      <th>B</th>\n      <td>-0.252374</td>\n      <td>NaN</td>\n    </tr>\n    <tr>\n      <th>C</th>\n      <td>NaN</td>\n      <td>0.221572</td>\n    </tr>\n  </tbody>\n</table>\n</div>"
     },
     "execution_count": 277,
     "metadata": {},
     "output_type": "execute_result"
    }
   ],
   "source": [
    "pd.pivot_table(df, values='D', index=['A', 'B'], columns=['C'])"
   ],
   "metadata": {
    "collapsed": false,
    "ExecuteTime": {
     "end_time": "2023-10-09T02:17:39.186284200Z",
     "start_time": "2023-10-09T02:17:39.172726100Z"
    }
   },
   "id": "9b3a90901dc23dd9"
  },
  {
   "cell_type": "markdown",
   "source": [
    "# 시계열 시리즈( Time series)"
   ],
   "metadata": {
    "collapsed": false
   },
   "id": "1eb70d50de8c5dda"
  },
  {
   "cell_type": "code",
   "execution_count": 282,
   "outputs": [
    {
     "name": "stdout",
     "output_type": "stream",
     "text": [
      "2012-01-01 00:00:00     39\n",
      "2012-01-01 00:00:01    208\n",
      "2012-01-01 00:00:02    239\n",
      "2012-01-01 00:00:03     44\n",
      "2012-01-01 00:00:04     13\n",
      "Freq: S, dtype: int32\n"
     ]
    },
    {
     "data": {
      "text/plain": "2012-01-01    25749\nFreq: 5T, dtype: int32"
     },
     "execution_count": 282,
     "metadata": {},
     "output_type": "execute_result"
    }
   ],
   "source": [
    "# np.random.randint(low, high, size)\n",
    "rng = pd.date_range('1/1/2012', periods=100, freq='S')\n",
    "ts = pd.Series(np.random.randint(0, 500, len(rng)), index=rng)\n",
    "\n",
    "print(ts.head())\n",
    "ts.resample('5Min').sum()"
   ],
   "metadata": {
    "collapsed": false,
    "ExecuteTime": {
     "end_time": "2023-10-09T02:33:59.891123100Z",
     "start_time": "2023-10-09T02:33:59.838009300Z"
    }
   },
   "id": "98c741715bee4a2f"
  },
  {
   "cell_type": "markdown",
   "source": [
    "주어진 코드는 파이썬의 Pandas 라이브러리를 사용하여 시계열 데이터를 생성하고 다시 샘플링하는 예제입니다. 여기에서 코드의 각 부분을 설명하겠습니다.\n",
    "\n",
    "1. `pd.date_range`: 이 부분은 2012년 1월 1일부터 100개의 시간 스탬프를 생성하며, 각 스탬프는 1초(`'S'`는 초를 나타냄) 간격으로 배치됩니다.\n",
    "\n",
    "2. `pd.Series`: 이 부분은 NumPy의 `np.random.randint` 함수를 사용하여 0부터 499 사이의 랜덤한 정수를 생성하고, 이를 `ts`라는 Pandas Series 객체로 변환합니다. 이때 `ts`의 인덱스는 위에서 생성한 시간 스탬프(`rng`)로 설정됩니다.\n",
    "\n",
    "3. `print(ts.head())`: 이 코드는 `ts` 시리즈의 처음 5개 항목을 출력합니다. 이것은 시계열 데이터의 초기 부분을 확인하는 데 사용됩니다.\n",
    "\n",
    "4. `ts.resample('5Min').sum()`: 이 부분은 5분 단위로 데이터를 재샘플링하고 각 5분 간격에 해당하는 데이터 포인트의 합을 계산합니다. 즉, 5분 단위로 데이터를 집계하고 해당 기간 동안의 합계를 반환합니다.\n",
    "\n",
    "전체 코드를 실행하면, 시계열 데이터를 생성하고 초기 5개의 데이터 포인트를 출력한 후, 5분 단위로 데이터를 샘플링하여 각 5분 간격의 데이터 합계를 출력할 것입니다."
   ],
   "metadata": {
    "collapsed": false
   },
   "id": "b14e714608a67ba0"
  },
  {
   "cell_type": "code",
   "execution_count": 283,
   "outputs": [
    {
     "data": {
      "text/plain": "2012-01-31    1.253195\n2012-02-29   -0.722560\n2012-03-31    0.856099\n2012-04-30    0.880051\n2012-05-31   -1.064738\nFreq: M, dtype: float64"
     },
     "execution_count": 283,
     "metadata": {},
     "output_type": "execute_result"
    }
   ],
   "source": [
    "rng = pd.date_range('1/1/2012', periods=5, freq='M')\n",
    "ts = pd.Series(np.random.randn(len(rng)), index=rng)\n",
    "ts"
   ],
   "metadata": {
    "collapsed": false,
    "ExecuteTime": {
     "end_time": "2023-10-09T02:48:32.709880600Z",
     "start_time": "2023-10-09T02:48:32.658167Z"
    }
   },
   "id": "eb1fc6229234182"
  },
  {
   "cell_type": "markdown",
   "source": [
    "Categoricals(범주형)"
   ],
   "metadata": {
    "collapsed": false
   },
   "id": "7f09ad4035440e66"
  },
  {
   "cell_type": "code",
   "execution_count": 296,
   "outputs": [
    {
     "data": {
      "text/plain": "   id raw_grade grade\n0   1         a     a\n1   2         b     b\n2   3         b     b\n3   4         a     a\n4   5         a     a\n5   6         e     e",
      "text/html": "<div>\n<style scoped>\n    .dataframe tbody tr th:only-of-type {\n        vertical-align: middle;\n    }\n\n    .dataframe tbody tr th {\n        vertical-align: top;\n    }\n\n    .dataframe thead th {\n        text-align: right;\n    }\n</style>\n<table border=\"1\" class=\"dataframe\">\n  <thead>\n    <tr style=\"text-align: right;\">\n      <th></th>\n      <th>id</th>\n      <th>raw_grade</th>\n      <th>grade</th>\n    </tr>\n  </thead>\n  <tbody>\n    <tr>\n      <th>0</th>\n      <td>1</td>\n      <td>a</td>\n      <td>a</td>\n    </tr>\n    <tr>\n      <th>1</th>\n      <td>2</td>\n      <td>b</td>\n      <td>b</td>\n    </tr>\n    <tr>\n      <th>2</th>\n      <td>3</td>\n      <td>b</td>\n      <td>b</td>\n    </tr>\n    <tr>\n      <th>3</th>\n      <td>4</td>\n      <td>a</td>\n      <td>a</td>\n    </tr>\n    <tr>\n      <th>4</th>\n      <td>5</td>\n      <td>a</td>\n      <td>a</td>\n    </tr>\n    <tr>\n      <th>5</th>\n      <td>6</td>\n      <td>e</td>\n      <td>e</td>\n    </tr>\n  </tbody>\n</table>\n</div>"
     },
     "execution_count": 296,
     "metadata": {},
     "output_type": "execute_result"
    }
   ],
   "source": [
    "df = pd.DataFrame({\"id\": [1, 2, 3, 4, 5, 6],\n",
    "                   \"raw_grade\": ['a', 'b', 'b', 'a', 'a', 'e']})\n",
    "df[\"grade\"] = df[\"raw_grade\"].astype(\"category\")\n",
    "df"
   ],
   "metadata": {
    "collapsed": false,
    "ExecuteTime": {
     "end_time": "2023-10-09T03:20:38.070856200Z",
     "start_time": "2023-10-09T03:20:38.041709500Z"
    }
   },
   "id": "70ebd67ceadb0d1b"
  },
  {
   "cell_type": "code",
   "execution_count": 299,
   "outputs": [
    {
     "ename": "AttributeError",
     "evalue": "can't set attribute 'categories'",
     "output_type": "error",
     "traceback": [
      "\u001B[1;31m---------------------------------------------------------------------------\u001B[0m",
      "\u001B[1;31mAttributeError\u001B[0m                            Traceback (most recent call last)",
      "Cell \u001B[1;32mIn[299], line 2\u001B[0m\n\u001B[0;32m      1\u001B[0m \u001B[38;5;66;03m#Series.cat.set_categories \u001B[39;00m\n\u001B[1;32m----> 2\u001B[0m \u001B[43mdf\u001B[49m\u001B[43m[\u001B[49m\u001B[38;5;124;43m\"\u001B[39;49m\u001B[38;5;124;43mgrade\u001B[39;49m\u001B[38;5;124;43m\"\u001B[39;49m\u001B[43m]\u001B[49m\u001B[38;5;241;43m.\u001B[39;49m\u001B[43mcat\u001B[49m\u001B[38;5;241;43m.\u001B[39;49m\u001B[43mcategories\u001B[49m \u001B[38;5;241m=\u001B[39m [\u001B[38;5;124m\"\u001B[39m\u001B[38;5;124mvery good\u001B[39m\u001B[38;5;124m\"\u001B[39m, \u001B[38;5;124m\"\u001B[39m\u001B[38;5;124mgood\u001B[39m\u001B[38;5;124m\"\u001B[39m, \u001B[38;5;124m\"\u001B[39m\u001B[38;5;124mvery bad\u001B[39m\u001B[38;5;124m\"\u001B[39m]\n\u001B[0;32m      3\u001B[0m df[\u001B[38;5;124m\"\u001B[39m\u001B[38;5;124mgrade\u001B[39m\u001B[38;5;124m\"\u001B[39m]\n",
      "File \u001B[1;32mF:\\Anaconda3_envs\\tensor2\\lib\\site-packages\\pandas\\core\\base.py:178\u001B[0m, in \u001B[0;36mNoNewAttributesMixin.__setattr__\u001B[1;34m(self, key, value)\u001B[0m\n\u001B[0;32m    172\u001B[0m \u001B[38;5;28;01mif\u001B[39;00m \u001B[38;5;28mgetattr\u001B[39m(\u001B[38;5;28mself\u001B[39m, \u001B[38;5;124m\"\u001B[39m\u001B[38;5;124m__frozen\u001B[39m\u001B[38;5;124m\"\u001B[39m, \u001B[38;5;28;01mFalse\u001B[39;00m) \u001B[38;5;129;01mand\u001B[39;00m \u001B[38;5;129;01mnot\u001B[39;00m (\n\u001B[0;32m    173\u001B[0m     key \u001B[38;5;241m==\u001B[39m \u001B[38;5;124m\"\u001B[39m\u001B[38;5;124m_cache\u001B[39m\u001B[38;5;124m\"\u001B[39m\n\u001B[0;32m    174\u001B[0m     \u001B[38;5;129;01mor\u001B[39;00m key \u001B[38;5;129;01min\u001B[39;00m \u001B[38;5;28mtype\u001B[39m(\u001B[38;5;28mself\u001B[39m)\u001B[38;5;241m.\u001B[39m\u001B[38;5;18m__dict__\u001B[39m\n\u001B[0;32m    175\u001B[0m     \u001B[38;5;129;01mor\u001B[39;00m \u001B[38;5;28mgetattr\u001B[39m(\u001B[38;5;28mself\u001B[39m, key, \u001B[38;5;28;01mNone\u001B[39;00m) \u001B[38;5;129;01mis\u001B[39;00m \u001B[38;5;129;01mnot\u001B[39;00m \u001B[38;5;28;01mNone\u001B[39;00m\n\u001B[0;32m    176\u001B[0m ):\n\u001B[0;32m    177\u001B[0m     \u001B[38;5;28;01mraise\u001B[39;00m \u001B[38;5;167;01mAttributeError\u001B[39;00m(\u001B[38;5;124mf\u001B[39m\u001B[38;5;124m\"\u001B[39m\u001B[38;5;124mYou cannot add any new attribute \u001B[39m\u001B[38;5;124m'\u001B[39m\u001B[38;5;132;01m{\u001B[39;00mkey\u001B[38;5;132;01m}\u001B[39;00m\u001B[38;5;124m'\u001B[39m\u001B[38;5;124m\"\u001B[39m)\n\u001B[1;32m--> 178\u001B[0m \u001B[38;5;28;43mobject\u001B[39;49m\u001B[38;5;241;43m.\u001B[39;49m\u001B[38;5;21;43m__setattr__\u001B[39;49m\u001B[43m(\u001B[49m\u001B[38;5;28;43mself\u001B[39;49m\u001B[43m,\u001B[49m\u001B[43m \u001B[49m\u001B[43mkey\u001B[49m\u001B[43m,\u001B[49m\u001B[43m \u001B[49m\u001B[43mvalue\u001B[49m\u001B[43m)\u001B[49m\n",
      "File \u001B[1;32mF:\\Anaconda3_envs\\tensor2\\lib\\site-packages\\pandas\\core\\accessor.py:99\u001B[0m, in \u001B[0;36mPandasDelegate._add_delegate_accessors.<locals>._create_delegator_property.<locals>._setter\u001B[1;34m(self, new_values)\u001B[0m\n\u001B[0;32m     98\u001B[0m \u001B[38;5;28;01mdef\u001B[39;00m \u001B[38;5;21m_setter\u001B[39m(\u001B[38;5;28mself\u001B[39m, new_values):\n\u001B[1;32m---> 99\u001B[0m     \u001B[38;5;28;01mreturn\u001B[39;00m \u001B[38;5;28;43mself\u001B[39;49m\u001B[38;5;241;43m.\u001B[39;49m\u001B[43m_delegate_property_set\u001B[49m\u001B[43m(\u001B[49m\u001B[43mname\u001B[49m\u001B[43m,\u001B[49m\u001B[43m \u001B[49m\u001B[43mnew_values\u001B[49m\u001B[43m)\u001B[49m\n",
      "File \u001B[1;32mF:\\Anaconda3_envs\\tensor2\\lib\\site-packages\\pandas\\core\\arrays\\categorical.py:2867\u001B[0m, in \u001B[0;36mCategoricalAccessor._delegate_property_set\u001B[1;34m(self, name, new_values)\u001B[0m\n\u001B[0;32m   2866\u001B[0m \u001B[38;5;28;01mdef\u001B[39;00m \u001B[38;5;21m_delegate_property_set\u001B[39m(\u001B[38;5;28mself\u001B[39m, name: \u001B[38;5;28mstr\u001B[39m, new_values):  \u001B[38;5;66;03m# type: ignore[override]\u001B[39;00m\n\u001B[1;32m-> 2867\u001B[0m     \u001B[38;5;28;01mreturn\u001B[39;00m \u001B[38;5;28;43msetattr\u001B[39;49m\u001B[43m(\u001B[49m\u001B[38;5;28;43mself\u001B[39;49m\u001B[38;5;241;43m.\u001B[39;49m\u001B[43m_parent\u001B[49m\u001B[43m,\u001B[49m\u001B[43m \u001B[49m\u001B[43mname\u001B[49m\u001B[43m,\u001B[49m\u001B[43m \u001B[49m\u001B[43mnew_values\u001B[49m\u001B[43m)\u001B[49m\n",
      "\u001B[1;31mAttributeError\u001B[0m: can't set attribute 'categories'"
     ]
    }
   ],
   "source": [
    "#Series.cat.set_categories \n",
    "df[\"grade\"].cat.categories = [\"very good\", \"good\", \"very bad\"]\n",
    "df[\"grade\"]"
   ],
   "metadata": {
    "collapsed": false,
    "ExecuteTime": {
     "end_time": "2023-10-09T03:22:42.315159800Z",
     "start_time": "2023-10-09T03:22:42.257717800Z"
    }
   },
   "id": "914c418d218241b6"
  },
  {
   "cell_type": "markdown",
   "source": [
    "# Plotting"
   ],
   "metadata": {
    "collapsed": false
   },
   "id": "ebc14c08fb508eaf"
  },
  {
   "cell_type": "code",
   "execution_count": 307,
   "outputs": [],
   "source": [
    "import matplotlib.pyplot as plt\n",
    "\n",
    "plt.close('all')"
   ],
   "metadata": {
    "collapsed": false,
    "ExecuteTime": {
     "end_time": "2023-10-09T03:28:58.290422500Z",
     "start_time": "2023-10-09T03:28:58.270803100Z"
    }
   },
   "id": "a7b2c34e2f15e61a"
  },
  {
   "cell_type": "code",
   "execution_count": 308,
   "outputs": [
    {
     "data": {
      "text/plain": "<Axes: >"
     },
     "execution_count": 308,
     "metadata": {},
     "output_type": "execute_result"
    },
    {
     "data": {
      "text/plain": "<Figure size 640x480 with 1 Axes>",
      "image/png": "[encoded data removed]"
     },
     "metadata": {},
     "output_type": "display_data"
    }
   ],
   "source": [
    "ts = pd.Series(np.random.randn(1000), index=pd.date_range('1/1/2000', periods=1000))\n",
    "ts = ts.cumsum()\n",
    "ts.plot()\n",
    "ep"
   ],
   "metadata": {
    "collapsed": false,
    "ExecuteTime": {
     "end_time": "2023-10-09T03:28:59.027571Z",
     "start_time": "2023-10-09T03:28:58.869884900Z"
    }
   },
   "id": "8713e167aa2c4fdc"
  },
  {
   "cell_type": "markdown",
   "source": [],
   "metadata": {
    "collapsed": false
   },
   "id": "5a464d38a3208b57"
  },
  {
   "cell_type": "code",
   "execution_count": 313,
   "outputs": [
    {
     "data": {
      "text/plain": "<matplotlib.legend.Legend at 0x2096d396260>"
     },
     "execution_count": 313,
     "metadata": {},
     "output_type": "execute_result"
    },
    {
     "data": {
      "text/plain": "<Figure size 640x480 with 0 Axes>"
     },
     "metadata": {},
     "output_type": "display_data"
    },
    {
     "data": {
      "text/plain": "<Figure size 640x480 with 1 Axes>",
      "image/png": "[encoded data removed]"
     },
     "metadata": {},
     "output_type": "display_data"
    }
   ],
   "source": [
    "df = pd.DataFrame(np.random.randn(1000, 4), index=ts.index, columns=list('ABCD'))\n",
    "df = df.cumsum()\n",
    "\n",
    "plt.figure()\n",
    "df.plot()\n",
    "plt.legend(loc='best')"
   ],
   "metadata": {
    "collapsed": false,
    "ExecuteTime": {
     "end_time": "2023-10-09T03:30:09.759587500Z",
     "start_time": "2023-10-09T03:30:09.552292100Z"
    }
   },
   "id": "4389ad2f4749e484"
  },
  {
   "cell_type": "markdown",
   "source": [
    "# 데이타 입출력\n"
   ],
   "metadata": {
    "collapsed": false
   },
   "id": "8c15c1e6cfde2b42"
  },
  {
   "cell_type": "code",
   "execution_count": 325,
   "outputs": [],
   "source": [
    "df.to_csv('data/foo.csv')"
   ],
   "metadata": {
    "collapsed": false,
    "ExecuteTime": {
     "end_time": "2023-10-09T03:37:36.882602100Z",
     "start_time": "2023-10-09T03:37:36.861438900Z"
    }
   },
   "id": "a9b7fc643c1d6d2"
  },
  {
   "cell_type": "code",
   "execution_count": 326,
   "outputs": [
    {
     "data": {
      "text/plain": "     Unnamed: 0          A          B          C          D\n0    2000-01-01  -1.148513   0.745167  -0.802304   0.937228\n1    2000-01-02   0.743202   0.893021   1.270171   2.217263\n2    2000-01-03   1.554900   0.545962   1.836476   1.477924\n3    2000-01-04   1.082144   1.695318   0.994144   0.079818\n4    2000-01-05   1.744913   1.814313   0.944450  -1.364398\n..          ...        ...        ...        ...        ...\n995  2002-09-22 -23.266514  22.535274 -73.420763  28.944491\n996  2002-09-23 -22.683555  20.977380 -72.725319  27.488130\n997  2002-09-24 -22.688888  21.602693 -74.140445  27.513403\n998  2002-09-25 -21.630948  20.978404 -74.294993  29.204323\n999  2002-09-26 -20.695038  21.195083 -72.767716  28.636966\n\n[1000 rows x 5 columns]",
      "text/html": "<div>\n<style scoped>\n    .dataframe tbody tr th:only-of-type {\n        vertical-align: middle;\n    }\n\n    .dataframe tbody tr th {\n        vertical-align: top;\n    }\n\n    .dataframe thead th {\n        text-align: right;\n    }\n</style>\n<table border=\"1\" class=\"dataframe\">\n  <thead>\n    <tr style=\"text-align: right;\">\n      <th></th>\n      <th>Unnamed: 0</th>\n      <th>A</th>\n      <th>B</th>\n      <th>C</th>\n      <th>D</th>\n    </tr>\n  </thead>\n  <tbody>\n    <tr>\n      <th>0</th>\n      <td>2000-01-01</td>\n      <td>-1.148513</td>\n      <td>0.745167</td>\n      <td>-0.802304</td>\n      <td>0.937228</td>\n    </tr>\n    <tr>\n      <th>1</th>\n      <td>2000-01-02</td>\n      <td>0.743202</td>\n      <td>0.893021</td>\n      <td>1.270171</td>\n      <td>2.217263</td>\n    </tr>\n    <tr>\n      <th>2</th>\n      <td>2000-01-03</td>\n      <td>1.554900</td>\n      <td>0.545962</td>\n      <td>1.836476</td>\n      <td>1.477924</td>\n    </tr>\n    <tr>\n      <th>3</th>\n      <td>2000-01-04</td>\n      <td>1.082144</td>\n      <td>1.695318</td>\n      <td>0.994144</td>\n      <td>0.079818</td>\n    </tr>\n    <tr>\n      <th>4</th>\n      <td>2000-01-05</td>\n      <td>1.744913</td>\n      <td>1.814313</td>\n      <td>0.944450</td>\n      <td>-1.364398</td>\n    </tr>\n    <tr>\n      <th>...</th>\n      <td>...</td>\n      <td>...</td>\n      <td>...</td>\n      <td>...</td>\n      <td>...</td>\n    </tr>\n    <tr>\n      <th>995</th>\n      <td>2002-09-22</td>\n      <td>-23.266514</td>\n      <td>22.535274</td>\n      <td>-73.420763</td>\n      <td>28.944491</td>\n    </tr>\n    <tr>\n      <th>996</th>\n      <td>2002-09-23</td>\n      <td>-22.683555</td>\n      <td>20.977380</td>\n      <td>-72.725319</td>\n      <td>27.488130</td>\n    </tr>\n    <tr>\n      <th>997</th>\n      <td>2002-09-24</td>\n      <td>-22.688888</td>\n      <td>21.602693</td>\n      <td>-74.140445</td>\n      <td>27.513403</td>\n    </tr>\n    <tr>\n      <th>998</th>\n      <td>2002-09-25</td>\n      <td>-21.630948</td>\n      <td>20.978404</td>\n      <td>-74.294993</td>\n      <td>29.204323</td>\n    </tr>\n    <tr>\n      <th>999</th>\n      <td>2002-09-26</td>\n      <td>-20.695038</td>\n      <td>21.195083</td>\n      <td>-72.767716</td>\n      <td>28.636966</td>\n    </tr>\n  </tbody>\n</table>\n<p>1000 rows × 5 columns</p>\n</div>"
     },
     "execution_count": 326,
     "metadata": {},
     "output_type": "execute_result"
    }
   ],
   "source": [
    "pd.read_csv('data/foo.csv')"
   ],
   "metadata": {
    "collapsed": false,
    "ExecuteTime": {
     "end_time": "2023-10-09T03:37:37.502624300Z",
     "start_time": "2023-10-09T03:37:37.458651100Z"
    }
   },
   "id": "b1bc8f9cac9e4bad"
  },
  {
   "cell_type": "code",
   "execution_count": 327,
   "outputs": [
    {
     "data": {
      "text/plain": "    Unnamed: 0          A          B          C          D\n0   2000-01-01  -1.148513   0.745167  -0.802304   0.937228\n1   2000-01-02   0.743202   0.893021   1.270171   2.217263\n2   2000-01-03   1.554900   0.545962   1.836476   1.477924\n3   2000-01-04   1.082144   1.695318   0.994144   0.079818\n4   2000-01-05   1.744913   1.814313   0.944450  -1.364398\n..         ...        ...        ...        ...        ...\n995 2002-09-22 -23.266514  22.535274 -73.420763  28.944491\n996 2002-09-23 -22.683555  20.977380 -72.725319  27.488130\n997 2002-09-24 -22.688888  21.602693 -74.140445  27.513403\n998 2002-09-25 -21.630948  20.978404 -74.294993  29.204323\n999 2002-09-26 -20.695038  21.195083 -72.767716  28.636966\n\n[1000 rows x 5 columns]",
      "text/html": "<div>\n<style scoped>\n    .dataframe tbody tr th:only-of-type {\n        vertical-align: middle;\n    }\n\n    .dataframe tbody tr th {\n        vertical-align: top;\n    }\n\n    .dataframe thead th {\n        text-align: right;\n    }\n</style>\n<table border=\"1\" class=\"dataframe\">\n  <thead>\n    <tr style=\"text-align: right;\">\n      <th></th>\n      <th>Unnamed: 0</th>\n      <th>A</th>\n      <th>B</th>\n      <th>C</th>\n      <th>D</th>\n    </tr>\n  </thead>\n  <tbody>\n    <tr>\n      <th>0</th>\n      <td>2000-01-01</td>\n      <td>-1.148513</td>\n      <td>0.745167</td>\n      <td>-0.802304</td>\n      <td>0.937228</td>\n    </tr>\n    <tr>\n      <th>1</th>\n      <td>2000-01-02</td>\n      <td>0.743202</td>\n      <td>0.893021</td>\n      <td>1.270171</td>\n      <td>2.217263</td>\n    </tr>\n    <tr>\n      <th>2</th>\n      <td>2000-01-03</td>\n      <td>1.554900</td>\n      <td>0.545962</td>\n      <td>1.836476</td>\n      <td>1.477924</td>\n    </tr>\n    <tr>\n      <th>3</th>\n      <td>2000-01-04</td>\n      <td>1.082144</td>\n      <td>1.695318</td>\n      <td>0.994144</td>\n      <td>0.079818</td>\n    </tr>\n    <tr>\n      <th>4</th>\n      <td>2000-01-05</td>\n      <td>1.744913</td>\n      <td>1.814313</td>\n      <td>0.944450</td>\n      <td>-1.364398</td>\n    </tr>\n    <tr>\n      <th>...</th>\n      <td>...</td>\n      <td>...</td>\n      <td>...</td>\n      <td>...</td>\n      <td>...</td>\n    </tr>\n    <tr>\n      <th>995</th>\n      <td>2002-09-22</td>\n      <td>-23.266514</td>\n      <td>22.535274</td>\n      <td>-73.420763</td>\n      <td>28.944491</td>\n    </tr>\n    <tr>\n      <th>996</th>\n      <td>2002-09-23</td>\n      <td>-22.683555</td>\n      <td>20.977380</td>\n      <td>-72.725319</td>\n      <td>27.488130</td>\n    </tr>\n    <tr>\n      <th>997</th>\n      <td>2002-09-24</td>\n      <td>-22.688888</td>\n      <td>21.602693</td>\n      <td>-74.140445</td>\n      <td>27.513403</td>\n    </tr>\n    <tr>\n      <th>998</th>\n      <td>2002-09-25</td>\n      <td>-21.630948</td>\n      <td>20.978404</td>\n      <td>-74.294993</td>\n      <td>29.204323</td>\n    </tr>\n    <tr>\n      <th>999</th>\n      <td>2002-09-26</td>\n      <td>-20.695038</td>\n      <td>21.195083</td>\n      <td>-72.767716</td>\n      <td>28.636966</td>\n    </tr>\n  </tbody>\n</table>\n<p>1000 rows × 5 columns</p>\n</div>"
     },
     "execution_count": 327,
     "metadata": {},
     "output_type": "execute_result"
    }
   ],
   "source": [
    "df.to_excel('data/foo.xlsx', sheet_name='Sheet1')\n",
    "pd.read_excel('data/foo.xlsx', 'Sheet1', index_col=None, na_values=['NA'])"
   ],
   "metadata": {
    "collapsed": false,
    "ExecuteTime": {
     "end_time": "2023-10-09T03:37:38.868260500Z",
     "start_time": "2023-10-09T03:37:38.653323900Z"
    }
   },
   "id": "adf38d1aab3188be"
  },
  {
   "cell_type": "markdown",
   "source": [
    "# Gotchas"
   ],
   "metadata": {
    "collapsed": false
   },
   "id": "2676a1c7dc4cb21f"
  },
  {
   "cell_type": "code",
   "execution_count": 328,
   "outputs": [
    {
     "ename": "ValueError",
     "evalue": "The truth value of a Series is ambiguous. Use a.empty, a.bool(), a.item(), a.any() or a.all().",
     "output_type": "error",
     "traceback": [
      "\u001B[1;31m---------------------------------------------------------------------------\u001B[0m",
      "\u001B[1;31mValueError\u001B[0m                                Traceback (most recent call last)",
      "Cell \u001B[1;32mIn[328], line 1\u001B[0m\n\u001B[1;32m----> 1\u001B[0m \u001B[38;5;28;01mif\u001B[39;00m pd\u001B[38;5;241m.\u001B[39mSeries([\u001B[38;5;28;01mFalse\u001B[39;00m, \u001B[38;5;28;01mTrue\u001B[39;00m, \u001B[38;5;28;01mFalse\u001B[39;00m]):\n\u001B[0;32m      2\u001B[0m     \u001B[38;5;28mprint\u001B[39m(\u001B[38;5;124m'\u001B[39m\u001B[38;5;124mI was true \u001B[39m\u001B[38;5;124m'\u001B[39m)\n",
      "File \u001B[1;32mF:\\Anaconda3_envs\\tensor2\\lib\\site-packages\\pandas\\core\\generic.py:1519\u001B[0m, in \u001B[0;36mNDFrame.__nonzero__\u001B[1;34m(self)\u001B[0m\n\u001B[0;32m   1517\u001B[0m \u001B[38;5;129m@final\u001B[39m\n\u001B[0;32m   1518\u001B[0m \u001B[38;5;28;01mdef\u001B[39;00m \u001B[38;5;21m__nonzero__\u001B[39m(\u001B[38;5;28mself\u001B[39m) \u001B[38;5;241m-\u001B[39m\u001B[38;5;241m>\u001B[39m NoReturn:\n\u001B[1;32m-> 1519\u001B[0m     \u001B[38;5;28;01mraise\u001B[39;00m \u001B[38;5;167;01mValueError\u001B[39;00m(\n\u001B[0;32m   1520\u001B[0m         \u001B[38;5;124mf\u001B[39m\u001B[38;5;124m\"\u001B[39m\u001B[38;5;124mThe truth value of a \u001B[39m\u001B[38;5;132;01m{\u001B[39;00m\u001B[38;5;28mtype\u001B[39m(\u001B[38;5;28mself\u001B[39m)\u001B[38;5;241m.\u001B[39m\u001B[38;5;18m__name__\u001B[39m\u001B[38;5;132;01m}\u001B[39;00m\u001B[38;5;124m is ambiguous. \u001B[39m\u001B[38;5;124m\"\u001B[39m\n\u001B[0;32m   1521\u001B[0m         \u001B[38;5;124m\"\u001B[39m\u001B[38;5;124mUse a.empty, a.bool(), a.item(), a.any() or a.all().\u001B[39m\u001B[38;5;124m\"\u001B[39m\n\u001B[0;32m   1522\u001B[0m     )\n",
      "\u001B[1;31mValueError\u001B[0m: The truth value of a Series is ambiguous. Use a.empty, a.bool(), a.item(), a.any() or a.all()."
     ]
    }
   ],
   "source": [
    "if pd.Series([False, True, False]):\n",
    "    print('I was true ')\n"
   ],
   "metadata": {
    "collapsed": false,
    "ExecuteTime": {
     "end_time": "2023-10-09T03:37:41.415156600Z",
     "start_time": "2023-10-09T03:37:41.343416600Z"
    }
   },
   "id": "d74f43eaf4094908"
  },
  {
   "cell_type": "code",
   "execution_count": null,
   "outputs": [],
   "source": [],
   "metadata": {
    "collapsed": false
   },
   "id": "95d33351fabf3702"
  }
 ],
 "metadata": {
  "kernelspec": {
   "display_name": "Python 3",
   "language": "python",
   "name": "python3"
  },
  "language_info": {
   "codemirror_mode": {
    "name": "ipython",
    "version": 2
   },
   "file_extension": ".py",
   "mimetype": "text/x-python",
   "name": "python",
   "nbconvert_exporter": "python",
   "pygments_lexer": "ipython2",
   "version": "2.7.6"
  }
 },
 "nbformat": 4,
 "nbformat_minor": 5
}
