{
 "cells": [
  {
   "cell_type": "code",
   "execution_count": 1,
   "id": "initial_id",
   "metadata": {
    "collapsed": true,
    "ExecuteTime": {
     "end_time": "2024-01-14T11:20:21.563040Z",
     "start_time": "2024-01-14T11:20:21.559847Z"
    }
   },
   "outputs": [],
   "source": [
    "import pandas as pd\n",
    "import numpy as np\n",
    "import seaborn as sns\n",
    "import matplotlib.pyplot as plt\n"
   ]
  },
  {
   "cell_type": "markdown",
   "source": [
    "### 데이터 가져오기"
   ],
   "metadata": {
    "collapsed": false
   },
   "id": "bdcc6ad9cef8ed85"
  },
  {
   "cell_type": "code",
   "outputs": [],
   "source": [
    "df = pd.read_csv('data/diabetes.csv')"
   ],
   "metadata": {
    "collapsed": false,
    "ExecuteTime": {
     "end_time": "2024-01-14T11:20:21.582713Z",
     "start_time": "2024-01-14T11:20:21.564343Z"
    }
   },
   "id": "5ab203211ac6e110",
   "execution_count": 2
  },
  {
   "cell_type": "code",
   "outputs": [
    {
     "data": {
      "text/plain": "   Pregnancies  Glucose  BloodPressure  SkinThickness  Insulin   BMI  \\\n0            6      148             72             35        0  33.6   \n1            1       85             66             29        0  26.6   \n2            8      183             64              0        0  23.3   \n3            1       89             66             23       94  28.1   \n4            0      137             40             35      168  43.1   \n\n   DiabetesPedigreeFunction  Age  Outcome  \n0                     0.627   50        1  \n1                     0.351   31        0  \n2                     0.672   32        1  \n3                     0.167   21        0  \n4                     2.288   33        1  ",
      "text/html": "<div>\n<style scoped>\n    .dataframe tbody tr th:only-of-type {\n        vertical-align: middle;\n    }\n\n    .dataframe tbody tr th {\n        vertical-align: top;\n    }\n\n    .dataframe thead th {\n        text-align: right;\n    }\n</style>\n<table border=\"1\" class=\"dataframe\">\n  <thead>\n    <tr style=\"text-align: right;\">\n      <th></th>\n      <th>Pregnancies</th>\n      <th>Glucose</th>\n      <th>BloodPressure</th>\n      <th>SkinThickness</th>\n      <th>Insulin</th>\n      <th>BMI</th>\n      <th>DiabetesPedigreeFunction</th>\n      <th>Age</th>\n      <th>Outcome</th>\n    </tr>\n  </thead>\n  <tbody>\n    <tr>\n      <th>0</th>\n      <td>6</td>\n      <td>148</td>\n      <td>72</td>\n      <td>35</td>\n      <td>0</td>\n      <td>33.6</td>\n      <td>0.627</td>\n      <td>50</td>\n      <td>1</td>\n    </tr>\n    <tr>\n      <th>1</th>\n      <td>1</td>\n      <td>85</td>\n      <td>66</td>\n      <td>29</td>\n      <td>0</td>\n      <td>26.6</td>\n      <td>0.351</td>\n      <td>31</td>\n      <td>0</td>\n    </tr>\n    <tr>\n      <th>2</th>\n      <td>8</td>\n      <td>183</td>\n      <td>64</td>\n      <td>0</td>\n      <td>0</td>\n      <td>23.3</td>\n      <td>0.672</td>\n      <td>32</td>\n      <td>1</td>\n    </tr>\n    <tr>\n      <th>3</th>\n      <td>1</td>\n      <td>89</td>\n      <td>66</td>\n      <td>23</td>\n      <td>94</td>\n      <td>28.1</td>\n      <td>0.167</td>\n      <td>21</td>\n      <td>0</td>\n    </tr>\n    <tr>\n      <th>4</th>\n      <td>0</td>\n      <td>137</td>\n      <td>40</td>\n      <td>35</td>\n      <td>168</td>\n      <td>43.1</td>\n      <td>2.288</td>\n      <td>33</td>\n      <td>1</td>\n    </tr>\n  </tbody>\n</table>\n</div>"
     },
     "execution_count": 3,
     "metadata": {},
     "output_type": "execute_result"
    }
   ],
   "source": [
    "df.head()"
   ],
   "metadata": {
    "collapsed": false,
    "ExecuteTime": {
     "end_time": "2024-01-14T11:20:21.596439Z",
     "start_time": "2024-01-14T11:20:21.579335Z"
    }
   },
   "id": "93ef824a14acfe7f",
   "execution_count": 3
  },
  {
   "cell_type": "code",
   "outputs": [
    {
     "data": {
      "text/plain": "614"
     },
     "execution_count": 5,
     "metadata": {},
     "output_type": "execute_result"
    }
   ],
   "source": [
    "split_count  = int(df.shape[0]* 0.8)\n",
    "split_count"
   ],
   "metadata": {
    "collapsed": false,
    "ExecuteTime": {
     "end_time": "2024-01-14T11:20:29.507310Z",
     "start_time": "2024-01-14T11:20:29.494043Z"
    }
   },
   "id": "4c094fdcc3925e20",
   "execution_count": 5
  },
  {
   "cell_type": "code",
   "outputs": [],
   "source": [
    "train = df[:split_count].copy()\n",
    "test = df[split_count:].copy()"
   ],
   "metadata": {
    "collapsed": false,
    "ExecuteTime": {
     "end_time": "2024-01-14T11:20:30.065478Z",
     "start_time": "2024-01-14T11:20:30.053612Z"
    }
   },
   "id": "712b243aaa5eec2c",
   "execution_count": 6
  },
  {
   "cell_type": "code",
   "outputs": [
    {
     "name": "stdout",
     "output_type": "stream",
     "text": [
      "['Pregnancies', 'Glucose', 'BloodPressure', 'SkinThickness', 'Insulin', 'BMI', 'DiabetesPedigreeFunction', 'Age'] Index(['Outcome'], dtype='object')\n"
     ]
    }
   ],
   "source": [
    "feature_names = train.columns[:-1].tolist()\n",
    "label_name = train.columns[-1:]\n",
    "print(feature_names,label_name)"
   ],
   "metadata": {
    "collapsed": false,
    "ExecuteTime": {
     "end_time": "2024-01-14T11:20:30.784015Z",
     "start_time": "2024-01-14T11:20:30.768422Z"
    }
   },
   "id": "ea8fbba15cf185e1",
   "execution_count": 7
  },
  {
   "cell_type": "code",
   "outputs": [
    {
     "data": {
      "text/plain": "(614, 8)"
     },
     "execution_count": 8,
     "metadata": {},
     "output_type": "execute_result"
    }
   ],
   "source": [
    "X_train = train[feature_names].copy()\n",
    "X_train.shape"
   ],
   "metadata": {
    "collapsed": false,
    "ExecuteTime": {
     "end_time": "2024-01-14T11:20:31.446037Z",
     "start_time": "2024-01-14T11:20:31.432347Z"
    }
   },
   "id": "516049a93ca73794",
   "execution_count": 8
  },
  {
   "cell_type": "code",
   "outputs": [
    {
     "data": {
      "text/plain": "(614, 1)"
     },
     "execution_count": 9,
     "metadata": {},
     "output_type": "execute_result"
    }
   ],
   "source": [
    "y_train = train[label_name].copy()\n",
    "y_train.shape"
   ],
   "metadata": {
    "collapsed": false,
    "ExecuteTime": {
     "end_time": "2024-01-14T11:20:32.783399Z",
     "start_time": "2024-01-14T11:20:32.771526Z"
    }
   },
   "id": "a5361bf0593c5a4a",
   "execution_count": 9
  },
  {
   "cell_type": "code",
   "outputs": [],
   "source": [
    "# train_data = train.iloc[:,:-1].copy()\n",
    "# train_label = train.iloc[:,-1].copy()\n",
    "# test_data = test.iloc[:,:-1].copy()\n",
    "# test_label = test.iloc[:,-1].copy()\n",
    "# print(train_data.shape, train_label.shape, test_data.shape, test_label.shape)"
   ],
   "metadata": {
    "collapsed": false,
    "ExecuteTime": {
     "end_time": "2024-01-14T11:20:33.473245Z",
     "start_time": "2024-01-14T11:20:33.415552Z"
    }
   },
   "id": "a4613791a8545776",
   "execution_count": 10
  },
  {
   "cell_type": "code",
   "outputs": [
    {
     "name": "stdout",
     "output_type": "stream",
     "text": [
      "(154, 8) (154, 1)\n"
     ]
    }
   ],
   "source": [
    "X_test = test[feature_names]\n",
    "y_test = test[label_name]\n",
    "print(X_test.shape, y_test.shape)"
   ],
   "metadata": {
    "collapsed": false,
    "ExecuteTime": {
     "end_time": "2024-01-14T11:20:34.127079Z",
     "start_time": "2024-01-14T11:20:34.103627Z"
    }
   },
   "id": "521686a478a0902",
   "execution_count": 11
  },
  {
   "cell_type": "markdown",
   "source": [
    "### 머신러닝 알고리즘 가져오기"
   ],
   "metadata": {
    "collapsed": false
   },
   "id": "936d918220aada45"
  },
  {
   "cell_type": "code",
   "outputs": [],
   "source": [
    "from sklearn.tree import DecisionTreeClassifier\n",
    "model = DecisionTreeClassifier()"
   ],
   "metadata": {
    "collapsed": false
   },
   "id": "c493f777799eba94",
   "execution_count": null
  },
  {
   "cell_type": "code",
   "outputs": [],
   "source": [
    "model.fit(X_train, y_train)"
   ],
   "metadata": {
    "collapsed": false
   },
   "id": "e3052a5a988b62a4",
   "execution_count": null
  },
  {
   "cell_type": "code",
   "outputs": [],
   "source": [
    "y_predict = model.predict(X_test)\n",
    "y_predict[:5]"
   ],
   "metadata": {
    "collapsed": false
   },
   "id": "764abd1c95c87fde",
   "execution_count": null
  },
  {
   "cell_type": "markdown",
   "source": [
    "### 트리 알고리즘 분석하기"
   ],
   "metadata": {
    "collapsed": false
   },
   "id": "72c00e7011c44737"
  },
  {
   "cell_type": "markdown",
   "source": [],
   "metadata": {
    "collapsed": false
   },
   "id": "66f092ae9b9a4588"
  },
  {
   "cell_type": "code",
   "outputs": [],
   "source": [
    "from sklearn.tree import plot_tree\n",
    "\n",
    "plt.figure(figsize=(20,20))\n",
    "tree = plot_tree(model, feature_names=feature_names, filled=True, fontsize=14)"
   ],
   "metadata": {
    "collapsed": false
   },
   "id": "3b691a8d9e9b37d",
   "execution_count": null
  },
  {
   "cell_type": "code",
   "outputs": [],
   "source": [
    "import graphviz\n",
    "from sklearn.tree import export_graphviz\n",
    "\n",
    "dot_tree = export_graphviz(model,\n",
    "                           feature_names=feature_names,\n",
    "                           filled=True)\n",
    "graphviz.Source(dot_tree)"
   ],
   "metadata": {
    "collapsed": false
   },
   "id": "a5cf0398bee60def",
   "execution_count": null
  },
  {
   "cell_type": "code",
   "outputs": [],
   "source": [
    "# 피쳐 중요도\n",
    "model.feature_importances_"
   ],
   "metadata": {
    "collapsed": false
   },
   "id": "49899e68ae8a5ea",
   "execution_count": null
  },
  {
   "cell_type": "code",
   "outputs": [],
   "source": [
    "sns.barplot(x=model.feature_importances_, y=feature_names)"
   ],
   "metadata": {
    "collapsed": false
   },
   "id": "992b14c0bd03e465",
   "execution_count": null
  },
  {
   "cell_type": "markdown",
   "source": [
    "### 정확도 측정하기"
   ],
   "metadata": {
    "collapsed": false
   },
   "id": "81be2a31464d9b88"
  },
  {
   "cell_type": "code",
   "outputs": [],
   "source": [
    "from sklearn.metrics import accuracy_score\n",
    "accuracy_score(y_test, y_predict)\n"
   ],
   "metadata": {
    "collapsed": false
   },
   "id": "1bc1df8368d6a12e",
   "execution_count": null
  },
  {
   "cell_type": "code",
   "outputs": [],
   "source": [
    "model.score(X_test, y_test)*100"
   ],
   "metadata": {
    "collapsed": false
   },
   "id": "dd1300bb5ed324df",
   "execution_count": null
  },
  {
   "cell_type": "code",
   "outputs": [],
   "source": [],
   "metadata": {
    "collapsed": false
   },
   "id": "93f8ea35f8cae39e"
  }
 ],
 "metadata": {
  "kernelspec": {
   "display_name": "Python 3",
   "language": "python",
   "name": "python3"
  },
  "language_info": {
   "codemirror_mode": {
    "name": "ipython",
    "version": 2
   },
   "file_extension": ".py",
   "mimetype": "text/x-python",
   "name": "python",
   "nbconvert_exporter": "python",
   "pygments_lexer": "ipython2",
   "version": "2.7.6"
  }
 },
 "nbformat": 4,
 "nbformat_minor": 5
}
