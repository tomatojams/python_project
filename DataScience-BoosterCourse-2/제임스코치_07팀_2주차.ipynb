{
 "cells": [
  {
   "cell_type": "markdown",
   "metadata": {
    "id": "bvAsiIXfin4r"
   },
   "source": [
    "## 2주차 미션 소개 - EDA를 통한 머신러닝에 영향을 미치는 주요 변수 확인하기\n",
    "\n",
    "* EDA 를 통해 어떤 피처가 이탈에 영향을 미치는지 확인하고 피처를 변경해서 모델의 성능 개선해 보기\n",
    "* EDA는 데이터의 구조, 패턴, 이상치, 변수 간 관계 등을 파악하는 데 도움을 줍니다. 모델링 전 데이터에 대한 이해를 가능하게 합니다. 고객 이탈에 영향을 미치는 중요 변수를 식별함으로써, 더 효과적인 피처 선택을 할 수 있습니다. 불필요하거나 적절하지 않은 피처를 제거함으로써, 모델이 특정 데이터에 과적합되는 것을 방지할 수 있습니다. EDA과정은 모델의 복잡성을 줄이고, 성능을 개선하기 위한 피처엔지니어링 전략을 세우는데 중요합니다.\n",
    "\n",
    "* 미션 데이터셋 소개\n",
    "    * 해당 Kaggle 데이터셋( https://www.kaggle.com/blastchar/telco-customer-churn )은 통신사 고객 이탈(Churn)에 대한 정보를 담고 있습니다. IBM에서 제공한 이 데이터셋은 고객 유지에 필요한 행동을 예측하는 데 사용될 수 있으며, 고객 데이터를 분석하여 고객 유지 프로그램을 개발하는 데 도움이 됩니다.\n",
    "    * 해당 데이터셋은 다음의 정보로 구성되어 있습니다.\n",
    "        * 고객 인구 통계 정보(Demographic info): 고객의 성별, 연령대, 배우자 및 부양 가족의 유무(Gender, SeniorCitizen, Partner, Dependents) 등에 관한 정보가 포함되어 있습니다.\n",
    "        * 고객 이탈(Churn) 정보: 서비스를 중단 여부에 대한 정보가 포함되어 있습니다.\n",
    "        * 서비스 가입 정보(Services subscribed): 고객들이 가입한 서비스들, 예를 들어 전화, 다중 라인, 인터넷, 온라인 보안, 온라인 백업, 장치 보호, 기술 지원, 스트리밍 TV 및 영화( honeService, MultipleLine, InternetService, OnlineSecurity, OnlineBackup, DeviceProtection, TechSupport, StreamingTV, StreamingMovies) 등에 대한 정보가 있습니다.\n",
    "        * 고객 계정 정보(Customer account info): 고객이 얼마나 오래 서비스를 이용했는지, 계약 유형, 결제 방법, 무페이퍼 청구 여부, 월별 요금, 총 요금 (CustomerID, Contract, PaperlessBilling, PaymentMethod, MonthlyCharges, TotalCharges, Tenure)등의 정보가 담겨 있습니다."
   ]
  },
  {
   "cell_type": "code",
   "execution_count": 1,
   "metadata": {
    "id": "wNxWBS3vin4u",
    "ExecuteTime": {
     "end_time": "2024-01-30T10:53:34.272693Z",
     "start_time": "2024-01-30T10:53:34.177950900Z"
    }
   },
   "outputs": [],
   "source": [
    "import pandas as pd\n",
    "import numpy as np\n",
    "import seaborn as sns\n",
    "import matplotlib.pyplot as plt\n",
    "import plotly.graph_objects as go\n",
    "import plotly.express as px\n",
    "from plotly.subplots import make_subplots"
   ]
  },
  {
   "cell_type": "code",
   "execution_count": 2,
   "metadata": {
    "id": "WPQqigRUin4v",
    "colab": {
     "base_uri": "https://localhost:8080/"
    },
    "outputId": "fc7601a7-ad61-464d-88bb-99cd64bb741c",
    "ExecuteTime": {
     "end_time": "2024-01-30T10:53:35.665629900Z",
     "start_time": "2024-01-30T10:53:34.272693Z"
    }
   },
   "outputs": [
    {
     "data": {
      "text/plain": "(7043, 20)"
     },
     "execution_count": 2,
     "metadata": {},
     "output_type": "execute_result"
    }
   ],
   "source": [
    "# 미션 수행을 위해 데이터셋을 로드합니다.\n",
    "df = pd.read_csv(\"https://bit.ly/telco-csv\", index_col=\"customerID\")\n",
    "df.shape"
   ]
  },
  {
   "cell_type": "code",
   "execution_count": 3,
   "metadata": {
    "id": "lJYWb7dLin4v",
    "colab": {
     "base_uri": "https://localhost:8080/",
     "height": 344
    },
    "outputId": "ba8bb238-95ca-4cc7-c72f-ba727c9b9c91",
    "ExecuteTime": {
     "end_time": "2024-01-30T10:53:35.681210Z",
     "start_time": "2024-01-30T10:53:35.665629900Z"
    }
   },
   "outputs": [
    {
     "data": {
      "text/plain": "            gender  SeniorCitizen Partner Dependents  tenure PhoneService  \\\ncustomerID                                                                  \n7590-VHVEG  Female              0     Yes         No       1           No   \n5575-GNVDE    Male              0      No         No      34          Yes   \n3668-QPYBK    Male              0      No         No       2          Yes   \n7795-CFOCW    Male              0      No         No      45           No   \n9237-HQITU  Female              0      No         No       2          Yes   \n\n               MultipleLines InternetService OnlineSecurity OnlineBackup  \\\ncustomerID                                                                 \n7590-VHVEG  No phone service             DSL             No          Yes   \n5575-GNVDE                No             DSL            Yes           No   \n3668-QPYBK                No             DSL            Yes          Yes   \n7795-CFOCW  No phone service             DSL            Yes           No   \n9237-HQITU                No     Fiber optic             No           No   \n\n           DeviceProtection TechSupport StreamingTV StreamingMovies  \\\ncustomerID                                                            \n7590-VHVEG               No          No          No              No   \n5575-GNVDE              Yes          No          No              No   \n3668-QPYBK               No          No          No              No   \n7795-CFOCW              Yes         Yes          No              No   \n9237-HQITU               No          No          No              No   \n\n                  Contract PaperlessBilling              PaymentMethod  \\\ncustomerID                                                               \n7590-VHVEG  Month-to-month              Yes           Electronic check   \n5575-GNVDE        One year               No               Mailed check   \n3668-QPYBK  Month-to-month              Yes               Mailed check   \n7795-CFOCW        One year               No  Bank transfer (automatic)   \n9237-HQITU  Month-to-month              Yes           Electronic check   \n\n            MonthlyCharges TotalCharges Churn  \ncustomerID                                     \n7590-VHVEG           29.85        29.85    No  \n5575-GNVDE           56.95       1889.5    No  \n3668-QPYBK           53.85       108.15   Yes  \n7795-CFOCW           42.30      1840.75    No  \n9237-HQITU           70.70       151.65   Yes  ",
      "text/html": "<div>\n<style scoped>\n    .dataframe tbody tr th:only-of-type {\n        vertical-align: middle;\n    }\n\n    .dataframe tbody tr th {\n        vertical-align: top;\n    }\n\n    .dataframe thead th {\n        text-align: right;\n    }\n</style>\n<table border=\"1\" class=\"dataframe\">\n  <thead>\n    <tr style=\"text-align: right;\">\n      <th></th>\n      <th>gender</th>\n      <th>SeniorCitizen</th>\n      <th>Partner</th>\n      <th>Dependents</th>\n      <th>tenure</th>\n      <th>PhoneService</th>\n      <th>MultipleLines</th>\n      <th>InternetService</th>\n      <th>OnlineSecurity</th>\n      <th>OnlineBackup</th>\n      <th>DeviceProtection</th>\n      <th>TechSupport</th>\n      <th>StreamingTV</th>\n      <th>StreamingMovies</th>\n      <th>Contract</th>\n      <th>PaperlessBilling</th>\n      <th>PaymentMethod</th>\n      <th>MonthlyCharges</th>\n      <th>TotalCharges</th>\n      <th>Churn</th>\n    </tr>\n    <tr>\n      <th>customerID</th>\n      <th></th>\n      <th></th>\n      <th></th>\n      <th></th>\n      <th></th>\n      <th></th>\n      <th></th>\n      <th></th>\n      <th></th>\n      <th></th>\n      <th></th>\n      <th></th>\n      <th></th>\n      <th></th>\n      <th></th>\n      <th></th>\n      <th></th>\n      <th></th>\n      <th></th>\n      <th></th>\n    </tr>\n  </thead>\n  <tbody>\n    <tr>\n      <th>7590-VHVEG</th>\n      <td>Female</td>\n      <td>0</td>\n      <td>Yes</td>\n      <td>No</td>\n      <td>1</td>\n      <td>No</td>\n      <td>No phone service</td>\n      <td>DSL</td>\n      <td>No</td>\n      <td>Yes</td>\n      <td>No</td>\n      <td>No</td>\n      <td>No</td>\n      <td>No</td>\n      <td>Month-to-month</td>\n      <td>Yes</td>\n      <td>Electronic check</td>\n      <td>29.85</td>\n      <td>29.85</td>\n      <td>No</td>\n    </tr>\n    <tr>\n      <th>5575-GNVDE</th>\n      <td>Male</td>\n      <td>0</td>\n      <td>No</td>\n      <td>No</td>\n      <td>34</td>\n      <td>Yes</td>\n      <td>No</td>\n      <td>DSL</td>\n      <td>Yes</td>\n      <td>No</td>\n      <td>Yes</td>\n      <td>No</td>\n      <td>No</td>\n      <td>No</td>\n      <td>One year</td>\n      <td>No</td>\n      <td>Mailed check</td>\n      <td>56.95</td>\n      <td>1889.5</td>\n      <td>No</td>\n    </tr>\n    <tr>\n      <th>3668-QPYBK</th>\n      <td>Male</td>\n      <td>0</td>\n      <td>No</td>\n      <td>No</td>\n      <td>2</td>\n      <td>Yes</td>\n      <td>No</td>\n      <td>DSL</td>\n      <td>Yes</td>\n      <td>Yes</td>\n      <td>No</td>\n      <td>No</td>\n      <td>No</td>\n      <td>No</td>\n      <td>Month-to-month</td>\n      <td>Yes</td>\n      <td>Mailed check</td>\n      <td>53.85</td>\n      <td>108.15</td>\n      <td>Yes</td>\n    </tr>\n    <tr>\n      <th>7795-CFOCW</th>\n      <td>Male</td>\n      <td>0</td>\n      <td>No</td>\n      <td>No</td>\n      <td>45</td>\n      <td>No</td>\n      <td>No phone service</td>\n      <td>DSL</td>\n      <td>Yes</td>\n      <td>No</td>\n      <td>Yes</td>\n      <td>Yes</td>\n      <td>No</td>\n      <td>No</td>\n      <td>One year</td>\n      <td>No</td>\n      <td>Bank transfer (automatic)</td>\n      <td>42.30</td>\n      <td>1840.75</td>\n      <td>No</td>\n    </tr>\n    <tr>\n      <th>9237-HQITU</th>\n      <td>Female</td>\n      <td>0</td>\n      <td>No</td>\n      <td>No</td>\n      <td>2</td>\n      <td>Yes</td>\n      <td>No</td>\n      <td>Fiber optic</td>\n      <td>No</td>\n      <td>No</td>\n      <td>No</td>\n      <td>No</td>\n      <td>No</td>\n      <td>No</td>\n      <td>Month-to-month</td>\n      <td>Yes</td>\n      <td>Electronic check</td>\n      <td>70.70</td>\n      <td>151.65</td>\n      <td>Yes</td>\n    </tr>\n  </tbody>\n</table>\n</div>"
     },
     "execution_count": 3,
     "metadata": {},
     "output_type": "execute_result"
    }
   ],
   "source": [
    "df.head()"
   ]
  },
  {
   "cell_type": "code",
   "execution_count": 4,
   "metadata": {
    "id": "o8mEIdRiin4w",
    "ExecuteTime": {
     "end_time": "2024-01-30T10:53:35.714404200Z",
     "start_time": "2024-01-30T10:53:35.683722200Z"
    }
   },
   "outputs": [],
   "source": [
    "# TotalCharges 가 수치 타입이 아니기 때문에 수치 연산을 위해 숫자 형태로 변경합니다.\n",
    "df[\"TotalCharges\"] = pd.to_numeric(df[\"TotalCharges\"], errors=\"coerce\")"
   ]
  },
  {
   "cell_type": "code",
   "outputs": [
    {
     "name": "stdout",
     "output_type": "stream",
     "text": [
      "<class 'pandas.core.frame.DataFrame'>\n",
      "Index: 7043 entries, 7590-VHVEG to 3186-AJIEK\n",
      "Data columns (total 20 columns):\n",
      " #   Column            Non-Null Count  Dtype  \n",
      "---  ------            --------------  -----  \n",
      " 0   gender            7043 non-null   object \n",
      " 1   SeniorCitizen     7043 non-null   int64  \n",
      " 2   Partner           7043 non-null   object \n",
      " 3   Dependents        7043 non-null   object \n",
      " 4   tenure            7043 non-null   int64  \n",
      " 5   PhoneService      7043 non-null   object \n",
      " 6   MultipleLines     7043 non-null   object \n",
      " 7   InternetService   7043 non-null   object \n",
      " 8   OnlineSecurity    7043 non-null   object \n",
      " 9   OnlineBackup      7043 non-null   object \n",
      " 10  DeviceProtection  7043 non-null   object \n",
      " 11  TechSupport       7043 non-null   object \n",
      " 12  StreamingTV       7043 non-null   object \n",
      " 13  StreamingMovies   7043 non-null   object \n",
      " 14  Contract          7043 non-null   object \n",
      " 15  PaperlessBilling  7043 non-null   object \n",
      " 16  PaymentMethod     7043 non-null   object \n",
      " 17  MonthlyCharges    7043 non-null   float64\n",
      " 18  TotalCharges      7032 non-null   float64\n",
      " 19  Churn             7043 non-null   object \n",
      "dtypes: float64(2), int64(2), object(16)\n",
      "memory usage: 1.1+ MB\n"
     ]
    }
   ],
   "source": [
    "df.info()"
   ],
   "metadata": {
    "colab": {
     "base_uri": "https://localhost:8080/"
    },
    "id": "bgAGKCpzxEk_",
    "outputId": "dac34fa9-382c-4f67-c242-b7847125746e",
    "ExecuteTime": {
     "end_time": "2024-01-30T10:53:35.717920400Z",
     "start_time": "2024-01-30T10:53:35.697316500Z"
    }
   },
   "execution_count": 5
  },
  {
   "cell_type": "code",
   "outputs": [
    {
     "data": {
      "text/plain": "gender               0\nSeniorCitizen        0\nPartner              0\nDependents           0\ntenure               0\nPhoneService         0\nMultipleLines        0\nInternetService      0\nOnlineSecurity       0\nOnlineBackup         0\nDeviceProtection     0\nTechSupport          0\nStreamingTV          0\nStreamingMovies      0\nContract             0\nPaperlessBilling     0\nPaymentMethod        0\nMonthlyCharges       0\nTotalCharges        11\nChurn                0\ndtype: int64"
     },
     "execution_count": 6,
     "metadata": {},
     "output_type": "execute_result"
    }
   ],
   "source": [
    "# TotalCharges 의 결측가 확인되므로 결측치를 카운트 합니다.\n",
    "df.isnull().sum()\n",
    "#TotalCharges에 11개의 결측치가 확인되었습니다."
   ],
   "metadata": {
    "colab": {
     "base_uri": "https://localhost:8080/"
    },
    "id": "PlYdlvxixEk_",
    "outputId": "4ff2b18a-fa6c-4aa1-fdad-55210673bb45",
    "ExecuteTime": {
     "end_time": "2024-01-30T10:53:35.835692300Z",
     "start_time": "2024-01-30T10:53:35.716911300Z"
    }
   },
   "execution_count": 6
  },
  {
   "cell_type": "code",
   "outputs": [
    {
     "data": {
      "text/plain": "            gender  SeniorCitizen  Partner  Dependents  tenure  PhoneService  \\\ncustomerID                                                                     \n7590-VHVEG   False          False    False       False   False         False   \n5575-GNVDE   False          False    False       False   False         False   \n3668-QPYBK   False          False    False       False   False         False   \n7795-CFOCW   False          False    False       False   False         False   \n9237-HQITU   False          False    False       False   False         False   \n...            ...            ...      ...         ...     ...           ...   \n6840-RESVB   False          False    False       False   False         False   \n2234-XADUH   False          False    False       False   False         False   \n4801-JZAZL   False          False    False       False   False         False   \n8361-LTMKD   False          False    False       False   False         False   \n3186-AJIEK   False          False    False       False   False         False   \n\n            MultipleLines  InternetService  OnlineSecurity  OnlineBackup  \\\ncustomerID                                                                 \n7590-VHVEG          False            False           False         False   \n5575-GNVDE          False            False           False         False   \n3668-QPYBK          False            False           False         False   \n7795-CFOCW          False            False           False         False   \n9237-HQITU          False            False           False         False   \n...                   ...              ...             ...           ...   \n6840-RESVB          False            False           False         False   \n2234-XADUH          False            False           False         False   \n4801-JZAZL          False            False           False         False   \n8361-LTMKD          False            False           False         False   \n3186-AJIEK          False            False           False         False   \n\n            DeviceProtection  TechSupport  StreamingTV  StreamingMovies  \\\ncustomerID                                                                \n7590-VHVEG             False        False        False            False   \n5575-GNVDE             False        False        False            False   \n3668-QPYBK             False        False        False            False   \n7795-CFOCW             False        False        False            False   \n9237-HQITU             False        False        False            False   \n...                      ...          ...          ...              ...   \n6840-RESVB             False        False        False            False   \n2234-XADUH             False        False        False            False   \n4801-JZAZL             False        False        False            False   \n8361-LTMKD             False        False        False            False   \n3186-AJIEK             False        False        False            False   \n\n            Contract  PaperlessBilling  PaymentMethod  MonthlyCharges  \\\ncustomerID                                                              \n7590-VHVEG     False             False          False           False   \n5575-GNVDE     False             False          False           False   \n3668-QPYBK     False             False          False           False   \n7795-CFOCW     False             False          False           False   \n9237-HQITU     False             False          False           False   \n...              ...               ...            ...             ...   \n6840-RESVB     False             False          False           False   \n2234-XADUH     False             False          False           False   \n4801-JZAZL     False             False          False           False   \n8361-LTMKD     False             False          False           False   \n3186-AJIEK     False             False          False           False   \n\n            TotalCharges  Churn  \ncustomerID                       \n7590-VHVEG         False  False  \n5575-GNVDE         False  False  \n3668-QPYBK         False  False  \n7795-CFOCW         False  False  \n9237-HQITU         False  False  \n...                  ...    ...  \n6840-RESVB         False  False  \n2234-XADUH         False  False  \n4801-JZAZL         False  False  \n8361-LTMKD         False  False  \n3186-AJIEK         False  False  \n\n[7043 rows x 20 columns]",
      "text/html": "<div>\n<style scoped>\n    .dataframe tbody tr th:only-of-type {\n        vertical-align: middle;\n    }\n\n    .dataframe tbody tr th {\n        vertical-align: top;\n    }\n\n    .dataframe thead th {\n        text-align: right;\n    }\n</style>\n<table border=\"1\" class=\"dataframe\">\n  <thead>\n    <tr style=\"text-align: right;\">\n      <th></th>\n      <th>gender</th>\n      <th>SeniorCitizen</th>\n      <th>Partner</th>\n      <th>Dependents</th>\n      <th>tenure</th>\n      <th>PhoneService</th>\n      <th>MultipleLines</th>\n      <th>InternetService</th>\n      <th>OnlineSecurity</th>\n      <th>OnlineBackup</th>\n      <th>DeviceProtection</th>\n      <th>TechSupport</th>\n      <th>StreamingTV</th>\n      <th>StreamingMovies</th>\n      <th>Contract</th>\n      <th>PaperlessBilling</th>\n      <th>PaymentMethod</th>\n      <th>MonthlyCharges</th>\n      <th>TotalCharges</th>\n      <th>Churn</th>\n    </tr>\n    <tr>\n      <th>customerID</th>\n      <th></th>\n      <th></th>\n      <th></th>\n      <th></th>\n      <th></th>\n      <th></th>\n      <th></th>\n      <th></th>\n      <th></th>\n      <th></th>\n      <th></th>\n      <th></th>\n      <th></th>\n      <th></th>\n      <th></th>\n      <th></th>\n      <th></th>\n      <th></th>\n      <th></th>\n      <th></th>\n    </tr>\n  </thead>\n  <tbody>\n    <tr>\n      <th>7590-VHVEG</th>\n      <td>False</td>\n      <td>False</td>\n      <td>False</td>\n      <td>False</td>\n      <td>False</td>\n      <td>False</td>\n      <td>False</td>\n      <td>False</td>\n      <td>False</td>\n      <td>False</td>\n      <td>False</td>\n      <td>False</td>\n      <td>False</td>\n      <td>False</td>\n      <td>False</td>\n      <td>False</td>\n      <td>False</td>\n      <td>False</td>\n      <td>False</td>\n      <td>False</td>\n    </tr>\n    <tr>\n      <th>5575-GNVDE</th>\n      <td>False</td>\n      <td>False</td>\n      <td>False</td>\n      <td>False</td>\n      <td>False</td>\n      <td>False</td>\n      <td>False</td>\n      <td>False</td>\n      <td>False</td>\n      <td>False</td>\n      <td>False</td>\n      <td>False</td>\n      <td>False</td>\n      <td>False</td>\n      <td>False</td>\n      <td>False</td>\n      <td>False</td>\n      <td>False</td>\n      <td>False</td>\n      <td>False</td>\n    </tr>\n    <tr>\n      <th>3668-QPYBK</th>\n      <td>False</td>\n      <td>False</td>\n      <td>False</td>\n      <td>False</td>\n      <td>False</td>\n      <td>False</td>\n      <td>False</td>\n      <td>False</td>\n      <td>False</td>\n      <td>False</td>\n      <td>False</td>\n      <td>False</td>\n      <td>False</td>\n      <td>False</td>\n      <td>False</td>\n      <td>False</td>\n      <td>False</td>\n      <td>False</td>\n      <td>False</td>\n      <td>False</td>\n    </tr>\n    <tr>\n      <th>7795-CFOCW</th>\n      <td>False</td>\n      <td>False</td>\n      <td>False</td>\n      <td>False</td>\n      <td>False</td>\n      <td>False</td>\n      <td>False</td>\n      <td>False</td>\n      <td>False</td>\n      <td>False</td>\n      <td>False</td>\n      <td>False</td>\n      <td>False</td>\n      <td>False</td>\n      <td>False</td>\n      <td>False</td>\n      <td>False</td>\n      <td>False</td>\n      <td>False</td>\n      <td>False</td>\n    </tr>\n    <tr>\n      <th>9237-HQITU</th>\n      <td>False</td>\n      <td>False</td>\n      <td>False</td>\n      <td>False</td>\n      <td>False</td>\n      <td>False</td>\n      <td>False</td>\n      <td>False</td>\n      <td>False</td>\n      <td>False</td>\n      <td>False</td>\n      <td>False</td>\n      <td>False</td>\n      <td>False</td>\n      <td>False</td>\n      <td>False</td>\n      <td>False</td>\n      <td>False</td>\n      <td>False</td>\n      <td>False</td>\n    </tr>\n    <tr>\n      <th>...</th>\n      <td>...</td>\n      <td>...</td>\n      <td>...</td>\n      <td>...</td>\n      <td>...</td>\n      <td>...</td>\n      <td>...</td>\n      <td>...</td>\n      <td>...</td>\n      <td>...</td>\n      <td>...</td>\n      <td>...</td>\n      <td>...</td>\n      <td>...</td>\n      <td>...</td>\n      <td>...</td>\n      <td>...</td>\n      <td>...</td>\n      <td>...</td>\n      <td>...</td>\n    </tr>\n    <tr>\n      <th>6840-RESVB</th>\n      <td>False</td>\n      <td>False</td>\n      <td>False</td>\n      <td>False</td>\n      <td>False</td>\n      <td>False</td>\n      <td>False</td>\n      <td>False</td>\n      <td>False</td>\n      <td>False</td>\n      <td>False</td>\n      <td>False</td>\n      <td>False</td>\n      <td>False</td>\n      <td>False</td>\n      <td>False</td>\n      <td>False</td>\n      <td>False</td>\n      <td>False</td>\n      <td>False</td>\n    </tr>\n    <tr>\n      <th>2234-XADUH</th>\n      <td>False</td>\n      <td>False</td>\n      <td>False</td>\n      <td>False</td>\n      <td>False</td>\n      <td>False</td>\n      <td>False</td>\n      <td>False</td>\n      <td>False</td>\n      <td>False</td>\n      <td>False</td>\n      <td>False</td>\n      <td>False</td>\n      <td>False</td>\n      <td>False</td>\n      <td>False</td>\n      <td>False</td>\n      <td>False</td>\n      <td>False</td>\n      <td>False</td>\n    </tr>\n    <tr>\n      <th>4801-JZAZL</th>\n      <td>False</td>\n      <td>False</td>\n      <td>False</td>\n      <td>False</td>\n      <td>False</td>\n      <td>False</td>\n      <td>False</td>\n      <td>False</td>\n      <td>False</td>\n      <td>False</td>\n      <td>False</td>\n      <td>False</td>\n      <td>False</td>\n      <td>False</td>\n      <td>False</td>\n      <td>False</td>\n      <td>False</td>\n      <td>False</td>\n      <td>False</td>\n      <td>False</td>\n    </tr>\n    <tr>\n      <th>8361-LTMKD</th>\n      <td>False</td>\n      <td>False</td>\n      <td>False</td>\n      <td>False</td>\n      <td>False</td>\n      <td>False</td>\n      <td>False</td>\n      <td>False</td>\n      <td>False</td>\n      <td>False</td>\n      <td>False</td>\n      <td>False</td>\n      <td>False</td>\n      <td>False</td>\n      <td>False</td>\n      <td>False</td>\n      <td>False</td>\n      <td>False</td>\n      <td>False</td>\n      <td>False</td>\n    </tr>\n    <tr>\n      <th>3186-AJIEK</th>\n      <td>False</td>\n      <td>False</td>\n      <td>False</td>\n      <td>False</td>\n      <td>False</td>\n      <td>False</td>\n      <td>False</td>\n      <td>False</td>\n      <td>False</td>\n      <td>False</td>\n      <td>False</td>\n      <td>False</td>\n      <td>False</td>\n      <td>False</td>\n      <td>False</td>\n      <td>False</td>\n      <td>False</td>\n      <td>False</td>\n      <td>False</td>\n      <td>False</td>\n    </tr>\n  </tbody>\n</table>\n<p>7043 rows × 20 columns</p>\n</div>"
     },
     "execution_count": 7,
     "metadata": {},
     "output_type": "execute_result"
    }
   ],
   "source": [
    "# TotalCharges 의 결측치를 따로 저장합니다.\n",
    "df_null = df.isnull()\n",
    "df_null"
   ],
   "metadata": {
    "colab": {
     "base_uri": "https://localhost:8080/",
     "height": 596
    },
    "id": "B2aQX2BUxEk_",
    "outputId": "fdaabd2f-76f7-4dc1-bb94-1382a990dadb",
    "ExecuteTime": {
     "end_time": "2024-01-30T10:53:35.929251700Z",
     "start_time": "2024-01-30T10:53:35.728952400Z"
    }
   },
   "execution_count": 7
  },
  {
   "cell_type": "code",
   "outputs": [
    {
     "ename": "ModuleNotFoundError",
     "evalue": "No module named 'missingno'",
     "output_type": "error",
     "traceback": [
      "\u001B[1;31m---------------------------------------------------------------------------\u001B[0m",
      "\u001B[1;31mModuleNotFoundError\u001B[0m                       Traceback (most recent call last)",
      "Cell \u001B[1;32mIn[9], line 2\u001B[0m\n\u001B[0;32m      1\u001B[0m \u001B[38;5;66;03m#결측치 시각화\u001B[39;00m\n\u001B[1;32m----> 2\u001B[0m \u001B[38;5;28;01mimport\u001B[39;00m \u001B[38;5;21;01mmissingno\u001B[39;00m \u001B[38;5;28;01mas\u001B[39;00m \u001B[38;5;21;01mmsno\u001B[39;00m\n\u001B[0;32m      3\u001B[0m fig, ax \u001B[38;5;241m=\u001B[39m plt\u001B[38;5;241m.\u001B[39msubplots(figsize\u001B[38;5;241m=\u001B[39m(\u001B[38;5;241m8\u001B[39m, \u001B[38;5;241m30\u001B[39m))  \u001B[38;5;66;03m# 가로 6, 세로 4 크기의 그래프\u001B[39;00m\n\u001B[0;32m      4\u001B[0m msno\u001B[38;5;241m.\u001B[39mmatrix(df\u001B[38;5;241m=\u001B[39mdf\u001B[38;5;241m.\u001B[39miloc[:, :], color\u001B[38;5;241m=\u001B[39m(\u001B[38;5;241m0.5\u001B[39m, \u001B[38;5;241m0.5\u001B[39m, \u001B[38;5;241m0.5\u001B[39m), ax\u001B[38;5;241m=\u001B[39max)\n",
      "\u001B[1;31mModuleNotFoundError\u001B[0m: No module named 'missingno'"
     ]
    }
   ],
   "source": [
    "#결측치 시각화\n",
    "import missingno as msno\n",
    "fig, ax = plt.subplots(figsize=(8, 30))  # 가로 6, 세로 4 크기의 그래프\n",
    "msno.matrix(df=df.iloc[:, :], color=(0.5, 0.5, 0.5), ax=ax)"
   ],
   "metadata": {
    "colab": {
     "base_uri": "https://localhost:8080/",
     "height": 1000
    },
    "id": "BKynuM8FxEk_",
    "outputId": "4f8eef90-913c-4508-f858-ebb5b333ed8a",
    "ExecuteTime": {
     "end_time": "2024-01-30T10:53:41.971524200Z",
     "start_time": "2024-01-30T10:53:41.939273200Z"
    }
   },
   "execution_count": 9
  },
  {
   "cell_type": "code",
   "outputs": [],
   "source": [
    "# 결측치 처리\n",
    "# monthlyCharges가 0이 아니므로 TotalCharges를 0으로 채워도 데이타의 왜곡이 발생한다고 판단되어(\n",
    "# tenure(기간) * monthlyCharges(월별 요금)로 총 요금을 계산하여 결측치를 채워줍니다.\n",
    "\n",
    "df[\"TotalCharges\"] = df[\"TotalCharges\"].fillna(df[\"MonthlyCharges\"] * df[\"tenure\"])"
   ],
   "metadata": {
    "id": "PEsVtpM6xElA",
    "ExecuteTime": {
     "start_time": "2024-01-30T10:53:36.661592700Z"
    }
   },
   "execution_count": null
  },
  {
   "cell_type": "code",
   "outputs": [],
   "source": [
    "# 결측치 재확인\n",
    "df.isnull().sum()"
   ],
   "metadata": {
    "colab": {
     "base_uri": "https://localhost:8080/"
    },
    "id": "7F0rrsVIxElA",
    "outputId": "a779635a-9767-4e03-b735-1b1e2e4356e8",
    "ExecuteTime": {
     "start_time": "2024-01-30T10:53:36.663803400Z"
    }
   },
   "execution_count": null
  },
  {
   "cell_type": "code",
   "outputs": [],
   "source": [
    "df.info()"
   ],
   "metadata": {
    "colab": {
     "base_uri": "https://localhost:8080/"
    },
    "id": "e0mhGKCyxElA",
    "outputId": "76b149d8-adb9-4c02-afba-1103b4afece3",
    "ExecuteTime": {
     "start_time": "2024-01-30T10:53:36.664804500Z"
    }
   },
   "execution_count": null
  },
  {
   "cell_type": "code",
   "source": [
    "# 히스토그램으로 데이터 분포확인\n",
    "df.hist(bins=50, figsize=(10, 10))"
   ],
   "metadata": {
    "colab": {
     "base_uri": "https://localhost:8080/",
     "height": 926
    },
    "id": "HBcQJuN7a7Mx",
    "outputId": "270fe797-cbf7-4110-b98a-c12275ac71b6",
    "ExecuteTime": {
     "start_time": "2024-01-30T10:53:36.666803600Z"
    }
   },
   "execution_count": null,
   "outputs": []
  },
  {
   "cell_type": "markdown",
   "source": [
    "# 데이터 분포분석\n",
    "- 머신러닝을 시도할때는 데이터의 분포를 정규분포로 만들어주는것이 좋습니다.\n",
    "- 데이터의 분포를 확인해보니 TotalCharges(총 요금)이 왼쪽으로 치우쳐져 있습니다.\n",
    "- 이를 정규분포로 만들어주기 위해 로그변환을 해주는것을 고려해야할듯 합니다."
   ],
   "metadata": {
    "id": "PcU0gawIbDHG"
   }
  },
  {
   "cell_type": "markdown",
   "metadata": {
    "id": "lJVg2ov7in4w"
   },
   "source": [
    "## 📌 미션 1)  -  전체 수치 변수를 정답인 이탈 여부로 시각화하고 분석하기\n",
    "데이터셋의 모든 수치형 변수를 이탈 여부에 따라 시각화하고 수치 구간에 따라 이탈률의 차이에 대해 분석해 주세요.\n",
    "아래 이미지는 참고용으로 아래 이미지와 똑같이 시각화하지 않아도 됩니다. 이탈 여부를 잘 분석할 수 있는 시각화라면 어떤 시각화든 좋습니다.\n",
    "\n",
    "<img src=\"https://i.imgur.com/oCQ9D0l.png\">"
   ]
  },
  {
   "cell_type": "markdown",
   "source": [
    "✅⚡시각화와 분석하기\n",
    "- 시각화의 목적은 인지의 다양성을 찾아, 다양한 인사이트를 찾기 위해서이므로 다양한 시각화로 각기 다른 인사이트를 찾기위해 다양한 시각화를 시도해본다\n",
    "- 이에  따라서 그래프의 종류에 따라 다른 분석을 추구해봅니다.\n"
   ],
   "metadata": {
    "id": "Kqrv67dQTtGp"
   }
  },
  {
   "cell_type": "code",
   "execution_count": null,
   "metadata": {
    "id": "qliFpNViin4w",
    "colab": {
     "base_uri": "https://localhost:8080/"
    },
    "outputId": "ee6df3c3-55ea-4f30-8614-f7b57c3e0e34",
    "ExecuteTime": {
     "start_time": "2024-01-30T10:53:36.667894500Z"
    }
   },
   "outputs": [],
   "source": [
    "# 위 예시처럼 수치 변수에 대한 히스토그램을 정답값으로 색상을 다르게 하여 히스토그램으로 시각화 해주세요.\n",
    "df_chrun_yes = df[df[\"Churn\"] == \"Yes\"]\n",
    "df_churn_no = df[df[\"Churn\"] == \"No\"]\n",
    "df_chrun_yes.shape, df_churn_no.shape"
   ]
  },
  {
   "cell_type": "code",
   "outputs": [],
   "source": [
    "# 수치형 변수를 시각화 해주세요.\n",
    "numeric_cols = ['SeniorCitizen','tenure','MonthlyCharges', 'TotalCharges']\n",
    "fig, axes = plt.subplots(1, 4, figsize=(20, 5))\n",
    "for idx, col in enumerate(numeric_cols[:]):\n",
    "    axes[idx].set_title(col + ' Churn Whether')\n",
    "    sns.histplot(df_chrun_yes[numeric_cols[idx]],ax=axes[idx])\n",
    "    sns.histplot(df_churn_no[numeric_cols[idx]],ax=axes[idx])\n",
    "    axes[idx].grid()\n",
    "plt.tight_layout()"
   ],
   "metadata": {
    "colab": {
     "base_uri": "https://localhost:8080/",
     "height": 459
    },
    "id": "9a1yamnfxElB",
    "outputId": "295f8d64-466c-4545-bdf3-45793c37ff65",
    "ExecuteTime": {
     "start_time": "2024-01-30T10:53:36.669901900Z"
    }
   },
   "execution_count": null
  },
  {
   "cell_type": "markdown",
   "source": [
    "## 히스토그램으로 분석\n",
    "\n",
    "- 시니어(노년계층)의 경우 이탈율과 유지율이 비슷한 수준입니다만 비노년층은 이탈율이 높습니다.\n",
    "- 이탈자의 경우에는 초기에 이탈하는 비율이 상당히 높습니다. 이것은 초기유저를 충분히 잡아두지 못하는 서비스의 특징을 보여줍니다. 비 이탈자의 경우에는 장기유저의 비율이 높습니다. 초기서비스는 약한 반면, 장기이용자를 위한 서비스는 긍정적이라는 근거가 될수있습니다.\n",
    "- 이탈자의 경우 월별 금액이 65~ 100달러 사이에 많이 분포됩니다. 이정도 금액의 범주에서 금액적 부담을 많이 느낀다고 보여집니다. 비이탈자는 월별 금액이 20달러에 많이 분포되어있습니다. 이로인해 이탈의 이유가 금액의 부담일 가능성이 높아 보입니다.\n",
    "- 이탈자의 경우 주로 초기이탈을 하기때문에 총비용은 적은 편입니다. 비 이탈자는 총비용이 적은 경우도 많은데 이것은 금액의 부담이 적어서 장기유지를 하고있다고 보여집니다.\n"
   ],
   "metadata": {
    "id": "WpI_UXT5Tq3q"
   }
  },
  {
   "cell_type": "markdown",
   "source": [
    "## 바이올린 플롯으로 시각화 해보겠습니다."
   ],
   "metadata": {
    "collapsed": false,
    "id": "MNYFFFHRxElB"
   }
  },
  {
   "cell_type": "code",
   "outputs": [],
   "source": [
    "# 바이올린 플롯에 알파값을 주어 좀더 명확하게 비교되도록 구성해봅니다.\n",
    "numeric_cols = ['SeniorCitizen','tenure','MonthlyCharges', 'TotalCharges']\n",
    "fig, axes = plt.subplots(1, 4, figsize=(20, 5))\n",
    "for idx, col in enumerate(numeric_cols[:]):\n",
    "    axes[idx].set_title(col + ' Churn Whether')\n",
    "    sns.violinplot(df_churn_no[numeric_cols[idx]],ax=axes[idx],color='skyblue',alpha=0.7)\n",
    "    sns.violinplot(df_chrun_yes[numeric_cols[idx]],ax=axes[idx],color='orange', alpha=0.5)\n",
    "    axes[idx].grid()\n",
    "plt.tight_layout()"
   ],
   "metadata": {
    "colab": {
     "base_uri": "https://localhost:8080/",
     "height": 459
    },
    "id": "HzSLCExLxElC",
    "outputId": "4fe6b3b1-2ef2-4fb0-8dba-948e49932c89",
    "ExecuteTime": {
     "start_time": "2024-01-30T10:53:36.671900500Z"
    }
   },
   "execution_count": null
  },
  {
   "cell_type": "markdown",
   "source": [
    "## 바이올린 플롯으로 분석\n",
    "* 이탈 여부는 SeniorCitizen(노인여부)는 큰 차이가 없어 보입니다만 이탈한 고객들은 비노년층이 좀더 많습니다.\n",
    "*  tenure(기간)는 이탈하지 않은 고객들이 70개월 이상의 기간을 상당수 가지고 있습니다.\n",
    "하지만, 이탈자의 경우에는 20개월 미만이 압도적으로 많습니다.\n",
    "* MonthlyCharges(월별 요금)는 이탈하지 않은 고객들이 20달러 이상 100달러 이하의 요금을 상당수 가지고 있습니다.\n",
    "이탈자의 경우에는 40달러 이하에 많이 분포하고 40달러와 120달러사이에도 고르게 분포되어 있습니다.\n",
    "* TotalCharges(총 요금)는 이탈하지 않은 고객들이 2000달러 이상의 요금에도 많이 분포되어있지만 이탈자와 비이탈자 모두 2000달러 이하에 상당수 분포되어있습니다."
   ],
   "metadata": {
    "collapsed": false,
    "id": "l6iOx3-KxElC"
   }
  },
  {
   "cell_type": "code",
   "outputs": [],
   "source": [
    "# 숫자형데이타에서 이상치등 탐색을 위해 boxplot으로 표현해봅니다.\n",
    "numeric_cols = ['tenure','MonthlyCharges', 'TotalCharges']\n",
    "fig, axes = plt.subplots(1, 3, figsize=(20, 5))\n",
    "for idx, col in enumerate(numeric_cols[:]):\n",
    "    axes[idx].set_title(col + ' Churn Whether')\n",
    "    sns.boxplot(data = df, x = 'Churn', y = col, ax=axes[idx],hue='Churn')\n",
    "    axes[idx].grid()"
   ],
   "metadata": {
    "colab": {
     "base_uri": "https://localhost:8080/",
     "height": 487
    },
    "id": "OJIdWPrKxElC",
    "outputId": "3d6cc9ab-8a60-4a6c-f8fe-2fd8ea78c253",
    "ExecuteTime": {
     "start_time": "2024-01-30T10:53:36.673407Z"
    }
   },
   "execution_count": null
  },
  {
   "cell_type": "markdown",
   "source": [
    "## 박스 플롯으로 분석\n",
    "- 이탈인 경우 기간의 중앙값은 10개월 정도이고 비이탈은 40개월 미만에 있다\n",
    "- 이탈의 경우 70개월이 넘는 값들이 있으므로 이상치인지 살펴볼 필요성이 있다\n",
    "- 이탈의 경우 Total Charges가 6000을 넘는경우가 꽤있으므로 이상치인지 살펴볼 필요성이 있어보이지만 이것이 tenure의 높은수치와 일치하는것인지도 확인할 필요성이 있어보인다."
   ],
   "metadata": {
    "id": "KKP2opzxxprM"
   }
  },
  {
   "cell_type": "markdown",
   "metadata": {
    "id": "3ocmg5eZin4w"
   },
   "source": [
    "## 📌 미션 2)\n",
    "* 범주형 변수가 타겟 변수에 어떤 영향을 미치는지 이해함으로써, 해당 변수의 중요성을 파악할 수 있습니다. 이는 피처 선택 과정에서 중요한 지표가 됩니다. 범주형 변수와 정답 값 간의 관계를 분석함으로써 비즈니스 의사결정, 데이터 전략 수립, 모델 설계에 활용할 수 있습니다. 범주형 변수가 타겟 변수와 강한 관계를 보일 경우, 이는 모델의 예측 성능을 향상시킬 수 있는 중요한 피처임을 알아볼 수 있습니다. 범주형 변수와 정답 값 간의 비교를 통해 예상치 못한 패턴이나 이상치를 발견할 수 있습니다. 이는 데이터 전처리 과정에서 문제점을 해결하고 데이터의 품질을 개선하는 데 도움이 됩니다.\n",
    "* 주요 범주형 변수와 타겟값인 이탈여부를 분석하는 시각화를 진행하고 그 과정에서 알게된 점을 정리해 주세요.\n",
    "\n",
    "<img src=\"https://i.imgur.com/Q1KpQpP.png\" width=\"500\">"
   ]
  },
  {
   "cell_type": "code",
   "outputs": [],
   "source": [],
   "metadata": {
    "id": "8L8lEY2_xElD",
    "ExecuteTime": {
     "start_time": "2024-01-30T10:53:36.675617200Z"
    }
   },
   "execution_count": null
  },
  {
   "cell_type": "code",
   "execution_count": null,
   "metadata": {
    "id": "9xKCgzamin4w",
    "colab": {
     "base_uri": "https://localhost:8080/"
    },
    "outputId": "42c582f4-dd42-46b3-eb1f-22f796d3bc3b",
    "ExecuteTime": {
     "start_time": "2024-01-30T10:53:36.677675700Z"
    }
   },
   "outputs": [],
   "source": [
    "nunique = df.nunique()\n",
    "category_col = nunique[nunique < 5]\n",
    "category_col"
   ]
  },
  {
   "cell_type": "code",
   "execution_count": null,
   "metadata": {
    "scrolled": false,
    "id": "45ZMBObOin4x",
    "colab": {
     "base_uri": "https://localhost:8080/"
    },
    "outputId": "bca95406-7690-4e88-aa7a-61c97992fd9d",
    "ExecuteTime": {
     "start_time": "2024-01-30T10:53:36.678718800Z"
    }
   },
   "outputs": [],
   "source": [
    "# 다음의 코드를 실행하면 범주형 변수를 볼 수 있습니다.\n",
    "# 위 예시처럼 시각화를 여기에 구현해 주세요.\n",
    "category_col_name = category_col.index.tolist()\n",
    "category_col_name"
   ]
  },
  {
   "cell_type": "code",
   "source": [
    "fig, axes = plt.subplots(nrows=4,ncols=4,figsize=(20,15))\n",
    "category_list = category_col_name[:-1]\n",
    "\n",
    "for i in range(len(category_col_name)-1):\n",
    "  row = i // 4\n",
    "  col = i % 4\n",
    "  sns.countplot(x=df[category_list[i]], data=df, hue='Churn', ax=axes[row][col])\n",
    "  plt.xticks(rotation=60)\n",
    "\n",
    "plt.show()"
   ],
   "metadata": {
    "colab": {
     "base_uri": "https://localhost:8080/",
     "height": 1000
    },
    "id": "jPyMk1Z21bVV",
    "outputId": "379f9a8c-1982-4c8b-e32d-2ad060672cbe",
    "ExecuteTime": {
     "start_time": "2024-01-30T10:53:36.679725600Z"
    }
   },
   "execution_count": null,
   "outputs": []
  },
  {
   "cell_type": "markdown",
   "source": [
    "## 그래프 분석\n",
    "- 이탈율은 성별에 의해서 큰 차이가 나타나지 않습니다.\n",
    "즉 성별에 따른 서비스의 차이로 인한 문제는 두드러지지 않는다고 보입니다.\n",
    "- (이탈율은 -이하생략)노인층이 아닌 고객들이 더 많이 나타납니다.\n",
    "노인을 위한 서비스가 잘 마련되어있거나, 또는 노년층의 갈아타지 않는 성향이 반영된 것으로 보입니다.\n",
    "- 배우자가 없는 고객들이 이탈율이 더 많이 나타납니다. 즉 배우자와 동일한 서비스를 이용할때의 혜택등으로 배우자의 연계효과가 크다는 것을 추측할수있습니다.\n",
    "\n",
    "- 부양가족이 없는 고객들이 더 많이 나타납니다.\n",
    "부양가족또한 가족연계 서비스의 효과가 있다는것을 추측할수있습니다.\n",
    "- 인터넷 서비스를 사용하지 않는 고객들이 더 많이 나타납니다\n",
    "- 보안 서비스를 사용하지 않는 고객들이 더 많이 나타납니다.\n",
    "- 백업 서비스를 사용하지 않는 고객들이 더 많이 나타납니다.\n",
    "- 기술 지원 서비스를 사용하지 않는 고객들이 더 많이 나타납니다.\n",
    "- 스트리밍 TV 서비스를 사용하지 않는 고객들이 더 많이 나타납니다.\n",
    "- 이스트리밍 영화 서비스를 사용하지 않는 고객들이 더 많이 나타납니다.\n",
    " -  여러가지 부가적인 서비스를 이용할 경우 고객이탈을 막는 효과가 크기때문에 고객유치에서 부가서비스를 적극 가입하도록 하는것이 사업에 유리하다는것을 알수있습니다.\n",
    "\n",
    "- 계약기간이 짧은 고객들이 더 많이 나타납니다.\n",
    " - 계약기간또한 충성도에 매우 큰 영향을 줍니다.\n",
    "- 종이없는 청구서를 사용하는 고객들이 더 많이 나타납니다.\n",
    "- 전자 수표를 사용하는 고객들이 더 많이 나타납니다.\n",
    "\n"
   ],
   "metadata": {
    "id": "y9xPWn4F3C0n"
   }
  },
  {
   "cell_type": "markdown",
   "metadata": {
    "id": "n6qrSEexin4x"
   },
   "source": [
    "## 미션 3 - 수치변수 간의 관계를 파악하기 위해 그래프를 시각화 하고 상관계수를 구해주세요.\n",
    "\n",
    "\n",
    "상관계수를 통해 변수들 간의 선형적 관계를 파악합니다. 높은 상관관계를 보이는 변수들을 식별하여, 중복되거나 불필요한 특징을 제거함으로써 모델의 성능을 최적화할 수 있습니다. 강한 상관관계를 가진 변수들을 식별하여, 다중공선성 문제를 방지합니다. 상관 행렬을 시각화하여 데이터의 패턴과 특성을 더 잘 이해하고, 피처엔지니어링에 어떻게 활용할지 시각화 결과를 해석해 보세요. 또, 아래 예시와 똑같이 구해도 되지만 다른 변수를 추가하거나 여러분만의 인사이트를 추가해서 구해도 좋습니다.\n",
    "\n",
    "\n",
    "|                |   SeniorCitizen |    tenure |   MonthlyCharges |\n",
    "|:---------------|----------------:|----------:|-----------------:|\n",
    "| SeniorCitizen  |       1         | 0.0165669 |         0.220173 |\n",
    "| tenure         |       0.0165669 | 1         |         0.2479   |\n",
    "| MonthlyCharges |       0.220173  | 0.2479    |         1        |\n",
    "\n",
    "\n",
    "\n",
    "\n",
    "<table>\n",
    "    <tr>\n",
    "        <td><img src=\"https://i.imgur.com/RTfJDJN.png\" width=\"300\"></td>\n",
    "        <td><img src=\"https://i.imgur.com/41Y04lj.png\" width=\"300\"></td>\n",
    "    </tr>\n",
    "</table>"
   ]
  },
  {
   "cell_type": "code",
   "execution_count": null,
   "metadata": {
    "id": "J1Ge0UQRin4x",
    "colab": {
     "base_uri": "https://localhost:8080/",
     "height": 248
    },
    "outputId": "e2ccd595-f576-41a9-8242-6dc58ae5cbbe",
    "ExecuteTime": {
     "start_time": "2024-01-30T10:53:36.680736900Z"
    }
   },
   "outputs": [],
   "source": [
    "# 여기에 상관계수를 구하고 heatmap 으로 시각화 해주세요.\n",
    "df_corr=df[['SeniorCitizen','tenure','MonthlyCharges','TotalCharges']].corr()\n",
    "df_corr.style.background_gradient()"
   ]
  },
  {
   "cell_type": "code",
   "source": [
    "plt.figure(figsize = (15,8))\n",
    "sns.heatmap(df_corr,vmax =1 ,vmin= -1, annot= True)"
   ],
   "metadata": {
    "colab": {
     "base_uri": "https://localhost:8080/",
     "height": 700
    },
    "id": "Ik38VT1G-FAP",
    "outputId": "c6333ef6-860d-409b-ee5b-fcb9a6b168fd",
    "ExecuteTime": {
     "start_time": "2024-01-30T10:53:36.681743900Z"
    }
   },
   "execution_count": null,
   "outputs": []
  },
  {
   "cell_type": "markdown",
   "source": [
    "## 상관계수 분석\n",
    "- 상관계수는 0.2이상이면 상관관계가 있다고 보는것이 일반적입니다.\n",
    "- 상관계수를 보면 SeniorCitizen(노인여부)와 MonthlyCharges(월별요금)이 0.22로 약한 상관관계를 보입니다.\n",
    "- tenure(기간)와 MonthlyCharges(월별요금)이 0.25로 약한 상관관계를 보입니다.\n",
    "- tenure(기간)와 TotalCharges(총요금)이 0.83로 강한 상관관계를 보입니다.\n",
    "- MonthlyCharges(월별요금)와 TotalCharges(총요금)이 0.65로 강한 상관관계를 보입니다.\n",
    "- 강한 상관관계를 보이는 변수들은 다중공선성 문제를 야기할수있으므로 이를 해결하기위해 변수를 제거하거나 PCA를 통해 차원축소를 해야합니다.\n",
    "- \n",
    "- 노인여부와 월별요금은 약한 상관관계를 보이므로 노인여부를 제거하거나 월별요금을 제거하거나 PCA를 통해 차원축소를 해야합니다.\n",
    "- 기간과 월별요금은 약한 상관관계를 보이므로 기간을 제거하거나 월별요금을 제거하거나 PCA를 통해 차원축소를 해야합니다.\n",
    "- 기간과 총요금은 강한 상관관계를 보이므로 기간을 제거하거나 총요금을 제거하거나 PCA를 통해 차원축소를 해야합니다.\n",
    "- 월별요금과 총요금은 강한 상관관계를 보이므로 월별요금을 제거하거나 총요금을 제거하거나 PCA를 통해 차원축소를 해야합니다."
   ],
   "metadata": {
    "collapsed": false
   }
  },
  {
   "cell_type": "markdown",
   "source": [],
   "metadata": {
    "id": "FrSqwyUVrmGJ"
   }
  },
  {
   "cell_type": "code",
   "execution_count": null,
   "metadata": {
    "id": "8blYoX-min4x",
    "colab": {
     "base_uri": "https://localhost:8080/",
     "height": 1000
    },
    "outputId": "f2859a60-5143-4330-cc5a-d2951247f72c",
    "ExecuteTime": {
     "start_time": "2024-01-30T10:53:36.682755200Z"
    }
   },
   "outputs": [],
   "source": [
    "# seaborn 의 pairplot 으로 이탈여부(Churn)에 따라 시각화 해주세요.\n",
    "sns.pairplot(data=df,hue='Churn')"
   ]
  },
  {
   "cell_type": "code",
   "execution_count": null,
   "metadata": {
    "id": "S1FtpC8jin4y",
    "ExecuteTime": {
     "start_time": "2024-01-30T10:53:36.683762300Z"
    }
   },
   "outputs": [],
   "source": []
  }
 ],
 "metadata": {
  "kernelspec": {
   "display_name": "Python 3 (ipykernel)",
   "language": "python",
   "name": "python3"
  },
  "language_info": {
   "codemirror_mode": {
    "name": "ipython",
    "version": 3
   },
   "file_extension": ".py",
   "mimetype": "text/x-python",
   "name": "python",
   "nbconvert_exporter": "python",
   "pygments_lexer": "ipython3",
   "version": "3.11.4"
  },
  "toc": {
   "base_numbering": 1,
   "nav_menu": {},
   "number_sections": false,
   "sideBar": true,
   "skip_h1_title": false,
   "title_cell": "Table of Contents",
   "title_sidebar": "Contents",
   "toc_cell": false,
   "toc_position": {},
   "toc_section_display": true,
   "toc_window_display": false
  },
  "varInspector": {
   "cols": {
    "lenName": 16,
    "lenType": 16,
    "lenVar": 40
   },
   "kernels_config": {
    "python": {
     "delete_cmd_postfix": "",
     "delete_cmd_prefix": "del ",
     "library": "var_list.py",
     "varRefreshCmd": "print(var_dic_list())"
    },
    "r": {
     "delete_cmd_postfix": ") ",
     "delete_cmd_prefix": "rm(",
     "library": "var_list.r",
     "varRefreshCmd": "cat(var_dic_list()) "
    }
   },
   "types_to_exclude": [
    "module",
    "function",
    "builtin_function_or_method",
    "instance",
    "_Feature"
   ],
   "window_display": false
  },
  "colab": {
   "provenance": []
  }
 },
 "nbformat": 4,
 "nbformat_minor": 0
}
