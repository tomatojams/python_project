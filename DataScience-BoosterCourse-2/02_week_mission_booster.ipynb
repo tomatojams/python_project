{
 "cells": [
  {
   "cell_type": "markdown",
   "metadata": {
    "id": "bvAsiIXfin4r"
   },
   "source": [
    "## 2주차 미션 소개 - EDA를 통한 머신러닝에 영향을 미치는 주요 변수 확인하기\n",
    "\n",
    "* EDA 를 통해 어떤 피처가 이탈에 영향을 미치는지 확인하고 피처를 변경해서 모델의 성능 개선해 보기\n",
    "* EDA는 데이터의 구조, 패턴, 이상치, 변수 간 관계 등을 파악하는 데 도움을 줍니다. 모델링 전 데이터에 대한 이해를 가능하게 합니다. 고객 이탈에 영향을 미치는 중요 변수를 식별함으로써, 더 효과적인 피처 선택을 할 수 있습니다. 불필요하거나 적절하지 않은 피처를 제거함으로써, 모델이 특정 데이터에 과적합되는 것을 방지할 수 있습니다. EDA과정은 모델의 복잡성을 줄이고, 성능을 개선하기 위한 피처엔지니어링 전략을 세우는데 중요합니다.\n",
    "\n",
    "* 미션 데이터셋 소개\n",
    "    * 해당 Kaggle 데이터셋( https://www.kaggle.com/blastchar/telco-customer-churn )은 통신사 고객 이탈(Churn)에 대한 정보를 담고 있습니다. IBM에서 제공한 이 데이터셋은 고객 유지에 필요한 행동을 예측하는 데 사용될 수 있으며, 고객 데이터를 분석하여 고객 유지 프로그램을 개발하는 데 도움이 됩니다.\n",
    "    * 해당 데이터셋은 다음의 정보로 구성되어 있습니다.\n",
    "        * 고객 인구 통계 정보(Demographic info): 고객의 성별, 연령대, 배우자 및 부양 가족의 유무(Gender, SeniorCitizen, Partner, Dependents) 등에 관한 정보가 포함되어 있습니다.\n",
    "        * 고객 이탈(Churn) 정보: 서비스를 중단 여부에 대한 정보가 포함되어 있습니다.\n",
    "        * 서비스 가입 정보(Services subscribed): 고객들이 가입한 서비스들, 예를 들어 전화, 다중 라인, 인터넷, 온라인 보안, 온라인 백업, 장치 보호, 기술 지원, 스트리밍 TV 및 영화( honeService, MultipleLine, InternetService, OnlineSecurity, OnlineBackup, DeviceProtection, TechSupport, StreamingTV, StreamingMovies) 등에 대한 정보가 있습니다.\n",
    "        * 고객 계정 정보(Customer account info): 고객이 얼마나 오래 서비스를 이용했는지, 계약 유형, 결제 방법, 무페이퍼 청구 여부, 월별 요금, 총 요금 (CustomerID, Contract, PaperlessBilling, PaymentMethod, MonthlyCharges, TotalCharges, Tenure)등의 정보가 담겨 있습니다."
   ]
  },
  {
   "cell_type": "code",
   "execution_count": 1,
   "metadata": {
    "id": "wNxWBS3vin4u",
    "ExecuteTime": {
     "end_time": "2024-01-23T12:59:04.205591200Z",
     "start_time": "2024-01-23T12:59:04.190390300Z"
    }
   },
   "outputs": [],
   "source": [
    "import pandas as pd\n",
    "import numpy as np\n",
    "import seaborn as sns\n",
    "import matplotlib.pyplot as plt"
   ]
  },
  {
   "cell_type": "code",
   "execution_count": 2,
   "metadata": {
    "id": "WPQqigRUin4v",
    "ExecuteTime": {
     "end_time": "2024-01-23T12:59:06.183352800Z",
     "start_time": "2024-01-23T12:59:04.205591200Z"
    }
   },
   "outputs": [
    {
     "data": {
      "text/plain": "(7043, 20)"
     },
     "execution_count": 2,
     "metadata": {},
     "output_type": "execute_result"
    }
   ],
   "source": [
    "# 미션 수행을 위해 데이터셋을 로드합니다.\n",
    "df = pd.read_csv(\"https://bit.ly/telco-csv\", index_col=\"customerID\")\n",
    "df.shape"
   ]
  },
  {
   "cell_type": "code",
   "execution_count": 3,
   "metadata": {
    "id": "lJYWb7dLin4v",
    "ExecuteTime": {
     "end_time": "2024-01-23T12:59:06.223353600Z",
     "start_time": "2024-01-23T12:59:06.177248900Z"
    }
   },
   "outputs": [
    {
     "data": {
      "text/plain": "            gender  SeniorCitizen Partner Dependents  tenure PhoneService  \\\ncustomerID                                                                  \n7590-VHVEG  Female              0     Yes         No       1           No   \n5575-GNVDE    Male              0      No         No      34          Yes   \n3668-QPYBK    Male              0      No         No       2          Yes   \n7795-CFOCW    Male              0      No         No      45           No   \n9237-HQITU  Female              0      No         No       2          Yes   \n\n               MultipleLines InternetService OnlineSecurity OnlineBackup  \\\ncustomerID                                                                 \n7590-VHVEG  No phone service             DSL             No          Yes   \n5575-GNVDE                No             DSL            Yes           No   \n3668-QPYBK                No             DSL            Yes          Yes   \n7795-CFOCW  No phone service             DSL            Yes           No   \n9237-HQITU                No     Fiber optic             No           No   \n\n           DeviceProtection TechSupport StreamingTV StreamingMovies  \\\ncustomerID                                                            \n7590-VHVEG               No          No          No              No   \n5575-GNVDE              Yes          No          No              No   \n3668-QPYBK               No          No          No              No   \n7795-CFOCW              Yes         Yes          No              No   \n9237-HQITU               No          No          No              No   \n\n                  Contract PaperlessBilling              PaymentMethod  \\\ncustomerID                                                               \n7590-VHVEG  Month-to-month              Yes           Electronic check   \n5575-GNVDE        One year               No               Mailed check   \n3668-QPYBK  Month-to-month              Yes               Mailed check   \n7795-CFOCW        One year               No  Bank transfer (automatic)   \n9237-HQITU  Month-to-month              Yes           Electronic check   \n\n            MonthlyCharges TotalCharges Churn  \ncustomerID                                     \n7590-VHVEG           29.85        29.85    No  \n5575-GNVDE           56.95       1889.5    No  \n3668-QPYBK           53.85       108.15   Yes  \n7795-CFOCW           42.30      1840.75    No  \n9237-HQITU           70.70       151.65   Yes  ",
      "text/html": "<div>\n<style scoped>\n    .dataframe tbody tr th:only-of-type {\n        vertical-align: middle;\n    }\n\n    .dataframe tbody tr th {\n        vertical-align: top;\n    }\n\n    .dataframe thead th {\n        text-align: right;\n    }\n</style>\n<table border=\"1\" class=\"dataframe\">\n  <thead>\n    <tr style=\"text-align: right;\">\n      <th></th>\n      <th>gender</th>\n      <th>SeniorCitizen</th>\n      <th>Partner</th>\n      <th>Dependents</th>\n      <th>tenure</th>\n      <th>PhoneService</th>\n      <th>MultipleLines</th>\n      <th>InternetService</th>\n      <th>OnlineSecurity</th>\n      <th>OnlineBackup</th>\n      <th>DeviceProtection</th>\n      <th>TechSupport</th>\n      <th>StreamingTV</th>\n      <th>StreamingMovies</th>\n      <th>Contract</th>\n      <th>PaperlessBilling</th>\n      <th>PaymentMethod</th>\n      <th>MonthlyCharges</th>\n      <th>TotalCharges</th>\n      <th>Churn</th>\n    </tr>\n    <tr>\n      <th>customerID</th>\n      <th></th>\n      <th></th>\n      <th></th>\n      <th></th>\n      <th></th>\n      <th></th>\n      <th></th>\n      <th></th>\n      <th></th>\n      <th></th>\n      <th></th>\n      <th></th>\n      <th></th>\n      <th></th>\n      <th></th>\n      <th></th>\n      <th></th>\n      <th></th>\n      <th></th>\n      <th></th>\n    </tr>\n  </thead>\n  <tbody>\n    <tr>\n      <th>7590-VHVEG</th>\n      <td>Female</td>\n      <td>0</td>\n      <td>Yes</td>\n      <td>No</td>\n      <td>1</td>\n      <td>No</td>\n      <td>No phone service</td>\n      <td>DSL</td>\n      <td>No</td>\n      <td>Yes</td>\n      <td>No</td>\n      <td>No</td>\n      <td>No</td>\n      <td>No</td>\n      <td>Month-to-month</td>\n      <td>Yes</td>\n      <td>Electronic check</td>\n      <td>29.85</td>\n      <td>29.85</td>\n      <td>No</td>\n    </tr>\n    <tr>\n      <th>5575-GNVDE</th>\n      <td>Male</td>\n      <td>0</td>\n      <td>No</td>\n      <td>No</td>\n      <td>34</td>\n      <td>Yes</td>\n      <td>No</td>\n      <td>DSL</td>\n      <td>Yes</td>\n      <td>No</td>\n      <td>Yes</td>\n      <td>No</td>\n      <td>No</td>\n      <td>No</td>\n      <td>One year</td>\n      <td>No</td>\n      <td>Mailed check</td>\n      <td>56.95</td>\n      <td>1889.5</td>\n      <td>No</td>\n    </tr>\n    <tr>\n      <th>3668-QPYBK</th>\n      <td>Male</td>\n      <td>0</td>\n      <td>No</td>\n      <td>No</td>\n      <td>2</td>\n      <td>Yes</td>\n      <td>No</td>\n      <td>DSL</td>\n      <td>Yes</td>\n      <td>Yes</td>\n      <td>No</td>\n      <td>No</td>\n      <td>No</td>\n      <td>No</td>\n      <td>Month-to-month</td>\n      <td>Yes</td>\n      <td>Mailed check</td>\n      <td>53.85</td>\n      <td>108.15</td>\n      <td>Yes</td>\n    </tr>\n    <tr>\n      <th>7795-CFOCW</th>\n      <td>Male</td>\n      <td>0</td>\n      <td>No</td>\n      <td>No</td>\n      <td>45</td>\n      <td>No</td>\n      <td>No phone service</td>\n      <td>DSL</td>\n      <td>Yes</td>\n      <td>No</td>\n      <td>Yes</td>\n      <td>Yes</td>\n      <td>No</td>\n      <td>No</td>\n      <td>One year</td>\n      <td>No</td>\n      <td>Bank transfer (automatic)</td>\n      <td>42.30</td>\n      <td>1840.75</td>\n      <td>No</td>\n    </tr>\n    <tr>\n      <th>9237-HQITU</th>\n      <td>Female</td>\n      <td>0</td>\n      <td>No</td>\n      <td>No</td>\n      <td>2</td>\n      <td>Yes</td>\n      <td>No</td>\n      <td>Fiber optic</td>\n      <td>No</td>\n      <td>No</td>\n      <td>No</td>\n      <td>No</td>\n      <td>No</td>\n      <td>No</td>\n      <td>Month-to-month</td>\n      <td>Yes</td>\n      <td>Electronic check</td>\n      <td>70.70</td>\n      <td>151.65</td>\n      <td>Yes</td>\n    </tr>\n  </tbody>\n</table>\n</div>"
     },
     "execution_count": 3,
     "metadata": {},
     "output_type": "execute_result"
    }
   ],
   "source": [
    "df.head()"
   ]
  },
  {
   "cell_type": "code",
   "execution_count": 4,
   "metadata": {
    "id": "o8mEIdRiin4w",
    "ExecuteTime": {
     "end_time": "2024-01-23T12:59:06.225354400Z",
     "start_time": "2024-01-23T12:59:06.204556800Z"
    }
   },
   "outputs": [],
   "source": [
    "# TotalCharges 가 수치 타입이 아니기 때문에 수치 연산을 위해 숫자 형태로 변경합니다.\n",
    "df[\"TotalCharges\"] = pd.to_numeric(df[\"TotalCharges\"], errors=\"coerce\")"
   ]
  },
  {
   "cell_type": "markdown",
   "metadata": {
    "id": "lJVg2ov7in4w"
   },
   "source": [
    "## 미션 1 -  전체 수치 변수를 정답인 이탈 여부로 시각화하고 분석하기\n",
    "데이터셋의 모든 수치형 변수를 이탈 여부에 따라 시각화하고 수치 구간에 따라 이탈률의 차이에 대해 분석해 주세요.\n",
    "아래 이미지는 참고용으로 아래 이미지와 똑같이 시각화하지 않아도 됩니다. 이탈 여부를 잘 분석할 수 있는 시각화라면 어떤 시각화든 좋습니다.\n",
    "\n",
    "<img src=\"https://i.imgur.com/oCQ9D0l.png\">"
   ]
  },
  {
   "cell_type": "code",
   "execution_count": 5,
   "metadata": {
    "id": "qliFpNViin4w",
    "ExecuteTime": {
     "end_time": "2024-01-23T12:59:06.275833100Z",
     "start_time": "2024-01-23T12:59:06.220354200Z"
    }
   },
   "outputs": [],
   "source": [
    "# 위 예시처럼 수치 변수에 대한 히스토그램을 정답값으로 색상을 다르게 하여 히스토그램으로 시각화 해주세요.\n"
   ]
  },
  {
   "cell_type": "markdown",
   "metadata": {
    "id": "3ocmg5eZin4w"
   },
   "source": [
    "## 미션 2 - 주요 범주형 변수와 정답 값 비교하기\n",
    "\n",
    "* 범주형 변수가 타겟 변수에 어떤 영향을 미치는지 이해함으로써, 해당 변수의 중요성을 파악할 수 있습니다. 이는 피처 선택 과정에서 중요한 지표가 됩니다. 범주형 변수와 정답 값 간의 관계를 분석함으로써 비즈니스 의사결정, 데이터 전략 수립, 모델 설계에 활용할 수 있습니다. 범주형 변수가 타겟 변수와 강한 관계를 보일 경우, 이는 모델의 예측 성능을 향상시킬 수 있는 중요한 피처임을 알아볼 수 있습니다. 범주형 변수와 정답 값 간의 비교를 통해 예상치 못한 패턴이나 이상치를 발견할 수 있습니다. 이는 데이터 전처리 과정에서 문제점을 해결하고 데이터의 품질을 개선하는 데 도움이 됩니다.\n",
    "* 주요 범주형 변수와 타겟값인 이탈여부를 분석하는 시각화를 진행하고 그 과정에서 알게된 점을 정리해 주세요.\n",
    "\n",
    "<img src=\"https://i.imgur.com/Q1KpQpP.png\" width=\"500\">"
   ]
  },
  {
   "cell_type": "code",
   "execution_count": 6,
   "metadata": {
    "id": "9xKCgzamin4w",
    "ExecuteTime": {
     "end_time": "2024-01-23T12:59:06.335491400Z",
     "start_time": "2024-01-23T12:59:06.238312600Z"
    }
   },
   "outputs": [
    {
     "data": {
      "text/plain": "gender              2\nSeniorCitizen       2\nPartner             2\nDependents          2\nPhoneService        2\nMultipleLines       3\nInternetService     3\nOnlineSecurity      3\nOnlineBackup        3\nDeviceProtection    3\nTechSupport         3\nStreamingTV         3\nStreamingMovies     3\nContract            3\nPaperlessBilling    2\nPaymentMethod       4\nChurn               2\ndtype: int64"
     },
     "execution_count": 6,
     "metadata": {},
     "output_type": "execute_result"
    }
   ],
   "source": [
    "nunique = df.nunique()\n",
    "category_col = nunique[nunique < 5]\n",
    "category_col"
   ]
  },
  {
   "cell_type": "code",
   "execution_count": 7,
   "metadata": {
    "scrolled": false,
    "id": "45ZMBObOin4x",
    "ExecuteTime": {
     "end_time": "2024-01-23T12:59:06.337490800Z",
     "start_time": "2024-01-23T12:59:06.266834100Z"
    }
   },
   "outputs": [],
   "source": [
    "# 다음의 코드를 실행하면 범주형 변수를 볼 수 있습니다.\n",
    "# 위 예시처럼 시각화를 여기에 구현해 주세요.\n",
    "category_col_name = category_col.index.tolist()\n"
   ]
  },
  {
   "cell_type": "markdown",
   "metadata": {
    "id": "n6qrSEexin4x"
   },
   "source": [
    "## 미션 3 - 수치변수 간의 관계를 파악하기 위해 그래프를 시각화 하고 상관계수를 구해주세요.\n",
    "\n",
    "\n",
    "상관계수를 통해 변수들 간의 선형적 관계를 파악합니다. 높은 상관관계를 보이는 변수들을 식별하여, 중복되거나 불필요한 특징을 제거함으로써 모델의 성능을 최적화할 수 있습니다. 강한 상관관계를 가진 변수들을 식별하여, 다중공선성 문제를 방지합니다. 상관 행렬을 시각화하여 데이터의 패턴과 특성을 더 잘 이해하고, 피처엔지니어링에 어떻게 활용할지 시각화 결과를 해석해 보세요. 또, 아래 예시와 똑같이 구해도 되지만 다른 변수를 추가하거나 여러분만의 인사이트를 추가해서 구해도 좋습니다.\n",
    "\n",
    "\n",
    "|                |   SeniorCitizen |    tenure |   MonthlyCharges |\n",
    "|:---------------|----------------:|----------:|-----------------:|\n",
    "| SeniorCitizen  |       1         | 0.0165669 |         0.220173 |\n",
    "| tenure         |       0.0165669 | 1         |         0.2479   |\n",
    "| MonthlyCharges |       0.220173  | 0.2479    |         1        |\n",
    "\n",
    "\n",
    "\n",
    "\n",
    "<table>\n",
    "    <tr>\n",
    "        <td><img src=\"https://i.imgur.com/RTfJDJN.png\" width=\"300\"></td>\n",
    "        <td><img src=\"https://i.imgur.com/41Y04lj.png\" width=\"300\"></td>\n",
    "    </tr>\n",
    "</table>"
   ]
  },
  {
   "cell_type": "code",
   "execution_count": 8,
   "metadata": {
    "id": "J1Ge0UQRin4x",
    "ExecuteTime": {
     "end_time": "2024-01-23T12:59:06.408152700Z",
     "start_time": "2024-01-23T12:59:06.280833Z"
    }
   },
   "outputs": [],
   "source": [
    "# 여기에 상관계수를 구하고 heatmap 으로 시각화 해주세요.\n"
   ]
  },
  {
   "cell_type": "code",
   "execution_count": 9,
   "metadata": {
    "id": "8blYoX-min4x",
    "ExecuteTime": {
     "end_time": "2024-01-23T12:59:06.409152800Z",
     "start_time": "2024-01-23T12:59:06.297831100Z"
    }
   },
   "outputs": [],
   "source": [
    "# seaborn 의 pairplot 으로 이탈여부(Churn)에 따라 시각화 해주세요.\n"
   ]
  },
  {
   "cell_type": "code",
   "execution_count": 9,
   "metadata": {
    "id": "S1FtpC8jin4y",
    "ExecuteTime": {
     "end_time": "2024-01-23T12:59:06.691201800Z",
     "start_time": "2024-01-23T12:59:06.313832Z"
    }
   },
   "outputs": [],
   "source": []
  },
  {
   "cell_type": "code",
   "execution_count": 9,
   "metadata": {
    "id": "MqkCA511in4y",
    "ExecuteTime": {
     "end_time": "2024-01-23T12:59:06.750728100Z",
     "start_time": "2024-01-23T12:59:06.328483900Z"
    }
   },
   "outputs": [],
   "source": []
  },
  {
   "cell_type": "code",
   "execution_count": 9,
   "metadata": {
    "id": "ar-KnayLin4y",
    "ExecuteTime": {
     "end_time": "2024-01-23T12:59:06.751726500Z",
     "start_time": "2024-01-23T12:59:06.345533700Z"
    }
   },
   "outputs": [],
   "source": []
  }
 ],
 "metadata": {
  "kernelspec": {
   "display_name": "Python 3 (ipykernel)",
   "language": "python",
   "name": "python3"
  },
  "language_info": {
   "codemirror_mode": {
    "name": "ipython",
    "version": 3
   },
   "file_extension": ".py",
   "mimetype": "text/x-python",
   "name": "python",
   "nbconvert_exporter": "python",
   "pygments_lexer": "ipython3",
   "version": "3.11.4"
  },
  "toc": {
   "base_numbering": 1,
   "nav_menu": {},
   "number_sections": false,
   "sideBar": true,
   "skip_h1_title": false,
   "title_cell": "Table of Contents",
   "title_sidebar": "Contents",
   "toc_cell": false,
   "toc_position": {},
   "toc_section_display": true,
   "toc_window_display": false
  },
  "varInspector": {
   "cols": {
    "lenName": 16,
    "lenType": 16,
    "lenVar": 40
   },
   "kernels_config": {
    "python": {
     "delete_cmd_postfix": "",
     "delete_cmd_prefix": "del ",
     "library": "var_list.py",
     "varRefreshCmd": "print(var_dic_list())"
    },
    "r": {
     "delete_cmd_postfix": ") ",
     "delete_cmd_prefix": "rm(",
     "library": "var_list.r",
     "varRefreshCmd": "cat(var_dic_list()) "
    }
   },
   "types_to_exclude": [
    "module",
    "function",
    "builtin_function_or_method",
    "instance",
    "_Feature"
   ],
   "window_display": false
  },
  "colab": {
   "provenance": []
  }
 },
 "nbformat": 4,
 "nbformat_minor": 0
}
