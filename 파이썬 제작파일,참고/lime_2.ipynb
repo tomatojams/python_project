{
  "cells": [
    {
      "attachments": {},
      "cell_type": "markdown",
      "metadata": {
        "id": "dK0xwvz6O2RL"
      },
      "source": [
        "### Q1. 중간고사 기말고사 점수를 따로 받아 저장하는 클래스를 구현해보세요. 단, 생성자의 인스턴스는 private으로 선언되어야하며, 데코레이터를 이용해 데이터를 저장하고, 함수를 이용해 평균값을 출력해보세요."
      ]
    },
    {
      "cell_type": "code",
      "execution_count": null,
      "metadata": {
        "id": "6oMbrFyaf4fr"
      },
      "outputs": [],
      "source": [
        "class Score:\n",
        "\n",
        "  \"\"\"\n",
        "  컨스트럭터를 통해 _mid, _final 이라는 Instance variables를 초기화합니다.\n",
        "  또한 validate_int 라는 메서드를 통해 Instance variable가 숫자인지 판별합니다.\n",
        "  만약 _mid와 _final 모두 validate_int 라는 메서드를 통과한다면 값을 리턴합니다.\n",
        "  하지만 validate_int를 통과하지 못했다면 TypeError를 발생시키고\n",
        "  \"Instance variable must be integer\" 라는 문구를 출력합니다.\n",
        "  \"\"\"\n",
        "  \n",
        "  # 초기화 컨스트럭터\n",
        "  # 메서드 오버라이딩, 하위클래스 호출 등의 유연성을 위해 Instance variable을 _name 으로 설정\n",
        "  def __init__(self, mid: int, final: int):\n",
        "    self._mid = mid\n",
        "    self._final = final\n",
        "\n",
        "  # 값이 int형인지 판단하는 메서드\n",
        "  def validate_int(self, value) -> bool:\n",
        "    if not isinstance(value, int):\n",
        "      raise TypeError(\"Instance variable must be integer\")\n",
        "    return True\n",
        "\n",
        "  # mid값을 리턴하는 메서드\n",
        "  # property 데코레이터로 불러온 self._mid값을 validate_int 메서드에 넣어본 후\n",
        "  # 리턴값이 True라면(int형 라면)) self._mid값을 출력합니다.\n",
        "  @property\n",
        "  def mid(self) -> int:\n",
        "    if self.validate_int(self._mid):\n",
        "      return self._mid\n",
        "  \n",
        "  # final 값을 리턴하는 메서드\n",
        "  # 작동방식은 mid 메서드와 동일합니다.\n",
        "  @property\n",
        "  def final(self) -> int:\n",
        "    if self.validate_int(self._final):\n",
        "      return self._final\n",
        "\n",
        "\n",
        "# 62.5\n",
        "score = Score(50,75)\n",
        "print((score.mid + score.final)/2)\n",
        "\n",
        "#TypeError\n",
        "score2 = Score(\"50\",75)\n",
        "print((score2.mid + score2.final)/2)"
      ]
    },
    {
      "attachments": {},
      "cell_type": "markdown",
      "metadata": {
        "id": "yJH7pgN6fvH6"
      },
      "source": [
        "### Q2. 다양한 탈 것을 사용하는 게임을 만드는 중입니다. 빠른 구현을 위해서 이미 구현한 Car 클래스를 이용해서 Bike라는 클래스를 새로 제작하려고 합니다. Car 클래스를 상속받아서 새로운 Bike 클래스를 아래와 같이 출력되도록 구성해보세요."
      ]
    },
    {
      "cell_type": "code",
      "execution_count": null,
      "metadata": {
        "id": "EvnKw5wkPR0j"
      },
      "outputs": [],
      "source": [
        "class Car():\n",
        "  def __init__(self, fuel: str, wheels: int):\n",
        "    self.fuel = fuel\n",
        "    self.wheels = wheels\n",
        "\n",
        "\n",
        "\"\"\"\n",
        "부모 클래스(Car)의 인스턴스 속성을 자식 클래스(Bike)에 상속하고\n",
        "super를 통해 부모 클래스의 __init__ 매직 메서드를 자식 클래스에 실행을 시킵니다.\n",
        "그 후 self.size 라는 instance variable을 만들어 주어 size라는 값을 추가해 줍니다.\n",
        "\"\"\"\n",
        "\n",
        "\n",
        "class Bike(Car):\n",
        "  # 부모 클래스의 __init__ 매직 메서드 상속 후 size 라는 인스턴스 변수 생성\n",
        "  def __init__(self, fuel: str, wheels: int, size: str):\n",
        "    super().__init__(fuel,wheels)\n",
        "    self.size = size\n",
        "\n",
        "\n",
        "\n",
        "bike = Bike(\"gas\",2,\"small\")\n",
        "\n",
        "#gas 2 small\n",
        "print(bike.fuel, bike.wheels, bike.size)"
      ]
    },
    {
      "attachments": {},
      "cell_type": "markdown",
      "metadata": {
        "id": "w_CVE6RLgG7P"
      },
      "source": [
        "### Q3. 이번 시험 결과에 대한 데이터를 학과 사무실에서 CSV파일로 전달해줬습니다. 우리는 이 파일을 이용해서 데이터 처리를 진행해야 합니다. 파일 입출력을 이용해 파일 데이터를 리스트로 만들어보세요."
      ]
    },
    {
      "cell_type": "code",
      "execution_count": 1,
      "metadata": {
        "colab": {
          "base_uri": "https://localhost:8080/",
          "height": 385
        },
        "id": "mVWmzQtlgNBp",
        "outputId": "cd239dcf-02d3-4504-bc34-f126cf9e443a"
      },
      "outputs": [
        {
          "name": "stdout",
          "output_type": "stream",
          "text": [
            "[['73', '80', '75', '152'], ['93', '88', '93', '185'], ['89', '91', '90', '180'], ['96', '98', '100', '196'], ['73', '66', '70', '142'], ['53', '46', '55', '101'], ['69', '74', '77', '149'], ['47', '56', '60', '115'], ['87', '79', '90', '175'], ['79', '70', '88', '164'], ['69', '70', '73', '141'], ['70', '65', '74', '141'], ['93', '95', '91', '184'], ['79', '80', '73', '152'], ['70', '73', '78', '148'], ['93', '89', '96', '192'], ['78', '75', '68', '147'], ['81', '90', '93', '183'], ['88', '92', '86', '177'], ['78', '83', '77', '159'], ['82', '86', '90', '177'], ['86', '82', '89', '175'], ['78', '83', '85', '175'], ['76', '83', '71', '149'], ['96', '93', '95', '192']]\n"
          ]
        }
      ],
      "source": [
        "# 파일 다운로드\n",
        "# https://www.delftstack.com/ko/howto/python/download-a-file-in-python/\n",
        "import urllib\n",
        "urllib.request.urlretrieve(\"https://drive.google.com/uc?export=download&id=1vLSVhyLgh6LL1rRLgPoMvkbEfZm3pUKE\", \"data-01-test-score.csv\")\n",
        "\n",
        "\n",
        "import csv\n",
        "from typing import List\n",
        "#읽어올 파일의 경로를 담은 변수\n",
        "file_path = \"./data-01-test-score.csv\"\n",
        "\n",
        "# 입력받은 경로의 파일을 읽는 함수\n",
        "def read_file(path: str) -> List[str]:\n",
        "\n",
        "  \"\"\"\n",
        "  입력받은 변수를 통해 파일에 접근해 텍스트 읽기 모드로 파일을 생성하는 file이라는 변수를 만듭니다.\n",
        "  그리고 file 변수를 csv reader 파일객체에 넣어 Iterator 타입의 reader 객체를 얻습니다.\n",
        "  reader 객체를 list comprehension을 통해 arr라는 배열에 한줄씩 담습니다.\n",
        "  그 후 close 함수를 실행시켜 파일 객체를 닫아주고 arr 배열을 리턴합니다.\n",
        "  \"\"\"\n",
        "\n",
        "  file = open(path, \"rt\")\n",
        "  reader = csv.reader(file)\n",
        "  arr = [line for line in reader]\n",
        "  file.close()\n",
        "\n",
        "  return arr\n",
        "\n",
        "\n",
        "print(read_file(file_path))"
      ]
    },
    {
      "attachments": {},
      "cell_type": "markdown",
      "metadata": {
        "id": "sIPbexUXgRvf"
      },
      "source": [
        "### Q4. 우리는 방금 CSV 파일을 읽는 함수를 구현해보았습니다. 하지만 이를 조금 더 효율적으로 사용하기 위해서 클래스로 구성을 진행하려고 합니다. 방금 구현한 함수를 포함한 클래스를 구현해보세요."
      ]
    },
    {
      "cell_type": "code",
      "execution_count": 2,
      "metadata": {
        "id": "NnEhjL03gV1t"
      },
      "outputs": [
        {
          "name": "stdout",
          "output_type": "stream",
          "text": [
            "[[73, 80, 75, 152], [93, 88, 93, 185], [89, 91, 90, 180], [96, 98, 100, 196], [73, 66, 70, 142], [53, 46, 55, 101], [69, 74, 77, 149], [47, 56, 60, 115], [87, 79, 90, 175], [79, 70, 88, 164], [69, 70, 73, 141], [70, 65, 74, 141], [93, 95, 91, 184], [79, 80, 73, 152], [70, 73, 78, 148], [93, 89, 96, 192], [78, 75, 68, 147], [81, 90, 93, 183], [88, 92, 86, 177], [78, 83, 77, 159], [82, 86, 90, 177], [86, 82, 89, 175], [78, 83, 85, 175], [76, 83, 71, 149], [96, 93, 95, 192]]\n",
            "[380, 459, 450, 490, 351, 255, 369, 278, 431, 401, 353, 350, 463, 384, 369, 470, 368, 447, 443, 397, 435, 432, 421, 379, 476]\n"
          ]
        }
      ],
      "source": [
        "from typing import List\n",
        "import csv\n",
        "\n",
        "class ReadCSV():\n",
        "\n",
        "  # 생성자\n",
        "  def __init__(self, path: str):\n",
        "    self._path = path\n",
        "\n",
        "  # 파일을 읽어오는 함수\n",
        "  def read_file(self) -> List[List[int]]:\n",
        "    \n",
        "    \"\"\"\n",
        "    입력받은 변수를 통해 파일에 접근해 텍스트 읽기 모드로 파일을 생성하는 file이라는 변수를 만듭니다.\n",
        "    그리고 file 변수를 csv reader 파일객체에 넣어 Iterator 타입의 reader 객체를 얻습니다.\n",
        "    reader 객체를 순회하면서 각 줄을 converting_to_int 함수에 넣어 정수로 변환한 후 \n",
        "    arr 배열에 담습니다.\n",
        "    그 후 close 함수를 실행시켜 파일 객체를 닫아주고 arr 배열을 리턴합니다.\n",
        "    \"\"\"\n",
        "    \n",
        "    file = open(self._path, \"r\", encoding=\"utf8\")\n",
        "    reader = csv.reader(file)\n",
        "    arr = [self.converting_to_int(line) for line in reader]\n",
        "    file.close()\n",
        "    return arr\n",
        "\n",
        "  # 숫자로 변환 가능한 값들인지 검사하는 함수\n",
        "  def is_number(self, args: List[str]) -> bool:\n",
        "\n",
        "    \"\"\"\n",
        "    입력받은 리스트를 순회하면서 is_numeric 함수를 통해 숫자로 변환 가능한 값인지 검사합니다.\n",
        "    만약 숫자로 변환할 수 없는 값이 있다면 ValueError를 발생시킵니다.\n",
        "    \"\"\"\n",
        "\n",
        "    for i in args:\n",
        "      if not i.isnumeric():\n",
        "        raise ValueError(\"숫자로 변환할 수 없는 값이 있습니다.\")\n",
        "    return True\n",
        "\n",
        "  # 문자열을 정수로 변환하는 함수\n",
        "  def converting_to_int(self, args: List[str]) -> List[int]:\n",
        "    if self.is_number(args):\n",
        "      return [int(i) for i in args]\n",
        "  \n",
        "  # 리스트를 합치는 함수\n",
        "  def merge_list(self):\n",
        "\n",
        "    \"\"\"\n",
        "    read_file 함수를 통해 읽어온 리스트를 순회하면서 각 리스트의 합을 구합니다.\n",
        "    그리고 합한 값을 merged_list 배열에 담아 반환합니다.\n",
        "    \"\"\"\n",
        "\n",
        "    data = self.read_file()\n",
        "    merged_list = [sum(i) for i in data]\n",
        "    return merged_list\n",
        "\n",
        "\n",
        "\n",
        "file_path = \"./data-01-test-score.csv\"\n",
        "read_csv = ReadCSV(file_path)\n",
        "print(read_csv.read_file())\n",
        "print(read_csv.merge_list())"
      ]
    },
    {
      "attachments": {},
      "cell_type": "markdown",
      "metadata": {
        "id": "80pyNesdgW0V"
      },
      "source": [
        "### Q5. 이전에 구현한 클래스에서 merge_list의 함수 동작을 변경해야합니다. 단순합계가 아닌 평균을 구하는 함수로 변경해보세요."
      ]
    },
    {
      "cell_type": "code",
      "execution_count": 3,
      "metadata": {
        "id": "9HplueqAgcMg"
      },
      "outputs": [
        {
          "name": "stdout",
          "output_type": "stream",
          "text": [
            "[[73, 80, 75, 152], [93, 88, 93, 185], [89, 91, 90, 180], [96, 98, 100, 196], [73, 66, 70, 142], [53, 46, 55, 101], [69, 74, 77, 149], [47, 56, 60, 115], [87, 79, 90, 175], [79, 70, 88, 164], [69, 70, 73, 141], [70, 65, 74, 141], [93, 95, 91, 184], [79, 80, 73, 152], [70, 73, 78, 148], [93, 89, 96, 192], [78, 75, 68, 147], [81, 90, 93, 183], [88, 92, 86, 177], [78, 83, 77, 159], [82, 86, 90, 177], [86, 82, 89, 175], [78, 83, 85, 175], [76, 83, 71, 149], [96, 93, 95, 192]]\n",
            "[63.75, 69.5, 87.5, 87.75, 88.25, 92.0, 92.25, 92.25, 94.75, 95.0, 96.0, 99.25, 100.25, 105.25, 107.75, 108.0, 108.75, 110.75, 111.75, 112.5, 114.75, 115.75, 117.5, 119.0, 122.5]\n"
          ]
        }
      ],
      "source": [
        "from typing import List\n",
        "import csv\n",
        "\n",
        "class ReadCSV():\n",
        "\n",
        "  # 생성자\n",
        "  def __init__(self, path: str):\n",
        "    self._path = path\n",
        "\n",
        "  # 파일을 읽어오는 함수\n",
        "  def read_file(self) -> List[List[int]]:\n",
        "    \n",
        "    \"\"\"\n",
        "    입력받은 변수를 통해 파일에 접근해 텍스트 읽기 모드로 파일을 생성하는 file이라는 변수를 만듭니다.\n",
        "    그리고 file 변수를 csv reader 파일객체에 넣어 Iterator 타입의 reader 객체를 얻습니다.\n",
        "    reader 객체를 순회하면서 각 줄을 converting_to_int 함수에 넣어 정수로 변환한 후 \n",
        "    arr 배열에 담습니다.\n",
        "    그 후 close 함수를 실행시켜 파일 객체를 닫아주고 arr 배열을 리턴합니다.\n",
        "    \"\"\"\n",
        "    \n",
        "    file = open(self._path, \"r\", encoding=\"utf8\")\n",
        "    reader = csv.reader(file)\n",
        "    arr = [self.converting_to_int(line) for line in reader]\n",
        "    file.close()\n",
        "    return arr\n",
        "\n",
        "  # 숫자로 변환 가능한 값들인지 검사하는 함수\n",
        "  def is_number(self, args: List[str]) -> bool:\n",
        "\n",
        "    \"\"\"\n",
        "    입력받은 리스트를 순회하면서 is_numeric 함수를 통해 숫자로 변환 가능한 값인지 검사합니다.\n",
        "    만약 숫자로 변환할 수 없는 값이 있다면 ValueError를 발생시킵니다.\n",
        "    \"\"\"\n",
        "\n",
        "    for i in args:\n",
        "      if not i.isnumeric():\n",
        "        raise ValueError(\"숫자로 변환할 수 없는 값이 있습니다.\")\n",
        "    return True\n",
        "\n",
        "  # 문자열을 정수로 변환하는 함수\n",
        "  def converting_to_int(self, args: List[str]) -> List[int]:\n",
        "    if self.is_number(args):\n",
        "      return [int(i) for i in args]\n",
        "  \n",
        "  # 리스트를 합치는 함수\n",
        "  def merge_list(self):\n",
        "\n",
        "    \"\"\"\n",
        "    read_file 함수를 통해 읽어온 리스트를 순회하면서 각 리스트 요소들의 평균을 요소로 하는\n",
        "    merged_list 배열을 만듭니다.\n",
        "    그 후 sorted 함수를 통해 merge_list를 오름차순 정렬한 후 리턴합니다.\n",
        "    \"\"\"\n",
        "\n",
        "    data = self.read_file()\n",
        "    merged_list = [sum(i)/len(i) for i in data]\n",
        "    return sorted(merged_list)\n",
        "\n",
        "\n",
        "\n",
        "file_path = \"./data-01-test-score.csv\"\n",
        "read_csv = ReadCSV(file_path)\n",
        "print(read_csv.read_file())\n",
        "print(read_csv.merge_list())"
      ]
    }
  ],
  "metadata": {
    "colab": {
      "provenance": [],
      "toc_visible": true
    },
    "kernelspec": {
      "display_name": "Python 3",
      "language": "python",
      "name": "python3"
    },
    "language_info": {
      "codemirror_mode": {
        "name": "ipython",
        "version": 3
      },
      "file_extension": ".py",
      "mimetype": "text/x-python",
      "name": "python",
      "nbconvert_exporter": "python",
      "pygments_lexer": "ipython3",
      "version": "3.10.9"
    },
    "vscode": {
      "interpreter": {
        "hash": "afb734500600fd355917ca529030176ea0ca205570884b88f2f6f7d791fd3fbe"
      }
    }
  },
  "nbformat": 4,
  "nbformat_minor": 0
}
