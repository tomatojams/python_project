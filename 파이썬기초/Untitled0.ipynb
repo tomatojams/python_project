{
 "nbformat": 4,
 "nbformat_minor": 0,
 "metadata": {
  "colab": {
   "name": "Untitled0.ipynb",
   "provenance": [],
   "authorship_tag": "ABX9TyP1x2ztGWSybKsA6QML2Pwu"
  },
  "kernelspec": {
   "name": "python3",
   "display_name": "Python 3"
  },
  "language_info": {
   "name": "python"
  }
 },
 "cells": [
  {
   "cell_type": "code",
   "execution_count": 1,
   "metadata": {
    "id": "xRTREGQGQA6L",
    "executionInfo": {
     "status": "ok",
     "timestamp": 1660646619295,
     "user_tz": -540,
     "elapsed": 336,
     "user": {
      "displayName": "JIHAN KIM",
      "userId": "14820648192014375113"
     }
    }
   },
   "outputs": [],
   "source": [
    "import numpy as np\n"
   ]
  },
  {
   "cell_type": "code",
   "source": [
    "np.__version__"
   ],
   "metadata": {
    "colab": {
     "base_uri": "https://localhost:8080/",
     "height": 37
    },
    "id": "0RTHk1zJQH91",
    "executionInfo": {
     "status": "ok",
     "timestamp": 1660646634862,
     "user_tz": -540,
     "elapsed": 358,
     "user": {
      "displayName": "JIHAN KIM",
      "userId": "14820648192014375113"
     }
    },
    "outputId": "97e6f621-7f1a-40ab-8a9a-c5cc63e25f96"
   },
   "execution_count": 2,
   "outputs": [
    {
     "output_type": "execute_result",
     "data": {
      "text/plain": [
       "'1.21.6'"
      ],
      "application/vnd.google.colaboratory.intrinsic+json": {
       "type": "string"
      }
     },
     "metadata": {},
     "execution_count": 2
    }
   ]
  },
  {
   "cell_type": "code",
   "source": [
    "a = np.array([1,2,3,4])"
   ],
   "metadata": {
    "id": "GOboqTO6QM4n",
    "executionInfo": {
     "status": "ok",
     "timestamp": 1660646657605,
     "user_tz": -540,
     "elapsed": 265,
     "user": {
      "displayName": "JIHAN KIM",
      "userId": "14820648192014375113"
     }
    }
   },
   "execution_count": 3,
   "outputs": []
  },
  {
   "cell_type": "code",
   "source": [
    "a"
   ],
   "metadata": {
    "colab": {
     "base_uri": "https://localhost:8080/"
    },
    "id": "ig0cPhxVQROm",
    "executionInfo": {
     "status": "ok",
     "timestamp": 1660646662044,
     "user_tz": -540,
     "elapsed": 260,
     "user": {
      "displayName": "JIHAN KIM",
      "userId": "14820648192014375113"
     }
    },
    "outputId": "b77d8aed-8aac-47a3-f6f1-a8e5dbf98067"
   },
   "execution_count": 4,
   "outputs": [
    {
     "output_type": "execute_result",
     "data": {
      "text/plain": [
       "array([1, 2, 3, 4])"
      ]
     },
     "metadata": {},
     "execution_count": 4
    }
   ]
  },
  {
   "cell_type": "code",
   "source": [
    "d = np.array([[1,2,3],[4,5,6],[7,8,9]])\n",
    "d.shape\n",
    "d.size\n",
    "d"
   ],
   "metadata": {
    "colab": {
     "base_uri": "https://localhost:8080/"
    },
    "id": "pu2ssaAEax6d",
    "executionInfo": {
     "status": "ok",
     "timestamp": 1660650149133,
     "user_tz": -540,
     "elapsed": 257,
     "user": {
      "displayName": "JIHAN KIM",
      "userId": "14820648192014375113"
     }
    },
    "outputId": "2e694545-7222-472f-ec0e-d863192e9cfb"
   },
   "execution_count": 10,
   "outputs": [
    {
     "output_type": "execute_result",
     "data": {
      "text/plain": [
       "array([[1, 2, 3],\n",
       "       [4, 5, 6],\n",
       "       [7, 8, 9]])"
      ]
     },
     "metadata": {},
     "execution_count": 10
    }
   ]
  },
  {
   "cell_type": "code",
   "source": [
    "a = np.zeros((3,4),dtype =\"uint32\")\n",
    "a"
   ],
   "metadata": {
    "colab": {
     "base_uri": "https://localhost:8080/"
    },
    "id": "_Wehm_YceCus",
    "executionInfo": {
     "status": "ok",
     "timestamp": 1660650587738,
     "user_tz": -540,
     "elapsed": 273,
     "user": {
      "displayName": "JIHAN KIM",
      "userId": "14820648192014375113"
     }
    },
    "outputId": "7ceab7e0-76b0-4b5b-fd86-5d0c465b96b5"
   },
   "execution_count": 13,
   "outputs": [
    {
     "output_type": "execute_result",
     "data": {
      "text/plain": [
       "array([[0, 0, 0, 0],\n",
       "       [0, 0, 0, 0],\n",
       "       [0, 0, 0, 0]], dtype=uint32)"
      ]
     },
     "metadata": {},
     "execution_count": 13
    }
   ]
  },
  {
   "cell_type": "code",
   "source": [
    "a[0,3] = 42\n",
    "a[1,1] = 66\n",
    "a"
   ],
   "metadata": {
    "colab": {
     "base_uri": "https://localhost:8080/"
    },
    "id": "ZvtLjjtHfUuH",
    "executionInfo": {
     "status": "ok",
     "timestamp": 1660650750743,
     "user_tz": -540,
     "elapsed": 313,
     "user": {
      "displayName": "JIHAN KIM",
      "userId": "14820648192014375113"
     }
    },
    "outputId": "404edbe3-a31d-4610-8187-1d8614a1405f"
   },
   "execution_count": 14,
   "outputs": [
    {
     "output_type": "execute_result",
     "data": {
      "text/plain": [
       "array([[ 0,  0,  0, 42],\n",
       "       [ 0, 66,  0,  0],\n",
       "       [ 0,  0,  0,  0]], dtype=uint32)"
      ]
     },
     "metadata": {},
     "execution_count": 14
    }
   ]
  },
  {
   "cell_type": "code",
   "source": [
    "b = 12*np.ones((3,1))\n",
    "b"
   ],
   "metadata": {
    "colab": {
     "base_uri": "https://localhost:8080/"
    },
    "id": "u-K0nGRZgE8r",
    "executionInfo": {
     "status": "ok",
     "timestamp": 1660650887725,
     "user_tz": -540,
     "elapsed": 372,
     "user": {
      "displayName": "JIHAN KIM",
      "userId": "14820648192014375113"
     }
    },
    "outputId": "eb18dd5d-e122-49c8-899c-f3238cb3bb89"
   },
   "execution_count": 16,
   "outputs": [
    {
     "output_type": "execute_result",
     "data": {
      "text/plain": [
       "array([[12.],\n",
       "       [12.],\n",
       "       [12.]])"
      ]
     },
     "metadata": {},
     "execution_count": 16
    }
   ]
  },
  {
   "cell_type": "code",
   "source": [
    "a = np.arange(12).reshape((3,4))\n",
    "a"
   ],
   "metadata": {
    "colab": {
     "base_uri": "https://localhost:8080/"
    },
    "id": "Qed3e4emgmqZ",
    "executionInfo": {
     "status": "ok",
     "timestamp": 1660651892088,
     "user_tz": -540,
     "elapsed": 315,
     "user": {
      "displayName": "JIHAN KIM",
      "userId": "14820648192014375113"
     }
    },
    "outputId": "f2d6189d-7992-4824-8351-59c6e8515850"
   },
   "execution_count": 17,
   "outputs": [
    {
     "output_type": "execute_result",
     "data": {
      "text/plain": [
       "array([[ 0,  1,  2,  3],\n",
       "       [ 4,  5,  6,  7],\n",
       "       [ 8,  9, 10, 11]])"
      ]
     },
     "metadata": {},
     "execution_count": 17
    }
   ]
  },
  {
   "cell_type": "code",
   "source": [
    "a[1]=[44,55,66,77]\n",
    "a"
   ],
   "metadata": {
    "colab": {
     "base_uri": "https://localhost:8080/"
    },
    "id": "qLRNpW6okV0Q",
    "executionInfo": {
     "status": "ok",
     "timestamp": 1660651955184,
     "user_tz": -540,
     "elapsed": 332,
     "user": {
      "displayName": "JIHAN KIM",
      "userId": "14820648192014375113"
     }
    },
    "outputId": "4fefd06b-56be-4efc-e5bf-0937e91b66a8"
   },
   "execution_count": 20,
   "outputs": [
    {
     "output_type": "execute_result",
     "data": {
      "text/plain": [
       "array([[ 0,  1,  2,  3],\n",
       "       [44, 55, 66, 77],\n",
       "       [ 8,  9, 10, 11]])"
      ]
     },
     "metadata": {},
     "execution_count": 20
    }
   ]
  },
  {
   "cell_type": "code",
   "source": [
    "a[:2]"
   ],
   "metadata": {
    "colab": {
     "base_uri": "https://localhost:8080/"
    },
    "id": "edtPNrhKlNtp",
    "executionInfo": {
     "status": "ok",
     "timestamp": 1660652157713,
     "user_tz": -540,
     "elapsed": 572,
     "user": {
      "displayName": "JIHAN KIM",
      "userId": "14820648192014375113"
     }
    },
    "outputId": "1eacf6e0-b401-4482-a113-606d1917475c"
   },
   "execution_count": 21,
   "outputs": [
    {
     "output_type": "execute_result",
     "data": {
      "text/plain": [
       "array([[ 0,  1,  2,  3],\n",
       "       [44, 55, 66, 77]])"
      ]
     },
     "metadata": {},
     "execution_count": 21
    }
   ]
  },
  {
   "cell_type": "code",
   "source": [
    "a[:2,:3]"
   ],
   "metadata": {
    "colab": {
     "base_uri": "https://localhost:8080/"
    },
    "id": "zLZ6ZZyLlh5W",
    "executionInfo": {
     "status": "ok",
     "timestamp": 1660652244530,
     "user_tz": -540,
     "elapsed": 338,
     "user": {
      "displayName": "JIHAN KIM",
      "userId": "14820648192014375113"
     }
    },
    "outputId": "6461feef-5fec-493f-b23a-f60a86291717"
   },
   "execution_count": 22,
   "outputs": [
    {
     "output_type": "execute_result",
     "data": {
      "text/plain": [
       "array([[ 0,  1,  2],\n",
       "       [44, 55, 66]])"
      ]
     },
     "metadata": {},
     "execution_count": 22
    }
   ]
  },
  {
   "cell_type": "code",
   "source": [
    "b = np.arange(12)\n",
    "b"
   ],
   "metadata": {
    "colab": {
     "base_uri": "https://localhost:8080/"
    },
    "id": "zP9E54mell18",
    "executionInfo": {
     "status": "ok",
     "timestamp": 1660652271583,
     "user_tz": -540,
     "elapsed": 494,
     "user": {
      "displayName": "JIHAN KIM",
      "userId": "14820648192014375113"
     }
    },
    "outputId": "ed8b27be-e4c6-431b-c7c2-4e3bef307d35"
   },
   "execution_count": 24,
   "outputs": [
    {
     "output_type": "execute_result",
     "data": {
      "text/plain": [
       "array([ 0,  1,  2,  3,  4,  5,  6,  7,  8,  9, 10, 11])"
      ]
     },
     "metadata": {},
     "execution_count": 24
    }
   ]
  },
  {
   "cell_type": "code",
   "source": [
    "b[::2]"
   ],
   "metadata": {
    "colab": {
     "base_uri": "https://localhost:8080/"
    },
    "id": "41OZbbqFlszF",
    "executionInfo": {
     "status": "ok",
     "timestamp": 1660652286376,
     "user_tz": -540,
     "elapsed": 370,
     "user": {
      "displayName": "JIHAN KIM",
      "userId": "14820648192014375113"
     }
    },
    "outputId": "c3840fb3-f24f-4ca9-f620-c9b7e7686e90"
   },
   "execution_count": 25,
   "outputs": [
    {
     "output_type": "execute_result",
     "data": {
      "text/plain": [
       "array([ 0,  2,  4,  6,  8, 10])"
      ]
     },
     "metadata": {},
     "execution_count": 25
    }
   ]
  },
  {
   "cell_type": "code",
   "source": [
    "a = np.random.randint(0,5,(3,4))\n",
    "a"
   ],
   "metadata": {
    "colab": {
     "base_uri": "https://localhost:8080/"
    },
    "id": "yM5UkPComPp-",
    "executionInfo": {
     "status": "ok",
     "timestamp": 1660652479255,
     "user_tz": -540,
     "elapsed": 554,
     "user": {
      "displayName": "JIHAN KIM",
      "userId": "14820648192014375113"
     }
    },
    "outputId": "50610b6c-f1a2-4258-db2d-b443355de7dc"
   },
   "execution_count": 26,
   "outputs": [
    {
     "output_type": "execute_result",
     "data": {
      "text/plain": [
       "array([[1, 0, 2, 4],\n",
       "       [0, 3, 1, 2],\n",
       "       [0, 0, 2, 4]])"
      ]
     },
     "metadata": {},
     "execution_count": 26
    }
   ]
  },
  {
   "cell_type": "code",
   "source": [
    "a = np.random.randint(0,5,(3,4))\n",
    "a"
   ],
   "metadata": {
    "colab": {
     "base_uri": "https://localhost:8080/"
    },
    "id": "gGchEf7pnMhr",
    "executionInfo": {
     "status": "ok",
     "timestamp": 1660652698701,
     "user_tz": -540,
     "elapsed": 312,
     "user": {
      "displayName": "JIHAN KIM",
      "userId": "14820648192014375113"
     }
    },
    "outputId": "37419106-67a9-4277-bf07-42af8ff75186"
   },
   "execution_count": 27,
   "outputs": [
    {
     "output_type": "execute_result",
     "data": {
      "text/plain": [
       "array([[3, 3, 2, 3],\n",
       "       [1, 1, 2, 1],\n",
       "       [2, 2, 4, 4]])"
      ]
     },
     "metadata": {},
     "execution_count": 27
    }
   ]
  },
  {
   "cell_type": "code",
   "source": [
    "np.save(\"random.npy\",a)\n",
    "b =np.load(\"random.npy\")\n",
    "b"
   ],
   "metadata": {
    "colab": {
     "base_uri": "https://localhost:8080/"
    },
    "id": "AE26r3pDnUqE",
    "executionInfo": {
     "status": "ok",
     "timestamp": 1660652790312,
     "user_tz": -540,
     "elapsed": 332,
     "user": {
      "displayName": "JIHAN KIM",
      "userId": "14820648192014375113"
     }
    },
    "outputId": "253dcb36-413b-4c5b-c852-07ce30787361"
   },
   "execution_count": 29,
   "outputs": [
    {
     "output_type": "execute_result",
     "data": {
      "text/plain": [
       "array([[3, 3, 2, 3],\n",
       "       [1, 1, 2, 1],\n",
       "       [2, 2, 4, 4]])"
      ]
     },
     "metadata": {},
     "execution_count": 29
    }
   ]
  },
  {
   "cell_type": "code",
   "source": [],
   "metadata": {
    "id": "ttE7EV-MoJl0"
   },
   "execution_count": null,
   "outputs": []
  },
  {
   "cell_type": "code",
   "source": [
    "from scipy.stats import ttest_ind\n",
    "a = np.random.normal(0,1,1000)\n",
    "b = np.random.normal(0,0.5,1000)\n",
    "c = np.random.normal(0.1,1,1000)\n",
    "ttest_ind(a,b)"
   ],
   "metadata": {
    "colab": {
     "base_uri": "https://localhost:8080/"
    },
    "id": "-PXyNTGBoJ6E",
    "executionInfo": {
     "status": "ok",
     "timestamp": 1660653480187,
     "user_tz": -540,
     "elapsed": 329,
     "user": {
      "displayName": "JIHAN KIM",
      "userId": "14820648192014375113"
     }
    },
    "outputId": "aecdc7fc-25f2-4a6d-9d42-2f533f8237cf"
   },
   "execution_count": 37,
   "outputs": [
    {
     "output_type": "execute_result",
     "data": {
      "text/plain": [
       "Ttest_indResult(statistic=0.07901325177254195, pvalue=0.9370299949596226)"
      ]
     },
     "metadata": {},
     "execution_count": 37
    }
   ]
  },
  {
   "cell_type": "code",
   "source": [
    "import numpy as np\n",
    "import matplotlib.pylab as plt\n",
    "x = np.random.random(100)\n",
    "plt.plot(x)\n",
    "plt.show()"
   ],
   "metadata": {
    "colab": {
     "base_uri": "https://localhost:8080/",
     "height": 265
    },
    "id": "6bysmgPQrPY6",
    "executionInfo": {
     "status": "ok",
     "timestamp": 1660653803833,
     "user_tz": -540,
     "elapsed": 487,
     "user": {
      "displayName": "JIHAN KIM",
      "userId": "14820648192014375113"
     }
    },
    "outputId": "56098a8e-05b6-426f-9b7c-ab4f509efaf4"
   },
   "execution_count": 39,
   "outputs": [
    {
     "output_type": "display_data",
     "data": {
      "text/plain": [
       "<Figure size 432x288 with 1 Axes>"
      ],
      "image/png": "[encoded data removed]"
     },
     "metadata": {
      "needs_background": "light"
     }
    }
   ]
  },
  {
   "cell_type": "code",
   "source": [
    "from "
   ],
   "metadata": {
    "id": "J6MA_3I8rxmx"
   },
   "execution_count": null,
   "outputs": []
  }
 ]
}
