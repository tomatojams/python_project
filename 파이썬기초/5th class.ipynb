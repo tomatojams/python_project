{
 "nbformat": 4,
 "nbformat_minor": 0,
 "metadata": {
  "colab": {
   "name": "5th class.ipynb",
   "provenance": [],
   "authorship_tag": "ABX9TyMzqDwy+EQLHT45EoudBW+2"
  },
  "kernelspec": {
   "name": "python3",
   "display_name": "Python 3"
  },
  "language_info": {
   "name": "python"
  }
 },
 "cells": [
  {
   "cell_type": "code",
   "execution_count": 1,
   "metadata": {
    "colab": {
     "base_uri": "https://localhost:8080/"
    },
    "id": "q_6VwOezRBoK",
    "executionInfo": {
     "status": "ok",
     "timestamp": 1648619130581,
     "user_tz": -540,
     "elapsed": 11,
     "user": {
      "displayName": "JIHAN KIM",
      "userId": "14820648192014375113"
     }
    },
    "outputId": "7a629c8a-de76-4c83-85f4-0741f17127f8"
   },
   "outputs": [
    {
     "output_type": "execute_result",
     "data": {
      "text/plain": [
       "1"
      ]
     },
     "metadata": {},
     "execution_count": 1
    }
   ],
   "source": [
    "t1=(1,2,'a','c')\n",
    "t1[0]"
   ]
  },
  {
   "cell_type": "code",
   "source": [
    "t1[3]"
   ],
   "metadata": {
    "colab": {
     "base_uri": "https://localhost:8080/",
     "height": 37
    },
    "id": "p1el6hIKW_rZ",
    "executionInfo": {
     "status": "ok",
     "timestamp": 1648619175424,
     "user_tz": -540,
     "elapsed": 279,
     "user": {
      "displayName": "JIHAN KIM",
      "userId": "14820648192014375113"
     }
    },
    "outputId": "89c8b4b5-5708-4026-9384-b98a9d9622d7"
   },
   "execution_count": 2,
   "outputs": [
    {
     "output_type": "execute_result",
     "data": {
      "text/plain": [
       "'c'"
      ],
      "application/vnd.google.colaboratory.intrinsic+json": {
       "type": "string"
      }
     },
     "metadata": {},
     "execution_count": 2
    }
   ]
  },
  {
   "cell_type": "code",
   "source": [
    "t1[1:]"
   ],
   "metadata": {
    "colab": {
     "base_uri": "https://localhost:8080/"
    },
    "id": "aaQlUyJzXHN4",
    "executionInfo": {
     "status": "ok",
     "timestamp": 1648619196108,
     "user_tz": -540,
     "elapsed": 352,
     "user": {
      "displayName": "JIHAN KIM",
      "userId": "14820648192014375113"
     }
    },
    "outputId": "2e2e99e4-a730-4023-f44b-70b9b86407bd"
   },
   "execution_count": 3,
   "outputs": [
    {
     "output_type": "execute_result",
     "data": {
      "text/plain": [
       "(2, 'a', 'c')"
      ]
     },
     "metadata": {},
     "execution_count": 3
    }
   ]
  },
  {
   "cell_type": "code",
   "source": [
    "dic = {'name':'pey', 'age':'25', 'birth':'0328'}\n",
    "dic['some']='good'\n",
    "dic"
   ],
   "metadata": {
    "colab": {
     "base_uri": "https://localhost:8080/"
    },
    "id": "7qmHq2TMXblC",
    "executionInfo": {
     "status": "ok",
     "timestamp": 1648620466811,
     "user_tz": -540,
     "elapsed": 481,
     "user": {
      "displayName": "JIHAN KIM",
      "userId": "14820648192014375113"
     }
    },
    "outputId": "59346e39-700f-4ad5-dae1-35e663babbff"
   },
   "execution_count": 15,
   "outputs": [
    {
     "output_type": "execute_result",
     "data": {
      "text/plain": [
       "{'age': '25', 'birth': '0328', 'name': 'pey', 'some': 'good'}"
      ]
     },
     "metadata": {},
     "execution_count": 15
    }
   ]
  },
  {
   "cell_type": "code",
   "source": [
    "del dic['some']\n",
    "dic"
   ],
   "metadata": {
    "colab": {
     "base_uri": "https://localhost:8080/"
    },
    "id": "O1GqhnMubMe9",
    "executionInfo": {
     "status": "ok",
     "timestamp": 1648620286230,
     "user_tz": -540,
     "elapsed": 339,
     "user": {
      "displayName": "JIHAN KIM",
      "userId": "14820648192014375113"
     }
    },
    "outputId": "e4b639ef-ee22-42c6-f8e1-e08742afc732"
   },
   "execution_count": 7,
   "outputs": [
    {
     "output_type": "execute_result",
     "data": {
      "text/plain": [
       "{'age': '25', 'birth': '0328', 'name': 'pey'}"
      ]
     },
     "metadata": {},
     "execution_count": 7
    }
   ]
  },
  {
   "cell_type": "code",
   "source": [
    "dic.keys()"
   ],
   "metadata": {
    "colab": {
     "base_uri": "https://localhost:8080/"
    },
    "id": "AizmZ6EWbZNk",
    "executionInfo": {
     "status": "ok",
     "timestamp": 1648620392659,
     "user_tz": -540,
     "elapsed": 250,
     "user": {
      "displayName": "JIHAN KIM",
      "userId": "14820648192014375113"
     }
    },
    "outputId": "31bfa874-b0aa-49ba-8d83-2841713ec475"
   },
   "execution_count": 9,
   "outputs": [
    {
     "output_type": "execute_result",
     "data": {
      "text/plain": [
       "dict_keys(['name', 'age', 'birth'])"
      ]
     },
     "metadata": {},
     "execution_count": 9
    }
   ]
  },
  {
   "cell_type": "code",
   "source": [
    "list(dic.values())"
   ],
   "metadata": {
    "colab": {
     "base_uri": "https://localhost:8080/"
    },
    "id": "jm07w-eZbvkO",
    "executionInfo": {
     "status": "ok",
     "timestamp": 1648620490365,
     "user_tz": -540,
     "elapsed": 397,
     "user": {
      "displayName": "JIHAN KIM",
      "userId": "14820648192014375113"
     }
    },
    "outputId": "f295dbad-0dee-4bd5-d785-aa702f564f2c"
   },
   "execution_count": 17,
   "outputs": [
    {
     "output_type": "execute_result",
     "data": {
      "text/plain": [
       "['pey', '25', '0328', 'good']"
      ]
     },
     "metadata": {},
     "execution_count": 17
    }
   ]
  },
  {
   "cell_type": "code",
   "source": [],
   "metadata": {
    "id": "8hmUw75um_ux"
   },
   "execution_count": null,
   "outputs": []
  }
 ]
}
