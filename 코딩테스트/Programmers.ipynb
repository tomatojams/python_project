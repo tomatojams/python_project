{
 "cells": [
  {
   "cell_type": "markdown",
   "id": "a9e48ad76bf05102",
   "metadata": {
    "collapsed": false
   },
   "source": [
    "2023.09.17 프로그래머스 가입하고 5문제 풀어봄"
   ]
  },
  {
   "cell_type": "code",
   "execution_count": 1,
   "id": "6bc1ea3ac26bfaa2",
   "metadata": {
    "collapsed": false,
    "ExecuteTime": {
     "end_time": "2023-10-11T10:14:19.253980300Z",
     "start_time": "2023-10-11T10:14:19.244130500Z"
    }
   },
   "outputs": [],
   "source": [
    "# 최고의 조합 - 정답\n",
    "def solution(n, s):\n",
    "    if n > s:\n",
    "        return [-1]\n",
    "\n",
    "    if s % n == 0:\n",
    "        value = int(s / n)\n",
    "        answer = [value for i in range(n)]\n",
    "\n",
    "    else:\n",
    "        remain = s % n\n",
    "        value = int(s // n)\n",
    "        answer = [value for i in range(n)]\n",
    "        for i in range(len(answer) - 1, len(answer) - remain - 1, -1):\n",
    "            answer[i] += 1\n",
    "\n",
    "    return answer"
   ]
  },
  {
   "cell_type": "code",
   "execution_count": 2,
   "id": "a986b41ec180645d",
   "metadata": {
    "collapsed": false,
    "ExecuteTime": {
     "end_time": "2023-10-11T10:14:20.723898200Z",
     "start_time": "2023-10-11T10:14:20.713902200Z"
    }
   },
   "outputs": [
    {
     "data": {
      "text/plain": "[4, 5]"
     },
     "execution_count": 2,
     "metadata": {},
     "output_type": "execute_result"
    }
   ],
   "source": [
    "solution(2, 9)"
   ]
  },
  {
   "cell_type": "code",
   "execution_count": 3,
   "id": "initial_id",
   "metadata": {
    "collapsed": false,
    "ExecuteTime": {
     "end_time": "2023-10-11T10:14:21.504210800Z",
     "start_time": "2023-10-11T10:14:21.490551600Z"
    }
   },
   "outputs": [],
   "source": [
    "# 올바른괄호 - 정답\n",
    "\n",
    "def solution(s):\n",
    "    stack = []\n",
    "    for i in s:\n",
    "        if (i == '('):\n",
    "            stack.append(i)\n",
    "        elif (i == ')'):\n",
    "            if len(stack) == 0:\n",
    "                return False\n",
    "            elif stack[-1] == '(':\n",
    "                stack.pop()\n",
    "            else:\n",
    "                return False\n",
    "    if len(stack) == 0:\n",
    "        return True\n",
    "    else:\n",
    "        return False"
   ]
  },
  {
   "cell_type": "code",
   "execution_count": 4,
   "id": "e2d2b509fe3c5b18",
   "metadata": {
    "collapsed": false,
    "ExecuteTime": {
     "end_time": "2023-10-11T10:14:23.740474300Z",
     "start_time": "2023-10-11T10:14:23.727742400Z"
    }
   },
   "outputs": [
    {
     "data": {
      "text/plain": "True"
     },
     "execution_count": 4,
     "metadata": {},
     "output_type": "execute_result"
    }
   ],
   "source": [
    "solution('()()')"
   ]
  },
  {
   "cell_type": "code",
   "execution_count": 7,
   "id": "7de7e37a27c83418",
   "metadata": {
    "collapsed": false,
    "ExecuteTime": {
     "end_time": "2023-10-11T10:14:35.263953600Z",
     "start_time": "2023-10-11T10:14:35.253748200Z"
    }
   },
   "outputs": [],
   "source": [
    "#무인도 체류문제 - 정답\n",
    "\n",
    "import numpy as np\n",
    "\n",
    "\n",
    "def solution(input_map):\n",
    "    map_number = np.array([[int(char) if char != 'X' else -1 for char in row] for row in input_map])\n",
    "    if np.all(map_number == -1):\n",
    "        return [-1]\n",
    "\n",
    "    value_dict = {}\n",
    "    mark = -2\n",
    "\n",
    "    for i in range(len(map_number)):\n",
    "        mark -= 1\n",
    "        value_dict[mark] = 0\n",
    "        for j in range(len(map_number[i])):\n",
    "            if map_number[i][j] != -1:\n",
    "                value_dict[mark] += int(map_number[i][j])\n",
    "                map_number[i][j] = mark\n",
    "            elif j != 0 and j != len(map_number[i]) - 1 and map_number[i][j] == -1 and map_number[i][j + 1] != -1:\n",
    "                mark -= 1\n",
    "                value_dict[mark] = int(0)\n",
    "\n",
    "    print(map_number)\n",
    "    print(value_dict)\n",
    "    mark = -1\n",
    "    for i in range(len(map_number[0])):\n",
    "        mark = -1\n",
    "        for j in range(len(map_number)):\n",
    "            if map_number[j][i] != -1:\n",
    "                if (j == 0) or (j != 0 and map_number[j - 1][i] == -1):\n",
    "                    mark = map_number[j][i]\n",
    "\n",
    "                elif (j != 0) and (map_number[j - 1][i] != - 1) and (map_number[j - 1][i] != map_number[j][i]):\n",
    "                    temp = map_number[j][i]\n",
    "                    value_dict[mark] += int(value_dict[map_number[j][i]])\n",
    "                    value_dict.pop(map_number[j][i])\n",
    "                    map_number[map_number == temp] = mark\n",
    "    print(map_number)\n",
    "    print(value_dict)\n",
    "\n",
    "    return (sorted([value for value in value_dict.values() if value != 0]))"
   ]
  },
  {
   "cell_type": "code",
   "execution_count": 8,
   "id": "fd326e4de8a64291",
   "metadata": {
    "collapsed": false,
    "ExecuteTime": {
     "end_time": "2023-10-11T10:14:37.072670Z",
     "start_time": "2023-10-11T10:14:37.062939Z"
    }
   },
   "outputs": [
    {
     "name": "stdout",
     "output_type": "stream",
     "text": [
      "[[-1 -3 -3 -3 -1]\n",
      " [-1 -4 -1 -5 -1]\n",
      " [-1 -6 -6 -6 -1]\n",
      " [-7 -1 -1 -1 -8]]\n",
      "{-3: 15, -4: 1, -5: 5, -6: 6, -7: 1, -8: 1}\n",
      "[[-1 -3 -3 -3 -1]\n",
      " [-1 -3 -1 -3 -1]\n",
      " [-1 -3 -3 -3 -1]\n",
      " [-7 -1 -1 -1 -8]]\n",
      "{-3: 27, -7: 1, -8: 1}\n"
     ]
    },
    {
     "data": {
      "text/plain": "[1, 1, 27]"
     },
     "execution_count": 8,
     "metadata": {},
     "output_type": "execute_result"
    }
   ],
   "source": [
    "solution([\"X591X\", \"X1X5X\", \"X231X\", \"1XXX1\"])"
   ]
  },
  {
   "cell_type": "code",
   "execution_count": 9,
   "id": "e89b0c9b0e29449e",
   "metadata": {
    "collapsed": false,
    "ExecuteTime": {
     "end_time": "2023-10-11T10:14:38.260225700Z",
     "start_time": "2023-10-11T10:14:38.236662700Z"
    }
   },
   "outputs": [
    {
     "data": {
      "text/plain": "[-1]"
     },
     "execution_count": 9,
     "metadata": {},
     "output_type": "execute_result"
    }
   ],
   "source": [
    "solution([\"XXX\", \"XXX\", \"XXX\"])"
   ]
  },
  {
   "cell_type": "code",
   "execution_count": 10,
   "id": "e9af1a1e42c1dcb",
   "metadata": {
    "collapsed": false,
    "ExecuteTime": {
     "end_time": "2023-10-11T10:14:39.413100100Z",
     "start_time": "2023-10-11T10:14:39.390010100Z"
    }
   },
   "outputs": [],
   "source": [
    "# 소수만들기 - 정답\n",
    "\n",
    "# import numpy as np\n",
    "from itertools import combinations\n",
    "\n",
    "\n",
    "def solution(array):\n",
    "    def isprime(number):\n",
    "        if number < 2:\n",
    "            return False\n",
    "        for i in range(2, int(number ** 0.5) + 1):\n",
    "            if number % i == 0:\n",
    "                return False\n",
    "        return True\n",
    "\n",
    "    # array = np.array(nums)\n",
    "\n",
    "    combination = [list(i) for i in combinations(array, 3)]\n",
    "\n",
    "    summed_list = [sum(i) for i in combination]\n",
    "\n",
    "    count = 0\n",
    "    for i in range(len(summed_list)):\n",
    "        if isprime(summed_list[i]):\n",
    "            count += 1\n",
    "    return count\n"
   ]
  },
  {
   "cell_type": "code",
   "execution_count": 11,
   "id": "bdadb3cdf3cfcf86",
   "metadata": {
    "collapsed": false,
    "ExecuteTime": {
     "end_time": "2023-10-11T10:14:40.680868900Z",
     "start_time": "2023-10-11T10:14:40.663718400Z"
    }
   },
   "outputs": [
    {
     "data": {
      "text/plain": "2"
     },
     "execution_count": 11,
     "metadata": {},
     "output_type": "execute_result"
    }
   ],
   "source": [
    "solution([1, 2, 3, 4, 5])"
   ]
  },
  {
   "cell_type": "code",
   "execution_count": 12,
   "id": "da6a5233f7452c8a",
   "metadata": {
    "collapsed": false,
    "ExecuteTime": {
     "end_time": "2023-10-11T10:14:43.835670200Z",
     "start_time": "2023-10-11T10:14:43.824022200Z"
    }
   },
   "outputs": [],
   "source": [
    "# 사과상자담기 - 정답\n",
    "\n",
    "import numpy as np\n",
    "\n",
    "\n",
    "def solution(k, m, score):\n",
    "    sorted_array = np.sort(np.array(score))[::-1]\n",
    "    slice_lists = [sorted_array[i:i + m].tolist() for i in range(0, len(sorted_array), m)]\n",
    "\n",
    "    count = 0\n",
    "    for i in slice_lists:\n",
    "        if len(i) != m:\n",
    "            break\n",
    "        count += m * i[-1]\n",
    "\n",
    "    return count\n"
   ]
  },
  {
   "cell_type": "code",
   "execution_count": 13,
   "id": "631618bbb40853db",
   "metadata": {
    "collapsed": false,
    "ExecuteTime": {
     "end_time": "2023-10-11T10:14:45.172726700Z",
     "start_time": "2023-10-11T10:14:45.159760200Z"
    }
   },
   "outputs": [
    {
     "data": {
      "text/plain": "33"
     },
     "execution_count": 13,
     "metadata": {},
     "output_type": "execute_result"
    }
   ],
   "source": [
    "solution(4, 3, [4, 1, 2, 2, 4, 4, 4, 4, 1, 2, 4, 2])"
   ]
  },
  {
   "cell_type": "code",
   "execution_count": 14,
   "id": "102cf9aec887cc74",
   "metadata": {
    "collapsed": false,
    "ExecuteTime": {
     "end_time": "2023-10-11T10:14:45.794495300Z",
     "start_time": "2023-10-11T10:14:45.765722900Z"
    }
   },
   "outputs": [
    {
     "data": {
      "text/plain": "8"
     },
     "execution_count": 14,
     "metadata": {},
     "output_type": "execute_result"
    }
   ],
   "source": [
    "solution(3, 4, [1, 2, 3, 1, 2, 3, 1])"
   ]
  },
  {
   "cell_type": "code",
   "execution_count": 15,
   "id": "3de8ad30853d4158",
   "metadata": {
    "collapsed": false,
    "ExecuteTime": {
     "end_time": "2023-10-11T10:14:46.350478500Z",
     "start_time": "2023-10-11T10:14:46.335746900Z"
    }
   },
   "outputs": [
    {
     "data": {
      "text/plain": "-3"
     },
     "execution_count": 15,
     "metadata": {},
     "output_type": "execute_result"
    }
   ],
   "source": [
    "# 컨트롤제트 - 정답\n",
    "\n",
    "def solution(s):\n",
    "    number = []\n",
    "    number = s.split(' ')\n",
    "    count = 0\n",
    "    temp = 0\n",
    "\n",
    "    for i in number:\n",
    "        try:\n",
    "            count += int(i)\n",
    "            temp = int(i)\n",
    "        except:\n",
    "            if i == 'Z':\n",
    "                count -= temp\n",
    "    return count\n",
    "\n",
    "\n",
    "solution(\"-1 -2 -3 Z\")\n",
    "\n",
    "\n"
   ]
  },
  {
   "cell_type": "code",
   "execution_count": 16,
   "id": "94f03be984991fe0",
   "metadata": {
    "collapsed": false,
    "ExecuteTime": {
     "end_time": "2023-10-11T10:14:48.467279700Z",
     "start_time": "2023-10-11T10:14:48.456068900Z"
    }
   },
   "outputs": [],
   "source": [
    "from itertools import accumulate\n",
    "\n",
    "\n",
    "def solution(cookie):\n",
    "    answer = 0\n",
    "    for m in range(len(cookie) - 1):\n",
    "        a = set(accumulate(reversed(cookie[:m + 1])))\n",
    "        b = set(accumulate(cookie[m + 1:]))\n",
    "        c = a & b\n",
    "\n",
    "        if c:\n",
    "            answer = max(*c, answer)\n",
    "    return answer"
   ]
  },
  {
   "cell_type": "code",
   "execution_count": 17,
   "outputs": [
    {
     "data": {
      "text/plain": "10"
     },
     "execution_count": 17,
     "metadata": {},
     "output_type": "execute_result"
    }
   ],
   "source": [
    "a = [2, 3, -6, 1, 3, -1, 2, 4]\n",
    "\n",
    "import numpy as np\n",
    "\n",
    "\n",
    "def solution(sequence):\n",
    "    sequence = np.array(sequence)\n",
    "    length = len(sequence)\n",
    "\n",
    "    pulse = [1 if i % 2 == 0 else -1 for i in range(length)]\n",
    "    array_1 = pulse * sequence\n",
    "\n",
    "    cumulative_sum_1 = np.zeros(length + 1)\n",
    "\n",
    "    for i in range(length):\n",
    "        cumulative_sum_1[i + 1] = cumulative_sum_1[i] + array_1[i]\n",
    "\n",
    "    cumulative_sum_2 = -1 * cumulative_sum_1\n",
    "\n",
    "    max_index_1 = np.argmax(cumulative_sum_1)\n",
    "    max_cumalative_1 = max(cumulative_sum_1) - min(cumulative_sum_1[:max_index_1])\n",
    "    max_index_2 = np.argmax(cumulative_sum_2)\n",
    "    max_cumalative_2 = max(cumulative_sum_2) - min(cumulative_sum_2[:max_index_2])\n",
    "\n",
    "    solution = int(max(max_cumalative_1, max_cumalative_2))\n",
    "    return solution\n",
    "\n",
    "\n",
    "solution(a)\n"
   ],
   "metadata": {
    "collapsed": false,
    "ExecuteTime": {
     "end_time": "2023-10-11T10:14:49.510796900Z",
     "start_time": "2023-10-11T10:14:49.498477700Z"
    }
   },
   "id": "96e9ddb397a3d286"
  },
  {
   "cell_type": "code",
   "execution_count": 25,
   "outputs": [
    {
     "name": "stdout",
     "output_type": "stream",
     "text": [
      "10\n"
     ]
    }
   ],
   "source": [
    "import numpy as np\n",
    "\n",
    "\n",
    "def solution(sequence):\n",
    "    sequence = np.array(sequence)\n",
    "    length = len(sequence)\n",
    "\n",
    "    pulse = [1 if i % 2 == 0 else -1 for i in range(length)]\n",
    "    array_1 = pulse * sequence\n",
    "\n",
    "    cumulative_sum_1 = np.zeros(length + 1)\n",
    "\n",
    "    for i in range(length):\n",
    "        cumulative_sum_1[i + 1] = cumulative_sum_1[i] + array_1[i]\n",
    "\n",
    "    cumulative_sum_2 = -1 * cumulative_sum_1\n",
    "\n",
    "    max_index_1 = np.argmax(cumulative_sum_1)\n",
    "    max_cumulative_1 = max(cumulative_sum_1) - min(cumulative_sum_1[:max_index_1]) if max_index_1 > 0 else \\\n",
    "        cumulative_sum_1[0]\n",
    "\n",
    "    max_index_2 = np.argmax(cumulative_sum_2)\n",
    "    max_cumulative_2 = max(cumulative_sum_2) - min(cumulative_sum_2[:max_index_2]) if max_index_2 > 0 else \\\n",
    "        cumulative_sum_2[0]\n",
    "\n",
    "    solution = int(max(max_cumulative_1, max_cumulative_2))\n",
    "    return solution\n",
    "\n",
    "\n",
    "# 테스트\n",
    "a = [2, 3, -6, 1, 3, -1, 2, 4]\n",
    "print(solution(a))  # 출력: 10\n"
   ],
   "metadata": {
    "collapsed": false,
    "ExecuteTime": {
     "end_time": "2023-10-11T10:15:08.995529600Z",
     "start_time": "2023-10-11T10:15:08.983492900Z"
    }
   },
   "id": "c2658ca7c2ac6ded"
  },
  {
   "cell_type": "code",
   "execution_count": 19,
   "outputs": [
    {
     "name": "stdout",
     "output_type": "stream",
     "text": [
      "{4: [1], 1: [4, 5, 2, 3], 5: [1, 6], 6: [5, 7, 8], 7: [6], 2: [1, 9], 3: [1], 8: [6], 9: [2, 10], 10: [9]}\n"
     ]
    }
   ],
   "source": [
    "import numpy as np\n",
    "\n",
    "\n",
    "def solution(n, lighthouse):\n",
    "    count = {}\n",
    "    for i in lighthouse:\n",
    "        if i[0] in count:\n",
    "            count[i[0]].append(i[1])\n",
    "        else:\n",
    "            count[i[0]] = [i[1]]\n",
    "        if i[1] in count:\n",
    "            count[i[1]].append(i[0])\n",
    "        else:\n",
    "            count[i[1]] = [i[0]]\n",
    "    print(count)\n",
    "\n",
    "\n",
    "solution(10, [[4, 1], [5, 1], [5, 6], [7, 6], [1, 2], [1, 3], [6, 8], [2, 9], [9, 10]])\n"
   ],
   "metadata": {
    "collapsed": false,
    "ExecuteTime": {
     "end_time": "2023-10-11T10:14:56.187439100Z",
     "start_time": "2023-10-11T10:14:56.169848600Z"
    }
   },
   "id": "9d6ec89f09e0aaa7"
  },
  {
   "cell_type": "code",
   "execution_count": null,
   "outputs": [],
   "source": [],
   "metadata": {
    "collapsed": false
   },
   "id": "cd09d36fadde1b53"
  }
 ],
 "metadata": {
  "kernelspec": {
   "display_name": "Python 3",
   "language": "python",
   "name": "python3"
  },
  "language_info": {
   "codemirror_mode": {
    "name": "ipython",
    "version": 3
   },
   "file_extension": ".py",
   "mimetype": "text/x-python",
   "name": "python",
   "nbconvert_exporter": "python",
   "pygments_lexer": "ipython3",
   "version": "3.10.12"
  }
 },
 "nbformat": 4,
 "nbformat_minor": 5
}
