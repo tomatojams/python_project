{
 "cells": [
  {
   "cell_type": "markdown",
   "source": [
    "2023.09.17 프로그래머스 가입하고 5문제 풀어봄"
   ],
   "metadata": {
    "collapsed": false
   },
   "id": "a9e48ad76bf05102"
  },
  {
   "cell_type": "code",
   "execution_count": null,
   "outputs": [],
   "source": [
    "# 최고의 조합 - 정답\n",
    "def solution(n, s):\n",
    "    if n > s:\n",
    "        return  [-1]\n",
    "\n",
    "    if s % n == 0:\n",
    "        value = int(s / n)\n",
    "        answer = [ value for i in range(n)]\n",
    "\n",
    "    else:\n",
    "        remain = s % n\n",
    "        value = int(s // n)\n",
    "        answer = [ value for i in range(n)]\n",
    "        for i in range(len(answer)-1, len(answer)-remain-1, -1):\n",
    "            answer[i] += 1\n",
    "\n",
    "    return answer"
   ],
   "metadata": {
    "collapsed": false
   },
   "id": "6bc1ea3ac26bfaa2"
  },
  {
   "cell_type": "code",
   "execution_count": 9,
   "outputs": [
    {
     "data": {
      "text/plain": "[4, 5]"
     },
     "execution_count": 9,
     "metadata": {},
     "output_type": "execute_result"
    }
   ],
   "source": [
    "solution(2,9)"
   ],
   "metadata": {
    "collapsed": false,
    "ExecuteTime": {
     "end_time": "2023-09-16T13:00:12.149457300Z",
     "start_time": "2023-09-16T13:00:12.143457600Z"
    }
   },
   "id": "a986b41ec180645d"
  },
  {
   "cell_type": "code",
   "execution_count": 10,
   "outputs": [],
   "source": [
    "# 올바른괄호 - 정답\n",
    "\n",
    "def solution(s):\n",
    "    stack =[]\n",
    "    for i in s:\n",
    "        if( i == '('):\n",
    "            stack.append(i)\n",
    "        elif(i ==')'):\n",
    "            if len(stack) == 0:\n",
    "                return False\n",
    "            elif stack[-1] == '(':\n",
    "                stack.pop()\n",
    "            else:\n",
    "                return False\n",
    "    if len(stack) ==0:\n",
    "        return True\n",
    "    else:\n",
    "        return False"
   ],
   "metadata": {
    "collapsed": false,
    "ExecuteTime": {
     "end_time": "2023-09-16T13:00:14.707938400Z",
     "start_time": "2023-09-16T13:00:14.690939100Z"
    }
   },
   "id": "initial_id"
  },
  {
   "cell_type": "code",
   "execution_count": 11,
   "outputs": [
    {
     "data": {
      "text/plain": "True"
     },
     "execution_count": 11,
     "metadata": {},
     "output_type": "execute_result"
    }
   ],
   "source": [
    "solution('()()')"
   ],
   "metadata": {
    "collapsed": false,
    "ExecuteTime": {
     "end_time": "2023-09-16T13:00:15.611819600Z",
     "start_time": "2023-09-16T13:00:15.598149500Z"
    }
   },
   "id": "e2d2b509fe3c5b18"
  },
  {
   "cell_type": "code",
   "execution_count": 365,
   "outputs": [],
   "source": [
    "#무인도 체류문제 - 정답\n",
    "\n",
    "import numpy as np\n",
    "\n",
    "def solution(input_map):\n",
    "\n",
    "    map_number = np.array([[int(char) if char != 'X' else -1 for char in row] for row in input_map])\n",
    "    if np.all(map_number == -1):\n",
    "        return [-1]\n",
    "\n",
    "    value_dict = {}\n",
    "    mark = -2\n",
    "\n",
    "    for i in range(len(map_number)):\n",
    "        mark -= 1\n",
    "        value_dict[mark] = 0\n",
    "        for j in range(len(map_number[i])):\n",
    "            if  map_number[i][j] != -1 :\n",
    "                value_dict[mark] += int(map_number[i][j])\n",
    "                map_number[i][j] = mark\n",
    "            elif j != 0 and  j != len(map_number[i])-1 and map_number[i][j] == -1  and map_number[i][j+1] != -1:\n",
    "                mark -=1\n",
    "                value_dict[mark] = int(0)\n",
    "                \n",
    "    print(map_number)\n",
    "    print(value_dict)\n",
    "    mark = -1\n",
    "    for i in range(len(map_number[0])):\n",
    "        mark = -1\n",
    "        for j in range(len(map_number)):\n",
    "            if map_number[j][i] != -1:\n",
    "                if (j == 0) or (j != 0 and map_number[j - 1][i] == -1):\n",
    "                    mark = map_number[j][i]\n",
    "\n",
    "                elif (j != 0)  and (map_number[j-1][i] !=- 1 ) and (map_number[j-1][i] != map_number[j][i]):\n",
    "                    temp = map_number[j][i]\n",
    "                    value_dict[mark] += int(value_dict[map_number[j][i]])\n",
    "                    value_dict.pop(map_number[j][i])\n",
    "                    map_number[map_number == temp] = mark\n",
    "    print(map_number)\n",
    "    print(value_dict)\n",
    "\n",
    "\n",
    "    return (sorted([value for value in value_dict.values() if value != 0]))"
   ],
   "metadata": {
    "collapsed": false,
    "ExecuteTime": {
     "end_time": "2023-09-16T18:05:25.981072100Z",
     "start_time": "2023-09-16T18:05:25.955074600Z"
    }
   },
   "id": "7de7e37a27c83418"
  },
  {
   "cell_type": "code",
   "execution_count": 366,
   "outputs": [
    {
     "name": "stdout",
     "output_type": "stream",
     "text": [
      "[[-1 -3 -3 -3 -1]\n",
      " [-1 -4 -1 -5 -1]\n",
      " [-1 -6 -6 -6 -1]\n",
      " [-7 -1 -1 -1 -8]]\n",
      "{-3: 15, -4: 1, -5: 5, -6: 6, -7: 1, -8: 1}\n",
      "[[-1 -3 -3 -3 -1]\n",
      " [-1 -3 -1 -3 -1]\n",
      " [-1 -3 -3 -3 -1]\n",
      " [-7 -1 -1 -1 -8]]\n",
      "{-3: 27, -7: 1, -8: 1}\n"
     ]
    },
    {
     "data": {
      "text/plain": "[1, 1, 27]"
     },
     "execution_count": 366,
     "metadata": {},
     "output_type": "execute_result"
    }
   ],
   "source": [
    "solution([\"X591X\", \"X1X5X\", \"X231X\", \"1XXX1\"])"
   ],
   "metadata": {
    "collapsed": false,
    "ExecuteTime": {
     "end_time": "2023-09-16T18:05:26.891438200Z",
     "start_time": "2023-09-16T18:05:26.884436800Z"
    }
   },
   "id": "fd326e4de8a64291"
  },
  {
   "cell_type": "code",
   "execution_count": 367,
   "outputs": [
    {
     "data": {
      "text/plain": "[-1]"
     },
     "execution_count": 367,
     "metadata": {},
     "output_type": "execute_result"
    }
   ],
   "source": [
    "solution([\"XXX\",\"XXX\",\"XXX\"])"
   ],
   "metadata": {
    "collapsed": false,
    "ExecuteTime": {
     "end_time": "2023-09-16T18:05:27.541394100Z",
     "start_time": "2023-09-16T18:05:27.527389Z"
    }
   },
   "id": "e89b0c9b0e29449e"
  },
  {
   "cell_type": "code",
   "execution_count": 394,
   "outputs": [],
   "source": [
    "# 소수만들기 - 정답\n",
    "\n",
    "# import numpy as np\n",
    "from itertools import combinations\n",
    "\n",
    "def solution(array):\n",
    "    \n",
    "    def isprime(number):\n",
    "        if number <2:\n",
    "            return False\n",
    "        for i in range(2, int(number**0.5)+1):\n",
    "            if number%i == 0:\n",
    "                return False\n",
    "        return True\n",
    "    \n",
    "    # array = np.array(nums)\n",
    "    \n",
    "    combination = [list(i) for i in combinations(array,3)]\n",
    "\n",
    "    summed_list = [sum(i) for i in combination]\n",
    "    \n",
    "    count = 0\n",
    "    for i in range(len(summed_list)):\n",
    "        if isprime(summed_list[i]):\n",
    "            count +=1\n",
    "    return count\n"
   ],
   "metadata": {
    "collapsed": false,
    "ExecuteTime": {
     "end_time": "2023-09-16T18:41:00.703872500Z",
     "start_time": "2023-09-16T18:41:00.692874500Z"
    }
   },
   "id": "e9af1a1e42c1dcb"
  },
  {
   "cell_type": "code",
   "execution_count": 395,
   "outputs": [
    {
     "data": {
      "text/plain": "2"
     },
     "execution_count": 395,
     "metadata": {},
     "output_type": "execute_result"
    }
   ],
   "source": [
    "solution([1,2,3,4,5])"
   ],
   "metadata": {
    "collapsed": false,
    "ExecuteTime": {
     "end_time": "2023-09-16T18:41:01.209832Z",
     "start_time": "2023-09-16T18:41:01.195835700Z"
    }
   },
   "id": "bdadb3cdf3cfcf86"
  },
  {
   "cell_type": "code",
   "execution_count": 425,
   "outputs": [],
   "source": [
    "# 사과상자담기 - 정답\n",
    "\n",
    "import numpy as np\n",
    "\n",
    "def solution(k, m, score):\n",
    "    \n",
    "    sorted_array = np.sort( np.array(score))[::-1]\n",
    "    slice_lists = [ sorted_array[i:i+m].tolist() for i in range(0, len(sorted_array),m)]\n",
    "    \n",
    "    count = 0\n",
    "    for i in slice_lists:\n",
    "        if len(i) != m:\n",
    "            break\n",
    "        count +=  m * i[-1]\n",
    "    \n",
    "    return count\n",
    "    "
   ],
   "metadata": {
    "collapsed": false,
    "ExecuteTime": {
     "end_time": "2023-09-16T19:20:26.283329300Z",
     "start_time": "2023-09-16T19:20:26.258814600Z"
    }
   },
   "id": "da6a5233f7452c8a"
  },
  {
   "cell_type": "code",
   "execution_count": 426,
   "outputs": [
    {
     "data": {
      "text/plain": "33"
     },
     "execution_count": 426,
     "metadata": {},
     "output_type": "execute_result"
    }
   ],
   "source": [
    "solution(4, 3 ,[4, 1, 2, 2, 4, 4, 4, 4, 1, 2, 4, 2])"
   ],
   "metadata": {
    "collapsed": false,
    "ExecuteTime": {
     "end_time": "2023-09-16T19:20:26.591795800Z",
     "start_time": "2023-09-16T19:20:26.582793300Z"
    }
   },
   "id": "631618bbb40853db"
  },
  {
   "cell_type": "code",
   "execution_count": 427,
   "outputs": [
    {
     "data": {
      "text/plain": "8"
     },
     "execution_count": 427,
     "metadata": {},
     "output_type": "execute_result"
    }
   ],
   "source": [
    "solution(3,4,[1, 2, 3, 1, 2, 3, 1])"
   ],
   "metadata": {
    "collapsed": false,
    "ExecuteTime": {
     "end_time": "2023-09-16T19:20:29.928519Z",
     "start_time": "2023-09-16T19:20:29.920521600Z"
    }
   },
   "id": "102cf9aec887cc74"
  },
  {
   "cell_type": "code",
   "execution_count": null,
   "outputs": [],
   "source": [],
   "metadata": {
    "collapsed": false
   },
   "id": "3de8ad30853d4158"
  }
 ],
 "metadata": {
  "kernelspec": {
   "display_name": "Python 3",
   "language": "python",
   "name": "python3"
  },
  "language_info": {
   "codemirror_mode": {
    "name": "ipython",
    "version": 2
   },
   "file_extension": ".py",
   "mimetype": "text/x-python",
   "name": "python",
   "nbconvert_exporter": "python",
   "pygments_lexer": "ipython2",
   "version": "2.7.6"
  }
 },
 "nbformat": 4,
 "nbformat_minor": 5
}
