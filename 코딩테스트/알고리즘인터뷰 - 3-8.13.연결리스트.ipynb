{
 "cells": [
  {
   "cell_type": "markdown",
   "source": [
    "### 단순연결 리스트 복습"
   ],
   "metadata": {
    "collapsed": false
   },
   "id": "48758abfd81034f6"
  },
  {
   "cell_type": "code",
   "outputs": [],
   "source": [
    "# 단순연결 리스트 복습\n",
    "\n",
    "node1 = ListNode('강남')\n",
    "node2 = ListNode('강변')\n",
    "node3 = ListNode('남양주')\n",
    "node4 = ListNode('해변')\n",
    "node1.next = node2\n",
    "node2.next = node3\n",
    "node3.next = node4\n",
    "head = node1"
   ],
   "metadata": {
    "collapsed": false,
    "ExecuteTime": {
     "end_time": "2023-12-26T07:48:51.009475Z",
     "start_time": "2023-12-26T07:48:50.990227Z"
    }
   },
   "id": "6469c4760590f73",
   "execution_count": 200
  },
  {
   "cell_type": "code",
   "outputs": [
    {
     "name": "stdout",
     "output_type": "stream",
     "text": [
      "강남 강변 남양주 해변 "
     ]
    }
   ],
   "source": [
    "# 단순연결 리스트 출력 \n",
    "current = head\n",
    "while current != None:\n",
    "    print(current.val,end=\" \")\n",
    "    current = current.next"
   ],
   "metadata": {
    "collapsed": false,
    "ExecuteTime": {
     "end_time": "2023-12-26T07:48:51.010054Z",
     "start_time": "2023-12-26T07:48:50.993975Z"
    }
   },
   "id": "510cf1f9132b7da3",
   "execution_count": 201
  },
  {
   "cell_type": "code",
   "outputs": [],
   "source": [
    "# 중간에 찾아서 앞에 삽입\n",
    "current = head\n",
    "\n",
    "while current.next != None:\n",
    "    pre = current\n",
    "    current = current.next\n",
    "    if current.val == '남양주':\n",
    "        new_node = ListNode('양재')\n",
    "        new_node.next = current\n",
    "        pre.next = new_node"
   ],
   "metadata": {
    "collapsed": false,
    "ExecuteTime": {
     "end_time": "2023-12-26T07:48:51.010351Z",
     "start_time": "2023-12-26T07:48:50.997580Z"
    }
   },
   "id": "1aa5546c2207ff62",
   "execution_count": 202
  },
  {
   "cell_type": "code",
   "outputs": [
    {
     "name": "stdout",
     "output_type": "stream",
     "text": [
      "강남 강변 양재 남양주 해변 "
     ]
    }
   ],
   "source": [
    "# 단순연결 리스트 출력 \n",
    "current = head\n",
    "while current != None:\n",
    "    print(current.val,end=\" \")\n",
    "    current = current.next"
   ],
   "metadata": {
    "collapsed": false,
    "ExecuteTime": {
     "end_time": "2023-12-26T07:48:51.035405Z",
     "start_time": "2023-12-26T07:48:51.001649Z"
    }
   },
   "id": "ae000b836685d350",
   "execution_count": 203
  },
  {
   "cell_type": "code",
   "outputs": [],
   "source": [
    "# 단순연결 리스트 처음에 삽입\n",
    "\n",
    "head_node = ListNode('속초')\n",
    "head_node.next = head\n",
    "head = head_node"
   ],
   "metadata": {
    "collapsed": false,
    "ExecuteTime": {
     "end_time": "2023-12-26T07:48:51.036590Z",
     "start_time": "2023-12-26T07:48:51.006220Z"
    }
   },
   "id": "f8b0e4536f3a2d31",
   "execution_count": 204
  },
  {
   "cell_type": "code",
   "outputs": [
    {
     "name": "stdout",
     "output_type": "stream",
     "text": [
      "속초 강남 강변 양재 남양주 해변 "
     ]
    }
   ],
   "source": [
    "# 단순연결 리스트 출력 \n",
    "current = head\n",
    "while current != None:\n",
    "    print(current.val,end=\" \")\n",
    "    current = current.next"
   ],
   "metadata": {
    "collapsed": false,
    "ExecuteTime": {
     "end_time": "2023-12-26T07:48:51.039296Z",
     "start_time": "2023-12-26T07:48:51.012607Z"
    }
   },
   "id": "6d9fafccc0964598",
   "execution_count": 205
  },
  {
   "cell_type": "code",
   "outputs": [],
   "source": [
    "#마지막 자리에 데이타 삽입\n",
    "# while 안에 if문으로넣어버리면 무한반복되어버림\n",
    "# while문으로 끝자리까지만 가는걸로\n",
    "current = head\n",
    "while current.next != None:\n",
    "    current = current.next\n",
    "\n",
    "new_node = ListNode('부산')\n",
    "current.next = new_node"
   ],
   "metadata": {
    "collapsed": false,
    "ExecuteTime": {
     "end_time": "2023-12-26T07:48:51.055656Z",
     "start_time": "2023-12-26T07:48:51.040883Z"
    }
   },
   "id": "3e27e26841512c96",
   "execution_count": 206
  },
  {
   "cell_type": "code",
   "outputs": [
    {
     "name": "stdout",
     "output_type": "stream",
     "text": [
      "속초 강남 강변 양재 남양주 해변 부산 "
     ]
    }
   ],
   "source": [
    "# 단순연결 리스트 출력 \n",
    "current = head\n",
    "while current != None:\n",
    "    print(current.val,end=\" \")\n",
    "    current = current.next"
   ],
   "metadata": {
    "collapsed": false,
    "ExecuteTime": {
     "end_time": "2023-12-26T07:48:51.069734Z",
     "start_time": "2023-12-26T07:48:51.059014Z"
    }
   },
   "id": "dee2d31522c0e930",
   "execution_count": 207
  },
  {
   "cell_type": "code",
   "outputs": [],
   "source": [
    "# 중간 특정 노드 삭제\n",
    "current = head\n",
    "\n",
    "while current.next != None:\n",
    "    pre = current\n",
    "    current = current.next\n",
    "    \n",
    "    if current.val == '강변':\n",
    "        pre.next = current.next\n",
    "        del(current)"
   ],
   "metadata": {
    "collapsed": false,
    "ExecuteTime": {
     "end_time": "2023-12-26T07:49:03.258203Z",
     "start_time": "2023-12-26T07:49:03.250714Z"
    }
   },
   "id": "584d09858d246ba3",
   "execution_count": 209
  },
  {
   "cell_type": "code",
   "outputs": [
    {
     "name": "stdout",
     "output_type": "stream",
     "text": [
      "속초 강남 양재 남양주 해변 부산 "
     ]
    }
   ],
   "source": [
    "# 단순연결 리스트 출력 \n",
    "current = head\n",
    "while current != None:\n",
    "    print(current.val,end=\" \")\n",
    "    current = current.next"
   ],
   "metadata": {
    "collapsed": false,
    "ExecuteTime": {
     "end_time": "2023-12-26T07:49:08.174454Z",
     "start_time": "2023-12-26T07:49:08.164248Z"
    }
   },
   "id": "a8b4f74f43c90479",
   "execution_count": 210
  },
  {
   "cell_type": "code",
   "outputs": [],
   "source": [
    "# 단순연결 리스트 합본\n",
    "\n",
    "# 클래스 선언\n",
    "class ListNode():\n",
    "    def __init__(self,val):\n",
    "        self.val = val\n",
    "        self.next = None\n",
    "\n",
    "# 출력\n",
    "def printNode(head):\n",
    "    current = head\n",
    "    if current == None:\n",
    "        return\n",
    "    print(current.val,end=\" \")\n",
    "    while current.next != None:\n",
    "        current = current.next\n",
    "        print(current.val,end=\" \")\n",
    "    print()\n",
    "    \n",
    "# 삽입\n",
    "def insertNode(find_data, insert_data):\n",
    "    global current,pre,head,memory\n",
    "    \n",
    "    current = head\n",
    "    pre = head\n",
    "    while current.next != None:\n",
    "        if current.val == find_data:\n",
    "            new_node = ListNode(insert_data)\n",
    "            head = new_node\n",
    "            new_node.next = current\n",
    "    \n",
    "    "
   ],
   "metadata": {
    "collapsed": false,
    "ExecuteTime": {
     "end_time": "2023-12-26T10:00:20.225862Z",
     "start_time": "2023-12-26T10:00:20.218750Z"
    }
   },
   "id": "9506036664588be1",
   "execution_count": 12
  },
  {
   "cell_type": "markdown",
   "source": [
    "### 13 팰린드롬 연결리스트"
   ],
   "metadata": {
    "collapsed": false
   },
   "id": "7a992ee25bdbf815"
  },
  {
   "cell_type": "code",
   "outputs": [],
   "source": [
    "class ListNode:\n",
    "    def __init__(self, x):\n",
    "        self.val = x\n",
    "        self.next = None\n",
    "\n",
    "\n",
    "def isPalindrome(head: ListNode) -> bool:\n",
    "    q: List = []  # 타입힌트 \n",
    "\n",
    "    if not head:\n",
    "        return True\n",
    "    current = head\n",
    "    # 리스트 변환\n",
    "    while current is not None:\n",
    "        q.append(current.val)\n",
    "        current = current.next\n",
    "\n",
    "    while len(q) > 1:\n",
    "        if q.pop(0) != q.pop():\n",
    "            return False\n",
    "    return True\n",
    "\n",
    "# q.pop(0)은 O(n)이므로 시간복잡도 O(n^2)이다."
   ],
   "metadata": {
    "collapsed": false,
    "ExecuteTime": {
     "end_time": "2023-12-27T09:40:54.965194Z",
     "start_time": "2023-12-27T09:40:54.950206Z"
    }
   },
   "id": "7791146b51f2da90",
   "execution_count": 1
  },
  {
   "cell_type": "code",
   "outputs": [],
   "source": [
    "a = ListNode(1)\n",
    "b = ListNode(2)\n",
    "c = ListNode(3)\n",
    "d = ListNode(2)\n",
    "e = ListNode(1)\n",
    "a.next = b\n",
    "b.next = c\n",
    "c.next = d\n",
    "d.next = e"
   ],
   "metadata": {
    "collapsed": false,
    "ExecuteTime": {
     "end_time": "2023-12-27T09:40:56.558701Z",
     "start_time": "2023-12-27T09:40:56.549426Z"
    }
   },
   "id": "5f7dcb26da61d306",
   "execution_count": 2
  },
  {
   "cell_type": "code",
   "outputs": [
    {
     "data": {
      "text/plain": "True"
     },
     "execution_count": 3,
     "metadata": {},
     "output_type": "execute_result"
    }
   ],
   "source": [
    "isPalindrome(a)"
   ],
   "metadata": {
    "collapsed": false,
    "ExecuteTime": {
     "end_time": "2023-12-27T09:40:57.454633Z",
     "start_time": "2023-12-27T09:40:57.435008Z"
    }
   },
   "id": "bffab1ab7665e45f",
   "execution_count": 3
  },
  {
   "cell_type": "code",
   "outputs": [],
   "source": [
    "# 데크를 이용한 최적화\n",
    "# 데크는 스택과 큐의 장점을 모두 채택한 것인데, 데이터를 넣고 빼는 속도가 리스트에 비해 효율적이며\n",
    "# queue와 stack을 모두 사용할 수 있다.\n",
    "#  이중연결 리스트 구조로 양쪽방향 모두 추출하는데에 시간복잡도 O(1)이다."
   ],
   "metadata": {
    "collapsed": false,
    "ExecuteTime": {
     "end_time": "2023-12-27T09:41:00.119223Z",
     "start_time": "2023-12-27T09:41:00.115994Z"
    }
   },
   "id": "1b9f57df60e9b57",
   "execution_count": 4
  },
  {
   "cell_type": "code",
   "outputs": [],
   "source": [
    "class ListNode:\n",
    "    def __init__(self, x):\n",
    "        self.val = x\n",
    "        self.next = None\n",
    "import collections\n",
    "\n",
    "def isPalindrome(head: ListNode) -> bool:\n",
    "    q: Deque = collections.deque()  # 타입힌트\n",
    "\n",
    "    if not head:\n",
    "        return True\n",
    "    current = head\n",
    "    # 리스트 변환\n",
    "    while current is not None:\n",
    "        q.append(current.val)\n",
    "        current = current.next\n",
    "\n",
    "    while len(q) > 1:\n",
    "        if q.popleft() != q.pop():\n",
    "            return False\n",
    "    return True"
   ],
   "metadata": {
    "collapsed": false,
    "ExecuteTime": {
     "end_time": "2023-12-27T09:41:00.658824Z",
     "start_time": "2023-12-27T09:41:00.648130Z"
    }
   },
   "id": "b42c68cb88f635df",
   "execution_count": 5
  },
  {
   "cell_type": "code",
   "outputs": [
    {
     "data": {
      "text/plain": "True"
     },
     "execution_count": 6,
     "metadata": {},
     "output_type": "execute_result"
    }
   ],
   "source": [
    "isPalindrome(a)"
   ],
   "metadata": {
    "collapsed": false,
    "ExecuteTime": {
     "end_time": "2023-12-27T09:41:01.537753Z",
     "start_time": "2023-12-27T09:41:01.528756Z"
    }
   },
   "id": "cd19e29c906a70c",
   "execution_count": 6
  },
  {
   "cell_type": "code",
   "outputs": [],
   "source": [
    "# 런너를 이용한 풀이\n",
    "# 런너는 연결리스트를 순회할 때 2개의 포인터를 동시에 사용하는 기법이다.\n",
    "\n",
    "# fast는 slow가 중간까지갔는지 전체길이가 홀수인지짝수인지 판별하는 기능을 한다\n",
    "# slow는 전반부에는  rev가 반대로 리스트를 구성하도록하고 \n",
    "# 후반부에는 rev와 비교하는 역할을 한다\n",
    "\n",
    "# rev = head라고할때 rev는 새로운 객체로 head를 카피한다?\n",
    "\n",
    "\n",
    "def isPalindrome(head):\n",
    "    rev = None\n",
    "    slow = fast = head\n",
    "    # 런너를 이용해 역순 리스트 구성\n",
    "    while fast and fast.next: # 2칸을 검사함 : 짝수\n",
    "        fast = fast.next.next\n",
    "        rev,rev.next, slow = slow, rev, slow.next\n",
    "    if fast:  # 그래도 한칸이 남았음 : 홀수\n",
    "        slow = slow.next  # 종갼\n",
    "        \n",
    "    #팰린드롬 확인\n",
    "    while rev and rev.val == slow.val:\n",
    "        slow, rev = slow.next, rev.next\n",
    "    return not rev # 리버스가 남아있다면 팰린드롬이 아님 "
   ],
   "metadata": {
    "collapsed": false,
    "ExecuteTime": {
     "end_time": "2023-12-27T09:41:03.543445Z",
     "start_time": "2023-12-27T09:41:03.517549Z"
    }
   },
   "id": "750aca5a5ffd74f3",
   "execution_count": 7
  },
  {
   "cell_type": "code",
   "outputs": [
    {
     "data": {
      "text/plain": "True"
     },
     "execution_count": 12,
     "metadata": {},
     "output_type": "execute_result"
    }
   ],
   "source": [
    "isPalindrome(a)"
   ],
   "metadata": {
    "collapsed": false,
    "ExecuteTime": {
     "end_time": "2023-12-27T09:45:06.220817Z",
     "start_time": "2023-12-27T09:45:06.211973Z"
    }
   },
   "id": "f1a161a3d58ea63a",
   "execution_count": 12
  }
 ],
 "metadata": {
  "kernelspec": {
   "display_name": "Python 3",
   "language": "python",
   "name": "python3"
  },
  "language_info": {
   "codemirror_mode": {
    "name": "ipython",
    "version": 2
   },
   "file_extension": ".py",
   "mimetype": "text/x-python",
   "name": "python",
   "nbconvert_exporter": "python",
   "pygments_lexer": "ipython2",
   "version": "2.7.6"
  }
 },
 "nbformat": 4,
 "nbformat_minor": 5
}
