{
 "cells": [
  {
   "cell_type": "markdown",
   "source": [
    "### 1. 유효한 팰린드롬"
   ],
   "metadata": {
    "collapsed": false
   },
   "id": "b88d3d74b7bbffff"
  },
  {
   "cell_type": "code",
   "execution_count": 19,
   "outputs": [],
   "source": [
    "strs = []\n",
    "def isPalindrome(s: str) -> bool:\n",
    "    strs = []\n",
    "\n",
    "    for char in s:\n",
    "        if char.isalnum(): # 영문자, 숫자 여부를 판별하는 함수 문자일때만 성립 \n",
    "            strs.append(char.lower())\n",
    "    \n",
    "    while len(strs) > 1:\n",
    "        if strs.pop(0) != strs.pop():\n",
    "            return False\n",
    "    return True"
   ],
   "metadata": {
    "collapsed": false,
    "ExecuteTime": {
     "end_time": "2023-12-20T08:29:00.690862Z",
     "start_time": "2023-12-20T08:29:00.673314Z"
    }
   },
   "id": "d0e361ea9c5ebb14"
  },
  {
   "cell_type": "code",
   "execution_count": 20,
   "outputs": [
    {
     "name": "stdout",
     "output_type": "stream",
     "text": [
      "True\n"
     ]
    }
   ],
   "source": [
    "s = \"A man, a plan, a canal: Panama\"\n",
    "print(isPalindrome(s))"
   ],
   "metadata": {
    "collapsed": false,
    "ExecuteTime": {
     "end_time": "2023-12-20T08:29:01.221106Z",
     "start_time": "2023-12-20T08:29:01.209433Z"
    }
   },
   "id": "26a00954999394a0"
  },
  {
   "cell_type": "markdown",
   "source": [
    "### 2. 문자열 뒤집기\n"
   ],
   "metadata": {
    "collapsed": false
   },
   "id": "c391544a1cabd747"
  },
  {
   "cell_type": "code",
   "execution_count": 21,
   "outputs": [],
   "source": [
    "def reverseString(s: list[str]) -> None:\n",
    "    left, right = 0, len(s) - 1\n",
    "    while left < right:\n",
    "        \n",
    "        s[left], s[right] = s[right], s[left]\n",
    "        left += 1\n",
    "        right -= 1"
   ],
   "metadata": {
    "collapsed": false,
    "ExecuteTime": {
     "end_time": "2023-12-20T08:29:10.623032Z",
     "start_time": "2023-12-20T08:29:10.602969Z"
    }
   },
   "id": "d7652fa8eb57ae0"
  },
  {
   "cell_type": "markdown",
   "source": [
    "### 3.로그파일 재정렬\n",
    "람다 사용"
   ],
   "metadata": {
    "collapsed": false
   },
   "id": "b1461d06ecfa5204"
  },
  {
   "cell_type": "code",
   "execution_count": 22,
   "outputs": [],
   "source": [
    "import collections\n",
    "\n",
    "logs = [\"dig1 8 1 5 1\",\"let1 art can\",\"dig2 3 6\",\"let2 own kit dig\",\"let3 art zero\"]"
   ],
   "metadata": {
    "collapsed": false,
    "ExecuteTime": {
     "end_time": "2023-12-20T08:29:13.182269Z",
     "start_time": "2023-12-20T08:29:13.152119Z"
    }
   },
   "id": "initial_id"
  },
  {
   "cell_type": "code",
   "execution_count": 23,
   "outputs": [],
   "source": [
    "def sortlog(logs):\n",
    "    letters, digits = [], []\n",
    "    for log in logs:\n",
    "        if log.split()[1].isdigit():\n",
    "            digits.append(log)\n",
    "        else:\n",
    "            letters.append(log)\n",
    "    letters.sort(key=lambda x: (x.split()[1:], x.split()[0])) # 첫번째 로그문자 우선, 식별자 후순위\n",
    "    return letters + digits # 문자로그가 숫자로그보다 앞에 오도록"
   ],
   "metadata": {
    "collapsed": false,
    "ExecuteTime": {
     "end_time": "2023-12-20T08:29:13.929060Z",
     "start_time": "2023-12-20T08:29:13.909056Z"
    }
   },
   "id": "1b5cc953eee37eae"
  },
  {
   "cell_type": "code",
   "execution_count": 24,
   "outputs": [
    {
     "data": {
      "text/plain": "['let1 art can',\n 'let3 art zero',\n 'let2 own kit dig',\n 'dig1 8 1 5 1',\n 'dig2 3 6']"
     },
     "execution_count": 24,
     "metadata": {},
     "output_type": "execute_result"
    }
   ],
   "source": [
    "sortlog(logs)"
   ],
   "metadata": {
    "collapsed": false,
    "ExecuteTime": {
     "end_time": "2023-12-20T08:29:14.913210Z",
     "start_time": "2023-12-20T08:29:14.898846Z"
    }
   },
   "id": "12d5c910dfffb833"
  },
  {
   "cell_type": "markdown",
   "source": [
    "### 4. 가장 흔한 단어\n",
    "리스트 컴프리헨션, counter 객체 사용(키값 자동설정)"
   ],
   "metadata": {
    "collapsed": false
   },
   "id": "6134389e7a8955a1"
  },
  {
   "cell_type": "code",
   "execution_count": 25,
   "outputs": [],
   "source": [
    "paragraph = \"Bob hit a ball, the hit BALL flew far after it was hit.\"\n",
    "import collections\n",
    "import re\n",
    "\n",
    "def mostCommonWord(paragraph: str) -> str:\n",
    "    words = [word for word in re.sub(r'[^\\w]', ' ', paragraph).lower().split()]\n",
    "    # 데이타 전처리 단어문자가 아닌 모든 문자를 공백으로 치환 문자,숫자, 언더바외에\n",
    "    # r은  원시 문자열(raw string)을 의미\n",
    "    \n",
    "    count = collections.defaultdict(int)\n",
    "    # 딕셔너리를 만들 때 키에 대한 기본값을 설정하고 싶을 때\n",
    "    # 키를 확인하는 작업이 필요없이 자체적으로 키를 생성하고 값을 초기화 해줌.\n",
    "    for word in words:\n",
    "        count[word] += 1\n",
    "    \n",
    "    \n",
    "    return max(count, key=count.get)"
   ],
   "metadata": {
    "collapsed": false,
    "ExecuteTime": {
     "end_time": "2023-12-20T08:29:16.453201Z",
     "start_time": "2023-12-20T08:29:16.431453Z"
    }
   },
   "id": "10b99bf00d367008"
  },
  {
   "cell_type": "code",
   "execution_count": 26,
   "outputs": [
    {
     "data": {
      "text/plain": "'hit'"
     },
     "execution_count": 26,
     "metadata": {},
     "output_type": "execute_result"
    }
   ],
   "source": [
    "mostCommonWord(paragraph)"
   ],
   "metadata": {
    "collapsed": false,
    "ExecuteTime": {
     "end_time": "2023-12-20T08:29:18.705709Z",
     "start_time": "2023-12-20T08:29:18.687753Z"
    }
   },
   "id": "41b19c95644a070c"
  },
  {
   "cell_type": "markdown",
   "source": [
    "### 5. 그룹 애너그램"
   ],
   "metadata": {
    "collapsed": false
   },
   "id": "ad33a745481d8fa9"
  },
  {
   "cell_type": "code",
   "execution_count": 30,
   "outputs": [],
   "source": [
    "strs = [\"eat\",\"tea\",\"tan\",\"ate\",\"nat\",\"bat\"]"
   ],
   "metadata": {
    "collapsed": false,
    "ExecuteTime": {
     "end_time": "2023-12-20T08:39:33.236821Z",
     "start_time": "2023-12-20T08:39:33.219535Z"
    }
   },
   "id": "761a796227e228c1"
  },
  {
   "cell_type": "code",
   "execution_count": 41,
   "outputs": [],
   "source": [
    "def groupAnagrams(strs: list[str]) -> list[list[str]]:\n",
    "    anagrams = collections.defaultdict(list)\n",
    "    # value값을 list로 설정\n",
    "    \n",
    "    for word in strs:\n",
    "        anagrams[''.join(sorted(word))].append(word)\n",
    "        # 정렬한 단어를 키로 설정하고, 정렬한 단어에 해당하는 원래 단어를 value로 리스트에 더함\n",
    "    print(anagrams)\n",
    "    return list(anagrams.values())"
   ],
   "metadata": {
    "collapsed": false,
    "ExecuteTime": {
     "end_time": "2023-12-20T08:49:00.555562Z",
     "start_time": "2023-12-20T08:49:00.532841Z"
    }
   },
   "id": "17814db84d4c8db2"
  },
  {
   "cell_type": "code",
   "execution_count": 42,
   "outputs": [
    {
     "name": "stdout",
     "output_type": "stream",
     "text": [
      "defaultdict(<class 'list'>, {'aet': ['eat', 'tea', 'ate'], 'ant': ['tan', 'nat'], 'abt': ['bat']})\n"
     ]
    },
    {
     "data": {
      "text/plain": "[['eat', 'tea', 'ate'], ['tan', 'nat'], ['bat']]"
     },
     "execution_count": 42,
     "metadata": {},
     "output_type": "execute_result"
    }
   ],
   "source": [
    "groupAnagrams(strs)"
   ],
   "metadata": {
    "collapsed": false,
    "ExecuteTime": {
     "end_time": "2023-12-20T08:49:01.265173Z",
     "start_time": "2023-12-20T08:49:01.244867Z"
    }
   },
   "id": "40c535ac5723a6c3"
  },
  {
   "cell_type": "code",
   "execution_count": 39,
   "outputs": [
    {
     "data": {
      "text/plain": "['aet', 'aet', 'ant', 'aet', 'ant', 'abt']"
     },
     "execution_count": 39,
     "metadata": {},
     "output_type": "execute_result"
    }
   ],
   "source": [
    "[\"\".join(sorted(word)) for word in strs]\n",
    "\n",
    "#sorted(iterable) 함수는 정렬된 새로운 리스트를 반환합니다. 기존 리스트를 변경하지 않습니다.\n",
    "#list.sort() 메서드는 기존 리스트를 정렬하고,기존 리스트가 변경됩니다."
   ],
   "metadata": {
    "collapsed": false,
    "ExecuteTime": {
     "end_time": "2023-12-20T08:43:41.921694Z",
     "start_time": "2023-12-20T08:43:41.901444Z"
    }
   },
   "id": "da635f7c3796d5a5"
  },
  {
   "cell_type": "code",
   "execution_count": 40,
   "outputs": [
    {
     "data": {
      "text/plain": "'aet'"
     },
     "execution_count": 40,
     "metadata": {},
     "output_type": "execute_result"
    }
   ],
   "source": [
    "#정렬방법\n",
    "''.join(sorted(\"eat\"))\n",
    "# 정렬한 후에 다시 문자열로만들기 위해서 join함수를 씀"
   ],
   "metadata": {
    "collapsed": false,
    "ExecuteTime": {
     "end_time": "2023-12-20T08:47:35.155041Z",
     "start_time": "2023-12-20T08:47:35.102720Z"
    }
   },
   "id": "691e68175a268a71"
  },
  {
   "cell_type": "markdown",
   "source": [
    "6. 가장 긴 팰린드롬 부분 문자열"
   ],
   "metadata": {
    "collapsed": false
   },
   "id": "16e3d087c5aab163"
  },
  {
   "cell_type": "code",
   "execution_count": 6,
   "outputs": [],
   "source": [
    "def longestPalindrome(s: str) -> str:\n",
    "    # 팰린드롬 판별 및 투 포인터 확장\n",
    "    def expand(left:int, right:int) -> str:\n",
    "        while left>=0 and right <len(s) and s[left] == s[right]:\n",
    "            left -= 1\n",
    "            right += 1\n",
    "        return s[left + 1:right] # while문에서는 팰린드롬이 아닐때까지 확장하고 나오기 때문에\n",
    "     # 팬린드롬은 left+1부터 right-1까지임\n",
    "    \n",
    "    # 해당 사항이 없을때 빠르게 리턴\n",
    "    # 한글자거나 팰린드롬이면 그대로 리턴\n",
    "    if len(s) <2 or s == s[::-1]:\n",
    "        return s\n",
    "    result = ''\n",
    "    for i in range(0, len(s)-1):\n",
    "        result = max(result,\n",
    "                     expand(i, i+1), # 짝수포인터\n",
    "                     expand(i, i+2), # 홀수포인터\n",
    "            key=len)\n",
    "    return result\n"
   ],
   "metadata": {
    "collapsed": false,
    "ExecuteTime": {
     "end_time": "2023-12-21T08:59:37.562057Z",
     "start_time": "2023-12-21T08:59:37.541812Z"
    }
   },
   "id": "e9c0a94d6fefd682"
  },
  {
   "cell_type": "code",
   "execution_count": 8,
   "outputs": [
    {
     "data": {
      "text/plain": "'abadaba'"
     },
     "execution_count": 8,
     "metadata": {},
     "output_type": "execute_result"
    }
   ],
   "source": [
    "s = \"babadabacd\"\n",
    "longestPalindrome(s)"
   ],
   "metadata": {
    "collapsed": false,
    "ExecuteTime": {
     "end_time": "2023-12-21T08:59:54.924333Z",
     "start_time": "2023-12-21T08:59:54.905425Z"
    }
   },
   "id": "dda2b04de0e1534c"
  },
  {
   "cell_type": "code",
   "execution_count": null,
   "outputs": [],
   "source": [],
   "metadata": {
    "collapsed": false
   },
   "id": "24c07fd845bf29e3"
  }
 ],
 "metadata": {
  "kernelspec": {
   "display_name": "Python 3",
   "language": "python",
   "name": "python3"
  },
  "language_info": {
   "codemirror_mode": {
    "name": "ipython",
    "version": 2
   },
   "file_extension": ".py",
   "mimetype": "text/x-python",
   "name": "python",
   "nbconvert_exporter": "python",
   "pygments_lexer": "ipython2",
   "version": "2.7.6"
  }
 },
 "nbformat": 4,
 "nbformat_minor": 5
}
