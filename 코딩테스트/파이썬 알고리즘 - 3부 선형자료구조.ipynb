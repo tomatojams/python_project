{
 "cells": [
  {
   "cell_type": "markdown",
   "source": [
    "### 선형 자료구조\n",
    "07. 두 수의 합"
   ],
   "metadata": {
    "collapsed": false
   },
   "id": "6211c73335e9d9d5"
  },
  {
   "cell_type": "code",
   "execution_count": 124,
   "outputs": [],
   "source": [
    "my_list = [2, 7, 11, 15]\n",
    "from itertools import combinations"
   ],
   "metadata": {
    "collapsed": false,
    "ExecuteTime": {
     "end_time": "2023-12-21T11:37:40.103350Z",
     "start_time": "2023-12-21T11:37:39.943616Z"
    }
   },
   "id": "d336b5209072cd76"
  },
  {
   "cell_type": "code",
   "execution_count": 125,
   "outputs": [],
   "source": [
    "# 자신의 풀이\n",
    "def Twosum(nums:list, target:int)->tuple:\n",
    "    Twonum = list(combinations(nums,2))\n",
    "\n",
    "    for i in Twonum:\n",
    "        if sum(i) == target:\n",
    "            return nums.index(i[0]),nums.index(i[1])\n",
    "# 리스트에서 길이 2의 조합 생성\n"
   ],
   "metadata": {
    "collapsed": false,
    "ExecuteTime": {
     "end_time": "2023-12-21T11:37:40.134659Z",
     "start_time": "2023-12-21T11:37:39.950967Z"
    }
   },
   "id": "dd968278bd1df4db"
  },
  {
   "cell_type": "code",
   "execution_count": 126,
   "outputs": [
    {
     "data": {
      "text/plain": "(0, 1)"
     },
     "execution_count": 126,
     "metadata": {},
     "output_type": "execute_result"
    }
   ],
   "source": [
    "Twosum(my_list,9)"
   ],
   "metadata": {
    "collapsed": false,
    "ExecuteTime": {
     "end_time": "2023-12-21T11:37:40.135316Z",
     "start_time": "2023-12-21T11:37:39.959533Z"
    }
   },
   "id": "907fd495c2144c51"
  },
  {
   "cell_type": "code",
   "execution_count": 127,
   "outputs": [],
   "source": [
    "# in 탐색\n",
    "def Twosum(nums:list, target:int)->list[int]:\n",
    "    for i, n in enumerate(nums):\n",
    "        complement = target - n\n",
    "        \n",
    "        if complement in nums[ i+1:]:\n",
    "            return [nums.index(n), nums[i+1:].index(complement)+(i+1)] # i+1에서부터 시작했으므로 i+1을 더해준다"
   ],
   "metadata": {
    "collapsed": false,
    "ExecuteTime": {
     "end_time": "2023-12-21T11:37:40.135366Z",
     "start_time": "2023-12-21T11:37:39.966074Z"
    }
   },
   "id": "5892e77673c50beb"
  },
  {
   "cell_type": "code",
   "execution_count": 128,
   "outputs": [
    {
     "data": {
      "text/plain": "[0, 1]"
     },
     "execution_count": 128,
     "metadata": {},
     "output_type": "execute_result"
    }
   ],
   "source": [
    "Twosum(my_list,9)"
   ],
   "metadata": {
    "collapsed": false,
    "ExecuteTime": {
     "end_time": "2023-12-21T11:37:40.136759Z",
     "start_time": "2023-12-21T11:37:39.971622Z"
    }
   },
   "id": "f83af422281c5d5c"
  },
  {
   "cell_type": "code",
   "execution_count": 129,
   "outputs": [],
   "source": [
    "# 첫번째 수를 뺀 결과 딕셔너리 키조회 - 매우 빠름\n",
    "\n",
    "def Twosum(nums:list[int], target:int)->list[int]:\n",
    "    num_map = {}\n",
    "    \n",
    "    for i, num in enumerate(nums):\n",
    "        num_map[num] = i\n",
    "        \n",
    "    for i, num in enumerate(nums):\n",
    "        if target - num in num_map and i != num_map[target-num]: # 자신이 아닌 딕션어리 키에 있는지\n",
    "            return [i, num_map[target-num]]  # 딕셔너리의 value값을 리턴\n",
    "        "
   ],
   "metadata": {
    "collapsed": false,
    "ExecuteTime": {
     "end_time": "2023-12-21T11:37:40.136819Z",
     "start_time": "2023-12-21T11:37:39.975507Z"
    }
   },
   "id": "7dff4a3af380e573"
  },
  {
   "cell_type": "code",
   "execution_count": 130,
   "outputs": [
    {
     "data": {
      "text/plain": "[0, 1]"
     },
     "execution_count": 130,
     "metadata": {},
     "output_type": "execute_result"
    }
   ],
   "source": [
    "Twosum(my_list,9)"
   ],
   "metadata": {
    "collapsed": false,
    "ExecuteTime": {
     "end_time": "2023-12-21T11:37:40.136948Z",
     "start_time": "2023-12-21T11:37:39.978300Z"
    }
   },
   "id": "1e02d81647d20437"
  },
  {
   "cell_type": "code",
   "execution_count": 131,
   "outputs": [],
   "source": [
    "# 조회구조 개선\n",
    "\n",
    "def Twosum(nums:list[int], target:int)->list[int]:\n",
    "    nums_map ={}\n",
    "    # 하나의 for문 비교하고나서 넣기때문에 둘이 같은지를 비교할 필요가 없음\n",
    "    \n",
    "    for i, num in enumerate(nums):\n",
    "        if target - num in nums_map:\n",
    "            return [ nums_map[target-num], i]\n",
    "        nums_map[num] = i"
   ],
   "metadata": {
    "collapsed": false,
    "ExecuteTime": {
     "end_time": "2023-12-21T11:37:40.137Z",
     "start_time": "2023-12-21T11:37:39.982970Z"
    }
   },
   "id": "7f0bf95db0fa0a02"
  },
  {
   "cell_type": "code",
   "execution_count": 132,
   "outputs": [
    {
     "data": {
      "text/plain": "[0, 1]"
     },
     "execution_count": 132,
     "metadata": {},
     "output_type": "execute_result"
    }
   ],
   "source": [
    "Twosum(my_list,9)"
   ],
   "metadata": {
    "collapsed": false,
    "ExecuteTime": {
     "end_time": "2023-12-21T11:37:40.137128Z",
     "start_time": "2023-12-21T11:37:39.986439Z"
    }
   },
   "id": "a3a8fbae5b65e17b"
  },
  {
   "cell_type": "markdown",
   "source": [
    "### 8. 빗물 트래핑"
   ],
   "metadata": {
    "collapsed": false
   },
   "id": "421751a72d161a00"
  },
  {
   "cell_type": "code",
   "execution_count": 8,
   "outputs": [],
   "source": [
    "dam = [0, 1, 0, 2, 1, 0, 1, 3, 2, 1, 2, 1]"
   ],
   "metadata": {
    "collapsed": false,
    "ExecuteTime": {
     "end_time": "2023-12-22T10:12:32.397375Z",
     "start_time": "2023-12-22T10:12:32.387636Z"
    }
   },
   "id": "3c9c2b97e98cf87"
  },
  {
   "cell_type": "code",
   "execution_count": 3,
   "outputs": [
    {
     "name": "stdout",
     "output_type": "stream",
     "text": [
      "[0, 1, 0, 2, 1, 0, 1, 3, 2, 1, 2]\n"
     ]
    }
   ],
   "source": [
    "print(dam[:-1])"
   ],
   "metadata": {
    "collapsed": false,
    "ExecuteTime": {
     "end_time": "2023-12-22T09:56:19.477899Z",
     "start_time": "2023-12-22T09:56:19.469856Z"
    }
   },
   "id": "88aaee9c786d4176"
  },
  {
   "cell_type": "code",
   "execution_count": 151,
   "outputs": [],
   "source": [
    "def trap(my_list):\n",
    "    def trap_oneside(dam:list[int])->int:\n",
    "        oneside_water = 0\n",
    "        temp_water = 0\n",
    "        dam_check = [0 for i in range(len(dam))]\n",
    "        for i, height in enumerate(dam[:-1]):\n",
    "            temp_water = 0\n",
    "            if dam_check[i] == 1:\n",
    "                continue\n",
    "            next = i+1\n",
    "            while(dam[next] < height):\n",
    "                temp_water += (height - dam[next])\n",
    "                dam_check[next] = 1\n",
    "                next += 1\n",
    "                if dam[next] >= height:\n",
    "                    oneside_water += temp_water\n",
    "                    break\n",
    "                if next  >= len(dam)-1:\n",
    "                    break\n",
    "        return oneside_water\n",
    "    total_water = 0\n",
    "    reversed_water = my_list[::-1]\n",
    "    total_water = trap_oneside(my_list) + trap_oneside(reversed_water)\n",
    "    return total_water"
   ],
   "metadata": {
    "collapsed": false,
    "ExecuteTime": {
     "end_time": "2023-12-21T12:00:04.007304Z",
     "start_time": "2023-12-21T12:00:03.992096Z"
    }
   },
   "id": "a0e65b12dab12b04"
  },
  {
   "cell_type": "code",
   "execution_count": 152,
   "outputs": [
    {
     "data": {
      "text/plain": "6"
     },
     "execution_count": 152,
     "metadata": {},
     "output_type": "execute_result"
    }
   ],
   "source": [
    "trap(dam)"
   ],
   "metadata": {
    "collapsed": false,
    "ExecuteTime": {
     "end_time": "2023-12-21T12:00:04.479287Z",
     "start_time": "2023-12-21T12:00:04.469277Z"
    }
   },
   "id": "7c2be84a736cd9cf"
  },
  {
   "cell_type": "code",
   "outputs": [],
   "source": [
    "# 투 포인터\n",
    "# 좌우로 나눠서 최대높이가 작은쪽으로 반대쪽으로 이동해가면서 볼륨을 구한다\n",
    "# 왼쪽이면 왼쪽최대높이 - 왼쪽현재높이\n",
    "# 이런식으로 최대높이가 작은쪽으로 로컬로 빼면서 진행\n",
    "\n",
    "def trap(height:list[int]) -> int:\n",
    "    if not height:\n",
    "        return 0\n",
    "    \n",
    "    volume = 0\n",
    "    left, right = 0, len(height)-1\n",
    "    left_max, right_max = height[left], height[right]\n",
    "    \n",
    "    while left <right:\n",
    "        left_max, right_max = (max(height[left], left_max),\n",
    "                               max(height[right], right_max))\n",
    "        if left_max <= right_max:\n",
    "            volume += left_max - height[left]\n",
    "            left += 1\n",
    "        else:\n",
    "            volume += right_max - height[right]\n",
    "            right -=1\n",
    "    return volume\n",
    "    "
   ],
   "metadata": {
    "collapsed": false,
    "ExecuteTime": {
     "end_time": "2023-12-22T09:56:33.104364Z",
     "start_time": "2023-12-22T09:56:33.098751Z"
    }
   },
   "id": "5e4e6459c4928d15",
   "execution_count": 5
  },
  {
   "cell_type": "code",
   "outputs": [
    {
     "data": {
      "text/plain": "0"
     },
     "execution_count": 7,
     "metadata": {},
     "output_type": "execute_result"
    }
   ],
   "source": [
    "trap(dam)"
   ],
   "metadata": {
    "collapsed": false,
    "ExecuteTime": {
     "end_time": "2023-12-22T10:12:08.242888Z",
     "start_time": "2023-12-22T10:12:08.234454Z"
    }
   },
   "id": "26578b3cac838a5e",
   "execution_count": 7
  },
  {
   "cell_type": "code",
   "outputs": [],
   "source": [
    "def trap(height:list[int]) -> int:\n",
    "    \n",
    "    volume = 0\n",
    "    left, right = 0, len(height)-1\n",
    "    left_max, right_max = height[left], height[right]\n",
    "    \n",
    "    \n",
    "    while(left < right):\n",
    "        left_max, right_max = max(left_max,height[left]), max(right_max, height[right])\n",
    "        if left_max <= right_max:\n",
    "            volume += left_max - height[left]\n",
    "            left += 1\n",
    "        if left_max  > right_max:\n",
    "            volume += right_max - height[right]\n",
    "            right -= 1\n",
    "    \n",
    "    return volume\n",
    "    "
   ],
   "metadata": {
    "collapsed": false,
    "ExecuteTime": {
     "end_time": "2023-12-22T10:14:40.686303Z",
     "start_time": "2023-12-22T10:14:40.682328Z"
    }
   },
   "id": "1674907adc4e29db",
   "execution_count": 17
  },
  {
   "cell_type": "code",
   "outputs": [
    {
     "data": {
      "text/plain": "6"
     },
     "execution_count": 18,
     "metadata": {},
     "output_type": "execute_result"
    }
   ],
   "source": [
    "trap(dam)"
   ],
   "metadata": {
    "collapsed": false,
    "ExecuteTime": {
     "end_time": "2023-12-22T10:14:41.285704Z",
     "start_time": "2023-12-22T10:14:41.276640Z"
    }
   },
   "id": "81f2c41bd45eb68b",
   "execution_count": 18
  },
  {
   "cell_type": "code",
   "execution_count": 1,
   "outputs": [],
   "source": [
    "import collections\n",
    "def trap(dam):\n",
    "    def water(arrow):\n",
    "        \n",
    "    \n",
    "        dam_dict = collections.defaultdict(list)\n",
    "    for order, height in enumerate(dam):\n",
    "        dam_dict[height].append(order)\n",
    "\n",
    "    for dam_height, dam_order in dam_dict.items():\n",
    "        left = dam_order - 1 \n",
    "        right = dam_order + 1\n",
    "        \n",
    "    "
   ],
   "metadata": {
    "collapsed": false,
    "ExecuteTime": {
     "end_time": "2023-12-22T10:10:26.111611Z",
     "start_time": "2023-12-22T10:10:26.102650Z"
    }
   },
   "id": "1cc25f0e2c77ea57"
  },
  {
   "cell_type": "code",
   "outputs": [
    {
     "ename": "NameError",
     "evalue": "name 'dam' is not defined",
     "output_type": "error",
     "traceback": [
      "\u001B[0;31m---------------------------------------------------------------------------\u001B[0m",
      "\u001B[0;31mNameError\u001B[0m                                 Traceback (most recent call last)",
      "Cell \u001B[0;32mIn[2], line 1\u001B[0m\n\u001B[0;32m----> 1\u001B[0m trap(\u001B[43mdam\u001B[49m)\n",
      "\u001B[0;31mNameError\u001B[0m: name 'dam' is not defined"
     ]
    }
   ],
   "source": [
    "trap(dam)"
   ],
   "metadata": {
    "collapsed": false,
    "ExecuteTime": {
     "end_time": "2023-12-22T10:10:26.391412Z",
     "start_time": "2023-12-22T10:10:26.114825Z"
    }
   },
   "id": "f3999d117bbbe672",
   "execution_count": 2
  },
  {
   "cell_type": "code",
   "outputs": [],
   "source": [
    "# 스택쌓기\n",
    "\n",
    "def trap(height:list[int]) -> int:\n",
    "    stack = []\n",
    "    volume = 0\n",
    "    \n",
    "    for i in range(len(height)):\n",
    "        while stack and height[i] > height[stack[-1]]:\n",
    "            "
   ],
   "metadata": {
    "collapsed": false
   },
   "id": "e5bb43998709c9c1"
  }
 ],
 "metadata": {
  "kernelspec": {
   "display_name": "Python 3",
   "language": "python",
   "name": "python3"
  },
  "language_info": {
   "codemirror_mode": {
    "name": "ipython",
    "version": 2
   },
   "file_extension": ".py",
   "mimetype": "text/x-python",
   "name": "python",
   "nbconvert_exporter": "python",
   "pygments_lexer": "ipython2",
   "version": "2.7.6"
  }
 },
 "nbformat": 4,
 "nbformat_minor": 5
}
