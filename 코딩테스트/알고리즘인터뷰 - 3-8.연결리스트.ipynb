{
 "cells": [
  {
   "cell_type": "markdown",
   "source": [
    "### 13 팰린드롬 연결리스트"
   ],
   "metadata": {
    "collapsed": false
   },
   "id": "48758abfd81034f6"
  },
  {
   "cell_type": "code",
   "outputs": [],
   "source": [
    "class ListNode:\n",
    "    def __init__(self, x):\n",
    "        self.val = x\n",
    "        self.next = None"
   ],
   "metadata": {
    "collapsed": false,
    "ExecuteTime": {
     "end_time": "2023-12-26T07:48:50.977700Z",
     "start_time": "2023-12-26T07:48:50.933141Z"
    }
   },
   "id": "970f0b88b5bfd66d",
   "execution_count": 197
  },
  {
   "cell_type": "code",
   "outputs": [],
   "source": [
    "def isPalindrome(head: ListNode) -> bool:\n",
    "    q: List = []\n",
    "    \n",
    "    if not head:\n",
    "        return True\n",
    "    node = head\n",
    "    # 리스트 변환\n",
    "    while node  is not None:\n",
    "        q.append(node.val)\n",
    "        node = node.next\n",
    "        \n",
    "    while len(q) >1:\n",
    "        if q.pop(0) != q.pop():\n",
    "            return False\n",
    "    return True"
   ],
   "metadata": {
    "collapsed": false,
    "ExecuteTime": {
     "end_time": "2023-12-26T07:48:50.979706Z",
     "start_time": "2023-12-26T07:48:50.951270Z"
    }
   },
   "id": "834d68a7be4562c2",
   "execution_count": 198
  },
  {
   "cell_type": "code",
   "outputs": [
    {
     "data": {
      "text/plain": "True"
     },
     "execution_count": 199,
     "metadata": {},
     "output_type": "execute_result"
    }
   ],
   "source": [
    "isPalindrome(a)"
   ],
   "metadata": {
    "collapsed": false,
    "ExecuteTime": {
     "end_time": "2023-12-26T07:48:50.987306Z",
     "start_time": "2023-12-26T07:48:50.983282Z"
    }
   },
   "id": "62f2c60b92ad8cb4",
   "execution_count": 199
  },
  {
   "cell_type": "code",
   "outputs": [],
   "source": [
    "# 단순연결 리스트 복습\n",
    "\n",
    "node1 = ListNode('강남')\n",
    "node2 = ListNode('강변')\n",
    "node3 = ListNode('남양주')\n",
    "node4 = ListNode('해변')\n",
    "node1.next = node2\n",
    "node2.next = node3\n",
    "node3.next = node4\n",
    "head = node1"
   ],
   "metadata": {
    "collapsed": false,
    "ExecuteTime": {
     "end_time": "2023-12-26T07:48:51.009475Z",
     "start_time": "2023-12-26T07:48:50.990227Z"
    }
   },
   "id": "6469c4760590f73",
   "execution_count": 200
  },
  {
   "cell_type": "code",
   "outputs": [
    {
     "name": "stdout",
     "output_type": "stream",
     "text": [
      "강남 강변 남양주 해변 "
     ]
    }
   ],
   "source": [
    "# 단순연결 리스트 출력 \n",
    "current = head\n",
    "while current != None:\n",
    "    print(current.val,end=\" \")\n",
    "    current = current.next"
   ],
   "metadata": {
    "collapsed": false,
    "ExecuteTime": {
     "end_time": "2023-12-26T07:48:51.010054Z",
     "start_time": "2023-12-26T07:48:50.993975Z"
    }
   },
   "id": "510cf1f9132b7da3",
   "execution_count": 201
  },
  {
   "cell_type": "code",
   "outputs": [],
   "source": [
    "# 중간에 찾아서 앞에 삽입\n",
    "current = head\n",
    "\n",
    "while current.next != None:\n",
    "    pre = current\n",
    "    current = current.next\n",
    "    if current.val == '남양주':\n",
    "        new_node = ListNode('양재')\n",
    "        new_node.next = current\n",
    "        pre.next = new_node"
   ],
   "metadata": {
    "collapsed": false,
    "ExecuteTime": {
     "end_time": "2023-12-26T07:48:51.010351Z",
     "start_time": "2023-12-26T07:48:50.997580Z"
    }
   },
   "id": "1aa5546c2207ff62",
   "execution_count": 202
  },
  {
   "cell_type": "code",
   "outputs": [
    {
     "name": "stdout",
     "output_type": "stream",
     "text": [
      "강남 강변 양재 남양주 해변 "
     ]
    }
   ],
   "source": [
    "# 단순연결 리스트 출력 \n",
    "current = head\n",
    "while current != None:\n",
    "    print(current.val,end=\" \")\n",
    "    current = current.next"
   ],
   "metadata": {
    "collapsed": false,
    "ExecuteTime": {
     "end_time": "2023-12-26T07:48:51.035405Z",
     "start_time": "2023-12-26T07:48:51.001649Z"
    }
   },
   "id": "ae000b836685d350",
   "execution_count": 203
  },
  {
   "cell_type": "code",
   "outputs": [],
   "source": [
    "# 단순연결 리스트 처음에 삽입\n",
    "\n",
    "head_node = ListNode('속초')\n",
    "head_node.next = head\n",
    "head = head_node"
   ],
   "metadata": {
    "collapsed": false,
    "ExecuteTime": {
     "end_time": "2023-12-26T07:48:51.036590Z",
     "start_time": "2023-12-26T07:48:51.006220Z"
    }
   },
   "id": "f8b0e4536f3a2d31",
   "execution_count": 204
  },
  {
   "cell_type": "code",
   "outputs": [
    {
     "name": "stdout",
     "output_type": "stream",
     "text": [
      "속초 강남 강변 양재 남양주 해변 "
     ]
    }
   ],
   "source": [
    "# 단순연결 리스트 출력 \n",
    "current = head\n",
    "while current != None:\n",
    "    print(current.val,end=\" \")\n",
    "    current = current.next"
   ],
   "metadata": {
    "collapsed": false,
    "ExecuteTime": {
     "end_time": "2023-12-26T07:48:51.039296Z",
     "start_time": "2023-12-26T07:48:51.012607Z"
    }
   },
   "id": "6d9fafccc0964598",
   "execution_count": 205
  },
  {
   "cell_type": "code",
   "outputs": [],
   "source": [
    "#마지막 자리에 데이타 삽입\n",
    "# while 안에 if문으로넣어버리면 무한반복되어버림\n",
    "# while문으로 끝자리까지만 가는걸로\n",
    "current = head\n",
    "while current.next != None:\n",
    "    current = current.next\n",
    "\n",
    "new_node = ListNode('부산')\n",
    "current.next = new_node"
   ],
   "metadata": {
    "collapsed": false,
    "ExecuteTime": {
     "end_time": "2023-12-26T07:48:51.055656Z",
     "start_time": "2023-12-26T07:48:51.040883Z"
    }
   },
   "id": "3e27e26841512c96",
   "execution_count": 206
  },
  {
   "cell_type": "code",
   "outputs": [
    {
     "name": "stdout",
     "output_type": "stream",
     "text": [
      "속초 강남 강변 양재 남양주 해변 부산 "
     ]
    }
   ],
   "source": [
    "# 단순연결 리스트 출력 \n",
    "current = head\n",
    "while current != None:\n",
    "    print(current.val,end=\" \")\n",
    "    current = current.next"
   ],
   "metadata": {
    "collapsed": false,
    "ExecuteTime": {
     "end_time": "2023-12-26T07:48:51.069734Z",
     "start_time": "2023-12-26T07:48:51.059014Z"
    }
   },
   "id": "dee2d31522c0e930",
   "execution_count": 207
  },
  {
   "cell_type": "code",
   "outputs": [],
   "source": [
    "# 중간 특정 노드 삭제\n",
    "current = head\n",
    "\n",
    "while current.next != None:\n",
    "    pre = current\n",
    "    current = current.next\n",
    "    \n",
    "    if current.val == '강변':\n",
    "        pre.next = current.next\n",
    "        del(current)"
   ],
   "metadata": {
    "collapsed": false,
    "ExecuteTime": {
     "end_time": "2023-12-26T07:49:03.258203Z",
     "start_time": "2023-12-26T07:49:03.250714Z"
    }
   },
   "id": "584d09858d246ba3",
   "execution_count": 209
  },
  {
   "cell_type": "code",
   "outputs": [
    {
     "name": "stdout",
     "output_type": "stream",
     "text": [
      "속초 강남 양재 남양주 해변 부산 "
     ]
    }
   ],
   "source": [
    "# 단순연결 리스트 출력 \n",
    "current = head\n",
    "while current != None:\n",
    "    print(current.val,end=\" \")\n",
    "    current = current.next"
   ],
   "metadata": {
    "collapsed": false,
    "ExecuteTime": {
     "end_time": "2023-12-26T07:49:08.174454Z",
     "start_time": "2023-12-26T07:49:08.164248Z"
    }
   },
   "id": "a8b4f74f43c90479",
   "execution_count": 210
  },
  {
   "cell_type": "code",
   "outputs": [],
   "source": [
    "# 단순연결 리스트 합본\n",
    "\n",
    "# 클래스 선언\n",
    "class ListNode():\n",
    "    def __init__(self,val):\n",
    "        self.val = val\n",
    "        self.next = None\n",
    "\n",
    "# 출력\n",
    "def printNode(head):\n",
    "    current = head\n",
    "    if current == None:\n",
    "        return\n",
    "    print(current.val,end=\" \")\n",
    "    while current.next != None:\n",
    "        current = current.next\n",
    "        print(current.val,end=\" \")\n",
    "    print()\n",
    "    \n",
    "# 삽입\n",
    "def insertNode(find_data, insert_data):\n",
    "    global current,pre,head,memory\n",
    "    \n",
    "    current = head\n",
    "    pre = head\n",
    "    while current.next != None:\n",
    "        if current.val == find_data:\n",
    "            new_node = ListNode(insert_data)\n",
    "            head = new_node\n",
    "            new_node.next = current\n",
    "    \n",
    "    "
   ],
   "metadata": {
    "collapsed": false,
    "ExecuteTime": {
     "end_time": "2023-12-26T07:48:51.107574Z",
     "start_time": "2023-12-26T07:48:51.107247Z"
    }
   },
   "id": "9506036664588be1",
   "execution_count": null
  }
 ],
 "metadata": {
  "kernelspec": {
   "display_name": "Python 3",
   "language": "python",
   "name": "python3"
  },
  "language_info": {
   "codemirror_mode": {
    "name": "ipython",
    "version": 2
   },
   "file_extension": ".py",
   "mimetype": "text/x-python",
   "name": "python",
   "nbconvert_exporter": "python",
   "pygments_lexer": "ipython2",
   "version": "2.7.6"
  }
 },
 "nbformat": 4,
 "nbformat_minor": 5
}
