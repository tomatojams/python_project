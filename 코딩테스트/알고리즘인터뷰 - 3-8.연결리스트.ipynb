{
 "cells": [
  {
   "cell_type": "markdown",
   "source": [
    "### 13 팰린드롬 연결리스트"
   ],
   "metadata": {
    "collapsed": false
   },
   "id": "48758abfd81034f6"
  },
  {
   "cell_type": "code",
   "outputs": [],
   "source": [
    "class ListNode:\n",
    "    def __init__(self, x):\n",
    "        self.val = x\n",
    "        self.next = None"
   ],
   "metadata": {
    "collapsed": false,
    "ExecuteTime": {
     "end_time": "2023-12-26T06:39:39.860041Z",
     "start_time": "2023-12-26T06:39:39.851448Z"
    }
   },
   "id": "970f0b88b5bfd66d",
   "execution_count": 18
  },
  {
   "cell_type": "code",
   "outputs": [],
   "source": [
    "def isPalindrome(head: ListNode) -> bool:\n",
    "    q: List = []\n",
    "    \n",
    "    if not head:\n",
    "        return True\n",
    "    node = head\n",
    "    # 리스트 변환\n",
    "    while node  is not None:\n",
    "        q.append(node.val)\n",
    "        node = node.next\n",
    "        \n",
    "    while len(q) >1:\n",
    "        if q.pop(0) != q.pop():\n",
    "            return False\n",
    "    return True"
   ],
   "metadata": {
    "collapsed": false,
    "ExecuteTime": {
     "end_time": "2023-12-26T06:39:40.244485Z",
     "start_time": "2023-12-26T06:39:40.232809Z"
    }
   },
   "id": "834d68a7be4562c2",
   "execution_count": 19
  },
  {
   "cell_type": "code",
   "outputs": [],
   "source": [
    "a = ListNode(1)\n",
    "b = ListNode(2)\n",
    "c = ListNode(2)\n",
    "d = ListNode(1)\n",
    "a.next = b\n",
    "b.next = c\n",
    "c.next = d"
   ],
   "metadata": {
    "collapsed": false,
    "ExecuteTime": {
     "end_time": "2023-12-26T06:40:35.991298Z",
     "start_time": "2023-12-26T06:40:35.966486Z"
    }
   },
   "id": "6469c4760590f73",
   "execution_count": 24
  },
  {
   "cell_type": "code",
   "outputs": [
    {
     "data": {
      "text/plain": "True"
     },
     "execution_count": 25,
     "metadata": {},
     "output_type": "execute_result"
    }
   ],
   "source": [
    "isPalindrome(a)"
   ],
   "metadata": {
    "collapsed": false,
    "ExecuteTime": {
     "end_time": "2023-12-26T06:40:36.212225Z",
     "start_time": "2023-12-26T06:40:36.207298Z"
    }
   },
   "id": "62f2c60b92ad8cb4",
   "execution_count": 25
  },
  {
   "cell_type": "code",
   "outputs": [],
   "source": [],
   "metadata": {
    "collapsed": false
   },
   "id": "510cf1f9132b7da3"
  }
 ],
 "metadata": {
  "kernelspec": {
   "display_name": "Python 3",
   "language": "python",
   "name": "python3"
  },
  "language_info": {
   "codemirror_mode": {
    "name": "ipython",
    "version": 2
   },
   "file_extension": ".py",
   "mimetype": "text/x-python",
   "name": "python",
   "nbconvert_exporter": "python",
   "pygments_lexer": "ipython2",
   "version": "2.7.6"
  }
 },
 "nbformat": 4,
 "nbformat_minor": 5
}
