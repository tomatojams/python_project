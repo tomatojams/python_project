{
 "cells": [
  {
   "cell_type": "code",
   "execution_count": 56,
   "id": "initial_id",
   "metadata": {
    "collapsed": true,
    "ExecuteTime": {
     "end_time": "2024-01-10T07:48:44.454354Z",
     "start_time": "2024-01-10T07:48:44.447360Z"
    }
   },
   "outputs": [],
   "source": [
    "def solution():\n",
    "    party_man = input()\n",
    "    \n",
    "    party_number = int(party_man.split()[0])\n",
    "    man_number = int(party_man.split()[1])\n",
    "    \n",
    "    party_table = []\n",
    "    for i in range(0, party_number) :\n",
    "        temp = input().split()\n",
    "        temp_list =[int(num) for num in temp]\n",
    "        party_table.append(temp_list)\n",
    "    # print(party_table)\n",
    "    \n",
    "    for j in range(0, man_number) :\n",
    "        temp = input().split()\n",
    "        party_patry_time =[int(num) for num in temp]\n",
    "        if party_table[party_patry_time[0]-1][party_patry_time[1]-1] < party_patry_time[2]:\n",
    "            print(\"Enjoy other party\")\n",
    "        else:\n",
    "            print(\"Stay here\")"
   ]
  },
  {
   "cell_type": "code",
   "outputs": [
    {
     "name": "stdout",
     "output_type": "stream",
     "text": [
      "Enjoy ohter party\n",
      "Stay here\n",
      "Stay here\n",
      "Stay here\n",
      "Stay here\n",
      "Enjoy ohter party\n",
      "Enjoy ohter party\n",
      "Enjoy ohter party\n",
      "Stay here\n",
      "Enjoy ohter party\n"
     ]
    }
   ],
   "source": [
    "solution()"
   ],
   "metadata": {
    "collapsed": false,
    "ExecuteTime": {
     "end_time": "2024-01-10T07:49:50.672118Z",
     "start_time": "2024-01-10T07:48:44.942365Z"
    }
   },
   "id": "4401749683ab5365",
   "execution_count": 57
  },
  {
   "cell_type": "code",
   "outputs": [],
   "source": [
    "def solution():\n",
    "    days = int(input().split())\n",
    "    for i in range(0, days) :\n",
    "        #전처리부터 한다\n",
    "        #뒤에서 불가능한것부터 0처리 \n",
    "        #끊어지는 독립포인트 찾기\n",
    "        #오래걸리는 일은 내부적으로 비교해서 손해면 0처리\n",
    "        # 3   5   1   1   2   4   2\n",
    "        # 10  20  10  20  15  0   0\n",
    "        # \n",
    "        # 3   5    1   1   2   4   2\n",
    "        # 10   0   10  20  15  0  0\n",
    "        # 계산\n",
    "        # 전처리 + 계산\n",
    "        # 큰수자가 사라지게 하는 값과\n",
    "        # 더하는 값을 비교\n",
    "        # 10 -9 -8 -7 -6 = -20\n",
    "        # 9 - 8 - 7 -6 - 10 = -22\n",
    "        \n",
    "        # 50 -40 - 30 -20 -10 = -50\n",
    "        # 40 -30 -20 -10 = -20\n",
    "        # 30 - 20 -10 = 0 \n",
    "        # 20 - 10 = 10\n",
    "        # 10 \n",
    "        \n",
    "        "
   ],
   "metadata": {
    "collapsed": false
   },
   "id": "a13e76a84694c7d4"
  }
 ],
 "metadata": {
  "kernelspec": {
   "display_name": "Python 3",
   "language": "python",
   "name": "python3"
  },
  "language_info": {
   "codemirror_mode": {
    "name": "ipython",
    "version": 2
   },
   "file_extension": ".py",
   "mimetype": "text/x-python",
   "name": "python",
   "nbconvert_exporter": "python",
   "pygments_lexer": "ipython2",
   "version": "2.7.6"
  }
 },
 "nbformat": 4,
 "nbformat_minor": 5
}
