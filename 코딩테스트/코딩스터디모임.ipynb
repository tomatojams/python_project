{
 "cells": [
  {
   "cell_type": "code",
   "execution_count": 31,
   "id": "initial_id",
   "metadata": {
    "collapsed": true,
    "ExecuteTime": {
     "end_time": "2024-01-10T12:30:07.293409900Z",
     "start_time": "2024-01-10T12:30:07.274430700Z"
    }
   },
   "outputs": [],
   "source": [
    "def solution():\n",
    "    party_man = input()\n",
    "    \n",
    "    party_man =[int(num) for num in party_man.split()]\n",
    "    party_number = party_man[0]\n",
    "    man_number = party_man[1]\n",
    "    party_man = party_man[2:]\n",
    "    party_table = []\n",
    "    for i in range(0, party_number) :\n",
    "\n",
    "        temp_list =[int(num) for num in party_man[i*party_number:(i+1)*party_number]]\n",
    "        party_table.append(temp_list)\n",
    "    print(party_table)\n",
    "    party_man = party_man[party_number**2:]\n",
    "    print(party_man)\n",
    "    for j in range(0, man_number) :\n",
    "\n",
    "        if party_table[party_man[j*3]-1][party_man[j*3+1]-1] <=  party_man[j*3+2]:\n",
    "            print(\"Enjoy other party\")\n",
    "        else:\n",
    "            print(\"Stay here\")"
   ]
  },
  {
   "cell_type": "code",
   "outputs": [
    {
     "name": "stdout",
     "output_type": "stream",
     "text": [
      "[[0, 4, 4, 8, 7], [7, 0, 7, 7, 4], [1, 4, 0, 5, 4], [5, 2, 2, 0, 7], [1, 4, 1, 6, 0]]\n",
      "[1, 3, 8, 2, 4, 1, 4, 1, 1, 1, 5, 5, 3, 2, 1, 3, 2, 5, 4, 5, 10, 5, 3, 2, 1, 4, 1, 1, 4, 11]\n",
      "Enjoy other party\n",
      "Stay here\n",
      "Stay here\n",
      "Stay here\n",
      "Stay here\n",
      "Enjoy other party\n",
      "Enjoy other party\n",
      "Enjoy other party\n",
      "Stay here\n",
      "Enjoy other party\n"
     ]
    }
   ],
   "source": [
    "solution()"
   ],
   "metadata": {
    "collapsed": false,
    "ExecuteTime": {
     "end_time": "2024-01-10T12:30:33.903998700Z",
     "start_time": "2024-01-10T12:30:07.775397Z"
    }
   },
   "id": "4401749683ab5365",
   "execution_count": 32
  },
  {
   "cell_type": "code",
   "outputs": [],
   "source": [
    "def solution():\n",
    "    days = int(input().split())\n",
    "    for i in range(0, days) :\n",
    "        #전처리부터 한다\n",
    "        #뒤에서 불가능한것부터 0처리 \n",
    "        #끊어지는 독립포인트 찾기\n",
    "        #오래걸리는 일은 내부적으로 비교해서 손해면 0처리\n",
    "        # 3   5   1   1   2   4   2\n",
    "        # 10  20  10  20  15  0   0\n",
    "        # \n",
    "        # 3   5    1   1   2   4   2\n",
    "        # 10   0   10  20  15  0  0\n",
    "        # 계산\n",
    "        # 전처리 + 계산\n",
    "        # 큰수자가 사라지게 하는 값과\n",
    "        # 더하는 값을 비교\n",
    "        # 10 -9 -8 -7 -6 = -20\n",
    "        # 9 - 8 - 7 -6 - 10 = -22\n",
    "        \n",
    "        # 50 -40 - 30 -20 -10 = -50\n",
    "        # 40 -30 -20 -10 = -20\n",
    "        # 30 - 20 -10 = 0 \n",
    "        # 20 - 10 = 10\n",
    "        # 10 \n",
    "        \n",
    "        "
   ],
   "metadata": {
    "collapsed": false
   },
   "id": "a13e76a84694c7d4"
  },
  {
   "cell_type": "code",
   "outputs": [],
   "source": [
    "def solution():\n",
    "    days = int(input())\n",
    "    schedule =[]\n",
    "    for i in range(days):\n",
    "            a,b = map(int, input().split())\n",
    "            schedule.append([a,b])\n",
    "    for i in range(days):\n",
    "       if i+schedule[i][0] > days:\n",
    "           schedule[i][1] = 0\n",
    "    \n",
    "    index_days = {j[0]:[].append(i) for i,j in enumerate(schedule)}\n",
    "    print(index_days)"
   ],
   "metadata": {
    "collapsed": false,
    "ExecuteTime": {
     "end_time": "2024-01-10T14:06:33.086693100Z",
     "start_time": "2024-01-10T14:06:33.063183600Z"
    }
   },
   "id": "d8f60f6b7ee1d2d0",
   "execution_count": 59
  },
  {
   "cell_type": "code",
   "outputs": [
    {
     "name": "stdout",
     "output_type": "stream",
     "text": [
      "{3: None, 5: None, 1: None, 2: None, 4: None}\n"
     ]
    }
   ],
   "source": [
    "solution()"
   ],
   "metadata": {
    "collapsed": false,
    "ExecuteTime": {
     "end_time": "2024-01-10T14:06:54.538057500Z",
     "start_time": "2024-01-10T14:06:33.829254Z"
    }
   },
   "id": "9f7146760a680008",
   "execution_count": 60
  },
  {
   "cell_type": "code",
   "outputs": [],
   "source": [],
   "metadata": {
    "collapsed": false
   },
   "id": "5232f5682174a2f2"
  }
 ],
 "metadata": {
  "kernelspec": {
   "display_name": "Python 3",
   "language": "python",
   "name": "python3"
  },
  "language_info": {
   "codemirror_mode": {
    "name": "ipython",
    "version": 2
   },
   "file_extension": ".py",
   "mimetype": "text/x-python",
   "name": "python",
   "nbconvert_exporter": "python",
   "pygments_lexer": "ipython2",
   "version": "2.7.6"
  }
 },
 "nbformat": 4,
 "nbformat_minor": 5
}
