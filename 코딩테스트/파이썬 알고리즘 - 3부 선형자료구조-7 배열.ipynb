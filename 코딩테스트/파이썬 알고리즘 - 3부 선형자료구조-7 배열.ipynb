{
 "cells": [
  {
   "cell_type": "markdown",
   "source": [
    "### 선형 자료구조\n",
    "07. 두 수의 합"
   ],
   "metadata": {
    "collapsed": false
   },
   "id": "6211c73335e9d9d5"
  },
  {
   "cell_type": "code",
   "execution_count": 4,
   "outputs": [],
   "source": [
    "my_list = [2, 7, 11, 15]\n",
    "from itertools import combinations"
   ],
   "metadata": {
    "collapsed": false,
    "ExecuteTime": {
     "end_time": "2023-12-25T05:20:10.951365Z",
     "start_time": "2023-12-25T05:20:10.931330Z"
    }
   },
   "id": "d336b5209072cd76"
  },
  {
   "cell_type": "code",
   "execution_count": 5,
   "outputs": [],
   "source": [
    "# 자신의 풀이\n",
    "def Twosum(nums:list, target:int)->tuple:\n",
    "    Twonum = list(combinations(nums,2))\n",
    "\n",
    "    for i in Twonum:\n",
    "        if sum(i) == target:\n",
    "            return nums.index(i[0]),nums.index(i[1])\n",
    "# 리스트에서 길이 2의 조합 생성\n"
   ],
   "metadata": {
    "collapsed": false,
    "ExecuteTime": {
     "end_time": "2023-12-25T05:20:10.972355Z",
     "start_time": "2023-12-25T05:20:10.961448Z"
    }
   },
   "id": "dd968278bd1df4db"
  },
  {
   "cell_type": "code",
   "execution_count": 6,
   "outputs": [
    {
     "data": {
      "text/plain": "(0, 1)"
     },
     "execution_count": 6,
     "metadata": {},
     "output_type": "execute_result"
    }
   ],
   "source": [
    "Twosum(my_list,9)"
   ],
   "metadata": {
    "collapsed": false,
    "ExecuteTime": {
     "end_time": "2023-12-25T05:20:10.988262Z",
     "start_time": "2023-12-25T05:20:10.978468Z"
    }
   },
   "id": "907fd495c2144c51"
  },
  {
   "cell_type": "code",
   "execution_count": 7,
   "outputs": [],
   "source": [
    "# in 탐색\n",
    "def Twosum(nums:list, target:int)->list[int]:\n",
    "    for i, n in enumerate(nums):\n",
    "        complement = target - n\n",
    "        \n",
    "        if complement in nums[ i+1:]:\n",
    "            return [nums.index(n), nums[i+1:].index(complement)+(i+1)] # i+1에서부터 시작했으므로 i+1을 더해준다"
   ],
   "metadata": {
    "collapsed": false,
    "ExecuteTime": {
     "end_time": "2023-12-25T05:20:11.007640Z",
     "start_time": "2023-12-25T05:20:10.984063Z"
    }
   },
   "id": "5892e77673c50beb"
  },
  {
   "cell_type": "code",
   "execution_count": 8,
   "outputs": [
    {
     "data": {
      "text/plain": "[0, 1]"
     },
     "execution_count": 8,
     "metadata": {},
     "output_type": "execute_result"
    }
   ],
   "source": [
    "Twosum(my_list,9)"
   ],
   "metadata": {
    "collapsed": false,
    "ExecuteTime": {
     "end_time": "2023-12-25T05:20:11.008430Z",
     "start_time": "2023-12-25T05:20:10.991850Z"
    }
   },
   "id": "f83af422281c5d5c"
  },
  {
   "cell_type": "code",
   "execution_count": 9,
   "outputs": [],
   "source": [
    "# 첫번째 수를 뺀 결과 딕셔너리 키조회 - 매우 빠름\n",
    "\n",
    "def Twosum(nums:list[int], target:int)->list[int]:\n",
    "    num_map = {}\n",
    "    \n",
    "    for i, num in enumerate(nums):\n",
    "        num_map[num] = i\n",
    "        \n",
    "    for i, num in enumerate(nums):\n",
    "        if target - num in num_map and i != num_map[target-num]: # 자신이 아닌 딕션어리 키에 있는지\n",
    "            return [i, num_map[target-num]]  # 딕셔너리의 value값을 리턴\n",
    "        "
   ],
   "metadata": {
    "collapsed": false,
    "ExecuteTime": {
     "end_time": "2023-12-25T05:20:11.045769Z",
     "start_time": "2023-12-25T05:20:11.012246Z"
    }
   },
   "id": "7dff4a3af380e573"
  },
  {
   "cell_type": "code",
   "execution_count": 10,
   "outputs": [
    {
     "data": {
      "text/plain": "[0, 1]"
     },
     "execution_count": 10,
     "metadata": {},
     "output_type": "execute_result"
    }
   ],
   "source": [
    "Twosum(my_list,9)"
   ],
   "metadata": {
    "collapsed": false,
    "ExecuteTime": {
     "end_time": "2023-12-25T05:20:11.047302Z",
     "start_time": "2023-12-25T05:20:11.018583Z"
    }
   },
   "id": "1e02d81647d20437"
  },
  {
   "cell_type": "code",
   "execution_count": 11,
   "outputs": [],
   "source": [
    "# 조회구조 개선\n",
    "\n",
    "def Twosum(nums:list[int], target:int)->list[int]:\n",
    "    nums_map ={}\n",
    "    # 하나의 for문 비교하고나서 넣기때문에 둘이 같은지를 비교할 필요가 없음\n",
    "    \n",
    "    for i, num in enumerate(nums):\n",
    "        if target - num in nums_map:\n",
    "            return [ nums_map[target-num], i]\n",
    "        nums_map[num] = i"
   ],
   "metadata": {
    "collapsed": false,
    "ExecuteTime": {
     "end_time": "2023-12-25T05:20:11.049584Z",
     "start_time": "2023-12-25T05:20:11.027264Z"
    }
   },
   "id": "7f0bf95db0fa0a02"
  },
  {
   "cell_type": "code",
   "execution_count": 12,
   "outputs": [
    {
     "data": {
      "text/plain": "[0, 1]"
     },
     "execution_count": 12,
     "metadata": {},
     "output_type": "execute_result"
    }
   ],
   "source": [
    "Twosum(my_list,9)"
   ],
   "metadata": {
    "collapsed": false,
    "ExecuteTime": {
     "end_time": "2023-12-25T05:20:11.082942Z",
     "start_time": "2023-12-25T05:20:11.055066Z"
    }
   },
   "id": "a3a8fbae5b65e17b"
  },
  {
   "cell_type": "markdown",
   "source": [
    "### 8. 빗물 트래핑"
   ],
   "metadata": {
    "collapsed": false
   },
   "id": "421751a72d161a00"
  },
  {
   "cell_type": "code",
   "execution_count": 13,
   "outputs": [],
   "source": [
    "dam = [0, 1, 0, 2, 1, 0, 1, 3, 2, 1, 2, 1]"
   ],
   "metadata": {
    "collapsed": false,
    "ExecuteTime": {
     "end_time": "2023-12-25T05:20:11.093962Z",
     "start_time": "2023-12-25T05:20:11.087129Z"
    }
   },
   "id": "3c9c2b97e98cf87"
  },
  {
   "cell_type": "code",
   "execution_count": 14,
   "outputs": [
    {
     "name": "stdout",
     "output_type": "stream",
     "text": [
      "[0, 1, 0, 2, 1, 0, 1, 3, 2, 1, 2]\n"
     ]
    }
   ],
   "source": [
    "print(dam[:-1])"
   ],
   "metadata": {
    "collapsed": false,
    "ExecuteTime": {
     "end_time": "2023-12-25T05:20:11.107721Z",
     "start_time": "2023-12-25T05:20:11.097906Z"
    }
   },
   "id": "88aaee9c786d4176"
  },
  {
   "cell_type": "code",
   "execution_count": 15,
   "outputs": [],
   "source": [
    "def trap(my_list):\n",
    "    def trap_oneside(dam:list[int])->int:\n",
    "        oneside_water = 0\n",
    "        temp_water = 0\n",
    "        dam_check = [0 for i in range(len(dam))]\n",
    "        for i, height in enumerate(dam[:-1]):\n",
    "            temp_water = 0\n",
    "            if dam_check[i] == 1:\n",
    "                continue\n",
    "            next = i+1\n",
    "            while(dam[next] < height):\n",
    "                temp_water += (height - dam[next])\n",
    "                dam_check[next] = 1\n",
    "                next += 1\n",
    "                if dam[next] >= height:\n",
    "                    oneside_water += temp_water\n",
    "                    break\n",
    "                if next  >= len(dam)-1:\n",
    "                    break\n",
    "        return oneside_water\n",
    "    total_water = 0\n",
    "    reversed_water = my_list[::-1]\n",
    "    total_water = trap_oneside(my_list) + trap_oneside(reversed_water)\n",
    "    return total_water"
   ],
   "metadata": {
    "collapsed": false,
    "ExecuteTime": {
     "end_time": "2023-12-25T05:20:11.134960Z",
     "start_time": "2023-12-25T05:20:11.105923Z"
    }
   },
   "id": "a0e65b12dab12b04"
  },
  {
   "cell_type": "code",
   "execution_count": 16,
   "outputs": [
    {
     "data": {
      "text/plain": "6"
     },
     "execution_count": 16,
     "metadata": {},
     "output_type": "execute_result"
    }
   ],
   "source": [
    "trap(dam)"
   ],
   "metadata": {
    "collapsed": false,
    "ExecuteTime": {
     "end_time": "2023-12-25T05:20:11.143367Z",
     "start_time": "2023-12-25T05:20:11.111874Z"
    }
   },
   "id": "7c2be84a736cd9cf"
  },
  {
   "cell_type": "code",
   "outputs": [],
   "source": [
    "# 투 포인터\n",
    "# 좌우로 나눠서 최대높이가 작은쪽으로 반대쪽으로 이동해가면서 볼륨을 구한다\n",
    "# 왼쪽이면 왼쪽최대높이 - 왼쪽현재높이\n",
    "# 이런식으로 최대높이가 작은쪽으로 로컬로 빼면서 진행\n",
    "\n",
    "def trap(height:list[int]) -> int:\n",
    "    if not height:\n",
    "        return 0\n",
    "    \n",
    "    volume = 0\n",
    "    left, right = 0, len(height)-1\n",
    "    left_max, right_max = height[left], height[right]\n",
    "    \n",
    "    while left <right:\n",
    "        left_max, right_max = (max(height[left], left_max),\n",
    "                               max(height[right], right_max))\n",
    "        if left_max <= right_max:\n",
    "            volume += left_max - height[left]\n",
    "            left += 1\n",
    "        else:\n",
    "            volume += right_max - height[right]\n",
    "            right -=1\n",
    "    return volume\n",
    "    "
   ],
   "metadata": {
    "collapsed": false,
    "ExecuteTime": {
     "end_time": "2023-12-25T05:20:11.168289Z",
     "start_time": "2023-12-25T05:20:11.139402Z"
    }
   },
   "id": "5e4e6459c4928d15",
   "execution_count": 17
  },
  {
   "cell_type": "code",
   "outputs": [
    {
     "data": {
      "text/plain": "6"
     },
     "execution_count": 18,
     "metadata": {},
     "output_type": "execute_result"
    }
   ],
   "source": [
    "trap(dam)"
   ],
   "metadata": {
    "collapsed": false,
    "ExecuteTime": {
     "end_time": "2023-12-25T05:20:11.182760Z",
     "start_time": "2023-12-25T05:20:11.171419Z"
    }
   },
   "id": "26578b3cac838a5e",
   "execution_count": 18
  },
  {
   "cell_type": "code",
   "outputs": [],
   "source": [
    "dam = [0, 1, 0, 2, 1, 0, 1, 3, 2, 1, 2, 1]"
   ],
   "metadata": {
    "collapsed": false,
    "ExecuteTime": {
     "end_time": "2023-12-25T05:41:34.045225Z",
     "start_time": "2023-12-25T05:41:34.038157Z"
    }
   },
   "id": "959b8163038a216a",
   "execution_count": 37
  },
  {
   "cell_type": "code",
   "outputs": [],
   "source": [
    "# 스택쌓기\n",
    "def trap(height:list[int])->int:\n",
    "    volume = 0\n",
    "    stack = [] # 인덱스가 들어감\n",
    "    \n",
    "    for i in range(len(height)):\n",
    "        \n",
    "        while stack and height[i] > height[stack[-1]]:\n",
    "            low = stack.pop()\n",
    "            if not len(stack):\n",
    "                break\n",
    "            distance = i - stack[-1] -1\n",
    "            waters = min(height[i], height[stack[-1]])- height[low]\n",
    "            volume += distance*waters\n",
    "        \n",
    "        stack.append(i)\n",
    "    return volume"
   ],
   "metadata": {
    "collapsed": false,
    "ExecuteTime": {
     "end_time": "2023-12-25T05:41:34.576147Z",
     "start_time": "2023-12-25T05:41:34.563838Z"
    }
   },
   "id": "f3999d117bbbe672",
   "execution_count": 38
  },
  {
   "cell_type": "code",
   "outputs": [
    {
     "data": {
      "text/plain": "6"
     },
     "execution_count": 49,
     "metadata": {},
     "output_type": "execute_result"
    }
   ],
   "source": [
    "trap(dam)            "
   ],
   "metadata": {
    "collapsed": false,
    "ExecuteTime": {
     "end_time": "2023-12-25T06:10:49.641680Z",
     "start_time": "2023-12-25T06:10:49.630579Z"
    }
   },
   "id": "e5bb43998709c9c1",
   "execution_count": 49
  },
  {
   "cell_type": "code",
   "outputs": [],
   "source": [
    "def trap(height:list[int])->int:\n",
    "    volume = 0\n",
    "    stack_of_index = []\n",
    "    \n",
    "    for i in range(len(height)):\n",
    "        while stack_of_index and ( height[i]> height[stack_of_index[-1]]):\n",
    "            low = stack_of_index.pop()\n",
    "            if not len(stack_of_index):\n",
    "                break\n",
    "            distance = i - stack_of_index[-1] -1\n",
    "            height_of_waters = min(height[i], height[stack_of_index[-1]]) - height[low]\n",
    "            volume += height_of_waters* distance\n",
    "        stack_of_index.append(i)\n",
    "    return volume"
   ],
   "metadata": {
    "collapsed": false,
    "ExecuteTime": {
     "end_time": "2023-12-25T07:08:13.125474Z",
     "start_time": "2023-12-25T07:08:13.096810Z"
    }
   },
   "id": "b24a36d6052a6fe9",
   "execution_count": 50
  },
  {
   "cell_type": "code",
   "outputs": [
    {
     "data": {
      "text/plain": "6"
     },
     "execution_count": 51,
     "metadata": {},
     "output_type": "execute_result"
    }
   ],
   "source": [
    "trap(dam)  "
   ],
   "metadata": {
    "collapsed": false,
    "ExecuteTime": {
     "end_time": "2023-12-25T07:08:13.497641Z",
     "start_time": "2023-12-25T07:08:13.490246Z"
    }
   },
   "id": "86ffdd0d85cf8cfe",
   "execution_count": 51
  },
  {
   "cell_type": "markdown",
   "source": [
    "### 9. 세수의 합"
   ],
   "metadata": {
    "collapsed": false
   },
   "id": "97343590215692be"
  },
  {
   "cell_type": "code",
   "outputs": [],
   "source": [
    "nums = [-1, 0, 1, 2, -1, -4]"
   ],
   "metadata": {
    "collapsed": false,
    "ExecuteTime": {
     "end_time": "2023-12-25T08:23:01.663673Z",
     "start_time": "2023-12-25T08:23:01.653759Z"
    }
   },
   "id": "dfe59ce9c54ad12b",
   "execution_count": 81
  },
  {
   "cell_type": "code",
   "outputs": [],
   "source": [
    "# 처음풀이\n",
    "from itertools import combinations\n",
    "\n",
    "def zero_sum(nums:list[int])->int:\n",
    "    combi = list(combinations(nums,3))\n",
    "    result =[]\n",
    "    for comb in combi:\n",
    "        if sum(comb) == 0:\n",
    "            result.append(comb)\n",
    "    return result"
   ],
   "metadata": {
    "collapsed": false,
    "ExecuteTime": {
     "end_time": "2023-12-25T08:05:05.781915Z",
     "start_time": "2023-12-25T08:05:05.769139Z"
    }
   },
   "id": "597fb6f447d0d943",
   "execution_count": 73
  },
  {
   "cell_type": "code",
   "outputs": [
    {
     "data": {
      "text/plain": "[(-1, 0, 1), (-1, 2, -1), (0, 1, -1)]"
     },
     "execution_count": 74,
     "metadata": {},
     "output_type": "execute_result"
    }
   ],
   "source": [
    "zero_sum(nums)"
   ],
   "metadata": {
    "collapsed": false,
    "ExecuteTime": {
     "end_time": "2023-12-25T08:05:06.477597Z",
     "start_time": "2023-12-25T08:05:06.469030Z"
    }
   },
   "id": "52f4145211d49e39",
   "execution_count": 74
  },
  {
   "cell_type": "code",
   "outputs": [],
   "source": [
    "# 브루트포스\n",
    "def zero_sum(nums):\n",
    "    nums.sort()\n",
    "    result =[]\n",
    "    \n",
    "    for i in range(len(nums)-2):\n",
    "        if i > 0 and nums[i] ==nums[i-1]:\n",
    "            continue\n",
    "        for j in range(i+1, len(nums)-1):\n",
    "            if j > i+1 and nums[j] == nums[j-1]:\n",
    "                continue\n",
    "            for k in range(j+1 ,len(nums)):\n",
    "                if k > j+1 and nums[k] == nums[k-1]:\n",
    "                    continue\n",
    "                if nums[i]+nums[j]+nums[k] == 0:\n",
    "                    result.append([nums[i],nums[j],nums[k]])\n",
    "    return result\n"
   ],
   "metadata": {
    "collapsed": false,
    "ExecuteTime": {
     "end_time": "2023-12-25T08:07:57.303204Z",
     "start_time": "2023-12-25T08:07:57.261648Z"
    }
   },
   "id": "3c6f6b800b5c9375",
   "execution_count": 77
  },
  {
   "cell_type": "code",
   "outputs": [
    {
     "data": {
      "text/plain": "[[-1, -1, 2], [-1, 0, 1]]"
     },
     "execution_count": 78,
     "metadata": {},
     "output_type": "execute_result"
    }
   ],
   "source": [
    "zero_sum(nums)"
   ],
   "metadata": {
    "collapsed": false,
    "ExecuteTime": {
     "end_time": "2023-12-25T08:07:57.836601Z",
     "start_time": "2023-12-25T08:07:57.820149Z"
    }
   },
   "id": "7fef2fbc38d88728",
   "execution_count": 78
  },
  {
   "cell_type": "code",
   "outputs": [],
   "source": [
    "# 투포인터 풀이\n",
    "def zero_sum(nums):\n",
    "    result = []\n",
    "    nums.sort()\n",
    "    \n",
    "    for i in range(len(nums)-2):\n",
    "        if i > 0 and nums[i] == nums [i-1]:\n",
    "            continue\n",
    "        left, right = i+1, len(nums)-1\n",
    "        while left<right:\n",
    "            sum = nums[i] +nums[left]+nums[right]\n",
    "            if sum < 0:\n",
    "                left +=1\n",
    "            elif sum > 0:\n",
    "                right -=1\n",
    "            else:\n",
    "                result.append([nums[i],nums[left],nums[right]])\n",
    "                \n",
    "                while left < right and nums[left] == nums[left+1]:\n",
    "                    left += 1\n",
    "                while left < right and nums[right] == nums[right-1]:\n",
    "                    right -=1\n",
    "                left +=1\n",
    "                right -=1\n",
    "    return result\n"
   ],
   "metadata": {
    "collapsed": false,
    "ExecuteTime": {
     "end_time": "2023-12-25T08:29:48.942556Z",
     "start_time": "2023-12-25T08:29:48.930407Z"
    }
   },
   "id": "241372c650e2420c",
   "execution_count": 90
  },
  {
   "cell_type": "code",
   "outputs": [
    {
     "data": {
      "text/plain": "[[-1, -1, 2], [-1, 0, 1]]"
     },
     "execution_count": 91,
     "metadata": {},
     "output_type": "execute_result"
    }
   ],
   "source": [
    "zero_sum(nums)"
   ],
   "metadata": {
    "collapsed": false,
    "ExecuteTime": {
     "end_time": "2023-12-25T08:29:49.530450Z",
     "start_time": "2023-12-25T08:29:49.523031Z"
    }
   },
   "id": "99291cfdaba11f8c",
   "execution_count": 91
  },
  {
   "cell_type": "markdown",
   "source": [
    "### 10. 배열파티션 - 1"
   ],
   "metadata": {
    "collapsed": false
   },
   "id": "8dd3e88d1fcf1d32"
  },
  {
   "cell_type": "code",
   "outputs": [],
   "source": [
    "input_list = [1, 4, 3, 2]"
   ],
   "metadata": {
    "collapsed": false,
    "ExecuteTime": {
     "end_time": "2023-12-25T09:28:23.923460Z",
     "start_time": "2023-12-25T09:28:23.915217Z"
    }
   },
   "id": "e9942cb18dbb6166",
   "execution_count": 139
  },
  {
   "cell_type": "code",
   "outputs": [],
   "source": [
    "# 처음풀이\n",
    "def pairSum(input):\n",
    "    min_value = min(input_list)\n",
    "    max_value = max(input_list)\n",
    "    input_list.remove(max_value)\n",
    "    second_value = max(input_list)\n",
    "    return min_value+second_value"
   ],
   "metadata": {
    "collapsed": false,
    "ExecuteTime": {
     "end_time": "2023-12-25T09:26:41.795380Z",
     "start_time": "2023-12-25T09:26:41.786814Z"
    }
   },
   "id": "6a807d225021d019",
   "execution_count": 131
  },
  {
   "cell_type": "code",
   "outputs": [
    {
     "data": {
      "text/plain": "4"
     },
     "execution_count": 132,
     "metadata": {},
     "output_type": "execute_result"
    }
   ],
   "source": [
    "pairSum(input_list)"
   ],
   "metadata": {
    "collapsed": false,
    "ExecuteTime": {
     "end_time": "2023-12-25T09:26:42.321442Z",
     "start_time": "2023-12-25T09:26:42.313868Z"
    }
   },
   "id": "6de127dd786dfa5c",
   "execution_count": 132
  },
  {
   "cell_type": "code",
   "outputs": [],
   "source": [
    "input_list = [1, 4, 3, 2]"
   ],
   "metadata": {
    "collapsed": false,
    "ExecuteTime": {
     "end_time": "2023-12-25T09:28:50.795710Z",
     "start_time": "2023-12-25T09:28:50.754678Z"
    }
   },
   "id": "3c048fb3e7a7ad94",
   "execution_count": 142
  },
  {
   "cell_type": "code",
   "outputs": [],
   "source": [
    "#오름차순풀이\n",
    "\n",
    "def pairSum(input):\n",
    "    sum = 0\n",
    "    pair = []\n",
    "    input.sort()\n",
    "    print(input)\n",
    "    \n",
    "    for n in input:\n",
    "        \n",
    "        pair.append(n)\n",
    "        if len(pair) == 2:\n",
    "            sum += min(pair)\n",
    "            pair =[]\n",
    "    return sum"
   ],
   "metadata": {
    "collapsed": false,
    "ExecuteTime": {
     "end_time": "2023-12-25T09:28:51.161794Z",
     "start_time": "2023-12-25T09:28:51.154533Z"
    }
   },
   "id": "be47bbf8a116f1a5",
   "execution_count": 143
  },
  {
   "cell_type": "code",
   "outputs": [
    {
     "name": "stdout",
     "output_type": "stream",
     "text": [
      "[1, 2, 3, 4]\n"
     ]
    },
    {
     "data": {
      "text/plain": "4"
     },
     "execution_count": 144,
     "metadata": {},
     "output_type": "execute_result"
    }
   ],
   "source": [
    "pairSum(input_list)"
   ],
   "metadata": {
    "collapsed": false,
    "ExecuteTime": {
     "end_time": "2023-12-25T09:28:51.784763Z",
     "start_time": "2023-12-25T09:28:51.776880Z"
    }
   },
   "id": "1be12ce0813ea2a4",
   "execution_count": 144
  },
  {
   "cell_type": "code",
   "outputs": [],
   "source": [],
   "metadata": {
    "collapsed": false
   },
   "id": "b2d475396d593074"
  },
  {
   "cell_type": "code",
   "outputs": [],
   "source": [
    "def pairSum(nums):\n",
    "    return sum(sorted(nums)[::2])"
   ],
   "metadata": {
    "collapsed": false,
    "ExecuteTime": {
     "end_time": "2023-12-25T09:33:32.543389Z",
     "start_time": "2023-12-25T09:33:32.503301Z"
    }
   },
   "id": "246681f0b979d2e2",
   "execution_count": 145
  },
  {
   "cell_type": "code",
   "outputs": [
    {
     "data": {
      "text/plain": "4"
     },
     "execution_count": 146,
     "metadata": {},
     "output_type": "execute_result"
    }
   ],
   "source": [
    "pairSum(input_list)"
   ],
   "metadata": {
    "collapsed": false,
    "ExecuteTime": {
     "end_time": "2023-12-25T09:33:39.323262Z",
     "start_time": "2023-12-25T09:33:39.300649Z"
    }
   },
   "id": "76941e6ab2cb3066",
   "execution_count": 146
  },
  {
   "cell_type": "markdown",
   "source": [
    "### 11. 자신을 제외한 배열의 곱 (중요)"
   ],
   "metadata": {
    "collapsed": false
   },
   "id": "d396fd1a86a0bbc3"
  },
  {
   "cell_type": "code",
   "outputs": [],
   "source": [
    "product_list = [ 1, 2, 3, 4]"
   ],
   "metadata": {
    "collapsed": false,
    "ExecuteTime": {
     "end_time": "2023-12-25T10:35:48.594900Z",
     "start_time": "2023-12-25T10:35:48.576929Z"
    }
   },
   "id": "30309da23e465c9c",
   "execution_count": 5
  },
  {
   "cell_type": "code",
   "outputs": [],
   "source": [
    "# 처음풀이\n",
    "from functools import reduce\n",
    "def productExceptSelf(product_list:list[int]):\n",
    "    result_list = []\n",
    "    for i in product_list:\n",
    "        temp_list = product_list.copy()\n",
    "        temp_list.remove(i)\n",
    "        result_list.append(reduce(lambda x,y: x*y, temp_list))\n",
    "    return result_list"
   ],
   "metadata": {
    "collapsed": false,
    "ExecuteTime": {
     "end_time": "2023-12-25T10:08:10.388861Z",
     "start_time": "2023-12-25T10:08:10.378954Z"
    }
   },
   "id": "f7eff77aa259bd55",
   "execution_count": 167
  },
  {
   "cell_type": "code",
   "outputs": [
    {
     "data": {
      "text/plain": "[24, 12, 8, 6]"
     },
     "execution_count": 168,
     "metadata": {},
     "output_type": "execute_result"
    }
   ],
   "source": [
    "productExceptSelf(product_list)"
   ],
   "metadata": {
    "collapsed": false,
    "ExecuteTime": {
     "end_time": "2023-12-25T10:08:10.996799Z",
     "start_time": "2023-12-25T10:08:10.989679Z"
    }
   },
   "id": "f94312be46143a5b",
   "execution_count": 168
  },
  {
   "cell_type": "code",
   "outputs": [],
   "source": [
    "# 왼쪽 곱셈에 오른쪽 차례대로 \n",
    "def productExceptSelf(nums:list[int])->list[int]:   \n",
    "    out = []\n",
    "    # left side product\n",
    "    p = 1\n",
    "    for i in range(0, len(nums)):\n",
    "        out.append(p)\n",
    "        p *= nums[i]\n",
    "        #마지막 p는 추가되지 않음\n",
    "    print(out)\n",
    "    p = 1\n",
    "    for i in range(len(nums)-1, -1,-1): # 인덱스 3, 2, 1, 0 순서대로 출력됨, 반대순서로 출려하기위해서\n",
    "        out[i]= out[i]*p\n",
    "        p *= nums[i]\n",
    "    print(out)"
   ],
   "metadata": {
    "collapsed": false,
    "ExecuteTime": {
     "end_time": "2023-12-25T11:10:14.396355Z",
     "start_time": "2023-12-25T11:10:14.366365Z"
    }
   },
   "id": "60552e623998172a",
   "execution_count": 13
  },
  {
   "cell_type": "code",
   "outputs": [
    {
     "name": "stdout",
     "output_type": "stream",
     "text": [
      "[1, 1, 2, 6]\n",
      "[24, 12, 8, 6]\n"
     ]
    }
   ],
   "source": [
    "productExceptSelf(product_list)"
   ],
   "metadata": {
    "collapsed": false,
    "ExecuteTime": {
     "end_time": "2023-12-25T11:10:14.809828Z",
     "start_time": "2023-12-25T11:10:14.799063Z"
    }
   },
   "id": "c9a2f5e7c0fcb459",
   "execution_count": 14
  },
  {
   "cell_type": "markdown",
   "source": [
    "### 12. 주식을 사고팔기 가장 좋은 시점"
   ],
   "metadata": {
    "collapsed": false
   },
   "id": "965934dbfced1721"
  },
  {
   "cell_type": "code",
   "outputs": [],
   "source": [
    "stock = [7, 1, 5, 3, 6, 4]"
   ],
   "metadata": {
    "collapsed": false,
    "ExecuteTime": {
     "end_time": "2023-12-25T11:34:59.937501Z",
     "start_time": "2023-12-25T11:34:59.923241Z"
    }
   },
   "id": "b3fd5346199df96b",
   "execution_count": 24
  },
  {
   "cell_type": "code",
   "outputs": [],
   "source": [
    "#처음풀이\n",
    "def maxProfit(stock:list[int]):\n",
    "    max = 0\n",
    "    for i in range(1, len(stock)):\n",
    "        for j in range(0, len(stock)-1):\n",
    "            profit = i - j\n",
    "            if profit > max:\n",
    "                max = profit\n",
    "    return max"
   ],
   "metadata": {
    "collapsed": false,
    "ExecuteTime": {
     "end_time": "2023-12-25T11:45:07.921328Z",
     "start_time": "2023-12-25T11:45:07.915403Z"
    }
   },
   "id": "555367ac9d874573",
   "execution_count": 29
  },
  {
   "cell_type": "code",
   "outputs": [
    {
     "data": {
      "text/plain": "5"
     },
     "execution_count": 30,
     "metadata": {},
     "output_type": "execute_result"
    }
   ],
   "source": [
    "maxProfit(stock)"
   ],
   "metadata": {
    "collapsed": false,
    "ExecuteTime": {
     "end_time": "2023-12-25T11:45:08.184615Z",
     "start_time": "2023-12-25T11:45:08.175997Z"
    }
   },
   "id": "b784e22595c5be1b",
   "execution_count": 30
  },
  {
   "cell_type": "code",
   "outputs": [],
   "source": [],
   "metadata": {
    "collapsed": false
   },
   "id": "2f4a2d465af6a582"
  }
 ],
 "metadata": {
  "kernelspec": {
   "display_name": "Python 3",
   "language": "python",
   "name": "python3"
  },
  "language_info": {
   "codemirror_mode": {
    "name": "ipython",
    "version": 2
   },
   "file_extension": ".py",
   "mimetype": "text/x-python",
   "name": "python",
   "nbconvert_exporter": "python",
   "pygments_lexer": "ipython2",
   "version": "2.7.6"
  }
 },
 "nbformat": 4,
 "nbformat_minor": 5
}
