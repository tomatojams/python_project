{
 "cells": [
  {
   "cell_type": "code",
   "execution_count": 1,
   "id": "initial_id",
   "metadata": {
    "collapsed": true,
    "ExecuteTime": {
     "end_time": "2023-10-03T15:24:56.245374Z",
     "start_time": "2023-10-03T15:24:56.240402500Z"
    }
   },
   "outputs": [
    {
     "name": "stdout",
     "output_type": "stream",
     "text": [
      "1\n",
      "2\n",
      "3\n",
      "4\n",
      "5\n",
      "6\n"
     ]
    }
   ],
   "source": [
    "from collections import defaultdict\n",
    "\n",
    "# 그래프를 딕셔너리로 나타냅니다. 각 노드는 인접한 노드의 리스트를 가집니다.\n",
    "graph = defaultdict(list)\n",
    "\n",
    "# 그래프에 노드와 엣지를 추가합니다.\n",
    "graph[1].append(2)\n",
    "graph[1].append(3)\n",
    "graph[2].append(4)\n",
    "graph[2].append(5)\n",
    "graph[3].append(6)\n",
    "\n",
    "\n",
    "def bfs(graph, start):\n",
    "    visited = set()  # 방문한 노드를 저장하는 집합\n",
    "    queue = []  # 큐를 초기화합니다.\n",
    "\n",
    "    queue.append(start)  # 시작 노드를 큐에 넣습니다.\n",
    "    visited.add(start)  # 시작 노드를 방문했다고 표시합니다.\n",
    "\n",
    "    while queue:\n",
    "        node = queue.pop(0)  # 큐에서 노드를 하나 꺼냅니다.\n",
    "        print(node)  # 노드를 출력합니다.\n",
    "\n",
    "        # 현재 노드와 인접한 미방문 노드를 큐에 넣고 방문했다고 표시합니다.\n",
    "        for neighbor in graph[node]:\n",
    "            if neighbor not in visited:\n",
    "                queue.append(neighbor)\n",
    "                visited.add(neighbor)\n",
    "\n",
    "\n",
    "# 시작 노드를 1로 설정하여 BFS를 실행합니다.\n",
    "bfs(graph, 1)\n"
   ]
  },
  {
   "cell_type": "code",
   "execution_count": null,
   "outputs": [],
   "source": [],
   "metadata": {
    "collapsed": false
   },
   "id": "59fe3dc5f39fab"
  }
 ],
 "metadata": {
  "kernelspec": {
   "display_name": "Python 3",
   "language": "python",
   "name": "python3"
  },
  "language_info": {
   "codemirror_mode": {
    "name": "ipython",
    "version": 2
   },
   "file_extension": ".py",
   "mimetype": "text/x-python",
   "name": "python",
   "nbconvert_exporter": "python",
   "pygments_lexer": "ipython2",
   "version": "2.7.6"
  }
 },
 "nbformat": 4,
 "nbformat_minor": 5
}
