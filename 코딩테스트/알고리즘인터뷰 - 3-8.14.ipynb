{
 "cells": [
  {
   "cell_type": "markdown",
   "source": [
    "### 14. 두정렬 리스트의 병합"
   ],
   "metadata": {
    "collapsed": false
   },
   "id": "cc3e29c6b1d71fb4"
  },
  {
   "cell_type": "code",
   "outputs": [],
   "source": [
    "class ListNode:\n",
    "    def __init__(self, x):\n",
    "        self.val = x\n",
    "        self.next = None"
   ],
   "metadata": {
    "collapsed": false,
    "ExecuteTime": {
     "end_time": "2024-01-04T10:01:15.892360Z",
     "start_time": "2024-01-04T10:01:15.876896Z"
    }
   },
   "id": "6c1122b71114dd0a",
   "execution_count": 47
  },
  {
   "cell_type": "code",
   "outputs": [
    {
     "name": "stdout",
     "output_type": "stream",
     "text": [
      "1\n",
      "2\n",
      "4\n",
      "1\n",
      "3\n",
      "4\n"
     ]
    }
   ],
   "source": [
    "left = ListNode(1)\n",
    "left2 = ListNode(2)\n",
    "left3 = ListNode(4)\n",
    "left.next = left2\n",
    "left2.next = left3\n",
    "right = ListNode(1)\n",
    "right2 = ListNode(3)\n",
    "right3  = ListNode(4)\n",
    "right.next = right2\n",
    "right2.next = right3\n",
    "\n",
    "while left != None:\n",
    "    print(left.val)\n",
    "    left = left.next\n",
    "    \n",
    "while right != None:\n",
    "    print(right.val)\n",
    "    right = right.next"
   ],
   "metadata": {
    "collapsed": false,
    "ExecuteTime": {
     "end_time": "2024-01-04T10:01:15.897012Z",
     "start_time": "2024-01-04T10:01:15.883483Z"
    }
   },
   "id": "9abb7155cae2aeac",
   "execution_count": 48
  },
  {
   "cell_type": "code",
   "outputs": [
    {
     "data": {
      "text/plain": "3"
     },
     "execution_count": 1,
     "metadata": {},
     "output_type": "execute_result"
    }
   ],
   "source": [
    "13//4"
   ],
   "metadata": {
    "collapsed": false,
    "ExecuteTime": {
     "end_time": "2024-01-05T05:52:15.368968Z",
     "start_time": "2024-01-05T05:52:15.362657Z"
    }
   },
   "id": "3e812ce3cc728c1",
   "execution_count": 1
  },
  {
   "cell_type": "code",
   "outputs": [],
   "source": [
    "def mergeTwoLists(l1:ListNode, l2:ListNode)->ListNode:\n",
    "    if (not l1) or (l2 and l1.val> l2.val):\n",
    "        l1,l2 = l2, l1\n",
    "    if l1:\n",
    "        l1.next = mergeTwoLists(l1.next,l2)\n",
    "    return l1"
   ],
   "metadata": {
    "collapsed": false,
    "ExecuteTime": {
     "end_time": "2024-01-04T10:01:15.897216Z",
     "start_time": "2024-01-04T10:01:15.888552Z"
    }
   },
   "id": "a6997daec155e884",
   "execution_count": 49
  },
  {
   "cell_type": "code",
   "outputs": [],
   "source": [
    "l1 = mergeTwoLists(left,right)\n",
    "\n",
    "while l != None:\n",
    "    print(l1.val)\n",
    "    l1 = l1.next\n"
   ],
   "metadata": {
    "collapsed": false,
    "ExecuteTime": {
     "end_time": "2024-01-04T10:01:15.909776Z",
     "start_time": "2024-01-04T10:01:15.893842Z"
    }
   },
   "id": "84a5651eb39e3121",
   "execution_count": 50
  },
  {
   "cell_type": "code",
   "outputs": [],
   "source": [],
   "metadata": {
    "collapsed": false,
    "ExecuteTime": {
     "end_time": "2024-01-04T10:01:15.922845Z",
     "start_time": "2024-01-04T10:01:15.898758Z"
    }
   },
   "id": "dcc33b127c0c21db",
   "execution_count": 50
  }
 ],
 "metadata": {
  "kernelspec": {
   "display_name": "Python 3",
   "language": "python",
   "name": "python3"
  },
  "language_info": {
   "codemirror_mode": {
    "name": "ipython",
    "version": 2
   },
   "file_extension": ".py",
   "mimetype": "text/x-python",
   "name": "python",
   "nbconvert_exporter": "python",
   "pygments_lexer": "ipython2",
   "version": "2.7.6"
  }
 },
 "nbformat": 4,
 "nbformat_minor": 5
}
