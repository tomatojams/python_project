{
 "cells": [
  {
   "cell_type": "markdown",
   "source": [
    "### 14. 두정렬 리스트의 병합"
   ],
   "metadata": {
    "collapsed": false
   },
   "id": "cc3e29c6b1d71fb4"
  },
  {
   "cell_type": "code",
   "outputs": [],
   "source": [
    "class ListNode:\n",
    "    def __init__(self, x):\n",
    "        self.val = x\n",
    "        self.next = None"
   ],
   "metadata": {
    "collapsed": false,
    "ExecuteTime": {
     "end_time": "2023-12-27T09:59:02.950114Z",
     "start_time": "2023-12-27T09:59:02.947248Z"
    }
   },
   "id": "6c1122b71114dd0a",
   "execution_count": 1
  },
  {
   "cell_type": "code",
   "outputs": [],
   "source": [
    "left = ListNode(1)\n",
    "left2 = ListNode(2)\n",
    "left3 = ListNode(4)\n",
    "left.next = left2\n",
    "left2.next = left3\n",
    "right = ListNode(1)\n",
    "right2 = ListNode(3)\n",
    "right3  = ListNode(4)\n",
    "right.next = right2\n",
    "right2.next = right3"
   ],
   "metadata": {
    "collapsed": false,
    "ExecuteTime": {
     "end_time": "2023-12-27T10:00:44.795592Z",
     "start_time": "2023-12-27T10:00:44.791974Z"
    }
   },
   "id": "9abb7155cae2aeac",
   "execution_count": 2
  },
  {
   "cell_type": "code",
   "outputs": [
    {
     "ename": "IndentationError",
     "evalue": "expected an indented block (697979350.py, line 2)",
     "output_type": "error",
     "traceback": [
      "\u001B[0;36m  Cell \u001B[0;32mIn[3], line 2\u001B[0;36m\u001B[0m\n\u001B[0;31m    if (l1.next == l2.next):\u001B[0m\n\u001B[0m                            ^\u001B[0m\n\u001B[0;31mIndentationError\u001B[0m\u001B[0;31m:\u001B[0m expected an indented block\n"
     ]
    }
   ],
   "source": [
    "def mergeTwoLists(l1:ListNode, l2:ListNode)->ListNode:\n",
    "    if (l1.val <= l2.val):\n",
    "        \n",
    "        "
   ],
   "metadata": {
    "collapsed": false,
    "ExecuteTime": {
     "end_time": "2023-12-27T10:12:07.465349Z",
     "start_time": "2023-12-27T10:12:07.406315Z"
    }
   },
   "id": "a6997daec155e884",
   "execution_count": 3
  },
  {
   "cell_type": "code",
   "outputs": [],
   "source": [],
   "metadata": {
    "collapsed": false
   },
   "id": "84a5651eb39e3121"
  }
 ],
 "metadata": {
  "kernelspec": {
   "display_name": "Python 3",
   "language": "python",
   "name": "python3"
  },
  "language_info": {
   "codemirror_mode": {
    "name": "ipython",
    "version": 2
   },
   "file_extension": ".py",
   "mimetype": "text/x-python",
   "name": "python",
   "nbconvert_exporter": "python",
   "pygments_lexer": "ipython2",
   "version": "2.7.6"
  }
 },
 "nbformat": 4,
 "nbformat_minor": 5
}
