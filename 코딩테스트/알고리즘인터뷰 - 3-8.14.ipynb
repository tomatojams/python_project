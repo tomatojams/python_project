{
 "cells": [
  {
   "cell_type": "markdown",
   "source": [
    "### 14. 두정렬 리스트의 병합"
   ],
   "metadata": {
    "collapsed": false
   },
   "id": "cc3e29c6b1d71fb4"
  },
  {
   "cell_type": "code",
   "outputs": [],
   "source": [
    "class ListNode:\n",
    "    def __init__(self, x):\n",
    "        self.val = x\n",
    "        self.next = None"
   ],
   "metadata": {
    "collapsed": false,
    "ExecuteTime": {
     "end_time": "2023-12-28T06:37:46.255439Z",
     "start_time": "2023-12-28T06:37:46.243956Z"
    }
   },
   "id": "6c1122b71114dd0a",
   "execution_count": 2
  },
  {
   "cell_type": "code",
   "outputs": [],
   "source": [
    "left = ListNode(1)\n",
    "left2 = ListNode(2)\n",
    "left3 = ListNode(4)\n",
    "left.next = left2\n",
    "left2.next = left3\n",
    "right = ListNode(1)\n",
    "right2 = ListNode(3)\n",
    "right3  = ListNode(4)\n",
    "right.next = right2\n",
    "right2.next = right3"
   ],
   "metadata": {
    "collapsed": false,
    "ExecuteTime": {
     "end_time": "2023-12-28T06:37:46.677379Z",
     "start_time": "2023-12-28T06:37:46.673521Z"
    }
   },
   "id": "9abb7155cae2aeac",
   "execution_count": 3
  },
  {
   "cell_type": "code",
   "outputs": [],
   "source": [
    "def mergeTwoLists(self,l1:ListNode, l2:ListNode)->ListNode:\n",
    "    if (not l1) or (l2 and l1.val> l2.val):\n",
    "        l1,l2 = l2, l1\n",
    "    if l1:\n",
    "        l1.next = self.megeTwoLists(l1.next,l2)\n",
    "    return l1"
   ],
   "metadata": {
    "collapsed": false,
    "ExecuteTime": {
     "end_time": "2023-12-28T06:39:24.906350Z",
     "start_time": "2023-12-28T06:39:24.861982Z"
    }
   },
   "id": "a6997daec155e884",
   "execution_count": 8
  },
  {
   "cell_type": "code",
   "outputs": [
    {
     "ename": "TypeError",
     "evalue": "mergeTwoLists() missing 1 required positional argument: 'l2'",
     "output_type": "error",
     "traceback": [
      "\u001B[0;31m---------------------------------------------------------------------------\u001B[0m",
      "\u001B[0;31mTypeError\u001B[0m                                 Traceback (most recent call last)",
      "Cell \u001B[0;32mIn[9], line 1\u001B[0m\n\u001B[0;32m----> 1\u001B[0m \u001B[43mmergeTwoLists\u001B[49m\u001B[43m(\u001B[49m\u001B[43mleft\u001B[49m\u001B[43m,\u001B[49m\u001B[43mright\u001B[49m\u001B[43m)\u001B[49m\n",
      "\u001B[0;31mTypeError\u001B[0m: mergeTwoLists() missing 1 required positional argument: 'l2'"
     ]
    }
   ],
   "source": [
    "mergeTwoLists(left,right)"
   ],
   "metadata": {
    "collapsed": false,
    "ExecuteTime": {
     "end_time": "2023-12-28T06:39:25.413059Z",
     "start_time": "2023-12-28T06:39:25.272106Z"
    }
   },
   "id": "84a5651eb39e3121",
   "execution_count": 9
  },
  {
   "cell_type": "code",
   "outputs": [],
   "source": [],
   "metadata": {
    "collapsed": false
   },
   "id": "dcc33b127c0c21db"
  }
 ],
 "metadata": {
  "kernelspec": {
   "display_name": "Python 3",
   "language": "python",
   "name": "python3"
  },
  "language_info": {
   "codemirror_mode": {
    "name": "ipython",
    "version": 2
   },
   "file_extension": ".py",
   "mimetype": "text/x-python",
   "name": "python",
   "nbconvert_exporter": "python",
   "pygments_lexer": "ipython2",
   "version": "2.7.6"
  }
 },
 "nbformat": 4,
 "nbformat_minor": 5
}
