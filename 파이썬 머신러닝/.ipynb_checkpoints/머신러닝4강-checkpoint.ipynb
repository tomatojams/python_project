{
 "cells": [
  {
   "cell_type": "code",
   "execution_count": 16,
   "metadata": {
    "ExecuteTime": {
     "end_time": "2023-12-11T13:32:06.720531600Z",
     "start_time": "2023-12-11T13:32:06.667796Z"
    },
    "executionInfo": {
     "elapsed": 4250,
     "status": "ok",
     "timestamp": 1666250051118,
     "user": {
      "displayName": "JIHAN KIM",
      "userId": "14820648192014375113"
     },
     "user_tz": -540
    },
    "id": "DaR-Qyrf5dFl"
   },
   "outputs": [],
   "source": [
    "import pandas as pd\n",
    "import numpy as np\n",
    "import matplotlib.pyplot as plt\n",
    "#선형회귀 관련 scikit-learn 라이브러리\n",
    "from sklearn import datasets, linear_model\n",
    "from sklearn.metrics import mean_squared_error, r2_score  #MSE에러 확인 #R2확인\n",
    "\n",
    "#선형회귀 관련 statsmodels 라이브러리\n",
    "import statsmodels.api as sm\n"
   ]
  },
  {
   "cell_type": "markdown",
   "metadata": {
    "id": "TLrR9yBJOR3p"
   },
   "source": [
    "# **선형회귀 예제**"
   ]
  },
  {
   "cell_type": "markdown",
   "metadata": {
    "id": "Qs7LAzZQBZuf"
   },
   "source": [
    "예제"
   ]
  },
  {
   "cell_type": "code",
   "execution_count": 3,
   "metadata": {
    "ExecuteTime": {
     "end_time": "2023-12-11T13:21:42.119272200Z",
     "start_time": "2023-12-11T13:21:42.095271400Z"
    },
    "executionInfo": {
     "elapsed": 1043,
     "status": "ok",
     "timestamp": 1666250081360,
     "user": {
      "displayName": "JIHAN KIM",
      "userId": "14820648192014375113"
     },
     "user_tz": -540
    },
    "id": "0XSoCbjPAukt"
   },
   "outputs": [],
   "source": [
    "X = np.array([[0], [1], [2]])\n",
    "y = np.array([0, 1.2, 1.6])\n",
    "\n",
    "#선형회귀 object 생성\n",
    "reg = linear_model.LinearRegression()\n",
    "\n",
    "#training\n",
    "reg.fit(X, y)\n",
    "\n",
    "#training data 예측\n",
    "pred_train = reg.predict(X)\n",
    "\n",
    "#test\n",
    "pred_test = reg.predict([[1.5]])"
   ]
  },
  {
   "cell_type": "code",
   "execution_count": 18,
   "metadata": {
    "ExecuteTime": {
     "end_time": "2023-12-11T13:42:30.706699900Z",
     "start_time": "2023-12-11T13:42:30.566345100Z"
    },
    "colab": {
     "base_uri": "https://localhost:8080/",
     "height": 279
    },
    "executionInfo": {
     "elapsed": 460,
     "status": "ok",
     "timestamp": 1666250279213,
     "user": {
      "displayName": "JIHAN KIM",
      "userId": "14820648192014375113"
     },
     "user_tz": -540
    },
    "id": "AAv2e6ClHSYM",
    "outputId": "37dd7840-89e2-4302-c9a6-beaa68a4d57a"
   },
   "outputs": [
    {
     "data": {
      "image/png": "[encoded data removed]",
      "text/plain": [
       "<Figure size 640x480 with 1 Axes>"
      ]
     },
     "metadata": {},
     "output_type": "display_data"
    }
   ],
   "source": [
    "#Plot outputs\n",
    "plt.scatter(X, y, color=\"black\")\n",
    "plt.scatter(1.5, pred_test, color=\"red\")\n",
    "plt.plot(X, pred_train, color=\"blue\", linewidth=3)\n",
    "\n",
    "plt.xlabel(\"X\")\n",
    "plt.ylabel(\"Y\")\n",
    "\n",
    "plt.grid()\n",
    "plt.show()"
   ]
  },
  {
   "cell_type": "code",
   "execution_count": null,
   "metadata": {
    "colab": {
     "base_uri": "https://localhost:8080/"
    },
    "executionInfo": {
     "elapsed": 6,
     "status": "ok",
     "timestamp": 1666164564064,
     "user": {
      "displayName": "JIHAN KIM",
      "userId": "14820648192014375113"
     },
     "user_tz": -540
    },
    "id": "OsnzkXGAIx0B",
    "outputId": "ee35ce2b-9954-4184-e3ea-ab1138955b7b"
   },
   "outputs": [
    {
     "data": {
      "text/plain": [
       "array([1.33333333])"
      ]
     },
     "execution_count": 13,
     "metadata": {},
     "output_type": "execute_result"
    }
   ],
   "source": [
    "pred_test"
   ]
  },
  {
   "cell_type": "code",
   "execution_count": null,
   "metadata": {
    "colab": {
     "base_uri": "https://localhost:8080/"
    },
    "executionInfo": {
     "elapsed": 834,
     "status": "ok",
     "timestamp": 1666164567304,
     "user": {
      "displayName": "JIHAN KIM",
      "userId": "14820648192014375113"
     },
     "user_tz": -540
    },
    "id": "uYzjV40kI_lf",
    "outputId": "4cb092c1-d489-428b-84bb-61bf3b0d03b9"
   },
   "outputs": [
    {
     "data": {
      "text/plain": [
       "array([0.8])"
      ]
     },
     "execution_count": 14,
     "metadata": {},
     "output_type": "execute_result"
    }
   ],
   "source": [
    "reg.coef_"
   ]
  },
  {
   "cell_type": "markdown",
   "metadata": {
    "id": "j_zG0tHGKQV1"
   },
   "source": [
    "\n"
   ]
  },
  {
   "cell_type": "markdown",
   "metadata": {
    "id": "boA6au-PQi8k"
   },
   "source": [
    "# **Advertising 데이터 불러오기**\n",
    "\n"
   ]
  },
  {
   "cell_type": "code",
   "execution_count": 25,
   "metadata": {
    "ExecuteTime": {
     "end_time": "2023-12-11T13:47:19.813619800Z",
     "start_time": "2023-12-11T13:47:19.777522400Z"
    },
    "colab": {
     "base_uri": "https://localhost:8080/"
    },
    "executionInfo": {
     "elapsed": 21193,
     "status": "ok",
     "timestamp": 1666250418224,
     "user": {
      "displayName": "JIHAN KIM",
      "userId": "14820648192014375113"
     },
     "user_tz": -540
    },
    "id": "YvjuR7TmLh8d",
    "outputId": "10f79554-7010-41d6-e819-b583a3b47e0f"
   },
   "outputs": [
    {
     "data": {
      "text/html": [
       "<div>\n",
       "<style scoped>\n",
       "    .dataframe tbody tr th:only-of-type {\n",
       "        vertical-align: middle;\n",
       "    }\n",
       "\n",
       "    .dataframe tbody tr th {\n",
       "        vertical-align: top;\n",
       "    }\n",
       "\n",
       "    .dataframe thead th {\n",
       "        text-align: right;\n",
       "    }\n",
       "</style>\n",
       "<table border=\"1\" class=\"dataframe\">\n",
       "  <thead>\n",
       "    <tr style=\"text-align: right;\">\n",
       "      <th></th>\n",
       "      <th>TV</th>\n",
       "      <th>Radio</th>\n",
       "      <th>Newspaper</th>\n",
       "      <th>Sales</th>\n",
       "    </tr>\n",
       "  </thead>\n",
       "  <tbody>\n",
       "    <tr>\n",
       "      <th>1</th>\n",
       "      <td>230.1</td>\n",
       "      <td>37.8</td>\n",
       "      <td>69.2</td>\n",
       "      <td>22.1</td>\n",
       "    </tr>\n",
       "    <tr>\n",
       "      <th>2</th>\n",
       "      <td>44.5</td>\n",
       "      <td>39.3</td>\n",
       "      <td>45.1</td>\n",
       "      <td>10.4</td>\n",
       "    </tr>\n",
       "    <tr>\n",
       "      <th>3</th>\n",
       "      <td>17.2</td>\n",
       "      <td>45.9</td>\n",
       "      <td>69.3</td>\n",
       "      <td>9.3</td>\n",
       "    </tr>\n",
       "    <tr>\n",
       "      <th>4</th>\n",
       "      <td>151.5</td>\n",
       "      <td>41.3</td>\n",
       "      <td>58.5</td>\n",
       "      <td>18.5</td>\n",
       "    </tr>\n",
       "    <tr>\n",
       "      <th>5</th>\n",
       "      <td>180.8</td>\n",
       "      <td>10.8</td>\n",
       "      <td>58.4</td>\n",
       "      <td>12.9</td>\n",
       "    </tr>\n",
       "  </tbody>\n",
       "</table>\n",
       "</div>"
      ],
      "text/plain": [
       "      TV  Radio  Newspaper  Sales\n",
       "1  230.1   37.8       69.2   22.1\n",
       "2   44.5   39.3       45.1   10.4\n",
       "3   17.2   45.9       69.3    9.3\n",
       "4  151.5   41.3       58.5   18.5\n",
       "5  180.8   10.8       58.4   12.9"
      ]
     },
     "execution_count": 25,
     "metadata": {},
     "output_type": "execute_result"
    }
   ],
   "source": [
    "# 데이터 loading\n",
    "# from google.colab import drive\n",
    "# \n",
    "# drive.mount('/content/drive')\n",
    "\n",
    "ad = pd.read_csv(\"data/Advertising.csv\", index_col=0)\n",
    "ad.head()"
   ]
  },
  {
   "cell_type": "markdown",
   "metadata": {
    "id": "Q5OsEqKyLtVo"
   },
   "source": [
    "Advertising data 선형회귀(scikit-learn)"
   ]
  },
  {
   "cell_type": "code",
   "execution_count": 26,
   "metadata": {
    "ExecuteTime": {
     "end_time": "2023-12-11T13:47:21.261699600Z",
     "start_time": "2023-12-11T13:47:21.250698700Z"
    },
    "executionInfo": {
     "elapsed": 824,
     "status": "ok",
     "timestamp": 1666250495490,
     "user": {
      "displayName": "JIHAN KIM",
      "userId": "14820648192014375113"
     },
     "user_tz": -540
    },
    "id": "5L0y38gvLwqY"
   },
   "outputs": [],
   "source": [
    "train = ad[:-20]\n",
    "test = ad[-20:]\n",
    "\n",
    "# training data와 features와 response 분리\n",
    "train_X = train[[\"TV\", \"Radio\", \"Newspaper\"]]\n",
    "train_y = train[[\"Sales\"]]\n",
    "\n",
    "#test data의 feature와 response 분리\n",
    "test_X = test[[\"TV\", \"Radio\", \"Newspaper\"]]\n",
    "test_y = test[[\"Sales\"]]"
   ]
  },
  {
   "cell_type": "code",
   "execution_count": 27,
   "metadata": {
    "ExecuteTime": {
     "end_time": "2023-12-11T13:47:21.966192200Z",
     "start_time": "2023-12-11T13:47:21.951875800Z"
    },
    "executionInfo": {
     "elapsed": 2,
     "status": "ok",
     "timestamp": 1666250497419,
     "user": {
      "displayName": "JIHAN KIM",
      "userId": "14820648192014375113"
     },
     "user_tz": -540
    },
    "id": "IEeIK8xbQBJu"
   },
   "outputs": [],
   "source": [
    "# 선형회귀 object 생성\n",
    "regr = linear_model.LinearRegression()\n",
    "\n",
    "regr.fit(train_X[[\"TV\"]], train_y)\n",
    "\n",
    "train_y_pred = regr.predict(train_X[[\"TV\"]])\n",
    "\n",
    "test_y_pred = regr.predict(test_X[[\"TV\"]])"
   ]
  },
  {
   "cell_type": "code",
   "execution_count": 28,
   "metadata": {
    "ExecuteTime": {
     "end_time": "2023-12-11T13:47:22.613537Z",
     "start_time": "2023-12-11T13:47:22.592024100Z"
    },
    "colab": {
     "base_uri": "https://localhost:8080/"
    },
    "executionInfo": {
     "elapsed": 8,
     "status": "ok",
     "timestamp": 1666250502381,
     "user": {
      "displayName": "JIHAN KIM",
      "userId": "14820648192014375113"
     },
     "user_tz": -540
    },
    "id": "VVLze2XbR_3S",
    "outputId": "37f0da6f-fc46-4b3c-edcb-057da30bdccb"
   },
   "outputs": [
    {
     "name": "stdout",
     "output_type": "stream",
     "text": [
      "Coefficients: \n",
      " [[0.0468933]]\n",
      "Training MSE: 10.316\n",
      "Test MSE:12.324\n",
      "R^2: 0.607\n"
     ]
    }
   ],
   "source": [
    "print(\"Coefficients: \\n\", regr.coef_)\n",
    "\n",
    "print(\"Training MSE: %.3f\" % mean_squared_error(train_y, train_y_pred))\n",
    "\n",
    "print(\"Test MSE:%.3f\" % mean_squared_error(test_y, test_y_pred))\n",
    "\n",
    "print(\"R^2: %.3f\" % r2_score(train_y, train_y_pred))\n"
   ]
  },
  {
   "cell_type": "markdown",
   "metadata": {
    "id": "Eyq6zgmg0IEc"
   },
   "source": [
    "\n",
    "\n",
    "```\n",
    "\n",
    "```\n",
    "\n",
    "# **Advertising data 선형회귀(statsmodels)**"
   ]
  },
  {
   "cell_type": "code",
   "execution_count": 29,
   "metadata": {
    "ExecuteTime": {
     "end_time": "2023-12-11T13:47:24.501414100Z",
     "start_time": "2023-12-11T13:47:24.489119500Z"
    },
    "executionInfo": {
     "elapsed": 620,
     "status": "ok",
     "timestamp": 1666250614112,
     "user": {
      "displayName": "JIHAN KIM",
      "userId": "14820648192014375113"
     },
     "user_tz": -540
    },
    "id": "xVDzEBRpXatH"
   },
   "outputs": [],
   "source": [
    "#statsmodels 사용을 위한 XO feature 추가\n",
    "#statsmodels의 OLS 함수는 데이타 내에 intercept에 해당하는 feature 필요\n",
    "\n",
    "sm_train_X = train_X\n",
    "sm_train_X[\"X0\"] = 1  #y절편 intercept 칼럼추가\n",
    "\n",
    "sm_test_X = test_X\n",
    "sm_test_X[\"X0\"] = 1"
   ]
  },
  {
   "cell_type": "code",
   "execution_count": 30,
   "metadata": {
    "ExecuteTime": {
     "end_time": "2023-12-11T13:47:25.290406300Z",
     "start_time": "2023-12-11T13:47:25.271576700Z"
    },
    "id": "KHS9DJL0YjzK"
   },
   "outputs": [
    {
     "data": {
      "text/html": [
       "<div>\n",
       "<style scoped>\n",
       "    .dataframe tbody tr th:only-of-type {\n",
       "        vertical-align: middle;\n",
       "    }\n",
       "\n",
       "    .dataframe tbody tr th {\n",
       "        vertical-align: top;\n",
       "    }\n",
       "\n",
       "    .dataframe thead th {\n",
       "        text-align: right;\n",
       "    }\n",
       "</style>\n",
       "<table border=\"1\" class=\"dataframe\">\n",
       "  <thead>\n",
       "    <tr style=\"text-align: right;\">\n",
       "      <th></th>\n",
       "      <th>TV</th>\n",
       "      <th>Radio</th>\n",
       "      <th>Newspaper</th>\n",
       "      <th>X0</th>\n",
       "    </tr>\n",
       "  </thead>\n",
       "  <tbody>\n",
       "    <tr>\n",
       "      <th>181</th>\n",
       "      <td>156.6</td>\n",
       "      <td>2.6</td>\n",
       "      <td>8.3</td>\n",
       "      <td>1</td>\n",
       "    </tr>\n",
       "    <tr>\n",
       "      <th>182</th>\n",
       "      <td>218.5</td>\n",
       "      <td>5.4</td>\n",
       "      <td>27.4</td>\n",
       "      <td>1</td>\n",
       "    </tr>\n",
       "    <tr>\n",
       "      <th>183</th>\n",
       "      <td>56.2</td>\n",
       "      <td>5.7</td>\n",
       "      <td>29.7</td>\n",
       "      <td>1</td>\n",
       "    </tr>\n",
       "    <tr>\n",
       "      <th>184</th>\n",
       "      <td>287.6</td>\n",
       "      <td>43.0</td>\n",
       "      <td>71.8</td>\n",
       "      <td>1</td>\n",
       "    </tr>\n",
       "    <tr>\n",
       "      <th>185</th>\n",
       "      <td>253.8</td>\n",
       "      <td>21.3</td>\n",
       "      <td>30.0</td>\n",
       "      <td>1</td>\n",
       "    </tr>\n",
       "    <tr>\n",
       "      <th>186</th>\n",
       "      <td>205.0</td>\n",
       "      <td>45.1</td>\n",
       "      <td>19.6</td>\n",
       "      <td>1</td>\n",
       "    </tr>\n",
       "    <tr>\n",
       "      <th>187</th>\n",
       "      <td>139.5</td>\n",
       "      <td>2.1</td>\n",
       "      <td>26.6</td>\n",
       "      <td>1</td>\n",
       "    </tr>\n",
       "    <tr>\n",
       "      <th>188</th>\n",
       "      <td>191.1</td>\n",
       "      <td>28.7</td>\n",
       "      <td>18.2</td>\n",
       "      <td>1</td>\n",
       "    </tr>\n",
       "    <tr>\n",
       "      <th>189</th>\n",
       "      <td>286.0</td>\n",
       "      <td>13.9</td>\n",
       "      <td>3.7</td>\n",
       "      <td>1</td>\n",
       "    </tr>\n",
       "    <tr>\n",
       "      <th>190</th>\n",
       "      <td>18.7</td>\n",
       "      <td>12.1</td>\n",
       "      <td>23.4</td>\n",
       "      <td>1</td>\n",
       "    </tr>\n",
       "    <tr>\n",
       "      <th>191</th>\n",
       "      <td>39.5</td>\n",
       "      <td>41.1</td>\n",
       "      <td>5.8</td>\n",
       "      <td>1</td>\n",
       "    </tr>\n",
       "    <tr>\n",
       "      <th>192</th>\n",
       "      <td>75.5</td>\n",
       "      <td>10.8</td>\n",
       "      <td>6.0</td>\n",
       "      <td>1</td>\n",
       "    </tr>\n",
       "    <tr>\n",
       "      <th>193</th>\n",
       "      <td>17.2</td>\n",
       "      <td>4.1</td>\n",
       "      <td>31.6</td>\n",
       "      <td>1</td>\n",
       "    </tr>\n",
       "    <tr>\n",
       "      <th>194</th>\n",
       "      <td>166.8</td>\n",
       "      <td>42.0</td>\n",
       "      <td>3.6</td>\n",
       "      <td>1</td>\n",
       "    </tr>\n",
       "    <tr>\n",
       "      <th>195</th>\n",
       "      <td>149.7</td>\n",
       "      <td>35.6</td>\n",
       "      <td>6.0</td>\n",
       "      <td>1</td>\n",
       "    </tr>\n",
       "    <tr>\n",
       "      <th>196</th>\n",
       "      <td>38.2</td>\n",
       "      <td>3.7</td>\n",
       "      <td>13.8</td>\n",
       "      <td>1</td>\n",
       "    </tr>\n",
       "    <tr>\n",
       "      <th>197</th>\n",
       "      <td>94.2</td>\n",
       "      <td>4.9</td>\n",
       "      <td>8.1</td>\n",
       "      <td>1</td>\n",
       "    </tr>\n",
       "    <tr>\n",
       "      <th>198</th>\n",
       "      <td>177.0</td>\n",
       "      <td>9.3</td>\n",
       "      <td>6.4</td>\n",
       "      <td>1</td>\n",
       "    </tr>\n",
       "    <tr>\n",
       "      <th>199</th>\n",
       "      <td>283.6</td>\n",
       "      <td>42.0</td>\n",
       "      <td>66.2</td>\n",
       "      <td>1</td>\n",
       "    </tr>\n",
       "    <tr>\n",
       "      <th>200</th>\n",
       "      <td>232.1</td>\n",
       "      <td>8.6</td>\n",
       "      <td>8.7</td>\n",
       "      <td>1</td>\n",
       "    </tr>\n",
       "  </tbody>\n",
       "</table>\n",
       "</div>"
      ],
      "text/plain": [
       "        TV  Radio  Newspaper  X0\n",
       "181  156.6    2.6        8.3   1\n",
       "182  218.5    5.4       27.4   1\n",
       "183   56.2    5.7       29.7   1\n",
       "184  287.6   43.0       71.8   1\n",
       "185  253.8   21.3       30.0   1\n",
       "186  205.0   45.1       19.6   1\n",
       "187  139.5    2.1       26.6   1\n",
       "188  191.1   28.7       18.2   1\n",
       "189  286.0   13.9        3.7   1\n",
       "190   18.7   12.1       23.4   1\n",
       "191   39.5   41.1        5.8   1\n",
       "192   75.5   10.8        6.0   1\n",
       "193   17.2    4.1       31.6   1\n",
       "194  166.8   42.0        3.6   1\n",
       "195  149.7   35.6        6.0   1\n",
       "196   38.2    3.7       13.8   1\n",
       "197   94.2    4.9        8.1   1\n",
       "198  177.0    9.3        6.4   1\n",
       "199  283.6   42.0       66.2   1\n",
       "200  232.1    8.6        8.7   1"
      ]
     },
     "execution_count": 30,
     "metadata": {},
     "output_type": "execute_result"
    }
   ],
   "source": [
    "sm_test_X"
   ]
  },
  {
   "cell_type": "code",
   "execution_count": 31,
   "metadata": {
    "ExecuteTime": {
     "end_time": "2023-12-11T13:47:26.155315100Z",
     "start_time": "2023-12-11T13:47:26.137314600Z"
    },
    "colab": {
     "base_uri": "https://localhost:8080/",
     "height": 448
    },
    "executionInfo": {
     "elapsed": 397,
     "status": "ok",
     "timestamp": 1666250653938,
     "user": {
      "displayName": "JIHAN KIM",
      "userId": "14820648192014375113"
     },
     "user_tz": -540
    },
    "id": "ZbqeiksNZ-sM",
    "outputId": "a2f10971-d768-4bdb-be15-93415d16ea9f"
   },
   "outputs": [
    {
     "data": {
      "text/html": [
       "<table class=\"simpletable\">\n",
       "<caption>OLS Regression Results</caption>\n",
       "<tr>\n",
       "  <th>Dep. Variable:</th>          <td>Sales</td>      <th>  R-squared:         </th> <td>   0.607</td>\n",
       "</tr>\n",
       "<tr>\n",
       "  <th>Model:</th>                   <td>OLS</td>       <th>  Adj. R-squared:    </th> <td>   0.605</td>\n",
       "</tr>\n",
       "<tr>\n",
       "  <th>Method:</th>             <td>Least Squares</td>  <th>  F-statistic:       </th> <td>   275.2</td>\n",
       "</tr>\n",
       "<tr>\n",
       "  <th>Date:</th>             <td>Mon, 11 Dec 2023</td> <th>  Prob (F-statistic):</th> <td>5.76e-38</td>\n",
       "</tr>\n",
       "<tr>\n",
       "  <th>Time:</th>                 <td>22:47:26</td>     <th>  Log-Likelihood:    </th> <td> -465.44</td>\n",
       "</tr>\n",
       "<tr>\n",
       "  <th>No. Observations:</th>      <td>   180</td>      <th>  AIC:               </th> <td>   934.9</td>\n",
       "</tr>\n",
       "<tr>\n",
       "  <th>Df Residuals:</th>          <td>   178</td>      <th>  BIC:               </th> <td>   941.3</td>\n",
       "</tr>\n",
       "<tr>\n",
       "  <th>Df Model:</th>              <td>     1</td>      <th>                     </th>     <td> </td>   \n",
       "</tr>\n",
       "<tr>\n",
       "  <th>Covariance Type:</th>      <td>nonrobust</td>    <th>                     </th>     <td> </td>   \n",
       "</tr>\n",
       "</table>\n",
       "<table class=\"simpletable\">\n",
       "<tr>\n",
       "   <td></td>     <th>coef</th>     <th>std err</th>      <th>t</th>      <th>P>|t|</th>  <th>[0.025</th>    <th>0.975]</th>  \n",
       "</tr>\n",
       "<tr>\n",
       "  <th>X0</th> <td>    7.1649</td> <td>    0.478</td> <td>   14.978</td> <td> 0.000</td> <td>    6.221</td> <td>    8.109</td>\n",
       "</tr>\n",
       "<tr>\n",
       "  <th>TV</th> <td>    0.0469</td> <td>    0.003</td> <td>   16.589</td> <td> 0.000</td> <td>    0.041</td> <td>    0.052</td>\n",
       "</tr>\n",
       "</table>\n",
       "<table class=\"simpletable\">\n",
       "<tr>\n",
       "  <th>Omnibus:</th>       <td> 0.515</td> <th>  Durbin-Watson:     </th> <td>   1.890</td>\n",
       "</tr>\n",
       "<tr>\n",
       "  <th>Prob(Omnibus):</th> <td> 0.773</td> <th>  Jarque-Bera (JB):  </th> <td>   0.547</td>\n",
       "</tr>\n",
       "<tr>\n",
       "  <th>Skew:</th>          <td>-0.127</td> <th>  Prob(JB):          </th> <td>   0.761</td>\n",
       "</tr>\n",
       "<tr>\n",
       "  <th>Kurtosis:</th>      <td> 2.906</td> <th>  Cond. No.          </th> <td>    336.</td>\n",
       "</tr>\n",
       "</table><br/><br/>Notes:<br/>[1] Standard Errors assume that the covariance matrix of the errors is correctly specified."
      ],
      "text/latex": [
       "\\begin{center}\n",
       "\\begin{tabular}{lclc}\n",
       "\\toprule\n",
       "\\textbf{Dep. Variable:}    &      Sales       & \\textbf{  R-squared:         } &     0.607   \\\\\n",
       "\\textbf{Model:}            &       OLS        & \\textbf{  Adj. R-squared:    } &     0.605   \\\\\n",
       "\\textbf{Method:}           &  Least Squares   & \\textbf{  F-statistic:       } &     275.2   \\\\\n",
       "\\textbf{Date:}             & Mon, 11 Dec 2023 & \\textbf{  Prob (F-statistic):} &  5.76e-38   \\\\\n",
       "\\textbf{Time:}             &     22:47:26     & \\textbf{  Log-Likelihood:    } &   -465.44   \\\\\n",
       "\\textbf{No. Observations:} &         180      & \\textbf{  AIC:               } &     934.9   \\\\\n",
       "\\textbf{Df Residuals:}     &         178      & \\textbf{  BIC:               } &     941.3   \\\\\n",
       "\\textbf{Df Model:}         &           1      & \\textbf{                     } &             \\\\\n",
       "\\textbf{Covariance Type:}  &    nonrobust     & \\textbf{                     } &             \\\\\n",
       "\\bottomrule\n",
       "\\end{tabular}\n",
       "\\begin{tabular}{lcccccc}\n",
       "            & \\textbf{coef} & \\textbf{std err} & \\textbf{t} & \\textbf{P$> |$t$|$} & \\textbf{[0.025} & \\textbf{0.975]}  \\\\\n",
       "\\midrule\n",
       "\\textbf{X0} &       7.1649  &        0.478     &    14.978  &         0.000        &        6.221    &        8.109     \\\\\n",
       "\\textbf{TV} &       0.0469  &        0.003     &    16.589  &         0.000        &        0.041    &        0.052     \\\\\n",
       "\\bottomrule\n",
       "\\end{tabular}\n",
       "\\begin{tabular}{lclc}\n",
       "\\textbf{Omnibus:}       &  0.515 & \\textbf{  Durbin-Watson:     } &    1.890  \\\\\n",
       "\\textbf{Prob(Omnibus):} &  0.773 & \\textbf{  Jarque-Bera (JB):  } &    0.547  \\\\\n",
       "\\textbf{Skew:}          & -0.127 & \\textbf{  Prob(JB):          } &    0.761  \\\\\n",
       "\\textbf{Kurtosis:}      &  2.906 & \\textbf{  Cond. No.          } &     336.  \\\\\n",
       "\\bottomrule\n",
       "\\end{tabular}\n",
       "%\\caption{OLS Regression Results}\n",
       "\\end{center}\n",
       "\n",
       "Notes: \\newline\n",
       " [1] Standard Errors assume that the covariance matrix of the errors is correctly specified."
      ],
      "text/plain": [
       "<class 'statsmodels.iolib.summary.Summary'>\n",
       "\"\"\"\n",
       "                            OLS Regression Results                            \n",
       "==============================================================================\n",
       "Dep. Variable:                  Sales   R-squared:                       0.607\n",
       "Model:                            OLS   Adj. R-squared:                  0.605\n",
       "Method:                 Least Squares   F-statistic:                     275.2\n",
       "Date:                Mon, 11 Dec 2023   Prob (F-statistic):           5.76e-38\n",
       "Time:                        22:47:26   Log-Likelihood:                -465.44\n",
       "No. Observations:                 180   AIC:                             934.9\n",
       "Df Residuals:                     178   BIC:                             941.3\n",
       "Df Model:                           1                                         \n",
       "Covariance Type:            nonrobust                                         \n",
       "==============================================================================\n",
       "                 coef    std err          t      P>|t|      [0.025      0.975]\n",
       "------------------------------------------------------------------------------\n",
       "X0             7.1649      0.478     14.978      0.000       6.221       8.109\n",
       "TV             0.0469      0.003     16.589      0.000       0.041       0.052\n",
       "==============================================================================\n",
       "Omnibus:                        0.515   Durbin-Watson:                   1.890\n",
       "Prob(Omnibus):                  0.773   Jarque-Bera (JB):                0.547\n",
       "Skew:                          -0.127   Prob(JB):                        0.761\n",
       "Kurtosis:                       2.906   Cond. No.                         336.\n",
       "==============================================================================\n",
       "\n",
       "Notes:\n",
       "[1] Standard Errors assume that the covariance matrix of the errors is correctly specified.\n",
       "\"\"\""
      ]
     },
     "execution_count": 31,
     "metadata": {},
     "output_type": "execute_result"
    }
   ],
   "source": [
    "result = sm.OLS(train_y, sm_train_X[[\"X0\", \"TV\"]]).fit()\n",
    "\n",
    "result.summary()"
   ]
  },
  {
   "cell_type": "code",
   "execution_count": 14,
   "metadata": {
    "ExecuteTime": {
     "end_time": "2023-12-11T13:25:17.829732900Z",
     "start_time": "2023-12-11T13:25:17.707267300Z"
    },
    "colab": {
     "base_uri": "https://localhost:8080/",
     "height": 279
    },
    "executionInfo": {
     "elapsed": 336,
     "status": "ok",
     "timestamp": 1666250697548,
     "user": {
      "displayName": "JIHAN KIM",
      "userId": "14820648192014375113"
     },
     "user_tz": -540
    },
    "id": "r7HMuGM4cL75",
    "outputId": "446472c1-86a4-4264-b238-60e737d16b74"
   },
   "outputs": [
    {
     "data": {
      "image/png": "[encoded data removed]",
      "text/plain": [
       "<Figure size 640x480 with 1 Axes>"
      ]
     },
     "metadata": {},
     "output_type": "display_data"
    }
   ],
   "source": [
    "plt.scatter(train_X[\"TV\"], train_y[\"Sales\"], color=\"gray\")\n",
    "plt.scatter(test_X[\"TV\"], test_y[\"Sales\"], color=\"green\")\n",
    "plt.plot(train_X[\"TV\"], train_y_pred, color=\"blue\", linewidth=\"2\")\n",
    "plt.scatter(test_X[\"TV\"], test_y_pred, color=\"green\", marker=\"^\")\n",
    "\n",
    "plt.xlabel(\"TV\")\n",
    "plt.ylabel(\"Sales\")\n",
    "\n",
    "plt.grid()\n",
    "plt.show()"
   ]
  },
  {
   "cell_type": "code",
   "execution_count": null,
   "metadata": {},
   "outputs": [],
   "source": [
    "#statsmodels의 OLS 함수는 데이타 내에 intercept에 해당하는 feature 필요"
   ]
  }
 ],
 "metadata": {
  "colab": {
   "authorship_tag": "ABX9TyOGg8I1a/V/SnXy1m4xN+LG",
   "provenance": []
  },
  "kernelspec": {
   "display_name": "Python 3 (ipykernel)",
   "language": "python",
   "name": "python3"
  },
  "language_info": {
   "codemirror_mode": {
    "name": "ipython",
    "version": 3
   },
   "file_extension": ".py",
   "mimetype": "text/x-python",
   "name": "python",
   "nbconvert_exporter": "python",
   "pygments_lexer": "ipython3",
   "version": "3.10.12"
  }
 },
 "nbformat": 4,
 "nbformat_minor": 1
}
