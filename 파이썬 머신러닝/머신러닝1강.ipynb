{
 "nbformat": 4,
 "nbformat_minor": 0,
 "metadata": {
  "colab": {
   "provenance": [],
   "authorship_tag": "ABX9TyNavb2Umqe/T9h7prXNHQEJ"
  },
  "kernelspec": {
   "name": "python3",
   "language": "python",
   "display_name": "Python 3 (ipykernel)"
  },
  "language_info": {
   "name": "python"
  }
 },
 "cells": [
  {
   "cell_type": "markdown",
   "source": [
    "**파이썬 1강 연습하기**"
   ],
   "metadata": {
    "id": "YDTe1XUKxt2a"
   }
  },
  {
   "cell_type": "code",
   "source": [
    "val = True\n",
    "val = not val\n",
    "print(val)"
   ],
   "metadata": {
    "colab": {
     "base_uri": "https://localhost:8080/"
    },
    "id": "BHJe8B_20E-I",
    "executionInfo": {
     "status": "ok",
     "timestamp": 1670638533529,
     "user_tz": -540,
     "elapsed": 289,
     "user": {
      "displayName": "JIHAN KIM",
      "userId": "14820648192014375113"
     }
    },
    "outputId": "1a56b768-c5f7-4bb6-e53b-6251aa043d0d",
    "ExecuteTime": {
     "end_time": "2023-09-05T18:47:35.016813600Z",
     "start_time": "2023-09-05T18:47:35.004816700Z"
    }
   },
   "execution_count": 20,
   "outputs": [
    {
     "name": "stdout",
     "output_type": "stream",
     "text": [
      "False\n"
     ]
    }
   ]
  },
  {
   "cell_type": "code",
   "source": [
    "import pandas as pd"
   ],
   "metadata": {
    "id": "vfBtYROdyOl2",
    "ExecuteTime": {
     "end_time": "2023-09-05T18:47:35.814759700Z",
     "start_time": "2023-09-05T18:47:35.800759200Z"
    }
   },
   "execution_count": 21,
   "outputs": []
  },
  {
   "cell_type": "code",
   "source": [
    "df = pd.DataFrame(\n",
    "    \n",
    "    {\n",
    "        \"Name\": [\n",
    "            \"Braud, Mr. Owen Harris\",\n",
    "            \"Allen, Mr. William Henry\",\n",
    "            \"Bonnel, Miss. Ellizabeth\",\n",
    "\n",
    "        ],\n",
    "        \"Age\": [22, 35, 58],\n",
    "        \"Sex\": [\"male\", \"male\", \"Female\"],\n",
    "    }\n",
    "\n",
    ")"
   ],
   "metadata": {
    "id": "hp5NdzTGyRMt",
    "ExecuteTime": {
     "end_time": "2023-09-05T18:47:36.453766700Z",
     "start_time": "2023-09-05T18:47:36.441689Z"
    }
   },
   "execution_count": 22,
   "outputs": []
  },
  {
   "cell_type": "code",
   "source": [
    "df"
   ],
   "metadata": {
    "colab": {
     "base_uri": "https://localhost:8080/",
     "height": 143
    },
    "id": "jBwgAhoBylvd",
    "executionInfo": {
     "status": "ok",
     "timestamp": 1666058120983,
     "user_tz": -540,
     "elapsed": 7,
     "user": {
      "displayName": "JIHAN KIM",
      "userId": "14820648192014375113"
     }
    },
    "outputId": "7c052e9e-b5d0-4530-a497-4baa45db1f8a",
    "ExecuteTime": {
     "end_time": "2023-09-05T18:47:37.381794200Z",
     "start_time": "2023-09-05T18:47:37.360795300Z"
    }
   },
   "execution_count": 23,
   "outputs": [
    {
     "data": {
      "text/plain": "                       Name  Age     Sex\n0    Braud, Mr. Owen Harris   22    male\n1  Allen, Mr. William Henry   35    male\n2  Bonnel, Miss. Ellizabeth   58  Female",
      "text/html": "<div>\n<style scoped>\n    .dataframe tbody tr th:only-of-type {\n        vertical-align: middle;\n    }\n\n    .dataframe tbody tr th {\n        vertical-align: top;\n    }\n\n    .dataframe thead th {\n        text-align: right;\n    }\n</style>\n<table border=\"1\" class=\"dataframe\">\n  <thead>\n    <tr style=\"text-align: right;\">\n      <th></th>\n      <th>Name</th>\n      <th>Age</th>\n      <th>Sex</th>\n    </tr>\n  </thead>\n  <tbody>\n    <tr>\n      <th>0</th>\n      <td>Braud, Mr. Owen Harris</td>\n      <td>22</td>\n      <td>male</td>\n    </tr>\n    <tr>\n      <th>1</th>\n      <td>Allen, Mr. William Henry</td>\n      <td>35</td>\n      <td>male</td>\n    </tr>\n    <tr>\n      <th>2</th>\n      <td>Bonnel, Miss. Ellizabeth</td>\n      <td>58</td>\n      <td>Female</td>\n    </tr>\n  </tbody>\n</table>\n</div>"
     },
     "execution_count": 23,
     "metadata": {},
     "output_type": "execute_result"
    }
   ]
  },
  {
   "cell_type": "code",
   "source": [
    "df[\"Age\"].max()"
   ],
   "metadata": {
    "colab": {
     "base_uri": "https://localhost:8080/"
    },
    "id": "PHoCZG6_ziIU",
    "executionInfo": {
     "status": "ok",
     "timestamp": 1666058441826,
     "user_tz": -540,
     "elapsed": 523,
     "user": {
      "displayName": "JIHAN KIM",
      "userId": "14820648192014375113"
     }
    },
    "outputId": "4514ab04-ce1c-49f6-90a7-b6227e228241",
    "ExecuteTime": {
     "end_time": "2023-09-05T18:47:38.923501300Z",
     "start_time": "2023-09-05T18:47:38.909501400Z"
    }
   },
   "execution_count": 24,
   "outputs": [
    {
     "data": {
      "text/plain": "58"
     },
     "execution_count": 24,
     "metadata": {},
     "output_type": "execute_result"
    }
   ]
  },
  {
   "cell_type": "code",
   "source": [
    "ages = pd.Series([20, 30, 40], name=\"Age\")"
   ],
   "metadata": {
    "id": "kEbMfTdQzpqY",
    "ExecuteTime": {
     "end_time": "2023-09-05T18:47:39.825432500Z",
     "start_time": "2023-09-05T18:47:39.801430400Z"
    }
   },
   "execution_count": 25,
   "outputs": []
  },
  {
   "cell_type": "code",
   "source": [
    "ages.max()"
   ],
   "metadata": {
    "colab": {
     "base_uri": "https://localhost:8080/"
    },
    "id": "amR0LlzM0P9r",
    "executionInfo": {
     "status": "ok",
     "timestamp": 1666058427025,
     "user_tz": -540,
     "elapsed": 554,
     "user": {
      "displayName": "JIHAN KIM",
      "userId": "14820648192014375113"
     }
    },
    "outputId": "7550c5d2-e2c3-4856-fafe-68f21e4e2348",
    "ExecuteTime": {
     "end_time": "2023-09-05T18:47:40.789806800Z",
     "start_time": "2023-09-05T18:47:40.760805500Z"
    }
   },
   "execution_count": 26,
   "outputs": [
    {
     "data": {
      "text/plain": "40"
     },
     "execution_count": 26,
     "metadata": {},
     "output_type": "execute_result"
    }
   ]
  },
  {
   "cell_type": "markdown",
   "source": [
    "**numpy 시작하기**"
   ],
   "metadata": {
    "id": "l6MdnToo0r4a"
   }
  },
  {
   "cell_type": "code",
   "source": [
    "import numpy as np"
   ],
   "metadata": {
    "id": "UqJgNHQu1Jev",
    "ExecuteTime": {
     "end_time": "2023-09-05T18:47:42.704196400Z",
     "start_time": "2023-09-05T18:47:42.692198200Z"
    }
   },
   "execution_count": 27,
   "outputs": []
  },
  {
   "cell_type": "code",
   "source": [
    "a = np.array([1, 2, 3, 4, 5, 6])"
   ],
   "metadata": {
    "id": "o5T-EH_11PXe",
    "ExecuteTime": {
     "end_time": "2023-09-05T18:47:43.756626900Z",
     "start_time": "2023-09-05T18:47:43.744626Z"
    }
   },
   "execution_count": 28,
   "outputs": []
  },
  {
   "cell_type": "code",
   "source": [
    "a"
   ],
   "metadata": {
    "colab": {
     "base_uri": "https://localhost:8080/"
    },
    "id": "BRa6c-Zg1OKo",
    "executionInfo": {
     "status": "ok",
     "timestamp": 1666058642493,
     "user_tz": -540,
     "elapsed": 613,
     "user": {
      "displayName": "JIHAN KIM",
      "userId": "14820648192014375113"
     }
    },
    "outputId": "819048cf-fa57-4f26-df0d-1f18f2c982bf",
    "ExecuteTime": {
     "end_time": "2023-09-05T18:47:44.800236400Z",
     "start_time": "2023-09-05T18:47:44.777041200Z"
    }
   },
   "execution_count": 29,
   "outputs": [
    {
     "data": {
      "text/plain": "array([1, 2, 3, 4, 5, 6])"
     },
     "execution_count": 29,
     "metadata": {},
     "output_type": "execute_result"
    }
   ]
  },
  {
   "cell_type": "code",
   "source": [
    "data = np.array([[1, 2], [3, 4], [5, 6]])"
   ],
   "metadata": {
    "id": "0LtocJ-E1W8P",
    "ExecuteTime": {
     "end_time": "2023-09-05T18:47:17.622710600Z",
     "start_time": "2023-09-05T18:47:17.606713800Z"
    }
   },
   "execution_count": 11,
   "outputs": []
  },
  {
   "cell_type": "code",
   "source": [
    "data"
   ],
   "metadata": {
    "colab": {
     "base_uri": "https://localhost:8080/"
    },
    "id": "GQheTotI1kvf",
    "executionInfo": {
     "status": "ok",
     "timestamp": 1666058707333,
     "user_tz": -540,
     "elapsed": 731,
     "user": {
      "displayName": "JIHAN KIM",
      "userId": "14820648192014375113"
     }
    },
    "outputId": "c28e4265-b836-49c3-926e-23bf4d67c332",
    "ExecuteTime": {
     "end_time": "2023-09-05T18:47:18.625791300Z",
     "start_time": "2023-09-05T18:47:18.611791100Z"
    }
   },
   "execution_count": 12,
   "outputs": [
    {
     "data": {
      "text/plain": "array([[1, 2],\n       [3, 4],\n       [5, 6]])"
     },
     "execution_count": 12,
     "metadata": {},
     "output_type": "execute_result"
    }
   ]
  },
  {
   "cell_type": "code",
   "source": [
    "data[2, 1]"
   ],
   "metadata": {
    "colab": {
     "base_uri": "https://localhost:8080/"
    },
    "id": "B7-Y6dxS2Fbv",
    "executionInfo": {
     "status": "ok",
     "timestamp": 1666058847999,
     "user_tz": -540,
     "elapsed": 904,
     "user": {
      "displayName": "JIHAN KIM",
      "userId": "14820648192014375113"
     }
    },
    "outputId": "7a982d62-127f-4cd9-d063-c1fc23a4d02a",
    "ExecuteTime": {
     "end_time": "2023-09-05T18:47:20.509849900Z",
     "start_time": "2023-09-05T18:47:20.493850900Z"
    }
   },
   "execution_count": 13,
   "outputs": [
    {
     "data": {
      "text/plain": "6"
     },
     "execution_count": 13,
     "metadata": {},
     "output_type": "execute_result"
    }
   ]
  },
  {
   "cell_type": "code",
   "source": [
    "data[1:3]"
   ],
   "metadata": {
    "colab": {
     "base_uri": "https://localhost:8080/"
    },
    "id": "0PsXMrCc2O1P",
    "executionInfo": {
     "status": "ok",
     "timestamp": 1666058885934,
     "user_tz": -540,
     "elapsed": 5,
     "user": {
      "displayName": "JIHAN KIM",
      "userId": "14820648192014375113"
     }
    },
    "outputId": "ee9a57ac-047d-4456-ce95-2ababe1e4e9a",
    "ExecuteTime": {
     "end_time": "2023-09-05T18:47:21.351244600Z",
     "start_time": "2023-09-05T18:47:21.305950700Z"
    }
   },
   "execution_count": 14,
   "outputs": [
    {
     "data": {
      "text/plain": "array([[3, 4],\n       [5, 6]])"
     },
     "execution_count": 14,
     "metadata": {},
     "output_type": "execute_result"
    }
   ]
  },
  {
   "cell_type": "code",
   "source": [
    "data[0:2, 0]"
   ],
   "metadata": {
    "colab": {
     "base_uri": "https://localhost:8080/"
    },
    "id": "A85x5FQA2ZpW",
    "executionInfo": {
     "status": "ok",
     "timestamp": 1666058932010,
     "user_tz": -540,
     "elapsed": 6,
     "user": {
      "displayName": "JIHAN KIM",
      "userId": "14820648192014375113"
     }
    },
    "outputId": "6acc8eea-23e6-4bcb-dc62-8dd59d57c986",
    "ExecuteTime": {
     "end_time": "2023-09-05T18:47:22.629806700Z",
     "start_time": "2023-09-05T18:47:22.613811900Z"
    }
   },
   "execution_count": 15,
   "outputs": [
    {
     "data": {
      "text/plain": "array([1, 3])"
     },
     "execution_count": 15,
     "metadata": {},
     "output_type": "execute_result"
    }
   ]
  },
  {
   "cell_type": "code",
   "source": [
    "b = np.zeros([2, 3])"
   ],
   "metadata": {
    "id": "frxS1c2p2g0u",
    "ExecuteTime": {
     "end_time": "2023-09-05T18:47:23.929200100Z",
     "start_time": "2023-09-05T18:47:23.902302800Z"
    }
   },
   "execution_count": 16,
   "outputs": []
  },
  {
   "cell_type": "code",
   "source": [
    "b"
   ],
   "metadata": {
    "colab": {
     "base_uri": "https://localhost:8080/"
    },
    "id": "9onBGTME2qXl",
    "executionInfo": {
     "status": "ok",
     "timestamp": 1666058991290,
     "user_tz": -540,
     "elapsed": 5,
     "user": {
      "displayName": "JIHAN KIM",
      "userId": "14820648192014375113"
     }
    },
    "outputId": "deeb8a62-6014-4685-a827-543697ea650c",
    "ExecuteTime": {
     "end_time": "2023-09-05T18:47:24.834634300Z",
     "start_time": "2023-09-05T18:47:24.810632600Z"
    }
   },
   "execution_count": 17,
   "outputs": [
    {
     "data": {
      "text/plain": "array([[0., 0., 0.],\n       [0., 0., 0.]])"
     },
     "execution_count": 17,
     "metadata": {},
     "output_type": "execute_result"
    }
   ]
  },
  {
   "cell_type": "code",
   "source": [
    "data = np.array([1, 2, 3, 4, 5, 6])"
   ],
   "metadata": {
    "id": "1eJC7VvaDYjn",
    "ExecuteTime": {
     "end_time": "2023-09-05T18:47:26.900466200Z",
     "start_time": "2023-09-05T18:47:26.885465900Z"
    }
   },
   "execution_count": 18,
   "outputs": []
  },
  {
   "cell_type": "code",
   "source": [
    "data\n"
   ],
   "metadata": {
    "colab": {
     "base_uri": "https://localhost:8080/"
    },
    "id": "B-FBowcvDiGM",
    "executionInfo": {
     "status": "ok",
     "timestamp": 1666062439214,
     "user_tz": -540,
     "elapsed": 577,
     "user": {
      "displayName": "JIHAN KIM",
      "userId": "14820648192014375113"
     }
    },
    "outputId": "b9a68fda-e64e-4c4d-993c-1fc361fa9351",
    "ExecuteTime": {
     "end_time": "2023-09-05T18:47:27.856571400Z",
     "start_time": "2023-09-05T18:47:27.841399200Z"
    }
   },
   "execution_count": 19,
   "outputs": [
    {
     "data": {
      "text/plain": "array([1, 2, 3, 4, 5, 6])"
     },
     "execution_count": 19,
     "metadata": {},
     "output_type": "execute_result"
    }
   ]
  },
  {
   "cell_type": "code",
   "source": [
    "b = data.reshape(2, 3)"
   ],
   "metadata": {
    "id": "-WqrcF1eDjmT"
   },
   "execution_count": null,
   "outputs": []
  },
  {
   "cell_type": "code",
   "source": [
    "b"
   ],
   "metadata": {
    "colab": {
     "base_uri": "https://localhost:8080/"
    },
    "id": "Ov8r94hRDpay",
    "executionInfo": {
     "status": "ok",
     "timestamp": 1666062494783,
     "user_tz": -540,
     "elapsed": 5,
     "user": {
      "displayName": "JIHAN KIM",
      "userId": "14820648192014375113"
     }
    },
    "outputId": "699c8127-28c1-4a07-8948-fade533b965e"
   },
   "execution_count": null,
   "outputs": [
    {
     "output_type": "execute_result",
     "data": {
      "text/plain": [
       "array([[1, 2, 3],\n",
       "       [4, 5, 6]])"
      ]
     },
     "metadata": {},
     "execution_count": 46
    }
   ]
  },
  {
   "cell_type": "code",
   "source": [
    "b.T"
   ],
   "metadata": {
    "colab": {
     "base_uri": "https://localhost:8080/"
    },
    "id": "hLxt7T_GEDHS",
    "executionInfo": {
     "status": "ok",
     "timestamp": 1666062503239,
     "user_tz": -540,
     "elapsed": 5,
     "user": {
      "displayName": "JIHAN KIM",
      "userId": "14820648192014375113"
     }
    },
    "outputId": "a59c0c51-9040-4e64-8bdf-4414c213e520"
   },
   "execution_count": null,
   "outputs": [
    {
     "output_type": "execute_result",
     "data": {
      "text/plain": [
       "array([[1, 4],\n",
       "       [2, 5],\n",
       "       [3, 6]])"
      ]
     },
     "metadata": {},
     "execution_count": 47
    }
   ]
  },
  {
   "cell_type": "markdown",
   "source": [
    "**기본연산**"
   ],
   "metadata": {
    "id": "OcxEnjkqERha"
   }
  },
  {
   "cell_type": "code",
   "source": [
    "data = np.array([[1, 2], [3, 4], [5, 6]])\n",
    "one_row = np.array([1, 2])"
   ],
   "metadata": {
    "id": "RKws0BxiEUgJ"
   },
   "execution_count": null,
   "outputs": []
  },
  {
   "cell_type": "code",
   "source": [
    "data + one_row"
   ],
   "metadata": {
    "colab": {
     "base_uri": "https://localhost:8080/"
    },
    "id": "IyHvEWf8EoXZ",
    "executionInfo": {
     "status": "ok",
     "timestamp": 1666062666765,
     "user_tz": -540,
     "elapsed": 5,
     "user": {
      "displayName": "JIHAN KIM",
      "userId": "14820648192014375113"
     }
    },
    "outputId": "7d352cfb-d253-4d91-d00d-cda029559ab1"
   },
   "execution_count": null,
   "outputs": [
    {
     "output_type": "execute_result",
     "data": {
      "text/plain": [
       "array([[2, 4],\n",
       "       [4, 6],\n",
       "       [6, 8]])"
      ]
     },
     "metadata": {},
     "execution_count": 50
    }
   ]
  },
  {
   "cell_type": "markdown",
   "source": [
    "테이타 읽기/쓰기"
   ],
   "metadata": {
    "id": "QaFSTD4NEz6n"
   }
  },
  {
   "cell_type": "code",
   "source": [
    "from google.colab import drive\n",
    "\n",
    "drive.mount('/content/drive')"
   ],
   "metadata": {
    "colab": {
     "base_uri": "https://localhost:8080/"
    },
    "id": "H-uDXjg2E6En",
    "executionInfo": {
     "status": "ok",
     "timestamp": 1666063127354,
     "user_tz": -540,
     "elapsed": 3215,
     "user": {
      "displayName": "JIHAN KIM",
      "userId": "14820648192014375113"
     }
    },
    "outputId": "c8effc3a-133b-4cac-ddc4-4d8cd402fb1d"
   },
   "execution_count": null,
   "outputs": [
    {
     "output_type": "stream",
     "name": "stdout",
     "text": [
      "Drive already mounted at /content/drive; to attempt to forcibly remount, call drive.mount(\"/content/drive\", force_remount=True).\n"
     ]
    }
   ]
  },
  {
   "cell_type": "code",
   "source": [
    "csv_arr = np.array([[1, 2, 3, 4], [5, 6, 7, 8]])"
   ],
   "metadata": {
    "id": "ktrOC3VCFO4f"
   },
   "execution_count": null,
   "outputs": []
  },
  {
   "cell_type": "code",
   "source": [
    "np.savetxt('/content/drive/MyDrive/Colab Notebooks/data/new_file.csv', csv_arr)"
   ],
   "metadata": {
    "id": "W6w09n8xFXFG"
   },
   "execution_count": null,
   "outputs": []
  },
  {
   "cell_type": "code",
   "source": [
    "np.loadtxt('/content/drive/MyDrive/Colab Notebooks/data/new_file.csv')"
   ],
   "metadata": {
    "colab": {
     "base_uri": "https://localhost:8080/"
    },
    "id": "Amg0_6FuIcFb",
    "executionInfo": {
     "status": "ok",
     "timestamp": 1666063694630,
     "user_tz": -540,
     "elapsed": 11,
     "user": {
      "displayName": "JIHAN KIM",
      "userId": "14820648192014375113"
     }
    },
    "outputId": "7d4dea59-0193-4509-8a70-ad28be07a001"
   },
   "execution_count": null,
   "outputs": [
    {
     "output_type": "execute_result",
     "data": {
      "text/plain": [
       "array([[1., 2., 3., 4.],\n",
       "       [5., 6., 7., 8.]])"
      ]
     },
     "metadata": {},
     "execution_count": 64
    }
   ]
  }
 ]
}
