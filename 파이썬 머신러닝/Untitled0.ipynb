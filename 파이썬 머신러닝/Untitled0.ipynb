{
 "nbformat": 4,
 "nbformat_minor": 0,
 "metadata": {
  "colab": {
   "provenance": [],
   "authorship_tag": "ABX9TyMY5rth9iaDoTm5zv4lp8jh"
  },
  "kernelspec": {
   "name": "python3",
   "language": "python",
   "display_name": "Python 3 (ipykernel)"
  },
  "language_info": {
   "name": "python"
  }
 },
 "cells": [
  {
   "cell_type": "code",
   "execution_count": 6,
   "metadata": {
    "id": "MmntvBToF6Ca",
    "executionInfo": {
     "status": "ok",
     "timestamp": 1666265893685,
     "user_tz": -540,
     "elapsed": 352,
     "user": {
      "displayName": "JIHAN KIM",
      "userId": "14820648192014375113"
     }
    },
    "ExecuteTime": {
     "end_time": "2023-09-06T20:54:38.827202600Z",
     "start_time": "2023-09-06T20:54:38.427782800Z"
    }
   },
   "outputs": [],
   "source": [
    "import matplotlib.pyplot as plt\n",
    "import pandas as pd\n",
    "import numpy as np\n",
    "import matplotlib.pyplot as plt\n",
    "import seaborn as sns\n",
    "from sklearn import datasets, linear_model\n",
    "from sklearn.metrics import mean_squared_error, r2_score #MSE에러 확인 #R2확인\n",
    "\n",
    "#선형회귀 관련 statsmodels 라이브러리\n",
    "import statsmodels.api as sm"
   ]
  },
  {
   "cell_type": "code",
   "source": [
    "from sklearn.preprocessing import PolynomialFeatures\n",
    "\n",
    "\n",
    "X = [[3, 5]]\n",
    "poly = PolynomialFeatures(3)\n",
    "poly.fit_transform(X)"
   ],
   "metadata": {
    "colab": {
     "base_uri": "https://localhost:8080/"
    },
    "id": "ed-SVdlfIPm_",
    "executionInfo": {
     "status": "ok",
     "timestamp": 1666267924543,
     "user_tz": -540,
     "elapsed": 332,
     "user": {
      "displayName": "JIHAN KIM",
      "userId": "14820648192014375113"
     }
    },
    "outputId": "eeae1d93-4fc8-4b7d-fd2a-cada6c31e27b",
    "ExecuteTime": {
     "end_time": "2023-09-06T20:54:41.185405600Z",
     "start_time": "2023-09-06T20:54:41.147744200Z"
    }
   },
   "execution_count": 7,
   "outputs": [
    {
     "data": {
      "text/plain": "array([[  1.,   3.,   5.,   9.,  15.,  25.,  27.,  45.,  75., 125.]])"
     },
     "execution_count": 7,
     "metadata": {},
     "output_type": "execute_result"
    }
   ]
  },
  {
   "cell_type": "code",
   "execution_count": null,
   "outputs": [],
   "source": [],
   "metadata": {
    "collapsed": false
   }
  }
 ]
}
