{
 "nbformat": 4,
 "nbformat_minor": 0,
 "metadata": {
  "colab": {
   "provenance": [],
   "authorship_tag": "ABX9TyMcAPH/vfD4v5rmvt14nEBh"
  },
  "kernelspec": {
   "name": "python3",
   "language": "python",
   "display_name": "Python 3 (ipykernel)"
  },
  "language_info": {
   "name": "python"
  }
 },
 "cells": [
  {
   "cell_type": "code",
   "source": [
    "# 데이터, 시각화 관련 라이브러리\n",
    "import pandas as pd\n",
    "import numpy as np\n",
    "import matplotlib.pyplot as plt\n",
    "\n",
    "# 선형회귀 관련 scikit-learn 라이브러리\n",
    "from sklearn import datasets, linear_model\n",
    "from sklearn.metrics import mean_squared_error, r2_score\n",
    "\n",
    "# 선형회귀 관련 statsmodels 라이브러리\n",
    "import statsmodels.api as sm"
   ],
   "metadata": {
    "id": "wKhzbm3tQJ5Z",
    "executionInfo": {
     "status": "ok",
     "timestamp": 1666252255302,
     "user_tz": -540,
     "elapsed": 1089,
     "user": {
      "displayName": "JIHAN KIM",
      "userId": "14820648192014375113"
     }
    },
    "ExecuteTime": {
     "end_time": "2023-12-15T17:13:39.388292200Z",
     "start_time": "2023-12-15T17:13:35.367420800Z"
    }
   },
   "execution_count": 1,
   "outputs": []
  },
  {
   "cell_type": "code",
   "source": [
    "X = np.array([[0, 1], [1, 2], [2, 2.5]])\n",
    "y = np.array([0, 1.2, 1.6])\n",
    "\n",
    "reg = linear_model.LinearRegression()\n",
    "\n",
    "reg.fit(X, y)\n",
    "\n",
    "pred_train = reg.predict(X)\n",
    "\n",
    "pred_test = reg.predict([[1.5, 2]])"
   ],
   "metadata": {
    "id": "vNyAGd6eIOar",
    "executionInfo": {
     "status": "ok",
     "timestamp": 1666252353834,
     "user_tz": -540,
     "elapsed": 374,
     "user": {
      "displayName": "JIHAN KIM",
      "userId": "14820648192014375113"
     }
    },
    "ExecuteTime": {
     "end_time": "2023-12-15T17:13:39.405440200Z",
     "start_time": "2023-12-15T17:13:39.390300200Z"
    }
   },
   "execution_count": 2,
   "outputs": []
  },
  {
   "cell_type": "code",
   "source": [
    "pred_test"
   ],
   "metadata": {
    "colab": {
     "base_uri": "https://localhost:8080/"
    },
    "id": "MHNLIKcqJC6j",
    "executionInfo": {
     "status": "ok",
     "timestamp": 1666252393067,
     "user_tz": -540,
     "elapsed": 305,
     "user": {
      "displayName": "JIHAN KIM",
      "userId": "14820648192014375113"
     }
    },
    "outputId": "7190e6d7-621b-4fb0-9a50-50887d7e18f7",
    "ExecuteTime": {
     "end_time": "2023-12-15T17:13:39.446840800Z",
     "start_time": "2023-12-15T17:13:39.401931200Z"
    }
   },
   "execution_count": 3,
   "outputs": [
    {
     "data": {
      "text/plain": "array([1.])"
     },
     "execution_count": 3,
     "metadata": {},
     "output_type": "execute_result"
    }
   ]
  },
  {
   "cell_type": "code",
   "source": [
    "reg.coef_"
   ],
   "metadata": {
    "colab": {
     "base_uri": "https://localhost:8080/"
    },
    "id": "e55duhLIJIEy",
    "executionInfo": {
     "status": "ok",
     "timestamp": 1666252403199,
     "user_tz": -540,
     "elapsed": 1195,
     "user": {
      "displayName": "JIHAN KIM",
      "userId": "14820648192014375113"
     }
    },
    "outputId": "efc2474d-18c2-4621-de39-50a9985159a9",
    "ExecuteTime": {
     "end_time": "2023-12-15T17:13:39.448848800Z",
     "start_time": "2023-12-15T17:13:39.422650700Z"
    }
   },
   "execution_count": 4,
   "outputs": [
    {
     "data": {
      "text/plain": "array([-0.4,  1.6])"
     },
     "execution_count": 4,
     "metadata": {},
     "output_type": "execute_result"
    }
   ]
  },
  {
   "cell_type": "code",
   "source": [
    "# 데이터 loading\n",
    "# from google.colab import drive\n",
    "# drive.mount('/content/drive')\n",
    "\n",
    "ad = pd.read_csv(\"data/Advertising.csv\", index_col=0)"
   ],
   "metadata": {
    "id": "-5tdfic8RECD",
    "colab": {
     "base_uri": "https://localhost:8080/"
    },
    "executionInfo": {
     "status": "ok",
     "timestamp": 1666253224973,
     "user_tz": -540,
     "elapsed": 4637,
     "user": {
      "displayName": "JIHAN KIM",
      "userId": "14820648192014375113"
     }
    },
    "outputId": "1e24e34d-7224-4c29-ccf7-a80e1463c52d",
    "ExecuteTime": {
     "end_time": "2023-12-15T17:13:39.509244600Z",
     "start_time": "2023-12-15T17:13:39.437033800Z"
    }
   },
   "execution_count": 5,
   "outputs": []
  },
  {
   "cell_type": "code",
   "source": [
    "ad"
   ],
   "metadata": {
    "colab": {
     "base_uri": "https://localhost:8080/",
     "height": 423
    },
    "id": "SiCVOBQgJZh5",
    "executionInfo": {
     "status": "ok",
     "timestamp": 1666253244694,
     "user_tz": -540,
     "elapsed": 1145,
     "user": {
      "displayName": "JIHAN KIM",
      "userId": "14820648192014375113"
     }
    },
    "outputId": "cc9873b8-f8bd-4723-bdb1-b760a94d826a",
    "ExecuteTime": {
     "end_time": "2023-12-15T17:13:39.539329300Z",
     "start_time": "2023-12-15T17:13:39.449846900Z"
    }
   },
   "execution_count": 6,
   "outputs": [
    {
     "data": {
      "text/plain": "        TV  Radio  Newspaper  Sales\n1    230.1   37.8       69.2   22.1\n2     44.5   39.3       45.1   10.4\n3     17.2   45.9       69.3    9.3\n4    151.5   41.3       58.5   18.5\n5    180.8   10.8       58.4   12.9\n..     ...    ...        ...    ...\n196   38.2    3.7       13.8    7.6\n197   94.2    4.9        8.1    9.7\n198  177.0    9.3        6.4   12.8\n199  283.6   42.0       66.2   25.5\n200  232.1    8.6        8.7   13.4\n\n[200 rows x 4 columns]",
      "text/html": "<div>\n<style scoped>\n    .dataframe tbody tr th:only-of-type {\n        vertical-align: middle;\n    }\n\n    .dataframe tbody tr th {\n        vertical-align: top;\n    }\n\n    .dataframe thead th {\n        text-align: right;\n    }\n</style>\n<table border=\"1\" class=\"dataframe\">\n  <thead>\n    <tr style=\"text-align: right;\">\n      <th></th>\n      <th>TV</th>\n      <th>Radio</th>\n      <th>Newspaper</th>\n      <th>Sales</th>\n    </tr>\n  </thead>\n  <tbody>\n    <tr>\n      <th>1</th>\n      <td>230.1</td>\n      <td>37.8</td>\n      <td>69.2</td>\n      <td>22.1</td>\n    </tr>\n    <tr>\n      <th>2</th>\n      <td>44.5</td>\n      <td>39.3</td>\n      <td>45.1</td>\n      <td>10.4</td>\n    </tr>\n    <tr>\n      <th>3</th>\n      <td>17.2</td>\n      <td>45.9</td>\n      <td>69.3</td>\n      <td>9.3</td>\n    </tr>\n    <tr>\n      <th>4</th>\n      <td>151.5</td>\n      <td>41.3</td>\n      <td>58.5</td>\n      <td>18.5</td>\n    </tr>\n    <tr>\n      <th>5</th>\n      <td>180.8</td>\n      <td>10.8</td>\n      <td>58.4</td>\n      <td>12.9</td>\n    </tr>\n    <tr>\n      <th>...</th>\n      <td>...</td>\n      <td>...</td>\n      <td>...</td>\n      <td>...</td>\n    </tr>\n    <tr>\n      <th>196</th>\n      <td>38.2</td>\n      <td>3.7</td>\n      <td>13.8</td>\n      <td>7.6</td>\n    </tr>\n    <tr>\n      <th>197</th>\n      <td>94.2</td>\n      <td>4.9</td>\n      <td>8.1</td>\n      <td>9.7</td>\n    </tr>\n    <tr>\n      <th>198</th>\n      <td>177.0</td>\n      <td>9.3</td>\n      <td>6.4</td>\n      <td>12.8</td>\n    </tr>\n    <tr>\n      <th>199</th>\n      <td>283.6</td>\n      <td>42.0</td>\n      <td>66.2</td>\n      <td>25.5</td>\n    </tr>\n    <tr>\n      <th>200</th>\n      <td>232.1</td>\n      <td>8.6</td>\n      <td>8.7</td>\n      <td>13.4</td>\n    </tr>\n  </tbody>\n</table>\n<p>200 rows × 4 columns</p>\n</div>"
     },
     "execution_count": 6,
     "metadata": {},
     "output_type": "execute_result"
    }
   ]
  },
  {
   "cell_type": "code",
   "source": [
    "# training/test data 분리\n",
    "train = ad[:-20]\n",
    "test = ad[-20:]\n",
    "\n",
    "# training data의 feature와 response 분리\n",
    "train_X = train[[\"TV\", \"Radio\", \"Newspaper\"]]\n",
    "train_y = train[[\"Sales\"]]\n",
    "\n",
    "# test data의 feature와 response 분리\n",
    "test_X = test[[\"TV\", \"Radio\", \"Newspaper\"]]\n",
    "test_y = test[[\"Sales\"]]"
   ],
   "metadata": {
    "id": "wFlnaG8ByhTJ",
    "executionInfo": {
     "status": "ok",
     "timestamp": 1666253247812,
     "user_tz": -540,
     "elapsed": 292,
     "user": {
      "displayName": "JIHAN KIM",
      "userId": "14820648192014375113"
     }
    },
    "ExecuteTime": {
     "end_time": "2023-12-15T17:13:39.546353400Z",
     "start_time": "2023-12-15T17:13:39.482286900Z"
    }
   },
   "execution_count": 7,
   "outputs": []
  },
  {
   "cell_type": "code",
   "source": [
    "#선형회귀 object 생성\n",
    "\n",
    "regr = linear_model.LinearRegression()\n",
    "\n",
    "regr.fit(train_X[[\"TV\", \"Radio\", \"Newspaper\"]], train_y)\n",
    "\n",
    "train_y_pred = regr.predict(\n",
    "    train_X[[\"TV\", \"Radio\", \"Newspaper\"]])  #예측값을 넣을때는 X쪽 칼럼만 지정해서 넣어주면 y 예측값이 들어감\n",
    "\n",
    "test_y_pred = regr.predict(test_X[[\"TV\", \"Radio\", \"Newspaper\"]])"
   ],
   "metadata": {
    "id": "uCvxL8XpJnVJ",
    "executionInfo": {
     "status": "ok",
     "timestamp": 1666253298387,
     "user_tz": -540,
     "elapsed": 365,
     "user": {
      "displayName": "JIHAN KIM",
      "userId": "14820648192014375113"
     }
    },
    "ExecuteTime": {
     "end_time": "2023-12-15T17:13:39.567107Z",
     "start_time": "2023-12-15T17:13:39.498220200Z"
    }
   },
   "execution_count": 8,
   "outputs": []
  },
  {
   "cell_type": "code",
   "source": [
    "print(regr.coef_)\n",
    "print(mean_squared_error(train_y, train_y_pred))\n",
    "print(mean_squared_error(test_y, test_y_pred))\n",
    "r2_score(train_y, train_y_pred)"
   ],
   "metadata": {
    "colab": {
     "base_uri": "https://localhost:8080/"
    },
    "id": "YxUnUWcvKx1n",
    "executionInfo": {
     "status": "ok",
     "timestamp": 1666253364931,
     "user_tz": -540,
     "elapsed": 7,
     "user": {
      "displayName": "JIHAN KIM",
      "userId": "14820648192014375113"
     }
    },
    "outputId": "1ef1c93a-bbcb-4200-a04c-eb6ab137e52c",
    "ExecuteTime": {
     "end_time": "2023-12-15T17:13:39.595279900Z",
     "start_time": "2023-12-15T17:13:39.513749400Z"
    }
   },
   "execution_count": 9,
   "outputs": [
    {
     "name": "stdout",
     "output_type": "stream",
     "text": [
      "[[ 0.04638909  0.18867512 -0.0024597 ]]\n",
      "2.827418881491677\n",
      "2.452817930717681\n"
     ]
    },
    {
     "data": {
      "text/plain": "0.8923555807586847"
     },
     "execution_count": 9,
     "metadata": {},
     "output_type": "execute_result"
    }
   ]
  },
  {
   "cell_type": "markdown",
   "source": [
    "5. Advertising data 선형회귀 statmodels"
   ],
   "metadata": {
    "id": "M8DpGsbALgE0"
   }
  },
  {
   "cell_type": "code",
   "source": [
    "# statsmodels 사용을 위한 X0 feature 추가\n",
    "# statsmodels의 OLS 함수는 데이터 내에 intercept에 해당하는 feature 필요\n",
    "sm_train_X = train_X\n",
    "sm_train_X[\"X0\"] = 1\n",
    "\n",
    "sm_test_X = test_X\n",
    "sm_test_X[\"X0\"] = 1"
   ],
   "metadata": {
    "id": "ZwuymyoMK5wF",
    "executionInfo": {
     "status": "ok",
     "timestamp": 1666253367485,
     "user_tz": -540,
     "elapsed": 4,
     "user": {
      "displayName": "JIHAN KIM",
      "userId": "14820648192014375113"
     }
    },
    "ExecuteTime": {
     "end_time": "2023-12-15T17:13:39.610831Z",
     "start_time": "2023-12-15T17:13:39.528305Z"
    }
   },
   "execution_count": 10,
   "outputs": []
  },
  {
   "cell_type": "code",
   "source": [
    "sm_train_X"
   ],
   "metadata": {
    "colab": {
     "base_uri": "https://localhost:8080/",
     "height": 423
    },
    "id": "rI475clgLxti",
    "executionInfo": {
     "status": "ok",
     "timestamp": 1666253393954,
     "user_tz": -540,
     "elapsed": 935,
     "user": {
      "displayName": "JIHAN KIM",
      "userId": "14820648192014375113"
     }
    },
    "outputId": "fae8005b-d06d-4dde-e82b-4d824c1c311c",
    "ExecuteTime": {
     "end_time": "2023-12-15T17:13:39.637351Z",
     "start_time": "2023-12-15T17:13:39.552871700Z"
    }
   },
   "execution_count": 11,
   "outputs": [
    {
     "data": {
      "text/plain": "        TV  Radio  Newspaper  X0\n1    230.1   37.8       69.2   1\n2     44.5   39.3       45.1   1\n3     17.2   45.9       69.3   1\n4    151.5   41.3       58.5   1\n5    180.8   10.8       58.4   1\n..     ...    ...        ...  ..\n176  276.9   48.9       41.8   1\n177  248.4   30.2       20.3   1\n178  170.2    7.8       35.2   1\n179  276.7    2.3       23.7   1\n180  165.6   10.0       17.6   1\n\n[180 rows x 4 columns]",
      "text/html": "<div>\n<style scoped>\n    .dataframe tbody tr th:only-of-type {\n        vertical-align: middle;\n    }\n\n    .dataframe tbody tr th {\n        vertical-align: top;\n    }\n\n    .dataframe thead th {\n        text-align: right;\n    }\n</style>\n<table border=\"1\" class=\"dataframe\">\n  <thead>\n    <tr style=\"text-align: right;\">\n      <th></th>\n      <th>TV</th>\n      <th>Radio</th>\n      <th>Newspaper</th>\n      <th>X0</th>\n    </tr>\n  </thead>\n  <tbody>\n    <tr>\n      <th>1</th>\n      <td>230.1</td>\n      <td>37.8</td>\n      <td>69.2</td>\n      <td>1</td>\n    </tr>\n    <tr>\n      <th>2</th>\n      <td>44.5</td>\n      <td>39.3</td>\n      <td>45.1</td>\n      <td>1</td>\n    </tr>\n    <tr>\n      <th>3</th>\n      <td>17.2</td>\n      <td>45.9</td>\n      <td>69.3</td>\n      <td>1</td>\n    </tr>\n    <tr>\n      <th>4</th>\n      <td>151.5</td>\n      <td>41.3</td>\n      <td>58.5</td>\n      <td>1</td>\n    </tr>\n    <tr>\n      <th>5</th>\n      <td>180.8</td>\n      <td>10.8</td>\n      <td>58.4</td>\n      <td>1</td>\n    </tr>\n    <tr>\n      <th>...</th>\n      <td>...</td>\n      <td>...</td>\n      <td>...</td>\n      <td>...</td>\n    </tr>\n    <tr>\n      <th>176</th>\n      <td>276.9</td>\n      <td>48.9</td>\n      <td>41.8</td>\n      <td>1</td>\n    </tr>\n    <tr>\n      <th>177</th>\n      <td>248.4</td>\n      <td>30.2</td>\n      <td>20.3</td>\n      <td>1</td>\n    </tr>\n    <tr>\n      <th>178</th>\n      <td>170.2</td>\n      <td>7.8</td>\n      <td>35.2</td>\n      <td>1</td>\n    </tr>\n    <tr>\n      <th>179</th>\n      <td>276.7</td>\n      <td>2.3</td>\n      <td>23.7</td>\n      <td>1</td>\n    </tr>\n    <tr>\n      <th>180</th>\n      <td>165.6</td>\n      <td>10.0</td>\n      <td>17.6</td>\n      <td>1</td>\n    </tr>\n  </tbody>\n</table>\n<p>180 rows × 4 columns</p>\n</div>"
     },
     "execution_count": 11,
     "metadata": {},
     "output_type": "execute_result"
    }
   ]
  },
  {
   "cell_type": "code",
   "source": [
    "result = sm.OLS(train_y, sm_train_X[[\"X0\", \"TV\", \"Radio\", \"Newspaper\"]]).fit()\n",
    "\n",
    "result.summary()"
   ],
   "metadata": {
    "colab": {
     "base_uri": "https://localhost:8080/",
     "height": 490
    },
    "id": "zSbl0x7sL6yT",
    "executionInfo": {
     "status": "ok",
     "timestamp": 1666182098599,
     "user_tz": -540,
     "elapsed": 410,
     "user": {
      "displayName": "JIHAN KIM",
      "userId": "14820648192014375113"
     }
    },
    "outputId": "5026c10a-ca25-4747-fda0-f92e8936c11f",
    "ExecuteTime": {
     "end_time": "2023-12-15T17:13:39.772241300Z",
     "start_time": "2023-12-15T17:13:39.560907900Z"
    }
   },
   "execution_count": 12,
   "outputs": [
    {
     "data": {
      "text/plain": "<class 'statsmodels.iolib.summary.Summary'>\n\"\"\"\n                            OLS Regression Results                            \n==============================================================================\nDep. Variable:                  Sales   R-squared:                       0.892\nModel:                            OLS   Adj. R-squared:                  0.891\nMethod:                 Least Squares   F-statistic:                     486.3\nDate:                Sat, 16 Dec 2023   Prob (F-statistic):           6.57e-85\nTime:                        02:13:39   Log-Likelihood:                -348.95\nNo. Observations:                 180   AIC:                             705.9\nDf Residuals:                     176   BIC:                             718.7\nDf Model:                           3                                         \nCovariance Type:            nonrobust                                         \n==============================================================================\n                 coef    std err          t      P>|t|      [0.025      0.975]\n------------------------------------------------------------------------------\nX0             2.8399      0.342      8.293      0.000       2.164       3.516\nTV             0.0464      0.001     31.154      0.000       0.043       0.049\nRadio          0.1887      0.009     20.347      0.000       0.170       0.207\nNewspaper     -0.0025      0.006     -0.395      0.693      -0.015       0.010\n==============================================================================\nOmnibus:                       56.196   Durbin-Watson:                   2.104\nProb(Omnibus):                  0.000   Jarque-Bera (JB):              140.467\nSkew:                          -1.343   Prob(JB):                     3.15e-31\nKurtosis:                       6.394   Cond. No.                         467.\n==============================================================================\n\nNotes:\n[1] Standard Errors assume that the covariance matrix of the errors is correctly specified.\n\"\"\"",
      "text/html": "<table class=\"simpletable\">\n<caption>OLS Regression Results</caption>\n<tr>\n  <th>Dep. Variable:</th>          <td>Sales</td>      <th>  R-squared:         </th> <td>   0.892</td>\n</tr>\n<tr>\n  <th>Model:</th>                   <td>OLS</td>       <th>  Adj. R-squared:    </th> <td>   0.891</td>\n</tr>\n<tr>\n  <th>Method:</th>             <td>Least Squares</td>  <th>  F-statistic:       </th> <td>   486.3</td>\n</tr>\n<tr>\n  <th>Date:</th>             <td>Sat, 16 Dec 2023</td> <th>  Prob (F-statistic):</th> <td>6.57e-85</td>\n</tr>\n<tr>\n  <th>Time:</th>                 <td>02:13:39</td>     <th>  Log-Likelihood:    </th> <td> -348.95</td>\n</tr>\n<tr>\n  <th>No. Observations:</th>      <td>   180</td>      <th>  AIC:               </th> <td>   705.9</td>\n</tr>\n<tr>\n  <th>Df Residuals:</th>          <td>   176</td>      <th>  BIC:               </th> <td>   718.7</td>\n</tr>\n<tr>\n  <th>Df Model:</th>              <td>     3</td>      <th>                     </th>     <td> </td>   \n</tr>\n<tr>\n  <th>Covariance Type:</th>      <td>nonrobust</td>    <th>                     </th>     <td> </td>   \n</tr>\n</table>\n<table class=\"simpletable\">\n<tr>\n      <td></td>         <th>coef</th>     <th>std err</th>      <th>t</th>      <th>P>|t|</th>  <th>[0.025</th>    <th>0.975]</th>  \n</tr>\n<tr>\n  <th>X0</th>        <td>    2.8399</td> <td>    0.342</td> <td>    8.293</td> <td> 0.000</td> <td>    2.164</td> <td>    3.516</td>\n</tr>\n<tr>\n  <th>TV</th>        <td>    0.0464</td> <td>    0.001</td> <td>   31.154</td> <td> 0.000</td> <td>    0.043</td> <td>    0.049</td>\n</tr>\n<tr>\n  <th>Radio</th>     <td>    0.1887</td> <td>    0.009</td> <td>   20.347</td> <td> 0.000</td> <td>    0.170</td> <td>    0.207</td>\n</tr>\n<tr>\n  <th>Newspaper</th> <td>   -0.0025</td> <td>    0.006</td> <td>   -0.395</td> <td> 0.693</td> <td>   -0.015</td> <td>    0.010</td>\n</tr>\n</table>\n<table class=\"simpletable\">\n<tr>\n  <th>Omnibus:</th>       <td>56.196</td> <th>  Durbin-Watson:     </th> <td>   2.104</td>\n</tr>\n<tr>\n  <th>Prob(Omnibus):</th> <td> 0.000</td> <th>  Jarque-Bera (JB):  </th> <td> 140.467</td>\n</tr>\n<tr>\n  <th>Skew:</th>          <td>-1.343</td> <th>  Prob(JB):          </th> <td>3.15e-31</td>\n</tr>\n<tr>\n  <th>Kurtosis:</th>      <td> 6.394</td> <th>  Cond. No.          </th> <td>    467.</td>\n</tr>\n</table><br/><br/>Notes:<br/>[1] Standard Errors assume that the covariance matrix of the errors is correctly specified.",
      "text/latex": "\\begin{center}\n\\begin{tabular}{lclc}\n\\toprule\n\\textbf{Dep. Variable:}    &      Sales       & \\textbf{  R-squared:         } &     0.892   \\\\\n\\textbf{Model:}            &       OLS        & \\textbf{  Adj. R-squared:    } &     0.891   \\\\\n\\textbf{Method:}           &  Least Squares   & \\textbf{  F-statistic:       } &     486.3   \\\\\n\\textbf{Date:}             & Sat, 16 Dec 2023 & \\textbf{  Prob (F-statistic):} &  6.57e-85   \\\\\n\\textbf{Time:}             &     02:13:39     & \\textbf{  Log-Likelihood:    } &   -348.95   \\\\\n\\textbf{No. Observations:} &         180      & \\textbf{  AIC:               } &     705.9   \\\\\n\\textbf{Df Residuals:}     &         176      & \\textbf{  BIC:               } &     718.7   \\\\\n\\textbf{Df Model:}         &           3      & \\textbf{                     } &             \\\\\n\\textbf{Covariance Type:}  &    nonrobust     & \\textbf{                     } &             \\\\\n\\bottomrule\n\\end{tabular}\n\\begin{tabular}{lcccccc}\n                   & \\textbf{coef} & \\textbf{std err} & \\textbf{t} & \\textbf{P$> |$t$|$} & \\textbf{[0.025} & \\textbf{0.975]}  \\\\\n\\midrule\n\\textbf{X0}        &       2.8399  &        0.342     &     8.293  &         0.000        &        2.164    &        3.516     \\\\\n\\textbf{TV}        &       0.0464  &        0.001     &    31.154  &         0.000        &        0.043    &        0.049     \\\\\n\\textbf{Radio}     &       0.1887  &        0.009     &    20.347  &         0.000        &        0.170    &        0.207     \\\\\n\\textbf{Newspaper} &      -0.0025  &        0.006     &    -0.395  &         0.693        &       -0.015    &        0.010     \\\\\n\\bottomrule\n\\end{tabular}\n\\begin{tabular}{lclc}\n\\textbf{Omnibus:}       & 56.196 & \\textbf{  Durbin-Watson:     } &    2.104  \\\\\n\\textbf{Prob(Omnibus):} &  0.000 & \\textbf{  Jarque-Bera (JB):  } &  140.467  \\\\\n\\textbf{Skew:}          & -1.343 & \\textbf{  Prob(JB):          } & 3.15e-31  \\\\\n\\textbf{Kurtosis:}      &  6.394 & \\textbf{  Cond. No.          } &     467.  \\\\\n\\bottomrule\n\\end{tabular}\n%\\caption{OLS Regression Results}\n\\end{center}\n\nNotes: \\newline\n [1] Standard Errors assume that the covariance matrix of the errors is correctly specified."
     },
     "execution_count": 12,
     "metadata": {},
     "output_type": "execute_result"
    }
   ]
  },
  {
   "cell_type": "code",
   "execution_count": null,
   "outputs": [],
   "source": [
    "# <class 'statsmodels.iolib.summary.Summary'>\n",
    "\"\"\"\n",
    "                            OLS Regression Results                            \n",
    "==============================================================================\n",
    "Dep. Variable:                  Sales   R-squared:                       0.892\n",
    "Model:                            OLS   Adj. R-squared:                  0.891\n",
    "Method:                 Least Squares   F-statistic:                     486.3\n",
    "Date:                Tue, 12 Dec 2023   Prob (F-statistic):           6.57e-85\n",
    "Time:                        02:13:14   Log-Likelihood:                -348.95\n",
    "No. Observations:                 180   AIC:                             705.9\n",
    "Df Residuals:                     176   BIC:                             718.7\n",
    "Df Model:                           3                                         \n",
    "Covariance Type:            nonrobust                                         \n",
    "==============================================================================\n",
    "                 coef    std err          t      P>|t|      [0.025      0.975]\n",
    "------------------------------------------------------------------------------\n",
    "X0             2.8399      0.342      8.293      0.000       2.164       3.516\n",
    "TV             0.0464      0.001     31.154      0.000       0.043       0.049\n",
    "Radio          0.1887      0.009     20.347      0.000       0.170       0.207\n",
    "Newspaper     -0.0025      0.006     -0.395      0.693      -0.015       0.010\n",
    "==============================================================================\n",
    "Omnibus:                       56.196   Durbin-Watson:                   2.104\n",
    "Prob(Omnibus):                  0.000   Jarque-Bera (JB):              140.467\n",
    "Skew:                          -1.343   Prob(JB):                     3.15e-31\n",
    "Kurtosis:                       6.394   Cond. No.                         467.\n",
    "==============================================================================\n",
    "\n",
    "Notes:\n",
    "[1] Standard Errors assume that the covariance matrix of the errors is correctly specified.\n",
    "\"\"\""
   ],
   "metadata": {
    "collapsed": false
   }
  },
  {
   "cell_type": "markdown",
   "source": [
    "6. PolynomialFeatures() 예제"
   ],
   "metadata": {
    "id": "88feuOHBMftx"
   }
  },
  {
   "cell_type": "code",
   "source": [
    "from sklearn.preprocessing import PolynomialFeatures\n",
    "\n",
    "X = np.arange(6).reshape(3, 2)"
   ],
   "metadata": {
    "id": "cpF7ocOoMmHr",
    "executionInfo": {
     "status": "ok",
     "timestamp": 1666253450828,
     "user_tz": -540,
     "elapsed": 315,
     "user": {
      "displayName": "JIHAN KIM",
      "userId": "14820648192014375113"
     }
    },
    "ExecuteTime": {
     "end_time": "2023-12-11T17:15:33.099892100Z",
     "start_time": "2023-12-11T17:15:33.086205800Z"
    }
   },
   "execution_count": 43,
   "outputs": []
  },
  {
   "cell_type": "code",
   "source": [
    "X"
   ],
   "metadata": {
    "colab": {
     "base_uri": "https://localhost:8080/"
    },
    "id": "n7dGQluZM6WX",
    "executionInfo": {
     "status": "ok",
     "timestamp": 1666253459263,
     "user_tz": -540,
     "elapsed": 374,
     "user": {
      "displayName": "JIHAN KIM",
      "userId": "14820648192014375113"
     }
    },
    "outputId": "826d5f24-cf54-4d2a-9407-35957b6cb6c4",
    "ExecuteTime": {
     "end_time": "2023-12-11T17:15:34.180718200Z",
     "start_time": "2023-12-11T17:15:34.148746900Z"
    }
   },
   "execution_count": 44,
   "outputs": [
    {
     "data": {
      "text/plain": "array([[0, 1],\n       [2, 3],\n       [4, 5]])"
     },
     "execution_count": 44,
     "metadata": {},
     "output_type": "execute_result"
    }
   ]
  },
  {
   "cell_type": "code",
   "source": [
    "#[1,a,b,a^2,ab,b^2] feature 생성\n",
    "poly = PolynomialFeatures(3)\n",
    "poly.fit_transform(X)"
   ],
   "metadata": {
    "colab": {
     "base_uri": "https://localhost:8080/"
    },
    "id": "piejfMygNlan",
    "executionInfo": {
     "status": "ok",
     "timestamp": 1666253481826,
     "user_tz": -540,
     "elapsed": 316,
     "user": {
      "displayName": "JIHAN KIM",
      "userId": "14820648192014375113"
     }
    },
    "outputId": "83547e78-523e-4f45-e400-049f3c7f4c3d",
    "ExecuteTime": {
     "end_time": "2023-12-11T17:17:31.390296200Z",
     "start_time": "2023-12-11T17:17:31.339486100Z"
    }
   },
   "execution_count": 56,
   "outputs": [
    {
     "data": {
      "text/plain": "array([[  1.,   0.,   1.,   0.,   0.,   1.,   0.,   0.,   0.,   1.],\n       [  1.,   2.,   3.,   4.,   6.,   9.,   8.,  12.,  18.,  27.],\n       [  1.,   4.,   5.,  16.,  20.,  25.,  64.,  80., 100., 125.]])"
     },
     "execution_count": 56,
     "metadata": {},
     "output_type": "execute_result"
    }
   ]
  },
  {
   "cell_type": "code",
   "source": [
    "#interaction feature만 생성\n",
    "poly = PolynomialFeatures(interaction_only=True)\n",
    "poly.fit_transform(X)"
   ],
   "metadata": {
    "colab": {
     "base_uri": "https://localhost:8080/"
    },
    "id": "ybnH6bzQOIuG",
    "executionInfo": {
     "status": "ok",
     "timestamp": 1666253535357,
     "user_tz": -540,
     "elapsed": 293,
     "user": {
      "displayName": "JIHAN KIM",
      "userId": "14820648192014375113"
     }
    },
    "outputId": "e66eea95-c749-4bac-a2bb-ce32260b3d3c",
    "ExecuteTime": {
     "end_time": "2023-12-11T17:17:37.458354800Z",
     "start_time": "2023-12-11T17:17:37.443671400Z"
    }
   },
   "execution_count": 57,
   "outputs": [
    {
     "data": {
      "text/plain": "array([[ 1.,  0.,  1.,  0.],\n       [ 1.,  2.,  3.,  6.],\n       [ 1.,  4.,  5., 20.]])"
     },
     "execution_count": 57,
     "metadata": {},
     "output_type": "execute_result"
    }
   ]
  },
  {
   "cell_type": "markdown",
   "source": [
    "Auto 데이터"
   ],
   "metadata": {
    "id": "Vj_u-cSDOnDk"
   }
  },
  {
   "cell_type": "code",
   "source": [
    "# 데이터 loading\n",
    "# from google.colab import drive\n",
    "# \n",
    "# drive.mount('/content/drive')\n",
    "\n",
    "auto = pd.read_csv(\"data/Auto.csv\")\n",
    "auto.info()"
   ],
   "metadata": {
    "colab": {
     "base_uri": "https://localhost:8080/"
    },
    "id": "fVtxXsIyOqSe",
    "executionInfo": {
     "status": "ok",
     "timestamp": 1666253564309,
     "user_tz": -540,
     "elapsed": 5110,
     "user": {
      "displayName": "JIHAN KIM",
      "userId": "14820648192014375113"
     }
    },
    "outputId": "45d477d8-2f6e-4ef5-c791-3302448e74c4",
    "ExecuteTime": {
     "end_time": "2023-12-11T17:18:42.367922600Z",
     "start_time": "2023-12-11T17:18:42.313702900Z"
    }
   },
   "execution_count": 58,
   "outputs": [
    {
     "name": "stdout",
     "output_type": "stream",
     "text": [
      "<class 'pandas.core.frame.DataFrame'>\n",
      "RangeIndex: 397 entries, 0 to 396\n",
      "Data columns (total 9 columns):\n",
      " #   Column        Non-Null Count  Dtype  \n",
      "---  ------        --------------  -----  \n",
      " 0   mpg           397 non-null    float64\n",
      " 1   cylinders     397 non-null    int64  \n",
      " 2   displacement  397 non-null    float64\n",
      " 3   horsepower    397 non-null    object \n",
      " 4   weight        397 non-null    int64  \n",
      " 5   acceleration  397 non-null    float64\n",
      " 6   year          397 non-null    int64  \n",
      " 7   origin        397 non-null    int64  \n",
      " 8   name          397 non-null    object \n",
      "dtypes: float64(3), int64(4), object(2)\n",
      "memory usage: 28.0+ KB\n"
     ]
    }
   ]
  },
  {
   "cell_type": "code",
   "source": [
    "# horsepower의 ? 값을 0 으로 대체\n",
    "auto[\"horsepower\"] = auto[\"horsepower\"].replace(to_replace=\"?\", value=0)\n",
    "\n",
    "# horserpower의 데이터 타입을 object에서 numeric으로 변경\n",
    "auto[\"horsepower\"] = pd.to_numeric(auto[\"horsepower\"])"
   ],
   "metadata": {
    "id": "xjho-KoI6028",
    "executionInfo": {
     "status": "ok",
     "timestamp": 1666253568213,
     "user_tz": -540,
     "elapsed": 661,
     "user": {
      "displayName": "JIHAN KIM",
      "userId": "14820648192014375113"
     }
    },
    "ExecuteTime": {
     "end_time": "2023-12-11T17:18:57.676208100Z",
     "start_time": "2023-12-11T17:18:57.654697400Z"
    }
   },
   "execution_count": 59,
   "outputs": []
  },
  {
   "cell_type": "code",
   "source": [
    "auto"
   ],
   "metadata": {
    "colab": {
     "base_uri": "https://localhost:8080/",
     "height": 467
    },
    "id": "LmUNgcPEPHoL",
    "executionInfo": {
     "status": "ok",
     "timestamp": 1666253584233,
     "user_tz": -540,
     "elapsed": 803,
     "user": {
      "displayName": "JIHAN KIM",
      "userId": "14820648192014375113"
     }
    },
    "outputId": "9b9d11f4-a142-48b4-9215-183380fcf9ed",
    "ExecuteTime": {
     "end_time": "2023-12-11T17:18:58.432261700Z",
     "start_time": "2023-12-11T17:18:58.404324200Z"
    }
   },
   "execution_count": 60,
   "outputs": [
    {
     "data": {
      "text/plain": "      mpg  cylinders  displacement  horsepower  weight  acceleration  year  \\\n0    18.0          8         307.0         130    3504          12.0    70   \n1    15.0          8         350.0         165    3693          11.5    70   \n2    18.0          8         318.0         150    3436          11.0    70   \n3    16.0          8         304.0         150    3433          12.0    70   \n4    17.0          8         302.0         140    3449          10.5    70   \n..    ...        ...           ...         ...     ...           ...   ...   \n392  27.0          4         140.0          86    2790          15.6    82   \n393  44.0          4          97.0          52    2130          24.6    82   \n394  32.0          4         135.0          84    2295          11.6    82   \n395  28.0          4         120.0          79    2625          18.6    82   \n396  31.0          4         119.0          82    2720          19.4    82   \n\n     origin                       name  \n0         1  chevrolet chevelle malibu  \n1         1          buick skylark 320  \n2         1         plymouth satellite  \n3         1              amc rebel sst  \n4         1                ford torino  \n..      ...                        ...  \n392       1            ford mustang gl  \n393       2                  vw pickup  \n394       1              dodge rampage  \n395       1                ford ranger  \n396       1                 chevy s-10  \n\n[397 rows x 9 columns]",
      "text/html": "<div>\n<style scoped>\n    .dataframe tbody tr th:only-of-type {\n        vertical-align: middle;\n    }\n\n    .dataframe tbody tr th {\n        vertical-align: top;\n    }\n\n    .dataframe thead th {\n        text-align: right;\n    }\n</style>\n<table border=\"1\" class=\"dataframe\">\n  <thead>\n    <tr style=\"text-align: right;\">\n      <th></th>\n      <th>mpg</th>\n      <th>cylinders</th>\n      <th>displacement</th>\n      <th>horsepower</th>\n      <th>weight</th>\n      <th>acceleration</th>\n      <th>year</th>\n      <th>origin</th>\n      <th>name</th>\n    </tr>\n  </thead>\n  <tbody>\n    <tr>\n      <th>0</th>\n      <td>18.0</td>\n      <td>8</td>\n      <td>307.0</td>\n      <td>130</td>\n      <td>3504</td>\n      <td>12.0</td>\n      <td>70</td>\n      <td>1</td>\n      <td>chevrolet chevelle malibu</td>\n    </tr>\n    <tr>\n      <th>1</th>\n      <td>15.0</td>\n      <td>8</td>\n      <td>350.0</td>\n      <td>165</td>\n      <td>3693</td>\n      <td>11.5</td>\n      <td>70</td>\n      <td>1</td>\n      <td>buick skylark 320</td>\n    </tr>\n    <tr>\n      <th>2</th>\n      <td>18.0</td>\n      <td>8</td>\n      <td>318.0</td>\n      <td>150</td>\n      <td>3436</td>\n      <td>11.0</td>\n      <td>70</td>\n      <td>1</td>\n      <td>plymouth satellite</td>\n    </tr>\n    <tr>\n      <th>3</th>\n      <td>16.0</td>\n      <td>8</td>\n      <td>304.0</td>\n      <td>150</td>\n      <td>3433</td>\n      <td>12.0</td>\n      <td>70</td>\n      <td>1</td>\n      <td>amc rebel sst</td>\n    </tr>\n    <tr>\n      <th>4</th>\n      <td>17.0</td>\n      <td>8</td>\n      <td>302.0</td>\n      <td>140</td>\n      <td>3449</td>\n      <td>10.5</td>\n      <td>70</td>\n      <td>1</td>\n      <td>ford torino</td>\n    </tr>\n    <tr>\n      <th>...</th>\n      <td>...</td>\n      <td>...</td>\n      <td>...</td>\n      <td>...</td>\n      <td>...</td>\n      <td>...</td>\n      <td>...</td>\n      <td>...</td>\n      <td>...</td>\n    </tr>\n    <tr>\n      <th>392</th>\n      <td>27.0</td>\n      <td>4</td>\n      <td>140.0</td>\n      <td>86</td>\n      <td>2790</td>\n      <td>15.6</td>\n      <td>82</td>\n      <td>1</td>\n      <td>ford mustang gl</td>\n    </tr>\n    <tr>\n      <th>393</th>\n      <td>44.0</td>\n      <td>4</td>\n      <td>97.0</td>\n      <td>52</td>\n      <td>2130</td>\n      <td>24.6</td>\n      <td>82</td>\n      <td>2</td>\n      <td>vw pickup</td>\n    </tr>\n    <tr>\n      <th>394</th>\n      <td>32.0</td>\n      <td>4</td>\n      <td>135.0</td>\n      <td>84</td>\n      <td>2295</td>\n      <td>11.6</td>\n      <td>82</td>\n      <td>1</td>\n      <td>dodge rampage</td>\n    </tr>\n    <tr>\n      <th>395</th>\n      <td>28.0</td>\n      <td>4</td>\n      <td>120.0</td>\n      <td>79</td>\n      <td>2625</td>\n      <td>18.6</td>\n      <td>82</td>\n      <td>1</td>\n      <td>ford ranger</td>\n    </tr>\n    <tr>\n      <th>396</th>\n      <td>31.0</td>\n      <td>4</td>\n      <td>119.0</td>\n      <td>82</td>\n      <td>2720</td>\n      <td>19.4</td>\n      <td>82</td>\n      <td>1</td>\n      <td>chevy s-10</td>\n    </tr>\n  </tbody>\n</table>\n<p>397 rows × 9 columns</p>\n</div>"
     },
     "execution_count": 60,
     "metadata": {},
     "output_type": "execute_result"
    }
   ]
  },
  {
   "cell_type": "markdown",
   "source": [
    "Auto data 다중선형회귀(scikit-learn)"
   ],
   "metadata": {
    "id": "qkgtFFPmPOmT"
   }
  },
  {
   "cell_type": "code",
   "source": [
    "# horsepower의 다양한 feature 생성\n",
    "auto[\"horsepower_2\"] = auto[\"horsepower\"] ** 2  # auto[\"새로운칼럼이름\"] = auto[\"기존컬럼\"]**승수\n",
    "auto[\"horsepower_3\"] = auto[\"horsepower\"] ** 3\n",
    "auto[\"horsepower_4\"] = auto[\"horsepower\"] ** 4\n",
    "auto[\"horsepower_5\"] = auto[\"horsepower\"] ** 5"
   ],
   "metadata": {
    "id": "9Xm3SdMpPWQ5",
    "executionInfo": {
     "status": "ok",
     "timestamp": 1666253580027,
     "user_tz": -540,
     "elapsed": 297,
     "user": {
      "displayName": "JIHAN KIM",
      "userId": "14820648192014375113"
     }
    },
    "ExecuteTime": {
     "end_time": "2023-12-11T17:19:01.188700300Z",
     "start_time": "2023-12-11T17:19:01.174995Z"
    }
   },
   "execution_count": 61,
   "outputs": []
  },
  {
   "cell_type": "code",
   "source": [
    "auto"
   ],
   "metadata": {
    "colab": {
     "base_uri": "https://localhost:8080/",
     "height": 467
    },
    "id": "WMoRWBiTPpWp",
    "executionInfo": {
     "status": "ok",
     "timestamp": 1666253601658,
     "user_tz": -540,
     "elapsed": 15,
     "user": {
      "displayName": "JIHAN KIM",
      "userId": "14820648192014375113"
     }
    },
    "outputId": "3a8bf682-c15f-4bb4-9aa7-50d2df8034b4",
    "ExecuteTime": {
     "end_time": "2023-12-11T17:19:02.807971300Z",
     "start_time": "2023-12-11T17:19:02.796378700Z"
    }
   },
   "execution_count": 62,
   "outputs": [
    {
     "data": {
      "text/plain": "      mpg  cylinders  displacement  horsepower  weight  acceleration  year  \\\n0    18.0          8         307.0         130    3504          12.0    70   \n1    15.0          8         350.0         165    3693          11.5    70   \n2    18.0          8         318.0         150    3436          11.0    70   \n3    16.0          8         304.0         150    3433          12.0    70   \n4    17.0          8         302.0         140    3449          10.5    70   \n..    ...        ...           ...         ...     ...           ...   ...   \n392  27.0          4         140.0          86    2790          15.6    82   \n393  44.0          4          97.0          52    2130          24.6    82   \n394  32.0          4         135.0          84    2295          11.6    82   \n395  28.0          4         120.0          79    2625          18.6    82   \n396  31.0          4         119.0          82    2720          19.4    82   \n\n     origin                       name  horsepower_2  horsepower_3  \\\n0         1  chevrolet chevelle malibu         16900       2197000   \n1         1          buick skylark 320         27225       4492125   \n2         1         plymouth satellite         22500       3375000   \n3         1              amc rebel sst         22500       3375000   \n4         1                ford torino         19600       2744000   \n..      ...                        ...           ...           ...   \n392       1            ford mustang gl          7396        636056   \n393       2                  vw pickup          2704        140608   \n394       1              dodge rampage          7056        592704   \n395       1                ford ranger          6241        493039   \n396       1                 chevy s-10          6724        551368   \n\n     horsepower_4  horsepower_5  \n0       285610000   37129300000  \n1       741200625  122298103125  \n2       506250000   75937500000  \n3       506250000   75937500000  \n4       384160000   53782400000  \n..            ...           ...  \n392      54700816    4704270176  \n393       7311616     380204032  \n394      49787136    4182119424  \n395      38950081    3077056399  \n396      45212176    3707398432  \n\n[397 rows x 13 columns]",
      "text/html": "<div>\n<style scoped>\n    .dataframe tbody tr th:only-of-type {\n        vertical-align: middle;\n    }\n\n    .dataframe tbody tr th {\n        vertical-align: top;\n    }\n\n    .dataframe thead th {\n        text-align: right;\n    }\n</style>\n<table border=\"1\" class=\"dataframe\">\n  <thead>\n    <tr style=\"text-align: right;\">\n      <th></th>\n      <th>mpg</th>\n      <th>cylinders</th>\n      <th>displacement</th>\n      <th>horsepower</th>\n      <th>weight</th>\n      <th>acceleration</th>\n      <th>year</th>\n      <th>origin</th>\n      <th>name</th>\n      <th>horsepower_2</th>\n      <th>horsepower_3</th>\n      <th>horsepower_4</th>\n      <th>horsepower_5</th>\n    </tr>\n  </thead>\n  <tbody>\n    <tr>\n      <th>0</th>\n      <td>18.0</td>\n      <td>8</td>\n      <td>307.0</td>\n      <td>130</td>\n      <td>3504</td>\n      <td>12.0</td>\n      <td>70</td>\n      <td>1</td>\n      <td>chevrolet chevelle malibu</td>\n      <td>16900</td>\n      <td>2197000</td>\n      <td>285610000</td>\n      <td>37129300000</td>\n    </tr>\n    <tr>\n      <th>1</th>\n      <td>15.0</td>\n      <td>8</td>\n      <td>350.0</td>\n      <td>165</td>\n      <td>3693</td>\n      <td>11.5</td>\n      <td>70</td>\n      <td>1</td>\n      <td>buick skylark 320</td>\n      <td>27225</td>\n      <td>4492125</td>\n      <td>741200625</td>\n      <td>122298103125</td>\n    </tr>\n    <tr>\n      <th>2</th>\n      <td>18.0</td>\n      <td>8</td>\n      <td>318.0</td>\n      <td>150</td>\n      <td>3436</td>\n      <td>11.0</td>\n      <td>70</td>\n      <td>1</td>\n      <td>plymouth satellite</td>\n      <td>22500</td>\n      <td>3375000</td>\n      <td>506250000</td>\n      <td>75937500000</td>\n    </tr>\n    <tr>\n      <th>3</th>\n      <td>16.0</td>\n      <td>8</td>\n      <td>304.0</td>\n      <td>150</td>\n      <td>3433</td>\n      <td>12.0</td>\n      <td>70</td>\n      <td>1</td>\n      <td>amc rebel sst</td>\n      <td>22500</td>\n      <td>3375000</td>\n      <td>506250000</td>\n      <td>75937500000</td>\n    </tr>\n    <tr>\n      <th>4</th>\n      <td>17.0</td>\n      <td>8</td>\n      <td>302.0</td>\n      <td>140</td>\n      <td>3449</td>\n      <td>10.5</td>\n      <td>70</td>\n      <td>1</td>\n      <td>ford torino</td>\n      <td>19600</td>\n      <td>2744000</td>\n      <td>384160000</td>\n      <td>53782400000</td>\n    </tr>\n    <tr>\n      <th>...</th>\n      <td>...</td>\n      <td>...</td>\n      <td>...</td>\n      <td>...</td>\n      <td>...</td>\n      <td>...</td>\n      <td>...</td>\n      <td>...</td>\n      <td>...</td>\n      <td>...</td>\n      <td>...</td>\n      <td>...</td>\n      <td>...</td>\n    </tr>\n    <tr>\n      <th>392</th>\n      <td>27.0</td>\n      <td>4</td>\n      <td>140.0</td>\n      <td>86</td>\n      <td>2790</td>\n      <td>15.6</td>\n      <td>82</td>\n      <td>1</td>\n      <td>ford mustang gl</td>\n      <td>7396</td>\n      <td>636056</td>\n      <td>54700816</td>\n      <td>4704270176</td>\n    </tr>\n    <tr>\n      <th>393</th>\n      <td>44.0</td>\n      <td>4</td>\n      <td>97.0</td>\n      <td>52</td>\n      <td>2130</td>\n      <td>24.6</td>\n      <td>82</td>\n      <td>2</td>\n      <td>vw pickup</td>\n      <td>2704</td>\n      <td>140608</td>\n      <td>7311616</td>\n      <td>380204032</td>\n    </tr>\n    <tr>\n      <th>394</th>\n      <td>32.0</td>\n      <td>4</td>\n      <td>135.0</td>\n      <td>84</td>\n      <td>2295</td>\n      <td>11.6</td>\n      <td>82</td>\n      <td>1</td>\n      <td>dodge rampage</td>\n      <td>7056</td>\n      <td>592704</td>\n      <td>49787136</td>\n      <td>4182119424</td>\n    </tr>\n    <tr>\n      <th>395</th>\n      <td>28.0</td>\n      <td>4</td>\n      <td>120.0</td>\n      <td>79</td>\n      <td>2625</td>\n      <td>18.6</td>\n      <td>82</td>\n      <td>1</td>\n      <td>ford ranger</td>\n      <td>6241</td>\n      <td>493039</td>\n      <td>38950081</td>\n      <td>3077056399</td>\n    </tr>\n    <tr>\n      <th>396</th>\n      <td>31.0</td>\n      <td>4</td>\n      <td>119.0</td>\n      <td>82</td>\n      <td>2720</td>\n      <td>19.4</td>\n      <td>82</td>\n      <td>1</td>\n      <td>chevy s-10</td>\n      <td>6724</td>\n      <td>551368</td>\n      <td>45212176</td>\n      <td>3707398432</td>\n    </tr>\n  </tbody>\n</table>\n<p>397 rows × 13 columns</p>\n</div>"
     },
     "execution_count": 62,
     "metadata": {},
     "output_type": "execute_result"
    }
   ]
  },
  {
   "cell_type": "code",
   "source": [
    "# training/test data 분리\n",
    "train = auto[:-40]\n",
    "test = auto[-40:]\n",
    "\n",
    "# training data의 feature와 response 분리\n",
    "train_X = train[[\"horsepower\", \"horsepower_2\", \"horsepower_3\", \"horsepower_4\", \"horsepower_5\"]]\n",
    "train_y = train[[\"mpg\"]]\n",
    "\n",
    "# test data의 feature와 response 분리\n",
    "test_X = test[[\"horsepower\", \"horsepower_2\", \"horsepower_3\", \"horsepower_4\", \"horsepower_5\"]]\n",
    "test_y = test[[\"mpg\"]]"
   ],
   "metadata": {
    "id": "Y3ASx1CwPuyA",
    "executionInfo": {
     "status": "ok",
     "timestamp": 1666253623126,
     "user_tz": -540,
     "elapsed": 1342,
     "user": {
      "displayName": "JIHAN KIM",
      "userId": "14820648192014375113"
     }
    },
    "ExecuteTime": {
     "end_time": "2023-12-11T17:20:42.654573100Z",
     "start_time": "2023-12-11T17:20:42.626830500Z"
    }
   },
   "execution_count": 64,
   "outputs": []
  },
  {
   "cell_type": "code",
   "source": [
    "#선형회귀 object 생성\n",
    "regr = linear_model.LinearRegression()\n",
    "\n",
    "regr.fit(train_X[[\"horsepower\"]], train_y)\n",
    "#regr.fit(train_X[[\"horsepower\", \"horsepower_2\"]], train_y)\n",
    "\n",
    "train_y_pred = regr.predict(train_X[[\"horsepower\"]])\n",
    "# train_y_pred = regr.predict(train_X[[\"horsepower\", \"horsepower_2\"]])\n",
    "\n",
    "test_y_pred = regr.predict(test_X[[\"horsepower\"]])\n",
    "# test_y_pred = regr.predict(test_X[[\"horsepower\", \"horsepower_2\"]])"
   ],
   "metadata": {
    "id": "ce4e2k4RP3HQ",
    "executionInfo": {
     "status": "ok",
     "timestamp": 1666253717122,
     "user_tz": -540,
     "elapsed": 554,
     "user": {
      "displayName": "JIHAN KIM",
      "userId": "14820648192014375113"
     }
    },
    "ExecuteTime": {
     "end_time": "2023-12-11T17:21:10.569892900Z",
     "start_time": "2023-12-11T17:21:10.495621900Z"
    }
   },
   "execution_count": 66,
   "outputs": []
  },
  {
   "cell_type": "code",
   "source": [
    "print(\"Coefficient: \\n\", regr.coef_)\n",
    "print(\"Traing MSE: %.3f\" % mean_squared_error(train_y, train_y_pred))\n",
    "print(\"Testing MSE: %.3f\" % mean_squared_error(test_y, test_y_pred))\n",
    "print(\"R^2:%.3f\" % r2_score(train_y, train_y_pred))"
   ],
   "metadata": {
    "colab": {
     "base_uri": "https://localhost:8080/"
    },
    "id": "ELBk_8C9Q-75",
    "executionInfo": {
     "status": "ok",
     "timestamp": 1666253720427,
     "user_tz": -540,
     "elapsed": 6,
     "user": {
      "displayName": "JIHAN KIM",
      "userId": "14820648192014375113"
     }
    },
    "outputId": "f366f8f5-15ec-42ff-bb0f-91aef44849a6",
    "ExecuteTime": {
     "end_time": "2023-12-11T17:21:13.263642600Z",
     "start_time": "2023-12-11T17:21:13.250438900Z"
    }
   },
   "execution_count": 67,
   "outputs": [
    {
     "name": "stdout",
     "output_type": "stream",
     "text": [
      "Coefficient: \n",
      " [[-0.14160083]]\n",
      "Traing MSE: 24.027\n",
      "Testing MSE: 43.997\n",
      "R^2:0.587\n"
     ]
    }
   ]
  },
  {
   "cell_type": "code",
   "execution_count": 68,
   "outputs": [],
   "source": [
    "regr = linear_model.LinearRegression()\n",
    "\n",
    "#regr.fit(train_X[[\"horsepower\"]], train_y)\n",
    "regr.fit(train_X[[\"horsepower\", \"horsepower_2\"]], train_y)\n",
    "\n",
    "#train_y_pred = regr.predict(train_X[[\"horsepower\"]])\n",
    "train_y_pred = regr.predict(train_X[[\"horsepower\", \"horsepower_2\"]])\n",
    "\n",
    "#test_y_pred = regr.predict(test_X[[\"horsepower\"]])\n",
    "test_y_pred = regr.predict(test_X[[\"horsepower\", \"horsepower_2\"]])"
   ],
   "metadata": {
    "collapsed": false,
    "ExecuteTime": {
     "end_time": "2023-12-11T17:22:21.327576700Z",
     "start_time": "2023-12-11T17:22:21.282361200Z"
    }
   }
  },
  {
   "cell_type": "code",
   "execution_count": 69,
   "outputs": [
    {
     "name": "stdout",
     "output_type": "stream",
     "text": [
      "Coefficient: \n",
      " [[-0.24477644  0.00043038]]\n",
      "Traing MSE: 22.941\n",
      "Testing MSE: 44.437\n",
      "R^2:0.606\n"
     ]
    }
   ],
   "source": [
    "print(\"Coefficient: \\n\", regr.coef_)\n",
    "print(\"Traing MSE: %.3f\" % mean_squared_error(train_y, train_y_pred))\n",
    "print(\"Testing MSE: %.3f\" % mean_squared_error(test_y, test_y_pred))\n",
    "print(\"R^2:%.3f\" % r2_score(train_y, train_y_pred))"
   ],
   "metadata": {
    "collapsed": false,
    "ExecuteTime": {
     "end_time": "2023-12-11T17:22:21.876461300Z",
     "start_time": "2023-12-11T17:22:21.843954100Z"
    }
   }
  },
  {
   "cell_type": "code",
   "execution_count": null,
   "outputs": [],
   "source": [],
   "metadata": {
    "collapsed": false
   }
  }
 ]
}
