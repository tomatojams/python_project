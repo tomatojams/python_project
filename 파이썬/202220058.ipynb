{
 "nbformat": 4,
 "nbformat_minor": 0,
 "metadata": {
  "colab": {
   "name": "202220058.ipynb",
   "provenance": [],
   "collapsed_sections": [],
   "authorship_tag": "ABX9TyPm119BsVb4IiRfJ8rSkTKI"
  },
  "kernelspec": {
   "name": "python3",
   "display_name": "Python 3"
  },
  "language_info": {
   "name": "python"
  }
 },
 "cells": [
  {
   "cell_type": "code",
   "source": [],
   "metadata": {
    "id": "Eh7SHrOt-gDn"
   },
   "execution_count": null,
   "outputs": []
  },
  {
   "cell_type": "code",
   "execution_count": 21,
   "metadata": {
    "id": "dcLE-0BJf52U",
    "executionInfo": {
     "status": "ok",
     "timestamp": 1654702895191,
     "user_tz": -540,
     "elapsed": 299,
     "user": {
      "displayName": "JIHAN KIM",
      "userId": "14820648192014375113"
     }
    }
   },
   "outputs": [],
   "source": [
    "def exam1(a):\n",
    "    if(a%2 == 0):\n",
    "        b= \"짝\"\n",
    "        return b\n",
    "    else: \n",
    "        b= \"홀\"\n",
    "        return b"
   ]
  },
  {
   "cell_type": "code",
   "source": [
    "def exam2(a):\n",
    "    b = []\n",
    "    for i in a:\n",
    "        if i not in b:\n",
    "            b.append(i)\n",
    "    return b"
   ],
   "metadata": {
    "id": "RXPdlOZng1fa",
    "executionInfo": {
     "status": "ok",
     "timestamp": 1654702784324,
     "user_tz": -540,
     "elapsed": 282,
     "user": {
      "displayName": "JIHAN KIM",
      "userId": "14820648192014375113"
     }
    }
   },
   "execution_count": 19,
   "outputs": []
  },
  {
   "cell_type": "code",
   "source": [
    "def exam3(a):\n",
    "    b = []\n",
    "    for i in range(1,10):\n",
    "        b.append(a*i)\n",
    "    return b"
   ],
   "metadata": {
    "id": "fI78OLIRhlZ3",
    "executionInfo": {
     "status": "ok",
     "timestamp": 1654703063529,
     "user_tz": -540,
     "elapsed": 267,
     "user": {
      "displayName": "JIHAN KIM",
      "userId": "14820648192014375113"
     }
    }
   },
   "execution_count": 27,
   "outputs": []
  },
  {
   "cell_type": "code",
   "source": [
    "def exam4(a):\n",
    "    phones ={\"S5\":2014, \"S7\":2016, \"note8\":2017, \"S9\":2018, \"S10\":2019}\n",
    "    b = phones.get(a)\n",
    "    return b"
   ],
   "metadata": {
    "id": "2Esv-pdqkmPa",
    "executionInfo": {
     "status": "ok",
     "timestamp": 1654703148313,
     "user_tz": -540,
     "elapsed": 273,
     "user": {
      "displayName": "JIHAN KIM",
      "userId": "14820648192014375113"
     }
    }
   },
   "execution_count": 30,
   "outputs": []
  },
  {
   "cell_type": "code",
   "source": [
    "def exam5(a):\n",
    "    if(a[7] == '1'):\n",
    "        b =\"남성\"\n",
    "        return b\n",
    "    elif(a[7] == '2'):\n",
    "        b =\"여성\"\n",
    "        return b"
   ],
   "metadata": {
    "id": "fPNJiMDJlUGi",
    "executionInfo": {
     "status": "ok",
     "timestamp": 1654703196189,
     "user_tz": -540,
     "elapsed": 266,
     "user": {
      "displayName": "JIHAN KIM",
      "userId": "14820648192014375113"
     }
    }
   },
   "execution_count": 33,
   "outputs": []
  },
  {
   "cell_type": "code",
   "source": [
    "def exam6(a):\n",
    "    b=[]\n",
    "    for i in a:\n",
    "        if(i%2 == 0):\n",
    "            continue\n",
    "        else:\n",
    "            b.append(i)\n",
    "    return b       "
   ],
   "metadata": {
    "id": "yopbpRYnm6bS",
    "executionInfo": {
     "status": "ok",
     "timestamp": 1654703707723,
     "user_tz": -540,
     "elapsed": 328,
     "user": {
      "displayName": "JIHAN KIM",
      "userId": "14820648192014375113"
     }
    }
   },
   "execution_count": 65,
   "outputs": []
  },
  {
   "cell_type": "code",
   "source": [
    "def exam7(a):\n",
    "    for i in a:\n",
    "        if (i == '0' or i =='1'):\n",
    "            continue\n",
    "        else:\n",
    "            return False\n",
    "    return True"
   ],
   "metadata": {
    "id": "jsX6q2PXpPd6",
    "executionInfo": {
     "status": "ok",
     "timestamp": 1654703363096,
     "user_tz": -540,
     "elapsed": 383,
     "user": {
      "displayName": "JIHAN KIM",
      "userId": "14820648192014375113"
     }
    }
   },
   "execution_count": 42,
   "outputs": []
  },
  {
   "cell_type": "code",
   "source": [
    "def exam8(a):\n",
    "    b =[]\n",
    "    for i in a:\n",
    "        if(i >= 0):\n",
    "            b.append(i)\n",
    "        else:\n",
    "            b.append(-i)\n",
    "    return b"
   ],
   "metadata": {
    "id": "CGZWiCb2rO4S",
    "executionInfo": {
     "status": "ok",
     "timestamp": 1654703460620,
     "user_tz": -540,
     "elapsed": 287,
     "user": {
      "displayName": "JIHAN KIM",
      "userId": "14820648192014375113"
     }
    }
   },
   "execution_count": 49,
   "outputs": []
  },
  {
   "cell_type": "code",
   "source": [
    "def exam9(a):\n",
    "    b=a.replace(a[9:],\"####\")\n",
    "    return b\n"
   ],
   "metadata": {
    "id": "5yenc93Jr6aM",
    "executionInfo": {
     "status": "ok",
     "timestamp": 1654703522826,
     "user_tz": -540,
     "elapsed": 264,
     "user": {
      "displayName": "JIHAN KIM",
      "userId": "14820648192014375113"
     }
    }
   },
   "execution_count": 54,
   "outputs": []
  },
  {
   "cell_type": "code",
   "source": [
    "def exam10(a):\n",
    "    can_poll = a #투표리스트 보존\n",
    "    can_list = list(set(a)) #후보자를 중복제거하고 리스트화\n",
    "    can_dic ={} # 투표결과 딕셔너리\n",
    "    victory = can_list[0] # 후보자 초기화\n",
    "    \n",
    "    for i in can_list: # 후보자 딕셔너리 초기화\n",
    "        can_dic[i] = 0\n",
    "    for j in can_poll: #딕션너리에 투표결과 반영\n",
    "        can_dic[j] +=1\n",
    "    for z in can_list:  # 투표값 중 가장 큰 후보자 선정\n",
    "        for x in can_list:\n",
    "            if(can_dic[x]>can_dic[z]):\n",
    "                victory = x\n",
    "    return victory\n"
   ],
   "metadata": {
    "id": "kNLF5Qj5vxp0",
    "executionInfo": {
     "status": "ok",
     "timestamp": 1654703724339,
     "user_tz": -540,
     "elapsed": 338,
     "user": {
      "displayName": "JIHAN KIM",
      "userId": "14820648192014375113"
     }
    }
   },
   "execution_count": 67,
   "outputs": []
  }
 ]
}
