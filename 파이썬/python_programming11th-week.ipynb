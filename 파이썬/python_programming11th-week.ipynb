{
 "nbformat": 4,
 "nbformat_minor": 0,
 "metadata": {
  "colab": {
   "name": "python-11th-week.ipynb의 사본",
   "provenance": [
    {
     "file_id": "https://github.com/ykkim77/python-11th-week/blob/main/python_11th_week.ipynb",
     "timestamp": 1654586729443
    }
   ],
   "collapsed_sections": []
  },
  "kernelspec": {
   "name": "python3",
   "display_name": "Python 3"
  },
  "language_info": {
   "name": "python"
  }
 },
 "cells": [
  {
   "cell_type": "markdown",
   "metadata": {
    "id": "zu9cO1_w3fQY"
   },
   "source": [
    "\n",
    "# 클래스 생성자\n",
    "\n"
   ]
  },
  {
   "cell_type": "markdown",
   "metadata": {
    "id": "mNShx2tY9GNd"
   },
   "source": [
    "**생성자 정의**"
   ]
  },
  {
   "cell_type": "code",
   "metadata": {
    "id": "dcSt8UY41bS7"
   },
   "source": [
    "class Country:\n",
    "    name = '국가명'\n",
    "    population = '인구'\n",
    "    capital = '수도'\n",
    "    calling_code = '국가 전화번호'\n",
    "\n",
    "    def __init__(self,name,population, capital):\n",
    "        print(\"init class\")\n",
    "        self.name = name\n",
    "        self.population = population\n",
    "        self.capital = capital\n",
    "\n",
    "    def show(self):\n",
    "        print(\"국가명은 : %s 입니다.\"%self.name)\n",
    "        print(\"인구는 : %s명 입니다.\"%self.population)\n",
    "        print(\"수도는 : %s 입니다.\" %self.capital)\n",
    "        print(\"국가 전화번호는 : %s 입니다.\" %self.calling_code)\n",
    "    \n",
    "    "
   ],
   "execution_count": null,
   "outputs": []
  },
  {
   "cell_type": "markdown",
   "metadata": {
    "id": "Bd-loVey9OhV"
   },
   "source": [
    "**생성자의 사용**"
   ]
  },
  {
   "cell_type": "markdown",
   "metadata": {
    "id": "xGOhrr5X9rOR"
   },
   "source": [
    "생성자 parameter 개수를 맞추지 못할 경우--- 에러 발생!!!"
   ]
  },
  {
   "cell_type": "code",
   "metadata": {
    "colab": {
     "base_uri": "https://localhost:8080/",
     "height": 162
    },
    "id": "wf40hTv69Nu6",
    "outputId": "287429d0-17c5-40fe-ce37-c9321ecd1d00"
   },
   "source": [
    "korea = Country()"
   ],
   "execution_count": null,
   "outputs": [
    {
     "output_type": "error",
     "ename": "TypeError",
     "evalue": "ignored",
     "traceback": [
      "\u001B[0;31m---------------------------------------------------------------------------\u001B[0m",
      "\u001B[0;31mTypeError\u001B[0m                                 Traceback (most recent call last)",
      "\u001B[0;32m<ipython-input-4-54eaa560c607>\u001B[0m in \u001B[0;36m<module>\u001B[0;34m()\u001B[0m\n\u001B[0;32m----> 1\u001B[0;31m \u001B[0mkorea\u001B[0m \u001B[0;34m=\u001B[0m \u001B[0mCountry\u001B[0m\u001B[0;34m(\u001B[0m\u001B[0;34m)\u001B[0m\u001B[0;34m\u001B[0m\u001B[0;34m\u001B[0m\u001B[0m\n\u001B[0m",
      "\u001B[0;31mTypeError\u001B[0m: __init__() missing 3 required positional arguments: 'name', 'population', and 'capital'"
     ]
    }
   ]
  },
  {
   "cell_type": "markdown",
   "metadata": {
    "id": "2bsk9xsu-3kw"
   },
   "source": [
    "생성자 parameter 규칙을 맞추며 클래스 객체화"
   ]
  },
  {
   "cell_type": "code",
   "metadata": {
    "colab": {
     "base_uri": "https://localhost:8080/"
    },
    "id": "XWnaX5B8_qqt",
    "outputId": "27d098f6-0cbd-46dd-9db0-4f2aa2abad1e"
   },
   "source": [
    "korea = Country(\"대한민국\",50000000,\"서울\")"
   ],
   "execution_count": null,
   "outputs": [
    {
     "output_type": "stream",
     "text": [
      "init class\n"
     ],
     "name": "stdout"
    }
   ]
  },
  {
   "cell_type": "code",
   "metadata": {
    "colab": {
     "base_uri": "https://localhost:8080/"
    },
    "id": "p0IGPrUIAhzk",
    "outputId": "978f448e-8039-43ad-9a62-4b40b3309179"
   },
   "source": [
    "korea.show()"
   ],
   "execution_count": null,
   "outputs": [
    {
     "output_type": "stream",
     "text": [
      "국가명은 : 대한민국 입니다.\n",
      "인구는 : 50000000명 입니다.\n",
      "수도는 : 서울 입니다.\n",
      "국가 전화번호는 : 국가 전화번호 입니다.\n"
     ],
     "name": "stdout"
    }
   ]
  },
  {
   "cell_type": "markdown",
   "metadata": {
    "id": "cgMionBOnB4T"
   },
   "source": []
  },
  {
   "cell_type": "code",
   "metadata": {
    "id": "1gQQd1-VDh1Y"
   },
   "source": [
    "korea.calling_code = 82"
   ],
   "execution_count": null,
   "outputs": []
  },
  {
   "cell_type": "code",
   "metadata": {
    "colab": {
     "base_uri": "https://localhost:8080/"
    },
    "id": "j-ALYJtlDm9V",
    "outputId": "607d253c-7dc8-4a91-c14f-2bc5fb75fa93"
   },
   "source": [
    "korea.show()"
   ],
   "execution_count": null,
   "outputs": [
    {
     "output_type": "stream",
     "text": [
      "국가명은 : 대한민국 입니다.\n",
      "인구는 : 50000000명 입니다.\n",
      "수도는 : 서울 입니다.\n",
      "국가 전화번호는 : 82 입니다.\n"
     ],
     "name": "stdout"
    }
   ]
  },
  {
   "cell_type": "markdown",
   "metadata": {
    "id": "oSsg32zsFAZU"
   },
   "source": [
    "# 클래스 상속"
   ]
  },
  {
   "cell_type": "markdown",
   "metadata": {
    "id": "pbuGU-GXGzux"
   },
   "source": [
    "클래스 상속 및 정의"
   ]
  },
  {
   "cell_type": "code",
   "metadata": {
    "id": "4r8t-fv5FCcN"
   },
   "source": [
    "class Korea(Country):\n",
    "    independence_fighter = []\n",
    "  \n",
    "    def add_independence_fighter(self, name):\n",
    "        self.independence_fighter.append(name)\n",
    "\n",
    "    def show_independence_fighter(self):\n",
    "        print(self.independence_fighter)\n",
    "\n",
    "    def show(self):     # 메서드 오버라이딩\n",
    "        super().show()\n",
    "        print(\"우리나라의 독립운동가 : \",self.independence_fighter)"
   ],
   "execution_count": null,
   "outputs": []
  },
  {
   "cell_type": "code",
   "metadata": {
    "colab": {
     "base_uri": "https://localhost:8080/"
    },
    "id": "pFLLrTpPIWq1",
    "outputId": "3696f8d7-5bf2-473f-d6eb-b7c3345096d5"
   },
   "source": [
    "a = Korea(\"대한민국\",50000000,\"서울\")\n",
    "a.add_independence_fighter(\"유관순\")\n",
    "a.show()"
   ],
   "execution_count": null,
   "outputs": [
    {
     "output_type": "stream",
     "text": [
      "init class\n",
      "국가명은 : 대한민국 입니다.\n",
      "인구는 : 50000000명 입니다.\n",
      "수도는 : 서울 입니다.\n",
      "국가 전화번호는 : 국가 번호 입니다.\n",
      "우리나라의 독립운동가 :  ['유관순']\n"
     ],
     "name": "stdout"
    }
   ]
  },
  {
   "cell_type": "markdown",
   "metadata": {
    "id": "kB2hDkPhJEkW"
   },
   "source": [
    "생성자 함수의 오버라이딩"
   ]
  },
  {
   "cell_type": "code",
   "metadata": {
    "id": "9rHclm03JMTm"
   },
   "source": [
    "class Korea(Country):\n",
    "    independence_fighter = []\n",
    "  \n",
    "    def __init__(self):\n",
    "        self.name = \"대한민국\"\n",
    "        self.population = 50000000\n",
    "        self.capital = \"서울\"\n",
    "\n",
    "    \n",
    "    def add_independence_fighter(self, name):\n",
    "        self.independence_fighter.append(name)\n",
    "\n",
    "    def show_independence_fighter(self):\n",
    "        print(self.independence_fighter)\n",
    "\n",
    "    def show(self):     # 메서드 오버라이딩\n",
    "        super().show()\n",
    "        print(\"우리나라의 독립운동가 : \",self.independence_fighter)"
   ],
   "execution_count": null,
   "outputs": []
  },
  {
   "cell_type": "code",
   "metadata": {
    "colab": {
     "base_uri": "https://localhost:8080/"
    },
    "id": "Wk7dU9vFJft9",
    "outputId": "be98a8f5-eeae-476f-bc07-c55f2e1479a3"
   },
   "source": [
    "a = Korea()\n",
    "a.add_independence_fighter(\"유관순\")\n",
    "a.add_independence_fighter(\"안중근\")\n",
    "a.show()"
   ],
   "execution_count": null,
   "outputs": [
    {
     "output_type": "stream",
     "text": [
      "국가명은 : 대한민국 입니다.\n",
      "인구는 : 50000000명 입니다.\n",
      "수도는 : 서울 입니다.\n",
      "국가 전화번호는 : 국가 번호 입니다.\n",
      "우리나라의 독립운동가 :  ['유관순', '유관순', '안중근']\n"
     ],
     "name": "stdout"
    }
   ]
  },
  {
   "cell_type": "code",
   "metadata": {
    "id": "FnUZCCtLnHts"
   },
   "source": [
    "class USA(Country):\n",
    "    state = []\n",
    "\n",
    "    def __init__(self):\n",
    "        self.name = \"미국\"\n",
    "        self.population = 900000000\n",
    "        self.capital = \"Washington\"\n",
    "\n",
    "    def add_state(self, state):\n",
    "        self.state.append(state)\n",
    "\n",
    "    def show(self):\n",
    "        super().show()"
   ],
   "execution_count": null,
   "outputs": []
  },
  {
   "cell_type": "code",
   "metadata": {
    "colab": {
     "base_uri": "https://localhost:8080/"
    },
    "id": "ZIhvXeEWp_50",
    "outputId": "f179cc25-63dc-4a25-b85d-2c3525c18c4a"
   },
   "source": [
    "a = USA()\n",
    "a.show()"
   ],
   "execution_count": null,
   "outputs": [
    {
     "output_type": "stream",
     "text": [
      "국가명은 : 미국 입니다.\n",
      "인구는 : 900000000명 입니다.\n",
      "수도는 : Washington 입니다.\n",
      "국가 전화번호는 : 국가 번호 입니다.\n"
     ],
     "name": "stdout"
    }
   ]
  }
 ]
}
