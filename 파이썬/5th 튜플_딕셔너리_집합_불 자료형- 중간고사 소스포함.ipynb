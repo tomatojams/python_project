{
 "nbformat": 4,
 "nbformat_minor": 0,
 "metadata": {
  "colab": {
   "name": "5th 튜플_딕셔너리_집합_불 자료형- 중간고사 소스포함.ipynb",
   "provenance": [
    {
     "file_id": "https://github.com/ykkim77/python_5th_week/blob/main/python_programming_5th.ipynb",
     "timestamp": 1648961154137
    }
   ],
   "collapsed_sections": []
  },
  "kernelspec": {
   "name": "python3",
   "display_name": "Python 3"
  }
 },
 "cells": [
  {
   "cell_type": "markdown",
   "metadata": {
    "id": "Yjs8VyZ5x3rs"
   },
   "source": [
    "# 튜플 자료형"
   ]
  },
  {
   "cell_type": "markdown",
   "metadata": {
    "id": "sKixoghFVPLI"
   },
   "source": [
    "**튜플 자료형의 정의**"
   ]
  },
  {
   "cell_type": "code",
   "metadata": {
    "colab": {
     "base_uri": "https://localhost:8080/"
    },
    "id": "qzJfifOWyM-i",
    "outputId": "c2aeb637-6211-4768-ae4d-7321b7d7ce20",
    "executionInfo": {
     "status": "ok",
     "timestamp": 1654588337997,
     "user_tz": -540,
     "elapsed": 14,
     "user": {
      "displayName": "JIHAN KIM",
      "userId": "14820648192014375113"
     }
    }
   },
   "source": [
    "\n",
    "t1 = ()\n",
    "t2 = (1.)\n",
    "t3 = (1, 2, 3)\n",
    "t4 = 1, 2, 3\n",
    "\n",
    "print(t1,t2,t3,t4)"
   ],
   "execution_count": null,
   "outputs": [
    {
     "output_type": "stream",
     "name": "stdout",
     "text": [
      "() 1.0 (1, 2, 3) (1, 2, 3)\n"
     ]
    }
   ]
  },
  {
   "cell_type": "markdown",
   "metadata": {
    "id": "TavYy4tlVo9n"
   },
   "source": [
    "**튜플 데이터 삭제를 시도한다면?**"
   ]
  },
  {
   "cell_type": "code",
   "metadata": {
    "colab": {
     "base_uri": "https://localhost:8080/",
     "height": 190
    },
    "id": "bXujKeI9VgjZ",
    "outputId": "92ac0e8e-257b-4bc4-ba77-cba8e77aeb32"
   },
   "source": [
    "t1 = (1,2,'a','b')\n",
    "del t1[0]   # 에러 발생!"
   ],
   "execution_count": null,
   "outputs": [
    {
     "output_type": "error",
     "ename": "TypeError",
     "evalue": "ignored",
     "traceback": [
      "\u001B[0;31m---------------------------------------------------------------------------\u001B[0m",
      "\u001B[0;31mTypeError\u001B[0m                                 Traceback (most recent call last)",
      "\u001B[0;32m<ipython-input-2-e60ebcde2836>\u001B[0m in \u001B[0;36m<module>\u001B[0;34m()\u001B[0m\n\u001B[1;32m      1\u001B[0m \u001B[0mt1\u001B[0m \u001B[0;34m=\u001B[0m \u001B[0;34m(\u001B[0m\u001B[0;36m1\u001B[0m\u001B[0;34m,\u001B[0m\u001B[0;36m2\u001B[0m\u001B[0;34m,\u001B[0m\u001B[0;34m'a'\u001B[0m\u001B[0;34m,\u001B[0m\u001B[0;34m'b'\u001B[0m\u001B[0;34m)\u001B[0m\u001B[0;34m\u001B[0m\u001B[0;34m\u001B[0m\u001B[0m\n\u001B[0;32m----> 2\u001B[0;31m \u001B[0;32mdel\u001B[0m \u001B[0mt1\u001B[0m\u001B[0;34m[\u001B[0m\u001B[0;36m0\u001B[0m\u001B[0;34m]\u001B[0m\u001B[0;34m\u001B[0m\u001B[0;34m\u001B[0m\u001B[0m\n\u001B[0m",
      "\u001B[0;31mTypeError\u001B[0m: 'tuple' object doesn't support item deletion"
     ]
    }
   ]
  },
  {
   "cell_type": "markdown",
   "metadata": {
    "id": "kNsxOzSpWJj_"
   },
   "source": [
    "**튜플 값에 변경을 시도한다면?**"
   ]
  },
  {
   "cell_type": "code",
   "metadata": {
    "colab": {
     "base_uri": "https://localhost:8080/",
     "height": 190
    },
    "id": "MZT5EODhWDqz",
    "outputId": "aeda3300-4bd0-41b3-ca73-44f6ffa0b382"
   },
   "source": [
    "t1 = (1,2,'a','b')\n",
    "t1[0] = 'c'"
   ],
   "execution_count": null,
   "outputs": [
    {
     "output_type": "error",
     "ename": "TypeError",
     "evalue": "ignored",
     "traceback": [
      "\u001B[0;31m---------------------------------------------------------------------------\u001B[0m",
      "\u001B[0;31mTypeError\u001B[0m                                 Traceback (most recent call last)",
      "\u001B[0;32m<ipython-input-3-54d925f8271e>\u001B[0m in \u001B[0;36m<module>\u001B[0;34m()\u001B[0m\n\u001B[1;32m      1\u001B[0m \u001B[0mt1\u001B[0m \u001B[0;34m=\u001B[0m \u001B[0;34m(\u001B[0m\u001B[0;36m1\u001B[0m\u001B[0;34m,\u001B[0m\u001B[0;36m2\u001B[0m\u001B[0;34m,\u001B[0m\u001B[0;34m'a'\u001B[0m\u001B[0;34m,\u001B[0m\u001B[0;34m'b'\u001B[0m\u001B[0;34m)\u001B[0m\u001B[0;34m\u001B[0m\u001B[0;34m\u001B[0m\u001B[0m\n\u001B[0;32m----> 2\u001B[0;31m \u001B[0mt1\u001B[0m\u001B[0;34m[\u001B[0m\u001B[0;36m0\u001B[0m\u001B[0;34m]\u001B[0m \u001B[0;34m=\u001B[0m \u001B[0;34m'c'\u001B[0m\u001B[0;34m\u001B[0m\u001B[0;34m\u001B[0m\u001B[0m\n\u001B[0m",
      "\u001B[0;31mTypeError\u001B[0m: 'tuple' object does not support item assignment"
     ]
    }
   ]
  },
  {
   "cell_type": "markdown",
   "metadata": {
    "id": "Kb-mJnuLWiG7"
   },
   "source": [
    "**인덱싱 다루기**"
   ]
  },
  {
   "cell_type": "code",
   "metadata": {
    "colab": {
     "base_uri": "https://localhost:8080/"
    },
    "id": "g4gcgwwoWnTi",
    "outputId": "dfea9171-21e3-4bf5-9539-74dce416bd6a"
   },
   "source": [
    "t1 = (1,2,'a','b')\n",
    "t1[0]"
   ],
   "execution_count": null,
   "outputs": [
    {
     "output_type": "execute_result",
     "data": {
      "text/plain": [
       "1"
      ]
     },
     "metadata": {
      "tags": []
     },
     "execution_count": 4
    }
   ]
  },
  {
   "cell_type": "markdown",
   "metadata": {
    "id": "vaaIwoXSXFlf"
   },
   "source": [
    "**슬라이싱 하기**"
   ]
  },
  {
   "cell_type": "code",
   "metadata": {
    "colab": {
     "base_uri": "https://localhost:8080/"
    },
    "id": "pO1IrB_zXH5v",
    "outputId": "ddc4724e-a1bc-417e-a2c1-2e469c334a43"
   },
   "source": [
    "t1 = (1,2,'a','b')\n",
    "t1[1:]"
   ],
   "execution_count": null,
   "outputs": [
    {
     "output_type": "execute_result",
     "data": {
      "text/plain": [
       "(2, 'a', 'b')"
      ]
     },
     "metadata": {
      "tags": []
     },
     "execution_count": 5
    }
   ]
  },
  {
   "cell_type": "markdown",
   "metadata": {
    "id": "WVc4bslKXV7Y"
   },
   "source": [
    "**튜플 더하기와 곱하기**"
   ]
  },
  {
   "cell_type": "code",
   "metadata": {
    "colab": {
     "base_uri": "https://localhost:8080/"
    },
    "id": "VdpFAinRXYf5",
    "outputId": "54042d49-59df-4e2d-e90b-447744575993"
   },
   "source": [
    "t2 = (3, 4)\n",
    "t1+t2"
   ],
   "execution_count": null,
   "outputs": [
    {
     "output_type": "execute_result",
     "data": {
      "text/plain": [
       "(1, 2, 'a', 'b', 3, 4)"
      ]
     },
     "metadata": {
      "tags": []
     },
     "execution_count": 6
    }
   ]
  },
  {
   "cell_type": "markdown",
   "metadata": {
    "id": "TpKxAFkhXeAx"
   },
   "source": [
    "**튜플 길이 구하기**"
   ]
  },
  {
   "cell_type": "code",
   "metadata": {
    "colab": {
     "base_uri": "https://localhost:8080/"
    },
    "id": "dPqIhXQxXfwL",
    "outputId": "4a7156db-3851-4210-ea22-9e72d898df2d"
   },
   "source": [
    "t1 = (1,2,'a','b')\n",
    "len(t1)"
   ],
   "execution_count": null,
   "outputs": [
    {
     "output_type": "execute_result",
     "data": {
      "text/plain": [
       "4"
      ]
     },
     "metadata": {
      "tags": []
     },
     "execution_count": 8
    }
   ]
  },
  {
   "cell_type": "markdown",
   "metadata": {
    "id": "tpTATKp9Xp8k"
   },
   "source": [
    "**튜플을 적용하여 온라인 거래 명세서 만들기**"
   ]
  },
  {
   "cell_type": "code",
   "metadata": {
    "colab": {
     "base_uri": "https://localhost:8080/"
    },
    "id": "iwrVNM50Jb0t",
    "outputId": "6bbea19b-d5f2-4bc8-ac5b-9b4984e3ad31"
   },
   "source": [
    "transaction1001 = (\"파이썬 코딩 길잡이\", \"데이터베이스론\", \"JAVA\")\n",
    "print(\"3월 1일 주문 송장 : \", transaction1001)\n",
    "\n",
    "transaction1002 = (\"요리비법\", \"영화평론\", \"헤리포터\")\n",
    "print(\"3월 15일 주문 송장 : \", transaction1002)\n"
   ],
   "execution_count": null,
   "outputs": [
    {
     "output_type": "stream",
     "text": [
      "3월 1일 주문 송장 :  ('파이썬 코딩 길잡이', '데이터베이스론', 'JAVA')\n",
      "3월 15일 주문 송장 :  ('요리비법', '영화평론', '헤리포터')\n"
     ],
     "name": "stdout"
    }
   ]
  },
  {
   "cell_type": "markdown",
   "metadata": {
    "id": "mSvbjEeBYJ6f"
   },
   "source": [
    "# 딕셔너리"
   ]
  },
  {
   "cell_type": "markdown",
   "metadata": {
    "id": "CgEfrnJsYOVs"
   },
   "source": [
    "**딕셔너리의 선언**"
   ]
  },
  {
   "cell_type": "code",
   "metadata": {
    "colab": {
     "base_uri": "https://localhost:8080/"
    },
    "id": "Zuvel-elYQ6R",
    "outputId": "9bb972ad-353f-44bd-c12b-35322bcb41b2"
   },
   "source": [
    "dic = {'name':'pey', 'age':'25','birth':'0328'}\n",
    "print(dic)\n",
    "a = {1:'hi'}ㅏ\n",
    "print(a)\n",
    "b = {'a':[1,2,3]}\n",
    "print(b)"
   ],
   "execution_count": null,
   "outputs": [
    {
     "output_type": "stream",
     "text": [
      "{'name': 'pey', 'age': '25', 'birth': '0328'}\n",
      "{1: 'hi'}\n",
      "{'a': [1, 2, 3]}\n"
     ],
     "name": "stdout"
    }
   ]
  },
  {
   "cell_type": "markdown",
   "metadata": {
    "id": "OsqVOUOWY3H7"
   },
   "source": [
    "**딕셔너리 쌍 추가하기**\n",
    "\n",
    "\n"
   ]
  },
  {
   "cell_type": "code",
   "metadata": {
    "colab": {
     "base_uri": "https://localhost:8080/"
    },
    "id": "OL1dWnpZPun5",
    "outputId": "c8be058a-659a-4e09-afb0-b46c37a35ebb",
    "executionInfo": {
     "status": "ok",
     "timestamp": 1654588545645,
     "user_tz": -540,
     "elapsed": 602,
     "user": {
      "displayName": "JIHAN KIM",
      "userId": "14820648192014375113"
     }
    }
   },
   "source": [
    "a = {1: 'a'}\n",
    "a['a'] = 'b'\n",
    "print(a)\n",
    "\n",
    "a['name'] = 'pey'\n",
    "print(a)\n"
   ],
   "execution_count": null,
   "outputs": [
    {
     "output_type": "stream",
     "name": "stdout",
     "text": [
      "{1: 'a', 'a': 'b'}\n",
      "{1: 'a', 'a': 'b', 'name': 'pey'}\n"
     ]
    }
   ]
  },
  {
   "cell_type": "markdown",
   "metadata": {
    "id": "tfMCSMHgZCVo"
   },
   "source": [
    "**딕셔너리 key 값이 1인것을 찾아 삭제**"
   ]
  },
  {
   "cell_type": "code",
   "metadata": {
    "colab": {
     "base_uri": "https://localhost:8080/"
    },
    "id": "c-bHiZlsZFQl",
    "outputId": "5ec3f0e9-6ce8-4c33-aa84-1520415a3c36",
    "executionInfo": {
     "status": "ok",
     "timestamp": 1654588579748,
     "user_tz": -540,
     "elapsed": 608,
     "user": {
      "displayName": "JIHAN KIM",
      "userId": "14820648192014375113"
     }
    }
   },
   "source": [
    "del a[1]\n",
    "print(a)"
   ],
   "execution_count": null,
   "outputs": [
    {
     "output_type": "stream",
     "name": "stdout",
     "text": [
      "{'a': 'b', 'name': 'pey'}\n"
     ]
    }
   ]
  },
  {
   "cell_type": "markdown",
   "metadata": {
    "id": "jKzvkrmsZemf"
   },
   "source": [
    "**딕셔너리에서 key 를 사용해 value 얻기**"
   ]
  },
  {
   "cell_type": "code",
   "source": [
    "score = {'pey':40, 'juliet':99}\n",
    "print(score['pey'])\n"
   ],
   "metadata": {
    "colab": {
     "base_uri": "https://localhost:8080/"
    },
    "id": "1EMmkC6lKlgI",
    "executionInfo": {
     "status": "ok",
     "timestamp": 1654588673030,
     "user_tz": -540,
     "elapsed": 753,
     "user": {
      "displayName": "JIHAN KIM",
      "userId": "14820648192014375113"
     }
    },
    "outputId": "613f62ed-9ad5-421b-fad0-dcdd2995eb04"
   },
   "execution_count": null,
   "outputs": [
    {
     "output_type": "stream",
     "name": "stdout",
     "text": [
      "40\n"
     ]
    }
   ]
  },
  {
   "cell_type": "code",
   "metadata": {
    "id": "dnHq0FMPZe3Z",
    "colab": {
     "base_uri": "https://localhost:8080/"
    },
    "outputId": "4878c30e-28cb-4605-8c6e-cbd64c43ff54"
   },
   "source": [
    "score = {'pey': 40, 'juliet': 99, 'tom': 70}\n",
    "print(score['pey'])\n",
    "print(score['tom'])"
   ],
   "execution_count": null,
   "outputs": [
    {
     "output_type": "stream",
     "text": [
      "40\n",
      "70\n"
     ],
     "name": "stdout"
    }
   ]
  },
  {
   "cell_type": "markdown",
   "metadata": {
    "id": "-nm7oP0NmTqz"
   },
   "source": [
    "**딕셔너리 관련 함수**"
   ]
  },
  {
   "cell_type": "code",
   "metadata": {
    "colab": {
     "base_uri": "https://localhost:8080/"
    },
    "id": "6wsz8g40mZc_",
    "outputId": "3e6483a3-4f71-4287-8dd9-a2fbbcc0c295",
    "executionInfo": {
     "status": "ok",
     "timestamp": 1654588843841,
     "user_tz": -540,
     "elapsed": 623,
     "user": {
      "displayName": "JIHAN KIM",
      "userId": "14820648192014375113"
     }
    }
   },
   "source": [
    "a = {'name': 'pey', 'phone': '01022223333', 'birth':'1118'}     # key 만을 모아서 dict_keys 객체로 반환\n",
    "print(a.keys())\n",
    "\n",
    "b=list(a.keys())  # key를 모아서 리스트로 변환\n",
    "print(b[0],b[1])"
   ],
   "execution_count": null,
   "outputs": [
    {
     "output_type": "stream",
     "name": "stdout",
     "text": [
      "dict_keys(['name', 'phone', 'birth'])\n",
      "name phone\n"
     ]
    }
   ]
  },
  {
   "cell_type": "code",
   "metadata": {
    "colab": {
     "base_uri": "https://localhost:8080/"
    },
    "id": "O4oFXqCbog9d",
    "outputId": "1283e61c-67fe-4b3c-c8f6-6e84e148966c"
   },
   "source": [
    "a.values()    # value 만을 모아서 dict_value 객체로 반환 "
   ],
   "execution_count": null,
   "outputs": [
    {
     "output_type": "execute_result",
     "data": {
      "text/plain": [
       "dict_values(['pey', '01022223333', '1118'])"
      ]
     },
     "metadata": {
      "tags": []
     },
     "execution_count": 8
    }
   ]
  },
  {
   "cell_type": "code",
   "metadata": {
    "colab": {
     "base_uri": "https://localhost:8080/"
    },
    "id": "VDBjwivPor_2",
    "outputId": "36fa99ad-189f-4296-df6e-4f11a95d6587"
   },
   "source": [
    "a.items()     # key와 value 쌍을 튜플로 묶은 값을 모아서 idc_items 객체로 반환환"
   ],
   "execution_count": null,
   "outputs": [
    {
     "output_type": "execute_result",
     "data": {
      "text/plain": [
       "dict_items([('name', 'pey'), ('phone', '01022223333'), ('birth', '1118')])"
      ]
     },
     "metadata": {
      "tags": []
     },
     "execution_count": 9
    }
   ]
  },
  {
   "cell_type": "code",
   "metadata": {
    "colab": {
     "base_uri": "https://localhost:8080/"
    },
    "id": "wU_ZuqySozXg",
    "outputId": "fc8d1ee8-eacf-4cbf-b6b7-b3f9f95f1c09"
   },
   "source": [
    "a.clear()     # 딕셔너리 요소를 모두 삭제.clear()     # 딕셔너리 요소를 모두 삭제\n",
    "print(a)\n"
   ],
   "execution_count": null,
   "outputs": [
    {
     "output_type": "stream",
     "text": [
      "{}\n"
     ],
     "name": "stdout"
    }
   ]
  },
  {
   "cell_type": "markdown",
   "metadata": {
    "id": "q1tVgdgFpIJW"
   },
   "source": [
    "<strong> key 가 딕셔너리 안에 있는지 조사  \n",
    "key가 딕셔너리 안에 존재하면 True, 존재하지 않으면 False를 반환 </strong>"
   ]
  },
  {
   "cell_type": "code",
   "metadata": {
    "colab": {
     "base_uri": "https://localhost:8080/"
    },
    "id": "RZyulTu-pCVM",
    "outputId": "3ff604f6-3f21-43c3-b3e5-dd4f95e8befe"
   },
   "source": [
    "a = {'name': 'pey', 'phone': '01022223333', 'birth':'1118'}   \n",
    "\n",
    "print('name' in a)\n",
    "\n",
    "print('email' in a)\n",
    "\n",
    "print('email' not in a)"
   ],
   "execution_count": null,
   "outputs": [
    {
     "output_type": "stream",
     "text": [
      "True\n",
      "False\n",
      "True\n"
     ],
     "name": "stdout"
    }
   ]
  },
  {
   "cell_type": "markdown",
   "metadata": {
    "id": "gg6bLapqqL2Z"
   },
   "source": [
    "**key 에 대응되는 value를 반환**"
   ]
  },
  {
   "cell_type": "markdown",
   "metadata": {
    "id": "jRvexcRUrRXH"
   },
   "source": []
  },
  {
   "cell_type": "code",
   "metadata": {
    "colab": {
     "base_uri": "https://localhost:8080/"
    },
    "id": "SUBAL1QJqHgY",
    "outputId": "070b9dfb-5c6a-4def-fc99-5f2e2ae7853e",
    "executionInfo": {
     "status": "ok",
     "timestamp": 1654588962628,
     "user_tz": -540,
     "elapsed": 455,
     "user": {
      "displayName": "JIHAN KIM",
      "userId": "14820648192014375113"
     }
    }
   },
   "source": [
    "print(a.get('name'))\n",
    "print(a.get('phone'))"
   ],
   "execution_count": null,
   "outputs": [
    {
     "output_type": "stream",
     "name": "stdout",
     "text": [
      "pey\n",
      "01022223333\n"
     ]
    }
   ]
  },
  {
   "cell_type": "markdown",
   "metadata": {
    "id": "qB6QKbaCrXJs"
   },
   "source": [
    "# 집합 자료형"
   ]
  },
  {
   "cell_type": "markdown",
   "metadata": {
    "id": "pG5msB3xrwcv"
   },
   "source": [
    "**집합의 선언**"
   ]
  },
  {
   "cell_type": "code",
   "metadata": {
    "colab": {
     "base_uri": "https://localhost:8080/"
    },
    "id": "QLpoIkv8oNsl",
    "outputId": "d203a0f6-c7d8-429d-f497-2aba53acc6da"
   },
   "source": [
    "s1 = set([1,2,3])\n",
    "s1"
   ],
   "execution_count": null,
   "outputs": [
    {
     "output_type": "execute_result",
     "data": {
      "text/plain": [
       "{1, 2, 3}"
      ]
     },
     "metadata": {
      "tags": []
     },
     "execution_count": 15
    }
   ]
  },
  {
   "cell_type": "markdown",
   "metadata": {
    "id": "yX4ziU-us-PW"
   },
   "source": [
    "**문자열을 입력하여 집합 선언**"
   ]
  },
  {
   "cell_type": "code",
   "source": [
    "s1= set([1,2,3]) #리스트를 입력해서 집합만듬\n",
    "print(s1)\n",
    "s2 = set(\"Hello\") # 문자열을 입력해서 집합만듬\n",
    "print(s2)"
   ],
   "metadata": {
    "colab": {
     "base_uri": "https://localhost:8080/"
    },
    "id": "PnTVX0z3MRVA",
    "executionInfo": {
     "status": "ok",
     "timestamp": 1654589156160,
     "user_tz": -540,
     "elapsed": 8,
     "user": {
      "displayName": "JIHAN KIM",
      "userId": "14820648192014375113"
     }
    },
    "outputId": "a3785162-2559-499b-da36-6f40f4f841f8"
   },
   "execution_count": null,
   "outputs": [
    {
     "output_type": "stream",
     "name": "stdout",
     "text": [
      "{1, 2, 3}\n",
      "{'e', 'H', 'o', 'l'}\n"
     ]
    }
   ]
  },
  {
   "cell_type": "code",
   "metadata": {
    "id": "OhGy6X4xymx1",
    "colab": {
     "base_uri": "https://localhost:8080/"
    },
    "outputId": "d028478c-52d6-44c1-df61-2df689136a4c"
   },
   "source": [
    "(s2 = set(\"apple\")\n",
    "s2"
   ],
   "execution_count": null,
   "outputs": [
    {
     "output_type": "execute_result",
     "data": {
      "text/plain": [
       "{'a', 'e', 'l', 'p'}"
      ]
     },
     "metadata": {
      "tags": []
     },
     "execution_count": 9
    }
   ]
  },
  {
   "cell_type": "markdown",
   "metadata": {
    "id": "YjP5iOIitF1L"
   },
   "source": [
    "**집합 자료형의 연산**"
   ]
  },
  {
   "cell_type": "code",
   "metadata": {
    "colab": {
     "base_uri": "https://localhost:8080/"
    },
    "id": "Km9tu0_FtFTh",
    "outputId": "337e6cdb-f2b6-41b6-c94e-148c79d0c872"
   },
   "source": [
    "s1 = set([1, 2, 3, 4, 5, 6])\n",
    "s2 = set([4, 5, 6, 7, 8, 9])\n",
    "\n",
    "print(s1 & s2)   # 교집합\n",
    "print(s1 | s2)   # 합집합\n",
    "print(s1 - s2)   # 차집합"
   ],
   "execution_count": null,
   "outputs": [
    {
     "output_type": "stream",
     "text": [
      "{4, 5, 6}\n",
      "{1, 2, 3, 4, 5, 6, 7, 8, 9}\n",
      "{1, 2, 3}\n"
     ],
     "name": "stdout"
    }
   ]
  },
  {
   "cell_type": "markdown",
   "metadata": {
    "id": "vwxjSPFouJHo"
   },
   "source": [
    "**집합 관련 함수**"
   ]
  },
  {
   "cell_type": "code",
   "metadata": {
    "id": "37z6f7ErwdeD",
    "colab": {
     "base_uri": "https://localhost:8080/"
    },
    "outputId": "ef132988-03c9-481f-d128-5d18d67b6099"
   },
   "source": [
    "s1 = set([1, 2, 3])\n",
    "\n",
    "s1.add(4)     # set 자료형에 요소 추가\n",
    "print(s1)\n",
    "s1.remove(2) # set 자료형에 요소 삭제\n",
    "print(s1)\n",
    "s1.update([5,6,7])   # set 자료형에 여러 요소 추가\n",
    "print(s1)   "
   ],
   "execution_count": null,
   "outputs": [
    {
     "output_type": "stream",
     "text": [
      "{1, 2, 3, 4}\n",
      "{1, 3, 4}\n",
      "{1, 3, 4, 5, 6, 7}\n"
     ],
     "name": "stdout"
    }
   ]
  },
  {
   "cell_type": "markdown",
   "metadata": {
    "id": "MFBF6D9xvsU0"
   },
   "source": [
    "# 불 자료형"
   ]
  },
  {
   "cell_type": "code",
   "metadata": {
    "colab": {
     "base_uri": "https://localhost:8080/"
    },
    "id": "_A9Wu_z8vtjN",
    "outputId": "c62ea0be-817e-4c36-ab7a-d30c1bc6fb63"
   },
   "source": [
    " a = True\n",
    " b = False\n",
    "\n",
    "print(type(a))\n",
    "print(type(b))"
   ],
   "execution_count": null,
   "outputs": [
    {
     "output_type": "stream",
     "text": [
      "<class 'bool'>\n",
      "<class 'bool'>\n"
     ],
     "name": "stdout"
    }
   ]
  },
  {
   "cell_type": "markdown",
   "metadata": {
    "id": "NQEJ_USxwIzU"
   },
   "source": [
    "**불 자료형은 데이터가 비어있는 변수에 0을 반환, 값이 있으면 1을 반환함**"
   ]
  },
  {
   "cell_type": "code",
   "metadata": {
    "colab": {
     "base_uri": "https://localhost:8080/"
    },
    "id": "3_gXQSXQwTHb",
    "outputId": "e3fd979a-f176-45da-cd7b-a756532c788c"
   },
   "source": [
    "print(bool(\"python\"))\n",
    "print(bool(\"\"))"
   ],
   "execution_count": null,
   "outputs": [
    {
     "output_type": "stream",
     "text": [
      "True\n",
      "False\n"
     ],
     "name": "stdout"
    }
   ]
  },
  {
   "cell_type": "markdown",
   "metadata": {
    "id": "3fltp3t0MwQZ"
   },
   "source": [
    "# 실습예제"
   ]
  },
  {
   "cell_type": "markdown",
   "metadata": {
    "id": "SL7NjMyNPW_5"
   },
   "source": [
    "<strong> **텍스트 데이터 전처리**<br>다양한 데이터 소스로 부터 주소를 받아 표현할때 몇가지의 경우로 서울을 표현하는지 알아보기 </strong>"
   ]
  },
  {
   "cell_type": "markdown",
   "metadata": {
    "id": "8Y4ixrEwQjU_"
   },
   "source": [
    "문자열 합치기"
   ]
  },
  {
   "cell_type": "code",
   "metadata": {
    "id": "9QaB8C0dnXWn"
   },
   "source": [
    "addr1_str=\"서울시 서울특별시 seoul\"\n",
    "addr2_str=\"서울 Seoul 서울-특별시\"\n",
    "addr3_str= \"서울 서울-시\""
   ],
   "execution_count": null,
   "outputs": []
  },
  {
   "cell_type": "code",
   "metadata": {
    "id": "ytSvXx6nnOCI"
   },
   "source": [
    "addr_str = addr1_str +\" \"+ addr2_str + \" \" + addr3_str"
   ],
   "execution_count": null,
   "outputs": []
  },
  {
   "cell_type": "code",
   "metadata": {
    "colab": {
     "base_uri": "https://localhost:8080/"
    },
    "id": "d6mJjtwfNa12",
    "outputId": "d9c33a75-0751-40be-adcb-508e24bb5f0a",
    "executionInfo": {
     "status": "ok",
     "timestamp": 1654589441359,
     "user_tz": -540,
     "elapsed": 703,
     "user": {
      "displayName": "JIHAN KIM",
      "userId": "14820648192014375113"
     }
    }
   },
   "source": [
    "print(addr_str)   # 합친 문자 확인\n",
    "\n",
    "addr_str=addr_str.lower()\n",
    "\n",
    "print(addr_str)"
   ],
   "execution_count": null,
   "outputs": [
    {
     "output_type": "stream",
     "name": "stdout",
     "text": [
      "서울시 서울특별시 seoul 서울 Seoul 서울-특별시 서울 서울-시\n",
      "서울시 서울특별시 seoul 서울 seoul 서울-특별시 서울 서울-시\n"
     ]
    }
   ]
  },
  {
   "cell_type": "code",
   "metadata": {
    "colab": {
     "base_uri": "https://localhost:8080/"
    },
    "id": "i5LB2yRGmsrM",
    "outputId": "e840cc66-50b0-4d01-e15c-763c564e4e47",
    "executionInfo": {
     "status": "ok",
     "timestamp": 1654589562692,
     "user_tz": -540,
     "elapsed": 617,
     "user": {
      "displayName": "JIHAN KIM",
      "userId": "14820648192014375113"
     }
    }
   },
   "source": [
    "addr_list=addr_str.split() #split함수는 분리후 리스트형으로 변환\n",
    "print(addr_list)\n",
    "print(addr_list[0])\n",
    "\n",
    "len(addr_list)\n",
    "\n",
    "print(set(addr_list)) #set 함수에 리스트를 넣어서 집합을 만듬 함수가 되었으므로 중복제거"
   ],
   "execution_count": null,
   "outputs": [
    {
     "output_type": "stream",
     "name": "stdout",
     "text": [
      "['서울시', '서울특별시', 'seoul', '서울', 'seoul', '서울-특별시', '서울', '서울-시']\n",
      "서울시\n",
      "{'서울-특별시', '서울-시', '서울시', '서울', '서울특별시', 'seoul'}\n"
     ]
    }
   ]
  },
  {
   "cell_type": "code",
   "source": [],
   "metadata": {
    "id": "BrAtoeiQQ7bV"
   },
   "execution_count": null,
   "outputs": []
  },
  {
   "cell_type": "code",
   "source": [
    "a = True\n",
    "b = False\n",
    "c= False\n",
    "d = a or b and c\n",
    "d"
   ],
   "metadata": {
    "colab": {
     "base_uri": "https://localhost:8080/"
    },
    "id": "QZlCYPpBQ8Wj",
    "executionInfo": {
     "status": "ok",
     "timestamp": 1650161120531,
     "user_tz": -540,
     "elapsed": 250,
     "user": {
      "displayName": "JIHAN KIM",
      "userId": "14820648192014375113"
     }
    },
    "outputId": "8631aabb-55bb-4f57-fa0f-3c39a9dc7396"
   },
   "execution_count": null,
   "outputs": [
    {
     "output_type": "execute_result",
     "data": {
      "text/plain": [
       "True"
      ]
     },
     "metadata": {},
     "execution_count": 10
    }
   ]
  },
  {
   "cell_type": "code",
   "source": [
    "count =6\n",
    "while count:\n",
    "    count -=2"
   ],
   "metadata": {
    "id": "UR47LP-JWDM0"
   },
   "execution_count": null,
   "outputs": []
  },
  {
   "cell_type": "code",
   "source": [
    "pin =\"740225-1342128\"\n",
    "if pin[7] == '1':\n",
    "    print('남성')"
   ],
   "metadata": {
    "colab": {
     "base_uri": "https://localhost:8080/"
    },
    "id": "CEgQEq7cW5F4",
    "executionInfo": {
     "status": "ok",
     "timestamp": 1650162679291,
     "user_tz": -540,
     "elapsed": 258,
     "user": {
      "displayName": "JIHAN KIM",
      "userId": "14820648192014375113"
     }
    },
    "outputId": "0cb4733c-c004-4f54-83a7-4ab6a6cf5606"
   },
   "execution_count": null,
   "outputs": [
    {
     "output_type": "stream",
     "name": "stdout",
     "text": [
      "남성\n"
     ]
    }
   ]
  },
  {
   "cell_type": "code",
   "source": [
    "total = 0\n",
    "total +=30\n",
    "total -=20\n",
    "total *=2\n",
    "total"
   ],
   "metadata": {
    "colab": {
     "base_uri": "https://localhost:8080/"
    },
    "id": "xNIy0QlwX8Ul",
    "executionInfo": {
     "status": "ok",
     "timestamp": 1650162942703,
     "user_tz": -540,
     "elapsed": 233,
     "user": {
      "displayName": "JIHAN KIM",
      "userId": "14820648192014375113"
     }
    },
    "outputId": "ffd5ee2d-cd96-434f-dc8a-aefdf50c297e"
   },
   "execution_count": null,
   "outputs": [
    {
     "output_type": "execute_result",
     "data": {
      "text/plain": [
       "20"
      ]
     },
     "metadata": {},
     "execution_count": 18
    }
   ]
  },
  {
   "cell_type": "code",
   "source": [
    "a = \"happy\"\n",
    "c=a[:4] #바로앞 3번까지\n",
    "c"
   ],
   "metadata": {
    "colab": {
     "base_uri": "https://localhost:8080/",
     "height": 35
    },
    "id": "35pX-ObdQ9iw",
    "executionInfo": {
     "status": "ok",
     "timestamp": 1650162983122,
     "user_tz": -540,
     "elapsed": 249,
     "user": {
      "displayName": "JIHAN KIM",
      "userId": "14820648192014375113"
     }
    },
    "outputId": "35391f72-26f8-49da-d25f-74c141dcc24f"
   },
   "execution_count": null,
   "outputs": [
    {
     "output_type": "execute_result",
     "data": {
      "text/plain": [
       "'happ'"
      ],
      "application/vnd.google.colaboratory.intrinsic+json": {
       "type": "string"
      }
     },
     "metadata": {},
     "execution_count": 19
    }
   ]
  },
  {
   "cell_type": "code",
   "source": [
    "2+8**2/2"
   ],
   "metadata": {
    "colab": {
     "base_uri": "https://localhost:8080/"
    },
    "id": "EqkJh2N0YPu_",
    "executionInfo": {
     "status": "ok",
     "timestamp": 1650162998889,
     "user_tz": -540,
     "elapsed": 252,
     "user": {
      "displayName": "JIHAN KIM",
      "userId": "14820648192014375113"
     }
    },
    "outputId": "0316261a-d204-4571-808f-141f473c0c0e"
   },
   "execution_count": null,
   "outputs": [
    {
     "output_type": "execute_result",
     "data": {
      "text/plain": [
       "34.0"
      ]
     },
     "metadata": {},
     "execution_count": 20
    }
   ]
  },
  {
   "cell_type": "code",
   "source": [
    "a=\"100\"\n",
    "b=\"200\"\n",
    "a+b"
   ],
   "metadata": {
    "colab": {
     "base_uri": "https://localhost:8080/",
     "height": 35
    },
    "id": "_72vtQuIYWlv",
    "executionInfo": {
     "status": "ok",
     "timestamp": 1650163033733,
     "user_tz": -540,
     "elapsed": 243,
     "user": {
      "displayName": "JIHAN KIM",
      "userId": "14820648192014375113"
     }
    },
    "outputId": "f1b82ce2-c647-41e0-a6b1-4f506530b068"
   },
   "execution_count": null,
   "outputs": [
    {
     "output_type": "execute_result",
     "data": {
      "text/plain": [
       "'100200'"
      ],
      "application/vnd.google.colaboratory.intrinsic+json": {
       "type": "string"
      }
     },
     "metadata": {},
     "execution_count": 21
    }
   ]
  },
  {
   "cell_type": "code",
   "source": [
    "a=[2,4,6,8]\n",
    "b=[num*3 for num in a if num%3 ==0]\n",
    "b"
   ],
   "metadata": {
    "colab": {
     "base_uri": "https://localhost:8080/"
    },
    "id": "LzGVI7tFYcpA",
    "executionInfo": {
     "status": "ok",
     "timestamp": 1654589895498,
     "user_tz": -540,
     "elapsed": 619,
     "user": {
      "displayName": "JIHAN KIM",
      "userId": "14820648192014375113"
     }
    },
    "outputId": "a30ff62c-5311-4b1c-d6d2-e6d0a1941605"
   },
   "execution_count": 21,
   "outputs": [
    {
     "output_type": "execute_result",
     "data": {
      "text/plain": [
       "[18]"
      ]
     },
     "metadata": {},
     "execution_count": 21
    }
   ]
  },
  {
   "cell_type": "code",
   "source": [
    "a = True\n",
    "b = False\n",
    "c = 0\n",
    "if(a and b):\n",
    "    if c:\n",
    "        print('a')\n",
    "    else:\n",
    "        print('b')\n",
    "else:\n",
    "    if c:\n",
    "        print('c')\n",
    "    else:\n",
    "        print('d')\n",
    "        "
   ],
   "metadata": {
    "colab": {
     "base_uri": "https://localhost:8080/"
    },
    "id": "mJUz2hYrYpIv",
    "executionInfo": {
     "status": "ok",
     "timestamp": 1650163163218,
     "user_tz": -540,
     "elapsed": 233,
     "user": {
      "displayName": "JIHAN KIM",
      "userId": "14820648192014375113"
     }
    },
    "outputId": "09f69377-d3cc-4929-c0b6-1209a88f0b30"
   },
   "execution_count": null,
   "outputs": [
    {
     "output_type": "stream",
     "name": "stdout",
     "text": [
      "d\n"
     ]
    }
   ]
  },
  {
   "cell_type": "code",
   "source": [
    "t1 = (1,2,3,4,5)\n",
    "del t1[1]"
   ],
   "metadata": {
    "colab": {
     "base_uri": "https://localhost:8080/",
     "height": 192
    },
    "id": "Wa2_6OL2ZAuQ",
    "executionInfo": {
     "status": "error",
     "timestamp": 1650163219099,
     "user_tz": -540,
     "elapsed": 232,
     "user": {
      "displayName": "JIHAN KIM",
      "userId": "14820648192014375113"
     }
    },
    "outputId": "ca5e8791-e899-43cd-975c-4d48ae56eded"
   },
   "execution_count": null,
   "outputs": [
    {
     "output_type": "error",
     "ename": "TypeError",
     "evalue": "ignored",
     "traceback": [
      "\u001B[0;31m---------------------------------------------------------------------------\u001B[0m",
      "\u001B[0;31mTypeError\u001B[0m                                 Traceback (most recent call last)",
      "\u001B[0;32m<ipython-input-24-da0a276872cf>\u001B[0m in \u001B[0;36m<module>\u001B[0;34m()\u001B[0m\n\u001B[1;32m      1\u001B[0m \u001B[0mt1\u001B[0m \u001B[0;34m=\u001B[0m \u001B[0;34m(\u001B[0m\u001B[0;36m1\u001B[0m\u001B[0;34m,\u001B[0m\u001B[0;36m2\u001B[0m\u001B[0;34m,\u001B[0m\u001B[0;36m3\u001B[0m\u001B[0;34m,\u001B[0m\u001B[0;36m4\u001B[0m\u001B[0;34m,\u001B[0m\u001B[0;36m5\u001B[0m\u001B[0;34m)\u001B[0m\u001B[0;34m\u001B[0m\u001B[0;34m\u001B[0m\u001B[0m\n\u001B[0;32m----> 2\u001B[0;31m \u001B[0;32mdel\u001B[0m \u001B[0mt1\u001B[0m\u001B[0;34m[\u001B[0m\u001B[0;36m1\u001B[0m\u001B[0;34m]\u001B[0m\u001B[0;34m\u001B[0m\u001B[0;34m\u001B[0m\u001B[0m\n\u001B[0m",
      "\u001B[0;31mTypeError\u001B[0m: 'tuple' object doesn't support item deletion"
     ]
    }
   ]
  },
  {
   "cell_type": "code",
   "source": [
    "a=[10,20,30,40,50]\n",
    "a[-1]"
   ],
   "metadata": {
    "colab": {
     "base_uri": "https://localhost:8080/"
    },
    "id": "hKJCraOBZTJR",
    "executionInfo": {
     "status": "ok",
     "timestamp": 1650163283347,
     "user_tz": -540,
     "elapsed": 239,
     "user": {
      "displayName": "JIHAN KIM",
      "userId": "14820648192014375113"
     }
    },
    "outputId": "4557b52b-4be8-47eb-d6a8-357ad33f91b0"
   },
   "execution_count": null,
   "outputs": [
    {
     "output_type": "execute_result",
     "data": {
      "text/plain": [
       "50"
      ]
     },
     "metadata": {},
     "execution_count": 25
    }
   ]
  },
  {
   "cell_type": "code",
   "source": [
    "a =\"person#@\"\n",
    "a = a.replace('#@','')\n",
    "a"
   ],
   "metadata": {
    "colab": {
     "base_uri": "https://localhost:8080/",
     "height": 35
    },
    "id": "jk7_vXxiaUb4",
    "executionInfo": {
     "status": "ok",
     "timestamp": 1650163733251,
     "user_tz": -540,
     "elapsed": 231,
     "user": {
      "displayName": "JIHAN KIM",
      "userId": "14820648192014375113"
     }
    },
    "outputId": "54397774-3555-4b89-b6e5-35b74766608b"
   },
   "execution_count": null,
   "outputs": [
    {
     "output_type": "execute_result",
     "data": {
      "text/plain": [
       "'person'"
      ],
      "application/vnd.google.colaboratory.intrinsic+json": {
       "type": "string"
      }
     },
     "metadata": {},
     "execution_count": 29
    }
   ]
  },
  {
   "cell_type": "code",
   "source": [
    "a = \"Life is too short, you need python\"\n",
    "\n",
    "if \"wife\" in a:\n",
    "    print(\"wife\")\n",
    "elif \"python\" in a and \"mou\" in a:\n",
    "    print(\"python\")\n",
    "elif \"shirt\" in a:\n",
    "    print(\"need\")\n",
    "else:\n",
    "    print(\"none\")"
   ],
   "metadata": {
    "colab": {
     "base_uri": "https://localhost:8080/"
    },
    "id": "2IBHQpgRbum2",
    "executionInfo": {
     "status": "ok",
     "timestamp": 1650164003806,
     "user_tz": -540,
     "elapsed": 270,
     "user": {
      "displayName": "JIHAN KIM",
      "userId": "14820648192014375113"
     }
    },
    "outputId": "9e56896b-5074-484c-efbe-64e2de438eb7"
   },
   "execution_count": null,
   "outputs": [
    {
     "output_type": "stream",
     "name": "stdout",
     "text": [
      "none\n"
     ]
    }
   ]
  },
  {
   "cell_type": "code",
   "source": [
    "a =[1,2,3]\n",
    "b =[4,5,6,7]\n",
    "\n",
    "for i in a:\n",
    "    for j in b:\n",
    "        print(\"반복\")"
   ],
   "metadata": {
    "colab": {
     "base_uri": "https://localhost:8080/"
    },
    "id": "ZnZP6Ej7cKd_",
    "executionInfo": {
     "status": "ok",
     "timestamp": 1650164050107,
     "user_tz": -540,
     "elapsed": 271,
     "user": {
      "displayName": "JIHAN KIM",
      "userId": "14820648192014375113"
     }
    },
    "outputId": "24dcbbee-340d-4420-abb7-1cc417fc39b2"
   },
   "execution_count": null,
   "outputs": [
    {
     "output_type": "stream",
     "name": "stdout",
     "text": [
      "반복\n",
      "반복\n",
      "반복\n",
      "반복\n",
      "반복\n",
      "반복\n",
      "반복\n",
      "반복\n",
      "반복\n",
      "반복\n",
      "반복\n",
      "반복\n"
     ]
    }
   ]
  },
  {
   "cell_type": "code",
   "source": [
    "for i in range(1,9):\n",
    "    print(\"반복: %d\"%i)"
   ],
   "metadata": {
    "colab": {
     "base_uri": "https://localhost:8080/"
    },
    "id": "8FaJCmH-cFSt",
    "executionInfo": {
     "status": "ok",
     "timestamp": 1650164146939,
     "user_tz": -540,
     "elapsed": 261,
     "user": {
      "displayName": "JIHAN KIM",
      "userId": "14820648192014375113"
     }
    },
    "outputId": "22d8cf1f-3cc5-44ca-830e-3b9bcf103b39"
   },
   "execution_count": null,
   "outputs": [
    {
     "output_type": "stream",
     "name": "stdout",
     "text": [
      "반복: 1\n",
      "반복: 2\n",
      "반복: 3\n",
      "반복: 4\n",
      "반복: 5\n",
      "반복: 6\n",
      "반복: 7\n",
      "반복: 8\n"
     ]
    }
   ]
  }
 ]
}
