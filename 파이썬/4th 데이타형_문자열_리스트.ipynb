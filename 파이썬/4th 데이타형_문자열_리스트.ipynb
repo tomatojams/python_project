{
 "nbformat": 4,
 "nbformat_minor": 0,
 "metadata": {
  "colab": {
   "name": "python programming 4th.ipynb의 사본",
   "provenance": [
    {
     "file_id": "https://github.com/ykkim77/python-4th-week/blob/main/python_programming_4th.ipynb",
     "timestamp": 1648948906679
    }
   ],
   "collapsed_sections": [],
   "toc_visible": true
  },
  "kernelspec": {
   "name": "python3",
   "display_name": "Python 3"
  }
 },
 "cells": [
  {
   "cell_type": "markdown",
   "metadata": {
    "id": "Y6tgumo7j8j2"
   },
   "source": [
    "# 숫자형 Data Type"
   ]
  },
  {
   "cell_type": "markdown",
   "metadata": {
    "id": "2jvr9f1ukCQu"
   },
   "source": [
    "**정수형 데이터 타입**"
   ]
  },
  {
   "cell_type": "code",
   "metadata": {
    "colab": {
     "base_uri": "https://localhost:8080/"
    },
    "id": "MN2rrtklkFdo",
    "outputId": "c6711154-5700-40cf-c9dc-db883e966362",
    "executionInfo": {
     "status": "ok",
     "timestamp": 1654587389740,
     "user_tz": -540,
     "elapsed": 361,
     "user": {
      "displayName": "JIHAN KIM",
      "userId": "14820648192014375113"
     }
    }
   },
   "source": [
    "a = 1    \n",
    "print(\"a = \",a)\n",
    "print(type(a))     # a의 data type을 확인해 보면, int type이라는 것을 확인할 수 있음\n",
    "b = -178\n",
    "print(\"b = \",b) \n",
    "print(type(b))     # b의 data type을 확인해 보면, int type이라는 것을 확인할 수 있음"
   ],
   "execution_count": 2,
   "outputs": [
    {
     "output_type": "stream",
     "name": "stdout",
     "text": [
      "a =  1\n",
      "<class 'int'>\n",
      "b =  -178\n",
      "<class 'int'>\n"
     ]
    }
   ]
  },
  {
   "cell_type": "markdown",
   "metadata": {
    "id": "ETH4BAKmm0xr"
   },
   "source": [
    "**실수형 데이터 타입**"
   ]
  },
  {
   "cell_type": "code",
   "metadata": {
    "colab": {
     "base_uri": "https://localhost:8080/"
    },
    "id": "IrN74LQ9nitx",
    "outputId": "996c2426-0012-41c7-aa71-a234428257f5",
    "executionInfo": {
     "status": "ok",
     "timestamp": 1650157412871,
     "user_tz": -540,
     "elapsed": 10,
     "user": {
      "displayName": "JIHAN KIM",
      "userId": "14820648192014375113"
     }
    }
   },
   "source": [
    "a = 1.2\n",
    "print(\"a = \",a)       \n",
    "print(type(a))           # a의 data type을 확인해 보면, float type이라는 것을 확인할 수 있음\n",
    "\n",
    "b = 4.24E10\n",
    "print(\"b = \",b)\n",
    "print(type(b))          # b의 data type을 확인해 보면, float type이라는 것을 확인할 수 있음\n"
   ],
   "execution_count": null,
   "outputs": [
    {
     "output_type": "stream",
     "name": "stdout",
     "text": [
      "a =  1.2\n",
      "<class 'float'>\n",
      "b =  42400000000.0\n",
      "<class 'float'>\n"
     ]
    }
   ]
  },
  {
   "cell_type": "markdown",
   "metadata": {
    "id": "obSdctoirpgm"
   },
   "source": [
    "**8진수(octal)**"
   ]
  },
  {
   "cell_type": "code",
   "metadata": {
    "colab": {
     "base_uri": "https://localhost:8080/"
    },
    "id": "QNCeLZQqrtrQ",
    "outputId": "8e1b6d9c-1976-4866-8e17-bca65760218f",
    "executionInfo": {
     "status": "ok",
     "timestamp": 1648949137684,
     "user_tz": -540,
     "elapsed": 477,
     "user": {
      "displayName": "JIHAN KIM",
      "userId": "14820648192014375113"
     }
    }
   },
   "source": [
    "a= 0o177            # a를 8진수로 입력\n",
    "print(a)            # a를 10진수로 출력\n",
    "\n",
    "b = 0x8ff          # b를 16진수로 입력\n",
    "print(b)           # b를 10진수로 출력 "
   ],
   "execution_count": null,
   "outputs": [
    {
     "output_type": "stream",
     "name": "stdout",
     "text": [
      "127\n",
      "2303\n"
     ]
    }
   ]
  },
  {
   "cell_type": "markdown",
   "metadata": {
    "id": "Ers-1R4BtSSq"
   },
   "source": [
    "**사칙 연산이 포함된 숫자**"
   ]
  },
  {
   "cell_type": "code",
   "metadata": {
    "colab": {
     "base_uri": "https://localhost:8080/"
    },
    "id": "qegBH2z5tQHS",
    "outputId": "c0ebe3cc-a4fe-4a1f-fc92-0b260836224a",
    "executionInfo": {
     "status": "ok",
     "timestamp": 1648949164086,
     "user_tz": -540,
     "elapsed": 510,
     "user": {
      "displayName": "JIHAN KIM",
      "userId": "14820648192014375113"
     }
    }
   },
   "source": [
    "a = 3\n",
    "b = 4\n",
    "\n",
    "print (\"a+b = \",a+b)           # 더하기 연산\n",
    "print (\"a*b = \",a*b)           # 곱하기 연산\n",
    "print (\"a/b = \",a/b)           # 나누기 연산\n",
    "print (\"a**b = \",a**b)         # 누승 연산\n",
    "print (\"a//b = \",a//b)\n",
    "print (\"a%b = \",a%b)"
   ],
   "execution_count": null,
   "outputs": [
    {
     "output_type": "stream",
     "name": "stdout",
     "text": [
      "a+b =  7\n",
      "a*b =  12\n",
      "a/b =  0.75\n",
      "a**b =  81\n",
      "a//b =  0\n",
      "a%b =  3\n"
     ]
    }
   ]
  },
  {
   "cell_type": "markdown",
   "metadata": {
    "id": "HSLrBod-vbkV"
   },
   "source": [
    "# 문자열 자료형"
   ]
  },
  {
   "cell_type": "markdown",
   "metadata": {
    "id": "U9ZzeqaFvhJU"
   },
   "source": [
    "문자열 자료형의 다양한 표현 방법"
   ]
  },
  {
   "cell_type": "code",
   "metadata": {
    "colab": {
     "base_uri": "https://localhost:8080/"
    },
    "id": "bs7JBFvgvgbg",
    "outputId": "8257d841-4e85-4aa9-e78d-9f8cd0827bbb"
   },
   "source": [
    "print(\"Hello Wolrd\")       # \" \" 큰 따옴표로 감싸는 문자열\n",
    "print('Hello Wolrd')       # ' ' 작은 따옴표로 감싸는 문자열\n",
    "print(\"\"\"\n",
    "      python is fun       \n",
    "      \"\"\" )                # \"\"\" 큰 따옴표 3개로 감싸는 문자열\n",
    "print('''\n",
    "      Life is too short, You need python       \n",
    "      ''' )                # ''' 작은 따옴표 3개로 감싸는 문자열      "
   ],
   "execution_count": null,
   "outputs": [
    {
     "output_type": "stream",
     "text": [
      "Hello Wolrd\n",
      "Hello Wolrd\n",
      "\n",
      "      python is fun       \n",
      "      \n",
      "\n",
      "      Life is too short, You need python       \n",
      "      \n"
     ],
     "name": "stdout"
    }
   ]
  },
  {
   "cell_type": "markdown",
   "metadata": {
    "id": "4AR9j9pjxeI9"
   },
   "source": [
    "**문자열에서 줄바꿈을 표현하는 방법**"
   ]
  },
  {
   "cell_type": "code",
   "metadata": {
    "colab": {
     "base_uri": "https://localhost:8080/"
    },
    "id": "6eWodpcVxikg",
    "outputId": "f7aa1714-762f-41a7-be34-2e6354357590"
   },
   "source": [
    "multiline = \"Life is too short\\n You need python\"     # \\n 기호는 줄바꿈을 의미한다.\n",
    "print(multiline)\n",
    "multiline = \"\"\"\n",
    "Life is too short\n",
    "You need python\n",
    "\"\"\"                                 # \"\"\" 기호는 문자열의 줄바꿈을 인식하여 데이터를 저장\n",
    "print(multiline)\n",
    "multiline = '''\n",
    "Life is too short\n",
    "You need python\n",
    "'''                                 # ''' 기호는 문자열의 줄바꿈을 인식하여 데이터를 저장\n",
    "print(multiline)"
   ],
   "execution_count": null,
   "outputs": [
    {
     "output_type": "stream",
     "text": [
      "Life is too short\n",
      " You need python\n",
      "\n",
      "Life is too short\n",
      "You need python\n",
      "\n",
      "\n",
      "Life is too short\n",
      "You need python\n",
      "\n"
     ],
     "name": "stdout"
    }
   ]
  },
  {
   "cell_type": "markdown",
   "metadata": {
    "id": "_sv2Lbcoy2X7"
   },
   "source": [
    "**문자열 연산**"
   ]
  },
  {
   "cell_type": "code",
   "metadata": {
    "colab": {
     "base_uri": "https://localhost:8080/"
    },
    "id": "u--TTqGay5I5",
    "outputId": "b5ffb7bd-10bb-4abb-99eb-929ee831eafa",
    "executionInfo": {
     "status": "ok",
     "timestamp": 1654587465820,
     "user_tz": -540,
     "elapsed": 598,
     "user": {
      "displayName": "JIHAN KIM",
      "userId": "14820648192014375113"
     }
    }
   },
   "source": [
    "head = \"python\"\n",
    "tail = \" is fun\"\n",
    "\n",
    "print(head + tail)    # 문자열 연결하기\n",
    "\n",
    "print(head * 3)      # 문자열 곱하기\n",
    "\n",
    "a = \"life is too short\"\n",
    "len(a)                    # 문자열 길이 구하기"
   ],
   "execution_count": 3,
   "outputs": [
    {
     "output_type": "stream",
     "name": "stdout",
     "text": [
      "python is fun\n",
      "pythonpythonpython\n"
     ]
    },
    {
     "output_type": "execute_result",
     "data": {
      "text/plain": [
       "17"
      ]
     },
     "metadata": {},
     "execution_count": 3
    }
   ]
  },
  {
   "cell_type": "code",
   "source": [
    "head = \"python\"\n",
    "tail = \"good\"\n",
    "print(head + tail)"
   ],
   "metadata": {
    "colab": {
     "base_uri": "https://localhost:8080/"
    },
    "id": "osToVZLKGT2n",
    "executionInfo": {
     "status": "ok",
     "timestamp": 1654587496238,
     "user_tz": -540,
     "elapsed": 341,
     "user": {
      "displayName": "JIHAN KIM",
      "userId": "14820648192014375113"
     }
    },
    "outputId": "8011f010-22bd-4ef9-83fd-102e8caac02c"
   },
   "execution_count": 4,
   "outputs": [
    {
     "output_type": "stream",
     "name": "stdout",
     "text": [
      "pythongood\n"
     ]
    }
   ]
  },
  {
   "cell_type": "markdown",
   "metadata": {
    "id": "0N0_fmsqzXfz"
   },
   "source": [
    "**문자열 인덱싱**"
   ]
  },
  {
   "cell_type": "code",
   "metadata": {
    "colab": {
     "base_uri": "https://localhost:8080/"
    },
    "id": "mgWwWt0U2VsO",
    "outputId": "dd694091-3385-466b-a368-102de7e8b0cf",
    "executionInfo": {
     "status": "ok",
     "timestamp": 1648949397891,
     "user_tz": -540,
     "elapsed": 494,
     "user": {
      "displayName": "JIHAN KIM",
      "userId": "14820648192014375113"
     }
    }
   },
   "source": [
    "a = \"Life is tooshort, You need python\"\n",
    "\n",
    "print(a[0],a[1],a[2],a[3],a[4])  # 문자열의 인덱싱 접근\n",
    "\n",
    "print(a[-1],a[-2])    # 문자열 인덱싱을 -1로 접근\n",
    "\n",
    "print(a[0:4])    # 문자열 슬라이싱\n",
    "\n",
    "\n",
    "a = \"20010331Rainy\"\n",
    "print(a[:8])    #  처음부터 8 전까지의 문자열을 뽑아냄\n",
    "print(a[8:])    #  8부터 끝까지의 문자열을 뽑아냄"
   ],
   "execution_count": null,
   "outputs": [
    {
     "output_type": "stream",
     "name": "stdout",
     "text": [
      "L i f e  \n",
      "n o\n",
      "Life\n",
      "20010331\n",
      "Rainy\n"
     ]
    }
   ]
  },
  {
   "cell_type": "code",
   "source": [
    "a = \"I like to get your body\"\n",
    "print(a[0], a[1],a[2])\n",
    "print(a[-1],a[-2])\n",
    "print(a[0:4])"
   ],
   "metadata": {
    "colab": {
     "base_uri": "https://localhost:8080/"
    },
    "id": "HjIwKdbLGe7P",
    "executionInfo": {
     "status": "ok",
     "timestamp": 1654587599242,
     "user_tz": -540,
     "elapsed": 268,
     "user": {
      "displayName": "JIHAN KIM",
      "userId": "14820648192014375113"
     }
    },
    "outputId": "8f28dee9-d906-4b67-976b-a53985d2dc0a"
   },
   "execution_count": 8,
   "outputs": [
    {
     "output_type": "stream",
     "name": "stdout",
     "text": [
      "I   l\n",
      "y d\n",
      "I li\n"
     ]
    }
   ]
  },
  {
   "cell_type": "markdown",
   "metadata": {
    "id": "Q-wDQ1jU4hNy"
   },
   "source": [
    "**문자열 formatting**"
   ]
  },
  {
   "cell_type": "code",
   "source": [
    "number = 3\n",
    "print(\"I eat %d apples\"%number)\n",
    "num = 10\n",
    "day = \"monday\"\n",
    "print(\"I ate %d apples, so I have happy %s\"%(num,day))"
   ],
   "metadata": {
    "colab": {
     "base_uri": "https://localhost:8080/"
    },
    "id": "Gte7zCMtG63R",
    "executionInfo": {
     "status": "ok",
     "timestamp": 1654587739022,
     "user_tz": -540,
     "elapsed": 417,
     "user": {
      "displayName": "JIHAN KIM",
      "userId": "14820648192014375113"
     }
    },
    "outputId": "b280dbae-ac7c-40cd-da1c-25b58b369c94"
   },
   "execution_count": 11,
   "outputs": [
    {
     "output_type": "stream",
     "name": "stdout",
     "text": [
      "I eat 3 apples\n",
      "I ate 10 apples, so I have happy monday\n"
     ]
    }
   ]
  },
  {
   "cell_type": "code",
   "source": [],
   "metadata": {
    "id": "t_XB62S8HZdJ"
   },
   "execution_count": null,
   "outputs": []
  },
  {
   "cell_type": "code",
   "metadata": {
    "colab": {
     "base_uri": "https://localhost:8080/"
    },
    "id": "EZgFXUdi4rOu",
    "outputId": "7a950b44-62ac-4eb5-8e07-b2fc65659ccd"
   },
   "source": [
    "print(\"I eat %d apples\"%3)    # %d는 10진수를 나타냄, 문자열 뒤에 숫자형 %3이 %d에 대치되어 표현\n",
    "number = 3\n",
    "print(\"I eat %d apples\"%number)  # %d는 decimal을 의미한다. 문자열 뒤에 %number 숫자형 변수를 %d에 대입해 문자열에 숫자로 나타낼 때 쓰인다.\n",
    "\n",
    "str_five = \"five\"\n",
    "\n",
    "print(\"I eat %s apples\"%str_five)   # %s 는 string을 의미한다. 문자열 뒤에 %str_five 문자열 변수를 넣어 문자열 안에 %s 에 대입되도록 한다.\n",
    "\n",
    "\n",
    "\n",
    "num = 10\n",
    "day = \"three\"\n",
    "\n",
    "print(\"I ate %d apples, so I was sick for %s days.\"%(num,day))"
   ],
   "execution_count": null,
   "outputs": [
    {
     "output_type": "stream",
     "text": [
      "I eat 3 apples\n",
      "I eat 3 apples\n",
      "I eat five apples\n",
      "I ate 10 apples, so I was sick for three days.\n"
     ],
     "name": "stdout"
    }
   ]
  },
  {
   "cell_type": "markdown",
   "metadata": {
    "id": "c01gxFRRz3gh"
   },
   "source": [
    "**정렬과 공백**"
   ]
  },
  {
   "cell_type": "code",
   "source": [
    "print(\"%-10sjane\"%\"hi\")"
   ],
   "metadata": {
    "colab": {
     "base_uri": "https://localhost:8080/"
    },
    "id": "SU-3QKiRHcIK",
    "executionInfo": {
     "status": "ok",
     "timestamp": 1654587852593,
     "user_tz": -540,
     "elapsed": 391,
     "user": {
      "displayName": "JIHAN KIM",
      "userId": "14820648192014375113"
     }
    },
    "outputId": "e49aa10d-6d03-42b8-d5df-d56812030a01"
   },
   "execution_count": 13,
   "outputs": [
    {
     "output_type": "stream",
     "name": "stdout",
     "text": [
      "hi        jane\n"
     ]
    }
   ]
  },
  {
   "cell_type": "code",
   "metadata": {
    "colab": {
     "base_uri": "https://localhost:8080/"
    },
    "id": "q4lXzG_Ez6Bo",
    "outputId": "259d70d9-de6a-4f81-fbcf-138c7595f7c9"
   },
   "source": [
    "# %s를 숫자와 함께 사용하면, 공백과 정렬 표현 가능\n",
    "\n",
    "print(\"%10s\"%\"hi\")\n",
    "print(\"%-10sjane\"%\"hi\")"
   ],
   "execution_count": null,
   "outputs": [
    {
     "output_type": "stream",
     "text": [
      "        hi\n",
      "hi        jane\n"
     ],
     "name": "stdout"
    }
   ]
  },
  {
   "cell_type": "code",
   "metadata": {
    "colab": {
     "base_uri": "https://localhost:8080/"
    },
    "id": "j4vKrJ2m0UFB",
    "outputId": "879c4d89-63a0-48fd-fa53-6170a5d4584d"
   },
   "source": [
    "# 소수점 표현하기 \n",
    "print(\"%0.4f\"% 3.42134234)      # 소수점 4자리까지 표현\n",
    "print(\"%10.4f\"% 3.42134234)      # 10개의 공간에 숫자를 표현, 소수점은 4자리까지 표현"
   ],
   "execution_count": null,
   "outputs": [
    {
     "output_type": "stream",
     "text": [
      "3.4213\n",
      "    3.4213\n"
     ],
     "name": "stdout"
    }
   ]
  },
  {
   "cell_type": "code",
   "metadata": {
    "colab": {
     "base_uri": "https://localhost:8080/"
    },
    "id": "YNUMXeFu0teB",
    "outputId": "2da86f02-d659-4a15-ce12-a40f27bafc7c"
   },
   "source": [
    "name = '홍길동'\n",
    "age = 30\n",
    "print(f'나의 이름은 {name} 입니다. 나이는 {age+1} 입니다.')    # f 문자열 formatting"
   ],
   "execution_count": null,
   "outputs": [
    {
     "output_type": "stream",
     "text": [
      "나의 이름은 홍길동 입니다. 나이는 31 입니다.\n"
     ],
     "name": "stdout"
    }
   ]
  },
  {
   "cell_type": "markdown",
   "metadata": {
    "id": "YkMikx281Lj0"
   },
   "source": [
    "**문자열 자료형 관련 함수**"
   ]
  },
  {
   "cell_type": "code",
   "metadata": {
    "colab": {
     "base_uri": "https://localhost:8080/"
    },
    "id": "HFTN1nU0w9wC",
    "outputId": "42921e65-b048-463c-eb8f-928619b10ff4"
   },
   "source": [
    "a = 'hobby'     \n",
    "\n",
    "a.count('b')    # count 함수"
   ],
   "execution_count": null,
   "outputs": [
    {
     "output_type": "execute_result",
     "data": {
      "text/plain": [
       "2"
      ]
     },
     "metadata": {
      "tags": []
     },
     "execution_count": 12
    }
   ]
  },
  {
   "cell_type": "code",
   "metadata": {
    "colab": {
     "base_uri": "https://localhost:8080/",
     "height": 35
    },
    "id": "7VLZc1NyR5OK",
    "outputId": "2a6c13fa-fce6-4949-d26e-77d2153f606d"
   },
   "source": [
    "','.join('1231414214513414a')   # join 함수수"
   ],
   "execution_count": null,
   "outputs": [
    {
     "output_type": "execute_result",
     "data": {
      "application/vnd.google.colaboratory.intrinsic+json": {
       "type": "string"
      },
      "text/plain": [
       "'1,2,3,1,4,1,4,2,1,4,5,1,3,4,1,4,a'"
      ]
     },
     "metadata": {
      "tags": []
     },
     "execution_count": 19
    }
   ]
  },
  {
   "cell_type": "code",
   "metadata": {
    "colab": {
     "base_uri": "https://localhost:8080/"
    },
    "id": "MMiqq8ck1dVf",
    "outputId": "e413d975-7fa9-4963-ba83-65ad2ee0c3b6"
   },
   "source": [
    "a = \"python is best choice\"\n",
    "\n",
    "print(a.find('b'))       # b 의 위치를 반환\n",
    "print(a.find('k'))       # k 의 위치를 반환, k의 위착 없으므로 -1이 반환됨됨"
   ],
   "execution_count": null,
   "outputs": [
    {
     "output_type": "stream",
     "text": [
      "10\n",
      "-1\n"
     ],
     "name": "stdout"
    }
   ]
  },
  {
   "cell_type": "code",
   "metadata": {
    "colab": {
     "base_uri": "https://localhost:8080/"
    },
    "id": "uLH7Orow1zt_",
    "outputId": "067ce0b5-28af-4f77-e7f5-e04e56a1b7ac"
   },
   "source": [
    "a = 'hi'\n",
    "\n",
    "print(a.upper())   # 소문자를 대문자로 변환\n",
    "\n",
    "b = 'HI'\n",
    "\n",
    "print(b.lower())   # 대문자를 소문자로 변환"
   ],
   "execution_count": null,
   "outputs": [
    {
     "output_type": "stream",
     "text": [
      "HI\n",
      "hi\n"
     ],
     "name": "stdout"
    }
   ]
  },
  {
   "cell_type": "code",
   "metadata": {
    "colab": {
     "base_uri": "https://localhost:8080/",
     "height": 35
    },
    "id": "D6IKUfW_6nGx",
    "outputId": "5aebd09a-3a86-4a55-a7f5-eb91bec93de6"
   },
   "source": [
    "a = \"Life is too short\"\n",
    "a.replace(\"Life\",\"Your leg\")   # replace() 함수를 이용하여 특정 값을 다른 값으로 치환하기기"
   ],
   "execution_count": null,
   "outputs": [
    {
     "output_type": "execute_result",
     "data": {
      "application/vnd.google.colaboratory.intrinsic+json": {
       "type": "string"
      },
      "text/plain": [
       "'Your leg is too short'"
      ]
     },
     "metadata": {
      "tags": []
     },
     "execution_count": 19
    }
   ]
  },
  {
   "cell_type": "code",
   "metadata": {
    "id": "G6eGBTX3697p",
    "colab": {
     "base_uri": "https://localhost:8080/"
    },
    "executionInfo": {
     "status": "ok",
     "timestamp": 1654587951428,
     "user_tz": -540,
     "elapsed": 304,
     "user": {
      "displayName": "JIHAN KIM",
      "userId": "14820648192014375113"
     }
    },
    "outputId": "835d903f-7597-441e-911c-8c73a16eea76"
   },
   "source": [
    "a = \"Life is too short\"\n",
    "print(a.split())    # 공백을 기준으로 문자열을 나눔\n",
    "\n",
    "b = \"a:b:c:d\"\n",
    "print(b.split(':')) # :기호를 기준으로 문자열을 나눔"
   ],
   "execution_count": 14,
   "outputs": [
    {
     "output_type": "stream",
     "name": "stdout",
     "text": [
      "['Life', 'is', 'too', 'short']\n",
      "['a', 'b', 'c', 'd']\n"
     ]
    }
   ]
  },
  {
   "cell_type": "markdown",
   "metadata": {
    "id": "ESMrS-KK7RsC"
   },
   "source": [
    "# 리스트 자료형"
   ]
  },
  {
   "cell_type": "markdown",
   "metadata": {
    "id": "BG5mkQal-Cxx"
   },
   "source": [
    "**리스트 자료형의 정의**"
   ]
  },
  {
   "cell_type": "code",
   "metadata": {
    "id": "qEnWbav79P0i",
    "executionInfo": {
     "status": "ok",
     "timestamp": 1654587988608,
     "user_tz": -540,
     "elapsed": 503,
     "user": {
      "displayName": "JIHAN KIM",
      "userId": "14820648192014375113"
     }
    }
   },
   "source": [
    "# 리스트 안에 어떠한 자료형도 포함 가능\n",
    "a = []\n",
    "b = [1,2,3,4]\n",
    "c = ['Life','is', 'too', 'short']\n",
    "d = [1, 2, 'Life', 'is']\n",
    "e = [1,2,['Life', 'is']]"
   ],
   "execution_count": 16,
   "outputs": []
  },
  {
   "cell_type": "code",
   "metadata": {
    "colab": {
     "base_uri": "https://localhost:8080/"
    },
    "id": "oTAsKPqy-HwQ",
    "outputId": "3cc79f09-a33c-4259-e85c-dc25efb75824",
    "executionInfo": {
     "status": "ok",
     "timestamp": 1654587990410,
     "user_tz": -540,
     "elapsed": 8,
     "user": {
      "displayName": "JIHAN KIM",
      "userId": "14820648192014375113"
     }
    }
   },
   "source": [
    "e [2]      # 리스트는 인덱스를 통해 접근 가능함"
   ],
   "execution_count": 17,
   "outputs": [
    {
     "output_type": "execute_result",
     "data": {
      "text/plain": [
       "['Life', 'is']"
      ]
     },
     "metadata": {},
     "execution_count": 17
    }
   ]
  },
  {
   "cell_type": "code",
   "metadata": {
    "colab": {
     "base_uri": "https://localhost:8080/",
     "height": 37
    },
    "id": "x8V04mcj_1W7",
    "outputId": "db1dd540-3323-44c1-8313-d9c917692fe6",
    "executionInfo": {
     "status": "ok",
     "timestamp": 1654587999751,
     "user_tz": -540,
     "elapsed": 517,
     "user": {
      "displayName": "JIHAN KIM",
      "userId": "14820648192014375113"
     }
    }
   },
   "source": [
    "d[-1]     # 인덱스 -1은 마지막 요솟값을 가르킴"
   ],
   "execution_count": 18,
   "outputs": [
    {
     "output_type": "execute_result",
     "data": {
      "text/plain": [
       "'is'"
      ],
      "application/vnd.google.colaboratory.intrinsic+json": {
       "type": "string"
      }
     },
     "metadata": {},
     "execution_count": 18
    }
   ]
  },
  {
   "cell_type": "code",
   "metadata": {
    "colab": {
     "base_uri": "https://localhost:8080/"
    },
    "id": "BVCadOWtAa33",
    "outputId": "b35d81e6-c36f-41e5-ea4e-b018c7e0fe1f",
    "executionInfo": {
     "status": "ok",
     "timestamp": 1654588006522,
     "user_tz": -540,
     "elapsed": 285,
     "user": {
      "displayName": "JIHAN KIM",
      "userId": "14820648192014375113"
     }
    }
   },
   "source": [
    "b[0] + b[2]     # 리스트 요솟값 간의 덧셈셈"
   ],
   "execution_count": 19,
   "outputs": [
    {
     "output_type": "execute_result",
     "data": {
      "text/plain": [
       "4"
      ]
     },
     "metadata": {},
     "execution_count": 19
    }
   ]
  },
  {
   "cell_type": "code",
   "metadata": {
    "colab": {
     "base_uri": "https://localhost:8080/"
    },
    "id": "tNgHm0DlA2ix",
    "outputId": "d7ee4b6c-2835-4475-baa8-aebaf241d8de"
   },
   "source": [
    "print(b+c)    # 리스트 합치기\n",
    "print(b*2)    # 리스트 반복\n"
   ],
   "execution_count": null,
   "outputs": [
    {
     "output_type": "stream",
     "text": [
      "[1, 2, 3, 4, 'Life', 'is', 'too', 'short']\n",
      "[1, 2, 3, 4, 1, 2, 3, 4]\n"
     ],
     "name": "stdout"
    }
   ]
  },
  {
   "cell_type": "code",
   "metadata": {
    "colab": {
     "base_uri": "https://localhost:8080/"
    },
    "id": "S-fifY3LBE_E",
    "outputId": "c5556630-b26e-4223-c7e3-2e0c0cffae88",
    "executionInfo": {
     "status": "ok",
     "timestamp": 1654588067738,
     "user_tz": -540,
     "elapsed": 359,
     "user": {
      "displayName": "JIHAN KIM",
      "userId": "14820648192014375113"
     }
    }
   },
   "source": [
    "b[0] = 100    # 리스트 요소값을 수정하기\n",
    "print(b)"
   ],
   "execution_count": 20,
   "outputs": [
    {
     "output_type": "stream",
     "name": "stdout",
     "text": [
      "[100, 2, 3, 4]\n"
     ]
    }
   ]
  },
  {
   "cell_type": "code",
   "metadata": {
    "id": "hJOYsLJxBNh0",
    "executionInfo": {
     "status": "ok",
     "timestamp": 1654588070361,
     "user_tz": -540,
     "elapsed": 422,
     "user": {
      "displayName": "JIHAN KIM",
      "userId": "14820648192014375113"
     }
    }
   },
   "source": [
    "del b[3]     # del 키워드로 리스트 요소 삭제하기기"
   ],
   "execution_count": 21,
   "outputs": []
  },
  {
   "cell_type": "code",
   "metadata": {
    "colab": {
     "base_uri": "https://localhost:8080/"
    },
    "id": "m-FlmrIeBT5E",
    "outputId": "dbe1995c-1837-4c8a-9e95-4fe5a3c04765",
    "executionInfo": {
     "status": "ok",
     "timestamp": 1654588072955,
     "user_tz": -540,
     "elapsed": 518,
     "user": {
      "displayName": "JIHAN KIM",
      "userId": "14820648192014375113"
     }
    }
   },
   "source": [
    "b.append(50)   # append 내장함수로 리스트 맨 마지막에 50을 추가\n",
    "b"
   ],
   "execution_count": 22,
   "outputs": [
    {
     "output_type": "execute_result",
     "data": {
      "text/plain": [
       "[100, 2, 3, 50]"
      ]
     },
     "metadata": {},
     "execution_count": 22
    }
   ]
  },
  {
   "cell_type": "code",
   "metadata": {
    "colab": {
     "base_uri": "https://localhost:8080/"
    },
    "id": "pKTEU864DLyw",
    "outputId": "d1dc7742-240d-4965-ac79-c023d5990c6c",
    "executionInfo": {
     "status": "ok",
     "timestamp": 1654588076468,
     "user_tz": -540,
     "elapsed": 314,
     "user": {
      "displayName": "JIHAN KIM",
      "userId": "14820648192014375113"
     }
    }
   },
   "source": [
    "b.index(50)    # 요소를 검색하여 위치를 반환"
   ],
   "execution_count": 23,
   "outputs": [
    {
     "output_type": "execute_result",
     "data": {
      "text/plain": [
       "3"
      ]
     },
     "metadata": {},
     "execution_count": 23
    }
   ]
  },
  {
   "cell_type": "code",
   "metadata": {
    "colab": {
     "base_uri": "https://localhost:8080/"
    },
    "id": "gPpQOrGCDbwq",
    "outputId": "6b064680-1716-4072-a2f4-aee7f5295d70",
    "executionInfo": {
     "status": "ok",
     "timestamp": 1654588080115,
     "user_tz": -540,
     "elapsed": 267,
     "user": {
      "displayName": "JIHAN KIM",
      "userId": "14820648192014375113"
     }
    }
   },
   "source": [
    "b.sort()      # 리스트의 요소를 순서대로 정렬.sort()      # 리스트의 요소를 순서대로 정렬\n",
    "b"
   ],
   "execution_count": 24,
   "outputs": [
    {
     "output_type": "execute_result",
     "data": {
      "text/plain": [
       "[2, 3, 50, 100]"
      ]
     },
     "metadata": {},
     "execution_count": 24
    }
   ]
  },
  {
   "cell_type": "code",
   "metadata": {
    "colab": {
     "base_uri": "https://localhost:8080/"
    },
    "id": "dIZRBzusD9YF",
    "outputId": "70cac349-0592-4b4d-ffcf-862055a75b57",
    "executionInfo": {
     "status": "ok",
     "timestamp": 1654588083872,
     "user_tz": -540,
     "elapsed": 251,
     "user": {
      "displayName": "JIHAN KIM",
      "userId": "14820648192014375113"
     }
    }
   },
   "source": [
    "b.reverse()     # 리스트를 역순으로 뒤집어줌\n",
    "b"
   ],
   "execution_count": 25,
   "outputs": [
    {
     "output_type": "execute_result",
     "data": {
      "text/plain": [
       "[100, 50, 3, 2]"
      ]
     },
     "metadata": {},
     "execution_count": 25
    }
   ]
  },
  {
   "cell_type": "code",
   "metadata": {
    "colab": {
     "base_uri": "https://localhost:8080/"
    },
    "id": "A4lW2gxlEGpX",
    "outputId": "2b928f24-3ac9-4929-82c2-665f616c6b83",
    "executionInfo": {
     "status": "ok",
     "timestamp": 1654588092923,
     "user_tz": -540,
     "elapsed": 389,
     "user": {
      "displayName": "JIHAN KIM",
      "userId": "14820648192014375113"
     }
    }
   },
   "source": [
    "b.insert(1,4)      # 리스트에 요소 삽입,   인덱스 1 자리에 4를 삽입\n",
    "b"
   ],
   "execution_count": 26,
   "outputs": [
    {
     "output_type": "execute_result",
     "data": {
      "text/plain": [
       "[100, 4, 50, 3, 2]"
      ]
     },
     "metadata": {},
     "execution_count": 26
    }
   ]
  },
  {
   "cell_type": "code",
   "metadata": {
    "colab": {
     "base_uri": "https://localhost:8080/"
    },
    "id": "BBA0Z8kAEgO5",
    "outputId": "e7c0c8f2-0914-4152-e4f7-0aca5fa588a4",
    "executionInfo": {
     "status": "ok",
     "timestamp": 1654588095219,
     "user_tz": -540,
     "elapsed": 8,
     "user": {
      "displayName": "JIHAN KIM",
      "userId": "14820648192014375113"
     }
    }
   },
   "source": [
    "b.remove(100)   # 리스트에서 첫번째로 나오는 데이터를 삭제\n",
    "b"
   ],
   "execution_count": 27,
   "outputs": [
    {
     "output_type": "execute_result",
     "data": {
      "text/plain": [
       "[4, 50, 3, 2]"
      ]
     },
     "metadata": {},
     "execution_count": 27
    }
   ]
  },
  {
   "cell_type": "code",
   "metadata": {
    "colab": {
     "base_uri": "https://localhost:8080/"
    },
    "id": "prD-hKUdEnei",
    "outputId": "f69ca170-d2f6-4308-a736-2766bbc79ed6",
    "executionInfo": {
     "status": "ok",
     "timestamp": 1654588104597,
     "user_tz": -540,
     "elapsed": 703,
     "user": {
      "displayName": "JIHAN KIM",
      "userId": "14820648192014375113"
     }
    }
   },
   "source": [
    "b.extend([5,6,7,8,])   # 리스트 확장하기\n",
    "b"
   ],
   "execution_count": 28,
   "outputs": [
    {
     "output_type": "execute_result",
     "data": {
      "text/plain": [
       "[4, 50, 3, 2, 5, 6, 7, 8]"
      ]
     },
     "metadata": {},
     "execution_count": 28
    }
   ]
  },
  {
   "cell_type": "code",
   "metadata": {
    "id": "DoAypl6JbqOl",
    "executionInfo": {
     "status": "ok",
     "timestamp": 1654588121903,
     "user_tz": -540,
     "elapsed": 389,
     "user": {
      "displayName": "JIHAN KIM",
      "userId": "14820648192014375113"
     }
    }
   },
   "source": [],
   "execution_count": 28,
   "outputs": []
  }
 ]
}
