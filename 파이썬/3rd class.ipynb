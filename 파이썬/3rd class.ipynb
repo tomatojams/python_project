{
 "nbformat": 4,
 "nbformat_minor": 0,
 "metadata": {
  "colab": {
   "name": "3rd class.ipynb",
   "provenance": [],
   "collapsed_sections": [],
   "authorship_tag": "ABX9TyOnNTWrnNfbhEGt5rj4t8lD"
  },
  "kernelspec": {
   "name": "python3",
   "display_name": "Python 3"
  },
  "language_info": {
   "name": "python"
  }
 },
 "cells": [
  {
   "cell_type": "code",
   "execution_count": null,
   "metadata": {
    "colab": {
     "base_uri": "https://localhost:8080/"
    },
    "id": "lB48ffPf-TZn",
    "executionInfo": {
     "status": "ok",
     "timestamp": 1648612810728,
     "user_tz": -540,
     "elapsed": 7,
     "user": {
      "displayName": "JIHAN KIM",
      "userId": "14820648192014375113"
     }
    },
    "outputId": "31b52a0f-87ea-4314-bd19-645927b0eaed"
   },
   "outputs": [
    {
     "output_type": "stream",
     "name": "stdout",
     "text": [
      "a:1 b:python c:3.14\n"
     ]
    }
   ],
   "source": [
    "a=1\n",
    "b='python'\n",
    "c=3.14\n",
    "print(\"a:%d b:%s c:%.2f\" %(a,b,c))"
   ]
  },
  {
   "cell_type": "code",
   "source": [
    "type(a)"
   ],
   "metadata": {
    "colab": {
     "base_uri": "https://localhost:8080/"
    },
    "id": "Tudd1Zy0-1J0",
    "executionInfo": {
     "status": "ok",
     "timestamp": 1648612830691,
     "user_tz": -540,
     "elapsed": 269,
     "user": {
      "displayName": "JIHAN KIM",
      "userId": "14820648192014375113"
     }
    },
    "outputId": "71f819e2-394a-4902-a1e5-4fdd4f47b258"
   },
   "execution_count": null,
   "outputs": [
    {
     "output_type": "execute_result",
     "data": {
      "text/plain": [
       "int"
      ]
     },
     "metadata": {},
     "execution_count": 3
    }
   ]
  },
  {
   "cell_type": "code",
   "source": [
    "type(b)"
   ],
   "metadata": {
    "colab": {
     "base_uri": "https://localhost:8080/"
    },
    "id": "JZGx5xvX-3Zg",
    "executionInfo": {
     "status": "ok",
     "timestamp": 1648612839602,
     "user_tz": -540,
     "elapsed": 243,
     "user": {
      "displayName": "JIHAN KIM",
      "userId": "14820648192014375113"
     }
    },
    "outputId": "adfdd1e4-21f5-4981-871b-bff3c0d35f37"
   },
   "execution_count": null,
   "outputs": [
    {
     "output_type": "execute_result",
     "data": {
      "text/plain": [
       "str"
      ]
     },
     "metadata": {},
     "execution_count": 4
    }
   ]
  },
  {
   "cell_type": "code",
   "source": [
    "type(c)"
   ],
   "metadata": {
    "colab": {
     "base_uri": "https://localhost:8080/"
    },
    "id": "6SEEVdWt-5n0",
    "executionInfo": {
     "status": "ok",
     "timestamp": 1648612855331,
     "user_tz": -540,
     "elapsed": 227,
     "user": {
      "displayName": "JIHAN KIM",
      "userId": "14820648192014375113"
     }
    },
    "outputId": "c6589a2f-0aaf-4843-b5cd-e3f06297f720"
   },
   "execution_count": null,
   "outputs": [
    {
     "output_type": "execute_result",
     "data": {
      "text/plain": [
       "float"
      ]
     },
     "metadata": {},
     "execution_count": 5
    }
   ]
  },
  {
   "cell_type": "code",
   "source": [
    "age=10\n",
    "print(\"주류판매가 가능한가요?\",age>=20)"
   ],
   "metadata": {
    "colab": {
     "base_uri": "https://localhost:8080/"
    },
    "id": "3NBT5ljd_PN3",
    "executionInfo": {
     "status": "ok",
     "timestamp": 1648613005786,
     "user_tz": -540,
     "elapsed": 235,
     "user": {
      "displayName": "JIHAN KIM",
      "userId": "14820648192014375113"
     }
    },
    "outputId": "f462226d-7fb2-452e-ec6c-53148f572721"
   },
   "execution_count": null,
   "outputs": [
    {
     "output_type": "stream",
     "name": "stdout",
     "text": [
      "주류판매가 가능한가요? False\n"
     ]
    }
   ]
  },
  {
   "cell_type": "code",
   "source": [
    "age=20\n",
    "print(\"주류판매가 가능한다요?\",age>=20y)"
   ],
   "metadata": {
    "colab": {
     "base_uri": "https://localhost:8080/"
    },
    "id": "M2j731I1_kY4",
    "executionInfo": {
     "status": "ok",
     "timestamp": 1648613051072,
     "user_tz": -540,
     "elapsed": 1160,
     "user": {
      "displayName": "JIHAN KIM",
      "userId": "14820648192014375113"
     }
    },
    "outputId": "0efe6c30-301b-461f-d389-e64b67261549"
   },
   "execution_count": null,
   "outputs": [
    {
     "output_type": "stream",
     "name": "stdout",
     "text": [
      "주류판매가 가능한다요? True\n"
     ]
    }
   ]
  },
  {
   "cell_type": "code",
   "source": [
    "total=0\n",
    "cola=1000\n",
    "hamburger=2000\n",
    "milk=1500\n",
    "total += cola\n",
    "total += hamburger\n",
    "total += milk\n",
    "print(total)"
   ],
   "metadata": {
    "id": "iwLEUWtm_vwU"
   },
   "execution_count": null,
   "outputs": []
  },
  {
   "cell_type": "code",
   "source": [],
   "metadata": {
    "id": "p3NsEGztAU_8"
   },
   "execution_count": null,
   "outputs": []
  }
 ]
}
