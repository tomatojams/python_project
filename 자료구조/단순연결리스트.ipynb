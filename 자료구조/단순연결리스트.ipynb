{
 "cells": [
  {
   "cell_type": "markdown",
   "source": [
    "단순연결리스트"
   ],
   "metadata": {
    "collapsed": false
   }
  },
  {
   "cell_type": "code",
   "execution_count": 1,
   "outputs": [],
   "source": [
    "class Node():\n",
    "    def __init__(self):\n",
    "        self.data = None\n",
    "        self.link = None"
   ],
   "metadata": {
    "collapsed": false,
    "ExecuteTime": {
     "end_time": "2023-12-26T06:47:14.178356Z",
     "start_time": "2023-12-26T06:47:14.173798Z"
    }
   }
  },
  {
   "cell_type": "code",
   "execution_count": 2,
   "outputs": [],
   "source": [
    "node1 = Node()\n",
    "node1.data = \"서울\""
   ],
   "metadata": {
    "collapsed": false,
    "ExecuteTime": {
     "end_time": "2023-12-26T06:47:14.180505Z",
     "start_time": "2023-12-26T06:47:14.177537Z"
    }
   }
  },
  {
   "cell_type": "code",
   "execution_count": 3,
   "outputs": [],
   "source": [
    "node2 = Node()\n",
    "node2.data = \"대구\"\n",
    "node1.link = node2"
   ],
   "metadata": {
    "collapsed": false,
    "ExecuteTime": {
     "end_time": "2023-12-26T06:47:14.351171Z",
     "start_time": "2023-12-26T06:47:14.342098Z"
    }
   }
  },
  {
   "cell_type": "code",
   "execution_count": 4,
   "outputs": [],
   "source": [
    "node3 = Node()\n",
    "node3.data = \"부산\"\n",
    "node2.link = node3"
   ],
   "metadata": {
    "collapsed": false,
    "ExecuteTime": {
     "end_time": "2023-12-26T06:47:14.907358Z",
     "start_time": "2023-12-26T06:47:14.896983Z"
    }
   }
  },
  {
   "cell_type": "code",
   "execution_count": 5,
   "outputs": [
    {
     "name": "stdout",
     "output_type": "stream",
     "text": [
      "서울 대구 부산 "
     ]
    }
   ],
   "source": [
    "print(node1.data, end= ' ')\n",
    "print(node1.link.data, end=' ')\n",
    "print(node1.link.link.data, end=' ')"
   ],
   "metadata": {
    "collapsed": false,
    "ExecuteTime": {
     "end_time": "2023-12-26T06:47:15.497213Z",
     "start_time": "2023-12-26T06:47:15.487965Z"
    }
   }
  },
  {
   "cell_type": "markdown",
   "source": [
    "단순연결리스트 출력"
   ],
   "metadata": {
    "collapsed": false
   }
  },
  {
   "cell_type": "code",
   "execution_count": 6,
   "outputs": [
    {
     "name": "stdout",
     "output_type": "stream",
     "text": [
      "서울 대구 부산 "
     ]
    }
   ],
   "source": [
    "current = head\n",
    "print(current.data,end= ' ')\n",
    "while current.link != None:\n",
    "    current = current.link\n",
    "    print(current.data, end=' ')"
   ],
   "metadata": {
    "collapsed": false,
    "ExecuteTime": {
     "end_time": "2023-12-26T06:47:17.261376Z",
     "start_time": "2023-12-26T06:47:17.248116Z"
    }
   }
  },
  {
   "cell_type": "markdown",
   "source": [
    "중간에 데이터 삽입"
   ],
   "metadata": {
    "collapsed": false
   }
  },
  {
   "cell_type": "code",
   "execution_count": 10,
   "outputs": [],
   "source": [
    "head = node1\n",
    "current = head\n",
    "\n",
    "while current.link != None:\n",
    "    pre = current\n",
    "    current = current.link\n",
    "    if current.data == '부산':\n",
    "        node = Node()\n",
    "        node.data = '포항'\n",
    "        node.link = current\n",
    "        pre.link = node"
   ],
   "metadata": {
    "collapsed": false
   }
  },
  {
   "cell_type": "code",
   "execution_count": 11,
   "outputs": [
    {
     "name": "stdout",
     "output_type": "stream",
     "text": [
      "서울 대구 포항 부산 "
     ]
    }
   ],
   "source": [
    "current = head\n",
    "print(current.data, end=' ')\n",
    "while current.link != None:\n",
    "    current = current.link\n",
    "    print(current.data,end=' ')"
   ],
   "metadata": {
    "collapsed": false
   }
  },
  {
   "cell_type": "markdown",
   "source": [
    "첫번째 자리 삽입"
   ],
   "metadata": {
    "collapsed": false
   }
  },
  {
   "cell_type": "code",
   "execution_count": 12,
   "outputs": [],
   "source": [
    "newNode = Node()\n",
    "newNode.data = '파주'\n",
    "newNode.link = head\n",
    "head = newNode"
   ],
   "metadata": {
    "collapsed": false
   }
  },
  {
   "cell_type": "code",
   "execution_count": 13,
   "outputs": [
    {
     "name": "stdout",
     "output_type": "stream",
     "text": [
      "파주 서울 대구 포항 부산 "
     ]
    }
   ],
   "source": [
    "current = head\n",
    "print(current.data, end=' ')\n",
    "while current.link != None:\n",
    "    current = current.link\n",
    "    print(current.data, end= ' ')"
   ],
   "metadata": {
    "collapsed": false
   }
  },
  {
   "cell_type": "markdown",
   "source": [
    "마지막자리 데이타 삽입"
   ],
   "metadata": {
    "collapsed": false
   }
  },
  {
   "cell_type": "code",
   "execution_count": 14,
   "outputs": [],
   "source": [
    "current = head\n",
    "while current.link != None:\n",
    "    current = current.link\n",
    "\n",
    "node = Node()\n",
    "node.data = '제주'\n",
    "current.link = node"
   ],
   "metadata": {
    "collapsed": false
   }
  },
  {
   "cell_type": "code",
   "execution_count": 15,
   "outputs": [
    {
     "name": "stdout",
     "output_type": "stream",
     "text": [
      "파주 서울 대구 포항 부산 제주 "
     ]
    }
   ],
   "source": [
    "current = head\n",
    "print(current.data, end= ' ')\n",
    "while current.link != None:\n",
    "    current = current.link\n",
    "    print(current.data, end=' ')"
   ],
   "metadata": {
    "collapsed": false
   }
  },
  {
   "cell_type": "code",
   "execution_count": 16,
   "outputs": [],
   "source": [
    "current = head\n",
    "head = head.link\n",
    "del(current)"
   ],
   "metadata": {
    "collapsed": false
   }
  },
  {
   "cell_type": "code",
   "execution_count": 17,
   "outputs": [
    {
     "name": "stdout",
     "output_type": "stream",
     "text": [
      "서울 대구 포항 부산 제주 "
     ]
    }
   ],
   "source": [
    "current = head\n",
    "print(current.data, end= ' ')\n",
    "while current.link != None:\n",
    "    current = current.link\n",
    "    print(current.data, end=' ')"
   ],
   "metadata": {
    "collapsed": false
   }
  },
  {
   "cell_type": "markdown",
   "source": [
    "첫번째 노드외 특정노드 삭제"
   ],
   "metadata": {
    "collapsed": false
   }
  },
  {
   "cell_type": "code",
   "execution_count": 19,
   "outputs": [],
   "source": [
    "current = head\n",
    "\n",
    "while current.link != None:\n",
    "    pre = current\n",
    "    current = current.link\n",
    "    if current.data == \"대구\":\n",
    "        pre.link = current.link\n",
    "        del(current)"
   ],
   "metadata": {
    "collapsed": false
   }
  },
  {
   "cell_type": "code",
   "execution_count": 20,
   "outputs": [
    {
     "name": "stdout",
     "output_type": "stream",
     "text": [
      "서울 포항 부산 제주 "
     ]
    }
   ],
   "source": [
    "current = head\n",
    "print(current.data, end= ' ')\n",
    "while current.link != None:\n",
    "    current = current.link\n",
    "    print(current.data, end=' ')"
   ],
   "metadata": {
    "collapsed": false
   }
  },
  {
   "cell_type": "markdown",
   "source": [
    "데이타 검색구현"
   ],
   "metadata": {
    "collapsed": false
   }
  },
  {
   "cell_type": "code",
   "execution_count": 21,
   "outputs": [],
   "source": [
    "current = head\n",
    "if current.data == '대구':\n",
    "    print(current.data)\n",
    "while current.link != None:\n",
    "    current = current.link\n",
    "    if current.data == '대구':\n",
    "        print(current.data)"
   ],
   "metadata": {
    "collapsed": false
   }
  },
  {
   "cell_type": "code",
   "execution_count": 22,
   "outputs": [],
   "source": [
    "# 최종 완성본\n",
    "class Node():\n",
    "    def __init__(self):\n",
    "        self.data = None\n",
    "        self.link = None\n",
    "\n",
    "def printNodes(start):\n",
    "    current = start\n",
    "    if current == None:\n",
    "        return\n",
    "    print(current.data, end=' ')\n",
    "    while current.link != None:\n",
    "        current = current.link\n",
    "        print(current.data,end=' ')\n",
    "    print()\n",
    "\n",
    "def insertNode(findData, insertData):\n",
    "    global  memory, head, current, pre\n",
    "\n",
    "    current = head\n",
    "    pre = head\n",
    "    while current.link != None: # 첫번째부터 중간까지 노드삽입\n",
    "        if current.data == findData:\n",
    "            node = Node()\n",
    "            node.data = insertData\n",
    "            node.link = current\n",
    "            if current == head:\n",
    "                head = node\n",
    "                return\n",
    "            else: pre.link = node\n",
    "            return\n",
    "        pre = current\n",
    "        current = current.link\n",
    "\n",
    "    node = Node() # None으로 while문을 빠져나왔을때\n",
    "    node.data = insertData\n",
    "    current.link = node\n",
    "\n",
    "def findNode(findData):\n",
    "    global  memory, head, current, pre\n",
    "\n",
    "    current = head\n",
    "    if current.data == findData:\n",
    "        return  current\n",
    "    while current.link != None:\n",
    "        current = current.link\n",
    "        if current.data == findData:\n",
    "            return  current\n",
    "    return Node()\n",
    "\n",
    "def deleteNode(deleteData):\n",
    "    global  memory, head, current, pre\n",
    "\n",
    "    if current.data == deleteData:\n",
    "        current = head\n",
    "        head = head.link\n",
    "        del(current)\n",
    "        return\n",
    "    current = head\n",
    "    while current.link != None:\n",
    "        pre = current\n",
    "        current = current.link\n",
    "        if current.data == deleteData:\n",
    "            pre.link = current.link\n",
    "            del(current)\n",
    "            return"
   ],
   "metadata": {
    "collapsed": false
   }
  },
  {
   "cell_type": "code",
   "execution_count": 23,
   "outputs": [
    {
     "name": "stdout",
     "output_type": "stream",
     "text": [
      "서울 대전 부산 \n",
      "파주 서울 천안 대전 부산 \n"
     ]
    }
   ],
   "source": [
    "head, current, pre = None, None, None\n",
    "memory = []\n",
    "dataArray = [\"서울\", \"대전\", \"부산\"]\n",
    "\n",
    "\n",
    "node = Node()\t\t\t# 첫 번째 노드\n",
    "node.data = dataArray[0]\n",
    "head = node\n",
    "memory.append(node)\n",
    "\n",
    "for data in dataArray[1:] :\t\t# 두 번째 노드부터\n",
    "    pre = node\n",
    "    node = Node()\n",
    "    node.data = data\n",
    "    pre.link = node\n",
    "    memory.append(node)\n",
    "\n",
    "printNodes(head)\n",
    "insertNode('대전','천안')\n",
    "insertNode('서울','파주')\n",
    "printNodes(head)"
   ],
   "metadata": {
    "collapsed": false
   }
  },
  {
   "cell_type": "code",
   "execution_count": 24,
   "outputs": [
    {
     "name": "stdout",
     "output_type": "stream",
     "text": [
      "파주 서울 대전 부산 \n"
     ]
    }
   ],
   "source": [
    "deleteNode('천안')\n",
    "printNodes(head)"
   ],
   "metadata": {
    "collapsed": false
   }
  },
  {
   "cell_type": "code",
   "execution_count": null,
   "outputs": [],
   "source": [],
   "metadata": {
    "collapsed": false
   }
  }
 ],
 "metadata": {
  "kernelspec": {
   "display_name": "Python 3",
   "language": "python",
   "name": "python3"
  },
  "language_info": {
   "codemirror_mode": {
    "name": "ipython",
    "version": 2
   },
   "file_extension": ".py",
   "mimetype": "text/x-python",
   "name": "python",
   "nbconvert_exporter": "python",
   "pygments_lexer": "ipython2",
   "version": "2.7.6"
  }
 },
 "nbformat": 4,
 "nbformat_minor": 0
}
