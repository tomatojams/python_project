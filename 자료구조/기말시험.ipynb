{
 "cells": [
  {
   "cell_type": "code",
   "execution_count": 1,
   "metadata": {
    "collapsed": true,
    "ExecuteTime": {
     "end_time": "2023-09-05T17:11:59.746071700Z",
     "start_time": "2023-09-05T17:11:59.708325700Z"
    }
   },
   "outputs": [],
   "source": [
    "def exam1(data,name,number):\n",
    "    data.append((name,number))\n",
    "    for step in range(len(data)):\n",
    "        max_idx = step\n",
    "        for i in range(step+1, len(data)):\n",
    "            if data[i][1]> data[max_idx][1]:\n",
    "                max_idx = i\n",
    "        (data[step], data[max_idx]) = (data[max_idx], data[step])\n",
    "    return data"
   ]
  },
  {
   "cell_type": "code",
   "execution_count": 2,
   "outputs": [
    {
     "name": "stdout",
     "output_type": "stream",
     "text": [
      "[('John', 200), ('George', 150), ('Danial', 100), ('Charles', 50)]\n"
     ]
    }
   ],
   "source": [
    "print(exam1([('John',200), ('Danial',100),('Charles',50)],'George',150))"
   ],
   "metadata": {
    "collapsed": false,
    "ExecuteTime": {
     "end_time": "2023-09-05T17:11:59.749090700Z",
     "start_time": "2023-09-05T17:11:59.723516600Z"
    }
   }
  },
  {
   "cell_type": "code",
   "execution_count": 3,
   "outputs": [
    {
     "name": "stdout",
     "output_type": "stream",
     "text": [
      "[('george', 150), ('john', 100), ('kim', 50)]\n"
     ]
    }
   ],
   "source": [
    "print(exam1([('john',100),('george',150)], 'kim', 50))"
   ],
   "metadata": {
    "collapsed": false,
    "ExecuteTime": {
     "end_time": "2023-09-05T17:11:59.763103500Z",
     "start_time": "2023-09-05T17:11:59.739075700Z"
    }
   }
  },
  {
   "cell_type": "code",
   "execution_count": 4,
   "outputs": [
    {
     "name": "stdout",
     "output_type": "stream",
     "text": [
      "[('John', 200), ('Danial', 100), ('Charles', 50), ('Kim', 10)]\n"
     ]
    }
   ],
   "source": [
    "print(exam1([('John',200), ('Danial',100),('Charles',50)], 'Kim', 10))"
   ],
   "metadata": {
    "collapsed": false,
    "ExecuteTime": {
     "end_time": "2023-09-05T17:12:00.397440400Z",
     "start_time": "2023-09-05T17:12:00.385905100Z"
    }
   }
  },
  {
   "cell_type": "code",
   "execution_count": 5,
   "outputs": [],
   "source": [
    "def exam2(array):\n",
    "    k=0\n",
    "    for step in range(len(array)):\n",
    "        min_idx = step\n",
    "\n",
    "        for i in range(step+1, len(array)):\n",
    "\n",
    "            if array[i] < array[min_idx]:\n",
    "                min_idx = i\n",
    "        if step != min_idx:\n",
    "            (array[step], array[min_idx]) =(array[min_idx], array[step])\n",
    "            k +=1\n",
    "    return k"
   ],
   "metadata": {
    "collapsed": false,
    "ExecuteTime": {
     "end_time": "2023-09-05T17:12:01.005130400Z",
     "start_time": "2023-09-05T17:12:00.987596800Z"
    }
   }
  },
  {
   "cell_type": "code",
   "execution_count": 6,
   "outputs": [
    {
     "name": "stdout",
     "output_type": "stream",
     "text": [
      "2\n"
     ]
    }
   ],
   "source": [
    "print(exam2([20,12,10,15,2]))"
   ],
   "metadata": {
    "collapsed": false,
    "ExecuteTime": {
     "end_time": "2023-09-05T17:12:01.683096Z",
     "start_time": "2023-09-05T17:12:01.642743200Z"
    }
   }
  },
  {
   "cell_type": "code",
   "execution_count": 7,
   "outputs": [
    {
     "name": "stdout",
     "output_type": "stream",
     "text": [
      "0\n"
     ]
    }
   ],
   "source": [
    "print(exam2([1,2,3]))"
   ],
   "metadata": {
    "collapsed": false,
    "ExecuteTime": {
     "end_time": "2023-09-05T17:12:02.347993500Z",
     "start_time": "2023-09-05T17:12:02.330926300Z"
    }
   }
  },
  {
   "cell_type": "code",
   "execution_count": 8,
   "outputs": [],
   "source": [
    "def exam3(mass):\n",
    "    weight = [0, 6, 4, 3, 5]\n",
    "    money =  [0, 13, 8, 6, 12]\n",
    "\n",
    "    array = [[0 for _ in range(mass+1)]for _ in range(5)]\n",
    "    for row in range(1, 5):\n",
    "        for col in range(1, mass+1):\n",
    "            if weight[row]> col:\n",
    "                array[row][col] = array[row-1][col]\n",
    "            else:\n",
    "                value1 = money[row] + array[row-1][col-weight[row]]\n",
    "                value2 = array[row-1][col]\n",
    "                array[row][col] = max(value1, value2)\n",
    "\n",
    "    return array[4][mass]"
   ],
   "metadata": {
    "collapsed": false,
    "ExecuteTime": {
     "end_time": "2023-09-05T17:12:02.903957900Z",
     "start_time": "2023-09-05T17:12:02.891909Z"
    }
   }
  },
  {
   "cell_type": "code",
   "execution_count": 9,
   "outputs": [
    {
     "data": {
      "text/plain": "14"
     },
     "execution_count": 9,
     "metadata": {},
     "output_type": "execute_result"
    }
   ],
   "source": [
    "exam3(7)"
   ],
   "metadata": {
    "collapsed": false,
    "ExecuteTime": {
     "end_time": "2023-09-05T17:12:03.489058100Z",
     "start_time": "2023-09-05T17:12:03.428855700Z"
    }
   }
  },
  {
   "cell_type": "code",
   "execution_count": 10,
   "outputs": [
    {
     "data": {
      "text/plain": "20"
     },
     "execution_count": 10,
     "metadata": {},
     "output_type": "execute_result"
    }
   ],
   "source": [
    "exam3(9)"
   ],
   "metadata": {
    "collapsed": false,
    "ExecuteTime": {
     "end_time": "2023-09-05T17:12:03.952106400Z",
     "start_time": "2023-09-05T17:12:03.938049100Z"
    }
   }
  },
  {
   "cell_type": "code",
   "execution_count": 11,
   "outputs": [],
   "source": [
    "def exam4(n,k):\n",
    "    number = [ str(i) for i in range(1,n+1)]\n",
    "\n",
    "    current = k-1\n",
    "\n",
    "    for i in range(n-1):\n",
    "        if len(number) == 1:\n",
    "            return number[0]\n",
    "\n",
    "        number[current]= '0'\n",
    "        for j in range(k):\n",
    "            current = (current+1)%n\n",
    "            while( number[current] =='0'):\n",
    "                current = (current+1)%n\n",
    "\n",
    "    for i in range(n):\n",
    "        if number[i] !='0':\n",
    "            return int(number[i])"
   ],
   "metadata": {
    "collapsed": false,
    "ExecuteTime": {
     "end_time": "2023-09-05T17:12:04.638197900Z",
     "start_time": "2023-09-05T17:12:04.627169Z"
    }
   }
  },
  {
   "cell_type": "code",
   "execution_count": 12,
   "outputs": [
    {
     "data": {
      "text/plain": "5"
     },
     "execution_count": 12,
     "metadata": {},
     "output_type": "execute_result"
    }
   ],
   "source": [
    "exam4(6,2)"
   ],
   "metadata": {
    "collapsed": false,
    "ExecuteTime": {
     "end_time": "2023-09-05T17:12:05.435018800Z",
     "start_time": "2023-09-05T17:12:05.411037800Z"
    }
   }
  },
  {
   "cell_type": "code",
   "execution_count": 13,
   "outputs": [
    {
     "data": {
      "text/plain": "1"
     },
     "execution_count": 13,
     "metadata": {},
     "output_type": "execute_result"
    }
   ],
   "source": [
    "exam4(6,3)"
   ],
   "metadata": {
    "collapsed": false,
    "ExecuteTime": {
     "end_time": "2023-09-05T17:12:05.983074700Z",
     "start_time": "2023-09-05T17:12:05.979068600Z"
    }
   }
  },
  {
   "cell_type": "code",
   "execution_count": 14,
   "outputs": [
    {
     "data": {
      "text/plain": "4"
     },
     "execution_count": 14,
     "metadata": {},
     "output_type": "execute_result"
    }
   ],
   "source": [
    "exam4(7,3)"
   ],
   "metadata": {
    "collapsed": false,
    "ExecuteTime": {
     "end_time": "2023-09-05T17:12:06.578033600Z",
     "start_time": "2023-09-05T17:12:06.563205600Z"
    }
   }
  },
  {
   "cell_type": "code",
   "execution_count": 15,
   "outputs": [],
   "source": [
    "def exam5(array,x):\n",
    "    low = 0\n",
    "    high = len(array)-1\n",
    "    k = 0\n",
    "    while low <= high:\n",
    "        mid = low +(high-low+1)//2\n",
    "\n",
    "        if array[mid] == x:\n",
    "            k +=1\n",
    "            return k\n",
    "        elif array[mid] < x:\n",
    "            k +=1\n",
    "            low = mid+1\n",
    "        elif array[mid]>x:\n",
    "            k +=1\n",
    "            high = mid -1\n",
    "    return -1"
   ],
   "metadata": {
    "collapsed": false,
    "ExecuteTime": {
     "end_time": "2023-09-05T17:12:07.333125600Z",
     "start_time": "2023-09-05T17:12:07.315049200Z"
    }
   }
  },
  {
   "cell_type": "code",
   "execution_count": 16,
   "outputs": [
    {
     "data": {
      "text/plain": "2"
     },
     "execution_count": 16,
     "metadata": {},
     "output_type": "execute_result"
    }
   ],
   "source": [
    "exam5([3, 4, 5, 6, 7, 8, 9], 4)"
   ],
   "metadata": {
    "collapsed": false,
    "ExecuteTime": {
     "end_time": "2023-09-05T17:12:08.237207600Z",
     "start_time": "2023-09-05T17:12:08.208979200Z"
    }
   }
  },
  {
   "cell_type": "code",
   "execution_count": 17,
   "outputs": [
    {
     "data": {
      "text/plain": "2"
     },
     "execution_count": 17,
     "metadata": {},
     "output_type": "execute_result"
    }
   ],
   "source": [
    "exam5([6, 7, 8, 9], 9)"
   ],
   "metadata": {
    "collapsed": false,
    "ExecuteTime": {
     "end_time": "2023-09-05T17:12:08.965851200Z",
     "start_time": "2023-09-05T17:12:08.938233Z"
    }
   }
  },
  {
   "cell_type": "code",
   "execution_count": 18,
   "outputs": [
    {
     "data": {
      "text/plain": "1"
     },
     "execution_count": 18,
     "metadata": {},
     "output_type": "execute_result"
    }
   ],
   "source": [
    "exam5([1,2,3], 2)"
   ],
   "metadata": {
    "collapsed": false,
    "ExecuteTime": {
     "end_time": "2023-09-05T17:12:09.673092400Z",
     "start_time": "2023-09-05T17:12:09.650972200Z"
    }
   }
  },
  {
   "cell_type": "code",
   "execution_count": 19,
   "outputs": [
    {
     "data": {
      "text/plain": "2"
     },
     "execution_count": 19,
     "metadata": {},
     "output_type": "execute_result"
    }
   ],
   "source": [
    "exam5([6,7,8,9],9)"
   ],
   "metadata": {
    "collapsed": false,
    "ExecuteTime": {
     "end_time": "2023-09-05T17:12:10.526369100Z",
     "start_time": "2023-09-05T17:12:10.513341900Z"
    }
   }
  },
  {
   "cell_type": "code",
   "execution_count": 20,
   "outputs": [
    {
     "data": {
      "text/plain": "1"
     },
     "execution_count": 20,
     "metadata": {},
     "output_type": "execute_result"
    }
   ],
   "source": [
    "exam5([6,7,8,9],8)"
   ],
   "metadata": {
    "collapsed": false,
    "ExecuteTime": {
     "end_time": "2023-09-05T17:12:10.947789500Z",
     "start_time": "2023-09-05T17:12:10.931765400Z"
    }
   }
  },
  {
   "cell_type": "code",
   "execution_count": 21,
   "outputs": [
    {
     "data": {
      "text/plain": "2"
     },
     "execution_count": 21,
     "metadata": {},
     "output_type": "execute_result"
    }
   ],
   "source": [
    "exam5([6,7,8,9],7)"
   ],
   "metadata": {
    "collapsed": false,
    "ExecuteTime": {
     "end_time": "2023-09-05T17:12:11.265969600Z",
     "start_time": "2023-09-05T17:12:11.249937300Z"
    }
   }
  },
  {
   "cell_type": "code",
   "execution_count": 22,
   "outputs": [
    {
     "data": {
      "text/plain": "3"
     },
     "execution_count": 22,
     "metadata": {},
     "output_type": "execute_result"
    }
   ],
   "source": [
    "exam5([6,7,8,9],6)"
   ],
   "metadata": {
    "collapsed": false,
    "ExecuteTime": {
     "end_time": "2023-09-05T17:12:11.847853500Z",
     "start_time": "2023-09-05T17:12:11.817445700Z"
    }
   }
  },
  {
   "cell_type": "code",
   "execution_count": 23,
   "outputs": [],
   "source": [
    "\n",
    "\n",
    "def exam1(data,name,number):\n",
    "    data.append((name,number))\n",
    "    for step in range(len(data)):\n",
    "        max_idx = step\n",
    "        for i in range(step+1, len(data)):\n",
    "            if data[i][1]> data[max_idx][1]:\n",
    "                max_idx = i\n",
    "        (data[step], data[max_idx]) = (data[max_idx], data[step])\n",
    "    return data\n",
    "\n",
    "def exam2(array):\n",
    "    k=0\n",
    "    for step in range(len(array)):\n",
    "        min_idx = step\n",
    "\n",
    "        for i in range(step+1, len(array)):\n",
    "\n",
    "            if array[i] < array[min_idx]:\n",
    "                min_idx = i\n",
    "        if step != min_idx:\n",
    "            (array[step], array[min_idx]) =(array[min_idx], array[step])\n",
    "            k +=1\n",
    "    return k\n",
    "\n",
    "def exam3(mass):\n",
    "    weight = [0, 6, 4, 3, 5]\n",
    "    money =  [0, 13, 8, 6, 12]\n",
    "\n",
    "    array = [[0 for _ in range(mass+1)]for _ in range(5)]\n",
    "    for row in range(1, 5):\n",
    "        for col in range(1, mass+1):\n",
    "            if weight[row]> col:\n",
    "                array[row][col] = array[row-1][col]\n",
    "            else:\n",
    "                value1 = money[row] + array[row-1][col-weight[row]]\n",
    "                value2 = array[row-1][col]\n",
    "                array[row][col] = max(value1, value2)\n",
    "\n",
    "    return array[4][mass]\n",
    "\n",
    "def exam4(n,k):\n",
    "    number = [ str(i) for i in range(1,n+1)]\n",
    "\n",
    "    current = k-1\n",
    "\n",
    "    for i in range(n-1):\n",
    "        if len(number) == 1:\n",
    "            return number[0]\n",
    "\n",
    "        number[current]= '0'\n",
    "        for j in range(k):\n",
    "            current = (current+1)%n\n",
    "            while( number[current] =='0'):\n",
    "                current = (current+1)%n\n",
    "\n",
    "    for i in range(n):\n",
    "        if number[i] !='0':\n",
    "            return int(number[i])\n",
    "\n",
    "def exam5(array,x):\n",
    "    low = 0\n",
    "    high = len(array)-1\n",
    "    k = 0\n",
    "    while low <= high:\n",
    "        mid = low +(high-low+1)//2\n",
    "\n",
    "        if array[mid] == x:\n",
    "            k +=1\n",
    "            return k\n",
    "        elif array[mid] < x:\n",
    "            k +=1\n",
    "            low = mid+1\n",
    "        elif array[mid]>x:\n",
    "            k +=1\n",
    "            high = mid -1\n",
    "    return -1\n",
    "\n",
    "def exam6(string1, string2):\n",
    "    from itertools import combinations\n",
    "    tempa = len(string1)\n",
    "    tempb = len(string2)\n",
    "\n",
    "    # 긴문장을 무조건 1번에 두기위해서 크기비교\n",
    "    if tempa >= tempb:\n",
    "        str1,str2 = [i for i in string1],[j for j in string2]\n",
    "        lenA,lenB = tempa,tempb\n",
    "    else:\n",
    "        str2,str1 = [i for i in string1],[j for j in string2]\n",
    "        lenB,lenA= tempa,tempb\n",
    "\n",
    "    strcop1 =[]\n",
    "    strcop1f =[]\n",
    "    strcop2f =[]\n",
    "\n",
    "    combi1 = [i for i in range(len(str1)+3)]\n",
    "    position1 = []\n",
    "\n",
    "    for i in combinations(combi1, len(str1)):\n",
    "        position1.append(i)\n",
    "    strcop1f = [['-' for i in range(3)] for i in range(len(position1))  ]\n",
    "\n",
    "    for i in range(len(position1)):\n",
    "        for j in range(len(str1)):\n",
    "            strcop1f[i].insert(position1[i][j], str1[j])\n",
    "\n",
    "    # strcop2f 전처리 공백을 삽입\n",
    "    combi2 = [i for i in range(len(strcop1f[0]))]\n",
    "    position2 = []\n",
    "\n",
    "    for i in combinations(combi2, len(str2)):\n",
    "        position2.append(i)\n",
    "    strcop2f = [['-' for i in range(len(strcop1f[0])-lenB)] for i in range(len(position2))  ]\n",
    "\n",
    "    for i in range(len(position2)):\n",
    "        for j in range(len(str2)):\n",
    "            strcop2f[i].insert(position2[i][j], str2[j])\n",
    "\n",
    "    # 스코어 기록\n",
    "    dash = [[0 for i in range(len(strcop1f))] for j in range(len(strcop2f))]\n",
    "    dashtemp = [0 for i in range(len(strcop1f[0]))]\n",
    "\n",
    "    # 비교루프\n",
    "    for j in range(0, len(strcop2f)):\n",
    "        for i in range(0, len(strcop1f)):\n",
    "            for k in range(len(dashtemp)):\n",
    "                if strcop1f[i][k] == '-' and strcop2f[j][k] =='-':\n",
    "                    dashtemp[k] = 0\n",
    "                elif strcop1f[i][k] == strcop2f[j][k]:\n",
    "                    dashtemp[k] = 0\n",
    "                else: dashtemp[k]= 1\n",
    "            dash[j][i] = sum(dashtemp)\n",
    "\n",
    "    dashf = [0 for i in range(len(dash))]\n",
    "    for i in range(0, len(dash)):\n",
    "        dashf[i] = min(dash[i])\n",
    "    return min(dashf)"
   ],
   "metadata": {
    "collapsed": false,
    "ExecuteTime": {
     "end_time": "2023-09-05T17:12:12.396751600Z",
     "start_time": "2023-09-05T17:12:12.378018500Z"
    }
   }
  },
  {
   "cell_type": "code",
   "execution_count": 24,
   "outputs": [
    {
     "data": {
      "text/plain": "3"
     },
     "execution_count": 24,
     "metadata": {},
     "output_type": "execute_result"
    }
   ],
   "source": [
    "exam6(\"촌인라미큭\",'촌큭')"
   ],
   "metadata": {
    "collapsed": false,
    "ExecuteTime": {
     "end_time": "2023-09-05T17:12:13.581683900Z",
     "start_time": "2023-09-05T17:12:13.572172500Z"
    }
   }
  },
  {
   "cell_type": "code",
   "execution_count": 25,
   "outputs": [
    {
     "data": {
      "text/plain": "8"
     },
     "execution_count": 25,
     "metadata": {},
     "output_type": "execute_result"
    }
   ],
   "source": [
    "exam6(\"촌인다아라마리사다라미큭\",'촌다사큭')"
   ],
   "metadata": {
    "collapsed": false,
    "ExecuteTime": {
     "end_time": "2023-09-05T17:12:15.729999400Z",
     "start_time": "2023-09-05T17:12:14.183648700Z"
    }
   }
  },
  {
   "cell_type": "code",
   "execution_count": 26,
   "outputs": [
    {
     "data": {
      "text/plain": "8"
     },
     "execution_count": 26,
     "metadata": {},
     "output_type": "execute_result"
    }
   ],
   "source": [
    "exam6(\"촌인다아라마리사다라미큭\",'촌다사큭')"
   ],
   "metadata": {
    "collapsed": false,
    "ExecuteTime": {
     "end_time": "2023-09-05T17:12:17.181776600Z",
     "start_time": "2023-09-05T17:12:15.880723500Z"
    }
   }
  },
  {
   "cell_type": "code",
   "execution_count": 27,
   "outputs": [
    {
     "data": {
      "text/plain": "1"
     },
     "execution_count": 27,
     "metadata": {},
     "output_type": "execute_result"
    }
   ],
   "source": [
    "exam6(\"신촌역\",\"신역\")"
   ],
   "metadata": {
    "collapsed": false,
    "ExecuteTime": {
     "end_time": "2023-09-05T17:12:17.225956200Z",
     "start_time": "2023-09-05T17:12:17.182775900Z"
    }
   }
  },
  {
   "cell_type": "code",
   "execution_count": 28,
   "outputs": [
    {
     "data": {
      "text/plain": "3"
     },
     "execution_count": 28,
     "metadata": {},
     "output_type": "execute_result"
    }
   ],
   "source": [
    "exam6(\"가을 방망\", \"가망\")"
   ],
   "metadata": {
    "collapsed": false,
    "ExecuteTime": {
     "end_time": "2023-09-05T17:12:17.235029400Z",
     "start_time": "2023-09-05T17:12:17.201067600Z"
    }
   }
  },
  {
   "cell_type": "code",
   "execution_count": 29,
   "outputs": [
    {
     "data": {
      "text/plain": "2"
     },
     "execution_count": 29,
     "metadata": {},
     "output_type": "execute_result"
    }
   ],
   "source": [
    "exam6(\"서울\", \"부산\")"
   ],
   "metadata": {
    "collapsed": false,
    "ExecuteTime": {
     "end_time": "2023-09-05T17:12:17.235029400Z",
     "start_time": "2023-09-05T17:12:17.214095700Z"
    }
   }
  },
  {
   "cell_type": "code",
   "execution_count": 30,
   "outputs": [
    {
     "data": {
      "text/plain": "2"
     },
     "execution_count": 30,
     "metadata": {},
     "output_type": "execute_result"
    }
   ],
   "source": [
    "exam6(\"솜방망이\", \"솜이\")"
   ],
   "metadata": {
    "collapsed": false,
    "ExecuteTime": {
     "end_time": "2023-09-05T17:12:17.245361600Z",
     "start_time": "2023-09-05T17:12:17.228025300Z"
    }
   }
  },
  {
   "cell_type": "code",
   "execution_count": 31,
   "outputs": [
    {
     "data": {
      "text/plain": "3"
     },
     "execution_count": 31,
     "metadata": {},
     "output_type": "execute_result"
    }
   ],
   "source": [
    "exam6(\"가을방망\", \"방망이\")"
   ],
   "metadata": {
    "collapsed": false,
    "ExecuteTime": {
     "end_time": "2023-09-05T17:12:17.762099100Z",
     "start_time": "2023-09-05T17:12:17.744036400Z"
    }
   }
  },
  {
   "cell_type": "code",
   "execution_count": 32,
   "outputs": [
    {
     "data": {
      "text/plain": "1"
     },
     "execution_count": 32,
     "metadata": {},
     "output_type": "execute_result"
    }
   ],
   "source": [
    "exam6(\"방망이\", \"솜방망이\")"
   ],
   "metadata": {
    "collapsed": false,
    "ExecuteTime": {
     "end_time": "2023-09-05T17:12:18.070913400Z",
     "start_time": "2023-09-05T17:12:18.055847100Z"
    }
   }
  },
  {
   "cell_type": "code",
   "execution_count": 33,
   "outputs": [
    {
     "data": {
      "text/plain": "5"
     },
     "execution_count": 33,
     "metadata": {},
     "output_type": "execute_result"
    }
   ],
   "source": [
    "exam6(\"얼마나 분석이 될까요\",\"유사도나 분석 할까요\")"
   ],
   "metadata": {
    "collapsed": false,
    "ExecuteTime": {
     "end_time": "2023-09-05T17:12:18.783861400Z",
     "start_time": "2023-09-05T17:12:18.497329700Z"
    }
   }
  },
  {
   "cell_type": "code",
   "execution_count": 34,
   "outputs": [
    {
     "data": {
      "text/plain": "2"
     },
     "execution_count": 34,
     "metadata": {},
     "output_type": "execute_result"
    }
   ],
   "source": [
    "exam6(\"가을방망이\",\"방망이\")"
   ],
   "metadata": {
    "collapsed": false,
    "ExecuteTime": {
     "end_time": "2023-09-05T17:12:19.100035600Z",
     "start_time": "2023-09-05T17:12:19.071972Z"
    }
   }
  },
  {
   "cell_type": "code",
   "execution_count": 35,
   "outputs": [
    {
     "data": {
      "text/plain": "1"
     },
     "execution_count": 35,
     "metadata": {},
     "output_type": "execute_result"
    }
   ],
   "source": [
    "exam6(\"신촌역\",\"신천역\")"
   ],
   "metadata": {
    "collapsed": false,
    "ExecuteTime": {
     "end_time": "2023-09-05T17:12:19.723989800Z",
     "start_time": "2023-09-05T17:12:19.695909600Z"
    }
   }
  },
  {
   "cell_type": "code",
   "execution_count": 36,
   "outputs": [],
   "source": [
    "def exam6(string1, string2):\n",
    "    tempa = len(string1)\n",
    "    tempb = len(string2)\n",
    "\n",
    "    # 긴문장을 무조건 1번에 두기위해서 크기비교\n",
    "    if tempa >= tempb:\n",
    "        str1,str2 = [i for i in string1],[j for j in string2]\n",
    "        lenA, lenB = tempa, tempb\n",
    "    else:\n",
    "        str2,str1 = [i for i in string1],[j for j in string2]\n",
    "        lenA,lenB = tempb, tempa\n",
    "    str2.append('-')\n",
    "    str1.append('+')\n",
    "    str2.append('-')\n",
    "    str1.append('+')\n",
    "    str2.append('-')\n",
    "    str1.append('+')\n",
    "\n",
    "    dash = [['-' for i in range(len(str1))] for j in range(len(str2))]\n",
    "\n",
    "    current1 = 0\n",
    "    current2 = 0\n",
    "    point = 0\n",
    "    print(str1,str2)\n",
    "    print(\"str1길이:\",lenA)\n",
    "    print(\"str2길이:\",lenB)\n",
    "\n",
    "    while(current1 < lenA+2):\n",
    "        print(current2,current1)\n",
    "        if  current2 == lenB:\n",
    "            if str1[current1] == str2[current2-1]: # 오른쪽 일치\n",
    "                current1 +=1\n",
    "                dash[current2][current1] = point\n",
    "                print(dash)\n",
    "                continue\n",
    "            if str1[current1] != str2[current2-1]: # 오른쪽 다름\n",
    "                current1 +=1\n",
    "                point +=1\n",
    "                dash[current2][current1] = point\n",
    "                print(dash)\n",
    "            continue\n",
    "        elif str1[current1] == str2[current2]: # 대각선 아래 일치\n",
    "            current1 +=1\n",
    "            current2 +=1\n",
    "            dash[current2][current1] = point # 대각선 아래 표시\n",
    "            print(dash)\n",
    "            continue\n",
    "        elif str1[current1] == ' ': # 공백일때 삭제\n",
    "            current2 +=1\n",
    "            point += 1\n",
    "            dash[current2][current1] = point\n",
    "            print(dash)\n",
    "            continue\n",
    "        elif str2[current2] == ' ':\n",
    "            current1 +=1\n",
    "            point += 1\n",
    "            dash[current2][current1] = point\n",
    "            print(dash)\n",
    "            continue\n",
    "        elif str1[current1+1] == str2[current2]: # 삽입조건\n",
    "            current1 +=1\n",
    "            point += 1\n",
    "            dash[current2][current1] = point\n",
    "            print(dash)\n",
    "            continue\n",
    "        elif str1[current1] == str2[current2+1] :\n",
    "            current2 +=1\n",
    "            point += 1\n",
    "            dash[current2][current1] = point\n",
    "            print(dash)\n",
    "            continue\n",
    "        elif str1[current1+2] == str2[current2]: # 삽입조건\n",
    "            current1 +=1\n",
    "            point += 1\n",
    "            dash[current2][current1] = point\n",
    "            print(dash)\n",
    "            continue\n",
    "        elif str1[current1] == str2[current2+2] :\n",
    "            current2 +=1\n",
    "            point += 1\n",
    "            dash[current2][current1] = point\n",
    "            print(dash)\n",
    "            continue\n",
    "\n",
    "\n",
    "        elif str1[current1] != str2[current2] : #대각선 아래 다름\n",
    "            current1 += 1   # 변경조건\n",
    "            current2 += 1\n",
    "            point += 1\n",
    "            dash[current2][current1] = point\n",
    "            print(dash)\n",
    "            continue\n",
    "\n",
    "\n",
    "\n",
    "    return dash[lenB][lenA]"
   ],
   "metadata": {
    "collapsed": false,
    "ExecuteTime": {
     "end_time": "2023-09-05T17:12:20.591053300Z",
     "start_time": "2023-09-05T17:12:20.575029400Z"
    }
   }
  }
 ],
 "metadata": {
  "kernelspec": {
   "display_name": "Python 3",
   "language": "python",
   "name": "python3"
  },
  "language_info": {
   "codemirror_mode": {
    "name": "ipython",
    "version": 2
   },
   "file_extension": ".py",
   "mimetype": "text/x-python",
   "name": "python",
   "nbconvert_exporter": "python",
   "pygments_lexer": "ipython2",
   "version": "2.7.6"
  }
 },
 "nbformat": 4,
 "nbformat_minor": 0
}
