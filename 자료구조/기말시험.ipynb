{
 "cells": [
  {
   "cell_type": "code",
   "execution_count": 651,
   "metadata": {
    "collapsed": true
   },
   "outputs": [],
   "source": [
    "def exam1(data,name,number):\n",
    "    data.append((name,number))\n",
    "    for step in range(len(data)):\n",
    "        max_idx = step\n",
    "        for i in range(step+1, len(data)):\n",
    "            if data[i][1]> data[max_idx][1]:\n",
    "                max_idx = i\n",
    "        (data[step], data[max_idx]) = (data[max_idx], data[step])\n",
    "    return data"
   ]
  },
  {
   "cell_type": "code",
   "execution_count": 652,
   "outputs": [
    {
     "name": "stdout",
     "output_type": "stream",
     "text": [
      "[('John', 200), ('George', 150), ('Danial', 100), ('Charles', 50)]\n"
     ]
    }
   ],
   "source": [
    "print(exam1([('John',200), ('Danial',100),('Charles',50)],'George',150))"
   ],
   "metadata": {
    "collapsed": false
   }
  },
  {
   "cell_type": "code",
   "execution_count": 653,
   "outputs": [
    {
     "name": "stdout",
     "output_type": "stream",
     "text": [
      "[('george', 150), ('john', 100), ('kim', 50)]\n"
     ]
    }
   ],
   "source": [
    "print(exam1([('john',100),('george',150)], 'kim', 50))"
   ],
   "metadata": {
    "collapsed": false
   }
  },
  {
   "cell_type": "code",
   "execution_count": 654,
   "outputs": [
    {
     "name": "stdout",
     "output_type": "stream",
     "text": [
      "[('John', 200), ('Danial', 100), ('Charles', 50), ('Kim', 10)]\n"
     ]
    }
   ],
   "source": [
    "print(exam1([('John',200), ('Danial',100),('Charles',50)], 'Kim', 10))"
   ],
   "metadata": {
    "collapsed": false
   }
  },
  {
   "cell_type": "code",
   "execution_count": 655,
   "outputs": [],
   "source": [
    "def exam2(array):\n",
    "    k=0\n",
    "    for step in range(len(array)):\n",
    "        min_idx = step\n",
    "\n",
    "        for i in range(step+1, len(array)):\n",
    "\n",
    "            if array[i] < array[min_idx]:\n",
    "                min_idx = i\n",
    "        if step != min_idx:\n",
    "            (array[step], array[min_idx]) =(array[min_idx], array[step])\n",
    "            k +=1\n",
    "    return k"
   ],
   "metadata": {
    "collapsed": false
   }
  },
  {
   "cell_type": "code",
   "execution_count": 656,
   "outputs": [
    {
     "name": "stdout",
     "output_type": "stream",
     "text": [
      "2\n"
     ]
    }
   ],
   "source": [
    "print(exam2([20,12,10,15,2]))"
   ],
   "metadata": {
    "collapsed": false
   }
  },
  {
   "cell_type": "code",
   "execution_count": 657,
   "outputs": [
    {
     "name": "stdout",
     "output_type": "stream",
     "text": [
      "0\n"
     ]
    }
   ],
   "source": [
    "print(exam2([1,2,3]))"
   ],
   "metadata": {
    "collapsed": false
   }
  },
  {
   "cell_type": "code",
   "execution_count": 658,
   "outputs": [],
   "source": [
    "def exam3(mass):\n",
    "    weight = [0, 6, 4, 3, 5]\n",
    "    money =  [0, 13, 8, 6, 12]\n",
    "\n",
    "    array = [[0 for _ in range(mass+1)]for _ in range(5)]\n",
    "    for row in range(1, 5):\n",
    "        for col in range(1, mass+1):\n",
    "            if weight[row]> col:\n",
    "                array[row][col] = array[row-1][col]\n",
    "            else:\n",
    "                value1 = money[row] + array[row-1][col-weight[row]]\n",
    "                value2 = array[row-1][col]\n",
    "                array[row][col] = max(value1, value2)\n",
    "\n",
    "    return array[4][mass]"
   ],
   "metadata": {
    "collapsed": false
   }
  },
  {
   "cell_type": "code",
   "execution_count": 659,
   "outputs": [
    {
     "data": {
      "text/plain": "14"
     },
     "execution_count": 659,
     "metadata": {},
     "output_type": "execute_result"
    }
   ],
   "source": [
    "exam3(7)"
   ],
   "metadata": {
    "collapsed": false
   }
  },
  {
   "cell_type": "code",
   "execution_count": 660,
   "outputs": [
    {
     "data": {
      "text/plain": "20"
     },
     "execution_count": 660,
     "metadata": {},
     "output_type": "execute_result"
    }
   ],
   "source": [
    "exam3(9)"
   ],
   "metadata": {
    "collapsed": false
   }
  },
  {
   "cell_type": "code",
   "execution_count": 661,
   "outputs": [],
   "source": [
    "def exam4(n,k):\n",
    "    number = [ str(i) for i in range(1,n+1)]\n",
    "\n",
    "    current = k-1\n",
    "\n",
    "    for i in range(n-1):\n",
    "        if len(number) == 1:\n",
    "            return number[0]\n",
    "\n",
    "        number[current]= '0'\n",
    "        for j in range(k):\n",
    "            current = (current+1)%n\n",
    "            while( number[current] =='0'):\n",
    "                current = (current+1)%n\n",
    "\n",
    "    for i in range(n):\n",
    "        if number[i] !='0':\n",
    "            return int(number[i])"
   ],
   "metadata": {
    "collapsed": false
   }
  },
  {
   "cell_type": "code",
   "execution_count": 662,
   "outputs": [
    {
     "data": {
      "text/plain": "5"
     },
     "execution_count": 662,
     "metadata": {},
     "output_type": "execute_result"
    }
   ],
   "source": [
    "exam4(6,2)"
   ],
   "metadata": {
    "collapsed": false
   }
  },
  {
   "cell_type": "code",
   "execution_count": 663,
   "outputs": [
    {
     "data": {
      "text/plain": "1"
     },
     "execution_count": 663,
     "metadata": {},
     "output_type": "execute_result"
    }
   ],
   "source": [
    "exam4(6,3)"
   ],
   "metadata": {
    "collapsed": false
   }
  },
  {
   "cell_type": "code",
   "execution_count": 664,
   "outputs": [
    {
     "data": {
      "text/plain": "4"
     },
     "execution_count": 664,
     "metadata": {},
     "output_type": "execute_result"
    }
   ],
   "source": [
    "exam4(7,3)"
   ],
   "metadata": {
    "collapsed": false
   }
  },
  {
   "cell_type": "code",
   "execution_count": 665,
   "outputs": [],
   "source": [
    "def exam5(array,x):\n",
    "    low = 0\n",
    "    high = len(array)-1\n",
    "    k = 0\n",
    "    while low <= high:\n",
    "        mid = low +(high-low+1)//2\n",
    "\n",
    "        if array[mid] == x:\n",
    "            k +=1\n",
    "            return k\n",
    "        elif array[mid] < x:\n",
    "            k +=1\n",
    "            low = mid+1\n",
    "        elif array[mid]>x:\n",
    "            k +=1\n",
    "            high = mid -1\n",
    "    return -1"
   ],
   "metadata": {
    "collapsed": false
   }
  },
  {
   "cell_type": "code",
   "execution_count": 666,
   "outputs": [
    {
     "data": {
      "text/plain": "2"
     },
     "execution_count": 666,
     "metadata": {},
     "output_type": "execute_result"
    }
   ],
   "source": [
    "exam5([3, 4, 5, 6, 7, 8, 9], 4)"
   ],
   "metadata": {
    "collapsed": false
   }
  },
  {
   "cell_type": "code",
   "execution_count": 667,
   "outputs": [
    {
     "data": {
      "text/plain": "2"
     },
     "execution_count": 667,
     "metadata": {},
     "output_type": "execute_result"
    }
   ],
   "source": [
    "exam5([6, 7, 8, 9], 9)"
   ],
   "metadata": {
    "collapsed": false
   }
  },
  {
   "cell_type": "code",
   "execution_count": 668,
   "outputs": [
    {
     "data": {
      "text/plain": "1"
     },
     "execution_count": 668,
     "metadata": {},
     "output_type": "execute_result"
    }
   ],
   "source": [
    "exam5([1,2,3], 2)"
   ],
   "metadata": {
    "collapsed": false
   }
  },
  {
   "cell_type": "code",
   "execution_count": 669,
   "outputs": [
    {
     "data": {
      "text/plain": "2"
     },
     "execution_count": 669,
     "metadata": {},
     "output_type": "execute_result"
    }
   ],
   "source": [
    "exam5([6,7,8,9],9)"
   ],
   "metadata": {
    "collapsed": false
   }
  },
  {
   "cell_type": "code",
   "execution_count": 670,
   "outputs": [
    {
     "data": {
      "text/plain": "1"
     },
     "execution_count": 670,
     "metadata": {},
     "output_type": "execute_result"
    }
   ],
   "source": [
    "exam5([6,7,8,9],8)"
   ],
   "metadata": {
    "collapsed": false
   }
  },
  {
   "cell_type": "code",
   "execution_count": 671,
   "outputs": [
    {
     "data": {
      "text/plain": "2"
     },
     "execution_count": 671,
     "metadata": {},
     "output_type": "execute_result"
    }
   ],
   "source": [
    "exam5([6,7,8,9],7)"
   ],
   "metadata": {
    "collapsed": false
   }
  },
  {
   "cell_type": "code",
   "execution_count": 672,
   "outputs": [
    {
     "data": {
      "text/plain": "3"
     },
     "execution_count": 672,
     "metadata": {},
     "output_type": "execute_result"
    }
   ],
   "source": [
    "exam5([6,7,8,9],6)"
   ],
   "metadata": {
    "collapsed": false
   }
  },
  {
   "cell_type": "code",
   "execution_count": 2,
   "outputs": [],
   "source": [
    "\n",
    "\n",
    "def exam1(data,name,number):\n",
    "    data.append((name,number))\n",
    "    for step in range(len(data)):\n",
    "        max_idx = step\n",
    "        for i in range(step+1, len(data)):\n",
    "            if data[i][1]> data[max_idx][1]:\n",
    "                max_idx = i\n",
    "        (data[step], data[max_idx]) = (data[max_idx], data[step])\n",
    "    return data\n",
    "\n",
    "def exam2(array):\n",
    "    k=0\n",
    "    for step in range(len(array)):\n",
    "        min_idx = step\n",
    "\n",
    "        for i in range(step+1, len(array)):\n",
    "\n",
    "            if array[i] < array[min_idx]:\n",
    "                min_idx = i\n",
    "        if step != min_idx:\n",
    "            (array[step], array[min_idx]) =(array[min_idx], array[step])\n",
    "            k +=1\n",
    "    return k\n",
    "\n",
    "def exam3(mass):\n",
    "    weight = [0, 6, 4, 3, 5]\n",
    "    money =  [0, 13, 8, 6, 12]\n",
    "\n",
    "    array = [[0 for _ in range(mass+1)]for _ in range(5)]\n",
    "    for row in range(1, 5):\n",
    "        for col in range(1, mass+1):\n",
    "            if weight[row]> col:\n",
    "                array[row][col] = array[row-1][col]\n",
    "            else:\n",
    "                value1 = money[row] + array[row-1][col-weight[row]]\n",
    "                value2 = array[row-1][col]\n",
    "                array[row][col] = max(value1, value2)\n",
    "\n",
    "    return array[4][mass]\n",
    "\n",
    "def exam4(n,k):\n",
    "    number = [ str(i) for i in range(1,n+1)]\n",
    "\n",
    "    current = k-1\n",
    "\n",
    "    for i in range(n-1):\n",
    "        if len(number) == 1:\n",
    "            return number[0]\n",
    "\n",
    "        number[current]= '0'\n",
    "        for j in range(k):\n",
    "            current = (current+1)%n\n",
    "            while( number[current] =='0'):\n",
    "                current = (current+1)%n\n",
    "\n",
    "    for i in range(n):\n",
    "        if number[i] !='0':\n",
    "            return int(number[i])\n",
    "\n",
    "def exam5(array,x):\n",
    "    low = 0\n",
    "    high = len(array)-1\n",
    "    k = 0\n",
    "    while low <= high:\n",
    "        mid = low +(high-low+1)//2\n",
    "\n",
    "        if array[mid] == x:\n",
    "            k +=1\n",
    "            return k\n",
    "        elif array[mid] < x:\n",
    "            k +=1\n",
    "            low = mid+1\n",
    "        elif array[mid]>x:\n",
    "            k +=1\n",
    "            high = mid -1\n",
    "    return -1\n",
    "\n",
    "def exam6(string1, string2):\n",
    "    from itertools import combinations\n",
    "    tempa = len(string1)\n",
    "    tempb = len(string2)\n",
    "\n",
    "    # 긴문장을 무조건 1번에 두기위해서 크기비교\n",
    "    if tempa >= tempb:\n",
    "        str1,str2 = [i for i in string1],[j for j in string2]\n",
    "        lenA,lenB = tempa,tempb\n",
    "    else:\n",
    "        str2,str1 = [i for i in string1],[j for j in string2]\n",
    "        lenB,lenA= tempa,tempb\n",
    "\n",
    "    strcop1 =[]\n",
    "    strcop1f =[]\n",
    "    strcop2f =[]\n",
    "\n",
    "    combi1 = [i for i in range(len(str1)+3)]\n",
    "    position1 = []\n",
    "\n",
    "    for i in combinations(combi1, len(str1)):\n",
    "        position1.append(i)\n",
    "    strcop1f = [['-' for i in range(3)] for i in range(len(position1))  ]\n",
    "\n",
    "    for i in range(len(position1)):\n",
    "        for j in range(len(str1)):\n",
    "            strcop1f[i].insert(position1[i][j], str1[j])\n",
    "\n",
    "    # strcop2f 전처리 공백을 삽입\n",
    "    combi2 = [i for i in range(len(strcop1f[0]))]\n",
    "    position2 = []\n",
    "\n",
    "    for i in combinations(combi2, len(str2)):\n",
    "        position2.append(i)\n",
    "    strcop2f = [['-' for i in range(len(strcop1f[0])-lenB)] for i in range(len(position2))  ]\n",
    "\n",
    "    for i in range(len(position2)):\n",
    "        for j in range(len(str2)):\n",
    "            strcop2f[i].insert(position2[i][j], str2[j])\n",
    "\n",
    "    # 스코어 기록\n",
    "    dash = [[0 for i in range(len(strcop1f))] for j in range(len(strcop2f))]\n",
    "    dashtemp = [0 for i in range(len(strcop1f[0]))]\n",
    "\n",
    "    # 비교루프\n",
    "    for j in range(0, len(strcop2f)):\n",
    "        for i in range(0, len(strcop1f)):\n",
    "            for k in range(len(dashtemp)):\n",
    "                if strcop1f[i][k] == '-' and strcop2f[j][k] =='-':\n",
    "                    dashtemp[k] = 0\n",
    "                elif strcop1f[i][k] == strcop2f[j][k]:\n",
    "                    dashtemp[k] = 0\n",
    "                else: dashtemp[k]= 1\n",
    "            dash[j][i] = sum(dashtemp)\n",
    "\n",
    "    dashf = [0 for i in range(len(dash))]\n",
    "    for i in range(0, len(dash)):\n",
    "        dashf[i] = min(dash[i])\n",
    "    return min(dashf)"
   ],
   "metadata": {
    "collapsed": false
   }
  },
  {
   "cell_type": "code",
   "execution_count": 3,
   "outputs": [
    {
     "data": {
      "text/plain": "3"
     },
     "execution_count": 3,
     "metadata": {},
     "output_type": "execute_result"
    }
   ],
   "source": [
    "exam6(\"촌인라미큭\",'촌큭')"
   ],
   "metadata": {
    "collapsed": false
   }
  },
  {
   "cell_type": "code",
   "execution_count": 4,
   "outputs": [
    {
     "data": {
      "text/plain": "8"
     },
     "execution_count": 4,
     "metadata": {},
     "output_type": "execute_result"
    }
   ],
   "source": [
    "exam6(\"촌인다아라마리사다라미큭\",'촌다사큭')"
   ],
   "metadata": {
    "collapsed": false
   }
  },
  {
   "cell_type": "code",
   "execution_count": 5,
   "outputs": [
    {
     "data": {
      "text/plain": "8"
     },
     "execution_count": 5,
     "metadata": {},
     "output_type": "execute_result"
    }
   ],
   "source": [
    "exam6(\"촌인다아라마리사다라미큭\",'촌다사큭')"
   ],
   "metadata": {
    "collapsed": false
   }
  },
  {
   "cell_type": "code",
   "execution_count": 313,
   "outputs": [
    {
     "data": {
      "text/plain": "1"
     },
     "execution_count": 313,
     "metadata": {},
     "output_type": "execute_result"
    }
   ],
   "source": [
    "exam6(\"신촌역\",\"신역\")"
   ],
   "metadata": {
    "collapsed": false
   }
  },
  {
   "cell_type": "code",
   "execution_count": 314,
   "outputs": [
    {
     "data": {
      "text/plain": "3"
     },
     "execution_count": 314,
     "metadata": {},
     "output_type": "execute_result"
    }
   ],
   "source": [
    "exam6(\"가을 방망\", \"가망\")"
   ],
   "metadata": {
    "collapsed": false
   }
  },
  {
   "cell_type": "code",
   "execution_count": 315,
   "outputs": [
    {
     "data": {
      "text/plain": "2"
     },
     "execution_count": 315,
     "metadata": {},
     "output_type": "execute_result"
    }
   ],
   "source": [
    "exam6(\"서울\", \"부산\")"
   ],
   "metadata": {
    "collapsed": false
   }
  },
  {
   "cell_type": "code",
   "execution_count": 316,
   "outputs": [
    {
     "data": {
      "text/plain": "2"
     },
     "execution_count": 316,
     "metadata": {},
     "output_type": "execute_result"
    }
   ],
   "source": [
    "exam6(\"솜방망이\", \"솜이\")"
   ],
   "metadata": {
    "collapsed": false
   }
  },
  {
   "cell_type": "code",
   "execution_count": 317,
   "outputs": [
    {
     "data": {
      "text/plain": "3"
     },
     "execution_count": 317,
     "metadata": {},
     "output_type": "execute_result"
    }
   ],
   "source": [
    "exam6(\"가을방망\", \"방망이\")"
   ],
   "metadata": {
    "collapsed": false
   }
  },
  {
   "cell_type": "code",
   "execution_count": 318,
   "outputs": [
    {
     "data": {
      "text/plain": "1"
     },
     "execution_count": 318,
     "metadata": {},
     "output_type": "execute_result"
    }
   ],
   "source": [
    "exam6(\"방망이\", \"솜방망이\")"
   ],
   "metadata": {
    "collapsed": false
   }
  },
  {
   "cell_type": "code",
   "execution_count": 319,
   "outputs": [
    {
     "data": {
      "text/plain": "5"
     },
     "execution_count": 319,
     "metadata": {},
     "output_type": "execute_result"
    }
   ],
   "source": [
    "exam6(\"얼마나 분석이 될까요\",\"유사도나 분석 할까요\")"
   ],
   "metadata": {
    "collapsed": false
   }
  },
  {
   "cell_type": "code",
   "execution_count": 320,
   "outputs": [
    {
     "data": {
      "text/plain": "2"
     },
     "execution_count": 320,
     "metadata": {},
     "output_type": "execute_result"
    }
   ],
   "source": [
    "exam6(\"가을방망이\",\"방망이\")"
   ],
   "metadata": {
    "collapsed": false
   }
  },
  {
   "cell_type": "code",
   "execution_count": 321,
   "outputs": [
    {
     "data": {
      "text/plain": "1"
     },
     "execution_count": 321,
     "metadata": {},
     "output_type": "execute_result"
    }
   ],
   "source": [
    "exam6(\"신촌역\",\"신천역\")"
   ],
   "metadata": {
    "collapsed": false
   }
  },
  {
   "cell_type": "code",
   "execution_count": 650,
   "outputs": [
    {
     "ename": "IndentationError",
     "evalue": "unindent does not match any outer indentation level (<tokenize>, line 9)",
     "output_type": "error",
     "traceback": [
      "\u001B[1;36m  File \u001B[1;32m<tokenize>:9\u001B[1;36m\u001B[0m\n\u001B[1;33m    가을방망\u001B[0m\n\u001B[1;37m    ^\u001B[0m\n\u001B[1;31mIndentationError\u001B[0m\u001B[1;31m:\u001B[0m unindent does not match any outer indentation level\n"
     ]
    }
   ],
   "source": [
    "def exam6(string1, string2):\n",
    "    tempa = len(string1)\n",
    "    tempb = len(string2)\n",
    "\n",
    "    # 긴문장을 무조건 1번에 두기위해서 크기비교\n",
    "    if tempa >= tempb:\n",
    "        str1,str2 = [i for i in string1],[j for j in string2]\n",
    "        lenA, lenB = tempa, tempb\n",
    "    else:\n",
    "        str2,str1 = [i for i in string1],[j for j in string2]\n",
    "        lenA,lenB = tempb, tempa\n",
    "    str2.append('-')\n",
    "    str1.append('+')\n",
    "    str2.append('-')\n",
    "    str1.append('+')\n",
    "    str2.append('-')\n",
    "    str1.append('+')\n",
    "\n",
    "    dash = [['-' for i in range(len(str1))] for j in range(len(str2))]\n",
    "\n",
    "    current1 = 0\n",
    "    current2 = 0\n",
    "    point = 0\n",
    "    print(str1,str2)\n",
    "    print(\"str1길이:\",lenA)\n",
    "    print(\"str2길이:\",lenB)\n",
    "\n",
    "    while(current1 < lenA+2):\n",
    "        print(current2,current1)\n",
    "        if  current2 == lenB:\n",
    "            if str1[current1] == str2[current2-1]: # 오른쪽 일치\n",
    "                current1 +=1\n",
    "                dash[current2][current1] = point\n",
    "                print(dash)\n",
    "                continue\n",
    "            if str1[current1] != str2[current2-1]: # 오른쪽 다름\n",
    "                current1 +=1\n",
    "                point +=1\n",
    "                dash[current2][current1] = point\n",
    "                print(dash)\n",
    "            continue\n",
    "        elif str1[current1] == str2[current2]: # 대각선 아래 일치\n",
    "            current1 +=1\n",
    "            current2 +=1\n",
    "            dash[current2][current1] = point # 대각선 아래 표시\n",
    "            print(dash)\n",
    "            continue\n",
    "        elif str1[current1] == ' ': # 공백일때 삭제\n",
    "            current2 +=1\n",
    "            point += 1\n",
    "            dash[current2][current1] = point\n",
    "            print(dash)\n",
    "            continue\n",
    "        elif str2[current2] == ' ':\n",
    "            current1 +=1\n",
    "            point += 1\n",
    "            dash[current2][current1] = point\n",
    "            print(dash)\n",
    "            continue\n",
    "        elif str1[current1+1] == str2[current2]: # 삽입조건\n",
    "            current1 +=1\n",
    "            point += 1\n",
    "            dash[current2][current1] = point\n",
    "            print(dash)\n",
    "            continue\n",
    "        elif str1[current1] == str2[current2+1] :\n",
    "            current2 +=1\n",
    "            point += 1\n",
    "            dash[current2][current1] = point\n",
    "            print(dash)\n",
    "            continue\n",
    "        elif str1[current1+2] == str2[current2]: # 삽입조건\n",
    "            current1 +=1\n",
    "            point += 1\n",
    "            dash[current2][current1] = point\n",
    "            print(dash)\n",
    "            continue\n",
    "        elif str1[current1] == str2[current2+2] :\n",
    "            current2 +=1\n",
    "            point += 1\n",
    "            dash[current2][current1] = point\n",
    "            print(dash)\n",
    "            continue\n",
    "\n",
    "\n",
    "        elif str1[current1] != str2[current2] : #대각선 아래 다름\n",
    "            current1 += 1   # 변경조건\n",
    "            current2 += 1\n",
    "            point += 1\n",
    "            dash[current2][current1] = point\n",
    "            print(dash)\n",
    "            continue\n",
    "\n",
    "\n",
    "\n",
    "    return dash[lenB][lenA]"
   ],
   "metadata": {
    "collapsed": false
   }
  },
  {
   "cell_type": "code",
   "execution_count": null,
   "outputs": [],
   "source": [],
   "metadata": {
    "collapsed": false
   }
  }
 ],
 "metadata": {
  "kernelspec": {
   "display_name": "Python 3",
   "language": "python",
   "name": "python3"
  },
  "language_info": {
   "codemirror_mode": {
    "name": "ipython",
    "version": 2
   },
   "file_extension": ".py",
   "mimetype": "text/x-python",
   "name": "python",
   "nbconvert_exporter": "python",
   "pygments_lexer": "ipython2",
   "version": "2.7.6"
  }
 },
 "nbformat": 4,
 "nbformat_minor": 0
}
