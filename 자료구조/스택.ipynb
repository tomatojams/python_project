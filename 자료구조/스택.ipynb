{
 "cells": [
  {
   "cell_type": "code",
   "execution_count": 2,
   "metadata": {
    "collapsed": true
   },
   "outputs": [],
   "source": [
    "#스택 핵심코드 구현\n",
    "stack = [None, None,None]\n",
    "top = -1"
   ]
  },
  {
   "cell_type": "code",
   "execution_count": 3,
   "outputs": [],
   "source": [
    "#push 구현\n",
    "top += 1\n",
    "stack[top] = \"cuk.edu\"\n",
    "top += 1\n",
    "stack[top] = \"naver.com\"\n",
    "top += 1\n",
    "stack[top] = \"google.com\""
   ],
   "metadata": {
    "collapsed": false
   }
  },
  {
   "cell_type": "code",
   "execution_count": 5,
   "outputs": [
    {
     "name": "stdout",
     "output_type": "stream",
     "text": [
      "-----스택상태----\n",
      "google.com\n",
      "naver.com\n",
      "cuk.edu\n"
     ]
    }
   ],
   "source": [
    "# 스택데이타 출력\n",
    "print(\"-----스택상태----\")\n",
    "for i in range(len(stack)-1, -1, -1):\n",
    "    print(stack[i])"
   ],
   "metadata": {
    "collapsed": false
   }
  },
  {
   "cell_type": "code",
   "execution_count": null,
   "outputs": [],
   "source": [],
   "metadata": {
    "collapsed": false
   }
  },
  {
   "cell_type": "code",
   "execution_count": 8,
   "outputs": [
    {
     "name": "stdout",
     "output_type": "stream",
     "text": [
      "------------\n",
      "pop--> cuk.edu\n"
     ]
    }
   ],
   "source": [
    "# Pop 구현\n",
    "print(\"------------\")\n",
    "data = stack[top]\n",
    "stack[top] = None\n",
    "top -= 1\n",
    "print(\"pop-->\", data)\n"
   ],
   "metadata": {
    "collapsed": false
   }
  },
  {
   "cell_type": "code",
   "execution_count": 9,
   "outputs": [
    {
     "name": "stdout",
     "output_type": "stream",
     "text": [
      "-----스택상태----\n",
      "None\n",
      "None\n",
      "None\n"
     ]
    }
   ],
   "source": [
    "# 스택데이타 출력\n",
    "print(\"-----스택상태----\")\n",
    "for i in range(len(stack)-1, -1, -1):\n",
    "    print(stack[i])"
   ],
   "metadata": {
    "collapsed": false
   }
  },
  {
   "cell_type": "code",
   "execution_count": 10,
   "outputs": [],
   "source": [
    "#스택초기화\n",
    "SIZE = 5\n",
    "stack = [ None for _ in range(SIZE)]\n",
    "top = -1"
   ],
   "metadata": {
    "collapsed": false
   }
  },
  {
   "cell_type": "code",
   "execution_count": 13,
   "outputs": [],
   "source": [
    "#스택함수구현\n",
    "# PUSH\n",
    "\n",
    "def isStackFull():\n",
    "    global SIZE, stack, top\n",
    "    if (top >= SIZE -1):\n",
    "        return True\n",
    "    else:\n",
    "        return False\n",
    "\n",
    "def push(data):\n",
    "    global SIZE, stack, top\n",
    "    if(isStackFull()):\n",
    "        print(\"스택이 꽉 찼습니다.\")\n",
    "        return\n",
    "    top += 1\n",
    "    stack[top] =data\n",
    "\n",
    "# Pop\n",
    "\n",
    "def isStackEmpty():\n",
    "    global SIZE, stack, top\n",
    "    if(top == -1):\n",
    "        return True\n",
    "    else:\n",
    "        return False\n",
    "\n",
    "def pop():\n",
    "    global SIZE, stack, top\n",
    "    if(isStackEmpty()):\n",
    "        print(\"스택이 비었습니다.\")\n",
    "        return None\n",
    "    data = stack[top]\n",
    "    stack[top] = None\n",
    "    top -= 1\n",
    "    return data"
   ],
   "metadata": {
    "collapsed": false
   }
  },
  {
   "cell_type": "code",
   "execution_count": 14,
   "outputs": [],
   "source": [
    "def peek():\n",
    "    global SIZE, stack, top\n",
    "    if(isStackEmptpy()):\n",
    "        print(\"스택이 비었습니다.\")\n",
    "        return None\n",
    "    return stack[top]"
   ],
   "metadata": {
    "collapsed": false
   }
  },
  {
   "cell_type": "code",
   "execution_count": 20,
   "outputs": [
    {
     "name": "stdout",
     "output_type": "stream",
     "text": [
      "edu.cuk\n",
      "김지한\n",
      "스택이 비었습니다.\n",
      "None\n"
     ]
    }
   ],
   "source": [
    "push(\"김지한\")\n",
    "push(\"edu.cuk\")\n",
    "print(pop())\n",
    "print(pop())\n",
    "print(pop())\n"
   ],
   "metadata": {
    "collapsed": false
   }
  },
  {
   "cell_type": "code",
   "execution_count": null,
   "outputs": [],
   "source": [],
   "metadata": {
    "collapsed": false
   }
  }
 ],
 "metadata": {
  "kernelspec": {
   "display_name": "Python 3",
   "language": "python",
   "name": "python3"
  },
  "language_info": {
   "codemirror_mode": {
    "name": "ipython",
    "version": 2
   },
   "file_extension": ".py",
   "mimetype": "text/x-python",
   "name": "python",
   "nbconvert_exporter": "python",
   "pygments_lexer": "ipython2",
   "version": "2.7.6"
  }
 },
 "nbformat": 4,
 "nbformat_minor": 0
}
