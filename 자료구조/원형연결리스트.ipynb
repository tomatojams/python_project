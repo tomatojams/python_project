{
 "cells": [
  {
   "cell_type": "markdown",
   "source": [
    "원형연결리스트 정의"
   ],
   "metadata": {
    "collapsed": false
   }
  },
  {
   "cell_type": "code",
   "execution_count": 3,
   "outputs": [],
   "source": [
    "class Node():\n",
    "    def __init__(self):\n",
    "        self.data = None\n",
    "        self.link = None"
   ],
   "metadata": {
    "collapsed": false
   }
  },
  {
   "cell_type": "code",
   "execution_count": 4,
   "outputs": [],
   "source": [
    "#첫번째 노드생성\n",
    "node1 = Node()\n",
    "\n",
    "node1.data = '서울'\n",
    "head = node1\n",
    "node1.link = node1"
   ],
   "metadata": {
    "collapsed": false
   }
  },
  {
   "cell_type": "code",
   "execution_count": 5,
   "outputs": [
    {
     "name": "stdout",
     "output_type": "stream",
     "text": [
      "서울\n",
      "서울\n",
      "서울\n"
     ]
    }
   ],
   "source": [
    "print(node1.data)\n",
    "print(node1.link.data)\n",
    "print(node1.link.link.data)"
   ],
   "metadata": {
    "collapsed": false
   }
  },
  {
   "cell_type": "code",
   "execution_count": 6,
   "outputs": [],
   "source": [
    "node2 = Node()\n",
    "node2.data = '대구'\n",
    "node1.link = node2\n",
    "node2.link = node1"
   ],
   "metadata": {
    "collapsed": false
   }
  },
  {
   "cell_type": "code",
   "execution_count": 7,
   "outputs": [
    {
     "name": "stdout",
     "output_type": "stream",
     "text": [
      "서울\n",
      "대구\n",
      "서울\n",
      "대구\n"
     ]
    }
   ],
   "source": [
    "print(node1.data)\n",
    "print(node1.link.data)\n",
    "print(node1.link.link.data)\n",
    "print(node1.link.link.link.data)"
   ],
   "metadata": {
    "collapsed": false
   }
  },
  {
   "cell_type": "code",
   "execution_count": 8,
   "outputs": [],
   "source": [
    "node3 = Node()\n",
    "node3.data = '부산'\n",
    "node2.link = node3\n",
    "\n",
    "node3.link = node1"
   ],
   "metadata": {
    "collapsed": false
   }
  },
  {
   "cell_type": "code",
   "execution_count": 9,
   "outputs": [
    {
     "name": "stdout",
     "output_type": "stream",
     "text": [
      "서울 대구 부산 "
     ]
    }
   ],
   "source": [
    "current = node1\n",
    "print(current.data, end=' ')\n",
    "while current.link != node1:\n",
    "    current = current.link\n",
    "    print(current.data, end=' ')\n"
   ],
   "metadata": {
    "collapsed": false
   }
  },
  {
   "cell_type": "markdown",
   "source": [
    "#첫번째 자리에 데이타삽입"
   ],
   "metadata": {
    "collapsed": false
   }
  },
  {
   "cell_type": "code",
   "execution_count": 10,
   "outputs": [],
   "source": [
    "newNode = Node()\n",
    "newNode.link = head\n",
    "newNode.data = '파주'"
   ],
   "metadata": {
    "collapsed": false
   }
  },
  {
   "cell_type": "code",
   "execution_count": 11,
   "outputs": [
    {
     "name": "stdout",
     "output_type": "stream",
     "text": [
      "서울 파주 "
     ]
    }
   ],
   "source": [
    "last = head\n",
    "\n",
    "print(last.data, end=' ')\n",
    "while last.link != head:\n",
    "    last = last.link\n",
    "last.link = newNode\n",
    "head = newNode\n",
    "print(head.data, end=' ')\n"
   ],
   "metadata": {
    "collapsed": false,
    "pycharm": {
     "name": "#%%ㅣ\n"
    }
   }
  },
  {
   "cell_type": "code",
   "execution_count": 12,
   "outputs": [
    {
     "name": "stdout",
     "output_type": "stream",
     "text": [
      "파주 서울 대구 부산 "
     ]
    }
   ],
   "source": [
    "#원형리스트 출력\n",
    "\n",
    "current = head\n",
    "print(current.data, end=' ')\n",
    "while current.link != head:\n",
    "    current = current.link\n",
    "    print(current.data, end=' ')"
   ],
   "metadata": {
    "collapsed": false
   }
  },
  {
   "cell_type": "code",
   "execution_count": 13,
   "outputs": [],
   "source": [
    "#중간에 데이타 삽입\n",
    "\n",
    "while current.link != head:\n",
    "    pre = current\n",
    "    current = current.link\n",
    "    if current.data == '부산':\n",
    "        node = Node()\n",
    "        node.data = '포항'\n",
    "        node.link = current\n",
    "        pre.link = node"
   ],
   "metadata": {
    "collapsed": false
   }
  },
  {
   "cell_type": "code",
   "execution_count": 27,
   "outputs": [
    {
     "name": "stdout",
     "output_type": "stream",
     "text": [
      "서울 부산 제주 제주 제주 "
     ]
    }
   ],
   "source": [
    "# 원형리스트 출력\n",
    "current = head\n",
    "print(current.data, end=' ')\n",
    "while current.link != head:\n",
    "    current = current.link\n",
    "    print(current.data, end=' ')"
   ],
   "metadata": {
    "collapsed": false
   }
  },
  {
   "cell_type": "code",
   "execution_count": 26,
   "outputs": [],
   "source": [
    "# 마지막 자리에 데이타 삽입\n",
    "current = head\n",
    "while current.link != head:\n",
    "    current = current.link\n",
    "\n",
    "newNode = Node()\n",
    "newNode.data = '제주'\n",
    "current.link = newNode\n",
    "newNode.link = head"
   ],
   "metadata": {
    "collapsed": false
   }
  },
  {
   "cell_type": "code",
   "execution_count": 17,
   "outputs": [],
   "source": [
    "# 데이타 삭제: 첫번째노드 삭제\n",
    "node1st = head\n",
    "head = head.link\n",
    "\n",
    "last = head\n",
    "while last.link != node1st:\n",
    "    last = last.link\n",
    "\n",
    "last.link = head\n",
    "del (node1st)"
   ],
   "metadata": {
    "collapsed": false
   }
  },
  {
   "cell_type": "code",
   "execution_count": 23,
   "outputs": [],
   "source": [
    "#첫번째 노드외 삭제\n",
    "\n",
    "current = head\n",
    "\n",
    "while current.link != head:\n",
    "    pre = current\n",
    "    current = current.link\n",
    "    if current.data == '대구':\n",
    "        pre.link = current.link\n",
    "        del (current)"
   ],
   "metadata": {
    "collapsed": false
   }
  },
  {
   "cell_type": "code",
   "execution_count": 28,
   "outputs": [
    {
     "name": "stdout",
     "output_type": "stream",
     "text": [
      "부산\n"
     ]
    }
   ],
   "source": [
    "#데이터 검색구현\n",
    "\n",
    "current = head\n",
    "if current.data == '부산':\n",
    "    print(current.data)\n",
    "while current.link != head:\n",
    "    current = current.link\n",
    "    if current.data == '부산':\n",
    "        print(current.data)"
   ],
   "metadata": {
    "collapsed": false
   }
  },
  {
   "cell_type": "code",
   "execution_count": 29,
   "outputs": [],
   "source": [
    "del (head, current, pre)"
   ],
   "metadata": {
    "collapsed": false
   }
  },
  {
   "cell_type": "code",
   "execution_count": 32,
   "outputs": [],
   "source": [
    "# 원형리스트 함수로 구현하기\n",
    "class Node():\n",
    "    def __init__(self):\n",
    "        self.data = None\n",
    "        self.link = None\n",
    "\n",
    "\n",
    "def printNode(start):\n",
    "    current = start\n",
    "    if current.link == None:  # 원형리스트라서 None이 될수없음\n",
    "        return\n",
    "    print(current.data, end=' ')\n",
    "    while current.link != start:\n",
    "        current = current.link\n",
    "        print(current.data, end=' ')\n",
    "    print()\n",
    "\n",
    "\n",
    "def insertNode(findData, insertData):\n",
    "    global memory, head, current, pre\n",
    "\n",
    "    if head.data == findData:  #첫번째에 노드삽입\n",
    "        node = Node()\n",
    "        node.data = insertData\n",
    "        node.link = head\n",
    "\n",
    "        last = head\n",
    "        while last.link != head:\n",
    "            last = last.link\n",
    "        last.link = node\n",
    "        head = node\n",
    "        return\n",
    "\n",
    "    current = head  #중간에 노드삽입\n",
    "    while current.data != head:\n",
    "        pre = current\n",
    "        current = current.link\n",
    "        if current.data == findData:\n",
    "            node = Node()\n",
    "            node.data = insertData\n",
    "            node.link = current\n",
    "            pre.link = node\n",
    "            return\n",
    "\n",
    "    node = Node()  # 마지막 노드 삽입\n",
    "    node.data = insertData\n",
    "    current.link = node\n",
    "    node.link = head\n",
    "\n",
    "\n",
    "def findNode(findData):\n",
    "    global memory, head, current, pre\n",
    "\n",
    "    current = head\n",
    "    if current.data == findData:\n",
    "        return current\n",
    "    while current.link != head:\n",
    "        current = current.link\n",
    "        if current.data == findData:\n",
    "            return current\n",
    "    return Node()\n",
    "\n",
    "\n",
    "def deleteNode(deleteData):\n",
    "    global memory, head, current, pre\n",
    "\n",
    "    if head.data == deleteData:\n",
    "        current = head\n",
    "        head = head.link\n",
    "        del (current)\n",
    "        return\n",
    "\n",
    "    current = head\n",
    "    while current.link != head:\n",
    "        pre = current\n",
    "        current = current.link\n",
    "        if current.data == deleteData:\n",
    "            pre.link = current.link\n",
    "            del (current)\n",
    "            return\n",
    "\n",
    "\n"
   ],
   "metadata": {
    "collapsed": false
   }
  },
  {
   "cell_type": "code",
   "execution_count": 33,
   "outputs": [
    {
     "name": "stdout",
     "output_type": "stream",
     "text": [
      "서울 대전 부산 \n",
      "파주 서울 천안 대전 부산 \n"
     ]
    }
   ],
   "source": [
    "head, current, pre = None, None, None\n",
    "memory = []\n",
    "dataArray = [\"서울\", \"대전\", \"부산\"]\n",
    "\n",
    "node = Node()\n",
    "node.data = dataArray[0]\n",
    "head = node\n",
    "node.link = head\n",
    "memory.append(node)\n",
    "\n",
    "for data in dataArray[1:]:\n",
    "    pre = node\n",
    "    node = Node()\n",
    "    node.data = data\n",
    "    pre.link = node\n",
    "    node.link = head\n",
    "    memory.append(node)\n",
    "\n",
    "printNode(head)\n",
    "findNode('대전')\n",
    "insertNode('대전', '천안')\n",
    "insertNode('서울', '파주')\n",
    "printNode(head)\n",
    "deleteNode('서울')"
   ],
   "metadata": {
    "collapsed": false
   }
  },
  {
   "cell_type": "markdown",
   "source": [],
   "metadata": {
    "collapsed": false
   }
  }
 ],
 "metadata": {
  "kernelspec": {
   "display_name": "Python 3",
   "language": "python",
   "name": "python3"
  },
  "language_info": {
   "codemirror_mode": {
    "name": "ipython",
    "version": 2
   },
   "file_extension": ".py",
   "mimetype": "text/x-python",
   "name": "python",
   "nbconvert_exporter": "python",
   "pygments_lexer": "ipython2",
   "version": "2.7.6"
  }
 },
 "nbformat": 4,
 "nbformat_minor": 0
}
