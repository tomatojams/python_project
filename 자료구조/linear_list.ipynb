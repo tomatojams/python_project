{
 "cells": [
  {
   "cell_type": "code",
   "execution_count": 1,
   "outputs": [
    {
     "name": "stdout",
     "output_type": "stream",
     "text": [
      "['가을동화', '나의 아저씨', '라바', '마틸다', '프렌즈']\n",
      "가을동화\n",
      "나의 아저씨\n"
     ]
    }
   ],
   "source": [
    "media = [\"가을동화\", \"나의 아저씨\", \"라바\",\"마틸다\", \"프렌즈\"]\n",
    "print(media)\n",
    "print(media[0])\n",
    "print(media[1])"
   ],
   "metadata": {
    "collapsed": false,
    "ExecuteTime": {
     "end_time": "2023-09-06T09:24:01.149312200Z",
     "start_time": "2023-09-06T09:24:01.109305500Z"
    }
   }
  },
  {
   "cell_type": "code",
   "execution_count": 2,
   "outputs": [
    {
     "name": "stdout",
     "output_type": "stream",
     "text": [
      "['가을동화', '나의 아저씨', '라바', '마틸다', '프렌즈', None]\n"
     ]
    }
   ],
   "source": [
    "media.append(None)\n",
    "print(media)"
   ],
   "metadata": {
    "collapsed": false,
    "ExecuteTime": {
     "end_time": "2023-09-06T09:24:01.156785200Z",
     "start_time": "2023-09-06T09:24:01.122342700Z"
    }
   }
  },
  {
   "cell_type": "code",
   "execution_count": 3,
   "outputs": [
    {
     "name": "stdout",
     "output_type": "stream",
     "text": [
      "['가을동화', '나의 아저씨', '라바', '마틸다', '프렌즈', '히트맨']\n"
     ]
    }
   ],
   "source": [
    "media[5] = \"히트맨\"\n",
    "print(media)"
   ],
   "metadata": {
    "collapsed": false,
    "ExecuteTime": {
     "end_time": "2023-09-06T09:24:01.469409300Z",
     "start_time": "2023-09-06T09:24:01.441346100Z"
    }
   }
  },
  {
   "cell_type": "code",
   "execution_count": 4,
   "outputs": [
    {
     "name": "stdout",
     "output_type": "stream",
     "text": [
      "[]\n",
      "['이보리', '라바']\n"
     ]
    }
   ],
   "source": [
    "media = []\n",
    "\n",
    "def insert_data(position, media_name):\n",
    "\n",
    "    if position < 0 or position >len(media):\n",
    "        print(\"데이타 삽입위치를 벗어남\")\n",
    "        return\n",
    "\n",
    "    media.append(None)\n",
    "    mlen = len(media)\n",
    "\n",
    "    for i in range(mlen -1, position, -1):\n",
    "        media[i] = media[i-1]\n",
    "        media[i-1] = None\n",
    "    media[position] = media_name\n",
    "\n",
    "\n",
    "print(media)\n",
    "insert_data(0,\"라바\")\n",
    "insert_data(0,\"이보리\")\n",
    "print(media)"
   ],
   "metadata": {
    "collapsed": false,
    "ExecuteTime": {
     "end_time": "2023-09-06T09:24:02.294169500Z",
     "start_time": "2023-09-06T09:24:02.272896200Z"
    }
   }
  },
  {
   "cell_type": "code",
   "execution_count": 5,
   "outputs": [
    {
     "name": "stdout",
     "output_type": "stream",
     "text": [
      "['라바']\n"
     ]
    }
   ],
   "source": [
    "def del_data(position):\n",
    "    if position < 0 or position > len(media):\n",
    "        print(\"데이타 삽입위치 벗어남\")\n",
    "        return\n",
    "\n",
    "    mlen = len(media)\n",
    "    media[position] = None\n",
    "\n",
    "    for i in range(position+1, mlen):\n",
    "        media[i-1] = media[i]\n",
    "        media[i] = None\n",
    "    del(media[mlen-1])\n",
    "\n",
    "del_data(0)\n",
    "print(media)"
   ],
   "metadata": {
    "collapsed": false,
    "ExecuteTime": {
     "end_time": "2023-09-06T09:24:03.321989400Z",
     "start_time": "2023-09-06T09:24:03.313955900Z"
    }
   }
  },
  {
   "cell_type": "code",
   "execution_count": null,
   "outputs": [],
   "source": [],
   "metadata": {
    "collapsed": false
   }
  }
 ],
 "metadata": {
  "kernelspec": {
   "display_name": "Python 3",
   "language": "python",
   "name": "python3"
  },
  "language_info": {
   "codemirror_mode": {
    "name": "ipython",
    "version": 2
   },
   "file_extension": ".py",
   "mimetype": "text/x-python",
   "name": "python",
   "nbconvert_exporter": "python",
   "pygments_lexer": "ipython2",
   "version": "2.7.6"
  }
 },
 "nbformat": 4,
 "nbformat_minor": 0
}
