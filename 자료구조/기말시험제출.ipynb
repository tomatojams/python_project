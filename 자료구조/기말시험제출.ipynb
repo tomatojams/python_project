{
 "cells": [
  {
   "cell_type": "code",
   "execution_count": 1,
   "outputs": [],
   "source": [
    "def exam1(data,name,number):\n",
    "    data.append((name,number))\n",
    "    for step in range(len(data)):\n",
    "        max_idx = step\n",
    "        for i in range(step+1, len(data)):\n",
    "            if data[i][1]> data[max_idx][1]:\n",
    "                max_idx = i\n",
    "        (data[step], data[max_idx]) = (data[max_idx], data[step])\n",
    "    return data\n",
    "\n",
    "def exam2(array):\n",
    "    k=0\n",
    "    for step in range(len(array)):\n",
    "        min_idx = step\n",
    "        for i in range(step+1, len(array)):\n",
    "            if array[i] < array[min_idx]:\n",
    "                min_idx = i\n",
    "        if step != min_idx:\n",
    "            (array[step], array[min_idx]) =(array[min_idx], array[step])\n",
    "            k +=1\n",
    "    return k\n",
    "\n",
    "def exam3(mass):\n",
    "    weight = [0, 6, 4, 3, 5]\n",
    "    money =  [0, 13, 8, 6, 12]\n",
    "\n",
    "    array = [[0 for _ in range(mass+1)]for _ in range(5)]\n",
    "    for row in range(1, 5):\n",
    "        for col in range(1, mass+1):\n",
    "            if weight[row]> col:\n",
    "                array[row][col] = array[row-1][col]\n",
    "            else:\n",
    "                value1 = money[row] + array[row-1][col-weight[row]]\n",
    "                value2 = array[row-1][col]\n",
    "                array[row][col] = max(value1, value2)\n",
    "    return array[4][mass]\n",
    "\n",
    "def exam4(n,k):\n",
    "    number = [ str(i) for i in range(1,n+1)]\n",
    "\n",
    "    current = k-1\n",
    "\n",
    "    for i in range(n-1):\n",
    "        if len(number) == 1:\n",
    "            return number[0]\n",
    "\n",
    "        number[current]= '0'\n",
    "        for j in range(k):\n",
    "            current = (current+1)%n\n",
    "            while( number[current] =='0'):\n",
    "                current = (current+1)%n\n",
    "\n",
    "    for i in range(n):\n",
    "        if number[i] !='0':\n",
    "            return int(number[i])\n",
    "\n",
    "\n",
    "def exam5(array,x):\n",
    "    low = 0\n",
    "    high = len(array)-1\n",
    "    k = 0\n",
    "    while low <= high:\n",
    "        k +=1\n",
    "        mid = low +(high-low+1)//2\n",
    "        if array[mid] == x:\n",
    "            return k\n",
    "        elif array[mid] < x:\n",
    "            low = mid+1\n",
    "        elif array[mid]>x:\n",
    "            high = mid -1\n",
    "    return -1\n",
    "\n",
    "def exam6(str1, str2):\n",
    "    #초기화\n",
    "    dash = [[0 for _ in range(len(str1))] for _ in range(len(str2))]\n",
    "    for i in range(len(str1)):\n",
    "        dash[0][i] = i\n",
    "    for j in range(len(str2)):\n",
    "        dash[j][0] = j\n",
    "    #행렬계산\n",
    "    for j in range(1, len(str2)):\n",
    "        for i in range(1, len(str1)):\n",
    "            maintain_replace = dash[j-1][i-1] + (0 if(str1[i-1] == str2[j-1]) else 1) #대각선 전의 값을참조\n",
    "            insert = dash[j-1][i] +1 # 바로 위의 값을 참조해서 +1, 삽입이라서 현재 칼럼에 위치\n",
    "            delete = dash[j][i-1] +1 # 왼쪽 값을 참조해서 +1, 삭제라서 다음칼럼 위치\n",
    "            dash[j][i] =min(maintain_replace, insert, delete) # 네가지 변경점중 가장 최소의 값을 적어줌\n",
    "    return dash[-1][-1] # 마지막값이 최소변경값"
   ],
   "metadata": {
    "collapsed": false,
    "ExecuteTime": {
     "end_time": "2023-09-06T09:24:39.196847800Z",
     "start_time": "2023-09-06T09:24:39.192334900Z"
    }
   }
  },
  {
   "cell_type": "code",
   "execution_count": 2,
   "outputs": [],
   "source": [
    "def exam5(array, x):\n",
    "    low = 0\n",
    "    high = len(array) - 1\n",
    "    count = 0\n",
    "\n",
    "    while low <= high:\n",
    "        count += 1\n",
    "        mid = (low + high+1) // 2\n",
    "        if array[mid] == x:\n",
    "            return count\n",
    "        elif array[mid] < x:\n",
    "            low = mid + 1\n",
    "        else:\n",
    "            high = mid - 1\n",
    "\n",
    "    return -1"
   ],
   "metadata": {
    "collapsed": false,
    "ExecuteTime": {
     "end_time": "2023-09-06T09:24:42.059395600Z",
     "start_time": "2023-09-06T09:24:42.046856800Z"
    }
   }
  },
  {
   "cell_type": "code",
   "execution_count": 3,
   "outputs": [],
   "source": [
    "def exam4(n,k):\n",
    "    number = [ i for i in range(1,n+1)]\n",
    "    current = k-1\n",
    "\n",
    "    for i in range(n-1):\n",
    "        number[current] = 0\n",
    "        for j in range(k):\n",
    "            current = (current+1)%n\n",
    "            while( number[current] == 0):\n",
    "                current = (current+1)%n\n",
    "    return sum(number)"
   ],
   "metadata": {
    "collapsed": false,
    "ExecuteTime": {
     "end_time": "2023-09-06T09:24:45.609938100Z",
     "start_time": "2023-09-06T09:24:45.597262200Z"
    }
   }
  },
  {
   "cell_type": "code",
   "execution_count": 4,
   "outputs": [
    {
     "name": "stdout",
     "output_type": "stream",
     "text": [
      "[('John', 200), ('George', 150), ('Danial', 100), ('Charles', 50)]\n",
      "[('george', 150), ('john', 100), ('kim', 50)]\n",
      "[('John', 200), ('Danial', 100), ('Kim', 90), ('Charles', 50)]\n"
     ]
    }
   ],
   "source": [
    "print(exam1([('John', 200), ('Danial', 100), ('Charles', 50)], 'George', 150))\n",
    "print(exam1([('john', 100), ('george', 150)], 'kim', 50))\n",
    "print(exam1([('John', 200), ('Danial', 100), ('Charles', 50)], 'Kim', 90))"
   ],
   "metadata": {
    "collapsed": false,
    "ExecuteTime": {
     "end_time": "2023-09-06T09:24:46.825972400Z",
     "start_time": "2023-09-06T09:24:46.814239Z"
    }
   }
  },
  {
   "cell_type": "code",
   "execution_count": 5,
   "outputs": [
    {
     "name": "stdout",
     "output_type": "stream",
     "text": [
      "2\n",
      "0\n"
     ]
    }
   ],
   "source": [
    "print(exam2([20, 12, 10, 15, 2]))\n",
    "print(exam2([1, 2, 3]))"
   ],
   "metadata": {
    "collapsed": false,
    "ExecuteTime": {
     "end_time": "2023-09-06T09:24:47.825739600Z",
     "start_time": "2023-09-06T09:24:47.812198900Z"
    }
   }
  },
  {
   "cell_type": "code",
   "execution_count": 6,
   "outputs": [
    {
     "name": "stdout",
     "output_type": "stream",
     "text": [
      "14\n",
      "20\n"
     ]
    }
   ],
   "source": [
    "print(exam3(7))\n",
    "print(exam3(9))"
   ],
   "metadata": {
    "collapsed": false,
    "ExecuteTime": {
     "end_time": "2023-09-06T09:24:49.042476Z",
     "start_time": "2023-09-06T09:24:49.028368800Z"
    }
   }
  },
  {
   "cell_type": "code",
   "execution_count": 7,
   "outputs": [
    {
     "name": "stdout",
     "output_type": "stream",
     "text": [
      "5\n",
      "1\n",
      "4\n"
     ]
    },
    {
     "data": {
      "text/plain": "int"
     },
     "execution_count": 7,
     "metadata": {},
     "output_type": "execute_result"
    }
   ],
   "source": [
    "print(exam4(6, 2))\n",
    "print(exam4(6, 3))\n",
    "print(exam4(7, 3))\n",
    "type(exam4(7, 1))"
   ],
   "metadata": {
    "collapsed": false,
    "ExecuteTime": {
     "end_time": "2023-09-06T09:24:49.961410400Z",
     "start_time": "2023-09-06T09:24:49.948382300Z"
    }
   }
  },
  {
   "cell_type": "code",
   "execution_count": 8,
   "outputs": [
    {
     "name": "stdout",
     "output_type": "stream",
     "text": [
      "2\n",
      "2\n",
      "1\n",
      "2\n",
      "1\n",
      "2\n",
      "3\n"
     ]
    }
   ],
   "source": [
    "print(exam5([3, 4, 5, 6, 7, 8, 9], 4))\n",
    "print(exam5([6, 7, 8, 9], 9))\n",
    "print(exam5([1, 2, 3], 2))\n",
    "print(exam5([6, 7, 8, 9], 9))\n",
    "print(exam5([6, 7, 8, 9], 8))\n",
    "print(exam5([6, 7, 8, 9], 7))\n",
    "print(exam5([6, 7, 8, 9], 6))"
   ],
   "metadata": {
    "collapsed": false,
    "ExecuteTime": {
     "end_time": "2023-09-06T09:24:52.336966Z",
     "start_time": "2023-09-06T09:24:52.325053300Z"
    }
   }
  },
  {
   "cell_type": "code",
   "execution_count": 9,
   "outputs": [
    {
     "data": {
      "text/plain": "3"
     },
     "execution_count": 9,
     "metadata": {},
     "output_type": "execute_result"
    }
   ],
   "source": [
    "exam6(\"촌인라미큭\",'촌큭')"
   ],
   "metadata": {
    "collapsed": false,
    "ExecuteTime": {
     "end_time": "2023-09-06T09:24:53.254856100Z",
     "start_time": "2023-09-06T09:24:53.244832600Z"
    }
   }
  },
  {
   "cell_type": "code",
   "execution_count": 10,
   "outputs": [
    {
     "data": {
      "text/plain": "3"
     },
     "execution_count": 10,
     "metadata": {},
     "output_type": "execute_result"
    }
   ],
   "source": [
    "exam6(\"가나다라마바\",'가다바')"
   ],
   "metadata": {
    "collapsed": false,
    "ExecuteTime": {
     "end_time": "2023-09-06T09:24:54.537295100Z",
     "start_time": "2023-09-06T09:24:54.524558600Z"
    }
   }
  },
  {
   "cell_type": "code",
   "execution_count": 11,
   "outputs": [
    {
     "data": {
      "text/plain": "5"
     },
     "execution_count": 11,
     "metadata": {},
     "output_type": "execute_result"
    }
   ],
   "source": [
    "exam6(\"가나다라바사아자차\",'가다사차')"
   ],
   "metadata": {
    "collapsed": false,
    "ExecuteTime": {
     "end_time": "2023-09-06T09:24:56.361256400Z",
     "start_time": "2023-09-06T09:24:56.346721700Z"
    }
   }
  },
  {
   "cell_type": "code",
   "execution_count": 12,
   "outputs": [
    {
     "data": {
      "text/plain": "1"
     },
     "execution_count": 12,
     "metadata": {},
     "output_type": "execute_result"
    }
   ],
   "source": [
    "exam6(\"신촌역\",\"신역\")"
   ],
   "metadata": {
    "collapsed": false,
    "ExecuteTime": {
     "end_time": "2023-09-06T09:24:57.307022800Z",
     "start_time": "2023-09-06T09:24:57.291480Z"
    }
   }
  },
  {
   "cell_type": "code",
   "execution_count": 13,
   "outputs": [
    {
     "data": {
      "text/plain": "2"
     },
     "execution_count": 13,
     "metadata": {},
     "output_type": "execute_result"
    }
   ],
   "source": [
    "exam6(\"가을방망\", \"가망\")"
   ],
   "metadata": {
    "collapsed": false,
    "ExecuteTime": {
     "end_time": "2023-09-06T09:24:59.089285800Z",
     "start_time": "2023-09-06T09:24:59.059238300Z"
    }
   }
  },
  {
   "cell_type": "code",
   "execution_count": 14,
   "outputs": [
    {
     "data": {
      "text/plain": "3"
     },
     "execution_count": 14,
     "metadata": {},
     "output_type": "execute_result"
    }
   ],
   "source": [
    "exam6(\"가을방망\", \"방망이\") # 수정\n"
   ],
   "metadata": {
    "collapsed": false,
    "ExecuteTime": {
     "end_time": "2023-09-06T09:25:00.055783500Z",
     "start_time": "2023-09-06T09:25:00.036151800Z"
    }
   }
  },
  {
   "cell_type": "code",
   "execution_count": 15,
   "outputs": [
    {
     "data": {
      "text/plain": "5"
     },
     "execution_count": 15,
     "metadata": {},
     "output_type": "execute_result"
    }
   ],
   "source": [
    "exam6(\"얼마나 분석이 될까요\",\"유사도나 분석 할까요\")"
   ],
   "metadata": {
    "collapsed": false,
    "ExecuteTime": {
     "end_time": "2023-09-06T09:25:01.273988100Z",
     "start_time": "2023-09-06T09:25:01.259444Z"
    }
   }
  },
  {
   "cell_type": "code",
   "execution_count": 16,
   "outputs": [
    {
     "data": {
      "text/plain": "1"
     },
     "execution_count": 16,
     "metadata": {},
     "output_type": "execute_result"
    }
   ],
   "source": [
    "exam6(\"신촌역\",\"신천역\")"
   ],
   "metadata": {
    "collapsed": false,
    "ExecuteTime": {
     "end_time": "2023-09-06T09:25:05.288819800Z",
     "start_time": "2023-09-06T09:25:05.275279100Z"
    }
   }
  },
  {
   "cell_type": "code",
   "execution_count": 41,
   "outputs": [
    {
     "data": {
      "text/plain": "1"
     },
     "execution_count": 41,
     "metadata": {},
     "output_type": "execute_result"
    }
   ],
   "source": [
    "exam6(\"서울\", \"부산\")"
   ],
   "metadata": {
    "collapsed": false
   }
  },
  {
   "cell_type": "code",
   "execution_count": 42,
   "outputs": [
    {
     "data": {
      "text/plain": "2"
     },
     "execution_count": 42,
     "metadata": {},
     "output_type": "execute_result"
    }
   ],
   "source": [
    "exam6(\"솜방망이\", \"솜이\")"
   ],
   "metadata": {
    "collapsed": false
   }
  },
  {
   "cell_type": "code",
   "execution_count": 43,
   "outputs": [
    {
     "data": {
      "text/plain": "1"
     },
     "execution_count": 43,
     "metadata": {},
     "output_type": "execute_result"
    }
   ],
   "source": [
    "exam6(\"방망이\", \"솜방망이\")"
   ],
   "metadata": {
    "collapsed": false
   }
  },
  {
   "cell_type": "code",
   "execution_count": null,
   "outputs": [],
   "source": [],
   "metadata": {
    "collapsed": false
   }
  }
 ],
 "metadata": {
  "kernelspec": {
   "display_name": "Python 3",
   "language": "python",
   "name": "python3"
  },
  "language_info": {
   "codemirror_mode": {
    "name": "ipython",
    "version": 2
   },
   "file_extension": ".py",
   "mimetype": "text/x-python",
   "name": "python",
   "nbconvert_exporter": "python",
   "pygments_lexer": "ipython2",
   "version": "2.7.6"
  }
 },
 "nbformat": 4,
 "nbformat_minor": 0
}
