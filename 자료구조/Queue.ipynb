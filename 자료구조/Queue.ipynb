{
 "cells": [
  {
   "cell_type": "code",
   "execution_count": 11,
   "metadata": {
    "collapsed": true
   },
   "outputs": [
    {
     "name": "stdout",
     "output_type": "stream",
     "text": [
      "-----큐 상태-----\n",
      "[출구]<-- python java scala <--[입구]\n"
     ]
    }
   ],
   "source": [
    "queue = [None, None, None]\n",
    "front = rear = -1\n",
    "# enQueue\n",
    "\n",
    "rear += 1\n",
    "queue[rear] = 'python'\n",
    "rear += 1\n",
    "queue[rear] = 'java'\n",
    "rear += 1\n",
    "queue[rear] = 'scala'\n",
    "\n",
    "# 큐에 있는 데이타 출력\n",
    "\n",
    "print(\"-----큐 상태-----\")\n",
    "print('[출구]<--', end=' ')\n",
    "for i in range(0, len(queue), 1):\n",
    "    print(queue[i], end=' ')\n",
    "print('<--[입구]')"
   ]
  },
  {
   "cell_type": "code",
   "execution_count": 12,
   "outputs": [
    {
     "name": "stdout",
     "output_type": "stream",
     "text": [
      "deQueue --> python\n"
     ]
    }
   ],
   "source": [
    "#dequeue 구현\n",
    "\n",
    "front += 1\n",
    "data = queue[front]\n",
    "queue[front] = None\n",
    "print('deQueue -->', data)"
   ],
   "metadata": {
    "collapsed": false
   }
  },
  {
   "cell_type": "code",
   "execution_count": 13,
   "outputs": [
    {
     "name": "stdout",
     "output_type": "stream",
     "text": [
      "-----큐 상태-----\n",
      "[출구]<-- None java scala <--[입구]\n"
     ]
    }
   ],
   "source": [
    "print(\"-----큐 상태-----\")\n",
    "print('[출구]<--', end=' ')\n",
    "for i in range(0, len(queue), 1):\n",
    "    print(queue[i], end=' ')\n",
    "print('<--[입구]')"
   ],
   "metadata": {
    "collapsed": false
   }
  },
  {
   "cell_type": "code",
   "execution_count": 14,
   "outputs": [],
   "source": [
    "#큐함수 구현\n",
    "def isQueueFull():\n",
    "    global SIZE, queue, front, rear\n",
    "    if(rear == SIZE -1):\n",
    "        return True\n",
    "    else:\n",
    "        return False"
   ],
   "metadata": {
    "collapsed": false
   }
  },
  {
   "cell_type": "code",
   "execution_count": 15,
   "outputs": [],
   "source": [
    "def enQueue(data):\n",
    "    global SIZE, queue, front, rear\n",
    "    if(isQueueFull()):\n",
    "        print(\"큐가 꽉찼습니다.\")\n",
    "        return\n",
    "    rear += 1\n",
    "    queue[rear] = data"
   ],
   "metadata": {
    "collapsed": false
   }
  },
  {
   "cell_type": "code",
   "execution_count": 23,
   "outputs": [],
   "source": [
    "def isQueueEmpty():\n",
    "    global SIZE, queue, front, rear\n",
    "    if(front == rear):\n",
    "        return True\n",
    "    else:\n",
    "        return False"
   ],
   "metadata": {
    "collapsed": false
   }
  },
  {
   "cell_type": "code",
   "execution_count": 24,
   "outputs": [],
   "source": [
    "def deQueue():\n",
    "    global SIZE, queue, front, rear\n",
    "    if(isQueueEmpty()):\n",
    "        print(\"큐가 비었습니다\")\n",
    "        return None\n",
    "    front += 1\n",
    "    data = queue[front]\n",
    "    queue[front] = None\n",
    "    return data"
   ],
   "metadata": {
    "collapsed": false
   }
  },
  {
   "cell_type": "code",
   "execution_count": 25,
   "outputs": [],
   "source": [
    "def checkQueue():\n",
    "    print(\"-----큐 상태-----\")\n",
    "    print('[출구]<--', end= ' ')\n",
    "    for i in range(0, len(queue), 1):\n",
    "        print(queue[i], end=' ')\n",
    "    print('<--[입구]')\n"
   ],
   "metadata": {
    "collapsed": false
   }
  },
  {
   "cell_type": "code",
   "execution_count": 26,
   "outputs": [],
   "source": [
    "#함수사용(일반큐)\n",
    "SIZE = 5\n",
    "queue = [None for _ in range(SIZE)]\n",
    "front = rear = -1\n",
    "enQueue('banana')\n",
    "enQueue('orange')\n",
    "enQueue('apple')\n",
    "enQueue('melon')\n",
    "enQueue('tomato')"
   ],
   "metadata": {
    "collapsed": false
   }
  },
  {
   "cell_type": "code",
   "execution_count": 27,
   "outputs": [
    {
     "name": "stdout",
     "output_type": "stream",
     "text": [
      "-----큐 상태-----\n",
      "[출구]<-- banana orange apple melon tomato <--[입구]\n"
     ]
    }
   ],
   "source": [
    "checkQueue()"
   ],
   "metadata": {
    "collapsed": false
   }
  },
  {
   "cell_type": "code",
   "execution_count": 28,
   "outputs": [
    {
     "name": "stdout",
     "output_type": "stream",
     "text": [
      "큐가 꽉찼습니다.\n"
     ]
    }
   ],
   "source": [
    "enQueue('water melon')"
   ],
   "metadata": {
    "collapsed": false
   }
  },
  {
   "cell_type": "code",
   "execution_count": 29,
   "outputs": [
    {
     "name": "stdout",
     "output_type": "stream",
     "text": [
      "-----큐 상태-----\n",
      "[출구]<-- None orange apple melon tomato <--[입구]\n"
     ]
    }
   ],
   "source": [
    "deQueue()\n",
    "checkQueue()"
   ],
   "metadata": {
    "collapsed": false
   }
  },
  {
   "cell_type": "code",
   "execution_count": 30,
   "outputs": [
    {
     "name": "stdout",
     "output_type": "stream",
     "text": [
      "-----큐 상태-----\n",
      "[출구]<-- None None apple melon tomato <--[입구]\n"
     ]
    }
   ],
   "source": [
    "deQueue()\n",
    "checkQueue()"
   ],
   "metadata": {
    "collapsed": false
   }
  },
  {
   "cell_type": "code",
   "execution_count": 31,
   "outputs": [
    {
     "name": "stdout",
     "output_type": "stream",
     "text": [
      "-----큐 상태-----\n",
      "[출구]<-- None None None melon tomato <--[입구]\n"
     ]
    }
   ],
   "source": [
    "deQueue()\n",
    "checkQueue()"
   ],
   "metadata": {
    "collapsed": false
   }
  },
  {
   "cell_type": "code",
   "execution_count": 32,
   "outputs": [
    {
     "name": "stdout",
     "output_type": "stream",
     "text": [
      "큐가 꽉찼습니다.\n"
     ]
    }
   ],
   "source": [
    "enQueue('apple')"
   ],
   "metadata": {
    "collapsed": false
   }
  },
  {
   "cell_type": "code",
   "execution_count": 34,
   "outputs": [
    {
     "name": "stdout",
     "output_type": "stream",
     "text": [
      "-----큐 상태-----\n",
      "[출구]<-- None None None None tomato <--[입구]\n"
     ]
    }
   ],
   "source": [
    "deQueue()\n",
    "checkQueue()"
   ],
   "metadata": {
    "collapsed": false
   }
  },
  {
   "cell_type": "code",
   "execution_count": 35,
   "outputs": [
    {
     "name": "stdout",
     "output_type": "stream",
     "text": [
      "-----큐 상태-----\n",
      "[출구]<-- None None None None None <--[입구]\n"
     ]
    }
   ],
   "source": [
    "deQueue()\n",
    "checkQueue()"
   ],
   "metadata": {
    "collapsed": false
   }
  },
  {
   "cell_type": "code",
   "execution_count": 36,
   "outputs": [
    {
     "name": "stdout",
     "output_type": "stream",
     "text": [
      "큐가 꽉찼습니다.\n"
     ]
    }
   ],
   "source": [
    "enQueue('apple')"
   ],
   "metadata": {
    "collapsed": false
   }
  },
  {
   "cell_type": "code",
   "execution_count": 37,
   "outputs": [],
   "source": [
    "# 원형큐 구현\n",
    "\n",
    "def isQueueFull():\n",
    "    global SIZE,queue, front, rear\n",
    "    if((rear+1)%SIZE == front):\n",
    "        return True\n",
    "    else:\n",
    "        return False"
   ],
   "metadata": {
    "collapsed": false
   }
  },
  {
   "cell_type": "code",
   "execution_count": 39,
   "outputs": [],
   "source": [
    "def enQueue(data):\n",
    "    global SIZE, queue, front, rear\n",
    "    if(isQueueFull()):\n",
    "        print(\"큐가 가득찼습니다.\")\n",
    "        return\n",
    "    rear = (rear+1)%SIZE\n",
    "    queue[rear] = data"
   ],
   "metadata": {
    "collapsed": false
   }
  },
  {
   "cell_type": "code",
   "execution_count": 42,
   "outputs": [],
   "source": [
    "def deQueue():\n",
    "    global SIZE, queue, front, rear\n",
    "    if(isQueueEmpty()):\n",
    "        print(\"큐가 비었습니다.\")\n",
    "        return None\n",
    "    front = (front+1)%SIZE\n",
    "    data = queue[front]\n",
    "    queue[front] = None\n",
    "    return data"
   ],
   "metadata": {
    "collapsed": false
   }
  },
  {
   "cell_type": "code",
   "execution_count": 43,
   "outputs": [],
   "source": [
    "SIZE = 5\n",
    "queue = [ None for _ in range(SIZE)]\n",
    "front = rear = 0\n",
    "\n",
    "enQueue('banana')\n",
    "enQueue('orange')\n",
    "enQueue('apple')\n",
    "enQueue('melon')"
   ],
   "metadata": {
    "collapsed": false
   }
  },
  {
   "cell_type": "code",
   "execution_count": 44,
   "outputs": [
    {
     "name": "stdout",
     "output_type": "stream",
     "text": [
      "-----큐 상태-----\n",
      "[출구]<-- None banana orange apple melon <--[입구]\n"
     ]
    }
   ],
   "source": [
    "checkQueue()"
   ],
   "metadata": {
    "collapsed": false
   }
  },
  {
   "cell_type": "code",
   "execution_count": 45,
   "outputs": [
    {
     "name": "stdout",
     "output_type": "stream",
     "text": [
      "큐가 가득찼습니다.\n"
     ]
    }
   ],
   "source": [
    "enQueue('water_melon'\n",
    ")"
   ],
   "metadata": {
    "collapsed": false
   }
  },
  {
   "cell_type": "code",
   "execution_count": 46,
   "outputs": [
    {
     "name": "stdout",
     "output_type": "stream",
     "text": [
      "banana\n"
     ]
    }
   ],
   "source": [
    "print(deQueue())"
   ],
   "metadata": {
    "collapsed": false
   }
  },
  {
   "cell_type": "code",
   "execution_count": 47,
   "outputs": [
    {
     "name": "stdout",
     "output_type": "stream",
     "text": [
      "-----큐 상태-----\n",
      "[출구]<-- None None orange apple melon <--[입구]\n"
     ]
    }
   ],
   "source": [
    "checkQueue()"
   ],
   "metadata": {
    "collapsed": false
   }
  },
  {
   "cell_type": "code",
   "execution_count": 49,
   "outputs": [
    {
     "name": "stdout",
     "output_type": "stream",
     "text": [
      "큐가 가득찼습니다.\n",
      "-----큐 상태-----\n",
      "[출구]<-- tomato None orange apple melon <--[입구]\n"
     ]
    }
   ],
   "source": [
    "enQueue('tomato')\n",
    "checkQueue()"
   ],
   "metadata": {
    "collapsed": false
   }
  },
  {
   "cell_type": "code",
   "execution_count": 50,
   "outputs": [
    {
     "name": "stdout",
     "output_type": "stream",
     "text": [
      "큐가 가득찼습니다.\n"
     ]
    }
   ],
   "source": [
    "enQueue('water_melon'\n",
    ")"
   ],
   "metadata": {
    "collapsed": false
   }
  },
  {
   "cell_type": "code",
   "execution_count": 51,
   "outputs": [
    {
     "name": "stdout",
     "output_type": "stream",
     "text": [
      "orange\n"
     ]
    }
   ],
   "source": [
    "print(deQueue())"
   ],
   "metadata": {
    "collapsed": false
   }
  },
  {
   "cell_type": "code",
   "execution_count": 52,
   "outputs": [
    {
     "name": "stdout",
     "output_type": "stream",
     "text": [
      "apple\n"
     ]
    }
   ],
   "source": [
    "print(deQueue())"
   ],
   "metadata": {
    "collapsed": false
   }
  },
  {
   "cell_type": "code",
   "execution_count": 53,
   "outputs": [
    {
     "name": "stdout",
     "output_type": "stream",
     "text": [
      "melon\n"
     ]
    }
   ],
   "source": [
    "print(deQueue())"
   ],
   "metadata": {
    "collapsed": false
   }
  },
  {
   "cell_type": "code",
   "execution_count": 54,
   "outputs": [
    {
     "name": "stdout",
     "output_type": "stream",
     "text": [
      "-----큐 상태-----\n",
      "[출구]<-- tomato None None None None <--[입구]\n"
     ]
    }
   ],
   "source": [
    "checkQueue()"
   ],
   "metadata": {
    "collapsed": false
   }
  },
  {
   "cell_type": "code",
   "execution_count": 55,
   "outputs": [
    {
     "name": "stdout",
     "output_type": "stream",
     "text": [
      "tomato\n"
     ]
    }
   ],
   "source": [
    "print(deQueue())"
   ],
   "metadata": {
    "collapsed": false
   }
  },
  {
   "cell_type": "code",
   "execution_count": 56,
   "outputs": [
    {
     "name": "stdout",
     "output_type": "stream",
     "text": [
      "-----큐 상태-----\n",
      "[출구]<-- None None None None None <--[입구]\n"
     ]
    }
   ],
   "source": [
    "checkQueue()"
   ],
   "metadata": {
    "collapsed": false
   }
  },
  {
   "cell_type": "code",
   "execution_count": 57,
   "outputs": [
    {
     "name": "stdout",
     "output_type": "stream",
     "text": [
      "큐가 비었습니다.\n",
      "None\n"
     ]
    }
   ],
   "source": [
    "print(deQueue())"
   ],
   "metadata": {
    "collapsed": false
   }
  },
  {
   "cell_type": "code",
   "execution_count": null,
   "outputs": [],
   "source": [],
   "metadata": {
    "collapsed": false
   }
  }
 ],
 "metadata": {
  "kernelspec": {
   "display_name": "Python 3",
   "language": "python",
   "name": "python3"
  },
  "language_info": {
   "codemirror_mode": {
    "name": "ipython",
    "version": 2
   },
   "file_extension": ".py",
   "mimetype": "text/x-python",
   "name": "python",
   "nbconvert_exporter": "python",
   "pygments_lexer": "ipython2",
   "version": "2.7.6"
  }
 },
 "nbformat": 4,
 "nbformat_minor": 0
}
