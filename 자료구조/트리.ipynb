{
 "cells": [
  {
   "cell_type": "code",
   "execution_count": 12,
   "outputs": [],
   "source": [
    "class TreeNode():\n",
    "    def __init__(self):\n",
    "        self.left = None\n",
    "        self.data = None\n",
    "        self.right = None\n",
    "\n",
    "def preorder(node):\n",
    "    if node == None:\n",
    "        return\n",
    "\n",
    "    print(node.data, end = '->')\n",
    "    preorder(node.left)\n",
    "    preorder(node.right)\n",
    "\n",
    "\n",
    "def inorder(node):\n",
    "    if node == None:\n",
    "        return\n",
    "    inorder(node.left)\n",
    "    print(node.data, end='->')\n",
    "    inorder(node.right)\n",
    "\n",
    "def postorder(node):\n",
    "    if node == None:\n",
    "        return\n",
    "    postorder(node.left)\n",
    "    postorder(node.right)\n",
    "    print(node.data, end = '->')"
   ],
   "metadata": {
    "collapsed": false
   }
  },
  {
   "cell_type": "code",
   "execution_count": 13,
   "outputs": [],
   "source": [
    "memory = []\n",
    "root = None\n",
    "dataAry = [8,3,10,1,6,14,4,7]"
   ],
   "metadata": {
    "collapsed": false
   }
  },
  {
   "cell_type": "code",
   "execution_count": 14,
   "outputs": [],
   "source": [
    "node = TreeNode()\n",
    "node.data = dataAry[0]\n",
    "root = node\n",
    "memory.append(node)"
   ],
   "metadata": {
    "collapsed": false
   }
  },
  {
   "cell_type": "code",
   "execution_count": 15,
   "metadata": {
    "collapsed": true
   },
   "outputs": [
    {
     "name": "stdout",
     "output_type": "stream",
     "text": [
      "8->3->\n",
      "8->3->10->\n",
      "8->3->1->10->\n",
      "8->3->1->6->10->\n",
      "8->3->1->6->10->14->\n",
      "8->3->1->6->4->10->14->\n",
      "8->3->1->6->4->7->10->14->\n"
     ]
    }
   ],
   "source": [
    "for data in dataAry[1:]:\n",
    "\n",
    "    node = TreeNode()\n",
    "    node.data = data\n",
    "\n",
    "    currrent = root\n",
    "    while True:\n",
    "        if data < currrent.data:\n",
    "            if currrent.left == None:\n",
    "                currrent.left = node\n",
    "                break\n",
    "            currrent = currrent.left\n",
    "        else:\n",
    "            if currrent.right == None:\n",
    "                currrent.right = node\n",
    "                break\n",
    "            currrent = currrent.right\n",
    "\n",
    "    memory.append(node)\n",
    "    preorder(root)\n",
    "    print()\n"
   ]
  },
  {
   "cell_type": "code",
   "execution_count": 16,
   "outputs": [
    {
     "name": "stdout",
     "output_type": "stream",
     "text": [
      "8->3->1->6->4->7->10->14->"
     ]
    }
   ],
   "source": [
    "preorder(root)"
   ],
   "metadata": {
    "collapsed": false
   }
  },
  {
   "cell_type": "code",
   "execution_count": 20,
   "outputs": [
    {
     "name": "stdout",
     "output_type": "stream",
     "text": [
      "10 이(가) 트리에 없음\n"
     ]
    }
   ],
   "source": [
    "findData = 10\n",
    "\n",
    "current = root\n",
    "while True:\n",
    "    if findData == current.data:\n",
    "        print(findData, '을(를) 찾음')\n",
    "        break\n",
    "    elif findData < current.data:\n",
    "        if current.left == None:\n",
    "            print(findData, '이(가) 트리에 없음')\n",
    "            break\n",
    "        current = current.left\n",
    "    else:\n",
    "        if currrent.right == None:\n",
    "            print(findData, '이(가) 트리에 없음')\n",
    "            break\n",
    "        currrent = currrent.right"
   ],
   "metadata": {
    "collapsed": false
   }
  },
  {
   "cell_type": "code",
   "execution_count": 21,
   "outputs": [],
   "source": [
    "def minValueNode(node):\n",
    "    currrent =node\n",
    "    while(currrent.left is not None):\n",
    "        currrent = currrent.left\n",
    "    print(\"MinValue--->\", currrent.data)\n",
    "    return currrent"
   ],
   "metadata": {
    "collapsed": false
   }
  },
  {
   "cell_type": "code",
   "execution_count": null,
   "outputs": [],
   "source": [
    "def deleteNode(cur)"
   ],
   "metadata": {
    "collapsed": false
   }
  }
 ],
 "metadata": {
  "kernelspec": {
   "display_name": "Python 3",
   "language": "python",
   "name": "python3"
  },
  "language_info": {
   "codemirror_mode": {
    "name": "ipython",
    "version": 2
   },
   "file_extension": ".py",
   "mimetype": "text/x-python",
   "name": "python",
   "nbconvert_exporter": "python",
   "pygments_lexer": "ipython2",
   "version": "2.7.6"
  }
 },
 "nbformat": 4,
 "nbformat_minor": 0
}
