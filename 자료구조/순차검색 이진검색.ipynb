{
 "cells": [
  {
   "cell_type": "code",
   "execution_count": 1,
   "metadata": {
    "collapsed": true,
    "ExecuteTime": {
     "end_time": "2023-09-08T06:44:54.207920400Z",
     "start_time": "2023-09-08T06:44:54.195386800Z"
    }
   },
   "outputs": [],
   "source": [
    "def linearSearch(array, x):\n",
    "    for i in range(0, len(array)):\n",
    "        if (array[i] == x):\n",
    "            return i + 1\n",
    "    return -1"
   ]
  },
  {
   "cell_type": "code",
   "execution_count": 2,
   "outputs": [
    {
     "name": "stdout",
     "output_type": "stream",
     "text": [
      "2\n"
     ]
    }
   ],
   "source": [
    "print(linearSearch([2, 4, 0, 1, 9], 4))"
   ],
   "metadata": {
    "collapsed": false,
    "ExecuteTime": {
     "end_time": "2023-09-08T06:44:54.220570200Z",
     "start_time": "2023-09-08T06:44:54.206914100Z"
    }
   }
  },
  {
   "cell_type": "code",
   "execution_count": 3,
   "outputs": [],
   "source": [
    "def binarySearch(array, x):\n",
    "    low = 0\n",
    "    high = len(array) - 1\n",
    "    count = 0\n",
    "    while low <= high:\n",
    "        count += 1\n",
    "        mid = (low + high) // 2\n",
    "        if array[mid] == x:\n",
    "            return ('index:', mid, \"count:\", count)\n",
    "        elif array[mid] < x:\n",
    "            low = mid + 1\n",
    "        else:\n",
    "            high = mid - 1"
   ],
   "metadata": {
    "collapsed": false,
    "ExecuteTime": {
     "end_time": "2023-09-08T06:44:54.263247900Z",
     "start_time": "2023-09-08T06:44:54.222075Z"
    }
   }
  },
  {
   "cell_type": "code",
   "execution_count": 4,
   "outputs": [
    {
     "name": "stdout",
     "output_type": "stream",
     "text": [
      "('index:', 3, 'count:', 2)\n"
     ]
    }
   ],
   "source": [
    "print(binarySearch([3, 4, 5, 6, 7], 6))"
   ],
   "metadata": {
    "collapsed": false,
    "ExecuteTime": {
     "end_time": "2023-09-08T06:44:54.269761Z",
     "start_time": "2023-09-08T06:44:54.237121Z"
    }
   }
  },
  {
   "cell_type": "code",
   "execution_count": null,
   "outputs": [],
   "source": [],
   "metadata": {
    "collapsed": false
   }
  }
 ],
 "metadata": {
  "kernelspec": {
   "display_name": "Python 3",
   "language": "python",
   "name": "python3"
  },
  "language_info": {
   "codemirror_mode": {
    "name": "ipython",
    "version": 2
   },
   "file_extension": ".py",
   "mimetype": "text/x-python",
   "name": "python",
   "nbconvert_exporter": "python",
   "pygments_lexer": "ipython2",
   "version": "2.7.6"
  }
 },
 "nbformat": 4,
 "nbformat_minor": 0
}
