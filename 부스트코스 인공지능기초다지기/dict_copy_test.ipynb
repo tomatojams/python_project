{
 "nbformat": 4,
 "nbformat_minor": 0,
 "metadata": {
  "colab": {
   "provenance": [],
   "authorship_tag": "ABX9TyNokMpIEX40Og2XZQMblnu/"
  },
  "kernelspec": {
   "name": "python3",
   "display_name": "Python 3"
  },
  "language_info": {
   "name": "python"
  }
 },
 "cells": [
  {
   "cell_type": "code",
   "execution_count": 1,
   "metadata": {
    "colab": {
     "base_uri": "https://localhost:8080/"
    },
    "id": "rZ9I9EEnB2yB",
    "executionInfo": {
     "status": "ok",
     "timestamp": 1674051687353,
     "user_tz": -540,
     "elapsed": 370,
     "user": {
      "displayName": "JIHAN KIM",
      "userId": "14820648192014375113"
     }
    },
    "outputId": "c09a22ae-714e-4536-e0fa-e395f9bbe34c"
   },
   "outputs": [
    {
     "name": "stdout",
     "output_type": "stream",
     "text": [
      "0.007183800000348128 s\n"
     ]
    }
   ],
   "source": [
    "from timeit import timeit\n",
    "# copy 메소드를 쓸때\n",
    "\n",
    "dict_first = {'사과': 30, '배': 15, '감':10, '포도':10}\n",
    "\n",
    "def copy_dict():\n",
    "    dictnew = dict_first.copy()\n",
    "\n",
    "print(timeit('copy_dict()', setup= 'from __main__ import copy_dict', number= 100000),\"s\")\n"
   ]
  },
  {
   "cell_type": "code",
   "source": [
    "#언패킹해서 추가할때\n",
    "\n",
    "def copy_dict():\n",
    "    dict_new = {}\n",
    "    for i,v in dict_first.items():\n",
    "        dict_new[i] = v\n",
    "\n",
    "print(timeit('copy_dict()', setup= 'from __main__ import copy_dict', number= 100000),\"s\")\n"
   ],
   "metadata": {
    "colab": {
     "base_uri": "https://localhost:8080/"
    },
    "id": "cYjV86koNV2A",
    "executionInfo": {
     "status": "ok",
     "timestamp": 1674051705893,
     "user_tz": -540,
     "elapsed": 320,
     "user": {
      "displayName": "JIHAN KIM",
      "userId": "14820648192014375113"
     }
    },
    "outputId": "1e1a36c9-63fa-4a78-85fc-c4fc7f363f2e"
   },
   "execution_count": 2,
   "outputs": [
    {
     "name": "stdout",
     "output_type": "stream",
     "text": [
      "0.02147539999714354 s\n"
     ]
    }
   ]
  },
  {
   "cell_type": "code",
   "execution_count": 3,
   "metadata": {
    "colab": {
     "base_uri": "https://localhost:8080/"
    },
    "executionInfo": {
     "status": "ok",
     "timestamp": 1674051720519,
     "user_tz": -540,
     "elapsed": 850,
     "user": {
      "displayName": "JIHAN KIM",
      "userId": "14820648192014375113"
     }
    },
    "outputId": "c81e39bc-7b18-409a-e08f-7d6b19741234",
    "id": "Ztgp64YhL4De"
   },
   "outputs": [
    {
     "name": "stdout",
     "output_type": "stream",
     "text": [
      "0.21605600000475533 s\n"
     ]
    }
   ],
   "source": [
    "# 불필요하게 deepcopy를 썼을때\n",
    "import copy\n",
    "\n",
    "def copy_dict():\n",
    "    dict_new = copy.deepcopy(dict_first)\n",
    "\n",
    "print(timeit('copy_dict()', setup= 'from __main__ import copy_dict', number= 100000),\"s\")\n"
   ]
  },
  {
   "cell_type": "code",
   "source": [
    "# 형전환을 이용할때\n",
    "def formatting():\n",
    "    merged_dict = dict(dict_first)\n",
    "\n",
    "print(timeit('formatting()', setup= 'from __main__ import formatting', number= 100000),\"s\")\n",
    "\n"
   ],
   "metadata": {
    "colab": {
     "base_uri": "https://localhost:8080/"
    },
    "id": "vLo5qsH7CK1V",
    "executionInfo": {
     "status": "ok",
     "timestamp": 1674051727841,
     "user_tz": -540,
     "elapsed": 2,
     "user": {
      "displayName": "JIHAN KIM",
      "userId": "14820648192014375113"
     }
    },
    "outputId": "f18843e8-fb92-48f7-f87d-ebb967bf9fdc"
   },
   "execution_count": 4,
   "outputs": [
    {
     "name": "stdout",
     "output_type": "stream",
     "text": [
      "0.008413900002778973 s\n"
     ]
    }
   ]
  }
 ]
}
