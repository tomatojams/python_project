{
 "cells": [
  {
   "cell_type": "code",
   "execution_count": 1,
   "metadata": {
    "ExecuteTime": {
     "end_time": "2023-09-05T18:45:56.024352400Z",
     "start_time": "2023-09-05T18:45:55.997348600Z"
    },
    "collapsed": true
   },
   "outputs": [
    {
     "name": "stdout",
     "output_type": "stream",
     "text": [
      "62.5\n"
     ]
    }
   ],
   "source": [
    "#Q1\n",
    "\n",
    "class Score(object):\n",
    "    def __init__(self, score1, score2):\n",
    "        self.__mid = score1\n",
    "        self.__final = score2\n",
    "\n",
    "    @property\n",
    "    def mid(self):\n",
    "        return self.__mid\n",
    "\n",
    "    @property\n",
    "    def final(self):\n",
    "        return self.__final\n",
    "\n",
    "score = Score(50,75)\n",
    "print((score.mid + score.final)/2)"
   ]
  },
  {
   "cell_type": "code",
   "execution_count": 2,
   "metadata": {
    "ExecuteTime": {
     "end_time": "2023-09-05T18:45:56.088868200Z",
     "start_time": "2023-09-05T18:45:56.004347700Z"
    },
    "collapsed": false
   },
   "outputs": [
    {
     "name": "stdout",
     "output_type": "stream",
     "text": [
      "gas 2 small\n"
     ]
    }
   ],
   "source": [
    "#Q2\n",
    "\n",
    "class Car():\n",
    "    def __init__(self, fuel, wheels):\n",
    "        self.fuel = fuel\n",
    "        self.wheels = wheels\n",
    "\n",
    "class Bike(Car):\n",
    "    def __init__(self, fuel, wheels, size):\n",
    "        super().__init__(fuel, wheels)\n",
    "        self.size = size\n",
    "\n",
    "bike = Bike(\"gas\", 2, \"small\")\n",
    "print(bike.fuel, bike.wheels, bike.size)"
   ]
  },
  {
   "cell_type": "code",
   "execution_count": 3,
   "metadata": {
    "ExecuteTime": {
     "end_time": "2023-09-05T18:45:56.091865800Z",
     "start_time": "2023-09-05T18:45:56.019348500Z"
    },
    "collapsed": false
   },
   "outputs": [
    {
     "name": "stdout",
     "output_type": "stream",
     "text": [
      "[['73', '80', '75', '152'], ['93', '88', '93', '185'], ['89', '91', '90', '180'], ['96', '98', '100', '196'], ['73', '66', '70', '142'], ['53', '46', '55', '101'], ['69', '74', '77', '149'], ['47', '56', '60', '115'], ['87', '79', '90', '175'], ['79', '70', '88', '164'], ['69', '70', '73', '141'], ['70', '65', '74', '141'], ['93', '95', '91', '184'], ['79', '80', '73', '152'], ['70', '73', '78', '148'], ['93', '89', '96', '192'], ['78', '75', '68', '147'], ['81', '90', '93', '183'], ['88', '92', '86', '177'], ['78', '83', '77', '159'], ['82', '86', '90', '177'], ['86', '82', '89', '175'], ['78', '83', '85', '175'], ['76', '83', '71', '149'], ['96', '93', '95', '192']]\n"
     ]
    }
   ],
   "source": [
    "#Q3\n",
    "\n",
    "def read_file(file_path = \"data/data-01-test-score.csv\"):\n",
    "    with open(file_path,\"r\") as f:\n",
    "        contents = (f.read()).split(\"\\n\") # 행단위로 끊어서 배열구성\n",
    "        return [[j for j in i.split(\",\")] for i  in contents]\n",
    "\n",
    "print(read_file())\n"
   ]
  },
  {
   "cell_type": "code",
   "execution_count": 4,
   "metadata": {
    "ExecuteTime": {
     "end_time": "2023-09-05T18:45:56.092869300Z",
     "start_time": "2023-09-05T18:45:56.035348600Z"
    },
    "collapsed": false
   },
   "outputs": [
    {
     "name": "stdout",
     "output_type": "stream",
     "text": [
      "[[73, 80, 75, 152], [93, 88, 93, 185], [89, 91, 90, 180], [96, 98, 100, 196], [73, 66, 70, 142], [53, 46, 55, 101], [69, 74, 77, 149], [47, 56, 60, 115], [87, 79, 90, 175], [79, 70, 88, 164], [69, 70, 73, 141], [70, 65, 74, 141], [93, 95, 91, 184], [79, 80, 73, 152], [70, 73, 78, 148], [93, 89, 96, 192], [78, 75, 68, 147], [81, 90, 93, 183], [88, 92, 86, 177], [78, 83, 77, 159], [82, 86, 90, 177], [86, 82, 89, 175], [78, 83, 85, 175], [76, 83, 71, 149], [96, 93, 95, 192]]\n",
      "[380, 459, 450, 490, 351, 255, 369, 278, 431, 401, 353, 350, 463, 384, 369, 470, 368, 447, 443, 397, 435, 432, 421, 379, 476]\n"
     ]
    }
   ],
   "source": [
    "#Q4\n",
    "class ReadCSV():\n",
    "    def __init__(self,file_path):\n",
    "        self.file_path = file_path\n",
    "\n",
    "    def read_file(self):\n",
    "        with open(self.file_path,\"r\") as f:\n",
    "            contents = (f.read()).split(\"\\n\") # 행단위로 끊어서 배열구성\n",
    "            return [[int(j) for j in i.split(\",\")] for i  in contents]# 숫자로 변환시켜 2차배열만듬\n",
    "\n",
    "    def merge_list(self):\n",
    "        return [ sum(i) for i in self.read_file()]\n",
    "\n",
    "read_csv = ReadCSV(\"data/data-01-test-score.csv\")\n",
    "print(read_csv.read_file())\n",
    "print(read_csv.merge_list())\n"
   ]
  },
  {
   "cell_type": "code",
   "execution_count": 5,
   "metadata": {
    "ExecuteTime": {
     "end_time": "2023-09-05T18:45:56.341911Z",
     "start_time": "2023-09-05T18:45:56.317908200Z"
    },
    "collapsed": false
   },
   "outputs": [
    {
     "name": "stdout",
     "output_type": "stream",
     "text": [
      "[63.75, 69.5, 87.5, 87.75, 88.25, 92.0, 92.25, 92.25, 94.75, 95.0, 96.0, 99.25, 100.25, 105.25, 107.75, 108.0, 108.75, 110.75, 111.75, 112.5, 114.75, 115.75, 117.5, 119.0, 122.5]\n"
     ]
    }
   ],
   "source": [
    "#Q5\n",
    "class ReadCSV():\n",
    "    def __init__(self,file_path):\n",
    "        self.file_path = file_path\n",
    "\n",
    "    def read_file(self):\n",
    "        with open(self.file_path,\"r\") as f:\n",
    "            contents = (f.read()).split(\"\\n\") # 행단위로 끊어서 배열구성\n",
    "            return [[int(j) for j in i.split(\",\")] for i  in contents]# 숫자로 변환시켜 2차배열만듬\n",
    "\n",
    "    def merge_list(self):\n",
    "        return  sorted([ sum(i)/len(i) for i in self.read_file()])\n",
    "\n",
    "read_csv = ReadCSV(\"data/data-01-test-score.csv\")\n",
    "print(read_csv.merge_list())"
   ]
  },
  {
   "cell_type": "code",
   "execution_count": 6,
   "metadata": {
    "ExecuteTime": {
     "end_time": "2023-09-05T16:54:23.162044100Z",
     "start_time": "2023-09-05T16:54:21.376255900Z"
    },
    "collapsed": false
   },
   "outputs": [],
   "source": [
    "#연속으로 입력받아 리스트로 만들기\n",
    "a = list(map(int, input().split()))\n"
   ]
  },
  {
   "cell_type": "code",
   "execution_count": 4,
   "metadata": {
    "collapsed": false
   },
   "outputs": [
    {
     "data": {
      "text/plain": [
       "[20, 10, 50, 70]"
      ]
     },
     "execution_count": 4,
     "metadata": {},
     "output_type": "execute_result"
    }
   ],
   "source": [
    "a"
   ]
  },
  {
   "cell_type": "code",
   "execution_count": 10,
   "metadata": {
    "ExecuteTime": {
     "end_time": "2023-09-05T15:36:16.178612400Z",
     "start_time": "2023-09-05T15:36:16.154105900Z"
    },
    "collapsed": false
   },
   "outputs": [
    {
     "name": "stdout",
     "output_type": "stream",
     "text": [
      "[[73, 80, 75, 152], [93, 88, 93, 185], [89, 91, 90, 180], [96, 98, 100, 196], [73, 66, 70, 142], [53, 46, 55, 101], [69, 74, 77, 149], [47, 56, 60, 115], [87, 79, 90, 175], [79, 70, 88, 164], [69, 70, 73, 141], [70, 65, 74, 141], [93, 95, 91, 184], [79, 80, 73, 152], [70, 73, 78, 148], [93, 89, 96, 192], [78, 75, 68, 147], [81, 90, 93, 183], [88, 92, 86, 177], [78, 83, 77, 159], [82, 86, 90, 177], [86, 82, 89, 175], [78, 83, 85, 175], [76, 83, 71, 149], [96, 93, 95, 192]]\n",
      "[380, 459, 450, 490, 351, 255, 369, 278, 431, 401, 353, 350, 463, 384, 369, 470, 368, 447, 443, 397, 435, 432, 421, 379, 476]\n"
     ]
    }
   ],
   "source": [
    "#Q4\n",
    "#import urllib\n",
    "# urllib.request.urlretrieve(\"https://drive.google.com/uc?export=download&id=1vLSVhyLgh6LL1rRLgPoMvkbEfZm3pUKE\", \"data-01-test-score.csv\")\n",
    "\n",
    "file_path = \"data/data-01-test-score.csv\"\n",
    "\n",
    "class ReadCSV():\n",
    "    def __init__(self,file_path):\n",
    "        self.file_path = file_path\n",
    "\n",
    "    def read_file(self):\n",
    "        with open(self.file_path,\"r\") as f:\n",
    "            contents = (f.read()).split(\"\\n\") # 행단위로 끊어서 배열구성\n",
    "            return [[int(j) for j in i.split(\",\")] for i  in contents]\n",
    "            # contents에서 하나씩 꺼내서 ','를 기준으로 리스트를 만든후 int형으로 변환\n",
    "\n",
    "    def merge_list(self):\n",
    "        return [sum(i) for i in self.read_file()]  #self.read_file()이 리스트로 받아옴\n",
    "\n",
    "read_csv = ReadCSV(file_path)\n",
    "print(read_csv.read_file())\n",
    "print(read_csv.merge_list())"
   ]
  },
  {
   "cell_type": "code",
   "execution_count": 11,
   "metadata": {
    "ExecuteTime": {
     "end_time": "2023-09-05T15:36:18.192940500Z",
     "start_time": "2023-09-05T15:36:18.178940600Z"
    },
    "collapsed": false
   },
   "outputs": [],
   "source": [
    "import copy\n",
    "\n",
    "a = [[73, 80, 75, 152], [93, 88, 93, 185], [89, 91, 90, 180], [96, 98, 100, 196], [73, 66, 70, 142], [53, 46, 55, 101], [69, 74, 77, 149], [47, 56, 60, 115], [87, 79, 90, 175], [79, 70, 88, 164], [69, 70, 73, 141], [70, 65, 74, 141], [93, 95, 91, 184], [79, 80, 73, 152], [70, 73, 78, 148], [93, 89, 96, 192], [78, 75, 68, 147], [81, 90, 93, 183], [88, 92, 86, 177], [78, 83, 77, 159], [82, 86, 90, 177], [86, 82, 89, 175], [78, 83, 85, 175], [76, 83, 71, 149], [96, 93, 95, 192]]"
   ]
  },
  {
   "cell_type": "code",
   "execution_count": 12,
   "metadata": {
    "ExecuteTime": {
     "end_time": "2023-09-05T15:36:23.264865700Z",
     "start_time": "2023-09-05T15:36:19.248852700Z"
    },
    "collapsed": false
   },
   "outputs": [
    {
     "name": "stdout",
     "output_type": "stream",
     "text": [
      "48.5 µs ± 3.48 µs per loop (mean ± std. dev. of 7 runs, 10,000 loops each)\n"
     ]
    }
   ],
   "source": [
    "\n",
    "%%timeit\n",
    "deepcopy_ = copy.deepcopy(a)"
   ]
  },
  {
   "cell_type": "code",
   "execution_count": 13,
   "metadata": {
    "ExecuteTime": {
     "end_time": "2023-09-05T15:36:36.938621400Z",
     "start_time": "2023-09-05T15:36:23.370376300Z"
    },
    "collapsed": false
   },
   "outputs": [
    {
     "name": "stdout",
     "output_type": "stream",
     "text": [
      "1.68 µs ± 17.8 ns per loop (mean ± std. dev. of 7 runs, 1,000,000 loops each)\n"
     ]
    }
   ],
   "source": [
    "%%timeit\n",
    "slicing_ = [ i[:] for i in a]"
   ]
  },
  {
   "cell_type": "code",
   "execution_count": 41,
   "metadata": {
    "collapsed": false
   },
   "outputs": [
    {
     "data": {
      "text/plain": [
       "[[73, 80, 75, 152],\n",
       " [93, 88, 93, 185],\n",
       " [89, 91, 90, 180],\n",
       " [96, 98, 100, 196],\n",
       " [73, 66, 70, 142],\n",
       " [53, 46, 55, 101],\n",
       " [69, 74, 77, 149],\n",
       " [47, 56, 60, 115],\n",
       " [87, 79, 90, 175],\n",
       " [79, 70, 88, 164],\n",
       " [69, 70, 73, 141],\n",
       " [70, 65, 74, 141],\n",
       " [93, 95, 91, 184],\n",
       " [79, 80, 73, 152],\n",
       " [70, 73, 78, 148],\n",
       " [93, 89, 96, 192],\n",
       " [78, 75, 68, 147],\n",
       " [81, 90, 93, 183],\n",
       " [88, 92, 86, 177],\n",
       " [78, 83, 77, 159],\n",
       " [82, 86, 90, 177],\n",
       " [86, 82, 89, 175],\n",
       " [78, 83, 85, 175],\n",
       " [76, 83, 71, 149],\n",
       " [96, 93, 95, 192]]"
      ]
     },
     "execution_count": 41,
     "metadata": {},
     "output_type": "execute_result"
    }
   ],
   "source": [
    "deepcopy_[0][0] =1\n",
    "deepcopy_\n",
    "slicing_"
   ]
  }
 ],
 "metadata": {
  "kernelspec": {
   "display_name": "Python 3",
   "language": "python",
   "name": "python3"
  },
  "language_info": {
   "codemirror_mode": {
    "name": "ipython",
    "version": 3
   },
   "file_extension": ".py",
   "mimetype": "text/x-python",
   "name": "python",
   "nbconvert_exporter": "python",
   "pygments_lexer": "ipython3",
   "version": "3.10.12"
  }
 },
 "nbformat": 4,
 "nbformat_minor": 0
}
