{
 "cells": [
  {
   "cell_type": "code",
   "execution_count": 1,
   "metadata": {
    "collapsed": true,
    "ExecuteTime": {
     "end_time": "2023-09-05T16:54:34.765903300Z",
     "start_time": "2023-09-05T16:54:34.666052700Z"
    }
   },
   "outputs": [
    {
     "name": "stdout",
     "output_type": "stream",
     "text": [
      "[[0.36323383 0.26025336]\n",
      " [0.7787362  0.37453965]\n",
      " [0.62059818 0.42930575]\n",
      " [1.13143957 0.74720758]\n",
      " [0.84955681 0.42317267]] (5, 2)\n"
     ]
    }
   ],
   "source": [
    "#Q1\n",
    "import numpy as np\n",
    "\n",
    "arr1 = np.random.rand(5, 3)\n",
    "arr2 = np.random.rand(3, 2)\n",
    "\n",
    "dot = np.dot(arr1, arr2)\n",
    "print(dot, dot.shape)"
   ]
  },
  {
   "cell_type": "code",
   "execution_count": 2,
   "metadata": {
    "collapsed": false,
    "ExecuteTime": {
     "end_time": "2023-09-05T16:54:34.783976200Z",
     "start_time": "2023-09-05T16:54:34.768939300Z"
    }
   },
   "outputs": [
    {
     "name": "stdout",
     "output_type": "stream",
     "text": [
      "[[ 5.  7.]\n",
      " [ 9. 11.]\n",
      " [ 2.  4.]\n",
      " [ 6.  8.]] \n",
      " [[ 5.  7.  2.  4.]\n",
      " [ 9. 11.  6.  8.]]\n"
     ]
    }
   ],
   "source": [
    "#Q2\n",
    "arr1 = np.array([[5, 7], [9, 11]], float)\n",
    "arr2 = np.array([[2, 4], [6, 8]], float)\n",
    "\n",
    "concat_1 = np.vstack((arr1, arr2))  #axis 0\n",
    "concat_2 = np.hstack((arr1, arr2))  #axis 1\n",
    "print(concat_1, \"\\n\", concat_2)"
   ]
  },
  {
   "cell_type": "code",
   "execution_count": 3,
   "metadata": {
    "collapsed": false,
    "ExecuteTime": {
     "end_time": "2023-09-05T16:54:35.856490900Z",
     "start_time": "2023-09-05T16:54:35.847446300Z"
    }
   },
   "outputs": [
    {
     "name": "stdout",
     "output_type": "stream",
     "text": [
      "[1. 2. 3. 4. 5. 6.] (6,)\n",
      "[10. 20. 30. 40. 50. 60.] (6,)\n"
     ]
    }
   ],
   "source": [
    "#Q3\n",
    "import numpy as np\n",
    "\n",
    "xp = np.array([[1., 2., 3., 4., 5., 6.],\n",
    "               [10., 20., 30., 40., 50., 60.]])\n",
    "\n",
    "x_train = xp[0]\n",
    "y_train = xp[1]\n",
    "\n",
    "print(x_train, x_train.shape)\n",
    "print(y_train, y_train.shape)"
   ]
  },
  {
   "cell_type": "code",
   "execution_count": 4,
   "metadata": {
    "collapsed": false,
    "ExecuteTime": {
     "end_time": "2023-09-05T16:54:36.885924400Z",
     "start_time": "2023-09-05T16:54:36.879926300Z"
    }
   },
   "outputs": [
    {
     "name": "stdout",
     "output_type": "stream",
     "text": [
      "[0.58722603] [0.52204041]\n"
     ]
    }
   ],
   "source": [
    "#Q4\n",
    "\n",
    "beta_gd = np.random.rand(1)\n",
    "bias = np.random.rand(1)\n",
    "print(beta_gd, bias)"
   ]
  },
  {
   "cell_type": "code",
   "execution_count": 5,
   "metadata": {
    "collapsed": false,
    "ExecuteTime": {
     "end_time": "2023-09-05T16:54:38.052909200Z",
     "start_time": "2023-09-05T16:54:38.048901100Z"
    }
   },
   "outputs": [
    {
     "name": "stdout",
     "output_type": "stream",
     "text": [
      "Epoch (         1/1000) error:367.623558, beta_gd:   2.571989. bias:   2.182205\n",
      "Epoch (       100/1000) error:  0.625025, beta_gd:   2.830022. bias:   0.727710\n",
      "Epoch (       200/1000) error:  0.069134, beta_gd:   2.943468. bias:   0.242023\n",
      "Epoch (       300/1000) error:  0.007647, beta_gd:   2.981199. bias:   0.080493\n",
      "Epoch (       400/1000) error:  0.000846, beta_gd:   2.993747. bias:   0.026770\n",
      "Epoch (       500/1000) error:  0.000094, beta_gd:   2.997920. bias:   0.008903\n",
      "Epoch (       600/1000) error:  0.000010, beta_gd:   2.999308. bias:   0.002961\n",
      "Epoch (       700/1000) error:  0.000001, beta_gd:   2.999770. bias:   0.000985\n",
      "Epoch (       800/1000) error:  0.000000, beta_gd:   2.999923. bias:   0.000328\n",
      "Epoch (       900/1000) error:  0.000000, beta_gd:   2.999975. bias:   0.000109\n",
      "Epoch (      1000/1000) error:  0.000000, beta_gd:   2.999992. bias:   0.000036\n"
     ]
    }
   ],
   "source": [
    "#Q5\n",
    "import numpy as np\n",
    "\n",
    "xy = np.array([[1., 2., 3., 4., 5., 6],\n",
    "               [3., 6., 9., 12., 15., 18.]])\n",
    "x_train = [[i, 1.0] for i in xy[0]]  # x를 분리하고 인터셉트 추가\n",
    "y_train = xy[1]\n",
    "\n",
    "beta_gd = np.random.uniform(1, 5, 2)  # 그라디언트와 바이어스의 랜덤생성 정답[3, 0]\n",
    "learning_rate = 0.01\n",
    "\n",
    "for i in range(1000):\n",
    "    error = y_train - x_train @ beta_gd  #  y-Xβ\n",
    "    grad = - np.transpose(x_train) @ error  # X^T(y-Xβ)\n",
    "    beta_gd = beta_gd - learning_rate * grad  #  β(t+1) = β(t)+ X^T(y-Xβ)\n",
    "\n",
    "    if (i + 1) % 100 == 0 or i == 0:\n",
    "        Error = sum(error ** 2)  # 에러를 제곱해서 더함.\n",
    "        print(f'Epoch ({i + 1:10d}/1000) error:{Error:10f}, beta_gd: {beta_gd[0]:10f}. bias: {beta_gd[1]:10f}')"
   ]
  },
  {
   "cell_type": "code",
   "execution_count": null,
   "metadata": {
    "collapsed": false
   },
   "outputs": [],
   "source": []
  }
 ],
 "metadata": {
  "kernelspec": {
   "display_name": "Python 3",
   "language": "python",
   "name": "python3"
  },
  "language_info": {
   "codemirror_mode": {
    "name": "ipython",
    "version": 3
   },
   "file_extension": ".py",
   "mimetype": "text/x-python",
   "name": "python",
   "nbconvert_exporter": "python",
   "pygments_lexer": "ipython3",
   "version": "3.10.8"
  }
 },
 "nbformat": 4,
 "nbformat_minor": 0
}
