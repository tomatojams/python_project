{
 "cells": [
  {
   "cell_type": "code",
   "execution_count": 1,
   "metadata": {
    "collapsed": true,
    "ExecuteTime": {
     "end_time": "2023-09-05T15:36:48.050419100Z",
     "start_time": "2023-09-05T15:36:47.960892500Z"
    }
   },
   "outputs": [
    {
     "name": "stdout",
     "output_type": "stream",
     "text": [
      "[[1.34776005 0.77858698]\n",
      " [0.83483395 0.56066116]\n",
      " [1.17675224 0.75511209]\n",
      " [0.98717957 0.62780487]\n",
      " [1.11190936 0.67717113]] (5, 2)\n"
     ]
    }
   ],
   "source": [
    "#Q1\n",
    "import numpy as np\n",
    "\n",
    "arr1 = np.random.rand(5,3)\n",
    "arr2 = np.random.rand(3,2)\n",
    "\n",
    "dot = np.dot(arr1, arr2)\n",
    "print(dot,dot.shape)"
   ]
  },
  {
   "cell_type": "code",
   "execution_count": 2,
   "metadata": {
    "collapsed": false,
    "ExecuteTime": {
     "end_time": "2023-09-05T15:36:48.908666100Z",
     "start_time": "2023-09-05T15:36:48.901670400Z"
    }
   },
   "outputs": [
    {
     "name": "stdout",
     "output_type": "stream",
     "text": [
      "[[ 5.  7.]\n",
      " [ 9. 11.]\n",
      " [ 2.  4.]\n",
      " [ 6.  8.]] \n",
      " [[ 5.  7.  2.  4.]\n",
      " [ 9. 11.  6.  8.]]\n"
     ]
    }
   ],
   "source": [
    "#Q2\n",
    "arr1 = np.array([[5, 7],[9,11]], float)\n",
    "arr2 = np.array([[2,4],[6,8]],float)\n",
    "\n",
    "concat_1 = np.vstack((arr1, arr2)) #axis 0\n",
    "concat_2 = np.hstack((arr1, arr2)) #axis 1\n",
    "print(concat_1,\"\\n\",concat_2)"
   ]
  },
  {
   "cell_type": "code",
   "execution_count": 3,
   "metadata": {
    "collapsed": false,
    "ExecuteTime": {
     "end_time": "2023-09-05T15:36:50.052482300Z",
     "start_time": "2023-09-05T15:36:50.044478700Z"
    }
   },
   "outputs": [
    {
     "name": "stdout",
     "output_type": "stream",
     "text": [
      "[1. 2. 3. 4. 5. 6.] (6,)\n",
      "[10. 20. 30. 40. 50. 60.] (6,)\n"
     ]
    }
   ],
   "source": [
    "#Q3\n",
    "import numpy as np\n",
    "\n",
    "xp = np.array([[1.,2.,3.,4.,5.,6.],\n",
    "               [10.,20.,30.,40.,50.,60.]])\n",
    "\n",
    "x_train = xp[0]\n",
    "y_train = xp[1]\n",
    "\n",
    "print(x_train, x_train.shape)\n",
    "print(y_train, y_train.shape)"
   ]
  },
  {
   "cell_type": "code",
   "execution_count": 4,
   "metadata": {
    "collapsed": false,
    "ExecuteTime": {
     "end_time": "2023-09-05T15:36:51.195776700Z",
     "start_time": "2023-09-05T15:36:51.180776400Z"
    }
   },
   "outputs": [
    {
     "name": "stdout",
     "output_type": "stream",
     "text": [
      "[0.51963963] [0.27047137]\n"
     ]
    }
   ],
   "source": [
    "#Q4\n",
    "\n",
    "beta_gd = np.random.rand(1)\n",
    "bias = np.random.rand(1)\n",
    "print(beta_gd, bias)"
   ]
  },
  {
   "cell_type": "code",
   "execution_count": 5,
   "metadata": {
    "collapsed": false,
    "ExecuteTime": {
     "end_time": "2023-09-05T15:36:52.358265Z",
     "start_time": "2023-09-05T15:36:52.343257800Z"
    }
   },
   "outputs": [
    {
     "name": "stdout",
     "output_type": "stream",
     "text": [
      "Epoch (         1/1000) error:116.383267, beta_gd:   2.112781. bias:   3.613717\n",
      "Epoch (       100/1000) error:  1.752029, beta_gd:   2.715413. bias:   1.218374\n",
      "Epoch (       200/1000) error:  0.193793, beta_gd:   2.905351. bias:   0.405209\n",
      "Epoch (       300/1000) error:  0.021436, beta_gd:   2.968522. bias:   0.134765\n",
      "Epoch (       400/1000) error:  0.002371, beta_gd:   2.989531. bias:   0.044820\n",
      "Epoch (       500/1000) error:  0.000262, beta_gd:   2.996518. bias:   0.014906\n",
      "Epoch (       600/1000) error:  0.000029, beta_gd:   2.998842. bias:   0.004958\n",
      "Epoch (       700/1000) error:  0.000003, beta_gd:   2.999615. bias:   0.001649\n",
      "Epoch (       800/1000) error:  0.000000, beta_gd:   2.999872. bias:   0.000548\n",
      "Epoch (       900/1000) error:  0.000000, beta_gd:   2.999957. bias:   0.000182\n",
      "Epoch (      1000/1000) error:  0.000000, beta_gd:   2.999986. bias:   0.000061\n"
     ]
    }
   ],
   "source": [
    "#Q5\n",
    "import numpy as np\n",
    "\n",
    "xy = np.array([[1.,2.,3.,4.,5.,6],\n",
    "               [3.,6., 9.,12.,15.,18.]])\n",
    "x_train = [[i,1.0] for i in xy[0]]          # x를 분리하고 인터셉트 추가\n",
    "y_train = xy[1]\n",
    "\n",
    "beta_gd = np.random.uniform(1, 5, 2)        # 그라디언트와 바이어스의 랜덤생성 정답[3, 0]\n",
    "learning_rate = 0.01\n",
    "\n",
    "for i in range(1000):\n",
    "    error = y_train - x_train @ beta_gd       #  y-Xβ\n",
    "    grad = - np.transpose(x_train) @ error    # X^T(y-Xβ)\n",
    "    beta_gd = beta_gd - learning_rate * grad  #  β(t+1) = β(t)+ X^T(y-Xβ)\n",
    "\n",
    "    if (i+1)%100 == 0 or i == 0:\n",
    "        Error = sum(error**2)                 # 에러를 제곱해서 더함.\n",
    "        print(f'Epoch ({i+1:10d}/1000) error:{Error:10f}, beta_gd: {beta_gd[0]:10f}. bias: {beta_gd[1]:10f}')"
   ]
  },
  {
   "cell_type": "code",
   "execution_count": null,
   "metadata": {
    "collapsed": false
   },
   "outputs": [],
   "source": []
  }
 ],
 "metadata": {
  "kernelspec": {
   "display_name": "Python 3",
   "language": "python",
   "name": "python3"
  },
  "language_info": {
   "codemirror_mode": {
    "name": "ipython",
    "version": 3
   },
   "file_extension": ".py",
   "mimetype": "text/x-python",
   "name": "python",
   "nbconvert_exporter": "python",
   "pygments_lexer": "ipython3",
   "version": "3.10.8"
  }
 },
 "nbformat": 4,
 "nbformat_minor": 0
}
