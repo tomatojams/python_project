{
 "cells": [
  {
   "cell_type": "code",
   "execution_count": 1,
   "metadata": {
    "collapsed": true,
    "ExecuteTime": {
     "end_time": "2023-06-27T18:58:38.888027600Z",
     "start_time": "2023-06-27T18:58:38.519962Z"
    }
   },
   "outputs": [
    {
     "name": "stdout",
     "output_type": "stream",
     "text": [
      "[[0.92991482 1.80491986]\n",
      " [0.37129588 1.04763278]\n",
      " [0.52816314 1.21710298]\n",
      " [0.09539552 0.29165306]\n",
      " [0.14796514 0.32780401]] (5, 2)\n"
     ]
    }
   ],
   "source": [
    "#Q1\n",
    "import numpy as np\n",
    "\n",
    "arr1 = np.random.rand(5,3)\n",
    "arr2 = np.random.rand(3,2)\n",
    "\n",
    "dot = np.dot(arr1, arr2)\n",
    "print(dot,dot.shape)"
   ]
  },
  {
   "cell_type": "code",
   "execution_count": 2,
   "outputs": [
    {
     "name": "stdout",
     "output_type": "stream",
     "text": [
      "[[ 5.  7.]\n",
      " [ 9. 11.]\n",
      " [ 2.  4.]\n",
      " [ 6.  8.]] \n",
      " [[ 5.  7.  2.  4.]\n",
      " [ 9. 11.  6.  8.]]\n"
     ]
    }
   ],
   "source": [
    "#Q2\n",
    "arr1 = np.array([[5, 7],[9,11]], float)\n",
    "arr2 = np.array([[2,4],[6,8]],float)\n",
    "\n",
    "concat_1 = np.vstack((arr1, arr2)) #axis 0\n",
    "concat_2 = np.hstack((arr1, arr2)) #axis 1\n",
    "print(concat_1,\"\\n\",concat_2)"
   ],
   "metadata": {
    "collapsed": false,
    "ExecuteTime": {
     "end_time": "2023-06-27T18:58:39.794274200Z",
     "start_time": "2023-06-27T18:58:39.779620Z"
    }
   }
  },
  {
   "cell_type": "code",
   "execution_count": 3,
   "outputs": [
    {
     "name": "stdout",
     "output_type": "stream",
     "text": [
      "[1. 2. 3. 4. 5. 6.] (6,)\n",
      "[10. 20. 30. 40. 50. 60.] (6,)\n"
     ]
    }
   ],
   "source": [
    "#Q3\n",
    "import numpy as np\n",
    "\n",
    "xp = np.array([[1.,2.,3.,4.,5.,6.],\n",
    "               [10.,20.,30.,40.,50.,60.]])\n",
    "\n",
    "x_train = xp[0]\n",
    "y_train = xp[1]\n",
    "\n",
    "print(x_train, x_train.shape)\n",
    "print(y_train, y_train.shape)"
   ],
   "metadata": {
    "collapsed": false,
    "ExecuteTime": {
     "end_time": "2023-06-27T18:58:40.786243300Z",
     "start_time": "2023-06-27T18:58:40.776299700Z"
    }
   }
  },
  {
   "cell_type": "code",
   "execution_count": 4,
   "outputs": [
    {
     "name": "stdout",
     "output_type": "stream",
     "text": [
      "[0.28191496] [0.47151851]\n"
     ]
    }
   ],
   "source": [
    "#Q4\n",
    "\n",
    "beta_gd = np.random.rand(1)\n",
    "bias = np.random.rand(1)\n",
    "print(beta_gd, bias)"
   ],
   "metadata": {
    "collapsed": false,
    "ExecuteTime": {
     "end_time": "2023-06-27T18:58:41.665049200Z",
     "start_time": "2023-06-27T18:58:41.654438600Z"
    }
   }
  },
  {
   "cell_type": "code",
   "execution_count": 5,
   "outputs": [
    {
     "name": "stdout",
     "output_type": "stream",
     "text": [
      "Epoch (         1/1000) error: 76.399308, beta_gd:   2.684783. bias:   1.190622\n",
      "Epoch (       100/1000) error:  0.191807, beta_gd:   2.905838. bias:   0.403127\n",
      "Epoch (       200/1000) error:  0.021216, beta_gd:   2.968683. bias:   0.134073\n",
      "Epoch (       300/1000) error:  0.002347, beta_gd:   2.989585. bias:   0.044590\n",
      "Epoch (       400/1000) error:  0.000260, beta_gd:   2.996536. bias:   0.014830\n",
      "Epoch (       500/1000) error:  0.000029, beta_gd:   2.998848. bias:   0.004932\n",
      "Epoch (       600/1000) error:  0.000003, beta_gd:   2.999617. bias:   0.001640\n",
      "Epoch (       700/1000) error:  0.000000, beta_gd:   2.999873. bias:   0.000546\n",
      "Epoch (       800/1000) error:  0.000000, beta_gd:   2.999958. bias:   0.000181\n",
      "Epoch (       900/1000) error:  0.000000, beta_gd:   2.999986. bias:   0.000060\n",
      "Epoch (      1000/1000) error:  0.000000, beta_gd:   2.999995. bias:   0.000020\n"
     ]
    }
   ],
   "source": [
    "#Q5\n",
    "import numpy as np\n",
    "\n",
    "xy = np.array([[1.,2.,3.,4.,5.,6],\n",
    "               [3.,6., 9.,12.,15.,18.]])\n",
    "x_train = [[i,1.0] for i in xy[0]]          # x를 분리하고 인터셉트 추가\n",
    "y_train = xy[1]\n",
    "\n",
    "beta_gd = np.random.uniform(1, 5, 2)        # 그라디언트와 바이어스의 랜덤생성 정답[3, 0]\n",
    "learning_rate = 0.01\n",
    "\n",
    "for i in range(1000):\n",
    "    error = y_train - x_train @ beta_gd       #  y-Xβ\n",
    "    grad = - np.transpose(x_train) @ error    # X^T(y-Xβ)\n",
    "    beta_gd = beta_gd - learning_rate * grad  #  β(t+1) = β(t)+ X^T(y-Xβ)\n",
    "\n",
    "    if (i+1)%100 == 0 or i == 0:\n",
    "        Error = sum(error**2)                 # 에러를 제곱해서 더함.\n",
    "        print(f'Epoch ({i+1:10d}/1000) error:{Error:10f}, beta_gd: {beta_gd[0]:10f}. bias: {beta_gd[1]:10f}')"
   ],
   "metadata": {
    "collapsed": false,
    "ExecuteTime": {
     "end_time": "2023-06-27T18:58:45.065281300Z",
     "start_time": "2023-06-27T18:58:45.031981Z"
    }
   }
  },
  {
   "cell_type": "code",
   "execution_count": null,
   "outputs": [],
   "source": [],
   "metadata": {
    "collapsed": false
   }
  }
 ],
 "metadata": {
  "kernelspec": {
   "display_name": "Python 3",
   "language": "python",
   "name": "python3"
  },
  "language_info": {
   "codemirror_mode": {
    "name": "ipython",
    "version": 2
   },
   "file_extension": ".py",
   "mimetype": "text/x-python",
   "name": "python",
   "nbconvert_exporter": "python",
   "pygments_lexer": "ipython2",
   "version": "2.7.6"
  }
 },
 "nbformat": 4,
 "nbformat_minor": 0
}
