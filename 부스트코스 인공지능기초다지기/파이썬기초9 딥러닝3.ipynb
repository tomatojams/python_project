{
 "cells": [
  {
   "cell_type": "code",
   "execution_count": 1,
   "metadata": {
    "collapsed": true
   },
   "outputs": [],
   "source": [
    "import torch\n",
    "import torch.nn as nn # 선형모델  입력차원, 출력차원, hypothesis\n",
    "import torch.nn.functional as F # cost함수 mse\n",
    "import torch.optim as optim # 그라디언트 계산\n"
   ]
  },
  {
   "cell_type": "code",
   "execution_count": 2,
   "outputs": [],
   "source": [
    "x1_train = torch.FloatTensor([[73], [93], [89], [96], [73]])\n",
    "x2_train = torch.FloatTensor([[80], [88], [91], [98], [66]])\n",
    "x3_train = torch.FloatTensor([[75], [93], [90], [100], [70]])\n",
    "y_train = torch.FloatTensor([[152], [185], [180], [196], [142]])"
   ],
   "metadata": {
    "collapsed": false
   }
  },
  {
   "cell_type": "code",
   "execution_count": 3,
   "outputs": [
    {
     "name": "stdout",
     "output_type": "stream",
     "text": [
      "Epoch    0/1000 w1: 0.294 w2: 0.297 w3: 0.297 b: 0.003 Cost: 29661.800781\n",
      "Epoch  100/1000 w1: 0.674 w2: 0.676 w3: 0.676 b: 0.008 Cost: 1.563634\n",
      "Epoch  200/1000 w1: 0.679 w2: 0.677 w3: 0.677 b: 0.008 Cost: 1.497607\n",
      "Epoch  300/1000 w1: 0.684 w2: 0.677 w3: 0.677 b: 0.008 Cost: 1.435026\n",
      "Epoch  400/1000 w1: 0.689 w2: 0.678 w3: 0.678 b: 0.008 Cost: 1.375730\n",
      "Epoch  500/1000 w1: 0.694 w2: 0.678 w3: 0.678 b: 0.009 Cost: 1.319511\n",
      "Epoch  600/1000 w1: 0.699 w2: 0.679 w3: 0.679 b: 0.009 Cost: 1.266222\n",
      "Epoch  700/1000 w1: 0.704 w2: 0.679 w3: 0.679 b: 0.009 Cost: 1.215696\n",
      "Epoch  800/1000 w1: 0.709 w2: 0.679 w3: 0.679 b: 0.009 Cost: 1.167818\n",
      "Epoch  900/1000 w1: 0.713 w2: 0.680 w3: 0.680 b: 0.009 Cost: 1.122429\n",
      "Epoch 1000/1000 w1: 0.718 w2: 0.680 w3: 0.680 b: 0.009 Cost: 1.079378\n"
     ]
    }
   ],
   "source": [
    "w1 = torch.zeros(1, requires_grad=True)\n",
    "w2 = torch.zeros(1, requires_grad=True)\n",
    "w3 = torch.zeros(1, requires_grad=True)\n",
    "b = torch.zeros(1, requires_grad=True)\n",
    "# optimizer 설정\n",
    "optimizer = optim.SGD([w1, w2, w3, b], lr=1e-5)\n",
    "\n",
    "nb_epochs = 1000\n",
    "for epoch in range(nb_epochs + 1):\n",
    "\n",
    "    # H(x) 계산\n",
    "    hypothesis = x1_train * w1 + x2_train * w2 + x3_train * w3 + b\n",
    "\n",
    "    # cost 계산\n",
    "    cost = torch.mean((hypothesis - y_train) ** 2)\n",
    "\n",
    "    # cost로 H(x) 개선\n",
    "    optimizer.zero_grad()\n",
    "    cost.backward()\n",
    "    optimizer.step()\n",
    "\n",
    "    # 100번마다 로그 출력\n",
    "    if epoch % 100 == 0:\n",
    "        print('Epoch {:4d}/{} w1: {:.3f} w2: {:.3f} w3: {:.3f} b: {:.3f} Cost: {:.6f}'.format(\n",
    "            epoch, nb_epochs, w1.item(), w3.item(), w3.item(), b.item(), cost.item()\n",
    "        ))"
   ],
   "metadata": {
    "collapsed": false
   }
  },
  {
   "cell_type": "code",
   "execution_count": 5,
   "outputs": [],
   "source": [
    "x_train = torch.FloatTensor([[73, 80, 75],\n",
    "                             [93, 88, 93],\n",
    "                             [89, 91, 90],\n",
    "                             [96, 98, 100],\n",
    "                             [73, 66, 70]])\n",
    "y_train = torch.FloatTensor([[152], [185], [180], [196], [142]])"
   ],
   "metadata": {
    "collapsed": false
   }
  },
  {
   "cell_type": "code",
   "execution_count": 6,
   "outputs": [
    {
     "name": "stdout",
     "output_type": "stream",
     "text": [
      "Epoch    0/20 hypothesis:tensor([0., 0., 0., 0., 0.]) Cost:29661.80078125\n",
      "Epoch    1/20 hypothesis:tensor([67.2578, 80.8397, 79.6523, 86.7394, 61.6605]) Cost:9298.5205078125\n",
      "Epoch    2/20 hypothesis:tensor([104.9128, 126.0990, 124.2466, 135.3015,  96.1821]) Cost:2915.712890625\n",
      "Epoch    3/20 hypothesis:tensor([125.9942, 151.4381, 149.2133, 162.4896, 115.5097]) Cost:915.04052734375\n",
      "Epoch    4/20 hypothesis:tensor([137.7968, 165.6247, 163.1911, 177.7112, 126.3307]) Cost:287.9360046386719\n",
      "Epoch    5/20 hypothesis:tensor([144.4044, 173.5674, 171.0168, 186.2332, 132.3891]) Cost:91.37100982666016\n",
      "Epoch    6/20 hypothesis:tensor([148.1035, 178.0144, 175.3980, 191.0042, 135.7812]) Cost:29.75813865661621\n",
      "Epoch    7/20 hypothesis:tensor([150.1744, 180.5042, 177.8508, 193.6753, 137.6805]) Cost:10.445304870605469\n",
      "Epoch    8/20 hypothesis:tensor([151.3336, 181.8983, 179.2240, 195.1707, 138.7440]) Cost:4.391228199005127\n",
      "Epoch    9/20 hypothesis:tensor([151.9824, 182.6789, 179.9928, 196.0079, 139.3396]) Cost:2.493135452270508\n",
      "Epoch   10/20 hypothesis:tensor([152.3454, 183.1161, 180.4231, 196.4765, 139.6732]) Cost:1.8976879119873047\n",
      "Epoch   11/20 hypothesis:tensor([152.5485, 183.3610, 180.6640, 196.7389, 139.8602]) Cost:1.7105414867401123\n",
      "Epoch   12/20 hypothesis:tensor([152.6620, 183.4982, 180.7988, 196.8857, 139.9651]) Cost:1.6514123678207397\n",
      "Epoch   13/20 hypothesis:tensor([152.7253, 183.5752, 180.8742, 196.9678, 140.0240]) Cost:1.6323868036270142\n",
      "Epoch   14/20 hypothesis:tensor([152.7606, 183.6184, 180.9164, 197.0138, 140.0571]) Cost:1.6259231567382812\n",
      "Epoch   15/20 hypothesis:tensor([152.7802, 183.6427, 180.9399, 197.0395, 140.0759]) Cost:1.6234121322631836\n",
      "Epoch   16/20 hypothesis:tensor([152.7909, 183.6565, 180.9530, 197.0538, 140.0865]) Cost:1.6221405267715454\n",
      "Epoch   17/20 hypothesis:tensor([152.7968, 183.6643, 180.9603, 197.0618, 140.0927]) Cost:1.6212533712387085\n",
      "Epoch   18/20 hypothesis:tensor([152.7999, 183.6688, 180.9644, 197.0662, 140.0963]) Cost:1.620499610900879\n",
      "Epoch   19/20 hypothesis:tensor([152.8014, 183.6715, 180.9666, 197.0686, 140.0985]) Cost:1.6197700500488281\n",
      "Epoch   20/20 hypothesis:tensor([152.8020, 183.6731, 180.9677, 197.0699, 140.1000]) Cost:1.619032621383667\n"
     ]
    }
   ],
   "source": [
    "W = torch.zeros((3,1), requires_grad= True)\n",
    "b = torch.zeros(1, requires_grad= True)\n",
    "\n",
    "optimizer = optim.SGD([W,b], lr= 1e-5)\n",
    "\n",
    "nb_epochs = 20\n",
    "for epoch in range(nb_epochs+1):\n",
    "\n",
    "    hypothesis = x_train.matmul(W) + b\n",
    "\n",
    "    cost = torch.mean((hypothesis-y_train)**2)\n",
    "\n",
    "    optimizer.zero_grad()\n",
    "    cost.backward()\n",
    "    optimizer.step()\n",
    "\n",
    "    print(f'Epoch {epoch:4d}/{nb_epochs} hypothesis:{hypothesis.squeeze().detach()} Cost:{cost.item()}')"
   ],
   "metadata": {
    "collapsed": false
   }
  },
  {
   "cell_type": "code",
   "execution_count": 10,
   "outputs": [],
   "source": [
    "class MultiLinearRegressionModel(nn.Module): #hypothesis\n",
    "    def __init__(self):\n",
    "        super().__init__()\n",
    "        self.linear = nn.Linear(3,1) #입력세개 출력하나\n",
    "\n",
    "    def forward(self,x):\n",
    "        return self.linear(x)\n"
   ],
   "metadata": {
    "collapsed": false
   }
  },
  {
   "cell_type": "code",
   "execution_count": 11,
   "outputs": [
    {
     "name": "stdout",
     "output_type": "stream",
     "text": [
      "Epoch    0/20 Cost: 54603.175781\n",
      "Epoch    1/20 Cost: 17117.615234\n",
      "Epoch    2/20 Cost: 5367.881836\n",
      "Epoch    3/20 Cost: 1684.963257\n",
      "Epoch    4/20 Cost: 530.561890\n",
      "Epoch    5/20 Cost: 168.717560\n",
      "Epoch    6/20 Cost: 55.297585\n",
      "Epoch    7/20 Cost: 19.745304\n",
      "Epoch    8/20 Cost: 8.600368\n",
      "Epoch    9/20 Cost: 5.105934\n",
      "Epoch   10/20 Cost: 4.009459\n",
      "Epoch   11/20 Cost: 3.664689\n",
      "Epoch   12/20 Cost: 3.555506\n",
      "Epoch   13/20 Cost: 3.520154\n",
      "Epoch   14/20 Cost: 3.507959\n",
      "Epoch   15/20 Cost: 3.503022\n",
      "Epoch   16/20 Cost: 3.500389\n",
      "Epoch   17/20 Cost: 3.498410\n",
      "Epoch   18/20 Cost: 3.496691\n",
      "Epoch   19/20 Cost: 3.495047\n",
      "Epoch   20/20 Cost: 3.493427\n"
     ]
    }
   ],
   "source": [
    "x_train = torch.FloatTensor([[73, 80, 75],\n",
    "                             [93, 88, 93],\n",
    "                             [89, 91, 90],\n",
    "                             [96, 98, 100],\n",
    "                             [73, 66, 70]])\n",
    "y_train = torch.FloatTensor([[152], [185], [180], [196], [142]])\n",
    "\n",
    "model = MultiLinearRegressionModel()\n",
    "optimizer = optim.SGD(model.parameters(), lr= 1e-5)\n",
    "\n",
    "nb_epochs = 20\n",
    "for epoch in range(nb_epochs+1):\n",
    "\n",
    "    predition = model(x_train)\n",
    "\n",
    "    cost = F.cost = F.mse_loss(predition, y_train)\n",
    "\n",
    "    optimizer.zero_grad()# 초기화해주지 않으면 기존의 gradient에 더하게 됨\n",
    "    cost.backward()# w,b 업데이트\n",
    "    optimizer.step()\n",
    "\n",
    "    print('Epoch {:4d}/{} Cost: {:.6f}'.format(\n",
    "        epoch, nb_epochs, cost.item()\n",
    "    ))"
   ],
   "metadata": {
    "collapsed": false
   }
  },
  {
   "cell_type": "code",
   "execution_count": null,
   "outputs": [],
   "source": [],
   "metadata": {
    "collapsed": false
   }
  }
 ],
 "metadata": {
  "kernelspec": {
   "display_name": "Python 3",
   "language": "python",
   "name": "python3"
  },
  "language_info": {
   "codemirror_mode": {
    "name": "ipython",
    "version": 2
   },
   "file_extension": ".py",
   "mimetype": "text/x-python",
   "name": "python",
   "nbconvert_exporter": "python",
   "pygments_lexer": "ipython2",
   "version": "2.7.6"
  }
 },
 "nbformat": 4,
 "nbformat_minor": 0
}
