{
 "cells": [
  {
   "cell_type": "code",
   "execution_count": 1,
   "metadata": {
    "collapsed": false
   },
   "outputs": [
    {
     "name": "stdout",
     "output_type": "stream",
     "text": [
      "5600,Apple,7\n"
     ]
    }
   ],
   "source": [
    "name =\"Apple\"\n",
    "price = 5600\n",
    "number = 7\n",
    "print(\"{2},{1},{0}\".format(number, name, price))"
   ]
  },
  {
   "cell_type": "markdown",
   "metadata": {
    "collapsed": false
   },
   "source": []
  },
  {
   "cell_type": "code",
   "execution_count": 12,
   "metadata": {
    "collapsed": true
   },
   "outputs": [
    {
     "name": "stdout",
     "output_type": "stream",
     "text": [
      "['피자', '족발이', '소주발']\n"
     ]
    }
   ],
   "source": [
    "test_list = ['치킨', '피자', '삼겹살', '족발이', '초밥집', '소주발']\n",
    "print(test_list[1::2])"
   ]
  },
  {
   "cell_type": "code",
   "execution_count": 13,
   "metadata": {
    "collapsed": false
   },
   "outputs": [
    {
     "name": "stdout",
     "output_type": "stream",
     "text": [
      "삼겹살\n",
      "초밥집\n"
     ]
    }
   ],
   "source": [
    "for data in test_list[::2]:\n",
    "    if len(data) ==3:\n",
    "        print(data)"
   ]
  },
  {
   "cell_type": "code",
   "execution_count": 8,
   "metadata": {
    "collapsed": false
   },
   "outputs": [
    {
     "name": "stdout",
     "output_type": "stream",
     "text": [
      "You only Live Once.\n"
     ]
    }
   ],
   "source": [
    "string = \"#You #only #Live #Once.\"\n",
    "a = string.replace(\"#\",\"\")\n",
    "print(a)"
   ]
  },
  {
   "cell_type": "code",
   "execution_count": 11,
   "metadata": {
    "collapsed": false
   },
   "outputs": [
    {
     "name": "stdout",
     "output_type": "stream",
     "text": [
      "[25, 39, 46, 57]\n"
     ]
    }
   ],
   "source": [
    "a, b, *c = (14, 21, 25, 39, 46, 57)\n",
    "print(c)"
   ]
  },
  {
   "cell_type": "code",
   "execution_count": 12,
   "metadata": {
    "collapsed": false
   },
   "outputs": [
    {
     "data": {
      "text/plain": [
       "[0, 1, 32, 243, 1024, 3125]"
      ]
     },
     "execution_count": 12,
     "metadata": {},
     "output_type": "execute_result"
    }
   ],
   "source": [
    "data_list = [0, 1, 2, 3, 4, 5]\n",
    "\n",
    "def f(x):\n",
    "    return x**5\n",
    "\n",
    "[f(value) for value in data_list]"
   ]
  }
 ],
 "metadata": {
  "kernelspec": {
   "display_name": "Python 3",
   "language": "python",
   "name": "python3"
  },
  "language_info": {
   "codemirror_mode": {
    "name": "ipython",
    "version": 3
   },
   "file_extension": ".py",
   "mimetype": "text/x-python",
   "name": "python",
   "nbconvert_exporter": "python",
   "pygments_lexer": "ipython3",
   "version": "3.10.8"
  }
 },
 "nbformat": 4,
 "nbformat_minor": 0
}
