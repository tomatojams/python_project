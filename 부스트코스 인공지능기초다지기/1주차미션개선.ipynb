{
 "cells": [
  {
   "cell_type": "code",
   "execution_count": 1,
   "metadata": {
    "collapsed": true,
    "ExecuteTime": {
     "end_time": "2023-12-15T03:57:03.341282Z",
     "start_time": "2023-12-15T03:57:03.319283200Z"
    }
   },
   "outputs": [],
   "source": [
    "#Q1\n",
    "\n",
    "num_list = [1, 5, 7, 15, 16, 22, 28, 29]\n",
    "\n",
    "def get_odd_num(num_list):\n",
    "    odd_list =[i for i in num_list if i%2 == 1]\n",
    "    print(odd_list)"
   ]
  },
  {
   "cell_type": "code",
   "execution_count": 2,
   "metadata": {
    "collapsed": false,
    "ExecuteTime": {
     "end_time": "2023-12-15T03:57:03.343281400Z",
     "start_time": "2023-12-15T03:57:03.327283500Z"
    }
   },
   "outputs": [
    {
     "name": "stdout",
     "output_type": "stream",
     "text": [
      "[1, 5, 7, 15, 29]\n"
     ]
    }
   ],
   "source": [
    "get_odd_num(num_list)"
   ]
  },
  {
   "cell_type": "code",
   "execution_count": 3,
   "metadata": {
    "collapsed": false,
    "ExecuteTime": {
     "end_time": "2023-12-15T03:57:05.063384600Z",
     "start_time": "2023-12-15T03:57:05.049966700Z"
    }
   },
   "outputs": [],
   "source": [
    "#Q2\n",
    "sentence = \"way a is there will a is there where\"\n",
    "\n",
    "def reverse_sentence(sentence):\n",
    "    sentence_list = sentence.split() # 공백을 기준으로 나눠서 리스트로 반환\n",
    "    sentence_list.reverse() # 리스트 순서 반대로\n",
    "    reversed_sentence = \" \".join(sentence_list) # 문자열로 합침\n",
    "    print(reversed_sentence)"
   ]
  },
  {
   "cell_type": "code",
   "execution_count": 4,
   "metadata": {
    "collapsed": false,
    "ExecuteTime": {
     "end_time": "2023-12-15T03:57:06.067109500Z",
     "start_time": "2023-12-15T03:57:06.064023900Z"
    }
   },
   "outputs": [
    {
     "name": "stdout",
     "output_type": "stream",
     "text": [
      "where there is a will there is a way\n"
     ]
    }
   ],
   "source": [
    "reverse_sentence(sentence)"
   ]
  },
  {
   "cell_type": "code",
   "execution_count": 8,
   "metadata": {
    "ExecuteTime": {
     "end_time": "2023-09-05T16:06:03.134369100Z",
     "start_time": "2023-09-05T16:06:03.104848100Z"
    },
    "collapsed": false
   },
   "outputs": [],
   "source": [
    "#Q3\n",
    "\n",
    "score = [(100,100),(95,90), (55,60), (75,80), (70, 70)]\n",
    "\n",
    "def get_avg(score):\n",
    "    student_score = [0,0,0,0,0]\n",
    "    for i in range(len(score)):\n",
    "        student_score[i] = (score[i][0]+score[i][1])/2\n",
    "        print(f\"{i+1}번,평균: {student_score[i]}\")"
   ]
  },
  {
   "cell_type": "code",
   "execution_count": 9,
   "metadata": {
    "ExecuteTime": {
     "end_time": "2023-09-05T16:06:03.817213100Z",
     "start_time": "2023-09-05T16:06:03.794206100Z"
    },
    "collapsed": false
   },
   "outputs": [
    {
     "name": "stdout",
     "output_type": "stream",
     "text": [
      "1번,평균: 100.0\n",
      "2번,평균: 92.5\n",
      "3번,평균: 57.5\n",
      "4번,평균: 77.5\n",
      "5번,평균: 70.0\n"
     ]
    }
   ],
   "source": [
    "get_avg(score)"
   ]
  },
  {
   "cell_type": "code",
   "execution_count": 11,
   "metadata": {
    "ExecuteTime": {
     "end_time": "2023-09-05T16:06:04.728889100Z",
     "start_time": "2023-09-05T16:06:04.708886100Z"
    },
    "collapsed": false
   },
   "outputs": [],
   "source": [
    "#Q4\n",
    "\n",
    "dict_first = {'사과': 30, '배': 15, '감':10, '포도':10}\n",
    "dict_second = {'사과':5, '감':25, '배':15, '귤':25}\n",
    "\n",
    "def merge_dict(dict_first, dict_second):\n",
    "    merged_dict = dict_first.copy()\n",
    "    for w,x in dict_second.items(): #두번째dict도 튜플로 언팩킹해 받아옴\n",
    "        if w in merged_dict.keys(): # 키가 이미 있는 경우 기존값과 더함\n",
    "            merged_dict[w] = merged_dict[w] + x\n",
    "        else:merged_dict[w] = x # 키가 없는 경우 새로운 키와 값을 생성\n",
    "    print(merged_dict)\n"
   ]
  },
  {
   "cell_type": "code",
   "execution_count": 12,
   "metadata": {
    "ExecuteTime": {
     "end_time": "2023-09-05T16:06:05.685519900Z",
     "start_time": "2023-09-05T16:06:05.668520100Z"
    },
    "collapsed": false
   },
   "outputs": [
    {
     "name": "stdout",
     "output_type": "stream",
     "text": [
      "{'사과': 35, '배': 30, '감': 35, '포도': 10, '귤': 25}\n"
     ]
    }
   ],
   "source": [
    "merge_dict(dict_first,dict_second)"
   ]
  },
  {
   "cell_type": "code",
   "execution_count": 35,
   "metadata": {
    "collapsed": false
   },
   "outputs": [],
   "source": [
    "#Q4-2 카운터를 이용한 간략화 출력포맷에서는 차이가남\n",
    "\n",
    "from collections import Counter\n",
    "\n",
    "dict_first = {'사과': 30, '배': 15, '감':10, '포도':10}\n",
    "dict_second = {'사과':5, '감':25, '배':15, '귤':25}\n",
    "\n",
    "def merge_dict2(dict_first, dict_second):\n",
    "    c = Counter(dict_first) +Counter(dict_second)\n",
    "    print(c)\n"
   ]
  },
  {
   "cell_type": "code",
   "execution_count": 36,
   "metadata": {
    "collapsed": false
   },
   "outputs": [
    {
     "name": "stdout",
     "output_type": "stream",
     "text": [
      "Counter({'사과': 35, '감': 35, '배': 30, '귤': 25, '포도': 10})\n"
     ]
    }
   ],
   "source": [
    "merge_dict2(dict_first, dict_second)"
   ]
  },
  {
   "cell_type": "code",
   "execution_count": 37,
   "metadata": {
    "collapsed": false
   },
   "outputs": [],
   "source": [
    "#Q5\n",
    "def find_string(inputs):\n",
    "    output = \"\"\n",
    "    for i in inputs:\n",
    "        if(i.isdigit() == True): output += \" \"\n",
    "        else: output += i\n",
    "    output_list = output.split()\n",
    "    return output_list"
   ]
  },
  {
   "cell_type": "code",
   "execution_count": 38,
   "metadata": {
    "collapsed": false
   },
   "outputs": [
    {
     "name": "stdout",
     "output_type": "stream",
     "text": [
      "['cat', 'dog', 'cow']\n"
     ]
    }
   ],
   "source": [
    "inputs = \"cat32dog16cow5\"\n",
    "string_list = find_string(inputs)\n",
    "print(string_list)"
   ]
  }
 ],
 "metadata": {
  "kernelspec": {
   "display_name": "Python 3",
   "language": "python",
   "name": "python3"
  },
  "language_info": {
   "codemirror_mode": {
    "name": "ipython",
    "version": 3
   },
   "file_extension": ".py",
   "mimetype": "text/x-python",
   "name": "python",
   "nbconvert_exporter": "python",
   "pygments_lexer": "ipython3",
   "version": "3.10.12"
  }
 },
 "nbformat": 4,
 "nbformat_minor": 0
}
