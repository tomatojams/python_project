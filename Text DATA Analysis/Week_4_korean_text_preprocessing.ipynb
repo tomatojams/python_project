{
 "nbformat": 4,
 "nbformat_minor": 0,
 "metadata": {
  "colab": {
   "provenance": []
  },
  "kernelspec": {
   "name": "python3",
   "language": "python",
   "display_name": "Python 3 (ipykernel)"
  },
  "language_info": {
   "name": "python"
  }
 },
 "cells": [
  {
   "cell_type": "markdown",
   "source": [
    "**4주차 실습 - 한국어 전처리**\n",
    "\n",
    "*** 출처 ***\n",
    "*   딥 러닝을 이용한 자연어 처리 입문(https://wikidocs.net/book/2155)\n",
    "*   파이썬 텍스트 마이닝 완벽 가이드\n",
    "\n"
   ],
   "metadata": {
    "id": "p6Qj3ZjBA5j7"
   }
  },
  {
   "cell_type": "markdown",
   "source": [
    "# **0. KoNLPy(Korean NLP in Python) 설치**\n",
    "- KoNLPy(\"코엔엘파이\", \"ko en el PIE\"): 한국어 자연어처리를 위한 파이썬 패키지"
   ],
   "metadata": {
    "id": "XrE1pvAG5-SN"
   }
  },
  {
   "cell_type": "code",
   "source": [
    "!curl -s https: // raw.githubusercontent.com/teddylee777/machine-learning/master/ 99-Misc/ 01-Colab/mecab-colab.sh | bash"
   ],
   "metadata": {
    "colab": {
     "base_uri": "https://localhost:8080/"
    },
    "id": "SYcps6trEaI_",
    "outputId": "45f22902-f6d7-458c-d543-a5dcf51904d8",
    "ExecuteTime": {
     "end_time": "2023-10-08T04:37:36.258317Z",
     "start_time": "2023-10-08T04:37:35.754080Z"
    }
   },
   "execution_count": 1,
   "outputs": []
  },
  {
   "cell_type": "code",
   "metadata": {
    "colab": {
     "base_uri": "https://localhost:8080/"
    },
    "id": "-dj0kuQgRvIU",
    "outputId": "96ca16a1-f41f-45d3-a316-5682a348a376",
    "ExecuteTime": {
     "end_time": "2023-10-08T04:37:39.799782Z",
     "start_time": "2023-10-08T04:37:39.747323Z"
    }
   },
   "source": [
    "import nltk  # Natural Language Toolkit 라이브러리\n",
    "\n",
    "nltk.download('punkt')  # 토크나이저 모듈 다운로드"
   ],
   "execution_count": 2,
   "outputs": [
    {
     "ename": "ModuleNotFoundError",
     "evalue": "No module named 'nltk'",
     "output_type": "error",
     "traceback": [
      "\u001B[0;31m---------------------------------------------------------------------------\u001B[0m",
      "\u001B[0;31mModuleNotFoundError\u001B[0m                       Traceback (most recent call last)",
      "Cell \u001B[0;32mIn[2], line 1\u001B[0m\n\u001B[0;32m----> 1\u001B[0m \u001B[38;5;28;01mimport\u001B[39;00m \u001B[38;5;21;01mnltk\u001B[39;00m  \u001B[38;5;66;03m# Natural Language Toolkit 라이브러리\u001B[39;00m\n\u001B[1;32m      3\u001B[0m nltk\u001B[38;5;241m.\u001B[39mdownload(\u001B[38;5;124m'\u001B[39m\u001B[38;5;124mpunkt\u001B[39m\u001B[38;5;124m'\u001B[39m)\n",
      "\u001B[0;31mModuleNotFoundError\u001B[0m: No module named 'nltk'"
     ]
    }
   ]
  },
  {
   "cell_type": "markdown",
   "source": [
    "# **1. 토큰화(Tokenization)**"
   ],
   "metadata": {
    "id": "xv9jD0-E9vFu"
   }
  },
  {
   "cell_type": "markdown",
   "source": [
    "## 1-1. 단어 토큰화\n",
    "- KoNLPy에서 제공하는 형태소 분석기: Okt(Open Korea Text), Mecab(메캅), Komoran(코모란), Hannanum(한나눔), 꼬꼬마(Kkma) 등\n",
    "\n",
    "- KoNLPy의 형태소 분석기의 공통 method: morphs(토큰화), pos(품사 태깅), nouns(명사 추출)\n",
    "\n",
    "- 형태소 분석기 마다 분석 결과가 다름"
   ],
   "metadata": {
    "id": "-sxtCj_x9Dtm"
   }
  },
  {
   "cell_type": "code",
   "source": [
    "# Okt(Open Korea Text)\n",
    "from konlpy.tag import Okt\n",
    "# Komoran(코모란)\n",
    "from konlpy.tag import Komoran\n",
    "# Hannanum(한나눔)\n",
    "from konlpy.tag import Hannanum\n",
    "# 꼬꼬마(Kkma)\n",
    "from konlpy.tag import Kkma\n",
    "\n",
    "okt = Okt()\n",
    "komoran = Komoran()\n",
    "hannanum = Hannanum()\n",
    "kkma = Kkma()\n",
    "\n",
    "text = \"세종대왕은 온 백성이 자유롭게 자신의 의사를 표현하고 정보를 얻을 수 있는 세상을 꿈꾸며 한글을 창제하였습니다\"\n",
    "\n",
    "print(\"Okt: \", okt.morphs(text))\n",
    "print(\"Komoran: \", komoran.morphs(text))\n",
    "print(\"Hannanum: \", hannanum.morphs(text))\n",
    "print(\"Kkma: \", kkma.morphs(text))"
   ],
   "metadata": {
    "id": "nzfDhsYm852i",
    "colab": {
     "base_uri": "https://localhost:8080/"
    },
    "outputId": "da009f74-e8ec-4ba3-d5a2-48d2f83edee9",
    "ExecuteTime": {
     "end_time": "2023-10-02T00:01:02.655544400Z",
     "start_time": "2023-10-02T00:00:53.929935200Z"
    }
   },
   "execution_count": 6,
   "outputs": [
    {
     "name": "stdout",
     "output_type": "stream",
     "text": [
      "Okt:  ['세종대왕', '은', '온', '백성', '이', '자유롭게', '자신', '의', '의사', '를', '표현', '하고', '정보', '를', '얻을', '수', '있는', '세상', '을', '꿈꾸며', '한글', '을', '창제', '하였습니다']\n",
      "Komoran:  ['세종대왕', '은', '오', 'ㄴ', '백성', '이', '자유', '롭', '게', '자신', '의', '의사', '를', '표현', '하', '고', '정보', '를', '얻', '을', '수', '있', '는', '세상', '을', '꿈꾸', '며', '한글', '을', '창제', '하', '았', '습니다']\n",
      "Hannanum:  ['세종대왕', '은', '오', 'ㄴ', '백성', '이', '자유', '롭', '게', '자신', '의', '의사', '를', '표현', '하고', '정보', '를', '얻', '을', '수', '있', '는', '세상', '을', '꿈꾸', '며', '한글', '을', '창제', '하', '었습니다']\n",
      "Kkma:  ['세종', '대왕', '은', '오', 'ㄴ', '백성', '이', '자유', '롭', '게', '자신', '의', '의사', '를', '표현', '하', '고', '정보', '를', '얻', '을', '수', '있', '는', '세상', '을', '꿈꾸', '며', '한글', '을', '창제', '하', '였', '습니다']\n"
     ]
    }
   ]
  },
  {
   "cell_type": "markdown",
   "source": [
    "## 1-2. 문장 토큰화"
   ],
   "metadata": {
    "id": "X6lWTou49PLA"
   }
  },
  {
   "cell_type": "code",
   "metadata": {
    "colab": {
     "base_uri": "https://localhost:8080/"
    },
    "id": "C2WixyvHR9US",
    "outputId": "6f4eb98a-a787-4cc9-959f-dc143719a88a",
    "ExecuteTime": {
     "end_time": "2023-10-02T00:22:35.380884800Z",
     "start_time": "2023-10-02T00:22:35.345517500Z"
    }
   },
   "source": [
    "from nltk.tokenize import sent_tokenize  # 문장 토크나이저\n",
    "\n",
    "para_kor = \"\"\"세종대왕은 온 백성이 자유롭게 자신의 의사를 표현하고 정보를 얻을 수 있는 세상을 꿈꾸며 ‘한글’을 창제하였습니다.\n",
    "국립국어원은 그 꿈을 이어가는 중추적인 기관으로서 사명을 다할 것입니다.\n",
    "한국어와 한글이, 남과 북을 넘어 온 세상 사람들이 소통하는 도구가 되어 우리의 삶을 더욱 풍성하게 하는 데에 힘을 보태겠습니다.\"\"\"\n",
    "\n",
    "sent_tokenize(para_kor)  # 문장 단위로 텍스트를 분할"
   ],
   "execution_count": 7,
   "outputs": [
    {
     "data": {
      "text/plain": "['세종대왕은 온 백성이 자유롭게 자신의 의사를 표현하고 정보를 얻을 수 있는 세상을 꿈꾸며 ‘한글’을 창제하였습니다.',\n '국립국어원은 그 꿈을 이어가는 중추적인 기관으로서 사명을 다할 것입니다.',\n '한국어와 한글이, 남과 북을 넘어 온 세상 사람들이 소통하는 도구가 되어 우리의 삶을 더욱 풍성하게 하는 데에 힘을 보태겠습니다.']"
     },
     "execution_count": 7,
     "metadata": {},
     "output_type": "execute_result"
    }
   ]
  },
  {
   "cell_type": "markdown",
   "source": [
    "# **2. 불용어 제거**"
   ],
   "metadata": {
    "id": "x5rP0ogQ9jR6"
   }
  },
  {
   "cell_type": "code",
   "source": [
    "okt = Okt()\n",
    "\n",
    "text = \"세종대왕은 온 백성이 자유롭게 자신의 의사를 표현하고 정보를 얻을 수 있는 세상을 꿈꾸며 한글을 창제하였습니다\"\n",
    "stop_words = \"은 이 의 을 를 하고 있는 하였습니다\"\n",
    "\n",
    "# 불용어 문자열을 공백을 기준으로 나눠서 집합으로 변환\n",
    "stop_words = set(stop_words.split(' '))\n",
    "\n",
    "# 단어 토큰화\n",
    "word_tokens = okt.morphs(text)\n",
    "\n",
    "# 토큰화된 텍스트에서 불용어를 제거\n",
    "result = [word for word in word_tokens if not word in stop_words]\n",
    "\n",
    "print('불용어 제거 전 :', word_tokens)\n",
    "print('불용어 제거 후 :', result)"
   ],
   "metadata": {
    "colab": {
     "base_uri": "https://localhost:8080/"
    },
    "id": "TMaTzvuN9hdn",
    "outputId": "a3c89c1d-b4fc-4a84-9c84-59047216f089",
    "ExecuteTime": {
     "end_time": "2023-10-02T00:23:04.987987500Z",
     "start_time": "2023-10-02T00:23:04.945776200Z"
    }
   },
   "execution_count": 8,
   "outputs": [
    {
     "name": "stdout",
     "output_type": "stream",
     "text": [
      "불용어 제거 전 : ['세종대왕', '은', '온', '백성', '이', '자유롭게', '자신', '의', '의사', '를', '표현', '하고', '정보', '를', '얻을', '수', '있는', '세상', '을', '꿈꾸며', '한글', '을', '창제', '하였습니다']\n",
      "불용어 제거 후 : ['세종대왕', '온', '백성', '자유롭게', '자신', '의사', '표현', '정보', '얻을', '수', '세상', '꿈꾸며', '한글', '창제']\n"
     ]
    }
   ]
  },
  {
   "cell_type": "code",
   "source": [
    "\n",
    "\n",
    "stop_words_file = open(\"data/korean_stopwords.txt\", \"r\", encoding='UTF8')\n",
    "stop_words_text = stop_words_file.read()\n",
    "stop_words_text\n"
   ],
   "metadata": {
    "colab": {
     "base_uri": "https://localhost:8080/",
     "height": 164
    },
    "id": "eX3dfSP29hgJ",
    "outputId": "2f5f4cab-5dfd-4583-f5e8-e96825d5dde8",
    "ExecuteTime": {
     "end_time": "2023-10-02T00:27:28.685857800Z",
     "start_time": "2023-10-02T00:27:28.673602100Z"
    }
   },
   "execution_count": 10,
   "outputs": [
    {
     "data": {
      "text/plain": "'가\\n가까스로\\n가령\\n각\\n각각\\n각자\\n각종\\n갖고말하자면\\n같다\\n같이\\n개의치않고\\n거니와\\n거바\\n거의\\n것\\n것과 같이\\n것들\\n게다가\\n게우다\\n겨우\\n견지에서\\n결과에 이르다\\n결국\\n결론을 낼 수 있다\\n겸사겸사\\n고려하면\\n고로\\n곧\\n공동으로\\n과\\n과연\\n관계가 있다\\n관계없이\\n관련이 있다\\n관하여\\n관한\\n관해서는\\n구\\n구체적으로\\n구토하다\\n그\\n그들\\n그때\\n그래\\n그래도\\n그래서\\n그러나\\n그러니\\n그러니까\\n그러면\\n그러므로\\n그러한즉\\n그런 까닭에\\n그런데\\n그런즉\\n그럼\\n그럼에도 불구하고\\n그렇게 함으로써\\n그렇지\\n그렇지 않다면\\n그렇지 않으면\\n그렇지만\\n그렇지않으면\\n그리고\\n그리하여\\n그만이다\\n그에 따르는\\n그위에\\n그저\\n그중에서\\n그치지 않다\\n근거로\\n근거하여\\n기대여\\n기점으로\\n기준으로\\n기타\\n까닭으로\\n까악\\n까지\\n까지 미치다\\n까지도\\n꽈당\\n끙끙\\n끼익\\n나\\n나머지는\\n남들\\n남짓\\n너\\n너희\\n너희들\\n네\\n넷\\n년\\n논하지 않다\\n놀라다\\n누가 알겠는가\\n누구\\n다른\\n다른 방면으로\\n다만\\n다섯\\n다소\\n다수\\n다시 말하자면\\n다시말하면\\n다음\\n다음에\\n다음으로\\n단지\\n답다\\n당신\\n당장\\n대로 하다\\n대하면\\n대하여\\n대해 말하자면\\n대해서\\n댕그\\n더구나\\n더군다나\\n더라도\\n더불어\\n더욱더\\n더욱이는\\n도달하다\\n도착하다\\n동시에\\n동안\\n된바에야\\n된이상\\n두번째로\\n둘\\n둥둥\\n뒤따라\\n뒤이어\\n든간에\\n들\\n등\\n등등\\n딩동\\n따라\\n따라서\\n따위\\n따지지 않다\\n딱\\n때\\n때가 되어\\n때문에\\n또\\n또한\\n뚝뚝\\n라 해도\\n령\\n로\\n로 인하여\\n로부터\\n로써\\n륙\\n를\\n마음대로\\n마저\\n마저도\\n마치\\n막론하고\\n만 못하다\\n만약\\n만약에\\n만은 아니다\\n만이 아니다\\n만일\\n만큼\\n말하자면\\n말할것도 없고\\n매\\n매번\\n메쓰겁다\\n몇\\n모\\n모두\\n무렵\\n무릎쓰고\\n무슨\\n무엇\\n무엇때문에\\n물론\\n및\\n바꾸어말하면\\n바꾸어말하자면\\n바꾸어서 말하면\\n바꾸어서 한다면\\n바꿔 말하면\\n바로\\n바와같이\\n밖에 안된다\\n반대로\\n반대로 말하자면\\n반드시\\n버금\\n보는데서\\n보다더\\n보드득\\n본대로\\n봐\\n봐라\\n부류의 사람들\\n부터\\n불구하고\\n불문하고\\n붕붕\\n비걱거리다\\n비교적\\n비길수 없다\\n비로소\\n비록\\n비슷하다\\n비추어 보아\\n비하면\\n뿐만 아니라\\n뿐만아니라\\n뿐이다\\n삐걱\\n삐걱거리다\\n사\\n삼\\n상대적으로 말하자면\\n생각한대로\\n설령\\n설마\\n설사\\n셋\\n소생\\n소인\\n솨\\n쉿\\n습니까\\n습니다\\n시각\\n시간\\n시작하여\\n시초에\\n시키다\\n실로\\n심지어\\n아\\n아니\\n아니나다를가\\n아니라면\\n아니면\\n아니었다면\\n아래윗\\n아무거나\\n아무도\\n아야\\n아울러\\n아이\\n아이고\\n아이구\\n아이야\\n아이쿠\\n아하\\n아홉\\n안 그러면\\n않기 위하여\\n않기 위해서\\n알 수 있다\\n알았어\\n앗\\n앞에서\\n앞의것\\n야\\n약간\\n양자\\n어\\n어기여차\\n어느\\n어느 년도\\n어느것\\n어느곳\\n어느때\\n어느쪽\\n어느해\\n어디\\n어때\\n어떠한\\n어떤\\n어떤것\\n어떤것들\\n어떻게\\n어떻해\\n어이\\n어째서\\n어쨋든\\n어쩔수 없다\\n어찌\\n어찌됏든\\n어찌됏어\\n어찌하든지\\n어찌하여\\n언제\\n언젠가\\n얼마\\n얼마 안 되는 것\\n얼마간\\n얼마나\\n얼마든지\\n얼마만큼\\n얼마큼\\n엉엉\\n에\\n에 가서\\n에 달려 있다\\n에 대해\\n에 있다\\n에 한하다\\n에게\\n에서\\n여\\n여기\\n여덟\\n여러분\\n여보시오\\n여부\\n여섯\\n여전히\\n여차\\n연관되다\\n연이서\\n영\\n영차\\n옆사람\\n예\\n예를 들면\\n예를 들자면\\n예컨대\\n예하면\\n오\\n오로지\\n오르다\\n오자마자\\n오직\\n오호\\n오히려\\n와\\n와 같은 사람들\\n와르르\\n와아\\n왜\\n왜냐하면\\n외에도\\n요만큼\\n요만한 것\\n요만한걸\\n요컨대\\n우르르\\n우리\\n우리들\\n우선\\n우에 종합한것과같이\\n운운\\n월\\n위에서 서술한바와같이\\n위하여\\n위해서\\n윙윙\\n육\\n으로\\n으로 인하여\\n으로서\\n으로써\\n을\\n응\\n응당\\n의\\n의거하여\\n의지하여\\n의해\\n의해되다\\n의해서\\n이\\n이 되다\\n이 때문에\\n이 밖에\\n이 외에\\n이 정도의\\n이것\\n이곳\\n이때\\n이라면\\n이래\\n이러이러하다\\n이러한\\n이런\\n이럴정도로\\n이렇게 많은 것\\n이렇게되면\\n이렇게말하자면\\n이렇구나\\n이로 인하여\\n이르기까지\\n이리하여\\n이만큼\\n이번\\n이봐\\n이상\\n이어서\\n이었다\\n이와 같다\\n이와 같은\\n이와 반대로\\n이와같다면\\n이외에도\\n이용하여\\n이유만으로\\n이젠\\n이지만\\n이쪽\\n이천구\\n이천육\\n이천칠\\n이천팔\\n인 듯하다\\n인젠\\n일\\n일것이다\\n일곱\\n일단\\n일때\\n일반적으로\\n일지라도\\n임에 틀림없다\\n입각하여\\n입장에서\\n잇따라\\n있다\\n자\\n자기\\n자기집\\n자마자\\n자신\\n잠깐\\n잠시\\n저\\n저것\\n저것만큼\\n저기\\n저쪽\\n저희\\n전부\\n전자\\n전후\\n점에서 보아\\n정도에 이르다\\n제\\n제각기\\n제외하고\\n조금\\n조차\\n조차도\\n졸졸\\n좀\\n좋아\\n좍좍\\n주룩주룩\\n주저하지 않고\\n줄은 몰랏다\\n줄은모른다\\n중에서\\n중의하나\\n즈음하여\\n즉\\n즉시\\n지든지\\n지만\\n지말고\\n진짜로\\n쪽으로\\n차라리\\n참\\n참나\\n첫번째로\\n쳇\\n총적으로\\n총적으로 말하면\\n총적으로 보면\\n칠\\n콸콸\\n쾅쾅\\n쿵\\n타다\\n타인\\n탕탕\\n토하다\\n통하여\\n툭\\n퉤\\n틈타\\n팍\\n팔\\n퍽\\n펄렁\\n하\\n하게될것이다\\n하게하다\\n하겠는가\\n하고 있다\\n하고있었다\\n하곤하였다\\n하구나\\n하기 때문에\\n하기 위하여\\n하기는한데\\n하기만 하면\\n하기보다는\\n하기에\\n하나\\n하느니\\n하는 김에\\n하는 편이 낫다\\n하는것도\\n하는것만 못하다\\n하는것이 낫다\\n하는바\\n하더라도\\n하도다\\n하도록시키다\\n하도록하다\\n하든지\\n하려고하다\\n하마터면\\n하면 할수록\\n하면된다\\n하면서\\n하물며\\n하여금\\n하여야\\n하자마자\\n하지 않는다면\\n하지 않도록\\n하지마\\n하지마라\\n하지만\\n하하\\n한 까닭에\\n한 이유는\\n한 후\\n한다면\\n한다면 몰라도\\n한데\\n한마디\\n한적이있다\\n한켠으로는\\n한항목\\n할 따름이다\\n할 생각이다\\n할 줄 안다\\n할 지경이다\\n할 힘이 있다\\n할때\\n할만하다\\n할망정\\n할뿐\\n할수있다\\n할수있어\\n할줄알다\\n할지라도\\n할지언정\\n함께\\n해도된다\\n해도좋다\\n해봐요\\n해서는 안된다\\n해야한다\\n해요\\n했어요\\n향하다\\n향하여\\n향해서\\n허\\n허걱\\n허허\\n헉\\n헉헉\\n헐떡헐떡\\n형식으로 쓰여\\n혹시\\n혹은\\n혼자\\n훨씬\\n휘익\\n휴\\n흐흐\\n흥\\n힘입어'"
     },
     "execution_count": 10,
     "metadata": {},
     "output_type": "execute_result"
    }
   ]
  },
  {
   "cell_type": "code",
   "source": [
    "stop_words_set = set(stop_words_text.split('\\n'))\n",
    "stop_words_set"
   ],
   "metadata": {
    "id": "6Zya134uTJ4z",
    "colab": {
     "base_uri": "https://localhost:8080/"
    },
    "outputId": "cb8f5417-235b-4811-a62f-d2b59f8d8784",
    "ExecuteTime": {
     "end_time": "2023-10-02T00:28:53.152483100Z",
     "start_time": "2023-10-02T00:28:53.136963Z"
    }
   },
   "execution_count": 11,
   "outputs": [
    {
     "data": {
      "text/plain": "{'가',\n '가까스로',\n '가령',\n '각',\n '각각',\n '각자',\n '각종',\n '갖고말하자면',\n '같다',\n '같이',\n '개의치않고',\n '거니와',\n '거바',\n '거의',\n '것',\n '것과 같이',\n '것들',\n '게다가',\n '게우다',\n '겨우',\n '견지에서',\n '결과에 이르다',\n '결국',\n '결론을 낼 수 있다',\n '겸사겸사',\n '고려하면',\n '고로',\n '곧',\n '공동으로',\n '과',\n '과연',\n '관계가 있다',\n '관계없이',\n '관련이 있다',\n '관하여',\n '관한',\n '관해서는',\n '구',\n '구체적으로',\n '구토하다',\n '그',\n '그들',\n '그때',\n '그래',\n '그래도',\n '그래서',\n '그러나',\n '그러니',\n '그러니까',\n '그러면',\n '그러므로',\n '그러한즉',\n '그런 까닭에',\n '그런데',\n '그런즉',\n '그럼',\n '그럼에도 불구하고',\n '그렇게 함으로써',\n '그렇지',\n '그렇지 않다면',\n '그렇지 않으면',\n '그렇지만',\n '그렇지않으면',\n '그리고',\n '그리하여',\n '그만이다',\n '그에 따르는',\n '그위에',\n '그저',\n '그중에서',\n '그치지 않다',\n '근거로',\n '근거하여',\n '기대여',\n '기점으로',\n '기준으로',\n '기타',\n '까닭으로',\n '까악',\n '까지',\n '까지 미치다',\n '까지도',\n '꽈당',\n '끙끙',\n '끼익',\n '나',\n '나머지는',\n '남들',\n '남짓',\n '너',\n '너희',\n '너희들',\n '네',\n '넷',\n '년',\n '논하지 않다',\n '놀라다',\n '누가 알겠는가',\n '누구',\n '다른',\n '다른 방면으로',\n '다만',\n '다섯',\n '다소',\n '다수',\n '다시 말하자면',\n '다시말하면',\n '다음',\n '다음에',\n '다음으로',\n '단지',\n '답다',\n '당신',\n '당장',\n '대로 하다',\n '대하면',\n '대하여',\n '대해 말하자면',\n '대해서',\n '댕그',\n '더구나',\n '더군다나',\n '더라도',\n '더불어',\n '더욱더',\n '더욱이는',\n '도달하다',\n '도착하다',\n '동시에',\n '동안',\n '된바에야',\n '된이상',\n '두번째로',\n '둘',\n '둥둥',\n '뒤따라',\n '뒤이어',\n '든간에',\n '들',\n '등',\n '등등',\n '딩동',\n '따라',\n '따라서',\n '따위',\n '따지지 않다',\n '딱',\n '때',\n '때가 되어',\n '때문에',\n '또',\n '또한',\n '뚝뚝',\n '라 해도',\n '령',\n '로',\n '로 인하여',\n '로부터',\n '로써',\n '륙',\n '를',\n '마음대로',\n '마저',\n '마저도',\n '마치',\n '막론하고',\n '만 못하다',\n '만약',\n '만약에',\n '만은 아니다',\n '만이 아니다',\n '만일',\n '만큼',\n '말하자면',\n '말할것도 없고',\n '매',\n '매번',\n '메쓰겁다',\n '몇',\n '모',\n '모두',\n '무렵',\n '무릎쓰고',\n '무슨',\n '무엇',\n '무엇때문에',\n '물론',\n '및',\n '바꾸어말하면',\n '바꾸어말하자면',\n '바꾸어서 말하면',\n '바꾸어서 한다면',\n '바꿔 말하면',\n '바로',\n '바와같이',\n '밖에 안된다',\n '반대로',\n '반대로 말하자면',\n '반드시',\n '버금',\n '보는데서',\n '보다더',\n '보드득',\n '본대로',\n '봐',\n '봐라',\n '부류의 사람들',\n '부터',\n '불구하고',\n '불문하고',\n '붕붕',\n '비걱거리다',\n '비교적',\n '비길수 없다',\n '비로소',\n '비록',\n '비슷하다',\n '비추어 보아',\n '비하면',\n '뿐만 아니라',\n '뿐만아니라',\n '뿐이다',\n '삐걱',\n '삐걱거리다',\n '사',\n '삼',\n '상대적으로 말하자면',\n '생각한대로',\n '설령',\n '설마',\n '설사',\n '셋',\n '소생',\n '소인',\n '솨',\n '쉿',\n '습니까',\n '습니다',\n '시각',\n '시간',\n '시작하여',\n '시초에',\n '시키다',\n '실로',\n '심지어',\n '아',\n '아니',\n '아니나다를가',\n '아니라면',\n '아니면',\n '아니었다면',\n '아래윗',\n '아무거나',\n '아무도',\n '아야',\n '아울러',\n '아이',\n '아이고',\n '아이구',\n '아이야',\n '아이쿠',\n '아하',\n '아홉',\n '안 그러면',\n '않기 위하여',\n '않기 위해서',\n '알 수 있다',\n '알았어',\n '앗',\n '앞에서',\n '앞의것',\n '야',\n '약간',\n '양자',\n '어',\n '어기여차',\n '어느',\n '어느 년도',\n '어느것',\n '어느곳',\n '어느때',\n '어느쪽',\n '어느해',\n '어디',\n '어때',\n '어떠한',\n '어떤',\n '어떤것',\n '어떤것들',\n '어떻게',\n '어떻해',\n '어이',\n '어째서',\n '어쨋든',\n '어쩔수 없다',\n '어찌',\n '어찌됏든',\n '어찌됏어',\n '어찌하든지',\n '어찌하여',\n '언제',\n '언젠가',\n '얼마',\n '얼마 안 되는 것',\n '얼마간',\n '얼마나',\n '얼마든지',\n '얼마만큼',\n '얼마큼',\n '엉엉',\n '에',\n '에 가서',\n '에 달려 있다',\n '에 대해',\n '에 있다',\n '에 한하다',\n '에게',\n '에서',\n '여',\n '여기',\n '여덟',\n '여러분',\n '여보시오',\n '여부',\n '여섯',\n '여전히',\n '여차',\n '연관되다',\n '연이서',\n '영',\n '영차',\n '옆사람',\n '예',\n '예를 들면',\n '예를 들자면',\n '예컨대',\n '예하면',\n '오',\n '오로지',\n '오르다',\n '오자마자',\n '오직',\n '오호',\n '오히려',\n '와',\n '와 같은 사람들',\n '와르르',\n '와아',\n '왜',\n '왜냐하면',\n '외에도',\n '요만큼',\n '요만한 것',\n '요만한걸',\n '요컨대',\n '우르르',\n '우리',\n '우리들',\n '우선',\n '우에 종합한것과같이',\n '운운',\n '월',\n '위에서 서술한바와같이',\n '위하여',\n '위해서',\n '윙윙',\n '육',\n '으로',\n '으로 인하여',\n '으로서',\n '으로써',\n '을',\n '응',\n '응당',\n '의',\n '의거하여',\n '의지하여',\n '의해',\n '의해되다',\n '의해서',\n '이',\n '이 되다',\n '이 때문에',\n '이 밖에',\n '이 외에',\n '이 정도의',\n '이것',\n '이곳',\n '이때',\n '이라면',\n '이래',\n '이러이러하다',\n '이러한',\n '이런',\n '이럴정도로',\n '이렇게 많은 것',\n '이렇게되면',\n '이렇게말하자면',\n '이렇구나',\n '이로 인하여',\n '이르기까지',\n '이리하여',\n '이만큼',\n '이번',\n '이봐',\n '이상',\n '이어서',\n '이었다',\n '이와 같다',\n '이와 같은',\n '이와 반대로',\n '이와같다면',\n '이외에도',\n '이용하여',\n '이유만으로',\n '이젠',\n '이지만',\n '이쪽',\n '이천구',\n '이천육',\n '이천칠',\n '이천팔',\n '인 듯하다',\n '인젠',\n '일',\n '일것이다',\n '일곱',\n '일단',\n '일때',\n '일반적으로',\n '일지라도',\n '임에 틀림없다',\n '입각하여',\n '입장에서',\n '잇따라',\n '있다',\n '자',\n '자기',\n '자기집',\n '자마자',\n '자신',\n '잠깐',\n '잠시',\n '저',\n '저것',\n '저것만큼',\n '저기',\n '저쪽',\n '저희',\n '전부',\n '전자',\n '전후',\n '점에서 보아',\n '정도에 이르다',\n '제',\n '제각기',\n '제외하고',\n '조금',\n '조차',\n '조차도',\n '졸졸',\n '좀',\n '좋아',\n '좍좍',\n '주룩주룩',\n '주저하지 않고',\n '줄은 몰랏다',\n '줄은모른다',\n '중에서',\n '중의하나',\n '즈음하여',\n '즉',\n '즉시',\n '지든지',\n '지만',\n '지말고',\n '진짜로',\n '쪽으로',\n '차라리',\n '참',\n '참나',\n '첫번째로',\n '쳇',\n '총적으로',\n '총적으로 말하면',\n '총적으로 보면',\n '칠',\n '콸콸',\n '쾅쾅',\n '쿵',\n '타다',\n '타인',\n '탕탕',\n '토하다',\n '통하여',\n '툭',\n '퉤',\n '틈타',\n '팍',\n '팔',\n '퍽',\n '펄렁',\n '하',\n '하게될것이다',\n '하게하다',\n '하겠는가',\n '하고 있다',\n '하고있었다',\n '하곤하였다',\n '하구나',\n '하기 때문에',\n '하기 위하여',\n '하기는한데',\n '하기만 하면',\n '하기보다는',\n '하기에',\n '하나',\n '하느니',\n '하는 김에',\n '하는 편이 낫다',\n '하는것도',\n '하는것만 못하다',\n '하는것이 낫다',\n '하는바',\n '하더라도',\n '하도다',\n '하도록시키다',\n '하도록하다',\n '하든지',\n '하려고하다',\n '하마터면',\n '하면 할수록',\n '하면된다',\n '하면서',\n '하물며',\n '하여금',\n '하여야',\n '하자마자',\n '하지 않는다면',\n '하지 않도록',\n '하지마',\n '하지마라',\n '하지만',\n '하하',\n '한 까닭에',\n '한 이유는',\n '한 후',\n '한다면',\n '한다면 몰라도',\n '한데',\n '한마디',\n '한적이있다',\n '한켠으로는',\n '한항목',\n '할 따름이다',\n '할 생각이다',\n '할 줄 안다',\n '할 지경이다',\n '할 힘이 있다',\n '할때',\n '할만하다',\n '할망정',\n '할뿐',\n '할수있다',\n '할수있어',\n '할줄알다',\n '할지라도',\n '할지언정',\n '함께',\n '해도된다',\n '해도좋다',\n '해봐요',\n '해서는 안된다',\n '해야한다',\n '해요',\n '했어요',\n '향하다',\n '향하여',\n '향해서',\n '허',\n '허걱',\n '허허',\n '헉',\n '헉헉',\n '헐떡헐떡',\n '형식으로 쓰여',\n '혹시',\n '혹은',\n '혼자',\n '훨씬',\n '휘익',\n '휴',\n '흐흐',\n '흥',\n '힘입어'}"
     },
     "execution_count": 11,
     "metadata": {},
     "output_type": "execute_result"
    }
   ]
  },
  {
   "cell_type": "code",
   "source": [
    "# 불용어 사전(stop_words_set)을 활용하여 불용어를 제거\n",
    "result = [word for word in word_tokens if not word in stop_words_set]\n",
    "\n",
    "print('불용어 제거 전 :', word_tokens)\n",
    "print('불용어 제거 후 :', result)"
   ],
   "metadata": {
    "colab": {
     "base_uri": "https://localhost:8080/"
    },
    "id": "8P1yj80wsFZV",
    "outputId": "499f4d9f-367b-46b0-bfc7-394ceb31246e",
    "ExecuteTime": {
     "end_time": "2023-10-02T00:29:21.453808Z",
     "start_time": "2023-10-02T00:29:21.433715100Z"
    }
   },
   "execution_count": 12,
   "outputs": [
    {
     "name": "stdout",
     "output_type": "stream",
     "text": [
      "불용어 제거 전 : ['세종대왕', '은', '온', '백성', '이', '자유롭게', '자신', '의', '의사', '를', '표현', '하고', '정보', '를', '얻을', '수', '있는', '세상', '을', '꿈꾸며', '한글', '을', '창제', '하였습니다']\n",
      "불용어 제거 후 : ['세종대왕', '은', '온', '백성', '자유롭게', '의사', '표현', '하고', '정보', '얻을', '수', '있는', '세상', '꿈꾸며', '한글', '창제', '하였습니다']\n"
     ]
    }
   ]
  },
  {
   "cell_type": "markdown",
   "source": [
    "# **3. 품사 태깅**"
   ],
   "metadata": {
    "id": "NxY1GhZaUYeA"
   }
  },
  {
   "cell_type": "code",
   "source": [
    "okt = Okt()\n",
    "komoran = Komoran()\n",
    "hannanum = Hannanum()\n",
    "kkma = Kkma()\n",
    "\n",
    "text = \"세종대왕은 온 백성이 자유롭게 자신의 의사를 표현하고 정보를 얻을 수 있는 세상을 꿈꾸며 한글을 창제하였습니다\"\n",
    "\n",
    "# 토큰화 결과와 함께 각 토큰마다 해당하는 품사 태그가 표시됨\n",
    "print(okt.pos(text))\n",
    "print(komoran.pos(text))\n",
    "print(hannanum.pos(text))\n",
    "print(kkma.pos(text))"
   ],
   "metadata": {
    "colab": {
     "base_uri": "https://localhost:8080/"
    },
    "id": "SMkhO3aKMHs3",
    "outputId": "90c2bdb3-448f-4570-dfa4-1a29e7e57b92",
    "ExecuteTime": {
     "end_time": "2023-10-02T00:31:18.215493900Z",
     "start_time": "2023-10-02T00:31:16.920151700Z"
    }
   },
   "execution_count": 13,
   "outputs": [
    {
     "name": "stdout",
     "output_type": "stream",
     "text": [
      "[('세종대왕', 'Noun'), ('은', 'Josa'), ('온', 'Noun'), ('백성', 'Noun'), ('이', 'Josa'), ('자유롭게', 'Adjective'), ('자신', 'Noun'), ('의', 'Josa'), ('의사', 'Noun'), ('를', 'Josa'), ('표현', 'Noun'), ('하고', 'Josa'), ('정보', 'Noun'), ('를', 'Josa'), ('얻을', 'Verb'), ('수', 'Noun'), ('있는', 'Adjective'), ('세상', 'Noun'), ('을', 'Josa'), ('꿈꾸며', 'Verb'), ('한글', 'Noun'), ('을', 'Josa'), ('창제', 'Noun'), ('하였습니다', 'Verb')]\n",
      "[('세종대왕', 'NNP'), ('은', 'JX'), ('오', 'VV'), ('ㄴ', 'ETM'), ('백성', 'NNG'), ('이', 'JKS'), ('자유', 'NNG'), ('롭', 'XSA'), ('게', 'EC'), ('자신', 'NNG'), ('의', 'JKG'), ('의사', 'NNG'), ('를', 'JKO'), ('표현', 'NNG'), ('하', 'XSV'), ('고', 'EC'), ('정보', 'NNG'), ('를', 'JKO'), ('얻', 'VV'), ('을', 'ETM'), ('수', 'NNB'), ('있', 'VV'), ('는', 'ETM'), ('세상', 'NNG'), ('을', 'JKO'), ('꿈꾸', 'VV'), ('며', 'EC'), ('한글', 'NNG'), ('을', 'JKO'), ('창제', 'NNG'), ('하', 'XSV'), ('았', 'EP'), ('습니다', 'EC')]\n",
      "[('세종대왕', 'N'), ('은', 'J'), ('오', 'P'), ('ㄴ', 'E'), ('백성', 'N'), ('이', 'J'), ('자유', 'N'), ('롭', 'X'), ('게', 'E'), ('자신', 'N'), ('의', 'J'), ('의사', 'N'), ('를', 'J'), ('표현', 'N'), ('하고', 'J'), ('정보', 'N'), ('를', 'J'), ('얻', 'P'), ('을', 'E'), ('수', 'N'), ('있', 'P'), ('는', 'E'), ('세상', 'N'), ('을', 'J'), ('꿈꾸', 'P'), ('며', 'E'), ('한글', 'N'), ('을', 'J'), ('창제', 'N'), ('하', 'X'), ('었습니다', 'E')]\n",
      "[('세종', 'NNG'), ('대왕', 'NNG'), ('은', 'JX'), ('오', 'VV'), ('ㄴ', 'ETD'), ('백성', 'NNG'), ('이', 'JKS'), ('자유', 'NNG'), ('롭', 'XSA'), ('게', 'ECD'), ('자신', 'NNG'), ('의', 'JKG'), ('의사', 'NNG'), ('를', 'JKO'), ('표현', 'NNG'), ('하', 'XSV'), ('고', 'ECE'), ('정보', 'NNG'), ('를', 'JKO'), ('얻', 'VV'), ('을', 'ETD'), ('수', 'NNB'), ('있', 'VV'), ('는', 'ETD'), ('세상', 'NNG'), ('을', 'JKO'), ('꿈꾸', 'VV'), ('며', 'ECE'), ('한글', 'NNG'), ('을', 'JKO'), ('창제', 'NNG'), ('하', 'XSV'), ('였', 'EPT'), ('습니다', 'EFN')]\n"
     ]
    }
   ]
  },
  {
   "cell_type": "code",
   "source": [
    "# 토큰화 결과에서 명사만을 추출\n",
    "print(okt.nouns(text))\n",
    "print(komoran.nouns(text))\n",
    "print(hannanum.nouns(text))\n",
    "print(kkma.nouns(text))"
   ],
   "metadata": {
    "id": "09srD5nlMHwF",
    "colab": {
     "base_uri": "https://localhost:8080/"
    },
    "outputId": "3b4d281f-4383-4801-ff45-f4d192a24431",
    "ExecuteTime": {
     "end_time": "2023-10-02T00:31:35.646876600Z",
     "start_time": "2023-10-02T00:31:35.527171300Z"
    }
   },
   "execution_count": 14,
   "outputs": [
    {
     "name": "stdout",
     "output_type": "stream",
     "text": [
      "['세종대왕', '온', '백성', '자신', '의사', '표현', '정보', '수', '세상', '한글', '창제']\n",
      "['세종대왕', '백성', '자유', '자신', '의사', '표현', '정보', '수', '세상', '한글', '창제']\n",
      "['세종대왕', '백성', '자유', '자신', '의사', '표현', '정보', '수', '세상', '한글', '창제']\n",
      "['세종', '세종대왕', '대왕', '백성', '자유', '자신', '의사', '표현', '정보', '수', '세상', '한글', '창제']\n"
     ]
    }
   ]
  },
  {
   "cell_type": "markdown",
   "source": [
    "# **4. 문서 탐색**\n",
    "- 문서 내의 문자의 수, 토큰의 수, 자주 등장하는 단어 등 문서를 탐색(https://konlpy.org/en/latest/examples/explore/)\n"
   ],
   "metadata": {
    "id": "-ETsaronMJlA"
   }
  },
  {
   "cell_type": "code",
   "source": [
    "# 빈도 계산 모듈\n",
    "from collections import Counter\n",
    "\n",
    "# konlpy 라이브러리\n",
    "from konlpy.corpus import kolaw\n",
    "from konlpy.tag import Hannanum\n",
    "from konlpy.utils import concordance, pprint\n",
    "from matplotlib import pyplot\n",
    "\n",
    "# 대한민국 헌법 텍스트 파일(constitution.txt) 읽기\n",
    "doc = kolaw.open('constitution.txt').read()\n",
    "\n",
    "# Hannanum 형태소 분석기를 사용하여 품사 태깅\n",
    "pos = Hannanum().pos(doc)\n",
    "\n",
    "# 품사 태깅된 결과 빈도 계산\n",
    "cnt = Counter(pos)\n",
    "\n",
    "# 텍스트의 문자 수, 단어 수(띄어쓰기 기준), 품사 태깅된 집합\n",
    "print('nchars  :', len(doc))\n",
    "print('ntokens :', len(doc.split()))\n",
    "print('nmorphs :', len(set(pos)))\n",
    "\n",
    "# 가장 빈도가 높은 상위 20개 형태소\n",
    "print('\\nTop 20 frequent morphemes:')\n",
    "pprint(cnt.most_common(20))\n",
    "\n",
    "# \"대한민국\"이 텍스트 내에서 나타나는 위치를 찾아서 출력\n",
    "print('\\nLocations of \"대한민국\" in the document:')\n",
    "concordance(u'대한민국', doc, show=True)"
   ],
   "metadata": {
    "colab": {
     "base_uri": "https://localhost:8080/"
    },
    "id": "_zK6_nlfMIE8",
    "outputId": "07cb8191-d179-42a4-f986-b0883391381f",
    "ExecuteTime": {
     "end_time": "2023-10-02T00:39:20.471816700Z",
     "start_time": "2023-10-02T00:39:19.553401900Z"
    }
   },
   "execution_count": 16,
   "outputs": [
    {
     "name": "stdout",
     "output_type": "stream",
     "text": [
      "nchars  : 18884\n",
      "ntokens : 4178\n",
      "nmorphs : 1499\n",
      "\n",
      "Top 20 frequent morphemes:\n",
      "[(('의', 'J'), 396),\n",
      " (('.', 'S'), 340),\n",
      " (('하', 'X'), 291),\n",
      " (('에', 'J'), 283),\n",
      " (('ㄴ다', 'E'), 241),\n",
      " (('ㄴ', 'E'), 223),\n",
      " (('이', 'J'), 221),\n",
      " (('을', 'J'), 211),\n",
      " (('은', 'J'), 184),\n",
      " (('어', 'E'), 176),\n",
      " (('를', 'J'), 148),\n",
      " (('ㄹ', 'E'), 134),\n",
      " (('하', 'P'), 124),\n",
      " (('는', 'J'), 117),\n",
      " (('법률', 'N'), 115),\n",
      " ((',', 'S'), 99),\n",
      " (('는', 'E'), 97),\n",
      " (('있', 'P'), 96),\n",
      " (('되', 'X'), 94),\n",
      " (('수', 'N'), 91)]\n",
      "\n",
      "Locations of \"대한민국\" in the document:\n",
      "0\t대한민국헌법 유구한 역사와\n",
      "9\t대한국민은 3·1운동으로 건립된 대한민국임시정부의 법통과 불의에\n",
      "98\t총강 제1조 ① 대한민국은 민주공화국이다. ②대한민국의\n",
      "100\t① 대한민국은 민주공화국이다. ②대한민국의 주권은 국민에게\n",
      "110\t나온다. 제2조 ① 대한민국의 국민이 되는\n",
      "126\t의무를 진다. 제3조 대한민국의 영토는 한반도와\n",
      "133\t부속도서로 한다. 제4조 대한민국은 통일을 지향하며,\n",
      "147\t추진한다. 제5조 ① 대한민국은 국제평화의 유지에\n",
      "787\t군무원이 아닌 국민은 대한민국의 영역안에서는 중대한\n",
      "1836\t파견 또는 외국군대의 대한민국 영역안에서의 주류에\n",
      "3620\t경제 제119조 ① 대한민국의 경제질서는 개인과\n"
     ]
    },
    {
     "data": {
      "text/plain": "[0, 9, 98, 100, 110, 126, 133, 147, 787, 1836, 3620]"
     },
     "execution_count": 16,
     "metadata": {},
     "output_type": "execute_result"
    }
   ]
  },
  {
   "cell_type": "markdown",
   "source": [
    "# **5. 연속된 단어(collocation) 찾기**\n",
    "- 한국어 단어의 연관성을 분석하기 위해 NLTK의 'collocations'를 사용하여 연속된 단어를 찾음(https://konlpy.org/en/latest/examples/collocations/)"
   ],
   "metadata": {
    "id": "ITZCHV2GMtbx"
   }
  },
  {
   "cell_type": "code",
   "source": [
    "from konlpy.tag import Kkma\n",
    "from konlpy.corpus import kolaw\n",
    "from konlpy.utils import pprint\n",
    "from nltk import collocations\n",
    "\n",
    "# collocation 방법 선택\n",
    "#measures = collocations.BigramAssocMeasures()  # bi-gram\n",
    "measures = collocations.TrigramAssocMeasures()  # tri-gram\n",
    "#measures = collocations.QuadgramAssocMeasures()  # quad-gram\n",
    "\n",
    "doc = kolaw.open('constitution.txt').read()\n",
    "\n",
    "# Kkma 형태소 분석기를 사용하여 품사 태깅\n",
    "tagged_words = Kkma().pos(doc)\n",
    "\n",
    "# 품사 태깅된 결과에서 단어만 추출\n",
    "words = [w for w, t in tagged_words]\n",
    "\n",
    "# stopword 정의\n",
    "ignored_words = [u'안녕']\n",
    "\n",
    "# finder 정의\n",
    "#finder = collocations.BigramCollocationFinder.from_words(words)\n",
    "finder = collocations.TrigramCollocationFinder.from_words(words)\n",
    "# finder = collocations.QuadgramCollocationFinder.from_words(words)\n",
    "\n",
    "# 단어 길이가 2 미만이거나 stopword에 포함된 경우 제외\n",
    "finder.apply_word_filter(lambda w: len(w) < 2 or w in ignored_words)\n",
    "\n",
    "# 빈도가 3 이하인 경우 제외\n",
    "finder.apply_freq_filter(3)\n",
    "\n",
    "# collocation을 계산하고 상위 10개 출력\n",
    "pprint(finder.nbest(measures.pmi, 10))\n"
   ],
   "metadata": {
    "colab": {
     "base_uri": "https://localhost:8080/"
    },
    "id": "Jd2iHo98MsTX",
    "outputId": "ad32ac50-aa9e-47bf-f13a-64e4b6b60c4b",
    "ExecuteTime": {
     "end_time": "2023-10-02T00:46:11.873894800Z",
     "start_time": "2023-10-02T00:46:07.378852300Z"
    }
   },
   "execution_count": 21,
   "outputs": [
    {
     "name": "stdout",
     "output_type": "stream",
     "text": [
      "[('민주적', '기본', '질서'),\n",
      " ('누구', '든지', '체포'),\n",
      " ('지방', '자치', '단체'),\n",
      " ('중앙', '선거', '관리'),\n",
      " ('선거', '관리', '위원회'),\n",
      " ('재적', '의원', '과반수'),\n",
      " ('원로', '자문', '회의'),\n",
      " ('탄핵', '또는', '금고'),\n",
      " ('체포', '또는', '구속'),\n",
      " ('국가', '원로', '자문')]\n"
     ]
    }
   ]
  },
  {
   "cell_type": "markdown",
   "source": [
    "# **6. 한국어 구문 분석**\n",
    "\n",
    "- 한국어 텍스트에서 명사구(Noun Phrase), 동사구(Verb Phrase), 형용사구(Adjective Phrase)를 추출"
   ],
   "metadata": {
    "id": "K4PP5CY7PtYD"
   }
  },
  {
   "cell_type": "code",
   "source": [
    "import konlpy\n",
    "import nltk\n",
    "import matplotlib.pyplot as plt\n",
    "\n",
    "# 품사 태깅 수행\n",
    "sentence = u'만 6세 이하의 초등학교 취학 전 자녀를 양육하기 위해서는'\n",
    "words = konlpy.tag.Okt().pos(sentence)\n",
    "\n",
    "# 구(Chunk) 문법을 정의\n",
    "grammar = \"\"\"\n",
    "NP: {<N.*>*<Suffix>?}   # 명사구\n",
    "VP: {<V.*>*}            # 동사구\n",
    "AP: {<A.*>*}            # 형용사구\n",
    "\"\"\"\n",
    "# 정규 표현식 기반 파서를 생성\n",
    "parser = nltk.RegexpParser(grammar)\n",
    "\n",
    "# 구(Chunk) 추출\n",
    "chunks = parser.parse(words)\n",
    "\n",
    "# 전체 트리 구조를 출력\n",
    "print(\"# 전체 트리 구조 출력\")\n",
    "print(chunks.pprint())\n",
    "\n",
    "# 명사구(NP)만 출력\n",
    "print(\"\\n# 명사구(NP)만 출력\")\n",
    "for subtree in chunks.subtrees():\n",
    "    if subtree.label() == 'NP':\n",
    "        print(' '.join((e[0] for e in list(subtree))))\n",
    "        print(subtree.pprint())\n",
    "\n",
    "# 동사구(VP)만 출력\n",
    "print(\"\\n# 동사구(VP)만 출력\")\n",
    "for subtree in chunks.subtrees():\n",
    "    if subtree.label() == 'VP':\n",
    "        print(' '.join((e[0] for e in list(subtree))))\n",
    "        print(subtree.pprint())\n"
   ],
   "metadata": {
    "colab": {
     "base_uri": "https://localhost:8080/"
    },
    "id": "MqBRbIEqMsW3",
    "outputId": "e37d2660-fbaa-42b6-fce2-7d9ac1083586",
    "ExecuteTime": {
     "end_time": "2023-10-02T00:51:44.355118800Z",
     "start_time": "2023-10-02T00:51:44.285852600Z"
    }
   },
   "execution_count": 22,
   "outputs": [
    {
     "name": "stdout",
     "output_type": "stream",
     "text": [
      "# 전체 트리 구조 출력\n",
      "(S\n",
      "  (NP 만/Noun 6/Number 세/Noun 이하/Noun)\n",
      "  의/Josa\n",
      "  (NP 초등학교/Noun 취학/Noun 전/Noun 자녀/Noun)\n",
      "  를/Josa\n",
      "  (NP 양육/Noun)\n",
      "  (VP 하기/Verb)\n",
      "  (NP 위/Noun)\n",
      "  (VP 해서는/Verb))\n",
      "None\n",
      "\n",
      "# 명사구(NP)만 출력\n",
      "만 6 세 이하\n",
      "(NP 만/Noun 6/Number 세/Noun 이하/Noun)\n",
      "None\n",
      "초등학교 취학 전 자녀\n",
      "(NP 초등학교/Noun 취학/Noun 전/Noun 자녀/Noun)\n",
      "None\n",
      "양육\n",
      "(NP 양육/Noun)\n",
      "None\n",
      "위\n",
      "(NP 위/Noun)\n",
      "None\n",
      "\n",
      "# 동사구(VP)만 출력\n",
      "하기\n",
      "(VP 하기/Verb)\n",
      "None\n",
      "해서는\n",
      "(VP 해서는/Verb)\n",
      "None\n"
     ]
    }
   ]
  }
 ]
}
