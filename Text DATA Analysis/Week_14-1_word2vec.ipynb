{
 "nbformat": 4,
 "nbformat_minor": 0,
 "metadata": {
  "colab": {
   "provenance": [],
   "machine_shape": "hm"
  },
  "kernelspec": {
   "name": "python3",
   "language": "python",
   "display_name": "Python 3 (ipykernel)"
  },
  "language_info": {
   "name": "python"
  },
  "accelerator": "GPU"
 },
 "cells": [
  {
   "cell_type": "markdown",
   "source": [
    "### 14주차 실습 - CBOW와 skip-gram ###\n",
    "출처: 딥 러닝을 이용한 자연어 처리 입문(유원준, 안상준) https://wikidocs.net/50739"
   ],
   "metadata": {
    "id": "IzrLHh2YP1Ge"
   }
  },
  {
   "cell_type": "markdown",
   "source": [
    "### 1. TED 데이터 전처리"
   ],
   "metadata": {
    "id": "RxzCBT4Qhknm"
   }
  },
  {
   "cell_type": "code",
   "source": [
    "import urllib.request\n",
    "import zipfile\n",
    "from lxml import etree\n",
    "import re\n",
    "\n",
    "import nltk\n",
    "from nltk.tokenize import word_tokenize, sent_tokenize\n",
    "nltk.download('punkt')"
   ],
   "metadata": {
    "colab": {
     "base_uri": "https://localhost:8080/"
    },
    "id": "pkvELN2oEWIq",
    "executionInfo": {
     "status": "ok",
     "timestamp": 1700102167084,
     "user_tz": -540,
     "elapsed": 1537,
     "user": {
      "displayName": "최대영",
      "userId": "01139173733614706768"
     }
    },
    "outputId": "9f7b7558-b25f-4b85-f50e-c62aca0dec67",
    "ExecuteTime": {
     "end_time": "2024-01-21T08:20:08.370301500Z",
     "start_time": "2024-01-21T08:20:06.192014100Z"
    }
   },
   "execution_count": 1,
   "outputs": [
    {
     "name": "stderr",
     "output_type": "stream",
     "text": [
      "[nltk_data] Downloading package punkt to\n",
      "[nltk_data]     C:\\Users\\tomat\\AppData\\Roaming\\nltk_data...\n",
      "[nltk_data]   Package punkt is already up-to-date!\n"
     ]
    },
    {
     "data": {
      "text/plain": "True"
     },
     "execution_count": 1,
     "metadata": {},
     "output_type": "execute_result"
    }
   ]
  },
  {
   "cell_type": "code",
   "source": [
    "# 데이터 다운로드\n",
    "urllib.request.urlretrieve(\"https://raw.githubusercontent.com/ukairia777/tensorflow-nlp-tutorial/main/09.%20Word%20Embedding/dataset/ted_en-20160408.xml\", filename=\"ted_en-20160408.xml\")\n",
    "\n",
    "# XML 파일 parsing\n",
    "targetXML = open('ted_en-20160408.xml', 'r', encoding='utf-8')\n",
    "target_text = etree.parse(targetXML)"
   ],
   "metadata": {
    "id": "QuSIYdviEZuW",
    "executionInfo": {
     "status": "ok",
     "timestamp": 1700102169208,
     "user_tz": -540,
     "elapsed": 2126,
     "user": {
      "displayName": "최대영",
      "userId": "01139173733614706768"
     }
    },
    "ExecuteTime": {
     "end_time": "2024-01-21T08:20:17.438371800Z",
     "start_time": "2024-01-21T08:20:10.661892300Z"
    }
   },
   "execution_count": 2,
   "outputs": []
  },
  {
   "cell_type": "code",
   "source": [
    "# XML의 일부분 확인\n",
    "print(etree.tostring(target_text, pretty_print=True).decode('utf-8')[0:5000])"
   ],
   "metadata": {
    "colab": {
     "base_uri": "https://localhost:8080/"
    },
    "id": "R7GDhm5JH_fa",
    "executionInfo": {
     "status": "ok",
     "timestamp": 1700102169610,
     "user_tz": -540,
     "elapsed": 404,
     "user": {
      "displayName": "최대영",
      "userId": "01139173733614706768"
     }
    },
    "outputId": "a11d8584-0577-4f25-c04f-b7f0cb7996f7",
    "ExecuteTime": {
     "end_time": "2024-01-21T08:20:18.033542800Z",
     "start_time": "2024-01-21T08:20:17.444421300Z"
    }
   },
   "execution_count": 3,
   "outputs": [
    {
     "name": "stdout",
     "output_type": "stream",
     "text": [
      "<xml language=\"en\"><file id=\"1\">\n",
      "  <head>\n",
      "    <url>http://www.ted.com/talks/knut_haanaes_two_reasons_companies_fail_and_how_to_avoid_them</url>\n",
      "    <pagesize>72832</pagesize>\n",
      "    <dtime>Fri Apr 01 00:57:03 CEST 2016</dtime>\n",
      "    <encoding>UTF-8</encoding>\n",
      "    <content-type>text/html; charset=utf-8</content-type>\n",
      "    <keywords>talks, business, creativity, curiosity, goal-setting, innovation, motivation, potential, success, work</keywords>\n",
      "    <speaker>Knut Haanaes</speaker>\n",
      "    <talkid>2470</talkid>\n",
      "    <videourl>http://download.ted.com/talks/KnutHaanaes_2015S.mp4</videourl>\n",
      "    <videopath>talks/KnutHaanaes_2015S.mp4</videopath>\n",
      "    <date>2015/06/30</date>\n",
      "    <title>Knut Haanaes: Two reasons companies fail -- and how to avoid them</title>\n",
      "    <description>TED Talk Subtitles and Transcript: Is it possible to run a company and reinvent it at the same time? For business strategist Knut Haanaes, the ability to innovate after becoming successful is the mark of a great organization. He shares insights on how to strike a balance between perfecting what we already know and exploring totally new ideas -- and lays out how to avoid two major strategy traps.</description>\n",
      "    <transcription>\n",
      "      <seekvideo id=\"1596\">Here are two reasons companies fail:</seekvideo>\n",
      "      <seekvideo id=\"5208\">they only do more of the same,</seekvideo>\n",
      "      <seekvideo id=\"8478\">or they only do what's new.</seekvideo>\n",
      "      <seekvideo id=\"11613\">To me the real, real solution to quality growth</seekvideo>\n",
      "      <seekvideo id=\"16537\">is figuring out the balance between two activities:</seekvideo>\n",
      "      <seekvideo id=\"20126\">exploration and exploitation.</seekvideo>\n",
      "      <seekvideo id=\"23114\">Both are necessary,</seekvideo>\n",
      "      <seekvideo id=\"24728\">but it can be too much of a good thing.</seekvideo>\n",
      "      <seekvideo id=\"29154\">Consider Facit.</seekvideo>\n",
      "      <seekvideo id=\"31061\">I'm actually old enough to remember them.</seekvideo>\n",
      "      <seekvideo id=\"33489\">Facit was a fantastic company.</seekvideo>\n",
      "      <seekvideo id=\"35999\">They were born deep in the Swedish forest,</seekvideo>\n",
      "      <seekvideo id=\"38496\">and they made the best mechanical calculators in the world.</seekvideo>\n",
      "      <seekvideo id=\"42524\">Everybody used them.</seekvideo>\n",
      "      <seekvideo id=\"44798\">And what did Facit do when the electronic calculator came along?</seekvideo>\n",
      "      <seekvideo id=\"49691\">They continued doing exactly the same.</seekvideo>\n",
      "      <seekvideo id=\"52953\">In six months, they went from maximum revenue ...</seekvideo>\n",
      "      <seekvideo id=\"56695\">and they were gone.</seekvideo>\n",
      "      <seekvideo id=\"58649\">Gone.</seekvideo>\n",
      "      <seekvideo id=\"59824\">To me, the irony about the Facit story</seekvideo>\n",
      "      <seekvideo id=\"63720\">is hearing about the Facit engineers,</seekvideo>\n",
      "      <seekvideo id=\"67010\">who had bought cheap, small electronic calculators in Japan</seekvideo>\n",
      "      <seekvideo id=\"72117\">that they used to double-check their calculators.</seekvideo>\n",
      "      <seekvideo id=\"75802\">(Laughter)</seekvideo>\n",
      "      <seekvideo id=\"77239\">Facit did too much exploitation.</seekvideo>\n",
      "      <seekvideo id=\"80422\">But exploration can go wild, too.</seekvideo>\n",
      "      <seekvideo id=\"82900\">A few years back,</seekvideo>\n",
      "      <seekvideo id=\"84075\">I worked closely alongside a European biotech company.</seekvideo>\n",
      "      <seekvideo id=\"88447\">Let's call them OncoSearch.</seekvideo>\n",
      "      <seekvideo id=\"90830\">The company was brilliant.</seekvideo>\n",
      "      <seekvideo id=\"92511\">They had applications that promised to diagnose, even cure,</seekvideo>\n",
      "      <seekvideo id=\"97153\">certain forms of blood cancer.</seekvideo>\n",
      "      <seekvideo id=\"100190\">Every day was about creating something new.</seekvideo>\n",
      "      <seekvideo id=\"103744\">They were extremely innovative,</seekvideo>\n",
      "      <seekvideo id=\"106272\">and the mantra was, \"When we only get it right,\"</seekvideo>\n",
      "      <seekvideo id=\"109172\">or even, \"We want it perfect.\"</seekvideo>\n",
      "      <seekvideo id=\"112687\">The sad thing is,</seekvideo>\n",
      "      <seekvideo id=\"114568\">before they became perfect --</seekvideo>\n",
      "      <seekvideo id=\"116490\">even good enough --</seekvideo>\n",
      "      <seekvideo id=\"118443\">they became obsolete.</seekvideo>\n",
      "      <seekvideo id=\"121331\">OncoSearch did too much exploration.</seekvideo>\n",
      "      <seekvideo id=\"125602\">I first heard about exploration and exploitation about 15 years ago,</seekvideo>\n",
      "      <seekvideo id=\"131381\">when I worked as a visiting scholar at Stanford University.</seekvideo>\n",
      "      <seekvideo id=\"135428\">The founder of the idea is Jim March.</seekvideo>\n",
      "      <seekvideo id=\"138168\">And to me the power of the idea is its practicality.</seekvideo>\n",
      "      <seekvideo id=\"143168\">Exploration.</seekvideo>\n",
      "      <seekvideo id=\"144847\">Exploration is about coming up with what's new.</seekvideo>\n",
      "      <seekvideo id=\"148772\">It's about search,</seekvideo>\n",
      "      <seekvideo id=\"150027\">it's about discovery,</seekvideo>\n",
      "      <seekvideo id=\"151494\">it's about new products,</seekv\n"
     ]
    }
   ]
  },
  {
   "cell_type": "code",
   "source": [
    "# XML로의 content 태그 사이의 내용 추출\n",
    "parse_text = '\\n'.join(target_text.xpath('//content/text()'))\n",
    "\n",
    "# 괄호로 둘러싸인 부분 제거 (예: 배경음 설명 등)\n",
    "content_text = re.sub(r'\\([^)]*\\)', '', parse_text)"
   ],
   "metadata": {
    "id": "BpulVYS4H85M",
    "executionInfo": {
     "status": "ok",
     "timestamp": 1700102170078,
     "user_tz": -540,
     "elapsed": 469,
     "user": {
      "displayName": "최대영",
      "userId": "01139173733614706768"
     }
    },
    "ExecuteTime": {
     "end_time": "2024-01-21T08:20:18.269237Z",
     "start_time": "2024-01-21T08:20:18.036596500Z"
    }
   },
   "execution_count": 4,
   "outputs": []
  },
  {
   "cell_type": "code",
   "source": [
    "# 텍스트의 일부분 확인\n",
    "content_text[0:1000]"
   ],
   "metadata": {
    "colab": {
     "base_uri": "https://localhost:8080/",
     "height": 139
    },
    "id": "psi-urunFRpz",
    "executionInfo": {
     "status": "ok",
     "timestamp": 1700102170078,
     "user_tz": -540,
     "elapsed": 5,
     "user": {
      "displayName": "최대영",
      "userId": "01139173733614706768"
     }
    },
    "outputId": "22917b36-77bb-40c0-c2d3-6f2c63f7ded7",
    "ExecuteTime": {
     "end_time": "2024-01-21T08:20:18.493082300Z",
     "start_time": "2024-01-21T08:20:18.446070Z"
    }
   },
   "execution_count": 5,
   "outputs": [
    {
     "data": {
      "text/plain": "\"Here are two reasons companies fail: they only do more of the same, or they only do what's new.\\nTo me the real, real solution to quality growth is figuring out the balance between two activities: exploration and exploitation. Both are necessary, but it can be too much of a good thing.\\nConsider Facit. I'm actually old enough to remember them. Facit was a fantastic company. They were born deep in the Swedish forest, and they made the best mechanical calculators in the world. Everybody used them. And what did Facit do when the electronic calculator came along? They continued doing exactly the same. In six months, they went from maximum revenue ... and they were gone. Gone.\\nTo me, the irony about the Facit story is hearing about the Facit engineers, who had bought cheap, small electronic calculators in Japan that they used to double-check their calculators.\\n\\nFacit did too much exploitation. But exploration can go wild, too.\\nA few years back, I worked closely alongside a European biotech co\""
     },
     "execution_count": 5,
     "metadata": {},
     "output_type": "execute_result"
    }
   ]
  },
  {
   "cell_type": "code",
   "metadata": {
    "id": "7sdE4eTfLW8b",
    "executionInfo": {
     "status": "ok",
     "timestamp": 1700102225731,
     "user_tz": -540,
     "elapsed": 55656,
     "user": {
      "displayName": "최대영",
      "userId": "01139173733614706768"
     }
    },
    "ExecuteTime": {
     "end_time": "2024-01-21T08:20:46.688280900Z",
     "start_time": "2024-01-21T08:20:19.454982100Z"
    }
   },
   "source": [
    "# 문장 토큰화 수행\n",
    "sent_text = sent_tokenize(content_text)\n",
    "\n",
    "# 구두점 제거 및 소문자 변환\n",
    "normalized_text = []\n",
    "for string in sent_text:\n",
    "     tokens = re.sub(r\"[^a-z0-9]+\", \" \", string.lower())\n",
    "     normalized_text.append(tokens)\n",
    "\n",
    "# 단어 토큰화 수행\n",
    "result = [word_tokenize(sentence) for sentence in normalized_text]"
   ],
   "execution_count": 6,
   "outputs": []
  },
  {
   "cell_type": "code",
   "source": [
    "print('총 토큰의 개수 : {}'.format(len(result)))\n",
    "\n",
    "# 토큰의 일부 출력\n",
    "for line in result[:5]:\n",
    "    print(line)"
   ],
   "metadata": {
    "colab": {
     "base_uri": "https://localhost:8080/"
    },
    "id": "m2vcI4fWLpH9",
    "executionInfo": {
     "status": "ok",
     "timestamp": 1700102225732,
     "user_tz": -540,
     "elapsed": 6,
     "user": {
      "displayName": "최대영",
      "userId": "01139173733614706768"
     }
    },
    "outputId": "6f991bfd-2756-471c-a705-c71961b80341",
    "ExecuteTime": {
     "end_time": "2024-01-21T08:20:46.705519800Z",
     "start_time": "2024-01-21T08:20:46.690287400Z"
    }
   },
   "execution_count": 7,
   "outputs": [
    {
     "name": "stdout",
     "output_type": "stream",
     "text": [
      "총 토큰의 개수 : 273424\n",
      "['here', 'are', 'two', 'reasons', 'companies', 'fail', 'they', 'only', 'do', 'more', 'of', 'the', 'same', 'or', 'they', 'only', 'do', 'what', 's', 'new']\n",
      "['to', 'me', 'the', 'real', 'real', 'solution', 'to', 'quality', 'growth', 'is', 'figuring', 'out', 'the', 'balance', 'between', 'two', 'activities', 'exploration', 'and', 'exploitation']\n",
      "['both', 'are', 'necessary', 'but', 'it', 'can', 'be', 'too', 'much', 'of', 'a', 'good', 'thing']\n",
      "['consider', 'facit']\n",
      "['i', 'm', 'actually', 'old', 'enough', 'to', 'remember', 'them']\n"
     ]
    }
   ]
  },
  {
   "cell_type": "markdown",
   "source": [
    "### 2. 워드 임베딩 생성\n",
    "\n",
    "Gensim 라이브러리: 자연어 처리, 정보 검색 분야에 쓰이는 파이썬 라이브러리\n",
    "\n",
    "Word2Vec 함수: CBOW, skip-gram 워드 임베딩 학습을 위한 함수로 다음과 같은 매개변수를 가짐\n",
    "- vector_size: 임베딩 벡터의 차원\n",
    "- window: 컨텍스트 윈도우 크기\n",
    "- min_count: 단어 최소 빈도 수 제한\n",
    "- workers: 학습을 위해 사용되는 프로세스 수\n",
    "- sg: 임베딩 방법 (0: CBOW, 1: skip-gram)"
   ],
   "metadata": {
    "id": "cP3kJsE5KDkK"
   }
  },
  {
   "cell_type": "code",
   "source": [
    "import gensim\n",
    "from gensim.models import Word2Vec\n",
    "from gensim.models import KeyedVectors\n",
    "\n",
    "# Word2Vec 모델 학습\n",
    "model = Word2Vec(sentences=result, vector_size=100, window=5, min_count=5, workers=4, sg=1)"
   ],
   "metadata": {
    "id": "wootDzzwI94R",
    "executionInfo": {
     "status": "ok",
     "timestamp": 1700102938083,
     "user_tz": -540,
     "elapsed": 93920,
     "user": {
      "displayName": "최대영",
      "userId": "01139173733614706768"
     }
    },
    "ExecuteTime": {
     "end_time": "2024-01-21T08:21:14.318497500Z",
     "start_time": "2024-01-21T08:21:14.288483700Z"
    }
   },
   "execution_count": 10,
   "outputs": [
    {
     "ename": "ModuleNotFoundError",
     "evalue": "No module named 'gensim'",
     "output_type": "error",
     "traceback": [
      "\u001B[1;31m---------------------------------------------------------------------------\u001B[0m",
      "\u001B[1;31mModuleNotFoundError\u001B[0m                       Traceback (most recent call last)",
      "Cell \u001B[1;32mIn[10], line 1\u001B[0m\n\u001B[1;32m----> 1\u001B[0m \u001B[38;5;28;01mimport\u001B[39;00m \u001B[38;5;21;01mgensim\u001B[39;00m\n\u001B[0;32m      2\u001B[0m \u001B[38;5;28;01mfrom\u001B[39;00m \u001B[38;5;21;01mgensim\u001B[39;00m\u001B[38;5;21;01m.\u001B[39;00m\u001B[38;5;21;01mmodels\u001B[39;00m \u001B[38;5;28;01mimport\u001B[39;00m Word2Vec\n\u001B[0;32m      3\u001B[0m \u001B[38;5;28;01mfrom\u001B[39;00m \u001B[38;5;21;01mgensim\u001B[39;00m\u001B[38;5;21;01m.\u001B[39;00m\u001B[38;5;21;01mmodels\u001B[39;00m \u001B[38;5;28;01mimport\u001B[39;00m KeyedVectors\n",
      "\u001B[1;31mModuleNotFoundError\u001B[0m: No module named 'gensim'"
     ]
    }
   ]
  },
  {
   "cell_type": "code",
   "source": [
    "# 임베딩 벡터 확인\n",
    "word_to_lookup = \"woman\"\n",
    "\n",
    "if word_to_lookup in model.wv:\n",
    "    vector_for_word = model.wv.get_vector(word_to_lookup)\n",
    "    print(f\"Vector for '{word_to_lookup}': {vector_for_word}\")\n",
    "else:\n",
    "    print(f\"'{word_to_lookup}' not found in the vocabulary.\")"
   ],
   "metadata": {
    "colab": {
     "base_uri": "https://localhost:8080/"
    },
    "id": "CXy0BSRwMMvb",
    "executionInfo": {
     "status": "ok",
     "timestamp": 1700102958439,
     "user_tz": -540,
     "elapsed": 375,
     "user": {
      "displayName": "최대영",
      "userId": "01139173733614706768"
     }
    },
    "outputId": "3d5e9235-3684-4139-c74d-0da4cbace829",
    "ExecuteTime": {
     "end_time": "2024-01-21T08:20:47.312514100Z",
     "start_time": "2024-01-21T08:20:47.312514100Z"
    }
   },
   "execution_count": null,
   "outputs": []
  },
  {
   "cell_type": "markdown",
   "source": [
    "Vector for 'woman': [-0.40105575 -1.9523422   0.6010022  -1.1534516   1.2500429   0.43475133\n",
    " -0.54875875  0.5031962  -1.6090009   0.5067355  -0.9001674  -1.1807873\n",
    "  0.42813724  0.3682448   0.15507914 -0.71756834 -0.25210974 -1.0072099\n",
    "  0.04452446 -0.04126176  0.9736489   2.2508304   0.36223066 -0.15979382\n",
    "  1.1075225  -0.36000058 -0.3220777  -0.4598301   0.93577653 -2.146943\n",
    "  0.11464866 -0.21335709  0.44883585  0.776743   -1.0548542  -1.0393814\n",
    " -1.0187848   0.35771662 -2.1171849   0.29087767  0.12248597 -1.1697259\n",
    " -1.4297632   1.6655838  -0.9858602   0.06607041 -0.9100405  -1.5996414\n",
    " -0.480018    0.48989853 -0.77850324 -2.000727    0.7876283   1.8373076\n",
    " -0.5669436  -0.9938785  -0.24849814  0.27585444 -1.5640423  -0.81301117\n",
    " -0.6485581  -0.1363179   0.19228472 -0.51926804 -1.0830201   0.22246948\n",
    "  0.5918681  -0.79827404 -0.96797955 -0.34656867  0.9246383   0.25893635\n",
    "  0.9112023  -2.0943859   0.6851555  -1.8688266  -0.3170995  -0.18229042\n",
    " -1.427857    1.199572    2.1767716   1.2567209  -1.205488    0.6402748\n",
    " -0.51675993 -0.24697746 -0.74058664  0.82939965 -2.0690477  -0.77335393\n",
    "  0.32260522  0.67955697  0.45374754  0.47575012  2.2876542   0.806388\n",
    "  0.36289242 -0.21004926 -3.7385774   3.3191776 ]"
   ],
   "metadata": {
    "id": "vzTS6KQOBxyu"
   }
  },
  {
   "cell_type": "code",
   "source": [
    "# 임베딩이 유사한 단어 찾기\n",
    "model_result = model.wv.most_similar(\"man\")\n",
    "model_result"
   ],
   "metadata": {
    "colab": {
     "base_uri": "https://localhost:8080/"
    },
    "id": "byOZiItENAJX",
    "executionInfo": {
     "status": "ok",
     "timestamp": 1700102260178,
     "user_tz": -540,
     "elapsed": 2,
     "user": {
      "displayName": "최대영",
      "userId": "01139173733614706768"
     }
    },
    "outputId": "c9df83f8-a122-411f-d710-f58b8d9e0dbe",
    "ExecuteTime": {
     "start_time": "2024-01-21T08:20:47.313589100Z"
    }
   },
   "execution_count": null,
   "outputs": []
  },
  {
   "cell_type": "code",
   "outputs": [],
   "source": [],
   "metadata": {
    "collapsed": false
   }
  }
 ]
}
