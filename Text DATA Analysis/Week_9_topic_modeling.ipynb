{
 "cells": [
  {
   "cell_type": "markdown",
   "id": "8dda7647",
   "metadata": {
    "id": "8dda7647"
   },
   "source": [
    "**9주차 실습 - 토픽 모델링**"
   ]
  },
  {
   "cell_type": "markdown",
   "source": [
    "# 1. 20 뉴스그룹 데이터 준비\n",
    "\n",
    "- 데이터셋 설명: http://qwone.com/~jason/20Newsgroups/\n",
    "- scikit-learn 라이브러리: http://scikit-learn.org/0.19/datasets/twenty_newsgroups.html"
   ],
   "metadata": {
    "id": "mWz4qtRm-MI1"
   },
   "id": "mWz4qtRm-MI1"
  },
  {
   "cell_type": "code",
   "source": [
    "import numpy as np\n",
    "import pandas as pd\n",
    "\n",
    "from sklearn.datasets import fetch_20newsgroups\n",
    "\n",
    "categories = ['alt.atheism', 'talk.religion.misc', 'comp.graphics', 'sci.space',\n",
    "              'comp.sys.ibm.pc.hardware', 'sci.crypt']\n",
    "\n",
    "# 20 Newsgroups 데이터셋 로드\n",
    "newsgroups = fetch_20newsgroups(categories=categories, shuffle=True, random_state=42,\n",
    "                                remove=('headers', 'footers', 'quotes'))"
   ],
   "metadata": {
    "id": "IEci-9V0-Wz0",
    "ExecuteTime": {
     "end_time": "2023-11-13T09:25:15.357964Z",
     "start_time": "2023-11-13T09:25:14.459488Z"
    }
   },
   "id": "IEci-9V0-Wz0",
   "execution_count": 4,
   "outputs": []
  },
  {
   "cell_type": "code",
   "source": [
    "newsgroups.target_names"
   ],
   "metadata": {
    "id": "BEFNowkTJmUa",
    "ExecuteTime": {
     "end_time": "2023-11-13T09:25:15.364904Z",
     "start_time": "2023-11-13T09:25:15.360298Z"
    }
   },
   "id": "BEFNowkTJmUa",
   "execution_count": 5,
   "outputs": [
    {
     "data": {
      "text/plain": "['alt.atheism',\n 'comp.graphics',\n 'comp.sys.ibm.pc.hardware',\n 'sci.crypt',\n 'sci.space',\n 'talk.religion.misc']"
     },
     "execution_count": 5,
     "metadata": {},
     "output_type": "execute_result"
    }
   ]
  },
  {
   "cell_type": "code",
   "source": [
    "len(newsgroups.data)"
   ],
   "metadata": {
    "id": "-FvgT2a0KSe-",
    "ExecuteTime": {
     "end_time": "2023-11-13T09:25:16.136015Z",
     "start_time": "2023-11-13T09:25:16.116587Z"
    }
   },
   "id": "-FvgT2a0KSe-",
   "execution_count": 6,
   "outputs": [
    {
     "data": {
      "text/plain": "3219"
     },
     "execution_count": 6,
     "metadata": {},
     "output_type": "execute_result"
    }
   ]
  },
  {
   "cell_type": "markdown",
   "source": [
    "# 2. TF-IDF 행렬 변환"
   ],
   "metadata": {
    "id": "2cdgESW1_E1-"
   },
   "id": "2cdgESW1_E1-"
  },
  {
   "cell_type": "code",
   "source": [
    "from sklearn.feature_extraction.text import TfidfVectorizer\n",
    "\n",
    "# TF-IDF vectorizer 생성\n",
    "vectorizer = TfidfVectorizer(stop_words='english', max_df=0.5, max_features=1000)\n",
    "\n",
    "# 문서를 TF-IDF 행렬로 변환\n",
    "tfidf_matrix = vectorizer.fit_transform(newsgroups.data)"
   ],
   "metadata": {
    "id": "DzqihYMR_AaE",
    "ExecuteTime": {
     "end_time": "2023-11-13T09:26:00.026520Z",
     "start_time": "2023-11-13T09:25:59.754595Z"
    }
   },
   "id": "DzqihYMR_AaE",
   "execution_count": 10,
   "outputs": []
  },
  {
   "cell_type": "code",
   "source": [
    "tfidf_matrix.shape"
   ],
   "metadata": {
    "id": "vHFU-yplKdgO",
    "ExecuteTime": {
     "end_time": "2023-11-13T09:26:01.991776Z",
     "start_time": "2023-11-13T09:26:01.973593Z"
    }
   },
   "id": "vHFU-yplKdgO",
   "execution_count": 11,
   "outputs": [
    {
     "data": {
      "text/plain": "(3219, 1000)"
     },
     "execution_count": 11,
     "metadata": {},
     "output_type": "execute_result"
    }
   ]
  },
  {
   "cell_type": "code",
   "source": [
    "tfidf_matrix[0]"
   ],
   "metadata": {
    "id": "ZP41ZKezLw3W",
    "ExecuteTime": {
     "end_time": "2023-11-13T09:26:04.018227Z",
     "start_time": "2023-11-13T09:26:04.002825Z"
    }
   },
   "id": "ZP41ZKezLw3W",
   "execution_count": 12,
   "outputs": [
    {
     "data": {
      "text/plain": "<1x1000 sparse matrix of type '<class 'numpy.float64'>'\n\twith 22 stored elements in Compressed Sparse Row format>"
     },
     "execution_count": 12,
     "metadata": {},
     "output_type": "execute_result"
    }
   ]
  },
  {
   "cell_type": "markdown",
   "source": [
    "# 3. LSA 실행"
   ],
   "metadata": {
    "id": "5BepRZhxEU6W"
   },
   "id": "5BepRZhxEU6W"
  },
  {
   "cell_type": "code",
   "source": [
    "from sklearn.decomposition import TruncatedSVD\n",
    "\n",
    "num_topics = 6  # 토픽 수\n",
    "\n",
    "# Truncated SVD (LSA) 수행\n",
    "lsa = TruncatedSVD(n_components=num_topics, random_state=42)\n",
    "lsa_matrix = lsa.fit_transform(tfidf_matrix)\n",
    "\n",
    "# 단어 feature\n",
    "terms = vectorizer.get_feature_names_out()"
   ],
   "metadata": {
    "id": "FXvUPUVgET6g",
    "ExecuteTime": {
     "end_time": "2023-11-13T09:29:51.762386Z",
     "start_time": "2023-11-13T09:29:51.700297Z"
    }
   },
   "id": "FXvUPUVgET6g",
   "execution_count": 22,
   "outputs": []
  },
  {
   "cell_type": "code",
   "source": [
    "lsa_matrix.shape"
   ],
   "metadata": {
    "id": "ETkON1TYKIv5",
    "ExecuteTime": {
     "end_time": "2023-11-13T09:29:52.287062Z",
     "start_time": "2023-11-13T09:29:52.275768Z"
    }
   },
   "id": "ETkON1TYKIv5",
   "execution_count": 23,
   "outputs": [
    {
     "data": {
      "text/plain": "(3219, 6)"
     },
     "execution_count": 23,
     "metadata": {},
     "output_type": "execute_result"
    }
   ]
  },
  {
   "cell_type": "code",
   "source": [
    "lsa_matrix[0]"
   ],
   "metadata": {
    "id": "5AuRUbhDLz5W",
    "ExecuteTime": {
     "end_time": "2023-11-13T09:30:13.181932Z",
     "start_time": "2023-11-13T09:30:13.151073Z"
    }
   },
   "id": "5AuRUbhDLz5W",
   "execution_count": 25,
   "outputs": [
    {
     "data": {
      "text/plain": "array([ 0.16590928, -0.09624115, -0.06893864, -0.041046  ,  0.00102686,\n       -0.06826118])"
     },
     "execution_count": 25,
     "metadata": {},
     "output_type": "execute_result"
    }
   ]
  },
  {
   "cell_type": "code",
   "source": [
    "# 각 토픽에 대한 단어 출력\n",
    "def print_top_terms(lsa, terms, n_words=10):\n",
    "    for i, topic in enumerate(lsa.components_):\n",
    "        # 토픽 내 단어의 중요도 순으로 정렬된 인덱스를 가져옴\n",
    "        top_terms_idx = topic.argsort()[-n_words:][::-1]\n",
    "        # 인덱스를 사용하여 실제 단어를 찾아냄\n",
    "        top_terms = [terms[idx] for idx in top_terms_idx]\n",
    "        print(f\"토픽 {i + 1}: {' '.join(top_terms)}\")\n",
    "\n",
    "print('# LSA 결과:')\n",
    "print_top_terms(lsa, terms, 10)"
   ],
   "metadata": {
    "id": "M-__4XcHKHdR",
    "ExecuteTime": {
     "end_time": "2023-11-13T09:30:42.559538Z",
     "start_time": "2023-11-13T09:30:42.544755Z"
    }
   },
   "id": "M-__4XcHKHdR",
   "execution_count": 27,
   "outputs": [
    {
     "name": "stdout",
     "output_type": "stream",
     "text": [
      "# LSA 결과:\n",
      "토픽 1: just don people know like think does use key god\n",
      "토픽 2: drive thanks card scsi controller ide bus graphics windows pc\n",
      "토픽 3: key chip encryption clipper keys government escrow algorithm security public\n",
      "토픽 4: space nasa shuttle launch orbit moon program earth station lunar\n",
      "토픽 5: drive scsi space ide controller bus drives disk hard think\n",
      "토픽 6: god space key drive jesus edu scsi nasa ide data\n"
     ]
    }
   ]
  },
  {
   "cell_type": "markdown",
   "source": [
    "# 4. LDA 실행"
   ],
   "metadata": {
    "id": "dIR6Kats_lt3"
   },
   "id": "dIR6Kats_lt3"
  },
  {
   "cell_type": "code",
   "source": [
    "from sklearn.decomposition import LatentDirichletAllocation\n",
    "\n",
    "# LDA 수행\n",
    "lda = LatentDirichletAllocation(\n",
    "    n_components=num_topics,  # 토픽의 수\n",
    "    max_iter=5,  # 알고리즘 최대 반복 횟수(수렴할 때까지 또는 주어진 반복 횟수까지)\n",
    "    topic_word_prior=0.1,  # 토픽 내에서 단어의 확률 분포를 제어하는 매개변수(값이 작을수록 토픽 내에서 단어가 더 다양)\n",
    "    doc_topic_prior=1.0,  # 문서 내 토픽의 분포를 제어하는 매개변수(작을수록 문서가 하나의 토픽에 집중)\n",
    "    learning_method='online',\n",
    "    n_jobs=-1,\n",
    "    random_state=0\n",
    ")\n",
    "\n",
    "lda_matrix = lda.fit_transform(tfidf_matrix)\n",
    "\n"
   ],
   "metadata": {
    "id": "J_Q5wh6q_iZV",
    "ExecuteTime": {
     "end_time": "2023-11-13T09:56:51.540190Z",
     "start_time": "2023-11-13T09:56:48.526388Z"
    }
   },
   "id": "J_Q5wh6q_iZV",
   "execution_count": 33,
   "outputs": []
  },
  {
   "cell_type": "code",
   "source": [
    "lda_matrix.shape"
   ],
   "metadata": {
    "id": "kYbNtJljMUNF",
    "ExecuteTime": {
     "end_time": "2023-11-13T09:56:52.606569Z",
     "start_time": "2023-11-13T09:56:52.583065Z"
    }
   },
   "id": "kYbNtJljMUNF",
   "execution_count": 34,
   "outputs": [
    {
     "data": {
      "text/plain": "(3219, 6)"
     },
     "execution_count": 34,
     "metadata": {},
     "output_type": "execute_result"
    }
   ]
  },
  {
   "cell_type": "code",
   "source": [
    "lda_matrix[0]"
   ],
   "metadata": {
    "id": "Tq4HO4eIMXsy",
    "ExecuteTime": {
     "end_time": "2023-11-13T09:56:53.958855Z",
     "start_time": "2023-11-13T09:56:53.931065Z"
    }
   },
   "id": "Tq4HO4eIMXsy",
   "execution_count": 35,
   "outputs": [
    {
     "data": {
      "text/plain": "array([0.11358461, 0.39515489, 0.1045321 , 0.12187066, 0.12917787,\n       0.13567986])"
     },
     "execution_count": 35,
     "metadata": {},
     "output_type": "execute_result"
    }
   ]
  },
  {
   "cell_type": "code",
   "source": [
    "print('# LDA 결과:')\n",
    "print_top_terms(lda, terms, 10)"
   ],
   "metadata": {
    "id": "9QCp4gZaMUQn",
    "ExecuteTime": {
     "end_time": "2023-11-13T09:56:55.264997Z",
     "start_time": "2023-11-13T09:56:55.249027Z"
    }
   },
   "id": "9QCp4gZaMUQn",
   "execution_count": 36,
   "outputs": [
    {
     "name": "stdout",
     "output_type": "stream",
     "text": [
      "# LDA 결과:\n",
      "토픽 1: key drive chip encryption scsi keys public controller clipper hard\n",
      "토픽 2: god think people don say agree believe objective religion moral\n",
      "토픽 3: thanks graphics image card pc bus windows program hi files\n",
      "토픽 4: just know people don point going quite good hear got\n",
      "토픽 5: space nasa people earth don like nsa ll sun know\n",
      "토픽 6: space like long actually does interested edu write just maybe\n"
     ]
    }
   ]
  },
  {
   "cell_type": "markdown",
   "source": [
    "# 5. 토픽 할당"
   ],
   "metadata": {
    "id": "7cpKrAghNERF"
   },
   "id": "7cpKrAghNERF"
  },
  {
   "cell_type": "code",
   "source": [
    "# LSA, LDA를 기반으로 문서에 토픽 할당\n",
    "def assign_topics(topic_matrix, num_topics):\n",
    "    return np.argmax(topic_matrix, axis=1) + 1\n",
    "\n",
    "newsgroups['lsa_topic'] = assign_topics(lsa_matrix, num_topics)\n",
    "newsgroups['lda_topic'] = assign_topics(lda_matrix, num_topics)\n",
    "\n",
    "df = pd.DataFrame({'문서': newsgroups.data[:10], 'LSA 토픽': newsgroups['lsa_topic'][:10], 'LDA 토픽': newsgroups['lda_topic'][:10]})\n",
    "df"
   ],
   "metadata": {
    "id": "e3eHW1v2IQk-",
    "ExecuteTime": {
     "end_time": "2023-11-13T09:56:57.716590Z",
     "start_time": "2023-11-13T09:56:57.611709Z"
    }
   },
   "id": "e3eHW1v2IQk-",
   "execution_count": 37,
   "outputs": [
    {
     "data": {
      "text/plain": "                                                  문서  LSA 토픽  LDA 토픽\n0  \\nPardon me?   *I* am trying to apply human te...       1       2\n1  \\n\\nPaul-- for the same reason that many other...       1       4\n2  I have a Gateway 4DX-33V with my 3.5 inch flop...       1       1\n3  \\n\\nperhaps you can quote just a bit of her ar...       1       2\n4  \\nJim, please, that's a lame explanation of th...       6       2\n5  \\nYou seem to be assuming that all arrests are...       1       2\n6  \\n\\nWe have plenty of computer labs where the ...       1       3\n7  Are there any TIFF to anything programs out th...       1       3\n8  \\n\\nThis isn't true.  Many people are forced t...       1       4\n9  \\n\\nI don't think so at first,  but solid stat...       1       5",
      "text/html": "<div>\n<style scoped>\n    .dataframe tbody tr th:only-of-type {\n        vertical-align: middle;\n    }\n\n    .dataframe tbody tr th {\n        vertical-align: top;\n    }\n\n    .dataframe thead th {\n        text-align: right;\n    }\n</style>\n<table border=\"1\" class=\"dataframe\">\n  <thead>\n    <tr style=\"text-align: right;\">\n      <th></th>\n      <th>문서</th>\n      <th>LSA 토픽</th>\n      <th>LDA 토픽</th>\n    </tr>\n  </thead>\n  <tbody>\n    <tr>\n      <th>0</th>\n      <td>\\nPardon me?   *I* am trying to apply human te...</td>\n      <td>1</td>\n      <td>2</td>\n    </tr>\n    <tr>\n      <th>1</th>\n      <td>\\n\\nPaul-- for the same reason that many other...</td>\n      <td>1</td>\n      <td>4</td>\n    </tr>\n    <tr>\n      <th>2</th>\n      <td>I have a Gateway 4DX-33V with my 3.5 inch flop...</td>\n      <td>1</td>\n      <td>1</td>\n    </tr>\n    <tr>\n      <th>3</th>\n      <td>\\n\\nperhaps you can quote just a bit of her ar...</td>\n      <td>1</td>\n      <td>2</td>\n    </tr>\n    <tr>\n      <th>4</th>\n      <td>\\nJim, please, that's a lame explanation of th...</td>\n      <td>6</td>\n      <td>2</td>\n    </tr>\n    <tr>\n      <th>5</th>\n      <td>\\nYou seem to be assuming that all arrests are...</td>\n      <td>1</td>\n      <td>2</td>\n    </tr>\n    <tr>\n      <th>6</th>\n      <td>\\n\\nWe have plenty of computer labs where the ...</td>\n      <td>1</td>\n      <td>3</td>\n    </tr>\n    <tr>\n      <th>7</th>\n      <td>Are there any TIFF to anything programs out th...</td>\n      <td>1</td>\n      <td>3</td>\n    </tr>\n    <tr>\n      <th>8</th>\n      <td>\\n\\nThis isn't true.  Many people are forced t...</td>\n      <td>1</td>\n      <td>4</td>\n    </tr>\n    <tr>\n      <th>9</th>\n      <td>\\n\\nI don't think so at first,  but solid stat...</td>\n      <td>1</td>\n      <td>5</td>\n    </tr>\n  </tbody>\n</table>\n</div>"
     },
     "execution_count": 37,
     "metadata": {},
     "output_type": "execute_result"
    }
   ]
  },
  {
   "cell_type": "code",
   "execution_count": 37,
   "outputs": [],
   "source": [],
   "metadata": {
    "collapsed": false,
    "ExecuteTime": {
     "end_time": "2023-11-13T09:56:58.818871Z",
     "start_time": "2023-11-13T09:56:58.774210Z"
    }
   },
   "id": "45a4d6166fa7cb52"
  },
  {
   "cell_type": "code",
   "execution_count": null,
   "outputs": [],
   "source": [],
   "metadata": {
    "collapsed": false
   },
   "id": "350de55bf4877c7a"
  }
 ],
 "metadata": {
  "kernelspec": {
   "display_name": "Python 3 (ipykernel)",
   "language": "python",
   "name": "python3"
  },
  "language_info": {
   "codemirror_mode": {
    "name": "ipython",
    "version": 3
   },
   "file_extension": ".py",
   "mimetype": "text/x-python",
   "name": "python",
   "nbconvert_exporter": "python",
   "pygments_lexer": "ipython3",
   "version": "3.8.12"
  },
  "toc": {
   "base_numbering": 1,
   "nav_menu": {},
   "number_sections": true,
   "sideBar": true,
   "skip_h1_title": false,
   "title_cell": "Table of Contents",
   "title_sidebar": "Contents",
   "toc_cell": true,
   "toc_position": {
    "height": "calc(100% - 180px)",
    "left": "10px",
    "top": "150px",
    "width": "165px"
   },
   "toc_section_display": true,
   "toc_window_display": true
  },
  "varInspector": {
   "cols": {
    "lenName": 16,
    "lenType": 16,
    "lenVar": 40
   },
   "kernels_config": {
    "python": {
     "delete_cmd_postfix": "",
     "delete_cmd_prefix": "del ",
     "library": "var_list.py",
     "varRefreshCmd": "print(var_dic_list())"
    },
    "r": {
     "delete_cmd_postfix": ") ",
     "delete_cmd_prefix": "rm(",
     "library": "var_list.r",
     "varRefreshCmd": "cat(var_dic_list()) "
    }
   },
   "types_to_exclude": [
    "module",
    "function",
    "builtin_function_or_method",
    "instance",
    "_Feature"
   ],
   "window_display": false
  },
  "colab": {
   "provenance": []
  }
 },
 "nbformat": 4,
 "nbformat_minor": 5
}
