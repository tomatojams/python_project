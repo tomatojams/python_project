{
 "cells": [
  {
   "cell_type": "markdown",
   "metadata": {
    "id": "p6Qj3ZjBA5j7"
   },
   "source": [
    "**5주차 실습 - 카운트 기반 문서 표현 라이브러리 활용하기**\n",
    "\n",
    "- 출처: 딥 러닝을 이용한 자연어 처리 입문(https://wikidocs.net/book/2155)"
   ]
  },
  {
   "cell_type": "markdown",
   "metadata": {
    "id": "xv9jD0-E9vFu"
   },
   "source": [
    "# **1. Bag of Words**"
   ]
  },
  {
   "cell_type": "code",
   "execution_count": 2,
   "metadata": {
    "id": "3mpwBmM87HNP",
    "ExecuteTime": {
     "end_time": "2023-10-08T04:56:50.078067Z",
     "start_time": "2023-10-08T04:56:47.621992Z"
    }
   },
   "outputs": [],
   "source": [
    "import pandas as pd\n",
    "from sklearn.feature_extraction.text import CountVectorizer\n",
    "\n",
    "doc1 = '먹고 싶은 사과'\n",
    "doc2 = '먹고 싶은 바나나'\n",
    "doc3 = '길고 노란 바나나 바나나'\n",
    "doc4 = '저는 과일이 좋아요'\n",
    "\n",
    "docs = [doc1, doc2, doc3, doc4]"
   ]
  },
  {
   "cell_type": "code",
   "execution_count": 7,
   "metadata": {
    "id": "KNtA-SHlSTyp",
    "ExecuteTime": {
     "end_time": "2023-10-08T05:02:06.761874Z",
     "start_time": "2023-10-08T05:02:06.735560Z"
    }
   },
   "outputs": [
    {
     "name": "stdout",
     "output_type": "stream",
     "text": [
      "[[0 0 0 1 0 1 1 0 0]\n",
      " [0 0 0 1 1 0 1 0 0]\n",
      " [0 1 1 0 2 0 0 0 0]\n",
      " [1 0 0 0 0 0 0 1 1]]\n"
     ]
    }
   ],
   "source": [
    "# CountVectorizer 초기화\n",
    "vectorizer = CountVectorizer()\n",
    "\n",
    "# 문서를 BoW 행렬로 변환\n",
    "bow_matrix = vectorizer.fit_transform(docs)\n",
    "#print(bow_matrix)\n",
    "# BoW 행렬을 array로 저장\n",
    "bow_scores = bow_matrix.toarray()\n",
    "print(bow_scores)\n",
    "# 특성 이름(단어) 가져오기\n",
    "feature_names = vectorizer.get_feature_names_out()\n",
    "\n",
    "# 결과를 표시하기 위한 pandas DataFrame 생성\n",
    "df_bow = pd.DataFrame(bow_scores, columns=feature_names)\n",
    "\n",
    "# 문서 텍스트를 담은 컬럼 추가\n",
    "df_bow['문서'] = docs\n"
   ]
  },
  {
   "cell_type": "code",
   "execution_count": 8,
   "metadata": {
    "colab": {
     "base_uri": "https://localhost:8080/"
    },
    "id": "E_SAKAYPSZ0d",
    "outputId": "b81d296c-29c2-43aa-b0d7-f28675dea93c",
    "ExecuteTime": {
     "end_time": "2023-10-08T05:02:08.019352Z",
     "start_time": "2023-10-08T05:02:07.991782Z"
    }
   },
   "outputs": [
    {
     "data": {
      "text/plain": "array([[0, 0, 0, 1, 0, 1, 1, 0, 0],\n       [0, 0, 0, 1, 1, 0, 1, 0, 0],\n       [0, 1, 1, 0, 2, 0, 0, 0, 0],\n       [1, 0, 0, 0, 0, 0, 0, 1, 1]])"
     },
     "execution_count": 8,
     "metadata": {},
     "output_type": "execute_result"
    }
   ],
   "source": [
    "bow_scores"
   ]
  },
  {
   "cell_type": "code",
   "execution_count": 9,
   "metadata": {
    "colab": {
     "base_uri": "https://localhost:8080/",
     "height": 175
    },
    "id": "ZRSTD3aOgGAJ",
    "outputId": "93cf0980-d434-4673-cc3d-ab67cfce8440",
    "ExecuteTime": {
     "end_time": "2023-10-08T05:02:38.656426Z",
     "start_time": "2023-10-08T05:02:38.611921Z"
    }
   },
   "outputs": [
    {
     "data": {
      "text/plain": "   과일이  길고  노란  먹고  바나나  사과  싶은  저는  좋아요             문서\n0    0   0   0   1    0   1   1   0    0       먹고 싶은 사과\n1    0   0   0   1    1   0   1   0    0      먹고 싶은 바나나\n2    0   1   1   0    2   0   0   0    0  길고 노란 바나나 바나나\n3    1   0   0   0    0   0   0   1    1     저는 과일이 좋아요",
      "text/html": "<div>\n<style scoped>\n    .dataframe tbody tr th:only-of-type {\n        vertical-align: middle;\n    }\n\n    .dataframe tbody tr th {\n        vertical-align: top;\n    }\n\n    .dataframe thead th {\n        text-align: right;\n    }\n</style>\n<table border=\"1\" class=\"dataframe\">\n  <thead>\n    <tr style=\"text-align: right;\">\n      <th></th>\n      <th>과일이</th>\n      <th>길고</th>\n      <th>노란</th>\n      <th>먹고</th>\n      <th>바나나</th>\n      <th>사과</th>\n      <th>싶은</th>\n      <th>저는</th>\n      <th>좋아요</th>\n      <th>문서</th>\n    </tr>\n  </thead>\n  <tbody>\n    <tr>\n      <th>0</th>\n      <td>0</td>\n      <td>0</td>\n      <td>0</td>\n      <td>1</td>\n      <td>0</td>\n      <td>1</td>\n      <td>1</td>\n      <td>0</td>\n      <td>0</td>\n      <td>먹고 싶은 사과</td>\n    </tr>\n    <tr>\n      <th>1</th>\n      <td>0</td>\n      <td>0</td>\n      <td>0</td>\n      <td>1</td>\n      <td>1</td>\n      <td>0</td>\n      <td>1</td>\n      <td>0</td>\n      <td>0</td>\n      <td>먹고 싶은 바나나</td>\n    </tr>\n    <tr>\n      <th>2</th>\n      <td>0</td>\n      <td>1</td>\n      <td>1</td>\n      <td>0</td>\n      <td>2</td>\n      <td>0</td>\n      <td>0</td>\n      <td>0</td>\n      <td>0</td>\n      <td>길고 노란 바나나 바나나</td>\n    </tr>\n    <tr>\n      <th>3</th>\n      <td>1</td>\n      <td>0</td>\n      <td>0</td>\n      <td>0</td>\n      <td>0</td>\n      <td>0</td>\n      <td>0</td>\n      <td>1</td>\n      <td>1</td>\n      <td>저는 과일이 좋아요</td>\n    </tr>\n  </tbody>\n</table>\n</div>"
     },
     "execution_count": 9,
     "metadata": {},
     "output_type": "execute_result"
    }
   ],
   "source": [
    "df_bow"
   ]
  },
  {
   "cell_type": "markdown",
   "metadata": {
    "id": "tSklvOO0A6Al"
   },
   "source": [
    "# **2. TF-IDF**"
   ]
  },
  {
   "cell_type": "code",
   "execution_count": 13,
   "metadata": {
    "id": "05Gezw5QDnLx",
    "ExecuteTime": {
     "end_time": "2023-10-08T05:03:36.842704Z",
     "start_time": "2023-10-08T05:03:36.828848Z"
    }
   },
   "outputs": [],
   "source": [
    "\n",
    "from sklearn.feature_extraction.text import TfidfVectorizer\n",
    "\n",
    "# TfidfVectorizer 초기화\n",
    "vectorizer = TfidfVectorizer()\n",
    "\n",
    "# 문서를 TF-IDF 행렬로 변환\n",
    "tfidf_matrix = vectorizer.fit_transform(docs)\n",
    "\n",
    "# TF-IDF 행렬을 array로 저장\n",
    "tfidf_scores = tfidf_matrix.toarray()\n",
    "\n",
    "# 특성 이름(단어) 가져오기\n",
    "feature_names = vectorizer.get_feature_names_out()\n",
    "\n",
    "# 결과를 표시하기 위한 pandas DataFrame 생성\n",
    "df_tfidf = pd.DataFrame(tfidf_scores, columns=feature_names)\n",
    "\n",
    "# 문서 텍스트를 담은 컬럼 추가\n",
    "df_tfidf['문서'] = docs\n"
   ]
  },
  {
   "cell_type": "code",
   "execution_count": 14,
   "metadata": {
    "colab": {
     "base_uri": "https://localhost:8080/"
    },
    "id": "4llZmQUfgdIf",
    "outputId": "f0c6bec0-650a-4739-f5c1-74716129efe9",
    "ExecuteTime": {
     "end_time": "2023-10-08T05:03:37.442326Z",
     "start_time": "2023-10-08T05:03:37.421052Z"
    }
   },
   "outputs": [
    {
     "data": {
      "text/plain": "array([[0.        , 0.        , 0.        , 0.52640543, 0.        ,\n        0.66767854, 0.52640543, 0.        , 0.        ],\n       [0.        , 0.        , 0.        , 0.57735027, 0.57735027,\n        0.        , 0.57735027, 0.        , 0.        ],\n       [0.        , 0.47212003, 0.47212003, 0.        , 0.7444497 ,\n        0.        , 0.        , 0.        , 0.        ],\n       [0.57735027, 0.        , 0.        , 0.        , 0.        ,\n        0.        , 0.        , 0.57735027, 0.57735027]])"
     },
     "execution_count": 14,
     "metadata": {},
     "output_type": "execute_result"
    }
   ],
   "source": [
    "tfidf_scores"
   ]
  },
  {
   "cell_type": "code",
   "execution_count": 15,
   "metadata": {
    "colab": {
     "base_uri": "https://localhost:8080/",
     "height": 175
    },
    "id": "hcg_MS3VR1AT",
    "outputId": "1249eb17-0e99-4669-8eaf-4afc66cb4338",
    "ExecuteTime": {
     "end_time": "2023-10-08T05:03:38.697622Z",
     "start_time": "2023-10-08T05:03:38.681889Z"
    }
   },
   "outputs": [
    {
     "data": {
      "text/plain": "       과일이       길고       노란        먹고      바나나        사과        싶은       저는  \\\n0  0.00000  0.00000  0.00000  0.526405  0.00000  0.667679  0.526405  0.00000   \n1  0.00000  0.00000  0.00000  0.577350  0.57735  0.000000  0.577350  0.00000   \n2  0.00000  0.47212  0.47212  0.000000  0.74445  0.000000  0.000000  0.00000   \n3  0.57735  0.00000  0.00000  0.000000  0.00000  0.000000  0.000000  0.57735   \n\n       좋아요             문서  \n0  0.00000       먹고 싶은 사과  \n1  0.00000      먹고 싶은 바나나  \n2  0.00000  길고 노란 바나나 바나나  \n3  0.57735     저는 과일이 좋아요  ",
      "text/html": "<div>\n<style scoped>\n    .dataframe tbody tr th:only-of-type {\n        vertical-align: middle;\n    }\n\n    .dataframe tbody tr th {\n        vertical-align: top;\n    }\n\n    .dataframe thead th {\n        text-align: right;\n    }\n</style>\n<table border=\"1\" class=\"dataframe\">\n  <thead>\n    <tr style=\"text-align: right;\">\n      <th></th>\n      <th>과일이</th>\n      <th>길고</th>\n      <th>노란</th>\n      <th>먹고</th>\n      <th>바나나</th>\n      <th>사과</th>\n      <th>싶은</th>\n      <th>저는</th>\n      <th>좋아요</th>\n      <th>문서</th>\n    </tr>\n  </thead>\n  <tbody>\n    <tr>\n      <th>0</th>\n      <td>0.00000</td>\n      <td>0.00000</td>\n      <td>0.00000</td>\n      <td>0.526405</td>\n      <td>0.00000</td>\n      <td>0.667679</td>\n      <td>0.526405</td>\n      <td>0.00000</td>\n      <td>0.00000</td>\n      <td>먹고 싶은 사과</td>\n    </tr>\n    <tr>\n      <th>1</th>\n      <td>0.00000</td>\n      <td>0.00000</td>\n      <td>0.00000</td>\n      <td>0.577350</td>\n      <td>0.57735</td>\n      <td>0.000000</td>\n      <td>0.577350</td>\n      <td>0.00000</td>\n      <td>0.00000</td>\n      <td>먹고 싶은 바나나</td>\n    </tr>\n    <tr>\n      <th>2</th>\n      <td>0.00000</td>\n      <td>0.47212</td>\n      <td>0.47212</td>\n      <td>0.000000</td>\n      <td>0.74445</td>\n      <td>0.000000</td>\n      <td>0.000000</td>\n      <td>0.00000</td>\n      <td>0.00000</td>\n      <td>길고 노란 바나나 바나나</td>\n    </tr>\n    <tr>\n      <th>3</th>\n      <td>0.57735</td>\n      <td>0.00000</td>\n      <td>0.00000</td>\n      <td>0.000000</td>\n      <td>0.00000</td>\n      <td>0.000000</td>\n      <td>0.000000</td>\n      <td>0.57735</td>\n      <td>0.57735</td>\n      <td>저는 과일이 좋아요</td>\n    </tr>\n  </tbody>\n</table>\n</div>"
     },
     "execution_count": 15,
     "metadata": {},
     "output_type": "execute_result"
    }
   ],
   "source": [
    "df_tfidf"
   ]
  },
  {
   "cell_type": "markdown",
   "metadata": {
    "id": "FU56jH5sDyzr"
   },
   "source": [
    "# **3. 코사인 유사도(Cosine Similarity)**"
   ]
  },
  {
   "cell_type": "code",
   "execution_count": 16,
   "metadata": {
    "id": "1TlbNs-0D8S2",
    "ExecuteTime": {
     "end_time": "2023-10-08T05:03:46.088269Z",
     "start_time": "2023-10-08T05:03:46.026291Z"
    }
   },
   "outputs": [],
   "source": [
    "from sklearn.metrics.pairwise import cosine_similarity\n",
    "\n",
    "# 모든 문서(BoW) 사이의 코사인 유사도 계산\n",
    "cosine_similarities = cosine_similarity(bow_matrix)\n",
    "\n",
    "# 코사인 유사도 행렬 출력\n",
    "df_cosine_similarities = pd.DataFrame(cosine_similarities, columns=docs, index=docs)"
   ]
  },
  {
   "cell_type": "code",
   "execution_count": 18,
   "metadata": {
    "colab": {
     "base_uri": "https://localhost:8080/",
     "height": 175
    },
    "id": "dXaxTCmgTIKA",
    "outputId": "ba5c1a2d-e341-47ec-c299-689a8d69099b",
    "ExecuteTime": {
     "end_time": "2023-10-08T05:04:14.832079Z",
     "start_time": "2023-10-08T05:04:14.802318Z"
    }
   },
   "outputs": [
    {
     "data": {
      "text/plain": "               먹고 싶은 사과  먹고 싶은 바나나  길고 노란 바나나 바나나  저는 과일이 좋아요\n먹고 싶은 사과       1.000000   0.666667       0.000000         0.0\n먹고 싶은 바나나      0.666667   1.000000       0.471405         0.0\n길고 노란 바나나 바나나  0.000000   0.471405       1.000000         0.0\n저는 과일이 좋아요     0.000000   0.000000       0.000000         1.0",
      "text/html": "<div>\n<style scoped>\n    .dataframe tbody tr th:only-of-type {\n        vertical-align: middle;\n    }\n\n    .dataframe tbody tr th {\n        vertical-align: top;\n    }\n\n    .dataframe thead th {\n        text-align: right;\n    }\n</style>\n<table border=\"1\" class=\"dataframe\">\n  <thead>\n    <tr style=\"text-align: right;\">\n      <th></th>\n      <th>먹고 싶은 사과</th>\n      <th>먹고 싶은 바나나</th>\n      <th>길고 노란 바나나 바나나</th>\n      <th>저는 과일이 좋아요</th>\n    </tr>\n  </thead>\n  <tbody>\n    <tr>\n      <th>먹고 싶은 사과</th>\n      <td>1.000000</td>\n      <td>0.666667</td>\n      <td>0.000000</td>\n      <td>0.0</td>\n    </tr>\n    <tr>\n      <th>먹고 싶은 바나나</th>\n      <td>0.666667</td>\n      <td>1.000000</td>\n      <td>0.471405</td>\n      <td>0.0</td>\n    </tr>\n    <tr>\n      <th>길고 노란 바나나 바나나</th>\n      <td>0.000000</td>\n      <td>0.471405</td>\n      <td>1.000000</td>\n      <td>0.0</td>\n    </tr>\n    <tr>\n      <th>저는 과일이 좋아요</th>\n      <td>0.000000</td>\n      <td>0.000000</td>\n      <td>0.000000</td>\n      <td>1.0</td>\n    </tr>\n  </tbody>\n</table>\n</div>"
     },
     "execution_count": 18,
     "metadata": {},
     "output_type": "execute_result"
    }
   ],
   "source": [
    "df_cosine_similarities"
   ]
  },
  {
   "cell_type": "code",
   "execution_count": 19,
   "metadata": {
    "id": "4FAqOZ4Bg7rB",
    "ExecuteTime": {
     "end_time": "2023-10-08T05:04:15.812200Z",
     "start_time": "2023-10-08T05:04:15.800781Z"
    }
   },
   "outputs": [],
   "source": [
    "# 모든 문서(TF-IDF) 사이의 코사인 유사도 계산\n",
    "cosine_similarities = cosine_similarity(tfidf_matrix)\n",
    "\n",
    "# 코사인 유사도 행렬 출력\n",
    "df_cosine_similarities = pd.DataFrame(cosine_similarities, columns=docs, index=docs)"
   ]
  },
  {
   "cell_type": "code",
   "execution_count": 20,
   "metadata": {
    "colab": {
     "base_uri": "https://localhost:8080/",
     "height": 175
    },
    "id": "tgRc2hy-hHu_",
    "outputId": "43c852c6-7332-41a6-9a03-ab2fbc7f8904",
    "ExecuteTime": {
     "end_time": "2023-10-08T05:04:17.053449Z",
     "start_time": "2023-10-08T05:04:17.034937Z"
    }
   },
   "outputs": [
    {
     "data": {
      "text/plain": "               먹고 싶은 사과  먹고 싶은 바나나  길고 노란 바나나 바나나  저는 과일이 좋아요\n먹고 싶은 사과       1.000000   0.607841       0.000000         0.0\n먹고 싶은 바나나      0.607841   1.000000       0.429808         0.0\n길고 노란 바나나 바나나  0.000000   0.429808       1.000000         0.0\n저는 과일이 좋아요     0.000000   0.000000       0.000000         1.0",
      "text/html": "<div>\n<style scoped>\n    .dataframe tbody tr th:only-of-type {\n        vertical-align: middle;\n    }\n\n    .dataframe tbody tr th {\n        vertical-align: top;\n    }\n\n    .dataframe thead th {\n        text-align: right;\n    }\n</style>\n<table border=\"1\" class=\"dataframe\">\n  <thead>\n    <tr style=\"text-align: right;\">\n      <th></th>\n      <th>먹고 싶은 사과</th>\n      <th>먹고 싶은 바나나</th>\n      <th>길고 노란 바나나 바나나</th>\n      <th>저는 과일이 좋아요</th>\n    </tr>\n  </thead>\n  <tbody>\n    <tr>\n      <th>먹고 싶은 사과</th>\n      <td>1.000000</td>\n      <td>0.607841</td>\n      <td>0.000000</td>\n      <td>0.0</td>\n    </tr>\n    <tr>\n      <th>먹고 싶은 바나나</th>\n      <td>0.607841</td>\n      <td>1.000000</td>\n      <td>0.429808</td>\n      <td>0.0</td>\n    </tr>\n    <tr>\n      <th>길고 노란 바나나 바나나</th>\n      <td>0.000000</td>\n      <td>0.429808</td>\n      <td>1.000000</td>\n      <td>0.0</td>\n    </tr>\n    <tr>\n      <th>저는 과일이 좋아요</th>\n      <td>0.000000</td>\n      <td>0.000000</td>\n      <td>0.000000</td>\n      <td>1.0</td>\n    </tr>\n  </tbody>\n</table>\n</div>"
     },
     "execution_count": 20,
     "metadata": {},
     "output_type": "execute_result"
    }
   ],
   "source": [
    "df_cosine_similarities"
   ]
  },
  {
   "cell_type": "markdown",
   "metadata": {
    "id": "pk9jnEx3T5k5"
   },
   "source": [
    "# **4. 영화 리뷰 예시**"
   ]
  },
  {
   "cell_type": "code",
   "execution_count": 13,
   "metadata": {
    "id": "D5Yg5RkkVcR9",
    "colab": {
     "base_uri": "https://localhost:8080/"
    },
    "outputId": "4d221728-0584-4d92-ee09-be5b82f848e9",
    "ExecuteTime": {
     "end_time": "2023-10-08T05:33:05.421153Z",
     "start_time": "2023-10-08T05:33:03.872582Z"
    }
   },
   "outputs": [
    {
     "name": "stdout",
     "output_type": "stream",
     "text": [
      "bash: line 2: wget: command not found\r\n",
      "bash: line 5: wget: command not found\r\n",
      "fatal: destination path 'mecab-python-0.996' already exists and is not an empty directory.\r\n",
      "Requirement already satisfied: konlpy in /Users/soma/anaconda3/envs/tensor2/lib/python3.9/site-packages (0.6.0)\r\n",
      "Requirement already satisfied: JPype1>=0.7.0 in /Users/soma/anaconda3/envs/tensor2/lib/python3.9/site-packages (from konlpy) (1.4.1)\r\n",
      "Requirement already satisfied: lxml>=4.1.0 in /Users/soma/anaconda3/envs/tensor2/lib/python3.9/site-packages (from konlpy) (4.9.2)\r\n",
      "Requirement already satisfied: numpy>=1.6 in /Users/soma/anaconda3/envs/tensor2/lib/python3.9/site-packages (from konlpy) (1.23.2)\r\n",
      "Requirement already satisfied: packaging in /Users/soma/anaconda3/envs/tensor2/lib/python3.9/site-packages (from JPype1>=0.7.0->konlpy) (23.1)\r\n"
     ]
    }
   ],
   "source": [
    "!curl -s https://raw.githubusercontent.com/teddylee777/machine-learning/master/99-Misc/01-Colab/mecab-colab.sh | bash"
   ]
  },
  {
   "cell_type": "code",
   "execution_count": 14,
   "metadata": {
    "colab": {
     "base_uri": "https://localhost:8080/"
    },
    "id": "D2WkU4JTU4w0",
    "outputId": "5c133971-98c6-46b9-cfa1-61fd2d836197",
    "ExecuteTime": {
     "end_time": "2023-10-08T05:33:11.850216Z",
     "start_time": "2023-10-08T05:33:11.798661Z"
    }
   },
   "outputs": [],
   "source": [
    "import pandas as pd\n",
    "\n",
    "\n",
    "df = pd.read_csv('data/daum_movie_review.csv')"
   ]
  },
  {
   "cell_type": "code",
   "source": [
    "df"
   ],
   "metadata": {
    "colab": {
     "base_uri": "https://localhost:8080/",
     "height": 423
    },
    "id": "-ouuiK37BQuV",
    "outputId": "7d8d6dfb-364a-492c-f281-b52f2fa4f3eb",
    "ExecuteTime": {
     "end_time": "2023-10-08T05:28:13.550357Z",
     "start_time": "2023-10-08T05:28:13.541443Z"
    }
   },
   "execution_count": 2,
   "outputs": [
    {
     "data": {
      "text/plain": "                                                  review  rating        date  \\\n0                                 돈 들인건 티가 나지만 보는 내내 하품만       1  2018.10.29   \n1           몰입할수밖에 없다. 어렵게 생각할 필요없다. 내가 전투에 참여한듯 손에 땀이남.      10  2018.10.26   \n2      이전 작품에 비해 더 화려하고 스케일도 커졌지만.... 전국 맛집의 음식들을 한데 ...       8  2018.10.24   \n3                                    이 정도면 볼만하다고 할 수 있음!       8  2018.10.22   \n4                                                   재미있다      10  2018.10.20   \n...                                                  ...     ...         ...   \n14720  어른들을 위한 동화    정말 오랜만에  좋은 애니를 보았습니다     가족의 소중...      10  2018.01.12   \n14721                                   디즈니는 못해도 본전은 한다.       7  2018.01.12   \n14722                            가족을 위한 영화... 괜찮은 영화.~~~       8  2018.01.12   \n14723      간만에 제대로 잘짜여진 각본의 영화를 봤네 여운이 아직도 남아~어른을 위한 애니~      10  2018.01.12   \n14724                   한국개봉을 눈빠지게 기다린 보람이있다 깨우치는게 많은 영화      10  2018.01.12   \n\n        title  \n0      인피니티 워  \n1      인피니티 워  \n2      인피니티 워  \n3      인피니티 워  \n4      인피니티 워  \n...       ...  \n14720      코코  \n14721      코코  \n14722      코코  \n14723      코코  \n14724      코코  \n\n[14725 rows x 4 columns]",
      "text/html": "<div>\n<style scoped>\n    .dataframe tbody tr th:only-of-type {\n        vertical-align: middle;\n    }\n\n    .dataframe tbody tr th {\n        vertical-align: top;\n    }\n\n    .dataframe thead th {\n        text-align: right;\n    }\n</style>\n<table border=\"1\" class=\"dataframe\">\n  <thead>\n    <tr style=\"text-align: right;\">\n      <th></th>\n      <th>review</th>\n      <th>rating</th>\n      <th>date</th>\n      <th>title</th>\n    </tr>\n  </thead>\n  <tbody>\n    <tr>\n      <th>0</th>\n      <td>돈 들인건 티가 나지만 보는 내내 하품만</td>\n      <td>1</td>\n      <td>2018.10.29</td>\n      <td>인피니티 워</td>\n    </tr>\n    <tr>\n      <th>1</th>\n      <td>몰입할수밖에 없다. 어렵게 생각할 필요없다. 내가 전투에 참여한듯 손에 땀이남.</td>\n      <td>10</td>\n      <td>2018.10.26</td>\n      <td>인피니티 워</td>\n    </tr>\n    <tr>\n      <th>2</th>\n      <td>이전 작품에 비해 더 화려하고 스케일도 커졌지만.... 전국 맛집의 음식들을 한데 ...</td>\n      <td>8</td>\n      <td>2018.10.24</td>\n      <td>인피니티 워</td>\n    </tr>\n    <tr>\n      <th>3</th>\n      <td>이 정도면 볼만하다고 할 수 있음!</td>\n      <td>8</td>\n      <td>2018.10.22</td>\n      <td>인피니티 워</td>\n    </tr>\n    <tr>\n      <th>4</th>\n      <td>재미있다</td>\n      <td>10</td>\n      <td>2018.10.20</td>\n      <td>인피니티 워</td>\n    </tr>\n    <tr>\n      <th>...</th>\n      <td>...</td>\n      <td>...</td>\n      <td>...</td>\n      <td>...</td>\n    </tr>\n    <tr>\n      <th>14720</th>\n      <td>어른들을 위한 동화    정말 오랜만에  좋은 애니를 보았습니다     가족의 소중...</td>\n      <td>10</td>\n      <td>2018.01.12</td>\n      <td>코코</td>\n    </tr>\n    <tr>\n      <th>14721</th>\n      <td>디즈니는 못해도 본전은 한다.</td>\n      <td>7</td>\n      <td>2018.01.12</td>\n      <td>코코</td>\n    </tr>\n    <tr>\n      <th>14722</th>\n      <td>가족을 위한 영화... 괜찮은 영화.~~~</td>\n      <td>8</td>\n      <td>2018.01.12</td>\n      <td>코코</td>\n    </tr>\n    <tr>\n      <th>14723</th>\n      <td>간만에 제대로 잘짜여진 각본의 영화를 봤네 여운이 아직도 남아~어른을 위한 애니~</td>\n      <td>10</td>\n      <td>2018.01.12</td>\n      <td>코코</td>\n    </tr>\n    <tr>\n      <th>14724</th>\n      <td>한국개봉을 눈빠지게 기다린 보람이있다 깨우치는게 많은 영화</td>\n      <td>10</td>\n      <td>2018.01.12</td>\n      <td>코코</td>\n    </tr>\n  </tbody>\n</table>\n<p>14725 rows × 4 columns</p>\n</div>"
     },
     "execution_count": 2,
     "metadata": {},
     "output_type": "execute_result"
    }
   ]
  },
  {
   "cell_type": "code",
   "execution_count": 3,
   "metadata": {
    "colab": {
     "base_uri": "https://localhost:8080/"
    },
    "id": "wdiSugbVU47Y",
    "outputId": "006fa074-678b-4e97-d45f-2da85a77d3b0",
    "ExecuteTime": {
     "end_time": "2023-10-08T05:28:16.075881Z",
     "start_time": "2023-10-08T05:28:13.550863Z"
    }
   },
   "outputs": [
    {
     "name": "stdout",
     "output_type": "stream",
     "text": [
      "품사 태깅 [('돈', 'Noun'), ('들인건', 'Verb'), ('티', 'Noun'), ('가', 'Josa'), ('나', 'Noun'), ('지만', 'Josa'), ('보는', 'Verb'), ('내내', 'Noun'), ('하품', 'Noun'), ('만', 'Josa')]\n",
      "명사: ['돈', '티', '나', '내내', '하품']\n"
     ]
    }
   ],
   "source": [
    "from konlpy.tag import Okt\n",
    "\n",
    "okt = Okt()\n",
    "\n",
    "print('품사 태깅', okt.pos(df.review[0]))\n",
    "print('명사:', okt.nouns(df.review[0]))"
   ]
  },
  {
   "cell_type": "code",
   "execution_count": 4,
   "metadata": {
    "colab": {
     "base_uri": "https://localhost:8080/"
    },
    "id": "tAO5-VcoU4-D",
    "outputId": "f8fd8d4c-310c-4096-80a8-4bfddbc57b8d",
    "ExecuteTime": {
     "end_time": "2023-10-08T05:28:16.096112Z",
     "start_time": "2023-10-08T05:28:16.078855Z"
    }
   },
   "outputs": [
    {
     "data": {
      "text/plain": "['돈', '들인건', '티', '나', '보는', '내내', '하품']"
     },
     "execution_count": 4,
     "metadata": {},
     "output_type": "execute_result"
    }
   ],
   "source": [
    "def review_tokenizer(doc):\n",
    "    # 품사 태그가 'Noun', 'Verb', 'Adjective'인 토큰만 유지\n",
    "    return [token for token, pos in okt.pos(doc) if pos in ['Noun', 'Verb', 'Adjective']]\n",
    "\n",
    "review_tokenizer(df.review[0])"
   ]
  },
  {
   "cell_type": "code",
   "execution_count": 5,
   "metadata": {
    "colab": {
     "base_uri": "https://localhost:8080/"
    },
    "id": "IjrkRBE8U5Az",
    "outputId": "905c9328-9bbc-409d-ffcf-389883ee82b1",
    "ExecuteTime": {
     "end_time": "2023-10-08T05:28:35.904314Z",
     "start_time": "2023-10-08T05:28:16.091785Z"
    }
   },
   "outputs": [
    {
     "name": "stderr",
     "output_type": "stream",
     "text": [
      "/Users/soma/anaconda3/envs/tensor2/lib/python3.9/site-packages/sklearn/feature_extraction/text.py:525: UserWarning: The parameter 'token_pattern' will not be used since 'tokenizer' is not None'\n",
      "  warnings.warn(\n"
     ]
    }
   ],
   "source": [
    "from sklearn.feature_extraction.text import CountVectorizer\n",
    "\n",
    "# 최대 100개의 feature(단어)를 가진 CountVectorizer 인스턴스를 생성\n",
    "# max_features: 최대 feature 개수를 정하는 옵션\n",
    "daum_cv = CountVectorizer(max_features=100, tokenizer=review_tokenizer)\n",
    "\n",
    "# CountVectorizer를 적용하여 문서-단어 행렬을 생성\n",
    "daum_dtm = daum_cv.fit_transform(df.review)"
   ]
  },
  {
   "cell_type": "code",
   "source": [
    "# feature(단어) 이름을 출력\n",
    "daum_cv.get_feature_names_out()"
   ],
   "metadata": {
    "colab": {
     "base_uri": "https://localhost:8080/"
    },
    "id": "FclABlhQCY6z",
    "outputId": "5e34b849-e947-4a36-cc8f-2facee08c1b5",
    "ExecuteTime": {
     "end_time": "2023-10-08T05:28:35.912484Z",
     "start_time": "2023-10-08T05:28:35.905636Z"
    }
   },
   "execution_count": 6,
   "outputs": [
    {
     "data": {
      "text/plain": "array(['가슴', '가족', '감독', '감동', '같은', '거', '것', '공포영화', '광주', '그', '그냥',\n       '기대', '꼭', '끝', '나', '내', '내용', '넘', '눈물', '느낌', '다시', '더', '돈',\n       '듯', '때', '또', '마동석', '마블', '마음', '마지막', '말', '모두', '뭐', '배우',\n       '별로', '보고', '보는', '보면', '본', '볼', '봤는데', '봤습니다', '봤어요', '부분', '분',\n       '사람', '사랑', '생각', '송강호', '수', '스토리', '시간', '신파', '안', '액션', '없는',\n       '역사', '역시', '연기', '영화', '완전', '왜', '우리', '원작', '윤계상', '음악', '이',\n       '이런', '이해', '인생', '임', '입니다', '있는', '잘', '장면', '재미', '재밌게', '저',\n       '점', '정도', '정말', '좀', '좋은', '중간', '진짜', '차태현', '처음', '최고', '편',\n       '평점', '하나', '하는', '한', '한국', '한번', '할', '함', '합니다', '해', '해서'],\n      dtype=object)"
     },
     "execution_count": 6,
     "metadata": {},
     "output_type": "execute_result"
    }
   ]
  },
  {
   "cell_type": "code",
   "source": [
    "# 첫번째 카운트 벡터를 출력\n",
    "# 희소 표현(sparse representation): 100개 중 3개의 원소만 0이 아님\n",
    "daum_dtm[0]"
   ],
   "metadata": {
    "colab": {
     "base_uri": "https://localhost:8080/"
    },
    "id": "-zAZ01J9CUwF",
    "outputId": "90e434ad-de2c-4ea1-cb65-c6e28025f3be",
    "ExecuteTime": {
     "end_time": "2023-10-08T05:28:35.916120Z",
     "start_time": "2023-10-08T05:28:35.910991Z"
    }
   },
   "execution_count": 7,
   "outputs": [
    {
     "data": {
      "text/plain": "<1x100 sparse matrix of type '<class 'numpy.int64'>'\n\twith 3 stored elements in Compressed Sparse Row format>"
     },
     "execution_count": 7,
     "metadata": {},
     "output_type": "execute_result"
    }
   ]
  },
  {
   "cell_type": "code",
   "source": [
    "# 벡터의 모든 값을 저장하는 것이 아닌 0이 아닌 값과 그 인덱스만 저장\n",
    "print(daum_dtm[0])"
   ],
   "metadata": {
    "colab": {
     "base_uri": "https://localhost:8080/"
    },
    "id": "AYKibn2vBrK6",
    "outputId": "5ec1b948-0bf7-475b-b807-67c86169b031",
    "ExecuteTime": {
     "end_time": "2023-10-08T05:28:35.920166Z",
     "start_time": "2023-10-08T05:28:35.915233Z"
    }
   },
   "execution_count": 8,
   "outputs": [
    {
     "name": "stdout",
     "output_type": "stream",
     "text": [
      "  (0, 22)\t1\n",
      "  (0, 14)\t1\n",
      "  (0, 36)\t1\n"
     ]
    }
   ]
  },
  {
   "cell_type": "code",
   "execution_count": 9,
   "metadata": {
    "colab": {
     "base_uri": "https://localhost:8080/"
    },
    "id": "sauT4SvwU5Dz",
    "outputId": "d51890e8-dbcf-4bd0-f255-54452f5d4e27",
    "ExecuteTime": {
     "end_time": "2023-10-08T05:28:35.927662Z",
     "start_time": "2023-10-08T05:28:35.918830Z"
    }
   },
   "outputs": [
    {
     "data": {
      "text/plain": "<14725x100 sparse matrix of type '<class 'numpy.int64'>'\n\twith 45689 stored elements in Compressed Sparse Row format>"
     },
     "execution_count": 9,
     "metadata": {},
     "output_type": "execute_result"
    }
   ],
   "source": [
    "# DTM을 출력\n",
    "daum_dtm"
   ]
  },
  {
   "cell_type": "code",
   "source": [
    "# DTM의 크기(행의 수, 열의 수)\n",
    "print(daum_dtm.shape)\n",
    "\n",
    "# DTM의 원소 중 0이 아닌 원소의 수\n",
    "print(daum_dtm.size)\n",
    "\n",
    "# 0아닌 원소의 비율\n",
    "print(daum_dtm.size / (daum_dtm.shape[0] * daum_dtm.shape[1]))"
   ],
   "metadata": {
    "colab": {
     "base_uri": "https://localhost:8080/"
    },
    "id": "ElO3pRupC782",
    "outputId": "d4510e1f-42d5-450c-c776-c8d2fb8dfc11",
    "ExecuteTime": {
     "end_time": "2023-10-08T05:28:35.959521Z",
     "start_time": "2023-10-08T05:28:35.922920Z"
    }
   },
   "execution_count": 10,
   "outputs": [
    {
     "name": "stdout",
     "output_type": "stream",
     "text": [
      "(14725, 100)\n",
      "45689\n",
      "0.03102818336162988\n"
     ]
    }
   ]
  },
  {
   "cell_type": "code",
   "execution_count": 11,
   "metadata": {
    "colab": {
     "base_uri": "https://localhost:8080/"
    },
    "id": "XxTKLaYKWGzb",
    "outputId": "85bfc46b-fdcb-42da-9070-27c26b312b29",
    "ExecuteTime": {
     "end_time": "2023-10-08T05:28:35.962194Z",
     "start_time": "2023-10-08T05:28:35.928114Z"
    }
   },
   "outputs": [
    {
     "name": "stdout",
     "output_type": "stream",
     "text": [
      "나 : 1, 돈 : 1, 보는 : 1, "
     ]
    }
   ],
   "source": [
    "# 리뷰 벡터의 0이 아닌 원소의 단어를 출력\n",
    "for word, count in zip(daum_cv.get_feature_names_out(), daum_dtm[0].toarray()[0]):\n",
    "    if count > 0:\n",
    "        print(word, ':', count, end=', ')"
   ]
  },
  {
   "cell_type": "code",
   "execution_count": 15,
   "metadata": {
    "id": "29sEQQfXYH6a",
    "ExecuteTime": {
     "end_time": "2023-10-08T05:35:35.739116Z",
     "start_time": "2023-10-08T05:35:35.711594Z"
    }
   },
   "outputs": [
    {
     "ename": "NameError",
     "evalue": "name 'cosine_similarity' is not defined",
     "output_type": "error",
     "traceback": [
      "\u001B[0;31m---------------------------------------------------------------------------\u001B[0m",
      "\u001B[0;31mNameError\u001B[0m                                 Traceback (most recent call last)",
      "Cell \u001B[0;32mIn[15], line 2\u001B[0m\n\u001B[1;32m      1\u001B[0m \u001B[38;5;66;03m# 모든 리뷰(BoW 기준) 사이의 코사인 유사도 계산\u001B[39;00m\n\u001B[0;32m----> 2\u001B[0m cosine_similarities \u001B[38;5;241m=\u001B[39m \u001B[43mcosine_similarity\u001B[49m(daum_dtm)\n",
      "\u001B[0;31mNameError\u001B[0m: name 'cosine_similarity' is not defined"
     ]
    }
   ],
   "source": [
    "# 모든 리뷰(BoW 기준) 사이의 코사인 유사도 계산\n",
    "cosine_similarities = cosine_similarity(daum_dtm)"
   ]
  },
  {
   "cell_type": "code",
   "execution_count": null,
   "outputs": [],
   "source": [],
   "metadata": {
    "collapsed": false
   }
  },
  {
   "cell_type": "code",
   "execution_count": null,
   "metadata": {
    "colab": {
     "base_uri": "https://localhost:8080/"
    },
    "id": "q0h8XFRAWG5C",
    "outputId": "8109cfb1-02d9-41ca-daee-c09a88b361bd",
    "ExecuteTime": {
     "start_time": "2023-10-08T05:28:35.985055Z"
    }
   },
   "outputs": [],
   "source": [
    "cosine_similarities"
   ]
  },
  {
   "cell_type": "code",
   "execution_count": null,
   "metadata": {
    "colab": {
     "base_uri": "https://localhost:8080/"
    },
    "id": "P_3y44EGWHJR",
    "outputId": "5c5c6f7f-f61c-4263-f001-c63cd9b9d091",
    "ExecuteTime": {
     "start_time": "2023-10-08T05:28:35.986218Z"
    }
   },
   "outputs": [],
   "source": [
    "import numpy as np\n",
    "\n",
    "print(np.count_nonzero(cosine_similarities == 0))\n",
    "print(cosine_similarities.size)\n",
    "print(179590365 / 216825625)"
   ]
  },
  {
   "cell_type": "code",
   "execution_count": null,
   "outputs": [],
   "source": [],
   "metadata": {
    "collapsed": false
   }
  }
 ],
 "metadata": {
  "colab": {
   "provenance": []
  },
  "kernelspec": {
   "name": "python3",
   "language": "python",
   "display_name": "Python 3 (ipykernel)"
  },
  "language_info": {
   "name": "python"
  }
 },
 "nbformat": 4,
 "nbformat_minor": 0
}
