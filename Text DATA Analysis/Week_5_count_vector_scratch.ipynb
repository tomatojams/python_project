{
 "nbformat": 4,
 "nbformat_minor": 0,
 "metadata": {
  "colab": {
   "provenance": []
  },
  "kernelspec": {
   "name": "python3",
   "language": "python",
   "display_name": "Python 3 (ipykernel)"
  },
  "language_info": {
   "name": "python"
  }
 },
 "cells": [
  {
   "cell_type": "markdown",
   "source": [
    "**5주차 실습 - 카운트 기반 문서 표현을 직접 구현하기**\n",
    "\n",
    "- 출처: 딥 러닝을 이용한 자연어 처리 입문(https://wikidocs.net/book/2155)"
   ],
   "metadata": {
    "id": "p6Qj3ZjBA5j7"
   }
  },
  {
   "cell_type": "markdown",
   "source": [
    "# **1. Bag of Words(BoW)**\n",
    "- 각 단어에 고유한 정수 인덱스를 부여하여 벡터를 만들고 각 단어의 등장 횟수를 기록"
   ],
   "metadata": {
    "id": "xv9jD0-E9vFu"
   }
  },
  {
   "cell_type": "code",
   "source": [
    "from nltk.tokenize import TreebankWordTokenizer\n",
    "\n",
    "def build_bag_of_words(doc):\n",
    "    # 온점 제거 및 토큰화\n",
    "    doc = doc.replace('.', '')\n",
    "    tokenized_document = TreebankWordTokenizer().tokenize(doc)\n",
    "\n",
    "    word_to_index = {}  # 단어와 해당 인덱스를 매핑할 딕셔너리\n",
    "    bow = []  # BoW를 저장할 리스트\n",
    "\n",
    "    for word in tokenized_document:\n",
    "        if word not in word_to_index.keys():\n",
    "            # 단어가 처음 등장한 경우, 인덱스를 부여하고 BoW에 1을 추가\n",
    "            word_to_index[word] = len(word_to_index)\n",
    "            bow.insert(len(word_to_index) - 1, 1)\n",
    "        else:\n",
    "            # 이미 등장한 단어의 경우, 해당 인덱스 위치의 BoW 값에 1을 추가\n",
    "            index = word_to_index.get(word)\n",
    "            bow[index] = bow[index] + 1\n",
    "\n",
    "    return word_to_index, bow\n"
   ],
   "metadata": {
    "id": "3mpwBmM87HNP",
    "ExecuteTime": {
     "end_time": "2023-10-08T04:38:09.042930Z",
     "start_time": "2023-10-08T04:38:07.468142Z"
    }
   },
   "execution_count": 2,
   "outputs": []
  },
  {
   "cell_type": "code",
   "source": [
    "doc1 = \"Imagination is more important than knowledge is more\"\n",
    "\n",
    "vocab, bow = build_bag_of_words(doc1)\n",
    "\n",
    "print('vocabulary :', vocab)\n",
    "print('bag of words vector :', bow)\n"
   ],
   "metadata": {
    "id": "nzfDhsYm852i",
    "colab": {
     "base_uri": "https://localhost:8080/"
    },
    "outputId": "fc56d6d5-96c2-43d0-bc8c-c6f486515e74",
    "ExecuteTime": {
     "end_time": "2023-10-08T04:38:41.871665Z",
     "start_time": "2023-10-08T04:38:41.827728Z"
    }
   },
   "execution_count": 4,
   "outputs": [
    {
     "name": "stdout",
     "output_type": "stream",
     "text": [
      "vocabulary : {'Imagination': 0, 'is': 1, 'more': 2, 'important': 3, 'than': 4, 'knowledge': 5}\n",
      "bag of words vector : [1, 2, 2, 1, 1, 1]\n"
     ]
    }
   ]
  },
  {
   "cell_type": "code",
   "source": [
    "doc2 = \"Knowledge is limited\"\n",
    "\n",
    "vocab, bow = build_bag_of_words(doc2)\n",
    "\n",
    "print('vocabulary :', vocab)\n",
    "print('bag of words vector :', bow)\n"
   ],
   "metadata": {
    "colab": {
     "base_uri": "https://localhost:8080/"
    },
    "id": "rnJn2kZy8cc5",
    "outputId": "44c47aec-3561-42ef-e453-efb3cf7db18c",
    "ExecuteTime": {
     "end_time": "2023-10-08T04:39:00.601246Z",
     "start_time": "2023-10-08T04:39:00.586797Z"
    }
   },
   "execution_count": 5,
   "outputs": [
    {
     "name": "stdout",
     "output_type": "stream",
     "text": [
      "vocabulary : {'Knowledge': 0, 'is': 1, 'limited': 2}\n",
      "bag of words vector : [1, 1, 1]\n"
     ]
    }
   ]
  },
  {
   "cell_type": "code",
   "source": [
    "doc3 = \"Imagination encircles the world\"\n",
    "\n",
    "vocab, bow = build_bag_of_words(doc3)\n",
    "\n",
    "print('vocabulary :', vocab)\n",
    "print('bag of words vector :', bow)"
   ],
   "metadata": {
    "colab": {
     "base_uri": "https://localhost:8080/"
    },
    "id": "MNkHowGr8dQu",
    "outputId": "d9f05074-e140-45be-a37f-e8f576364e8d",
    "ExecuteTime": {
     "end_time": "2023-10-08T04:39:40.978636Z",
     "start_time": "2023-10-08T04:39:40.953124Z"
    }
   },
   "execution_count": 6,
   "outputs": [
    {
     "name": "stdout",
     "output_type": "stream",
     "text": [
      "vocabulary : {'Imagination': 0, 'encircles': 1, 'the': 2, 'world': 3}\n",
      "bag of words vector : [1, 1, 1, 1]\n"
     ]
    }
   ]
  },
  {
   "cell_type": "code",
   "source": [
    "doc4 = doc1 + \" \" + doc2 + \" \" + doc3\n",
    "\n",
    "vocab, bow = build_bag_of_words(doc4)\n",
    "\n",
    "print('vocabulary :', vocab)\n",
    "print('bag of words vector :', bow)"
   ],
   "metadata": {
    "colab": {
     "base_uri": "https://localhost:8080/"
    },
    "id": "mBWWRKh6AeB4",
    "outputId": "97d23fa3-026f-423d-f028-f1cd1bc7e445",
    "ExecuteTime": {
     "end_time": "2023-10-08T04:39:47.788205Z",
     "start_time": "2023-10-08T04:39:47.774965Z"
    }
   },
   "execution_count": 7,
   "outputs": [
    {
     "name": "stdout",
     "output_type": "stream",
     "text": [
      "vocabulary : {'Imagination': 0, 'is': 1, 'more': 2, 'important': 3, 'than': 4, 'knowledge': 5, 'Knowledge': 6, 'limited': 7, 'encircles': 8, 'the': 9, 'world': 10}\n",
      "bag of words vector : [2, 3, 2, 1, 1, 1, 1, 1, 1, 1, 1]\n"
     ]
    }
   ]
  },
  {
   "cell_type": "markdown",
   "source": [
    "# **2. TF-IDF**"
   ],
   "metadata": {
    "id": "tSklvOO0A6Al"
   }
  },
  {
   "cell_type": "code",
   "source": [
    "import pandas as pd\n",
    "from math import log\n",
    "\n",
    "doc1 = '먹고 싶은 사과'\n",
    "doc2 = '먹고 싶은 바나나'\n",
    "doc3 = '길고 노란 바나나 바나나'\n",
    "doc4 = '저는 과일이 좋아요'\n",
    "\n",
    "docs = [doc1, doc2, doc3, doc4]\n",
    "\n",
    "\n",
    "# 총 문서의 수\n",
    "D = len(docs)\n",
    "\n",
    "# 문서 d 내에서 단어 t의 빈도(TF)를 계산\n",
    "def tf(t, d):\n",
    "    return d.count(t)\n",
    "\n",
    "# 단어 t의 역문서 빈도(IDF)를 계산\n",
    "def idf(t):\n",
    "    df = 0\n",
    "    for doc in docs:\n",
    "        df += t in doc  # doc에 t가 있는지 확인\n",
    "    return log(D / (df + 1))\n",
    "    # IDF의 다른 계산 방법\n",
    "    # return log((D + 1) / (df + 1)) + 1\n",
    "\n",
    "# TF-IDF 점수 계산\n",
    "def tfidf(t, d):\n",
    "    return tf(t, d) * idf(t)\n"
   ],
   "metadata": {
    "id": "05Gezw5QDnLx",
    "ExecuteTime": {
     "end_time": "2023-10-08T04:42:08.811653Z",
     "start_time": "2023-10-08T04:42:08.589052Z"
    }
   },
   "execution_count": 9,
   "outputs": []
  },
  {
   "cell_type": "code",
   "source": [
    "# 문서 내에 등장하는 단어의 집합\n",
    "vocas = list(set(w for doc in docs for w in doc.split()))\n",
    "vocas.sort()\n",
    "\n",
    "vocas"
   ],
   "metadata": {
    "colab": {
     "base_uri": "https://localhost:8080/"
    },
    "id": "wKl12ccTCtpH",
    "outputId": "e9642e2a-3eb8-40d4-b2ff-654152cd15ff",
    "ExecuteTime": {
     "end_time": "2023-10-08T04:45:41.653028Z",
     "start_time": "2023-10-08T04:45:41.624402Z"
    }
   },
   "execution_count": 11,
   "outputs": [
    {
     "data": {
      "text/plain": "['과일이', '길고', '노란', '먹고', '바나나', '사과', '싶은', '저는', '좋아요']"
     },
     "execution_count": 11,
     "metadata": {},
     "output_type": "execute_result"
    }
   ]
  },
  {
   "cell_type": "code",
   "source": [
    "result = []  # 결과를 저장할 리스트\n",
    "\n",
    "for doc in docs:\n",
    "    result.append([])\n",
    "    for voca in vocas:\n",
    "        result[-1].append(tf(voca, doc))  # TF 값을 결과에 추가\n",
    "\n",
    "tf_score = pd.DataFrame(result, columns=vocas)\n"
   ],
   "metadata": {
    "id": "bAfj32YyCuw2",
    "ExecuteTime": {
     "end_time": "2023-10-08T04:48:36.307511Z",
     "start_time": "2023-10-08T04:48:36.281079Z"
    }
   },
   "execution_count": 13,
   "outputs": []
  },
  {
   "cell_type": "code",
   "source": [
    "tf_score"
   ],
   "metadata": {
    "colab": {
     "base_uri": "https://localhost:8080/",
     "height": 175
    },
    "id": "yRzdPrlUCu5c",
    "outputId": "d1a42c01-808f-4478-b7c5-7e86d26bfd35",
    "ExecuteTime": {
     "end_time": "2023-10-08T04:48:36.921311Z",
     "start_time": "2023-10-08T04:48:36.909548Z"
    }
   },
   "execution_count": 14,
   "outputs": [
    {
     "data": {
      "text/plain": "   과일이  길고  노란  먹고  바나나  사과  싶은  저는  좋아요\n0    0   0   0   1    0   1   1   0    0\n1    0   0   0   1    1   0   1   0    0\n2    0   1   1   0    2   0   0   0    0\n3    1   0   0   0    0   0   0   1    1",
      "text/html": "<div>\n<style scoped>\n    .dataframe tbody tr th:only-of-type {\n        vertical-align: middle;\n    }\n\n    .dataframe tbody tr th {\n        vertical-align: top;\n    }\n\n    .dataframe thead th {\n        text-align: right;\n    }\n</style>\n<table border=\"1\" class=\"dataframe\">\n  <thead>\n    <tr style=\"text-align: right;\">\n      <th></th>\n      <th>과일이</th>\n      <th>길고</th>\n      <th>노란</th>\n      <th>먹고</th>\n      <th>바나나</th>\n      <th>사과</th>\n      <th>싶은</th>\n      <th>저는</th>\n      <th>좋아요</th>\n    </tr>\n  </thead>\n  <tbody>\n    <tr>\n      <th>0</th>\n      <td>0</td>\n      <td>0</td>\n      <td>0</td>\n      <td>1</td>\n      <td>0</td>\n      <td>1</td>\n      <td>1</td>\n      <td>0</td>\n      <td>0</td>\n    </tr>\n    <tr>\n      <th>1</th>\n      <td>0</td>\n      <td>0</td>\n      <td>0</td>\n      <td>1</td>\n      <td>1</td>\n      <td>0</td>\n      <td>1</td>\n      <td>0</td>\n      <td>0</td>\n    </tr>\n    <tr>\n      <th>2</th>\n      <td>0</td>\n      <td>1</td>\n      <td>1</td>\n      <td>0</td>\n      <td>2</td>\n      <td>0</td>\n      <td>0</td>\n      <td>0</td>\n      <td>0</td>\n    </tr>\n    <tr>\n      <th>3</th>\n      <td>1</td>\n      <td>0</td>\n      <td>0</td>\n      <td>0</td>\n      <td>0</td>\n      <td>0</td>\n      <td>0</td>\n      <td>1</td>\n      <td>1</td>\n    </tr>\n  </tbody>\n</table>\n</div>"
     },
     "execution_count": 14,
     "metadata": {},
     "output_type": "execute_result"
    }
   ]
  },
  {
   "cell_type": "code",
   "source": [
    "result = []  # 결과를 저장할 리스트\n",
    "\n",
    "for voca in vocas:\n",
    "    result.append(idf(voca))  # IDF 값을 결과에 추가\n",
    "\n",
    "idf_score = pd.DataFrame(result, index=vocas, columns=[\"IDF\"])\n"
   ],
   "metadata": {
    "id": "8GuLwbtXCvC8",
    "ExecuteTime": {
     "end_time": "2023-10-08T04:49:27.932586Z",
     "start_time": "2023-10-08T04:49:27.903929Z"
    }
   },
   "execution_count": 15,
   "outputs": []
  },
  {
   "cell_type": "code",
   "source": [
    "idf_score"
   ],
   "metadata": {
    "colab": {
     "base_uri": "https://localhost:8080/",
     "height": 331
    },
    "id": "7ji2EypjCvKa",
    "outputId": "a9cc35b1-0b1d-46e6-924f-cc36cfae7eef",
    "ExecuteTime": {
     "end_time": "2023-10-08T04:49:29.943487Z",
     "start_time": "2023-10-08T04:49:29.927865Z"
    }
   },
   "execution_count": 16,
   "outputs": [
    {
     "data": {
      "text/plain": "          IDF\n과일이  0.693147\n길고   0.693147\n노란   0.693147\n먹고   0.287682\n바나나  0.287682\n사과   0.693147\n싶은   0.287682\n저는   0.693147\n좋아요  0.693147",
      "text/html": "<div>\n<style scoped>\n    .dataframe tbody tr th:only-of-type {\n        vertical-align: middle;\n    }\n\n    .dataframe tbody tr th {\n        vertical-align: top;\n    }\n\n    .dataframe thead th {\n        text-align: right;\n    }\n</style>\n<table border=\"1\" class=\"dataframe\">\n  <thead>\n    <tr style=\"text-align: right;\">\n      <th></th>\n      <th>IDF</th>\n    </tr>\n  </thead>\n  <tbody>\n    <tr>\n      <th>과일이</th>\n      <td>0.693147</td>\n    </tr>\n    <tr>\n      <th>길고</th>\n      <td>0.693147</td>\n    </tr>\n    <tr>\n      <th>노란</th>\n      <td>0.693147</td>\n    </tr>\n    <tr>\n      <th>먹고</th>\n      <td>0.287682</td>\n    </tr>\n    <tr>\n      <th>바나나</th>\n      <td>0.287682</td>\n    </tr>\n    <tr>\n      <th>사과</th>\n      <td>0.693147</td>\n    </tr>\n    <tr>\n      <th>싶은</th>\n      <td>0.287682</td>\n    </tr>\n    <tr>\n      <th>저는</th>\n      <td>0.693147</td>\n    </tr>\n    <tr>\n      <th>좋아요</th>\n      <td>0.693147</td>\n    </tr>\n  </tbody>\n</table>\n</div>"
     },
     "execution_count": 16,
     "metadata": {},
     "output_type": "execute_result"
    }
   ]
  },
  {
   "cell_type": "code",
   "source": [
    "result = []  # 결과를 저장할 리스트\n",
    "\n",
    "for doc in docs:\n",
    "    result.append([])\n",
    "    for voca in vocas:\n",
    "        result[-1].append(tfidf(voca, doc))  # TF-IDF 값을 결과에 추가\n",
    "\n",
    "tfidf_score = pd.DataFrame(result, columns=vocas)\n"
   ],
   "metadata": {
    "id": "NeRHKtdmDweA",
    "ExecuteTime": {
     "end_time": "2023-10-08T04:49:48.398421Z",
     "start_time": "2023-10-08T04:49:48.376810Z"
    }
   },
   "execution_count": 17,
   "outputs": []
  },
  {
   "cell_type": "code",
   "source": [
    "tfidf_score"
   ],
   "metadata": {
    "colab": {
     "base_uri": "https://localhost:8080/",
     "height": 175
    },
    "id": "HTZ6qFNPD44w",
    "outputId": "813d6e28-6afc-4fa2-d7e0-ce99a62f9b61",
    "ExecuteTime": {
     "end_time": "2023-10-08T04:49:49.277459Z",
     "start_time": "2023-10-08T04:49:49.267943Z"
    }
   },
   "execution_count": 18,
   "outputs": [
    {
     "data": {
      "text/plain": "        과일이        길고        노란        먹고       바나나        사과        싶은  \\\n0  0.000000  0.000000  0.000000  0.287682  0.000000  0.693147  0.287682   \n1  0.000000  0.000000  0.000000  0.287682  0.287682  0.000000  0.287682   \n2  0.000000  0.693147  0.693147  0.000000  0.575364  0.000000  0.000000   \n3  0.693147  0.000000  0.000000  0.000000  0.000000  0.000000  0.000000   \n\n         저는       좋아요  \n0  0.000000  0.000000  \n1  0.000000  0.000000  \n2  0.000000  0.000000  \n3  0.693147  0.693147  ",
      "text/html": "<div>\n<style scoped>\n    .dataframe tbody tr th:only-of-type {\n        vertical-align: middle;\n    }\n\n    .dataframe tbody tr th {\n        vertical-align: top;\n    }\n\n    .dataframe thead th {\n        text-align: right;\n    }\n</style>\n<table border=\"1\" class=\"dataframe\">\n  <thead>\n    <tr style=\"text-align: right;\">\n      <th></th>\n      <th>과일이</th>\n      <th>길고</th>\n      <th>노란</th>\n      <th>먹고</th>\n      <th>바나나</th>\n      <th>사과</th>\n      <th>싶은</th>\n      <th>저는</th>\n      <th>좋아요</th>\n    </tr>\n  </thead>\n  <tbody>\n    <tr>\n      <th>0</th>\n      <td>0.000000</td>\n      <td>0.000000</td>\n      <td>0.000000</td>\n      <td>0.287682</td>\n      <td>0.000000</td>\n      <td>0.693147</td>\n      <td>0.287682</td>\n      <td>0.000000</td>\n      <td>0.000000</td>\n    </tr>\n    <tr>\n      <th>1</th>\n      <td>0.000000</td>\n      <td>0.000000</td>\n      <td>0.000000</td>\n      <td>0.287682</td>\n      <td>0.287682</td>\n      <td>0.000000</td>\n      <td>0.287682</td>\n      <td>0.000000</td>\n      <td>0.000000</td>\n    </tr>\n    <tr>\n      <th>2</th>\n      <td>0.000000</td>\n      <td>0.693147</td>\n      <td>0.693147</td>\n      <td>0.000000</td>\n      <td>0.575364</td>\n      <td>0.000000</td>\n      <td>0.000000</td>\n      <td>0.000000</td>\n      <td>0.000000</td>\n    </tr>\n    <tr>\n      <th>3</th>\n      <td>0.693147</td>\n      <td>0.000000</td>\n      <td>0.000000</td>\n      <td>0.000000</td>\n      <td>0.000000</td>\n      <td>0.000000</td>\n      <td>0.000000</td>\n      <td>0.693147</td>\n      <td>0.693147</td>\n    </tr>\n  </tbody>\n</table>\n</div>"
     },
     "execution_count": 18,
     "metadata": {},
     "output_type": "execute_result"
    }
   ]
  },
  {
   "cell_type": "markdown",
   "source": [
    "# **3. 코사인 유사도(Cosine Similarity)**"
   ],
   "metadata": {
    "id": "FU56jH5sDyzr"
   }
  },
  {
   "cell_type": "code",
   "source": [
    "import numpy as np\n",
    "from numpy import dot\n",
    "from numpy.linalg import norm\n",
    "\n",
    "def cos_sim(A, B):\n",
    "    return dot(A, B) / (norm(A) * norm(B))\n",
    "\n",
    "doc1 = np.array([0,1,1,1])\n",
    "doc2 = np.array([1,0,1,1])\n",
    "doc3 = np.array([2,0,2,2])\n",
    "\n",
    "print('문서1과 문서2의 유사도 :',cos_sim(doc1, doc2))\n",
    "print('문서1과 문서3의 유사도 :',cos_sim(doc1, doc3))\n",
    "print('문서2와 문서3의 유사도 :',cos_sim(doc2, doc3))"
   ],
   "metadata": {
    "colab": {
     "base_uri": "https://localhost:8080/"
    },
    "id": "1TlbNs-0D8S2",
    "outputId": "f19adf01-baba-40c3-a1a7-0cad8c0c4141",
    "ExecuteTime": {
     "end_time": "2023-10-08T04:51:22.005843Z",
     "start_time": "2023-10-08T04:51:21.977232Z"
    }
   },
   "execution_count": 19,
   "outputs": [
    {
     "name": "stdout",
     "output_type": "stream",
     "text": [
      "문서1과 문서2의 유사도 : 0.6666666666666667\n",
      "문서1과 문서3의 유사도 : 0.6666666666666667\n",
      "문서2와 문서3의 유사도 : 1.0000000000000002\n"
     ]
    }
   ]
  },
  {
   "cell_type": "code",
   "source": [
    "# 과일 텍스트 예시의 TF-IDF를 이용한 코사인 유사도 계산\n",
    "doc1 = tfidf_score.iloc[0]\n",
    "doc2 = tfidf_score.iloc[1]\n",
    "doc3 = tfidf_score.iloc[2]\n",
    "doc4 = tfidf_score.iloc[2]\n",
    "\n",
    "print('문서1과 문서2의 유사도 :',cos_sim(doc1, doc2))\n",
    "print('문서1과 문서3의 유사도 :',cos_sim(doc1, doc3))\n",
    "print('문서1과 문서4의 유사도 :',cos_sim(doc1, doc4))"
   ],
   "metadata": {
    "colab": {
     "base_uri": "https://localhost:8080/"
    },
    "id": "rH-A5_uJJWli",
    "outputId": "72493685-0f42-4169-917e-7db529a9c064",
    "ExecuteTime": {
     "end_time": "2023-10-08T04:53:07.298781Z",
     "start_time": "2023-10-08T04:53:07.279308Z"
    }
   },
   "execution_count": 21,
   "outputs": [
    {
     "name": "stdout",
     "output_type": "stream",
     "text": [
      "문서1과 문서2의 유사도 : 0.4133084876261022\n",
      "문서1과 문서3의 유사도 : 0.0\n",
      "문서1과 문서4의 유사도 : 0.0\n"
     ]
    }
   ]
  },
  {
   "cell_type": "code",
   "execution_count": null,
   "outputs": [],
   "source": [],
   "metadata": {
    "collapsed": false
   }
  }
 ]
}
