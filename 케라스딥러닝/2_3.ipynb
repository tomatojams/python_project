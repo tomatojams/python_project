{
 "nbformat": 4,
 "nbformat_minor": 0,
 "metadata": {
  "colab": {
   "name": "2-3.ipynb",
   "provenance": [],
   "authorship_tag": "ABX9TyNN0f/3RiXkaMVagf4kkCIb"
  },
  "kernelspec": {
   "name": "python3",
   "language": "python",
   "display_name": "Python 3 (ipykernel)"
  },
  "accelerator": "GPU"
 },
 "cells": [
  {
   "cell_type": "code",
   "metadata": {
    "id": "bMkktOVx4JMM",
    "executionInfo": {
     "status": "ok",
     "timestamp": 1646072407859,
     "user_tz": -540,
     "elapsed": 250,
     "user": {
      "displayName": "김태영",
      "photoUrl": "https://lh3.googleusercontent.com/a/default-user=s64",
      "userId": "15933429515795148017"
     }
    },
    "ExecuteTime": {
     "end_time": "2023-09-06T20:55:28.648946300Z",
     "start_time": "2023-09-06T20:55:26.617852100Z"
    }
   },
   "source": [
    "from keras.utils import np_utils\n",
    "from keras.datasets import fashion_mnist\n",
    "from keras.models import Sequential\n",
    "from keras.layers import Dense, Activation\n",
    "import numpy as np"
   ],
   "execution_count": 1,
   "outputs": []
  },
  {
   "cell_type": "code",
   "source": [
    "np.random.seed(3)\n",
    "\n",
    "# 1. 데이터셋 준비하기\n",
    "\n",
    "# 훈련셋과 시험셋 로딩\n",
    "(X_train, Y_train), (X_test, Y_test) = fashion_mnist.load_data()\n",
    "\n",
    "X_train = X_train.reshape(60000, 784).astype('float32') / 255.0\n",
    "X_test = X_test.reshape(10000, 784).astype('float32') / 255.0"
   ],
   "metadata": {
    "id": "ChYwMsTUdlba",
    "executionInfo": {
     "status": "ok",
     "timestamp": 1646071026431,
     "user_tz": -540,
     "elapsed": 649,
     "user": {
      "displayName": "김태영",
      "photoUrl": "https://lh3.googleusercontent.com/a/default-user=s64",
      "userId": "15933429515795148017"
     }
    },
    "ExecuteTime": {
     "end_time": "2023-09-06T20:55:29.015717900Z",
     "start_time": "2023-09-06T20:55:28.650949300Z"
    }
   },
   "execution_count": 2,
   "outputs": []
  },
  {
   "cell_type": "code",
   "source": [
    "# 라벨링 전환\n",
    "Y_train = np_utils.to_categorical(Y_train)\n",
    "Y_test = np_utils.to_categorical(Y_test)"
   ],
   "metadata": {
    "id": "Y0t-XKYFd4l-",
    "executionInfo": {
     "status": "ok",
     "timestamp": 1646071026431,
     "user_tz": -540,
     "elapsed": 2,
     "user": {
      "displayName": "김태영",
      "photoUrl": "https://lh3.googleusercontent.com/a/default-user=s64",
      "userId": "15933429515795148017"
     }
    },
    "ExecuteTime": {
     "end_time": "2023-09-06T20:55:30.286903500Z",
     "start_time": "2023-09-06T20:55:30.274361600Z"
    }
   },
   "execution_count": 3,
   "outputs": []
  },
  {
   "cell_type": "code",
   "source": [
    "# 2. 모델 구성하기\n",
    "model = Sequential()\n",
    "model.add(Dense(units=32, input_dim=28*28, activation='relu'))\n",
    "model.add(Dense(units=10, activation='softmax'))"
   ],
   "metadata": {
    "id": "JIlra8HXd_4s",
    "executionInfo": {
     "status": "ok",
     "timestamp": 1646071026432,
     "user_tz": -540,
     "elapsed": 3,
     "user": {
      "displayName": "김태영",
      "photoUrl": "https://lh3.googleusercontent.com/a/default-user=s64",
      "userId": "15933429515795148017"
     }
    },
    "ExecuteTime": {
     "end_time": "2023-09-06T20:55:32.295746100Z",
     "start_time": "2023-09-06T20:55:31.103479800Z"
    }
   },
   "execution_count": 4,
   "outputs": []
  },
  {
   "cell_type": "code",
   "source": [
    "# 3. 모델 엮기\n",
    "model.compile(loss='categorical_crossentropy', optimizer='sgd', metrics=['accuracy'])"
   ],
   "metadata": {
    "id": "RpPF9lLMeBXO",
    "executionInfo": {
     "status": "ok",
     "timestamp": 1646071026432,
     "user_tz": -540,
     "elapsed": 3,
     "user": {
      "displayName": "김태영",
      "photoUrl": "https://lh3.googleusercontent.com/a/default-user=s64",
      "userId": "15933429515795148017"
     }
    },
    "ExecuteTime": {
     "end_time": "2023-09-05T15:08:14.974056100Z",
     "start_time": "2023-09-05T15:08:14.950057800Z"
    }
   },
   "execution_count": 5,
   "outputs": []
  },
  {
   "cell_type": "code",
   "source": [
    "# 4. 모델 학습시키기\n",
    "hist = model.fit(X_train, Y_train, epochs=100, batch_size=32)"
   ],
   "metadata": {
    "colab": {
     "base_uri": "https://localhost:8080/"
    },
    "id": "2TwQxuIZeCyp",
    "executionInfo": {
     "status": "ok",
     "timestamp": 1646071604518,
     "user_tz": -540,
     "elapsed": 578089,
     "user": {
      "displayName": "김태영",
      "photoUrl": "https://lh3.googleusercontent.com/a/default-user=s64",
      "userId": "15933429515795148017"
     }
    },
    "outputId": "41bc4fdf-0364-4000-b410-b5cd22666313",
    "ExecuteTime": {
     "end_time": "2023-09-05T15:12:53.641242200Z",
     "start_time": "2023-09-05T15:08:16.149356200Z"
    }
   },
   "execution_count": 6,
   "outputs": [
    {
     "name": "stdout",
     "output_type": "stream",
     "text": [
      "Epoch 1/100\n",
      "1875/1875 [==============================] - 3s 1ms/step - loss: 0.7912 - accuracy: 0.7437\n",
      "Epoch 2/100\n",
      "1875/1875 [==============================] - 3s 1ms/step - loss: 0.5308 - accuracy: 0.8205\n",
      "Epoch 3/100\n",
      "1875/1875 [==============================] - 3s 1ms/step - loss: 0.4844 - accuracy: 0.8332\n",
      "Epoch 4/100\n",
      "1875/1875 [==============================] - 3s 1ms/step - loss: 0.4593 - accuracy: 0.8414\n",
      "Epoch 5/100\n",
      "1875/1875 [==============================] - 3s 1ms/step - loss: 0.4422 - accuracy: 0.8469\n",
      "Epoch 6/100\n",
      "1875/1875 [==============================] - 3s 1ms/step - loss: 0.4297 - accuracy: 0.8509\n",
      "Epoch 7/100\n",
      "1875/1875 [==============================] - 3s 1ms/step - loss: 0.4187 - accuracy: 0.8553\n",
      "Epoch 8/100\n",
      "1875/1875 [==============================] - 3s 1ms/step - loss: 0.4098 - accuracy: 0.8571\n",
      "Epoch 9/100\n",
      "1875/1875 [==============================] - 3s 1ms/step - loss: 0.4015 - accuracy: 0.8609\n",
      "Epoch 10/100\n",
      "1875/1875 [==============================] - 3s 1ms/step - loss: 0.3942 - accuracy: 0.8621\n",
      "Epoch 11/100\n",
      "1875/1875 [==============================] - 3s 1ms/step - loss: 0.3880 - accuracy: 0.8655\n",
      "Epoch 12/100\n",
      "1875/1875 [==============================] - 3s 1ms/step - loss: 0.3819 - accuracy: 0.8668\n",
      "Epoch 13/100\n",
      "1875/1875 [==============================] - 3s 1ms/step - loss: 0.3763 - accuracy: 0.8686\n",
      "Epoch 14/100\n",
      "1875/1875 [==============================] - 3s 1ms/step - loss: 0.3714 - accuracy: 0.8705\n",
      "Epoch 15/100\n",
      "1875/1875 [==============================] - 3s 1ms/step - loss: 0.3661 - accuracy: 0.8724\n",
      "Epoch 16/100\n",
      "1875/1875 [==============================] - 3s 1ms/step - loss: 0.3616 - accuracy: 0.8737\n",
      "Epoch 17/100\n",
      "1875/1875 [==============================] - 3s 1ms/step - loss: 0.3574 - accuracy: 0.8735\n",
      "Epoch 18/100\n",
      "1875/1875 [==============================] - 3s 1ms/step - loss: 0.3534 - accuracy: 0.8755\n",
      "Epoch 19/100\n",
      "1875/1875 [==============================] - 3s 1ms/step - loss: 0.3503 - accuracy: 0.8766\n",
      "Epoch 20/100\n",
      "1875/1875 [==============================] - 3s 1ms/step - loss: 0.3462 - accuracy: 0.8774\n",
      "Epoch 21/100\n",
      "1875/1875 [==============================] - 3s 1ms/step - loss: 0.3432 - accuracy: 0.8788\n",
      "Epoch 22/100\n",
      "1875/1875 [==============================] - 3s 1ms/step - loss: 0.3385 - accuracy: 0.8796\n",
      "Epoch 23/100\n",
      "1875/1875 [==============================] - 3s 1ms/step - loss: 0.3360 - accuracy: 0.8803\n",
      "Epoch 24/100\n",
      "1875/1875 [==============================] - 3s 1ms/step - loss: 0.3334 - accuracy: 0.8820\n",
      "Epoch 25/100\n",
      "1875/1875 [==============================] - 3s 1ms/step - loss: 0.3302 - accuracy: 0.8838\n",
      "Epoch 26/100\n",
      "1875/1875 [==============================] - 3s 1ms/step - loss: 0.3270 - accuracy: 0.8844\n",
      "Epoch 27/100\n",
      "1875/1875 [==============================] - 3s 1ms/step - loss: 0.3251 - accuracy: 0.8847\n",
      "Epoch 28/100\n",
      "1875/1875 [==============================] - 3s 1ms/step - loss: 0.3223 - accuracy: 0.8857\n",
      "Epoch 29/100\n",
      "1875/1875 [==============================] - 3s 1ms/step - loss: 0.3197 - accuracy: 0.8862\n",
      "Epoch 30/100\n",
      "1875/1875 [==============================] - 2s 1ms/step - loss: 0.3169 - accuracy: 0.8887\n",
      "Epoch 31/100\n",
      "1875/1875 [==============================] - 3s 1ms/step - loss: 0.3153 - accuracy: 0.8884\n",
      "Epoch 32/100\n",
      "1875/1875 [==============================] - 3s 1ms/step - loss: 0.3133 - accuracy: 0.8890\n",
      "Epoch 33/100\n",
      "1875/1875 [==============================] - 3s 1ms/step - loss: 0.3104 - accuracy: 0.8902\n",
      "Epoch 34/100\n",
      "1875/1875 [==============================] - 3s 1ms/step - loss: 0.3090 - accuracy: 0.8901\n",
      "Epoch 35/100\n",
      "1875/1875 [==============================] - 3s 1ms/step - loss: 0.3063 - accuracy: 0.8919\n",
      "Epoch 36/100\n",
      "1875/1875 [==============================] - 3s 1ms/step - loss: 0.3044 - accuracy: 0.8922\n",
      "Epoch 37/100\n",
      "1875/1875 [==============================] - 3s 1ms/step - loss: 0.3025 - accuracy: 0.8926\n",
      "Epoch 38/100\n",
      "1875/1875 [==============================] - 3s 1ms/step - loss: 0.3013 - accuracy: 0.8945\n",
      "Epoch 39/100\n",
      "1875/1875 [==============================] - 3s 1ms/step - loss: 0.2992 - accuracy: 0.8942\n",
      "Epoch 40/100\n",
      "1875/1875 [==============================] - 3s 1ms/step - loss: 0.2971 - accuracy: 0.8945\n",
      "Epoch 41/100\n",
      "1875/1875 [==============================] - 3s 1ms/step - loss: 0.2955 - accuracy: 0.8957\n",
      "Epoch 42/100\n",
      "1875/1875 [==============================] - 3s 1ms/step - loss: 0.2934 - accuracy: 0.8956\n",
      "Epoch 43/100\n",
      "1875/1875 [==============================] - 3s 1ms/step - loss: 0.2916 - accuracy: 0.8969\n",
      "Epoch 44/100\n",
      "1875/1875 [==============================] - 3s 1ms/step - loss: 0.2907 - accuracy: 0.8972\n",
      "Epoch 45/100\n",
      "1875/1875 [==============================] - 3s 1ms/step - loss: 0.2891 - accuracy: 0.8967\n",
      "Epoch 46/100\n",
      "1875/1875 [==============================] - 3s 1ms/step - loss: 0.2870 - accuracy: 0.8974\n",
      "Epoch 47/100\n",
      "1875/1875 [==============================] - 3s 1ms/step - loss: 0.2861 - accuracy: 0.8975\n",
      "Epoch 48/100\n",
      "1875/1875 [==============================] - 3s 1ms/step - loss: 0.2836 - accuracy: 0.8998\n",
      "Epoch 49/100\n",
      "1875/1875 [==============================] - 3s 1ms/step - loss: 0.2825 - accuracy: 0.9004\n",
      "Epoch 50/100\n",
      "1875/1875 [==============================] - 3s 1ms/step - loss: 0.2809 - accuracy: 0.9003\n",
      "Epoch 51/100\n",
      "1875/1875 [==============================] - 3s 1ms/step - loss: 0.2794 - accuracy: 0.9002\n",
      "Epoch 52/100\n",
      "1875/1875 [==============================] - 3s 1ms/step - loss: 0.2779 - accuracy: 0.9017\n",
      "Epoch 53/100\n",
      "1875/1875 [==============================] - 3s 1ms/step - loss: 0.2768 - accuracy: 0.9022\n",
      "Epoch 54/100\n",
      "1875/1875 [==============================] - 3s 1ms/step - loss: 0.2754 - accuracy: 0.9021\n",
      "Epoch 55/100\n",
      "1875/1875 [==============================] - 3s 1ms/step - loss: 0.2742 - accuracy: 0.9025\n",
      "Epoch 56/100\n",
      "1875/1875 [==============================] - 3s 1ms/step - loss: 0.2725 - accuracy: 0.9035\n",
      "Epoch 57/100\n",
      "1875/1875 [==============================] - 3s 1ms/step - loss: 0.2713 - accuracy: 0.9039\n",
      "Epoch 58/100\n",
      "1875/1875 [==============================] - 3s 2ms/step - loss: 0.2711 - accuracy: 0.9035\n",
      "Epoch 59/100\n",
      "1875/1875 [==============================] - 4s 2ms/step - loss: 0.2693 - accuracy: 0.9042\n",
      "Epoch 60/100\n",
      "1875/1875 [==============================] - 3s 2ms/step - loss: 0.2685 - accuracy: 0.9038\n",
      "Epoch 61/100\n",
      "1875/1875 [==============================] - 3s 2ms/step - loss: 0.2671 - accuracy: 0.9059\n",
      "Epoch 62/100\n",
      "1875/1875 [==============================] - 3s 2ms/step - loss: 0.2662 - accuracy: 0.9052\n",
      "Epoch 63/100\n",
      "1875/1875 [==============================] - 3s 2ms/step - loss: 0.2645 - accuracy: 0.9062\n",
      "Epoch 64/100\n",
      "1875/1875 [==============================] - 3s 2ms/step - loss: 0.2632 - accuracy: 0.9067\n",
      "Epoch 65/100\n",
      "1875/1875 [==============================] - 3s 2ms/step - loss: 0.2623 - accuracy: 0.9069\n",
      "Epoch 66/100\n",
      "1875/1875 [==============================] - 3s 2ms/step - loss: 0.2612 - accuracy: 0.9078\n",
      "Epoch 67/100\n",
      "1875/1875 [==============================] - 3s 2ms/step - loss: 0.2607 - accuracy: 0.9079\n",
      "Epoch 68/100\n",
      "1875/1875 [==============================] - 3s 2ms/step - loss: 0.2590 - accuracy: 0.9086\n",
      "Epoch 69/100\n",
      "1875/1875 [==============================] - 3s 2ms/step - loss: 0.2582 - accuracy: 0.9092\n",
      "Epoch 70/100\n",
      "1875/1875 [==============================] - 3s 2ms/step - loss: 0.2571 - accuracy: 0.9090\n",
      "Epoch 71/100\n",
      "1875/1875 [==============================] - 3s 2ms/step - loss: 0.2562 - accuracy: 0.9093\n",
      "Epoch 72/100\n",
      "1875/1875 [==============================] - 3s 2ms/step - loss: 0.2552 - accuracy: 0.9089\n",
      "Epoch 73/100\n",
      "1875/1875 [==============================] - 3s 2ms/step - loss: 0.2545 - accuracy: 0.9097\n",
      "Epoch 74/100\n",
      "1875/1875 [==============================] - 3s 2ms/step - loss: 0.2538 - accuracy: 0.9094\n",
      "Epoch 75/100\n",
      "1875/1875 [==============================] - 3s 1ms/step - loss: 0.2521 - accuracy: 0.9103\n",
      "Epoch 76/100\n",
      "1875/1875 [==============================] - 3s 1ms/step - loss: 0.2512 - accuracy: 0.9107\n",
      "Epoch 77/100\n",
      "1875/1875 [==============================] - 3s 1ms/step - loss: 0.2505 - accuracy: 0.9120\n",
      "Epoch 78/100\n",
      "1875/1875 [==============================] - 3s 1ms/step - loss: 0.2501 - accuracy: 0.9118\n",
      "Epoch 79/100\n",
      "1875/1875 [==============================] - 3s 1ms/step - loss: 0.2485 - accuracy: 0.9119\n",
      "Epoch 80/100\n",
      "1875/1875 [==============================] - 3s 1ms/step - loss: 0.2481 - accuracy: 0.9121\n",
      "Epoch 81/100\n",
      "1875/1875 [==============================] - 3s 1ms/step - loss: 0.2469 - accuracy: 0.9125\n",
      "Epoch 82/100\n",
      "1875/1875 [==============================] - 3s 1ms/step - loss: 0.2458 - accuracy: 0.9122\n",
      "Epoch 83/100\n",
      "1875/1875 [==============================] - 3s 1ms/step - loss: 0.2450 - accuracy: 0.9128\n",
      "Epoch 84/100\n",
      "1875/1875 [==============================] - 3s 1ms/step - loss: 0.2446 - accuracy: 0.9127\n",
      "Epoch 85/100\n",
      "1875/1875 [==============================] - 3s 1ms/step - loss: 0.2435 - accuracy: 0.9136\n",
      "Epoch 86/100\n",
      "1875/1875 [==============================] - 3s 1ms/step - loss: 0.2424 - accuracy: 0.9137\n",
      "Epoch 87/100\n",
      "1875/1875 [==============================] - 3s 1ms/step - loss: 0.2424 - accuracy: 0.9141\n",
      "Epoch 88/100\n",
      "1875/1875 [==============================] - 3s 1ms/step - loss: 0.2416 - accuracy: 0.9140\n",
      "Epoch 89/100\n",
      "1875/1875 [==============================] - 3s 1ms/step - loss: 0.2405 - accuracy: 0.9157\n",
      "Epoch 90/100\n",
      "1875/1875 [==============================] - 3s 1ms/step - loss: 0.2392 - accuracy: 0.9155\n",
      "Epoch 91/100\n",
      "1875/1875 [==============================] - 3s 1ms/step - loss: 0.2384 - accuracy: 0.9155\n",
      "Epoch 92/100\n",
      "1875/1875 [==============================] - 3s 1ms/step - loss: 0.2387 - accuracy: 0.9153\n",
      "Epoch 93/100\n",
      "1875/1875 [==============================] - 3s 1ms/step - loss: 0.2373 - accuracy: 0.9168\n",
      "Epoch 94/100\n",
      "1875/1875 [==============================] - 3s 1ms/step - loss: 0.2370 - accuracy: 0.9162\n",
      "Epoch 95/100\n",
      "1875/1875 [==============================] - 3s 1ms/step - loss: 0.2348 - accuracy: 0.9169\n",
      "Epoch 96/100\n",
      "1875/1875 [==============================] - 3s 1ms/step - loss: 0.2349 - accuracy: 0.9166\n",
      "Epoch 97/100\n",
      "1875/1875 [==============================] - 3s 1ms/step - loss: 0.2340 - accuracy: 0.9171\n",
      "Epoch 98/100\n",
      "1875/1875 [==============================] - 3s 1ms/step - loss: 0.2335 - accuracy: 0.9170\n",
      "Epoch 99/100\n",
      "1875/1875 [==============================] - 3s 1ms/step - loss: 0.2324 - accuracy: 0.9173\n",
      "Epoch 100/100\n",
      "1875/1875 [==============================] - 3s 1ms/step - loss: 0.2323 - accuracy: 0.9173\n"
     ]
    }
   ]
  },
  {
   "cell_type": "code",
   "source": [
    "# 5. 모델 학습 과정 표시하기\n",
    "%matplotlib inline\n",
    "import matplotlib.pyplot as plt\n",
    "\n",
    "fig, loss_ax = plt.subplots()\n",
    "\n",
    "acc_ax = loss_ax.twinx()\n",
    "\n",
    "loss_ax.plot(hist.history['loss'], 'y', label='train loss')\n",
    "acc_ax.plot(hist.history['accuracy'], 'b', label='train acc')\n",
    "\n",
    "loss_ax.set_xlabel('epoch')\n",
    "loss_ax.set_ylabel('loss')\n",
    "acc_ax.set_ylabel('accuray')\n",
    "\n",
    "loss_ax.legend(loc='upper left')\n",
    "acc_ax.legend(loc='lower left')\n",
    "\n",
    "plt.show()"
   ],
   "metadata": {
    "colab": {
     "base_uri": "https://localhost:8080/",
     "height": 279
    },
    "id": "UUhMjN6beFLN",
    "executionInfo": {
     "status": "ok",
     "timestamp": 1646071604967,
     "user_tz": -540,
     "elapsed": 455,
     "user": {
      "displayName": "김태영",
      "photoUrl": "https://lh3.googleusercontent.com/a/default-user=s64",
      "userId": "15933429515795148017"
     }
    },
    "outputId": "a52c5d1b-2e0a-4f29-b39c-6658584a00ca",
    "ExecuteTime": {
     "end_time": "2023-09-05T15:13:05.570512400Z",
     "start_time": "2023-09-05T15:13:04.792263500Z"
    }
   },
   "execution_count": 7,
   "outputs": [
    {
     "data": {
      "text/plain": "<Figure size 640x480 with 2 Axes>",
      "image/png": "[encoded data removed]"
     },
     "metadata": {},
     "output_type": "display_data"
    }
   ]
  },
  {
   "cell_type": "code",
   "metadata": {
    "id": "0CTMBuWx4MDd",
    "executionInfo": {
     "status": "ok",
     "timestamp": 1646074449226,
     "user_tz": -540,
     "elapsed": 890,
     "user": {
      "displayName": "김태영",
      "photoUrl": "https://lh3.googleusercontent.com/a/default-user=s64",
      "userId": "15933429515795148017"
     }
    },
    "ExecuteTime": {
     "end_time": "2023-09-05T15:13:07.753396800Z",
     "start_time": "2023-09-05T15:13:07.448414300Z"
    }
   },
   "source": [
    "np.random.seed(3)\n",
    "\n",
    "# 1. 데이터셋 준비하기\n",
    "\n",
    "# 훈련셋과 시험셋 로딩\n",
    "(X_train, Y_train), (X_test, Y_test) = fashion_mnist.load_data()\n",
    "\n",
    "# 훈련셋과 검증셋 분리\n",
    "X_val = X_train[100:]\n",
    "Y_val = Y_train[100:]\n",
    "X_train = X_train[:100]\n",
    "Y_train = Y_train[:100]\n",
    "\n",
    "X_train = X_train.reshape(100, 784).astype('float32') / 255.0\n",
    "X_val = X_val.reshape(59900, 784).astype('float32') / 255.0\n",
    "X_test = X_test.reshape(10000, 784).astype('float32') / 255.0"
   ],
   "execution_count": 8,
   "outputs": []
  },
  {
   "cell_type": "code",
   "metadata": {
    "id": "_1UnSu1N4MQ8",
    "executionInfo": {
     "status": "ok",
     "timestamp": 1646074449227,
     "user_tz": -540,
     "elapsed": 5,
     "user": {
      "displayName": "김태영",
      "photoUrl": "https://lh3.googleusercontent.com/a/default-user=s64",
      "userId": "15933429515795148017"
     }
    },
    "ExecuteTime": {
     "end_time": "2023-09-05T15:13:08.960468300Z",
     "start_time": "2023-09-05T15:13:08.941474900Z"
    }
   },
   "source": [
    "# 라벨링 전환\n",
    "Y_train = np_utils.to_categorical(Y_train)\n",
    "Y_val = np_utils.to_categorical(Y_val)\n",
    "Y_test = np_utils.to_categorical(Y_test)"
   ],
   "execution_count": 9,
   "outputs": []
  },
  {
   "cell_type": "code",
   "metadata": {
    "id": "u5Ghy98W4MYy",
    "executionInfo": {
     "status": "ok",
     "timestamp": 1646074450103,
     "user_tz": -540,
     "elapsed": 3,
     "user": {
      "displayName": "김태영",
      "photoUrl": "https://lh3.googleusercontent.com/a/default-user=s64",
      "userId": "15933429515795148017"
     }
    },
    "ExecuteTime": {
     "end_time": "2023-09-05T15:13:09.840912500Z",
     "start_time": "2023-09-05T15:13:09.815903700Z"
    }
   },
   "source": [
    "# 2. 모델 구성하기\n",
    "model = Sequential()\n",
    "model.add(Dense(units=32, input_dim=28*28, activation='relu'))\n",
    "model.add(Dense(units=10, activation='softmax'))"
   ],
   "execution_count": 10,
   "outputs": []
  },
  {
   "cell_type": "code",
   "metadata": {
    "id": "FIqBuxs74Mf0",
    "executionInfo": {
     "status": "ok",
     "timestamp": 1646074452418,
     "user_tz": -540,
     "elapsed": 232,
     "user": {
      "displayName": "김태영",
      "photoUrl": "https://lh3.googleusercontent.com/a/default-user=s64",
      "userId": "15933429515795148017"
     }
    },
    "ExecuteTime": {
     "end_time": "2023-09-05T15:13:10.564480900Z",
     "start_time": "2023-09-05T15:13:10.553481500Z"
    }
   },
   "source": [
    "# 3. 모델 엮기\n",
    "model.compile(loss='categorical_crossentropy', optimizer='sgd', metrics=['accuracy'])"
   ],
   "execution_count": 11,
   "outputs": []
  },
  {
   "cell_type": "code",
   "metadata": {
    "id": "rrYBsx1H4Mlq",
    "colab": {
     "base_uri": "https://localhost:8080/"
    },
    "executionInfo": {
     "status": "ok",
     "timestamp": 1646074956024,
     "user_tz": -540,
     "elapsed": 502495,
     "user": {
      "displayName": "김태영",
      "photoUrl": "https://lh3.googleusercontent.com/a/default-user=s64",
      "userId": "15933429515795148017"
     }
    },
    "outputId": "327d5ec2-6b36-4cd9-8fc4-20418a5870e3",
    "ExecuteTime": {
     "end_time": "2023-09-05T15:13:48.650838800Z",
     "start_time": "2023-09-05T15:13:11.376266700Z"
    }
   },
   "source": [
    "# 4. 모델 학습시키기\n",
    "hist = model.fit(X_train, Y_train, epochs=100, batch_size=32, validation_data=(X_val, Y_val))"
   ],
   "execution_count": 12,
   "outputs": [
    {
     "name": "stdout",
     "output_type": "stream",
     "text": [
      "Epoch 1/100\n",
      "4/4 [==============================] - 3s 917ms/step - loss: 2.3714 - accuracy: 0.0500 - val_loss: 2.2625 - val_accuracy: 0.1116\n",
      "Epoch 2/100\n",
      "4/4 [==============================] - 2s 796ms/step - loss: 2.2359 - accuracy: 0.1300 - val_loss: 2.1846 - val_accuracy: 0.1791\n",
      "Epoch 3/100\n",
      "4/4 [==============================] - 2s 794ms/step - loss: 2.1313 - accuracy: 0.2000 - val_loss: 2.1405 - val_accuracy: 0.2620\n",
      "Epoch 4/100\n",
      "4/4 [==============================] - 2s 789ms/step - loss: 2.0624 - accuracy: 0.3100 - val_loss: 2.1008 - val_accuracy: 0.3101\n",
      "Epoch 5/100\n",
      "4/4 [==============================] - 2s 784ms/step - loss: 1.9920 - accuracy: 0.4300 - val_loss: 2.0632 - val_accuracy: 0.3348\n",
      "Epoch 6/100\n",
      "4/4 [==============================] - 2s 803ms/step - loss: 1.9505 - accuracy: 0.4200 - val_loss: 2.0208 - val_accuracy: 0.3563\n",
      "Epoch 7/100\n",
      "4/4 [==============================] - 2s 811ms/step - loss: 1.8960 - accuracy: 0.4500 - val_loss: 2.0002 - val_accuracy: 0.3948\n",
      "Epoch 8/100\n",
      "4/4 [==============================] - 2s 770ms/step - loss: 1.8467 - accuracy: 0.5200 - val_loss: 1.9625 - val_accuracy: 0.4054\n",
      "Epoch 9/100\n",
      "4/4 [==============================] - 2s 753ms/step - loss: 1.7974 - accuracy: 0.5100 - val_loss: 1.9197 - val_accuracy: 0.4346\n",
      "Epoch 10/100\n",
      "4/4 [==============================] - 2s 789ms/step - loss: 1.7590 - accuracy: 0.5600 - val_loss: 1.8908 - val_accuracy: 0.4250\n",
      "Epoch 11/100\n",
      "4/4 [==============================] - 2s 781ms/step - loss: 1.7050 - accuracy: 0.5600 - val_loss: 1.8798 - val_accuracy: 0.4221\n",
      "Epoch 12/100\n",
      "4/4 [==============================] - 2s 774ms/step - loss: 1.6597 - accuracy: 0.5600 - val_loss: 1.8623 - val_accuracy: 0.4191\n",
      "Epoch 13/100\n",
      "4/4 [==============================] - 2s 795ms/step - loss: 1.6228 - accuracy: 0.5300 - val_loss: 1.8330 - val_accuracy: 0.4371\n",
      "Epoch 14/100\n",
      "4/4 [==============================] - 2s 787ms/step - loss: 1.5986 - accuracy: 0.5700 - val_loss: 1.8014 - val_accuracy: 0.4735\n",
      "Epoch 15/100\n",
      "1/4 [======>.......................] - ETA: 0s - loss: 1.4673 - accuracy: 0.6875"
     ]
    },
    {
     "ename": "KeyboardInterrupt",
     "evalue": "",
     "output_type": "error",
     "traceback": [
      "\u001B[1;31m---------------------------------------------------------------------------\u001B[0m",
      "\u001B[1;31mKeyboardInterrupt\u001B[0m                         Traceback (most recent call last)",
      "Cell \u001B[1;32mIn[12], line 2\u001B[0m\n\u001B[0;32m      1\u001B[0m \u001B[38;5;66;03m# 4. 모델 학습시키기\u001B[39;00m\n\u001B[1;32m----> 2\u001B[0m hist \u001B[38;5;241m=\u001B[39m \u001B[43mmodel\u001B[49m\u001B[38;5;241;43m.\u001B[39;49m\u001B[43mfit\u001B[49m\u001B[43m(\u001B[49m\u001B[43mX_train\u001B[49m\u001B[43m,\u001B[49m\u001B[43m \u001B[49m\u001B[43mY_train\u001B[49m\u001B[43m,\u001B[49m\u001B[43m \u001B[49m\u001B[43mepochs\u001B[49m\u001B[38;5;241;43m=\u001B[39;49m\u001B[38;5;241;43m100\u001B[39;49m\u001B[43m,\u001B[49m\u001B[43m \u001B[49m\u001B[43mbatch_size\u001B[49m\u001B[38;5;241;43m=\u001B[39;49m\u001B[38;5;241;43m32\u001B[39;49m\u001B[43m,\u001B[49m\u001B[43m \u001B[49m\u001B[43mvalidation_data\u001B[49m\u001B[38;5;241;43m=\u001B[39;49m\u001B[43m(\u001B[49m\u001B[43mX_val\u001B[49m\u001B[43m,\u001B[49m\u001B[43m \u001B[49m\u001B[43mY_val\u001B[49m\u001B[43m)\u001B[49m\u001B[43m)\u001B[49m\n",
      "File \u001B[1;32m~\\.conda\\envs\\tensor2\\lib\\site-packages\\keras\\utils\\traceback_utils.py:65\u001B[0m, in \u001B[0;36mfilter_traceback.<locals>.error_handler\u001B[1;34m(*args, **kwargs)\u001B[0m\n\u001B[0;32m     63\u001B[0m filtered_tb \u001B[38;5;241m=\u001B[39m \u001B[38;5;28;01mNone\u001B[39;00m\n\u001B[0;32m     64\u001B[0m \u001B[38;5;28;01mtry\u001B[39;00m:\n\u001B[1;32m---> 65\u001B[0m     \u001B[38;5;28;01mreturn\u001B[39;00m fn(\u001B[38;5;241m*\u001B[39margs, \u001B[38;5;241m*\u001B[39m\u001B[38;5;241m*\u001B[39mkwargs)\n\u001B[0;32m     66\u001B[0m \u001B[38;5;28;01mexcept\u001B[39;00m \u001B[38;5;167;01mException\u001B[39;00m \u001B[38;5;28;01mas\u001B[39;00m e:\n\u001B[0;32m     67\u001B[0m     filtered_tb \u001B[38;5;241m=\u001B[39m _process_traceback_frames(e\u001B[38;5;241m.\u001B[39m__traceback__)\n",
      "File \u001B[1;32m~\\.conda\\envs\\tensor2\\lib\\site-packages\\keras\\engine\\training.py:1606\u001B[0m, in \u001B[0;36mModel.fit\u001B[1;34m(self, x, y, batch_size, epochs, verbose, callbacks, validation_split, validation_data, shuffle, class_weight, sample_weight, initial_epoch, steps_per_epoch, validation_steps, validation_batch_size, validation_freq, max_queue_size, workers, use_multiprocessing)\u001B[0m\n\u001B[0;32m   1591\u001B[0m \u001B[38;5;28;01mif\u001B[39;00m \u001B[38;5;28mgetattr\u001B[39m(\u001B[38;5;28mself\u001B[39m, \u001B[38;5;124m\"\u001B[39m\u001B[38;5;124m_eval_data_handler\u001B[39m\u001B[38;5;124m\"\u001B[39m, \u001B[38;5;28;01mNone\u001B[39;00m) \u001B[38;5;129;01mis\u001B[39;00m \u001B[38;5;28;01mNone\u001B[39;00m:\n\u001B[0;32m   1592\u001B[0m     \u001B[38;5;28mself\u001B[39m\u001B[38;5;241m.\u001B[39m_eval_data_handler \u001B[38;5;241m=\u001B[39m data_adapter\u001B[38;5;241m.\u001B[39mget_data_handler(\n\u001B[0;32m   1593\u001B[0m         x\u001B[38;5;241m=\u001B[39mval_x,\n\u001B[0;32m   1594\u001B[0m         y\u001B[38;5;241m=\u001B[39mval_y,\n\u001B[1;32m   (...)\u001B[0m\n\u001B[0;32m   1604\u001B[0m         steps_per_execution\u001B[38;5;241m=\u001B[39m\u001B[38;5;28mself\u001B[39m\u001B[38;5;241m.\u001B[39m_steps_per_execution,\n\u001B[0;32m   1605\u001B[0m     )\n\u001B[1;32m-> 1606\u001B[0m val_logs \u001B[38;5;241m=\u001B[39m \u001B[38;5;28;43mself\u001B[39;49m\u001B[38;5;241;43m.\u001B[39;49m\u001B[43mevaluate\u001B[49m\u001B[43m(\u001B[49m\n\u001B[0;32m   1607\u001B[0m \u001B[43m    \u001B[49m\u001B[43mx\u001B[49m\u001B[38;5;241;43m=\u001B[39;49m\u001B[43mval_x\u001B[49m\u001B[43m,\u001B[49m\n\u001B[0;32m   1608\u001B[0m \u001B[43m    \u001B[49m\u001B[43my\u001B[49m\u001B[38;5;241;43m=\u001B[39;49m\u001B[43mval_y\u001B[49m\u001B[43m,\u001B[49m\n\u001B[0;32m   1609\u001B[0m \u001B[43m    \u001B[49m\u001B[43msample_weight\u001B[49m\u001B[38;5;241;43m=\u001B[39;49m\u001B[43mval_sample_weight\u001B[49m\u001B[43m,\u001B[49m\n\u001B[0;32m   1610\u001B[0m \u001B[43m    \u001B[49m\u001B[43mbatch_size\u001B[49m\u001B[38;5;241;43m=\u001B[39;49m\u001B[43mvalidation_batch_size\u001B[49m\u001B[43m \u001B[49m\u001B[38;5;129;43;01mor\u001B[39;49;00m\u001B[43m \u001B[49m\u001B[43mbatch_size\u001B[49m\u001B[43m,\u001B[49m\n\u001B[0;32m   1611\u001B[0m \u001B[43m    \u001B[49m\u001B[43msteps\u001B[49m\u001B[38;5;241;43m=\u001B[39;49m\u001B[43mvalidation_steps\u001B[49m\u001B[43m,\u001B[49m\n\u001B[0;32m   1612\u001B[0m \u001B[43m    \u001B[49m\u001B[43mcallbacks\u001B[49m\u001B[38;5;241;43m=\u001B[39;49m\u001B[43mcallbacks\u001B[49m\u001B[43m,\u001B[49m\n\u001B[0;32m   1613\u001B[0m \u001B[43m    \u001B[49m\u001B[43mmax_queue_size\u001B[49m\u001B[38;5;241;43m=\u001B[39;49m\u001B[43mmax_queue_size\u001B[49m\u001B[43m,\u001B[49m\n\u001B[0;32m   1614\u001B[0m \u001B[43m    \u001B[49m\u001B[43mworkers\u001B[49m\u001B[38;5;241;43m=\u001B[39;49m\u001B[43mworkers\u001B[49m\u001B[43m,\u001B[49m\n\u001B[0;32m   1615\u001B[0m \u001B[43m    \u001B[49m\u001B[43muse_multiprocessing\u001B[49m\u001B[38;5;241;43m=\u001B[39;49m\u001B[43muse_multiprocessing\u001B[49m\u001B[43m,\u001B[49m\n\u001B[0;32m   1616\u001B[0m \u001B[43m    \u001B[49m\u001B[43mreturn_dict\u001B[49m\u001B[38;5;241;43m=\u001B[39;49m\u001B[38;5;28;43;01mTrue\u001B[39;49;00m\u001B[43m,\u001B[49m\n\u001B[0;32m   1617\u001B[0m \u001B[43m    \u001B[49m\u001B[43m_use_cached_eval_dataset\u001B[49m\u001B[38;5;241;43m=\u001B[39;49m\u001B[38;5;28;43;01mTrue\u001B[39;49;00m\u001B[43m,\u001B[49m\n\u001B[0;32m   1618\u001B[0m \u001B[43m\u001B[49m\u001B[43m)\u001B[49m\n\u001B[0;32m   1619\u001B[0m val_logs \u001B[38;5;241m=\u001B[39m {\n\u001B[0;32m   1620\u001B[0m     \u001B[38;5;124m\"\u001B[39m\u001B[38;5;124mval_\u001B[39m\u001B[38;5;124m\"\u001B[39m \u001B[38;5;241m+\u001B[39m name: val \u001B[38;5;28;01mfor\u001B[39;00m name, val \u001B[38;5;129;01min\u001B[39;00m val_logs\u001B[38;5;241m.\u001B[39mitems()\n\u001B[0;32m   1621\u001B[0m }\n\u001B[0;32m   1622\u001B[0m epoch_logs\u001B[38;5;241m.\u001B[39mupdate(val_logs)\n",
      "File \u001B[1;32m~\\.conda\\envs\\tensor2\\lib\\site-packages\\keras\\utils\\traceback_utils.py:65\u001B[0m, in \u001B[0;36mfilter_traceback.<locals>.error_handler\u001B[1;34m(*args, **kwargs)\u001B[0m\n\u001B[0;32m     63\u001B[0m filtered_tb \u001B[38;5;241m=\u001B[39m \u001B[38;5;28;01mNone\u001B[39;00m\n\u001B[0;32m     64\u001B[0m \u001B[38;5;28;01mtry\u001B[39;00m:\n\u001B[1;32m---> 65\u001B[0m     \u001B[38;5;28;01mreturn\u001B[39;00m fn(\u001B[38;5;241m*\u001B[39margs, \u001B[38;5;241m*\u001B[39m\u001B[38;5;241m*\u001B[39mkwargs)\n\u001B[0;32m     66\u001B[0m \u001B[38;5;28;01mexcept\u001B[39;00m \u001B[38;5;167;01mException\u001B[39;00m \u001B[38;5;28;01mas\u001B[39;00m e:\n\u001B[0;32m     67\u001B[0m     filtered_tb \u001B[38;5;241m=\u001B[39m _process_traceback_frames(e\u001B[38;5;241m.\u001B[39m__traceback__)\n",
      "File \u001B[1;32m~\\.conda\\envs\\tensor2\\lib\\site-packages\\keras\\engine\\training.py:1947\u001B[0m, in \u001B[0;36mModel.evaluate\u001B[1;34m(self, x, y, batch_size, verbose, sample_weight, steps, callbacks, max_queue_size, workers, use_multiprocessing, return_dict, **kwargs)\u001B[0m\n\u001B[0;32m   1943\u001B[0m \u001B[38;5;28;01mwith\u001B[39;00m tf\u001B[38;5;241m.\u001B[39mprofiler\u001B[38;5;241m.\u001B[39mexperimental\u001B[38;5;241m.\u001B[39mTrace(\n\u001B[0;32m   1944\u001B[0m     \u001B[38;5;124m\"\u001B[39m\u001B[38;5;124mtest\u001B[39m\u001B[38;5;124m\"\u001B[39m, step_num\u001B[38;5;241m=\u001B[39mstep, _r\u001B[38;5;241m=\u001B[39m\u001B[38;5;241m1\u001B[39m\n\u001B[0;32m   1945\u001B[0m ):\n\u001B[0;32m   1946\u001B[0m     callbacks\u001B[38;5;241m.\u001B[39mon_test_batch_begin(step)\n\u001B[1;32m-> 1947\u001B[0m     tmp_logs \u001B[38;5;241m=\u001B[39m \u001B[38;5;28;43mself\u001B[39;49m\u001B[38;5;241;43m.\u001B[39;49m\u001B[43mtest_function\u001B[49m\u001B[43m(\u001B[49m\u001B[43miterator\u001B[49m\u001B[43m)\u001B[49m\n\u001B[0;32m   1948\u001B[0m     \u001B[38;5;28;01mif\u001B[39;00m data_handler\u001B[38;5;241m.\u001B[39mshould_sync:\n\u001B[0;32m   1949\u001B[0m         context\u001B[38;5;241m.\u001B[39masync_wait()\n",
      "File \u001B[1;32m~\\.conda\\envs\\tensor2\\lib\\site-packages\\tensorflow\\python\\util\\traceback_utils.py:150\u001B[0m, in \u001B[0;36mfilter_traceback.<locals>.error_handler\u001B[1;34m(*args, **kwargs)\u001B[0m\n\u001B[0;32m    148\u001B[0m filtered_tb \u001B[38;5;241m=\u001B[39m \u001B[38;5;28;01mNone\u001B[39;00m\n\u001B[0;32m    149\u001B[0m \u001B[38;5;28;01mtry\u001B[39;00m:\n\u001B[1;32m--> 150\u001B[0m   \u001B[38;5;28;01mreturn\u001B[39;00m fn(\u001B[38;5;241m*\u001B[39margs, \u001B[38;5;241m*\u001B[39m\u001B[38;5;241m*\u001B[39mkwargs)\n\u001B[0;32m    151\u001B[0m \u001B[38;5;28;01mexcept\u001B[39;00m \u001B[38;5;167;01mException\u001B[39;00m \u001B[38;5;28;01mas\u001B[39;00m e:\n\u001B[0;32m    152\u001B[0m   filtered_tb \u001B[38;5;241m=\u001B[39m _process_traceback_frames(e\u001B[38;5;241m.\u001B[39m__traceback__)\n",
      "File \u001B[1;32m~\\.conda\\envs\\tensor2\\lib\\site-packages\\tensorflow\\python\\eager\\def_function.py:915\u001B[0m, in \u001B[0;36mFunction.__call__\u001B[1;34m(self, *args, **kwds)\u001B[0m\n\u001B[0;32m    912\u001B[0m compiler \u001B[38;5;241m=\u001B[39m \u001B[38;5;124m\"\u001B[39m\u001B[38;5;124mxla\u001B[39m\u001B[38;5;124m\"\u001B[39m \u001B[38;5;28;01mif\u001B[39;00m \u001B[38;5;28mself\u001B[39m\u001B[38;5;241m.\u001B[39m_jit_compile \u001B[38;5;28;01melse\u001B[39;00m \u001B[38;5;124m\"\u001B[39m\u001B[38;5;124mnonXla\u001B[39m\u001B[38;5;124m\"\u001B[39m\n\u001B[0;32m    914\u001B[0m \u001B[38;5;28;01mwith\u001B[39;00m OptionalXlaContext(\u001B[38;5;28mself\u001B[39m\u001B[38;5;241m.\u001B[39m_jit_compile):\n\u001B[1;32m--> 915\u001B[0m   result \u001B[38;5;241m=\u001B[39m \u001B[38;5;28mself\u001B[39m\u001B[38;5;241m.\u001B[39m_call(\u001B[38;5;241m*\u001B[39margs, \u001B[38;5;241m*\u001B[39m\u001B[38;5;241m*\u001B[39mkwds)\n\u001B[0;32m    917\u001B[0m new_tracing_count \u001B[38;5;241m=\u001B[39m \u001B[38;5;28mself\u001B[39m\u001B[38;5;241m.\u001B[39mexperimental_get_tracing_count()\n\u001B[0;32m    918\u001B[0m without_tracing \u001B[38;5;241m=\u001B[39m (tracing_count \u001B[38;5;241m==\u001B[39m new_tracing_count)\n",
      "File \u001B[1;32m~\\.conda\\envs\\tensor2\\lib\\site-packages\\tensorflow\\python\\eager\\def_function.py:954\u001B[0m, in \u001B[0;36mFunction._call\u001B[1;34m(self, *args, **kwds)\u001B[0m\n\u001B[0;32m    951\u001B[0m \u001B[38;5;28mself\u001B[39m\u001B[38;5;241m.\u001B[39m_lock\u001B[38;5;241m.\u001B[39mrelease()\n\u001B[0;32m    952\u001B[0m \u001B[38;5;66;03m# In this case we have not created variables on the first call. So we can\u001B[39;00m\n\u001B[0;32m    953\u001B[0m \u001B[38;5;66;03m# run the first trace but we should fail if variables are created.\u001B[39;00m\n\u001B[1;32m--> 954\u001B[0m results \u001B[38;5;241m=\u001B[39m \u001B[38;5;28mself\u001B[39m\u001B[38;5;241m.\u001B[39m_stateful_fn(\u001B[38;5;241m*\u001B[39margs, \u001B[38;5;241m*\u001B[39m\u001B[38;5;241m*\u001B[39mkwds)\n\u001B[0;32m    955\u001B[0m \u001B[38;5;28;01mif\u001B[39;00m \u001B[38;5;28mself\u001B[39m\u001B[38;5;241m.\u001B[39m_created_variables \u001B[38;5;129;01mand\u001B[39;00m \u001B[38;5;129;01mnot\u001B[39;00m ALLOW_DYNAMIC_VARIABLE_CREATION:\n\u001B[0;32m    956\u001B[0m   \u001B[38;5;28;01mraise\u001B[39;00m \u001B[38;5;167;01mValueError\u001B[39;00m(\u001B[38;5;124m\"\u001B[39m\u001B[38;5;124mCreating variables on a non-first call to a function\u001B[39m\u001B[38;5;124m\"\u001B[39m\n\u001B[0;32m    957\u001B[0m                    \u001B[38;5;124m\"\u001B[39m\u001B[38;5;124m decorated with tf.function.\u001B[39m\u001B[38;5;124m\"\u001B[39m)\n",
      "File \u001B[1;32m~\\.conda\\envs\\tensor2\\lib\\site-packages\\tensorflow\\python\\eager\\function.py:2496\u001B[0m, in \u001B[0;36mFunction.__call__\u001B[1;34m(self, *args, **kwargs)\u001B[0m\n\u001B[0;32m   2493\u001B[0m \u001B[38;5;28;01mwith\u001B[39;00m \u001B[38;5;28mself\u001B[39m\u001B[38;5;241m.\u001B[39m_lock:\n\u001B[0;32m   2494\u001B[0m   (graph_function,\n\u001B[0;32m   2495\u001B[0m    filtered_flat_args) \u001B[38;5;241m=\u001B[39m \u001B[38;5;28mself\u001B[39m\u001B[38;5;241m.\u001B[39m_maybe_define_function(args, kwargs)\n\u001B[1;32m-> 2496\u001B[0m \u001B[38;5;28;01mreturn\u001B[39;00m \u001B[43mgraph_function\u001B[49m\u001B[38;5;241;43m.\u001B[39;49m\u001B[43m_call_flat\u001B[49m\u001B[43m(\u001B[49m\n\u001B[0;32m   2497\u001B[0m \u001B[43m    \u001B[49m\u001B[43mfiltered_flat_args\u001B[49m\u001B[43m,\u001B[49m\u001B[43m \u001B[49m\u001B[43mcaptured_inputs\u001B[49m\u001B[38;5;241;43m=\u001B[39;49m\u001B[43mgraph_function\u001B[49m\u001B[38;5;241;43m.\u001B[39;49m\u001B[43mcaptured_inputs\u001B[49m\u001B[43m)\u001B[49m\n",
      "File \u001B[1;32m~\\.conda\\envs\\tensor2\\lib\\site-packages\\tensorflow\\python\\eager\\function.py:1862\u001B[0m, in \u001B[0;36mConcreteFunction._call_flat\u001B[1;34m(self, args, captured_inputs, cancellation_manager)\u001B[0m\n\u001B[0;32m   1858\u001B[0m possible_gradient_type \u001B[38;5;241m=\u001B[39m gradients_util\u001B[38;5;241m.\u001B[39mPossibleTapeGradientTypes(args)\n\u001B[0;32m   1859\u001B[0m \u001B[38;5;28;01mif\u001B[39;00m (possible_gradient_type \u001B[38;5;241m==\u001B[39m gradients_util\u001B[38;5;241m.\u001B[39mPOSSIBLE_GRADIENT_TYPES_NONE\n\u001B[0;32m   1860\u001B[0m     \u001B[38;5;129;01mand\u001B[39;00m executing_eagerly):\n\u001B[0;32m   1861\u001B[0m   \u001B[38;5;66;03m# No tape is watching; skip to running the function.\u001B[39;00m\n\u001B[1;32m-> 1862\u001B[0m   \u001B[38;5;28;01mreturn\u001B[39;00m \u001B[38;5;28mself\u001B[39m\u001B[38;5;241m.\u001B[39m_build_call_outputs(\u001B[38;5;28;43mself\u001B[39;49m\u001B[38;5;241;43m.\u001B[39;49m\u001B[43m_inference_function\u001B[49m\u001B[38;5;241;43m.\u001B[39;49m\u001B[43mcall\u001B[49m\u001B[43m(\u001B[49m\n\u001B[0;32m   1863\u001B[0m \u001B[43m      \u001B[49m\u001B[43mctx\u001B[49m\u001B[43m,\u001B[49m\u001B[43m \u001B[49m\u001B[43margs\u001B[49m\u001B[43m,\u001B[49m\u001B[43m \u001B[49m\u001B[43mcancellation_manager\u001B[49m\u001B[38;5;241;43m=\u001B[39;49m\u001B[43mcancellation_manager\u001B[49m\u001B[43m)\u001B[49m)\n\u001B[0;32m   1864\u001B[0m forward_backward \u001B[38;5;241m=\u001B[39m \u001B[38;5;28mself\u001B[39m\u001B[38;5;241m.\u001B[39m_select_forward_and_backward_functions(\n\u001B[0;32m   1865\u001B[0m     args,\n\u001B[0;32m   1866\u001B[0m     possible_gradient_type,\n\u001B[0;32m   1867\u001B[0m     executing_eagerly)\n\u001B[0;32m   1868\u001B[0m forward_function, args_with_tangents \u001B[38;5;241m=\u001B[39m forward_backward\u001B[38;5;241m.\u001B[39mforward()\n",
      "File \u001B[1;32m~\\.conda\\envs\\tensor2\\lib\\site-packages\\tensorflow\\python\\eager\\function.py:499\u001B[0m, in \u001B[0;36m_EagerDefinedFunction.call\u001B[1;34m(self, ctx, args, cancellation_manager)\u001B[0m\n\u001B[0;32m    497\u001B[0m \u001B[38;5;28;01mwith\u001B[39;00m _InterpolateFunctionError(\u001B[38;5;28mself\u001B[39m):\n\u001B[0;32m    498\u001B[0m   \u001B[38;5;28;01mif\u001B[39;00m cancellation_manager \u001B[38;5;129;01mis\u001B[39;00m \u001B[38;5;28;01mNone\u001B[39;00m:\n\u001B[1;32m--> 499\u001B[0m     outputs \u001B[38;5;241m=\u001B[39m \u001B[43mexecute\u001B[49m\u001B[38;5;241;43m.\u001B[39;49m\u001B[43mexecute\u001B[49m\u001B[43m(\u001B[49m\n\u001B[0;32m    500\u001B[0m \u001B[43m        \u001B[49m\u001B[38;5;28;43mstr\u001B[39;49m\u001B[43m(\u001B[49m\u001B[38;5;28;43mself\u001B[39;49m\u001B[38;5;241;43m.\u001B[39;49m\u001B[43msignature\u001B[49m\u001B[38;5;241;43m.\u001B[39;49m\u001B[43mname\u001B[49m\u001B[43m)\u001B[49m\u001B[43m,\u001B[49m\n\u001B[0;32m    501\u001B[0m \u001B[43m        \u001B[49m\u001B[43mnum_outputs\u001B[49m\u001B[38;5;241;43m=\u001B[39;49m\u001B[38;5;28;43mself\u001B[39;49m\u001B[38;5;241;43m.\u001B[39;49m\u001B[43m_num_outputs\u001B[49m\u001B[43m,\u001B[49m\n\u001B[0;32m    502\u001B[0m \u001B[43m        \u001B[49m\u001B[43minputs\u001B[49m\u001B[38;5;241;43m=\u001B[39;49m\u001B[43margs\u001B[49m\u001B[43m,\u001B[49m\n\u001B[0;32m    503\u001B[0m \u001B[43m        \u001B[49m\u001B[43mattrs\u001B[49m\u001B[38;5;241;43m=\u001B[39;49m\u001B[43mattrs\u001B[49m\u001B[43m,\u001B[49m\n\u001B[0;32m    504\u001B[0m \u001B[43m        \u001B[49m\u001B[43mctx\u001B[49m\u001B[38;5;241;43m=\u001B[39;49m\u001B[43mctx\u001B[49m\u001B[43m)\u001B[49m\n\u001B[0;32m    505\u001B[0m   \u001B[38;5;28;01melse\u001B[39;00m:\n\u001B[0;32m    506\u001B[0m     outputs \u001B[38;5;241m=\u001B[39m execute\u001B[38;5;241m.\u001B[39mexecute_with_cancellation(\n\u001B[0;32m    507\u001B[0m         \u001B[38;5;28mstr\u001B[39m(\u001B[38;5;28mself\u001B[39m\u001B[38;5;241m.\u001B[39msignature\u001B[38;5;241m.\u001B[39mname),\n\u001B[0;32m    508\u001B[0m         num_outputs\u001B[38;5;241m=\u001B[39m\u001B[38;5;28mself\u001B[39m\u001B[38;5;241m.\u001B[39m_num_outputs,\n\u001B[1;32m   (...)\u001B[0m\n\u001B[0;32m    511\u001B[0m         ctx\u001B[38;5;241m=\u001B[39mctx,\n\u001B[0;32m    512\u001B[0m         cancellation_manager\u001B[38;5;241m=\u001B[39mcancellation_manager)\n",
      "File \u001B[1;32m~\\.conda\\envs\\tensor2\\lib\\site-packages\\tensorflow\\python\\eager\\execute.py:54\u001B[0m, in \u001B[0;36mquick_execute\u001B[1;34m(op_name, num_outputs, inputs, attrs, ctx, name)\u001B[0m\n\u001B[0;32m     52\u001B[0m \u001B[38;5;28;01mtry\u001B[39;00m:\n\u001B[0;32m     53\u001B[0m   ctx\u001B[38;5;241m.\u001B[39mensure_initialized()\n\u001B[1;32m---> 54\u001B[0m   tensors \u001B[38;5;241m=\u001B[39m \u001B[43mpywrap_tfe\u001B[49m\u001B[38;5;241;43m.\u001B[39;49m\u001B[43mTFE_Py_Execute\u001B[49m\u001B[43m(\u001B[49m\u001B[43mctx\u001B[49m\u001B[38;5;241;43m.\u001B[39;49m\u001B[43m_handle\u001B[49m\u001B[43m,\u001B[49m\u001B[43m \u001B[49m\u001B[43mdevice_name\u001B[49m\u001B[43m,\u001B[49m\u001B[43m \u001B[49m\u001B[43mop_name\u001B[49m\u001B[43m,\u001B[49m\n\u001B[0;32m     55\u001B[0m \u001B[43m                                      \u001B[49m\u001B[43minputs\u001B[49m\u001B[43m,\u001B[49m\u001B[43m \u001B[49m\u001B[43mattrs\u001B[49m\u001B[43m,\u001B[49m\u001B[43m \u001B[49m\u001B[43mnum_outputs\u001B[49m\u001B[43m)\u001B[49m\n\u001B[0;32m     56\u001B[0m \u001B[38;5;28;01mexcept\u001B[39;00m core\u001B[38;5;241m.\u001B[39m_NotOkStatusException \u001B[38;5;28;01mas\u001B[39;00m e:\n\u001B[0;32m     57\u001B[0m   \u001B[38;5;28;01mif\u001B[39;00m name \u001B[38;5;129;01mis\u001B[39;00m \u001B[38;5;129;01mnot\u001B[39;00m \u001B[38;5;28;01mNone\u001B[39;00m:\n",
      "\u001B[1;31mKeyboardInterrupt\u001B[0m: "
     ]
    }
   ]
  },
  {
   "cell_type": "code",
   "metadata": {
    "id": "6E_gCaFy4Zhq",
    "colab": {
     "base_uri": "https://localhost:8080/",
     "height": 279
    },
    "executionInfo": {
     "status": "ok",
     "timestamp": 1646074966727,
     "user_tz": -540,
     "elapsed": 734,
     "user": {
      "displayName": "김태영",
      "photoUrl": "https://lh3.googleusercontent.com/a/default-user=s64",
      "userId": "15933429515795148017"
     }
    },
    "outputId": "3ed1ba67-5a73-4d19-c65a-3e6ccc2573f5"
   },
   "source": [
    "# 5. 모델 학습 과정 표시하기\n",
    "%matplotlib inline\n",
    "import matplotlib.pyplot as plt\n",
    "\n",
    "fig, loss_ax = plt.subplots()\n",
    "\n",
    "acc_ax = loss_ax.twinx()\n",
    "\n",
    "loss_ax.plot(hist.history['loss'], 'y', label='train loss')\n",
    "loss_ax.plot(hist.history['val_loss'], 'r', label='val loss')\n",
    "\n",
    "acc_ax.plot(hist.history['accuracy'], 'b', label='train acc')\n",
    "acc_ax.plot(hist.history['val_accuracy'], 'g', label='val acc')\n",
    "\n",
    "loss_ax.set_xlabel('epoch')\n",
    "loss_ax.set_ylabel('loss')\n",
    "acc_ax.set_ylabel('accuray')\n",
    "\n",
    "loss_ax.legend(loc='upper left')\n",
    "acc_ax.legend(loc='lower left')\n",
    "\n",
    "plt.show()"
   ],
   "execution_count": 52,
   "outputs": [
    {
     "output_type": "display_data",
     "data": {
      "image/png": "[encoded data removed]",
      "text/plain": [
       "<Figure size 432x288 with 2 Axes>"
      ]
     },
     "metadata": {
      "needs_background": "light"
     }
    }
   ]
  },
  {
   "cell_type": "code",
   "source": [],
   "metadata": {
    "id": "NSCHWpHamuYf"
   },
   "execution_count": null,
   "outputs": []
  }
 ]
}
