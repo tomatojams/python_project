{
 "nbformat": 4,
 "nbformat_minor": 0,
 "metadata": {
  "colab": {
   "name": "2-3.ipynb",
   "provenance": [],
   "authorship_tag": "ABX9TyNN0f/3RiXkaMVagf4kkCIb"
  },
  "kernelspec": {
   "name": "python3",
   "display_name": "Python 3"
  },
  "accelerator": "GPU"
 },
 "cells": [
  {
   "cell_type": "code",
   "metadata": {
    "id": "bMkktOVx4JMM",
    "executionInfo": {
     "status": "ok",
     "timestamp": 1646072407859,
     "user_tz": -540,
     "elapsed": 250,
     "user": {
      "displayName": "김태영",
      "photoUrl": "https://lh3.googleusercontent.com/a/default-user=s64",
      "userId": "15933429515795148017"
     }
    }
   },
   "source": [
    "from keras.utils import np_utils\n",
    "from keras.datasets import fashion_mnist\n",
    "from keras.models import Sequential\n",
    "from keras.layers import Dense, Activation\n",
    "import numpy as np"
   ],
   "execution_count": 29,
   "outputs": []
  },
  {
   "cell_type": "code",
   "source": [
    "np.random.seed(3)\n",
    "\n",
    "# 1. 데이터셋 준비하기\n",
    "\n",
    "# 훈련셋과 시험셋 로딩\n",
    "(X_train, Y_train), (X_test, Y_test) = fashion_mnist.load_data()\n",
    "\n",
    "X_train = X_train.reshape(60000, 784).astype('float32') / 255.0\n",
    "X_test = X_test.reshape(10000, 784).astype('float32') / 255.0"
   ],
   "metadata": {
    "id": "ChYwMsTUdlba",
    "executionInfo": {
     "status": "ok",
     "timestamp": 1646071026431,
     "user_tz": -540,
     "elapsed": 649,
     "user": {
      "displayName": "김태영",
      "photoUrl": "https://lh3.googleusercontent.com/a/default-user=s64",
      "userId": "15933429515795148017"
     }
    }
   },
   "execution_count": 15,
   "outputs": []
  },
  {
   "cell_type": "code",
   "source": [
    "# 라벨링 전환\n",
    "Y_train = np_utils.to_categorical(Y_train)\n",
    "Y_test = np_utils.to_categorical(Y_test)"
   ],
   "metadata": {
    "id": "Y0t-XKYFd4l-",
    "executionInfo": {
     "status": "ok",
     "timestamp": 1646071026431,
     "user_tz": -540,
     "elapsed": 2,
     "user": {
      "displayName": "김태영",
      "photoUrl": "https://lh3.googleusercontent.com/a/default-user=s64",
      "userId": "15933429515795148017"
     }
    }
   },
   "execution_count": 16,
   "outputs": []
  },
  {
   "cell_type": "code",
   "source": [
    "# 2. 모델 구성하기\n",
    "model = Sequential()\n",
    "model.add(Dense(units=32, input_dim=28*28, activation='relu'))\n",
    "model.add(Dense(units=10, activation='softmax'))"
   ],
   "metadata": {
    "id": "JIlra8HXd_4s",
    "executionInfo": {
     "status": "ok",
     "timestamp": 1646071026432,
     "user_tz": -540,
     "elapsed": 3,
     "user": {
      "displayName": "김태영",
      "photoUrl": "https://lh3.googleusercontent.com/a/default-user=s64",
      "userId": "15933429515795148017"
     }
    }
   },
   "execution_count": 17,
   "outputs": []
  },
  {
   "cell_type": "code",
   "source": [
    "# 3. 모델 엮기\n",
    "model.compile(loss='categorical_crossentropy', optimizer='sgd', metrics=['accuracy'])"
   ],
   "metadata": {
    "id": "RpPF9lLMeBXO",
    "executionInfo": {
     "status": "ok",
     "timestamp": 1646071026432,
     "user_tz": -540,
     "elapsed": 3,
     "user": {
      "displayName": "김태영",
      "photoUrl": "https://lh3.googleusercontent.com/a/default-user=s64",
      "userId": "15933429515795148017"
     }
    }
   },
   "execution_count": 18,
   "outputs": []
  },
  {
   "cell_type": "code",
   "source": [
    "# 4. 모델 학습시키기\n",
    "hist = model.fit(X_train, Y_train, epochs=100, batch_size=32)"
   ],
   "metadata": {
    "colab": {
     "base_uri": "https://localhost:8080/"
    },
    "id": "2TwQxuIZeCyp",
    "executionInfo": {
     "status": "ok",
     "timestamp": 1646071604518,
     "user_tz": -540,
     "elapsed": 578089,
     "user": {
      "displayName": "김태영",
      "photoUrl": "https://lh3.googleusercontent.com/a/default-user=s64",
      "userId": "15933429515795148017"
     }
    },
    "outputId": "41bc4fdf-0364-4000-b410-b5cd22666313"
   },
   "execution_count": 19,
   "outputs": [
    {
     "output_type": "stream",
     "name": "stdout",
     "text": [
      "Epoch 1/100\n",
      "1875/1875 [==============================] - 6s 3ms/step - loss: 0.7101 - accuracy: 0.8102\n",
      "Epoch 2/100\n",
      "1875/1875 [==============================] - 6s 3ms/step - loss: 0.3540 - accuracy: 0.8998\n",
      "Epoch 3/100\n",
      "1875/1875 [==============================] - 6s 3ms/step - loss: 0.3086 - accuracy: 0.9125\n",
      "Epoch 4/100\n",
      "1875/1875 [==============================] - 6s 3ms/step - loss: 0.2833 - accuracy: 0.9202\n",
      "Epoch 5/100\n",
      "1875/1875 [==============================] - 6s 3ms/step - loss: 0.2641 - accuracy: 0.9254\n",
      "Epoch 6/100\n",
      "1875/1875 [==============================] - 6s 3ms/step - loss: 0.2482 - accuracy: 0.9306\n",
      "Epoch 7/100\n",
      "1875/1875 [==============================] - 6s 3ms/step - loss: 0.2350 - accuracy: 0.9343\n",
      "Epoch 8/100\n",
      "1875/1875 [==============================] - 6s 3ms/step - loss: 0.2229 - accuracy: 0.9378\n",
      "Epoch 9/100\n",
      "1875/1875 [==============================] - 6s 3ms/step - loss: 0.2123 - accuracy: 0.9401\n",
      "Epoch 10/100\n",
      "1875/1875 [==============================] - 6s 3ms/step - loss: 0.2025 - accuracy: 0.9435\n",
      "Epoch 11/100\n",
      "1875/1875 [==============================] - 6s 3ms/step - loss: 0.1936 - accuracy: 0.9460\n",
      "Epoch 12/100\n",
      "1875/1875 [==============================] - 6s 3ms/step - loss: 0.1856 - accuracy: 0.9475\n",
      "Epoch 13/100\n",
      "1875/1875 [==============================] - 6s 3ms/step - loss: 0.1784 - accuracy: 0.9500\n",
      "Epoch 14/100\n",
      "1875/1875 [==============================] - 6s 3ms/step - loss: 0.1718 - accuracy: 0.9515\n",
      "Epoch 15/100\n",
      "1875/1875 [==============================] - 6s 3ms/step - loss: 0.1658 - accuracy: 0.9532\n",
      "Epoch 16/100\n",
      "1875/1875 [==============================] - 6s 3ms/step - loss: 0.1602 - accuracy: 0.9550\n",
      "Epoch 17/100\n",
      "1875/1875 [==============================] - 6s 3ms/step - loss: 0.1555 - accuracy: 0.9561\n",
      "Epoch 18/100\n",
      "1875/1875 [==============================] - 6s 3ms/step - loss: 0.1507 - accuracy: 0.9580\n",
      "Epoch 19/100\n",
      "1875/1875 [==============================] - 6s 3ms/step - loss: 0.1464 - accuracy: 0.9588\n",
      "Epoch 20/100\n",
      "1875/1875 [==============================] - 6s 3ms/step - loss: 0.1426 - accuracy: 0.9605\n",
      "Epoch 21/100\n",
      "1875/1875 [==============================] - 6s 3ms/step - loss: 0.1389 - accuracy: 0.9616\n",
      "Epoch 22/100\n",
      "1875/1875 [==============================] - 6s 3ms/step - loss: 0.1358 - accuracy: 0.9624\n",
      "Epoch 23/100\n",
      "1875/1875 [==============================] - 6s 3ms/step - loss: 0.1324 - accuracy: 0.9634\n",
      "Epoch 24/100\n",
      "1875/1875 [==============================] - 6s 3ms/step - loss: 0.1296 - accuracy: 0.9639\n",
      "Epoch 25/100\n",
      "1875/1875 [==============================] - 6s 3ms/step - loss: 0.1267 - accuracy: 0.9649\n",
      "Epoch 26/100\n",
      "1875/1875 [==============================] - 6s 3ms/step - loss: 0.1240 - accuracy: 0.9659\n",
      "Epoch 27/100\n",
      "1875/1875 [==============================] - 6s 3ms/step - loss: 0.1215 - accuracy: 0.9666\n",
      "Epoch 28/100\n",
      "1875/1875 [==============================] - 6s 3ms/step - loss: 0.1191 - accuracy: 0.9669\n",
      "Epoch 29/100\n",
      "1875/1875 [==============================] - 6s 3ms/step - loss: 0.1170 - accuracy: 0.9675\n",
      "Epoch 30/100\n",
      "1875/1875 [==============================] - 6s 3ms/step - loss: 0.1147 - accuracy: 0.9680\n",
      "Epoch 31/100\n",
      "1875/1875 [==============================] - 6s 3ms/step - loss: 0.1126 - accuracy: 0.9686\n",
      "Epoch 32/100\n",
      "1875/1875 [==============================] - 6s 3ms/step - loss: 0.1106 - accuracy: 0.9690\n",
      "Epoch 33/100\n",
      "1875/1875 [==============================] - 6s 3ms/step - loss: 0.1084 - accuracy: 0.9700\n",
      "Epoch 34/100\n",
      "1875/1875 [==============================] - 6s 3ms/step - loss: 0.1070 - accuracy: 0.9701\n",
      "Epoch 35/100\n",
      "1875/1875 [==============================] - 6s 3ms/step - loss: 0.1049 - accuracy: 0.9706\n",
      "Epoch 36/100\n",
      "1875/1875 [==============================] - 6s 3ms/step - loss: 0.1035 - accuracy: 0.9712\n",
      "Epoch 37/100\n",
      "1875/1875 [==============================] - 6s 3ms/step - loss: 0.1018 - accuracy: 0.9718\n",
      "Epoch 38/100\n",
      "1875/1875 [==============================] - 6s 3ms/step - loss: 0.1001 - accuracy: 0.9720\n",
      "Epoch 39/100\n",
      "1875/1875 [==============================] - 6s 3ms/step - loss: 0.0987 - accuracy: 0.9722\n",
      "Epoch 40/100\n",
      "1875/1875 [==============================] - 6s 3ms/step - loss: 0.0972 - accuracy: 0.9732\n",
      "Epoch 41/100\n",
      "1875/1875 [==============================] - 6s 3ms/step - loss: 0.0959 - accuracy: 0.9735\n",
      "Epoch 42/100\n",
      "1875/1875 [==============================] - 6s 3ms/step - loss: 0.0944 - accuracy: 0.9735\n",
      "Epoch 43/100\n",
      "1875/1875 [==============================] - 6s 3ms/step - loss: 0.0931 - accuracy: 0.9741\n",
      "Epoch 44/100\n",
      "1875/1875 [==============================] - 6s 3ms/step - loss: 0.0918 - accuracy: 0.9744\n",
      "Epoch 45/100\n",
      "1875/1875 [==============================] - 6s 3ms/step - loss: 0.0906 - accuracy: 0.9747\n",
      "Epoch 46/100\n",
      "1875/1875 [==============================] - 6s 3ms/step - loss: 0.0895 - accuracy: 0.9753\n",
      "Epoch 47/100\n",
      "1875/1875 [==============================] - 6s 3ms/step - loss: 0.0882 - accuracy: 0.9753\n",
      "Epoch 48/100\n",
      "1875/1875 [==============================] - 6s 3ms/step - loss: 0.0871 - accuracy: 0.9758\n",
      "Epoch 49/100\n",
      "1875/1875 [==============================] - 6s 3ms/step - loss: 0.0858 - accuracy: 0.9761\n",
      "Epoch 50/100\n",
      "1875/1875 [==============================] - 6s 3ms/step - loss: 0.0847 - accuracy: 0.9766\n",
      "Epoch 51/100\n",
      "1875/1875 [==============================] - 6s 3ms/step - loss: 0.0840 - accuracy: 0.9767\n",
      "Epoch 52/100\n",
      "1875/1875 [==============================] - 6s 3ms/step - loss: 0.0829 - accuracy: 0.9774\n",
      "Epoch 53/100\n",
      "1875/1875 [==============================] - 6s 3ms/step - loss: 0.0816 - accuracy: 0.9775\n",
      "Epoch 54/100\n",
      "1875/1875 [==============================] - 6s 3ms/step - loss: 0.0810 - accuracy: 0.9779\n",
      "Epoch 55/100\n",
      "1875/1875 [==============================] - 6s 3ms/step - loss: 0.0800 - accuracy: 0.9778\n",
      "Epoch 56/100\n",
      "1875/1875 [==============================] - 6s 3ms/step - loss: 0.0790 - accuracy: 0.9782\n",
      "Epoch 57/100\n",
      "1875/1875 [==============================] - 6s 3ms/step - loss: 0.0782 - accuracy: 0.9784\n",
      "Epoch 58/100\n",
      "1875/1875 [==============================] - 6s 3ms/step - loss: 0.0774 - accuracy: 0.9784\n",
      "Epoch 59/100\n",
      "1875/1875 [==============================] - 6s 3ms/step - loss: 0.0764 - accuracy: 0.9789\n",
      "Epoch 60/100\n",
      "1875/1875 [==============================] - 6s 3ms/step - loss: 0.0756 - accuracy: 0.9791\n",
      "Epoch 61/100\n",
      "1875/1875 [==============================] - 6s 3ms/step - loss: 0.0747 - accuracy: 0.9793\n",
      "Epoch 62/100\n",
      "1875/1875 [==============================] - 6s 3ms/step - loss: 0.0740 - accuracy: 0.9793\n",
      "Epoch 63/100\n",
      "1875/1875 [==============================] - 6s 3ms/step - loss: 0.0731 - accuracy: 0.9799\n",
      "Epoch 64/100\n",
      "1875/1875 [==============================] - 6s 3ms/step - loss: 0.0723 - accuracy: 0.9801\n",
      "Epoch 65/100\n",
      "1875/1875 [==============================] - 6s 3ms/step - loss: 0.0715 - accuracy: 0.9804\n",
      "Epoch 66/100\n",
      "1875/1875 [==============================] - 6s 3ms/step - loss: 0.0708 - accuracy: 0.9806\n",
      "Epoch 67/100\n",
      "1875/1875 [==============================] - 6s 3ms/step - loss: 0.0700 - accuracy: 0.9811\n",
      "Epoch 68/100\n",
      "1875/1875 [==============================] - 6s 3ms/step - loss: 0.0695 - accuracy: 0.9811\n",
      "Epoch 69/100\n",
      "1875/1875 [==============================] - 6s 3ms/step - loss: 0.0685 - accuracy: 0.9814\n",
      "Epoch 70/100\n",
      "1875/1875 [==============================] - 6s 3ms/step - loss: 0.0679 - accuracy: 0.9818\n",
      "Epoch 71/100\n",
      "1875/1875 [==============================] - 6s 3ms/step - loss: 0.0672 - accuracy: 0.9819\n",
      "Epoch 72/100\n",
      "1875/1875 [==============================] - 6s 3ms/step - loss: 0.0666 - accuracy: 0.9821\n",
      "Epoch 73/100\n",
      "1875/1875 [==============================] - 6s 3ms/step - loss: 0.0660 - accuracy: 0.9822\n",
      "Epoch 74/100\n",
      "1875/1875 [==============================] - 6s 3ms/step - loss: 0.0653 - accuracy: 0.9825\n",
      "Epoch 75/100\n",
      "1875/1875 [==============================] - 6s 3ms/step - loss: 0.0647 - accuracy: 0.9829\n",
      "Epoch 76/100\n",
      "1875/1875 [==============================] - 6s 3ms/step - loss: 0.0641 - accuracy: 0.9829\n",
      "Epoch 77/100\n",
      "1875/1875 [==============================] - 6s 3ms/step - loss: 0.0635 - accuracy: 0.9829\n",
      "Epoch 78/100\n",
      "1875/1875 [==============================] - 6s 3ms/step - loss: 0.0627 - accuracy: 0.9832\n",
      "Epoch 79/100\n",
      "1875/1875 [==============================] - 6s 3ms/step - loss: 0.0621 - accuracy: 0.9830\n",
      "Epoch 80/100\n",
      "1875/1875 [==============================] - 6s 3ms/step - loss: 0.0617 - accuracy: 0.9835\n",
      "Epoch 81/100\n",
      "1875/1875 [==============================] - 6s 3ms/step - loss: 0.0611 - accuracy: 0.9837\n",
      "Epoch 82/100\n",
      "1875/1875 [==============================] - 6s 3ms/step - loss: 0.0604 - accuracy: 0.9838\n",
      "Epoch 83/100\n",
      "1875/1875 [==============================] - 6s 3ms/step - loss: 0.0599 - accuracy: 0.9840\n",
      "Epoch 84/100\n",
      "1875/1875 [==============================] - 6s 3ms/step - loss: 0.0592 - accuracy: 0.9842\n",
      "Epoch 85/100\n",
      "1875/1875 [==============================] - 6s 3ms/step - loss: 0.0588 - accuracy: 0.9843\n",
      "Epoch 86/100\n",
      "1875/1875 [==============================] - 6s 3ms/step - loss: 0.0583 - accuracy: 0.9846\n",
      "Epoch 87/100\n",
      "1875/1875 [==============================] - 6s 3ms/step - loss: 0.0577 - accuracy: 0.9846\n",
      "Epoch 88/100\n",
      "1875/1875 [==============================] - 6s 3ms/step - loss: 0.0572 - accuracy: 0.9850\n",
      "Epoch 89/100\n",
      "1875/1875 [==============================] - 6s 3ms/step - loss: 0.0567 - accuracy: 0.9851\n",
      "Epoch 90/100\n",
      "1875/1875 [==============================] - 6s 3ms/step - loss: 0.0561 - accuracy: 0.9851\n",
      "Epoch 91/100\n",
      "1875/1875 [==============================] - 6s 3ms/step - loss: 0.0556 - accuracy: 0.9855\n",
      "Epoch 92/100\n",
      "1875/1875 [==============================] - 6s 3ms/step - loss: 0.0552 - accuracy: 0.9854\n",
      "Epoch 93/100\n",
      "1875/1875 [==============================] - 6s 3ms/step - loss: 0.0548 - accuracy: 0.9854\n",
      "Epoch 94/100\n",
      "1875/1875 [==============================] - 6s 3ms/step - loss: 0.0543 - accuracy: 0.9855\n",
      "Epoch 95/100\n",
      "1875/1875 [==============================] - 6s 3ms/step - loss: 0.0537 - accuracy: 0.9862\n",
      "Epoch 96/100\n",
      "1875/1875 [==============================] - 6s 3ms/step - loss: 0.0534 - accuracy: 0.9858\n",
      "Epoch 97/100\n",
      "1875/1875 [==============================] - 6s 3ms/step - loss: 0.0529 - accuracy: 0.9863\n",
      "Epoch 98/100\n",
      "1875/1875 [==============================] - 6s 3ms/step - loss: 0.0525 - accuracy: 0.9863\n",
      "Epoch 99/100\n",
      "1875/1875 [==============================] - 6s 3ms/step - loss: 0.0520 - accuracy: 0.9863\n",
      "Epoch 100/100\n",
      "1875/1875 [==============================] - 6s 3ms/step - loss: 0.0516 - accuracy: 0.9867\n"
     ]
    }
   ]
  },
  {
   "cell_type": "code",
   "source": [
    "# 5. 모델 학습 과정 표시하기\n",
    "%matplotlib inline\n",
    "import matplotlib.pyplot as plt\n",
    "\n",
    "fig, loss_ax = plt.subplots()\n",
    "\n",
    "acc_ax = loss_ax.twinx()\n",
    "\n",
    "loss_ax.plot(hist.history['loss'], 'y', label='train loss')\n",
    "acc_ax.plot(hist.history['accuracy'], 'b', label='train acc')\n",
    "\n",
    "loss_ax.set_xlabel('epoch')\n",
    "loss_ax.set_ylabel('loss')\n",
    "acc_ax.set_ylabel('accuray')\n",
    "\n",
    "loss_ax.legend(loc='upper left')\n",
    "acc_ax.legend(loc='lower left')\n",
    "\n",
    "plt.show()"
   ],
   "metadata": {
    "colab": {
     "base_uri": "https://localhost:8080/",
     "height": 279
    },
    "id": "UUhMjN6beFLN",
    "executionInfo": {
     "status": "ok",
     "timestamp": 1646071604967,
     "user_tz": -540,
     "elapsed": 455,
     "user": {
      "displayName": "김태영",
      "photoUrl": "https://lh3.googleusercontent.com/a/default-user=s64",
      "userId": "15933429515795148017"
     }
    },
    "outputId": "a52c5d1b-2e0a-4f29-b39c-6658584a00ca"
   },
   "execution_count": 20,
   "outputs": [
    {
     "output_type": "display_data",
     "data": {
      "image/png": "[encoded data removed]",
      "text/plain": [
       "<Figure size 432x288 with 2 Axes>"
      ]
     },
     "metadata": {
      "needs_background": "light"
     }
    }
   ]
  },
  {
   "cell_type": "code",
   "metadata": {
    "id": "0CTMBuWx4MDd",
    "executionInfo": {
     "status": "ok",
     "timestamp": 1646074449226,
     "user_tz": -540,
     "elapsed": 890,
     "user": {
      "displayName": "김태영",
      "photoUrl": "https://lh3.googleusercontent.com/a/default-user=s64",
      "userId": "15933429515795148017"
     }
    }
   },
   "source": [
    "np.random.seed(3)\n",
    "\n",
    "# 1. 데이터셋 준비하기\n",
    "\n",
    "# 훈련셋과 시험셋 로딩\n",
    "(X_train, Y_train), (X_test, Y_test) = fashion_mnist.load_data()\n",
    "\n",
    "# 훈련셋과 검증셋 분리\n",
    "X_val = X_train[100:]\n",
    "Y_val = Y_train[100:]\n",
    "X_train = X_train[:100]\n",
    "Y_train = Y_train[:100]\n",
    "\n",
    "X_train = X_train.reshape(100, 784).astype('float32') / 255.0\n",
    "X_val = X_val.reshape(59900, 784).astype('float32') / 255.0\n",
    "X_test = X_test.reshape(10000, 784).astype('float32') / 255.0"
   ],
   "execution_count": 47,
   "outputs": []
  },
  {
   "cell_type": "code",
   "metadata": {
    "id": "_1UnSu1N4MQ8",
    "executionInfo": {
     "status": "ok",
     "timestamp": 1646074449227,
     "user_tz": -540,
     "elapsed": 5,
     "user": {
      "displayName": "김태영",
      "photoUrl": "https://lh3.googleusercontent.com/a/default-user=s64",
      "userId": "15933429515795148017"
     }
    }
   },
   "source": [
    "# 라벨링 전환\n",
    "Y_train = np_utils.to_categorical(Y_train)\n",
    "Y_val = np_utils.to_categorical(Y_val)\n",
    "Y_test = np_utils.to_categorical(Y_test)"
   ],
   "execution_count": 48,
   "outputs": []
  },
  {
   "cell_type": "code",
   "metadata": {
    "id": "u5Ghy98W4MYy",
    "executionInfo": {
     "status": "ok",
     "timestamp": 1646074450103,
     "user_tz": -540,
     "elapsed": 3,
     "user": {
      "displayName": "김태영",
      "photoUrl": "https://lh3.googleusercontent.com/a/default-user=s64",
      "userId": "15933429515795148017"
     }
    }
   },
   "source": [
    "# 2. 모델 구성하기\n",
    "model = Sequential()\n",
    "model.add(Dense(units=32, input_dim=28*28, activation='relu'))\n",
    "model.add(Dense(units=10, activation='softmax'))"
   ],
   "execution_count": 49,
   "outputs": []
  },
  {
   "cell_type": "code",
   "metadata": {
    "id": "FIqBuxs74Mf0",
    "executionInfo": {
     "status": "ok",
     "timestamp": 1646074452418,
     "user_tz": -540,
     "elapsed": 232,
     "user": {
      "displayName": "김태영",
      "photoUrl": "https://lh3.googleusercontent.com/a/default-user=s64",
      "userId": "15933429515795148017"
     }
    }
   },
   "source": [
    "# 3. 모델 엮기\n",
    "model.compile(loss='categorical_crossentropy', optimizer='sgd', metrics=['accuracy'])"
   ],
   "execution_count": 50,
   "outputs": []
  },
  {
   "cell_type": "code",
   "metadata": {
    "id": "rrYBsx1H4Mlq",
    "colab": {
     "base_uri": "https://localhost:8080/"
    },
    "executionInfo": {
     "status": "ok",
     "timestamp": 1646074956024,
     "user_tz": -540,
     "elapsed": 502495,
     "user": {
      "displayName": "김태영",
      "photoUrl": "https://lh3.googleusercontent.com/a/default-user=s64",
      "userId": "15933429515795148017"
     }
    },
    "outputId": "327d5ec2-6b36-4cd9-8fc4-20418a5870e3"
   },
   "source": [
    "# 4. 모델 학습시키기\n",
    "hist = model.fit(X_train, Y_train, epochs=100, batch_size=32, validation_data=(X_val, Y_val))"
   ],
   "execution_count": 51,
   "outputs": [
    {
     "output_type": "stream",
     "name": "stdout",
     "text": [
      "Epoch 1/100\n",
      "4/4 [==============================] - 5s 2s/step - loss: 2.2639 - accuracy: 0.1900 - val_loss: 2.2593 - val_accuracy: 0.1854\n",
      "Epoch 2/100\n",
      "4/4 [==============================] - 4s 1s/step - loss: 2.1384 - accuracy: 0.2400 - val_loss: 2.1960 - val_accuracy: 0.2346\n",
      "Epoch 3/100\n",
      "4/4 [==============================] - 5s 2s/step - loss: 2.0678 - accuracy: 0.2800 - val_loss: 2.1461 - val_accuracy: 0.2412\n",
      "Epoch 4/100\n",
      "4/4 [==============================] - 5s 2s/step - loss: 1.9847 - accuracy: 0.3600 - val_loss: 2.0757 - val_accuracy: 0.3164\n",
      "Epoch 5/100\n",
      "4/4 [==============================] - 5s 2s/step - loss: 1.9366 - accuracy: 0.4400 - val_loss: 2.0256 - val_accuracy: 0.3515\n",
      "Epoch 6/100\n",
      "4/4 [==============================] - 5s 2s/step - loss: 1.8677 - accuracy: 0.4500 - val_loss: 1.9898 - val_accuracy: 0.3477\n",
      "Epoch 7/100\n",
      "4/4 [==============================] - 4s 1s/step - loss: 1.8061 - accuracy: 0.4400 - val_loss: 1.9515 - val_accuracy: 0.3640\n",
      "Epoch 8/100\n",
      "4/4 [==============================] - 5s 2s/step - loss: 1.7543 - accuracy: 0.5200 - val_loss: 1.9279 - val_accuracy: 0.3474\n",
      "Epoch 9/100\n",
      "4/4 [==============================] - 5s 2s/step - loss: 1.7074 - accuracy: 0.5100 - val_loss: 1.8926 - val_accuracy: 0.3959\n",
      "Epoch 10/100\n",
      "4/4 [==============================] - 5s 2s/step - loss: 1.6612 - accuracy: 0.5600 - val_loss: 1.8584 - val_accuracy: 0.4056\n",
      "Epoch 11/100\n",
      "4/4 [==============================] - 5s 2s/step - loss: 1.6169 - accuracy: 0.5700 - val_loss: 1.8242 - val_accuracy: 0.4311\n",
      "Epoch 12/100\n",
      "4/4 [==============================] - 5s 2s/step - loss: 1.5721 - accuracy: 0.5900 - val_loss: 1.7891 - val_accuracy: 0.4301\n",
      "Epoch 13/100\n",
      "4/4 [==============================] - 5s 2s/step - loss: 1.5311 - accuracy: 0.6100 - val_loss: 1.7805 - val_accuracy: 0.3775\n",
      "Epoch 14/100\n",
      "4/4 [==============================] - 5s 2s/step - loss: 1.4982 - accuracy: 0.5500 - val_loss: 1.7494 - val_accuracy: 0.4222\n",
      "Epoch 15/100\n",
      "4/4 [==============================] - 4s 1s/step - loss: 1.4608 - accuracy: 0.5600 - val_loss: 1.7228 - val_accuracy: 0.4290\n",
      "Epoch 16/100\n",
      "4/4 [==============================] - 4s 1s/step - loss: 1.4304 - accuracy: 0.5700 - val_loss: 1.6905 - val_accuracy: 0.4373\n",
      "Epoch 17/100\n",
      "4/4 [==============================] - 5s 2s/step - loss: 1.3936 - accuracy: 0.6000 - val_loss: 1.6695 - val_accuracy: 0.4591\n",
      "Epoch 18/100\n",
      "4/4 [==============================] - 5s 2s/step - loss: 1.3646 - accuracy: 0.6000 - val_loss: 1.6319 - val_accuracy: 0.4878\n",
      "Epoch 19/100\n",
      "4/4 [==============================] - 5s 2s/step - loss: 1.3343 - accuracy: 0.6400 - val_loss: 1.6145 - val_accuracy: 0.4994\n",
      "Epoch 20/100\n",
      "4/4 [==============================] - 4s 1s/step - loss: 1.2990 - accuracy: 0.7100 - val_loss: 1.6005 - val_accuracy: 0.4765\n",
      "Epoch 21/100\n",
      "4/4 [==============================] - 5s 2s/step - loss: 1.2777 - accuracy: 0.6600 - val_loss: 1.5953 - val_accuracy: 0.4676\n",
      "Epoch 22/100\n",
      "4/4 [==============================] - 4s 1s/step - loss: 1.2595 - accuracy: 0.6600 - val_loss: 1.5565 - val_accuracy: 0.5309\n",
      "Epoch 23/100\n",
      "4/4 [==============================] - 5s 2s/step - loss: 1.2296 - accuracy: 0.7400 - val_loss: 1.5421 - val_accuracy: 0.5335\n",
      "Epoch 24/100\n",
      "4/4 [==============================] - 4s 1s/step - loss: 1.2074 - accuracy: 0.7000 - val_loss: 1.5339 - val_accuracy: 0.5237\n",
      "Epoch 25/100\n",
      "4/4 [==============================] - 5s 2s/step - loss: 1.1866 - accuracy: 0.7500 - val_loss: 1.4855 - val_accuracy: 0.5258\n",
      "Epoch 26/100\n",
      "4/4 [==============================] - 5s 2s/step - loss: 1.1567 - accuracy: 0.7500 - val_loss: 1.4816 - val_accuracy: 0.5106\n",
      "Epoch 27/100\n",
      "4/4 [==============================] - 5s 2s/step - loss: 1.1411 - accuracy: 0.7200 - val_loss: 1.4662 - val_accuracy: 0.5217\n",
      "Epoch 28/100\n",
      "4/4 [==============================] - 4s 1s/step - loss: 1.1168 - accuracy: 0.7300 - val_loss: 1.4342 - val_accuracy: 0.5543\n",
      "Epoch 29/100\n",
      "4/4 [==============================] - 4s 1s/step - loss: 1.1040 - accuracy: 0.7700 - val_loss: 1.4375 - val_accuracy: 0.5147\n",
      "Epoch 30/100\n",
      "4/4 [==============================] - 4s 1s/step - loss: 1.0876 - accuracy: 0.7400 - val_loss: 1.3941 - val_accuracy: 0.5527\n",
      "Epoch 31/100\n",
      "4/4 [==============================] - 4s 1s/step - loss: 1.0713 - accuracy: 0.7700 - val_loss: 1.3867 - val_accuracy: 0.5503\n",
      "Epoch 32/100\n",
      "4/4 [==============================] - 5s 2s/step - loss: 1.0498 - accuracy: 0.7600 - val_loss: 1.3858 - val_accuracy: 0.5439\n",
      "Epoch 33/100\n",
      "4/4 [==============================] - 5s 2s/step - loss: 1.0245 - accuracy: 0.7900 - val_loss: 1.3676 - val_accuracy: 0.5646\n",
      "Epoch 34/100\n",
      "4/4 [==============================] - 5s 2s/step - loss: 1.0041 - accuracy: 0.8200 - val_loss: 1.3710 - val_accuracy: 0.5590\n",
      "Epoch 35/100\n",
      "4/4 [==============================] - 5s 2s/step - loss: 1.0049 - accuracy: 0.7800 - val_loss: 1.3404 - val_accuracy: 0.5728\n",
      "Epoch 36/100\n",
      "4/4 [==============================] - 4s 1s/step - loss: 0.9725 - accuracy: 0.8200 - val_loss: 1.3336 - val_accuracy: 0.5681\n",
      "Epoch 37/100\n",
      "4/4 [==============================] - 5s 2s/step - loss: 0.9560 - accuracy: 0.8000 - val_loss: 1.3088 - val_accuracy: 0.5762\n",
      "Epoch 38/100\n",
      "4/4 [==============================] - 5s 2s/step - loss: 0.9446 - accuracy: 0.8400 - val_loss: 1.2885 - val_accuracy: 0.5742\n",
      "Epoch 39/100\n",
      "4/4 [==============================] - 4s 1s/step - loss: 0.9316 - accuracy: 0.8300 - val_loss: 1.2506 - val_accuracy: 0.5926\n",
      "Epoch 40/100\n",
      "4/4 [==============================] - 5s 2s/step - loss: 0.9224 - accuracy: 0.8500 - val_loss: 1.2540 - val_accuracy: 0.5819\n",
      "Epoch 41/100\n",
      "4/4 [==============================] - 5s 2s/step - loss: 0.9001 - accuracy: 0.8700 - val_loss: 1.2410 - val_accuracy: 0.5837\n",
      "Epoch 42/100\n",
      "4/4 [==============================] - 5s 2s/step - loss: 0.8833 - accuracy: 0.8700 - val_loss: 1.2324 - val_accuracy: 0.5946\n",
      "Epoch 43/100\n",
      "4/4 [==============================] - 5s 1s/step - loss: 0.8722 - accuracy: 0.8600 - val_loss: 1.2271 - val_accuracy: 0.5895\n",
      "Epoch 44/100\n",
      "4/4 [==============================] - 4s 1s/step - loss: 0.8555 - accuracy: 0.8500 - val_loss: 1.2227 - val_accuracy: 0.5887\n",
      "Epoch 45/100\n",
      "4/4 [==============================] - 5s 2s/step - loss: 0.8425 - accuracy: 0.8800 - val_loss: 1.2274 - val_accuracy: 0.5718\n",
      "Epoch 46/100\n",
      "4/4 [==============================] - 5s 2s/step - loss: 0.8329 - accuracy: 0.9000 - val_loss: 1.2206 - val_accuracy: 0.5806\n",
      "Epoch 47/100\n",
      "4/4 [==============================] - 4s 1s/step - loss: 0.8246 - accuracy: 0.8700 - val_loss: 1.2181 - val_accuracy: 0.5749\n",
      "Epoch 48/100\n",
      "4/4 [==============================] - 5s 2s/step - loss: 0.8206 - accuracy: 0.8500 - val_loss: 1.1976 - val_accuracy: 0.5977\n",
      "Epoch 49/100\n",
      "4/4 [==============================] - 4s 1s/step - loss: 0.8011 - accuracy: 0.8700 - val_loss: 1.2030 - val_accuracy: 0.5884\n",
      "Epoch 50/100\n",
      "4/4 [==============================] - 4s 1s/step - loss: 0.7911 - accuracy: 0.8900 - val_loss: 1.1825 - val_accuracy: 0.6028\n",
      "Epoch 51/100\n",
      "4/4 [==============================] - 5s 2s/step - loss: 0.7802 - accuracy: 0.8800 - val_loss: 1.1342 - val_accuracy: 0.6469\n",
      "Epoch 52/100\n",
      "4/4 [==============================] - 5s 2s/step - loss: 0.7676 - accuracy: 0.8900 - val_loss: 1.1378 - val_accuracy: 0.6256\n",
      "Epoch 53/100\n",
      "4/4 [==============================] - 4s 1s/step - loss: 0.7526 - accuracy: 0.8900 - val_loss: 1.1330 - val_accuracy: 0.6252\n",
      "Epoch 54/100\n",
      "4/4 [==============================] - 4s 1s/step - loss: 0.7422 - accuracy: 0.9000 - val_loss: 1.1115 - val_accuracy: 0.6489\n",
      "Epoch 55/100\n",
      "4/4 [==============================] - 4s 1s/step - loss: 0.7306 - accuracy: 0.9000 - val_loss: 1.1212 - val_accuracy: 0.6321\n",
      "Epoch 56/100\n",
      "4/4 [==============================] - 4s 1s/step - loss: 0.7280 - accuracy: 0.8800 - val_loss: 1.1148 - val_accuracy: 0.6317\n",
      "Epoch 57/100\n",
      "4/4 [==============================] - 4s 1s/step - loss: 0.7076 - accuracy: 0.9200 - val_loss: 1.1144 - val_accuracy: 0.6330\n",
      "Epoch 58/100\n",
      "4/4 [==============================] - 5s 2s/step - loss: 0.6988 - accuracy: 0.9100 - val_loss: 1.1104 - val_accuracy: 0.6348\n",
      "Epoch 59/100\n",
      "4/4 [==============================] - 5s 2s/step - loss: 0.6956 - accuracy: 0.9000 - val_loss: 1.1213 - val_accuracy: 0.6198\n",
      "Epoch 60/100\n",
      "4/4 [==============================] - 5s 2s/step - loss: 0.6860 - accuracy: 0.9000 - val_loss: 1.1115 - val_accuracy: 0.6269\n",
      "Epoch 61/100\n",
      "4/4 [==============================] - 4s 1s/step - loss: 0.6783 - accuracy: 0.9300 - val_loss: 1.0969 - val_accuracy: 0.6326\n",
      "Epoch 62/100\n",
      "4/4 [==============================] - 4s 1s/step - loss: 0.6657 - accuracy: 0.9100 - val_loss: 1.0969 - val_accuracy: 0.6231\n",
      "Epoch 63/100\n",
      "4/4 [==============================] - 4s 1s/step - loss: 0.6615 - accuracy: 0.9100 - val_loss: 1.0885 - val_accuracy: 0.6292\n",
      "Epoch 64/100\n",
      "4/4 [==============================] - 4s 1s/step - loss: 0.6443 - accuracy: 0.9100 - val_loss: 1.0932 - val_accuracy: 0.6232\n",
      "Epoch 65/100\n",
      "4/4 [==============================] - 5s 2s/step - loss: 0.6393 - accuracy: 0.9200 - val_loss: 1.0805 - val_accuracy: 0.6293\n",
      "Epoch 66/100\n",
      "4/4 [==============================] - 5s 2s/step - loss: 0.6309 - accuracy: 0.9100 - val_loss: 1.0812 - val_accuracy: 0.6172\n",
      "Epoch 67/100\n",
      "4/4 [==============================] - 5s 2s/step - loss: 0.6246 - accuracy: 0.9300 - val_loss: 1.0706 - val_accuracy: 0.6282\n",
      "Epoch 68/100\n",
      "4/4 [==============================] - 4s 1s/step - loss: 0.6200 - accuracy: 0.9400 - val_loss: 1.0830 - val_accuracy: 0.6110\n",
      "Epoch 69/100\n",
      "4/4 [==============================] - 5s 2s/step - loss: 0.6180 - accuracy: 0.9200 - val_loss: 1.0712 - val_accuracy: 0.6160\n",
      "Epoch 70/100\n",
      "4/4 [==============================] - 4s 1s/step - loss: 0.6087 - accuracy: 0.9200 - val_loss: 1.0742 - val_accuracy: 0.6112\n",
      "Epoch 71/100\n",
      "4/4 [==============================] - 5s 2s/step - loss: 0.6012 - accuracy: 0.9100 - val_loss: 1.0714 - val_accuracy: 0.6148\n",
      "Epoch 72/100\n",
      "4/4 [==============================] - 4s 1s/step - loss: 0.5972 - accuracy: 0.9300 - val_loss: 1.0528 - val_accuracy: 0.6290\n",
      "Epoch 73/100\n",
      "4/4 [==============================] - 4s 1s/step - loss: 0.5815 - accuracy: 0.9300 - val_loss: 1.0471 - val_accuracy: 0.6322\n",
      "Epoch 74/100\n",
      "4/4 [==============================] - 4s 1s/step - loss: 0.5743 - accuracy: 0.9300 - val_loss: 1.0835 - val_accuracy: 0.6004\n",
      "Epoch 75/100\n",
      "4/4 [==============================] - 5s 2s/step - loss: 0.5835 - accuracy: 0.9500 - val_loss: 1.0449 - val_accuracy: 0.6278\n",
      "Epoch 76/100\n",
      "4/4 [==============================] - 5s 2s/step - loss: 0.5628 - accuracy: 0.9400 - val_loss: 1.0271 - val_accuracy: 0.6440\n",
      "Epoch 77/100\n",
      "4/4 [==============================] - 4s 1s/step - loss: 0.5567 - accuracy: 0.9200 - val_loss: 1.0430 - val_accuracy: 0.6347\n",
      "Epoch 78/100\n",
      "4/4 [==============================] - 5s 2s/step - loss: 0.5565 - accuracy: 0.9300 - val_loss: 1.0167 - val_accuracy: 0.6542\n",
      "Epoch 79/100\n",
      "4/4 [==============================] - 4s 1s/step - loss: 0.5382 - accuracy: 0.9400 - val_loss: 0.9966 - val_accuracy: 0.6620\n",
      "Epoch 80/100\n",
      "4/4 [==============================] - 4s 1s/step - loss: 0.5387 - accuracy: 0.9300 - val_loss: 1.0058 - val_accuracy: 0.6514\n",
      "Epoch 81/100\n",
      "4/4 [==============================] - 4s 1s/step - loss: 0.5279 - accuracy: 0.9400 - val_loss: 0.9995 - val_accuracy: 0.6538\n",
      "Epoch 82/100\n",
      "4/4 [==============================] - 5s 2s/step - loss: 0.5213 - accuracy: 0.9400 - val_loss: 1.0176 - val_accuracy: 0.6373\n",
      "Epoch 83/100\n",
      "4/4 [==============================] - 5s 2s/step - loss: 0.5220 - accuracy: 0.9400 - val_loss: 0.9870 - val_accuracy: 0.6616\n",
      "Epoch 84/100\n",
      "4/4 [==============================] - 5s 2s/step - loss: 0.5099 - accuracy: 0.9400 - val_loss: 1.0122 - val_accuracy: 0.6379\n",
      "Epoch 85/100\n",
      "4/4 [==============================] - 5s 2s/step - loss: 0.5136 - accuracy: 0.9500 - val_loss: 0.9995 - val_accuracy: 0.6464\n",
      "Epoch 86/100\n",
      "4/4 [==============================] - 5s 2s/step - loss: 0.5026 - accuracy: 0.9400 - val_loss: 1.0030 - val_accuracy: 0.6428\n",
      "Epoch 87/100\n",
      "4/4 [==============================] - 5s 2s/step - loss: 0.4984 - accuracy: 0.9400 - val_loss: 1.0078 - val_accuracy: 0.6465\n",
      "Epoch 88/100\n",
      "4/4 [==============================] - 5s 2s/step - loss: 0.5008 - accuracy: 0.9400 - val_loss: 1.0020 - val_accuracy: 0.6544\n",
      "Epoch 89/100\n",
      "4/4 [==============================] - 5s 2s/step - loss: 0.5091 - accuracy: 0.9200 - val_loss: 0.9819 - val_accuracy: 0.6619\n",
      "Epoch 90/100\n",
      "4/4 [==============================] - 5s 2s/step - loss: 0.4852 - accuracy: 0.9300 - val_loss: 0.9732 - val_accuracy: 0.6705\n",
      "Epoch 91/100\n",
      "4/4 [==============================] - 5s 2s/step - loss: 0.4751 - accuracy: 0.9300 - val_loss: 0.9924 - val_accuracy: 0.6584\n",
      "Epoch 92/100\n",
      "4/4 [==============================] - 5s 2s/step - loss: 0.4751 - accuracy: 0.9300 - val_loss: 0.9902 - val_accuracy: 0.6529\n",
      "Epoch 93/100\n",
      "4/4 [==============================] - 5s 2s/step - loss: 0.4653 - accuracy: 0.9400 - val_loss: 1.0131 - val_accuracy: 0.6291\n",
      "Epoch 94/100\n",
      "4/4 [==============================] - 4s 1s/step - loss: 0.4699 - accuracy: 0.9400 - val_loss: 1.0031 - val_accuracy: 0.6354\n",
      "Epoch 95/100\n",
      "4/4 [==============================] - 5s 2s/step - loss: 0.4594 - accuracy: 0.9400 - val_loss: 0.9809 - val_accuracy: 0.6507\n",
      "Epoch 96/100\n",
      "4/4 [==============================] - 5s 2s/step - loss: 0.4520 - accuracy: 0.9500 - val_loss: 0.9832 - val_accuracy: 0.6495\n",
      "Epoch 97/100\n",
      "4/4 [==============================] - 5s 2s/step - loss: 0.4442 - accuracy: 0.9500 - val_loss: 0.9738 - val_accuracy: 0.6515\n",
      "Epoch 98/100\n",
      "4/4 [==============================] - 5s 2s/step - loss: 0.4400 - accuracy: 0.9500 - val_loss: 0.9529 - val_accuracy: 0.6761\n",
      "Epoch 99/100\n",
      "4/4 [==============================] - 5s 2s/step - loss: 0.4341 - accuracy: 0.9300 - val_loss: 0.9514 - val_accuracy: 0.6734\n",
      "Epoch 100/100\n",
      "4/4 [==============================] - 5s 2s/step - loss: 0.4279 - accuracy: 0.9300 - val_loss: 0.9520 - val_accuracy: 0.6717\n"
     ]
    }
   ]
  },
  {
   "cell_type": "code",
   "metadata": {
    "id": "6E_gCaFy4Zhq",
    "colab": {
     "base_uri": "https://localhost:8080/",
     "height": 279
    },
    "executionInfo": {
     "status": "ok",
     "timestamp": 1646074966727,
     "user_tz": -540,
     "elapsed": 734,
     "user": {
      "displayName": "김태영",
      "photoUrl": "https://lh3.googleusercontent.com/a/default-user=s64",
      "userId": "15933429515795148017"
     }
    },
    "outputId": "3ed1ba67-5a73-4d19-c65a-3e6ccc2573f5"
   },
   "source": [
    "# 5. 모델 학습 과정 표시하기\n",
    "%matplotlib inline\n",
    "import matplotlib.pyplot as plt\n",
    "\n",
    "fig, loss_ax = plt.subplots()\n",
    "\n",
    "acc_ax = loss_ax.twinx()\n",
    "\n",
    "loss_ax.plot(hist.history['loss'], 'y', label='train loss')\n",
    "loss_ax.plot(hist.history['val_loss'], 'r', label='val loss')\n",
    "\n",
    "acc_ax.plot(hist.history['accuracy'], 'b', label='train acc')\n",
    "acc_ax.plot(hist.history['val_accuracy'], 'g', label='val acc')\n",
    "\n",
    "loss_ax.set_xlabel('epoch')\n",
    "loss_ax.set_ylabel('loss')\n",
    "acc_ax.set_ylabel('accuray')\n",
    "\n",
    "loss_ax.legend(loc='upper left')\n",
    "acc_ax.legend(loc='lower left')\n",
    "\n",
    "plt.show()"
   ],
   "execution_count": 52,
   "outputs": [
    {
     "output_type": "display_data",
     "data": {
      "image/png": "[encoded data removed]",
      "text/plain": [
       "<Figure size 432x288 with 2 Axes>"
      ]
     },
     "metadata": {
      "needs_background": "light"
     }
    }
   ]
  },
  {
   "cell_type": "code",
   "source": [],
   "metadata": {
    "id": "NSCHWpHamuYf"
   },
   "execution_count": null,
   "outputs": []
  }
 ]
}
