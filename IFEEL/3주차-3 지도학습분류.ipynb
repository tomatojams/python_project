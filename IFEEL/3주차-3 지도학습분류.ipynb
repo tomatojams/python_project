{
 "cells": [
  {
   "cell_type": "markdown",
   "source": [
    "## 의사결정나무\n",
    "\n",
    "의사결정 나무모델    \n",
    "\n",
    "- 지도학습 알고리즘 (분류, 회귀)\n",
    "- 직관적인 알고리즘 (이해 쉬움)\n",
    "- 대적합되기 쉬운 알고리즘 (트리 깊이 제한 필요)\n",
    "\n",
    "- 정보이득의 최대가 되는 기준은 '지니'와 '엔트로피'사용\n",
    "- 데이터가 한종류 일때 엔트로피/ 지니의 불순도는 0에 가까움\n",
    "- 서로 다른 데이터의 비율이비슷하면 1에 가까움 정보이득이 최대 ( 1 - 불순도)"
   ],
   "metadata": {
    "collapsed": false
   },
   "id": "c067ee34ae25ba45"
  },
  {
   "cell_type": "code",
   "execution_count": 1,
   "outputs": [],
   "source": [
    "import pandas as pd\n",
    "from sklearn.model_selection import train_test_split\n",
    "from sklearn.metrics import accuracy_score"
   ],
   "metadata": {
    "collapsed": false,
    "ExecuteTime": {
     "end_time": "2023-11-24T10:50:49.812806600Z",
     "start_time": "2023-11-24T10:50:47.791300400Z"
    }
   },
   "id": "4b99048ffa251c52"
  },
  {
   "cell_type": "code",
   "execution_count": 2,
   "outputs": [
    {
     "data": {
      "text/plain": "((284, 30), (285, 30), (284,), (285,))"
     },
     "execution_count": 2,
     "metadata": {},
     "output_type": "execute_result"
    }
   ],
   "source": [
    "# 데이터 생성\n",
    "from sklearn.datasets import load_breast_cancer\n",
    "\n",
    "\n",
    "def make_dataset():\n",
    "    iris = load_breast_cancer()\n",
    "    df = pd.DataFrame(iris.data, columns=iris.feature_names)\n",
    "    df['target'] = iris.target\n",
    "    X_train, X_test, y_train, y_test = train_test_split(\n",
    "        df.drop('target', axis=1), df['target'], test_size=0.5, random_state=1004)\n",
    "    return X_train, X_test, y_train, y_test\n",
    "\n",
    "\n",
    "X_train, X_test, y_train, y_test = make_dataset()\n",
    "X_train.shape, X_test.shape, y_train.shape, y_test.shape"
   ],
   "metadata": {
    "collapsed": false,
    "ExecuteTime": {
     "end_time": "2023-11-24T10:50:49.971718500Z",
     "start_time": "2023-11-24T10:50:49.813808400Z"
    }
   },
   "id": "c8c1e77beeb3aa21"
  },
  {
   "cell_type": "code",
   "execution_count": 3,
   "outputs": [
    {
     "data": {
      "text/plain": "target\n1    190\n0     94\nName: count, dtype: int64"
     },
     "execution_count": 3,
     "metadata": {},
     "output_type": "execute_result"
    }
   ],
   "source": [
    "y_train.value_counts()"
   ],
   "metadata": {
    "collapsed": false,
    "ExecuteTime": {
     "end_time": "2023-11-24T10:50:49.982750200Z",
     "start_time": "2023-11-24T10:50:49.973717600Z"
    }
   },
   "id": "ed6e76fa7d15a6cc"
  },
  {
   "cell_type": "code",
   "execution_count": 4,
   "outputs": [
    {
     "data": {
      "text/plain": "0.9263157894736842"
     },
     "execution_count": 4,
     "metadata": {},
     "output_type": "execute_result"
    }
   ],
   "source": [
    "from sklearn.tree import DecisionTreeClassifier\n",
    "\n",
    "model = DecisionTreeClassifier(random_state=0)\n",
    "model.fit(X_train, y_train)\n",
    "pred = model.predict(X_test)\n",
    "accuracy_score(y_test, pred)"
   ],
   "metadata": {
    "collapsed": false,
    "ExecuteTime": {
     "end_time": "2023-11-24T10:50:50.358736200Z",
     "start_time": "2023-11-24T10:50:49.985255700Z"
    }
   },
   "id": "269546652cb9ae62"
  },
  {
   "cell_type": "markdown",
   "source": [
    "3. 의사결정나무 하이퍼파라미터\n",
    "\n",
    "criterion (기본값 gini) : 불순도 지표 (또는 엔트로피 불순도 entropy)\n",
    "max_depth (기본값 None) : 최대 한도 깊이\n",
    "min_samples_split (기본값 2) : 자식 노드를 갖기 위한 최소한의 데이터 수\n",
    "min_samples_leaf (기본값 1) : 리프 노드가 되기 위한 최소 샘플 수"
   ],
   "metadata": {
    "collapsed": false
   },
   "id": "44fdc4daff9d0f7d"
  },
  {
   "cell_type": "code",
   "execution_count": 5,
   "outputs": [
    {
     "data": {
      "text/plain": "0.9157894736842105"
     },
     "execution_count": 5,
     "metadata": {},
     "output_type": "execute_result"
    }
   ],
   "source": [
    "# 의사결정나무 하이퍼 파라미터\n",
    "from sklearn.tree import DecisionTreeClassifier\n",
    "\n",
    "model = DecisionTreeClassifier(criterion='entropy', max_depth=6, min_samples_leaf=1,\n",
    "                               min_samples_split=5, random_state=0)\n",
    "model.fit(X_train, y_train)\n",
    "pred = model.predict(X_test)\n",
    "accuracy_score(y_test, pred)\n"
   ],
   "metadata": {
    "collapsed": false,
    "ExecuteTime": {
     "end_time": "2023-11-24T10:50:50.403967600Z",
     "start_time": "2023-11-24T10:50:50.360740500Z"
    }
   },
   "id": "baf0afcd6d76371d"
  },
  {
   "cell_type": "markdown",
   "source": [
    "### 랜덤포레스\n",
    "여러개의 의사결정 트리로 구성\n",
    "앙상블 방법 중 배깅(bagging) 방식\n",
    "부트스트랩 샘플링 (데이터셋 중복 허용)\n",
    "최종 다수결 투표\n",
    "과대적합 가능성 낮음"
   ],
   "metadata": {
    "collapsed": false
   },
   "id": "d2990f72523a2c50"
  },
  {
   "cell_type": "code",
   "execution_count": 6,
   "outputs": [
    {
     "data": {
      "text/plain": "0.9438596491228071"
     },
     "execution_count": 6,
     "metadata": {},
     "output_type": "execute_result"
    }
   ],
   "source": [
    "from sklearn.ensemble import RandomForestClassifier\n",
    "\n",
    "model = RandomForestClassifier(random_state=0)\n",
    "model.fit(X_train, y_train)\n",
    "pred = model.predict(X_test)\n",
    "accuracy_score(y_test, pred)"
   ],
   "metadata": {
    "collapsed": false,
    "ExecuteTime": {
     "end_time": "2023-11-24T10:50:50.656489900Z",
     "start_time": "2023-11-24T10:50:50.375398800Z"
    }
   },
   "id": "4e85b3532672c4a"
  },
  {
   "cell_type": "markdown",
   "source": [
    "n_estimators (기본값 100) : 트리의 수\n",
    "criterion (기본값 gini) : 불순도 지표\n",
    "max_depth (기본값 None) : 최대 한도 깊이\n",
    "min_samples_split (기본값 2) : 자식 노드를 갖기 위한 최소한의 데이터 수\n",
    "min_samples_leaf (기본값 1) : 리프 노드가 되기 위한 최소 샘플 수\n",
    "※ 아래 코드에서 하이퍼 파라미터 값을 직접 조절해 보세요."
   ],
   "metadata": {
    "collapsed": false
   },
   "id": "d23bd33440e4856b"
  },
  {
   "cell_type": "code",
   "execution_count": 7,
   "outputs": [
    {
     "data": {
      "text/plain": "0.9403508771929825"
     },
     "execution_count": 7,
     "metadata": {},
     "output_type": "execute_result"
    }
   ],
   "source": [
    "from sklearn.ensemble import RandomForestClassifier\n",
    "\n",
    "model = RandomForestClassifier(n_estimators=500, max_depth=3, random_state=0)\n",
    "model.fit(X_train, y_train)\n",
    "pred = model.predict(X_test)\n",
    "accuracy_score(y_test, pred)\n",
    "\n",
    "#0.9473684210526315 max_depth=3, n_estimators=200, "
   ],
   "metadata": {
    "collapsed": false,
    "ExecuteTime": {
     "end_time": "2023-11-24T10:50:51.222291600Z",
     "start_time": "2023-11-24T10:50:50.659014400Z"
    }
   },
   "id": "d1ee2b1aadbd1069"
  },
  {
   "cell_type": "markdown",
   "source": [
    "### xgboost\n",
    "트리 앙상블 중 성능이 좋은 알고리즘\n",
    "eXtreme Gradient Boosting를 줄여서 XGBoost라고 한다.\n",
    "약한 학습기가 계속해서 업데이트를 하며 좋은 모델을 만들어 간다.\n",
    "부스팅(앙상블) 기반의 알고리즘\n",
    "캐글(글로벌 AI 경진대회)에서 뛰어난 성능을 보이면서 인기가 높아짐"
   ],
   "metadata": {
    "collapsed": false
   },
   "id": "3a6ab07fe1a0b2cc"
  },
  {
   "cell_type": "code",
   "execution_count": 8,
   "outputs": [
    {
     "data": {
      "text/plain": "0.9614035087719298"
     },
     "execution_count": 8,
     "metadata": {},
     "output_type": "execute_result"
    }
   ],
   "source": [
    "from xgboost import XGBClassifier\n",
    "\n",
    "model = XGBClassifier(random_state=0)\n",
    "model.fit(X_train, y_train)\n",
    "pred = model.predict(X_test)\n",
    "accuracy_score(y_test, pred)"
   ],
   "metadata": {
    "collapsed": false,
    "ExecuteTime": {
     "end_time": "2023-11-24T10:50:51.394946400Z",
     "start_time": "2023-11-24T10:50:51.224294400Z"
    }
   },
   "id": "f62aec3c03f675fd"
  },
  {
   "cell_type": "markdown",
   "source": [
    "2. 하이퍼 파라미터의 종류\n",
    "\n",
    "booster (기본값 gbtree) : 부스팅 알고리즘 (또는 dart, gblinear)\n",
    "objective (기본값 binary:logistic) : 이진분류 (다중분류: multi:softmax)\n",
    "max_depth (기본값 6) : 최대 한도 깊이\n",
    "learning_rate (기본값 0.1) : 학습률\n",
    "n_estimators (기본값 100) : 트리의 수\n",
    "subsample (기본값 1) : 훈련 샘플 개수의 비율\n",
    "colsample_bytree (기본값 1) : 특성 개수의 비율\n",
    "n_jobs (기본값 1) : 사용 코어 수 (-1: 모든 코어를 다 사용)"
   ],
   "metadata": {
    "collapsed": false
   },
   "id": "258253df66bdeae"
  },
  {
   "cell_type": "code",
   "execution_count": 9,
   "outputs": [
    {
     "data": {
      "text/plain": "0.9649122807017544"
     },
     "execution_count": 9,
     "metadata": {},
     "output_type": "execute_result"
    }
   ],
   "source": [
    "from xgboost import XGBClassifier\n",
    "\n",
    "model = XGBClassifier(random_state=0,\n",
    "                      use_label_encoder=False,\n",
    "                      eval_metric='logloss',\n",
    "                      booster='gbtree',\n",
    "                      objective='binary:logistic',\n",
    "                      max_depth=5,\n",
    "                      learning_rate=0.05,\n",
    "                      n_estimators=500,\n",
    "                      subsample=1,\n",
    "                      colsample_bytree=1,\n",
    "                      n_jobs=-1,\n",
    "\n",
    "                      # booster (기본값 gbtree) : 부스팅 알고리즘 (또는 dart, gblinear)\n",
    "                      # objective (기본값 binary:logistic) : 이진분류 (다중분류: multi:softmax)\n",
    "                      # max_depth (기본값 6) : 최대 한도 깊이\n",
    "                      # learning_rate (기본값 0.1) : 학습률\n",
    "                      # n_estimators (기본값 100) : 트리의 수\n",
    "                      # subsample (기본값 1) : 훈련 샘플 개수의 비율\n",
    "                      # colsample_bytree (기본값 1) : 특성 개수의 비율\n",
    "                      # n_jobs (기본값 1) : 사용 코어 수 (-1: 모든 코어를 다 사용)                       \n",
    "                      )\n",
    "model.fit(X_train, y_train)\n",
    "pred = model.predict(X_test)\n",
    "accuracy_score(y_test, pred)\n",
    "#0.9614035087719298 default"
   ],
   "metadata": {
    "collapsed": false,
    "ExecuteTime": {
     "end_time": "2023-11-24T10:50:51.569548900Z",
     "start_time": "2023-11-24T10:50:51.398489600Z"
    }
   },
   "id": "ddb2310e3c940941"
  },
  {
   "cell_type": "code",
   "execution_count": 10,
   "outputs": [
    {
     "name": "stdout",
     "output_type": "stream",
     "text": [
      "[0]\tvalidation_0-logloss:0.65133\n",
      "[1]\tvalidation_0-logloss:0.61622\n",
      "[2]\tvalidation_0-logloss:0.58479\n",
      "[3]\tvalidation_0-logloss:0.55575\n",
      "[4]\tvalidation_0-logloss:0.53043\n",
      "[5]\tvalidation_0-logloss:0.50622\n",
      "[6]\tvalidation_0-logloss:0.48445\n",
      "[7]\tvalidation_0-logloss:0.46342\n",
      "[8]\tvalidation_0-logloss:0.44414\n",
      "[9]\tvalidation_0-logloss:0.42749\n",
      "[10]\tvalidation_0-logloss:0.41021\n",
      "[11]\tvalidation_0-logloss:0.39427\n",
      "[12]\tvalidation_0-logloss:0.38104\n",
      "[13]\tvalidation_0-logloss:0.36810\n",
      "[14]\tvalidation_0-logloss:0.35693\n",
      "[15]\tvalidation_0-logloss:0.34518\n",
      "[16]\tvalidation_0-logloss:0.33359\n",
      "[17]\tvalidation_0-logloss:0.32386\n",
      "[18]\tvalidation_0-logloss:0.31363\n",
      "[19]\tvalidation_0-logloss:0.30526\n",
      "[20]\tvalidation_0-logloss:0.29646\n",
      "[21]\tvalidation_0-logloss:0.28918\n",
      "[22]\tvalidation_0-logloss:0.28134\n",
      "[23]\tvalidation_0-logloss:0.27427\n",
      "[24]\tvalidation_0-logloss:0.26860\n",
      "[25]\tvalidation_0-logloss:0.26207\n",
      "[26]\tvalidation_0-logloss:0.25601\n",
      "[27]\tvalidation_0-logloss:0.25163\n",
      "[28]\tvalidation_0-logloss:0.24645\n",
      "[29]\tvalidation_0-logloss:0.24143\n",
      "[30]\tvalidation_0-logloss:0.23782\n",
      "[31]\tvalidation_0-logloss:0.23378\n",
      "[32]\tvalidation_0-logloss:0.22988\n",
      "[33]\tvalidation_0-logloss:0.22635\n",
      "[34]\tvalidation_0-logloss:0.22236\n",
      "[35]\tvalidation_0-logloss:0.21932\n",
      "[36]\tvalidation_0-logloss:0.21653\n",
      "[37]\tvalidation_0-logloss:0.21368\n",
      "[38]\tvalidation_0-logloss:0.21071\n",
      "[39]\tvalidation_0-logloss:0.20835\n",
      "[40]\tvalidation_0-logloss:0.20595\n",
      "[41]\tvalidation_0-logloss:0.20338\n",
      "[42]\tvalidation_0-logloss:0.20099\n",
      "[43]\tvalidation_0-logloss:0.19924\n",
      "[44]\tvalidation_0-logloss:0.19758\n",
      "[45]\tvalidation_0-logloss:0.19529\n",
      "[46]\tvalidation_0-logloss:0.19361\n",
      "[47]\tvalidation_0-logloss:0.19147\n",
      "[48]\tvalidation_0-logloss:0.19015\n",
      "[49]\tvalidation_0-logloss:0.18909\n",
      "[50]\tvalidation_0-logloss:0.18678\n",
      "[51]\tvalidation_0-logloss:0.18497\n",
      "[52]\tvalidation_0-logloss:0.18411\n",
      "[53]\tvalidation_0-logloss:0.18211\n",
      "[54]\tvalidation_0-logloss:0.18095\n",
      "[55]\tvalidation_0-logloss:0.18017\n",
      "[56]\tvalidation_0-logloss:0.17846\n",
      "[57]\tvalidation_0-logloss:0.17762\n",
      "[58]\tvalidation_0-logloss:0.17704\n",
      "[59]\tvalidation_0-logloss:0.17683\n",
      "[60]\tvalidation_0-logloss:0.17539\n",
      "[61]\tvalidation_0-logloss:0.17474\n",
      "[62]\tvalidation_0-logloss:0.17340\n",
      "[63]\tvalidation_0-logloss:0.17311\n",
      "[64]\tvalidation_0-logloss:0.17320\n",
      "[65]\tvalidation_0-logloss:0.17317\n",
      "[66]\tvalidation_0-logloss:0.17247\n",
      "[67]\tvalidation_0-logloss:0.17099\n",
      "[68]\tvalidation_0-logloss:0.17038\n",
      "[69]\tvalidation_0-logloss:0.17045\n",
      "[70]\tvalidation_0-logloss:0.17036\n",
      "[71]\tvalidation_0-logloss:0.17062\n",
      "[72]\tvalidation_0-logloss:0.17039\n",
      "[73]\tvalidation_0-logloss:0.16993\n",
      "[74]\tvalidation_0-logloss:0.17017\n",
      "[75]\tvalidation_0-logloss:0.16980\n",
      "[76]\tvalidation_0-logloss:0.16853\n",
      "[77]\tvalidation_0-logloss:0.16822\n",
      "[78]\tvalidation_0-logloss:0.16817\n",
      "[79]\tvalidation_0-logloss:0.16813\n",
      "[80]\tvalidation_0-logloss:0.16815\n",
      "[81]\tvalidation_0-logloss:0.16827\n",
      "[82]\tvalidation_0-logloss:0.16835\n",
      "[83]\tvalidation_0-logloss:0.16839\n",
      "[84]\tvalidation_0-logloss:0.16860\n",
      "[85]\tvalidation_0-logloss:0.16884\n",
      "[86]\tvalidation_0-logloss:0.16830\n",
      "[87]\tvalidation_0-logloss:0.16857\n",
      "[88]\tvalidation_0-logloss:0.16841\n",
      "[89]\tvalidation_0-logloss:0.16864\n"
     ]
    },
    {
     "name": "stderr",
     "output_type": "stream",
     "text": [
      "F:\\Anaconda3_envs\\tensor2\\lib\\site-packages\\xgboost\\sklearn.py:885: UserWarning: `early_stopping_rounds` in `fit` method is deprecated for better compatibility with scikit-learn, use `early_stopping_rounds` in constructor or`set_params` instead.\n",
      "  warnings.warn(\n"
     ]
    },
    {
     "data": {
      "text/plain": "0.9508771929824561"
     },
     "execution_count": 10,
     "metadata": {},
     "output_type": "execute_result"
    }
   ],
   "source": [
    "#조기종료\n",
    "model = XGBClassifier(random_state=0,\n",
    "                      use_label_encoder=False,\n",
    "                      eval_metric='logloss',\n",
    "                      learning_rate=0.05,\n",
    "                      n_estimators=500,\n",
    "                      )\n",
    "eval_set = [(X_test, y_test)]\n",
    "model.fit(X_train, y_train, eval_set=eval_set, early_stopping_rounds=10)\n",
    "pred = model.predict(X_test)\n",
    "accuracy_score(y_test, pred)"
   ],
   "metadata": {
    "collapsed": false,
    "ExecuteTime": {
     "end_time": "2023-11-24T10:50:51.832715900Z",
     "start_time": "2023-11-24T10:50:51.567042600Z"
    }
   },
   "id": "46e8f4e3ecab622a"
  },
  {
   "cell_type": "code",
   "execution_count": 11,
   "outputs": [],
   "source": [
    "# 데이터셋 로드\n",
    "def make_dataset2():\n",
    "    iris = load_breast_cancer()\n",
    "    df = pd.DataFrame(iris.data, columns=iris.feature_names)\n",
    "    df['target'] = iris.target\n",
    "    return df.drop('target', axis=1), df['target']\n",
    "\n",
    "\n",
    "X, y = make_dataset2()"
   ],
   "metadata": {
    "collapsed": false,
    "ExecuteTime": {
     "end_time": "2023-11-24T10:50:51.895000900Z",
     "start_time": "2023-11-24T10:50:51.741915500Z"
    }
   },
   "id": "3e4cf62b972426f0"
  },
  {
   "cell_type": "markdown",
   "source": [
    "### 교차검증\n",
    "일반적으로 모델을 학습시킬 때 데이터를 train set과 test set으로 나누어 train set을 가지고 학습을 수행합니다.\n",
    "\n",
    "교차검증이란 여기서 train set을 다시 train set과 validation set으로 나누어 학습 중 검증과 수정을 수행하는 것을 의미합니다.\n",
    "\n",
    "### Kfold"
   ],
   "metadata": {
    "collapsed": false
   },
   "id": "d2260e6d5632ea5e"
  },
  {
   "cell_type": "code",
   "execution_count": 12,
   "outputs": [
    {
     "name": "stdout",
     "output_type": "stream",
     "text": [
      "0.8771929824561403\n",
      "0.9122807017543859\n",
      "0.9473684210526315\n",
      "0.9385964912280702\n",
      "0.8407079646017699\n"
     ]
    }
   ],
   "source": [
    "#KFold\n",
    "from sklearn.model_selection import KFold\n",
    "\n",
    "model = DecisionTreeClassifier(random_state=0)\n",
    "\n",
    "kfold = KFold(n_splits=5)\n",
    "for train_idx, test_idx in kfold.split(X):  # 4:1로 나눔\n",
    "    X_train, X_test = X.iloc[train_idx], X.iloc[test_idx]\n",
    "    y_train, y_test = y.iloc[train_idx], y.iloc[test_idx]\n",
    "\n",
    "    model.fit(X_train, y_train)\n",
    "    pred = model.predict(X_test)\n",
    "    print(accuracy_score(y_test, pred))"
   ],
   "metadata": {
    "collapsed": false,
    "ExecuteTime": {
     "end_time": "2023-11-24T10:50:51.972566400Z",
     "start_time": "2023-11-24T10:50:51.755435800Z"
    }
   },
   "id": "e614054b9e4f4f4d"
  },
  {
   "cell_type": "markdown",
   "source": [
    "### StratifiedKfold"
   ],
   "metadata": {
    "collapsed": false
   },
   "id": "2999b4eed173a298"
  },
  {
   "cell_type": "markdown",
   "source": [
    "### 사이킷런 교차검증"
   ],
   "metadata": {
    "collapsed": false
   },
   "id": "166ea22dda5add99"
  },
  {
   "cell_type": "code",
   "execution_count": 13,
   "outputs": [
    {
     "name": "stdout",
     "output_type": "stream",
     "text": [
      "0.9035087719298246\n",
      "0.9210526315789473\n",
      "0.9122807017543859\n",
      "0.9473684210526315\n",
      "0.9026548672566371\n"
     ]
    }
   ],
   "source": [
    "# Stratified Kfold\n",
    "from sklearn.model_selection import StratifiedKFold\n",
    "\n",
    "model = DecisionTreeClassifier(random_state=0)\n",
    "\n",
    "kfold = StratifiedKFold(n_splits=5)\n",
    "for train_idx, test_idx in kfold.split(X, y):\n",
    "    X_train, X_test = X.iloc[train_idx], X.iloc[test_idx]\n",
    "    y_train, y_test = y.iloc[train_idx], y.iloc[test_idx]\n",
    "\n",
    "    model.fit(X_train, y_train)\n",
    "    pred = model.predict(X_test)\n",
    "    print(accuracy_score(y_test, pred))"
   ],
   "metadata": {
    "collapsed": false,
    "ExecuteTime": {
     "end_time": "2023-11-24T10:50:51.975071200Z",
     "start_time": "2023-11-24T10:50:51.852335200Z"
    }
   },
   "id": "bce90fc8dd982d2e"
  },
  {
   "cell_type": "code",
   "execution_count": 14,
   "outputs": [
    {
     "data": {
      "text/plain": "array([0.88947368, 0.94210526, 0.86243386])"
     },
     "execution_count": 14,
     "metadata": {},
     "output_type": "execute_result"
    }
   ],
   "source": [
    "# 사이킷런 교차검증\n",
    "from sklearn.model_selection import cross_val_score\n",
    "\n",
    "scores = cross_val_score(model, X, y, cv=3)\n",
    "scores"
   ],
   "metadata": {
    "collapsed": false,
    "ExecuteTime": {
     "end_time": "2023-11-24T10:50:52.020689900Z",
     "start_time": "2023-11-24T10:50:51.913481300Z"
    }
   },
   "id": "5666271feeb570fc"
  },
  {
   "cell_type": "code",
   "execution_count": 15,
   "outputs": [
    {
     "data": {
      "text/plain": "0.8980042699340944"
     },
     "execution_count": 15,
     "metadata": {},
     "output_type": "execute_result"
    }
   ],
   "source": [
    "# 평균 점수\n",
    "scores.mean()"
   ],
   "metadata": {
    "collapsed": false,
    "ExecuteTime": {
     "end_time": "2023-11-24T10:50:52.043525900Z",
     "start_time": "2023-11-24T10:50:51.961016800Z"
    }
   },
   "id": "e5533cf6475bb13b"
  },
  {
   "cell_type": "code",
   "execution_count": 16,
   "outputs": [
    {
     "data": {
      "text/plain": "array([0.90350877, 0.92105263, 0.9122807 , 0.94736842, 0.90265487])"
     },
     "execution_count": 16,
     "metadata": {},
     "output_type": "execute_result"
    }
   ],
   "source": [
    "# 교차검증 Stratified Kfold\n",
    "kfold = StratifiedKFold(n_splits=5)\n",
    "scores = cross_val_score(model, X, y, cv=kfold)\n",
    "scores"
   ],
   "metadata": {
    "collapsed": false,
    "ExecuteTime": {
     "end_time": "2023-11-24T10:50:52.058365300Z",
     "start_time": "2023-11-24T10:50:51.977077400Z"
    }
   },
   "id": "7e390b1d570bc154"
  },
  {
   "cell_type": "markdown",
   "source": [
    "### 평가 (분류 모델)\n",
    "정확도 accuracy: 실제 값과 예측값이 일치하는 비율\n",
    "정밀도 precision: 양성이라고 예측한 값 중 실제 양성인 값의 비율 (암이라고 예측 한 값 중 실제 암)\n",
    "재현율 recall: 실제 양성 값 중 양성으로 예측한 값의 비율 (암을 암이라고 판단)\n",
    "F1: 정밀도와 재현율의 조화평균\n",
    "ROC-AUC\n",
    "ROC: 참 양성 비율(True Positive Rate)에 대한 거짓 양성 비율(False Positive Rate) 곡선\n",
    "AUC: ROC곡선 면적 아래 (완벽하게 분류되면 AUC가 1임)"
   ],
   "metadata": {
    "collapsed": false
   },
   "id": "d5dea2e15427946a"
  },
  {
   "cell_type": "code",
   "execution_count": 17,
   "outputs": [
    {
     "data": {
      "text/plain": "0.9026548672566371"
     },
     "execution_count": 17,
     "metadata": {},
     "output_type": "execute_result"
    }
   ],
   "source": [
    "# 정확도\n",
    "from sklearn.metrics import accuracy_score\n",
    "\n",
    "accuracy_score(y_test, pred)"
   ],
   "metadata": {
    "collapsed": false,
    "ExecuteTime": {
     "end_time": "2023-11-24T10:50:52.098536800Z",
     "start_time": "2023-11-24T10:50:52.039528300Z"
    }
   },
   "id": "121b84a1d78852a6"
  },
  {
   "cell_type": "code",
   "execution_count": 18,
   "outputs": [
    {
     "data": {
      "text/plain": "0.9545454545454546"
     },
     "execution_count": 18,
     "metadata": {},
     "output_type": "execute_result"
    }
   ],
   "source": [
    "# 정밀도\n",
    "from sklearn.metrics import precision_score\n",
    "\n",
    "precision_score(y_test, pred)"
   ],
   "metadata": {
    "collapsed": false,
    "ExecuteTime": {
     "end_time": "2023-11-24T10:52:47.156955100Z",
     "start_time": "2023-11-24T10:52:47.070708400Z"
    }
   },
   "id": "f9e8ce977268878d"
  },
  {
   "cell_type": "code",
   "execution_count": 19,
   "outputs": [
    {
     "data": {
      "text/plain": "0.9197080291970803"
     },
     "execution_count": 19,
     "metadata": {},
     "output_type": "execute_result"
    }
   ],
   "source": [
    "# f1\n",
    "from sklearn.metrics import f1_score\n",
    "\n",
    "f1_score(y_test, pred)"
   ],
   "metadata": {
    "collapsed": false,
    "ExecuteTime": {
     "end_time": "2023-11-24T10:53:52.513729700Z",
     "start_time": "2023-11-24T10:53:52.438770800Z"
    }
   },
   "id": "d74659a294e288d"
  },
  {
   "cell_type": "code",
   "execution_count": 25,
   "outputs": [
    {
     "data": {
      "text/plain": "0.9983232729711603"
     },
     "execution_count": 25,
     "metadata": {},
     "output_type": "execute_result"
    }
   ],
   "source": [
    "#roc_auc\n",
    "from sklearn.metrics import roc_auc_score\n",
    "\n",
    "model = XGBClassifier(random_state=0, use_label_encoder=False, eval_metric='logloss')\n",
    "model.fit(X_train, y_train)\n",
    "pred = model.predict_proba(X_test)  # 확률로 받음\n",
    "pred\n",
    "roc_auc_score(y_test, pred[:, 1])"
   ],
   "metadata": {
    "collapsed": false,
    "ExecuteTime": {
     "end_time": "2023-11-24T10:57:12.785759300Z",
     "start_time": "2023-11-24T10:57:12.710013400Z"
    }
   },
   "id": "f9821654576b2325"
  },
  {
   "cell_type": "code",
   "execution_count": null,
   "outputs": [],
   "source": [
    "#"
   ],
   "metadata": {
    "collapsed": false
   },
   "id": "c69cab1d928305bc"
  }
 ],
 "metadata": {
  "kernelspec": {
   "display_name": "Python 3",
   "language": "python",
   "name": "python3"
  },
  "language_info": {
   "codemirror_mode": {
    "name": "ipython",
    "version": 2
   },
   "file_extension": ".py",
   "mimetype": "text/x-python",
   "name": "python",
   "nbconvert_exporter": "python",
   "pygments_lexer": "ipython2",
   "version": "2.7.6"
  }
 },
 "nbformat": 4,
 "nbformat_minor": 5
}
