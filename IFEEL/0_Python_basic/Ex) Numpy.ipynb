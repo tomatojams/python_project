{
 "nbformat": 4,
 "nbformat_minor": 0,
 "metadata": {
  "colab": {
   "provenance": [],
   "authorship_tag": "ABX9TyN6N3HROWQ+oV0qYYlzz3LW"
  },
  "kernelspec": {
   "name": "python3",
   "language": "python",
   "display_name": "Python 3 (ipykernel)"
  },
  "language_info": {
   "name": "python"
  }
 },
 "cells": [
  {
   "cell_type": "markdown",
   "source": [
    "## Numpy Ex\n",
    "### Numpy import\n",
    "* 넘파이 사용을 위해 import\n",
    "* 만약 설치가 안되어 있다면 설치해줍니다.\n",
    "```\n",
    "!pip install numpy\n",
    "```\n"
   ],
   "metadata": {
    "id": "fCl6AO9dvWdQ"
   }
  },
  {
   "cell_type": "code",
   "source": [
    "import numpy as np"
   ],
   "metadata": {
    "id": "Ep63dVNjwgIK",
    "ExecuteTime": {
     "end_time": "2023-12-18T05:39:04.203964Z",
     "start_time": "2023-12-18T05:39:04.144390Z"
    }
   },
   "execution_count": 41,
   "outputs": []
  },
  {
   "cell_type": "markdown",
   "source": [
    "## 문제 1: 배열 생성과 기본 연산\n",
    "### 1.1 크기가 10인 0으로 채워진 배열 생성"
   ],
   "metadata": {
    "id": "-TAcOaLowz2X"
   }
  },
  {
   "cell_type": "code",
   "source": [
    "# np.zeros\n",
    "arr1 = np.zeros(8)\n",
    "arr1"
   ],
   "metadata": {
    "id": "Lw9nHOGbw4fO",
    "ExecuteTime": {
     "end_time": "2023-12-18T05:10:56.489435Z",
     "start_time": "2023-12-18T05:10:56.459788Z"
    }
   },
   "execution_count": 2,
   "outputs": [
    {
     "data": {
      "text/plain": "array([0., 0., 0., 0., 0., 0., 0., 0.])"
     },
     "execution_count": 2,
     "metadata": {},
     "output_type": "execute_result"
    }
   ]
  },
  {
   "cell_type": "markdown",
   "source": [
    "---"
   ],
   "metadata": {
    "id": "AJi0rrkVy7Zl"
   }
  },
  {
   "cell_type": "markdown",
   "source": [
    "### 1.2 배열의 5번째 원소를 1로 설정"
   ],
   "metadata": {
    "id": "Fwd7rYv2w6Ph"
   }
  },
  {
   "cell_type": "code",
   "source": [
    "# indexing\n",
    "arr1[4] = 1\n",
    "arr1"
   ],
   "metadata": {
    "id": "Kd5nT4dbw_hv",
    "ExecuteTime": {
     "end_time": "2023-12-18T05:10:58.176313Z",
     "start_time": "2023-12-18T05:10:58.142588Z"
    }
   },
   "execution_count": 3,
   "outputs": [
    {
     "data": {
      "text/plain": "array([0., 0., 0., 0., 1., 0., 0., 0.])"
     },
     "execution_count": 3,
     "metadata": {},
     "output_type": "execute_result"
    }
   ]
  },
  {
   "cell_type": "markdown",
   "source": [
    "---"
   ],
   "metadata": {
    "id": "zntdhT5Ty806"
   }
  },
  {
   "cell_type": "markdown",
   "source": [
    "### 1.3 10에서 50까지의 정수를 담은 배열 생성"
   ],
   "metadata": {
    "id": "BGVFzGiJxBBW"
   }
  },
  {
   "cell_type": "code",
   "source": [
    "# np.arange\n",
    "arr2 = np.arange(10,51)\n",
    "arr2"
   ],
   "metadata": {
    "id": "A3wB4C0wxExu",
    "ExecuteTime": {
     "end_time": "2023-12-18T05:10:59.991367Z",
     "start_time": "2023-12-18T05:10:59.942314Z"
    }
   },
   "execution_count": 4,
   "outputs": [
    {
     "data": {
      "text/plain": "array([10, 11, 12, 13, 14, 15, 16, 17, 18, 19, 20, 21, 22, 23, 24, 25, 26,\n       27, 28, 29, 30, 31, 32, 33, 34, 35, 36, 37, 38, 39, 40, 41, 42, 43,\n       44, 45, 46, 47, 48, 49, 50])"
     },
     "execution_count": 4,
     "metadata": {},
     "output_type": "execute_result"
    }
   ]
  },
  {
   "cell_type": "markdown",
   "source": [
    "---"
   ],
   "metadata": {
    "id": "xl5KVGTlzBdR"
   }
  },
  {
   "cell_type": "markdown",
   "source": [
    "### 1.4 배열 뒤집기"
   ],
   "metadata": {
    "id": "-XL8VGyFxJOn"
   }
  },
  {
   "cell_type": "code",
   "source": [
    "# slicing\n",
    "arr2_reversed = arr2[::-1]\n",
    "arr2_reversed"
   ],
   "metadata": {
    "id": "E6LgXTDBxF7Z",
    "ExecuteTime": {
     "end_time": "2023-12-18T05:11:01.653941Z",
     "start_time": "2023-12-18T05:11:01.625750Z"
    }
   },
   "execution_count": 5,
   "outputs": [
    {
     "data": {
      "text/plain": "array([50, 49, 48, 47, 46, 45, 44, 43, 42, 41, 40, 39, 38, 37, 36, 35, 34,\n       33, 32, 31, 30, 29, 28, 27, 26, 25, 24, 23, 22, 21, 20, 19, 18, 17,\n       16, 15, 14, 13, 12, 11, 10])"
     },
     "execution_count": 5,
     "metadata": {},
     "output_type": "execute_result"
    }
   ]
  },
  {
   "cell_type": "markdown",
   "source": [
    "---"
   ],
   "metadata": {
    "id": "KBCT0YAozCNc"
   }
  },
  {
   "cell_type": "markdown",
   "source": [
    "### 1.5 3x3 단위행렬 생성"
   ],
   "metadata": {
    "id": "Zc0xIyHnxNqc"
   }
  },
  {
   "cell_type": "code",
   "source": [
    "# np.eye\n",
    "idt_mat = np.eye(3)\n",
    "idt_mat"
   ],
   "metadata": {
    "id": "hM5fFYZSxQdF",
    "ExecuteTime": {
     "end_time": "2023-12-18T05:11:03.438612Z",
     "start_time": "2023-12-18T05:11:03.407096Z"
    }
   },
   "execution_count": 6,
   "outputs": [
    {
     "data": {
      "text/plain": "array([[1., 0., 0.],\n       [0., 1., 0.],\n       [0., 0., 1.]])"
     },
     "execution_count": 6,
     "metadata": {},
     "output_type": "execute_result"
    }
   ]
  },
  {
   "cell_type": "markdown",
   "source": [
    "---"
   ],
   "metadata": {
    "id": "rEUhnW22zDCE"
   }
  },
  {
   "cell_type": "markdown",
   "source": [
    "## 문제 2: 통계\n",
    "\n",
    "### 2.1 크기가 30인 무작위 정수 배열 생성, 평균 구하기"
   ],
   "metadata": {
    "id": "fc6V1BYexTZX"
   }
  },
  {
   "cell_type": "code",
   "source": [
    "# randint\n",
    "from numpy.random import randint\n",
    "rand_arr = randint(0, 100, 30)\n",
    "ave = np.mean(rand_arr)\n",
    "print(rand_arr)\n",
    "print(ave)"
   ],
   "metadata": {
    "id": "lUwNSKojxnrA",
    "ExecuteTime": {
     "end_time": "2023-12-18T05:17:22.789354Z",
     "start_time": "2023-12-18T05:17:22.746395Z"
    }
   },
   "execution_count": 15,
   "outputs": [
    {
     "name": "stdout",
     "output_type": "stream",
     "text": [
      "[83 44 70  4 36 41 67 51 11 55 84 29 26  0 32 21 71 84 58 12  7 51  9 70\n",
      " 32 64 91 46 16 27]\n",
      "43.06666666666667\n"
     ]
    }
   ]
  },
  {
   "cell_type": "markdown",
   "source": [
    "---"
   ],
   "metadata": {
    "id": "eG3Sam2uzDsi"
   }
  },
  {
   "cell_type": "markdown",
   "source": [
    "### 2.2 5x5 크기의 2차원 배열, 최댓값과 최솟값 찾기"
   ],
   "metadata": {
    "id": "Ug22lcJUxotJ"
   }
  },
  {
   "cell_type": "code",
   "source": [
    "# rand(randint), np.max, np.min\n",
    "\n",
    "rand_arr_2d = randint(low = 0, high= 30, size = (5, 5))\n",
    "print(rand_arr_2d)\n",
    "max_val, min_val = np.max(rand_arr_2d), np.min(rand_arr_2d)\n",
    "print(max_val, min_val)"
   ],
   "metadata": {
    "id": "6WFn3L4CxsMT",
    "ExecuteTime": {
     "end_time": "2023-12-18T05:20:54.654046Z",
     "start_time": "2023-12-18T05:20:54.619041Z"
    }
   },
   "execution_count": 18,
   "outputs": [
    {
     "name": "stdout",
     "output_type": "stream",
     "text": [
      "[[ 1  4 25 10  0]\n",
      " [13 28 23 11 27]\n",
      " [16 11 26  5 26]\n",
      " [ 2  2  3 12 16]\n",
      " [27 14 16 10  0]]\n",
      "28 0\n"
     ]
    }
   ]
  },
  {
   "cell_type": "markdown",
   "source": [
    "---"
   ],
   "metadata": {
    "id": "CSxe41PEzEb7"
   }
  },
  {
   "cell_type": "markdown",
   "source": [
    "## 문제 3: 인덱싱과 슬라이싱\n",
    "\n",
    "### 3.1 크기가 10인 배열 생성, 4번째에서 8번째 원소를 -1로 설정"
   ],
   "metadata": {
    "id": "2lhd1oC7xt1x"
   }
  },
  {
   "cell_type": "code",
   "source": [
    "# np.ones\n",
    "arr3 = np.ones(10)\n",
    "print(arr3)\n",
    "arr3[3:8] = -1\n",
    "print(arr3)"
   ],
   "metadata": {
    "id": "YZ2o5FAFxzp-",
    "ExecuteTime": {
     "end_time": "2023-12-18T05:21:43.336037Z",
     "start_time": "2023-12-18T05:21:43.242252Z"
    }
   },
   "execution_count": 19,
   "outputs": [
    {
     "name": "stdout",
     "output_type": "stream",
     "text": [
      "[1. 1. 1. 1. 1. 1. 1. 1. 1. 1.]\n",
      "[ 1.  1.  1. -1. -1. -1. -1. -1.  1.  1.]\n"
     ]
    }
   ]
  },
  {
   "cell_type": "markdown",
   "source": [
    "---"
   ],
   "metadata": {
    "id": "pu2v8y38zFpw"
   }
  },
  {
   "cell_type": "markdown",
   "source": [
    "### 3.2 10x10 크기의 2차원 배열, 안쪽 8x8 추출"
   ],
   "metadata": {
    "id": "TANrK2isx1Sm"
   }
  },
  {
   "cell_type": "code",
   "source": [
    "arr4 =randint(0, 100, (10, 10))\n",
    "print(arr4)\n",
    "\n",
    "inner_arr4 = arr4[1:9, 1:9]\n",
    "print(inner_arr4)"
   ],
   "metadata": {
    "id": "VoFM-IBfx5zs",
    "ExecuteTime": {
     "end_time": "2023-12-18T05:23:06.435960Z",
     "start_time": "2023-12-18T05:23:06.402871Z"
    }
   },
   "execution_count": 20,
   "outputs": [
    {
     "name": "stdout",
     "output_type": "stream",
     "text": [
      "[[15 25 49  9  0 48 26 32  9 64]\n",
      " [21 19 16 30 13  5  4 45 27 17]\n",
      " [30  1 80 15 97 56 68 57 62 10]\n",
      " [81 40  9 81 14 22 88 21 91 45]\n",
      " [95 55 84 13 86 22 30 17 12 42]\n",
      " [16 20 10  5 48 34 59 23 61 35]\n",
      " [61 88 55 75 70 50 96 91 92 16]\n",
      " [26 28 44 27 69 98 28 73 37 83]\n",
      " [21 62 10 77  9 93  1 91 56 92]\n",
      " [57 62 12 79 90 39 15 32 68 48]]\n",
      "[[19 16 30 13  5  4 45 27]\n",
      " [ 1 80 15 97 56 68 57 62]\n",
      " [40  9 81 14 22 88 21 91]\n",
      " [55 84 13 86 22 30 17 12]\n",
      " [20 10  5 48 34 59 23 61]\n",
      " [88 55 75 70 50 96 91 92]\n",
      " [28 44 27 69 98 28 73 37]\n",
      " [62 10 77  9 93  1 91 56]]\n"
     ]
    }
   ]
  },
  {
   "cell_type": "markdown",
   "source": [
    "---"
   ],
   "metadata": {
    "id": "pAdMjx3AzGdF"
   }
  },
  {
   "cell_type": "markdown",
   "source": [
    "## 문제 4: 불리언 인덱싱\n",
    "### 4.1 크기가 10인 무작위 정수 배열 생성"
   ],
   "metadata": {
    "id": "UlTHUUZ4x6_C"
   }
  },
  {
   "cell_type": "code",
   "source": [
    "# np.random.randint\n",
    "rand_arr =randint(1,100,10)\n",
    "print(rand_arr)"
   ],
   "metadata": {
    "id": "o9M3YCKSyBlU",
    "ExecuteTime": {
     "end_time": "2023-12-18T05:24:22.045573Z",
     "start_time": "2023-12-18T05:24:22.004442Z"
    }
   },
   "execution_count": 25,
   "outputs": [
    {
     "name": "stdout",
     "output_type": "stream",
     "text": [
      "[32  9 53  3 49 71 79 59 90 63]\n"
     ]
    }
   ]
  },
  {
   "cell_type": "markdown",
   "source": [
    "---"
   ],
   "metadata": {
    "id": "c_6WfgtazHOC"
   }
  },
  {
   "cell_type": "markdown",
   "source": [
    "### 4.2 배열에서 8보다 큰 값만 추출"
   ],
   "metadata": {
    "id": "7HdrDRQRx7CS"
   }
  },
  {
   "cell_type": "code",
   "source": [
    "# 주어진 배열 안에서 arr[arr > 8] 조건에 만족하는 값을 뽑아서 출력해줍니다."
   ],
   "metadata": {
    "id": "uysIOPAOyGoO",
    "ExecuteTime": {
     "end_time": "2023-12-18T05:24:25.056332Z",
     "start_time": "2023-12-18T05:24:25.011852Z"
    }
   },
   "execution_count": 26,
   "outputs": []
  },
  {
   "cell_type": "code",
   "source": [
    "ft_rand_arr = rand_arr[rand_arr > 8]\n",
    "print(ft_rand_arr)"
   ],
   "metadata": {
    "id": "QOXfJz3Cl37N",
    "ExecuteTime": {
     "end_time": "2023-12-18T05:24:25.737330Z",
     "start_time": "2023-12-18T05:24:25.685979Z"
    }
   },
   "execution_count": 27,
   "outputs": [
    {
     "name": "stdout",
     "output_type": "stream",
     "text": [
      "[32  9 53 49 71 79 59 90 63]\n"
     ]
    }
   ]
  },
  {
   "cell_type": "markdown",
   "source": [
    "---"
   ],
   "metadata": {
    "id": "ysFUsEEczIWt"
   }
  },
  {
   "cell_type": "markdown",
   "source": [
    "## 문제 5: 선형대수\n",
    "### 5.1 5x5 크기의 무작위 정수 배열 생성"
   ],
   "metadata": {
    "id": "P8HmIppFyHIP"
   }
  },
  {
   "cell_type": "code",
   "source": [
    "# ran\n",
    "mat = np.random.randint(0, 100, (5, 5))\n",
    "print(mat)"
   ],
   "metadata": {
    "id": "Clfcjh5pyO69",
    "ExecuteTime": {
     "end_time": "2023-12-18T05:26:19.267972Z",
     "start_time": "2023-12-18T05:26:19.192991Z"
    }
   },
   "execution_count": 29,
   "outputs": [
    {
     "name": "stdout",
     "output_type": "stream",
     "text": [
      "[[92 87 89 93 27]\n",
      " [83 57 83  9 36]\n",
      " [ 3 84 37 42 55]\n",
      " [58 96  1 54 45]\n",
      " [ 8 32 82 49 42]]\n"
     ]
    }
   ]
  },
  {
   "cell_type": "markdown",
   "source": [
    "ra---"
   ],
   "metadata": {
    "id": "0BsCe2YVzJaH"
   }
  },
  {
   "cell_type": "markdown",
   "source": [
    "### 5.2 역행렬 구하기"
   ],
   "metadata": {
    "id": "NhT1rGS4yPbx"
   }
  },
  {
   "cell_type": "code",
   "source": [
    "# np.linalg.inv(arr)\n",
    "inverse_mat = np.linalg.inv(mat)\n",
    "print(inverse_mat)"
   ],
   "metadata": {
    "id": "35tWBvUaySfW",
    "ExecuteTime": {
     "end_time": "2023-12-18T05:31:11.390457Z",
     "start_time": "2023-12-18T05:31:11.344289Z"
    }
   },
   "execution_count": 33,
   "outputs": [
    {
     "name": "stdout",
     "output_type": "stream",
     "text": [
      "[[-0.00427984  0.00613047 -0.01996618  0.01528817  0.00726265]\n",
      " [ 0.01291851  0.00161705  0.03205763 -0.02034294 -0.02987502]\n",
      " [ 0.00681811  0.00441303  0.01119042 -0.01708649 -0.00451284]\n",
      " [ 0.00432808 -0.01300852 -0.01303073  0.01046279  0.01422173]\n",
      " [-0.02738845  0.00416094 -0.02726723  0.0337401   0.03740684]]\n"
     ]
    }
   ]
  },
  {
   "cell_type": "markdown",
   "source": [
    "---"
   ],
   "metadata": {
    "id": "y5OGWszxzKHv"
   }
  },
  {
   "cell_type": "markdown",
   "source": [
    "### 5.3 내적 구하기"
   ],
   "metadata": {
    "id": "aA0yz6P2yTEl"
   }
  },
  {
   "cell_type": "code",
   "source": [
    "dot_p = np.dot(mat, inverse_mat)\n",
    "print(dot_p)"
   ],
   "metadata": {
    "id": "GwG-L5hCyWsn",
    "ExecuteTime": {
     "end_time": "2023-12-18T05:37:50.824176Z",
     "start_time": "2023-12-18T05:37:50.763983Z"
    }
   },
   "execution_count": 38,
   "outputs": [
    {
     "name": "stdout",
     "output_type": "stream",
     "text": [
      "[[ 1.00000000e+00 -6.85215773e-17  6.59194921e-17 -6.93889390e-18\n",
      "  -3.05311332e-16]\n",
      " [ 2.77555756e-16  1.00000000e+00  1.38777878e-17  1.38777878e-16\n",
      "   1.11022302e-16]\n",
      " [-1.38777878e-17 -9.54097912e-18  1.00000000e+00  2.98372438e-16\n",
      "  -4.16333634e-16]\n",
      " [-1.52655666e-16 -7.80625564e-18  1.83880688e-16  1.00000000e+00\n",
      "  -3.60822483e-16]\n",
      " [-8.32667268e-17 -2.94902991e-17  2.01227923e-16 -2.08166817e-16\n",
      "   1.00000000e+00]]\n"
     ]
    }
   ]
  },
  {
   "cell_type": "code",
   "execution_count": 43,
   "outputs": [
    {
     "name": "stdout",
     "output_type": "stream",
     "text": [
      "[[1. 0. 0. 0. 0.]\n",
      " [0. 1. 0. 0. 0.]\n",
      " [0. 0. 1. 0. 0.]\n",
      " [0. 0. 0. 1. 0.]\n",
      " [0. 0. 0. 0. 1.]]\n"
     ]
    }
   ],
   "source": [
    "thread = 1e-10\n",
    "dot_p[np.isclose(dot_p,0, atol=thread)] = 0\n",
    "print(dot_p)"
   ],
   "metadata": {
    "collapsed": false,
    "ExecuteTime": {
     "end_time": "2023-12-18T05:39:17.260033Z",
     "start_time": "2023-12-18T05:39:17.212009Z"
    }
   }
  },
  {
   "cell_type": "code",
   "execution_count": 44,
   "outputs": [
    {
     "data": {
      "text/plain": "array([[False,  True,  True,  True,  True],\n       [ True, False,  True,  True,  True],\n       [ True,  True, False,  True,  True],\n       [ True,  True,  True, False,  True],\n       [ True,  True,  True,  True, False]])"
     },
     "execution_count": 44,
     "metadata": {},
     "output_type": "execute_result"
    }
   ],
   "source": [
    "np.isclose(dot_p, 0, atol=thread)"
   ],
   "metadata": {
    "collapsed": false,
    "ExecuteTime": {
     "end_time": "2023-12-18T05:39:23.654545Z",
     "start_time": "2023-12-18T05:39:23.617434Z"
    }
   }
  },
  {
   "cell_type": "code",
   "execution_count": null,
   "outputs": [],
   "source": [],
   "metadata": {
    "collapsed": false
   }
  }
 ]
}
