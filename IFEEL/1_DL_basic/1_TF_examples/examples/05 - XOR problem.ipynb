{
 "nbformat": 4,
 "nbformat_minor": 0,
 "metadata": {
  "colab": {
   "name": "05 - XOR problem.ipynb",
   "provenance": [],
   "collapsed_sections": []
  },
  "kernelspec": {
   "display_name": "Python 3",
   "language": "python",
   "name": "python3"
  },
  "language_info": {
   "codemirror_mode": {
    "name": "ipython",
    "version": 3
   },
   "file_extension": ".py",
   "mimetype": "text/x-python",
   "name": "python",
   "nbconvert_exporter": "python",
   "pygments_lexer": "ipython3",
   "version": "3.7.3"
  },
  "accelerator": "GPU"
 },
 "cells": [
  {
   "cell_type": "code",
   "metadata": {
    "id": "9JutkdoS4X-A",
    "ExecuteTime": {
     "end_time": "2023-12-21T03:01:30.583389Z",
     "start_time": "2023-12-21T03:01:30.448092Z"
    }
   },
   "source": [
    "import tensorflow as tf\n",
    "from tensorflow.keras import layers, Sequential\n",
    "import numpy as np\n",
    "import matplotlib.pyplot as plt\n",
    "\n",
    "tf.__version__"
   ],
   "execution_count": 33,
   "outputs": [
    {
     "data": {
      "text/plain": "'2.10.0'"
     },
     "execution_count": 33,
     "metadata": {},
     "output_type": "execute_result"
    }
   ]
  },
  {
   "cell_type": "markdown",
   "metadata": {
    "id": "CMX1E1gY2GJy"
   },
   "source": [
    "# XOR Problem\n",
    "\n",
    "* XOR 로 표시되는 정보를 구분해보자"
   ]
  },
  {
   "cell_type": "code",
   "metadata": {
    "id": "NCbBvoYl2CKv",
    "ExecuteTime": {
     "end_time": "2023-12-21T03:01:30.586203Z",
     "start_time": "2023-12-21T03:01:30.453867Z"
    }
   },
   "source": [
    "x_data = [[0., 0.],\n",
    "          [0., 1.],\n",
    "          [1., 0.],\n",
    "          [1., 1.]]\n",
    "y_data = [[0.],\n",
    "          [1.],\n",
    "          [1.],\n",
    "          [0.]]\n",
    "\n",
    "plt.scatter(x_data[0][0],x_data[0][1], c='red' , marker='^')\n",
    "plt.scatter(x_data[3][0],x_data[3][1], c='red' , marker='^')\n",
    "plt.scatter(x_data[1][0],x_data[1][1], c='blue' , marker='^')\n",
    "plt.scatter(x_data[2][0],x_data[2][1], c='blue' , marker='^')\n",
    "\n",
    "plt.xlabel(\"x1\")\n",
    "plt.ylabel(\"x2\")\n",
    "plt.show()"
   ],
   "execution_count": 34,
   "outputs": [
    {
     "data": {
      "text/plain": "<Figure size 640x480 with 1 Axes>",
      "image/png": "[encoded data removed]"
     },
     "metadata": {},
     "output_type": "display_data"
    }
   ]
  },
  {
   "cell_type": "markdown",
   "metadata": {
    "id": "QlyhDb1a2RZN"
   },
   "source": [
    "# Dataset 준비\n",
    "\n"
   ]
  },
  {
   "cell_type": "code",
   "metadata": {
    "id": "I4Inx8z-2Edf",
    "ExecuteTime": {
     "end_time": "2023-12-21T03:01:30.642025Z",
     "start_time": "2023-12-21T03:01:30.606349Z"
    }
   },
   "source": [
    "dataset = tf.data.Dataset.from_tensor_slices((x_data, y_data)).batch(len(x_data))"
   ],
   "execution_count": 35,
   "outputs": []
  },
  {
   "cell_type": "markdown",
   "metadata": {
    "id": "-_m-9SeSWufJ"
   },
   "source": [
    "# Multi-layer perceptron"
   ]
  },
  {
   "cell_type": "code",
   "metadata": {
    "id": "fTdFrE40Dx1W",
    "ExecuteTime": {
     "end_time": "2023-12-21T03:01:30.659285Z",
     "start_time": "2023-12-21T03:01:30.621611Z"
    }
   },
   "source": [
    "W1 = tf.Variable(tf.random.normal([2, 1]), name='weight1')\n",
    "b1 = tf.Variable(tf.random.normal([1]), name='bias1')\n",
    "\n",
    "W2 = tf.Variable(tf.random.normal([2, 1]), name='weight2')\n",
    "b2 = tf.Variable(tf.random.normal([1]), name='bias2')\n",
    "\n",
    "W3 = tf.Variable(tf.random.normal([2, 1]), name='weight3')\n",
    "b3 = tf.Variable(tf.random.normal([1]), name='bias3')"
   ],
   "execution_count": 36,
   "outputs": []
  },
  {
   "cell_type": "markdown",
   "metadata": {
    "id": "8_Nfv3IsWzeS"
   },
   "source": [
    "## Layers 구성"
   ]
  },
  {
   "cell_type": "code",
   "metadata": {
    "id": "Q4TzyRhLDy4r",
    "ExecuteTime": {
     "end_time": "2023-12-21T03:01:30.670622Z",
     "start_time": "2023-12-21T03:01:30.661586Z"
    }
   },
   "source": [
    "def neural_net(features):\n",
    "    layer1 = tf.sigmoid(tf.matmul(features, W1) + b1) # 신경망 1층 하고 시그모이드로 활성화\n",
    "    layer2 = tf.sigmoid(tf.matmul(features, W2) + b2)\n",
    "    layer3 = tf.concat([layer1, layer2],-1)\n",
    "    layer3 = tf.reshape(layer3, shape = [-1,2])\n",
    "    hypothesis = tf.sigmoid(tf.matmul(layer3, W3) + b3)\n",
    "    \n",
    "    return hypothesis"
   ],
   "execution_count": 37,
   "outputs": []
  },
  {
   "cell_type": "markdown",
   "metadata": {
    "id": "pljhbXSIW2A0"
   },
   "source": [
    "## Loss Function"
   ]
  },
  {
   "cell_type": "code",
   "metadata": {
    "id": "w6Ba-vn6GK5P",
    "ExecuteTime": {
     "end_time": "2023-12-21T03:01:30.670985Z",
     "start_time": "2023-12-21T03:01:30.664738Z"
    }
   },
   "source": [
    "def loss_fn(hypothesis, labels):\n",
    "    cost = -tf.reduce_mean(labels * tf.math.log(hypothesis) + (1 - labels) * tf.math.log(1 - hypothesis))\n",
    "    return cost\n",
    "\n",
    "optimizer = tf.compat.v1.train.GradientDescentOptimizer(learning_rate=0.1)"
   ],
   "execution_count": 38,
   "outputs": []
  },
  {
   "cell_type": "code",
   "metadata": {
    "id": "7IexpBSeGnd6",
    "ExecuteTime": {
     "end_time": "2023-12-21T03:01:30.671057Z",
     "start_time": "2023-12-21T03:01:30.667907Z"
    }
   },
   "source": [
    "def grad(hypothesis, labels):\n",
    "    with tf.GradientTape() as tape:\n",
    "        loss_value = loss_fn(neural_net(features),labels)\n",
    "    return tape.gradient(loss_value, [W1, W2, W3, b1, b2, b3])"
   ],
   "execution_count": 39,
   "outputs": []
  },
  {
   "cell_type": "markdown",
   "metadata": {
    "id": "7FIEjEn92g59"
   },
   "source": [
    "## Training\n"
   ]
  },
  {
   "cell_type": "code",
   "metadata": {
    "id": "V0Orlau1GfFA",
    "ExecuteTime": {
     "end_time": "2023-12-21T03:02:34.932089Z",
     "start_time": "2023-12-21T03:01:30.673073Z"
    }
   },
   "source": [
    "EPOCHS = 10000\n",
    "\n",
    "for step in range(EPOCHS+1):\n",
    "    for features, labels  in dataset:\n",
    "        grads = grad(neural_net(features), labels)\n",
    "        optimizer.apply_gradients(grads_and_vars=zip(grads,[W1, W2, W3, b1, b2, b3]))\n",
    "        if step % 1000 == 0:\n",
    "            print(\"Iter: {}, Loss: {:.4f}\".format(step, loss_fn(neural_net(features),labels)))\n"
   ],
   "execution_count": 40,
   "outputs": [
    {
     "name": "stdout",
     "output_type": "stream",
     "text": [
      "Iter: 0, Loss: 0.9383\n",
      "Iter: 1000, Loss: 0.5993\n",
      "Iter: 2000, Loss: 0.4792\n",
      "Iter: 3000, Loss: 0.4092\n",
      "Iter: 4000, Loss: 0.3819\n",
      "Iter: 5000, Loss: 0.3700\n",
      "Iter: 6000, Loss: 0.3638\n",
      "Iter: 7000, Loss: 0.3601\n",
      "Iter: 8000, Loss: 0.3576\n",
      "Iter: 9000, Loss: 0.3559\n",
      "Iter: 10000, Loss: 0.3546\n"
     ]
    }
   ]
  },
  {
   "cell_type": "code",
   "metadata": {
    "id": "9CHtdCaFGU7z",
    "ExecuteTime": {
     "end_time": "2023-12-21T03:02:34.938833Z",
     "start_time": "2023-12-21T03:02:34.933378Z"
    }
   },
   "source": [
    "def accuracy_fn(hypothesis, labels):\n",
    "    predicted = tf.cast(hypothesis > 0.5, dtype=tf.float32)\n",
    "    accuracy = tf.reduce_mean(tf.cast(tf.equal(predicted, labels), dtype=tf.float32))\n",
    "    return accuracy"
   ],
   "execution_count": 41,
   "outputs": []
  },
  {
   "cell_type": "code",
   "metadata": {
    "id": "gR4Sz2doGeEr",
    "ExecuteTime": {
     "end_time": "2023-12-21T03:02:34.947366Z",
     "start_time": "2023-12-21T03:02:34.939173Z"
    }
   },
   "source": [
    "test_acc = accuracy_fn(neural_net(x_data),y_data)\n",
    "print(\"Testset Accuracy: {:.4f}\".format(test_acc))"
   ],
   "execution_count": 42,
   "outputs": [
    {
     "name": "stdout",
     "output_type": "stream",
     "text": [
      "Testset Accuracy: 0.5000\n"
     ]
    }
   ]
  },
  {
   "cell_type": "markdown",
   "metadata": {
    "id": "Oq-guOdq2wtY"
   },
   "source": [
    "###with Tensorflow"
   ]
  },
  {
   "cell_type": "code",
   "metadata": {
    "id": "qkUO9Uid2y87",
    "ExecuteTime": {
     "end_time": "2023-12-21T03:02:34.974330Z",
     "start_time": "2023-12-21T03:02:34.953694Z"
    }
   },
   "source": [
    "model = Sequential([\n",
    "    layers.Dense(2, activation='sigmoid'), # 웨이트가 내부적으로 알아서 최적화해서 glorot_uniform\n",
    "    layers.Dense(1, activation='sigmoid')\n",
    "])"
   ],
   "execution_count": 43,
   "outputs": []
  },
  {
   "cell_type": "code",
   "metadata": {
    "id": "elairhlX21m0",
    "ExecuteTime": {
     "end_time": "2023-12-21T03:02:34.974875Z",
     "start_time": "2023-12-21T03:02:34.957952Z"
    }
   },
   "source": [
    "def loss_fn(model, labels):\n",
    "    cost = -tf.reduce_mean(labels * tf.math.log(model) + (1 - labels) * tf.math.log(1 - model))\n",
    "    return cost\n",
    "\n",
    "optimizer = tf.compat.v1.train.GradientDescentOptimizer(learning_rate=0.1)"
   ],
   "execution_count": 44,
   "outputs": []
  },
  {
   "cell_type": "code",
   "metadata": {
    "id": "xLsCW-jF3Xky",
    "ExecuteTime": {
     "end_time": "2023-12-21T03:02:34.975155Z",
     "start_time": "2023-12-21T03:02:34.961127Z"
    }
   },
   "source": [
    "def grad(hypothesis, labels):\n",
    "    with tf.GradientTape() as tape:\n",
    "        loss_value = loss_fn(model(features),labels)\n",
    "    return tape.gradient(loss_value, model.trainable_variables)"
   ],
   "execution_count": 45,
   "outputs": []
  },
  {
   "cell_type": "code",
   "metadata": {
    "id": "BZjRcLiW3rIf",
    "ExecuteTime": {
     "end_time": "2023-12-21T03:03:36.166972Z",
     "start_time": "2023-12-21T03:02:34.964620Z"
    }
   },
   "source": [
    "EPOCHS = 10000\n",
    "\n",
    "for step in range(EPOCHS+1):\n",
    "    for features, labels  in dataset:\n",
    "        grads = grad(model(features), labels)\n",
    "        optimizer.apply_gradients(grads_and_vars=zip(grads, model.trainable_variables))\n",
    "        if step % 1000 == 0:\n",
    "            print(\"Iter: {}, Loss: {:.4f}\".format(step, loss_fn(model(features),labels)))   "
   ],
   "execution_count": 46,
   "outputs": [
    {
     "name": "stdout",
     "output_type": "stream",
     "text": [
      "Iter: 0, Loss: 0.7172\n",
      "Iter: 1000, Loss: 0.6914\n",
      "Iter: 2000, Loss: 0.6757\n",
      "Iter: 3000, Loss: 0.5587\n",
      "Iter: 4000, Loss: 0.1878\n",
      "Iter: 5000, Loss: 0.0747\n",
      "Iter: 6000, Loss: 0.0442\n",
      "Iter: 7000, Loss: 0.0310\n",
      "Iter: 8000, Loss: 0.0237\n",
      "Iter: 9000, Loss: 0.0191\n",
      "Iter: 10000, Loss: 0.0160\n"
     ]
    }
   ]
  },
  {
   "cell_type": "code",
   "metadata": {
    "id": "3UbF_LANNLAy",
    "ExecuteTime": {
     "end_time": "2023-12-21T03:03:36.171063Z",
     "start_time": "2023-12-21T03:03:36.168072Z"
    }
   },
   "source": [
    "tf.keras.utils.plot_model(model, show_shapes=True)"
   ],
   "execution_count": 47,
   "outputs": [
    {
     "name": "stdout",
     "output_type": "stream",
     "text": [
      "You must install pydot (`pip install pydot`) and install graphviz (see instructions at https://graphviz.gitlab.io/download/) for plot_model to work.\n"
     ]
    }
   ]
  },
  {
   "cell_type": "code",
   "metadata": {
    "id": "e2g8Iei431fy",
    "ExecuteTime": {
     "end_time": "2023-12-21T03:03:36.182381Z",
     "start_time": "2023-12-21T03:03:36.171561Z"
    }
   },
   "source": [
    "for features, labels  in dataset:\n",
    "    print(\"Test Data\")\n",
    "    print(features.numpy())\n",
    "    print(\"Label\")\n",
    "    print(labels.numpy())\n",
    "    pred = model(features)\n",
    "    print(\"Pred : \")\n",
    "    print(pred.numpy())\n",
    "    test_acc = accuracy_fn(pred, labels)\n",
    "    print(\"Testset Accuracy: {:.4f}\".format(test_acc))"
   ],
   "execution_count": 48,
   "outputs": [
    {
     "name": "stdout",
     "output_type": "stream",
     "text": [
      "Test Data\n",
      "[[0. 0.]\n",
      " [0. 1.]\n",
      " [1. 0.]\n",
      " [1. 1.]]\n",
      "Label\n",
      "[[0.]\n",
      " [1.]\n",
      " [1.]\n",
      " [0.]]\n",
      "Pred : \n",
      "[[0.01551443]\n",
      " [0.97973925]\n",
      " [0.9854834 ]\n",
      " [0.01315045]]\n",
      "Testset Accuracy: 1.0000\n"
     ]
    }
   ]
  },
  {
   "cell_type": "code",
   "metadata": {
    "id": "gtwKHvZX4WwR",
    "ExecuteTime": {
     "end_time": "2023-12-21T03:03:36.182773Z",
     "start_time": "2023-12-21T03:03:36.181137Z"
    }
   },
   "source": [],
   "execution_count": 48,
   "outputs": []
  }
 ]
}
